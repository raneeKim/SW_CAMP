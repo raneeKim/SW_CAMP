{
 "cells": [
  {
   "cell_type": "code",
   "execution_count": 1,
   "id": "5b3695d4-f8d4-48b1-8e8f-d875c96164ba",
   "metadata": {},
   "outputs": [],
   "source": [
    "import pandas as pd\n",
    "import plotly.express as px\n",
    "import scipy.stats as stats"
   ]
  },
  {
   "cell_type": "code",
   "execution_count": 3,
   "id": "4c66e577-e63c-4a32-be1c-5f140a009459",
   "metadata": {},
   "outputs": [
    {
     "data": {
      "text/plain": [
       "'C:\\\\Users\\\\UserK\\\\Desktop\\\\Ranee\\\\SW_CAMP\\\\파이썬을 활용한 머신러닝\\\\Day03_과제'"
      ]
     },
     "execution_count": 3,
     "metadata": {},
     "output_type": "execute_result"
    }
   ],
   "source": [
    "import os\n",
    "os.getcwd()"
   ]
  },
  {
   "cell_type": "code",
   "execution_count": 11,
   "id": "5b161430-e0ff-4a05-9b6d-3f8c3fc5ab8e",
   "metadata": {},
   "outputs": [
    {
     "name": "stdout",
     "output_type": "stream",
     "text": [
      "(36833, 15)\n",
      "<class 'pandas.core.frame.DataFrame'>\n",
      "Index: 36833 entries, 0 to 2205\n",
      "Data columns (total 15 columns):\n",
      " #   Column      Non-Null Count  Dtype  \n",
      "---  ------      --------------  -----  \n",
      " 0   Unnamed: 0  36833 non-null  int64  \n",
      " 1   날짜          36833 non-null  object \n",
      " 2   SKU ID      36833 non-null  int64  \n",
      " 3   SKU 명       36833 non-null  object \n",
      " 4   바코드         36833 non-null  object \n",
      " 5   발주가능상태      36833 non-null  object \n",
      " 6   입고수량        36833 non-null  int64  \n",
      " 7   쿠팡출고수량      36833 non-null  int64  \n",
      " 8   쿠팡현재재고수량    36833 non-null  int64  \n",
      " 9   자재번호        36833 non-null  int64  \n",
      " 10  자재명         36833 non-null  object \n",
      " 11  카테고리        36833 non-null  object \n",
      " 12  입수          36833 non-null  int64  \n",
      " 13  출고수량        36833 non-null  float64\n",
      " 14  재고수량        36833 non-null  float64\n",
      "dtypes: float64(2), int64(7), object(6)\n",
      "memory usage: 4.5+ MB\n"
     ]
    },
    {
     "name": "stderr",
     "output_type": "stream",
     "text": [
      "C:\\Users\\UserK\\AppData\\Local\\Temp\\ipykernel_8160\\3772655590.py:1: DtypeWarning:\n",
      "\n",
      "Columns (5) have mixed types. Specify dtype option on import or set low_memory=False.\n",
      "\n"
     ]
    }
   ],
   "source": [
    "df1 = pd.read_csv('06_Data.csv',index_col=0)\n",
    "print(df1.shape)\n",
    "df1.info()"
   ]
  },
  {
   "cell_type": "markdown",
   "id": "23adf35a-729d-40ba-a171-e47f7d93e817",
   "metadata": {},
   "source": [
    " 1. 2019년 5월 대비 8월의 \"쿠팡출고수량\"이 몇 퍼센트 증가했는지 계산하시오."
   ]
  },
  {
   "cell_type": "code",
   "execution_count": 31,
   "id": "5b105cfd-2bf0-49da-8237-42b291c659a6",
   "metadata": {},
   "outputs": [
    {
     "data": {
      "text/plain": [
       "쿠팡출고수량   -53.256417\n",
       "dtype: float64"
      ]
     },
     "execution_count": 31,
     "metadata": {},
     "output_type": "execute_result"
    }
   ],
   "source": [
    "\n",
    "df1['날짜'].unique() # 2019년밖에없음\n",
    "\n",
    "df1['날짜_dt'] = pd.to_datetime(df1['날짜'])\n",
    "df1['월'] = df1['날짜_dt'].dt.month\n",
    "pv1 = df1.pivot_table(index='월',values='쿠팡출고수량',aggfunc='sum')\n",
    "answer = ((pv1.loc[8] - pv1.loc[5]) / pv1.loc[5]) * 100\n",
    "answer"
   ]
  },
  {
   "cell_type": "markdown",
   "id": "6a3b738e-7acb-4fa4-8f99-94df17c5738d",
   "metadata": {},
   "source": [
    "2. 각 카테고리 별 5월 대비 8월의 \"쿠팡출고수량\"의 증감율을 계산하시오."
   ]
  },
  {
   "cell_type": "code",
   "execution_count": 162,
   "id": "3f9694c0-c1ec-4601-a70a-e3703e43a5e5",
   "metadata": {
    "scrolled": true
   },
   "outputs": [
    {
     "data": {
      "text/html": [
       "<div>\n",
       "<style scoped>\n",
       "    .dataframe tbody tr th:only-of-type {\n",
       "        vertical-align: middle;\n",
       "    }\n",
       "\n",
       "    .dataframe tbody tr th {\n",
       "        vertical-align: top;\n",
       "    }\n",
       "\n",
       "    .dataframe thead th {\n",
       "        text-align: right;\n",
       "    }\n",
       "</style>\n",
       "<table border=\"1\" class=\"dataframe\">\n",
       "  <thead>\n",
       "    <tr style=\"text-align: right;\">\n",
       "      <th>월</th>\n",
       "      <th>카테고리</th>\n",
       "      <th>5</th>\n",
       "      <th>8</th>\n",
       "      <th>증감율</th>\n",
       "    </tr>\n",
       "  </thead>\n",
       "  <tbody>\n",
       "    <tr>\n",
       "      <th>0</th>\n",
       "      <td>F&amp;B</td>\n",
       "      <td>23687</td>\n",
       "      <td>9905</td>\n",
       "      <td>58.183814</td>\n",
       "    </tr>\n",
       "    <tr>\n",
       "      <th>1</th>\n",
       "      <td>ST</td>\n",
       "      <td>2442</td>\n",
       "      <td>1615</td>\n",
       "      <td>33.865684</td>\n",
       "    </tr>\n",
       "    <tr>\n",
       "      <th>2</th>\n",
       "      <td>기타</td>\n",
       "      <td>1647</td>\n",
       "      <td>874</td>\n",
       "      <td>46.933819</td>\n",
       "    </tr>\n",
       "    <tr>\n",
       "      <th>3</th>\n",
       "      <td>덴탈케어</td>\n",
       "      <td>74280</td>\n",
       "      <td>30661</td>\n",
       "      <td>58.722402</td>\n",
       "    </tr>\n",
       "    <tr>\n",
       "      <th>4</th>\n",
       "      <td>매입브랜드</td>\n",
       "      <td>1769</td>\n",
       "      <td>635</td>\n",
       "      <td>64.104014</td>\n",
       "    </tr>\n",
       "    <tr>\n",
       "      <th>5</th>\n",
       "      <td>세탁세제</td>\n",
       "      <td>90089</td>\n",
       "      <td>44910</td>\n",
       "      <td>50.149297</td>\n",
       "    </tr>\n",
       "    <tr>\n",
       "      <th>6</th>\n",
       "      <td>주방세제</td>\n",
       "      <td>46048</td>\n",
       "      <td>24490</td>\n",
       "      <td>46.816366</td>\n",
       "    </tr>\n",
       "    <tr>\n",
       "      <th>7</th>\n",
       "      <td>헤어케어</td>\n",
       "      <td>62011</td>\n",
       "      <td>28063</td>\n",
       "      <td>54.745126</td>\n",
       "    </tr>\n",
       "  </tbody>\n",
       "</table>\n",
       "</div>"
      ],
      "text/plain": [
       "월   카테고리      5      8        증감율\n",
       "0    F&B  23687   9905  58.183814\n",
       "1     ST   2442   1615  33.865684\n",
       "2     기타   1647    874  46.933819\n",
       "3   덴탈케어  74280  30661  58.722402\n",
       "4  매입브랜드   1769    635  64.104014\n",
       "5   세탁세제  90089  44910  50.149297\n",
       "6   주방세제  46048  24490  46.816366\n",
       "7   헤어케어  62011  28063  54.745126"
      ]
     },
     "execution_count": 162,
     "metadata": {},
     "output_type": "execute_result"
    }
   ],
   "source": [
    "df_month = df1.loc[(df1['월'] == 5) | (df1['월'] == 8)]\n",
    "pv2 = df_month.pivot_table(index='카테고리', columns='월',values='쿠팡출고수량',aggfunc='sum').reset_index()\n",
    "pv2['증감율'] = ((pv2[5] - pv2[8]) / pv2[5] ) * 100\n",
    "pv2"
   ]
  },
  {
   "cell_type": "markdown",
   "id": "48b9f9dd-2e33-4db6-afbd-caaddecbafc6",
   "metadata": {},
   "source": [
    "3. '발주가능상태'에서 '발주중단' 된 데이터의 특성을 파악하고자 한다. '발주중단' 데이터만 추출하여, 카테고리의 빈도수를 확인하고, 연속형 자료의 기술통계량을 계산하시오."
   ]
  },
  {
   "cell_type": "code",
   "execution_count": 70,
   "id": "071000cb-a184-4504-84ce-365fa8d55fc1",
   "metadata": {},
   "outputs": [
    {
     "name": "stdout",
     "output_type": "stream",
     "text": [
      "카테고리\n",
      "헤어케어    78\n",
      "세탁세제    14\n",
      "덴탈케어     3\n",
      "Name: count, dtype: int64\n"
     ]
    },
    {
     "data": {
      "text/html": [
       "<div>\n",
       "<style scoped>\n",
       "    .dataframe tbody tr th:only-of-type {\n",
       "        vertical-align: middle;\n",
       "    }\n",
       "\n",
       "    .dataframe tbody tr th {\n",
       "        vertical-align: top;\n",
       "    }\n",
       "\n",
       "    .dataframe thead th {\n",
       "        text-align: right;\n",
       "    }\n",
       "</style>\n",
       "<table border=\"1\" class=\"dataframe\">\n",
       "  <thead>\n",
       "    <tr style=\"text-align: right;\">\n",
       "      <th></th>\n",
       "      <th>Unnamed: 0</th>\n",
       "      <th>SKU ID</th>\n",
       "      <th>입고수량</th>\n",
       "      <th>쿠팡출고수량</th>\n",
       "      <th>쿠팡현재재고수량</th>\n",
       "      <th>자재번호</th>\n",
       "      <th>입수</th>\n",
       "      <th>출고수량</th>\n",
       "      <th>재고수량</th>\n",
       "      <th>날짜_dt</th>\n",
       "      <th>월</th>\n",
       "    </tr>\n",
       "  </thead>\n",
       "  <tbody>\n",
       "    <tr>\n",
       "      <th>count</th>\n",
       "      <td>95.000000</td>\n",
       "      <td>9.500000e+01</td>\n",
       "      <td>95.000000</td>\n",
       "      <td>95.000000</td>\n",
       "      <td>95.000000</td>\n",
       "      <td>9.500000e+01</td>\n",
       "      <td>95.000000</td>\n",
       "      <td>95.000000</td>\n",
       "      <td>95.000000</td>\n",
       "      <td>95</td>\n",
       "      <td>95.000000</td>\n",
       "    </tr>\n",
       "    <tr>\n",
       "      <th>mean</th>\n",
       "      <td>28616.242105</td>\n",
       "      <td>3.559700e+06</td>\n",
       "      <td>14.357895</td>\n",
       "      <td>10.989474</td>\n",
       "      <td>516.526316</td>\n",
       "      <td>6.038457e+06</td>\n",
       "      <td>7.515789</td>\n",
       "      <td>2.095614</td>\n",
       "      <td>318.160424</td>\n",
       "      <td>2019-07-15 00:00:00</td>\n",
       "      <td>7.000000</td>\n",
       "    </tr>\n",
       "    <tr>\n",
       "      <th>min</th>\n",
       "      <td>15576.000000</td>\n",
       "      <td>3.097770e+05</td>\n",
       "      <td>0.000000</td>\n",
       "      <td>0.000000</td>\n",
       "      <td>0.000000</td>\n",
       "      <td>5.008395e+06</td>\n",
       "      <td>4.000000</td>\n",
       "      <td>0.000000</td>\n",
       "      <td>0.000000</td>\n",
       "      <td>2019-06-18 00:00:00</td>\n",
       "      <td>6.000000</td>\n",
       "    </tr>\n",
       "    <tr>\n",
       "      <th>25%</th>\n",
       "      <td>26683.000000</td>\n",
       "      <td>2.383418e+06</td>\n",
       "      <td>0.000000</td>\n",
       "      <td>2.000000</td>\n",
       "      <td>20.500000</td>\n",
       "      <td>6.068195e+06</td>\n",
       "      <td>4.000000</td>\n",
       "      <td>0.200000</td>\n",
       "      <td>43.036364</td>\n",
       "      <td>2019-07-09 12:00:00</td>\n",
       "      <td>7.000000</td>\n",
       "    </tr>\n",
       "    <tr>\n",
       "      <th>50%</th>\n",
       "      <td>29684.000000</td>\n",
       "      <td>3.367647e+06</td>\n",
       "      <td>0.000000</td>\n",
       "      <td>8.000000</td>\n",
       "      <td>164.000000</td>\n",
       "      <td>6.075507e+06</td>\n",
       "      <td>10.000000</td>\n",
       "      <td>0.800000</td>\n",
       "      <td>210.000000</td>\n",
       "      <td>2019-07-15 00:00:00</td>\n",
       "      <td>7.000000</td>\n",
       "    </tr>\n",
       "    <tr>\n",
       "      <th>75%</th>\n",
       "      <td>31374.500000</td>\n",
       "      <td>3.367649e+06</td>\n",
       "      <td>0.000000</td>\n",
       "      <td>14.500000</td>\n",
       "      <td>246.000000</td>\n",
       "      <td>6.075508e+06</td>\n",
       "      <td>10.000000</td>\n",
       "      <td>3.375000</td>\n",
       "      <td>379.307692</td>\n",
       "      <td>2019-07-21 00:00:00</td>\n",
       "      <td>7.000000</td>\n",
       "    </tr>\n",
       "    <tr>\n",
       "      <th>max</th>\n",
       "      <td>36563.000000</td>\n",
       "      <td>1.023964e+07</td>\n",
       "      <td>216.000000</td>\n",
       "      <td>100.000000</td>\n",
       "      <td>3077.000000</td>\n",
       "      <td>6.075508e+06</td>\n",
       "      <td>10.000000</td>\n",
       "      <td>16.666667</td>\n",
       "      <td>2080.000000</td>\n",
       "      <td>2019-08-07 00:00:00</td>\n",
       "      <td>8.000000</td>\n",
       "    </tr>\n",
       "    <tr>\n",
       "      <th>std</th>\n",
       "      <td>4672.622153</td>\n",
       "      <td>2.659679e+06</td>\n",
       "      <td>40.203714</td>\n",
       "      <td>14.443945</td>\n",
       "      <td>938.434514</td>\n",
       "      <td>1.870319e+05</td>\n",
       "      <td>2.763220</td>\n",
       "      <td>2.906945</td>\n",
       "      <td>399.025974</td>\n",
       "      <td>NaN</td>\n",
       "      <td>0.461266</td>\n",
       "    </tr>\n",
       "  </tbody>\n",
       "</table>\n",
       "</div>"
      ],
      "text/plain": [
       "         Unnamed: 0        SKU ID        입고수량      쿠팡출고수량     쿠팡현재재고수량  \\\n",
       "count     95.000000  9.500000e+01   95.000000   95.000000    95.000000   \n",
       "mean   28616.242105  3.559700e+06   14.357895   10.989474   516.526316   \n",
       "min    15576.000000  3.097770e+05    0.000000    0.000000     0.000000   \n",
       "25%    26683.000000  2.383418e+06    0.000000    2.000000    20.500000   \n",
       "50%    29684.000000  3.367647e+06    0.000000    8.000000   164.000000   \n",
       "75%    31374.500000  3.367649e+06    0.000000   14.500000   246.000000   \n",
       "max    36563.000000  1.023964e+07  216.000000  100.000000  3077.000000   \n",
       "std     4672.622153  2.659679e+06   40.203714   14.443945   938.434514   \n",
       "\n",
       "               자재번호         입수       출고수량         재고수량                날짜_dt  \\\n",
       "count  9.500000e+01  95.000000  95.000000    95.000000                   95   \n",
       "mean   6.038457e+06   7.515789   2.095614   318.160424  2019-07-15 00:00:00   \n",
       "min    5.008395e+06   4.000000   0.000000     0.000000  2019-06-18 00:00:00   \n",
       "25%    6.068195e+06   4.000000   0.200000    43.036364  2019-07-09 12:00:00   \n",
       "50%    6.075507e+06  10.000000   0.800000   210.000000  2019-07-15 00:00:00   \n",
       "75%    6.075508e+06  10.000000   3.375000   379.307692  2019-07-21 00:00:00   \n",
       "max    6.075508e+06  10.000000  16.666667  2080.000000  2019-08-07 00:00:00   \n",
       "std    1.870319e+05   2.763220   2.906945   399.025974                  NaN   \n",
       "\n",
       "               월  \n",
       "count  95.000000  \n",
       "mean    7.000000  \n",
       "min     6.000000  \n",
       "25%     7.000000  \n",
       "50%     7.000000  \n",
       "75%     7.000000  \n",
       "max     8.000000  \n",
       "std     0.461266  "
      ]
     },
     "execution_count": 70,
     "metadata": {},
     "output_type": "execute_result"
    }
   ],
   "source": [
    "df3 = df1.loc[df1['발주가능상태'] == '발주중단']\n",
    "print(df3['카테고리'].value_counts())\n",
    "df3.describe()"
   ]
  },
  {
   "cell_type": "code",
   "execution_count": 81,
   "id": "45760190-1654-4b02-bf38-544647399bcf",
   "metadata": {},
   "outputs": [
    {
     "data": {
      "text/plain": [
       "'세탁세제'"
      ]
     },
     "execution_count": 81,
     "metadata": {},
     "output_type": "execute_result"
    }
   ],
   "source": [
    "# 4. 19년도 7월 2번째 주에 '쿠팡출고수량'이 가장 많은 '카테고리'는 무엇인지 확인하시오.\n",
    "df1['주'] = df1['날짜_dt'].dt.isocalendar().week\n",
    "df4 = df1.loc[df1['주']==28]\n",
    "df4.pivot_table(index='카테고리',values='쿠팡출고수량',aggfunc='sum').sort_values(by='쿠팡출고수량',ascending=False).index[0]"
   ]
  },
  {
   "cell_type": "markdown",
   "id": "a31fc60a-feb6-419d-9de9-dc6fe334722d",
   "metadata": {},
   "source": [
    "5. 각 '자재명' 별 '쿠팡출고수량', '입고수량'의 평균을 계산하고, 계산된 결과에서 '쿠팡출고수량'의 상위 10% '자재명'을 'A' / 상위 30%를 'B' / 상위 60%를 'C' / 나머지를 'D'로 '등급분류'라는 파생변수를 생성하고, 각 등급에서 가장 많이 등장한 '카테고리'항목이 무엇인지 확인하시오."
   ]
  },
  {
   "cell_type": "code",
   "execution_count": 112,
   "id": "58e21a9a-9f89-4a35-ad43-c28480dfd1c9",
   "metadata": {},
   "outputs": [
    {
     "data": {
      "text/html": [
       "<div>\n",
       "<style scoped>\n",
       "    .dataframe tbody tr th:only-of-type {\n",
       "        vertical-align: middle;\n",
       "    }\n",
       "\n",
       "    .dataframe tbody tr th {\n",
       "        vertical-align: top;\n",
       "    }\n",
       "\n",
       "    .dataframe thead th {\n",
       "        text-align: right;\n",
       "    }\n",
       "</style>\n",
       "<table border=\"1\" class=\"dataframe\">\n",
       "  <thead>\n",
       "    <tr style=\"text-align: right;\">\n",
       "      <th></th>\n",
       "      <th>자재명</th>\n",
       "      <th>카테고리</th>\n",
       "      <th>입고수량</th>\n",
       "      <th>쿠팡출고수량</th>\n",
       "    </tr>\n",
       "  </thead>\n",
       "  <tbody>\n",
       "    <tr>\n",
       "      <th>0</th>\n",
       "      <td>17리큐 진한겔 2.1L온라인4입(화)</td>\n",
       "      <td>세탁세제</td>\n",
       "      <td>912.678571</td>\n",
       "      <td>782.821429</td>\n",
       "    </tr>\n",
       "    <tr>\n",
       "      <th>1</th>\n",
       "      <td>18KS샴푸러블리 605mlX3(쿠팡)책</td>\n",
       "      <td>헤어케어</td>\n",
       "      <td>621.190476</td>\n",
       "      <td>535.940476</td>\n",
       "    </tr>\n",
       "    <tr>\n",
       "      <th>2</th>\n",
       "      <td>18리큐 진한겔 2.1L(일반)온라인_눕</td>\n",
       "      <td>세탁세제</td>\n",
       "      <td>369.404762</td>\n",
       "      <td>379.476190</td>\n",
       "    </tr>\n",
       "    <tr>\n",
       "      <th>3</th>\n",
       "      <td>17리큐 진한겔드럼용 2.1L리필(온4입)(화)</td>\n",
       "      <td>세탁세제</td>\n",
       "      <td>307.666667</td>\n",
       "      <td>337.750000</td>\n",
       "    </tr>\n",
       "    <tr>\n",
       "      <th>4</th>\n",
       "      <td>19KS샴푸데미지 750ml플러스책</td>\n",
       "      <td>헤어케어</td>\n",
       "      <td>382.666667</td>\n",
       "      <td>310.880952</td>\n",
       "    </tr>\n",
       "    <tr>\n",
       "      <th>...</th>\n",
       "      <td>...</td>\n",
       "      <td>...</td>\n",
       "      <td>...</td>\n",
       "      <td>...</td>\n",
       "    </tr>\n",
       "    <tr>\n",
       "      <th>349</th>\n",
       "      <td>19샤워메이트스크럽 300쿠키앤크림책</td>\n",
       "      <td>F&amp;B</td>\n",
       "      <td>0.000000</td>\n",
       "      <td>0.000000</td>\n",
       "    </tr>\n",
       "    <tr>\n",
       "      <th>350</th>\n",
       "      <td>18더마&amp;모어린스 데일리 밸런싱 600ml</td>\n",
       "      <td>헤어케어</td>\n",
       "      <td>0.000000</td>\n",
       "      <td>0.000000</td>\n",
       "    </tr>\n",
       "    <tr>\n",
       "      <th>351</th>\n",
       "      <td>18KS걸리쉬 헤어파우더팩트</td>\n",
       "      <td>헤어케어</td>\n",
       "      <td>0.000000</td>\n",
       "      <td>0.000000</td>\n",
       "    </tr>\n",
       "    <tr>\n",
       "      <th>352</th>\n",
       "      <td>18 스파크 스팀100℃ 1.4kg 기획</td>\n",
       "      <td>세탁세제</td>\n",
       "      <td>0.000000</td>\n",
       "      <td>0.000000</td>\n",
       "    </tr>\n",
       "    <tr>\n",
       "      <th>353</th>\n",
       "      <td>전2080후레쉬톡 100오렌지</td>\n",
       "      <td>덴탈케어</td>\n",
       "      <td>0.000000</td>\n",
       "      <td>0.000000</td>\n",
       "    </tr>\n",
       "  </tbody>\n",
       "</table>\n",
       "<p>354 rows × 4 columns</p>\n",
       "</div>"
      ],
      "text/plain": [
       "                            자재명  카테고리        입고수량      쿠팡출고수량\n",
       "0         17리큐 진한겔 2.1L온라인4입(화)  세탁세제  912.678571  782.821429\n",
       "1        18KS샴푸러블리 605mlX3(쿠팡)책  헤어케어  621.190476  535.940476\n",
       "2        18리큐 진한겔 2.1L(일반)온라인_눕  세탁세제  369.404762  379.476190\n",
       "3    17리큐 진한겔드럼용 2.1L리필(온4입)(화)  세탁세제  307.666667  337.750000\n",
       "4           19KS샴푸데미지 750ml플러스책  헤어케어  382.666667  310.880952\n",
       "..                          ...   ...         ...         ...\n",
       "349        19샤워메이트스크럽 300쿠키앤크림책   F&B    0.000000    0.000000\n",
       "350     18더마&모어린스 데일리 밸런싱 600ml  헤어케어    0.000000    0.000000\n",
       "351             18KS걸리쉬 헤어파우더팩트  헤어케어    0.000000    0.000000\n",
       "352      18 스파크 스팀100℃ 1.4kg 기획  세탁세제    0.000000    0.000000\n",
       "353            전2080후레쉬톡 100오렌지  덴탈케어    0.000000    0.000000\n",
       "\n",
       "[354 rows x 4 columns]"
      ]
     },
     "execution_count": 112,
     "metadata": {},
     "output_type": "execute_result"
    }
   ],
   "source": [
    "pv3 = df1.pivot_table(index=['자재명','카테고리'], values=['쿠팡출고수량','입고수량'], aggfunc='mean').sort_values(by='쿠팡출고수량',ascending=False).reset_index()\n",
    "pv3"
   ]
  },
  {
   "cell_type": "code",
   "execution_count": 118,
   "id": "f0ce7d94-02d9-45e3-b0dd-31ca1d294ae5",
   "metadata": {},
   "outputs": [
    {
     "data": {
      "text/html": [
       "<div>\n",
       "<style scoped>\n",
       "    .dataframe tbody tr th:only-of-type {\n",
       "        vertical-align: middle;\n",
       "    }\n",
       "\n",
       "    .dataframe tbody tr th {\n",
       "        vertical-align: top;\n",
       "    }\n",
       "\n",
       "    .dataframe thead th {\n",
       "        text-align: right;\n",
       "    }\n",
       "</style>\n",
       "<table border=\"1\" class=\"dataframe\">\n",
       "  <thead>\n",
       "    <tr style=\"text-align: right;\">\n",
       "      <th>카테고리</th>\n",
       "      <th>F&amp;B</th>\n",
       "      <th>ST</th>\n",
       "      <th>기타</th>\n",
       "      <th>덴탈케어</th>\n",
       "      <th>매입브랜드</th>\n",
       "      <th>세탁세제</th>\n",
       "      <th>주방세제</th>\n",
       "      <th>헤어케어</th>\n",
       "    </tr>\n",
       "    <tr>\n",
       "      <th>등급분류</th>\n",
       "      <th></th>\n",
       "      <th></th>\n",
       "      <th></th>\n",
       "      <th></th>\n",
       "      <th></th>\n",
       "      <th></th>\n",
       "      <th></th>\n",
       "      <th></th>\n",
       "    </tr>\n",
       "  </thead>\n",
       "  <tbody>\n",
       "    <tr>\n",
       "      <th>A</th>\n",
       "      <td>3.0</td>\n",
       "      <td>NaN</td>\n",
       "      <td>NaN</td>\n",
       "      <td>8.0</td>\n",
       "      <td>NaN</td>\n",
       "      <td>9.0</td>\n",
       "      <td>7.0</td>\n",
       "      <td>8.0</td>\n",
       "    </tr>\n",
       "    <tr>\n",
       "      <th>B</th>\n",
       "      <td>9.0</td>\n",
       "      <td>NaN</td>\n",
       "      <td>2.0</td>\n",
       "      <td>15.0</td>\n",
       "      <td>1.0</td>\n",
       "      <td>24.0</td>\n",
       "      <td>12.0</td>\n",
       "      <td>9.0</td>\n",
       "    </tr>\n",
       "    <tr>\n",
       "      <th>C</th>\n",
       "      <td>7.0</td>\n",
       "      <td>10.0</td>\n",
       "      <td>1.0</td>\n",
       "      <td>18.0</td>\n",
       "      <td>3.0</td>\n",
       "      <td>37.0</td>\n",
       "      <td>7.0</td>\n",
       "      <td>22.0</td>\n",
       "    </tr>\n",
       "    <tr>\n",
       "      <th>D</th>\n",
       "      <td>13.0</td>\n",
       "      <td>32.0</td>\n",
       "      <td>2.0</td>\n",
       "      <td>28.0</td>\n",
       "      <td>2.0</td>\n",
       "      <td>30.0</td>\n",
       "      <td>9.0</td>\n",
       "      <td>26.0</td>\n",
       "    </tr>\n",
       "  </tbody>\n",
       "</table>\n",
       "</div>"
      ],
      "text/plain": [
       "카테고리   F&B    ST   기타  덴탈케어  매입브랜드  세탁세제  주방세제  헤어케어\n",
       "등급분류                                                \n",
       "A      3.0   NaN  NaN   8.0    NaN   9.0   7.0   8.0\n",
       "B      9.0   NaN  2.0  15.0    1.0  24.0  12.0   9.0\n",
       "C      7.0  10.0  1.0  18.0    3.0  37.0   7.0  22.0\n",
       "D     13.0  32.0  2.0  28.0    2.0  30.0   9.0  26.0"
      ]
     },
     "execution_count": 118,
     "metadata": {},
     "output_type": "execute_result"
    }
   ],
   "source": [
    "pv3.loc[0:34,'등급분류'] = 'A'\n",
    "pv3.loc[35:106,'등급분류'] = 'B'\n",
    "pv3.loc[107:211,'등급분류'] = 'C'\n",
    "pv3['등급분류'] = pv3['등급분류'].fillna('D')\n",
    "pv3['label'] = 1\n",
    "pv3.pivot_table(index='등급분류',columns='카테고리', values='label' , aggfunc='sum')\n",
    "\n",
    "# XXXX\n",
    "# XXXX\n",
    "# XXXX"
   ]
  },
  {
   "cell_type": "markdown",
   "id": "ca0f8d60-69e2-4700-bd00-eb73d96b5e37",
   "metadata": {},
   "source": [
    "6. '카테고리'를 사용자로부터 입력받아, '발주가능상태'에 따른 '월'(날짜로 부터 계산) 별 '쿠팡출고수량'의 합을 계산하여 시각화 하고 해당 그래프를 '카테고리명_월별_쿠팡출고량.png'파일 형태로 저장하는 함수를 만드시오."
   ]
  },
  {
   "cell_type": "code",
   "execution_count": 130,
   "id": "cf4b4f80-81cb-4251-8763-b94d0bef3534",
   "metadata": {},
   "outputs": [
    {
     "name": "stdout",
     "output_type": "stream",
     "text": [
      "['세탁세제' '덴탈케어' '헤어케어' '주방세제' 'ST' 'F&B' '기타' '매입브랜드']\n"
     ]
    },
    {
     "name": "stdin",
     "output_type": "stream",
     "text": [
      "카테고리를 입력하시오 :  ST\n"
     ]
    }
   ],
   "source": [
    "print(df1['카테고리'].unique())\n",
    "category = input('카테고리를 입력하시오 : ')\n",
    "df5 = df1.loc[df1['카테고리'] == category]\n",
    "pv4 = df5.pivot_table(index =['월','발주가능상태'] , values='쿠팡출고수량' , aggfunc='sum').reset_index()\n",
    "fig1 = px.histogram(pv4, x ='월' , y='쿠팡출고수량',color='발주가능상태')\n",
    "fig1.write_html(category+'_월별_쿠팡출고량.html',full_html=False)"
   ]
  },
  {
   "cell_type": "markdown",
   "id": "f1738871-b2fe-413c-9c00-b938152a154f",
   "metadata": {},
   "source": [
    "7.'카테고리'빈도수가 가장 많은 항목의 '입고수량'이 높은 상위 100개 데이터를 result_category.xlsx로 저장하시오."
   ]
  },
  {
   "cell_type": "code",
   "execution_count": 140,
   "id": "914c8044-b8e5-4106-a106-2529ac287ef8",
   "metadata": {},
   "outputs": [],
   "source": [
    "category_top = df1['카테고리'].value_counts().head(1).index[0]\n",
    "df1.loc[df1['카테고리'] == category_top].sort_values(by='입고수량',ascending=False).head(100).to_excel(\"result_category.xlsx\")"
   ]
  },
  {
   "cell_type": "markdown",
   "id": "04937f91-9a05-4286-9b1d-84e73a798739",
   "metadata": {},
   "source": [
    "8. 각 '카테고리'별 7월과 8월의 '출고수량'의 '평균'과 '합'의 차이를 계산하시오."
   ]
  },
  {
   "cell_type": "code",
   "execution_count": 178,
   "id": "a825372e-63a9-420e-9699-bee219479e51",
   "metadata": {},
   "outputs": [],
   "source": [
    "df_month2 = df1.loc[(df1['월'] == 7) | (df1['월'] == 8)]\n",
    "pv5 = df_month2.pivot_table(index='카테고리' ,columns='월',  values='출고수량' , aggfunc=['mean','sum'])\n",
    "pv5.columns\n",
    "pv5[('mean','출고수량평균차이')] = pv5[('mean',7)] - pv5[('mean',8)]\n",
    "pv5[('sum','출고수량합차이')] =  pv5[('sum',7)] - pv5[('sum',8)]\n",
    "pv5"
   ]
  },
  {
   "cell_type": "markdown",
   "id": "c507de48-63d4-4c8a-9d69-c5249eac8ed7",
   "metadata": {},
   "source": [
    "9. '입고수량'과 '쿠팡출고수량'의 상관관계를 산점도를 이용해 시각화 하시오."
   ]
  },
  {
   "cell_type": "code",
   "execution_count": null,
   "id": "780ae5f3-bc61-4204-bbf3-c28fd3e416d7",
   "metadata": {},
   "outputs": [],
   "source": []
  }
 ],
 "metadata": {
  "kernelspec": {
   "display_name": "Python 3 (ipykernel)",
   "language": "python",
   "name": "python3"
  },
  "language_info": {
   "codemirror_mode": {
    "name": "ipython",
    "version": 3
   },
   "file_extension": ".py",
   "mimetype": "text/x-python",
   "name": "python",
   "nbconvert_exporter": "python",
   "pygments_lexer": "ipython3",
   "version": "3.11.7"
  }
 },
 "nbformat": 4,
 "nbformat_minor": 5
}
