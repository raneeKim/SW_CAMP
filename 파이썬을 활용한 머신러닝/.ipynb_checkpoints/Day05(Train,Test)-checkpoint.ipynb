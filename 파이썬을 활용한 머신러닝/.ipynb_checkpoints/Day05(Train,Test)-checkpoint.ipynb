{
 "cells": [
  {
   "cell_type": "markdown",
   "id": "4d4c9c42-16e1-48ce-a230-4d4b9764a1af",
   "metadata": {},
   "source": [
    "# 기계학습에서 머신러닝\n",
    "\n",
    "- **지도 학습 절차**\n",
    "  - 데이터 핸들링 (데이터 불러오기, 병합, 재구조화, 파생변수 생성, 이상치 제거)\n",
    "    - 데이터 구조적 관점에서 학습을 수행할 수 있는 형태로 변환하는 과정\n",
    "  - 학습의 목표변수 Y와 설명변수 X를 설정 (변수로 선언)\n",
    "  - 학습 데이터(Train Set) 검증 데이터(Test Set)를 분할\n",
    "    - Test Set : 학습에 절대 참여하지 않음\n",
    "    - Validation Set : 교차검증 과정에서 사용되는 데이터 셋 (학습에 활용되는 데이터)\n",
    "  - 학습 수행\n",
    "    - 특성공학(결측값 처리, 스케일링, 교차검증...) + 학습 동시 수행\n",
    "  - 모델 평가\n",
    "    - 학습 능력 평가 : 알고리즘이 학습 데이터로 적절한 수식을 잘 찾았는가?\n",
    "    - 일반화 능력 평가 : 학습에 참여하지 않은 (Test Set)데이터로 새로 들어올 데이터에 대해 얼마나 잘 작동하는가  \n",
    "  -  새로운 데이터 적용"
   ]
  },
  {
   "cell_type": "code",
   "execution_count": 1,
   "id": "85f8ea84-b805-4c43-8898-f9da03e9fa65",
   "metadata": {},
   "outputs": [],
   "source": [
    "import pandas as pd"
   ]
  },
  {
   "cell_type": "code",
   "execution_count": 2,
   "id": "cd04033c-c3e2-4729-b6a1-9c6e15d25ca7",
   "metadata": {},
   "outputs": [],
   "source": [
    "# df1 = pd.read_csv(r'C:\\Users\\UserK\\Desktop\\Ranee\\data\\ML\\01_Data.csv') \n",
    "df1 = pd.read_csv(r'C:\\Users\\MSI\\Desktop\\study\\01_Data.csv')"
   ]
  },
  {
   "cell_type": "code",
   "execution_count": 3,
   "id": "f381f1b0-af56-470e-97f5-52160ccb76bb",
   "metadata": {},
   "outputs": [
    {
     "data": {
      "text/plain": [
       "array(['계약확정', '기간만료', '해약확정', '해약진행중'], dtype=object)"
      ]
     },
     "execution_count": 3,
     "metadata": {},
     "output_type": "execute_result"
    }
   ],
   "source": [
    "# 이탈고객 분류 모델을 구성\n",
    "df1['State'].unique()"
   ]
  },
  {
   "cell_type": "code",
   "execution_count": 4,
   "id": "3d5e6d14-a918-47aa-9262-ba6d053dc02c",
   "metadata": {},
   "outputs": [
    {
     "data": {
      "text/plain": [
       "정상    50665\n",
       "해약      636\n",
       "Name: 해약여부, dtype: int64"
      ]
     },
     "execution_count": 4,
     "metadata": {},
     "output_type": "execute_result"
    }
   ],
   "source": [
    "# 1. 데이터 핸들링\n",
    "df1['해약여부']=df1['State'].replace({'계약확정':'정상', '기간만료':'정상', '해약확정':'해약', '해약진행중':'해약'})\n",
    "df1['해약여부'].value_counts()"
   ]
  },
  {
   "cell_type": "code",
   "execution_count": 13,
   "id": "e1a8bde5",
   "metadata": {},
   "outputs": [],
   "source": [
    "df2 = df1.dropna() # 결측값제거\n",
    "\n",
    "# 제거하지않았을 때, 모델.fit(..) 할 때\n",
    "# Input contains NaN, infinity or a value too large for dtype('float32'). 에러가 뜸"
   ]
  },
  {
   "cell_type": "code",
   "execution_count": 14,
   "id": "82ddfa21-35c5-49f3-8199-8f0e74ac3229",
   "metadata": {},
   "outputs": [],
   "source": [
    "# 2. X와 Y를 선정\n",
    "X = df2[['Age','Term','Amount_Month','Credit_Rank']]\n",
    "Y = df2['해약여부']"
   ]
  },
  {
   "cell_type": "code",
   "execution_count": 7,
   "id": "a3b2c213-0bba-4793-ad0b-6d4316a3a34a",
   "metadata": {},
   "outputs": [],
   "source": [
    "# 3. 학습 데이터와 검증 데이터를 분할\n",
    "# scipy (Scinces Python) : 응용 통계 분석 및 처리\n",
    "# scikit learn (Science Pythob Toolkit Learning) : 정형 데이터와 데이터마이닝 기법\n",
    "from sklearn.model_selection import train_test_split"
   ]
  },
  {
   "cell_type": "code",
   "execution_count": 15,
   "id": "0f1e5333-7468-4e96-9eda-996e3c3043b1",
   "metadata": {},
   "outputs": [
    {
     "name": "stdout",
     "output_type": "stream",
     "text": [
      "(30485, 4) (10162, 4)\n"
     ]
    }
   ],
   "source": [
    "X_train, X_test, Y_train, Y_test =  train_test_split(X,Y) # 학습데이터 검증데이터 분할 / 75:25\n",
    "print(X_train.shape , X_test.shape)"
   ]
  },
  {
   "cell_type": "code",
   "execution_count": 16,
   "id": "37685a69-5cb5-4b79-9bb0-fbf08951b324",
   "metadata": {},
   "outputs": [],
   "source": [
    "# 4. 학습실시\n",
    "from sklearn.tree import DecisionTreeClassifier # 의사결정 나무 모델(선생님)"
   ]
  },
  {
   "cell_type": "code",
   "execution_count": 17,
   "id": "83084c51-10e4-47a5-89a6-f8b8e254acdf",
   "metadata": {},
   "outputs": [
    {
     "data": {
      "text/plain": [
       "DecisionTreeClassifier()"
      ]
     },
     "execution_count": 17,
     "metadata": {},
     "output_type": "execute_result"
    }
   ],
   "source": [
    "model = DecisionTreeClassifier()\n",
    "model.fit(X_train, Y_train) # fit() : 학습 데이터에 대한 학습 실시 (수식도출실시)"
   ]
  },
  {
   "cell_type": "code",
   "execution_count": 21,
   "id": "f49fd578-38d5-4bc6-bcd3-d991eea1ab98",
   "metadata": {},
   "outputs": [],
   "source": [
    "# 5. 평가\n",
    "from sklearn.metrics import accuracy_score"
   ]
  },
  {
   "cell_type": "code",
   "execution_count": 19,
   "id": "6ed58f0e-8849-48bd-b6e6-73ff9764fb21",
   "metadata": {},
   "outputs": [],
   "source": [
    "# 예측 값을 계산 하여 평가\n",
    "Y_train_pred = model.predict(X_train) # predict() : 예측을 수행하는 함수\n",
    "Y_test_pred = model.predict(X_test)"
   ]
  },
  {
   "cell_type": "code",
   "execution_count": 22,
   "id": "8abf75e7-e1a2-42a4-ace9-3a6b2a5d1425",
   "metadata": {},
   "outputs": [
    {
     "data": {
      "text/plain": [
       "0.9891422010824996"
      ]
     },
     "execution_count": 22,
     "metadata": {},
     "output_type": "execute_result"
    }
   ],
   "source": [
    "# 실제값과 예측값을 비교하여 평가\n",
    "accuracy_score(Y_train,Y_train_pred) # 학습 능력"
   ]
  },
  {
   "cell_type": "code",
   "execution_count": 23,
   "id": "5a41a01e-6c1c-4150-91df-47bc9b12e643",
   "metadata": {},
   "outputs": [
    {
     "data": {
      "text/plain": [
       "0.9834678212950206"
      ]
     },
     "execution_count": 23,
     "metadata": {},
     "output_type": "execute_result"
    }
   ],
   "source": [
    "accuracy_score(Y_test,Y_test_pred) # 일반화 능력 "
   ]
  },
  {
   "cell_type": "code",
   "execution_count": 24,
   "id": "a701f9ff-32af-47e9-800a-9879852175f0",
   "metadata": {},
   "outputs": [
    {
     "name": "stdout",
     "output_type": "stream",
     "text": [
      "고객연령을 입력하시오 : 30\n",
      "계약기간(월) 입력하시오 : 6\n",
      "계약금액 (월렌털비용) 입력하시오 : 100000\n",
      "신용등급을 입력 하시오 : 4\n"
     ]
    },
    {
     "data": {
      "text/html": [
       "<div>\n",
       "<style scoped>\n",
       "    .dataframe tbody tr th:only-of-type {\n",
       "        vertical-align: middle;\n",
       "    }\n",
       "\n",
       "    .dataframe tbody tr th {\n",
       "        vertical-align: top;\n",
       "    }\n",
       "\n",
       "    .dataframe thead th {\n",
       "        text-align: right;\n",
       "    }\n",
       "</style>\n",
       "<table border=\"1\" class=\"dataframe\">\n",
       "  <thead>\n",
       "    <tr style=\"text-align: right;\">\n",
       "      <th></th>\n",
       "      <th>Age</th>\n",
       "      <th>Term</th>\n",
       "      <th>Amount_Month</th>\n",
       "      <th>Credit_Rank</th>\n",
       "    </tr>\n",
       "  </thead>\n",
       "  <tbody>\n",
       "    <tr>\n",
       "      <th>0</th>\n",
       "      <td>30</td>\n",
       "      <td>6</td>\n",
       "      <td>100000</td>\n",
       "      <td>4</td>\n",
       "    </tr>\n",
       "  </tbody>\n",
       "</table>\n",
       "</div>"
      ],
      "text/plain": [
       "  Age Term Amount_Month Credit_Rank\n",
       "0  30    6       100000           4"
      ]
     },
     "execution_count": 24,
     "metadata": {},
     "output_type": "execute_result"
    }
   ],
   "source": [
    "# 6. 새로운 실제 데이터 입력\n",
    "x1 = input('고객연령을 입력하시오 : ')\n",
    "x2 = input('계약기간(월) 입력하시오 : ')\n",
    "x3 = input('계약금액 (월렌털비용) 입력하시오 : ')\n",
    "x4 = input('신용등급을 입력 하시오 : ')\n",
    "input_data = pd.DataFrame(data = [[x1,x2,x3,x4]] , columns = ['Age','Term','Amount_Month','Credit_Rank'])\n",
    "input_data"
   ]
  },
  {
   "cell_type": "code",
   "execution_count": 25,
   "id": "d14ca8a6-b374-4d17-8bdb-5608442e55c1",
   "metadata": {},
   "outputs": [
    {
     "data": {
      "text/plain": [
       "array(['정상'], dtype=object)"
      ]
     },
     "execution_count": 25,
     "metadata": {},
     "output_type": "execute_result"
    }
   ],
   "source": [
    "model.predict(input_data)"
   ]
  },
  {
   "cell_type": "markdown",
   "id": "78ba3dbe-8f09-4ca9-9fb8-ec609f87aa11",
   "metadata": {},
   "source": [
    "# 학습 모델 평가\n",
    "\n",
    "## 분류 모델 평가\n"
   ]
  },
  {
   "cell_type": "markdown",
   "id": "2e8f4e30-699f-4efb-ae83-ac63c2346ff9",
   "metadata": {},
   "source": [
    "- **정확도 (Accuracy)** = (예측 결과가 동일한 데이터 수) / (전체 예측 데이터 수)\n",
    "- 클래스가 균일 (정상/해약의 비율이 큰 차이 없는경우)에 사용하며, 모든 클래스가 동등한 중요도를 가질 때\n",
    "- 이진 분류에서 불균형 데이터(Imbalanced Data)가 오는 경으 모델의 성능이 왜고되어 계산\n",
    "- **오차행렬 (Confusion Matrix)**\n",
    "\n",
    "![img1](https://www.researchgate.net/profile/Juan_Banda/publication/256418526/figure/fig1/AS:297921313558528@1448041384565/Confusion-matrix-example.png)"
   ]
  },
  {
   "cell_type": "markdown",
   "id": "a3a93392",
   "metadata": {},
   "source": [
    "- **정밀도 (Precision)** : True Positive / (True Positive + False Positive)\n",
    "  - 해약을 기준으로 Precision : (해약을 해약으로 맞춘 수) / (모델이 해약으로 예측한 데이터 수 / 잘 예측한 값 + 잘못 예측한 값)\n",
    "  - 문제가 없는 데이터를 문제가 있다고 잘못 판단할 때 발생하는 이슈를 나타내는 지표\n",
    "  -  False Positive가 낮아지는 것에 초점을 맞춘다 / 스팸 메시지 분류기\n",
    "- **재현율 (Recall)** : True Positive / (True Positive + False Negative)\n",
    "  - 해약을 기준으로 Recall : (해약을 해약으로 맞춘 수) / (실제 해약인 데이터 / 잘 예측값 + 해약인데 정상으로 잘못 예측된 값)\n",
    "  - 문제가 있는데 문제가 없다고 잘못 판단 할 때 이슈가 발생하는 경우\n",
    "  - 민감도(Sensitivity) or TPR(True Positive Rate)\n",
    "- 두 수치가 좋을수록 좋은 모델이지만, 이진 분류에서는 Recall - Precision Trade off 관계가 있음\n",
    "- **F1-Score** :정밀도와 재현율을 백분위로 계산한 지표\n",
    "  - 2x(정밀도 x 재현율) / (정밀도 + 재현율) "
   ]
  },
  {
   "cell_type": "code",
   "execution_count": 27,
   "id": "87b704d8",
   "metadata": {},
   "outputs": [],
   "source": [
    "from sklearn.metrics import classification_report"
   ]
  },
  {
   "cell_type": "code",
   "execution_count": 28,
   "id": "09a239a7",
   "metadata": {
    "scrolled": true
   },
   "outputs": [
    {
     "name": "stdout",
     "output_type": "stream",
     "text": [
      "              precision    recall  f1-score   support\n",
      "\n",
      "          정상       0.99      1.00      0.99     30116\n",
      "          해약       0.95      0.11      0.19       369\n",
      "\n",
      "    accuracy                           0.99     30485\n",
      "   macro avg       0.97      0.55      0.59     30485\n",
      "weighted avg       0.99      0.99      0.98     30485\n",
      "\n"
     ]
    }
   ],
   "source": [
    "print(classification_report(Y_train, Y_train_pred)) "
   ]
  },
  {
   "cell_type": "code",
   "execution_count": 29,
   "id": "347fa070",
   "metadata": {},
   "outputs": [
    {
     "name": "stdout",
     "output_type": "stream",
     "text": [
      "              precision    recall  f1-score   support\n",
      "\n",
      "          정상       0.99      1.00      0.99     10021\n",
      "          해약       0.09      0.02      0.03       141\n",
      "\n",
      "    accuracy                           0.98     10162\n",
      "   macro avg       0.54      0.51      0.51     10162\n",
      "weighted avg       0.97      0.98      0.98     10162\n",
      "\n"
     ]
    }
   ],
   "source": [
    "print(classification_report(Y_test, Y_test_pred)) "
   ]
  },
  {
   "cell_type": "markdown",
   "id": "98533ca8",
   "metadata": {},
   "source": [
    "# Recall - Precision Trade off \n",
    "\n",
    "- Recall-Precision Trade off : 이진 분류에 있어, (불균형 데이터를 분류할 때) 한쪽 지표가 올라가면, 다른 한쪽은 떨어지는 현상\n",
    "- 정밀도나 재현률을 특별히 강조해야하는 경우, Recall - Precision Trade off 를 활용하여, 정밀도 또는 재현율을 올릴 수 있다.\n",
    "- Threshold (임계값) : 분류를 함에 있어, 분류확률을 기준으로 클래스를 분류 "
   ]
  },
  {
   "cell_type": "code",
   "execution_count": 30,
   "id": "557e5eb6",
   "metadata": {},
   "outputs": [
    {
     "data": {
      "text/html": [
       "<div>\n",
       "<style scoped>\n",
       "    .dataframe tbody tr th:only-of-type {\n",
       "        vertical-align: middle;\n",
       "    }\n",
       "\n",
       "    .dataframe tbody tr th {\n",
       "        vertical-align: top;\n",
       "    }\n",
       "\n",
       "    .dataframe thead th {\n",
       "        text-align: right;\n",
       "    }\n",
       "</style>\n",
       "<table border=\"1\" class=\"dataframe\">\n",
       "  <thead>\n",
       "    <tr style=\"text-align: right;\">\n",
       "      <th></th>\n",
       "      <th>정상확률</th>\n",
       "      <th>해약확률</th>\n",
       "    </tr>\n",
       "  </thead>\n",
       "  <tbody>\n",
       "    <tr>\n",
       "      <th>0</th>\n",
       "      <td>1.0</td>\n",
       "      <td>0.0</td>\n",
       "    </tr>\n",
       "    <tr>\n",
       "      <th>1</th>\n",
       "      <td>1.0</td>\n",
       "      <td>0.0</td>\n",
       "    </tr>\n",
       "    <tr>\n",
       "      <th>2</th>\n",
       "      <td>1.0</td>\n",
       "      <td>0.0</td>\n",
       "    </tr>\n",
       "    <tr>\n",
       "      <th>3</th>\n",
       "      <td>1.0</td>\n",
       "      <td>0.0</td>\n",
       "    </tr>\n",
       "    <tr>\n",
       "      <th>4</th>\n",
       "      <td>1.0</td>\n",
       "      <td>0.0</td>\n",
       "    </tr>\n",
       "    <tr>\n",
       "      <th>5</th>\n",
       "      <td>1.0</td>\n",
       "      <td>0.0</td>\n",
       "    </tr>\n",
       "    <tr>\n",
       "      <th>6</th>\n",
       "      <td>1.0</td>\n",
       "      <td>0.0</td>\n",
       "    </tr>\n",
       "    <tr>\n",
       "      <th>7</th>\n",
       "      <td>1.0</td>\n",
       "      <td>0.0</td>\n",
       "    </tr>\n",
       "    <tr>\n",
       "      <th>8</th>\n",
       "      <td>1.0</td>\n",
       "      <td>0.0</td>\n",
       "    </tr>\n",
       "    <tr>\n",
       "      <th>9</th>\n",
       "      <td>1.0</td>\n",
       "      <td>0.0</td>\n",
       "    </tr>\n",
       "  </tbody>\n",
       "</table>\n",
       "</div>"
      ],
      "text/plain": [
       "   정상확률  해약확률\n",
       "0   1.0   0.0\n",
       "1   1.0   0.0\n",
       "2   1.0   0.0\n",
       "3   1.0   0.0\n",
       "4   1.0   0.0\n",
       "5   1.0   0.0\n",
       "6   1.0   0.0\n",
       "7   1.0   0.0\n",
       "8   1.0   0.0\n",
       "9   1.0   0.0"
      ]
     },
     "execution_count": 30,
     "metadata": {},
     "output_type": "execute_result"
    }
   ],
   "source": [
    "pd.DataFrame(model.predict_proba(X_train), columns=['정상확률', '해약확률']).head(10)"
   ]
  },
  {
   "cell_type": "code",
   "execution_count": 35,
   "id": "54616e66-fc69-42e3-9bf7-a9cbc2e10586",
   "metadata": {},
   "outputs": [],
   "source": [
    "# 위의 분류 결정 임계값를 다르게 주어, 해약할 확률이 10%만 넘어도 \"해약\"으로 분류 \n",
    "from sklearn.preprocessing import Binarizer"
   ]
  },
  {
   "cell_type": "code",
   "execution_count": 36,
   "id": "495439a4-64da-4732-ada8-477588910137",
   "metadata": {},
   "outputs": [],
   "source": [
    "pred_pro = model.predict_proba(X_train)[:, 1].reshape(-1,1) # 해약으로 분류 할 확률 가져와 한줄의 시리즈 형태로 변환 "
   ]
  },
  {
   "cell_type": "code",
   "execution_count": 37,
   "id": "0a21c02b",
   "metadata": {
    "scrolled": true
   },
   "outputs": [
    {
     "data": {
      "text/plain": [
       "array([[0.        ],\n",
       "       [0.        ],\n",
       "       [0.        ],\n",
       "       ...,\n",
       "       [0.        ],\n",
       "       [0.01219512],\n",
       "       [0.        ]])"
      ]
     },
     "execution_count": 37,
     "metadata": {},
     "output_type": "execute_result"
    }
   ],
   "source": [
    "pred_pro"
   ]
  },
  {
   "cell_type": "code",
   "execution_count": 39,
   "id": "fadc6417-ad0a-4d3d-a241-ec99e64e7183",
   "metadata": {},
   "outputs": [
    {
     "data": {
      "text/plain": [
       "array([[0.],\n",
       "       [0.],\n",
       "       [0.],\n",
       "       ...,\n",
       "       [0.],\n",
       "       [0.],\n",
       "       [0.]])"
      ]
     },
     "execution_count": 39,
     "metadata": {},
     "output_type": "execute_result"
    }
   ],
   "source": [
    "# 해약으로 분류될 확률값을 가져와, 10%를 넘어가는 확률에 대해 -> 해약 / 10% 미만은 정상 \n",
    "Y_train_proba = Binarizer(threshold=0.10).fit_transform(pred_pro)\n",
    "Y_train_proba"
   ]
  },
  {
   "cell_type": "code",
   "execution_count": 40,
   "id": "301df255-5baf-43b6-8ab3-6d51623b334a",
   "metadata": {},
   "outputs": [
    {
     "name": "stdout",
     "output_type": "stream",
     "text": [
      "              precision    recall  f1-score   support\n",
      "\n",
      "           0       0.99      0.98      0.99     30116\n",
      "           1       0.25      0.55      0.35       369\n",
      "\n",
      "    accuracy                           0.97     30485\n",
      "   macro avg       0.62      0.77      0.67     30485\n",
      "weighted avg       0.99      0.97      0.98     30485\n",
      "\n"
     ]
    }
   ],
   "source": [
    "print(classification_report(Y_train.replace({'정상':0, '해약':1}),Y_train_proba))"
   ]
  },
  {
   "cell_type": "code",
   "execution_count": null,
   "id": "27b60b63",
   "metadata": {},
   "outputs": [],
   "source": []
  }
 ],
 "metadata": {
  "kernelspec": {
   "display_name": "Python 3 (ipykernel)",
   "language": "python",
   "name": "python3"
  },
  "language_info": {
   "codemirror_mode": {
    "name": "ipython",
    "version": 3
   },
   "file_extension": ".py",
   "mimetype": "text/x-python",
   "name": "python",
   "nbconvert_exporter": "python",
   "pygments_lexer": "ipython3",
   "version": "3.9.13"
  }
 },
 "nbformat": 4,
 "nbformat_minor": 5
}
