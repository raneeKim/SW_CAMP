{
 "cells": [
  {
   "cell_type": "markdown",
   "id": "0592e2fb-a511-4b63-9601-104a44348ec7",
   "metadata": {},
   "source": [
    "# 비계층형 군집 분석 \n",
    "\n",
    "- 클러스터 간의 계층 구조를 형성하지 않고 군집을 만들어내는 모든 종류의 군집분석 기법\n",
    "- 군집을 묶는 속도가 비교적 빠르다 / 직관적 \n",
    "- K-mean / DBSCAN / Mean Shift... "
   ]
  },
  {
   "cell_type": "markdown",
   "id": "9b03cabc-9c1c-460b-81f0-15a93d0bb0c8",
   "metadata": {},
   "source": [
    "- **K-Means Clustering**\n",
    "\n",
    "- 주어진 K개 (사용자가 지정하는 K개수)만큼 군집을 형성, 군집 중심점을 기준으로 특정 범위 내 가까운 데이터들을 묶어나가며 군집을 형성\n",
    "- 알고리즘 절차\n",
    "  - 1. 중심점 초기화 : K개의 군집 중심점을 임의로 선택(알고리즘에 의해 선택) / 초기 지점 선택\n",
    "    2. 할당 : 초기 중심점을 기준으로 일정 거리 이내 (유클리드 거리) 가까운 데이터들을 같은 군집으로 병합\n",
    "    3. 할당 된 군집들 내 데이터로 새로운 군집 중심점을 계산\n",
    "    4. 새로 계산 된 군집 중심점을 기준으로 다시 특정 거리 이내 데이터를 병합\n",
    "    5. 앞선 과정을 지속적으로 반복하여, 군집 중심점이 더 이상 움직이지 않을 때 까지 반복\n",
    "\n",
    "- 주의사항 :\n",
    "  - 초기 중심점의 선택에 따라 알고리즘 수렴에 영향을 줌"
   ]
  },
  {
   "cell_type": "markdown",
   "id": "5675c3c0-9e99-479b-991c-da039970d674",
   "metadata": {},
   "source": [
    "- **Parameter**\n",
    "  - n_cluster : 클러스터의 개수를 사용자가 지정\n",
    "  - init : 초기 중심점 선택 방법을 지정\n",
    "    - \"k-means++\" (기본값) / \"random\" : 이상치가 많거나, 범주형 데이터가 존재하는 경우  \n",
    "  - max_iter : 최대 반복 횟수 / 군집 중심점을 최대 몇번 까지 옮겨서 군집을 구성할 것인가에 대한 지표 / 기본 값 300\n",
    "  - algorithm : K-Means 알고리즘 내 최적화 작동 방식\n",
    "    - 'full' : 클러스터링을 수행하면서, 군집 중심점을 업데이트 할 때 마다 모든 데이터 포인트와 군집 중심점 간의 거리를 계산 / 데이터 셋이 큰 경우 -> 시간 소요가 큼\n",
    "    - 'elkan' : 각 클러스터와 모든 데이터 포인트 사이의 거리를 미리 계산하여, 군집 중심점을 업데이트 할 때마다 발생하는 계산을 줄이는 방식\n",
    "    - 'auto' : 데이터 크기에 따라 알고리즘이 적절한 방식을 선택 / 1000개 "
   ]
  },
  {
   "cell_type": "code",
   "execution_count": 1,
   "id": "bfaa6e38-8f06-4847-a410-778ee6b435a1",
   "metadata": {},
   "outputs": [],
   "source": [
    "from sklearn.cluster import KMeans"
   ]
  },
  {
   "cell_type": "code",
   "execution_count": null,
   "id": "887c938b-62f7-40ee-9b21-0c035436f42e",
   "metadata": {},
   "outputs": [],
   "source": [
    "cluster2  = KMeans(n_clusters=3, max_iter=500 )\n",
    "df2['Target2'] = cluster2.fit_predict(df2).astype(str)"
   ]
  },
  {
   "cell_type": "code",
   "execution_count": null,
   "id": "8aa888f9-f676-4801-990a-6cc61792c818",
   "metadata": {},
   "outputs": [],
   "source": [
    "# px.scatter_matrix(df2.iloc[0:100], dimensions=['Y1', 'Y2', 'Y3'], color='Target2')"
   ]
  },
  {
   "cell_type": "markdown",
   "id": "25c675ce-227c-487d-8fe6-02268706101a",
   "metadata": {},
   "source": [
    "- 군집분석 -> 비지도 학습 / 사용자가 몇 개의 군집을 구성 할 것 인가 직접 선택\n",
    "- 그럼에도 군집화가 잘 수행되었는가 평가를 할 때\n",
    "\n",
    "- **Silhouette Score (실루엣 분석)**\n",
    "  - 군집 내 같은 데이터들 끼리 얼마나 모였는지에 대한 응집력과 서로 다른 군집끼리 얼마나 떨어져 있는가에 대한 분리력을 수식으로 계산\n",
    "  - Silhouette Score : -1 ~ +1 사이의 값이 도출\n",
    "    - 1 에 가까울수록 높은 응집력/ 높은 분리력 군집\n",
    "    - 0 에 가까울수록 군집 간 경계가 모호, 중첩 / 낮은 응집력, 낮은 분리력\n",
    "    - 음수 값은 일반적으로 잘못된 클러스터링 상태 (모든 군집의 데이터가 섞여 있는 상태)\n",
    "  - 참고 지표로 사용 (비지도 학습) -> \"평가\" 지표이나, 지표가 낮다고 해서 사용을 못하지는 않는다.\n",
    "    "
   ]
  },
  {
   "cell_type": "code",
   "execution_count": null,
   "id": "9495d691-f218-493e-bd7a-c1435094a25d",
   "metadata": {},
   "outputs": [],
   "source": [
    "from sklearn.metrics import silhouette_score"
   ]
  },
  {
   "cell_type": "code",
   "execution_count": null,
   "id": "ba7344f0-28e9-43d2-858b-3a95173e7760",
   "metadata": {},
   "outputs": [],
   "source": [
    "silhouette_score(df2.drop(columns=['Target', 'Target2']) ,\n",
    "                 df2['Target']) # 계층형 군집분석으로 3집단 군집화 "
   ]
  },
  {
   "cell_type": "code",
   "execution_count": null,
   "id": "91462174-50a8-4dad-920b-7a049dc352a8",
   "metadata": {},
   "outputs": [],
   "source": [
    "silhouette_score(df2.drop(columns=['Target', 'Target2']) ,\n",
    "                 df2['Target2']) # K-means군집분석으로 3집단 군집화 "
   ]
  }
 ],
 "metadata": {
  "kernelspec": {
   "display_name": "Python 3 (ipykernel)",
   "language": "python",
   "name": "python3"
  },
  "language_info": {
   "codemirror_mode": {
    "name": "ipython",
    "version": 3
   },
   "file_extension": ".py",
   "mimetype": "text/x-python",
   "name": "python",
   "nbconvert_exporter": "python",
   "pygments_lexer": "ipython3",
   "version": "3.11.7"
  }
 },
 "nbformat": 4,
 "nbformat_minor": 5
}
