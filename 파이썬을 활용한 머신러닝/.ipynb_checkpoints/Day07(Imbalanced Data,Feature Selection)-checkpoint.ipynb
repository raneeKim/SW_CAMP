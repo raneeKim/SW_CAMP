{
 "cells": [
  {
   "cell_type": "markdown",
   "id": "a176d42b-020b-4118-9379-b3a47a27b91d",
   "metadata": {
    "id": "a176d42b-020b-4118-9379-b3a47a27b91d"
   },
   "source": [
    "# Imbalanced Data Sampling\n",
    "\n",
    "- 분류모델이 있어, 불균형한 데이터 (Imbalanced Data)의 비용을 맞춰 학습하는 기법 (이진분류)\n",
    "- Under Sapmling : 비율이 많은 쪽의 데이터를 줄여, 적은 쪽 데이터 맞춰 학습\n",
    "  - 정상 900 / 해약 100 -> 정상 100 / 해약 100\n",
    "  - 데이터의 수가 적은 쪽에 맞춰 줄어듦\n",
    "  - 데이터의 왜곡은 발생하지 않음 / 데이터의 전체 개수가 줄어들기 때문에, 학습이 잘 수행되지 않을 수 있음\n",
    "\n",
    "- Over Sampling : 비율이 적은쪽의 데이터를 생성하여, 많은 족 데이터 맞춰 학습\n",
    "  - 정상 900 / 해약 100 -> 정상 900 / 해약 900\n",
    "  - 데이터의 수가 많은 쪽에 늘어남\n",
    "  - 학습 성능은 매우 개선 / 가짜데이터가 생성이 되는 것이므로, 일반화 성능에 개선이 어렵다. (Overfitting)"
   ]
  },
  {
   "cell_type": "code",
   "execution_count": 1,
   "id": "87562978-3940-4a51-905c-f7361f1ae25e",
   "metadata": {
    "executionInfo": {
     "elapsed": 312,
     "status": "ok",
     "timestamp": 1716181439407,
     "user": {
      "displayName": "Ran Kim",
      "userId": "01732261049084043415"
     },
     "user_tz": -540
    },
    "id": "87562978-3940-4a51-905c-f7361f1ae25e"
   },
   "outputs": [],
   "source": [
    "import pandas as pd\n",
    "import numpy as np\n",
    "import plotly.express as px\n",
    "import scipy.stats as stats"
   ]
  },
  {
   "cell_type": "code",
   "execution_count": 2,
   "id": "04c23066-97e3-4af3-bd35-49636b1224cb",
   "metadata": {
    "colab": {
     "base_uri": "https://localhost:8080/",
     "height": 321
    },
    "executionInfo": {
     "elapsed": 389,
     "status": "error",
     "timestamp": 1716173884192,
     "user": {
      "displayName": "Ran Kim",
      "userId": "01732261049084043415"
     },
     "user_tz": -540
    },
    "id": "04c23066-97e3-4af3-bd35-49636b1224cb",
    "outputId": "540810fc-5ad9-4932-a8fb-59c49859586b"
   },
   "outputs": [
    {
     "name": "stdout",
     "output_type": "stream",
     "text": [
      "(569, 32)\n",
      "<class 'pandas.core.frame.DataFrame'>\n",
      "RangeIndex: 569 entries, 0 to 568\n",
      "Data columns (total 32 columns):\n",
      " #   Column               Non-Null Count  Dtype  \n",
      "---  ------               --------------  -----  \n",
      " 0   Image ID             569 non-null    int64  \n",
      " 1   Diagnosis            569 non-null    object \n",
      " 2   Mean Radius          569 non-null    float64\n",
      " 3   Mean Perimeter       569 non-null    float64\n",
      " 4   Mean Area            569 non-null    float64\n",
      " 5   Mean Texture         569 non-null    float64\n",
      " 6   Mean Smoothness      569 non-null    float64\n",
      " 7   Mean Compactness     569 non-null    float64\n",
      " 8   Mean Concavity       569 non-null    float64\n",
      " 9   Mean Concave Points  569 non-null    float64\n",
      " 10  Mean Symmetry        569 non-null    float64\n",
      " 11  Mean Fractal Dim     569 non-null    float64\n",
      " 12  Max Radius           569 non-null    float64\n",
      " 13  Max Perimeter        569 non-null    float64\n",
      " 14  Max Area             569 non-null    float64\n",
      " 15  Max Texture          569 non-null    float64\n",
      " 16  Max Smoothness       569 non-null    float64\n",
      " 17  Max Compactness      569 non-null    float64\n",
      " 18  Max Concavity        569 non-null    float64\n",
      " 19  Max Concave Points   569 non-null    float64\n",
      " 20  Max Symmetry         569 non-null    float64\n",
      " 21  Max Fractal Dim      569 non-null    float64\n",
      " 22  SE Radius            569 non-null    float64\n",
      " 23  SE Perimeter         569 non-null    float64\n",
      " 24  SE Area              569 non-null    float64\n",
      " 25  SE Texture           569 non-null    float64\n",
      " 26  SE Smoothness        569 non-null    float64\n",
      " 27  SE Compactness       569 non-null    float64\n",
      " 28  SE Concavity         569 non-null    float64\n",
      " 29  SE Concave Points    569 non-null    float64\n",
      " 30  SE Symmetry          569 non-null    float64\n",
      " 31  SE Fractal Dim       569 non-null    float64\n",
      "dtypes: float64(30), int64(1), object(1)\n",
      "memory usage: 142.4+ KB\n"
     ]
    }
   ],
   "source": [
    "df1 = pd.read_csv(r'C:\\Users\\UserK\\Desktop\\Ranee\\data\\ML\\12_Data.csv')\n",
    "print(df1.shape)\n",
    "df1.info()"
   ]
  },
  {
   "cell_type": "code",
   "execution_count": null,
   "id": "0e589884-2455-49a1-8a89-2414737304cf",
   "metadata": {
    "executionInfo": {
     "elapsed": 3,
     "status": "aborted",
     "timestamp": 1716173884192,
     "user": {
      "displayName": "Ran Kim",
      "userId": "01732261049084043415"
     },
     "user_tz": -540
    },
    "id": "0e589884-2455-49a1-8a89-2414737304cf"
   },
   "outputs": [],
   "source": [
    "df1['Diagnosis'].value_counts() # B : 정상 / M : 불량"
   ]
  },
  {
   "cell_type": "code",
   "execution_count": null,
   "id": "2ef997a4-d7f7-4fc0-97d8-91d9fb1cb312",
   "metadata": {
    "executionInfo": {
     "elapsed": 4,
     "status": "aborted",
     "timestamp": 1716173884193,
     "user": {
      "displayName": "Ran Kim",
      "userId": "01732261049084043415"
     },
     "user_tz": -540
    },
    "id": "2ef997a4-d7f7-4fc0-97d8-91d9fb1cb312"
   },
   "outputs": [],
   "source": [
    "color_map = {'M':'red' , 'B' : 'blue'}\n",
    "fig1 = px.scatter(df1, x='Mean Radius' , y='Mean Concavity', color = 'Diagnosis', color_discrete_map=color_map)\n",
    "fig1"
   ]
  },
  {
   "cell_type": "code",
   "execution_count": null,
   "id": "84c8186d-bba9-478f-bcf1-4a40b784f895",
   "metadata": {
    "executionInfo": {
     "elapsed": 4,
     "status": "aborted",
     "timestamp": 1716173884193,
     "user": {
      "displayName": "Ran Kim",
      "userId": "01732261049084043415"
     },
     "user_tz": -540
    },
    "id": "84c8186d-bba9-478f-bcf1-4a40b784f895"
   },
   "outputs": [],
   "source": [
    "# 1. Random Under Sapmling : 무작위로 클래스가 많은 쪽의 데이터를 삭제\n",
    "# !pip install imblearn\n",
    "from imblearn.under_sampling import RandomUnderSampler"
   ]
  },
  {
   "cell_type": "code",
   "execution_count": null,
   "id": "22d33104-a3e1-46ac-bd4b-502e337d7c9d",
   "metadata": {
    "executionInfo": {
     "elapsed": 4,
     "status": "aborted",
     "timestamp": 1716173884193,
     "user": {
      "displayName": "Ran Kim",
      "userId": "01732261049084043415"
     },
     "user_tz": -540
    },
    "id": "22d33104-a3e1-46ac-bd4b-502e337d7c9d"
   },
   "outputs": [],
   "source": [
    "X = df1[['Mean Radius', 'Mean Concavity']]\n",
    "Y = df1['Diagnosis']"
   ]
  },
  {
   "cell_type": "code",
   "execution_count": null,
   "id": "4bf914ff-31c6-48db-925c-b00fcbceb858",
   "metadata": {
    "executionInfo": {
     "elapsed": 4,
     "status": "aborted",
     "timestamp": 1716173884193,
     "user": {
      "displayName": "Ran Kim",
      "userId": "01732261049084043415"
     },
     "user_tz": -540
    },
    "id": "4bf914ff-31c6-48db-925c-b00fcbceb858"
   },
   "outputs": [],
   "source": [
    "sampling_model = RandomUnderSampler()\n",
    "X_resample , Y_resample = sampling_model.fit_resample(X,Y)"
   ]
  },
  {
   "cell_type": "code",
   "execution_count": null,
   "id": "6994b329-ca20-45ae-aebd-9be3bec61692",
   "metadata": {
    "executionInfo": {
     "elapsed": 4,
     "status": "aborted",
     "timestamp": 1716173884193,
     "user": {
      "displayName": "Ran Kim",
      "userId": "01732261049084043415"
     },
     "user_tz": -540
    },
    "id": "6994b329-ca20-45ae-aebd-9be3bec61692"
   },
   "outputs": [],
   "source": [
    "Y_resample.value_counts()"
   ]
  },
  {
   "cell_type": "code",
   "execution_count": null,
   "id": "8981a292-c4f6-4e73-b921-21b7f19ade47",
   "metadata": {
    "executionInfo": {
     "elapsed": 4,
     "status": "aborted",
     "timestamp": 1716173884193,
     "user": {
      "displayName": "Ran Kim",
      "userId": "01732261049084043415"
     },
     "user_tz": -540
    },
    "id": "8981a292-c4f6-4e73-b921-21b7f19ade47"
   },
   "outputs": [],
   "source": [
    "X_resample['Dig_resample'] = Y_resample"
   ]
  },
  {
   "cell_type": "code",
   "execution_count": null,
   "id": "8052ddda-86bc-464b-8204-8601aab3a622",
   "metadata": {
    "executionInfo": {
     "elapsed": 4,
     "status": "aborted",
     "timestamp": 1716173884193,
     "user": {
      "displayName": "Ran Kim",
      "userId": "01732261049084043415"
     },
     "user_tz": -540
    },
    "id": "8052ddda-86bc-464b-8204-8601aab3a622"
   },
   "outputs": [],
   "source": [
    "fig2 = px.scatter(X_resample, x='Mean Radius', y='Mean Concavity', color='Dig_resample', color_discrete_map=color_map)"
   ]
  },
  {
   "cell_type": "code",
   "execution_count": null,
   "id": "b55cb513-a7f3-4345-8609-a1742344f427",
   "metadata": {
    "executionInfo": {
     "elapsed": 4,
     "status": "aborted",
     "timestamp": 1716173884193,
     "user": {
      "displayName": "Ran Kim",
      "userId": "01732261049084043415"
     },
     "user_tz": -540
    },
    "id": "b55cb513-a7f3-4345-8609-a1742344f427"
   },
   "outputs": [],
   "source": [
    "# Sub Plot : 하나의 창에 두개의 그래프를 출력\n",
    "from plotly.subplots import make_subplots"
   ]
  },
  {
   "cell_type": "code",
   "execution_count": null,
   "id": "a5de3105-4a42-4ce9-96e1-db034b1242ec",
   "metadata": {
    "executionInfo": {
     "elapsed": 4,
     "status": "aborted",
     "timestamp": 1716173884193,
     "user": {
      "displayName": "Ran Kim",
      "userId": "01732261049084043415"
     },
     "user_tz": -540
    },
    "id": "a5de3105-4a42-4ce9-96e1-db034b1242ec"
   },
   "outputs": [],
   "source": [
    "# 각 그래프를 subplot 객체에 선언\n",
    "fig = make_subplots(rows=1, cols=2, subplot_titles=('Source Data', 'UnderSample Data'))\n",
    "for trace in fig1.data :\n",
    "    fig.add_trace(trace, row=1, col=1)\n",
    "for trace in fig2.data :\n",
    "    fig.add_trace(trace, row=1, col=2)\n",
    "fig.show()"
   ]
  },
  {
   "cell_type": "code",
   "execution_count": null,
   "id": "0548ef6f-1683-465d-90ba-ca1c6e856ec4",
   "metadata": {
    "executionInfo": {
     "elapsed": 4,
     "status": "aborted",
     "timestamp": 1716173884194,
     "user": {
      "displayName": "Ran Kim",
      "userId": "01732261049084043415"
     },
     "user_tz": -540
    },
    "id": "0548ef6f-1683-465d-90ba-ca1c6e856ec4"
   },
   "outputs": [],
   "source": [
    "# Tomek Link Samplig : 서로 다른 클래스가 인접한 데이터를 찾아 묶은 뒤, 비율이 많은 쪽의 데이터를 줄여서 조정\n",
    "from imblearn.under_sampling import TomekLinks"
   ]
  },
  {
   "cell_type": "code",
   "execution_count": null,
   "id": "98efc648-6e8c-4f9d-82ba-5aa7cfb73e8e",
   "metadata": {
    "executionInfo": {
     "elapsed": 1323,
     "status": "aborted",
     "timestamp": 1716173884194,
     "user": {
      "displayName": "Ran Kim",
      "userId": "01732261049084043415"
     },
     "user_tz": -540
    },
    "id": "98efc648-6e8c-4f9d-82ba-5aa7cfb73e8e"
   },
   "outputs": [],
   "source": [
    "sampling_model2 = TomekLinks()\n",
    "X_resample , Y_resample = sampling_model2.fit_resample(X,Y)"
   ]
  },
  {
   "cell_type": "code",
   "execution_count": null,
   "id": "e8fde62c-0bf4-4341-b54e-078678a3e627",
   "metadata": {
    "executionInfo": {
     "elapsed": 1322,
     "status": "aborted",
     "timestamp": 1716173884194,
     "user": {
      "displayName": "Ran Kim",
      "userId": "01732261049084043415"
     },
     "user_tz": -540
    },
    "id": "e8fde62c-0bf4-4341-b54e-078678a3e627"
   },
   "outputs": [],
   "source": [
    "Y_resample.value_counts()"
   ]
  },
  {
   "cell_type": "code",
   "execution_count": null,
   "id": "e921f835-32e0-464d-81d8-5fe0fc666674",
   "metadata": {
    "executionInfo": {
     "elapsed": 1322,
     "status": "aborted",
     "timestamp": 1716173884194,
     "user": {
      "displayName": "Ran Kim",
      "userId": "01732261049084043415"
     },
     "user_tz": -540
    },
    "id": "e921f835-32e0-464d-81d8-5fe0fc666674"
   },
   "outputs": [],
   "source": [
    "X_resample['Dig_resample'] = Y_resample"
   ]
  },
  {
   "cell_type": "code",
   "execution_count": null,
   "id": "392e09cf-6821-4b19-8a32-3f078c825998",
   "metadata": {
    "executionInfo": {
     "elapsed": 1321,
     "status": "aborted",
     "timestamp": 1716173884194,
     "user": {
      "displayName": "Ran Kim",
      "userId": "01732261049084043415"
     },
     "user_tz": -540
    },
    "id": "392e09cf-6821-4b19-8a32-3f078c825998"
   },
   "outputs": [],
   "source": [
    "fig2 = px.scatter(X_resample, x='Mean Radius', y='Mean Concavity', color='Dig_resample', color_discrete_map=color_map)"
   ]
  },
  {
   "cell_type": "code",
   "execution_count": null,
   "id": "718957a9-3e9a-4e54-adc6-7b4f6dc8d16e",
   "metadata": {
    "executionInfo": {
     "elapsed": 1321,
     "status": "aborted",
     "timestamp": 1716173884195,
     "user": {
      "displayName": "Ran Kim",
      "userId": "01732261049084043415"
     },
     "user_tz": -540
    },
    "id": "718957a9-3e9a-4e54-adc6-7b4f6dc8d16e"
   },
   "outputs": [],
   "source": [
    "# 각 그래프를 subplot 객체에 선언\n",
    "fig = make_subplots(rows=1, cols=2, subplot_titles=('Source Data', 'UnderSample Data'))\n",
    "for trace in fig1.data :\n",
    "    fig.add_trace(trace, row=1, col=1)\n",
    "for trace in fig2.data :\n",
    "    fig.add_trace(trace, row=1, col=2)\n",
    "fig.show()"
   ]
  },
  {
   "cell_type": "code",
   "execution_count": null,
   "id": "4e367b95-75dc-49ec-9245-6608d0d12d50",
   "metadata": {
    "executionInfo": {
     "elapsed": 4,
     "status": "aborted",
     "timestamp": 1716173884788,
     "user": {
      "displayName": "Ran Kim",
      "userId": "01732261049084043415"
     },
     "user_tz": -540
    },
    "id": "4e367b95-75dc-49ec-9245-6608d0d12d50"
   },
   "outputs": [],
   "source": [
    "# Edited Nearest Neighbors (ENN) : 많은 쪽의 클래스를 특정 K개 씩 묶어서 데이터를 삭제\n",
    "\n",
    "from imblearn.under_sampling import EditedNearestNeighbours"
   ]
  },
  {
   "cell_type": "code",
   "execution_count": null,
   "id": "4a29de9b-e0e2-47aa-8780-c6fc730b60a6",
   "metadata": {
    "executionInfo": {
     "elapsed": 4,
     "status": "aborted",
     "timestamp": 1716173884788,
     "user": {
      "displayName": "Ran Kim",
      "userId": "01732261049084043415"
     },
     "user_tz": -540
    },
    "id": "4a29de9b-e0e2-47aa-8780-c6fc730b60a6"
   },
   "outputs": [],
   "source": [
    "sampling_model3 = EditedNearestNeighbours()\n",
    "X_resample , Y_resample = sampling_model3.fit_resample(X,Y)\n",
    "X_resample['Dig_resample'] = Y_resample"
   ]
  },
  {
   "cell_type": "code",
   "execution_count": null,
   "id": "28cb6cf5-5d98-4124-bf36-71be6aeb20c7",
   "metadata": {
    "executionInfo": {
     "elapsed": 4,
     "status": "aborted",
     "timestamp": 1716173884788,
     "user": {
      "displayName": "Ran Kim",
      "userId": "01732261049084043415"
     },
     "user_tz": -540
    },
    "id": "28cb6cf5-5d98-4124-bf36-71be6aeb20c7"
   },
   "outputs": [],
   "source": [
    "Y_resample.value_counts()"
   ]
  },
  {
   "cell_type": "code",
   "execution_count": null,
   "id": "b331251f-ce83-4260-9453-9686af1a91a8",
   "metadata": {
    "executionInfo": {
     "elapsed": 4,
     "status": "aborted",
     "timestamp": 1716173884788,
     "user": {
      "displayName": "Ran Kim",
      "userId": "01732261049084043415"
     },
     "user_tz": -540
    },
    "id": "b331251f-ce83-4260-9453-9686af1a91a8"
   },
   "outputs": [],
   "source": [
    "fig2 = px.scatter(X_resample, x='Mean Radius', y='Mean Concavity', color='Dig_resample', color_discrete_map=color_map)"
   ]
  },
  {
   "cell_type": "code",
   "execution_count": null,
   "id": "73e2378a-fad8-4a76-b288-79fd692f0143",
   "metadata": {
    "executionInfo": {
     "elapsed": 4,
     "status": "aborted",
     "timestamp": 1716173884788,
     "user": {
      "displayName": "Ran Kim",
      "userId": "01732261049084043415"
     },
     "user_tz": -540
    },
    "id": "73e2378a-fad8-4a76-b288-79fd692f0143"
   },
   "outputs": [],
   "source": [
    "# 각 그래프를 subplot 객체에 선언\n",
    "fig = make_subplots(rows=1, cols=2, subplot_titles=('Source Data', 'UnderSample Data'))\n",
    "for trace in fig1.data :\n",
    "    fig.add_trace(trace, row=1, col=1)\n",
    "for trace in fig2.data :\n",
    "    fig.add_trace(trace, row=1, col=2)\n",
    "fig.show()"
   ]
  },
  {
   "cell_type": "markdown",
   "id": "17027230-331a-4bb1-9b2a-718116264010",
   "metadata": {
    "id": "17027230-331a-4bb1-9b2a-718116264010"
   },
   "source": [
    "- OverSampling\n",
    "- Random Over Sampling : 적은 쪽 클래스의 데이터를 무작위로 생성하여 학습 (무작위 반복 학습)\n",
    "- SMOTE (Synthetic Minority Over-sampling TechniquE) : 적은 쪽의 클래스 데이터를 특정 개수만큼 묶어서 데이터 사이의 가상선을 생성한 뒤, 가상 선위에 데이터를 생성\n",
    "- ADASYN (Adaptive Synthetic Samplig) : SMOTE기법을 기반으로 더욱 사실적인 데이터를 생성하기 위해, Nosie 추가하여 데이터를 생성\n",
    "- Combining Sampling : Under Sampling + Over Sampling 조합\n",
    "  - SMOTE + Tomek : SMOTETomek\n",
    "  - SMOTE + ENN : SMOTEENN"
   ]
  },
  {
   "cell_type": "code",
   "execution_count": 3,
   "id": "37f5e411-ee27-422b-a746-3600ce3b2fc5",
   "metadata": {
    "executionInfo": {
     "elapsed": 4,
     "status": "aborted",
     "timestamp": 1716173884788,
     "user": {
      "displayName": "Ran Kim",
      "userId": "01732261049084043415"
     },
     "user_tz": -540
    },
    "id": "37f5e411-ee27-422b-a746-3600ce3b2fc5"
   },
   "outputs": [],
   "source": [
    "from imblearn.combine import SMOTEENN"
   ]
  },
  {
   "cell_type": "code",
   "execution_count": null,
   "id": "a90fc711-c990-45fb-af0e-cd3775ec24bd",
   "metadata": {
    "executionInfo": {
     "elapsed": 4,
     "status": "aborted",
     "timestamp": 1716173884788,
     "user": {
      "displayName": "Ran Kim",
      "userId": "01732261049084043415"
     },
     "user_tz": -540
    },
    "id": "a90fc711-c990-45fb-af0e-cd3775ec24bd"
   },
   "outputs": [],
   "source": [
    "sampling_model4 = SMOTEENN()\n",
    "X_resample , Y_resample = sampling_model4.fit_resample(X,Y)\n",
    "X_resample['Dig_resample'] = Y_resample\n",
    "Y_resample.value_counts()"
   ]
  },
  {
   "cell_type": "code",
   "execution_count": null,
   "id": "40302d15-b07d-46aa-9273-94d4a68ced8b",
   "metadata": {
    "executionInfo": {
     "elapsed": 4,
     "status": "aborted",
     "timestamp": 1716173884788,
     "user": {
      "displayName": "Ran Kim",
      "userId": "01732261049084043415"
     },
     "user_tz": -540
    },
    "id": "40302d15-b07d-46aa-9273-94d4a68ced8b"
   },
   "outputs": [],
   "source": [
    "fig2 = px.scatter(X_resample, x='Mean Radius', y='Mean Concavity', color='Dig_resample', color_discrete_map=color_map)\n",
    "\n",
    "fig = make_subplots(rows=1, cols=2, subplot_titles=('Source Data', 'UnderSample Data'))\n",
    "for trace in fig1.data :\n",
    "    fig.add_trace(trace, row=1, col=1)\n",
    "for trace in fig2.data :\n",
    "    fig.add_trace(trace, row=1, col=2)\n",
    "fig.show()"
   ]
  },
  {
   "cell_type": "code",
   "execution_count": 10,
   "id": "09ba54f4-42b3-4bbf-ad8b-28c8aa2b634f",
   "metadata": {
    "colab": {
     "base_uri": "https://localhost:8080/",
     "height": 129
    },
    "executionInfo": {
     "elapsed": 422,
     "status": "ok",
     "timestamp": 1716181445779,
     "user": {
      "displayName": "Ran Kim",
      "userId": "01732261049084043415"
     },
     "user_tz": -540
    },
    "id": "09ba54f4-42b3-4bbf-ad8b-28c8aa2b634f",
    "outputId": "0677fd01-e11f-4d79-d6de-4e62da16b8d5"
   },
   "outputs": [
    {
     "name": "stdout",
     "output_type": "stream",
     "text": [
      "(1894, 16)\n"
     ]
    },
    {
     "data": {
      "text/html": [
       "<div>\n",
       "<style scoped>\n",
       "    .dataframe tbody tr th:only-of-type {\n",
       "        vertical-align: middle;\n",
       "    }\n",
       "\n",
       "    .dataframe tbody tr th {\n",
       "        vertical-align: top;\n",
       "    }\n",
       "\n",
       "    .dataframe thead th {\n",
       "        text-align: right;\n",
       "    }\n",
       "</style>\n",
       "<table border=\"1\" class=\"dataframe\">\n",
       "  <thead>\n",
       "    <tr style=\"text-align: right;\">\n",
       "      <th></th>\n",
       "      <th>Column 1</th>\n",
       "      <th>환자ID</th>\n",
       "      <th>수술기법</th>\n",
       "      <th>수술시간</th>\n",
       "      <th>수술실패여부</th>\n",
       "      <th>신장</th>\n",
       "      <th>연령</th>\n",
       "      <th>재발여부</th>\n",
       "      <th>체중</th>\n",
       "      <th>헤모글로빈수치</th>\n",
       "      <th>환자통증정도</th>\n",
       "      <th>통증기간(월)</th>\n",
       "      <th>혈액형</th>\n",
       "      <th>수술일</th>\n",
       "      <th>입원일</th>\n",
       "      <th>퇴원일</th>\n",
       "    </tr>\n",
       "  </thead>\n",
       "  <tbody>\n",
       "    <tr>\n",
       "      <th>0</th>\n",
       "      <td>989</td>\n",
       "      <td>990PT</td>\n",
       "      <td>TELD</td>\n",
       "      <td>50.0</td>\n",
       "      <td>0</td>\n",
       "      <td>171</td>\n",
       "      <td>37</td>\n",
       "      <td>0</td>\n",
       "      <td>68.0</td>\n",
       "      <td>15.1</td>\n",
       "      <td>7</td>\n",
       "      <td>16.0</td>\n",
       "      <td>RH+AB</td>\n",
       "      <td>2011-01-20</td>\n",
       "      <td>2011-01-20</td>\n",
       "      <td>2011-01-24</td>\n",
       "    </tr>\n",
       "    <tr>\n",
       "      <th>1</th>\n",
       "      <td>1019</td>\n",
       "      <td>1020PT</td>\n",
       "      <td>TELD</td>\n",
       "      <td>55.0</td>\n",
       "      <td>0</td>\n",
       "      <td>162</td>\n",
       "      <td>27</td>\n",
       "      <td>0</td>\n",
       "      <td>57.0</td>\n",
       "      <td>13.1</td>\n",
       "      <td>8</td>\n",
       "      <td>4.0</td>\n",
       "      <td>RH+O</td>\n",
       "      <td>2011-02-01</td>\n",
       "      <td>2011-02-01</td>\n",
       "      <td>2014-03-03</td>\n",
       "    </tr>\n",
       "  </tbody>\n",
       "</table>\n",
       "</div>"
      ],
      "text/plain": [
       "   Column 1    환자ID  수술기법  수술시간  수술실패여부   신장  연령  재발여부    체중  헤모글로빈수치  환자통증정도  \\\n",
       "0       989   990PT  TELD  50.0       0  171  37     0  68.0     15.1       7   \n",
       "1      1019  1020PT  TELD  55.0       0  162  27     0  57.0     13.1       8   \n",
       "\n",
       "   통증기간(월)    혈액형         수술일         입원일         퇴원일  \n",
       "0     16.0  RH+AB  2011-01-20  2011-01-20  2011-01-24  \n",
       "1      4.0   RH+O  2011-02-01  2011-02-01  2014-03-03  "
      ]
     },
     "execution_count": 10,
     "metadata": {},
     "output_type": "execute_result"
    }
   ],
   "source": [
    "# 정형외과 디스크 수술 후 환자 데이터 (수술 후 데이터)\n",
    "\n",
    "df2 = pd.read_csv(r'C:\\Users\\UserK\\Desktop\\Ranee\\data\\ML\\15_Data.csv')\n",
    "print(df2.shape)\n",
    "df2.head(2)"
   ]
  },
  {
   "cell_type": "code",
   "execution_count": 11,
   "id": "44a532d3-557e-4e83-ae3a-fd3a6ac34952",
   "metadata": {
    "colab": {
     "base_uri": "https://localhost:8080/"
    },
    "executionInfo": {
     "elapsed": 2,
     "status": "ok",
     "timestamp": 1716181446722,
     "user": {
      "displayName": "Ran Kim",
      "userId": "01732261049084043415"
     },
     "user_tz": -540
    },
    "id": "44a532d3-557e-4e83-ae3a-fd3a6ac34952",
    "outputId": "8bd88bed-5a89-4197-8785-4bf12b40b34a"
   },
   "outputs": [
    {
     "name": "stdout",
     "output_type": "stream",
     "text": [
      "0\n"
     ]
    },
    {
     "data": {
      "text/plain": [
       "재발여부\n",
       "0    1667\n",
       "1     227\n",
       "Name: count, dtype: int64"
      ]
     },
     "execution_count": 11,
     "metadata": {},
     "output_type": "execute_result"
    }
   ],
   "source": [
    "print(df2['재발여부'].isnull().sum())\n",
    "df2['재발여부'].value_counts() # Y 데이터에 결측치는 반드시 제거"
   ]
  },
  {
   "cell_type": "code",
   "execution_count": 12,
   "id": "91ed8b6e-7467-40a3-846e-03347067e8d5",
   "metadata": {
    "executionInfo": {
     "elapsed": 3,
     "status": "ok",
     "timestamp": 1716173916783,
     "user": {
      "displayName": "Ran Kim",
      "userId": "01732261049084043415"
     },
     "user_tz": -540
    },
    "id": "91ed8b6e-7467-40a3-846e-03347067e8d5"
   },
   "outputs": [],
   "source": [
    "Y = df2['재발여부']\n",
    "X = df2[['연령','체중','신장','수술기법','통증기간(월)','헤모글로빈수치']]"
   ]
  },
  {
   "cell_type": "code",
   "execution_count": 8,
   "id": "882d9066-e774-4c08-be8d-5cc727b7f5f5",
   "metadata": {
    "executionInfo": {
     "elapsed": 2,
     "status": "ok",
     "timestamp": 1716173916783,
     "user": {
      "displayName": "Ran Kim",
      "userId": "01732261049084043415"
     },
     "user_tz": -540
    },
    "id": "882d9066-e774-4c08-be8d-5cc727b7f5f5"
   },
   "outputs": [],
   "source": [
    "#!pip install --upgrade imblearn"
   ]
  },
  {
   "cell_type": "code",
   "execution_count": 13,
   "id": "45446a50-26a0-4832-aae2-27ca6ac8c961",
   "metadata": {
    "colab": {
     "base_uri": "https://localhost:8080/",
     "height": 211
    },
    "executionInfo": {
     "elapsed": 301,
     "status": "error",
     "timestamp": 1716181456649,
     "user": {
      "displayName": "Ran Kim",
      "userId": "01732261049084043415"
     },
     "user_tz": -540
    },
    "id": "45446a50-26a0-4832-aae2-27ca6ac8c961",
    "outputId": "87a82a75-3b57-45d8-b649-e5de102a621b"
   },
   "outputs": [],
   "source": [
    "from sklearn.model_selection import train_test_split\n",
    "from imblearn.pipeline import make_pipeline # 파이프라인구성\n",
    "from sklearn.impute import SimpleImputer # 결측값처리\n",
    "\n",
    "from sklearn.compose import make_column_transformer # 숫자는 숫자끼리 문자는 문자끼리 분할 처리\n",
    "from sklearn.preprocessing import MinMaxScaler # 최소값 0 / 최대값 1\n",
    "from sklearn.preprocessing import OneHotEncoder # 문자는 숫자로 변환\n",
    "from imblearn.combine import SMOTEENN # 불균형 데이터 처리\n",
    "from sklearn.tree import DecisionTreeClassifier\n",
    "from sklearn.model_selection import GridSearchCV # 교차검증 및 매개변수 튜닝\n",
    "from sklearn.metrics import classification_report"
   ]
  },
  {
   "cell_type": "code",
   "execution_count": 14,
   "id": "7e2f019c-68b9-4dbe-ac64-91f7e326a5ae",
   "metadata": {
    "executionInfo": {
     "elapsed": 4,
     "status": "ok",
     "timestamp": 1716181457086,
     "user": {
      "displayName": "Ran Kim",
      "userId": "01732261049084043415"
     },
     "user_tz": -540
    },
    "id": "7e2f019c-68b9-4dbe-ac64-91f7e326a5ae"
   },
   "outputs": [],
   "source": [
    "X_train, X_test, Y_train, Y_test = train_test_split(X,Y, random_state = 1234)"
   ]
  },
  {
   "cell_type": "code",
   "execution_count": 15,
   "id": "0127eee4-aa51-4b31-ae75-e0762081fbe0",
   "metadata": {
    "executionInfo": {
     "elapsed": 4,
     "status": "ok",
     "timestamp": 1716181457086,
     "user": {
      "displayName": "Ran Kim",
      "userId": "01732261049084043415"
     },
     "user_tz": -540
    },
    "id": "0127eee4-aa51-4b31-ae75-e0762081fbe0"
   },
   "outputs": [],
   "source": [
    "# 숫자 항목과 문자 항목을 구분\n",
    "numeric_list = X.describe().columns # 숫자 항목을 리스트로 변환\n",
    "category_list = X.describe(include='object').columns # 문자 항목을 리스트로 변환"
   ]
  },
  {
   "cell_type": "code",
   "execution_count": 16,
   "id": "e0354378-bb95-4f83-8fbf-9f9f68f5da60",
   "metadata": {
    "executionInfo": {
     "elapsed": 3,
     "status": "ok",
     "timestamp": 1716181457086,
     "user": {
      "displayName": "Ran Kim",
      "userId": "01732261049084043415"
     },
     "user_tz": -540
    },
    "id": "e0354378-bb95-4f83-8fbf-9f9f68f5da60"
   },
   "outputs": [],
   "source": [
    "# 파이프라인 설계\n",
    "numeric_pipe = make_pipeline(SimpleImputer(strategy='median'), MinMaxScaler())\n",
    "category_pipe = make_pipeline(SimpleImputer(strategy='most_frequent'), OneHotEncoder())\n",
    "prepro_pipe = make_column_transformer((numeric_pipe,numeric_list),\n",
    "                                      (category_pipe, category_list))"
   ]
  },
  {
   "cell_type": "code",
   "execution_count": 18,
   "id": "e9b6b72a-fb44-486e-867d-68fb76cfec7d",
   "metadata": {
    "colab": {
     "base_uri": "https://localhost:8080/",
     "height": 262
    },
    "executionInfo": {
     "elapsed": 3,
     "status": "ok",
     "timestamp": 1716181457086,
     "user": {
      "displayName": "Ran Kim",
      "userId": "01732261049084043415"
     },
     "user_tz": -540
    },
    "id": "e9b6b72a-fb44-486e-867d-68fb76cfec7d",
    "outputId": "7b8361ac-638d-4c9c-c435-0841987c262b"
   },
   "outputs": [
    {
     "data": {
      "text/html": [
       "<style>#sk-container-id-1 {color: black;background-color: white;}#sk-container-id-1 pre{padding: 0;}#sk-container-id-1 div.sk-toggleable {background-color: white;}#sk-container-id-1 label.sk-toggleable__label {cursor: pointer;display: block;width: 100%;margin-bottom: 0;padding: 0.3em;box-sizing: border-box;text-align: center;}#sk-container-id-1 label.sk-toggleable__label-arrow:before {content: \"▸\";float: left;margin-right: 0.25em;color: #696969;}#sk-container-id-1 label.sk-toggleable__label-arrow:hover:before {color: black;}#sk-container-id-1 div.sk-estimator:hover label.sk-toggleable__label-arrow:before {color: black;}#sk-container-id-1 div.sk-toggleable__content {max-height: 0;max-width: 0;overflow: hidden;text-align: left;background-color: #f0f8ff;}#sk-container-id-1 div.sk-toggleable__content pre {margin: 0.2em;color: black;border-radius: 0.25em;background-color: #f0f8ff;}#sk-container-id-1 input.sk-toggleable__control:checked~div.sk-toggleable__content {max-height: 200px;max-width: 100%;overflow: auto;}#sk-container-id-1 input.sk-toggleable__control:checked~label.sk-toggleable__label-arrow:before {content: \"▾\";}#sk-container-id-1 div.sk-estimator input.sk-toggleable__control:checked~label.sk-toggleable__label {background-color: #d4ebff;}#sk-container-id-1 div.sk-label input.sk-toggleable__control:checked~label.sk-toggleable__label {background-color: #d4ebff;}#sk-container-id-1 input.sk-hidden--visually {border: 0;clip: rect(1px 1px 1px 1px);clip: rect(1px, 1px, 1px, 1px);height: 1px;margin: -1px;overflow: hidden;padding: 0;position: absolute;width: 1px;}#sk-container-id-1 div.sk-estimator {font-family: monospace;background-color: #f0f8ff;border: 1px dotted black;border-radius: 0.25em;box-sizing: border-box;margin-bottom: 0.5em;}#sk-container-id-1 div.sk-estimator:hover {background-color: #d4ebff;}#sk-container-id-1 div.sk-parallel-item::after {content: \"\";width: 100%;border-bottom: 1px solid gray;flex-grow: 1;}#sk-container-id-1 div.sk-label:hover label.sk-toggleable__label {background-color: #d4ebff;}#sk-container-id-1 div.sk-serial::before {content: \"\";position: absolute;border-left: 1px solid gray;box-sizing: border-box;top: 0;bottom: 0;left: 50%;z-index: 0;}#sk-container-id-1 div.sk-serial {display: flex;flex-direction: column;align-items: center;background-color: white;padding-right: 0.2em;padding-left: 0.2em;position: relative;}#sk-container-id-1 div.sk-item {position: relative;z-index: 1;}#sk-container-id-1 div.sk-parallel {display: flex;align-items: stretch;justify-content: center;background-color: white;position: relative;}#sk-container-id-1 div.sk-item::before, #sk-container-id-1 div.sk-parallel-item::before {content: \"\";position: absolute;border-left: 1px solid gray;box-sizing: border-box;top: 0;bottom: 0;left: 50%;z-index: -1;}#sk-container-id-1 div.sk-parallel-item {display: flex;flex-direction: column;z-index: 1;position: relative;background-color: white;}#sk-container-id-1 div.sk-parallel-item:first-child::after {align-self: flex-end;width: 50%;}#sk-container-id-1 div.sk-parallel-item:last-child::after {align-self: flex-start;width: 50%;}#sk-container-id-1 div.sk-parallel-item:only-child::after {width: 0;}#sk-container-id-1 div.sk-dashed-wrapped {border: 1px dashed gray;margin: 0 0.4em 0.5em 0.4em;box-sizing: border-box;padding-bottom: 0.4em;background-color: white;}#sk-container-id-1 div.sk-label label {font-family: monospace;font-weight: bold;display: inline-block;line-height: 1.2em;}#sk-container-id-1 div.sk-label-container {text-align: center;}#sk-container-id-1 div.sk-container {/* jupyter's `normalize.less` sets `[hidden] { display: none; }` but bootstrap.min.css set `[hidden] { display: none !important; }` so we also need the `!important` here to be able to override the default hidden behavior on the sphinx rendered scikit-learn.org. See: https://github.com/scikit-learn/scikit-learn/issues/21755 */display: inline-block !important;position: relative;}#sk-container-id-1 div.sk-text-repr-fallback {display: none;}</style><div id=\"sk-container-id-1\" class=\"sk-top-container\"><div class=\"sk-text-repr-fallback\"><pre>Pipeline(steps=[(&#x27;columntransformer&#x27;,\n",
       "                 ColumnTransformer(transformers=[(&#x27;pipeline-1&#x27;,\n",
       "                                                  Pipeline(steps=[(&#x27;simpleimputer&#x27;,\n",
       "                                                                   SimpleImputer(strategy=&#x27;median&#x27;)),\n",
       "                                                                  (&#x27;minmaxscaler&#x27;,\n",
       "                                                                   MinMaxScaler())]),\n",
       "                                                  Index([&#x27;연령&#x27;, &#x27;체중&#x27;, &#x27;신장&#x27;, &#x27;통증기간(월)&#x27;, &#x27;헤모글로빈수치&#x27;], dtype=&#x27;object&#x27;)),\n",
       "                                                 (&#x27;pipeline-2&#x27;,\n",
       "                                                  Pipeline(steps=[(&#x27;simpleimputer&#x27;,\n",
       "                                                                   SimpleImputer(strategy=&#x27;most_frequent&#x27;)),\n",
       "                                                                  (&#x27;onehotencoder&#x27;,\n",
       "                                                                   OneHotEncoder())]),\n",
       "                                                  Index([&#x27;수술기법&#x27;], dtype=&#x27;object&#x27;))])),\n",
       "                (&#x27;smoteenn&#x27;, SMOTEENN()),\n",
       "                (&#x27;decisiontreeclassifier&#x27;, DecisionTreeClassifier())])</pre><b>In a Jupyter environment, please rerun this cell to show the HTML representation or trust the notebook. <br />On GitHub, the HTML representation is unable to render, please try loading this page with nbviewer.org.</b></div><div class=\"sk-container\" hidden><div class=\"sk-item sk-dashed-wrapped\"><div class=\"sk-label-container\"><div class=\"sk-label sk-toggleable\"><input class=\"sk-toggleable__control sk-hidden--visually\" id=\"sk-estimator-id-1\" type=\"checkbox\" ><label for=\"sk-estimator-id-1\" class=\"sk-toggleable__label sk-toggleable__label-arrow\">Pipeline</label><div class=\"sk-toggleable__content\"><pre>Pipeline(steps=[(&#x27;columntransformer&#x27;,\n",
       "                 ColumnTransformer(transformers=[(&#x27;pipeline-1&#x27;,\n",
       "                                                  Pipeline(steps=[(&#x27;simpleimputer&#x27;,\n",
       "                                                                   SimpleImputer(strategy=&#x27;median&#x27;)),\n",
       "                                                                  (&#x27;minmaxscaler&#x27;,\n",
       "                                                                   MinMaxScaler())]),\n",
       "                                                  Index([&#x27;연령&#x27;, &#x27;체중&#x27;, &#x27;신장&#x27;, &#x27;통증기간(월)&#x27;, &#x27;헤모글로빈수치&#x27;], dtype=&#x27;object&#x27;)),\n",
       "                                                 (&#x27;pipeline-2&#x27;,\n",
       "                                                  Pipeline(steps=[(&#x27;simpleimputer&#x27;,\n",
       "                                                                   SimpleImputer(strategy=&#x27;most_frequent&#x27;)),\n",
       "                                                                  (&#x27;onehotencoder&#x27;,\n",
       "                                                                   OneHotEncoder())]),\n",
       "                                                  Index([&#x27;수술기법&#x27;], dtype=&#x27;object&#x27;))])),\n",
       "                (&#x27;smoteenn&#x27;, SMOTEENN()),\n",
       "                (&#x27;decisiontreeclassifier&#x27;, DecisionTreeClassifier())])</pre></div></div></div><div class=\"sk-serial\"><div class=\"sk-item sk-dashed-wrapped\"><div class=\"sk-label-container\"><div class=\"sk-label sk-toggleable\"><input class=\"sk-toggleable__control sk-hidden--visually\" id=\"sk-estimator-id-2\" type=\"checkbox\" ><label for=\"sk-estimator-id-2\" class=\"sk-toggleable__label sk-toggleable__label-arrow\">columntransformer: ColumnTransformer</label><div class=\"sk-toggleable__content\"><pre>ColumnTransformer(transformers=[(&#x27;pipeline-1&#x27;,\n",
       "                                 Pipeline(steps=[(&#x27;simpleimputer&#x27;,\n",
       "                                                  SimpleImputer(strategy=&#x27;median&#x27;)),\n",
       "                                                 (&#x27;minmaxscaler&#x27;,\n",
       "                                                  MinMaxScaler())]),\n",
       "                                 Index([&#x27;연령&#x27;, &#x27;체중&#x27;, &#x27;신장&#x27;, &#x27;통증기간(월)&#x27;, &#x27;헤모글로빈수치&#x27;], dtype=&#x27;object&#x27;)),\n",
       "                                (&#x27;pipeline-2&#x27;,\n",
       "                                 Pipeline(steps=[(&#x27;simpleimputer&#x27;,\n",
       "                                                  SimpleImputer(strategy=&#x27;most_frequent&#x27;)),\n",
       "                                                 (&#x27;onehotencoder&#x27;,\n",
       "                                                  OneHotEncoder())]),\n",
       "                                 Index([&#x27;수술기법&#x27;], dtype=&#x27;object&#x27;))])</pre></div></div></div><div class=\"sk-parallel\"><div class=\"sk-parallel-item\"><div class=\"sk-item\"><div class=\"sk-label-container\"><div class=\"sk-label sk-toggleable\"><input class=\"sk-toggleable__control sk-hidden--visually\" id=\"sk-estimator-id-3\" type=\"checkbox\" ><label for=\"sk-estimator-id-3\" class=\"sk-toggleable__label sk-toggleable__label-arrow\">pipeline-1</label><div class=\"sk-toggleable__content\"><pre>Index([&#x27;연령&#x27;, &#x27;체중&#x27;, &#x27;신장&#x27;, &#x27;통증기간(월)&#x27;, &#x27;헤모글로빈수치&#x27;], dtype=&#x27;object&#x27;)</pre></div></div></div><div class=\"sk-serial\"><div class=\"sk-item\"><div class=\"sk-serial\"><div class=\"sk-item\"><div class=\"sk-estimator sk-toggleable\"><input class=\"sk-toggleable__control sk-hidden--visually\" id=\"sk-estimator-id-4\" type=\"checkbox\" ><label for=\"sk-estimator-id-4\" class=\"sk-toggleable__label sk-toggleable__label-arrow\">SimpleImputer</label><div class=\"sk-toggleable__content\"><pre>SimpleImputer(strategy=&#x27;median&#x27;)</pre></div></div></div><div class=\"sk-item\"><div class=\"sk-estimator sk-toggleable\"><input class=\"sk-toggleable__control sk-hidden--visually\" id=\"sk-estimator-id-5\" type=\"checkbox\" ><label for=\"sk-estimator-id-5\" class=\"sk-toggleable__label sk-toggleable__label-arrow\">MinMaxScaler</label><div class=\"sk-toggleable__content\"><pre>MinMaxScaler()</pre></div></div></div></div></div></div></div></div><div class=\"sk-parallel-item\"><div class=\"sk-item\"><div class=\"sk-label-container\"><div class=\"sk-label sk-toggleable\"><input class=\"sk-toggleable__control sk-hidden--visually\" id=\"sk-estimator-id-6\" type=\"checkbox\" ><label for=\"sk-estimator-id-6\" class=\"sk-toggleable__label sk-toggleable__label-arrow\">pipeline-2</label><div class=\"sk-toggleable__content\"><pre>Index([&#x27;수술기법&#x27;], dtype=&#x27;object&#x27;)</pre></div></div></div><div class=\"sk-serial\"><div class=\"sk-item\"><div class=\"sk-serial\"><div class=\"sk-item\"><div class=\"sk-estimator sk-toggleable\"><input class=\"sk-toggleable__control sk-hidden--visually\" id=\"sk-estimator-id-7\" type=\"checkbox\" ><label for=\"sk-estimator-id-7\" class=\"sk-toggleable__label sk-toggleable__label-arrow\">SimpleImputer</label><div class=\"sk-toggleable__content\"><pre>SimpleImputer(strategy=&#x27;most_frequent&#x27;)</pre></div></div></div><div class=\"sk-item\"><div class=\"sk-estimator sk-toggleable\"><input class=\"sk-toggleable__control sk-hidden--visually\" id=\"sk-estimator-id-8\" type=\"checkbox\" ><label for=\"sk-estimator-id-8\" class=\"sk-toggleable__label sk-toggleable__label-arrow\">OneHotEncoder</label><div class=\"sk-toggleable__content\"><pre>OneHotEncoder()</pre></div></div></div></div></div></div></div></div></div></div><div class=\"sk-item\"><div class=\"sk-estimator sk-toggleable\"><input class=\"sk-toggleable__control sk-hidden--visually\" id=\"sk-estimator-id-9\" type=\"checkbox\" ><label for=\"sk-estimator-id-9\" class=\"sk-toggleable__label sk-toggleable__label-arrow\">SMOTEENN</label><div class=\"sk-toggleable__content\"><pre>SMOTEENN()</pre></div></div></div><div class=\"sk-item\"><div class=\"sk-estimator sk-toggleable\"><input class=\"sk-toggleable__control sk-hidden--visually\" id=\"sk-estimator-id-10\" type=\"checkbox\" ><label for=\"sk-estimator-id-10\" class=\"sk-toggleable__label sk-toggleable__label-arrow\">DecisionTreeClassifier</label><div class=\"sk-toggleable__content\"><pre>DecisionTreeClassifier()</pre></div></div></div></div></div></div></div>"
      ],
      "text/plain": [
       "Pipeline(steps=[('columntransformer',\n",
       "                 ColumnTransformer(transformers=[('pipeline-1',\n",
       "                                                  Pipeline(steps=[('simpleimputer',\n",
       "                                                                   SimpleImputer(strategy='median')),\n",
       "                                                                  ('minmaxscaler',\n",
       "                                                                   MinMaxScaler())]),\n",
       "                                                  Index(['연령', '체중', '신장', '통증기간(월)', '헤모글로빈수치'], dtype='object')),\n",
       "                                                 ('pipeline-2',\n",
       "                                                  Pipeline(steps=[('simpleimputer',\n",
       "                                                                   SimpleImputer(strategy='most_frequent')),\n",
       "                                                                  ('onehotencoder',\n",
       "                                                                   OneHotEncoder())]),\n",
       "                                                  Index(['수술기법'], dtype='object'))])),\n",
       "                ('smoteenn', SMOTEENN()),\n",
       "                ('decisiontreeclassifier', DecisionTreeClassifier())])"
      ]
     },
     "execution_count": 18,
     "metadata": {},
     "output_type": "execute_result"
    }
   ],
   "source": [
    "model_pipe = make_pipeline(prepro_pipe, SMOTEENN(), DecisionTreeClassifier())\n",
    "model_pipe.fit(X_train,Y_train)"
   ]
  },
  {
   "cell_type": "code",
   "execution_count": 19,
   "id": "c02cab1a-d79d-4112-ab83-7b3f8338cad0",
   "metadata": {
    "colab": {
     "base_uri": "https://localhost:8080/",
     "height": 288
    },
    "executionInfo": {
     "elapsed": 3099,
     "status": "ok",
     "timestamp": 1716181460183,
     "user": {
      "displayName": "Ran Kim",
      "userId": "01732261049084043415"
     },
     "user_tz": -540
    },
    "id": "c02cab1a-d79d-4112-ab83-7b3f8338cad0",
    "outputId": "3e3cf2d9-bc03-4c40-9ffe-fd2efb288fe9"
   },
   "outputs": [
    {
     "data": {
      "text/html": [
       "<style>#sk-container-id-2 {color: black;background-color: white;}#sk-container-id-2 pre{padding: 0;}#sk-container-id-2 div.sk-toggleable {background-color: white;}#sk-container-id-2 label.sk-toggleable__label {cursor: pointer;display: block;width: 100%;margin-bottom: 0;padding: 0.3em;box-sizing: border-box;text-align: center;}#sk-container-id-2 label.sk-toggleable__label-arrow:before {content: \"▸\";float: left;margin-right: 0.25em;color: #696969;}#sk-container-id-2 label.sk-toggleable__label-arrow:hover:before {color: black;}#sk-container-id-2 div.sk-estimator:hover label.sk-toggleable__label-arrow:before {color: black;}#sk-container-id-2 div.sk-toggleable__content {max-height: 0;max-width: 0;overflow: hidden;text-align: left;background-color: #f0f8ff;}#sk-container-id-2 div.sk-toggleable__content pre {margin: 0.2em;color: black;border-radius: 0.25em;background-color: #f0f8ff;}#sk-container-id-2 input.sk-toggleable__control:checked~div.sk-toggleable__content {max-height: 200px;max-width: 100%;overflow: auto;}#sk-container-id-2 input.sk-toggleable__control:checked~label.sk-toggleable__label-arrow:before {content: \"▾\";}#sk-container-id-2 div.sk-estimator input.sk-toggleable__control:checked~label.sk-toggleable__label {background-color: #d4ebff;}#sk-container-id-2 div.sk-label input.sk-toggleable__control:checked~label.sk-toggleable__label {background-color: #d4ebff;}#sk-container-id-2 input.sk-hidden--visually {border: 0;clip: rect(1px 1px 1px 1px);clip: rect(1px, 1px, 1px, 1px);height: 1px;margin: -1px;overflow: hidden;padding: 0;position: absolute;width: 1px;}#sk-container-id-2 div.sk-estimator {font-family: monospace;background-color: #f0f8ff;border: 1px dotted black;border-radius: 0.25em;box-sizing: border-box;margin-bottom: 0.5em;}#sk-container-id-2 div.sk-estimator:hover {background-color: #d4ebff;}#sk-container-id-2 div.sk-parallel-item::after {content: \"\";width: 100%;border-bottom: 1px solid gray;flex-grow: 1;}#sk-container-id-2 div.sk-label:hover label.sk-toggleable__label {background-color: #d4ebff;}#sk-container-id-2 div.sk-serial::before {content: \"\";position: absolute;border-left: 1px solid gray;box-sizing: border-box;top: 0;bottom: 0;left: 50%;z-index: 0;}#sk-container-id-2 div.sk-serial {display: flex;flex-direction: column;align-items: center;background-color: white;padding-right: 0.2em;padding-left: 0.2em;position: relative;}#sk-container-id-2 div.sk-item {position: relative;z-index: 1;}#sk-container-id-2 div.sk-parallel {display: flex;align-items: stretch;justify-content: center;background-color: white;position: relative;}#sk-container-id-2 div.sk-item::before, #sk-container-id-2 div.sk-parallel-item::before {content: \"\";position: absolute;border-left: 1px solid gray;box-sizing: border-box;top: 0;bottom: 0;left: 50%;z-index: -1;}#sk-container-id-2 div.sk-parallel-item {display: flex;flex-direction: column;z-index: 1;position: relative;background-color: white;}#sk-container-id-2 div.sk-parallel-item:first-child::after {align-self: flex-end;width: 50%;}#sk-container-id-2 div.sk-parallel-item:last-child::after {align-self: flex-start;width: 50%;}#sk-container-id-2 div.sk-parallel-item:only-child::after {width: 0;}#sk-container-id-2 div.sk-dashed-wrapped {border: 1px dashed gray;margin: 0 0.4em 0.5em 0.4em;box-sizing: border-box;padding-bottom: 0.4em;background-color: white;}#sk-container-id-2 div.sk-label label {font-family: monospace;font-weight: bold;display: inline-block;line-height: 1.2em;}#sk-container-id-2 div.sk-label-container {text-align: center;}#sk-container-id-2 div.sk-container {/* jupyter's `normalize.less` sets `[hidden] { display: none; }` but bootstrap.min.css set `[hidden] { display: none !important; }` so we also need the `!important` here to be able to override the default hidden behavior on the sphinx rendered scikit-learn.org. See: https://github.com/scikit-learn/scikit-learn/issues/21755 */display: inline-block !important;position: relative;}#sk-container-id-2 div.sk-text-repr-fallback {display: none;}</style><div id=\"sk-container-id-2\" class=\"sk-top-container\"><div class=\"sk-text-repr-fallback\"><pre>GridSearchCV(cv=3,\n",
       "             estimator=Pipeline(steps=[(&#x27;columntransformer&#x27;,\n",
       "                                        ColumnTransformer(transformers=[(&#x27;pipeline-1&#x27;,\n",
       "                                                                         Pipeline(steps=[(&#x27;simpleimputer&#x27;,\n",
       "                                                                                          SimpleImputer(strategy=&#x27;median&#x27;)),\n",
       "                                                                                         (&#x27;minmaxscaler&#x27;,\n",
       "                                                                                          MinMaxScaler())]),\n",
       "                                                                         Index([&#x27;연령&#x27;, &#x27;체중&#x27;, &#x27;신장&#x27;, &#x27;통증기간(월)&#x27;, &#x27;헤모글로빈수치&#x27;], dtype=&#x27;object&#x27;)),\n",
       "                                                                        (&#x27;pipeline-2&#x27;,\n",
       "                                                                         Pipeline(steps=[(&#x27;simpleimputer&#x27;,\n",
       "                                                                                          SimpleImputer(strategy=&#x27;most_frequent&#x27;)),\n",
       "                                                                                         (&#x27;onehotencoder&#x27;,\n",
       "                                                                                          OneHotEncoder())]),\n",
       "                                                                         Index([&#x27;수술기법&#x27;], dtype=&#x27;object&#x27;))])),\n",
       "                                       (&#x27;smoteenn&#x27;, SMOTEENN()),\n",
       "                                       (&#x27;decisiontreeclassifier&#x27;,\n",
       "                                        DecisionTreeClassifier())]),\n",
       "             n_jobs=-1, param_grid={}, scoring=&#x27;f1&#x27;)</pre><b>In a Jupyter environment, please rerun this cell to show the HTML representation or trust the notebook. <br />On GitHub, the HTML representation is unable to render, please try loading this page with nbviewer.org.</b></div><div class=\"sk-container\" hidden><div class=\"sk-item sk-dashed-wrapped\"><div class=\"sk-label-container\"><div class=\"sk-label sk-toggleable\"><input class=\"sk-toggleable__control sk-hidden--visually\" id=\"sk-estimator-id-11\" type=\"checkbox\" ><label for=\"sk-estimator-id-11\" class=\"sk-toggleable__label sk-toggleable__label-arrow\">GridSearchCV</label><div class=\"sk-toggleable__content\"><pre>GridSearchCV(cv=3,\n",
       "             estimator=Pipeline(steps=[(&#x27;columntransformer&#x27;,\n",
       "                                        ColumnTransformer(transformers=[(&#x27;pipeline-1&#x27;,\n",
       "                                                                         Pipeline(steps=[(&#x27;simpleimputer&#x27;,\n",
       "                                                                                          SimpleImputer(strategy=&#x27;median&#x27;)),\n",
       "                                                                                         (&#x27;minmaxscaler&#x27;,\n",
       "                                                                                          MinMaxScaler())]),\n",
       "                                                                         Index([&#x27;연령&#x27;, &#x27;체중&#x27;, &#x27;신장&#x27;, &#x27;통증기간(월)&#x27;, &#x27;헤모글로빈수치&#x27;], dtype=&#x27;object&#x27;)),\n",
       "                                                                        (&#x27;pipeline-2&#x27;,\n",
       "                                                                         Pipeline(steps=[(&#x27;simpleimputer&#x27;,\n",
       "                                                                                          SimpleImputer(strategy=&#x27;most_frequent&#x27;)),\n",
       "                                                                                         (&#x27;onehotencoder&#x27;,\n",
       "                                                                                          OneHotEncoder())]),\n",
       "                                                                         Index([&#x27;수술기법&#x27;], dtype=&#x27;object&#x27;))])),\n",
       "                                       (&#x27;smoteenn&#x27;, SMOTEENN()),\n",
       "                                       (&#x27;decisiontreeclassifier&#x27;,\n",
       "                                        DecisionTreeClassifier())]),\n",
       "             n_jobs=-1, param_grid={}, scoring=&#x27;f1&#x27;)</pre></div></div></div><div class=\"sk-parallel\"><div class=\"sk-parallel-item\"><div class=\"sk-item\"><div class=\"sk-label-container\"><div class=\"sk-label sk-toggleable\"><input class=\"sk-toggleable__control sk-hidden--visually\" id=\"sk-estimator-id-12\" type=\"checkbox\" ><label for=\"sk-estimator-id-12\" class=\"sk-toggleable__label sk-toggleable__label-arrow\">estimator: Pipeline</label><div class=\"sk-toggleable__content\"><pre>Pipeline(steps=[(&#x27;columntransformer&#x27;,\n",
       "                 ColumnTransformer(transformers=[(&#x27;pipeline-1&#x27;,\n",
       "                                                  Pipeline(steps=[(&#x27;simpleimputer&#x27;,\n",
       "                                                                   SimpleImputer(strategy=&#x27;median&#x27;)),\n",
       "                                                                  (&#x27;minmaxscaler&#x27;,\n",
       "                                                                   MinMaxScaler())]),\n",
       "                                                  Index([&#x27;연령&#x27;, &#x27;체중&#x27;, &#x27;신장&#x27;, &#x27;통증기간(월)&#x27;, &#x27;헤모글로빈수치&#x27;], dtype=&#x27;object&#x27;)),\n",
       "                                                 (&#x27;pipeline-2&#x27;,\n",
       "                                                  Pipeline(steps=[(&#x27;simpleimputer&#x27;,\n",
       "                                                                   SimpleImputer(strategy=&#x27;most_frequent&#x27;)),\n",
       "                                                                  (&#x27;onehotencoder&#x27;,\n",
       "                                                                   OneHotEncoder())]),\n",
       "                                                  Index([&#x27;수술기법&#x27;], dtype=&#x27;object&#x27;))])),\n",
       "                (&#x27;smoteenn&#x27;, SMOTEENN()),\n",
       "                (&#x27;decisiontreeclassifier&#x27;, DecisionTreeClassifier())])</pre></div></div></div><div class=\"sk-serial\"><div class=\"sk-item\"><div class=\"sk-serial\"><div class=\"sk-item sk-dashed-wrapped\"><div class=\"sk-label-container\"><div class=\"sk-label sk-toggleable\"><input class=\"sk-toggleable__control sk-hidden--visually\" id=\"sk-estimator-id-13\" type=\"checkbox\" ><label for=\"sk-estimator-id-13\" class=\"sk-toggleable__label sk-toggleable__label-arrow\">columntransformer: ColumnTransformer</label><div class=\"sk-toggleable__content\"><pre>ColumnTransformer(transformers=[(&#x27;pipeline-1&#x27;,\n",
       "                                 Pipeline(steps=[(&#x27;simpleimputer&#x27;,\n",
       "                                                  SimpleImputer(strategy=&#x27;median&#x27;)),\n",
       "                                                 (&#x27;minmaxscaler&#x27;,\n",
       "                                                  MinMaxScaler())]),\n",
       "                                 Index([&#x27;연령&#x27;, &#x27;체중&#x27;, &#x27;신장&#x27;, &#x27;통증기간(월)&#x27;, &#x27;헤모글로빈수치&#x27;], dtype=&#x27;object&#x27;)),\n",
       "                                (&#x27;pipeline-2&#x27;,\n",
       "                                 Pipeline(steps=[(&#x27;simpleimputer&#x27;,\n",
       "                                                  SimpleImputer(strategy=&#x27;most_frequent&#x27;)),\n",
       "                                                 (&#x27;onehotencoder&#x27;,\n",
       "                                                  OneHotEncoder())]),\n",
       "                                 Index([&#x27;수술기법&#x27;], dtype=&#x27;object&#x27;))])</pre></div></div></div><div class=\"sk-parallel\"><div class=\"sk-parallel-item\"><div class=\"sk-item\"><div class=\"sk-label-container\"><div class=\"sk-label sk-toggleable\"><input class=\"sk-toggleable__control sk-hidden--visually\" id=\"sk-estimator-id-14\" type=\"checkbox\" ><label for=\"sk-estimator-id-14\" class=\"sk-toggleable__label sk-toggleable__label-arrow\">pipeline-1</label><div class=\"sk-toggleable__content\"><pre>Index([&#x27;연령&#x27;, &#x27;체중&#x27;, &#x27;신장&#x27;, &#x27;통증기간(월)&#x27;, &#x27;헤모글로빈수치&#x27;], dtype=&#x27;object&#x27;)</pre></div></div></div><div class=\"sk-serial\"><div class=\"sk-item\"><div class=\"sk-serial\"><div class=\"sk-item\"><div class=\"sk-estimator sk-toggleable\"><input class=\"sk-toggleable__control sk-hidden--visually\" id=\"sk-estimator-id-15\" type=\"checkbox\" ><label for=\"sk-estimator-id-15\" class=\"sk-toggleable__label sk-toggleable__label-arrow\">SimpleImputer</label><div class=\"sk-toggleable__content\"><pre>SimpleImputer(strategy=&#x27;median&#x27;)</pre></div></div></div><div class=\"sk-item\"><div class=\"sk-estimator sk-toggleable\"><input class=\"sk-toggleable__control sk-hidden--visually\" id=\"sk-estimator-id-16\" type=\"checkbox\" ><label for=\"sk-estimator-id-16\" class=\"sk-toggleable__label sk-toggleable__label-arrow\">MinMaxScaler</label><div class=\"sk-toggleable__content\"><pre>MinMaxScaler()</pre></div></div></div></div></div></div></div></div><div class=\"sk-parallel-item\"><div class=\"sk-item\"><div class=\"sk-label-container\"><div class=\"sk-label sk-toggleable\"><input class=\"sk-toggleable__control sk-hidden--visually\" id=\"sk-estimator-id-17\" type=\"checkbox\" ><label for=\"sk-estimator-id-17\" class=\"sk-toggleable__label sk-toggleable__label-arrow\">pipeline-2</label><div class=\"sk-toggleable__content\"><pre>Index([&#x27;수술기법&#x27;], dtype=&#x27;object&#x27;)</pre></div></div></div><div class=\"sk-serial\"><div class=\"sk-item\"><div class=\"sk-serial\"><div class=\"sk-item\"><div class=\"sk-estimator sk-toggleable\"><input class=\"sk-toggleable__control sk-hidden--visually\" id=\"sk-estimator-id-18\" type=\"checkbox\" ><label for=\"sk-estimator-id-18\" class=\"sk-toggleable__label sk-toggleable__label-arrow\">SimpleImputer</label><div class=\"sk-toggleable__content\"><pre>SimpleImputer(strategy=&#x27;most_frequent&#x27;)</pre></div></div></div><div class=\"sk-item\"><div class=\"sk-estimator sk-toggleable\"><input class=\"sk-toggleable__control sk-hidden--visually\" id=\"sk-estimator-id-19\" type=\"checkbox\" ><label for=\"sk-estimator-id-19\" class=\"sk-toggleable__label sk-toggleable__label-arrow\">OneHotEncoder</label><div class=\"sk-toggleable__content\"><pre>OneHotEncoder()</pre></div></div></div></div></div></div></div></div></div></div><div class=\"sk-item\"><div class=\"sk-estimator sk-toggleable\"><input class=\"sk-toggleable__control sk-hidden--visually\" id=\"sk-estimator-id-20\" type=\"checkbox\" ><label for=\"sk-estimator-id-20\" class=\"sk-toggleable__label sk-toggleable__label-arrow\">SMOTEENN</label><div class=\"sk-toggleable__content\"><pre>SMOTEENN()</pre></div></div></div><div class=\"sk-item\"><div class=\"sk-estimator sk-toggleable\"><input class=\"sk-toggleable__control sk-hidden--visually\" id=\"sk-estimator-id-21\" type=\"checkbox\" ><label for=\"sk-estimator-id-21\" class=\"sk-toggleable__label sk-toggleable__label-arrow\">DecisionTreeClassifier</label><div class=\"sk-toggleable__content\"><pre>DecisionTreeClassifier()</pre></div></div></div></div></div></div></div></div></div></div></div></div>"
      ],
      "text/plain": [
       "GridSearchCV(cv=3,\n",
       "             estimator=Pipeline(steps=[('columntransformer',\n",
       "                                        ColumnTransformer(transformers=[('pipeline-1',\n",
       "                                                                         Pipeline(steps=[('simpleimputer',\n",
       "                                                                                          SimpleImputer(strategy='median')),\n",
       "                                                                                         ('minmaxscaler',\n",
       "                                                                                          MinMaxScaler())]),\n",
       "                                                                         Index(['연령', '체중', '신장', '통증기간(월)', '헤모글로빈수치'], dtype='object')),\n",
       "                                                                        ('pipeline-2',\n",
       "                                                                         Pipeline(steps=[('simpleimputer',\n",
       "                                                                                          SimpleImputer(strategy='most_frequent')),\n",
       "                                                                                         ('onehotencoder',\n",
       "                                                                                          OneHotEncoder())]),\n",
       "                                                                         Index(['수술기법'], dtype='object'))])),\n",
       "                                       ('smoteenn', SMOTEENN()),\n",
       "                                       ('decisiontreeclassifier',\n",
       "                                        DecisionTreeClassifier())]),\n",
       "             n_jobs=-1, param_grid={}, scoring='f1')"
      ]
     },
     "execution_count": 19,
     "metadata": {},
     "output_type": "execute_result"
    }
   ],
   "source": [
    "# 교차 검증\n",
    "grid_model = GridSearchCV(model_pipe, param_grid={}, cv=3 , scoring='f1', n_jobs=-1)\n",
    "grid_model.fit(X_train,Y_train)"
   ]
  },
  {
   "cell_type": "code",
   "execution_count": 21,
   "id": "bd25e10c-b7af-4273-82fa-bde5b4d4c160",
   "metadata": {
    "executionInfo": {
     "elapsed": 8,
     "status": "ok",
     "timestamp": 1716181460184,
     "user": {
      "displayName": "Ran Kim",
      "userId": "01732261049084043415"
     },
     "user_tz": -540
    },
    "id": "bd25e10c-b7af-4273-82fa-bde5b4d4c160"
   },
   "outputs": [],
   "source": [
    "best_model = grid_model.best_estimator_"
   ]
  },
  {
   "cell_type": "code",
   "execution_count": 22,
   "id": "4LDGT6Ym8U2x",
   "metadata": {
    "executionInfo": {
     "elapsed": 8,
     "status": "ok",
     "timestamp": 1716181460184,
     "user": {
      "displayName": "Ran Kim",
      "userId": "01732261049084043415"
     },
     "user_tz": -540
    },
    "id": "4LDGT6Ym8U2x"
   },
   "outputs": [],
   "source": [
    "def eval_func1(best_model) :\n",
    "  Y_train_pred = best_model.predict(X_train)\n",
    "  Y_test_pred = best_model.predict(X_test)\n",
    "  print('학습 성능')\n",
    "  print(classification_report(Y_train,Y_train_pred))\n",
    "  print('일반화 성능')\n",
    "  print(classification_report(Y_test,Y_test_pred))\n"
   ]
  },
  {
   "cell_type": "code",
   "execution_count": 51,
   "id": "6U5nfze_9Ezu",
   "metadata": {
    "colab": {
     "base_uri": "https://localhost:8080/"
    },
    "executionInfo": {
     "elapsed": 7,
     "status": "ok",
     "timestamp": 1716181460184,
     "user": {
      "displayName": "Ran Kim",
      "userId": "01732261049084043415"
     },
     "user_tz": -540
    },
    "id": "6U5nfze_9Ezu",
    "outputId": "2278b3a5-0938-48e7-a396-78fc32763d4d"
   },
   "outputs": [
    {
     "name": "stdout",
     "output_type": "stream",
     "text": [
      "학습 성능\n",
      "              precision    recall  f1-score   support\n",
      "\n",
      "           0       0.98      0.83      0.90      1247\n",
      "           1       0.42      0.91      0.58       173\n",
      "\n",
      "    accuracy                           0.84      1420\n",
      "   macro avg       0.70      0.87      0.74      1420\n",
      "weighted avg       0.92      0.84      0.86      1420\n",
      "\n",
      "일반화 성능\n",
      "              precision    recall  f1-score   support\n",
      "\n",
      "           0       0.91      0.73      0.81       420\n",
      "           1       0.17      0.43      0.24        54\n",
      "\n",
      "    accuracy                           0.69       474\n",
      "   macro avg       0.54      0.58      0.52       474\n",
      "weighted avg       0.82      0.69      0.74       474\n",
      "\n"
     ]
    }
   ],
   "source": [
    "eval_func1(best_model)"
   ]
  },
  {
   "cell_type": "markdown",
   "id": "jLWJwMzC92YZ",
   "metadata": {
    "id": "jLWJwMzC92YZ"
   },
   "source": [
    "# 특성 추출 (Feature Selection)\n",
    "- 변수(X)들의 부분집합을 선택하여 모델의 중요하지 않는 변수를 제거/ 모델의 복잡도가 감소하고 성능이 향상\n",
    "- 차원의 저주 : 항목의 수(X)가 많을 때, 학습이 어려워지고 학습에 사용되는 자원이 많아져 학습의 성능이 저하되는 현상"
   ]
  },
  {
   "cell_type": "code",
   "execution_count": 52,
   "id": "Vgexrs64-Ghj",
   "metadata": {
    "executionInfo": {
     "elapsed": 7,
     "status": "ok",
     "timestamp": 1716181460184,
     "user": {
      "displayName": "Ran Kim",
      "userId": "01732261049084043415"
     },
     "user_tz": -540
    },
    "id": "Vgexrs64-Ghj"
   },
   "outputs": [],
   "source": [
    "from sklearn.feature_selection import SelectKBest # 특정 K 개만 X가 선택되어 학습 되도록\n",
    "from sklearn.feature_selection import f_classif # F통계량을 집단 별로 계산\n",
    "\n",
    "# ANOVA 분석의 F 통계량을 이용하여, 유의미한 X변수만 추출\n",
    "# 같은 그룹내 분산이 작고, 다른 그룹 간의 분산이 거리가 큰 경우 해당하는 데이터를 찾아 변수를 선택"
   ]
  },
  {
   "cell_type": "code",
   "execution_count": 53,
   "id": "Z6_LV0_M_fgy",
   "metadata": {
    "colab": {
     "base_uri": "https://localhost:8080/",
     "height": 296
    },
    "executionInfo": {
     "elapsed": 7,
     "status": "ok",
     "timestamp": 1716181460184,
     "user": {
      "displayName": "Ran Kim",
      "userId": "01732261049084043415"
     },
     "user_tz": -540
    },
    "id": "Z6_LV0_M_fgy",
    "outputId": "f3dbff67-6f2a-4ce3-cd1f-7753dbf4a4bf"
   },
   "outputs": [
    {
     "data": {
      "text/html": [
       "<style>#sk-container-id-7 {color: black;background-color: white;}#sk-container-id-7 pre{padding: 0;}#sk-container-id-7 div.sk-toggleable {background-color: white;}#sk-container-id-7 label.sk-toggleable__label {cursor: pointer;display: block;width: 100%;margin-bottom: 0;padding: 0.3em;box-sizing: border-box;text-align: center;}#sk-container-id-7 label.sk-toggleable__label-arrow:before {content: \"▸\";float: left;margin-right: 0.25em;color: #696969;}#sk-container-id-7 label.sk-toggleable__label-arrow:hover:before {color: black;}#sk-container-id-7 div.sk-estimator:hover label.sk-toggleable__label-arrow:before {color: black;}#sk-container-id-7 div.sk-toggleable__content {max-height: 0;max-width: 0;overflow: hidden;text-align: left;background-color: #f0f8ff;}#sk-container-id-7 div.sk-toggleable__content pre {margin: 0.2em;color: black;border-radius: 0.25em;background-color: #f0f8ff;}#sk-container-id-7 input.sk-toggleable__control:checked~div.sk-toggleable__content {max-height: 200px;max-width: 100%;overflow: auto;}#sk-container-id-7 input.sk-toggleable__control:checked~label.sk-toggleable__label-arrow:before {content: \"▾\";}#sk-container-id-7 div.sk-estimator input.sk-toggleable__control:checked~label.sk-toggleable__label {background-color: #d4ebff;}#sk-container-id-7 div.sk-label input.sk-toggleable__control:checked~label.sk-toggleable__label {background-color: #d4ebff;}#sk-container-id-7 input.sk-hidden--visually {border: 0;clip: rect(1px 1px 1px 1px);clip: rect(1px, 1px, 1px, 1px);height: 1px;margin: -1px;overflow: hidden;padding: 0;position: absolute;width: 1px;}#sk-container-id-7 div.sk-estimator {font-family: monospace;background-color: #f0f8ff;border: 1px dotted black;border-radius: 0.25em;box-sizing: border-box;margin-bottom: 0.5em;}#sk-container-id-7 div.sk-estimator:hover {background-color: #d4ebff;}#sk-container-id-7 div.sk-parallel-item::after {content: \"\";width: 100%;border-bottom: 1px solid gray;flex-grow: 1;}#sk-container-id-7 div.sk-label:hover label.sk-toggleable__label {background-color: #d4ebff;}#sk-container-id-7 div.sk-serial::before {content: \"\";position: absolute;border-left: 1px solid gray;box-sizing: border-box;top: 0;bottom: 0;left: 50%;z-index: 0;}#sk-container-id-7 div.sk-serial {display: flex;flex-direction: column;align-items: center;background-color: white;padding-right: 0.2em;padding-left: 0.2em;position: relative;}#sk-container-id-7 div.sk-item {position: relative;z-index: 1;}#sk-container-id-7 div.sk-parallel {display: flex;align-items: stretch;justify-content: center;background-color: white;position: relative;}#sk-container-id-7 div.sk-item::before, #sk-container-id-7 div.sk-parallel-item::before {content: \"\";position: absolute;border-left: 1px solid gray;box-sizing: border-box;top: 0;bottom: 0;left: 50%;z-index: -1;}#sk-container-id-7 div.sk-parallel-item {display: flex;flex-direction: column;z-index: 1;position: relative;background-color: white;}#sk-container-id-7 div.sk-parallel-item:first-child::after {align-self: flex-end;width: 50%;}#sk-container-id-7 div.sk-parallel-item:last-child::after {align-self: flex-start;width: 50%;}#sk-container-id-7 div.sk-parallel-item:only-child::after {width: 0;}#sk-container-id-7 div.sk-dashed-wrapped {border: 1px dashed gray;margin: 0 0.4em 0.5em 0.4em;box-sizing: border-box;padding-bottom: 0.4em;background-color: white;}#sk-container-id-7 div.sk-label label {font-family: monospace;font-weight: bold;display: inline-block;line-height: 1.2em;}#sk-container-id-7 div.sk-label-container {text-align: center;}#sk-container-id-7 div.sk-container {/* jupyter's `normalize.less` sets `[hidden] { display: none; }` but bootstrap.min.css set `[hidden] { display: none !important; }` so we also need the `!important` here to be able to override the default hidden behavior on the sphinx rendered scikit-learn.org. See: https://github.com/scikit-learn/scikit-learn/issues/21755 */display: inline-block !important;position: relative;}#sk-container-id-7 div.sk-text-repr-fallback {display: none;}</style><div id=\"sk-container-id-7\" class=\"sk-top-container\"><div class=\"sk-text-repr-fallback\"><pre>Pipeline(steps=[(&#x27;columntransformer&#x27;,\n",
       "                 ColumnTransformer(transformers=[(&#x27;pipeline-1&#x27;,\n",
       "                                                  Pipeline(steps=[(&#x27;simpleimputer&#x27;,\n",
       "                                                                   SimpleImputer(strategy=&#x27;median&#x27;)),\n",
       "                                                                  (&#x27;minmaxscaler&#x27;,\n",
       "                                                                   MinMaxScaler())]),\n",
       "                                                  Index([&#x27;연령&#x27;, &#x27;체중&#x27;, &#x27;신장&#x27;, &#x27;통증기간(월)&#x27;, &#x27;헤모글로빈수치&#x27;], dtype=&#x27;object&#x27;)),\n",
       "                                                 (&#x27;pipeline-2&#x27;,\n",
       "                                                  Pipeline(steps=[(&#x27;simpleimputer&#x27;,\n",
       "                                                                   SimpleImputer(strategy=&#x27;most_frequent&#x27;)),\n",
       "                                                                  (&#x27;onehotencoder&#x27;,\n",
       "                                                                   OneHotEncoder())]),\n",
       "                                                  Index([&#x27;수술기법&#x27;], dtype=&#x27;object&#x27;))])),\n",
       "                (&#x27;smoteenn&#x27;, SMOTEENN()), (&#x27;selectkbest&#x27;, SelectKBest(k=3)),\n",
       "                (&#x27;decisiontreeclassifier&#x27;, DecisionTreeClassifier())])</pre><b>In a Jupyter environment, please rerun this cell to show the HTML representation or trust the notebook. <br />On GitHub, the HTML representation is unable to render, please try loading this page with nbviewer.org.</b></div><div class=\"sk-container\" hidden><div class=\"sk-item sk-dashed-wrapped\"><div class=\"sk-label-container\"><div class=\"sk-label sk-toggleable\"><input class=\"sk-toggleable__control sk-hidden--visually\" id=\"sk-estimator-id-65\" type=\"checkbox\" ><label for=\"sk-estimator-id-65\" class=\"sk-toggleable__label sk-toggleable__label-arrow\">Pipeline</label><div class=\"sk-toggleable__content\"><pre>Pipeline(steps=[(&#x27;columntransformer&#x27;,\n",
       "                 ColumnTransformer(transformers=[(&#x27;pipeline-1&#x27;,\n",
       "                                                  Pipeline(steps=[(&#x27;simpleimputer&#x27;,\n",
       "                                                                   SimpleImputer(strategy=&#x27;median&#x27;)),\n",
       "                                                                  (&#x27;minmaxscaler&#x27;,\n",
       "                                                                   MinMaxScaler())]),\n",
       "                                                  Index([&#x27;연령&#x27;, &#x27;체중&#x27;, &#x27;신장&#x27;, &#x27;통증기간(월)&#x27;, &#x27;헤모글로빈수치&#x27;], dtype=&#x27;object&#x27;)),\n",
       "                                                 (&#x27;pipeline-2&#x27;,\n",
       "                                                  Pipeline(steps=[(&#x27;simpleimputer&#x27;,\n",
       "                                                                   SimpleImputer(strategy=&#x27;most_frequent&#x27;)),\n",
       "                                                                  (&#x27;onehotencoder&#x27;,\n",
       "                                                                   OneHotEncoder())]),\n",
       "                                                  Index([&#x27;수술기법&#x27;], dtype=&#x27;object&#x27;))])),\n",
       "                (&#x27;smoteenn&#x27;, SMOTEENN()), (&#x27;selectkbest&#x27;, SelectKBest(k=3)),\n",
       "                (&#x27;decisiontreeclassifier&#x27;, DecisionTreeClassifier())])</pre></div></div></div><div class=\"sk-serial\"><div class=\"sk-item sk-dashed-wrapped\"><div class=\"sk-label-container\"><div class=\"sk-label sk-toggleable\"><input class=\"sk-toggleable__control sk-hidden--visually\" id=\"sk-estimator-id-66\" type=\"checkbox\" ><label for=\"sk-estimator-id-66\" class=\"sk-toggleable__label sk-toggleable__label-arrow\">columntransformer: ColumnTransformer</label><div class=\"sk-toggleable__content\"><pre>ColumnTransformer(transformers=[(&#x27;pipeline-1&#x27;,\n",
       "                                 Pipeline(steps=[(&#x27;simpleimputer&#x27;,\n",
       "                                                  SimpleImputer(strategy=&#x27;median&#x27;)),\n",
       "                                                 (&#x27;minmaxscaler&#x27;,\n",
       "                                                  MinMaxScaler())]),\n",
       "                                 Index([&#x27;연령&#x27;, &#x27;체중&#x27;, &#x27;신장&#x27;, &#x27;통증기간(월)&#x27;, &#x27;헤모글로빈수치&#x27;], dtype=&#x27;object&#x27;)),\n",
       "                                (&#x27;pipeline-2&#x27;,\n",
       "                                 Pipeline(steps=[(&#x27;simpleimputer&#x27;,\n",
       "                                                  SimpleImputer(strategy=&#x27;most_frequent&#x27;)),\n",
       "                                                 (&#x27;onehotencoder&#x27;,\n",
       "                                                  OneHotEncoder())]),\n",
       "                                 Index([&#x27;수술기법&#x27;], dtype=&#x27;object&#x27;))])</pre></div></div></div><div class=\"sk-parallel\"><div class=\"sk-parallel-item\"><div class=\"sk-item\"><div class=\"sk-label-container\"><div class=\"sk-label sk-toggleable\"><input class=\"sk-toggleable__control sk-hidden--visually\" id=\"sk-estimator-id-67\" type=\"checkbox\" ><label for=\"sk-estimator-id-67\" class=\"sk-toggleable__label sk-toggleable__label-arrow\">pipeline-1</label><div class=\"sk-toggleable__content\"><pre>Index([&#x27;연령&#x27;, &#x27;체중&#x27;, &#x27;신장&#x27;, &#x27;통증기간(월)&#x27;, &#x27;헤모글로빈수치&#x27;], dtype=&#x27;object&#x27;)</pre></div></div></div><div class=\"sk-serial\"><div class=\"sk-item\"><div class=\"sk-serial\"><div class=\"sk-item\"><div class=\"sk-estimator sk-toggleable\"><input class=\"sk-toggleable__control sk-hidden--visually\" id=\"sk-estimator-id-68\" type=\"checkbox\" ><label for=\"sk-estimator-id-68\" class=\"sk-toggleable__label sk-toggleable__label-arrow\">SimpleImputer</label><div class=\"sk-toggleable__content\"><pre>SimpleImputer(strategy=&#x27;median&#x27;)</pre></div></div></div><div class=\"sk-item\"><div class=\"sk-estimator sk-toggleable\"><input class=\"sk-toggleable__control sk-hidden--visually\" id=\"sk-estimator-id-69\" type=\"checkbox\" ><label for=\"sk-estimator-id-69\" class=\"sk-toggleable__label sk-toggleable__label-arrow\">MinMaxScaler</label><div class=\"sk-toggleable__content\"><pre>MinMaxScaler()</pre></div></div></div></div></div></div></div></div><div class=\"sk-parallel-item\"><div class=\"sk-item\"><div class=\"sk-label-container\"><div class=\"sk-label sk-toggleable\"><input class=\"sk-toggleable__control sk-hidden--visually\" id=\"sk-estimator-id-70\" type=\"checkbox\" ><label for=\"sk-estimator-id-70\" class=\"sk-toggleable__label sk-toggleable__label-arrow\">pipeline-2</label><div class=\"sk-toggleable__content\"><pre>Index([&#x27;수술기법&#x27;], dtype=&#x27;object&#x27;)</pre></div></div></div><div class=\"sk-serial\"><div class=\"sk-item\"><div class=\"sk-serial\"><div class=\"sk-item\"><div class=\"sk-estimator sk-toggleable\"><input class=\"sk-toggleable__control sk-hidden--visually\" id=\"sk-estimator-id-71\" type=\"checkbox\" ><label for=\"sk-estimator-id-71\" class=\"sk-toggleable__label sk-toggleable__label-arrow\">SimpleImputer</label><div class=\"sk-toggleable__content\"><pre>SimpleImputer(strategy=&#x27;most_frequent&#x27;)</pre></div></div></div><div class=\"sk-item\"><div class=\"sk-estimator sk-toggleable\"><input class=\"sk-toggleable__control sk-hidden--visually\" id=\"sk-estimator-id-72\" type=\"checkbox\" ><label for=\"sk-estimator-id-72\" class=\"sk-toggleable__label sk-toggleable__label-arrow\">OneHotEncoder</label><div class=\"sk-toggleable__content\"><pre>OneHotEncoder()</pre></div></div></div></div></div></div></div></div></div></div><div class=\"sk-item\"><div class=\"sk-estimator sk-toggleable\"><input class=\"sk-toggleable__control sk-hidden--visually\" id=\"sk-estimator-id-73\" type=\"checkbox\" ><label for=\"sk-estimator-id-73\" class=\"sk-toggleable__label sk-toggleable__label-arrow\">SMOTEENN</label><div class=\"sk-toggleable__content\"><pre>SMOTEENN()</pre></div></div></div><div class=\"sk-item\"><div class=\"sk-estimator sk-toggleable\"><input class=\"sk-toggleable__control sk-hidden--visually\" id=\"sk-estimator-id-74\" type=\"checkbox\" ><label for=\"sk-estimator-id-74\" class=\"sk-toggleable__label sk-toggleable__label-arrow\">SelectKBest</label><div class=\"sk-toggleable__content\"><pre>SelectKBest(k=3)</pre></div></div></div><div class=\"sk-item\"><div class=\"sk-estimator sk-toggleable\"><input class=\"sk-toggleable__control sk-hidden--visually\" id=\"sk-estimator-id-75\" type=\"checkbox\" ><label for=\"sk-estimator-id-75\" class=\"sk-toggleable__label sk-toggleable__label-arrow\">DecisionTreeClassifier</label><div class=\"sk-toggleable__content\"><pre>DecisionTreeClassifier()</pre></div></div></div></div></div></div></div>"
      ],
      "text/plain": [
       "Pipeline(steps=[('columntransformer',\n",
       "                 ColumnTransformer(transformers=[('pipeline-1',\n",
       "                                                  Pipeline(steps=[('simpleimputer',\n",
       "                                                                   SimpleImputer(strategy='median')),\n",
       "                                                                  ('minmaxscaler',\n",
       "                                                                   MinMaxScaler())]),\n",
       "                                                  Index(['연령', '체중', '신장', '통증기간(월)', '헤모글로빈수치'], dtype='object')),\n",
       "                                                 ('pipeline-2',\n",
       "                                                  Pipeline(steps=[('simpleimputer',\n",
       "                                                                   SimpleImputer(strategy='most_frequent')),\n",
       "                                                                  ('onehotencoder',\n",
       "                                                                   OneHotEncoder())]),\n",
       "                                                  Index(['수술기법'], dtype='object'))])),\n",
       "                ('smoteenn', SMOTEENN()), ('selectkbest', SelectKBest(k=3)),\n",
       "                ('decisiontreeclassifier', DecisionTreeClassifier())])"
      ]
     },
     "execution_count": 53,
     "metadata": {},
     "output_type": "execute_result"
    }
   ],
   "source": [
    "model_pipe2 = make_pipeline(prepro_pipe, SMOTEENN(), SelectKBest(f_classif,k=3), DecisionTreeClassifier())\n",
    "model_pipe2.fit(X_train,Y_train)"
   ]
  },
  {
   "cell_type": "code",
   "execution_count": 54,
   "id": "OLrOl-wr_0QS",
   "metadata": {
    "colab": {
     "base_uri": "https://localhost:8080/"
    },
    "executionInfo": {
     "elapsed": 6,
     "status": "ok",
     "timestamp": 1716181460184,
     "user": {
      "displayName": "Ran Kim",
      "userId": "01732261049084043415"
     },
     "user_tz": -540
    },
    "id": "OLrOl-wr_0QS",
    "outputId": "8500d99c-d45a-42c9-fd56-99f6bf70fb7d"
   },
   "outputs": [
    {
     "data": {
      "text/plain": [
       "array([ True,  True, False, False, False,  True, False])"
      ]
     },
     "execution_count": 54,
     "metadata": {},
     "output_type": "execute_result"
    }
   ],
   "source": [
    "# 변수선택법에 의해 선택된 3가지 X 집단을 확인\n",
    "model_pipe2['selectkbest'].get_support()"
   ]
  },
  {
   "cell_type": "code",
   "execution_count": 55,
   "id": "yACCTLco_9vI",
   "metadata": {
    "colab": {
     "base_uri": "https://localhost:8080/"
    },
    "executionInfo": {
     "elapsed": 629,
     "status": "ok",
     "timestamp": 1716181460808,
     "user": {
      "displayName": "Ran Kim",
      "userId": "01732261049084043415"
     },
     "user_tz": -540
    },
    "id": "yACCTLco_9vI",
    "outputId": "490ec950-b1cc-4eb4-cfba-fbd2a60e02e0"
   },
   "outputs": [
    {
     "data": {
      "text/plain": [
       "array([0, 1, 5])"
      ]
     },
     "execution_count": 55,
     "metadata": {},
     "output_type": "execute_result"
    }
   ],
   "source": [
    "model_pipe2['selectkbest'].get_support(indices=True) # 선택된 column의 번호가 출력"
   ]
  },
  {
   "cell_type": "code",
   "execution_count": 56,
   "id": "ngu2-HHtAO8t",
   "metadata": {
    "executionInfo": {
     "elapsed": 6,
     "status": "ok",
     "timestamp": 1716181460808,
     "user": {
      "displayName": "Ran Kim",
      "userId": "01732261049084043415"
     },
     "user_tz": -540
    },
    "id": "ngu2-HHtAO8t"
   },
   "outputs": [],
   "source": [
    "col_list = model_pipe2['columntransformer'].get_feature_names_out() # 파이프라인에 의해 처리된 X변수 명이 순서대로 출력"
   ]
  },
  {
   "cell_type": "code",
   "execution_count": 57,
   "id": "p4c0WAoABCc3",
   "metadata": {
    "executionInfo": {
     "elapsed": 5,
     "status": "ok",
     "timestamp": 1716181460808,
     "user": {
      "displayName": "Ran Kim",
      "userId": "01732261049084043415"
     },
     "user_tz": -540
    },
    "id": "p4c0WAoABCc3"
   },
   "outputs": [],
   "source": [
    "# 파이프라인에서 구성된 X변수 이름에 번호를 부여하여, 선택된 Column 확인\n",
    "col_dict = dict(zip( range(0, len(col_list)), col_list))"
   ]
  },
  {
   "cell_type": "code",
   "execution_count": 58,
   "id": "4AAPbWICBeAu",
   "metadata": {
    "colab": {
     "base_uri": "https://localhost:8080/"
    },
    "executionInfo": {
     "elapsed": 5,
     "status": "ok",
     "timestamp": 1716181460808,
     "user": {
      "displayName": "Ran Kim",
      "userId": "01732261049084043415"
     },
     "user_tz": -540
    },
    "id": "4AAPbWICBeAu",
    "outputId": "6aba7d17-81ea-4981-c74d-56cfdf5ffc90"
   },
   "outputs": [
    {
     "data": {
      "text/plain": [
       "['pipeline-1__연령', 'pipeline-1__체중', 'pipeline-2__수술기법_IELD']"
      ]
     },
     "execution_count": 58,
     "metadata": {},
     "output_type": "execute_result"
    }
   ],
   "source": [
    "select_num = model_pipe2['selectkbest'].get_support(indices=True)\n",
    "list(map(col_dict.get,select_num)) # 특성추출 함수에 의해 선택된 Column숫자 번호와, 파이프라인 내 Column이름을 맵핑"
   ]
  },
  {
   "cell_type": "code",
   "execution_count": 59,
   "id": "pPNTlpyyBwpF",
   "metadata": {
    "executionInfo": {
     "elapsed": 4,
     "status": "ok",
     "timestamp": 1716181460808,
     "user": {
      "displayName": "Ran Kim",
      "userId": "01732261049084043415"
     },
     "user_tz": -540
    },
    "id": "pPNTlpyyBwpF"
   },
   "outputs": [],
   "source": [
    "# 연속형 X 자료가 매우 많아 차원의 저주 현상 발생이 우려되는 경우 / 통계적으로 유의미한 X 값을 찾아 모델을 구성하고자 할 때"
   ]
  },
  {
   "cell_type": "code",
   "execution_count": 63,
   "id": "Fjzfe3gLYWb1",
   "metadata": {
    "colab": {
     "base_uri": "https://localhost:8080/",
     "height": 143
    },
    "executionInfo": {
     "elapsed": 296,
     "status": "ok",
     "timestamp": 1716181645182,
     "user": {
      "displayName": "Ran Kim",
      "userId": "01732261049084043415"
     },
     "user_tz": -540
    },
    "id": "Fjzfe3gLYWb1",
    "outputId": "2e6549c6-9ea9-4406-fb74-4824e70e4a96"
   },
   "outputs": [
    {
     "data": {
      "application/vnd.google.colaboratory.intrinsic+json": {
       "summary": "{\n  \"name\": \"pd\",\n  \"rows\": 2,\n  \"fields\": [\n    {\n      \"column\": \"\\uc218\\uc220\\uae30\\ubc95\",\n      \"properties\": {\n        \"dtype\": \"string\",\n        \"num_unique_values\": 2,\n        \"samples\": [\n          \"TELD\",\n          \"IELD\"\n        ],\n        \"semantic_type\": \"\",\n        \"description\": \"\"\n      }\n    },\n    {\n      \"column\": 0,\n      \"properties\": {\n        \"dtype\": \"number\",\n        \"std\": 1018,\n        \"min\": 130,\n        \"max\": 1571,\n        \"num_unique_values\": 2,\n        \"samples\": [\n          1571,\n          130\n        ],\n        \"semantic_type\": \"\",\n        \"description\": \"\"\n      }\n    },\n    {\n      \"column\": 1,\n      \"properties\": {\n        \"dtype\": \"number\",\n        \"std\": 65,\n        \"min\": 10,\n        \"max\": 102,\n        \"num_unique_values\": 2,\n        \"samples\": [\n          102,\n          10\n        ],\n        \"semantic_type\": \"\",\n        \"description\": \"\"\n      }\n    }\n  ]\n}",
       "type": "dataframe"
      },
      "text/html": [
       "\n",
       "  <div id=\"df-6794f8c5-bf80-4630-8c70-9f59ff254cf8\" class=\"colab-df-container\">\n",
       "    <div>\n",
       "<style scoped>\n",
       "    .dataframe tbody tr th:only-of-type {\n",
       "        vertical-align: middle;\n",
       "    }\n",
       "\n",
       "    .dataframe tbody tr th {\n",
       "        vertical-align: top;\n",
       "    }\n",
       "\n",
       "    .dataframe thead th {\n",
       "        text-align: right;\n",
       "    }\n",
       "</style>\n",
       "<table border=\"1\" class=\"dataframe\">\n",
       "  <thead>\n",
       "    <tr style=\"text-align: right;\">\n",
       "      <th>수술실패여부</th>\n",
       "      <th>0</th>\n",
       "      <th>1</th>\n",
       "    </tr>\n",
       "    <tr>\n",
       "      <th>수술기법</th>\n",
       "      <th></th>\n",
       "      <th></th>\n",
       "    </tr>\n",
       "  </thead>\n",
       "  <tbody>\n",
       "    <tr>\n",
       "      <th>IELD</th>\n",
       "      <td>130</td>\n",
       "      <td>10</td>\n",
       "    </tr>\n",
       "    <tr>\n",
       "      <th>TELD</th>\n",
       "      <td>1571</td>\n",
       "      <td>102</td>\n",
       "    </tr>\n",
       "  </tbody>\n",
       "</table>\n",
       "</div>\n",
       "    <div class=\"colab-df-buttons\">\n",
       "\n",
       "  <div class=\"colab-df-container\">\n",
       "    <button class=\"colab-df-convert\" onclick=\"convertToInteractive('df-6794f8c5-bf80-4630-8c70-9f59ff254cf8')\"\n",
       "            title=\"Convert this dataframe to an interactive table.\"\n",
       "            style=\"display:none;\">\n",
       "\n",
       "  <svg xmlns=\"http://www.w3.org/2000/svg\" height=\"24px\" viewBox=\"0 -960 960 960\">\n",
       "    <path d=\"M120-120v-720h720v720H120Zm60-500h600v-160H180v160Zm220 220h160v-160H400v160Zm0 220h160v-160H400v160ZM180-400h160v-160H180v160Zm440 0h160v-160H620v160ZM180-180h160v-160H180v160Zm440 0h160v-160H620v160Z\"/>\n",
       "  </svg>\n",
       "    </button>\n",
       "\n",
       "  <style>\n",
       "    .colab-df-container {\n",
       "      display:flex;\n",
       "      gap: 12px;\n",
       "    }\n",
       "\n",
       "    .colab-df-convert {\n",
       "      background-color: #E8F0FE;\n",
       "      border: none;\n",
       "      border-radius: 50%;\n",
       "      cursor: pointer;\n",
       "      display: none;\n",
       "      fill: #1967D2;\n",
       "      height: 32px;\n",
       "      padding: 0 0 0 0;\n",
       "      width: 32px;\n",
       "    }\n",
       "\n",
       "    .colab-df-convert:hover {\n",
       "      background-color: #E2EBFA;\n",
       "      box-shadow: 0px 1px 2px rgba(60, 64, 67, 0.3), 0px 1px 3px 1px rgba(60, 64, 67, 0.15);\n",
       "      fill: #174EA6;\n",
       "    }\n",
       "\n",
       "    .colab-df-buttons div {\n",
       "      margin-bottom: 4px;\n",
       "    }\n",
       "\n",
       "    [theme=dark] .colab-df-convert {\n",
       "      background-color: #3B4455;\n",
       "      fill: #D2E3FC;\n",
       "    }\n",
       "\n",
       "    [theme=dark] .colab-df-convert:hover {\n",
       "      background-color: #434B5C;\n",
       "      box-shadow: 0px 1px 3px 1px rgba(0, 0, 0, 0.15);\n",
       "      filter: drop-shadow(0px 1px 2px rgba(0, 0, 0, 0.3));\n",
       "      fill: #FFFFFF;\n",
       "    }\n",
       "  </style>\n",
       "\n",
       "    <script>\n",
       "      const buttonEl =\n",
       "        document.querySelector('#df-6794f8c5-bf80-4630-8c70-9f59ff254cf8 button.colab-df-convert');\n",
       "      buttonEl.style.display =\n",
       "        google.colab.kernel.accessAllowed ? 'block' : 'none';\n",
       "\n",
       "      async function convertToInteractive(key) {\n",
       "        const element = document.querySelector('#df-6794f8c5-bf80-4630-8c70-9f59ff254cf8');\n",
       "        const dataTable =\n",
       "          await google.colab.kernel.invokeFunction('convertToInteractive',\n",
       "                                                    [key], {});\n",
       "        if (!dataTable) return;\n",
       "\n",
       "        const docLinkHtml = 'Like what you see? Visit the ' +\n",
       "          '<a target=\"_blank\" href=https://colab.research.google.com/notebooks/data_table.ipynb>data table notebook</a>'\n",
       "          + ' to learn more about interactive tables.';\n",
       "        element.innerHTML = '';\n",
       "        dataTable['output_type'] = 'display_data';\n",
       "        await google.colab.output.renderOutput(dataTable, element);\n",
       "        const docLink = document.createElement('div');\n",
       "        docLink.innerHTML = docLinkHtml;\n",
       "        element.appendChild(docLink);\n",
       "      }\n",
       "    </script>\n",
       "  </div>\n",
       "\n",
       "\n",
       "<div id=\"df-d68af22b-9540-4dcf-ba37-b9d9ec8e2a0d\">\n",
       "  <button class=\"colab-df-quickchart\" onclick=\"quickchart('df-d68af22b-9540-4dcf-ba37-b9d9ec8e2a0d')\"\n",
       "            title=\"Suggest charts\"\n",
       "            style=\"display:none;\">\n",
       "\n",
       "<svg xmlns=\"http://www.w3.org/2000/svg\" height=\"24px\"viewBox=\"0 0 24 24\"\n",
       "     width=\"24px\">\n",
       "    <g>\n",
       "        <path d=\"M19 3H5c-1.1 0-2 .9-2 2v14c0 1.1.9 2 2 2h14c1.1 0 2-.9 2-2V5c0-1.1-.9-2-2-2zM9 17H7v-7h2v7zm4 0h-2V7h2v10zm4 0h-2v-4h2v4z\"/>\n",
       "    </g>\n",
       "</svg>\n",
       "  </button>\n",
       "\n",
       "<style>\n",
       "  .colab-df-quickchart {\n",
       "      --bg-color: #E8F0FE;\n",
       "      --fill-color: #1967D2;\n",
       "      --hover-bg-color: #E2EBFA;\n",
       "      --hover-fill-color: #174EA6;\n",
       "      --disabled-fill-color: #AAA;\n",
       "      --disabled-bg-color: #DDD;\n",
       "  }\n",
       "\n",
       "  [theme=dark] .colab-df-quickchart {\n",
       "      --bg-color: #3B4455;\n",
       "      --fill-color: #D2E3FC;\n",
       "      --hover-bg-color: #434B5C;\n",
       "      --hover-fill-color: #FFFFFF;\n",
       "      --disabled-bg-color: #3B4455;\n",
       "      --disabled-fill-color: #666;\n",
       "  }\n",
       "\n",
       "  .colab-df-quickchart {\n",
       "    background-color: var(--bg-color);\n",
       "    border: none;\n",
       "    border-radius: 50%;\n",
       "    cursor: pointer;\n",
       "    display: none;\n",
       "    fill: var(--fill-color);\n",
       "    height: 32px;\n",
       "    padding: 0;\n",
       "    width: 32px;\n",
       "  }\n",
       "\n",
       "  .colab-df-quickchart:hover {\n",
       "    background-color: var(--hover-bg-color);\n",
       "    box-shadow: 0 1px 2px rgba(60, 64, 67, 0.3), 0 1px 3px 1px rgba(60, 64, 67, 0.15);\n",
       "    fill: var(--button-hover-fill-color);\n",
       "  }\n",
       "\n",
       "  .colab-df-quickchart-complete:disabled,\n",
       "  .colab-df-quickchart-complete:disabled:hover {\n",
       "    background-color: var(--disabled-bg-color);\n",
       "    fill: var(--disabled-fill-color);\n",
       "    box-shadow: none;\n",
       "  }\n",
       "\n",
       "  .colab-df-spinner {\n",
       "    border: 2px solid var(--fill-color);\n",
       "    border-color: transparent;\n",
       "    border-bottom-color: var(--fill-color);\n",
       "    animation:\n",
       "      spin 1s steps(1) infinite;\n",
       "  }\n",
       "\n",
       "  @keyframes spin {\n",
       "    0% {\n",
       "      border-color: transparent;\n",
       "      border-bottom-color: var(--fill-color);\n",
       "      border-left-color: var(--fill-color);\n",
       "    }\n",
       "    20% {\n",
       "      border-color: transparent;\n",
       "      border-left-color: var(--fill-color);\n",
       "      border-top-color: var(--fill-color);\n",
       "    }\n",
       "    30% {\n",
       "      border-color: transparent;\n",
       "      border-left-color: var(--fill-color);\n",
       "      border-top-color: var(--fill-color);\n",
       "      border-right-color: var(--fill-color);\n",
       "    }\n",
       "    40% {\n",
       "      border-color: transparent;\n",
       "      border-right-color: var(--fill-color);\n",
       "      border-top-color: var(--fill-color);\n",
       "    }\n",
       "    60% {\n",
       "      border-color: transparent;\n",
       "      border-right-color: var(--fill-color);\n",
       "    }\n",
       "    80% {\n",
       "      border-color: transparent;\n",
       "      border-right-color: var(--fill-color);\n",
       "      border-bottom-color: var(--fill-color);\n",
       "    }\n",
       "    90% {\n",
       "      border-color: transparent;\n",
       "      border-bottom-color: var(--fill-color);\n",
       "    }\n",
       "  }\n",
       "</style>\n",
       "\n",
       "  <script>\n",
       "    async function quickchart(key) {\n",
       "      const quickchartButtonEl =\n",
       "        document.querySelector('#' + key + ' button');\n",
       "      quickchartButtonEl.disabled = true;  // To prevent multiple clicks.\n",
       "      quickchartButtonEl.classList.add('colab-df-spinner');\n",
       "      try {\n",
       "        const charts = await google.colab.kernel.invokeFunction(\n",
       "            'suggestCharts', [key], {});\n",
       "      } catch (error) {\n",
       "        console.error('Error during call to suggestCharts:', error);\n",
       "      }\n",
       "      quickchartButtonEl.classList.remove('colab-df-spinner');\n",
       "      quickchartButtonEl.classList.add('colab-df-quickchart-complete');\n",
       "    }\n",
       "    (() => {\n",
       "      let quickchartButtonEl =\n",
       "        document.querySelector('#df-d68af22b-9540-4dcf-ba37-b9d9ec8e2a0d button');\n",
       "      quickchartButtonEl.style.display =\n",
       "        google.colab.kernel.accessAllowed ? 'block' : 'none';\n",
       "    })();\n",
       "  </script>\n",
       "</div>\n",
       "\n",
       "    </div>\n",
       "  </div>\n"
      ],
      "text/plain": [
       "수술실패여부     0    1\n",
       "수술기법             \n",
       "IELD     130   10\n",
       "TELD    1571  102"
      ]
     },
     "execution_count": 63,
     "metadata": {},
     "output_type": "execute_result"
    }
   ],
   "source": [
    "# X - 범주형 / Y - 범주형 : 두 범주형 항목이 서로 독립인지 아닌지 검정\n",
    "# 귀무가설 : 두 범주형 항목이 서로 독립니다.\n",
    "# 대립가설 : 두 번주형 항목은 서로 독립이 아니다. (두 데이터가 서로 연관성이 있다.)\n",
    "\n",
    "pd.crosstab(df2['수술기법'],df2['수술실패여부'])"
   ]
  },
  {
   "cell_type": "code",
   "execution_count": 62,
   "id": "Kni-yWLCYnXR",
   "metadata": {
    "colab": {
     "base_uri": "https://localhost:8080/"
    },
    "executionInfo": {
     "elapsed": 385,
     "status": "ok",
     "timestamp": 1716181537754,
     "user": {
      "displayName": "Ran Kim",
      "userId": "01732261049084043415"
     },
     "user_tz": -540
    },
    "id": "Kni-yWLCYnXR",
    "outputId": "bcdb938f-73a7-4497-ff0a-36920257ea0d"
   },
   "outputs": [
    {
     "data": {
      "text/plain": [
       "Chi2ContingencyResult(statistic=0.09679763772663866, pvalue=0.755706974329543, dof=1, expected_freq=array([[ 131.35135135,    8.64864865],\n",
       "       [1569.64864865,  103.35135135]]))"
      ]
     },
     "execution_count": 62,
     "metadata": {},
     "output_type": "execute_result"
    }
   ],
   "source": [
    "# 귀무가설 : 수술 기법에 따라 수술실패여부는 서로 독립니다. (서로 연관성이 있다)\n",
    "# 대립가설 : 수술 기법에 따라 서술실패여부는 서로 연관성이 있다. (수술기법에 따라 수술 실패여부가 달라진다)\n",
    "\n",
    "c1 = pd.crosstab(df2['수술기법'],df2['수술실패여부'])\n",
    "stats.chi2_contingency(c1) # pvalue (귀무가설이 참일 확률) > 0.05 / 귀무가설 참\n",
    "# 수술 기법에 따라 수술실패여부는 서로 독립이다.\n",
    "# expected_freq : 모집단을 추정한 추정치"
   ]
  },
  {
   "cell_type": "code",
   "execution_count": null,
   "id": "-TYxBQfQZBB_",
   "metadata": {
    "id": "-TYxBQfQZBB_"
   },
   "outputs": [],
   "source": []
  }
 ],
 "metadata": {
  "colab": {
   "provenance": []
  },
  "kernelspec": {
   "display_name": "Python 3 (ipykernel)",
   "language": "python",
   "name": "python3"
  },
  "language_info": {
   "codemirror_mode": {
    "name": "ipython",
    "version": 3
   },
   "file_extension": ".py",
   "mimetype": "text/x-python",
   "name": "python",
   "nbconvert_exporter": "python",
   "pygments_lexer": "ipython3",
   "version": "3.9.13"
  }
 },
 "nbformat": 4,
 "nbformat_minor": 5
}
