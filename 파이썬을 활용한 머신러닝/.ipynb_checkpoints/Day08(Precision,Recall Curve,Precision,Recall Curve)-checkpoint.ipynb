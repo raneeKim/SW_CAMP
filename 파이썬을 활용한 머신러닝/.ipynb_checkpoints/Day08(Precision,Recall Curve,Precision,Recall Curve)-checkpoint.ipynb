{
 "cells": [
  {
   "cell_type": "code",
   "execution_count": 1,
   "id": "a51ceb2b-d1d8-43d9-bb52-e7365f30d056",
   "metadata": {},
   "outputs": [],
   "source": [
    "import pandas as pd \n",
    "import plotly.express as px \n",
    "import scipy.stats as stats \n",
    "import numpy as np "
   ]
  },
  {
   "cell_type": "code",
   "execution_count": 2,
   "id": "cd55d640-6059-4bcc-943e-8da6483a83fa",
   "metadata": {},
   "outputs": [],
   "source": [
    "df_01 = pd.read_csv('15_Data.csv')\n",
    "df_02 = pd.read_csv('16_Data.csv')"
   ]
  },
  {
   "cell_type": "code",
   "execution_count": 3,
   "id": "c1a44eb6-7f74-49fd-ad4f-4a7b18317204",
   "metadata": {},
   "outputs": [
    {
     "name": "stdout",
     "output_type": "stream",
     "text": [
      "(1894, 16)\n",
      "(1894, 30)\n"
     ]
    }
   ],
   "source": [
    "print(df_01.shape)\n",
    "print(df_02.shape)"
   ]
  },
  {
   "cell_type": "markdown",
   "id": "3ae46d4e-b94b-452a-ae76-ae396069d2da",
   "metadata": {},
   "source": [
    "1. 15_Data.csv데이터와 16_Data.csv데이터를 가져와 \"환자ID\"를 기준으로 병합하여, df1 으로 선언하시오."
   ]
  },
  {
   "cell_type": "code",
   "execution_count": 8,
   "id": "5e1df0fc-765e-4636-8c10-8f56dcdeb208",
   "metadata": {},
   "outputs": [],
   "source": [
    "df1 = pd.merge(df_01, df_02, on='환자ID', how='inner', suffixes=('', '_dupl') )\n",
    "# suffixes = : 병합 하는 두 데이터 테이블의 중복 Column의 이름을 처리 "
   ]
  },
  {
   "cell_type": "code",
   "execution_count": null,
   "id": "20b6572c-a792-4ac3-af24-78ad24b180bd",
   "metadata": {},
   "outputs": [],
   "source": [
    "# '_dupl' 글자가 포함된 Column명을 제외 \n",
    "col_list = [x for x in df1.columns if '_dupl' not in x] \n",
    "df1 = df1[col_list].drop(columns=['Column 1']) # 불필요한 Column 제외 "
   ]
  },
  {
   "cell_type": "markdown",
   "id": "d96cc8ef-398a-4fe1-bb8d-e37097bd18f3",
   "metadata": {},
   "source": [
    "2. 환자 '성별'에 따라 '통증기간(월)', '헤모글로빈수치'의 평균(대표값)의 차이가 있는지 검정 하시오. "
   ]
  },
  {
   "cell_type": "code",
   "execution_count": 26,
   "id": "53ad9a44-b97b-4d1c-994c-68f914aecd57",
   "metadata": {},
   "outputs": [],
   "source": [
    "# 남성 - 1 / 여성 - 2 \n",
    "cond1 = (df1['성별'] == 1 )\n",
    "cond2 = (df1['성별'] == 2 )\n",
    "df_man   = df1.loc[cond1]\n",
    "df_woman = df1.loc[cond2]"
   ]
  },
  {
   "cell_type": "code",
   "execution_count": 30,
   "id": "3ffef968-dc67-4ce7-bb80-e1f10d5151fa",
   "metadata": {},
   "outputs": [
    {
     "name": "stdout",
     "output_type": "stream",
     "text": [
      "NormaltestResult(statistic=1973.5186287263045, pvalue=0.0)\n",
      "NormaltestResult(statistic=824.3852918801933, pvalue=9.705287099600454e-180)\n"
     ]
    }
   ],
   "source": [
    "# 2-1. 통증 기간의 평균(대표값)의 차이가 있는 지 검정 \n",
    "print(stats.normaltest(df_man['통증기간(월)'].dropna())) \n",
    "print(stats.normaltest(df_woman['통증기간(월)'].dropna()))\n",
    "# P.value (귀무가설이 참일 확률) < 0.05"
   ]
  },
  {
   "cell_type": "code",
   "execution_count": 32,
   "id": "5628da21-2eaf-4c38-9620-4afc2e04545a",
   "metadata": {},
   "outputs": [
    {
     "data": {
      "text/plain": [
       "RanksumsResult(statistic=-2.8632608163010476, pvalue=0.004193052551353649)"
      ]
     },
     "execution_count": 32,
     "metadata": {},
     "output_type": "execute_result"
    }
   ],
   "source": [
    "# 성별에 따라 통증기간(월)의 대표값의 차이가 있는가? \n",
    "# 귀무가설 : 두 집단에 따라 통증기간의 중앙값의 차이가 없다. \n",
    "# 대립가설 : 두 집단에 따라 통증기간의 중앙값의 차이가 있다. \n",
    "stats.ranksums(df_man['통증기간(월)'].dropna(), df_woman['통증기간(월)'].dropna())\n",
    "# P.value < 0.05 / 대립가설 참 / 두 집단에 따라 통증기간의 중앙값의 차이가 있다. "
   ]
  },
  {
   "cell_type": "code",
   "execution_count": 33,
   "id": "a6d9f99e-5d7e-4c48-90d8-0e10d7b2c9a2",
   "metadata": {},
   "outputs": [
    {
     "name": "stdout",
     "output_type": "stream",
     "text": [
      "NormaltestResult(statistic=47.48934745656305, pvalue=4.8732559892711056e-11)\n",
      "NormaltestResult(statistic=20.948982718676493, pvalue=2.8247902262087444e-05)\n"
     ]
    }
   ],
   "source": [
    "# 2-2. 헤모글로빈 수치 \n",
    "print(stats.normaltest(df_man['헤모글로빈수치'].dropna())) \n",
    "print(stats.normaltest(df_woman['헤모글로빈수치'].dropna()))"
   ]
  },
  {
   "cell_type": "code",
   "execution_count": 34,
   "id": "de6c070f-59e6-49e9-a420-09b5b84fa490",
   "metadata": {},
   "outputs": [
    {
     "data": {
      "text/plain": [
       "RanksumsResult(statistic=15.835273255347058, pvalue=1.7768558733267522e-56)"
      ]
     },
     "execution_count": 34,
     "metadata": {},
     "output_type": "execute_result"
    }
   ],
   "source": [
    "# 성별에 따라 헤모글로빈 수치의 대표값의 차이가 있는가?\n",
    "# 귀무가설 : 성별에 따라 헤모글로빈 수치의 중앙값의 차이가 없다. \n",
    "# 대립가설 : 성별에 따라 헤모글로빈 수치의 중앙값의 차이가 있다. \n",
    "stats.ranksums(df_man['헤모글로빈수치'].dropna(), df_woman['헤모글로빈수치'].dropna())"
   ]
  },
  {
   "cell_type": "markdown",
   "id": "09af515d-aab4-42af-b4a2-c4003ef8be4e",
   "metadata": {},
   "source": [
    "3. 환자의 '신장'과 '체중'을 이용해 'BMI'수치를 계산하시오. "
   ]
  },
  {
   "cell_type": "code",
   "execution_count": null,
   "id": "c7360456-ac22-45eb-a9b6-11bfb6232bfd",
   "metadata": {},
   "outputs": [],
   "source": [
    "# BMI = '체중' kg / ('신장' m)²\n",
    "df1['BMI'] = df1['체중'] / (df1['신장']*0.01)**2\n",
    "df1['BMI'].describe()"
   ]
  },
  {
   "cell_type": "markdown",
   "id": "dfbce457-f3a1-4798-8472-ddad0344f054",
   "metadata": {},
   "source": [
    "4. 환자의 '흡연여부'와 관련 있는 질병을 확인하고자 한다. '간질성폐질환', '고혈압여부', '당뇨여부', '말초동맥질환여부', '빈혈여부', '신부전여부','암발병여부','우울증여부', '종양진행여부', '혈전합병증여부' 항목들 중, 흡연 여부에 대해 유의미한 차이가 있는 질병을 가설 검정을 통해 찾으시오."
   ]
  },
  {
   "cell_type": "code",
   "execution_count": 41,
   "id": "33a67ad2-fca7-450b-87c9-de059f8816b2",
   "metadata": {},
   "outputs": [
    {
     "data": {
      "text/plain": [
       "흡연여부\n",
       "0    1483\n",
       "1     411\n",
       "Name: count, dtype: int64"
      ]
     },
     "execution_count": 41,
     "metadata": {},
     "output_type": "execute_result"
    }
   ],
   "source": [
    "# 두 범주형 데이터가 서로 독립인지 아닌지 -> Chi2 Sqaure (pd.crosstab()) \n",
    "# 귀무가설 : 흡연 여부에 따라 질병발병여부의 차이가 없다 (두 항목은 서로 독립)\n",
    "# 대립가설 : 흡연 여부에 따라 질병발병여부가 달라질 수 있다. (두 항목은 서로 연관) \n",
    "df1['흡연여부'].value_counts()"
   ]
  },
  {
   "cell_type": "code",
   "execution_count": 47,
   "id": "28bc7742-ae76-403e-84d2-76456cea8d06",
   "metadata": {},
   "outputs": [],
   "source": [
    "diag_list = ['간질성폐질환', '고혈압여부', '당뇨여부', '말초동맥질환여부', \n",
    "             '빈혈여부', '신부전여부','암발병여부','우울증여부', '종양진행여부', '혈전합병증여부']\n",
    "select_list=[] \n",
    "for i in diag_list:\n",
    "    dfn = pd.crosstab(df1['흡연여부'], df1[i])\n",
    "    p_val = stats.chi2_contingency(dfn)[1] # 카이제곱검정의 P.value 값을 계산 \n",
    "    if p_val < 0.05 : # 대립가설 참 (흡연여부와 유의미한 인자) \n",
    "        select_list.append(i)"
   ]
  },
  {
   "cell_type": "code",
   "execution_count": 48,
   "id": "33e145e3-0cf3-4aab-a661-2e479c72139a",
   "metadata": {},
   "outputs": [
    {
     "data": {
      "text/plain": [
       "['빈혈여부']"
      ]
     },
     "execution_count": 48,
     "metadata": {},
     "output_type": "execute_result"
    }
   ],
   "source": [
    "select_list"
   ]
  },
  {
   "cell_type": "markdown",
   "id": "6a8d5d58-150f-4910-b16a-94ecbba5fb30",
   "metadata": {},
   "source": [
    "5. 환자의 '직업'중 가장 많은 직업은 어떤 직업이며, 해당 직업 군의 남/여 성비를 확인하시오."
   ]
  },
  {
   "cell_type": "code",
   "execution_count": null,
   "id": "ffbc4651-bbf9-49eb-bbc9-f88f20da31f5",
   "metadata": {},
   "outputs": [],
   "source": [
    "df1['직업'].value_counts()"
   ]
  },
  {
   "cell_type": "code",
   "execution_count": 56,
   "id": "6ae54252-610c-42d1-99b7-87fddf18baf3",
   "metadata": {},
   "outputs": [
    {
     "data": {
      "text/plain": [
       "성별\n",
       "1    0.641425\n",
       "2    0.358575\n",
       "Name: count, dtype: float64"
      ]
     },
     "execution_count": 56,
     "metadata": {},
     "output_type": "execute_result"
    }
   ],
   "source": [
    "cond1 = (df1['직업']=='사무직')\n",
    "df1.loc[cond1]['성별'].value_counts() / len(df1.loc[cond1])"
   ]
  },
  {
   "cell_type": "markdown",
   "id": "c64e12a4-ec6b-4f38-8eae-f3f96e032af4",
   "metadata": {},
   "source": [
    "6. 수술에 성공했으나, 재발한 환자들의 특성을 살펴보고자 한다. 해당 환자들의 평균연령과 평균 BMI, 남/여 성비의 비율과 직업군의 빈도수를 확인하시오."
   ]
  },
  {
   "cell_type": "code",
   "execution_count": 60,
   "id": "8998427d-b9cb-4c0f-9b22-8928d2722ae8",
   "metadata": {},
   "outputs": [
    {
     "data": {
      "text/plain": [
       "연령     43.725581\n",
       "BMI    25.349856\n",
       "dtype: float64"
      ]
     },
     "execution_count": 60,
     "metadata": {},
     "output_type": "execute_result"
    }
   ],
   "source": [
    "cond1 = (df1['수술실패여부']==0)\n",
    "cond2 = (df1['재발여부']==1)\n",
    "df3 = df1.loc[cond1 & cond2]\n",
    "df3[['연령','BMI']].mean()"
   ]
  },
  {
   "cell_type": "code",
   "execution_count": null,
   "id": "8ed85db8-5876-4d8d-9648-c326ca1fffbd",
   "metadata": {},
   "outputs": [],
   "source": [
    "df3['성별'].value_counts() / len(df3.loc[cond1])"
   ]
  },
  {
   "cell_type": "code",
   "execution_count": null,
   "id": "c4814453-185c-482e-9373-fe0d879ecc23",
   "metadata": {},
   "outputs": [],
   "source": [
    "df3['직업'].value_counts()"
   ]
  },
  {
   "cell_type": "markdown",
   "id": "81d220a6-d408-4032-ac26-114a95c58f84",
   "metadata": {},
   "source": [
    "7. 통증기간과 환자의 통증정도의 상관성이 있는지 가설검정을 수행하여 확인하고, 상관계수를 확인하시오. "
   ]
  },
  {
   "cell_type": "code",
   "execution_count": 65,
   "id": "2d01e735-3347-4e69-803e-2a676fbd0269",
   "metadata": {},
   "outputs": [
    {
     "name": "stdout",
     "output_type": "stream",
     "text": [
      "NormaltestResult(statistic=3018.0450353176952, pvalue=0.0)\n",
      "NormaltestResult(statistic=428.94118757875367, pvalue=7.187942375056807e-94)\n"
     ]
    }
   ],
   "source": [
    "# 7-1. 두 연속형 자료의 정규성 검정 \n",
    "print(stats.normaltest(df1['통증기간(월)'].dropna()))\n",
    "print(stats.normaltest(df1['환자통증정도'].dropna()))"
   ]
  },
  {
   "cell_type": "code",
   "execution_count": 67,
   "id": "83ac47dd-8878-4760-8bca-63af20d60889",
   "metadata": {},
   "outputs": [
    {
     "data": {
      "text/plain": [
       "SignificanceResult(statistic=-0.010676647938840402, pvalue=0.6427450957438059)"
      ]
     },
     "execution_count": 67,
     "metadata": {},
     "output_type": "execute_result"
    }
   ],
   "source": [
    "# 7-2. (Spearman) 두 연속형 자료가 서로 상관성이 있는지 없는지 \n",
    "# 귀무가설 : 두 연속형 자료는 서로 상관성이 없다. \n",
    "# 대립가설 : 두 연속형 자료는 서로 상관성이 있다. \n",
    "df2 = df1[['통증기간(월)', '환자통증정도']].dropna()\n",
    "stats.spearmanr(df2['통증기간(월)'], df2['환자통증정도'])\n",
    "# P.value > 0.05 / 귀무가설 참 / 두 연속형 자료는 서로 상관성이 없다.\n",
    "# 상관계수 : -1% "
   ]
  },
  {
   "cell_type": "code",
   "execution_count": null,
   "id": "eabbe7c5-b248-4f33-9e90-577397ca8ea8",
   "metadata": {},
   "outputs": [],
   "source": [
    "px.scatter(df2, x='통증기간(월)', y='환자통증정도')"
   ]
  },
  {
   "cell_type": "markdown",
   "id": "f90cd3d0-3f31-4537-ab8a-911995ed845c",
   "metadata": {},
   "source": [
    "8. 환자의 신장과 체중을 (+연령) 입력했을 때, BMI수치를 계산하고, 해당 연령대의 환자들의 성별에 따른 평균 헤모글로빈수치, 평균 환자통증정도를 시각화하여 출력하는 함수를 생성하시오."
   ]
  },
  {
   "cell_type": "code",
   "execution_count": 73,
   "id": "ee6000f2-e081-4c28-a7e8-8d06905d387d",
   "metadata": {},
   "outputs": [],
   "source": [
    "def func1(row):\n",
    "    return str(row)[0] + '0대'\n",
    "\n",
    "df1['연령대'] = df1['연령'].apply(func1)"
   ]
  },
  {
   "cell_type": "code",
   "execution_count": 74,
   "id": "903ea04a-3f72-4941-b274-70e18589245d",
   "metadata": {},
   "outputs": [],
   "source": [
    "from plotly.subplots import make_subplots"
   ]
  },
  {
   "cell_type": "code",
   "execution_count": 77,
   "id": "a240ebfb-c470-49bd-a693-34f6363c260e",
   "metadata": {},
   "outputs": [],
   "source": [
    "def func2():\n",
    "    age = input('환자의 연령을 입력 : ')\n",
    "    weight = int(input('환자의 체중을 입력 (Kg) : '))\n",
    "    height = int(input('환자의 신장을 입력 (cm) : '))\n",
    "    bmi = weight / (height*0.01)**2\n",
    "    print('해당 환자의 BMI : ' ,bmi)\n",
    "\n",
    "    cond1 = df1['연령대']== (age[0] +'0대')\n",
    "    p1 = df1.loc[cond1].pivot_table(index='성별',values=['헤모글로빈수치','환자통증정도'],\n",
    "                                    aggfunc='mean').reset_index()\n",
    "    # Subplot 생성\n",
    "    fig = make_subplots(rows=1, cols=2, subplot_titles=('헤모글로빈', '통증정도'))\n",
    "    fig1 = px.bar(p1, x='성별', y='헤모글로빈수치')\n",
    "    fig2 = px.bar(p1, x='성별', y='환자통증정도')\n",
    "    for trace in fig1.data:\n",
    "       fig.add_trace(trace, row=1, col=1)\n",
    "    for trace in fig2.data:\n",
    "       fig.add_trace(trace, row=1, col=2)\n",
    "    return fig"
   ]
  },
  {
   "cell_type": "code",
   "execution_count": null,
   "id": "a41d99d3-6a49-4a83-a53d-c333eef2a2d0",
   "metadata": {},
   "outputs": [],
   "source": [
    "func2()"
   ]
  },
  {
   "cell_type": "markdown",
   "id": "d89cfd38-9c60-4950-81b4-a8c1c4965f79",
   "metadata": {},
   "source": [
    "9. 과거에 수술했던 환자들의 특성을 파악하고자 한다. 해당 환자들의 직업군과 성별의 빈도수를 확인하고, 해당 환자들 중 BMI수치가 높은 상위 5명의 환자 명단을 출력하여 recurs_patient.xlsx로 저장하시오. "
   ]
  },
  {
   "cell_type": "code",
   "execution_count": null,
   "id": "af7b5a8f-0939-4ee2-8f2d-210b79154e82",
   "metadata": {},
   "outputs": [],
   "source": [
    "cond1 = ( df1['과거수술횟수'] != 0 )\n",
    "df1.loc[cond1]['직업'].value_counts()"
   ]
  },
  {
   "cell_type": "code",
   "execution_count": null,
   "id": "8d7b117a-7e71-4878-8999-70ab773111c7",
   "metadata": {},
   "outputs": [],
   "source": [
    "df1.loc[cond1]['성별'].value_counts()"
   ]
  },
  {
   "cell_type": "code",
   "execution_count": 84,
   "id": "3fb945af-fcce-4f60-bfa4-562dcc4a6f26",
   "metadata": {},
   "outputs": [],
   "source": [
    "df1.loc[cond1].sort_values(by='BMI', ascending=False).head().to_excel('recurs_patient.xlsx')"
   ]
  },
  {
   "cell_type": "markdown",
   "id": "52b9a755-b9fc-4ad5-bd97-e1f69f0c33ad",
   "metadata": {},
   "source": [
    "10. 수술실패여부를 목표변수로 환자의 기본 특성을 입력했을 때, 해당 환자가 수술을 실패할 지/ 하지 않을지 분류모델을 만들고자 한다. 아래의 조건을 이용해 분류모델을 생성하시오. \n",
    "    - **단 학습 데이터의 과적합이 발생하면 안되며, 학습 성능 F1 Score 기준 40%이상 나와야 합니다.**"
   ]
  },
  {
   "cell_type": "code",
   "execution_count": 85,
   "id": "3e7407de-3fcb-4a0f-9b43-920a7d499d4a",
   "metadata": {},
   "outputs": [],
   "source": [
    "Y = df1['수술실패여부']\n",
    "X = df1[['수술기법', '성별', '연령', 'BMI', '헤모글로빈수치', '환자통증정도', '통증기간(월)',\n",
    "        '혈액형','직업','흡연여부']]"
   ]
  },
  {
   "cell_type": "code",
   "execution_count": 86,
   "id": "b885ce0f-7a9d-44bc-a137-745f899adc0b",
   "metadata": {},
   "outputs": [
    {
     "data": {
      "text/plain": [
       "수술실패여부\n",
       "0    1779\n",
       "1     115\n",
       "Name: count, dtype: int64"
      ]
     },
     "execution_count": 86,
     "metadata": {},
     "output_type": "execute_result"
    }
   ],
   "source": [
    "Y.value_counts()"
   ]
  },
  {
   "cell_type": "code",
   "execution_count": 87,
   "id": "49f3f2a6-cef4-4b1f-bd0e-31f9849c6da0",
   "metadata": {},
   "outputs": [],
   "source": [
    "from sklearn.model_selection import train_test_split # 학습데이터 검증데이터 분할\n",
    "from imblearn.pipeline import make_pipeline # 파이프라인 설계 \n",
    "from sklearn.compose   import make_column_transformer # 데이터 타입에 따른 병렬처리\n",
    "from sklearn.impute    import SimpleImputer # 결측값 처리 (단순대치)\n",
    "from sklearn.preprocessing import RobustScaler # 스케일링 (중앙값0 / IQR1)\n",
    "from sklearn.preprocessing import OneHotEncoder# 인코딩 (문자)\n",
    "from imblearn.combine import SMOTEENN #불균형 데이터 처리\n",
    "from sklearn.model_selection import GridSearchCV # 교차검증 + 매개변수(하이퍼파라미터)튜닝\n",
    "from sklearn.tree import DecisionTreeClassifier # 학습 알고리즘 \n",
    "from sklearn.metrics import classification_report # 모델 평가 \n",
    "import pickle # 모델을 파일로 저장 "
   ]
  },
  {
   "cell_type": "code",
   "execution_count": 88,
   "id": "bd9b9220-3ee0-4431-a8bb-91ade6025653",
   "metadata": {},
   "outputs": [],
   "source": [
    "# 학습데이터 검증데이터 분할\n",
    "X_train, X_test, Y_train, Y_test = train_test_split(X,Y, random_state=1234)"
   ]
  },
  {
   "cell_type": "code",
   "execution_count": 89,
   "id": "5d1e2558-1a37-4ce2-9048-9d2573a3002d",
   "metadata": {},
   "outputs": [],
   "source": [
    "# 파이프라인 구축 \n",
    "numeric_pipe1 = make_pipeline(SimpleImputer(strategy='mean'), RobustScaler()) # 연속형 \n",
    "numeric_pipe2 = make_pipeline(SimpleImputer(strategy='median'))\n",
    "category_pipe = make_pipeline(SimpleImputer(strategy='most_frequent'), OneHotEncoder())"
   ]
  },
  {
   "cell_type": "code",
   "execution_count": 92,
   "id": "275b78eb-cdd5-4e68-ac64-11a507b20556",
   "metadata": {},
   "outputs": [],
   "source": [
    "numeric_list1 = ['연령', 'BMI', '헤모글로빈수치']\n",
    "numeric_list2 = [ '환자통증정도', '통증기간(월)','흡연여부']\n",
    "category_list = ['수술기법', '성별', '혈액형', '직업']"
   ]
  },
  {
   "cell_type": "code",
   "execution_count": 97,
   "id": "c6e2866d-cdaf-46b8-ae59-e5867292ebe4",
   "metadata": {},
   "outputs": [],
   "source": [
    "prepro_pipe= make_column_transformer( (numeric_pipe1, numeric_list1), \n",
    "                                      (numeric_pipe2, numeric_list2), \n",
    "                                      (category_pipe, category_list) )\n",
    "model_pipe = make_pipeline(prepro_pipe, SMOTEENN(), DecisionTreeClassifier())\n",
    "# model_pipe.fit(X_train, Y_train)"
   ]
  },
  {
   "cell_type": "code",
   "execution_count": 99,
   "id": "a7cd777e-58dc-4017-a129-8ec1adb3fb60",
   "metadata": {},
   "outputs": [],
   "source": [
    "# help(DecisionTreeClassifier)"
   ]
  },
  {
   "cell_type": "code",
   "execution_count": 100,
   "id": "18d9574d-6b89-4cbf-83e3-d074fad383c6",
   "metadata": {},
   "outputs": [],
   "source": [
    "# 교차검증 및 매개변수 튜닝 \n",
    "hyperparameter = {'decisiontreeclassifier__max_depth':range(10,20)}\n",
    "grid_model = GridSearchCV(model_pipe, param_grid=hyperparameter, \n",
    "                         cv=5, scoring='f1', n_jobs=-1)\n",
    "grid_model.fit(X_train,Y_train)\n",
    "best_model = grid_model.best_estimator_"
   ]
  },
  {
   "cell_type": "code",
   "execution_count": 101,
   "id": "a57f9217-766f-4fd5-bb61-3399dbf9d8b4",
   "metadata": {},
   "outputs": [],
   "source": [
    "def  eval_func(model):\n",
    "    Y_train_pred = model.predict(X_train)\n",
    "    Y_test_pred  = model.predict(X_test)\n",
    "    print('학습 능력')\n",
    "    print(classification_report(Y_train, Y_train_pred))\n",
    "    print('일반화 능력')\n",
    "    print(classification_report(Y_test, Y_test_pred))"
   ]
  },
  {
   "cell_type": "code",
   "execution_count": null,
   "id": "a996b4d9-b593-4c17-af17-2f7cb30c6ecc",
   "metadata": {},
   "outputs": [],
   "source": [
    "eval_func(best_model)"
   ]
  },
  {
   "cell_type": "code",
   "execution_count": 103,
   "id": "1a645b2f-12d7-4595-9b40-2f15caa80c8c",
   "metadata": {},
   "outputs": [],
   "source": [
    "pickle.dump(best_model, open('model_medical.sav','wb'))"
   ]
  },
  {
   "cell_type": "markdown",
   "id": "ea027176-3d5a-46ae-a650-738b34f34097",
   "metadata": {},
   "source": [
    "# Precision & Recall Curve "
   ]
  },
  {
   "cell_type": "code",
   "execution_count": 112,
   "id": "3feaf648-a5b1-4ba7-9b23-06f1494fecb2",
   "metadata": {},
   "outputs": [],
   "source": [
    "df1 = pd.read_csv('01_Data.csv')"
   ]
  },
  {
   "cell_type": "code",
   "execution_count": 129,
   "id": "bcfc2267-4fee-469b-9efe-da25bb08da6a",
   "metadata": {},
   "outputs": [],
   "source": [
    "cond1 = df1['State'].isin(['계약확정','기간만료'])\n",
    "df1.loc[cond1, 'Target'] = 0 \n",
    "df1.loc[~cond1, 'Target'] = 1"
   ]
  },
  {
   "cell_type": "code",
   "execution_count": 130,
   "id": "10a07168-1a92-4e30-98ac-402b838969ba",
   "metadata": {},
   "outputs": [],
   "source": [
    "df2 = df1.dropna()"
   ]
  },
  {
   "cell_type": "code",
   "execution_count": 131,
   "id": "4c1567b6-8e91-4e7f-b910-0d6238cf8242",
   "metadata": {},
   "outputs": [],
   "source": [
    "Y = df2['Target']\n",
    "X = df2[['Age', 'Term', 'Credit_Rank','Amount_Month']]"
   ]
  },
  {
   "cell_type": "code",
   "execution_count": 132,
   "id": "bf616a66-d1dd-408f-bb46-f3731ab41be7",
   "metadata": {},
   "outputs": [],
   "source": [
    "X_train, X_test, Y_train, Y_test = train_test_split(X,Y,random_state=1234)"
   ]
  },
  {
   "cell_type": "code",
   "execution_count": 133,
   "id": "abc8de88-c20c-4f43-941c-a820870f3059",
   "metadata": {},
   "outputs": [
    {
     "data": {
      "text/html": [
       "<style>#sk-container-id-5 {color: black;background-color: white;}#sk-container-id-5 pre{padding: 0;}#sk-container-id-5 div.sk-toggleable {background-color: white;}#sk-container-id-5 label.sk-toggleable__label {cursor: pointer;display: block;width: 100%;margin-bottom: 0;padding: 0.3em;box-sizing: border-box;text-align: center;}#sk-container-id-5 label.sk-toggleable__label-arrow:before {content: \"▸\";float: left;margin-right: 0.25em;color: #696969;}#sk-container-id-5 label.sk-toggleable__label-arrow:hover:before {color: black;}#sk-container-id-5 div.sk-estimator:hover label.sk-toggleable__label-arrow:before {color: black;}#sk-container-id-5 div.sk-toggleable__content {max-height: 0;max-width: 0;overflow: hidden;text-align: left;background-color: #f0f8ff;}#sk-container-id-5 div.sk-toggleable__content pre {margin: 0.2em;color: black;border-radius: 0.25em;background-color: #f0f8ff;}#sk-container-id-5 input.sk-toggleable__control:checked~div.sk-toggleable__content {max-height: 200px;max-width: 100%;overflow: auto;}#sk-container-id-5 input.sk-toggleable__control:checked~label.sk-toggleable__label-arrow:before {content: \"▾\";}#sk-container-id-5 div.sk-estimator input.sk-toggleable__control:checked~label.sk-toggleable__label {background-color: #d4ebff;}#sk-container-id-5 div.sk-label input.sk-toggleable__control:checked~label.sk-toggleable__label {background-color: #d4ebff;}#sk-container-id-5 input.sk-hidden--visually {border: 0;clip: rect(1px 1px 1px 1px);clip: rect(1px, 1px, 1px, 1px);height: 1px;margin: -1px;overflow: hidden;padding: 0;position: absolute;width: 1px;}#sk-container-id-5 div.sk-estimator {font-family: monospace;background-color: #f0f8ff;border: 1px dotted black;border-radius: 0.25em;box-sizing: border-box;margin-bottom: 0.5em;}#sk-container-id-5 div.sk-estimator:hover {background-color: #d4ebff;}#sk-container-id-5 div.sk-parallel-item::after {content: \"\";width: 100%;border-bottom: 1px solid gray;flex-grow: 1;}#sk-container-id-5 div.sk-label:hover label.sk-toggleable__label {background-color: #d4ebff;}#sk-container-id-5 div.sk-serial::before {content: \"\";position: absolute;border-left: 1px solid gray;box-sizing: border-box;top: 0;bottom: 0;left: 50%;z-index: 0;}#sk-container-id-5 div.sk-serial {display: flex;flex-direction: column;align-items: center;background-color: white;padding-right: 0.2em;padding-left: 0.2em;position: relative;}#sk-container-id-5 div.sk-item {position: relative;z-index: 1;}#sk-container-id-5 div.sk-parallel {display: flex;align-items: stretch;justify-content: center;background-color: white;position: relative;}#sk-container-id-5 div.sk-item::before, #sk-container-id-5 div.sk-parallel-item::before {content: \"\";position: absolute;border-left: 1px solid gray;box-sizing: border-box;top: 0;bottom: 0;left: 50%;z-index: -1;}#sk-container-id-5 div.sk-parallel-item {display: flex;flex-direction: column;z-index: 1;position: relative;background-color: white;}#sk-container-id-5 div.sk-parallel-item:first-child::after {align-self: flex-end;width: 50%;}#sk-container-id-5 div.sk-parallel-item:last-child::after {align-self: flex-start;width: 50%;}#sk-container-id-5 div.sk-parallel-item:only-child::after {width: 0;}#sk-container-id-5 div.sk-dashed-wrapped {border: 1px dashed gray;margin: 0 0.4em 0.5em 0.4em;box-sizing: border-box;padding-bottom: 0.4em;background-color: white;}#sk-container-id-5 div.sk-label label {font-family: monospace;font-weight: bold;display: inline-block;line-height: 1.2em;}#sk-container-id-5 div.sk-label-container {text-align: center;}#sk-container-id-5 div.sk-container {/* jupyter's `normalize.less` sets `[hidden] { display: none; }` but bootstrap.min.css set `[hidden] { display: none !important; }` so we also need the `!important` here to be able to override the default hidden behavior on the sphinx rendered scikit-learn.org. See: https://github.com/scikit-learn/scikit-learn/issues/21755 */display: inline-block !important;position: relative;}#sk-container-id-5 div.sk-text-repr-fallback {display: none;}</style><div id=\"sk-container-id-5\" class=\"sk-top-container\"><div class=\"sk-text-repr-fallback\"><pre>DecisionTreeClassifier()</pre><b>In a Jupyter environment, please rerun this cell to show the HTML representation or trust the notebook. <br />On GitHub, the HTML representation is unable to render, please try loading this page with nbviewer.org.</b></div><div class=\"sk-container\" hidden><div class=\"sk-item\"><div class=\"sk-estimator sk-toggleable\"><input class=\"sk-toggleable__control sk-hidden--visually\" id=\"sk-estimator-id-35\" type=\"checkbox\" checked><label for=\"sk-estimator-id-35\" class=\"sk-toggleable__label sk-toggleable__label-arrow\">DecisionTreeClassifier</label><div class=\"sk-toggleable__content\"><pre>DecisionTreeClassifier()</pre></div></div></div></div></div>"
      ],
      "text/plain": [
       "DecisionTreeClassifier()"
      ]
     },
     "execution_count": 133,
     "metadata": {},
     "output_type": "execute_result"
    }
   ],
   "source": [
    "model= DecisionTreeClassifier()\n",
    "model.fit(X_train, Y_train)"
   ]
  },
  {
   "cell_type": "code",
   "execution_count": 134,
   "id": "03f592a1-0246-42fe-9f2b-d8049f599816",
   "metadata": {},
   "outputs": [],
   "source": [
    "# 이진 분류 모델에 Threshold를 조정해가며, 분류기준을 변경 \n",
    "# Precision & Recall Curve 활용하여 적정 Threshold를 확인 \n",
    "from sklearn.metrics import precision_recall_curve"
   ]
  },
  {
   "cell_type": "code",
   "execution_count": 135,
   "id": "5c4d6285-03f1-4f53-a12f-388b7d4662bd",
   "metadata": {},
   "outputs": [],
   "source": [
    "predict_class1_proba= model.predict_proba(X_test)[:,1] # 클래스가 1로 분류될 확률만 추출 "
   ]
  },
  {
   "cell_type": "code",
   "execution_count": 136,
   "id": "f355fec7-5db7-4d95-a370-a50d3c8708fc",
   "metadata": {},
   "outputs": [],
   "source": [
    "# precision_recall_curve : 특정 Threshold 값에서의 Recall과 Precision 계산   \n",
    "precision, recall, threshold = precision_recall_curve(Y_test, predict_class1_proba)"
   ]
  },
  {
   "cell_type": "code",
   "execution_count": 137,
   "id": "5e00404e-8c94-44ab-af4a-5339ad42db5c",
   "metadata": {},
   "outputs": [],
   "source": [
    "df_curve = pd.DataFrame()\n",
    "df_curve['precision'] = precision[:-1] # 맨 마지막 값을 제외 \n",
    "df_curve['recall'] = recall[:-1]\n",
    "df_curve['threshold'] = threshold\n",
    "p1 = df_curve.melt(id_vars=['threshold'])"
   ]
  },
  {
   "cell_type": "code",
   "execution_count": null,
   "id": "9c48d3e5-7459-4eef-b955-07d87e75a339",
   "metadata": {},
   "outputs": [],
   "source": [
    "px.line(p1, x='threshold', y='value', color='variable')"
   ]
  },
  {
   "cell_type": "markdown",
   "id": "b0913fc8-7a92-4875-bab2-fcba82345c99",
   "metadata": {},
   "source": [
    "# ROC Curve & AUC \n",
    "- ROC (Receiver Operation Characteristic Curve)\n",
    "- '수신자판단곡선' / 의학 분야에서 이진 분류 모델의 성능 평가 지표로 사용되는 그래프\n",
    "- FPR(False Positive Rate)가 변화함에 따라 TPR(True Positive Rate, Sensitivity, Recall)가 어떻게 변하는지 나타내는 그래프"
   ]
  },
  {
   "cell_type": "code",
   "execution_count": 139,
   "id": "a9d5e685-c45c-4a25-8db4-a4d8a92a9d9b",
   "metadata": {},
   "outputs": [],
   "source": [
    "# metrics : 사이킷 런 평가지표들이 모여있는 모듈 \n",
    "from sklearn.metrics import roc_curve"
   ]
  },
  {
   "cell_type": "code",
   "execution_count": 140,
   "id": "9bcf8b18-e777-4062-8f72-5ceadfa9767f",
   "metadata": {},
   "outputs": [],
   "source": [
    "# roc_curve : FPR , TPR 계산하는 함수 \n",
    "fprs, tprs, threshold= roc_curve(Y_test, predict_class1_proba)"
   ]
  },
  {
   "cell_type": "code",
   "execution_count": 141,
   "id": "27fe24de-b924-45a6-9a46-f3e836220580",
   "metadata": {},
   "outputs": [],
   "source": [
    "df_roc = pd.DataFrame()\n",
    "df_roc['FPR'] = fprs\n",
    "df_roc['TPR'] = tprs\n",
    "df_roc['threshold'] = threshold"
   ]
  },
  {
   "cell_type": "code",
   "execution_count": 142,
   "id": "bc8ed82e-90d3-45a3-859f-54bc2bd7b99b",
   "metadata": {},
   "outputs": [],
   "source": [
    "import plotly.graph_objects as go "
   ]
  },
  {
   "cell_type": "code",
   "execution_count": null,
   "id": "a4c64a7e-8fec-4308-94bf-f97e4f8ef58f",
   "metadata": {},
   "outputs": [],
   "source": [
    "fig1 = px.line(df_roc, x='FPR', y='TPR')\n",
    "fig1.add_trace(go.Scatter(x=[0,1], y=[0,1], mode='lines'))"
   ]
  },
  {
   "cell_type": "code",
   "execution_count": 146,
   "id": "f47b021b-b8f4-4de4-80c1-744a07185083",
   "metadata": {},
   "outputs": [],
   "source": [
    "# AUC (Area Under the Curve) \n",
    "# ROC 곡선 아래쪽 면적을 나타내는 지표 \n",
    "# 0.5 (모델이 랜덤 하게 예측한다 -> 못 맞춘다)  \n",
    "# 1.0 (모델이 완벽하게 예측한다) "
   ]
  },
  {
   "cell_type": "code",
   "execution_count": 147,
   "id": "3431ed63-2959-4cff-887e-10b62cbd532e",
   "metadata": {},
   "outputs": [],
   "source": [
    "from sklearn.metrics import roc_auc_score"
   ]
  },
  {
   "cell_type": "code",
   "execution_count": 149,
   "id": "e2f5e776-f246-49c1-b0a4-ff2ca8267d75",
   "metadata": {},
   "outputs": [],
   "source": [
    "Y_test_pred = model.predict(X_test)"
   ]
  },
  {
   "cell_type": "code",
   "execution_count": 150,
   "id": "9a648236-6a20-4fde-85f8-e8d9faa3c112",
   "metadata": {},
   "outputs": [
    {
     "data": {
      "text/plain": [
       "0.5071773291136633"
      ]
     },
     "execution_count": 150,
     "metadata": {},
     "output_type": "execute_result"
    }
   ],
   "source": [
    "roc_auc_score(Y_test, Y_test_pred)"
   ]
  }
 ],
 "metadata": {
  "kernelspec": {
   "display_name": "Python 3 (ipykernel)",
   "language": "python",
   "name": "python3"
  },
  "language_info": {
   "codemirror_mode": {
    "name": "ipython",
    "version": 3
   },
   "file_extension": ".py",
   "mimetype": "text/x-python",
   "name": "python",
   "nbconvert_exporter": "python",
   "pygments_lexer": "ipython3",
   "version": "3.11.7"
  }
 },
 "nbformat": 4,
 "nbformat_minor": 5
}
