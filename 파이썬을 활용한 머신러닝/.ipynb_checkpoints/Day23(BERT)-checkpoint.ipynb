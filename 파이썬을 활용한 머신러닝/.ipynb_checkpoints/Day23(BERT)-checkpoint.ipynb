{
 "cells": [
  {
   "cell_type": "markdown",
   "id": "abfecd9b-9342-4804-a5ce-85c3f251ab83",
   "metadata": {},
   "source": [
    "# BERT\n",
    "![imge0](https://img1.daumcdn.net/thumb/R1280x0/?scode=mtistory2&fname=https%3A%2F%2Fblog.kakaocdn.net%2Fdn%2FkZl9A%2Fbtrs5ypcO5M%2Fp49zqNvmpcH4jS4i3TRhn1%2Fimg.png)"
   ]
  },
  {
   "cell_type": "markdown",
   "id": "ca0bc463-f401-4b25-861a-3bea45a69f76",
   "metadata": {},
   "source": [
    "- **Bidirectional Encoder Representation from Transformer**\n",
    "- 2018년도 구글이 선택한 Transformer 인코더 아키텍쳐 기반의 **자연어 처리 사전 훈련** 모델\n",
    "- 위키피디아(25억 단어)의 Books Corpus(8억 단어) 레이블이 없는 텍스트를 데이터로 사전 훈련 실시\n",
    "- **Fine Tuning** : 이미 설계된 모델이 다른 작업에 대해 파라미터 재 조정을 위한 추가 훈련 과정\n",
    "\n",
    "- BERT의 구성\n",
    "  - Word Embedding : BERT 단어를 Embadding 하는 3가지 파트가 존재\n",
    "    - Word Piece Embedding : 단어를 벡터형태로 변환하는 Embedding\n",
    "    - Position Embedding : 단어의 위치 정보를 계산하는 Embedding\n",
    "    - Segment Embedding : 각 문장을 구분하는 정보를 갖는 Embedding\n",
    "  - Bidrictional Transformer 구조 (양방향 변환 구조) : BERT는 문장의 앞/뒤 문맥을 동시에 고려하여 각 단어의 의미를 이해하는 (Mask) 구조\n",
    "- BERT 구조의 활용\n",
    "  - Masked Language Model (MLM) : BERT의 핵심적인 훈련 구조로, 텍스트에서 무작위로 단어를 가린 (Masking) 모델이 그 빈자리를 예측하도록 학습\n",
    "  - Next Sentence Prediction (NSP) : BERT가 두 문장이 주어졌을 때, 두 번째 문장이 첫번째 문장의 논리적인 후속 문장인지를 예측하도록 학습"
   ]
  },
  {
   "cell_type": "markdown",
   "id": "15aae292-2808-4ad8-9137-9b09fd0ce5f5",
   "metadata": {},
   "source": [
    "## NLP Pre Training\n",
    "\n",
    "- 대규모의 언어 데이터를 이용하여 미리 만들어진 모델 (Pre Training Model)을 이용해, 다른 모델이나 어플리케이션에 적용하는 방식 (Transfer Lerning)\n",
    "  1. Pre Training Word Embedding : 방대한 자연어 데이터로 Word 2 Vector와 같은 Embedding 알고리즘으로 사전에 학습된 임베딩 벡터를 가져와 사용하는 방버\n",
    "  2. Pre Training Language Modeling : 모델이 주어진 문장을 바탕으로 다음 문장을 예측해나가며 학습하는 사전 학습 방식 (GPT, Generative Pre-Training Transformer)\n",
    "  3. Masked Language Modeling : 문장 내 비어있는 텍스트를 채우도록 훈련하는 방식"
   ]
  },
  {
   "cell_type": "markdown",
   "id": "886e099f-8207-41bc-a4ab-a674e41fd1a4",
   "metadata": {},
   "source": [
    "# MLM\n",
    "\n",
    "- 절차 :\n",
    "  1. 원본 문장 호출 : '나는 고양이와 강아지 중 어떤걸 키울지 고민이야.'\n",
    "  2. 마스킹 실시 : 나는[Mask]와 [Mask] 중 어떤걸 키울지 고민이야.'\n",
    "  3. Transfomer의 Encoder구조를 이용하여, Mask된 부분의 단어를 학습\n",
    "  4. 특정 문장 내 Mask된 부분을 예측\n",
    "  5. BERT 사전 훈련을 위해 인공 신경망의 입력으로 들어가는 입력 Text의 15% Masking"
   ]
  },
  {
   "cell_type": "code",
   "execution_count": 1,
   "id": "7df8777f-de93-491e-9443-138dafa58faa",
   "metadata": {},
   "outputs": [
    {
     "name": "stdout",
     "output_type": "stream",
     "text": [
      "Collecting transformers\n",
      "  Downloading transformers-4.41.2-py3-none-any.whl.metadata (43 kB)\n",
      "     ---------------------------------------- 0.0/43.8 kB ? eta -:--:--\n",
      "     ----------------------------------- -- 41.0/43.8 kB 991.0 kB/s eta 0:00:01\n",
      "     -------------------------------------- 43.8/43.8 kB 714.4 kB/s eta 0:00:00\n",
      "Requirement already satisfied: filelock in c:\\programdata\\anaconda3\\lib\\site-packages (from transformers) (3.13.1)\n",
      "Collecting huggingface-hub<1.0,>=0.23.0 (from transformers)\n",
      "  Downloading huggingface_hub-0.23.4-py3-none-any.whl.metadata (12 kB)\n",
      "Requirement already satisfied: numpy>=1.17 in c:\\programdata\\anaconda3\\lib\\site-packages (from transformers) (1.26.4)\n",
      "Requirement already satisfied: packaging>=20.0 in c:\\programdata\\anaconda3\\lib\\site-packages (from transformers) (23.1)\n",
      "Requirement already satisfied: pyyaml>=5.1 in c:\\programdata\\anaconda3\\lib\\site-packages (from transformers) (6.0.1)\n",
      "Requirement already satisfied: regex!=2019.12.17 in c:\\programdata\\anaconda3\\lib\\site-packages (from transformers) (2023.10.3)\n",
      "Requirement already satisfied: requests in c:\\programdata\\anaconda3\\lib\\site-packages (from transformers) (2.31.0)\n",
      "Collecting tokenizers<0.20,>=0.19 (from transformers)\n",
      "  Downloading tokenizers-0.19.1-cp311-none-win_amd64.whl.metadata (6.9 kB)\n",
      "Collecting safetensors>=0.4.1 (from transformers)\n",
      "  Downloading safetensors-0.4.3-cp311-none-win_amd64.whl.metadata (3.9 kB)\n",
      "Requirement already satisfied: tqdm>=4.27 in c:\\programdata\\anaconda3\\lib\\site-packages (from transformers) (4.65.0)\n",
      "Requirement already satisfied: fsspec>=2023.5.0 in c:\\programdata\\anaconda3\\lib\\site-packages (from huggingface-hub<1.0,>=0.23.0->transformers) (2023.10.0)\n",
      "Requirement already satisfied: typing-extensions>=3.7.4.3 in c:\\programdata\\anaconda3\\lib\\site-packages (from huggingface-hub<1.0,>=0.23.0->transformers) (4.9.0)\n",
      "Requirement already satisfied: colorama in c:\\programdata\\anaconda3\\lib\\site-packages (from tqdm>=4.27->transformers) (0.4.6)\n",
      "Requirement already satisfied: charset-normalizer<4,>=2 in c:\\programdata\\anaconda3\\lib\\site-packages (from requests->transformers) (2.0.4)\n",
      "Requirement already satisfied: idna<4,>=2.5 in c:\\programdata\\anaconda3\\lib\\site-packages (from requests->transformers) (3.4)\n",
      "Requirement already satisfied: urllib3<3,>=1.21.1 in c:\\programdata\\anaconda3\\lib\\site-packages (from requests->transformers) (2.0.7)\n",
      "Requirement already satisfied: certifi>=2017.4.17 in c:\\programdata\\anaconda3\\lib\\site-packages (from requests->transformers) (2024.2.2)\n",
      "Downloading transformers-4.41.2-py3-none-any.whl (9.1 MB)\n",
      "   ---------------------------------------- 0.0/9.1 MB ? eta -:--:--\n",
      "   ---- ----------------------------------- 1.0/9.1 MB 30.4 MB/s eta 0:00:01\n",
      "   -------- ------------------------------- 2.0/9.1 MB 26.0 MB/s eta 0:00:01\n",
      "   --------- ------------------------------ 2.1/9.1 MB 22.1 MB/s eta 0:00:01\n",
      "   --------- ------------------------------ 2.1/9.1 MB 22.1 MB/s eta 0:00:01\n",
      "   --------- ------------------------------ 2.1/9.1 MB 22.1 MB/s eta 0:00:01\n",
      "   ------------- -------------------------- 3.0/9.1 MB 12.0 MB/s eta 0:00:01\n",
      "   ---------------- ----------------------- 3.7/9.1 MB 14.0 MB/s eta 0:00:01\n",
      "   ------------------ --------------------- 4.2/9.1 MB 13.5 MB/s eta 0:00:01\n",
      "   ------------------ --------------------- 4.3/9.1 MB 12.5 MB/s eta 0:00:01\n",
      "   --------------------- ------------------ 4.9/9.1 MB 12.6 MB/s eta 0:00:01\n",
      "   ---------------------- ----------------- 5.2/9.1 MB 12.7 MB/s eta 0:00:01\n",
      "   ----------------------- ---------------- 5.4/9.1 MB 11.2 MB/s eta 0:00:01\n",
      "   -------------------------- ------------- 6.1/9.1 MB 11.9 MB/s eta 0:00:01\n",
      "   --------------------------------- ------ 7.7/9.1 MB 14.1 MB/s eta 0:00:01\n",
      "   ---------------------------------------  9.0/9.1 MB 15.2 MB/s eta 0:00:01\n",
      "   ---------------------------------------- 9.1/9.1 MB 14.5 MB/s eta 0:00:00\n",
      "Downloading huggingface_hub-0.23.4-py3-none-any.whl (402 kB)\n",
      "   ---------------------------------------- 0.0/402.6 kB ? eta -:--:--\n",
      "   --------------------------------------- 402.6/402.6 kB 26.2 MB/s eta 0:00:00\n",
      "Downloading safetensors-0.4.3-cp311-none-win_amd64.whl (287 kB)\n",
      "   ---------------------------------------- 0.0/287.3 kB ? eta -:--:--\n",
      "   --------------------------------------- 287.3/287.3 kB 18.5 MB/s eta 0:00:00\n",
      "Downloading tokenizers-0.19.1-cp311-none-win_amd64.whl (2.2 MB)\n",
      "   ---------------------------------------- 0.0/2.2 MB ? eta -:--:--\n",
      "   -------------- ------------------------- 0.8/2.2 MB 24.8 MB/s eta 0:00:01\n",
      "   ---------------------------------- ----- 1.9/2.2 MB 24.3 MB/s eta 0:00:01\n",
      "   ---------------------------------------- 2.2/2.2 MB 23.5 MB/s eta 0:00:00\n",
      "Installing collected packages: safetensors, huggingface-hub, tokenizers, transformers\n",
      "Successfully installed huggingface-hub-0.23.4 safetensors-0.4.3 tokenizers-0.19.1 transformers-4.41.2\n",
      "Collecting tf-keras\n",
      "  Downloading tf_keras-2.16.0-py3-none-any.whl.metadata (1.6 kB)\n",
      "Requirement already satisfied: tensorflow<2.17,>=2.16 in c:\\programdata\\anaconda3\\lib\\site-packages (from tf-keras) (2.16.1)\n",
      "Requirement already satisfied: tensorflow-intel==2.16.1 in c:\\programdata\\anaconda3\\lib\\site-packages (from tensorflow<2.17,>=2.16->tf-keras) (2.16.1)\n",
      "Requirement already satisfied: absl-py>=1.0.0 in c:\\programdata\\anaconda3\\lib\\site-packages (from tensorflow-intel==2.16.1->tensorflow<2.17,>=2.16->tf-keras) (2.1.0)\n",
      "Requirement already satisfied: astunparse>=1.6.0 in c:\\programdata\\anaconda3\\lib\\site-packages (from tensorflow-intel==2.16.1->tensorflow<2.17,>=2.16->tf-keras) (1.6.3)\n",
      "Requirement already satisfied: flatbuffers>=23.5.26 in c:\\programdata\\anaconda3\\lib\\site-packages (from tensorflow-intel==2.16.1->tensorflow<2.17,>=2.16->tf-keras) (24.3.25)\n",
      "Requirement already satisfied: gast!=0.5.0,!=0.5.1,!=0.5.2,>=0.2.1 in c:\\programdata\\anaconda3\\lib\\site-packages (from tensorflow-intel==2.16.1->tensorflow<2.17,>=2.16->tf-keras) (0.5.4)\n",
      "Requirement already satisfied: google-pasta>=0.1.1 in c:\\programdata\\anaconda3\\lib\\site-packages (from tensorflow-intel==2.16.1->tensorflow<2.17,>=2.16->tf-keras) (0.2.0)\n",
      "Requirement already satisfied: h5py>=3.10.0 in c:\\programdata\\anaconda3\\lib\\site-packages (from tensorflow-intel==2.16.1->tensorflow<2.17,>=2.16->tf-keras) (3.11.0)\n",
      "Requirement already satisfied: libclang>=13.0.0 in c:\\programdata\\anaconda3\\lib\\site-packages (from tensorflow-intel==2.16.1->tensorflow<2.17,>=2.16->tf-keras) (18.1.1)\n",
      "Requirement already satisfied: ml-dtypes~=0.3.1 in c:\\programdata\\anaconda3\\lib\\site-packages (from tensorflow-intel==2.16.1->tensorflow<2.17,>=2.16->tf-keras) (0.3.2)\n",
      "Requirement already satisfied: opt-einsum>=2.3.2 in c:\\programdata\\anaconda3\\lib\\site-packages (from tensorflow-intel==2.16.1->tensorflow<2.17,>=2.16->tf-keras) (3.3.0)\n",
      "Requirement already satisfied: packaging in c:\\programdata\\anaconda3\\lib\\site-packages (from tensorflow-intel==2.16.1->tensorflow<2.17,>=2.16->tf-keras) (23.1)\n",
      "Requirement already satisfied: protobuf!=4.21.0,!=4.21.1,!=4.21.2,!=4.21.3,!=4.21.4,!=4.21.5,<5.0.0dev,>=3.20.3 in c:\\programdata\\anaconda3\\lib\\site-packages (from tensorflow-intel==2.16.1->tensorflow<2.17,>=2.16->tf-keras) (4.25.3)\n",
      "Requirement already satisfied: requests<3,>=2.21.0 in c:\\programdata\\anaconda3\\lib\\site-packages (from tensorflow-intel==2.16.1->tensorflow<2.17,>=2.16->tf-keras) (2.31.0)\n",
      "Requirement already satisfied: setuptools in c:\\programdata\\anaconda3\\lib\\site-packages (from tensorflow-intel==2.16.1->tensorflow<2.17,>=2.16->tf-keras) (68.2.2)\n",
      "Requirement already satisfied: six>=1.12.0 in c:\\programdata\\anaconda3\\lib\\site-packages (from tensorflow-intel==2.16.1->tensorflow<2.17,>=2.16->tf-keras) (1.16.0)\n",
      "Requirement already satisfied: termcolor>=1.1.0 in c:\\programdata\\anaconda3\\lib\\site-packages (from tensorflow-intel==2.16.1->tensorflow<2.17,>=2.16->tf-keras) (2.4.0)\n",
      "Requirement already satisfied: typing-extensions>=3.6.6 in c:\\programdata\\anaconda3\\lib\\site-packages (from tensorflow-intel==2.16.1->tensorflow<2.17,>=2.16->tf-keras) (4.9.0)\n",
      "Requirement already satisfied: wrapt>=1.11.0 in c:\\programdata\\anaconda3\\lib\\site-packages (from tensorflow-intel==2.16.1->tensorflow<2.17,>=2.16->tf-keras) (1.14.1)\n",
      "Requirement already satisfied: grpcio<2.0,>=1.24.3 in c:\\programdata\\anaconda3\\lib\\site-packages (from tensorflow-intel==2.16.1->tensorflow<2.17,>=2.16->tf-keras) (1.64.1)\n",
      "Requirement already satisfied: tensorboard<2.17,>=2.16 in c:\\programdata\\anaconda3\\lib\\site-packages (from tensorflow-intel==2.16.1->tensorflow<2.17,>=2.16->tf-keras) (2.16.2)\n",
      "Requirement already satisfied: keras>=3.0.0 in c:\\programdata\\anaconda3\\lib\\site-packages (from tensorflow-intel==2.16.1->tensorflow<2.17,>=2.16->tf-keras) (3.3.3)\n",
      "Requirement already satisfied: tensorflow-io-gcs-filesystem>=0.23.1 in c:\\programdata\\anaconda3\\lib\\site-packages (from tensorflow-intel==2.16.1->tensorflow<2.17,>=2.16->tf-keras) (0.31.0)\n",
      "Requirement already satisfied: numpy<2.0.0,>=1.23.5 in c:\\programdata\\anaconda3\\lib\\site-packages (from tensorflow-intel==2.16.1->tensorflow<2.17,>=2.16->tf-keras) (1.26.4)\n",
      "Requirement already satisfied: wheel<1.0,>=0.23.0 in c:\\programdata\\anaconda3\\lib\\site-packages (from astunparse>=1.6.0->tensorflow-intel==2.16.1->tensorflow<2.17,>=2.16->tf-keras) (0.41.2)\n",
      "Requirement already satisfied: rich in c:\\programdata\\anaconda3\\lib\\site-packages (from keras>=3.0.0->tensorflow-intel==2.16.1->tensorflow<2.17,>=2.16->tf-keras) (13.3.5)\n",
      "Requirement already satisfied: namex in c:\\programdata\\anaconda3\\lib\\site-packages (from keras>=3.0.0->tensorflow-intel==2.16.1->tensorflow<2.17,>=2.16->tf-keras) (0.0.8)\n",
      "Requirement already satisfied: optree in c:\\programdata\\anaconda3\\lib\\site-packages (from keras>=3.0.0->tensorflow-intel==2.16.1->tensorflow<2.17,>=2.16->tf-keras) (0.11.0)\n",
      "Requirement already satisfied: charset-normalizer<4,>=2 in c:\\programdata\\anaconda3\\lib\\site-packages (from requests<3,>=2.21.0->tensorflow-intel==2.16.1->tensorflow<2.17,>=2.16->tf-keras) (2.0.4)\n",
      "Requirement already satisfied: idna<4,>=2.5 in c:\\programdata\\anaconda3\\lib\\site-packages (from requests<3,>=2.21.0->tensorflow-intel==2.16.1->tensorflow<2.17,>=2.16->tf-keras) (3.4)\n",
      "Requirement already satisfied: urllib3<3,>=1.21.1 in c:\\programdata\\anaconda3\\lib\\site-packages (from requests<3,>=2.21.0->tensorflow-intel==2.16.1->tensorflow<2.17,>=2.16->tf-keras) (2.0.7)\n",
      "Requirement already satisfied: certifi>=2017.4.17 in c:\\programdata\\anaconda3\\lib\\site-packages (from requests<3,>=2.21.0->tensorflow-intel==2.16.1->tensorflow<2.17,>=2.16->tf-keras) (2024.2.2)\n",
      "Requirement already satisfied: markdown>=2.6.8 in c:\\programdata\\anaconda3\\lib\\site-packages (from tensorboard<2.17,>=2.16->tensorflow-intel==2.16.1->tensorflow<2.17,>=2.16->tf-keras) (3.4.1)\n",
      "Requirement already satisfied: tensorboard-data-server<0.8.0,>=0.7.0 in c:\\programdata\\anaconda3\\lib\\site-packages (from tensorboard<2.17,>=2.16->tensorflow-intel==2.16.1->tensorflow<2.17,>=2.16->tf-keras) (0.7.2)\n",
      "Requirement already satisfied: werkzeug>=1.0.1 in c:\\programdata\\anaconda3\\lib\\site-packages (from tensorboard<2.17,>=2.16->tensorflow-intel==2.16.1->tensorflow<2.17,>=2.16->tf-keras) (2.2.3)\n",
      "Requirement already satisfied: MarkupSafe>=2.1.1 in c:\\programdata\\anaconda3\\lib\\site-packages (from werkzeug>=1.0.1->tensorboard<2.17,>=2.16->tensorflow-intel==2.16.1->tensorflow<2.17,>=2.16->tf-keras) (2.1.3)\n",
      "Requirement already satisfied: markdown-it-py<3.0.0,>=2.2.0 in c:\\programdata\\anaconda3\\lib\\site-packages (from rich->keras>=3.0.0->tensorflow-intel==2.16.1->tensorflow<2.17,>=2.16->tf-keras) (2.2.0)\n",
      "Requirement already satisfied: pygments<3.0.0,>=2.13.0 in c:\\programdata\\anaconda3\\lib\\site-packages (from rich->keras>=3.0.0->tensorflow-intel==2.16.1->tensorflow<2.17,>=2.16->tf-keras) (2.15.1)\n",
      "Requirement already satisfied: mdurl~=0.1 in c:\\programdata\\anaconda3\\lib\\site-packages (from markdown-it-py<3.0.0,>=2.2.0->rich->keras>=3.0.0->tensorflow-intel==2.16.1->tensorflow<2.17,>=2.16->tf-keras) (0.1.0)\n",
      "Downloading tf_keras-2.16.0-py3-none-any.whl (1.7 MB)\n",
      "   ---------------------------------------- 0.0/1.7 MB ? eta -:--:--\n",
      "   ---------------------------------------- 0.0/1.7 MB ? eta -:--:--\n",
      "    --------------------------------------- 0.0/1.7 MB 435.7 kB/s eta 0:00:04\n",
      "    --------------------------------------- 0.0/1.7 MB 326.8 kB/s eta 0:00:06\n",
      "   -- ------------------------------------- 0.1/1.7 MB 656.4 kB/s eta 0:00:03\n",
      "   ----- ---------------------------------- 0.2/1.7 MB 1.1 MB/s eta 0:00:02\n",
      "   ------- -------------------------------- 0.3/1.7 MB 1.4 MB/s eta 0:00:02\n",
      "   -------- ------------------------------- 0.4/1.7 MB 1.2 MB/s eta 0:00:02\n",
      "   --------- ------------------------------ 0.4/1.7 MB 1.3 MB/s eta 0:00:01\n",
      "   ---------- ----------------------------- 0.5/1.7 MB 1.3 MB/s eta 0:00:02\n",
      "   -------------- ------------------------- 0.6/1.7 MB 1.6 MB/s eta 0:00:01\n",
      "   ---------------- ----------------------- 0.7/1.7 MB 1.6 MB/s eta 0:00:01\n",
      "   ---------------------- ----------------- 1.0/1.7 MB 2.1 MB/s eta 0:00:01\n",
      "   ----------------------- ---------------- 1.0/1.7 MB 1.9 MB/s eta 0:00:01\n",
      "   -------------------------- ------------- 1.1/1.7 MB 2.0 MB/s eta 0:00:01\n",
      "   ---------------------------- ----------- 1.2/1.7 MB 2.1 MB/s eta 0:00:01\n",
      "   ---------------------------------- ----- 1.5/1.7 MB 2.3 MB/s eta 0:00:01\n",
      "   ---------------------------------------  1.7/1.7 MB 2.5 MB/s eta 0:00:01\n",
      "   ---------------------------------------- 1.7/1.7 MB 2.5 MB/s eta 0:00:00\n",
      "Installing collected packages: tf-keras\n",
      "Successfully installed tf-keras-2.16.0\n",
      "Collecting torch\n",
      "  Downloading torch-2.3.1-cp311-cp311-win_amd64.whl.metadata (26 kB)\n",
      "Requirement already satisfied: filelock in c:\\programdata\\anaconda3\\lib\\site-packages (from torch) (3.13.1)\n",
      "Requirement already satisfied: typing-extensions>=4.8.0 in c:\\programdata\\anaconda3\\lib\\site-packages (from torch) (4.9.0)\n",
      "Requirement already satisfied: sympy in c:\\programdata\\anaconda3\\lib\\site-packages (from torch) (1.12)\n",
      "Requirement already satisfied: networkx in c:\\programdata\\anaconda3\\lib\\site-packages (from torch) (3.1)\n",
      "Requirement already satisfied: jinja2 in c:\\programdata\\anaconda3\\lib\\site-packages (from torch) (3.1.3)\n",
      "Requirement already satisfied: fsspec in c:\\programdata\\anaconda3\\lib\\site-packages (from torch) (2023.10.0)\n",
      "Collecting mkl<=2021.4.0,>=2021.1.1 (from torch)\n",
      "  Downloading mkl-2021.4.0-py2.py3-none-win_amd64.whl.metadata (1.4 kB)\n",
      "Collecting intel-openmp==2021.* (from mkl<=2021.4.0,>=2021.1.1->torch)\n",
      "  Downloading intel_openmp-2021.4.0-py2.py3-none-win_amd64.whl.metadata (1.2 kB)\n",
      "Collecting tbb==2021.* (from mkl<=2021.4.0,>=2021.1.1->torch)\n",
      "  Downloading tbb-2021.12.0-py3-none-win_amd64.whl.metadata (1.1 kB)\n",
      "Requirement already satisfied: MarkupSafe>=2.0 in c:\\programdata\\anaconda3\\lib\\site-packages (from jinja2->torch) (2.1.3)\n",
      "Requirement already satisfied: mpmath>=0.19 in c:\\programdata\\anaconda3\\lib\\site-packages (from sympy->torch) (1.3.0)\n",
      "Downloading torch-2.3.1-cp311-cp311-win_amd64.whl (159.8 MB)\n",
      "   ---------------------------------------- 0.0/159.8 MB ? eta -:--:--\n",
      "   ---------------------------------------- 0.1/159.8 MB 3.6 MB/s eta 0:00:44\n",
      "   ---------------------------------------- 0.2/159.8 MB 5.3 MB/s eta 0:00:31\n",
      "   ---------------------------------------- 0.6/159.8 MB 5.1 MB/s eta 0:00:32\n",
      "    --------------------------------------- 2.0/159.8 MB 12.8 MB/s eta 0:00:13\n",
      "    --------------------------------------- 2.2/159.8 MB 11.7 MB/s eta 0:00:14\n",
      "    --------------------------------------- 2.2/159.8 MB 11.7 MB/s eta 0:00:14\n",
      "    --------------------------------------- 2.6/159.8 MB 9.3 MB/s eta 0:00:17\n",
      "    --------------------------------------- 3.1/159.8 MB 9.3 MB/s eta 0:00:17\n",
      "    --------------------------------------- 3.2/159.8 MB 8.8 MB/s eta 0:00:18\n",
      "    --------------------------------------- 3.6/159.8 MB 8.7 MB/s eta 0:00:18\n",
      "   - -------------------------------------- 4.4/159.8 MB 9.7 MB/s eta 0:00:17\n",
      "   - -------------------------------------- 5.0/159.8 MB 10.6 MB/s eta 0:00:15\n",
      "   - -------------------------------------- 5.0/159.8 MB 9.7 MB/s eta 0:00:16\n",
      "   - -------------------------------------- 5.6/159.8 MB 10.0 MB/s eta 0:00:16\n",
      "   - -------------------------------------- 7.1/159.8 MB 11.6 MB/s eta 0:00:14\n",
      "   -- ------------------------------------- 9.4/159.8 MB 14.7 MB/s eta 0:00:11\n",
      "   -- ------------------------------------- 10.6/159.8 MB 17.2 MB/s eta 0:00:09\n",
      "   -- ------------------------------------- 11.9/159.8 MB 17.7 MB/s eta 0:00:09\n",
      "   --- ------------------------------------ 14.3/159.8 MB 29.8 MB/s eta 0:00:05\n",
      "   --- ------------------------------------ 14.9/159.8 MB 29.7 MB/s eta 0:00:05\n",
      "   --- ------------------------------------ 14.9/159.8 MB 29.7 MB/s eta 0:00:05\n",
      "   --- ------------------------------------ 14.9/159.8 MB 29.7 MB/s eta 0:00:05\n",
      "   --- ------------------------------------ 14.9/159.8 MB 29.7 MB/s eta 0:00:05\n",
      "   --- ------------------------------------ 14.9/159.8 MB 29.7 MB/s eta 0:00:05\n",
      "   --- ------------------------------------ 14.9/159.8 MB 29.7 MB/s eta 0:00:05\n",
      "   --- ------------------------------------ 14.9/159.8 MB 29.7 MB/s eta 0:00:05\n",
      "   --- ------------------------------------ 14.9/159.8 MB 29.7 MB/s eta 0:00:05\n",
      "   --- ------------------------------------ 14.9/159.8 MB 29.7 MB/s eta 0:00:05\n",
      "   --- ------------------------------------ 15.3/159.8 MB 16.4 MB/s eta 0:00:09\n",
      "   ---- ----------------------------------- 16.1/159.8 MB 16.0 MB/s eta 0:00:10\n",
      "   ---- ----------------------------------- 16.7/159.8 MB 14.9 MB/s eta 0:00:10\n",
      "   ---- ----------------------------------- 18.0/159.8 MB 14.9 MB/s eta 0:00:10\n",
      "   ---- ----------------------------------- 18.3/159.8 MB 14.9 MB/s eta 0:00:10\n",
      "   ---- ----------------------------------- 18.3/159.8 MB 14.9 MB/s eta 0:00:10\n",
      "   ---- ----------------------------------- 18.6/159.8 MB 13.1 MB/s eta 0:00:11\n",
      "   ---- ----------------------------------- 19.9/159.8 MB 12.8 MB/s eta 0:00:11\n",
      "   ----- ---------------------------------- 20.0/159.8 MB 12.3 MB/s eta 0:00:12\n",
      "   ----- ---------------------------------- 21.8/159.8 MB 12.4 MB/s eta 0:00:12\n",
      "   ----- ---------------------------------- 22.8/159.8 MB 12.1 MB/s eta 0:00:12\n",
      "   ----- ---------------------------------- 23.1/159.8 MB 12.1 MB/s eta 0:00:12\n",
      "   ----- ---------------------------------- 23.1/159.8 MB 12.1 MB/s eta 0:00:12\n",
      "   ----- ---------------------------------- 23.4/159.8 MB 10.7 MB/s eta 0:00:13\n",
      "   ------ --------------------------------- 24.1/159.8 MB 10.9 MB/s eta 0:00:13\n",
      "   ------ --------------------------------- 24.1/159.8 MB 10.9 MB/s eta 0:00:13\n",
      "   ------ --------------------------------- 24.1/159.8 MB 10.9 MB/s eta 0:00:13\n",
      "   ------ --------------------------------- 24.1/159.8 MB 10.9 MB/s eta 0:00:13\n",
      "   ------ --------------------------------- 24.1/159.8 MB 10.9 MB/s eta 0:00:13\n",
      "   ------ --------------------------------- 24.1/159.8 MB 10.9 MB/s eta 0:00:13\n",
      "   ------ --------------------------------- 24.1/159.8 MB 10.9 MB/s eta 0:00:13\n",
      "   ------ --------------------------------- 25.7/159.8 MB 11.9 MB/s eta 0:00:12\n",
      "   ------ --------------------------------- 26.6/159.8 MB 12.1 MB/s eta 0:00:11\n",
      "   ------ --------------------------------- 27.3/159.8 MB 12.3 MB/s eta 0:00:11\n",
      "   ------ --------------------------------- 27.3/159.8 MB 12.3 MB/s eta 0:00:11\n",
      "   ------ --------------------------------- 27.5/159.8 MB 11.1 MB/s eta 0:00:12\n",
      "   ------- -------------------------------- 29.4/159.8 MB 12.6 MB/s eta 0:00:11\n",
      "   ------- -------------------------------- 29.5/159.8 MB 12.1 MB/s eta 0:00:11\n",
      "   ------- -------------------------------- 31.4/159.8 MB 13.1 MB/s eta 0:00:10\n",
      "   ------- -------------------------------- 31.7/159.8 MB 12.8 MB/s eta 0:00:10\n",
      "   -------- ------------------------------- 32.9/159.8 MB 12.1 MB/s eta 0:00:11\n",
      "   -------- ------------------------------- 32.9/159.8 MB 12.1 MB/s eta 0:00:11\n",
      "   -------- ------------------------------- 33.5/159.8 MB 12.8 MB/s eta 0:00:10\n",
      "   -------- ------------------------------- 33.5/159.8 MB 12.8 MB/s eta 0:00:10\n",
      "   -------- ------------------------------- 33.7/159.8 MB 11.7 MB/s eta 0:00:11\n",
      "   -------- ------------------------------- 34.5/159.8 MB 16.8 MB/s eta 0:00:08\n",
      "   --------- ------------------------------ 36.7/159.8 MB 17.2 MB/s eta 0:00:08\n",
      "   --------- ------------------------------ 38.6/159.8 MB 21.1 MB/s eta 0:00:06\n",
      "   ---------- ----------------------------- 40.2/159.8 MB 23.4 MB/s eta 0:00:06\n",
      "   ---------- ----------------------------- 42.3/159.8 MB 27.3 MB/s eta 0:00:05\n",
      "   ----------- ---------------------------- 44.5/159.8 MB 50.4 MB/s eta 0:00:03\n",
      "   ----------- ---------------------------- 44.9/159.8 MB 50.4 MB/s eta 0:00:03\n",
      "   ----------- ---------------------------- 45.0/159.8 MB 38.6 MB/s eta 0:00:03\n",
      "   ----------- ---------------------------- 46.2/159.8 MB 34.4 MB/s eta 0:00:04\n",
      "   ------------ --------------------------- 48.0/159.8 MB 34.4 MB/s eta 0:00:04\n",
      "   ------------ --------------------------- 49.8/159.8 MB 34.6 MB/s eta 0:00:04\n",
      "   ------------ --------------------------- 50.3/159.8 MB 32.8 MB/s eta 0:00:04\n",
      "   ------------ --------------------------- 50.3/159.8 MB 32.8 MB/s eta 0:00:04\n",
      "   ------------ --------------------------- 50.3/159.8 MB 32.8 MB/s eta 0:00:04\n",
      "   ------------ --------------------------- 50.3/159.8 MB 32.8 MB/s eta 0:00:04\n",
      "   ------------ --------------------------- 50.3/159.8 MB 32.8 MB/s eta 0:00:04\n",
      "   ------------- -------------------------- 52.7/159.8 MB 21.1 MB/s eta 0:00:06\n",
      "   ------------- -------------------------- 54.6/159.8 MB 20.5 MB/s eta 0:00:06\n",
      "   ------------- -------------------------- 54.7/159.8 MB 19.2 MB/s eta 0:00:06\n",
      "   ------------- -------------------------- 55.0/159.8 MB 18.2 MB/s eta 0:00:06\n",
      "   -------------- ------------------------- 56.7/159.8 MB 21.1 MB/s eta 0:00:05\n",
      "   -------------- ------------------------- 58.6/159.8 MB 21.1 MB/s eta 0:00:05\n",
      "   -------------- ------------------------- 58.7/159.8 MB 21.1 MB/s eta 0:00:05\n",
      "   --------------- ------------------------ 60.4/159.8 MB 19.3 MB/s eta 0:00:06\n",
      "   --------------- ------------------------ 60.8/159.8 MB 28.4 MB/s eta 0:00:04\n",
      "   --------------- ------------------------ 61.9/159.8 MB 27.3 MB/s eta 0:00:04\n",
      "   --------------- ------------------------ 61.9/159.8 MB 27.3 MB/s eta 0:00:04\n",
      "   --------------- ------------------------ 61.9/159.8 MB 27.3 MB/s eta 0:00:04\n",
      "   --------------- ------------------------ 63.7/159.8 MB 21.1 MB/s eta 0:00:05\n",
      "   ---------------- ----------------------- 66.5/159.8 MB 27.3 MB/s eta 0:00:04\n",
      "   ----------------- ---------------------- 68.9/159.8 MB 28.4 MB/s eta 0:00:04\n",
      "   ----------------- ---------------------- 71.2/159.8 MB 38.5 MB/s eta 0:00:03\n",
      "   ------------------ --------------------- 72.8/159.8 MB 54.4 MB/s eta 0:00:02\n",
      "   ------------------ --------------------- 75.4/159.8 MB 54.4 MB/s eta 0:00:02\n",
      "   ------------------- -------------------- 78.3/159.8 MB 59.5 MB/s eta 0:00:02\n",
      "   ------------------- -------------------- 78.6/159.8 MB 54.7 MB/s eta 0:00:02\n",
      "   ------------------- -------------------- 78.6/159.8 MB 54.7 MB/s eta 0:00:02\n",
      "   ------------------- -------------------- 78.6/159.8 MB 54.7 MB/s eta 0:00:02\n",
      "   ------------------- -------------------- 78.6/159.8 MB 54.7 MB/s eta 0:00:02\n",
      "   ------------------- -------------------- 78.6/159.8 MB 54.7 MB/s eta 0:00:02\n",
      "   ------------------- -------------------- 78.6/159.8 MB 54.7 MB/s eta 0:00:02\n",
      "   -------------------- ------------------- 80.8/159.8 MB 24.2 MB/s eta 0:00:04\n",
      "   --------------------- ------------------ 84.3/159.8 MB 26.2 MB/s eta 0:00:03\n",
      "   --------------------- ------------------ 87.7/159.8 MB 26.2 MB/s eta 0:00:03\n",
      "   ---------------------- ----------------- 90.6/159.8 MB 81.8 MB/s eta 0:00:01\n",
      "   ----------------------- ---------------- 93.2/159.8 MB 72.6 MB/s eta 0:00:01\n",
      "   ----------------------- ---------------- 95.4/159.8 MB 65.6 MB/s eta 0:00:01\n",
      "   ------------------------ --------------- 97.2/159.8 MB 59.5 MB/s eta 0:00:02\n",
      "   ------------------------ --------------- 99.1/159.8 MB 54.4 MB/s eta 0:00:02\n",
      "   ------------------------ -------------- 101.0/159.8 MB 54.4 MB/s eta 0:00:02\n",
      "   ------------------------ -------------- 101.3/159.8 MB 43.5 MB/s eta 0:00:02\n",
      "   ------------------------- ------------- 102.7/159.8 MB 40.9 MB/s eta 0:00:02\n",
      "   ------------------------- ------------- 102.8/159.8 MB 38.5 MB/s eta 0:00:02\n",
      "   ------------------------- ------------- 102.8/159.8 MB 38.5 MB/s eta 0:00:02\n",
      "   ------------------------- ------------- 102.8/159.8 MB 38.5 MB/s eta 0:00:02\n",
      "   ------------------------- ------------- 103.2/159.8 MB 24.3 MB/s eta 0:00:03\n",
      "   -------------------------- ------------ 106.9/159.8 MB 25.2 MB/s eta 0:00:03\n",
      "   -------------------------- ------------ 109.3/159.8 MB 25.2 MB/s eta 0:00:03\n",
      "   --------------------------- ----------- 112.2/159.8 MB 29.7 MB/s eta 0:00:02\n",
      "   --------------------------- ----------- 114.7/159.8 MB 65.6 MB/s eta 0:00:01\n",
      "   ---------------------------- ---------- 117.4/159.8 MB 65.6 MB/s eta 0:00:01\n",
      "   ----------------------------- --------- 120.0/159.8 MB 65.6 MB/s eta 0:00:01\n",
      "   ------------------------------ -------- 123.1/159.8 MB 65.6 MB/s eta 0:00:01\n",
      "   ------------------------------ -------- 126.2/159.8 MB 72.6 MB/s eta 0:00:01\n",
      "   ------------------------------- ------- 128.2/159.8 MB 59.5 MB/s eta 0:00:01\n",
      "   ------------------------------- ------- 130.3/159.8 MB 65.6 MB/s eta 0:00:01\n",
      "   -------------------------------- ------ 132.8/159.8 MB 59.5 MB/s eta 0:00:01\n",
      "   -------------------------------- ------ 134.9/159.8 MB 54.7 MB/s eta 0:00:01\n",
      "   --------------------------------- ----- 137.5/159.8 MB 59.5 MB/s eta 0:00:01\n",
      "   ---------------------------------- ---- 139.9/159.8 MB 65.2 MB/s eta 0:00:01\n",
      "   ---------------------------------- ---- 141.8/159.8 MB 54.7 MB/s eta 0:00:01\n",
      "   ----------------------------------- --- 143.8/159.8 MB 54.4 MB/s eta 0:00:01\n",
      "   ----------------------------------- --- 146.2/159.8 MB 54.4 MB/s eta 0:00:01\n",
      "   ------------------------------------ -- 148.5/159.8 MB 59.5 MB/s eta 0:00:01\n",
      "   ------------------------------------- - 151.8/159.8 MB 59.5 MB/s eta 0:00:01\n",
      "   ------------------------------------- - 154.3/159.8 MB 72.6 MB/s eta 0:00:01\n",
      "   --------------------------------------  157.5/159.8 MB 72.6 MB/s eta 0:00:01\n",
      "   --------------------------------------  159.0/159.8 MB 65.2 MB/s eta 0:00:01\n",
      "   --------------------------------------  159.8/159.8 MB 59.5 MB/s eta 0:00:01\n",
      "   --------------------------------------  159.8/159.8 MB 59.5 MB/s eta 0:00:01\n",
      "   --------------------------------------  159.8/159.8 MB 59.5 MB/s eta 0:00:01\n",
      "   --------------------------------------  159.8/159.8 MB 59.5 MB/s eta 0:00:01\n",
      "   --------------------------------------- 159.8/159.8 MB 28.4 MB/s eta 0:00:00\n",
      "Downloading mkl-2021.4.0-py2.py3-none-win_amd64.whl (228.5 MB)\n",
      "   ---------------------------------------- 0.0/228.5 MB ? eta -:--:--\n",
      "   ---------------------------------------- 2.1/228.5 MB 65.6 MB/s eta 0:00:04\n",
      "    --------------------------------------- 4.4/228.5 MB 69.4 MB/s eta 0:00:04\n",
      "   - -------------------------------------- 6.9/228.5 MB 62.4 MB/s eta 0:00:04\n",
      "   - -------------------------------------- 10.1/228.5 MB 64.2 MB/s eta 0:00:04\n",
      "   -- ------------------------------------- 12.4/228.5 MB 65.6 MB/s eta 0:00:04\n",
      "   -- ------------------------------------- 14.4/228.5 MB 59.5 MB/s eta 0:00:04\n",
      "   -- ------------------------------------- 16.8/228.5 MB 65.6 MB/s eta 0:00:04\n",
      "   --- ------------------------------------ 19.5/228.5 MB 59.5 MB/s eta 0:00:04\n",
      "   --- ------------------------------------ 22.0/228.5 MB 65.6 MB/s eta 0:00:04\n",
      "   ---- ----------------------------------- 24.4/228.5 MB 65.6 MB/s eta 0:00:04\n",
      "   ---- ----------------------------------- 27.1/228.5 MB 65.6 MB/s eta 0:00:04\n",
      "   ----- ---------------------------------- 29.1/228.5 MB 65.6 MB/s eta 0:00:04\n",
      "   ----- ---------------------------------- 31.3/228.5 MB 59.5 MB/s eta 0:00:04\n",
      "   ----- ---------------------------------- 33.8/228.5 MB 54.4 MB/s eta 0:00:04\n",
      "   ------ --------------------------------- 37.0/228.5 MB 65.6 MB/s eta 0:00:03\n",
      "   ------ --------------------------------- 39.8/228.5 MB 65.6 MB/s eta 0:00:03\n",
      "   ------- -------------------------------- 43.3/228.5 MB 72.6 MB/s eta 0:00:03\n",
      "   ------- -------------------------------- 45.4/228.5 MB 73.1 MB/s eta 0:00:03\n",
      "   -------- ------------------------------- 48.3/228.5 MB 65.6 MB/s eta 0:00:03\n",
      "   -------- ------------------------------- 50.8/228.5 MB 65.6 MB/s eta 0:00:03\n",
      "   --------- ------------------------------ 54.2/228.5 MB 65.6 MB/s eta 0:00:03\n",
      "   --------- ------------------------------ 55.5/228.5 MB 65.6 MB/s eta 0:00:03\n",
      "   --------- ------------------------------ 55.6/228.5 MB 59.5 MB/s eta 0:00:03\n",
      "   ---------- ----------------------------- 57.8/228.5 MB 43.5 MB/s eta 0:00:04\n",
      "   ---------- ----------------------------- 60.5/228.5 MB 50.4 MB/s eta 0:00:04\n",
      "   ----------- ---------------------------- 63.5/228.5 MB 50.4 MB/s eta 0:00:04\n",
      "   ----------- ---------------------------- 66.7/228.5 MB 73.1 MB/s eta 0:00:03\n",
      "   ------------ --------------------------- 69.5/228.5 MB 81.8 MB/s eta 0:00:02\n",
      "   ------------ --------------------------- 72.0/228.5 MB 73.1 MB/s eta 0:00:03\n",
      "   ------------- -------------------------- 74.4/228.5 MB 72.6 MB/s eta 0:00:03\n",
      "   ------------- -------------------------- 77.5/228.5 MB 65.6 MB/s eta 0:00:03\n",
      "   -------------- ------------------------- 80.7/228.5 MB 72.6 MB/s eta 0:00:03\n",
      "   -------------- ------------------------- 83.8/228.5 MB 81.8 MB/s eta 0:00:02\n",
      "   --------------- ------------------------ 86.2/228.5 MB 73.1 MB/s eta 0:00:02\n",
      "   --------------- ------------------------ 89.2/228.5 MB 65.6 MB/s eta 0:00:03\n",
      "   ---------------- ----------------------- 92.4/228.5 MB 72.6 MB/s eta 0:00:02\n",
      "   ---------------- ----------------------- 94.5/228.5 MB 72.6 MB/s eta 0:00:02\n",
      "   ---------------- ----------------------- 96.8/228.5 MB 65.2 MB/s eta 0:00:03\n",
      "   ----------------- ---------------------- 99.6/228.5 MB 65.2 MB/s eta 0:00:02\n",
      "   ----------------- --------------------- 101.9/228.5 MB 65.6 MB/s eta 0:00:02\n",
      "   ----------------- --------------------- 104.2/228.5 MB 59.5 MB/s eta 0:00:03\n",
      "   ------------------ -------------------- 106.2/228.5 MB 59.5 MB/s eta 0:00:03\n",
      "   ------------------ -------------------- 108.5/228.5 MB 54.7 MB/s eta 0:00:03\n",
      "   ------------------- ------------------- 111.6/228.5 MB 59.5 MB/s eta 0:00:02\n",
      "   ------------------- ------------------- 114.1/228.5 MB 65.6 MB/s eta 0:00:02\n",
      "   ------------------- ------------------- 116.3/228.5 MB 59.5 MB/s eta 0:00:02\n",
      "   -------------------- ------------------ 118.7/228.5 MB 65.2 MB/s eta 0:00:02\n",
      "   -------------------- ------------------ 122.5/228.5 MB 65.2 MB/s eta 0:00:02\n",
      "   --------------------- ----------------- 123.7/228.5 MB 59.5 MB/s eta 0:00:02\n",
      "   --------------------- ----------------- 126.4/228.5 MB 59.5 MB/s eta 0:00:02\n",
      "   --------------------- ----------------- 127.5/228.5 MB 54.4 MB/s eta 0:00:02\n",
      "   ---------------------- ---------------- 129.3/228.5 MB 54.4 MB/s eta 0:00:02\n",
      "   ---------------------- ---------------- 132.1/228.5 MB 50.4 MB/s eta 0:00:02\n",
      "   ----------------------- --------------- 135.6/228.5 MB 59.5 MB/s eta 0:00:02\n",
      "   ----------------------- --------------- 138.4/228.5 MB 65.6 MB/s eta 0:00:02\n",
      "   ----------------------- --------------- 140.2/228.5 MB 72.6 MB/s eta 0:00:02\n",
      "   ------------------------ -------------- 142.7/228.5 MB 65.6 MB/s eta 0:00:02\n",
      "   ------------------------ -------------- 146.1/228.5 MB 73.1 MB/s eta 0:00:02\n",
      "   ------------------------- ------------- 148.9/228.5 MB 81.8 MB/s eta 0:00:01\n",
      "   ------------------------- ------------- 152.3/228.5 MB 72.6 MB/s eta 0:00:02\n",
      "   -------------------------- ------------ 155.1/228.5 MB 81.8 MB/s eta 0:00:01\n",
      "   -------------------------- ------------ 157.8/228.5 MB 72.6 MB/s eta 0:00:01\n",
      "   --------------------------- ----------- 160.7/228.5 MB 72.6 MB/s eta 0:00:01\n",
      "   ---------------------------- ---------- 164.4/228.5 MB 65.6 MB/s eta 0:00:01\n",
      "   ---------------------------- ---------- 167.2/228.5 MB 65.2 MB/s eta 0:00:01\n",
      "   ----------------------------- --------- 170.5/228.5 MB 72.6 MB/s eta 0:00:01\n",
      "   ----------------------------- --------- 173.0/228.5 MB 73.1 MB/s eta 0:00:01\n",
      "   ------------------------------ -------- 176.0/228.5 MB 72.6 MB/s eta 0:00:01\n",
      "   ------------------------------ -------- 178.9/228.5 MB 81.8 MB/s eta 0:00:01\n",
      "   ------------------------------- ------- 181.7/228.5 MB 65.6 MB/s eta 0:00:01\n",
      "   ------------------------------- ------- 184.4/228.5 MB 72.6 MB/s eta 0:00:01\n",
      "   ------------------------------- ------- 186.9/228.5 MB 73.1 MB/s eta 0:00:01\n",
      "   -------------------------------- ------ 190.3/228.5 MB 73.1 MB/s eta 0:00:01\n",
      "   --------------------------------- ----- 193.5/228.5 MB 81.8 MB/s eta 0:00:01\n",
      "   --------------------------------- ----- 196.4/228.5 MB 81.8 MB/s eta 0:00:01\n",
      "   --------------------------------- ----- 199.2/228.5 MB 73.1 MB/s eta 0:00:01\n",
      "   ---------------------------------- ---- 202.0/228.5 MB 73.1 MB/s eta 0:00:01\n",
      "   ----------------------------------- --- 205.1/228.5 MB 73.1 MB/s eta 0:00:01\n",
      "   ----------------------------------- --- 207.9/228.5 MB 72.6 MB/s eta 0:00:01\n",
      "   ----------------------------------- --- 210.7/228.5 MB 73.1 MB/s eta 0:00:01\n",
      "   ------------------------------------ -- 213.7/228.5 MB 81.8 MB/s eta 0:00:01\n",
      "   ------------------------------------ -- 216.3/228.5 MB 72.6 MB/s eta 0:00:01\n",
      "   ------------------------------------- - 219.2/228.5 MB 73.1 MB/s eta 0:00:01\n",
      "   ------------------------------------- - 222.2/228.5 MB 81.8 MB/s eta 0:00:01\n",
      "   --------------------------------------  224.7/228.5 MB 72.6 MB/s eta 0:00:01\n",
      "   --------------------------------------  226.9/228.5 MB 72.6 MB/s eta 0:00:01\n",
      "   --------------------------------------  228.5/228.5 MB 72.6 MB/s eta 0:00:01\n",
      "   --------------------------------------  228.5/228.5 MB 72.6 MB/s eta 0:00:01\n",
      "   --------------------------------------  228.5/228.5 MB 72.6 MB/s eta 0:00:01\n",
      "   --------------------------------------  228.5/228.5 MB 72.6 MB/s eta 0:00:01\n",
      "   --------------------------------------  228.5/228.5 MB 72.6 MB/s eta 0:00:01\n",
      "   --------------------------------------  228.5/228.5 MB 72.6 MB/s eta 0:00:01\n",
      "   --------------------------------------- 228.5/228.5 MB 26.1 MB/s eta 0:00:00\n",
      "Downloading intel_openmp-2021.4.0-py2.py3-none-win_amd64.whl (3.5 MB)\n",
      "   ---------------------------------------- 0.0/3.5 MB ? eta -:--:--\n",
      "   ------------------------------------- -- 3.3/3.5 MB 69.7 MB/s eta 0:00:01\n",
      "   ---------------------------------------- 3.5/3.5 MB 55.7 MB/s eta 0:00:00\n",
      "Downloading tbb-2021.12.0-py3-none-win_amd64.whl (286 kB)\n",
      "   ---------------------------------------- 0.0/286.4 kB ? eta -:--:--\n",
      "   ---------------------------------------- 286.4/286.4 kB ? eta 0:00:00\n",
      "Installing collected packages: tbb, intel-openmp, mkl, torch\n",
      "Successfully installed intel-openmp-2021.4.0 mkl-2021.4.0 tbb-2021.12.0 torch-2.3.1\n"
     ]
    }
   ],
   "source": [
    "! pip install transformers\n",
    "! pip install tf-keras\n",
    "! pip install torch"
   ]
  },
  {
   "cell_type": "code",
   "execution_count": 2,
   "id": "0a20631a-e873-4d48-a915-6315c160c719",
   "metadata": {},
   "outputs": [
    {
     "name": "stdout",
     "output_type": "stream",
     "text": [
      "WARNING:tensorflow:From C:\\ProgramData\\anaconda3\\Lib\\site-packages\\tf_keras\\src\\losses.py:2976: The name tf.losses.sparse_softmax_cross_entropy is deprecated. Please use tf.compat.v1.losses.sparse_softmax_cross_entropy instead.\n",
      "\n"
     ]
    }
   ],
   "source": [
    "# TFBertForMaskedLM : Tensorflow에서 사용가능한 BERT MLM\n",
    "from transformers import TFBertForMaskedLM\n",
    "from transformers import AutoTokenizer"
   ]
  },
  {
   "cell_type": "markdown",
   "id": "fbfcf2e1-8319-4b4d-bd18-36ef74154806",
   "metadata": {},
   "source": [
    "- klue/bert-base (klue / Korean Language Understanding Evaluation)\n",
    "- 한국어 데이터셋을 이용해 사전 훈련된 BERT 모델"
   ]
  },
  {
   "cell_type": "code",
   "execution_count": 9,
   "id": "b251476f-2558-47ea-b1b7-4db281e648c4",
   "metadata": {},
   "outputs": [
    {
     "name": "stderr",
     "output_type": "stream",
     "text": [
      "Some weights of the PyTorch model were not used when initializing the TF 2.0 model TFBertForMaskedLM: ['bert.embeddings.position_ids', 'cls.predictions.decoder.bias']\n",
      "- This IS expected if you are initializing TFBertForMaskedLM from a PyTorch model trained on another task or with another architecture (e.g. initializing a TFBertForSequenceClassification model from a BertForPreTraining model).\n",
      "- This IS NOT expected if you are initializing TFBertForMaskedLM from a PyTorch model that you expect to be exactly identical (e.g. initializing a TFBertForSequenceClassification model from a BertForSequenceClassification model).\n",
      "All the weights of TFBertForMaskedLM were initialized from the PyTorch model.\n",
      "If your task is similar to the task the model of the checkpoint was trained on, you can already use TFBertForMaskedLM for predictions without further training.\n"
     ]
    }
   ],
   "source": [
    "# 사전 훈련된 모델을 가져옴\n",
    "model = TFBertForMaskedLM.from_pretrained('klue/bert-base', from_pt = True)\n",
    "# from_pt = True : 해당 모델이 파이토치에서 학습이 되었으나, 텐서플로우에서 사용되도록"
   ]
  },
  {
   "cell_type": "code",
   "execution_count": 5,
   "id": "e7ef6c09-c730-4ec7-aaf9-f41bf2a31ca0",
   "metadata": {},
   "outputs": [
    {
     "data": {
      "application/vnd.jupyter.widget-view+json": {
       "model_id": "0c47b16e079a4aac88b0ae2f2aca35ce",
       "version_major": 2,
       "version_minor": 0
      },
      "text/plain": [
       "tokenizer_config.json:   0%|          | 0.00/289 [00:00<?, ?B/s]"
      ]
     },
     "metadata": {},
     "output_type": "display_data"
    },
    {
     "data": {
      "application/vnd.jupyter.widget-view+json": {
       "model_id": "e936ca88411b47c3ac97caf5cab33212",
       "version_major": 2,
       "version_minor": 0
      },
      "text/plain": [
       "vocab.txt:   0%|          | 0.00/248k [00:00<?, ?B/s]"
      ]
     },
     "metadata": {},
     "output_type": "display_data"
    },
    {
     "data": {
      "application/vnd.jupyter.widget-view+json": {
       "model_id": "3f380a0c42594fb79338c4229562b865",
       "version_major": 2,
       "version_minor": 0
      },
      "text/plain": [
       "tokenizer.json:   0%|          | 0.00/495k [00:00<?, ?B/s]"
      ]
     },
     "metadata": {},
     "output_type": "display_data"
    },
    {
     "data": {
      "application/vnd.jupyter.widget-view+json": {
       "model_id": "b50f0f4c82ce49b1b1425e23a06060ab",
       "version_major": 2,
       "version_minor": 0
      },
      "text/plain": [
       "special_tokens_map.json:   0%|          | 0.00/125 [00:00<?, ?B/s]"
      ]
     },
     "metadata": {},
     "output_type": "display_data"
    }
   ],
   "source": [
    "tokenizer = AutoTokenizer.from_pretrained('klue/bert-base')\n",
    "# 모델의 훈련시 사용되었던 토크나이징 규칙과 단어의 사전을 불러옴"
   ]
  },
  {
   "cell_type": "code",
   "execution_count": 6,
   "id": "11b4f946-91cb-44b1-91e3-986277a130f3",
   "metadata": {},
   "outputs": [],
   "source": [
    "# 토크나이저를 사용하여 해당 문장을 정수로 인코딩\n",
    "inputs = tokenizer('데이터 분석 프로젝트는 정말 [MASK]다.' , return_tensors='tf')"
   ]
  },
  {
   "cell_type": "code",
   "execution_count": 7,
   "id": "004eefe1-4250-4899-86cd-d33793e12b6a",
   "metadata": {},
   "outputs": [],
   "source": [
    "from transformers import FillMaskPipeline"
   ]
  },
  {
   "cell_type": "code",
   "execution_count": 11,
   "id": "85b7ca47-b285-4e96-b58b-ab60e0de44b4",
   "metadata": {},
   "outputs": [
    {
     "data": {
      "text/plain": [
       "[{'score': 0.15516649186611176,\n",
       "  'token': 11980,\n",
       "  'token_str': '멋지',\n",
       "  'sequence': '데이터 분석 프로젝트는 정말 멋지 다.'},\n",
       " {'score': 0.07767242193222046,\n",
       "  'token': 3841,\n",
       "  'token_str': '최고',\n",
       "  'sequence': '데이터 분석 프로젝트는 정말 최고 다.'},\n",
       " {'score': 0.05378102883696556,\n",
       "  'token': 6001,\n",
       "  'token_str': '재미있',\n",
       "  'sequence': '데이터 분석 프로젝트는 정말 재미있 다.'},\n",
       " {'score': 0.036676276475191116,\n",
       "  'token': 4258,\n",
       "  'token_str': '어렵',\n",
       "  'sequence': '데이터 분석 프로젝트는 정말 어렵 다.'},\n",
       " {'score': 0.03222637251019478,\n",
       "  'token': 1504,\n",
       "  'token_str': '이',\n",
       "  'sequence': '데이터 분석 프로젝트는 정말 이 다.'}]"
      ]
     },
     "execution_count": 11,
     "metadata": {},
     "output_type": "execute_result"
    }
   ],
   "source": [
    "# 비어있는 Mask 토큰을 예측\n",
    "pipe1 = FillMaskPipeline(model=model, tokenizer = tokenizer)\n",
    "pipe1('데이터 분석 프로젝트는 정말 [MASK]다.')"
   ]
  },
  {
   "cell_type": "markdown",
   "id": "eb196e2c-3003-4c23-a815-0eeffa88aacc",
   "metadata": {},
   "source": [
    "# NSP\n",
    "\n",
    "- 두 개의 문장을 준 후에 이 문장이 서로 이어지는 문장인지 아닌지를 맞추는 방식으로 학습하는 기법\n",
    "- BERT는 50:50 비율로 실제는 이어지는 두개 문장을 붙여 학습 / 나머지는 Random한 문장을 붙여 학습\n",
    "- 각 문장 간 구분을 [SEP]라는 태그를 이용해 구분\n",
    "- 두 문장이 이어지는 지 아닌지를 [CLS]토큰으로 출력하여 확인\n",
    "- BERT는 MLM과 NSP 동시 진행 학습을 수행"
   ]
  },
  {
   "cell_type": "code",
   "execution_count": 12,
   "id": "c34a8a80-770e-4ec6-87f7-022a6b2e980a",
   "metadata": {},
   "outputs": [],
   "source": [
    "from transformers import TFBertForNextSentencePrediction"
   ]
  },
  {
   "cell_type": "code",
   "execution_count": 14,
   "id": "d713694b-5293-43d7-a491-460963bd6e50",
   "metadata": {},
   "outputs": [
    {
     "name": "stderr",
     "output_type": "stream",
     "text": [
      "Some weights of the PyTorch model were not used when initializing the TF 2.0 model TFBertForNextSentencePrediction: ['bert.embeddings.position_ids']\n",
      "- This IS expected if you are initializing TFBertForNextSentencePrediction from a PyTorch model trained on another task or with another architecture (e.g. initializing a TFBertForSequenceClassification model from a BertForPreTraining model).\n",
      "- This IS NOT expected if you are initializing TFBertForNextSentencePrediction from a PyTorch model that you expect to be exactly identical (e.g. initializing a TFBertForSequenceClassification model from a BertForSequenceClassification model).\n",
      "All the weights of TFBertForNextSentencePrediction were initialized from the PyTorch model.\n",
      "If your task is similar to the task the model of the checkpoint was trained on, you can already use TFBertForNextSentencePrediction for predictions without further training.\n"
     ]
    }
   ],
   "source": [
    "model_nsp = TFBertForNextSentencePrediction.from_pretrained('klue/bert-base', from_pt = True)"
   ]
  },
  {
   "cell_type": "code",
   "execution_count": 15,
   "id": "d724a1eb-518a-4380-adfa-6a66ae4dee3c",
   "metadata": {},
   "outputs": [],
   "source": [
    "from keras.layers import Softmax\n",
    "import tensorflow as tf"
   ]
  },
  {
   "cell_type": "code",
   "execution_count": 25,
   "id": "a0217bd4-1af5-490d-8d0f-82cb0354c240",
   "metadata": {},
   "outputs": [],
   "source": [
    "# 두 문장의 일치 여부 판별 함수\n",
    "def nsp_bert(first_sent, second_sont) :\n",
    "    # 토크나이징\n",
    "    encoding = tokenizer(first_sent, second_sont, return_tensors='tf')\n",
    "    # 모델을 실행\n",
    "    outputs = model_nsp(encoding['input_ids'], token_type_ids=encoding['token_type_ids'])\n",
    "    \n",
    "    # 최종 예측 (1 또는 0 예측)\n",
    "    softmax = Softmax()\n",
    "    prob_output = softmax(outputs.logits)\n",
    "    \n",
    "    return tf.math.argmax(prob_output, axis=1).numpy()"
   ]
  },
  {
   "cell_type": "code",
   "execution_count": 26,
   "id": "3e52615d-1850-45b3-b5c7-eef4dce68057",
   "metadata": {},
   "outputs": [],
   "source": [
    "# 예제문장\n",
    "sent1 = \"오늘 프로젝트는 반드시 6시전에 끝내겠어!\"\n",
    "sent2 = \"하지만 해야될게 너무 많네 ㅠㅠ\""
   ]
  },
  {
   "cell_type": "code",
   "execution_count": 27,
   "id": "c2a04db9-7833-4014-aa98-16e2ea206a1f",
   "metadata": {},
   "outputs": [
    {
     "data": {
      "text/plain": [
       "array([0], dtype=int64)"
      ]
     },
     "execution_count": 27,
     "metadata": {},
     "output_type": "execute_result"
    }
   ],
   "source": [
    "nsp_bert(sent1, sent2)"
   ]
  },
  {
   "cell_type": "code",
   "execution_count": 28,
   "id": "3dbe3371-ee52-4fc4-9dff-6eba2f65213e",
   "metadata": {},
   "outputs": [
    {
     "data": {
      "text/plain": [
       "array([0], dtype=int64)"
      ]
     },
     "execution_count": 28,
     "metadata": {},
     "output_type": "execute_result"
    }
   ],
   "source": [
    "# 예제문장\n",
    "sent1 = \"아 월요일 너무 힘들다\"\n",
    "snet2 = \"주말은 언제오냐?ㅠㅠ\"\n",
    "nsp_bert(sent1, sent2)"
   ]
  },
  {
   "cell_type": "markdown",
   "id": "37aa4f2f-56c7-48ba-ab95-55e2c98f73b0",
   "metadata": {},
   "source": [
    "# BERT를 이용한 Chat Bot 구현"
   ]
  },
  {
   "cell_type": "code",
   "execution_count": 29,
   "id": "d21d9b3a-0400-41db-8dc1-f609f981a093",
   "metadata": {},
   "outputs": [
    {
     "name": "stdout",
     "output_type": "stream",
     "text": [
      "Collecting sentence-transformers\n",
      "  Downloading sentence_transformers-3.0.1-py3-none-any.whl.metadata (10 kB)\n",
      "Requirement already satisfied: transformers<5.0.0,>=4.34.0 in c:\\programdata\\anaconda3\\lib\\site-packages (from sentence-transformers) (4.41.2)\n",
      "Requirement already satisfied: tqdm in c:\\programdata\\anaconda3\\lib\\site-packages (from sentence-transformers) (4.65.0)\n",
      "Requirement already satisfied: torch>=1.11.0 in c:\\programdata\\anaconda3\\lib\\site-packages (from sentence-transformers) (2.3.1)\n",
      "Requirement already satisfied: numpy in c:\\programdata\\anaconda3\\lib\\site-packages (from sentence-transformers) (1.26.4)\n",
      "Requirement already satisfied: scikit-learn in c:\\programdata\\anaconda3\\lib\\site-packages (from sentence-transformers) (1.2.2)\n",
      "Requirement already satisfied: scipy in c:\\programdata\\anaconda3\\lib\\site-packages (from sentence-transformers) (1.11.4)\n",
      "Requirement already satisfied: huggingface-hub>=0.15.1 in c:\\programdata\\anaconda3\\lib\\site-packages (from sentence-transformers) (0.23.4)\n",
      "Requirement already satisfied: Pillow in c:\\programdata\\anaconda3\\lib\\site-packages (from sentence-transformers) (10.2.0)\n",
      "Requirement already satisfied: filelock in c:\\programdata\\anaconda3\\lib\\site-packages (from huggingface-hub>=0.15.1->sentence-transformers) (3.13.1)\n",
      "Requirement already satisfied: fsspec>=2023.5.0 in c:\\programdata\\anaconda3\\lib\\site-packages (from huggingface-hub>=0.15.1->sentence-transformers) (2023.10.0)\n",
      "Requirement already satisfied: packaging>=20.9 in c:\\programdata\\anaconda3\\lib\\site-packages (from huggingface-hub>=0.15.1->sentence-transformers) (23.1)\n",
      "Requirement already satisfied: pyyaml>=5.1 in c:\\programdata\\anaconda3\\lib\\site-packages (from huggingface-hub>=0.15.1->sentence-transformers) (6.0.1)\n",
      "Requirement already satisfied: requests in c:\\programdata\\anaconda3\\lib\\site-packages (from huggingface-hub>=0.15.1->sentence-transformers) (2.31.0)\n",
      "Requirement already satisfied: typing-extensions>=3.7.4.3 in c:\\programdata\\anaconda3\\lib\\site-packages (from huggingface-hub>=0.15.1->sentence-transformers) (4.9.0)\n",
      "Requirement already satisfied: sympy in c:\\programdata\\anaconda3\\lib\\site-packages (from torch>=1.11.0->sentence-transformers) (1.12)\n",
      "Requirement already satisfied: networkx in c:\\programdata\\anaconda3\\lib\\site-packages (from torch>=1.11.0->sentence-transformers) (3.1)\n",
      "Requirement already satisfied: jinja2 in c:\\programdata\\anaconda3\\lib\\site-packages (from torch>=1.11.0->sentence-transformers) (3.1.3)\n",
      "Requirement already satisfied: mkl<=2021.4.0,>=2021.1.1 in c:\\programdata\\anaconda3\\lib\\site-packages (from torch>=1.11.0->sentence-transformers) (2021.4.0)\n",
      "Requirement already satisfied: colorama in c:\\programdata\\anaconda3\\lib\\site-packages (from tqdm->sentence-transformers) (0.4.6)\n",
      "Requirement already satisfied: regex!=2019.12.17 in c:\\programdata\\anaconda3\\lib\\site-packages (from transformers<5.0.0,>=4.34.0->sentence-transformers) (2023.10.3)\n",
      "Requirement already satisfied: tokenizers<0.20,>=0.19 in c:\\programdata\\anaconda3\\lib\\site-packages (from transformers<5.0.0,>=4.34.0->sentence-transformers) (0.19.1)\n",
      "Requirement already satisfied: safetensors>=0.4.1 in c:\\programdata\\anaconda3\\lib\\site-packages (from transformers<5.0.0,>=4.34.0->sentence-transformers) (0.4.3)\n",
      "Requirement already satisfied: joblib>=1.1.1 in c:\\programdata\\anaconda3\\lib\\site-packages (from scikit-learn->sentence-transformers) (1.2.0)\n",
      "Requirement already satisfied: threadpoolctl>=2.0.0 in c:\\programdata\\anaconda3\\lib\\site-packages (from scikit-learn->sentence-transformers) (2.2.0)\n",
      "Requirement already satisfied: intel-openmp==2021.* in c:\\programdata\\anaconda3\\lib\\site-packages (from mkl<=2021.4.0,>=2021.1.1->torch>=1.11.0->sentence-transformers) (2021.4.0)\n",
      "Requirement already satisfied: tbb==2021.* in c:\\programdata\\anaconda3\\lib\\site-packages (from mkl<=2021.4.0,>=2021.1.1->torch>=1.11.0->sentence-transformers) (2021.12.0)\n",
      "Requirement already satisfied: MarkupSafe>=2.0 in c:\\programdata\\anaconda3\\lib\\site-packages (from jinja2->torch>=1.11.0->sentence-transformers) (2.1.3)\n",
      "Requirement already satisfied: charset-normalizer<4,>=2 in c:\\programdata\\anaconda3\\lib\\site-packages (from requests->huggingface-hub>=0.15.1->sentence-transformers) (2.0.4)\n",
      "Requirement already satisfied: idna<4,>=2.5 in c:\\programdata\\anaconda3\\lib\\site-packages (from requests->huggingface-hub>=0.15.1->sentence-transformers) (3.4)\n",
      "Requirement already satisfied: urllib3<3,>=1.21.1 in c:\\programdata\\anaconda3\\lib\\site-packages (from requests->huggingface-hub>=0.15.1->sentence-transformers) (2.0.7)\n",
      "Requirement already satisfied: certifi>=2017.4.17 in c:\\programdata\\anaconda3\\lib\\site-packages (from requests->huggingface-hub>=0.15.1->sentence-transformers) (2024.2.2)\n",
      "Requirement already satisfied: mpmath>=0.19 in c:\\programdata\\anaconda3\\lib\\site-packages (from sympy->torch>=1.11.0->sentence-transformers) (1.3.0)\n",
      "Downloading sentence_transformers-3.0.1-py3-none-any.whl (227 kB)\n",
      "   ---------------------------------------- 0.0/227.1 kB ? eta -:--:--\n",
      "   ----- ---------------------------------- 30.7/227.1 kB 1.4 MB/s eta 0:00:01\n",
      "   ---------------------------------------- 227.1/227.1 kB 4.7 MB/s eta 0:00:00\n",
      "Installing collected packages: sentence-transformers\n",
      "Successfully installed sentence-transformers-3.0.1\n"
     ]
    }
   ],
   "source": [
    "!pip install sentence-transformers"
   ]
  },
  {
   "cell_type": "code",
   "execution_count": 30,
   "id": "753d5cc4-1d36-4d51-b149-fa21cc48efab",
   "metadata": {},
   "outputs": [],
   "source": [
    "import numpy as np\n",
    "import pandas as pd\n",
    "from numpy import dot\n",
    "from numpy.linalg import norm\n",
    "from sentence_transformers import SentenceTransformer"
   ]
  },
  {
   "cell_type": "code",
   "execution_count": 31,
   "id": "cb2a58fe-27e6-42ee-aade-208667869994",
   "metadata": {},
   "outputs": [
    {
     "data": {
      "text/html": [
       "<div>\n",
       "<style scoped>\n",
       "    .dataframe tbody tr th:only-of-type {\n",
       "        vertical-align: middle;\n",
       "    }\n",
       "\n",
       "    .dataframe tbody tr th {\n",
       "        vertical-align: top;\n",
       "    }\n",
       "\n",
       "    .dataframe thead th {\n",
       "        text-align: right;\n",
       "    }\n",
       "</style>\n",
       "<table border=\"1\" class=\"dataframe\">\n",
       "  <thead>\n",
       "    <tr style=\"text-align: right;\">\n",
       "      <th></th>\n",
       "      <th>Unnamed: 0</th>\n",
       "      <th>Q</th>\n",
       "      <th>A</th>\n",
       "      <th>label</th>\n",
       "    </tr>\n",
       "  </thead>\n",
       "  <tbody>\n",
       "    <tr>\n",
       "      <th>0</th>\n",
       "      <td>0</td>\n",
       "      <td>12시 땡!</td>\n",
       "      <td>하루가 또 가네요.</td>\n",
       "      <td>0</td>\n",
       "    </tr>\n",
       "    <tr>\n",
       "      <th>1</th>\n",
       "      <td>1</td>\n",
       "      <td>1지망 학교 떨어졌어</td>\n",
       "      <td>위로해 드립니다.</td>\n",
       "      <td>0</td>\n",
       "    </tr>\n",
       "    <tr>\n",
       "      <th>2</th>\n",
       "      <td>2</td>\n",
       "      <td>3박4일 놀러가고 싶다</td>\n",
       "      <td>여행은 언제나 좋죠.</td>\n",
       "      <td>0</td>\n",
       "    </tr>\n",
       "  </tbody>\n",
       "</table>\n",
       "</div>"
      ],
      "text/plain": [
       "   Unnamed: 0             Q            A  label\n",
       "0           0        12시 땡!   하루가 또 가네요.      0\n",
       "1           1   1지망 학교 떨어졌어    위로해 드립니다.      0\n",
       "2           2  3박4일 놀러가고 싶다  여행은 언제나 좋죠.      0"
      ]
     },
     "execution_count": 31,
     "metadata": {},
     "output_type": "execute_result"
    }
   ],
   "source": [
    "df1 = pd.read_csv(r'C:\\Users\\UserK\\Desktop\\Ranee\\data\\ML\\39_Data.csv')\n",
    "df1.head(3)"
   ]
  },
  {
   "cell_type": "code",
   "execution_count": 33,
   "id": "e0e1d004-79fe-4401-a9cf-a7f4cfabe0b9",
   "metadata": {},
   "outputs": [
    {
     "data": {
      "application/vnd.jupyter.widget-view+json": {
       "model_id": "1fdc84fde0e34c27aeee8a4c9e935571",
       "version_major": 2,
       "version_minor": 0
      },
      "text/plain": [
       "modules.json:   0%|          | 0.00/229 [00:00<?, ?B/s]"
      ]
     },
     "metadata": {},
     "output_type": "display_data"
    },
    {
     "data": {
      "application/vnd.jupyter.widget-view+json": {
       "model_id": "7812194055264082b5131a049570ca4b",
       "version_major": 2,
       "version_minor": 0
      },
      "text/plain": [
       "config_sentence_transformers.json:   0%|          | 0.00/122 [00:00<?, ?B/s]"
      ]
     },
     "metadata": {},
     "output_type": "display_data"
    },
    {
     "data": {
      "application/vnd.jupyter.widget-view+json": {
       "model_id": "2b743d0ddedc40719867db2f2cc49120",
       "version_major": 2,
       "version_minor": 0
      },
      "text/plain": [
       "README.md:   0%|          | 0.00/4.09k [00:00<?, ?B/s]"
      ]
     },
     "metadata": {},
     "output_type": "display_data"
    },
    {
     "data": {
      "application/vnd.jupyter.widget-view+json": {
       "model_id": "a5389bf7c06c4429acf3bd7bf869bc12",
       "version_major": 2,
       "version_minor": 0
      },
      "text/plain": [
       "sentence_bert_config.json:   0%|          | 0.00/53.0 [00:00<?, ?B/s]"
      ]
     },
     "metadata": {},
     "output_type": "display_data"
    },
    {
     "name": "stderr",
     "output_type": "stream",
     "text": [
      "C:\\ProgramData\\anaconda3\\Lib\\site-packages\\huggingface_hub\\file_download.py:1132: FutureWarning: `resume_download` is deprecated and will be removed in version 1.0.0. Downloads always resume when possible. If you want to force a new download, use `force_download=True`.\n",
      "  warnings.warn(\n"
     ]
    },
    {
     "data": {
      "application/vnd.jupyter.widget-view+json": {
       "model_id": "9cc2a93d6aba4a7ca64ca9a2826dea96",
       "version_major": 2,
       "version_minor": 0
      },
      "text/plain": [
       "config.json:   0%|          | 0.00/731 [00:00<?, ?B/s]"
      ]
     },
     "metadata": {},
     "output_type": "display_data"
    },
    {
     "data": {
      "application/vnd.jupyter.widget-view+json": {
       "model_id": "2fe222fbd2034f7c84a924fce9147cf6",
       "version_major": 2,
       "version_minor": 0
      },
      "text/plain": [
       "model.safetensors:   0%|          | 0.00/1.11G [00:00<?, ?B/s]"
      ]
     },
     "metadata": {},
     "output_type": "display_data"
    },
    {
     "data": {
      "application/vnd.jupyter.widget-view+json": {
       "model_id": "9a223a4a334d4f7caca1c12424d191eb",
       "version_major": 2,
       "version_minor": 0
      },
      "text/plain": [
       "tokenizer_config.json:   0%|          | 0.00/527 [00:00<?, ?B/s]"
      ]
     },
     "metadata": {},
     "output_type": "display_data"
    },
    {
     "data": {
      "application/vnd.jupyter.widget-view+json": {
       "model_id": "b025137c824645e586397d88073a77d5",
       "version_major": 2,
       "version_minor": 0
      },
      "text/plain": [
       "sentencepiece.bpe.model:   0%|          | 0.00/5.07M [00:00<?, ?B/s]"
      ]
     },
     "metadata": {},
     "output_type": "display_data"
    },
    {
     "data": {
      "application/vnd.jupyter.widget-view+json": {
       "model_id": "e3d9168f4bde4c21a70dcfbe3f107f0a",
       "version_major": 2,
       "version_minor": 0
      },
      "text/plain": [
       "tokenizer.json:   0%|          | 0.00/9.10M [00:00<?, ?B/s]"
      ]
     },
     "metadata": {},
     "output_type": "display_data"
    },
    {
     "data": {
      "application/vnd.jupyter.widget-view+json": {
       "model_id": "eab29fe0c38144109904058df5df5751",
       "version_major": 2,
       "version_minor": 0
      },
      "text/plain": [
       "special_tokens_map.json:   0%|          | 0.00/150 [00:00<?, ?B/s]"
      ]
     },
     "metadata": {},
     "output_type": "display_data"
    },
    {
     "data": {
      "application/vnd.jupyter.widget-view+json": {
       "model_id": "3757425c1f404ed0bbbecacc5b1d727e",
       "version_major": 2,
       "version_minor": 0
      },
      "text/plain": [
       "1_Pooling/config.json:   0%|          | 0.00/190 [00:00<?, ?B/s]"
      ]
     },
     "metadata": {},
     "output_type": "display_data"
    }
   ],
   "source": [
    "# Hugging Face에서 문장을 Embadding 하는 모델 호출 / BERT\n",
    "model_url = 'sentence-transformers/xlm-r-100langs-bert-base-nli-stsb-mean-tokens'\n",
    "model = SentenceTransformer(model_url)"
   ]
  },
  {
   "cell_type": "code",
   "execution_count": 34,
   "id": "37202a8f-7f68-499e-b639-9a6b991d5449",
   "metadata": {},
   "outputs": [
    {
     "data": {
      "text/plain": [
       "'12시 땡!'"
      ]
     },
     "execution_count": 34,
     "metadata": {},
     "output_type": "execute_result"
    }
   ],
   "source": [
    "df1['Q'][0]"
   ]
  },
  {
   "cell_type": "code",
   "execution_count": 35,
   "id": "a5ea611e-4132-43d6-b392-a24f944b5262",
   "metadata": {},
   "outputs": [
    {
     "data": {
      "text/plain": [
       "array([ 2.01795861e-01, -3.44381519e-02,  1.53957236e+00,  1.06974738e-02,\n",
       "        3.79792273e-01,  1.42492861e-01,  1.82864204e-01,  5.58312476e-01,\n",
       "       -3.94889295e-01, -1.17657557e-01, -2.32988909e-01,  3.39581072e-02,\n",
       "       -2.47104198e-01,  3.14535707e-01,  5.60950339e-01, -1.05517350e-01,\n",
       "       -2.92884797e-01, -2.04060271e-01,  3.35199200e-02, -3.21389586e-01,\n",
       "       -1.86384097e-01,  8.55993256e-02,  1.51072368e-01, -3.84577215e-01,\n",
       "       -2.92813510e-01, -4.39995229e-01,  4.83394176e-01, -9.67642784e-01,\n",
       "       -1.51495850e-02,  3.77274188e-03,  2.49316186e-01, -6.04051165e-02,\n",
       "        2.29004860e-01, -2.45081428e-02, -4.22660373e-02, -7.88766891e-02,\n",
       "       -5.18548608e-01, -2.25840490e-02, -1.13830075e-01, -4.75926191e-01,\n",
       "        8.06325734e-01, -3.97932343e-02,  3.83716822e-01,  2.23248646e-01,\n",
       "       -7.62536004e-02, -7.43275881e-02,  3.57227623e-02,  2.59037048e-01,\n",
       "       -3.44938189e-01, -5.93228459e-01, -8.21068406e-01, -4.05041933e-01,\n",
       "        1.16658531e-01,  2.76248455e-01, -2.77389228e-01, -1.15985751e-01,\n",
       "       -1.69149544e-02, -2.52589703e-01,  1.99033424e-01,  6.45438492e-01,\n",
       "        3.94838303e-01, -5.65885544e-01,  3.48211139e-01,  6.53708875e-01,\n",
       "       -1.51743129e-01,  1.77472830e-01,  3.16991746e-01, -3.90329286e-02,\n",
       "       -2.03925699e-01,  4.47613657e-01,  7.11343884e-01,  1.61521628e-01,\n",
       "        1.63215682e-01,  6.00931048e-01, -4.11912203e-01,  6.42714724e-02,\n",
       "        1.76102847e-01,  2.72790641e-01, -1.71842590e-01,  5.50492585e-01,\n",
       "        8.98429826e-02, -7.43766651e-02,  7.03131557e-01,  3.06959212e-01,\n",
       "       -2.12499514e-01,  1.64237693e-01, -2.60773432e-02,  3.11259776e-01,\n",
       "       -1.11680591e+00,  8.49558860e-02, -2.06245765e-01, -1.65326431e-01,\n",
       "        1.49501577e-01, -8.11881199e-02,  3.50532293e-01, -3.27486284e-02,\n",
       "        1.75669059e-01, -3.68082941e-01, -3.00623327e-02, -5.04293501e-01,\n",
       "        1.11778073e-01, -3.23999673e-01,  3.16575766e-01, -2.04705209e-01,\n",
       "        1.89115763e-01,  1.20460972e-01,  2.60311365e-02, -1.99890777e-01,\n",
       "        3.84408951e-01, -4.00854424e-02, -1.18860140e-01,  2.51203448e-01,\n",
       "        5.48249900e-01, -2.80263573e-01, -5.52443787e-02, -3.44351023e-01,\n",
       "       -8.43915939e-01,  9.68620628e-02, -3.57631594e-01,  2.36948177e-01,\n",
       "       -1.40803292e-01,  4.28047717e-01, -3.35394777e-02, -1.45336196e-01,\n",
       "        4.24995393e-01,  6.01651073e-02,  4.91917469e-02, -4.32831913e-01,\n",
       "       -3.50100666e-01,  6.06939904e-02,  3.64144109e-02,  2.19760314e-01,\n",
       "        2.77220190e-01, -1.44413644e-02, -3.52395743e-01, -6.50935322e-02,\n",
       "       -2.00960673e-02, -2.60778248e-01, -2.47231886e-01,  4.89857886e-03,\n",
       "       -6.59800470e-01, -4.18910198e-02, -4.17332232e-01,  4.70647961e-01,\n",
       "        4.09039170e-01, -2.80706018e-01,  1.49572447e-01,  4.83965456e-01,\n",
       "        7.45556131e-02,  2.08360881e-01, -4.58997190e-01,  2.74563730e-01,\n",
       "       -2.17032909e-01, -5.87156832e-01, -4.06832129e-01,  1.44754842e-01,\n",
       "       -1.99766234e-01,  4.79713500e-01,  6.26410916e-02, -8.71979669e-02,\n",
       "        1.96577404e-02,  2.16454431e-01,  2.38484859e-01, -1.90281510e-01,\n",
       "        1.73938543e-01,  1.82548687e-01,  3.07365626e-01,  8.73984456e-01,\n",
       "        2.86491334e-01,  6.01539239e-02,  4.42663640e-01, -8.71541440e-01,\n",
       "       -3.17922294e-01,  2.24062458e-01, -5.71479738e-01,  1.24943934e-01,\n",
       "        4.54143375e-01,  3.55124772e-01,  8.05499554e-01, -6.60692826e-02,\n",
       "        1.92210879e-02,  3.25316973e-02,  8.60579908e-01, -5.56602180e-01,\n",
       "       -1.87823668e-01, -2.26653576e-01, -7.93763548e-02, -3.76431011e-02,\n",
       "        2.43711367e-01,  2.74782687e-01,  4.67746168e-01, -3.68472636e-01,\n",
       "        8.15281421e-02, -6.22514427e-01,  1.44434243e-01,  2.68455833e-01,\n",
       "        1.63413018e-01, -9.28173736e-02,  5.73425181e-02, -1.58299599e-02,\n",
       "        9.91485894e-01, -7.49787539e-02,  2.84643382e-01, -3.07419926e-01,\n",
       "        2.66478300e-01,  7.08610535e-01, -2.23490313e-01,  4.02628720e-01,\n",
       "        2.97814399e-01, -1.58170447e-01, -3.99742067e-01,  1.38767466e-01,\n",
       "        2.20984936e-01,  1.63993552e-01, -1.63063675e-01, -2.46173173e-01,\n",
       "        5.28761446e-01,  1.79198131e-01, -6.08881652e-01, -1.24142699e-01,\n",
       "        1.06609380e-02, -2.35555813e-01,  1.23017825e-01,  1.10557601e-02,\n",
       "       -2.82392025e-01,  3.76598746e-01,  6.73972666e-01, -1.42665118e-01,\n",
       "       -3.48757893e-01, -6.78176224e-01,  3.55282170e-03, -4.57647771e-01,\n",
       "        2.60512710e-01,  3.69137228e-01,  1.16622090e-01,  3.23224843e-01,\n",
       "        1.76298380e-01, -5.12306631e-01, -2.04361662e-01,  2.24245891e-01,\n",
       "        3.92260663e-02,  3.30954790e-01,  1.23414792e-01,  2.17241198e-01,\n",
       "       -6.81395233e-01, -3.34807783e-01,  4.12757427e-01, -1.30156279e-01,\n",
       "       -2.60685403e-02,  4.75108951e-01,  1.68671608e-02, -6.25316560e-01,\n",
       "        3.16548347e-03, -3.47184569e-01, -2.15529576e-01, -3.20267975e-01,\n",
       "       -1.59648180e-01, -1.63771719e-01, -4.20838557e-02, -5.34678936e-01,\n",
       "       -6.20867796e-02, -2.22849861e-01,  1.77798241e-01, -2.24603996e-01,\n",
       "       -2.07823083e-01, -1.71496108e-01, -2.46827364e-01,  7.59335756e-02,\n",
       "        1.23511814e-01, -7.62819573e-02, -1.18948407e-01, -2.35150587e-02,\n",
       "       -2.08623648e-01, -5.02877593e-01,  3.39078486e-01, -4.52606916e-01,\n",
       "        6.02927625e-01, -4.07697149e-02, -5.19592345e-01, -4.42420185e-01,\n",
       "       -1.11626372e-01,  7.33625069e-02, -1.31127059e+00,  5.66785336e-02,\n",
       "        6.91386312e-02, -1.54030174e-01,  4.73951519e-01, -3.03909302e-01,\n",
       "       -3.12107831e-01,  2.12826937e-01, -7.00217307e-01, -5.85060604e-02,\n",
       "       -4.02032807e-02, -8.58194411e-01,  5.23629010e-01, -2.90510595e-01,\n",
       "        1.60149619e-01,  4.57614601e-01, -1.03995109e+00,  4.79551584e-01,\n",
       "       -2.37281010e-01, -1.17141195e-01, -1.37472630e-01,  1.95517391e-01,\n",
       "        9.85762477e-02, -5.02918772e-02, -1.54713839e-01, -1.84979185e-01,\n",
       "       -9.27352756e-02, -2.13718057e-01, -8.15497577e-01, -1.65680334e-01,\n",
       "       -1.51886508e-01, -3.47954258e-02,  7.49199837e-03,  2.68109925e-02,\n",
       "       -4.84740943e-01,  3.44349086e-01,  3.58648561e-02, -6.87108159e-01,\n",
       "        1.60899505e-01,  2.22557023e-01, -9.65480730e-02, -1.20969288e-01,\n",
       "       -2.24650040e-01,  1.15916491e-01, -5.03728867e-01,  4.06520694e-01,\n",
       "        1.19948700e-01, -3.29477578e-01,  1.76169351e-01,  2.56192654e-01,\n",
       "        1.93712130e-01,  1.40511664e-02,  1.17999844e-01,  5.84407330e-01,\n",
       "       -2.36789599e-01, -4.33617920e-01,  3.21099311e-01, -1.21268034e-01,\n",
       "       -1.27479017e-01, -3.86610478e-01, -4.93916094e-01, -2.72125512e-01,\n",
       "        8.05786788e-01, -4.46672499e-01, -3.04576635e-01, -9.34473872e-01,\n",
       "        6.03457153e-01, -4.11168426e-01, -9.35249925e-02,  1.21321119e-01,\n",
       "       -6.62787557e-01,  1.89715728e-01, -6.75872207e-01, -5.18888608e-02,\n",
       "        4.50031817e-01, -2.83228278e-01,  3.29040676e-01,  1.54776022e-01,\n",
       "       -1.49962530e-01, -3.64080638e-01, -3.81194115e-01,  1.82877406e-01,\n",
       "        5.10761365e-02,  9.26495939e-02,  2.99621105e-01, -1.29056856e-01,\n",
       "        9.54631925e-01,  3.97622585e-01,  3.10749233e-01, -3.16856176e-01,\n",
       "        1.40813887e-01, -1.25733286e-01, -3.73099625e-01,  9.81275216e-02,\n",
       "        2.01479942e-01, -5.89842379e-01,  2.55859941e-01,  6.26657903e-02,\n",
       "       -8.34881794e-03, -2.48933107e-01, -1.80402756e-01, -4.08044504e-03,\n",
       "        4.07283574e-01,  1.74254328e-01, -2.58109838e-01, -5.96414030e-01,\n",
       "        7.69235566e-02, -1.77077025e-01,  3.34167957e-01,  2.84491718e-01,\n",
       "        3.01072896e-01,  9.05693024e-02, -9.86368861e-03, -9.76019859e-01,\n",
       "        4.01823580e-01,  1.08954124e-01,  2.40740791e-01,  1.11440942e-01,\n",
       "       -9.14446265e-02,  7.69071579e-01, -2.12061405e-02,  1.91050433e-02,\n",
       "        3.71439159e-02,  3.98361273e-02,  1.40065044e-01, -1.03012897e-01,\n",
       "       -7.11200655e-01, -9.57726762e-02, -1.46296276e-02,  1.09962702e-01,\n",
       "       -5.66301465e-01,  8.76726955e-02, -3.90072882e-01,  3.69467109e-01,\n",
       "       -1.66514084e-01, -5.75613916e-01,  3.27498227e-01,  1.19419232e-01,\n",
       "       -1.93958785e-02, -2.70398557e-01, -4.18122768e-01,  2.92400066e-02,\n",
       "       -9.46790501e-02,  2.46368796e-01,  1.93131611e-01, -6.21826127e-02,\n",
       "       -1.27345145e-01, -7.81164914e-02,  2.00032871e-02,  2.67620772e-01,\n",
       "       -3.44593488e-02,  2.56319973e-03, -1.92946151e-01, -1.04965763e-02,\n",
       "       -3.66205066e-01, -4.65118289e-02,  9.72759351e-02,  9.73975286e-02,\n",
       "        4.86923128e-01,  2.05859885e-01, -5.06206691e-01,  1.87268957e-01,\n",
       "       -2.55500019e-01, -3.93825948e-01, -8.15047324e-03,  1.14037104e-01,\n",
       "       -5.34564555e-02, -9.53998417e-02, -1.50841504e-01,  6.03776336e-01,\n",
       "        1.29424900e-01,  6.05011657e-02,  2.96585172e-01,  1.43204316e-01,\n",
       "       -2.51907587e-01,  1.02480426e-01,  3.70658189e-01, -3.32471132e-01,\n",
       "       -1.47073120e-01, -5.92337251e-01, -2.76258290e-01, -4.80249785e-02,\n",
       "       -2.76806623e-01, -9.81126279e-02, -2.52697557e-01,  3.48157734e-01,\n",
       "       -5.19922189e-02,  2.79675990e-01,  9.41956125e-04,  5.84980333e-03,\n",
       "        1.40537292e-01, -7.78619424e-02,  1.22446138e-02,  8.25204492e-01,\n",
       "       -1.25137532e+00,  2.10088968e-01,  3.99159372e-01, -3.96573730e-02,\n",
       "        2.15700626e-01,  3.46662015e-01, -3.07283461e-01, -1.76794693e-01,\n",
       "       -3.18891287e-01,  2.87184328e-01,  4.02941257e-01, -3.37620936e-02,\n",
       "        4.47072655e-01,  1.41243383e-01, -7.46514022e-01, -5.45688748e-01,\n",
       "       -3.54157954e-01, -2.76190698e-01, -1.96998373e-01,  8.08106720e-01,\n",
       "       -3.56302887e-01, -3.92997488e-02,  1.34840846e-01,  1.50529489e-01,\n",
       "       -3.89244586e-01,  7.22438544e-02, -5.67786276e-01, -4.51273292e-01,\n",
       "        8.94881636e-02,  2.86575794e-01, -5.16263962e-01,  5.65736413e-01,\n",
       "       -2.07359999e-01,  2.29483633e-03, -4.45198476e-01,  6.01469338e-01,\n",
       "       -2.78511554e-01,  8.62427894e-03, -2.08379522e-01, -1.04759455e-01,\n",
       "        6.24431968e-02,  1.89579800e-01,  3.63726646e-01, -8.04549277e-01,\n",
       "        2.91001379e-01,  4.12997976e-02, -1.86892316e-01, -1.10955916e-01,\n",
       "        2.11164236e-01,  1.19908825e-01,  1.17415763e-01, -3.37241560e-01,\n",
       "       -4.42673676e-02, -1.99009970e-01,  5.37535250e-01,  9.90785435e-02,\n",
       "       -1.70595378e-01, -5.57784855e-01,  5.20791113e-01,  4.82368737e-01,\n",
       "       -3.04171115e-01, -2.19484761e-01, -3.50399911e-02,  8.75292644e-02,\n",
       "        1.31928638e-01,  8.75298008e-02,  1.35750761e-02, -2.65768975e-01,\n",
       "       -3.96041155e-01, -4.20371294e-02, -1.26881167e-01,  5.08695748e-03,\n",
       "        2.23855183e-01, -5.69287956e-01, -5.04664361e-01,  1.91901788e-01,\n",
       "       -2.54271179e-01, -5.14789522e-01,  7.08372518e-02, -4.48194563e-01,\n",
       "        3.86592448e-01,  5.76752543e-01,  1.38381928e-01, -4.11393255e-01,\n",
       "        8.21001530e-02, -2.79640466e-01, -2.98675299e-01,  4.57622483e-02,\n",
       "       -3.99850577e-01,  4.61502410e-02,  9.41865444e-02,  3.69002581e-01,\n",
       "        1.91194996e-01,  4.49834391e-03,  2.35153839e-01, -1.67561844e-01,\n",
       "       -1.35036679e-02,  3.35181624e-01, -2.51915693e-01,  1.26504660e-01,\n",
       "        9.18698430e-01,  6.44021034e-02, -9.39804912e-01, -3.39267671e-01,\n",
       "        1.40392751e-01,  4.42800850e-01,  1.15265600e-01, -5.81907332e-01,\n",
       "       -2.58819193e-01, -2.36069277e-01,  3.42406064e-01, -8.32263649e-01,\n",
       "        4.25057203e-01,  6.81658685e-01,  2.48650834e-01, -3.66197437e-01,\n",
       "       -7.40397125e-02, -3.89357567e-01,  3.91254336e-01, -2.89708316e-01,\n",
       "       -1.52726576e-01,  7.58456528e-01, -2.16041729e-01,  6.02031708e-01,\n",
       "       -5.40709615e-01,  1.12735555e-01, -3.38997126e-01,  4.68862116e-01,\n",
       "       -1.28311394e-02,  4.97096777e-02, -2.45472208e-01,  6.37643635e-02,\n",
       "       -1.45828808e-02,  2.16778070e-01,  1.62876025e-01, -2.67206252e-01,\n",
       "       -5.45322478e-01, -1.18970692e-01, -1.27803788e-01, -2.10894212e-01,\n",
       "       -3.33041579e-01,  5.49023688e-01,  6.40497625e-01,  3.65336537e-02,\n",
       "       -9.11264308e-03,  3.63339245e-01, -3.53664100e-01,  1.44044608e-02,\n",
       "       -2.62928158e-01, -1.58498660e-01, -2.87727624e-01, -1.26058375e-02,\n",
       "       -2.96272691e-02, -3.27692851e-02,  2.59475201e-01,  3.71195078e-01,\n",
       "        2.41434082e-01,  2.52479706e-02,  1.11435167e-01,  1.79366380e-01,\n",
       "        2.71439821e-01,  3.72141361e-01,  4.19578642e-01, -2.20180843e-02,\n",
       "       -3.18981223e-02, -5.38097739e-01,  4.28724080e-01, -4.99187529e-01,\n",
       "       -1.22116551e-01, -2.02483326e-01, -4.48813997e-02,  4.92246836e-01,\n",
       "        4.50791180e-01,  5.36574312e-02,  1.17969401e-01, -6.59528375e-01,\n",
       "       -3.81031185e-01,  1.78393260e-01,  1.87153444e-01, -1.83173984e-01,\n",
       "        2.35426784e-01,  4.33732793e-02,  1.34045660e-01, -6.26060069e-01,\n",
       "        3.33491266e-01, -4.88325089e-01,  5.34734502e-02, -1.51319847e-01,\n",
       "       -6.28557727e-02,  1.32774144e-01, -8.75673816e-02, -3.38871777e-01,\n",
       "       -6.43160880e-01, -4.08765644e-01,  3.84318143e-01,  5.24283946e-03,\n",
       "        2.11875632e-01, -7.25906551e-01, -2.49616340e-01, -5.25952056e-02,\n",
       "        5.35762668e-01,  7.06724748e-02,  1.48905531e-01, -2.56415039e-01,\n",
       "        7.17507303e-01,  4.50428098e-01, -9.19040814e-02,  1.72321662e-01,\n",
       "       -3.42429876e-01, -3.68168116e-01,  1.66664198e-01, -2.30315581e-01,\n",
       "       -1.32769614e-01, -2.51554966e-01,  2.77992040e-01,  3.40384901e-01,\n",
       "        5.64981028e-02, -7.66846240e-01,  1.23962127e-01,  3.40730757e-01,\n",
       "        2.26736307e-01, -4.12252486e-01, -1.60144076e-01, -4.17480201e-01,\n",
       "       -2.29608983e-01, -4.06630427e-01, -7.42198765e-01,  1.56840056e-01,\n",
       "       -3.81678045e-01, -5.62519491e-01, -4.86162961e-01,  1.85874984e-01,\n",
       "        1.84700057e-01,  2.25760236e-01,  1.02168210e-01, -1.83373690e-01,\n",
       "       -1.24504812e-01,  5.94500422e-01,  1.87323660e-01,  1.23387361e+00,\n",
       "        1.51119471e-01, -1.42524093e-01,  1.45430714e-01, -2.28005931e-01,\n",
       "       -2.56287664e-01,  3.38832915e-01, -6.03611529e-01,  3.58679108e-02,\n",
       "       -4.59919274e-01,  7.48712346e-02,  1.22307695e-01, -1.94679260e-01,\n",
       "       -7.66730905e-01, -3.14958036e-01, -5.87455392e-01,  3.13935071e-01,\n",
       "       -2.30910346e-01,  4.91282195e-01,  3.40350777e-01,  1.58609431e-02,\n",
       "        2.59203374e-01,  1.46914851e-02,  1.78090900e-01,  4.59876329e-01,\n",
       "       -3.60717148e-01, -5.73601544e-01,  3.41589123e-01, -9.79462937e-02,\n",
       "       -2.20711187e-01, -2.53033102e-01, -6.08239509e-02,  2.02510372e-01,\n",
       "       -2.23969251e-01,  2.30166927e-01, -6.03889748e-02,  1.28891215e-01,\n",
       "       -4.99351352e-01, -7.37029970e-01, -2.39840642e-01,  1.80700310e-02,\n",
       "       -3.26723279e-03,  5.33808358e-02,  1.53538346e-01, -5.38108684e-02,\n",
       "        3.81606907e-01, -1.33928776e-01, -1.89685032e-01, -4.60535347e-01,\n",
       "       -1.08984090e-01,  5.97593114e-02,  1.20592393e-01,  1.19611785e-01],\n",
       "      dtype=float32)"
      ]
     },
     "execution_count": 35,
     "metadata": {},
     "output_type": "execute_result"
    }
   ],
   "source": [
    "model.encode(df1['Q'][0])"
   ]
  },
  {
   "cell_type": "code",
   "execution_count": 36,
   "id": "a1130ed1-c112-407c-9f4a-3e173714dd39",
   "metadata": {},
   "outputs": [],
   "source": [
    "from tqdm.auto import tqdm"
   ]
  },
  {
   "cell_type": "code",
   "execution_count": 37,
   "id": "df2b6971-b673-48f3-b3a2-f371f164b903",
   "metadata": {},
   "outputs": [],
   "source": [
    "tqdm.pandas() # pandas 라이브러리 내 apply 함수에 진행상황을 확인"
   ]
  },
  {
   "cell_type": "code",
   "execution_count": 38,
   "id": "fe381b9e-1952-47af-a434-67e886a2f26d",
   "metadata": {},
   "outputs": [
    {
     "data": {
      "application/vnd.jupyter.widget-view+json": {
       "model_id": "305ddffd9ef34de5856f97c432fb8bf4",
       "version_major": 2,
       "version_minor": 0
      },
      "text/plain": [
       "  0%|          | 0/11823 [00:00<?, ?it/s]"
      ]
     },
     "metadata": {},
     "output_type": "display_data"
    }
   ],
   "source": [
    "# 데이터의 모든 질문에서 문장 임베딩 값을 계산\n",
    "df1['embedding'] = df1['Q'].progress_apply(lambda x : model.encode(x))"
   ]
  },
  {
   "cell_type": "code",
   "execution_count": 39,
   "id": "713b6d1f-04df-402c-b18e-3ec30484e354",
   "metadata": {},
   "outputs": [],
   "source": [
    "# 코사인 유사도를 이용해 질문과 답변을 매칭\n",
    "def cos_sim(A,B) :\n",
    "    return dot(A,B) / (norm(A) * norm(B))"
   ]
  },
  {
   "cell_type": "code",
   "execution_count": 41,
   "id": "cff724bb-5441-44ff-96ec-01cb4a4a64da",
   "metadata": {},
   "outputs": [],
   "source": [
    "# 새로운 질문이 들어왔을 때, 해당 질문에 대한 답변 중 \n",
    "# 가장 코사인 유사도가 높은 답변을 출력\n",
    "def return_answer(question) :\n",
    "    embedding = model.encode(question)\n",
    "    df1['score'] = df1['embedding'].apply(lambda x : cos_sim(x, embedding))\n",
    "    return df1.loc[df1['score'].idxmax()]['A']"
   ]
  },
  {
   "cell_type": "code",
   "execution_count": 42,
   "id": "a784dba0-dd49-4bab-822d-9752e1cbd25b",
   "metadata": {},
   "outputs": [
    {
     "data": {
      "text/plain": [
       "'얼른 맛난 음식 드세요.'"
      ]
     },
     "execution_count": 42,
     "metadata": {},
     "output_type": "execute_result"
    }
   ],
   "source": [
    "return_answer('배고프당')"
   ]
  },
  {
   "cell_type": "code",
   "execution_count": 43,
   "id": "de36149d-1ba8-4d5d-be1c-6345721ff227",
   "metadata": {},
   "outputs": [
    {
     "name": "stdout",
     "output_type": "stream",
     "text": [
      "Collecting keybert\n",
      "  Downloading keybert-0.8.5-py3-none-any.whl.metadata (15 kB)\n",
      "Requirement already satisfied: numpy>=1.18.5 in c:\\programdata\\anaconda3\\lib\\site-packages (from keybert) (1.26.4)\n",
      "Requirement already satisfied: rich>=10.4.0 in c:\\programdata\\anaconda3\\lib\\site-packages (from keybert) (13.3.5)\n",
      "Requirement already satisfied: scikit-learn>=0.22.2 in c:\\programdata\\anaconda3\\lib\\site-packages (from keybert) (1.2.2)\n",
      "Requirement already satisfied: sentence-transformers>=0.3.8 in c:\\programdata\\anaconda3\\lib\\site-packages (from keybert) (3.0.1)\n",
      "Requirement already satisfied: markdown-it-py<3.0.0,>=2.2.0 in c:\\programdata\\anaconda3\\lib\\site-packages (from rich>=10.4.0->keybert) (2.2.0)\n",
      "Requirement already satisfied: pygments<3.0.0,>=2.13.0 in c:\\programdata\\anaconda3\\lib\\site-packages (from rich>=10.4.0->keybert) (2.15.1)\n",
      "Requirement already satisfied: scipy>=1.3.2 in c:\\programdata\\anaconda3\\lib\\site-packages (from scikit-learn>=0.22.2->keybert) (1.11.4)\n",
      "Requirement already satisfied: joblib>=1.1.1 in c:\\programdata\\anaconda3\\lib\\site-packages (from scikit-learn>=0.22.2->keybert) (1.2.0)\n",
      "Requirement already satisfied: threadpoolctl>=2.0.0 in c:\\programdata\\anaconda3\\lib\\site-packages (from scikit-learn>=0.22.2->keybert) (2.2.0)\n",
      "Requirement already satisfied: transformers<5.0.0,>=4.34.0 in c:\\programdata\\anaconda3\\lib\\site-packages (from sentence-transformers>=0.3.8->keybert) (4.41.2)\n",
      "Requirement already satisfied: tqdm in c:\\programdata\\anaconda3\\lib\\site-packages (from sentence-transformers>=0.3.8->keybert) (4.65.0)\n",
      "Requirement already satisfied: torch>=1.11.0 in c:\\programdata\\anaconda3\\lib\\site-packages (from sentence-transformers>=0.3.8->keybert) (2.3.1)\n",
      "Requirement already satisfied: huggingface-hub>=0.15.1 in c:\\programdata\\anaconda3\\lib\\site-packages (from sentence-transformers>=0.3.8->keybert) (0.23.4)\n",
      "Requirement already satisfied: Pillow in c:\\programdata\\anaconda3\\lib\\site-packages (from sentence-transformers>=0.3.8->keybert) (10.2.0)\n",
      "Requirement already satisfied: filelock in c:\\programdata\\anaconda3\\lib\\site-packages (from huggingface-hub>=0.15.1->sentence-transformers>=0.3.8->keybert) (3.13.1)\n",
      "Requirement already satisfied: fsspec>=2023.5.0 in c:\\programdata\\anaconda3\\lib\\site-packages (from huggingface-hub>=0.15.1->sentence-transformers>=0.3.8->keybert) (2023.10.0)\n",
      "Requirement already satisfied: packaging>=20.9 in c:\\programdata\\anaconda3\\lib\\site-packages (from huggingface-hub>=0.15.1->sentence-transformers>=0.3.8->keybert) (23.1)\n",
      "Requirement already satisfied: pyyaml>=5.1 in c:\\programdata\\anaconda3\\lib\\site-packages (from huggingface-hub>=0.15.1->sentence-transformers>=0.3.8->keybert) (6.0.1)\n",
      "Requirement already satisfied: requests in c:\\programdata\\anaconda3\\lib\\site-packages (from huggingface-hub>=0.15.1->sentence-transformers>=0.3.8->keybert) (2.31.0)\n",
      "Requirement already satisfied: typing-extensions>=3.7.4.3 in c:\\programdata\\anaconda3\\lib\\site-packages (from huggingface-hub>=0.15.1->sentence-transformers>=0.3.8->keybert) (4.9.0)\n",
      "Requirement already satisfied: mdurl~=0.1 in c:\\programdata\\anaconda3\\lib\\site-packages (from markdown-it-py<3.0.0,>=2.2.0->rich>=10.4.0->keybert) (0.1.0)\n",
      "Requirement already satisfied: sympy in c:\\programdata\\anaconda3\\lib\\site-packages (from torch>=1.11.0->sentence-transformers>=0.3.8->keybert) (1.12)\n",
      "Requirement already satisfied: networkx in c:\\programdata\\anaconda3\\lib\\site-packages (from torch>=1.11.0->sentence-transformers>=0.3.8->keybert) (3.1)\n",
      "Requirement already satisfied: jinja2 in c:\\programdata\\anaconda3\\lib\\site-packages (from torch>=1.11.0->sentence-transformers>=0.3.8->keybert) (3.1.3)\n",
      "Requirement already satisfied: mkl<=2021.4.0,>=2021.1.1 in c:\\programdata\\anaconda3\\lib\\site-packages (from torch>=1.11.0->sentence-transformers>=0.3.8->keybert) (2021.4.0)\n",
      "Requirement already satisfied: colorama in c:\\programdata\\anaconda3\\lib\\site-packages (from tqdm->sentence-transformers>=0.3.8->keybert) (0.4.6)\n",
      "Requirement already satisfied: regex!=2019.12.17 in c:\\programdata\\anaconda3\\lib\\site-packages (from transformers<5.0.0,>=4.34.0->sentence-transformers>=0.3.8->keybert) (2023.10.3)\n",
      "Requirement already satisfied: tokenizers<0.20,>=0.19 in c:\\programdata\\anaconda3\\lib\\site-packages (from transformers<5.0.0,>=4.34.0->sentence-transformers>=0.3.8->keybert) (0.19.1)\n",
      "Requirement already satisfied: safetensors>=0.4.1 in c:\\programdata\\anaconda3\\lib\\site-packages (from transformers<5.0.0,>=4.34.0->sentence-transformers>=0.3.8->keybert) (0.4.3)\n",
      "Requirement already satisfied: intel-openmp==2021.* in c:\\programdata\\anaconda3\\lib\\site-packages (from mkl<=2021.4.0,>=2021.1.1->torch>=1.11.0->sentence-transformers>=0.3.8->keybert) (2021.4.0)\n",
      "Requirement already satisfied: tbb==2021.* in c:\\programdata\\anaconda3\\lib\\site-packages (from mkl<=2021.4.0,>=2021.1.1->torch>=1.11.0->sentence-transformers>=0.3.8->keybert) (2021.12.0)\n",
      "Requirement already satisfied: MarkupSafe>=2.0 in c:\\programdata\\anaconda3\\lib\\site-packages (from jinja2->torch>=1.11.0->sentence-transformers>=0.3.8->keybert) (2.1.3)\n",
      "Requirement already satisfied: charset-normalizer<4,>=2 in c:\\programdata\\anaconda3\\lib\\site-packages (from requests->huggingface-hub>=0.15.1->sentence-transformers>=0.3.8->keybert) (2.0.4)\n",
      "Requirement already satisfied: idna<4,>=2.5 in c:\\programdata\\anaconda3\\lib\\site-packages (from requests->huggingface-hub>=0.15.1->sentence-transformers>=0.3.8->keybert) (3.4)\n",
      "Requirement already satisfied: urllib3<3,>=1.21.1 in c:\\programdata\\anaconda3\\lib\\site-packages (from requests->huggingface-hub>=0.15.1->sentence-transformers>=0.3.8->keybert) (2.0.7)\n",
      "Requirement already satisfied: certifi>=2017.4.17 in c:\\programdata\\anaconda3\\lib\\site-packages (from requests->huggingface-hub>=0.15.1->sentence-transformers>=0.3.8->keybert) (2024.2.2)\n",
      "Requirement already satisfied: mpmath>=0.19 in c:\\programdata\\anaconda3\\lib\\site-packages (from sympy->torch>=1.11.0->sentence-transformers>=0.3.8->keybert) (1.3.0)\n",
      "Downloading keybert-0.8.5-py3-none-any.whl (37 kB)\n",
      "Installing collected packages: keybert\n",
      "Successfully installed keybert-0.8.5\n"
     ]
    }
   ],
   "source": [
    "# KeyBERT : BERT를 활용한 토픽 모델링\n",
    "!pip install keybert"
   ]
  },
  {
   "cell_type": "code",
   "execution_count": 44,
   "id": "e39002e9-bf4d-4f96-8b29-c82d0d4e3f58",
   "metadata": {},
   "outputs": [],
   "source": [
    "from keybert import KeyBERT\n",
    "from sentence_transformers import SentenceTransformer"
   ]
  },
  {
   "cell_type": "code",
   "execution_count": 45,
   "id": "32325d96-d1f9-4616-b8a0-d307b4323088",
   "metadata": {},
   "outputs": [
    {
     "name": "stderr",
     "output_type": "stream",
     "text": [
      "No sentence-transformers model found with name xlm-roberta-base. Creating a new one with mean pooling.\n",
      "C:\\ProgramData\\anaconda3\\Lib\\site-packages\\huggingface_hub\\file_download.py:1132: FutureWarning: `resume_download` is deprecated and will be removed in version 1.0.0. Downloads always resume when possible. If you want to force a new download, use `force_download=True`.\n",
      "  warnings.warn(\n"
     ]
    },
    {
     "data": {
      "application/vnd.jupyter.widget-view+json": {
       "model_id": "8ad3429eb87946ac85941f11a52fd708",
       "version_major": 2,
       "version_minor": 0
      },
      "text/plain": [
       "config.json:   0%|          | 0.00/615 [00:00<?, ?B/s]"
      ]
     },
     "metadata": {},
     "output_type": "display_data"
    },
    {
     "data": {
      "application/vnd.jupyter.widget-view+json": {
       "model_id": "2dbf8a591261463aaec8ba758eb9eead",
       "version_major": 2,
       "version_minor": 0
      },
      "text/plain": [
       "model.safetensors:   0%|          | 0.00/1.12G [00:00<?, ?B/s]"
      ]
     },
     "metadata": {},
     "output_type": "display_data"
    },
    {
     "data": {
      "application/vnd.jupyter.widget-view+json": {
       "model_id": "4f22f7967cff4265a2a18b1ef36ce903",
       "version_major": 2,
       "version_minor": 0
      },
      "text/plain": [
       "tokenizer_config.json:   0%|          | 0.00/25.0 [00:00<?, ?B/s]"
      ]
     },
     "metadata": {},
     "output_type": "display_data"
    },
    {
     "data": {
      "application/vnd.jupyter.widget-view+json": {
       "model_id": "e1bee877436d4cb4a4f42b30ffa5ef0a",
       "version_major": 2,
       "version_minor": 0
      },
      "text/plain": [
       "sentencepiece.bpe.model:   0%|          | 0.00/5.07M [00:00<?, ?B/s]"
      ]
     },
     "metadata": {},
     "output_type": "display_data"
    },
    {
     "data": {
      "application/vnd.jupyter.widget-view+json": {
       "model_id": "6a8dcc3ec0234f83850a1a28294ac706",
       "version_major": 2,
       "version_minor": 0
      },
      "text/plain": [
       "tokenizer.json:   0%|          | 0.00/9.10M [00:00<?, ?B/s]"
      ]
     },
     "metadata": {},
     "output_type": "display_data"
    }
   ],
   "source": [
    "model = SentenceTransformer('xlm-roberta-base')"
   ]
  },
  {
   "cell_type": "code",
   "execution_count": 46,
   "id": "24d46667-2fd6-46f1-9b08-30f369510ae7",
   "metadata": {},
   "outputs": [],
   "source": [
    "model_topic = KeyBERT(model=model)"
   ]
  },
  {
   "cell_type": "code",
   "execution_count": 49,
   "id": "cadc9436-324a-4910-8ae4-f3d009e5b737",
   "metadata": {},
   "outputs": [],
   "source": [
    "with open(r'C:\\Users\\UserK\\Desktop\\Ranee\\data\\ML\\data3.txt', encoding = 'utf-8') as file :\n",
    "    text1 = file.read()"
   ]
  },
  {
   "cell_type": "code",
   "execution_count": 54,
   "id": "c2d62857-13f7-4372-a5d3-84930e145a9c",
   "metadata": {},
   "outputs": [],
   "source": [
    "text_sent1 = [x for x in text1.split('\\n')]"
   ]
  },
  {
   "cell_type": "code",
   "execution_count": 55,
   "id": "78d1662b-6e1b-4f30-80c5-94eba7e03fed",
   "metadata": {},
   "outputs": [
    {
     "data": {
      "text/plain": [
       "[('정책결정기관에', 0.985),\n",
       " ('국립정보기관이나', 0.9841),\n",
       " ('공개출처정보들을', 0.9832),\n",
       " ('오픈소스센터를', 0.9818)]"
      ]
     },
     "execution_count": 55,
     "metadata": {},
     "output_type": "execute_result"
    }
   ],
   "source": [
    "model_topic.extract_keywords(text_sent1, keyphrase_ngram_range=(0,1), top_n=4)"
   ]
  },
  {
   "attachments": {
    "730ad76f-9beb-43b7-b322-aea36675efde.png": {
     "image/png": "[encoded data removed]"
    }
   },
   "cell_type": "markdown",
   "id": "4af072a1-8663-4305-a33f-f67af9334f3a",
   "metadata": {},
   "source": [
    "# GPT (Generative Pre Trainined Transformer)\n",
    "\n",
    "![image.png](attachment:730ad76f-9beb-43b7-b322-aea36675efde.png)\n",
    "\n",
    "- Transformer의 Decoder 구조를 사용하는 자연어 처리 모델\n",
    "- GPT는 자기 회귀(Self-Regressive) 방식으로 작동하며, 이전 토큰을 기반으로 다음 토믄을 예측\n",
    "- 문장을 단방향으로만 처리 / 자연스러운 Text를 생성하는데 초점이 맞춰져 있음"
   ]
  },
  {
   "cell_type": "code",
   "execution_count": 56,
   "id": "64dd205d-da15-4442-a329-fde5130d5bad",
   "metadata": {},
   "outputs": [],
   "source": [
    "from transformers import GPT2LMHeadModel\n",
    "from transformers import PreTrainedTokenizerFast"
   ]
  },
  {
   "cell_type": "code",
   "execution_count": 57,
   "id": "2c5fd9ea-10a5-4836-afe8-5f208b58f8f9",
   "metadata": {},
   "outputs": [],
   "source": [
    "def load_model() :\n",
    "    model_url = 'skt/kogpt2-base-v2'\n",
    "    model = GPT2LMHeadModel.from_pretrained(model_url)\n",
    "    tokenizer = PreTrainedTokenizerFast.from_pretrained(model_url)\n",
    "    return model, tokenizer"
   ]
  },
  {
   "cell_type": "code",
   "execution_count": 58,
   "id": "9825edce-1dc6-4034-b1a2-6667d0c1098a",
   "metadata": {},
   "outputs": [
    {
     "data": {
      "application/vnd.jupyter.widget-view+json": {
       "model_id": "044921be99bf499fa8101ba12e17f343",
       "version_major": 2,
       "version_minor": 0
      },
      "text/plain": [
       "config.json:   0%|          | 0.00/1.00k [00:00<?, ?B/s]"
      ]
     },
     "metadata": {},
     "output_type": "display_data"
    },
    {
     "data": {
      "application/vnd.jupyter.widget-view+json": {
       "model_id": "e56b6d0f99ab4355a61e2df45143b9fa",
       "version_major": 2,
       "version_minor": 0
      },
      "text/plain": [
       "pytorch_model.bin:   0%|          | 0.00/513M [00:00<?, ?B/s]"
      ]
     },
     "metadata": {},
     "output_type": "display_data"
    },
    {
     "data": {
      "application/vnd.jupyter.widget-view+json": {
       "model_id": "ddafe8bc9f4e491586382c6c41d3dd71",
       "version_major": 2,
       "version_minor": 0
      },
      "text/plain": [
       "tokenizer.json:   0%|          | 0.00/2.83M [00:00<?, ?B/s]"
      ]
     },
     "metadata": {},
     "output_type": "display_data"
    },
    {
     "name": "stderr",
     "output_type": "stream",
     "text": [
      "The tokenizer class you load from this checkpoint is not the same type as the class this function is called from. It may result in unexpected tokenization. \n",
      "The tokenizer class you load from this checkpoint is 'GPT2Tokenizer'. \n",
      "The class this function is called from is 'PreTrainedTokenizerFast'.\n"
     ]
    }
   ],
   "source": [
    "model, tokenizer = load_model()"
   ]
  },
  {
   "cell_type": "code",
   "execution_count": 61,
   "id": "3bfc8bc1-0bdd-4818-ab15-f880555fd3f7",
   "metadata": {},
   "outputs": [],
   "source": [
    "def generate_text(start_sent, model, tokenizer) :\n",
    "    # 입력 텍스트를 토크나이징 처리 후, 모델에 제공\n",
    "    inputs = tokenizer.encode(start_sent, return_tensors='pt')\n",
    "    # 텍스트를 이어 생성\n",
    "    outputs = model.generate(inputs, max_length = 50, num_return_sequences=1)\n",
    "    # 생성된 문장 벡터를 문자로 변환\n",
    "    result = tokenizer.decode(outputs[0], skip_special_tokens = True)\n",
    "    return result"
   ]
  },
  {
   "cell_type": "code",
   "execution_count": 62,
   "id": "6d8de83e-7ece-4579-aa2a-bef71a4b5cc6",
   "metadata": {},
   "outputs": [
    {
     "data": {
      "text/plain": [
       "'오늘 배고픈데 나는 점심으로 먹었어. '"
      ]
     },
     "execution_count": 62,
     "metadata": {},
     "output_type": "execute_result"
    }
   ],
   "source": [
    "generate_text('오늘 배고픈데 나는 점심으로', model, tokenizer)"
   ]
  },
  {
   "cell_type": "code",
   "execution_count": 63,
   "id": "2e71da2b-e4f4-4b34-b8e1-6963443cb427",
   "metadata": {},
   "outputs": [
    {
     "data": {
      "text/plain": [
       "'오늘 팀프로젝트는 지난해 12월 말 기준 총 3조5000억원의 매출을 달성했다.\\n이 중 해외 매출은 1조5000억원으로 전체 매출의 약 30%를 차지했다.\\n이번 프로젝트는 지난해 12월 말 기준 총 매출의'"
      ]
     },
     "execution_count": 63,
     "metadata": {},
     "output_type": "execute_result"
    }
   ],
   "source": [
    "generate_text('오늘 팀프로젝트는', model, tokenizer)"
   ]
  },
  {
   "cell_type": "markdown",
   "id": "6b1a96eb-3cb4-4da4-a1dc-c0602aa41b02",
   "metadata": {},
   "source": [
    "# GPT Hyper-Parameter Tuning"
   ]
  },
  {
   "cell_type": "markdown",
   "id": "6f9ce488-7a03-456c-a781-c29e0ebac229",
   "metadata": {},
   "source": [
    "- Greedy 기법 : 각 시점에서 가장 높은 확률을 가진 토큰을 선택하는 기법\n",
    "- Beam 기법 : 한 시점에서 여러개의 가장 가능성 있는 후보를 유지하며 단어 토큰을 선택\n",
    "- Repetition Penalty : 반복적인 단어나 문장을 피하기 위해 패널티를 적용\n",
    "  - 모델이 출력하는 결과의 다양성 보장 -> 좀 더 자연스러운 문장이 생성"
   ]
  },
  {
   "cell_type": "code",
   "execution_count": 75,
   "id": "b25f11c2-f817-4dec-9f87-f0609515c0b3",
   "metadata": {},
   "outputs": [],
   "source": [
    "# GPT HyperParameter Tuning\n",
    "def generate_text(start_sent, model, tokenizer) :\n",
    "    inputs = tokenizer.encode(start_sent, return_tensors='pt')\n",
    "    # Hyperparameter Tuning\n",
    "    outputs = model.generate(inputs, \n",
    "                             max_length = 30, # 문장 길이 축소 \n",
    "                             do_sample = False, # Greedy 기법 적용 \n",
    "                             num_beams=3, # Beam 기법을 이용해, 3개의 단어 후보군 중 하나를 선택 \n",
    "                             no_repeat_ngram_size =3, # 특정 토큰이 3회 이상 반복해 나올 경우, 3번째 토큰을 0으로 변경 \n",
    "                             repetition_penalty = 1.5,\n",
    "                             num_return_sequences = 1)\n",
    "    result = tokenizer.decode(outputs[0], skip_special_tokens = True)\n",
    "    return result"
   ]
  },
  {
   "cell_type": "code",
   "execution_count": 76,
   "id": "3a50f145-7345-41bc-96f2-90c04ee19466",
   "metadata": {},
   "outputs": [
    {
     "data": {
      "text/plain": [
       "'오늘은 배고픈덴 점심시간에, 저녁식사시간에는 짬뽕을 먹었습니다.\\n그런데 이게 웬일입'"
      ]
     },
     "execution_count": 76,
     "metadata": {},
     "output_type": "execute_result"
    }
   ],
   "source": [
    "generate_text('오늘은 배고픈덴 점심시간에,', model, tokenizer)"
   ]
  },
  {
   "cell_type": "code",
   "execution_count": null,
   "id": "1c59c1a3-deeb-49dd-a0e2-0fb14abb3105",
   "metadata": {},
   "outputs": [],
   "source": []
  }
 ],
 "metadata": {
  "kernelspec": {
   "display_name": "Python 3 (ipykernel)",
   "language": "python",
   "name": "python3"
  },
  "language_info": {
   "codemirror_mode": {
    "name": "ipython",
    "version": 3
   },
   "file_extension": ".py",
   "mimetype": "text/x-python",
   "name": "python",
   "nbconvert_exporter": "python",
   "pygments_lexer": "ipython3",
   "version": "3.11.7"
  }
 },
 "nbformat": 4,
 "nbformat_minor": 5
}
