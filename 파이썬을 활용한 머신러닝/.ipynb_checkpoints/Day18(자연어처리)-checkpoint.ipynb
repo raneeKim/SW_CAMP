{
 "cells": [
  {
   "cell_type": "markdown",
   "metadata": {},
   "source": [
    "# 자연어 처리\n",
    "- 자연어(Natural Language) : 사람들이 일상적으로 사용하는 언어\n",
    "- 자연어 처리(Natural Language Preprocessing, NLP) : 컴퓨터가 사람의 언어를 이해하거나 생성할 수 있도록 데이터를 처리하는 기술\n",
    "- 컴퓨터 관점에서 자연어 처리\n",
    "    - NLU(Natural Language ***Understanding***): 언어 -> 컴퓨터/ 컴퓨터가 사람의 언어를 이해하는 과정\n",
    "    - NLG(Natural Language ***Generation***): 컴퓨터 -> 언어 / 컴퓨터가 사람의 언어를 생성하는 과정\n",
    "    - 전산 언어학(Computational Linguistics)\n",
    "        - 컴퓨팅 기술을 언어학에 적용하여 사용하는 분야\n",
    "        - 컴퓨터 공학(프로그래밍) + 언어학 + 통계학\n",
    "\n",
    "- 자연어 처리의 난이도가 높은 이유\n",
    "    1. 언어의 다양성: 각 언어의 특성이 서로 다름에서 오는 어려움(영어/ 한국어/ 라틴어/ ...)\n",
    "    2. 언어의 중의성: (ex: 참 잘~ 한다.) -> 긍/부정의 의도 해석\n",
    "    3. 규칙 예외 -> 표준어/ 유행어/ 줄임말\n",
    "\n",
    "- 자연어 처리의 Trand\n",
    "    1. 규칙 기반 : 문법의 규칙을 사전에 정의하여, 규칙을 기반으로 자연어를 처리\n",
    "        - 언어의 중요성/ 규칙예외\n",
    "    2. 통계기반 : 확률을 이용해 문장에 오는 단어에 대한 확률/ 빈도 등을 계산하여 처리\n",
    "        - 대량의 문장분석/ 의도파악\n",
    "    3. 데이터 마이닝 기반 (텍스트 마이닝) : 전수 조사 중심의 학습 체계를 통한 텍스트 마이닝 기술\n",
    "        - 자연어 생성(기계 번역)\n",
    "    4. 신경망 알고리즘 (딥러닝) : 자연어 이해에서 생성까지 (Text to Text) / Image to Text / Text to Image"
   ]
  },
  {
   "cell_type": "markdown",
   "metadata": {},
   "source": [
    "# 자연어 처리 연산\n",
    "- 전산언어학에서 사용하는 자연어 처리의 연산\n",
    "    - Edit Distance : 2개의 단어가 얼마나 다른지를 계산한 척도\n",
    "        - Cat / Hat: 1\n",
    "        - 단어의 유사성을 파악할 때 사용\n",
    "    - Stemming : 어간 추출, 단어의 본래 형태를 추출\n",
    "        - Computer -> Compute\n",
    "        - Going -> GO\n",
    "        - 문장의 의도파악 사용/ 언어 사전이 필요\n",
    "    - Lemmatization : 문장속에서 다양한 형태로 활용 된 단어의 표제어(Lemma)를 찾는 연산\n",
    "        - 표제어 : 단어 사전에 등록되어 있는 단어의 기본형\n",
    "        - 문장의 의도파악 및 단어의 유사성 파악 \n"
   ]
  },
  {
   "cell_type": "code",
   "execution_count": 1,
   "metadata": {},
   "outputs": [],
   "source": [
    "# NLTK(Natural Language Toolkit) 라이브러리: 영어의 기호 및 통계기반의 자연어 처리\n",
    "import nltk"
   ]
  },
  {
   "cell_type": "code",
   "execution_count": 3,
   "metadata": {},
   "outputs": [
    {
     "name": "stdout",
     "output_type": "stream",
     "text": [
      "1\n",
      "2\n"
     ]
    }
   ],
   "source": [
    "from nltk.metrics import edit_distance\n",
    "print(edit_distance('Cat','Hat'))\n",
    "print(edit_distance('Cat','Hats'))"
   ]
  },
  {
   "cell_type": "code",
   "execution_count": 4,
   "metadata": {},
   "outputs": [
    {
     "data": {
      "text/plain": [
       "'comput'"
      ]
     },
     "execution_count": 4,
     "metadata": {},
     "output_type": "execute_result"
    }
   ],
   "source": [
    "from nltk.stem import PorterStemmer\n",
    "pst = PorterStemmer()\n",
    "pst.stem('Computer')"
   ]
  },
  {
   "cell_type": "code",
   "execution_count": 5,
   "metadata": {},
   "outputs": [
    {
     "name": "stdout",
     "output_type": "stream",
     "text": [
      "showing info https://raw.githubusercontent.com/nltk/nltk_data/gh-pages/index.xml\n"
     ]
    },
    {
     "data": {
      "text/plain": [
       "True"
      ]
     },
     "execution_count": 5,
     "metadata": {},
     "output_type": "execute_result"
    }
   ],
   "source": [
    "import nltk\n",
    "nltk.download()"
   ]
  },
  {
   "cell_type": "code",
   "execution_count": 6,
   "metadata": {},
   "outputs": [
    {
     "data": {
      "text/plain": [
       "'eat'"
      ]
     },
     "execution_count": 6,
     "metadata": {},
     "output_type": "execute_result"
    }
   ],
   "source": [
    "# 단어의 특정 품사에 해당하는 단어를 추출\n",
    "from nltk.stem import WordNetLemmatizer\n",
    "\n",
    "wlem = WordNetLemmatizer()\n",
    "wlem.lemmatize('ate',pos='v')"
   ]
  },
  {
   "cell_type": "markdown",
   "metadata": {},
   "source": [
    "# 형태소 분석과 개체명 인식\n",
    "\n",
    "- 형태소 (Part of Sepeach POS) : 가장 작은 말의 단위\n",
    "- 형태소 분석 : 문장을 최소 단위, 즉 형태소 단위로 나누어 품사를 부착하는 작업\n",
    "  - Morphological Analysis\n",
    "  - Tokenizing (토큰화/어절분리) + Tagging (품사부착)\n",
    "  - Tokenizing : 문장을 최소 단위의 형태소로 분리\n",
    "  - Tagging : 분리 된 형태소에 품사를 부착\n",
    "- 개체명 인식 (Named Entity Recognition / NER)\n",
    "  - 특정 명사에 대해 사람 / 조직 / 장소를 구분해야하는 경우"
   ]
  },
  {
   "cell_type": "markdown",
   "metadata": {},
   "source": [
    "- 한국어 자연어 처리 라이브러리"
   ]
  },
  {
   "cell_type": "code",
   "execution_count": 7,
   "metadata": {},
   "outputs": [
    {
     "name": "stdout",
     "output_type": "stream",
     "text": [
      "Collecting JPype1\n",
      "  Downloading JPype1-1.5.0-cp311-cp311-win_amd64.whl.metadata (5.0 kB)\n",
      "Requirement already satisfied: packaging in c:\\programdata\\anaconda3\\lib\\site-packages (from JPype1) (23.1)\n",
      "Downloading JPype1-1.5.0-cp311-cp311-win_amd64.whl (351 kB)\n",
      "   ---------------------------------------- 0.0/351.5 kB ? eta -:--:--\n",
      "   - -------------------------------------- 10.2/351.5 kB ? eta -:--:--\n",
      "   ----------------------- ---------------- 204.8/351.5 kB 3.1 MB/s eta 0:00:01\n",
      "   ---------------------------------------- 351.5/351.5 kB 3.6 MB/s eta 0:00:00\n",
      "Installing collected packages: JPype1\n",
      "Successfully installed JPype1-1.5.0\n",
      "Collecting konlpy\n",
      "  Downloading konlpy-0.6.0-py2.py3-none-any.whl.metadata (1.9 kB)\n",
      "Requirement already satisfied: JPype1>=0.7.0 in c:\\programdata\\anaconda3\\lib\\site-packages (from konlpy) (1.5.0)\n",
      "Requirement already satisfied: lxml>=4.1.0 in c:\\programdata\\anaconda3\\lib\\site-packages (from konlpy) (4.9.3)\n",
      "Requirement already satisfied: numpy>=1.6 in c:\\programdata\\anaconda3\\lib\\site-packages (from konlpy) (1.26.4)\n",
      "Requirement already satisfied: packaging in c:\\programdata\\anaconda3\\lib\\site-packages (from JPype1>=0.7.0->konlpy) (23.1)\n",
      "Downloading konlpy-0.6.0-py2.py3-none-any.whl (19.4 MB)\n",
      "   ---------------------------------------- 0.0/19.4 MB ? eta -:--:--\n",
      "   ---------------------------------------- 0.0/19.4 MB 640.0 kB/s eta 0:00:31\n",
      "    --------------------------------------- 0.3/19.4 MB 3.9 MB/s eta 0:00:05\n",
      "   - -------------------------------------- 0.7/19.4 MB 6.2 MB/s eta 0:00:04\n",
      "   -- ------------------------------------- 1.4/19.4 MB 9.6 MB/s eta 0:00:02\n",
      "   ---- ----------------------------------- 2.3/19.4 MB 12.1 MB/s eta 0:00:02\n",
      "   ------ --------------------------------- 3.3/19.4 MB 14.0 MB/s eta 0:00:02\n",
      "   --------- ------------------------------ 4.8/19.4 MB 16.8 MB/s eta 0:00:01\n",
      "   ---------- ----------------------------- 5.2/19.4 MB 17.6 MB/s eta 0:00:01\n",
      "   ---------- ----------------------------- 5.2/19.4 MB 17.6 MB/s eta 0:00:01\n",
      "   ---------- ----------------------------- 5.2/19.4 MB 17.6 MB/s eta 0:00:01\n",
      "   ---------- ----------------------------- 5.2/19.4 MB 17.6 MB/s eta 0:00:01\n",
      "   ---------- ----------------------------- 5.2/19.4 MB 17.6 MB/s eta 0:00:01\n",
      "   ---------- ----------------------------- 5.2/19.4 MB 17.6 MB/s eta 0:00:01\n",
      "   ---------- ----------------------------- 5.3/19.4 MB 9.4 MB/s eta 0:00:02\n",
      "   ------------ --------------------------- 6.3/19.4 MB 10.3 MB/s eta 0:00:02\n",
      "   ------------ --------------------------- 6.3/19.4 MB 10.3 MB/s eta 0:00:02\n",
      "   -------------- ------------------------- 7.2/19.4 MB 10.5 MB/s eta 0:00:02\n",
      "   --------------- ------------------------ 7.3/19.4 MB 10.4 MB/s eta 0:00:02\n",
      "   --------------- ------------------------ 7.3/19.4 MB 10.4 MB/s eta 0:00:02\n",
      "   --------------- ------------------------ 7.3/19.4 MB 10.4 MB/s eta 0:00:02\n",
      "   --------------- ------------------------ 7.3/19.4 MB 10.4 MB/s eta 0:00:02\n",
      "   --------------- ------------------------ 7.3/19.4 MB 10.4 MB/s eta 0:00:02\n",
      "   ----------------- ---------------------- 8.3/19.4 MB 8.9 MB/s eta 0:00:02\n",
      "   -------------------- ------------------- 10.2/19.4 MB 10.3 MB/s eta 0:00:01\n",
      "   ------------------------ --------------- 12.0/19.4 MB 12.1 MB/s eta 0:00:01\n",
      "   -------------------------- ------------- 12.8/19.4 MB 12.4 MB/s eta 0:00:01\n",
      "   ---------------------------- ----------- 13.9/19.4 MB 11.7 MB/s eta 0:00:01\n",
      "   ------------------------------ --------- 14.7/19.4 MB 11.9 MB/s eta 0:00:01\n",
      "   ------------------------------ --------- 14.7/19.4 MB 11.5 MB/s eta 0:00:01\n",
      "   ------------------------------ --------- 14.7/19.4 MB 11.5 MB/s eta 0:00:01\n",
      "   ------------------------------ --------- 14.7/19.4 MB 11.5 MB/s eta 0:00:01\n",
      "   ------------------------------ --------- 14.7/19.4 MB 11.5 MB/s eta 0:00:01\n",
      "   ------------------------------ --------- 14.7/19.4 MB 11.5 MB/s eta 0:00:01\n",
      "   ------------------------------ --------- 14.9/19.4 MB 9.2 MB/s eta 0:00:01\n",
      "   -------------------------------- ------- 15.7/19.4 MB 12.6 MB/s eta 0:00:01\n",
      "   -------------------------------- ------- 15.7/19.4 MB 12.6 MB/s eta 0:00:01\n",
      "   --------------------------------- ------ 16.1/19.4 MB 10.9 MB/s eta 0:00:01\n",
      "   -------------------------------------- - 18.8/19.4 MB 17.3 MB/s eta 0:00:01\n",
      "   ---------------------------------------  19.4/19.4 MB 16.4 MB/s eta 0:00:01\n",
      "   ---------------------------------------- 19.4/19.4 MB 15.6 MB/s eta 0:00:00\n",
      "Installing collected packages: konlpy\n",
      "Successfully installed konlpy-0.6.0\n"
     ]
    }
   ],
   "source": [
    "!pip install JPype1\n",
    "!pip install konlpy"
   ]
  },
  {
   "cell_type": "code",
   "execution_count": 8,
   "metadata": {},
   "outputs": [],
   "source": [
    "from konlpy.tag import Okt"
   ]
  },
  {
   "cell_type": "code",
   "execution_count": 9,
   "metadata": {},
   "outputs": [
    {
     "ename": "JVMNotFoundException",
     "evalue": "No JVM shared library file (jvm.dll) found. Try setting up the JAVA_HOME environment variable properly.",
     "output_type": "error",
     "traceback": [
      "\u001b[1;31m---------------------------------------------------------------------------\u001b[0m",
      "\u001b[1;31mJVMNotFoundException\u001b[0m                      Traceback (most recent call last)",
      "Cell \u001b[1;32mIn[9], line 1\u001b[0m\n\u001b[1;32m----> 1\u001b[0m Okt()\n",
      "File \u001b[1;32mC:\\ProgramData\\anaconda3\\Lib\\site-packages\\konlpy\\tag\\_okt.py:51\u001b[0m, in \u001b[0;36mOkt.__init__\u001b[1;34m(self, jvmpath, max_heap_size)\u001b[0m\n\u001b[0;32m     49\u001b[0m \u001b[38;5;28;01mdef\u001b[39;00m \u001b[38;5;21m__init__\u001b[39m(\u001b[38;5;28mself\u001b[39m, jvmpath\u001b[38;5;241m=\u001b[39m\u001b[38;5;28;01mNone\u001b[39;00m, max_heap_size\u001b[38;5;241m=\u001b[39m\u001b[38;5;241m1024\u001b[39m):\n\u001b[0;32m     50\u001b[0m     \u001b[38;5;28;01mif\u001b[39;00m \u001b[38;5;129;01mnot\u001b[39;00m jpype\u001b[38;5;241m.\u001b[39misJVMStarted():\n\u001b[1;32m---> 51\u001b[0m         jvm\u001b[38;5;241m.\u001b[39minit_jvm(jvmpath, max_heap_size)\n\u001b[0;32m     53\u001b[0m     oktJavaPackage \u001b[38;5;241m=\u001b[39m jpype\u001b[38;5;241m.\u001b[39mJPackage(\u001b[38;5;124m'\u001b[39m\u001b[38;5;124mkr.lucypark.okt\u001b[39m\u001b[38;5;124m'\u001b[39m)\n\u001b[0;32m     54\u001b[0m     OktInterfaceJavaClass \u001b[38;5;241m=\u001b[39m oktJavaPackage\u001b[38;5;241m.\u001b[39mOktInterface\n",
      "File \u001b[1;32mC:\\ProgramData\\anaconda3\\Lib\\site-packages\\konlpy\\jvm.py:55\u001b[0m, in \u001b[0;36minit_jvm\u001b[1;34m(jvmpath, max_heap_size)\u001b[0m\n\u001b[0;32m     52\u001b[0m args \u001b[38;5;241m=\u001b[39m [javadir, os\u001b[38;5;241m.\u001b[39msep]\n\u001b[0;32m     53\u001b[0m classpath \u001b[38;5;241m=\u001b[39m [f\u001b[38;5;241m.\u001b[39mformat(\u001b[38;5;241m*\u001b[39margs) \u001b[38;5;28;01mfor\u001b[39;00m f \u001b[38;5;129;01min\u001b[39;00m folder_suffix]\n\u001b[1;32m---> 55\u001b[0m jvmpath \u001b[38;5;241m=\u001b[39m jvmpath \u001b[38;5;129;01mor\u001b[39;00m jpype\u001b[38;5;241m.\u001b[39mgetDefaultJVMPath()\n\u001b[0;32m     57\u001b[0m \u001b[38;5;66;03m# NOTE: Temporary patch for Issue #76. Erase when possible.\u001b[39;00m\n\u001b[0;32m     58\u001b[0m \u001b[38;5;28;01mif\u001b[39;00m sys\u001b[38;5;241m.\u001b[39mplatform \u001b[38;5;241m==\u001b[39m \u001b[38;5;124m'\u001b[39m\u001b[38;5;124mdarwin\u001b[39m\u001b[38;5;124m'\u001b[39m\\\n\u001b[0;32m     59\u001b[0m         \u001b[38;5;129;01mand\u001b[39;00m jvmpath\u001b[38;5;241m.\u001b[39mfind(\u001b[38;5;124m'\u001b[39m\u001b[38;5;124m1.8.0\u001b[39m\u001b[38;5;124m'\u001b[39m) \u001b[38;5;241m>\u001b[39m \u001b[38;5;241m0\u001b[39m\\\n\u001b[0;32m     60\u001b[0m         \u001b[38;5;129;01mand\u001b[39;00m jvmpath\u001b[38;5;241m.\u001b[39mendswith(\u001b[38;5;124m'\u001b[39m\u001b[38;5;124mlibjvm.dylib\u001b[39m\u001b[38;5;124m'\u001b[39m):\n",
      "File \u001b[1;32mC:\\ProgramData\\anaconda3\\Lib\\site-packages\\jpype\\_jvmfinder.py:74\u001b[0m, in \u001b[0;36mgetDefaultJVMPath\u001b[1;34m()\u001b[0m\n\u001b[0;32m     72\u001b[0m \u001b[38;5;28;01melse\u001b[39;00m:\n\u001b[0;32m     73\u001b[0m     finder \u001b[38;5;241m=\u001b[39m LinuxJVMFinder()\n\u001b[1;32m---> 74\u001b[0m \u001b[38;5;28;01mreturn\u001b[39;00m finder\u001b[38;5;241m.\u001b[39mget_jvm_path()\n",
      "File \u001b[1;32mC:\\ProgramData\\anaconda3\\Lib\\site-packages\\jpype\\_jvmfinder.py:212\u001b[0m, in \u001b[0;36mJVMFinder.get_jvm_path\u001b[1;34m(self)\u001b[0m\n\u001b[0;32m    210\u001b[0m \u001b[38;5;28;01mif\u001b[39;00m jvm_notsupport_ext \u001b[38;5;129;01mis\u001b[39;00m \u001b[38;5;129;01mnot\u001b[39;00m \u001b[38;5;28;01mNone\u001b[39;00m:\n\u001b[0;32m    211\u001b[0m     \u001b[38;5;28;01mraise\u001b[39;00m jvm_notsupport_ext\n\u001b[1;32m--> 212\u001b[0m \u001b[38;5;28;01mraise\u001b[39;00m JVMNotFoundException(\u001b[38;5;124m\"\u001b[39m\u001b[38;5;124mNo JVM shared library file (\u001b[39m\u001b[38;5;132;01m{0}\u001b[39;00m\u001b[38;5;124m) \u001b[39m\u001b[38;5;124m\"\u001b[39m\n\u001b[0;32m    213\u001b[0m                            \u001b[38;5;124m\"\u001b[39m\u001b[38;5;124mfound. Try setting up the JAVA_HOME \u001b[39m\u001b[38;5;124m\"\u001b[39m\n\u001b[0;32m    214\u001b[0m                            \u001b[38;5;124m\"\u001b[39m\u001b[38;5;124menvironment variable properly.\u001b[39m\u001b[38;5;124m\"\u001b[39m\n\u001b[0;32m    215\u001b[0m                            \u001b[38;5;241m.\u001b[39mformat(\u001b[38;5;28mself\u001b[39m\u001b[38;5;241m.\u001b[39m_libfile))\n",
      "\u001b[1;31mJVMNotFoundException\u001b[0m: No JVM shared library file (jvm.dll) found. Try setting up the JAVA_HOME environment variable properly."
     ]
    }
   ],
   "source": [
    "Okt()"
   ]
  },
  {
   "cell_type": "code",
   "execution_count": null,
   "metadata": {},
   "outputs": [],
   "source": []
  }
 ],
 "metadata": {
  "kernelspec": {
   "display_name": "Python 3 (ipykernel)",
   "language": "python",
   "name": "python3"
  },
  "language_info": {
   "codemirror_mode": {
    "name": "ipython",
    "version": 3
   },
   "file_extension": ".py",
   "mimetype": "text/x-python",
   "name": "python",
   "nbconvert_exporter": "python",
   "pygments_lexer": "ipython3",
   "version": "3.11.7"
  }
 },
 "nbformat": 4,
 "nbformat_minor": 4
}
