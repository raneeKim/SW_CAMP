{
 "cells": [
  {
   "cell_type": "markdown",
   "id": "38eb5c3e-4b18-43fc-a6ea-560a0b410abc",
   "metadata": {},
   "source": [
    "# 연관 분석 "
   ]
  },
  {
   "cell_type": "markdown",
   "id": "ed883702-5ad9-44c1-91e4-3339e67d4cfe",
   "metadata": {},
   "source": [
    "- 특정 거래/사건 발생했을 때, 함께(빈번하게) 발생하는 또 다른 사건의 규칙(연관규칙)을 데이터로 부터 학습해 도출하는 분석 기법\n",
    "  - 순차 (Sequence) : 사건의 발생(또는 데이터)의 순서를 고려하여 데이터 간의 규칙을 도출 -> 시계열 분석\n",
    "  - **연관 (Association)** : 데이터의 순서를 고려하지 않고 데이터 간 규칙을 도출\n",
    "- 연관 규칙은 항목 간 직접적인 인과관계를 의미하지 않음\n",
    "- 장바구니 분석 / 이상거래탐지 / 불량 공정 장비 패턴 탐지\n",
    "\n",
    "- **연관 분석 평가 (데이터 간의 연관성이 얼마나 있는가)**\n",
    "  - 지지도 (support) : 전체 거래(수)에서 A와 B를 동시에 구매한 비율 (0~1)\n",
    "      - (A와 B가 동시에 포함된 거래 수) / (전체 거래 수)\n",
    "\n",
    "  - 신뢰도 (confidence) : 특정 거래(A)에서 A와 B를 동시에 구매한 비율 (0~1)\n",
    "      - (A와 B가 동시에 포함된 거래 수) / (A 거래 수)\n",
    "        \n",
    "  - 향상도 (Lift) : A를 구매했을 때, B를 구매할 확률을 지표로 계산\n",
    "      - 두 항목이 서로 독립적인경우, 얼마나 자주 동시에 두 항목이 발생하는지\n",
    "      - 향상도가 1보다 큰 경우 : 두 항목이 양의 상관관계\n",
    "      - 향상도가 1보다 작은 경우 : 두 항목이 음의 상관관계\n",
    "      - 향상도 1이면 두 항목이 서로 독립 "
   ]
  },
  {
   "cell_type": "code",
   "execution_count": 203,
   "id": "3ade9404-41de-449d-9af0-0fc5a9e5f7c9",
   "metadata": {},
   "outputs": [],
   "source": [
    "# 연관 분석 라이브러리 설치 \n",
    "# !pip install mlxtend"
   ]
  },
  {
   "cell_type": "code",
   "execution_count": 204,
   "id": "cbd5ecbe-3031-44af-8b1b-6cd7e4e32dcb",
   "metadata": {},
   "outputs": [],
   "source": [
    "from mlxtend.frequent_patterns import apriori # 아프리오리 알고리즘 \n",
    "from mlxtend.frequent_patterns import association_rules "
   ]
  },
  {
   "cell_type": "code",
   "execution_count": 205,
   "id": "4acbfa46-c6a9-4844-9218-c47b0951e231",
   "metadata": {},
   "outputs": [],
   "source": [
    "df1 = pd.read_csv('03_store_product.csv')"
   ]
  },
  {
   "cell_type": "code",
   "execution_count": 207,
   "id": "56f662a6-d9cd-4068-af11-46d8ebb0a6fb",
   "metadata": {},
   "outputs": [],
   "source": [
    "df1['Label'] = 1"
   ]
  },
  {
   "cell_type": "code",
   "execution_count": 212,
   "id": "95387a02-b0c7-4458-b2af-0c907e3463f9",
   "metadata": {},
   "outputs": [],
   "source": [
    "# 한명의 회원이 특정 일자에 특정 물품을 구매 했다면 -> 1 / 구매하지 않았다면 -> 0 \n",
    "df1_assoc = df1.pivot_table(index=['회원번호', '공급일자'], values='Label', \n",
    "                            aggfunc='min', columns='물품대분류', fill_value=0)"
   ]
  },
  {
   "cell_type": "code",
   "execution_count": 216,
   "id": "cd02aec8-ad6f-4ece-914a-03e2e267ad85",
   "metadata": {},
   "outputs": [
    {
     "data": {
      "text/html": [
       "<div>\n",
       "<style scoped>\n",
       "    .dataframe tbody tr th:only-of-type {\n",
       "        vertical-align: middle;\n",
       "    }\n",
       "\n",
       "    .dataframe tbody tr th {\n",
       "        vertical-align: top;\n",
       "    }\n",
       "\n",
       "    .dataframe thead th {\n",
       "        text-align: right;\n",
       "    }\n",
       "</style>\n",
       "<table border=\"1\" class=\"dataframe\">\n",
       "  <thead>\n",
       "    <tr style=\"text-align: right;\">\n",
       "      <th></th>\n",
       "      <th>support</th>\n",
       "      <th>itemsets</th>\n",
       "    </tr>\n",
       "  </thead>\n",
       "  <tbody>\n",
       "    <tr>\n",
       "      <th>0</th>\n",
       "      <td>0.499257</td>\n",
       "      <td>(간식)</td>\n",
       "    </tr>\n",
       "    <tr>\n",
       "      <th>1</th>\n",
       "      <td>0.536314</td>\n",
       "      <td>(반찬)</td>\n",
       "    </tr>\n",
       "  </tbody>\n",
       "</table>\n",
       "</div>"
      ],
      "text/plain": [
       "    support itemsets\n",
       "0  0.499257     (간식)\n",
       "1  0.536314     (반찬)"
      ]
     },
     "execution_count": 216,
     "metadata": {},
     "output_type": "execute_result"
    }
   ],
   "source": [
    "# 빈도 발생 확률 표 계산 \n",
    "freq_item = apriori(df1_assoc, min_support=0.2, use_colnames=True)\n",
    "freq_item.head(2)"
   ]
  },
  {
   "cell_type": "code",
   "execution_count": null,
   "id": "a3b771e0-c533-4b97-bd70-328e0970f9e5",
   "metadata": {},
   "outputs": [],
   "source": [
    "df_assoc = association_rules(freq_item, metric='confidence', min_threshold=0.5)\n",
    "df_assoc"
   ]
  },
  {
   "cell_type": "markdown",
   "id": "2240f0b2-bea8-4c9e-81d8-05977e4130bb",
   "metadata": {},
   "source": [
    "- antecedent support : 선행자 지지도 / 선행자 (간식)이 발생한 거래의 비율 \n",
    "    - 전체 거래 중에 간식거래가 발생한 비율 49.9%  \n",
    "- consequent support : 후행자 지지도 / 후행자 (반찬)이 발생한 거래의 비율 \n",
    "    - 전체 거래 중에 반찬거래가 발생한 비율 53.6% \n",
    "- support : 전체 거래 중, 반찬과 간식의 거래가 동시에 일어난 비율 29.9% \n",
    "- confidence : 간식 거래들 중에서, 반찬과 간식이 동시에 거래가 진행될 비율 59.96%\n",
    "- leverage : 두 사건이 함께 발생할 확률과 독립적으로 발생할 확률의 차이를 측정한 지표\n",
    "    - leverage = 0 : 두 항목은 서로 독립적이다 \n",
    "    - leverage > 0 : 두 항목 간에는 양의 상관관계가 있다 \n",
    "    - leverage < 0 : 두 항목 간에 음의 상관관계가 있다\n",
    "    - leverage 값 자체가 크면 클 수록 두 항목의 관련성이 높다 \n",
    "- conviction : 두 항목 간의 독립성을 측정하는데 사용하는 지표 \n",
    "    - Conviction 값이 1에 가까울 수록 독립 / 1보다 크면 약한 상관관계를 갖는다. / 1보다 작으면 두 항목간의 종속성이 강하다 \n",
    "- zhangs_metric : 연관 규칙 결과의 품질을 평가하는 지표 \n",
    "    - zhangs_metric 값이 높으면 높을 수록, 연관규칙의 품질이 좋다 "
   ]
  }
 ],
 "metadata": {
  "kernelspec": {
   "display_name": "Python 3 (ipykernel)",
   "language": "python",
   "name": "python3"
  },
  "language_info": {
   "codemirror_mode": {
    "name": "ipython",
    "version": 3
   },
   "file_extension": ".py",
   "mimetype": "text/x-python",
   "name": "python",
   "nbconvert_exporter": "python",
   "pygments_lexer": "ipython3",
   "version": "3.11.7"
  }
 },
 "nbformat": 4,
 "nbformat_minor": 5
}
