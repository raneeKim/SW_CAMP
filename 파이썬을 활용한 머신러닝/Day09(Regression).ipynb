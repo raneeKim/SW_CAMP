{
 "cells": [
  {
   "cell_type": "markdown",
   "id": "451d49d8-78a5-41e6-ac36-72563468605d",
   "metadata": {},
   "source": [
    "# 알고리즘 (Model) \n",
    "\n",
    "- 최적화 (Optimization) : 문제 상황에서 여러 해결방안 중 최적의 해결 방안을 찾는 것\n",
    "- 기본적으로 머신러닝에서 데이터로부터 학습을 통해 수식화를 진행할 때, 목표값(Y)을 잘 예측하는 수식을 만드는 과정 / 여러개의 수식 중, 해당 데이터에 가장 적절한 수식을 찾는 것 -> 최적화\n",
    "\n",
    "- 수학적 접근 : 특정 함수 값을 최소화(최대화)하는 최적의 수식 Parameter(회귀 계수, Weight, 가중치) 조합을 찾는 문제\n",
    "  - 최소화 Minimization : 함수의 목표변수 Y값이 최소가 되게끔 Parameter를 찾는 문제\n",
    "      - Y : 오류 / 오차 / 비용(Cost) / 손실 / ...  \n",
    "  - 최대화 Maximization : 함수의 목표변수 Y값이 최대가 되게끔 Parameter를 찾는 문제\n",
    "      - Y : 이윤 / 점수 / 성능 / ...\n",
    "\n",
    "- 데이터 마이닝에 적용하여 사용 : 지도학습에서 Model을 구축할 때, **데이터 상의 실제값과 Model이 예측한 예측값의 차이(오차 Error, Residual)** 가 최소가 되는 방향으로 모델을 구성\n",
    "  \n",
    "- 최적화 기법의 종류 :\n",
    "  - Least Square Method (최소 제곱법 - 회귀분석에서의 최적화)\n",
    "  - Gradient Descent Method (경사 하강법 - 회귀분석에서의 최적화)\n",
    "  - Newton's Method\n",
    "  - Gauss Newton's Method\n",
    "  - Bayesain Method\n",
    "  - Markov Batesian Method ..."
   ]
  },
  {
   "cell_type": "markdown",
   "id": "5655d9d9-3f6a-4c1e-9bc6-edfa9402d07e",
   "metadata": {},
   "source": [
    "# 최소 제곱법 (Least Square Method) \n",
    "\n",
    "- 회귀분석 사용되는 최적화 기법 (신경망 알고리즘 최적화 기법)\n",
    "- 데이터를 대표하는 회귀선을 찾을 때, 회귀선이 예측한 예측값과 실제 데이터 값의 차이(오차/ 잔차)의 제곱의 합 또는 평균이 최소화가 되는 방향으로 Parameter를 찾는 방법\n",
    "![img](https://raw.githubusercontent.com/Claudiooo/DeepLearningLearning/Group2/Images/linear_regression_error1.png)\n"
   ]
  },
  {
   "cell_type": "markdown",
   "id": "312ff0bc-df68-4a3a-adb0-40882c550189",
   "metadata": {},
   "source": [
    "- 대수적 기법 : 오차항이 최소가 되는 지점의 m, b (회귀계수)를 찾기 위해 m과 b에 대해 편미분을 실시하여, 오차항의 최소가 되는 지점을 연립방정식을 통해 찾는 방식\n",
    "  ![img](https://spin.atomicobject.com/wp-content/uploads/linear_regression_gradient1.png)\n",
    "\n",
    "- 해석학적 기법 : 오차항을 행렬형태로 표현하여 유사역행렬 (Pseudo Inverse Matrix)을 이용해 회귀 계수 계산"
   ]
  },
  {
   "cell_type": "markdown",
   "id": "423eec8b-3d53-4aaf-b326-774b7fe0ae1c",
   "metadata": {},
   "source": [
    "# 경사하강법 (Gradient Descent) \n",
    "\n",
    "- 점진적인 반복 계산을 통해 함수가 최소가 되는 파라미터를 찾는 모든\n",
    "  - Gradient : 함수가 증가하는/감소하는 방향과 크기를 표현\n",
    "  - 오차(실제값과 예측값의 차이)가 최소가 되는 방향으로 (Gradient) 점진적으로 계산 (Descent)\n",
    "  - 1. Weight(회귀 계수) 값을 임의로 지정한 다음 비용함수(Cost Function, 오차항 (y-y')²)를 계산\n",
    "  - 2. 오차항의 차이가 있는경우, Weight(회귀 계수)값을 Update, 다시 비용함수를 계산\n",
    "  - 3. 비용함수가 감소했다면, 2번 절차를 반복하며, 비용함수가 바뀌지 않는 지점까지 반복해서 계산\n",
    "\n",
    "- \n",
    "- **확률적 경사 하강법 (Stochastic Gradient Descent)**\n",
    "- 경사하강법은 모든 데이터에 대해 반복적으로 비용함수(Cost Function)를 계산하기 때문에, 시간이 오래걸림\n",
    "- 전체 데이터가 아닌, 일부분의 데이터를 Random Sampling 하여 Weight에 대한 Update (학습 시간 단축)\n",
    "- Batch : Random하게 Sampling 할 데이터를 추출 "
   ]
  },
  {
   "cell_type": "code",
   "execution_count": 1,
   "id": "fd340551-40d0-4f8a-ad78-a76ef5e989c1",
   "metadata": {},
   "outputs": [],
   "source": [
    "import pandas as pd \n",
    "import numpy as np \n",
    "import scipy.stats as stats \n",
    "import plotly.express as px "
   ]
  },
  {
   "cell_type": "code",
   "execution_count": 2,
   "id": "9c6bf9ac-1acd-4a4d-9b81-24c2baf5468d",
   "metadata": {},
   "outputs": [],
   "source": [
    "df1 = pd.read_csv('12_Data.csv')"
   ]
  },
  {
   "cell_type": "code",
   "execution_count": 5,
   "id": "edf10729-2b73-49b9-9466-e44f1e374bb1",
   "metadata": {},
   "outputs": [],
   "source": [
    "col_list = [x for x in df1.columns if 'Mean' in x][1:] \n",
    "# Mean 글자가 포함된 column명을 호출 하되, \n",
    "# 맨 첫번째 (0번째) Mean Radius는 제외하고 리스트를 구성 \n",
    "# Mean Radius 는 Y로 사용 "
   ]
  },
  {
   "cell_type": "code",
   "execution_count": 6,
   "id": "c507b3cb-d962-4b6c-95ab-80dfe3ef7942",
   "metadata": {},
   "outputs": [],
   "source": [
    "Y = df1['Mean Radius']\n",
    "X = df1[col_list]"
   ]
  },
  {
   "cell_type": "code",
   "execution_count": 7,
   "id": "226d4015-e03f-46f9-b858-688ef5b85139",
   "metadata": {},
   "outputs": [],
   "source": [
    "from sklearn.model_selection import train_test_split # 학습데이터와 검증데이터 분할 \n",
    "from sklearn.pipeline import make_pipeline  # 특성공학 + 학습 \n",
    "from sklearn.preprocessing import StandardScaler # 스케일링 기법 사용 (평균 0 표준편차1)\n",
    "from sklearn.linear_model  import LinearRegression # 최소제곱법 +경사하강법 (회귀분석) \n",
    "from sklearn.model_selection import GridSearchCV # 교차검증 + 하이퍼파라미터 튜닝 "
   ]
  },
  {
   "cell_type": "code",
   "execution_count": 8,
   "id": "0d8c2f17-c614-45ee-92d5-d3c82829933c",
   "metadata": {},
   "outputs": [],
   "source": [
    "X_train, X_test, Y_train, Y_test = train_test_split(X,Y, random_state=1234)"
   ]
  },
  {
   "cell_type": "code",
   "execution_count": 10,
   "id": "59796e85-2b1b-4de9-b92b-f483a4ba78db",
   "metadata": {},
   "outputs": [],
   "source": [
    "# 스케일링 + 학습 파이프라인 구성 \n",
    "model_pipe = make_pipeline( StandardScaler(), LinearRegression() )"
   ]
  },
  {
   "cell_type": "code",
   "execution_count": 11,
   "id": "6b600ac8-9c96-494a-b639-e39505da8641",
   "metadata": {},
   "outputs": [],
   "source": [
    "# 교차검증 \n",
    "grid_model = GridSearchCV(model_pipe, param_grid={},cv=5)\n",
    "grid_model.fit(X_train, Y_train) # 학습 수행 \n",
    "best_model = grid_model.best_estimator_ # 학습 후 최적성능 모델 도출 "
   ]
  },
  {
   "cell_type": "code",
   "execution_count": 17,
   "id": "09032995-f2c0-42d4-be07-065006aeeb2d",
   "metadata": {},
   "outputs": [
    {
     "data": {
      "text/plain": [
       "14.182746478873236"
      ]
     },
     "execution_count": 17,
     "metadata": {},
     "output_type": "execute_result"
    }
   ],
   "source": [
    "best_model['linearregression'].intercept_ # 회귀 모델의 절편을 계산 "
   ]
  },
  {
   "cell_type": "code",
   "execution_count": 18,
   "id": "2b81fee5-8e45-4605-a4a8-c483bf7c4ed2",
   "metadata": {},
   "outputs": [],
   "source": [
    "df_coef = pd.DataFrame()\n",
    "df_coef['coef'] = best_model['linearregression'].coef_ # 회귀 모델의 회귀 계수를 계산\n",
    "df_coef['X'] = X.columns"
   ]
  },
  {
   "cell_type": "code",
   "execution_count": null,
   "id": "fe8270ce-8659-4688-929b-d312da6cd0d6",
   "metadata": {},
   "outputs": [],
   "source": [
    "df_coef.sort_values(by='coef') # 각 X 앞에 곱해진 회귀 계수값을 확인 "
   ]
  },
  {
   "cell_type": "code",
   "execution_count": null,
   "id": "b8cd3eef-20ef-48c0-be8f-e8919971bd92",
   "metadata": {},
   "outputs": [],
   "source": [
    "px.bar( , x='X', y='coef') # 회귀 계수 시각화 "
   ]
  },
  {
   "cell_type": "code",
   "execution_count": 25,
   "id": "f31bca30-7839-4b26-a81e-28e0e2ded91b",
   "metadata": {},
   "outputs": [],
   "source": [
    "# 회귀모델 성능 평가 \n",
    "# R² (결정계수) : 회귀식이 데이터를 얼마나 잘 설명하고 있는가  (0 ~ 1)\n",
    "# MSE (평균 제곱 오차) : 실제 값과 예측값의 차이의 제곱 합의 평균을 계산 (0으로 갈수록 좋은 모델) \n",
    "# MAE (평균 절대 오차) : 실제 값과 예측값의 차이의 절대값의 합의 평균을 계산 (0으로 갈수록 Best) \n",
    "# RMSE : MSE에 Root 제곱근을 사용하여, 더욱 직관적으로 해석 가능한 평가지표 \n",
    "from sklearn.metrics import r2_score\n",
    "from sklearn.metrics import mean_squared_error, mean_absolute_error"
   ]
  },
  {
   "cell_type": "code",
   "execution_count": 23,
   "id": "cb6c21e6-6292-4822-b37b-19c512eac66e",
   "metadata": {},
   "outputs": [],
   "source": [
    "# 생성한 모델로 예측값을 계산해, 실제값과 예측값의 차이를 연산 \n",
    "Y_train_pred = best_model.predict(X_train)\n",
    "Y_test_pred = best_model.predict(X_test)"
   ]
  },
  {
   "cell_type": "code",
   "execution_count": 27,
   "id": "df60c08e-db8e-409c-8ce4-7e05e02b7049",
   "metadata": {},
   "outputs": [
    {
     "name": "stdout",
     "output_type": "stream",
     "text": [
      "학습 결정 계수 0.9994225170133184\n",
      "일반화 결정 계수 0.9991793129574523\n"
     ]
    }
   ],
   "source": [
    "print('학습 결정 계수', r2_score(Y_train, Y_train_pred))\n",
    "print('일반화 결정 계수', r2_score(Y_test, Y_test_pred))"
   ]
  },
  {
   "cell_type": "code",
   "execution_count": 28,
   "id": "0a7286cf-e9b2-4554-968e-068c6b3e42d7",
   "metadata": {},
   "outputs": [
    {
     "name": "stdout",
     "output_type": "stream",
     "text": [
      "학습 MSE  0.00706026698701229\n",
      "일반화 MSE  0.010560016874980838\n"
     ]
    }
   ],
   "source": [
    "print('학습 MSE ', mean_squared_error(Y_train, Y_train_pred))\n",
    "print('일반화 MSE ', mean_squared_error(Y_test, Y_test_pred))"
   ]
  },
  {
   "cell_type": "markdown",
   "id": "3b533f18-fcaa-4b32-ad88-16f1ae087ad4",
   "metadata": {},
   "source": [
    "# 다항회귀분석 (Polynominal Regression)\n",
    "\n",
    "- 기존의 선형 회귀 분석 : X와 Y의 관계식,수식이 1차식인 형태\n",
    "- 다항회귀 : 다차원의 X를 2차 또는 3차 방정식 이상으로 표현하여 회귀 분석을 수행\n",
    "- 학습 시키려 하는 X를 Polynominal 변환(파이프라인 내에서 수행)을 통해 학습"
   ]
  },
  {
   "cell_type": "code",
   "execution_count": 29,
   "id": "b4dd73cf-7e6e-4a92-80a2-1ebd0bee087f",
   "metadata": {},
   "outputs": [],
   "source": [
    "from sklearn.preprocessing import PolynomialFeatures"
   ]
  },
  {
   "cell_type": "code",
   "execution_count": 31,
   "id": "198a8a46-40eb-452b-9bab-90029b884099",
   "metadata": {},
   "outputs": [
    {
     "data": {
      "text/plain": [
       "9"
      ]
     },
     "execution_count": 31,
     "metadata": {},
     "output_type": "execute_result"
    }
   ],
   "source": [
    "len(X.columns)"
   ]
  },
  {
   "cell_type": "code",
   "execution_count": 33,
   "id": "20947878-5707-4367-9ddc-7ef3629f554f",
   "metadata": {},
   "outputs": [],
   "source": [
    "# pd.DataFrame(PolynomialFeatures(degree=2).fit_transform(X_train))"
   ]
  },
  {
   "cell_type": "code",
   "execution_count": null,
   "id": "f4397fb7-6fe6-4a7f-a5f6-5d5c96d6970f",
   "metadata": {},
   "outputs": [],
   "source": [
    "model_pipe = make_pipeline(PolynomialFeatures(degree=2), LinearRegression())\n",
    "model_pipe.fit(X_train, Y_train)"
   ]
  },
  {
   "cell_type": "code",
   "execution_count": 37,
   "id": "7c50fc19-91ab-4753-9897-00e622f3e4ac",
   "metadata": {},
   "outputs": [],
   "source": [
    "# model_pipe['linearregression'].coef_"
   ]
  },
  {
   "cell_type": "markdown",
   "id": "c35e7063-2795-4f58-a66c-1213f88e5911",
   "metadata": {},
   "source": [
    "# 규제 선형 회귀 (Regularization Regression)\n",
    "\n",
    "- Overfitting을 방지하기 위해,(차원의 저주 방지) 회귀 계수를 적절히 통제하여 회귀식을 구성\n",
    "- Cost Function + 패널티 항\n",
    "- Alpha (패널티 항 통제 계수, Hyper Parameter)\n",
    "\n",
    "- Ridge : L2규제(제곱으로 연산되는 패널티 항을 추가) / 상대적으로 큰 회귀 계수값을 통제하여 (회귀 계수를 특정 값 이상으로 커지지 않게 통제) Overfitting이 발생하지 않도록 규제  \n",
    "    - 높은 Alpha : 모델의 계수를 더 많이 축소하여 복잡성을 줄임 (Overfitting방지 / 성능 저하)\n",
    "    - 낮은 Alpha : 정규화 효과를 줄여(패널티를 줄임) 모델의 계수가 더 늘어나게 통제 (Overfitting 발생 가능성)\n",
    "      \n",
    "- Lasso : L1규제(절댓값으로 연산되는 패널티 항을 추가) / 예측 영향력이 적은 X의 회귀 계수를 0으로 만들어 회귀분석에 선택되지 않게 통제 (변수 선택법)\n",
    "    - 제조/공정에서 X Column이 굉장히 많은 경우 -> 유의미한 X를 선택해 남긴 뒤, 다시 회귀 분석을 수행\n",
    "    - 높은 Alpha : 모델의 계수를 더욱 많이 축소, 0으로 변환 (Overfitting방지 / 단순화 / 성능 저하)\n",
    "    - 낮은 Alpha : 모델의 복잡성은 증가 / 0으로 삭제되는 Column은 줄임 (Overfitting발생/ 복잡성)\n",
    "- Elastic : L1 + L2 / 회귀 계수가 큰 인자는 통제, 회귀 계수가 작은 인자는 0으로 만들어 통제 "
   ]
  },
  {
   "cell_type": "code",
   "execution_count": 38,
   "id": "93574da0-eea1-4fb7-8a3e-5e3278497029",
   "metadata": {},
   "outputs": [],
   "source": [
    "from sklearn.linear_model import Lasso, Ridge, ElasticNet"
   ]
  },
  {
   "cell_type": "code",
   "execution_count": 39,
   "id": "c4b6f2ef-a17f-4d8c-b52b-113b04aff05f",
   "metadata": {},
   "outputs": [],
   "source": [
    "model_pipe = make_pipeline(StandardScaler(), Lasso())"
   ]
  },
  {
   "cell_type": "code",
   "execution_count": 40,
   "id": "0ae8da04-4b40-48e0-a7a6-fe7a1a054148",
   "metadata": {},
   "outputs": [],
   "source": [
    "# Lasso HyperParameter Tuning  및 회귀 계수 확인 \n",
    "hyperparameter = {'lasso__alpha':[0.01, 0.1, 1, 1.5, 2]}\n",
    "grid_model = GridSearchCV(model_pipe, param_grid=hyperparameter, cv=3)\n",
    "grid_model.fit(X_train, Y_train)\n",
    "best_model = grid_model.best_estimator_"
   ]
  },
  {
   "cell_type": "code",
   "execution_count": 45,
   "id": "4a18c953-7f2c-42fe-85e5-72ea258e8663",
   "metadata": {},
   "outputs": [],
   "source": [
    "df_coef_lasso = pd.DataFrame()\n",
    "df_coef_lasso['coef'] = best_model['lasso'].coef_\n",
    "df_coef_lasso['X'] = X_train.columns"
   ]
  },
  {
   "cell_type": "code",
   "execution_count": null,
   "id": "37594635-2492-422d-8aa0-f5528434f0e8",
   "metadata": {},
   "outputs": [],
   "source": [
    "df_coef_lasso"
   ]
  },
  {
   "cell_type": "code",
   "execution_count": 46,
   "id": "4b635dd2-dc6c-4266-ab7e-db6311af595e",
   "metadata": {},
   "outputs": [],
   "source": [
    "# Ridge HyperParameter Tuning 및 회귀 계수 확인 \n",
    "model_pipe2  = make_pipeline(StandardScaler(), Ridge())\n",
    "hyperparameter = {'ridge__alpha':[0.01, 0.1, 1, 1.5, 2]}\n",
    "grid_model = GridSearchCV(model_pipe2 , param_grid=hyperparameter, cv=3)\n",
    "grid_model.fit(X_train, Y_train)\n",
    "best_model2 = grid_model.best_estimator_"
   ]
  },
  {
   "cell_type": "code",
   "execution_count": 47,
   "id": "b34bd598-f049-461d-8f7e-3d556a333898",
   "metadata": {},
   "outputs": [],
   "source": [
    "df_coef_ridge = pd.DataFrame()\n",
    "df_coef_ridge['coef'] = best_model2['ridge'].coef_\n",
    "df_coef_ridge['X'] = X_train.columns"
   ]
  },
  {
   "cell_type": "code",
   "execution_count": 49,
   "id": "9e8dbd3b-13bf-445d-b0b3-cacf60d5b029",
   "metadata": {
    "scrolled": true
   },
   "outputs": [],
   "source": [
    "#df_coef_ridge"
   ]
  },
  {
   "attachments": {
    "0273fad6-64c3-4cbb-a1e1-7740cbed0511.png": {
     "image/png": "[encoded data removed]"
    }
   },
   "cell_type": "markdown",
   "id": "2d69b506-e5f6-4ff6-b14a-1c34c3923190",
   "metadata": {},
   "source": [
    "# 로지스틱 회귀 분석 (Logistic Regression) \n",
    "\n",
    "- Y 범주형 형태인 분류를 수행할 수 있는 회귀 분석 모델 (분류기법)\n",
    "- 선형회귀 기법 -> 분류 모델\n",
    "- 원리 :\n",
    "    ![image.png](attachment:0273fad6-64c3-4cbb-a1e1-7740cbed0511.png)\n",
    "  - Odds(오즈, 승산) : 임의의 사건이 발생할 확률\n",
    "  - Odds Ratio (오즈 비율, 승산비) : 임의의 특정 사건이 발생하고, 해당 사건에 성공,실패 여부의 비율을 계산\n",
    "  - Odds값을 계산한 뒤, log 함수를 취하여 Link Function(연결함수- 특정함수를 다른 형태로 변화하기 위한 함수/ 로짓 함수 (Log odds))의 선형 예측 모델을 로지스틱 변환을 통해 1,0 (A,B)과 같은 분류를 수행   "
   ]
  },
  {
   "cell_type": "markdown",
   "id": "c45ba171-66e8-4871-9112-a4ab2860f1a2",
   "metadata": {},
   "source": [
    "- 시그모이드 (Sigmoid)함수 형태로 연결함수를 최적화 -> 시그모이드 함수의 Y를 분류의 확률 값으로 사용하여 분류를 진행\n",
    "- Logistic Regression 알고리즘의 최적화 기법\n",
    "  - Newton Conjugate Gradient : 뉴턴공액경사기법 / Log odds 함수의 Cost Function을 최소화 하기 위해 사용되는 최적화 함수\n",
    "    - 작동 원리 :\n",
    "         1. 초기 추정값 세팅\n",
    "         2. 비용함수 Cost Function 도함수 계산 / Hessian Matix 헤이시안 행렬 계산을 수행\n",
    "         3. Update 방향을 결정 (Newton 함수를 활용해 Update 방향을 결정)\n",
    "         4. Conjugate Gradient 을 이용하여, 새로운 Update  값을 계산\n",
    "         5. 최적화가 충분히 진행 될 때 까지 (Cost Function이 최소지점을 찾을 때 까지) 위의 과정을 반복\n",
    "    - 대규모 데이터셋에서는 속도가 느림/ 매우 정교하게 Cost Function을 계산 -> 성능이 비교적 좋다\n",
    "    - Overfitting 가능성     \n",
    "  - Limited-memory BFGS (Broyden Fletcher Goldfarbs Shanno)\n",
    "    - 메모리 사용을 최소로 줄이며 연산 최적화 기법 (Logistic Regression 알고리즘의 기본값)\n",
    "  - Stochastic Average Gradient (SAG) :\n",
    "    - 확률적 경사하강법을 적용한 최적화 기법 (Batch 통계량을 계산하여 Cost Function 도출) \n",
    "    - 대규모 데이터셋에 적합하며, 연산속도가 빠르고, 메모리 사용량이 적은 최적화 기법\n",
    "  - Stochastic Average Gradient Descent A--(Saga):\n",
    "    - SAG기법에 규제항(*모델의 복잡도가 줄어듦으로, 성능도 저하될 가능성이 있다)을 추가하여 학습을 수행\n",
    "    - 대규모 데이터 셋에 적용 가능, 빠른 연산 -> Overfitting 사전에 방지  \n",
    "  - lib-linear\n",
    "    - 소규모 데이터셋의 이진분류에서 빠르고 효율적인 최적화"
   ]
  },
  {
   "cell_type": "code",
   "execution_count": 52,
   "id": "41d60979-f024-4d56-b1a5-0dfcb53b0380",
   "metadata": {},
   "outputs": [],
   "source": [
    "df2 = pd.read_csv('15_Data.csv')"
   ]
  },
  {
   "cell_type": "code",
   "execution_count": 53,
   "id": "7f07f121-1cde-4b74-93ae-8d94132cbae4",
   "metadata": {},
   "outputs": [],
   "source": [
    "Y = df2['수술실패여부']\n",
    "X = df2[['신장','연령','체중','통증기간(월)','환자통증정도']]"
   ]
  },
  {
   "cell_type": "code",
   "execution_count": 55,
   "id": "c75a2696-eae6-4c06-acf2-06a180c3b0ac",
   "metadata": {},
   "outputs": [],
   "source": [
    "X_train, X_test, Y_train, Y_test = train_test_split(X,Y,random_state=1234)"
   ]
  },
  {
   "cell_type": "code",
   "execution_count": 56,
   "id": "09bf164d-1b2a-4937-beb8-0a9b6793fff0",
   "metadata": {},
   "outputs": [],
   "source": [
    "from sklearn.impute import SimpleImputer\n",
    "from sklearn.linear_model import LogisticRegression"
   ]
  },
  {
   "cell_type": "code",
   "execution_count": 57,
   "id": "067a06d0-023d-414d-9186-61435e850798",
   "metadata": {},
   "outputs": [],
   "source": [
    "model_pipe = make_pipeline(SimpleImputer(strategy='median'), LogisticRegression())"
   ]
  },
  {
   "cell_type": "markdown",
   "id": "55f5dc4b-73dc-42c8-8fbd-29e7641414c9",
   "metadata": {},
   "source": [
    "- Logistic Regression Hyper Parameter\n",
    "  - solver : 최적화에 사용할 알고리즘을 선택 'newton-cg' / 'lbfgs' / 'sag' / 'saga'\n",
    "  - max_iter : 최적화 알고리즘이 Cost Function을 반복 계산의 최대 횟수 지정 (기본값 100회)\n",
    "  - multi_class : 다중클래스(3개 이상의 분류 값)에 대한 처리방법 지정 / (기본값 'auto')\n",
    "  - random_state : 최적화 알고리즘이 계산을 수행할 때 적용하는 Random State\n",
    "  - class_weight : 이진분류(2개의 분류)에서 비율이 깨진데이터(Imbalanced Data)에 대해 학습 시, 비중에 대한 가중치 부여\n",
    "    - 기본값 None : 클래스에 대한 가중치 없이 학습\n",
    "    - balanced : 비율이 적은 클래스에 가중치를 두며 학습 (Imbalaced Data Sampling과 같은 효과)\n",
    "  - penalty : 규제 방법을 지정 (기본값은 L2 적용/ 'l1', 'l2')\n",
    "  - C : 규제항이 적용되었을 때, 규제의 강도 (Alpha 값의 역수 / 기본값 C = 1 )\n",
    "    - C 값이 작을수록 규제가 강화 (Overfitting 방지)\n",
    "    - C 값이 클수록 규제를 완화 (모델의 복잡성을 높이는 방향 /성능 향샹 / 과적합 발생 가능성) "
   ]
  },
  {
   "cell_type": "code",
   "execution_count": 61,
   "id": "b887f711-af2f-4678-b86d-3ff63d35807b",
   "metadata": {},
   "outputs": [],
   "source": [
    "# help(LogisticRegression())"
   ]
  },
  {
   "cell_type": "code",
   "execution_count": 58,
   "id": "352ec450-b33d-465b-9ae3-e8484c819534",
   "metadata": {},
   "outputs": [],
   "source": [
    "hyperparameter = {'logisticregression__solver':[ 'lbfgs', 'sag'], # 2가지\n",
    "                 'logisticregression__max_iter':[100,200,300], # 3가지 \n",
    "                 'logisticregression__class_weight':[None, 'balanced']} # 2가지 => 12가지 \n",
    "grid_model = GridSearchCV(model_pipe, param_grid=hyperparameter, cv=3, n_jobs=-1, scoring='f1') # 12 x 3 = 36 학습 \n",
    "grid_model.fit(X_train, Y_train)\n",
    "best_model = grid_model.best_estimator_"
   ]
  },
  {
   "cell_type": "code",
   "execution_count": 69,
   "id": "893e7e40-1cdc-4492-a81d-32b2c5a1081e",
   "metadata": {},
   "outputs": [
    {
     "data": {
      "text/plain": [
       "array([[-0.0211667 ,  0.02285335,  0.02328503, -0.01210797,  0.14306661]])"
      ]
     },
     "execution_count": 69,
     "metadata": {},
     "output_type": "execute_result"
    }
   ],
   "source": [
    "best_model['logisticregression'].coef_"
   ]
  },
  {
   "cell_type": "code",
   "execution_count": 68,
   "id": "117ff372-bbde-46f2-85b9-3a47b9a3f983",
   "metadata": {},
   "outputs": [],
   "source": [
    "df_coef = pd.DataFrame() \n",
    "df_coef['coef'] = best_model['logisticregression'].coef_[0]\n",
    "df_coef['X'] = X_train.columns"
   ]
  },
  {
   "cell_type": "code",
   "execution_count": 70,
   "id": "00e55747-841a-4add-aa08-20e3878420d9",
   "metadata": {},
   "outputs": [
    {
     "data": {
      "text/html": [
       "<div>\n",
       "<style scoped>\n",
       "    .dataframe tbody tr th:only-of-type {\n",
       "        vertical-align: middle;\n",
       "    }\n",
       "\n",
       "    .dataframe tbody tr th {\n",
       "        vertical-align: top;\n",
       "    }\n",
       "\n",
       "    .dataframe thead th {\n",
       "        text-align: right;\n",
       "    }\n",
       "</style>\n",
       "<table border=\"1\" class=\"dataframe\">\n",
       "  <thead>\n",
       "    <tr style=\"text-align: right;\">\n",
       "      <th></th>\n",
       "      <th>coef</th>\n",
       "      <th>X</th>\n",
       "    </tr>\n",
       "  </thead>\n",
       "  <tbody>\n",
       "    <tr>\n",
       "      <th>0</th>\n",
       "      <td>-0.021167</td>\n",
       "      <td>신장</td>\n",
       "    </tr>\n",
       "    <tr>\n",
       "      <th>1</th>\n",
       "      <td>0.022853</td>\n",
       "      <td>연령</td>\n",
       "    </tr>\n",
       "    <tr>\n",
       "      <th>2</th>\n",
       "      <td>0.023285</td>\n",
       "      <td>체중</td>\n",
       "    </tr>\n",
       "    <tr>\n",
       "      <th>3</th>\n",
       "      <td>-0.012108</td>\n",
       "      <td>통증기간(월)</td>\n",
       "    </tr>\n",
       "    <tr>\n",
       "      <th>4</th>\n",
       "      <td>0.143067</td>\n",
       "      <td>환자통증정도</td>\n",
       "    </tr>\n",
       "  </tbody>\n",
       "</table>\n",
       "</div>"
      ],
      "text/plain": [
       "       coef        X\n",
       "0 -0.021167       신장\n",
       "1  0.022853       연령\n",
       "2  0.023285       체중\n",
       "3 -0.012108  통증기간(월)\n",
       "4  0.143067   환자통증정도"
      ]
     },
     "execution_count": 70,
     "metadata": {},
     "output_type": "execute_result"
    }
   ],
   "source": [
    "df_coef # 회귀 계수의 의미 : 회귀계수가 높을 수록 1 값으로 분류될 확률이 높아진다. \n",
    "# 회귀계수가 높다 : Y값에 매우 밀접한 영향을 주고 있는 인자다 "
   ]
  }
 ],
 "metadata": {
  "kernelspec": {
   "display_name": "Python 3 (ipykernel)",
   "language": "python",
   "name": "python3"
  },
  "language_info": {
   "codemirror_mode": {
    "name": "ipython",
    "version": 3
   },
   "file_extension": ".py",
   "mimetype": "text/x-python",
   "name": "python",
   "nbconvert_exporter": "python",
   "pygments_lexer": "ipython3",
   "version": "3.11.7"
  }
 },
 "nbformat": 4,
 "nbformat_minor": 5
}
