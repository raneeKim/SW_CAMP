{
 "cells": [
  {
   "cell_type": "markdown",
   "id": "324ce4e2-3ffa-4ae3-80e9-3fc41d799f88",
   "metadata": {},
   "source": [
    "# 비지도 학습 \n",
    "\n",
    "- X들 간의 관계(유사성, 거리, ...)을 이용해, 비슷한 데이터를 묶거나, 연관 있는 데이터를 찾거나, 차원을 줄이거나 하는등의 학습 기법\n",
    "    - 1. 군집 분석 (Clustering)\n",
    "    - 2. 연관 규칙 (Association Analysis)\n",
    "    - 3. 차원 축소 (Dimensionality Reduction)\n",
    "    - 4. 이상 탐지 (Anomaly Detection) "
   ]
  },
  {
   "cell_type": "markdown",
   "id": "6b012567-9aef-4a53-a98d-74232d74a8a0",
   "metadata": {},
   "source": [
    "**군집 분석**\n",
    "\n",
    "- 데이터 간 거리를 계산하여, 인접한 데이터를 묶어주는 기법\n",
    "    - 군집 분석 이후에, 나눠진 군집들에 대한 특성을 시각화나 가설검정 등으로 파악 -> Insight 도출\n",
    "    - 군집 분석을 통해, 데이터의 라벨을 생성 -> 생성된 라벨을 Y로 , 나머지 X를 이용해 분류 모델\n",
    "- 종류\n",
    "    - 계층형 군집분석 : 병합 또는 분할 기법을 이용하여, 가깝거나 멀리 떨어진 데이터들을 묶어나가거나 분할 해 나가며 군집을 형성하는 분석기법 \n",
    "    - 비계층형 군집분석 : 데이터 간의 기하 거리, 밀도, 분포 등을 이용하여 군집을 형성하는 기법  \n",
    "    - 잠재공간 군집분석 : 분포 추정을 통해 잠재 공간 (Latent Space)계산된 추정치를 이용하여 군집을 형성 (범주형)"
   ]
  },
  {
   "cell_type": "markdown",
   "id": "cfdb7bb4-e41b-4d76-8ebc-005943bee7da",
   "metadata": {},
   "source": [
    "- **계층형 군집 분석**\n",
    "  - 1. 병합형 군집 분석 : 각 데이터 포인트를 하나의 클러스터로 간주한 뒤, 유사한 클러스터 끼리 묶어 나가며 병합하는 방식\n",
    "  - 2. 분할형 군집 분석 : 모든 데이터를 하나의 군집으로 간주한 뒤, 서로 다른 특징을 가진 데이터를 나눠 가며 군집을 분할하는 방식  "
   ]
  },
  {
   "cell_type": "code",
   "execution_count": null,
   "id": "5e0be7e7-99e6-42a4-9af3-54bdaf56e4ae",
   "metadata": {},
   "outputs": [],
   "source": [
    "df1 = pd.read_csv('19_Data.csv')\n",
    "print(df1.shape)\n",
    "df1.head()"
   ]
  },
  {
   "cell_type": "markdown",
   "id": "e5aabab8-788a-4830-894f-b6863e53f7b1",
   "metadata": {},
   "source": [
    "- **Parameter**\n",
    "\n",
    "- n_cluster : 군집의 개수를 지정 / 기본값 2\n",
    "- metric : 클러스터 간의 거리를 측정하는 방법 / 기본값 euclidean\n",
    "  - \"euclidean\" : 저차원 데이터에서 잘 작동 (X의 개수가 적은)\n",
    "  - \"manhattan\" : 저차원 데이터에서 잘 작동\n",
    "  - \"cosine\" : 고차원 데이터에서 잘 작동\n",
    "- linkage : 클러스터를 병합하는 기법을 선택\n",
    "  - ward\n",
    "    - 같은 군집 내의 데이터들 간의 분산을 최소화 하는 방식으로 클러스터를 병합\n",
    "    - 군집 내 응집도(Cohesion)를 최대화 하면서, 군집간의 분리도(Separation)를 최대화하는것을 목표   \n",
    "  - complete\n",
    "    - 두 군집 간의 가장 먼 거리를 이용하여 클러스터를 병합\n",
    "    - 두 개의 클러스터 간의 모든 데이터 포인트들 중에서 가장 먼 거리를 갖는 데이터를 이용해 병합\n",
    "    - 군집 간의 거리가 점점 멀어지게 끔 군집이 형성 -> 군집간의 명확한 차이를 강조할 때 \n",
    "  - average\n",
    "    - 두 군집 간의 평균 거리를 이용하여 군집을 병합\n",
    "    - 데이터들 간의 평균 거리가 가장 작아지는 포인트를 찾아서 병합을 수행\n",
    "    - 데이터 간의 평균 거리를 이용해 병합 -> 군집 간 균형잡힌 거리적인 특성이 도출        "
   ]
  },
  {
   "cell_type": "code",
   "execution_count": null,
   "id": "d3c840ed-2179-4940-bba4-1f37bccc43da",
   "metadata": {},
   "outputs": [],
   "source": [
    "# 계층형 병합 군집분석 \n",
    "from sklearn.cluster import AgglomerativeClustering"
   ]
  },
  {
   "cell_type": "code",
   "execution_count": null,
   "id": "9b1bdea9-6923-4e0c-9a6f-d60d20e47edc",
   "metadata": {},
   "outputs": [],
   "source": [
    "df2 = df1.drop(columns=['LOT', 'WAFER']).dropna()"
   ]
  },
  {
   "cell_type": "code",
   "execution_count": null,
   "id": "9b826e25-06cf-4c54-b58e-39ab40a23a46",
   "metadata": {},
   "outputs": [],
   "source": [
    "cluster = AgglomerativeClustering(n_clusters=3)\n",
    "df2['Target'] = cluster.fit_predict(df2).astype(str)"
   ]
  },
  {
   "cell_type": "code",
   "execution_count": null,
   "id": "2bd88380-d3aa-45fe-a725-05b4496be14a",
   "metadata": {},
   "outputs": [],
   "source": [
    "# df2['Target'].value_counts()"
   ]
  },
  {
   "cell_type": "code",
   "execution_count": null,
   "id": "1295ecb1-b878-4d91-be99-797077d16ee8",
   "metadata": {},
   "outputs": [],
   "source": [
    "# px.scatter_matrix : AttributeError: 'DataFrame' object has no attribute 'iteritems' Error \n",
    "pd.DataFrame.iteritems = pd.DataFrame.items"
   ]
  },
  {
   "cell_type": "code",
   "execution_count": null,
   "id": "5294cbb3-ada7-4442-8bec-d6633d6662ad",
   "metadata": {},
   "outputs": [],
   "source": [
    "px.scatter_matrix(df2.iloc[0:100], dimensions=['Y1','Y2','Y3'], color='Target')"
   ]
  },
  {
   "cell_type": "code",
   "execution_count": null,
   "id": "8bc5934a-bdaa-4a46-89fb-14820d40fd58",
   "metadata": {},
   "outputs": [],
   "source": []
  }
 ],
 "metadata": {
  "kernelspec": {
   "display_name": "Python 3 (ipykernel)",
   "language": "python",
   "name": "python3"
  },
  "language_info": {
   "codemirror_mode": {
    "name": "ipython",
    "version": 3
   },
   "file_extension": ".py",
   "mimetype": "text/x-python",
   "name": "python",
   "nbconvert_exporter": "python",
   "pygments_lexer": "ipython3",
   "version": "3.11.7"
  }
 },
 "nbformat": 4,
 "nbformat_minor": 5
}
