{
 "cells": [
  {
   "cell_type": "code",
   "execution_count": 20,
   "id": "59ded521-d5a2-44c7-89a1-affcb5a2be68",
   "metadata": {},
   "outputs": [],
   "source": [
    "from bs4 import BeautifulSoup # 특정 URL의 데이터 정보를 가져오는 함수\n",
    "import time # 프로그래밍의 진행시간, 사용시간을 조절하는 함수들을 제공 \n",
    "import random # 숫자의 난수 생성 (time과 함께사용) -> 디도스 공격으로 간주하고 벤 당할 수 있으니 랜덤학[\n",
    "import pickle # 수집된 데이터를 객체로 선언해 파일로 저장 (중간에 멈추거나, 오류가 생겼을 때 대비)\n",
    "import requests # 요청한 웹 서버 자료의 데이터를 추출\n",
    "\n",
    "# 파싱 (특정 서버의 정보를 얻음) + 스크래핑 (서버로 부터 받은 페이지 정보를 수집)"
   ]
  },
  {
   "cell_type": "code",
   "execution_count": 21,
   "id": "622fe798-bde7-4e43-9040-5d4fdb3ab185",
   "metadata": {
    "jp-MarkdownHeadingCollapsed": true
   },
   "outputs": [
    {
     "data": {
      "text/plain": [
       "<Response [200]>"
      ]
     },
     "execution_count": 21,
     "metadata": {},
     "output_type": "execute_result"
    }
   ],
   "source": [
    "# 로또 검색 페이지 내 정보를 먼저 수집\n",
    "# URL (Uniform Resource Locator /\n",
    "# 인터넷 상의 리소스 (문서,이미지, 동영상 등의 모든 정보)가 위치한 주소를 가르키는 문자열\n",
    "\n",
    "requests.get('https://search.naver.com/search.naver?where=nexearch&sm=top_hty&fbm=0&ie=utf8&query=로또') \n",
    "# get() : 특성 서버의 URL 요청\n",
    "\n",
    "# <Response [200]> : HTTP의 상태코드 / 200 - 요청정보를 성공적으로 호출\n",
    "#                                   / 404 - 페이지를 찾을 수 없음 / 500 - 해당서버의 에러\n",
    "# HTTP (Hypertext Transfer Protoco : 월드와이드 웹 www에서 하이퍼텍스트 정보를 요청하기 위해 사용되는 명령양식(프로토콜)"
   ]
  },
  {
   "cell_type": "code",
   "execution_count": 22,
   "id": "69759848-f1be-4e15-bf26-04d3d14f5172",
   "metadata": {},
   "outputs": [],
   "source": [
    "url = requests.get('https://search.naver.com/search.naver?where=nexearch&sm=top_hty&fbm=0&ie=utf8&query=로또') "
   ]
  },
  {
   "cell_type": "code",
   "execution_count": 23,
   "id": "dcc2be18-43ed-4bb1-b439-cf5cc1ec170e",
   "metadata": {},
   "outputs": [],
   "source": [
    "html = BeautifulSoup(url.text)\n",
    "\n",
    "# url 정보에 있는 TEXT 정보를 가져와 HTML 형식의 자료를 분해 할 수 있도록 변환\n",
    "# HTML (HyperText Markup Language) : 웹 페이지를 생성하기 위한 / 구성하기 위한 언어\n"
   ]
  },
  {
   "cell_type": "code",
   "execution_count": 24,
   "id": "925cf8d6-8aa5-413c-b832-56180f40f1b2",
   "metadata": {},
   "outputs": [
    {
     "data": {
      "text/plain": [
       "'  13 19 21 24 34 35   26  '"
      ]
     },
     "execution_count": 24,
     "metadata": {},
     "output_type": "execute_result"
    }
   ],
   "source": [
    "# HTML 특정 Tag(HTML 구조적 요소)에 지정된 특정 class(변수)를 확인\n",
    "# .text : 'div'태그 안에 있는 win_ball 클래스에 종속된 Text 정보를 추출\n",
    "html.find('div', class_ = 'win_ball').text"
   ]
  },
  {
   "cell_type": "code",
   "execution_count": 25,
   "id": "c49fed54-0e2e-4a0d-8266-8f18e5dd9c08",
   "metadata": {},
   "outputs": [
    {
     "data": {
      "text/plain": [
       "['', '', '13', '19', '21', '24', '34', '35', '', '', '26', '', '']"
      ]
     },
     "execution_count": 25,
     "metadata": {},
     "output_type": "execute_result"
    }
   ],
   "source": [
    "num1 = html.find('div', class_ = 'win_ball').text\n",
    "num1.split(' ')"
   ]
  },
  {
   "cell_type": "code",
   "execution_count": 26,
   "id": "c177014a-7484-4fdc-bd73-946efa5de696",
   "metadata": {},
   "outputs": [
    {
     "data": {
      "text/plain": [
       "['13', '19', '21', '24', '34', '35', '26']"
      ]
     },
     "execution_count": 26,
     "metadata": {},
     "output_type": "execute_result"
    }
   ],
   "source": [
    "num1.split(' ')[2:8] + [ num1.split(' ')[10] ]\n",
    "# num1 로또 번호 내, 공백을 기준으로 로또 번호만 추출 -> 리스트 형태로 추출\n",
    "# 로또 번호 리스트에서 공백을 제외한 2번째~8번째 까지 번호와, 10번째 있는 보너스 번호 추출\n",
    "# num1.split(' ')[10] 은 str이므로 list + list를 하기 위해 리스트화 시킴"
   ]
  },
  {
   "cell_type": "code",
   "execution_count": 27,
   "id": "49a2bd4d-d134-46a0-b551-ea53678f98aa",
   "metadata": {},
   "outputs": [],
   "source": [
    "all_number = []\n",
    "for i in range(1,5+1) :\n",
    "    url = 'https://search.naver.com/search.naver?where=nexearch&sm=tab_etc&qvt=0&query=' + str(i) +'%ED%9A%8C%20%EB%A1%9C%EB%98%90%EB%8B%B9%EC%B2%A8%EB%B2%88%ED%98%B8'\n",
    "    url_get = requests.get(url)\n",
    "    html = BeautifulSoup(url_get.text)\n",
    "    \n",
    "    num1 = html.find('div', class_ = 'win_ball').text\n",
    "    number_list = num1.split(' ')[2:8] + [ num1.split(' ')[10] ] + [str(i)+'회차']\n",
    "    \n",
    "    all_number.append(number_list)"
   ]
  },
  {
   "cell_type": "code",
   "execution_count": 28,
   "id": "ff085023-ad15-4c95-9265-776f3135691e",
   "metadata": {},
   "outputs": [
    {
     "data": {
      "text/plain": [
       "[['10', '23', '29', '33', '37', '40', '16', '1회차'],\n",
       " ['9', '13', '21', '25', '32', '42', '2', '2회차'],\n",
       " ['11', '16', '19', '21', '27', '31', '30', '3회차'],\n",
       " ['14', '27', '30', '31', '40', '42', '2', '4회차'],\n",
       " ['16', '24', '29', '40', '41', '42', '3', '5회차']]"
      ]
     },
     "execution_count": 28,
     "metadata": {},
     "output_type": "execute_result"
    }
   ],
   "source": [
    "all_number"
   ]
  },
  {
   "cell_type": "code",
   "execution_count": 29,
   "id": "a765055e-a42c-4ce4-96ec-d4b65e2f3be6",
   "metadata": {},
   "outputs": [
    {
     "data": {
      "text/plain": [
       "['16', '24', '29', '40', '41', '42', '3']"
      ]
     },
     "execution_count": 29,
     "metadata": {},
     "output_type": "execute_result"
    }
   ],
   "source": [
    "html.find('div', class_='win_ball').find_all() # 해당 HTML Tag 내 모든 정보를 추출\n",
    "list_tag = html.find('div', class_='win_ball').find_all('span') # 해당 Html Tag내 'span' tag의 모든 정보를 추출\n",
    "[x.get_text() for x in list_tag]"
   ]
  },
  {
   "cell_type": "code",
   "execution_count": 30,
   "id": "1ef5282a-0d3c-4aac-b712-165b03c5e2db",
   "metadata": {},
   "outputs": [],
   "source": [
    "import pandas as pd"
   ]
  },
  {
   "cell_type": "code",
   "execution_count": 31,
   "id": "a41ad8ef-c791-4975-9157-2e9c35d349bf",
   "metadata": {},
   "outputs": [],
   "source": [
    "# 앞서 수집하여 저장한 로또번호 리스트를 정형데이터로 변환해, 엑셀로 저장\n",
    "pd.DataFrame(all_number).to_excel('lotto_num_list.xlsx')"
   ]
  },
  {
   "cell_type": "markdown",
   "id": "cca977ae-717c-4fb7-b94c-73fed4db008a",
   "metadata": {},
   "source": [
    "2. 실시간으로 데이터를 저장하고 코드를 실행했을 때, 수집이 안된 회차부터 수집하시오.(예를들어 1회부터 10회까지 데이터가 수집된 상태라면 코드를 다시 실행했을 때 11회차부터 데이터가 수집이 되어야함)"
   ]
  },
  {
   "cell_type": "markdown",
   "id": "0e159d0c-6e2e-4807-8d04-bf954491bacc",
   "metadata": {},
   "source": [
    "**사용하고 있는 "
   ]
  },
  {
   "cell_type": "code",
   "execution_count": 32,
   "id": "9bd9aa3e-bd02-4350-8cb3-a9a9af9ee302",
   "metadata": {},
   "outputs": [],
   "source": [
    "# 현재 사용하던 리스트를 파일 형태로 저장\n",
    "pickle.dump(all_number, open('lotto_num.dat','wb'))"
   ]
  },
  {
   "cell_type": "code",
   "execution_count": 33,
   "id": "432a6cae-77f8-42c8-935f-fb521bcd1960",
   "metadata": {},
   "outputs": [
    {
     "data": {
      "text/plain": [
       "[['10', '23', '29', '33', '37', '40', '16', '1회차'],\n",
       " ['9', '13', '21', '25', '32', '42', '2', '2회차'],\n",
       " ['11', '16', '19', '21', '27', '31', '30', '3회차'],\n",
       " ['14', '27', '30', '31', '40', '42', '2', '4회차'],\n",
       " ['16', '24', '29', '40', '41', '42', '3', '5회차']]"
      ]
     },
     "execution_count": 33,
     "metadata": {},
     "output_type": "execute_result"
    }
   ],
   "source": [
    "# 기존에 있던 리스트파일을 호출\n",
    "load_list = pickle.load(open('lotto_num.dat','rb'))\n",
    "load_list"
   ]
  },
  {
   "cell_type": "code",
   "execution_count": 34,
   "id": "12505dea-8e3b-4bfa-9e4d-e07166ba64a1",
   "metadata": {},
   "outputs": [
    {
     "name": "stdout",
     "output_type": "stream",
     "text": [
      "5\n",
      "6\n",
      "7\n",
      "8\n",
      "9\n",
      "10\n"
     ]
    }
   ],
   "source": [
    "for i in range( len(load_list), 10+1) :\n",
    "    print(i)"
   ]
  },
  {
   "cell_type": "code",
   "execution_count": 35,
   "id": "2a1b9aa4-0f3c-4e47-96d4-50cc6f2b1fe0",
   "metadata": {},
   "outputs": [],
   "source": [
    "# 기존까지 수집된 로또 정보 파일을 불러와 변수로 선언\n",
    "all_number = pickle.load(open('lotto_num.dat','rb'))\n",
    "for i in range( len(load_list)+1, 10+1) :\n",
    "    url = 'https://search.naver.com/search.naver?where=nexearch&sm=tab_etc&qvt=0&query=' + str(i) +'%ED%9A%8C%20%EB%A1%9C%EB%98%90%EB%8B%B9%EC%B2%A8%EB%B2%88%ED%98%B8'\n",
    "    url_get = requests.get(url)\n",
    "    html = BeautifulSoup(url_get.text)\n",
    "    \n",
    "    num1 = html.find('div', class_ = 'win_ball').text\n",
    "    number_list = num1.split(' ')[2:8] + [ num1.split(' ')[10] ] + [str(i)+'회차']\n",
    "    \n",
    "    all_number.append(number_list)"
   ]
  },
  {
   "cell_type": "markdown",
   "id": "00a53f1c-4548-40b7-9019-1d34c11bdb87",
   "metadata": {},
   "source": [
    "**코드의 진행상황을 확인**\n",
    "- taqddum 타카둠 라이브러리 (아랍어 : 전진)"
   ]
  },
  {
   "cell_type": "code",
   "execution_count": 36,
   "id": "56eab34b-1906-4ed1-9695-067601874af9",
   "metadata": {},
   "outputs": [],
   "source": [
    "from tqdm import tqdm"
   ]
  },
  {
   "cell_type": "code",
   "execution_count": 37,
   "id": "0beb13fb-3ad4-4061-b801-c8afd6d78fa7",
   "metadata": {},
   "outputs": [
    {
     "name": "stderr",
     "output_type": "stream",
     "text": [
      "100%|██████████████████████████████████████████████████████████████████████████████████| 10/10 [00:05<00:00,  1.99it/s]\n"
     ]
    }
   ],
   "source": [
    "for i in tqdm(range(10)) :\n",
    "    time.sleep(0.5)"
   ]
  },
  {
   "cell_type": "markdown",
   "id": "af54c2e0-5336-4861-8cc8-021d700fa2fc",
   "metadata": {},
   "source": [
    "- 앞서 로또 번호 수집 코드를 정교하게 작성"
   ]
  },
  {
   "cell_type": "code",
   "execution_count": 38,
   "id": "a4f02ca0-a65e-4dc1-b807-e15d6ced1d47",
   "metadata": {},
   "outputs": [
    {
     "name": "stdout",
     "output_type": "stream",
     "text": [
      "기존에 수집된 Lotto 번호 :  5\n"
     ]
    },
    {
     "name": "stderr",
     "output_type": "stream",
     "text": [
      "  0%|▏                                                                              | 2/1118 [00:06<1:04:12,  3.45s/it]\n"
     ]
    },
    {
     "ename": "KeyboardInterrupt",
     "evalue": "",
     "output_type": "error",
     "traceback": [
      "\u001b[1;31m---------------------------------------------------------------------------\u001b[0m",
      "\u001b[1;31mKeyboardInterrupt\u001b[0m                         Traceback (most recent call last)",
      "Cell \u001b[1;32mIn[38], line 21\u001b[0m\n\u001b[0;32m     18\u001b[0m pickle\u001b[38;5;241m.\u001b[39mdump(all_number, \u001b[38;5;28mopen\u001b[39m(\u001b[38;5;124m'\u001b[39m\u001b[38;5;124mlotto_num.dat\u001b[39m\u001b[38;5;124m'\u001b[39m,\u001b[38;5;124m'\u001b[39m\u001b[38;5;124mwb\u001b[39m\u001b[38;5;124m'\u001b[39m))\n\u001b[0;32m     20\u001b[0m \u001b[38;5;66;03m# 난수부여\u001b[39;00m\n\u001b[1;32m---> 21\u001b[0m time\u001b[38;5;241m.\u001b[39msleep(random\u001b[38;5;241m.\u001b[39mrandom() \u001b[38;5;241m+\u001b[39m \u001b[38;5;241m1\u001b[39m)\n",
      "\u001b[1;31mKeyboardInterrupt\u001b[0m: "
     ]
    }
   ],
   "source": [
    "try : # 현재 로또 번호 리스트가 파일 혇ㅇ태로 저장이 되어 있다면\n",
    "    all_number = pickle.load(open('lotto_num.dat','rb')) # 기존에 수집된 로또 정보 파일을 불러와 리스트로 선언해 이어서 수집\n",
    "except : # 로또 번호 수집이 처음 진행 되는 것이라면\n",
    "    all_number = []\n",
    "\n",
    "print('기존에 수집된 Lotto 번호 : ' , len(all_number))\n",
    "for i in tqdm( range(len(all_number)+1, 1123+1)) :\n",
    "    url = 'https://search.naver.com/search.naver?where=nexearch&sm=tab_etc&qvt=0&query=' + str(i) +'%ED%9A%8C%20%EB%A1%9C%EB%98%90%EB%8B%B9%EC%B2%A8%EB%B2%88%ED%98%B8'\n",
    "    url_get = requests.get(url)\n",
    "    html = BeautifulSoup(url_get.text)\n",
    "    \n",
    "    num1 = html.find('div', class_ = 'win_ball').text\n",
    "    number_list = num1.split(' ')[2:8] + [ num1.split(' ')[10] ] + [str(i)+'회차']\n",
    "    \n",
    "    all_number.append(number_list)\n",
    "\n",
    "    # 추가된 로또 번호 리스트를 파일 형태로 저장\n",
    "    pickle.dump(all_number, open('lotto_num.dat','wb'))\n",
    "\n",
    "    # 난수부여\n",
    "    time.sleep(random.random() + 1) # 특정 랜던 한 시간 만큼 코드를 멈췄다가 진행"
   ]
  },
  {
   "cell_type": "code",
   "execution_count": null,
   "id": "25770fae-8e4b-48e9-894b-59dd3502bc34",
   "metadata": {},
   "outputs": [],
   "source": [
    "all_number"
   ]
  },
  {
   "cell_type": "code",
   "execution_count": null,
   "id": "9b2796ca-c613-4f11-b94e-71df37a85ce6",
   "metadata": {},
   "outputs": [],
   "source": [
    "dfn = pd.DataFrame(all_number)"
   ]
  },
  {
   "cell_type": "code",
   "execution_count": null,
   "id": "f191c9ea-93c3-4ad0-ad63-1477269f31f2",
   "metadata": {},
   "outputs": [],
   "source": [
    "# 변환 된 정형데이터에서, 회차 정보를 기준으로 Column을 ['회차''로또 번호 순서','로또 번호'] 변환\n",
    "dfn2 = dfn.melt(id_vars=7) # id_vars = 7 => Column 7인 회차를 제외하고 \n",
    "dfn2['value'].value_counts()"
   ]
  },
  {
   "cell_type": "markdown",
   "id": "e2a05f87-f3f1-4bf4-98f0-6a6b80b09a25",
   "metadata": {},
   "source": [
    "31. 유저의 일일 플레이시간과 가장 연관이 높은 항목을 찾고자 한다. 유저 별 총 일일 플레이시간을 계산하고, 해당 데이터와 가장 연관성 높은 항목 5가지를 상관분석/ 회귀분석을 통해 각각 도출하시오."
   ]
  },
  {
   "cell_type": "code",
   "execution_count": 39,
   "id": "f574e60a-9e3d-4db0-a809-bf4561c1227b",
   "metadata": {},
   "outputs": [],
   "source": [
    "import plotly.express as px\n",
    "import scipy.stats as stats\n",
    "import numpy as np"
   ]
  },
  {
   "cell_type": "code",
   "execution_count": 40,
   "id": "f70ed42a-618e-4500-b2b5-5cca4193eb40",
   "metadata": {},
   "outputs": [],
   "source": [
    "path = r'C:\\Users\\UserK\\Desktop\\Ranee\\data\\ML\\29_Lineage'\n",
    "df_act = pd.read_csv(path+'/activity.csv')"
   ]
  },
  {
   "cell_type": "code",
   "execution_count": 41,
   "id": "fe825b3b-cd17-4c00-9b76-1354f5b1f8d6",
   "metadata": {},
   "outputs": [
    {
     "data": {
      "text/plain": [
       "Index(['day', 'acc_id', 'char_id', 'server', 'playtime', 'npc_kill',\n",
       "       'solo_exp', 'party_exp', 'quest_exp', 'boss_monster', 'death', 'revive',\n",
       "       'exp_recovery', 'fishing', 'private_shop', 'game_money_change',\n",
       "       'enchant_count'],\n",
       "      dtype='object')"
      ]
     },
     "execution_count": 41,
     "metadata": {},
     "output_type": "execute_result"
    }
   ],
   "source": [
    "df_act.columns"
   ]
  },
  {
   "cell_type": "code",
   "execution_count": 42,
   "id": "1054af07-139f-46de-bbff-652fe8dea020",
   "metadata": {},
   "outputs": [],
   "source": [
    "list1= ['playtime', 'npc_kill', 'solo_exp', 'party_exp', 'quest_exp', 'death', 'revive',\n",
    "       'exp_recovery', 'fishing', 'private_shop', 'game_money_change','enchant_count']"
   ]
  },
  {
   "cell_type": "code",
   "execution_count": 43,
   "id": "c2c1255b-5251-4d91-96dd-ea21fa6bb448",
   "metadata": {},
   "outputs": [
    {
     "data": {
      "text/html": [
       "<div>\n",
       "<style scoped>\n",
       "    .dataframe tbody tr th:only-of-type {\n",
       "        vertical-align: middle;\n",
       "    }\n",
       "\n",
       "    .dataframe tbody tr th {\n",
       "        vertical-align: top;\n",
       "    }\n",
       "\n",
       "    .dataframe thead th {\n",
       "        text-align: right;\n",
       "    }\n",
       "</style>\n",
       "<table border=\"1\" class=\"dataframe\">\n",
       "  <thead>\n",
       "    <tr style=\"text-align: right;\">\n",
       "      <th></th>\n",
       "      <th>death</th>\n",
       "      <th>enchant_count</th>\n",
       "      <th>exp_recovery</th>\n",
       "      <th>fishing</th>\n",
       "      <th>game_money_change</th>\n",
       "      <th>npc_kill</th>\n",
       "      <th>party_exp</th>\n",
       "      <th>playtime</th>\n",
       "      <th>private_shop</th>\n",
       "      <th>quest_exp</th>\n",
       "      <th>revive</th>\n",
       "      <th>solo_exp</th>\n",
       "    </tr>\n",
       "    <tr>\n",
       "      <th>acc_id</th>\n",
       "      <th></th>\n",
       "      <th></th>\n",
       "      <th></th>\n",
       "      <th></th>\n",
       "      <th></th>\n",
       "      <th></th>\n",
       "      <th></th>\n",
       "      <th></th>\n",
       "      <th></th>\n",
       "      <th></th>\n",
       "      <th></th>\n",
       "      <th></th>\n",
       "    </tr>\n",
       "  </thead>\n",
       "  <tbody>\n",
       "    <tr>\n",
       "      <th>2</th>\n",
       "      <td>0.000000</td>\n",
       "      <td>0.0</td>\n",
       "      <td>0.0</td>\n",
       "      <td>0.000000</td>\n",
       "      <td>-0.008727</td>\n",
       "      <td>0.000000</td>\n",
       "      <td>0.000000</td>\n",
       "      <td>92.685947</td>\n",
       "      <td>85.964758</td>\n",
       "      <td>0.000000</td>\n",
       "      <td>0.000000</td>\n",
       "      <td>0.000000</td>\n",
       "    </tr>\n",
       "    <tr>\n",
       "      <th>5</th>\n",
       "      <td>0.245370</td>\n",
       "      <td>0.0</td>\n",
       "      <td>0.0</td>\n",
       "      <td>0.396324</td>\n",
       "      <td>0.144841</td>\n",
       "      <td>3.231043</td>\n",
       "      <td>0.693843</td>\n",
       "      <td>6.193126</td>\n",
       "      <td>0.000000</td>\n",
       "      <td>0.110823</td>\n",
       "      <td>0.246819</td>\n",
       "      <td>2.151033</td>\n",
       "    </tr>\n",
       "    <tr>\n",
       "      <th>8</th>\n",
       "      <td>91.768298</td>\n",
       "      <td>0.0</td>\n",
       "      <td>0.0</td>\n",
       "      <td>4.868347</td>\n",
       "      <td>0.020310</td>\n",
       "      <td>31.120511</td>\n",
       "      <td>0.000000</td>\n",
       "      <td>19.034441</td>\n",
       "      <td>0.000000</td>\n",
       "      <td>1.557795</td>\n",
       "      <td>92.310423</td>\n",
       "      <td>31.424841</td>\n",
       "    </tr>\n",
       "    <tr>\n",
       "      <th>17</th>\n",
       "      <td>1.717588</td>\n",
       "      <td>0.0</td>\n",
       "      <td>0.0</td>\n",
       "      <td>9.332509</td>\n",
       "      <td>-0.027638</td>\n",
       "      <td>30.405950</td>\n",
       "      <td>8.804793</td>\n",
       "      <td>28.823040</td>\n",
       "      <td>0.000000</td>\n",
       "      <td>2.317516</td>\n",
       "      <td>1.727735</td>\n",
       "      <td>9.236949</td>\n",
       "    </tr>\n",
       "    <tr>\n",
       "      <th>20</th>\n",
       "      <td>0.981479</td>\n",
       "      <td>0.0</td>\n",
       "      <td>0.0</td>\n",
       "      <td>4.349843</td>\n",
       "      <td>-0.369413</td>\n",
       "      <td>34.043193</td>\n",
       "      <td>0.079894</td>\n",
       "      <td>25.910161</td>\n",
       "      <td>2.954237</td>\n",
       "      <td>0.083309</td>\n",
       "      <td>0.987277</td>\n",
       "      <td>0.274340</td>\n",
       "    </tr>\n",
       "    <tr>\n",
       "      <th>...</th>\n",
       "      <td>...</td>\n",
       "      <td>...</td>\n",
       "      <td>...</td>\n",
       "      <td>...</td>\n",
       "      <td>...</td>\n",
       "      <td>...</td>\n",
       "      <td>...</td>\n",
       "      <td>...</td>\n",
       "      <td>...</td>\n",
       "      <td>...</td>\n",
       "      <td>...</td>\n",
       "      <td>...</td>\n",
       "    </tr>\n",
       "    <tr>\n",
       "      <th>130463</th>\n",
       "      <td>4.416656</td>\n",
       "      <td>0.0</td>\n",
       "      <td>0.0</td>\n",
       "      <td>0.000000</td>\n",
       "      <td>0.010068</td>\n",
       "      <td>0.517196</td>\n",
       "      <td>223.862043</td>\n",
       "      <td>50.279744</td>\n",
       "      <td>0.000000</td>\n",
       "      <td>0.276113</td>\n",
       "      <td>3.702290</td>\n",
       "      <td>4.902486</td>\n",
       "    </tr>\n",
       "    <tr>\n",
       "      <th>130468</th>\n",
       "      <td>0.000000</td>\n",
       "      <td>0.0</td>\n",
       "      <td>0.0</td>\n",
       "      <td>0.977714</td>\n",
       "      <td>-0.000091</td>\n",
       "      <td>0.200064</td>\n",
       "      <td>0.000000</td>\n",
       "      <td>1.422073</td>\n",
       "      <td>0.000000</td>\n",
       "      <td>5.667375</td>\n",
       "      <td>0.000000</td>\n",
       "      <td>0.572261</td>\n",
       "    </tr>\n",
       "    <tr>\n",
       "      <th>130469</th>\n",
       "      <td>1.226849</td>\n",
       "      <td>0.0</td>\n",
       "      <td>0.0</td>\n",
       "      <td>6.864700</td>\n",
       "      <td>-0.226276</td>\n",
       "      <td>17.471318</td>\n",
       "      <td>0.000002</td>\n",
       "      <td>58.295493</td>\n",
       "      <td>36.589412</td>\n",
       "      <td>0.029339</td>\n",
       "      <td>1.234097</td>\n",
       "      <td>0.205757</td>\n",
       "    </tr>\n",
       "    <tr>\n",
       "      <th>130470</th>\n",
       "      <td>0.736109</td>\n",
       "      <td>0.0</td>\n",
       "      <td>0.0</td>\n",
       "      <td>0.166027</td>\n",
       "      <td>-0.009887</td>\n",
       "      <td>25.187091</td>\n",
       "      <td>0.231720</td>\n",
       "      <td>23.345691</td>\n",
       "      <td>0.000000</td>\n",
       "      <td>0.117099</td>\n",
       "      <td>0.740458</td>\n",
       "      <td>4.954777</td>\n",
       "    </tr>\n",
       "    <tr>\n",
       "      <th>130473</th>\n",
       "      <td>5.643505</td>\n",
       "      <td>0.0</td>\n",
       "      <td>0.0</td>\n",
       "      <td>45.478274</td>\n",
       "      <td>-2.128790</td>\n",
       "      <td>29.873572</td>\n",
       "      <td>0.011388</td>\n",
       "      <td>73.464266</td>\n",
       "      <td>0.000000</td>\n",
       "      <td>0.004423</td>\n",
       "      <td>5.676844</td>\n",
       "      <td>0.065747</td>\n",
       "    </tr>\n",
       "  </tbody>\n",
       "</table>\n",
       "<p>40000 rows × 12 columns</p>\n",
       "</div>"
      ],
      "text/plain": [
       "            death  enchant_count  exp_recovery    fishing  game_money_change  \\\n",
       "acc_id                                                                         \n",
       "2        0.000000            0.0           0.0   0.000000          -0.008727   \n",
       "5        0.245370            0.0           0.0   0.396324           0.144841   \n",
       "8       91.768298            0.0           0.0   4.868347           0.020310   \n",
       "17       1.717588            0.0           0.0   9.332509          -0.027638   \n",
       "20       0.981479            0.0           0.0   4.349843          -0.369413   \n",
       "...           ...            ...           ...        ...                ...   \n",
       "130463   4.416656            0.0           0.0   0.000000           0.010068   \n",
       "130468   0.000000            0.0           0.0   0.977714          -0.000091   \n",
       "130469   1.226849            0.0           0.0   6.864700          -0.226276   \n",
       "130470   0.736109            0.0           0.0   0.166027          -0.009887   \n",
       "130473   5.643505            0.0           0.0  45.478274          -2.128790   \n",
       "\n",
       "         npc_kill   party_exp   playtime  private_shop  quest_exp     revive  \\\n",
       "acc_id                                                                         \n",
       "2        0.000000    0.000000  92.685947     85.964758   0.000000   0.000000   \n",
       "5        3.231043    0.693843   6.193126      0.000000   0.110823   0.246819   \n",
       "8       31.120511    0.000000  19.034441      0.000000   1.557795  92.310423   \n",
       "17      30.405950    8.804793  28.823040      0.000000   2.317516   1.727735   \n",
       "20      34.043193    0.079894  25.910161      2.954237   0.083309   0.987277   \n",
       "...           ...         ...        ...           ...        ...        ...   \n",
       "130463   0.517196  223.862043  50.279744      0.000000   0.276113   3.702290   \n",
       "130468   0.200064    0.000000   1.422073      0.000000   5.667375   0.000000   \n",
       "130469  17.471318    0.000002  58.295493     36.589412   0.029339   1.234097   \n",
       "130470  25.187091    0.231720  23.345691      0.000000   0.117099   0.740458   \n",
       "130473  29.873572    0.011388  73.464266      0.000000   0.004423   5.676844   \n",
       "\n",
       "         solo_exp  \n",
       "acc_id             \n",
       "2        0.000000  \n",
       "5        2.151033  \n",
       "8       31.424841  \n",
       "17       9.236949  \n",
       "20       0.274340  \n",
       "...           ...  \n",
       "130463   4.902486  \n",
       "130468   0.572261  \n",
       "130469   0.205757  \n",
       "130470   4.954777  \n",
       "130473   0.065747  \n",
       "\n",
       "[40000 rows x 12 columns]"
      ]
     },
     "execution_count": 43,
     "metadata": {},
     "output_type": "execute_result"
    }
   ],
   "source": [
    "df_act.pivot_table(index='acc_id', values = list1, aggfunc='sum')"
   ]
  },
  {
   "cell_type": "code",
   "execution_count": 44,
   "id": "6ef07c38-9df0-4eed-9ba0-efb2a0ff566b",
   "metadata": {},
   "outputs": [
    {
     "data": {
      "text/plain": [
       "quest_exp           -0.401058\n",
       "solo_exp            -0.264464\n",
       "fishing             -0.092704\n",
       "exp_recovery        -0.066978\n",
       "game_money_change   -0.051354\n",
       "revive              -0.019878\n",
       "enchant_count       -0.000705\n",
       "party_exp           -0.000629\n",
       "death                0.097379\n",
       "npc_kill             0.163570\n",
       "private_shop         0.436904\n",
       "playtime             1.000000\n",
       "Name: playtime, dtype: float64"
      ]
     },
     "execution_count": 44,
     "metadata": {},
     "output_type": "execute_result"
    }
   ],
   "source": [
    "p1 = df_act.pivot_table(index='acc_id', values = list1, aggfunc='sum')\n",
    "p1.corr(method='spearman')['playtime'].sort_values() # 전 단계에 꼭 정규성 따르는지 분석해야함 , 정규성 X"
   ]
  },
  {
   "cell_type": "code",
   "execution_count": 45,
   "id": "ea7ace5e-2c37-4650-a8ae-b96d465d933f",
   "metadata": {},
   "outputs": [],
   "source": [
    "# 유저의 전투 정보 및 거래 정보를 호출\n",
    "df_combat = pd.read_csv(path+'/combat.csv')\n",
    "df_trade = pd.read_csv(path+'/trade.csv')"
   ]
  },
  {
   "cell_type": "code",
   "execution_count": 46,
   "id": "a181d3af-136c-4559-8ad0-f68392d430e3",
   "metadata": {},
   "outputs": [
    {
     "data": {
      "text/plain": [
       "Index(['day', 'acc_id', 'char_id', 'server', 'class', 'level', 'pledge_cnt',\n",
       "       'random_attacker_cnt', 'random_defender_cnt', 'temp_cnt',\n",
       "       'same_pledge_cnt', 'etc_cnt', 'num_opponent'],\n",
       "      dtype='object')"
      ]
     },
     "execution_count": 46,
     "metadata": {},
     "output_type": "execute_result"
    }
   ],
   "source": [
    "df_combat.columns"
   ]
  },
  {
   "cell_type": "code",
   "execution_count": 47,
   "id": "767efa7a-ba92-4fd6-bcc9-6cb96f8d759f",
   "metadata": {},
   "outputs": [],
   "source": [
    "list2 = ['level', 'pledge_cnt','random_attacker_cnt', 'random_defender_cnt', 'temp_cnt',\n",
    "       'same_pledge_cnt', 'etc_cnt', 'num_opponent']"
   ]
  },
  {
   "cell_type": "code",
   "execution_count": 48,
   "id": "51ec6667-c694-40b8-bf34-17f0d801853b",
   "metadata": {},
   "outputs": [],
   "source": [
    "# 유저의 아이디를 기준으로 전투정보와 유저의 활동 정보를 결합하기 위해\n",
    "# 유저 별 캐릭터의 전투 정보를 평균값을 이용해 계산\n",
    "\n",
    "p2 = df_combat.pivot_table(index='acc_id', values=list2, aggfunc = 'mean').reset_index()\n",
    "p3 = p1.reset_index()"
   ]
  },
  {
   "cell_type": "code",
   "execution_count": 49,
   "id": "e27464d0-51b8-4acb-92c8-a40a0a66645a",
   "metadata": {},
   "outputs": [],
   "source": [
    "# 병합 (유저 전투 정보 + 유저 활동 정보 / 유저 아이디를 기준으로)\n",
    "m1 = pd.merge(p2,p3,on='acc_id',how='inner')"
   ]
  },
  {
   "cell_type": "code",
   "execution_count": 50,
   "id": "6eb3b5ae-57dc-4f71-a639-63190590c827",
   "metadata": {},
   "outputs": [],
   "source": [
    "# 회귀 계수를 이용하여, 각 유저의 일일 플레이 시간과 연관이 높은 항목을 도출\n",
    "Y = m1['playtime']\n",
    "X = m1.drop(columns=['acc_id','playtime'])"
   ]
  },
  {
   "cell_type": "code",
   "execution_count": 51,
   "id": "b83fb1cc-56a8-4e8b-bfb7-b9751b9bfc0b",
   "metadata": {},
   "outputs": [],
   "source": [
    "from sklearn.linear_model import LinearRegression"
   ]
  },
  {
   "cell_type": "code",
   "execution_count": 52,
   "id": "40d8bae2-4cc9-4aa9-834a-bc5e8ae1a69d",
   "metadata": {},
   "outputs": [
    {
     "data": {
      "text/html": [
       "<style>#sk-container-id-1 {color: black;background-color: white;}#sk-container-id-1 pre{padding: 0;}#sk-container-id-1 div.sk-toggleable {background-color: white;}#sk-container-id-1 label.sk-toggleable__label {cursor: pointer;display: block;width: 100%;margin-bottom: 0;padding: 0.3em;box-sizing: border-box;text-align: center;}#sk-container-id-1 label.sk-toggleable__label-arrow:before {content: \"▸\";float: left;margin-right: 0.25em;color: #696969;}#sk-container-id-1 label.sk-toggleable__label-arrow:hover:before {color: black;}#sk-container-id-1 div.sk-estimator:hover label.sk-toggleable__label-arrow:before {color: black;}#sk-container-id-1 div.sk-toggleable__content {max-height: 0;max-width: 0;overflow: hidden;text-align: left;background-color: #f0f8ff;}#sk-container-id-1 div.sk-toggleable__content pre {margin: 0.2em;color: black;border-radius: 0.25em;background-color: #f0f8ff;}#sk-container-id-1 input.sk-toggleable__control:checked~div.sk-toggleable__content {max-height: 200px;max-width: 100%;overflow: auto;}#sk-container-id-1 input.sk-toggleable__control:checked~label.sk-toggleable__label-arrow:before {content: \"▾\";}#sk-container-id-1 div.sk-estimator input.sk-toggleable__control:checked~label.sk-toggleable__label {background-color: #d4ebff;}#sk-container-id-1 div.sk-label input.sk-toggleable__control:checked~label.sk-toggleable__label {background-color: #d4ebff;}#sk-container-id-1 input.sk-hidden--visually {border: 0;clip: rect(1px 1px 1px 1px);clip: rect(1px, 1px, 1px, 1px);height: 1px;margin: -1px;overflow: hidden;padding: 0;position: absolute;width: 1px;}#sk-container-id-1 div.sk-estimator {font-family: monospace;background-color: #f0f8ff;border: 1px dotted black;border-radius: 0.25em;box-sizing: border-box;margin-bottom: 0.5em;}#sk-container-id-1 div.sk-estimator:hover {background-color: #d4ebff;}#sk-container-id-1 div.sk-parallel-item::after {content: \"\";width: 100%;border-bottom: 1px solid gray;flex-grow: 1;}#sk-container-id-1 div.sk-label:hover label.sk-toggleable__label {background-color: #d4ebff;}#sk-container-id-1 div.sk-serial::before {content: \"\";position: absolute;border-left: 1px solid gray;box-sizing: border-box;top: 0;bottom: 0;left: 50%;z-index: 0;}#sk-container-id-1 div.sk-serial {display: flex;flex-direction: column;align-items: center;background-color: white;padding-right: 0.2em;padding-left: 0.2em;position: relative;}#sk-container-id-1 div.sk-item {position: relative;z-index: 1;}#sk-container-id-1 div.sk-parallel {display: flex;align-items: stretch;justify-content: center;background-color: white;position: relative;}#sk-container-id-1 div.sk-item::before, #sk-container-id-1 div.sk-parallel-item::before {content: \"\";position: absolute;border-left: 1px solid gray;box-sizing: border-box;top: 0;bottom: 0;left: 50%;z-index: -1;}#sk-container-id-1 div.sk-parallel-item {display: flex;flex-direction: column;z-index: 1;position: relative;background-color: white;}#sk-container-id-1 div.sk-parallel-item:first-child::after {align-self: flex-end;width: 50%;}#sk-container-id-1 div.sk-parallel-item:last-child::after {align-self: flex-start;width: 50%;}#sk-container-id-1 div.sk-parallel-item:only-child::after {width: 0;}#sk-container-id-1 div.sk-dashed-wrapped {border: 1px dashed gray;margin: 0 0.4em 0.5em 0.4em;box-sizing: border-box;padding-bottom: 0.4em;background-color: white;}#sk-container-id-1 div.sk-label label {font-family: monospace;font-weight: bold;display: inline-block;line-height: 1.2em;}#sk-container-id-1 div.sk-label-container {text-align: center;}#sk-container-id-1 div.sk-container {/* jupyter's `normalize.less` sets `[hidden] { display: none; }` but bootstrap.min.css set `[hidden] { display: none !important; }` so we also need the `!important` here to be able to override the default hidden behavior on the sphinx rendered scikit-learn.org. See: https://github.com/scikit-learn/scikit-learn/issues/21755 */display: inline-block !important;position: relative;}#sk-container-id-1 div.sk-text-repr-fallback {display: none;}</style><div id=\"sk-container-id-1\" class=\"sk-top-container\"><div class=\"sk-text-repr-fallback\"><pre>LinearRegression()</pre><b>In a Jupyter environment, please rerun this cell to show the HTML representation or trust the notebook. <br />On GitHub, the HTML representation is unable to render, please try loading this page with nbviewer.org.</b></div><div class=\"sk-container\" hidden><div class=\"sk-item\"><div class=\"sk-estimator sk-toggleable\"><input class=\"sk-toggleable__control sk-hidden--visually\" id=\"sk-estimator-id-1\" type=\"checkbox\" checked><label for=\"sk-estimator-id-1\" class=\"sk-toggleable__label sk-toggleable__label-arrow\">LinearRegression</label><div class=\"sk-toggleable__content\"><pre>LinearRegression()</pre></div></div></div></div></div>"
      ],
      "text/plain": [
       "LinearRegression()"
      ]
     },
     "execution_count": 52,
     "metadata": {},
     "output_type": "execute_result"
    }
   ],
   "source": [
    "model = LinearRegression()\n",
    "model.fit(X,Y)\n",
    "# 학습데이터,검증데이터를 나누지 않을 시, stats 라이브러리를 활용해 P.value 확인해야함"
   ]
  },
  {
   "cell_type": "code",
   "execution_count": 53,
   "id": "d83ad842-0a5c-4d67-bbed-2dd6d10bc540",
   "metadata": {},
   "outputs": [],
   "source": [
    "# 유저의 일일 플레이타임에 대한 회귀 모델의 회귀 계수를 확인\n",
    "df_coef = pd.DataFrame()\n",
    "df_coef['Coef'] = model.coef_\n",
    "df_coef['X_column'] = X.columns"
   ]
  },
  {
   "cell_type": "code",
   "execution_count": 54,
   "id": "4f92e75a-51fa-4103-b3e4-d8148b456be5",
   "metadata": {},
   "outputs": [
    {
     "data": {
      "text/html": [
       "<div>\n",
       "<style scoped>\n",
       "    .dataframe tbody tr th:only-of-type {\n",
       "        vertical-align: middle;\n",
       "    }\n",
       "\n",
       "    .dataframe tbody tr th {\n",
       "        vertical-align: top;\n",
       "    }\n",
       "\n",
       "    .dataframe thead th {\n",
       "        text-align: right;\n",
       "    }\n",
       "</style>\n",
       "<table border=\"1\" class=\"dataframe\">\n",
       "  <thead>\n",
       "    <tr style=\"text-align: right;\">\n",
       "      <th></th>\n",
       "      <th>Coef</th>\n",
       "      <th>X_column</th>\n",
       "    </tr>\n",
       "  </thead>\n",
       "  <tbody>\n",
       "    <tr>\n",
       "      <th>5</th>\n",
       "      <td>12.533583</td>\n",
       "      <td>random_defender_cnt</td>\n",
       "    </tr>\n",
       "    <tr>\n",
       "      <th>8</th>\n",
       "      <td>7.114358</td>\n",
       "      <td>death</td>\n",
       "    </tr>\n",
       "    <tr>\n",
       "      <th>0</th>\n",
       "      <td>1.656109</td>\n",
       "      <td>etc_cnt</td>\n",
       "    </tr>\n",
       "    <tr>\n",
       "      <th>15</th>\n",
       "      <td>1.020218</td>\n",
       "      <td>private_shop</td>\n",
       "    </tr>\n",
       "    <tr>\n",
       "      <th>11</th>\n",
       "      <td>0.921438</td>\n",
       "      <td>fishing</td>\n",
       "    </tr>\n",
       "    <tr>\n",
       "      <th>13</th>\n",
       "      <td>0.613717</td>\n",
       "      <td>npc_kill</td>\n",
       "    </tr>\n",
       "    <tr>\n",
       "      <th>7</th>\n",
       "      <td>0.539560</td>\n",
       "      <td>temp_cnt</td>\n",
       "    </tr>\n",
       "    <tr>\n",
       "      <th>1</th>\n",
       "      <td>0.492231</td>\n",
       "      <td>level</td>\n",
       "    </tr>\n",
       "    <tr>\n",
       "      <th>14</th>\n",
       "      <td>0.180473</td>\n",
       "      <td>party_exp</td>\n",
       "    </tr>\n",
       "    <tr>\n",
       "      <th>9</th>\n",
       "      <td>-0.012215</td>\n",
       "      <td>enchant_count</td>\n",
       "    </tr>\n",
       "    <tr>\n",
       "      <th>16</th>\n",
       "      <td>-0.017675</td>\n",
       "      <td>quest_exp</td>\n",
       "    </tr>\n",
       "    <tr>\n",
       "      <th>18</th>\n",
       "      <td>-0.057313</td>\n",
       "      <td>solo_exp</td>\n",
       "    </tr>\n",
       "    <tr>\n",
       "      <th>10</th>\n",
       "      <td>-0.088949</td>\n",
       "      <td>exp_recovery</td>\n",
       "    </tr>\n",
       "    <tr>\n",
       "      <th>12</th>\n",
       "      <td>-0.095355</td>\n",
       "      <td>game_money_change</td>\n",
       "    </tr>\n",
       "    <tr>\n",
       "      <th>2</th>\n",
       "      <td>-0.647368</td>\n",
       "      <td>num_opponent</td>\n",
       "    </tr>\n",
       "    <tr>\n",
       "      <th>3</th>\n",
       "      <td>-1.829130</td>\n",
       "      <td>pledge_cnt</td>\n",
       "    </tr>\n",
       "    <tr>\n",
       "      <th>4</th>\n",
       "      <td>-2.474316</td>\n",
       "      <td>random_attacker_cnt</td>\n",
       "    </tr>\n",
       "    <tr>\n",
       "      <th>6</th>\n",
       "      <td>-3.601028</td>\n",
       "      <td>same_pledge_cnt</td>\n",
       "    </tr>\n",
       "    <tr>\n",
       "      <th>17</th>\n",
       "      <td>-6.865900</td>\n",
       "      <td>revive</td>\n",
       "    </tr>\n",
       "  </tbody>\n",
       "</table>\n",
       "</div>"
      ],
      "text/plain": [
       "         Coef             X_column\n",
       "5   12.533583  random_defender_cnt\n",
       "8    7.114358                death\n",
       "0    1.656109              etc_cnt\n",
       "15   1.020218         private_shop\n",
       "11   0.921438              fishing\n",
       "13   0.613717             npc_kill\n",
       "7    0.539560             temp_cnt\n",
       "1    0.492231                level\n",
       "14   0.180473            party_exp\n",
       "9   -0.012215        enchant_count\n",
       "16  -0.017675            quest_exp\n",
       "18  -0.057313             solo_exp\n",
       "10  -0.088949         exp_recovery\n",
       "12  -0.095355    game_money_change\n",
       "2   -0.647368         num_opponent\n",
       "3   -1.829130           pledge_cnt\n",
       "4   -2.474316  random_attacker_cnt\n",
       "6   -3.601028      same_pledge_cnt\n",
       "17  -6.865900               revive"
      ]
     },
     "execution_count": 54,
     "metadata": {},
     "output_type": "execute_result"
    }
   ],
   "source": [
    "df_coef.sort_values(by='Coef', ascending=False)"
   ]
  },
  {
   "cell_type": "code",
   "execution_count": 55,
   "id": "30f5b92c-1840-42a0-adca-952982c3db4b",
   "metadata": {},
   "outputs": [
    {
     "data": {
      "text/html": [
       "<div>\n",
       "<style scoped>\n",
       "    .dataframe tbody tr th:only-of-type {\n",
       "        vertical-align: middle;\n",
       "    }\n",
       "\n",
       "    .dataframe tbody tr th {\n",
       "        vertical-align: top;\n",
       "    }\n",
       "\n",
       "    .dataframe thead th {\n",
       "        text-align: right;\n",
       "    }\n",
       "</style>\n",
       "<table border=\"1\" class=\"dataframe\">\n",
       "  <thead>\n",
       "    <tr style=\"text-align: right;\">\n",
       "      <th></th>\n",
       "      <th>Coef</th>\n",
       "      <th>X_column</th>\n",
       "    </tr>\n",
       "  </thead>\n",
       "  <tbody>\n",
       "    <tr>\n",
       "      <th>5</th>\n",
       "      <td>12.533583</td>\n",
       "      <td>random_defender_cnt</td>\n",
       "    </tr>\n",
       "    <tr>\n",
       "      <th>8</th>\n",
       "      <td>7.114358</td>\n",
       "      <td>death</td>\n",
       "    </tr>\n",
       "    <tr>\n",
       "      <th>0</th>\n",
       "      <td>1.656109</td>\n",
       "      <td>etc_cnt</td>\n",
       "    </tr>\n",
       "    <tr>\n",
       "      <th>15</th>\n",
       "      <td>1.020218</td>\n",
       "      <td>private_shop</td>\n",
       "    </tr>\n",
       "    <tr>\n",
       "      <th>11</th>\n",
       "      <td>0.921438</td>\n",
       "      <td>fishing</td>\n",
       "    </tr>\n",
       "  </tbody>\n",
       "</table>\n",
       "</div>"
      ],
      "text/plain": [
       "         Coef             X_column\n",
       "5   12.533583  random_defender_cnt\n",
       "8    7.114358                death\n",
       "0    1.656109              etc_cnt\n",
       "15   1.020218         private_shop\n",
       "11   0.921438              fishing"
      ]
     },
     "execution_count": 55,
     "metadata": {},
     "output_type": "execute_result"
    }
   ],
   "source": [
    "# 일일 플레이 타임과 비례관계가 높은 상위 5개의 항목을 확인\n",
    "df_coef.sort_values(by='Coef', ascending=False).head(5)"
   ]
  },
  {
   "cell_type": "code",
   "execution_count": 56,
   "id": "6a034b29-2bf2-4739-84cb-b68d8a4f7140",
   "metadata": {},
   "outputs": [
    {
     "data": {
      "text/html": [
       "<div>\n",
       "<style scoped>\n",
       "    .dataframe tbody tr th:only-of-type {\n",
       "        vertical-align: middle;\n",
       "    }\n",
       "\n",
       "    .dataframe tbody tr th {\n",
       "        vertical-align: top;\n",
       "    }\n",
       "\n",
       "    .dataframe thead th {\n",
       "        text-align: right;\n",
       "    }\n",
       "</style>\n",
       "<table border=\"1\" class=\"dataframe\">\n",
       "  <thead>\n",
       "    <tr style=\"text-align: right;\">\n",
       "      <th></th>\n",
       "      <th>Coef</th>\n",
       "      <th>X_column</th>\n",
       "    </tr>\n",
       "  </thead>\n",
       "  <tbody>\n",
       "    <tr>\n",
       "      <th>17</th>\n",
       "      <td>-6.865900</td>\n",
       "      <td>revive</td>\n",
       "    </tr>\n",
       "    <tr>\n",
       "      <th>6</th>\n",
       "      <td>-3.601028</td>\n",
       "      <td>same_pledge_cnt</td>\n",
       "    </tr>\n",
       "    <tr>\n",
       "      <th>4</th>\n",
       "      <td>-2.474316</td>\n",
       "      <td>random_attacker_cnt</td>\n",
       "    </tr>\n",
       "    <tr>\n",
       "      <th>3</th>\n",
       "      <td>-1.829130</td>\n",
       "      <td>pledge_cnt</td>\n",
       "    </tr>\n",
       "    <tr>\n",
       "      <th>2</th>\n",
       "      <td>-0.647368</td>\n",
       "      <td>num_opponent</td>\n",
       "    </tr>\n",
       "  </tbody>\n",
       "</table>\n",
       "</div>"
      ],
      "text/plain": [
       "        Coef             X_column\n",
       "17 -6.865900               revive\n",
       "6  -3.601028      same_pledge_cnt\n",
       "4  -2.474316  random_attacker_cnt\n",
       "3  -1.829130           pledge_cnt\n",
       "2  -0.647368         num_opponent"
      ]
     },
     "execution_count": 56,
     "metadata": {},
     "output_type": "execute_result"
    }
   ],
   "source": [
    "# 일일 플레이 타임과 비례관계가 높은 상위 5개의 항목을 확인\n",
    "df_coef.sort_values(by='Coef').head(5)"
   ]
  },
  {
   "cell_type": "markdown",
   "id": "a88fe937-d342-4644-9a36-64f123db00cd",
   "metadata": {},
   "source": [
    "32. 군집 분석을 활용하여, 유저들을 총 4개의 군집으로 도출해, 해당 군집별로 유저들의 주요활동 및 전투활동에 대한 특징을 찾아 기술하시오.\n",
    "    - 예시)\n",
    "        - 1번 군집은 혈맹 전투를 주로 즐겨하는 유저들이고, 많이 죽으며, 아이템 거래량이 낮다 -> 주로 공성전을 많이 하는 유저들이다.\n",
    "        - 2번군집은 개인 사냥을 통해 얻는 경험치가 많은 그룹이고, 죽은 횟수와 소생 횟수가 낮다 -> 주로 스토리/ 개인 사냥을 많이 하는 유저들이다."
   ]
  },
  {
   "cell_type": "code",
   "execution_count": 57,
   "id": "30644c28-0973-402c-8627-1685d108e436",
   "metadata": {},
   "outputs": [],
   "source": [
    "from sklearn.cluster import KMeans"
   ]
  },
  {
   "cell_type": "code",
   "execution_count": 58,
   "id": "181128b1-27c8-41e4-8218-b3cb935d8a44",
   "metadata": {},
   "outputs": [
    {
     "name": "stderr",
     "output_type": "stream",
     "text": [
      "C:\\ProgramData\\anaconda3\\Lib\\site-packages\\sklearn\\cluster\\_kmeans.py:870: FutureWarning: The default value of `n_init` will change from 10 to 'auto' in 1.4. Set the value of `n_init` explicitly to suppress the warning\n",
      "  warnings.warn(\n"
     ]
    },
    {
     "data": {
      "text/plain": [
       "cluster\n",
       "0    23005\n",
       "1    10940\n",
       "2     4941\n",
       "3     1114\n",
       "Name: count, dtype: int64"
      ]
     },
     "execution_count": 58,
     "metadata": {},
     "output_type": "execute_result"
    }
   ],
   "source": [
    "cluster_model = KMeans(n_clusters=4)\n",
    "# 해당데이터의 고유값인 유저ID를 제외하고 나머지 연속형 자료에 대한 군집화를 실시\n",
    "m1['cluster'] = cluster_model.fit_predict(m1.drop(columns='acc_id'))\n",
    "m1['cluster'].value_counts()"
   ]
  },
  {
   "cell_type": "code",
   "execution_count": 59,
   "id": "1bad4c49-7c25-4c56-8ae8-47832fa23219",
   "metadata": {},
   "outputs": [
    {
     "data": {
      "text/html": [
       "<div>\n",
       "<style scoped>\n",
       "    .dataframe tbody tr th:only-of-type {\n",
       "        vertical-align: middle;\n",
       "    }\n",
       "\n",
       "    .dataframe tbody tr th {\n",
       "        vertical-align: top;\n",
       "    }\n",
       "\n",
       "    .dataframe thead tr th {\n",
       "        text-align: left;\n",
       "    }\n",
       "\n",
       "    .dataframe thead tr:last-of-type th {\n",
       "        text-align: right;\n",
       "    }\n",
       "</style>\n",
       "<table border=\"1\" class=\"dataframe\">\n",
       "  <thead>\n",
       "    <tr>\n",
       "      <th></th>\n",
       "      <th colspan=\"10\" halign=\"left\">mean</th>\n",
       "      <th>...</th>\n",
       "      <th colspan=\"10\" halign=\"left\">sum</th>\n",
       "    </tr>\n",
       "    <tr>\n",
       "      <th></th>\n",
       "      <th>acc_id</th>\n",
       "      <th>death</th>\n",
       "      <th>enchant_count</th>\n",
       "      <th>etc_cnt</th>\n",
       "      <th>exp_recovery</th>\n",
       "      <th>fishing</th>\n",
       "      <th>game_money_change</th>\n",
       "      <th>level</th>\n",
       "      <th>npc_kill</th>\n",
       "      <th>num_opponent</th>\n",
       "      <th>...</th>\n",
       "      <th>playtime</th>\n",
       "      <th>pledge_cnt</th>\n",
       "      <th>private_shop</th>\n",
       "      <th>quest_exp</th>\n",
       "      <th>random_attacker_cnt</th>\n",
       "      <th>random_defender_cnt</th>\n",
       "      <th>revive</th>\n",
       "      <th>same_pledge_cnt</th>\n",
       "      <th>solo_exp</th>\n",
       "      <th>temp_cnt</th>\n",
       "    </tr>\n",
       "    <tr>\n",
       "      <th>cluster</th>\n",
       "      <th></th>\n",
       "      <th></th>\n",
       "      <th></th>\n",
       "      <th></th>\n",
       "      <th></th>\n",
       "      <th></th>\n",
       "      <th></th>\n",
       "      <th></th>\n",
       "      <th></th>\n",
       "      <th></th>\n",
       "      <th></th>\n",
       "      <th></th>\n",
       "      <th></th>\n",
       "      <th></th>\n",
       "      <th></th>\n",
       "      <th></th>\n",
       "      <th></th>\n",
       "      <th></th>\n",
       "      <th></th>\n",
       "      <th></th>\n",
       "      <th></th>\n",
       "    </tr>\n",
       "  </thead>\n",
       "  <tbody>\n",
       "    <tr>\n",
       "      <th>0</th>\n",
       "      <td>65396.866594</td>\n",
       "      <td>2.024618</td>\n",
       "      <td>0.641677</td>\n",
       "      <td>0.154832</td>\n",
       "      <td>2.778337</td>\n",
       "      <td>3.822142</td>\n",
       "      <td>-0.001771</td>\n",
       "      <td>12.846963</td>\n",
       "      <td>13.765672</td>\n",
       "      <td>0.205086</td>\n",
       "      <td>...</td>\n",
       "      <td>394225.645307</td>\n",
       "      <td>1896.122100</td>\n",
       "      <td>15264.779761</td>\n",
       "      <td>136697.633835</td>\n",
       "      <td>943.554443</td>\n",
       "      <td>1417.565405</td>\n",
       "      <td>44369.967322</td>\n",
       "      <td>1515.336777</td>\n",
       "      <td>292410.983320</td>\n",
       "      <td>1335.730719</td>\n",
       "    </tr>\n",
       "    <tr>\n",
       "      <th>1</th>\n",
       "      <td>65204.765174</td>\n",
       "      <td>5.574447</td>\n",
       "      <td>1.016311</td>\n",
       "      <td>0.383968</td>\n",
       "      <td>2.345099</td>\n",
       "      <td>14.639370</td>\n",
       "      <td>-0.096926</td>\n",
       "      <td>14.508698</td>\n",
       "      <td>41.692049</td>\n",
       "      <td>0.389679</td>\n",
       "      <td>...</td>\n",
       "      <td>805920.922992</td>\n",
       "      <td>2469.532756</td>\n",
       "      <td>6404.088666</td>\n",
       "      <td>18875.540049</td>\n",
       "      <td>455.687693</td>\n",
       "      <td>3323.420411</td>\n",
       "      <td>51677.299883</td>\n",
       "      <td>717.098174</td>\n",
       "      <td>61658.867791</td>\n",
       "      <td>1402.027951</td>\n",
       "    </tr>\n",
       "    <tr>\n",
       "      <th>2</th>\n",
       "      <td>64854.238616</td>\n",
       "      <td>0.034712</td>\n",
       "      <td>0.004238</td>\n",
       "      <td>0.000921</td>\n",
       "      <td>0.022547</td>\n",
       "      <td>0.105016</td>\n",
       "      <td>-0.199233</td>\n",
       "      <td>2.365589</td>\n",
       "      <td>0.247535</td>\n",
       "      <td>0.001956</td>\n",
       "      <td>...</td>\n",
       "      <td>436017.209164</td>\n",
       "      <td>0.221671</td>\n",
       "      <td>402559.133275</td>\n",
       "      <td>1898.699109</td>\n",
       "      <td>9.336625</td>\n",
       "      <td>4.055199</td>\n",
       "      <td>163.147565</td>\n",
       "      <td>2.289383</td>\n",
       "      <td>1791.506698</td>\n",
       "      <td>37.875987</td>\n",
       "    </tr>\n",
       "    <tr>\n",
       "      <th>3</th>\n",
       "      <td>65533.556553</td>\n",
       "      <td>9.564576</td>\n",
       "      <td>0.018796</td>\n",
       "      <td>0.358028</td>\n",
       "      <td>1.100066</td>\n",
       "      <td>0.411628</td>\n",
       "      <td>0.004024</td>\n",
       "      <td>13.191429</td>\n",
       "      <td>15.407465</td>\n",
       "      <td>0.274488</td>\n",
       "      <td>...</td>\n",
       "      <td>56916.158356</td>\n",
       "      <td>63.905517</td>\n",
       "      <td>147.476307</td>\n",
       "      <td>11426.537045</td>\n",
       "      <td>15.795796</td>\n",
       "      <td>302.325440</td>\n",
       "      <td>9737.515511</td>\n",
       "      <td>29.891681</td>\n",
       "      <td>17239.698168</td>\n",
       "      <td>48.254461</td>\n",
       "    </tr>\n",
       "  </tbody>\n",
       "</table>\n",
       "<p>4 rows × 42 columns</p>\n",
       "</div>"
      ],
      "text/plain": [
       "                 mean                                                 \\\n",
       "               acc_id     death enchant_count   etc_cnt exp_recovery   \n",
       "cluster                                                                \n",
       "0        65396.866594  2.024618      0.641677  0.154832     2.778337   \n",
       "1        65204.765174  5.574447      1.016311  0.383968     2.345099   \n",
       "2        64854.238616  0.034712      0.004238  0.000921     0.022547   \n",
       "3        65533.556553  9.564576      0.018796  0.358028     1.100066   \n",
       "\n",
       "                                                                         ...  \\\n",
       "           fishing game_money_change      level   npc_kill num_opponent  ...   \n",
       "cluster                                                                  ...   \n",
       "0         3.822142         -0.001771  12.846963  13.765672     0.205086  ...   \n",
       "1        14.639370         -0.096926  14.508698  41.692049     0.389679  ...   \n",
       "2         0.105016         -0.199233   2.365589   0.247535     0.001956  ...   \n",
       "3         0.411628          0.004024  13.191429  15.407465     0.274488  ...   \n",
       "\n",
       "                   sum                                             \\\n",
       "              playtime   pledge_cnt   private_shop      quest_exp   \n",
       "cluster                                                             \n",
       "0        394225.645307  1896.122100   15264.779761  136697.633835   \n",
       "1        805920.922992  2469.532756    6404.088666   18875.540049   \n",
       "2        436017.209164     0.221671  402559.133275    1898.699109   \n",
       "3         56916.158356    63.905517     147.476307   11426.537045   \n",
       "\n",
       "                                                                               \\\n",
       "        random_attacker_cnt random_defender_cnt        revive same_pledge_cnt   \n",
       "cluster                                                                         \n",
       "0                943.554443         1417.565405  44369.967322     1515.336777   \n",
       "1                455.687693         3323.420411  51677.299883      717.098174   \n",
       "2                  9.336625            4.055199    163.147565        2.289383   \n",
       "3                 15.795796          302.325440   9737.515511       29.891681   \n",
       "\n",
       "                                     \n",
       "              solo_exp     temp_cnt  \n",
       "cluster                              \n",
       "0        292410.983320  1335.730719  \n",
       "1         61658.867791  1402.027951  \n",
       "2          1791.506698    37.875987  \n",
       "3         17239.698168    48.254461  \n",
       "\n",
       "[4 rows x 42 columns]"
      ]
     },
     "execution_count": 59,
     "metadata": {},
     "output_type": "execute_result"
    }
   ],
   "source": [
    "m1.pivot_table(index='cluster', values=m1.columns, aggfunc=['mean','sum'])\n",
    "# 군집별 연속형 자료의 특성에 대한 시각화 + 가설검정까지 수행\n",
    "# 수행결과를 해석"
   ]
  },
  {
   "cell_type": "markdown",
   "id": "22d6544a-16a3-4a0e-90f9-044d4b645d0b",
   "metadata": {},
   "source": [
    "33. 해당 데이터로 고객 이탈 예측 모형을 만들고자 한다. \n",
    "아래의 내용을 읽고, 고객 이탈 여부를 예측하는 모델을 구성하시오.  "
   ]
  },
  {
   "cell_type": "code",
   "execution_count": 60,
   "id": "f0dbbeae-889d-48ee-a9da-a9769632c998",
   "metadata": {},
   "outputs": [
    {
     "data": {
      "text/html": [
       "<div>\n",
       "<style scoped>\n",
       "    .dataframe tbody tr th:only-of-type {\n",
       "        vertical-align: middle;\n",
       "    }\n",
       "\n",
       "    .dataframe tbody tr th {\n",
       "        vertical-align: top;\n",
       "    }\n",
       "\n",
       "    .dataframe thead th {\n",
       "        text-align: right;\n",
       "    }\n",
       "</style>\n",
       "<table border=\"1\" class=\"dataframe\">\n",
       "  <thead>\n",
       "    <tr style=\"text-align: right;\">\n",
       "      <th></th>\n",
       "      <th>acc_id</th>\n",
       "      <th>survival_time</th>\n",
       "      <th>amount_spent</th>\n",
       "    </tr>\n",
       "  </thead>\n",
       "  <tbody>\n",
       "    <tr>\n",
       "      <th>0</th>\n",
       "      <td>27835</td>\n",
       "      <td>64</td>\n",
       "      <td>0.002559</td>\n",
       "    </tr>\n",
       "    <tr>\n",
       "      <th>1</th>\n",
       "      <td>12351</td>\n",
       "      <td>64</td>\n",
       "      <td>0.120154</td>\n",
       "    </tr>\n",
       "  </tbody>\n",
       "</table>\n",
       "</div>"
      ],
      "text/plain": [
       "   acc_id  survival_time  amount_spent\n",
       "0   27835             64      0.002559\n",
       "1   12351             64      0.120154"
      ]
     },
     "execution_count": 60,
     "metadata": {},
     "output_type": "execute_result"
    }
   ],
   "source": [
    "df_label = pd.read_csv(path+'/label.csv')\n",
    "df_label.head(2)"
   ]
  },
  {
   "cell_type": "code",
   "execution_count": 61,
   "id": "1f16c70f-7c57-4004-a828-1ef87f75f57b",
   "metadata": {},
   "outputs": [],
   "source": [
    "# 유저 행동 데이터를 이용해, 유저 별 캐릭터 수 / 총 플레이 시간\n",
    "df_act['char_num'] = 1\n",
    "\n",
    "# 여러 서버에 접속한 캐릭터들에 대한 계산을 위해, 서버와 유저 별 캐릭터 접속 수를 계산\n",
    "p4 = df_act.pivot_table(index=['acc_id','server'], values=['playtime','char_num'], aggfunc='sum').reset_index()\n",
    "p5 = p4.pivot_table(index='acc_id', values='char_num', aggfunc='sum').reset_index()"
   ]
  },
  {
   "cell_type": "code",
   "execution_count": 62,
   "id": "6ae50c22-d1ed-4a0d-97c9-27f190897d87",
   "metadata": {},
   "outputs": [],
   "source": [
    "# 유저의 경험치를 모두 합하여, 총 획득 경험치로 계산\n",
    "df_act['total_exp'] = df_act['solo_exp'] + df_act['quest_exp'] + df_act['party_exp']"
   ]
  },
  {
   "cell_type": "markdown",
   "id": "3cbcb9c4-1345-47a1-8832-32a38e53a4bf",
   "metadata": {},
   "source": [
    "- 유저의 전투 정보 처리"
   ]
  },
  {
   "cell_type": "code",
   "execution_count": 63,
   "id": "045416ca-385e-4722-8c6c-ff99315d3625",
   "metadata": {},
   "outputs": [],
   "source": [
    "# 유저 ID 별 평균 플레이시간 / 평균 NPC 공격수 / 죽은 횟수 등을 계산\n",
    "p6 = df_act.pivot_table(index='acc_id' , values = ['npc_kill','total_exp','death','revive','enchant_count'], aggfunc='mean').reset_index()"
   ]
  },
  {
   "cell_type": "code",
   "execution_count": 64,
   "id": "c7f6b502-2287-43e1-8d09-54589e6acae3",
   "metadata": {},
   "outputs": [],
   "source": [
    "# 유저 ID별 캐릭터의 최고 레벨 / 최저 레벨\n",
    "p7 = df_combat.pivot_table(index='acc_id', values='level', aggfunc=['min','max']).reset_index()\n",
    "p7.columns = ['acc_id','min_level','max_level']"
   ]
  },
  {
   "cell_type": "code",
   "execution_count": 65,
   "id": "20cfdb7d-c4df-40db-8bdf-c1e1a0bbbc80",
   "metadata": {},
   "outputs": [],
   "source": [
    "# 유저 ID별 캐릭터 당 평균 전투\n",
    "p8 = df_combat.pivot_table(index='acc_id', values=list2, aggfunc='mean').reset_index()"
   ]
  },
  {
   "cell_type": "code",
   "execution_count": 66,
   "id": "961cba2e-e1b6-4dbb-8d2f-2f54d4766202",
   "metadata": {},
   "outputs": [
    {
     "data": {
      "text/html": [
       "<div>\n",
       "<style scoped>\n",
       "    .dataframe tbody tr th:only-of-type {\n",
       "        vertical-align: middle;\n",
       "    }\n",
       "\n",
       "    .dataframe tbody tr th {\n",
       "        vertical-align: top;\n",
       "    }\n",
       "\n",
       "    .dataframe thead th {\n",
       "        text-align: right;\n",
       "    }\n",
       "</style>\n",
       "<table border=\"1\" class=\"dataframe\">\n",
       "  <thead>\n",
       "    <tr style=\"text-align: right;\">\n",
       "      <th></th>\n",
       "      <th>acc_id</th>\n",
       "      <th>death</th>\n",
       "      <th>enchant_count</th>\n",
       "      <th>npc_kill</th>\n",
       "      <th>revive</th>\n",
       "      <th>total_exp</th>\n",
       "    </tr>\n",
       "  </thead>\n",
       "  <tbody>\n",
       "    <tr>\n",
       "      <th>0</th>\n",
       "      <td>2</td>\n",
       "      <td>0.000000</td>\n",
       "      <td>0.0</td>\n",
       "      <td>0.000000</td>\n",
       "      <td>0.000000</td>\n",
       "      <td>0.000000</td>\n",
       "    </tr>\n",
       "    <tr>\n",
       "      <th>1</th>\n",
       "      <td>5</td>\n",
       "      <td>0.013632</td>\n",
       "      <td>0.0</td>\n",
       "      <td>0.179502</td>\n",
       "      <td>0.013712</td>\n",
       "      <td>0.164206</td>\n",
       "    </tr>\n",
       "    <tr>\n",
       "      <th>2</th>\n",
       "      <td>8</td>\n",
       "      <td>0.689987</td>\n",
       "      <td>0.0</td>\n",
       "      <td>0.233989</td>\n",
       "      <td>0.694063</td>\n",
       "      <td>0.247990</td>\n",
       "    </tr>\n",
       "    <tr>\n",
       "      <th>3</th>\n",
       "      <td>17</td>\n",
       "      <td>0.033031</td>\n",
       "      <td>0.0</td>\n",
       "      <td>0.584730</td>\n",
       "      <td>0.033226</td>\n",
       "      <td>0.391524</td>\n",
       "    </tr>\n",
       "    <tr>\n",
       "      <th>4</th>\n",
       "      <td>20</td>\n",
       "      <td>0.025828</td>\n",
       "      <td>0.0</td>\n",
       "      <td>0.895874</td>\n",
       "      <td>0.025981</td>\n",
       "      <td>0.011514</td>\n",
       "    </tr>\n",
       "    <tr>\n",
       "      <th>...</th>\n",
       "      <td>...</td>\n",
       "      <td>...</td>\n",
       "      <td>...</td>\n",
       "      <td>...</td>\n",
       "      <td>...</td>\n",
       "      <td>...</td>\n",
       "    </tr>\n",
       "    <tr>\n",
       "      <th>39995</th>\n",
       "      <td>130463</td>\n",
       "      <td>0.098148</td>\n",
       "      <td>0.0</td>\n",
       "      <td>0.011493</td>\n",
       "      <td>0.082273</td>\n",
       "      <td>5.089792</td>\n",
       "    </tr>\n",
       "    <tr>\n",
       "      <th>39996</th>\n",
       "      <td>130468</td>\n",
       "      <td>0.000000</td>\n",
       "      <td>0.0</td>\n",
       "      <td>0.025008</td>\n",
       "      <td>0.000000</td>\n",
       "      <td>0.779955</td>\n",
       "    </tr>\n",
       "    <tr>\n",
       "      <th>39997</th>\n",
       "      <td>130469</td>\n",
       "      <td>0.016143</td>\n",
       "      <td>0.0</td>\n",
       "      <td>0.229886</td>\n",
       "      <td>0.016238</td>\n",
       "      <td>0.003093</td>\n",
       "    </tr>\n",
       "    <tr>\n",
       "      <th>39998</th>\n",
       "      <td>130470</td>\n",
       "      <td>0.011153</td>\n",
       "      <td>0.0</td>\n",
       "      <td>0.381623</td>\n",
       "      <td>0.011219</td>\n",
       "      <td>0.080358</td>\n",
       "    </tr>\n",
       "    <tr>\n",
       "      <th>39999</th>\n",
       "      <td>130473</td>\n",
       "      <td>0.188117</td>\n",
       "      <td>0.0</td>\n",
       "      <td>0.995786</td>\n",
       "      <td>0.189228</td>\n",
       "      <td>0.002719</td>\n",
       "    </tr>\n",
       "  </tbody>\n",
       "</table>\n",
       "<p>40000 rows × 6 columns</p>\n",
       "</div>"
      ],
      "text/plain": [
       "       acc_id     death  enchant_count  npc_kill    revive  total_exp\n",
       "0           2  0.000000            0.0  0.000000  0.000000   0.000000\n",
       "1           5  0.013632            0.0  0.179502  0.013712   0.164206\n",
       "2           8  0.689987            0.0  0.233989  0.694063   0.247990\n",
       "3          17  0.033031            0.0  0.584730  0.033226   0.391524\n",
       "4          20  0.025828            0.0  0.895874  0.025981   0.011514\n",
       "...       ...       ...            ...       ...       ...        ...\n",
       "39995  130463  0.098148            0.0  0.011493  0.082273   5.089792\n",
       "39996  130468  0.000000            0.0  0.025008  0.000000   0.779955\n",
       "39997  130469  0.016143            0.0  0.229886  0.016238   0.003093\n",
       "39998  130470  0.011153            0.0  0.381623  0.011219   0.080358\n",
       "39999  130473  0.188117            0.0  0.995786  0.189228   0.002719\n",
       "\n",
       "[40000 rows x 6 columns]"
      ]
     },
     "execution_count": 66,
     "metadata": {},
     "output_type": "execute_result"
    }
   ],
   "source": [
    "p6"
   ]
  },
  {
   "cell_type": "code",
   "execution_count": 67,
   "id": "d3cb1014-6f3e-4422-adad-876e9ee410d7",
   "metadata": {},
   "outputs": [],
   "source": [
    "# 앞서 처리한 모든 데이터를 병합\n",
    "m2 = pd.merge(p5,p6,on='acc_id', how='inner')\n",
    "m3 = pd.merge(m2,p7,on='acc_id', how='inner')\n",
    "m4 = pd.merge(m3,p8,on='acc_id', how='inner')\n",
    "df1 = pd.merge(df_label, m4, on='acc_id', how='inner')"
   ]
  },
  {
   "cell_type": "code",
   "execution_count": 68,
   "id": "636d29ef-b028-4c68-bb90-6124d8fe1aee",
   "metadata": {},
   "outputs": [
    {
     "data": {
      "text/plain": [
       "count    40000.000000\n",
       "mean         0.714167\n",
       "std          0.363530\n",
       "min          0.015625\n",
       "25%          0.375000\n",
       "50%          1.000000\n",
       "75%          1.000000\n",
       "max          1.000000\n",
       "Name: rate, dtype: float64"
      ]
     },
     "execution_count": 68,
     "metadata": {},
     "output_type": "execute_result"
    }
   ],
   "source": [
    "# 잔존일자 데이터를 잔존 비율\n",
    "df1['rate'] = df1['survival_time'] / 64\n",
    "df1['rate'].describe()"
   ]
  },
  {
   "cell_type": "code",
   "execution_count": 69,
   "id": "454a33c1-6430-4d58-bfee-91119622a067",
   "metadata": {},
   "outputs": [],
   "source": [
    "# 잔존율을 예측할 X/Y를 선언\n",
    "Y = df1['rate']\n",
    "X = df1.drop(columns = ['survival_time','rate','acc_id','level'])"
   ]
  },
  {
   "cell_type": "code",
   "execution_count": 70,
   "id": "45798d98-a5db-4313-9d80-cdf3b942a913",
   "metadata": {},
   "outputs": [],
   "source": [
    "from sklearn.model_selection import train_test_split"
   ]
  },
  {
   "cell_type": "code",
   "execution_count": 71,
   "id": "de6cbf42-9a34-462c-b931-1b17e7dce732",
   "metadata": {},
   "outputs": [],
   "source": [
    "X_train, X_test, Y_train, Y_test = train_test_split(X,Y, random_state=1234)"
   ]
  },
  {
   "cell_type": "markdown",
   "id": "08f3c6c9-6d48-412a-8469-08da8846da96",
   "metadata": {},
   "source": [
    "# **신경망 하이퍼파라미터 튜닝**"
   ]
  },
  {
   "cell_type": "markdown",
   "id": "2b55da1d-4160-4125-a242-f1dda303cb48",
   "metadata": {},
   "source": [
    "- 신경망 알고리즘은 강력한 확장성과 유연함이 큰 장점이지만, 데이터 맞는 하이퍼파라미터 (Node, Layer, 활성함수, 가중치초기화 기법, 배치 정규화 기법) 찾기가 어려움\n",
    "- Random Search 기법을 이용해, 데이터에 적합한 하이퍼파라미터를 도출"
   ]
  },
  {
   "cell_type": "code",
   "execution_count": 72,
   "id": "c4f6ccb2-daf1-46bd-8519-a56b488021b7",
   "metadata": {},
   "outputs": [
    {
     "name": "stdout",
     "output_type": "stream",
     "text": [
      "Requirement already satisfied: keras-tuner in c:\\programdata\\anaconda3\\lib\\site-packages (1.4.7)\n",
      "Requirement already satisfied: keras in c:\\programdata\\anaconda3\\lib\\site-packages (from keras-tuner) (3.3.3)\n",
      "Requirement already satisfied: packaging in c:\\programdata\\anaconda3\\lib\\site-packages (from keras-tuner) (23.1)\n",
      "Requirement already satisfied: requests in c:\\programdata\\anaconda3\\lib\\site-packages (from keras-tuner) (2.31.0)\n",
      "Requirement already satisfied: kt-legacy in c:\\programdata\\anaconda3\\lib\\site-packages (from keras-tuner) (1.0.5)\n",
      "Requirement already satisfied: absl-py in c:\\programdata\\anaconda3\\lib\\site-packages (from keras->keras-tuner) (2.1.0)\n",
      "Requirement already satisfied: numpy in c:\\programdata\\anaconda3\\lib\\site-packages (from keras->keras-tuner) (1.26.4)\n",
      "Requirement already satisfied: rich in c:\\programdata\\anaconda3\\lib\\site-packages (from keras->keras-tuner) (13.3.5)\n",
      "Requirement already satisfied: namex in c:\\programdata\\anaconda3\\lib\\site-packages (from keras->keras-tuner) (0.0.8)\n",
      "Requirement already satisfied: h5py in c:\\programdata\\anaconda3\\lib\\site-packages (from keras->keras-tuner) (3.11.0)\n",
      "Requirement already satisfied: optree in c:\\programdata\\anaconda3\\lib\\site-packages (from keras->keras-tuner) (0.11.0)\n",
      "Requirement already satisfied: ml-dtypes in c:\\programdata\\anaconda3\\lib\\site-packages (from keras->keras-tuner) (0.3.2)\n",
      "Requirement already satisfied: charset-normalizer<4,>=2 in c:\\programdata\\anaconda3\\lib\\site-packages (from requests->keras-tuner) (2.0.4)\n",
      "Requirement already satisfied: idna<4,>=2.5 in c:\\programdata\\anaconda3\\lib\\site-packages (from requests->keras-tuner) (3.4)\n",
      "Requirement already satisfied: urllib3<3,>=1.21.1 in c:\\programdata\\anaconda3\\lib\\site-packages (from requests->keras-tuner) (2.0.7)\n",
      "Requirement already satisfied: certifi>=2017.4.17 in c:\\programdata\\anaconda3\\lib\\site-packages (from requests->keras-tuner) (2024.2.2)\n",
      "Requirement already satisfied: typing-extensions>=4.0.0 in c:\\programdata\\anaconda3\\lib\\site-packages (from optree->keras->keras-tuner) (4.9.0)\n",
      "Requirement already satisfied: markdown-it-py<3.0.0,>=2.2.0 in c:\\programdata\\anaconda3\\lib\\site-packages (from rich->keras->keras-tuner) (2.2.0)\n",
      "Requirement already satisfied: pygments<3.0.0,>=2.13.0 in c:\\programdata\\anaconda3\\lib\\site-packages (from rich->keras->keras-tuner) (2.15.1)\n",
      "Requirement already satisfied: mdurl~=0.1 in c:\\programdata\\anaconda3\\lib\\site-packages (from markdown-it-py<3.0.0,>=2.2.0->rich->keras->keras-tuner) (0.1.0)\n"
     ]
    }
   ],
   "source": [
    "# 케라스 튜너\n",
    "!pip install keras-tuner"
   ]
  },
  {
   "cell_type": "code",
   "execution_count": 73,
   "id": "d89188ea-c62f-4695-ad3d-4db510353e83",
   "metadata": {},
   "outputs": [
    {
     "name": "stderr",
     "output_type": "stream",
     "text": [
      "C:\\Users\\UserK\\AppData\\Local\\Temp\\ipykernel_4328\\1562017348.py:3: DeprecationWarning: `import kerastuner` is deprecated, please use `import keras_tuner`.\n",
      "  from kerastuner.tuners import RandomSearch\n"
     ]
    }
   ],
   "source": [
    "from keras.models import Sequential\n",
    "from keras.layers import Dense\n",
    "from kerastuner.tuners import RandomSearch"
   ]
  },
  {
   "cell_type": "code",
   "execution_count": 83,
   "id": "8469e79f-b4bb-4b9e-85c1-23182de9ea72",
   "metadata": {},
   "outputs": [],
   "source": [
    "# hp.Int() : kerastuner 케라스 하이퍼 파라미터 튜너 \n",
    "def buil_model(hp):\n",
    "    model = Sequential() # 데이터가 각 노드를 통과하며 처리되는 전결합 층을 구성 \n",
    "    # Input Layer 구성 \n",
    "    # Node의 수를 16개 부터 128개 까지 16개씩 증가하며 하이퍼파라미터를 튜닝 \n",
    "    node_hp = hp.Int('units_input', min_value=16, max_value=128, step=16)\n",
    "    # 활성 함수는 relu  / tanh / sigmoid 세가지 함수 중 선택 \n",
    "    act_hp = hp.Choice('activation_input', values=['relu','tanh','sigmoid'])\n",
    "    model.add( Dense(units=node_hp, activation=act_hp , input_shape=(16, ) ))\n",
    "\n",
    "    # 중간층 구성 \n",
    "    # Layer는 5층에서 10층 / Node의 수를 16개 부터 128개 까지 16개씩 증가 튜닝 \n",
    "    # 활성 함수는 relu  / tanh / sigmoid 세가지 함수 중 선택 \n",
    "    layer_range = hp.Int('num_layers',min_value=5, max_value=10)\n",
    "    for i in range(layer_range):\n",
    "        node_hp = hp.Int(f'units_{i}', min_value=16, max_value=128, step=16)\n",
    "        act_hp = hp.Choice(f'activation_{i}', values=['relu','tanh','sigmoid'])\n",
    "        model.add(Dense(units=node_hp, activation=act_hp))\n",
    "    # 최종 출력층 (고정)\n",
    "    model.add(Dense(1, activation='sigmoid'))\n",
    "    # 손실 함수에 의한 Weight Update\n",
    "    model.compile(optimizer='rmsprop', \n",
    "                  loss='binary_crossentropy', metrics=['accuracy'])\n",
    "    return model"
   ]
  },
  {
   "cell_type": "code",
   "execution_count": 84,
   "id": "65f7213f-08e4-4ce1-bc67-5e62744624ef",
   "metadata": {},
   "outputs": [
    {
     "name": "stdout",
     "output_type": "stream",
     "text": [
      "Trial 5 Complete [00h 00m 09s]\n",
      "val_accuracy: 0.5376666784286499\n",
      "\n",
      "Best val_accuracy So Far: 0.5402222275733948\n",
      "Total elapsed time: 00h 00m 43s\n"
     ]
    }
   ],
   "source": [
    "# 튜너 실행 (path 경로에 한글명이 들어가면 오류가 발생)\n",
    "callback_path = 'C:/Users/UserK/Desktop/Ranee/SW_CAMP'\n",
    "tuner = RandomSearch( buil_model, objective='val_accuracy', max_trials=5, directory=callback_path, overwrite = False, project_name='hp_tuning')\n",
    "\n",
    "# max_trials= : 총 몇회의 하이퍼파라미터 튜닝을 실행할지 선택\n",
    "# directory= : 하이퍼 파라미터 튜닝의 결과를 저장\n",
    "tuner.search(X_train, Y_train, epochs=10, validation_split=0.3)"
   ]
  },
  {
   "cell_type": "code",
   "execution_count": 94,
   "id": "6fae24a9-370a-42e8-ba57-b2bf299972f1",
   "metadata": {},
   "outputs": [
    {
     "name": "stdout",
     "output_type": "stream",
     "text": [
      "9\n",
      "80\n",
      "relu\n"
     ]
    }
   ],
   "source": [
    "# 튜닝된 모델 중 최상의 성능을 보이는 하이퍼파라미터 세트를 확인\n",
    "best_hp = tuner.get_best_hyperparameters()[0] # 케라스 튜너의 최적 하이퍼파라미터 개체를 선택\n",
    "\n",
    "print(best_hp.get('num_layers')) # 선택된 Layer의 개수\n",
    "print(best_hp.get('units_input')) # 선택된 입력층의 Node 수 확인\n",
    "print(best_hp.get('activation_input')) # 선택된 입력층의 활성 함수"
   ]
  },
  {
   "cell_type": "code",
   "execution_count": 95,
   "id": "4e3afc2f-d72a-4c87-a2b5-52b7f8c3621a",
   "metadata": {},
   "outputs": [
    {
     "name": "stdout",
     "output_type": "stream",
     "text": [
      "32\n"
     ]
    }
   ],
   "source": [
    "print(best_hp.get('units_0')) # 첫번째 Layer의 Node 수"
   ]
  },
  {
   "cell_type": "code",
   "execution_count": 96,
   "id": "bcbddf93-b6e4-4b2e-b85c-e057a39a733c",
   "metadata": {},
   "outputs": [
    {
     "name": "stdout",
     "output_type": "stream",
     "text": [
      "0 Layer 내 선택된 Node의 개수 :  32\n",
      "0 Layer 내 선택된 활성함수 :  tanh\n",
      "1 Layer 내 선택된 Node의 개수 :  80\n",
      "1 Layer 내 선택된 활성함수 :  relu\n",
      "2 Layer 내 선택된 Node의 개수 :  128\n",
      "2 Layer 내 선택된 활성함수 :  relu\n",
      "3 Layer 내 선택된 Node의 개수 :  32\n",
      "3 Layer 내 선택된 활성함수 :  sigmoid\n",
      "4 Layer 내 선택된 Node의 개수 :  112\n",
      "4 Layer 내 선택된 활성함수 :  tanh\n",
      "5 Layer 내 선택된 Node의 개수 :  128\n",
      "5 Layer 내 선택된 활성함수 :  sigmoid\n",
      "6 Layer 내 선택된 Node의 개수 :  16\n",
      "6 Layer 내 선택된 활성함수 :  relu\n",
      "7 Layer 내 선택된 Node의 개수 :  16\n",
      "7 Layer 내 선택된 활성함수 :  relu\n",
      "8 Layer 내 선택된 Node의 개수 :  16\n",
      "8 Layer 내 선택된 활성함수 :  relu\n"
     ]
    }
   ],
   "source": [
    "for i in range(best_hp.get('num_layers')) :\n",
    "    print(f'{i} Layer 내 선택된 Node의 개수 : ' , best_hp.get(f'units_{i}'))\n",
    "    print(f'{i} Layer 내 선택된 활성함수 : ' , best_hp.get(f'activation_{i}'))"
   ]
  },
  {
   "cell_type": "markdown",
   "id": "325da888-e83e-48fd-8f03-2eb84807914d",
   "metadata": {},
   "source": [
    "- **Early Stoppping** : 검증 데이터셋에서 신경망의 순전파->역전파 반복 중, 성능이 더 이상 개선되지 않으면, 학습을 조기에 종료\n",
    "  - epochs 값은 높으면 '순전파 -> 역전파' 반복으로 더 좋은 Weight가 Update될 가능성이 높지만, 더 이상 성능이 개선되지 않은 채로 반복되거나, 연산량이 너무 많이 시간이 오래 걸릴 수 있다."
   ]
  },
  {
   "cell_type": "code",
   "execution_count": 97,
   "id": "14665983-aa7d-4827-854e-78efe3a4e212",
   "metadata": {},
   "outputs": [],
   "source": [
    "from keras import callbacks"
   ]
  },
  {
   "cell_type": "code",
   "execution_count": 103,
   "id": "264a7f28-4acb-4ffe-b7f7-5d22439f8ccc",
   "metadata": {},
   "outputs": [],
   "source": [
    "# patience= : 몇 회 이상 성능이 개선되지 않는다면, 학습을 종료할 지 결정\n",
    "# patience=5 : 5회 동안 Validation Set 성능이 개선되지 않는다면, 학습을 중단\n",
    "# restore_best_weights=True : 조기 종료가 발생한 후에 최상의 성능을 보였던 Weight값을 유지\n",
    "\n",
    "early_stop = callbacks.EarlyStopping(patience=5, restore_best_weights=True)"
   ]
  },
  {
   "cell_type": "code",
   "execution_count": 104,
   "id": "bcbad121-b090-42f4-b2ba-54feb8c9b575",
   "metadata": {},
   "outputs": [
    {
     "name": "stderr",
     "output_type": "stream",
     "text": [
      "C:\\ProgramData\\anaconda3\\Lib\\site-packages\\keras\\src\\layers\\core\\dense.py:87: UserWarning: Do not pass an `input_shape`/`input_dim` argument to a layer. When using Sequential models, prefer using an `Input(shape)` object as the first layer in the model instead.\n",
      "  super().__init__(activity_regularizer=activity_regularizer, **kwargs)\n"
     ]
    }
   ],
   "source": [
    "best_model = tuner.hypermodel.build(best_hp) # random Search 찾은 신경망 구조를 호출"
   ]
  },
  {
   "cell_type": "code",
   "execution_count": 105,
   "id": "13705e95-b1fe-4405-a595-77346113207c",
   "metadata": {},
   "outputs": [
    {
     "name": "stdout",
     "output_type": "stream",
     "text": [
      "Epoch 1/50\n",
      "\u001b[1m657/657\u001b[0m \u001b[32m━━━━━━━━━━━━━━━━━━━━\u001b[0m\u001b[37m\u001b[0m \u001b[1m3s\u001b[0m 1ms/step - accuracy: 0.5349 - loss: 0.5718 - val_accuracy: 0.5244 - val_loss: 0.5366\n",
      "Epoch 2/50\n",
      "\u001b[1m657/657\u001b[0m \u001b[32m━━━━━━━━━━━━━━━━━━━━\u001b[0m\u001b[37m\u001b[0m \u001b[1m1s\u001b[0m 964us/step - accuracy: 0.5334 - loss: 0.5224 - val_accuracy: 0.5169 - val_loss: 0.5571\n",
      "Epoch 3/50\n",
      "\u001b[1m657/657\u001b[0m \u001b[32m━━━━━━━━━━━━━━━━━━━━\u001b[0m\u001b[37m\u001b[0m \u001b[1m1s\u001b[0m 945us/step - accuracy: 0.5363 - loss: 0.5145 - val_accuracy: 0.5298 - val_loss: 0.5314\n",
      "Epoch 4/50\n",
      "\u001b[1m657/657\u001b[0m \u001b[32m━━━━━━━━━━━━━━━━━━━━\u001b[0m\u001b[37m\u001b[0m \u001b[1m1s\u001b[0m 978us/step - accuracy: 0.5407 - loss: 0.5119 - val_accuracy: 0.5362 - val_loss: 0.5366\n",
      "Epoch 5/50\n",
      "\u001b[1m657/657\u001b[0m \u001b[32m━━━━━━━━━━━━━━━━━━━━\u001b[0m\u001b[37m\u001b[0m \u001b[1m1s\u001b[0m 1ms/step - accuracy: 0.5359 - loss: 0.5159 - val_accuracy: 0.4984 - val_loss: 0.5324\n",
      "Epoch 6/50\n",
      "\u001b[1m657/657\u001b[0m \u001b[32m━━━━━━━━━━━━━━━━━━━━\u001b[0m\u001b[37m\u001b[0m \u001b[1m1s\u001b[0m 1ms/step - accuracy: 0.5429 - loss: 0.5085 - val_accuracy: 0.5374 - val_loss: 0.5498\n",
      "Epoch 7/50\n",
      "\u001b[1m657/657\u001b[0m \u001b[32m━━━━━━━━━━━━━━━━━━━━\u001b[0m\u001b[37m\u001b[0m \u001b[1m1s\u001b[0m 962us/step - accuracy: 0.5421 - loss: 0.5072 - val_accuracy: 0.5370 - val_loss: 0.5151\n",
      "Epoch 8/50\n",
      "\u001b[1m657/657\u001b[0m \u001b[32m━━━━━━━━━━━━━━━━━━━━\u001b[0m\u001b[37m\u001b[0m \u001b[1m1s\u001b[0m 984us/step - accuracy: 0.5441 - loss: 0.5028 - val_accuracy: 0.5317 - val_loss: 0.5083\n",
      "Epoch 9/50\n",
      "\u001b[1m657/657\u001b[0m \u001b[32m━━━━━━━━━━━━━━━━━━━━\u001b[0m\u001b[37m\u001b[0m \u001b[1m1s\u001b[0m 998us/step - accuracy: 0.5504 - loss: 0.4995 - val_accuracy: 0.5342 - val_loss: 0.5126\n",
      "Epoch 10/50\n",
      "\u001b[1m657/657\u001b[0m \u001b[32m━━━━━━━━━━━━━━━━━━━━\u001b[0m\u001b[37m\u001b[0m \u001b[1m1s\u001b[0m 1ms/step - accuracy: 0.5377 - loss: 0.5059 - val_accuracy: 0.5352 - val_loss: 0.5250\n",
      "Epoch 11/50\n",
      "\u001b[1m657/657\u001b[0m \u001b[32m━━━━━━━━━━━━━━━━━━━━\u001b[0m\u001b[37m\u001b[0m \u001b[1m1s\u001b[0m 988us/step - accuracy: 0.5431 - loss: 0.4987 - val_accuracy: 0.5299 - val_loss: 0.5183\n",
      "Epoch 12/50\n",
      "\u001b[1m657/657\u001b[0m \u001b[32m━━━━━━━━━━━━━━━━━━━━\u001b[0m\u001b[37m\u001b[0m \u001b[1m1s\u001b[0m 1ms/step - accuracy: 0.5411 - loss: 0.5021 - val_accuracy: 0.5272 - val_loss: 0.5237\n",
      "Epoch 13/50\n",
      "\u001b[1m657/657\u001b[0m \u001b[32m━━━━━━━━━━━━━━━━━━━━\u001b[0m\u001b[37m\u001b[0m \u001b[1m1s\u001b[0m 992us/step - accuracy: 0.5352 - loss: 0.5045 - val_accuracy: 0.5312 - val_loss: 0.5100\n"
     ]
    },
    {
     "data": {
      "text/plain": [
       "<keras.src.callbacks.history.History at 0x1a3aa866e50>"
      ]
     },
     "execution_count": 105,
     "metadata": {},
     "output_type": "execute_result"
    }
   ],
   "source": [
    "best_model.fit(X_train,Y_train, epochs=50, validation_split=0.3, callbacks=early_stop)"
   ]
  },
  {
   "cell_type": "code",
   "execution_count": 101,
   "id": "012ddf2c-58e3-4f1f-a287-8c10a4465937",
   "metadata": {},
   "outputs": [],
   "source": [
    "from sklearn.metrics import classification_report"
   ]
  },
  {
   "cell_type": "code",
   "execution_count": 108,
   "id": "0cb08625-2f82-47ed-965f-ad1299bfc7a9",
   "metadata": {},
   "outputs": [],
   "source": [
    "# 0~1 사이의 확률값을 잔존확률 계산하는 모델p을 구성\n",
    "# 특정 확률이상이면 , 잔존 / 미만이면 이탈로 분류\n",
    "\n",
    "def func1(result) :\n",
    "    if result >= 0.7 :\n",
    "        return 1\n",
    "    else : return 0"
   ]
  },
  {
   "cell_type": "code",
   "execution_count": 109,
   "id": "327cf029-97c9-4826-bebf-2640572840de",
   "metadata": {},
   "outputs": [
    {
     "name": "stdout",
     "output_type": "stream",
     "text": [
      "\u001b[1m938/938\u001b[0m \u001b[32m━━━━━━━━━━━━━━━━━━━━\u001b[0m\u001b[37m\u001b[0m \u001b[1m1s\u001b[0m 552us/step\n",
      "\u001b[1m313/313\u001b[0m \u001b[32m━━━━━━━━━━━━━━━━━━━━\u001b[0m\u001b[37m\u001b[0m \u001b[1m0s\u001b[0m 565us/step\n"
     ]
    }
   ],
   "source": [
    "# 케라스의 예측 결과가 이중 리스트로 출력 -> .flatten() 하나의 리스트 결과로 변환\n",
    "# 하나의 리스트로 변환된 결과룰 Pandas Series 형태로 변혼 pd.Series()\n",
    "# 예측 결과 값이 0.7 (70%) 이상이면 잔존(1) / 미만이면 이탈(0)으로 분류\n",
    "\n",
    "Y_train_pred = pd.Series(best_model.predict(X_train).flatten()).apply(func1)\n",
    "Y_test_pred = pd.Series(best_model.predict(X_test).flatten()).apply(func1)"
   ]
  },
  {
   "cell_type": "code",
   "execution_count": 112,
   "id": "ec44fd02-37fc-4ccd-b146-27413b21b14e",
   "metadata": {},
   "outputs": [
    {
     "name": "stdout",
     "output_type": "stream",
     "text": [
      "              precision    recall  f1-score   support\n",
      "\n",
      "           0       0.63      0.66      0.65     11598\n",
      "           1       0.78      0.76      0.77     18402\n",
      "\n",
      "    accuracy                           0.72     30000\n",
      "   macro avg       0.71      0.71      0.71     30000\n",
      "weighted avg       0.72      0.72      0.72     30000\n",
      "\n"
     ]
    }
   ],
   "source": [
    "print(classification_report( Y_train.apply(func1), Y_train_pred))"
   ]
  },
  {
   "cell_type": "code",
   "execution_count": 114,
   "id": "cee4da02-0d17-43a2-a9c9-a5dee4d5388e",
   "metadata": {},
   "outputs": [
    {
     "name": "stdout",
     "output_type": "stream",
     "text": [
      "              precision    recall  f1-score   support\n",
      "\n",
      "           0       0.63      0.66      0.65      3791\n",
      "           1       0.79      0.76      0.78      6209\n",
      "\n",
      "    accuracy                           0.73     10000\n",
      "   macro avg       0.71      0.71      0.71     10000\n",
      "weighted avg       0.73      0.73      0.73     10000\n",
      "\n"
     ]
    }
   ],
   "source": [
    "print(classification_report( Y_test.apply(func1), Y_test_pred))"
   ]
  },
  {
   "cell_type": "code",
   "execution_count": null,
   "id": "347dbc92-7911-44c0-a4f7-1858a4472391",
   "metadata": {},
   "outputs": [],
   "source": []
  }
 ],
 "metadata": {
  "kernelspec": {
   "display_name": "Python 3 (ipykernel)",
   "language": "python",
   "name": "python3"
  },
  "language_info": {
   "codemirror_mode": {
    "name": "ipython",
    "version": 3
   },
   "file_extension": ".py",
   "mimetype": "text/x-python",
   "name": "python",
   "nbconvert_exporter": "python",
   "pygments_lexer": "ipython3",
   "version": "3.9.13"
  }
 },
 "nbformat": 4,
 "nbformat_minor": 5
}
