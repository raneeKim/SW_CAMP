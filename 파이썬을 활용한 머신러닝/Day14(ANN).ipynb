{
 "cells": [
  {
   "cell_type": "markdown",
   "id": "a5de67d4-29a3-4534-a9dc-3f87490049dd",
   "metadata": {},
   "source": [
    "# ANN 신경망 알고리즘"
   ]
  },
  {
   "cell_type": "markdown",
   "id": "3933ebac-0bac-458e-8f17-58e6e4c758ac",
   "metadata": {},
   "source": [
    "- 여러 층을 거치면서 정보가 연속된 Filter 통과, 의미있는 정보로 추출\n",
    "- Deep Learning : 신경망 모델(ANN, Artifical Neural Network)을 활용해 표현층 (Layer, 연속된 Filter 층) 정보를 학습\n",
    "- 딥러닝 신경망 알고리즘은 특성공학의 과정을 자동화 한다\n",
    "  - 따로 특성공학 기법을 구분하여 적용하지 않는다, 즉 Layer에서 데이터의 Edge 특징과 규칙을 찾아내는 형태)\n",
    "- 신경망 알고리즘의 장점\n",
    "  - 신경망 알고리즘은 거의 모든 함수를 추정할 수 있다 (보편 근사의 정리) -> 매우 유연한 확정성이 있는 알고리즘\n",
    "  - 기존과 다른 형태/ 다른 형식의 데이터에 대해서도 잘 학습"
   ]
  },
  {
   "cell_type": "markdown",
   "id": "14f609a5-f7de-4147-81be-14aa25c3e455",
   "metadata": {},
   "source": [
    "- Node : 데이터를 처리하는 활성 함수 (Activation Function) / 데이터를 처리하는 하나의 함수 식\n",
    "- Layer : 같은 동작을 수행하는 Node들이 모여있는 필터 층\n",
    "- Weight : 입력받은 정보를 어떻게 처리해야할지에 대한 처리 정보 (Layer Parameter)\n",
    "- 신경망 알고리즘에서 학습 : 예측을 정확하게 하기 위해, Layer 내 있는 Weight를 적절하게 찾아 주는 것\n",
    "- 손실 함수 (Cross Function, 비용함수)\n",
    "  - 예측값과 실제 데이터값의 차이를 계산하는 함수\n",
    "  - Layer 내 Weight값을 Update 결정하는 역할\n",
    "  - 보통 SSE(Sum of Square Error) 계산 : Σ(yᵢ - ŷᵢ)²"
   ]
  },
  {
   "cell_type": "code",
   "execution_count": 2,
   "id": "99680bf0-2167-4b6b-99b8-e7c419eb0b83",
   "metadata": {},
   "outputs": [],
   "source": [
    "import pandas as pd\n",
    "import numpy as np\n",
    "import plotly.express as px\n",
    "import scipy.stats as stasts"
   ]
  },
  {
   "cell_type": "code",
   "execution_count": 29,
   "id": "618872b9-08f4-4bfd-b41b-0eaf6c989a73",
   "metadata": {},
   "outputs": [],
   "source": [
    "from sklearn.model_selection import train_test_split # 학습 데이터 검증 데이터 분할\n",
    "from imblearn.pipeline import make_pipeline # 특성공학 기법을 적용할 파이프라인을 구성\n",
    "from sklearn.compose import make_column_transformer # 문자와 숫자데이터 병렬로 파이프 구성\n",
    "from sklearn.impute import KNNImputer # KNN 결측값 대치 기법 (알고리즘을 이용한 대치)\n",
    "from sklearn.impute import SimpleImputer # 범주형 데이터 결측 처리 (최빈값)\n",
    "from sklearn.preprocessing import OneHotEncoder # 문자 -> 숫자 (인코딩)\n",
    "from sklearn.preprocessing import MinMaxScaler # 숫자 -> 숫자 (스케일링)\n",
    "from sklearn.model_selection import GridSearchCV # 하이퍼파리미텨 튜닝 + 교차검증\n",
    "from imblearn.combine import SMOTETomek # 불균형 데이터 처리\n",
    "from sklearn.feature_selection import SelectKBest, f_classif # 변수 선택법\n",
    "from sklearn.metrics import classification_report # 분류모델에 대한 성능 평가 실시"
   ]
  },
  {
   "cell_type": "code",
   "execution_count": 6,
   "id": "66500fb6-273f-434b-928b-df98bdbf4a36",
   "metadata": {},
   "outputs": [
    {
     "name": "stdout",
     "output_type": "stream",
     "text": [
      "(100233, 10)\n"
     ]
    },
    {
     "data": {
      "text/html": [
       "<div>\n",
       "<style scoped>\n",
       "    .dataframe tbody tr th:only-of-type {\n",
       "        vertical-align: middle;\n",
       "    }\n",
       "\n",
       "    .dataframe tbody tr th {\n",
       "        vertical-align: top;\n",
       "    }\n",
       "\n",
       "    .dataframe thead th {\n",
       "        text-align: right;\n",
       "    }\n",
       "</style>\n",
       "<table border=\"1\" class=\"dataframe\">\n",
       "  <thead>\n",
       "    <tr style=\"text-align: right;\">\n",
       "      <th></th>\n",
       "      <th>Unnamed: 0</th>\n",
       "      <th>고객ID</th>\n",
       "      <th>연령</th>\n",
       "      <th>성별</th>\n",
       "      <th>직업</th>\n",
       "      <th>추정소득</th>\n",
       "      <th>가구추정소득</th>\n",
       "      <th>가족원수</th>\n",
       "      <th>자녀평균연령</th>\n",
       "      <th>배우자직업</th>\n",
       "    </tr>\n",
       "  </thead>\n",
       "  <tbody>\n",
       "    <tr>\n",
       "      <th>0</th>\n",
       "      <td>0</td>\n",
       "      <td>1</td>\n",
       "      <td>50</td>\n",
       "      <td>1</td>\n",
       "      <td>공무원</td>\n",
       "      <td>5400</td>\n",
       "      <td>7700</td>\n",
       "      <td>4</td>\n",
       "      <td>24.0</td>\n",
       "      <td>주부</td>\n",
       "    </tr>\n",
       "    <tr>\n",
       "      <th>1</th>\n",
       "      <td>1</td>\n",
       "      <td>2</td>\n",
       "      <td>50</td>\n",
       "      <td>1</td>\n",
       "      <td>자영업</td>\n",
       "      <td>5500</td>\n",
       "      <td>8100</td>\n",
       "      <td>4</td>\n",
       "      <td>29.0</td>\n",
       "      <td>주부</td>\n",
       "    </tr>\n",
       "  </tbody>\n",
       "</table>\n",
       "</div>"
      ],
      "text/plain": [
       "   Unnamed: 0  고객ID  연령 성별   직업  추정소득  가구추정소득  가족원수  자녀평균연령 배우자직업\n",
       "0           0     1  50  1  공무원  5400    7700     4    24.0    주부\n",
       "1           1     2  50  1  자영업  5500    8100     4    29.0    주부"
      ]
     },
     "execution_count": 6,
     "metadata": {},
     "output_type": "execute_result"
    }
   ],
   "source": [
    "df_person = pd.read_csv(r'C:\\Users\\UserK\\Desktop\\Ranee\\data\\ML\\22_Data.csv')\n",
    "print(df_person.shape)\n",
    "df_person.head(2)"
   ]
  },
  {
   "cell_type": "code",
   "execution_count": 9,
   "id": "546d4aca-087b-4241-948b-53188c463abe",
   "metadata": {},
   "outputs": [
    {
     "name": "stdout",
     "output_type": "stream",
     "text": [
      "(100233, 17)\n"
     ]
    },
    {
     "data": {
      "text/html": [
       "<div>\n",
       "<style scoped>\n",
       "    .dataframe tbody tr th:only-of-type {\n",
       "        vertical-align: middle;\n",
       "    }\n",
       "\n",
       "    .dataframe tbody tr th {\n",
       "        vertical-align: top;\n",
       "    }\n",
       "\n",
       "    .dataframe thead th {\n",
       "        text-align: right;\n",
       "    }\n",
       "</style>\n",
       "<table border=\"1\" class=\"dataframe\">\n",
       "  <thead>\n",
       "    <tr style=\"text-align: right;\">\n",
       "      <th></th>\n",
       "      <th>Unnamed: 0</th>\n",
       "      <th>고객ID</th>\n",
       "      <th>대출건수_1금융</th>\n",
       "      <th>대출건수_2금융</th>\n",
       "      <th>대출건수_3금융권</th>\n",
       "      <th>대출건수_기타</th>\n",
       "      <th>대출액_1금융</th>\n",
       "      <th>대출액_2금융</th>\n",
       "      <th>대출액_3금융</th>\n",
       "      <th>대출액_기타</th>\n",
       "      <th>유지기간_1금융</th>\n",
       "      <th>유지기간_2금융</th>\n",
       "      <th>신용카드발급수</th>\n",
       "      <th>신용카드유지기간</th>\n",
       "      <th>보증건수</th>\n",
       "      <th>보증금액</th>\n",
       "      <th>대출연체여부</th>\n",
       "    </tr>\n",
       "  </thead>\n",
       "  <tbody>\n",
       "    <tr>\n",
       "      <th>0</th>\n",
       "      <td>0</td>\n",
       "      <td>1</td>\n",
       "      <td>1</td>\n",
       "      <td>0</td>\n",
       "      <td>0</td>\n",
       "      <td>0</td>\n",
       "      <td>9001</td>\n",
       "      <td>9001</td>\n",
       "      <td>9001</td>\n",
       "      <td>0</td>\n",
       "      <td>1</td>\n",
       "      <td>0</td>\n",
       "      <td>2</td>\n",
       "      <td>13</td>\n",
       "      <td>3</td>\n",
       "      <td>420001</td>\n",
       "      <td>0</td>\n",
       "    </tr>\n",
       "    <tr>\n",
       "      <th>1</th>\n",
       "      <td>1</td>\n",
       "      <td>2</td>\n",
       "      <td>1</td>\n",
       "      <td>0</td>\n",
       "      <td>0</td>\n",
       "      <td>0</td>\n",
       "      <td>24001</td>\n",
       "      <td>0</td>\n",
       "      <td>24001</td>\n",
       "      <td>0</td>\n",
       "      <td>0</td>\n",
       "      <td>0</td>\n",
       "      <td>2</td>\n",
       "      <td>121</td>\n",
       "      <td>0</td>\n",
       "      <td>0</td>\n",
       "      <td>0</td>\n",
       "    </tr>\n",
       "  </tbody>\n",
       "</table>\n",
       "</div>"
      ],
      "text/plain": [
       "   Unnamed: 0  고객ID  대출건수_1금융  대출건수_2금융  대출건수_3금융권  대출건수_기타  대출액_1금융  대출액_2금융  \\\n",
       "0           0     1         1         0          0        0     9001     9001   \n",
       "1           1     2         1         0          0        0    24001        0   \n",
       "\n",
       "   대출액_3금융  대출액_기타  유지기간_1금융  유지기간_2금융  신용카드발급수  신용카드유지기간  보증건수    보증금액  \\\n",
       "0     9001       0         1         0        2        13     3  420001   \n",
       "1    24001       0         0         0        2       121     0       0   \n",
       "\n",
       "   대출연체여부  \n",
       "0       0  \n",
       "1       0  "
      ]
     },
     "execution_count": 9,
     "metadata": {},
     "output_type": "execute_result"
    }
   ],
   "source": [
    "df_loan = pd.read_csv(r'C:\\Users\\UserK\\Desktop\\Ranee\\data\\ML\\23_Data.csv')\n",
    "print(df_loan.shape)\n",
    "df_loan.head(2)"
   ]
  },
  {
   "cell_type": "code",
   "execution_count": 16,
   "id": "34627045-666f-4e97-8d85-769b6afa2f7e",
   "metadata": {},
   "outputs": [],
   "source": [
    "df1 = pd.merge(df_person, df_loan, on='고객ID', how='inner')"
   ]
  },
  {
   "cell_type": "code",
   "execution_count": 17,
   "id": "88c5fbcc-ee27-4dbf-8823-9b1526308cc5",
   "metadata": {},
   "outputs": [
    {
     "data": {
      "text/plain": [
       "array(['50', '60', '35', '45', '40', '55', '25', '30', '*', '65', '20',\n",
       "       '70'], dtype=object)"
      ]
     },
     "execution_count": 17,
     "metadata": {},
     "output_type": "execute_result"
    }
   ],
   "source": [
    "df1['연령'].unique()"
   ]
  },
  {
   "cell_type": "code",
   "execution_count": 18,
   "id": "2b902a7c-d8b9-40ed-97f5-2ac8b1fd31ba",
   "metadata": {},
   "outputs": [],
   "source": [
    "df1['연령_clean'] = df1['연령'].replace('*', np.nan).astype(float) # np.nan 결측값이 데이터 속성이 -> float 실수형태"
   ]
  },
  {
   "cell_type": "code",
   "execution_count": 21,
   "id": "dd270189-c041-4cfe-8a1b-cd44327b4885",
   "metadata": {},
   "outputs": [
    {
     "data": {
      "text/plain": [
       "array([50., 60., 35., 45., 40., 55., 25., 30., nan, 65., 20., 70.])"
      ]
     },
     "execution_count": 21,
     "metadata": {},
     "output_type": "execute_result"
    }
   ],
   "source": [
    "df1['연령_clean'].unique()"
   ]
  },
  {
   "cell_type": "code",
   "execution_count": 22,
   "id": "c66e4333-1da4-4d66-91eb-50ba7da4a8c7",
   "metadata": {},
   "outputs": [],
   "source": [
    "df2 = df1.drop(columns='배우자직업').dropna()"
   ]
  },
  {
   "cell_type": "code",
   "execution_count": 24,
   "id": "78ee4976-f463-4e89-a20e-8e6f4838a5ca",
   "metadata": {},
   "outputs": [],
   "source": [
    "# 고객들의 금융관련 정보를 입력했을 때, 대출이 연체될 고객인지 아닌지 분류하는 분류모델 ANN생성\n",
    "X = df2[['연령_clean', '추정소득', '가구추정소득', '가족원수','자녀평균연령', '대출건수_1금융', \n",
    "         '대출건수_2금융', '대출건수_3금융권','대출건수_기타', '대출액_1금융', '대출액_2금융', '대출액_3금융', \n",
    "          '대출액_기타', '유지기간_1금융','유지기간_2금융', '신용카드발급수','신용카드유지기간', '보증건수', '보증금액']]\n",
    "Y = df2['대출연체여부']"
   ]
  },
  {
   "cell_type": "code",
   "execution_count": 34,
   "id": "e9a588a8-d91e-4854-a99a-b9c00e0f4711",
   "metadata": {},
   "outputs": [],
   "source": [
    "X_train, X_test, Y_train , Y_test = train_test_split(X,Y, random_state=1234)"
   ]
  },
  {
   "cell_type": "code",
   "execution_count": null,
   "id": "f9f23c64-2312-4afb-b141-981586936a3e",
   "metadata": {},
   "outputs": [],
   "source": [
    "!pip uninstall keras\n",
    "!pip3 install keras --upgrade"
   ]
  },
  {
   "cell_type": "code",
   "execution_count": 28,
   "id": "8823e0ed-a1e2-438b-9ec4-253cf1f387c3",
   "metadata": {},
   "outputs": [
    {
     "name": "stdout",
     "output_type": "stream",
     "text": [
      "Collecting tensorflow\n",
      "  Downloading tensorflow-2.16.1-cp311-cp311-win_amd64.whl.metadata (3.5 kB)\n",
      "Collecting tensorflow-intel==2.16.1 (from tensorflow)\n",
      "  Downloading tensorflow_intel-2.16.1-cp311-cp311-win_amd64.whl.metadata (5.0 kB)\n",
      "Requirement already satisfied: absl-py>=1.0.0 in c:\\programdata\\anaconda3\\lib\\site-packages (from tensorflow-intel==2.16.1->tensorflow) (2.1.0)\n",
      "Collecting astunparse>=1.6.0 (from tensorflow-intel==2.16.1->tensorflow)\n",
      "  Downloading astunparse-1.6.3-py2.py3-none-any.whl.metadata (4.4 kB)\n",
      "Collecting flatbuffers>=23.5.26 (from tensorflow-intel==2.16.1->tensorflow)\n",
      "  Downloading flatbuffers-24.3.25-py2.py3-none-any.whl.metadata (850 bytes)\n",
      "Collecting gast!=0.5.0,!=0.5.1,!=0.5.2,>=0.2.1 (from tensorflow-intel==2.16.1->tensorflow)\n",
      "  Downloading gast-0.5.4-py3-none-any.whl.metadata (1.3 kB)\n",
      "Collecting google-pasta>=0.1.1 (from tensorflow-intel==2.16.1->tensorflow)\n",
      "  Downloading google_pasta-0.2.0-py3-none-any.whl.metadata (814 bytes)\n",
      "Collecting h5py>=3.10.0 (from tensorflow-intel==2.16.1->tensorflow)\n",
      "  Downloading h5py-3.11.0-cp311-cp311-win_amd64.whl.metadata (2.5 kB)\n",
      "Collecting libclang>=13.0.0 (from tensorflow-intel==2.16.1->tensorflow)\n",
      "  Downloading libclang-18.1.1-py2.py3-none-win_amd64.whl.metadata (5.3 kB)\n",
      "Collecting ml-dtypes~=0.3.1 (from tensorflow-intel==2.16.1->tensorflow)\n",
      "  Downloading ml_dtypes-0.3.2-cp311-cp311-win_amd64.whl.metadata (20 kB)\n",
      "Collecting opt-einsum>=2.3.2 (from tensorflow-intel==2.16.1->tensorflow)\n",
      "  Downloading opt_einsum-3.3.0-py3-none-any.whl.metadata (6.5 kB)\n",
      "Requirement already satisfied: packaging in c:\\programdata\\anaconda3\\lib\\site-packages (from tensorflow-intel==2.16.1->tensorflow) (23.1)\n",
      "Requirement already satisfied: protobuf!=4.21.0,!=4.21.1,!=4.21.2,!=4.21.3,!=4.21.4,!=4.21.5,<5.0.0dev,>=3.20.3 in c:\\programdata\\anaconda3\\lib\\site-packages (from tensorflow-intel==2.16.1->tensorflow) (3.20.3)\n",
      "Requirement already satisfied: requests<3,>=2.21.0 in c:\\programdata\\anaconda3\\lib\\site-packages (from tensorflow-intel==2.16.1->tensorflow) (2.31.0)\n",
      "Requirement already satisfied: setuptools in c:\\programdata\\anaconda3\\lib\\site-packages (from tensorflow-intel==2.16.1->tensorflow) (68.2.2)\n",
      "Requirement already satisfied: six>=1.12.0 in c:\\programdata\\anaconda3\\lib\\site-packages (from tensorflow-intel==2.16.1->tensorflow) (1.16.0)\n",
      "Collecting termcolor>=1.1.0 (from tensorflow-intel==2.16.1->tensorflow)\n",
      "  Downloading termcolor-2.4.0-py3-none-any.whl.metadata (6.1 kB)\n",
      "Requirement already satisfied: typing-extensions>=3.6.6 in c:\\programdata\\anaconda3\\lib\\site-packages (from tensorflow-intel==2.16.1->tensorflow) (4.9.0)\n",
      "Requirement already satisfied: wrapt>=1.11.0 in c:\\programdata\\anaconda3\\lib\\site-packages (from tensorflow-intel==2.16.1->tensorflow) (1.14.1)\n",
      "Collecting grpcio<2.0,>=1.24.3 (from tensorflow-intel==2.16.1->tensorflow)\n",
      "  Downloading grpcio-1.64.1-cp311-cp311-win_amd64.whl.metadata (3.4 kB)\n",
      "Collecting tensorboard<2.17,>=2.16 (from tensorflow-intel==2.16.1->tensorflow)\n",
      "  Downloading tensorboard-2.16.2-py3-none-any.whl.metadata (1.6 kB)\n",
      "Requirement already satisfied: keras>=3.0.0 in c:\\programdata\\anaconda3\\lib\\site-packages (from tensorflow-intel==2.16.1->tensorflow) (3.3.3)\n",
      "Collecting tensorflow-io-gcs-filesystem>=0.23.1 (from tensorflow-intel==2.16.1->tensorflow)\n",
      "  Downloading tensorflow_io_gcs_filesystem-0.31.0-cp311-cp311-win_amd64.whl.metadata (14 kB)\n",
      "Requirement already satisfied: numpy<2.0.0,>=1.23.5 in c:\\programdata\\anaconda3\\lib\\site-packages (from tensorflow-intel==2.16.1->tensorflow) (1.26.4)\n",
      "Requirement already satisfied: wheel<1.0,>=0.23.0 in c:\\programdata\\anaconda3\\lib\\site-packages (from astunparse>=1.6.0->tensorflow-intel==2.16.1->tensorflow) (0.41.2)\n",
      "Requirement already satisfied: rich in c:\\programdata\\anaconda3\\lib\\site-packages (from keras>=3.0.0->tensorflow-intel==2.16.1->tensorflow) (13.3.5)\n",
      "Requirement already satisfied: namex in c:\\programdata\\anaconda3\\lib\\site-packages (from keras>=3.0.0->tensorflow-intel==2.16.1->tensorflow) (0.0.8)\n",
      "Requirement already satisfied: optree in c:\\programdata\\anaconda3\\lib\\site-packages (from keras>=3.0.0->tensorflow-intel==2.16.1->tensorflow) (0.11.0)\n",
      "Requirement already satisfied: charset-normalizer<4,>=2 in c:\\programdata\\anaconda3\\lib\\site-packages (from requests<3,>=2.21.0->tensorflow-intel==2.16.1->tensorflow) (2.0.4)\n",
      "Requirement already satisfied: idna<4,>=2.5 in c:\\programdata\\anaconda3\\lib\\site-packages (from requests<3,>=2.21.0->tensorflow-intel==2.16.1->tensorflow) (3.4)\n",
      "Requirement already satisfied: urllib3<3,>=1.21.1 in c:\\programdata\\anaconda3\\lib\\site-packages (from requests<3,>=2.21.0->tensorflow-intel==2.16.1->tensorflow) (2.0.7)\n",
      "Requirement already satisfied: certifi>=2017.4.17 in c:\\programdata\\anaconda3\\lib\\site-packages (from requests<3,>=2.21.0->tensorflow-intel==2.16.1->tensorflow) (2024.2.2)\n",
      "Requirement already satisfied: markdown>=2.6.8 in c:\\programdata\\anaconda3\\lib\\site-packages (from tensorboard<2.17,>=2.16->tensorflow-intel==2.16.1->tensorflow) (3.4.1)\n",
      "Collecting tensorboard-data-server<0.8.0,>=0.7.0 (from tensorboard<2.17,>=2.16->tensorflow-intel==2.16.1->tensorflow)\n",
      "  Downloading tensorboard_data_server-0.7.2-py3-none-any.whl.metadata (1.1 kB)\n",
      "Requirement already satisfied: werkzeug>=1.0.1 in c:\\programdata\\anaconda3\\lib\\site-packages (from tensorboard<2.17,>=2.16->tensorflow-intel==2.16.1->tensorflow) (2.2.3)\n",
      "Requirement already satisfied: MarkupSafe>=2.1.1 in c:\\programdata\\anaconda3\\lib\\site-packages (from werkzeug>=1.0.1->tensorboard<2.17,>=2.16->tensorflow-intel==2.16.1->tensorflow) (2.1.3)\n",
      "Requirement already satisfied: markdown-it-py<3.0.0,>=2.2.0 in c:\\programdata\\anaconda3\\lib\\site-packages (from rich->keras>=3.0.0->tensorflow-intel==2.16.1->tensorflow) (2.2.0)\n",
      "Requirement already satisfied: pygments<3.0.0,>=2.13.0 in c:\\programdata\\anaconda3\\lib\\site-packages (from rich->keras>=3.0.0->tensorflow-intel==2.16.1->tensorflow) (2.15.1)\n",
      "Requirement already satisfied: mdurl~=0.1 in c:\\programdata\\anaconda3\\lib\\site-packages (from markdown-it-py<3.0.0,>=2.2.0->rich->keras>=3.0.0->tensorflow-intel==2.16.1->tensorflow) (0.1.0)\n",
      "Downloading tensorflow-2.16.1-cp311-cp311-win_amd64.whl (2.1 kB)\n",
      "Downloading tensorflow_intel-2.16.1-cp311-cp311-win_amd64.whl (377.0 MB)\n",
      "   ---------------------------------------- 0.0/377.0 MB ? eta -:--:--\n",
      "   ---------------------------------------- 0.7/377.0 MB 15.7 MB/s eta 0:00:24\n",
      "   ---------------------------------------- 1.7/377.0 MB 22.2 MB/s eta 0:00:17\n",
      "   ---------------------------------------- 2.9/377.0 MB 26.6 MB/s eta 0:00:15\n",
      "   ---------------------------------------- 4.3/377.0 MB 27.5 MB/s eta 0:00:14\n",
      "    --------------------------------------- 6.0/377.0 MB 29.4 MB/s eta 0:00:13\n",
      "    --------------------------------------- 7.5/377.0 MB 31.8 MB/s eta 0:00:12\n",
      "    --------------------------------------- 9.3/377.0 MB 33.0 MB/s eta 0:00:12\n",
      "   - -------------------------------------- 10.5/377.0 MB 34.4 MB/s eta 0:00:11\n",
      "   - -------------------------------------- 12.6/377.0 MB 38.6 MB/s eta 0:00:10\n",
      "   - -------------------------------------- 14.4/377.0 MB 40.9 MB/s eta 0:00:09\n",
      "   - -------------------------------------- 16.5/377.0 MB 46.9 MB/s eta 0:00:08\n",
      "   - -------------------------------------- 17.6/377.0 MB 46.7 MB/s eta 0:00:08\n",
      "   -- ------------------------------------- 19.4/377.0 MB 40.9 MB/s eta 0:00:09\n",
      "   -- ------------------------------------- 21.7/377.0 MB 50.4 MB/s eta 0:00:08\n",
      "   -- ------------------------------------- 24.3/377.0 MB 50.1 MB/s eta 0:00:08\n",
      "   -- ------------------------------------- 27.0/377.0 MB 54.7 MB/s eta 0:00:07\n",
      "   --- ------------------------------------ 29.6/377.0 MB 65.2 MB/s eta 0:00:06\n",
      "   --- ------------------------------------ 32.0/377.0 MB 65.2 MB/s eta 0:00:06\n",
      "   --- ------------------------------------ 34.5/377.0 MB 59.8 MB/s eta 0:00:06\n",
      "   ---- ----------------------------------- 37.7/377.0 MB 72.6 MB/s eta 0:00:05\n",
      "   ---- ----------------------------------- 40.6/377.0 MB 65.2 MB/s eta 0:00:06\n",
      "   ---- ----------------------------------- 43.1/377.0 MB 65.6 MB/s eta 0:00:06\n",
      "   ---- ----------------------------------- 46.4/377.0 MB 72.6 MB/s eta 0:00:05\n",
      "   ----- ---------------------------------- 49.4/377.0 MB 65.2 MB/s eta 0:00:06\n",
      "   ----- ---------------------------------- 52.5/377.0 MB 73.1 MB/s eta 0:00:05\n",
      "   ----- ---------------------------------- 55.5/377.0 MB 72.6 MB/s eta 0:00:05\n",
      "   ------ --------------------------------- 58.0/377.0 MB 65.2 MB/s eta 0:00:05\n",
      "   ------ --------------------------------- 62.4/377.0 MB 73.1 MB/s eta 0:00:05\n",
      "   ------ --------------------------------- 65.8/377.0 MB 81.8 MB/s eta 0:00:04\n",
      "   ------- -------------------------------- 69.3/377.0 MB 81.8 MB/s eta 0:00:04\n",
      "   ------- -------------------------------- 72.3/377.0 MB 72.6 MB/s eta 0:00:05\n",
      "   -------- ------------------------------- 75.8/377.0 MB 73.1 MB/s eta 0:00:05\n",
      "   -------- ------------------------------- 78.1/377.0 MB 72.6 MB/s eta 0:00:05\n",
      "   -------- ------------------------------- 80.4/377.0 MB 73.1 MB/s eta 0:00:05\n",
      "   -------- ------------------------------- 83.2/377.0 MB 65.6 MB/s eta 0:00:05\n",
      "   --------- ------------------------------ 85.7/377.0 MB 59.5 MB/s eta 0:00:05\n",
      "   --------- ------------------------------ 88.7/377.0 MB 65.6 MB/s eta 0:00:05\n",
      "   --------- ------------------------------ 91.7/377.0 MB 73.1 MB/s eta 0:00:04\n",
      "   ---------- ----------------------------- 94.6/377.0 MB 72.6 MB/s eta 0:00:04\n",
      "   ---------- ----------------------------- 97.4/377.0 MB 73.1 MB/s eta 0:00:04\n",
      "   ---------- ---------------------------- 100.5/377.0 MB 81.8 MB/s eta 0:00:04\n",
      "   ---------- ---------------------------- 102.3/377.0 MB 72.6 MB/s eta 0:00:04\n",
      "   ---------- ---------------------------- 104.6/377.0 MB 59.8 MB/s eta 0:00:05\n",
      "   ----------- --------------------------- 107.3/377.0 MB 59.5 MB/s eta 0:00:05\n",
      "   ----------- --------------------------- 107.3/377.0 MB 59.5 MB/s eta 0:00:05\n",
      "   ----------- --------------------------- 110.2/377.0 MB 50.4 MB/s eta 0:00:06\n",
      "   ----------- --------------------------- 113.4/377.0 MB 54.4 MB/s eta 0:00:05\n",
      "   ------------ -------------------------- 116.1/377.0 MB 59.5 MB/s eta 0:00:05\n",
      "   ------------ -------------------------- 119.7/377.0 MB 81.8 MB/s eta 0:00:04\n",
      "   ------------ -------------------------- 121.8/377.0 MB 65.2 MB/s eta 0:00:04\n",
      "   ------------ -------------------------- 125.0/377.0 MB 72.6 MB/s eta 0:00:04\n",
      "   ------------- ------------------------- 127.4/377.0 MB 65.6 MB/s eta 0:00:04\n",
      "   ------------- ------------------------- 129.9/377.0 MB 59.5 MB/s eta 0:00:05\n",
      "   ------------- ------------------------- 133.4/377.0 MB 81.8 MB/s eta 0:00:03\n",
      "   -------------- ------------------------ 136.0/377.0 MB 81.8 MB/s eta 0:00:03\n",
      "   -------------- ------------------------ 139.4/377.0 MB 81.8 MB/s eta 0:00:03\n",
      "   -------------- ------------------------ 142.1/377.0 MB 72.6 MB/s eta 0:00:04\n",
      "   --------------- ----------------------- 145.7/377.0 MB 81.8 MB/s eta 0:00:03\n",
      "   --------------- ----------------------- 149.2/377.0 MB 81.8 MB/s eta 0:00:03\n",
      "   --------------- ----------------------- 151.0/377.0 MB 73.1 MB/s eta 0:00:04\n",
      "   --------------- ----------------------- 154.4/377.0 MB 73.1 MB/s eta 0:00:04\n",
      "   ---------------- ---------------------- 157.3/377.0 MB 65.6 MB/s eta 0:00:04\n",
      "   ---------------- ---------------------- 159.5/377.0 MB 65.6 MB/s eta 0:00:04\n",
      "   ---------------- ---------------------- 161.5/377.0 MB 72.6 MB/s eta 0:00:03\n",
      "   ---------------- ---------------------- 164.2/377.0 MB 65.6 MB/s eta 0:00:04\n",
      "   ----------------- --------------------- 166.5/377.0 MB 65.2 MB/s eta 0:00:04\n",
      "   ----------------- --------------------- 169.3/377.0 MB 65.2 MB/s eta 0:00:04\n",
      "   ----------------- --------------------- 172.6/377.0 MB 72.6 MB/s eta 0:00:03\n",
      "   ------------------ -------------------- 175.6/377.0 MB 81.8 MB/s eta 0:00:03\n",
      "   ------------------ -------------------- 178.0/377.0 MB 72.6 MB/s eta 0:00:03\n",
      "   ------------------ -------------------- 181.1/377.0 MB 73.1 MB/s eta 0:00:03\n",
      "   ------------------ -------------------- 183.5/377.0 MB 72.6 MB/s eta 0:00:03\n",
      "   ------------------- ------------------- 186.8/377.0 MB 65.2 MB/s eta 0:00:03\n",
      "   ------------------- ------------------- 190.2/377.0 MB 65.6 MB/s eta 0:00:03\n",
      "   -------------------- ------------------ 193.3/377.0 MB 72.6 MB/s eta 0:00:03\n",
      "   -------------------- ------------------ 196.3/377.0 MB 81.8 MB/s eta 0:00:03\n",
      "   -------------------- ------------------ 199.3/377.0 MB 73.1 MB/s eta 0:00:03\n",
      "   -------------------- ------------------ 202.5/377.0 MB 81.8 MB/s eta 0:00:03\n",
      "   --------------------- ----------------- 204.6/377.0 MB 72.6 MB/s eta 0:00:03\n",
      "   --------------------- ----------------- 208.0/377.0 MB 81.8 MB/s eta 0:00:03\n",
      "   --------------------- ----------------- 210.8/377.0 MB 72.6 MB/s eta 0:00:03\n",
      "   ---------------------- ---------------- 212.7/377.0 MB 65.6 MB/s eta 0:00:03\n",
      "   ---------------------- ---------------- 215.4/377.0 MB 65.6 MB/s eta 0:00:03\n",
      "   ---------------------- ---------------- 218.4/377.0 MB 65.6 MB/s eta 0:00:03\n",
      "   ----------------------- --------------- 222.3/377.0 MB 81.8 MB/s eta 0:00:02\n",
      "   ----------------------- --------------- 224.5/377.0 MB 81.8 MB/s eta 0:00:02\n",
      "   ----------------------- --------------- 227.4/377.0 MB 81.8 MB/s eta 0:00:02\n",
      "   ----------------------- --------------- 229.5/377.0 MB 81.8 MB/s eta 0:00:02\n",
      "   ------------------------ -------------- 232.1/377.0 MB 65.2 MB/s eta 0:00:03\n",
      "   ------------------------ -------------- 235.0/377.0 MB 65.6 MB/s eta 0:00:03\n",
      "   ------------------------ -------------- 238.1/377.0 MB 65.2 MB/s eta 0:00:03\n",
      "   ------------------------ -------------- 241.0/377.0 MB 72.6 MB/s eta 0:00:02\n",
      "   ------------------------- ------------- 243.8/377.0 MB 81.8 MB/s eta 0:00:02\n",
      "   ------------------------- ------------- 247.5/377.0 MB 81.8 MB/s eta 0:00:02\n",
      "   ------------------------- ------------- 249.9/377.0 MB 81.8 MB/s eta 0:00:02\n",
      "   -------------------------- ------------ 253.5/377.0 MB 81.8 MB/s eta 0:00:02\n",
      "   -------------------------- ------------ 256.4/377.0 MB 81.8 MB/s eta 0:00:02\n",
      "   -------------------------- ------------ 259.6/377.0 MB 81.8 MB/s eta 0:00:02\n",
      "   --------------------------- ----------- 263.2/377.0 MB 81.8 MB/s eta 0:00:02\n",
      "   --------------------------- ----------- 266.1/377.0 MB 81.8 MB/s eta 0:00:02\n",
      "   --------------------------- ----------- 269.4/377.0 MB 81.8 MB/s eta 0:00:02\n",
      "   ---------------------------- ---------- 272.4/377.0 MB 81.8 MB/s eta 0:00:02\n",
      "   ---------------------------- ---------- 275.0/377.0 MB 72.6 MB/s eta 0:00:02\n",
      "   ---------------------------- ---------- 277.6/377.0 MB 65.6 MB/s eta 0:00:02\n",
      "   ----------------------------- --------- 280.6/377.0 MB 65.6 MB/s eta 0:00:02\n",
      "   ----------------------------- --------- 282.5/377.0 MB 59.5 MB/s eta 0:00:02\n",
      "   ----------------------------- --------- 285.2/377.0 MB 59.5 MB/s eta 0:00:02\n",
      "   ----------------------------- --------- 287.4/377.0 MB 54.4 MB/s eta 0:00:02\n",
      "   ------------------------------ -------- 290.7/377.0 MB 65.6 MB/s eta 0:00:02\n",
      "   ------------------------------ -------- 293.5/377.0 MB 73.1 MB/s eta 0:00:02\n",
      "   ------------------------------ -------- 294.6/377.0 MB 59.5 MB/s eta 0:00:02\n",
      "   ------------------------------ -------- 297.4/377.0 MB 59.5 MB/s eta 0:00:02\n",
      "   ------------------------------- ------- 300.2/377.0 MB 65.6 MB/s eta 0:00:02\n",
      "   ------------------------------- ------- 303.8/377.0 MB 59.5 MB/s eta 0:00:02\n",
      "   ------------------------------- ------- 305.0/377.0 MB 65.6 MB/s eta 0:00:02\n",
      "   ------------------------------- ------- 308.0/377.0 MB 59.5 MB/s eta 0:00:02\n",
      "   -------------------------------- ------ 310.7/377.0 MB 59.5 MB/s eta 0:00:02\n",
      "   -------------------------------- ------ 313.8/377.0 MB 65.6 MB/s eta 0:00:01\n",
      "   -------------------------------- ------ 315.9/377.0 MB 65.6 MB/s eta 0:00:01\n",
      "   -------------------------------- ------ 318.7/377.0 MB 65.6 MB/s eta 0:00:01\n",
      "   --------------------------------- ----- 321.8/377.0 MB 73.1 MB/s eta 0:00:01\n",
      "   --------------------------------- ----- 324.7/377.0 MB 73.1 MB/s eta 0:00:01\n",
      "   --------------------------------- ----- 328.5/377.0 MB 81.8 MB/s eta 0:00:01\n",
      "   ---------------------------------- ---- 331.4/377.0 MB 72.6 MB/s eta 0:00:01\n",
      "   ---------------------------------- ---- 333.8/377.0 MB 73.1 MB/s eta 0:00:01\n",
      "   ---------------------------------- ---- 335.3/377.0 MB 65.6 MB/s eta 0:00:01\n",
      "   ---------------------------------- ---- 336.3/377.0 MB 54.7 MB/s eta 0:00:01\n",
      "   ----------------------------------- --- 338.7/377.0 MB 54.4 MB/s eta 0:00:01\n",
      "   ----------------------------------- --- 341.4/377.0 MB 54.4 MB/s eta 0:00:01\n",
      "   ----------------------------------- --- 345.2/377.0 MB 59.8 MB/s eta 0:00:01\n",
      "   ------------------------------------ -- 348.6/377.0 MB 73.1 MB/s eta 0:00:01\n",
      "   ------------------------------------ -- 351.4/377.0 MB 81.8 MB/s eta 0:00:01\n",
      "   ------------------------------------ -- 354.8/377.0 MB 81.8 MB/s eta 0:00:01\n",
      "   ------------------------------------ -- 357.3/377.0 MB 81.8 MB/s eta 0:00:01\n",
      "   ------------------------------------- - 360.3/377.0 MB 72.6 MB/s eta 0:00:01\n",
      "   ------------------------------------- - 362.9/377.0 MB 72.6 MB/s eta 0:00:01\n",
      "   ------------------------------------- - 364.9/377.0 MB 65.6 MB/s eta 0:00:01\n",
      "   --------------------------------------  367.6/377.0 MB 72.6 MB/s eta 0:00:01\n",
      "   --------------------------------------  370.3/377.0 MB 73.1 MB/s eta 0:00:01\n",
      "   --------------------------------------  373.3/377.0 MB 65.6 MB/s eta 0:00:01\n",
      "   --------------------------------------  376.0/377.0 MB 72.6 MB/s eta 0:00:01\n",
      "   --------------------------------------  377.0/377.0 MB 65.2 MB/s eta 0:00:01\n",
      "   --------------------------------------  377.0/377.0 MB 65.2 MB/s eta 0:00:01\n",
      "   --------------------------------------  377.0/377.0 MB 65.2 MB/s eta 0:00:01\n",
      "   --------------------------------------  377.0/377.0 MB 65.2 MB/s eta 0:00:01\n",
      "   --------------------------------------  377.0/377.0 MB 65.2 MB/s eta 0:00:01\n",
      "   --------------------------------------  377.0/377.0 MB 65.2 MB/s eta 0:00:01\n",
      "   --------------------------------------  377.0/377.0 MB 65.2 MB/s eta 0:00:01\n",
      "   --------------------------------------  377.0/377.0 MB 65.2 MB/s eta 0:00:01\n",
      "   --------------------------------------- 377.0/377.0 MB 19.8 MB/s eta 0:00:00\n",
      "Downloading astunparse-1.6.3-py2.py3-none-any.whl (12 kB)\n",
      "Downloading flatbuffers-24.3.25-py2.py3-none-any.whl (26 kB)\n",
      "Downloading gast-0.5.4-py3-none-any.whl (19 kB)\n",
      "Downloading google_pasta-0.2.0-py3-none-any.whl (57 kB)\n",
      "   ---------------------------------------- 0.0/57.5 kB ? eta -:--:--\n",
      "   ---------------------------------------- 57.5/57.5 kB 3.1 MB/s eta 0:00:00\n",
      "Downloading grpcio-1.64.1-cp311-cp311-win_amd64.whl (4.1 MB)\n",
      "   ---------------------------------------- 0.0/4.1 MB ? eta -:--:--\n",
      "   ----------------------------- ---------- 3.0/4.1 MB 64.1 MB/s eta 0:00:01\n",
      "   ---------------------------------------- 4.1/4.1 MB 52.3 MB/s eta 0:00:00\n",
      "Downloading h5py-3.11.0-cp311-cp311-win_amd64.whl (3.0 MB)\n",
      "   ---------------------------------------- 0.0/3.0 MB ? eta -:--:--\n",
      "   ----------------------------------- ---- 2.6/3.0 MB 56.0 MB/s eta 0:00:01\n",
      "   ---------------------------------------- 3.0/3.0 MB 47.1 MB/s eta 0:00:00\n",
      "Downloading libclang-18.1.1-py2.py3-none-win_amd64.whl (26.4 MB)\n",
      "   ---------------------------------------- 0.0/26.4 MB ? eta -:--:--\n",
      "   ---- ----------------------------------- 3.1/26.4 MB 99.8 MB/s eta 0:00:01\n",
      "   ---------- ----------------------------- 6.7/26.4 MB 85.2 MB/s eta 0:00:01\n",
      "   -------------- ------------------------- 9.8/26.4 MB 69.1 MB/s eta 0:00:01\n",
      "   ------------------ --------------------- 12.2/26.4 MB 72.6 MB/s eta 0:00:01\n",
      "   ---------------------- ----------------- 15.1/26.4 MB 65.2 MB/s eta 0:00:01\n",
      "   ---------------------------- ----------- 18.8/26.4 MB 65.2 MB/s eta 0:00:01\n",
      "   ---------------------------------- ----- 22.8/26.4 MB 81.8 MB/s eta 0:00:01\n",
      "   ---------------------------------------  25.9/26.4 MB 81.8 MB/s eta 0:00:01\n",
      "   ---------------------------------------  26.2/26.4 MB 72.6 MB/s eta 0:00:01\n",
      "   ---------------------------------------  26.4/26.4 MB 54.4 MB/s eta 0:00:01\n",
      "   ---------------------------------------- 26.4/26.4 MB 46.7 MB/s eta 0:00:00\n",
      "Downloading ml_dtypes-0.3.2-cp311-cp311-win_amd64.whl (127 kB)\n",
      "   ---------------------------------------- 0.0/127.7 kB ? eta -:--:--\n",
      "   ---------------------------------------- 127.7/127.7 kB 7.3 MB/s eta 0:00:00\n",
      "Downloading opt_einsum-3.3.0-py3-none-any.whl (65 kB)\n",
      "   ---------------------------------------- 0.0/65.5 kB ? eta -:--:--\n",
      "   ---------------------------------------- 65.5/65.5 kB ? eta 0:00:00\n",
      "Downloading tensorboard-2.16.2-py3-none-any.whl (5.5 MB)\n",
      "   ---------------------------------------- 0.0/5.5 MB ? eta -:--:--\n",
      "   -------------------------- ------------- 3.6/5.5 MB 76.7 MB/s eta 0:00:01\n",
      "   ---------------------------------------- 5.5/5.5 MB 58.3 MB/s eta 0:00:00\n",
      "Downloading tensorflow_io_gcs_filesystem-0.31.0-cp311-cp311-win_amd64.whl (1.5 MB)\n",
      "   ---------------------------------------- 0.0/1.5 MB ? eta -:--:--\n",
      "   ---------------------------------------- 1.5/1.5 MB 98.4 MB/s eta 0:00:00\n",
      "Downloading termcolor-2.4.0-py3-none-any.whl (7.7 kB)\n",
      "Downloading tensorboard_data_server-0.7.2-py3-none-any.whl (2.4 kB)\n",
      "Installing collected packages: libclang, flatbuffers, termcolor, tensorflow-io-gcs-filesystem, tensorboard-data-server, opt-einsum, ml-dtypes, h5py, grpcio, google-pasta, gast, astunparse, tensorboard, tensorflow-intel, tensorflow\n",
      "  Attempting uninstall: ml-dtypes\n",
      "    Found existing installation: ml-dtypes 0.4.0\n",
      "    Uninstalling ml-dtypes-0.4.0:\n",
      "      Successfully uninstalled ml-dtypes-0.4.0\n",
      "  Attempting uninstall: h5py\n",
      "    Found existing installation: h5py 3.9.0\n",
      "    Uninstalling h5py-3.9.0:\n",
      "      Successfully uninstalled h5py-3.9.0\n",
      "Successfully installed astunparse-1.6.3 flatbuffers-24.3.25 gast-0.5.4 google-pasta-0.2.0 grpcio-1.64.1 h5py-3.11.0 libclang-18.1.1 ml-dtypes-0.3.2 opt-einsum-3.3.0 tensorboard-2.16.2 tensorboard-data-server-0.7.2 tensorflow-2.16.1 tensorflow-intel-2.16.1 tensorflow-io-gcs-filesystem-0.31.0 termcolor-2.4.0\n"
     ]
    }
   ],
   "source": [
    "!pip install tensorflow"
   ]
  },
  {
   "cell_type": "code",
   "execution_count": 44,
   "id": "44ba26f2-3e47-409d-b91c-83f2ff47ca91",
   "metadata": {},
   "outputs": [
    {
     "data": {
      "text/plain": [
       "'3.3.3'"
      ]
     },
     "execution_count": 44,
     "metadata": {},
     "output_type": "execute_result"
    }
   ],
   "source": [
    "import tensorflow.keras as keras\n",
    "keras.__version__"
   ]
  },
  {
   "cell_type": "code",
   "execution_count": 45,
   "id": "e60d022a-f44c-4b0f-9cb0-7825a32d2218",
   "metadata": {},
   "outputs": [],
   "source": [
    "from keras import models\n",
    "from keras.layers import Dense"
   ]
  },
  {
   "cell_type": "code",
   "execution_count": null,
   "id": "6f846eb7-93a9-4047-89cd-d4d5db8e6755",
   "metadata": {},
   "outputs": [],
   "source": [
    "import numpy as np\n",
    "backend.convert_to_numpy = np.array"
   ]
  },
  {
   "cell_type": "code",
   "execution_count": 46,
   "id": "2e78dcf8-7ca1-45aa-8a99-ec28f133178a",
   "metadata": {},
   "outputs": [
    {
     "name": "stdout",
     "output_type": "stream",
     "text": [
      "Epoch 1/20\n"
     ]
    },
    {
     "name": "stderr",
     "output_type": "stream",
     "text": [
      "C:\\ProgramData\\anaconda3\\Lib\\site-packages\\keras\\src\\layers\\core\\dense.py:87: UserWarning: Do not pass an `input_shape`/`input_dim` argument to a layer. When using Sequential models, prefer using an `Input(shape)` object as the first layer in the model instead.\n",
      "  super().__init__(activity_regularizer=activity_regularizer, **kwargs)\n"
     ]
    },
    {
     "ename": "AttributeError",
     "evalue": "module 'keras.src.backend' has no attribute 'convert_to_numpy'",
     "output_type": "error",
     "traceback": [
      "\u001b[1;31m---------------------------------------------------------------------------\u001b[0m",
      "\u001b[1;31mAttributeError\u001b[0m                            Traceback (most recent call last)",
      "Cell \u001b[1;32mIn[46], line 11\u001b[0m\n\u001b[0;32m      8\u001b[0m model\u001b[38;5;241m.\u001b[39mcompile(optimizer\u001b[38;5;241m=\u001b[39m\u001b[38;5;124m'\u001b[39m\u001b[38;5;124mrmsprop\u001b[39m\u001b[38;5;124m'\u001b[39m, loss\u001b[38;5;241m=\u001b[39m\u001b[38;5;124m'\u001b[39m\u001b[38;5;124mbinary_crossentropy\u001b[39m\u001b[38;5;124m'\u001b[39m, metrics\u001b[38;5;241m=\u001b[39m[\u001b[38;5;124m'\u001b[39m\u001b[38;5;124maccuracy\u001b[39m\u001b[38;5;124m'\u001b[39m])\n\u001b[0;32m      9\u001b[0m \u001b[38;5;66;03m# binary_crossentropy 라는 손실함수를 이용하여, 실제값과 신경망 알고리즘의 예측 결과값이 차이가 있는지 평가 (평가 지표 - 정확도)\u001b[39;00m\n\u001b[0;32m     10\u001b[0m \u001b[38;5;66;03m# optimizer='rmsprop' 최적화 기법을 이용해, 앞서 Node에 있는 Weight를 Update 실시\u001b[39;00m\n\u001b[1;32m---> 11\u001b[0m result \u001b[38;5;241m=\u001b[39m model\u001b[38;5;241m.\u001b[39mfit(X_train, Y_train, epochs\u001b[38;5;241m=\u001b[39m\u001b[38;5;241m20\u001b[39m, validation_split\u001b[38;5;241m=\u001b[39m\u001b[38;5;241m0.3\u001b[39m)\n",
      "File \u001b[1;32mC:\\ProgramData\\anaconda3\\Lib\\site-packages\\keras\\src\\utils\\traceback_utils.py:122\u001b[0m, in \u001b[0;36mfilter_traceback.<locals>.error_handler\u001b[1;34m(*args, **kwargs)\u001b[0m\n\u001b[0;32m    119\u001b[0m     filtered_tb \u001b[38;5;241m=\u001b[39m _process_traceback_frames(e\u001b[38;5;241m.\u001b[39m__traceback__)\n\u001b[0;32m    120\u001b[0m     \u001b[38;5;66;03m# To get the full stack trace, call:\u001b[39;00m\n\u001b[0;32m    121\u001b[0m     \u001b[38;5;66;03m# `keras.config.disable_traceback_filtering()`\u001b[39;00m\n\u001b[1;32m--> 122\u001b[0m     \u001b[38;5;28;01mraise\u001b[39;00m e\u001b[38;5;241m.\u001b[39mwith_traceback(filtered_tb) \u001b[38;5;28;01mfrom\u001b[39;00m \u001b[38;5;28;01mNone\u001b[39;00m\n\u001b[0;32m    123\u001b[0m \u001b[38;5;28;01mfinally\u001b[39;00m:\n\u001b[0;32m    124\u001b[0m     \u001b[38;5;28;01mdel\u001b[39;00m filtered_tb\n",
      "File \u001b[1;32mC:\\ProgramData\\anaconda3\\Lib\\site-packages\\keras\\src\\utils\\progbar.py:162\u001b[0m, in \u001b[0;36mProgbar.update\u001b[1;34m(self, current, values, finalize)\u001b[0m\n\u001b[0;32m    160\u001b[0m info \u001b[38;5;241m+\u001b[39m\u001b[38;5;241m=\u001b[39m \u001b[38;5;124mf\u001b[39m\u001b[38;5;124m\"\u001b[39m\u001b[38;5;124m - \u001b[39m\u001b[38;5;132;01m{\u001b[39;00mk\u001b[38;5;132;01m}\u001b[39;00m\u001b[38;5;124m:\u001b[39m\u001b[38;5;124m\"\u001b[39m\n\u001b[0;32m    161\u001b[0m \u001b[38;5;28;01mif\u001b[39;00m \u001b[38;5;28misinstance\u001b[39m(\u001b[38;5;28mself\u001b[39m\u001b[38;5;241m.\u001b[39m_values[k], \u001b[38;5;28mlist\u001b[39m):\n\u001b[1;32m--> 162\u001b[0m     avg \u001b[38;5;241m=\u001b[39m backend\u001b[38;5;241m.\u001b[39mconvert_to_numpy(\n\u001b[0;32m    163\u001b[0m         backend\u001b[38;5;241m.\u001b[39mnumpy\u001b[38;5;241m.\u001b[39mmean(\n\u001b[0;32m    164\u001b[0m             \u001b[38;5;28mself\u001b[39m\u001b[38;5;241m.\u001b[39m_values[k][\u001b[38;5;241m0\u001b[39m] \u001b[38;5;241m/\u001b[39m \u001b[38;5;28mmax\u001b[39m(\u001b[38;5;241m1\u001b[39m, \u001b[38;5;28mself\u001b[39m\u001b[38;5;241m.\u001b[39m_values[k][\u001b[38;5;241m1\u001b[39m])\n\u001b[0;32m    165\u001b[0m         )\n\u001b[0;32m    166\u001b[0m     )\n\u001b[0;32m    167\u001b[0m     avg \u001b[38;5;241m=\u001b[39m \u001b[38;5;28mfloat\u001b[39m(avg)\n\u001b[0;32m    168\u001b[0m     \u001b[38;5;28;01mif\u001b[39;00m \u001b[38;5;28mabs\u001b[39m(avg) \u001b[38;5;241m>\u001b[39m \u001b[38;5;241m1e-3\u001b[39m:\n",
      "\u001b[1;31mAttributeError\u001b[0m: module 'keras.src.backend' has no attribute 'convert_to_numpy'"
     ]
    }
   ],
   "source": [
    "model = keras.models.Sequential() # 신경망을 구성하는데 있어 가장 기번족인 전결함(순차적으로 Layer를 통과하여 데이터가 처리되는 구조)\n",
    "# Dense : Layer 층을 구성 / 16개의 Node로 구성 / 활성 함수 relu\n",
    "model.add( (Dense(16, activation='relu', input_shape=(19,))) ) # 첫번째 층 (16개 Node) / 데이터가 들어오는 층\n",
    "model.add(Dense(16, activation='relu')) # 두번째 층 구성 (16게 Node)\n",
    "# 최종 결과를 하나의 Node로 출력 -> Sigmoid 0~1 사이의 값이 출력되는 함수로 결과를 계산\n",
    "model.add(Dense(1, activation='sigmoid')) \n",
    "# 각 Node에 있는 Weight를 Update 하기 위한 전략을 구성\n",
    "model.compile(optimizer='rmsprop', loss='binary_crossentropy', metrics=['accuracy'])\n",
    "# binary_crossentropy 라는 손실함수를 이용하여, 실제값과 신경망 알고리즘의 예측 결과값이 차이가 있는지 평가 (평가 지표 - 정확도)\n",
    "# optimizer='rmsprop' 최적화 기법을 이용해, 앞서 Node에 있는 Weight를 Update 실시\n",
    "result = model.fit(X_train, Y_train, epochs=20, validation_split=0.3)"
   ]
  }
 ],
 "metadata": {
  "kernelspec": {
   "display_name": "Python 3 (ipykernel)",
   "language": "python",
   "name": "python3"
  },
  "language_info": {
   "codemirror_mode": {
    "name": "ipython",
    "version": 3
   },
   "file_extension": ".py",
   "mimetype": "text/x-python",
   "name": "python",
   "nbconvert_exporter": "python",
   "pygments_lexer": "ipython3",
   "version": "3.11.7"
  }
 },
 "nbformat": 4,
 "nbformat_minor": 5
}
