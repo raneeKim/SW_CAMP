{
 "cells": [
  {
   "cell_type": "code",
   "execution_count": 1,
   "id": "0daeb174-4fbb-4016-9f0c-8ada2d6d9250",
   "metadata": {},
   "outputs": [],
   "source": [
    "import pandas as pd \n",
    "import plotly.express as px \n",
    "import scipy.stats as stats "
   ]
  },
  {
   "cell_type": "code",
   "execution_count": null,
   "id": "456d7c14-b17f-472d-86d9-cb5f6fc43406",
   "metadata": {},
   "outputs": [],
   "source": [
    "df1 = pd.read_csv('01_Data.csv')\n",
    "print(df1.shape)\n",
    "df1.head(2)"
   ]
  },
  {
   "cell_type": "markdown",
   "id": "2aa6ff94-8c17-4c59-af0a-f58d7ea58f68",
   "metadata": {},
   "source": [
    "# 특성 공학 (Feature Engineering) \n",
    "\n",
    "- **특성 공학** : 학습의 목적에 맞게 데이터를 다듬거나 학습 알고리즘을 통제하는 작업\n",
    "- 대표적인 특성공학 기법 :\n",
    "  - Scaling & Encoding : 숫자데이터의 스케일을 맞추거나 문자데이터를 숫자로 변환\n",
    "  - Imputation : 결측값을 대치하여, 새로운 데이터가 들어올 때, 결측값이 있더라도 예측/분류\n",
    "  - Cross Validation : 학습 데이터를 여러단계로 나누어 분할하여 학습\n",
    "  - Hyper Parameter Tuning : 알고리즘 내 수학적 구조나, 학습이 수행되며 발생하는 구조를 통제\n",
    "  - Imbalanaced Data Sampling (분류) : 데이터의 비율이 깨져 있는 경우, 한쪽의 데이터를 지우거나 생성하여 데이터의 비율을 임의로 맞춤\n",
    "  - Feature Selection : 목표변수Y에 가장 영향력이 있는(회귀계수가 높은) 인자를 사용자가 지정한 만큼 선택해 사용하는 기법\n",
    "    ...   "
   ]
  },
  {
   "cell_type": "code",
   "execution_count": 6,
   "id": "45b45e4e-2bb3-47de-b2cf-e8d4cc8d8481",
   "metadata": {},
   "outputs": [],
   "source": [
    "# 1. 데이터 핸들링 \n",
    "cond1 = df1['State'].isin(['계약확정','기간만료'])\n",
    "df1.loc[cond1, 'Target']  ='정상'\n",
    "df1.loc[~cond1, 'Target'] ='해약'"
   ]
  },
  {
   "cell_type": "code",
   "execution_count": 9,
   "id": "e75cc983-9d86-4455-9b08-cc440969a89c",
   "metadata": {},
   "outputs": [],
   "source": [
    "# 2. 변수 선택 \n",
    "X = df1[['Age','Gender','Product_Type','Amount_Month','Term','Credit_Rank']]\n",
    "Y = df1['Target']"
   ]
  },
  {
   "cell_type": "markdown",
   "id": "ca1f5dd3-d0eb-41ee-a8e1-4c7dd5a43db0",
   "metadata": {},
   "source": [
    "- Pipe Line : 데이터의 전처리 과정과 모델의 학습 단계를 하나의 파이썬 객체로 묶어 처리 "
   ]
  },
  {
   "cell_type": "markdown",
   "id": "26853306-d244-474a-8a10-00064a42bf26",
   "metadata": {},
   "source": [
    "- Scaling\n",
    "  - 1. Standard Scaling : 평균이 0 / 표준편차 1 (-> 선형회귀 기반 알고리즘) \n",
    "  - 2. Min Max Scaling  : 최대값이 1 / 최소값 0 (-> 문자데이터 / 비정형 )  \n",
    "  - 3. Robust Scaling   : 중앙값 0 / IQR(사분범위) 1 (-> 이상치가 많은 데이터)\n",
    "- Encoding\n",
    "  - 1. Label Encoding : 각 문자 항목을 하나의 정수로 Mapping 처리\n",
    "  - 2. One Hot Encoding : 문자 항목을 여러Column으로 변환하여, 데이터가 있으면 1 없으면 0 처리"
   ]
  },
  {
   "cell_type": "code",
   "execution_count": 12,
   "id": "aa235a5e-4f79-4375-ad87-6c6510d1b816",
   "metadata": {},
   "outputs": [],
   "source": [
    "from sklearn.pipeline import make_pipeline # 특성공학 + 학습 수행 \n",
    "from sklearn.impute   import SimpleImputer # 결측값을 처리 (단순 대치) \n",
    "from sklearn.preprocessing import StandardScaler # 스케일링 기법 ( 평균 0 / 표준편차 1 )\n",
    "from sklearn.preprocessing import OneHotEncoder  # 인코딩 기법 적용 \n",
    "from sklearn.tree import DecisionTreeClassifier # 분류 학습을 수행 \n",
    "from sklearn.model_selection import train_test_split # 학습데이터와 검증데이터 분할 "
   ]
  },
  {
   "cell_type": "code",
   "execution_count": 13,
   "id": "a3f5d4d1-6369-4b83-8f02-03bae420fe68",
   "metadata": {},
   "outputs": [],
   "source": [
    "# random_state= : 특정 고유 정수값에 대해, 데이터가 Random하게 똑같이 추출됨 \n",
    "X_train, X_test, Y_train, Y_test = train_test_split(X,Y, random_state=1234)"
   ]
  },
  {
   "cell_type": "code",
   "execution_count": 18,
   "id": "aca24a89-e11a-44c6-bb2d-dc7e5e1e9058",
   "metadata": {},
   "outputs": [],
   "source": [
    "# 숫자 처리 파이프 구성 (결측값 - 중앙값 / 스케일링 - Standard)\n",
    "numeric_pipe  = make_pipeline( SimpleImputer(strategy='median'), StandardScaler() )"
   ]
  },
  {
   "cell_type": "code",
   "execution_count": 19,
   "id": "3b4aa15b-0cda-465f-b9d9-c81cad884fb8",
   "metadata": {},
   "outputs": [],
   "source": [
    "# 문자 처리 파이프 구성 (결측값 - 최빈값 / 인코딩 - Onehot Encoding) \n",
    "category_pipe = make_pipeline( SimpleImputer(strategy='most_frequent'), OneHotEncoder() )"
   ]
  },
  {
   "cell_type": "code",
   "execution_count": 20,
   "id": "3438de7e-f1a5-4df8-8002-a084221d7145",
   "metadata": {},
   "outputs": [],
   "source": [
    "# 파이프 라인을 병렬구조로 배치 \n",
    "from sklearn.compose import make_column_transformer "
   ]
  },
  {
   "cell_type": "code",
   "execution_count": 22,
   "id": "307a890e-31f3-41e1-bc5f-c7ee8616287e",
   "metadata": {},
   "outputs": [],
   "source": [
    "# 각 데이터 타입을 구분 짓는 리스트 생성  \n",
    "numeric_list = ['Age', 'Amount_Month', 'Term', 'Credit_Rank']\n",
    "category_list = ['Gender', 'Product_Type']"
   ]
  },
  {
   "cell_type": "code",
   "execution_count": 26,
   "id": "fb4f308d-b12a-4f9f-9bce-8db34eb3739b",
   "metadata": {},
   "outputs": [],
   "source": [
    "pipe_model = make_column_transformer( (numeric_pipe, numeric_list) , \n",
    "                                      (category_pipe, category_list) )"
   ]
  },
  {
   "cell_type": "code",
   "execution_count": 29,
   "id": "ca7dfce7-33a2-4490-9a4c-d01ff036a56e",
   "metadata": {},
   "outputs": [],
   "source": [
    "# 특성공학에서 학습까지 파이프라인을 구성 \n",
    "pipe_model2 = make_pipeline(pipe_model, DecisionTreeClassifier()) "
   ]
  },
  {
   "cell_type": "code",
   "execution_count": null,
   "id": "97fd3d79-9a7f-47b1-9308-d3db76de8e67",
   "metadata": {},
   "outputs": [],
   "source": [
    "pipe_model2.fit(X_train, Y_train) # 생성한 파이프라인에 데이터를 넣어 학습 "
   ]
  },
  {
   "cell_type": "code",
   "execution_count": 32,
   "id": "fa8024fe-07f3-43ed-b17b-01448d90439f",
   "metadata": {},
   "outputs": [],
   "source": [
    "# 생성한 수식(모델) 파일형태로 변환\n",
    "import pickle # 파이썬에서 선언된 객체를 변수로 저장 "
   ]
  },
  {
   "cell_type": "code",
   "execution_count": 33,
   "id": "d6afd7bc-e305-445a-94fd-340b75a911c6",
   "metadata": {},
   "outputs": [],
   "source": [
    "pickle.dump(pipe_model2, open('model.sav', 'wb'))"
   ]
  },
  {
   "cell_type": "markdown",
   "id": "5775933d-cbde-42c1-a9ce-f70381af8b96",
   "metadata": {},
   "source": [
    "# 미션 풀이"
   ]
  },
  {
   "cell_type": "code",
   "execution_count": 34,
   "id": "27c14435-0f24-41d0-af48-717af2f326c4",
   "metadata": {},
   "outputs": [],
   "source": [
    "df1 = pd.read_csv('12_Data.csv')"
   ]
  },
  {
   "cell_type": "code",
   "execution_count": null,
   "id": "f4bb37d9-19db-487f-9456-b2c7a5f22ccb",
   "metadata": {},
   "outputs": [],
   "source": [
    "# \"Max\" 이름이 붙은 Column의 기술통계량을 확인하시오.\n",
    "df1[['Max Radius', 'Max Perimeter', 'Max Area', 'Max Texture',\n",
    "       'Max Smoothness', 'Max Compactness', 'Max Concavity',\n",
    "       'Max Concave Points', 'Max Symmetry', 'Max Fractal Dim']].describe()"
   ]
  },
  {
   "cell_type": "code",
   "execution_count": 39,
   "id": "453a7c85-89b5-43b8-b899-3e3bd9f6b69f",
   "metadata": {},
   "outputs": [
    {
     "data": {
      "text/plain": [
       "['a01', 'b01', 'c01', 'd01']"
      ]
     },
     "execution_count": 39,
     "metadata": {},
     "output_type": "execute_result"
    }
   ],
   "source": [
    "# \"Max\" 이름이 붙은 Column의 기술통계량을 확인하시오.\n",
    "# 리스트 컴프리헨션 \n",
    "list1 = ['a','b','c','d']\n",
    "[x +'01' for x in list1 ]"
   ]
  },
  {
   "cell_type": "code",
   "execution_count": 41,
   "id": "21d4837a-76d3-4042-afc7-81ca733db905",
   "metadata": {},
   "outputs": [
    {
     "data": {
      "text/plain": [
       "['a']"
      ]
     },
     "execution_count": 41,
     "metadata": {},
     "output_type": "execute_result"
    }
   ],
   "source": [
    "[x for x in list1 if 'a' in x]"
   ]
  },
  {
   "cell_type": "code",
   "execution_count": 44,
   "id": "59038bb7-1a22-402d-97ee-e0e47c4c06ce",
   "metadata": {},
   "outputs": [],
   "source": [
    "# 데이터 프레임의 컬럼 명을 담은 리스트를 변수로 선언 \n",
    "list_max = df1.columns.tolist()"
   ]
  },
  {
   "cell_type": "code",
   "execution_count": null,
   "id": "9d207c4e-a3f3-446c-9d3e-0f54b3ccb01e",
   "metadata": {},
   "outputs": [],
   "source": [
    "# 데이터 컬럼 명이 있는 리스트를 리스트컴프리헨션을 활용하여 처리\n",
    " # list_max 안의 인자를 x로 받아서, Max 글자가 있다면, 리스트로 출력 \n",
    "df1[[x for x in list_max if 'Max' in x]].describe()"
   ]
  },
  {
   "cell_type": "markdown",
   "id": "bfdf4b51-315e-479d-87e2-ea3aea03710a",
   "metadata": {},
   "source": [
    "2. Mean Radius(세포 평균 반지름)값에서 평균으로부터 표준편차 3배 이상 떨어진 데이터의 개수를 확인하시오."
   ]
  },
  {
   "cell_type": "code",
   "execution_count": 54,
   "id": "2cb92f35-67ce-4657-b5d2-e7a2f0c92cbe",
   "metadata": {},
   "outputs": [
    {
     "data": {
      "text/plain": [
       "5"
      ]
     },
     "execution_count": 54,
     "metadata": {},
     "output_type": "execute_result"
    }
   ],
   "source": [
    "cond1 = df1['Mean Radius'] >= df1['Mean Radius'].mean() + (df1['Mean Radius'].std() *3)\n",
    "cond2 = df1['Mean Radius'] <= df1['Mean Radius'].mean() - (df1['Mean Radius'].std() *3)\n",
    "df1.loc[cond1 | cond2].shape[0]"
   ]
  },
  {
   "cell_type": "markdown",
   "id": "d97fe353-5878-4664-b0a4-f7cad5787876",
   "metadata": {},
   "source": [
    "3. Diagnosis(진단 - 암/정상세포 여부)에 따라 Mean Radius(세포 평균 반지름)의 대표값의 차이가 있는지 가설검정을 수행하시오.\r\n",
    "    - 가설 및 결론 작성"
   ]
  },
  {
   "cell_type": "code",
   "execution_count": 56,
   "id": "8ee8e3f6-cb41-4ae2-9d61-63905576e007",
   "metadata": {},
   "outputs": [],
   "source": [
    "# 3-1. 각 집단의 연속형 자료의 정규성 검정 \n",
    "cond1 = df1['Diagnosis']=='M'\n",
    "cond2 = df1['Diagnosis']=='B'\n",
    "df1_M = df1.loc[cond1]\n",
    "df1_B = df1.loc[cond2]"
   ]
  },
  {
   "cell_type": "code",
   "execution_count": 58,
   "id": "ed2354ad-dc2b-4b18-9e81-df3aed3f0284",
   "metadata": {},
   "outputs": [
    {
     "name": "stdout",
     "output_type": "stream",
     "text": [
      "NormaltestResult(statistic=9.774681423412504, pvalue=0.0075414507243749054)\n",
      "NormaltestResult(statistic=0.431413656391856, pvalue=0.805971555375275)\n"
     ]
    }
   ],
   "source": [
    "print(stats.normaltest(df1_M['Mean Radius'])) # P.value < 0.05 / 대립가설 참\n",
    "print(stats.normaltest(df1_B['Mean Radius'])) # P.value > 0.05 / 귀무가설 참 "
   ]
  },
  {
   "cell_type": "code",
   "execution_count": 59,
   "id": "b5cb8a54-b1ba-4416-bbae-eb522dc34495",
   "metadata": {},
   "outputs": [
    {
     "data": {
      "text/plain": [
       "RanksumsResult(statistic=17.46423979127818, pvalue=2.682506544617575e-68)"
      ]
     },
     "execution_count": 59,
     "metadata": {},
     "output_type": "execute_result"
    }
   ],
   "source": [
    "# 3-2. 정규성을 따르지 않는 경우에서, 두 집단의 Mean Radius 값의 중앙값 차이를 검정 \n",
    "# 귀무가설 : 두 집단의 중앙값의 차이가 없다 / 대립가설 : 두 집단의 중앙값의 차이가 있다. \n",
    "stats.ranksums(df1_M['Mean Radius'], df1_B['Mean Radius']) # P.value < 0.05 / 대립가설 참 "
   ]
  },
  {
   "cell_type": "markdown",
   "id": "10d48e39-3aca-4118-8d17-454bf6ff2538",
   "metadata": {},
   "source": [
    "4. Mean Radius(세포 평균 반지름)과 Mean Smoothness(세포 평균 곡률/매끄러움 정도)의 상관성이 있는지 가설검정을 수행하고, 상관 계수를 확인하시오. Correlation Coefficent\n",
    "    - 가설 및 결론 작성 "
   ]
  },
  {
   "cell_type": "code",
   "execution_count": 60,
   "id": "da82ef90-2122-4a28-916e-a8c422c247e2",
   "metadata": {},
   "outputs": [
    {
     "name": "stdout",
     "output_type": "stream",
     "text": [
      "NormaltestResult(statistic=73.19882231579592, pvalue=1.2737309250385324e-16)\n",
      "NormaltestResult(statistic=16.224407582610276, pvalue=0.00029985732154021345)\n"
     ]
    }
   ],
   "source": [
    "# 4-1. 두 숫자 데이터가 정규분포를 따르는지 확인 \n",
    "print(stats.normaltest(df1['Mean Radius'])) # P.value < 0.05 \n",
    "print(stats.normaltest(df1['Mean Smoothness'])) # P.value < 0.05 "
   ]
  },
  {
   "cell_type": "code",
   "execution_count": 62,
   "id": "20a10a8f-6d0f-4fa1-9165-679b220a7d59",
   "metadata": {},
   "outputs": [],
   "source": [
    "#print(stats.normaltest(df1_B['Mean Radius'])) # P.value > 0.05 \n",
    "#print(stats.normaltest(df1_B['Mean Smoothness'])) # P.value < 0.05 "
   ]
  },
  {
   "cell_type": "code",
   "execution_count": 63,
   "id": "069cdfe8-f13d-4997-9a13-54ff2895cead",
   "metadata": {},
   "outputs": [
    {
     "data": {
      "text/plain": [
       "SignificanceResult(statistic=0.125935259003714, pvalue=0.002617573533346598)"
      ]
     },
     "execution_count": 63,
     "metadata": {},
     "output_type": "execute_result"
    }
   ],
   "source": [
    "# 4-2. 정규성을 따르지 않는 숫자 데이터의 상관성 검정 \n",
    "# 귀무가설 : 두 연속형 자료가 서로 상관성이 없다. / 대립가설 : 두 연속형 자료가 서로 상관성이 있다.\n",
    "stats.spearmanr(df1['Mean Radius'], df1['Mean Smoothness']) # P.value < 0.05 / 대립가설참\n",
    "# Corrleation : + 12.59% "
   ]
  },
  {
   "cell_type": "code",
   "execution_count": 64,
   "id": "99c718bd-2060-417e-a033-c70c3331f86f",
   "metadata": {},
   "outputs": [
    {
     "data": {
      "text/plain": [
       "SignificanceResult(statistic=-0.18656800317240865, pvalue=0.0003942533205261982)"
      ]
     },
     "execution_count": 64,
     "metadata": {},
     "output_type": "execute_result"
    }
   ],
   "source": [
    "stats.spearmanr(df1_B['Mean Radius'], df1_B['Mean Smoothness']) # P.value < 0.05 / 대립가설참\n",
    "# Corrleation : - 18.66% "
   ]
  },
  {
   "cell_type": "markdown",
   "id": "95be72fa-2d2d-4518-9863-9d00dc626303",
   "metadata": {},
   "source": [
    "5. 'Mean'이름이 포함된 모든 Column에 대해 정규성 검정을 실시하고, 정규분포를 따르지 않는 Column들을 모두 Histogram으로 시각화 하는 함수를 구성하시오."
   ]
  },
  {
   "cell_type": "code",
   "execution_count": null,
   "id": "5c31cb05-b611-4283-9771-e1e18edd5670",
   "metadata": {},
   "outputs": [],
   "source": [
    "list_Mean = [x for x in df1.columns if 'Mean' in x]\n",
    "for i in list_Mean:\n",
    "    print(i +' Normal Test', stats.normaltest(df1[i])[1])"
   ]
  },
  {
   "cell_type": "code",
   "execution_count": 80,
   "id": "a3df40ec-0a83-47b8-8ec2-9af26bbda6ff",
   "metadata": {},
   "outputs": [],
   "source": [
    "def non_hist():\n",
    "    list_Mean = [x for x in df1.columns if 'Mean' in x]\n",
    "    non_normal = [] \n",
    "    for i in list_Mean:\n",
    "        p_value = stats.normaltest(df1[i])[1]\n",
    "        if p_value < 0.05:\n",
    "            non_normal.append(i)\n",
    "    df2 = df1[non_normal].melt()\n",
    "    return px.histogram(df2, x='value', color='variable')"
   ]
  },
  {
   "cell_type": "markdown",
   "id": "45a1f021-bf5e-4aa4-bd18-b5b7561738b8",
   "metadata": {},
   "source": [
    "6. 세포의 기하구조를 입력했을 때, 암/정상 세포를 판단하는 분류모델을 만들고자 한다. 'Mean'이름이 포함된 모든 Column을 X로, Diagnosis를 Y로 선언하여, X를 입력했을 때, Y를 분류하는 분류모델을 생성하시오.\n",
    "    - 알고리즘은 Decision Tree를 이용\n",
    "    - 학습 / 검증 데이터 비율은 75% : 25% (Random State - 1234)\n",
    "    - 결측값은 중앙값으로 처리 / 스케일링은 Standard Scaling\n",
    "    - 생성된 모델을 model_cell.sav로 저장"
   ]
  },
  {
   "cell_type": "markdown",
   "id": "a76d068c-5c97-4f0f-af97-0a080bdf32db",
   "metadata": {},
   "source": [
    "# Cross Validation \n",
    "\n",
    "- 교차검증 : 학습 단계에서 일반화가 더욱 잘 수행되기 위해, 학습 데이터를 여러 단계로 나누어 교차로 검증하는 기법\n",
    "- Train Set 내에서 Train Set과 Validation Set을 구분하여, 반복적으로 Validation Set 바꿔 가며 학습\n",
    "- K-Fold Cross Validation : 특정 K 개수 만큼 학습 데이터를 나누어 교차로 검증 (5 ~ 10)\n",
    "- **Stratified K-Fold Cross Validation** : 특정 K 개수 만큼 학습 데이터를 나누는데, 목표변수의 항목간의 비율을 유지한 채로 나누어 교차로 검증  "
   ]
  },
  {
   "cell_type": "code",
   "execution_count": 84,
   "id": "c6512d9e-f922-44ca-9876-fbd3a527093d",
   "metadata": {},
   "outputs": [],
   "source": [
    "X = df1[list_Mean]\n",
    "Y = df1['Diagnosis']"
   ]
  },
  {
   "cell_type": "code",
   "execution_count": 85,
   "id": "9e4ebfce-c04d-4f60-8238-f0f6bd292cc7",
   "metadata": {},
   "outputs": [],
   "source": [
    "X_train, X_test, Y_train, Y_test = train_test_split(X, Y, \n",
    "                                            random_state=1234, test_size=0.25)"
   ]
  },
  {
   "cell_type": "code",
   "execution_count": 87,
   "id": "6fc64c36-d9a1-47de-8471-d3f0e15bf2be",
   "metadata": {},
   "outputs": [],
   "source": [
    "pipe_model = make_pipeline(SimpleImputer(strategy='median'), StandardScaler(), \n",
    "                           DecisionTreeClassifier())"
   ]
  },
  {
   "cell_type": "code",
   "execution_count": 88,
   "id": "58f6df34-30e8-43f2-981d-8a086353e83f",
   "metadata": {},
   "outputs": [],
   "source": [
    "from sklearn.model_selection import GridSearchCV # CV : Cross Validation"
   ]
  },
  {
   "cell_type": "code",
   "execution_count": null,
   "id": "1b739848-bfb9-4390-9005-46bd1107d9f5",
   "metadata": {},
   "outputs": [],
   "source": [
    "grid_model = GridSearchCV(pipe_model, param_grid={}, cv=5, scoring='f1' )\n",
    "# cv = : 몇 개의 Fold 를 지정 할 것인가 / scoring = : 어떤 지표로 평가 할 것인가 \n",
    "grid_model.fit(X_train, Y_train)\n",
    "# 성능이 가장 좋은 모델을 선정 (Cross Validation에서 기본 성능 지표 -> Acc(분류)/ R2(결정계수)) \n",
    "best_model = grid_model.best_estimator_"
   ]
  },
  {
   "cell_type": "markdown",
   "id": "bdcd52d9-f4ed-408e-b8c6-5d5fc4cb667b",
   "metadata": {
    "scrolled": true
   },
   "source": [
    "# Hyper Parameter Tuning \n",
    "\n",
    "- Hyper Parameter : Model을 학습 시키기 전, 학습 알고리즘 내 세팅되어 있는 매개변수\n",
    "- 학습 알고리즘 내 지정된 매개변수를 사용자가 조절하여, Overfitting을 방지, 학습/일반화 성능을 높이는 기법 (알고리즘 내 존재하는 고유의 Hyper Parameter를 사전에 알고 있어야 함)\n",
    "  - Random Search : 매개변수의 조합을 임의로 설정하여 학습 \n",
    "  - Grid Search : 사용자가 지정한 범위내 매개변수의 모든 조합에 대해 학습  \n",
    "  - Bayesian Optimization : 베이지안 최적화 기법을 이용해, 불확실성이 가장 낮은 매개변수를 선택해 학습 "
   ]
  },
  {
   "cell_type": "code",
   "execution_count": null,
   "id": "e1cec526-24b4-4729-9226-043bcb661290",
   "metadata": {},
   "outputs": [],
   "source": [
    "hypermeter = {'decisiontreeclassifier__max_depth':range(5,20), # 15가지 경우의 수 \n",
    "             'decisiontreeclassifier__min_samples_split':range(5,10)}  # 5가지의 경우의수 \n",
    "# 하이퍼파라미터 : 15번 x 5번 = 75개 \n",
    "# Scikit Learn 라이브러리는 CPU를 이용해 연산을 수행 \n",
    "grid_model = GridSearchCV(pipe_model, param_grid=hypermeter, \n",
    "                          cv=3, scoring='f1', n_jobs=-1 ) # 75 x 3 => 225번 학습이 수행 \n",
    "grid_model.fit(X_train, Y_train)"
   ]
  },
  {
   "cell_type": "code",
   "execution_count": 98,
   "id": "6ca9184c-c127-41f4-9985-6dde5d7413df",
   "metadata": {},
   "outputs": [],
   "source": [
    "best_model = grid_model.best_estimator_ # 모든 경우의 수 중 가장 성능이 좋은 모델 도출 \n",
    "pickle.dump(best_model, open('model_cell.sav', 'wb')) # 가장 성능이 좋은 모델을 저장 "
   ]
  },
  {
   "cell_type": "markdown",
   "id": "afadceae-f6f9-4a0f-a091-410b68cf9ebf",
   "metadata": {},
   "source": [
    "7. 앞서 생성한 모델의 아래의 지표를 이용해 성능 평가를 수행하시오."
   ]
  },
  {
   "cell_type": "code",
   "execution_count": 99,
   "id": "ee0e2328-b014-481c-bdb3-03b060dc7cf5",
   "metadata": {},
   "outputs": [],
   "source": [
    "from sklearn.metrics import classification_report"
   ]
  },
  {
   "cell_type": "code",
   "execution_count": 100,
   "id": "91e937cb-764a-4fb1-9ad8-7276d95d5909",
   "metadata": {},
   "outputs": [],
   "source": [
    "Y_train_pred = best_model.predict(X_train)\n",
    "Y_test_pred = best_model.predict(X_test)"
   ]
  },
  {
   "cell_type": "code",
   "execution_count": 102,
   "id": "e34fbb59-f133-4af4-bdd5-0785892fd775",
   "metadata": {},
   "outputs": [
    {
     "name": "stdout",
     "output_type": "stream",
     "text": [
      "              precision    recall  f1-score   support\n",
      "\n",
      "           B       1.00      0.99      0.99       269\n",
      "           M       0.98      0.99      0.99       157\n",
      "\n",
      "    accuracy                           0.99       426\n",
      "   macro avg       0.99      0.99      0.99       426\n",
      "weighted avg       0.99      0.99      0.99       426\n",
      "\n",
      "              precision    recall  f1-score   support\n",
      "\n",
      "           B       0.90      0.94      0.92        88\n",
      "           M       0.90      0.84      0.87        55\n",
      "\n",
      "    accuracy                           0.90       143\n",
      "   macro avg       0.90      0.89      0.90       143\n",
      "weighted avg       0.90      0.90      0.90       143\n",
      "\n"
     ]
    }
   ],
   "source": [
    "print(classification_report(Y_train, Y_train_pred))\n",
    "print(classification_report(Y_test,  Y_test_pred))"
   ]
  }
 ],
 "metadata": {
  "kernelspec": {
   "display_name": "Python 3 (ipykernel)",
   "language": "python",
   "name": "python3"
  },
  "language_info": {
   "codemirror_mode": {
    "name": "ipython",
    "version": 3
   },
   "file_extension": ".py",
   "mimetype": "text/x-python",
   "name": "python",
   "nbconvert_exporter": "python",
   "pygments_lexer": "ipython3",
   "version": "3.11.7"
  }
 },
 "nbformat": 4,
 "nbformat_minor": 5
}
