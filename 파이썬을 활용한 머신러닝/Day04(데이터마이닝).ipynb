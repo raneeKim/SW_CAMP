{
 "cells": [
  {
   "cell_type": "markdown",
   "id": "33cbfa61-1c80-477b-8b50-447e5fc4bc5f",
   "metadata": {},
   "source": [
    "# 데이터마이닝\n",
    "\n",
    "- 기계학습 (Machine Learning) : 컴퓨터가 데이터 간의 관계를 학습하여, 새로운 수식(Model)을 도출하는 작업\n",
    "- 기계학습의 핵심 Point :\n",
    "  - **학습 능력** : 컴퓨터가 데이터를 얼마나 잘 학습하여 Model을 도출하는가?\n",
    "  - **일반화 능력** : 새로운 데이터가 들어왔을 때, 얼마나 잘 예측/대응 하는가?\n",
    "\n",
    "- 기계학습 3요소\n",
    "  - 데이터 (교과서) : 학습의 목적에 맞게 데이터를 깔끔하게 다듬는 작업이 필요\n",
    "    - 특성 공학 (Feature Engineering)\n",
    "  - 알고리즘 (선생님) : 좋은 알고리즘(선생님)이 많지만, 학습 목적과 데이터의 특성에 맞는 적절한 알고리즘을 선택해야함\n",
    "    - Deep Learning\n",
    "  - 하드웨어 (학생)\n",
    " \n",
    "- 기계학습의 종류 :\n",
    "  - 지도 학습 (Supervised Learning) : 목표변수(Y)와 설명변수(X)의 관계를 학습해서, 새로운 X가 들어올 때, Y를 예측/분류\n",
    "    - 회귀 (Y-연속형) : 실제 데이터값을 최대한 가깝게 예측\n",
    "    - 분류 (Y-범주형) : 실제 데이터 값을 최대한 정확하게 예측      \n",
    "  - 비지도 학습 (Unupervised Learning) : 설명변수(X) 데이터 간 수학적 거리/유사성/상관성 등을 이용하여(계산하여) 비슷한 유형의 데이터를 묶거나, 연관있는 데이터를 찾거나, 데이터의 차원을 줄이는 등의 학습 기법\n",
    "    - 군집분석(Clustering)\n",
    "    - 연관분석(장바구니)\n",
    "  - 강화 학습 (Reinforcement Learning) : 컴퓨터 시물레이션을 통해, 사용자가 설정해 놓은 환경에 대해, 보상이 주어지는 방향으로 학습하는 형태\n",
    "    - 데이터가 없이도 학습이 가능"
   ]
  },
  {
   "cell_type": "code",
   "execution_count": null,
   "id": "544e53be-bba9-492c-a36e-0f242f80ce45",
   "metadata": {},
   "outputs": [],
   "source": []
  }
 ],
 "metadata": {
  "kernelspec": {
   "display_name": "Python 3 (ipykernel)",
   "language": "python",
   "name": "python3"
  },
  "language_info": {
   "codemirror_mode": {
    "name": "ipython",
    "version": 3
   },
   "file_extension": ".py",
   "mimetype": "text/x-python",
   "name": "python",
   "nbconvert_exporter": "python",
   "pygments_lexer": "ipython3",
   "version": "3.11.7"
  }
 },
 "nbformat": 4,
 "nbformat_minor": 5
}
