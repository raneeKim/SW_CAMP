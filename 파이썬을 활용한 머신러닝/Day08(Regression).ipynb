{
 "cells": [
  {
   "cell_type": "markdown",
   "id": "94cc7b91-c1bc-4836-9c02-101d49073ef6",
   "metadata": {},
   "source": [
    "# 알고리즘 (Model)\n",
    "\n",
    "- 최적화 (Optimization) : 문제 상황에서 여러 해결방안 중 최적의 해결 방안을 찾는 것\n",
    "- 기본적으로 머신러닝에서 데이터로부터 학습을 통해 수식화를 진행할 때, 목표값(Y)을 잘 예측하는 수식을 만드는 과정 / 여러개의 수식 중, 해당 데이터에 가장 적절한 수식을 찾는 것 -> 최적화\n",
    "\n",
    "- 수학적 접근 : 특정 함수 값을 최소화(최대화)하는 최적의 수식(회귀 계수, Weight, 가중치)\n",
    "  - 최소화 Minimization : 함수의 목표변수 Y값이 최소가 되게끔 Parameter를 찾는 문제\n",
    "    - Y : 오류 / 오차 / 비용(Cost) / 손실 / ...\n",
    "  - 최대화 Maximization : 함수의 목표변수 Y값이 최대가 되게끔 Parameter를 찾는 문제\n",
    "    - Y : 이윤 / 점수 / 성능 / ...\n",
    "\n",
    "- 데이터 마이닝에 적용하여 사용 : 지도학습에서 Model을 구축할 때, **데이터 상의 실제값과 Model이 예측한 예측값의 차이(오차 Error, Residaul)**가 최소가 되는 방향으로 모델을 구성\n",
    "- 최적화 기법의 종류 :\n",
    "  - Least Square Method (최소 제곱법 - 회귀분석에서의 최적화)\n",
    "  - Gradient Descent Method (경사 하강법 - 회귀분석에서의 최적화)\n",
    "  - Newton's Method\n",
    "  - Gauss Newton's Method\n",
    "  - Markov Batesian Method"
   ]
  },
  {
   "cell_type": "markdown",
   "id": "efd0a1d2-6327-43b9-a423-14b472eb5f62",
   "metadata": {},
   "source": [
    "# 최소 제곱법 (Least Square Method)\n",
    "\n",
    "- 회귀분석에서 사용되는 최적화 기법 (신경망 알고리즘 최적화 기법)\n",
    "- 데이터를 대표하는 회귀선을 찾을 때, 회귀선이 예측한 예측값과 실제 데이터 값의 차이(오차/잔차)의 제곱의 합이 최소화가 되는 방향으로 Parameter를 찾는 방법 (제곱을 하는 이유 : 회귀선이 맞지 않더라도 양,음의 방향으로 똑같이 떨어진 잔차가 있으면 합은 0이되므로 올바른 회귀선이라고 착각할수 있으므로 제곱을해야함)\n",
    "![img](https://raw.githubusercontent.com/Claudiooo/DeepLearningLearning/Group2/Images/linear_regression_error1.png)\n"
   ]
  },
  {
   "cell_type": "markdown",
   "id": "16e1fe9e-de86-4d05-8ccf-495ab9b7b12a",
   "metadata": {},
   "source": [
    "- 대수적 기법 : 오차항이 최소가 되는 지점의 m,b(회귀 계수)를 찾기 위해 m과 b에 대한 편미분을 실시하여, 오차항의 최소가 되는 지점을 연립방정식을 통해 찾는 방식\n",
    "  ![img](https://spin.atomicobject.com/wp-content/uploads/linear_regression_gradient1.png)\r\n",
    "\n",
    "- 해석학적 기법 : 오차항을 행렬형태로 표현하여 유사역행렬 (Pesudo Invers Matrix)을 이용해 회귀 계수 계산"
   ]
  },
  {
   "cell_type": "markdown",
   "id": "17522e1f-97b3-442c-a6f8-99f1a893b125",
   "metadata": {},
   "source": [
    "# 경사하강법 (Gradient Descent)\n",
    "\n",
    "- 점진적인 반복 계산을 통해 함수가 최소가 되는 파라미터를 찾는 모든 기법\n",
    "  - Gradient : 함수가 증가하는/감소하는 방향과 크기를 표현\n",
    "  - 오차(실제값과 예측값의 차이)가 최소가 되는 방향으로 (Gradient) 점진적으로 계산 (Descent)\n",
    " \n",
    "  - Weight(회귀 계수) 값을 임의로 지정한 다음 비용함수(Cost Function, 오차항 (y-y')²)를 계산\n",
    "  - 오차항의 차이가 있는 경우, Weight(회귀 계수) 값을 Update, 다시 비용함수를 계산\n",
    "  - 비용함수가 감소했다면, 2번 절차를 반복하며, 비용함수가 바뀌지 않는 지점까지 반복해서 계산\n",
    "\n",
    "- **확률적 경사 하강법 (Stochastic Gradient Descent)**\n",
    "- 경사하강법은 모든 데이터에 대해 반복적으로 비용함수(Cost Function)을 계산하기 때문에, 시간이 오래걸림\n",
    "- 전체 데이터가 아닌, 일부분의 데이터를 Random Sampling하여 Weight에 대한 Update (학습 시간 단축)\n",
    "- Betch : Random하게 Sampling 할 데이터를 추출"
   ]
  },
  {
   "cell_type": "code",
   "execution_count": 1,
   "id": "9c552a25-4601-444f-9bba-b81f928ad251",
   "metadata": {},
   "outputs": [],
   "source": [
    "import pandas as pd\n",
    "import numpy as np\n",
    "import scipy.stats as stats\n",
    "import plotly.express as px"
   ]
  },
  {
   "cell_type": "code",
   "execution_count": 4,
   "id": "5a8b1757-59e9-43b8-9a8f-eebce618c3d6",
   "metadata": {},
   "outputs": [],
   "source": [
    "df1 = pd.read_csv(r'C:\\Users\\UserK\\Desktop\\Ranee\\data\\ML\\12_Data.csv')"
   ]
  },
  {
   "cell_type": "code",
   "execution_count": 5,
   "id": "7d9f361f-3ce4-462d-9ceb-3daec8302032",
   "metadata": {},
   "outputs": [],
   "source": [
    "col_list = [x for x in df1.columns if 'Mean' in x][1:]\n",
    "# Mean 글자가 포함된 column명을 호출 하되,\n",
    "# 맨 첫번째 (0번째) Mean Radius는 제외하고 리스트를 구성\n",
    "# Mean Radius는 Y로 사용"
   ]
  },
  {
   "cell_type": "code",
   "execution_count": 6,
   "id": "2b017114-a205-4b33-8fee-5f29b58a5098",
   "metadata": {},
   "outputs": [],
   "source": [
    "Y = df1['Mean Radius']\n",
    "X = df1[col_list]"
   ]
  },
  {
   "cell_type": "code",
   "execution_count": 8,
   "id": "a525c227-6378-4731-87bb-ef9598ab1568",
   "metadata": {},
   "outputs": [],
   "source": [
    "from sklearn.model_selection import train_test_split # 학습데이터와 검증데이터 분할\n",
    "from sklearn.pipeline import make_pipeline # 특성공학 + 학습\n",
    "from sklearn.preprocessing import StandardScaler # 스케일링 기법 사용 (평균0, 표준편차1)\n",
    "from sklearn.linear_model import LinearRegression # 최소제곱법 + 경사하강법 (회귀분석)\n",
    "from sklearn.model_selection import GridSearchCV # 교차검증 + 하이파라미터 튜닝"
   ]
  },
  {
   "cell_type": "code",
   "execution_count": 9,
   "id": "edb810ce-0837-42d2-b2dd-7c74ed4fac0c",
   "metadata": {},
   "outputs": [],
   "source": [
    "X_train, X_test, Y_train, Y_test = train_test_split(X,Y, random_state=1234)"
   ]
  },
  {
   "cell_type": "code",
   "execution_count": 10,
   "id": "a03e636f-ed59-4821-9df0-78620d9a7acc",
   "metadata": {},
   "outputs": [],
   "source": [
    "# 스케일링 + 학습 파이프라인 구성\n",
    "model_pipe = make_pipeline( StandardScaler(), LinearRegression() )"
   ]
  },
  {
   "cell_type": "code",
   "execution_count": 13,
   "id": "4a89207b-461f-411f-b6a3-926d52342d89",
   "metadata": {},
   "outputs": [],
   "source": [
    "# 교차검증\n",
    "grid_model = GridSearchCV(model_pipe, param_grid={}, cv=5)\n",
    "grid_model.fit(X_train, Y_train) # 학습 수행\n",
    "best_model = grid_model.best_estimator_ # 학습 후 최적성능 모델"
   ]
  },
  {
   "cell_type": "code",
   "execution_count": 15,
   "id": "a40373b5-23d7-418e-82fb-050005a53646",
   "metadata": {},
   "outputs": [
    {
     "data": {
      "text/plain": [
       "14.182746478873236"
      ]
     },
     "execution_count": 15,
     "metadata": {},
     "output_type": "execute_result"
    }
   ],
   "source": [
    "best_model['linearregression'].intercept_ # 회귀 모델의 절편을 계산"
   ]
  },
  {
   "cell_type": "code",
   "execution_count": 18,
   "id": "d683c2ec-afec-40b5-9f2f-98fb7e6c8b03",
   "metadata": {},
   "outputs": [],
   "source": [
    "best_model['linearregression'].coef_ # 회귀 모델의 회귀 계수를 계산\n",
    "df_coef = pd.DataFrame()\n",
    "df_coef['coef'] = best_model['linearregression'].coef_  # 회귀 모델의 회귀 계수를 계산\n",
    "df_coef['X'] = X.columns"
   ]
  },
  {
   "cell_type": "code",
   "execution_count": 20,
   "id": "ab387fb0-1785-4467-a7c0-408e57780b26",
   "metadata": {},
   "outputs": [
    {
     "data": {
      "text/html": [
       "<div>\n",
       "<style scoped>\n",
       "    .dataframe tbody tr th:only-of-type {\n",
       "        vertical-align: middle;\n",
       "    }\n",
       "\n",
       "    .dataframe tbody tr th {\n",
       "        vertical-align: top;\n",
       "    }\n",
       "\n",
       "    .dataframe thead th {\n",
       "        text-align: right;\n",
       "    }\n",
       "</style>\n",
       "<table border=\"1\" class=\"dataframe\">\n",
       "  <thead>\n",
       "    <tr style=\"text-align: right;\">\n",
       "      <th></th>\n",
       "      <th>coef</th>\n",
       "      <th>X</th>\n",
       "    </tr>\n",
       "  </thead>\n",
       "  <tbody>\n",
       "    <tr>\n",
       "      <th>4</th>\n",
       "      <td>-0.256111</td>\n",
       "      <td>Mean Compactness</td>\n",
       "    </tr>\n",
       "    <tr>\n",
       "      <th>1</th>\n",
       "      <td>-0.048943</td>\n",
       "      <td>Mean Area</td>\n",
       "    </tr>\n",
       "    <tr>\n",
       "      <th>6</th>\n",
       "      <td>-0.045116</td>\n",
       "      <td>Mean Concave Points</td>\n",
       "    </tr>\n",
       "    <tr>\n",
       "      <th>5</th>\n",
       "      <td>-0.029356</td>\n",
       "      <td>Mean Concavity</td>\n",
       "    </tr>\n",
       "    <tr>\n",
       "      <th>2</th>\n",
       "      <td>-0.003275</td>\n",
       "      <td>Mean Texture</td>\n",
       "    </tr>\n",
       "    <tr>\n",
       "      <th>7</th>\n",
       "      <td>0.012568</td>\n",
       "      <td>Mean Symmetry</td>\n",
       "    </tr>\n",
       "    <tr>\n",
       "      <th>3</th>\n",
       "      <td>0.018702</td>\n",
       "      <td>Mean Smoothness</td>\n",
       "    </tr>\n",
       "    <tr>\n",
       "      <th>8</th>\n",
       "      <td>0.021864</td>\n",
       "      <td>Mean Fractal Dim</td>\n",
       "    </tr>\n",
       "    <tr>\n",
       "      <th>0</th>\n",
       "      <td>3.735834</td>\n",
       "      <td>Mean Perimeter</td>\n",
       "    </tr>\n",
       "  </tbody>\n",
       "</table>\n",
       "</div>"
      ],
      "text/plain": [
       "       coef                    X\n",
       "4 -0.256111     Mean Compactness\n",
       "1 -0.048943            Mean Area\n",
       "6 -0.045116  Mean Concave Points\n",
       "5 -0.029356       Mean Concavity\n",
       "2 -0.003275         Mean Texture\n",
       "7  0.012568        Mean Symmetry\n",
       "3  0.018702      Mean Smoothness\n",
       "8  0.021864     Mean Fractal Dim\n",
       "0  3.735834       Mean Perimeter"
      ]
     },
     "execution_count": 20,
     "metadata": {},
     "output_type": "execute_result"
    }
   ],
   "source": [
    "df_coef.sort_values(by='coef') # 각 X 앞에 곱해진 회귀 계수값을 확인"
   ]
  },
  {
   "cell_type": "code",
   "execution_count": 21,
   "id": "c52b827a-d0b5-4552-8626-ffb50fb0e603",
   "metadata": {},
   "outputs": [
    {
     "data": {
      "application/vnd.plotly.v1+json": {
       "config": {
        "plotlyServerURL": "https://plot.ly"
       },
       "data": [
        {
         "alignmentgroup": "True",
         "hovertemplate": "X=%{x}<br>coef=%{y}<extra></extra>",
         "legendgroup": "",
         "marker": {
          "color": "#636efa",
          "pattern": {
           "shape": ""
          }
         },
         "name": "",
         "offsetgroup": "",
         "orientation": "v",
         "showlegend": false,
         "textposition": "auto",
         "type": "bar",
         "x": [
          "Mean Perimeter",
          "Mean Area",
          "Mean Texture",
          "Mean Smoothness",
          "Mean Compactness",
          "Mean Concavity",
          "Mean Concave Points",
          "Mean Symmetry",
          "Mean Fractal Dim"
         ],
         "xaxis": "x",
         "y": [
          3.7358342001040894,
          -0.04894266358237909,
          -0.003275162034711284,
          0.018701674666718023,
          -0.2561112242126593,
          -0.029356346945701012,
          -0.04511599067056382,
          0.012567705052415069,
          0.021863814055127606
         ],
         "yaxis": "y"
        }
       ],
       "layout": {
        "autosize": true,
        "barmode": "relative",
        "legend": {
         "tracegroupgap": 0
        },
        "margin": {
         "t": 60
        },
        "template": {
         "data": {
          "bar": [
           {
            "error_x": {
             "color": "#2a3f5f"
            },
            "error_y": {
             "color": "#2a3f5f"
            },
            "marker": {
             "line": {
              "color": "#E5ECF6",
              "width": 0.5
             },
             "pattern": {
              "fillmode": "overlay",
              "size": 10,
              "solidity": 0.2
             }
            },
            "type": "bar"
           }
          ],
          "barpolar": [
           {
            "marker": {
             "line": {
              "color": "#E5ECF6",
              "width": 0.5
             },
             "pattern": {
              "fillmode": "overlay",
              "size": 10,
              "solidity": 0.2
             }
            },
            "type": "barpolar"
           }
          ],
          "carpet": [
           {
            "aaxis": {
             "endlinecolor": "#2a3f5f",
             "gridcolor": "white",
             "linecolor": "white",
             "minorgridcolor": "white",
             "startlinecolor": "#2a3f5f"
            },
            "baxis": {
             "endlinecolor": "#2a3f5f",
             "gridcolor": "white",
             "linecolor": "white",
             "minorgridcolor": "white",
             "startlinecolor": "#2a3f5f"
            },
            "type": "carpet"
           }
          ],
          "choropleth": [
           {
            "colorbar": {
             "outlinewidth": 0,
             "ticks": ""
            },
            "type": "choropleth"
           }
          ],
          "contour": [
           {
            "colorbar": {
             "outlinewidth": 0,
             "ticks": ""
            },
            "colorscale": [
             [
              0,
              "#0d0887"
             ],
             [
              0.1111111111111111,
              "#46039f"
             ],
             [
              0.2222222222222222,
              "#7201a8"
             ],
             [
              0.3333333333333333,
              "#9c179e"
             ],
             [
              0.4444444444444444,
              "#bd3786"
             ],
             [
              0.5555555555555556,
              "#d8576b"
             ],
             [
              0.6666666666666666,
              "#ed7953"
             ],
             [
              0.7777777777777778,
              "#fb9f3a"
             ],
             [
              0.8888888888888888,
              "#fdca26"
             ],
             [
              1,
              "#f0f921"
             ]
            ],
            "type": "contour"
           }
          ],
          "contourcarpet": [
           {
            "colorbar": {
             "outlinewidth": 0,
             "ticks": ""
            },
            "type": "contourcarpet"
           }
          ],
          "heatmap": [
           {
            "colorbar": {
             "outlinewidth": 0,
             "ticks": ""
            },
            "colorscale": [
             [
              0,
              "#0d0887"
             ],
             [
              0.1111111111111111,
              "#46039f"
             ],
             [
              0.2222222222222222,
              "#7201a8"
             ],
             [
              0.3333333333333333,
              "#9c179e"
             ],
             [
              0.4444444444444444,
              "#bd3786"
             ],
             [
              0.5555555555555556,
              "#d8576b"
             ],
             [
              0.6666666666666666,
              "#ed7953"
             ],
             [
              0.7777777777777778,
              "#fb9f3a"
             ],
             [
              0.8888888888888888,
              "#fdca26"
             ],
             [
              1,
              "#f0f921"
             ]
            ],
            "type": "heatmap"
           }
          ],
          "heatmapgl": [
           {
            "colorbar": {
             "outlinewidth": 0,
             "ticks": ""
            },
            "colorscale": [
             [
              0,
              "#0d0887"
             ],
             [
              0.1111111111111111,
              "#46039f"
             ],
             [
              0.2222222222222222,
              "#7201a8"
             ],
             [
              0.3333333333333333,
              "#9c179e"
             ],
             [
              0.4444444444444444,
              "#bd3786"
             ],
             [
              0.5555555555555556,
              "#d8576b"
             ],
             [
              0.6666666666666666,
              "#ed7953"
             ],
             [
              0.7777777777777778,
              "#fb9f3a"
             ],
             [
              0.8888888888888888,
              "#fdca26"
             ],
             [
              1,
              "#f0f921"
             ]
            ],
            "type": "heatmapgl"
           }
          ],
          "histogram": [
           {
            "marker": {
             "pattern": {
              "fillmode": "overlay",
              "size": 10,
              "solidity": 0.2
             }
            },
            "type": "histogram"
           }
          ],
          "histogram2d": [
           {
            "colorbar": {
             "outlinewidth": 0,
             "ticks": ""
            },
            "colorscale": [
             [
              0,
              "#0d0887"
             ],
             [
              0.1111111111111111,
              "#46039f"
             ],
             [
              0.2222222222222222,
              "#7201a8"
             ],
             [
              0.3333333333333333,
              "#9c179e"
             ],
             [
              0.4444444444444444,
              "#bd3786"
             ],
             [
              0.5555555555555556,
              "#d8576b"
             ],
             [
              0.6666666666666666,
              "#ed7953"
             ],
             [
              0.7777777777777778,
              "#fb9f3a"
             ],
             [
              0.8888888888888888,
              "#fdca26"
             ],
             [
              1,
              "#f0f921"
             ]
            ],
            "type": "histogram2d"
           }
          ],
          "histogram2dcontour": [
           {
            "colorbar": {
             "outlinewidth": 0,
             "ticks": ""
            },
            "colorscale": [
             [
              0,
              "#0d0887"
             ],
             [
              0.1111111111111111,
              "#46039f"
             ],
             [
              0.2222222222222222,
              "#7201a8"
             ],
             [
              0.3333333333333333,
              "#9c179e"
             ],
             [
              0.4444444444444444,
              "#bd3786"
             ],
             [
              0.5555555555555556,
              "#d8576b"
             ],
             [
              0.6666666666666666,
              "#ed7953"
             ],
             [
              0.7777777777777778,
              "#fb9f3a"
             ],
             [
              0.8888888888888888,
              "#fdca26"
             ],
             [
              1,
              "#f0f921"
             ]
            ],
            "type": "histogram2dcontour"
           }
          ],
          "mesh3d": [
           {
            "colorbar": {
             "outlinewidth": 0,
             "ticks": ""
            },
            "type": "mesh3d"
           }
          ],
          "parcoords": [
           {
            "line": {
             "colorbar": {
              "outlinewidth": 0,
              "ticks": ""
             }
            },
            "type": "parcoords"
           }
          ],
          "pie": [
           {
            "automargin": true,
            "type": "pie"
           }
          ],
          "scatter": [
           {
            "fillpattern": {
             "fillmode": "overlay",
             "size": 10,
             "solidity": 0.2
            },
            "type": "scatter"
           }
          ],
          "scatter3d": [
           {
            "line": {
             "colorbar": {
              "outlinewidth": 0,
              "ticks": ""
             }
            },
            "marker": {
             "colorbar": {
              "outlinewidth": 0,
              "ticks": ""
             }
            },
            "type": "scatter3d"
           }
          ],
          "scattercarpet": [
           {
            "marker": {
             "colorbar": {
              "outlinewidth": 0,
              "ticks": ""
             }
            },
            "type": "scattercarpet"
           }
          ],
          "scattergeo": [
           {
            "marker": {
             "colorbar": {
              "outlinewidth": 0,
              "ticks": ""
             }
            },
            "type": "scattergeo"
           }
          ],
          "scattergl": [
           {
            "marker": {
             "colorbar": {
              "outlinewidth": 0,
              "ticks": ""
             }
            },
            "type": "scattergl"
           }
          ],
          "scattermapbox": [
           {
            "marker": {
             "colorbar": {
              "outlinewidth": 0,
              "ticks": ""
             }
            },
            "type": "scattermapbox"
           }
          ],
          "scatterpolar": [
           {
            "marker": {
             "colorbar": {
              "outlinewidth": 0,
              "ticks": ""
             }
            },
            "type": "scatterpolar"
           }
          ],
          "scatterpolargl": [
           {
            "marker": {
             "colorbar": {
              "outlinewidth": 0,
              "ticks": ""
             }
            },
            "type": "scatterpolargl"
           }
          ],
          "scatterternary": [
           {
            "marker": {
             "colorbar": {
              "outlinewidth": 0,
              "ticks": ""
             }
            },
            "type": "scatterternary"
           }
          ],
          "surface": [
           {
            "colorbar": {
             "outlinewidth": 0,
             "ticks": ""
            },
            "colorscale": [
             [
              0,
              "#0d0887"
             ],
             [
              0.1111111111111111,
              "#46039f"
             ],
             [
              0.2222222222222222,
              "#7201a8"
             ],
             [
              0.3333333333333333,
              "#9c179e"
             ],
             [
              0.4444444444444444,
              "#bd3786"
             ],
             [
              0.5555555555555556,
              "#d8576b"
             ],
             [
              0.6666666666666666,
              "#ed7953"
             ],
             [
              0.7777777777777778,
              "#fb9f3a"
             ],
             [
              0.8888888888888888,
              "#fdca26"
             ],
             [
              1,
              "#f0f921"
             ]
            ],
            "type": "surface"
           }
          ],
          "table": [
           {
            "cells": {
             "fill": {
              "color": "#EBF0F8"
             },
             "line": {
              "color": "white"
             }
            },
            "header": {
             "fill": {
              "color": "#C8D4E3"
             },
             "line": {
              "color": "white"
             }
            },
            "type": "table"
           }
          ]
         },
         "layout": {
          "annotationdefaults": {
           "arrowcolor": "#2a3f5f",
           "arrowhead": 0,
           "arrowwidth": 1
          },
          "autotypenumbers": "strict",
          "coloraxis": {
           "colorbar": {
            "outlinewidth": 0,
            "ticks": ""
           }
          },
          "colorscale": {
           "diverging": [
            [
             0,
             "#8e0152"
            ],
            [
             0.1,
             "#c51b7d"
            ],
            [
             0.2,
             "#de77ae"
            ],
            [
             0.3,
             "#f1b6da"
            ],
            [
             0.4,
             "#fde0ef"
            ],
            [
             0.5,
             "#f7f7f7"
            ],
            [
             0.6,
             "#e6f5d0"
            ],
            [
             0.7,
             "#b8e186"
            ],
            [
             0.8,
             "#7fbc41"
            ],
            [
             0.9,
             "#4d9221"
            ],
            [
             1,
             "#276419"
            ]
           ],
           "sequential": [
            [
             0,
             "#0d0887"
            ],
            [
             0.1111111111111111,
             "#46039f"
            ],
            [
             0.2222222222222222,
             "#7201a8"
            ],
            [
             0.3333333333333333,
             "#9c179e"
            ],
            [
             0.4444444444444444,
             "#bd3786"
            ],
            [
             0.5555555555555556,
             "#d8576b"
            ],
            [
             0.6666666666666666,
             "#ed7953"
            ],
            [
             0.7777777777777778,
             "#fb9f3a"
            ],
            [
             0.8888888888888888,
             "#fdca26"
            ],
            [
             1,
             "#f0f921"
            ]
           ],
           "sequentialminus": [
            [
             0,
             "#0d0887"
            ],
            [
             0.1111111111111111,
             "#46039f"
            ],
            [
             0.2222222222222222,
             "#7201a8"
            ],
            [
             0.3333333333333333,
             "#9c179e"
            ],
            [
             0.4444444444444444,
             "#bd3786"
            ],
            [
             0.5555555555555556,
             "#d8576b"
            ],
            [
             0.6666666666666666,
             "#ed7953"
            ],
            [
             0.7777777777777778,
             "#fb9f3a"
            ],
            [
             0.8888888888888888,
             "#fdca26"
            ],
            [
             1,
             "#f0f921"
            ]
           ]
          },
          "colorway": [
           "#636efa",
           "#EF553B",
           "#00cc96",
           "#ab63fa",
           "#FFA15A",
           "#19d3f3",
           "#FF6692",
           "#B6E880",
           "#FF97FF",
           "#FECB52"
          ],
          "font": {
           "color": "#2a3f5f"
          },
          "geo": {
           "bgcolor": "white",
           "lakecolor": "white",
           "landcolor": "#E5ECF6",
           "showlakes": true,
           "showland": true,
           "subunitcolor": "white"
          },
          "hoverlabel": {
           "align": "left"
          },
          "hovermode": "closest",
          "mapbox": {
           "style": "light"
          },
          "paper_bgcolor": "white",
          "plot_bgcolor": "#E5ECF6",
          "polar": {
           "angularaxis": {
            "gridcolor": "white",
            "linecolor": "white",
            "ticks": ""
           },
           "bgcolor": "#E5ECF6",
           "radialaxis": {
            "gridcolor": "white",
            "linecolor": "white",
            "ticks": ""
           }
          },
          "scene": {
           "xaxis": {
            "backgroundcolor": "#E5ECF6",
            "gridcolor": "white",
            "gridwidth": 2,
            "linecolor": "white",
            "showbackground": true,
            "ticks": "",
            "zerolinecolor": "white"
           },
           "yaxis": {
            "backgroundcolor": "#E5ECF6",
            "gridcolor": "white",
            "gridwidth": 2,
            "linecolor": "white",
            "showbackground": true,
            "ticks": "",
            "zerolinecolor": "white"
           },
           "zaxis": {
            "backgroundcolor": "#E5ECF6",
            "gridcolor": "white",
            "gridwidth": 2,
            "linecolor": "white",
            "showbackground": true,
            "ticks": "",
            "zerolinecolor": "white"
           }
          },
          "shapedefaults": {
           "line": {
            "color": "#2a3f5f"
           }
          },
          "ternary": {
           "aaxis": {
            "gridcolor": "white",
            "linecolor": "white",
            "ticks": ""
           },
           "baxis": {
            "gridcolor": "white",
            "linecolor": "white",
            "ticks": ""
           },
           "bgcolor": "#E5ECF6",
           "caxis": {
            "gridcolor": "white",
            "linecolor": "white",
            "ticks": ""
           }
          },
          "title": {
           "x": 0.05
          },
          "xaxis": {
           "automargin": true,
           "gridcolor": "white",
           "linecolor": "white",
           "ticks": "",
           "title": {
            "standoff": 15
           },
           "zerolinecolor": "white",
           "zerolinewidth": 2
          },
          "yaxis": {
           "automargin": true,
           "gridcolor": "white",
           "linecolor": "white",
           "ticks": "",
           "title": {
            "standoff": 15
           },
           "zerolinecolor": "white",
           "zerolinewidth": 2
          }
         }
        },
        "xaxis": {
         "anchor": "y",
         "autorange": true,
         "domain": [
          0,
          1
         ],
         "range": [
          -0.5,
          8.5
         ],
         "title": {
          "text": "X"
         },
         "type": "category"
        },
        "yaxis": {
         "anchor": "x",
         "autorange": true,
         "domain": [
          0,
          1
         ],
         "range": [
          -0.47788597000803423,
          3.957608945899464
         ],
         "title": {
          "text": "coef"
         },
         "type": "linear"
        }
       }
      },
      "image/png": "[encoded data removed]",
      "text/html": [
       "<div>                            <div id=\"250161e2-551d-4abe-b01d-15106c6fb424\" class=\"plotly-graph-div\" style=\"height:525px; width:100%;\"></div>            <script type=\"text/javascript\">                require([\"plotly\"], function(Plotly) {                    window.PLOTLYENV=window.PLOTLYENV || {};                                    if (document.getElementById(\"250161e2-551d-4abe-b01d-15106c6fb424\")) {                    Plotly.newPlot(                        \"250161e2-551d-4abe-b01d-15106c6fb424\",                        [{\"alignmentgroup\":\"True\",\"hovertemplate\":\"X=%{x}<br>coef=%{y}<extra></extra>\",\"legendgroup\":\"\",\"marker\":{\"color\":\"#636efa\",\"pattern\":{\"shape\":\"\"}},\"name\":\"\",\"offsetgroup\":\"\",\"orientation\":\"v\",\"showlegend\":false,\"textposition\":\"auto\",\"x\":[\"Mean Perimeter\",\"Mean Area\",\"Mean Texture\",\"Mean Smoothness\",\"Mean Compactness\",\"Mean Concavity\",\"Mean Concave Points\",\"Mean Symmetry\",\"Mean Fractal Dim\"],\"xaxis\":\"x\",\"y\":[3.7358342001040894,-0.04894266358237909,-0.003275162034711284,0.018701674666718023,-0.2561112242126593,-0.029356346945701012,-0.04511599067056382,0.012567705052415069,0.021863814055127606],\"yaxis\":\"y\",\"type\":\"bar\"}],                        {\"template\":{\"data\":{\"histogram2dcontour\":[{\"type\":\"histogram2dcontour\",\"colorbar\":{\"outlinewidth\":0,\"ticks\":\"\"},\"colorscale\":[[0.0,\"#0d0887\"],[0.1111111111111111,\"#46039f\"],[0.2222222222222222,\"#7201a8\"],[0.3333333333333333,\"#9c179e\"],[0.4444444444444444,\"#bd3786\"],[0.5555555555555556,\"#d8576b\"],[0.6666666666666666,\"#ed7953\"],[0.7777777777777778,\"#fb9f3a\"],[0.8888888888888888,\"#fdca26\"],[1.0,\"#f0f921\"]]}],\"choropleth\":[{\"type\":\"choropleth\",\"colorbar\":{\"outlinewidth\":0,\"ticks\":\"\"}}],\"histogram2d\":[{\"type\":\"histogram2d\",\"colorbar\":{\"outlinewidth\":0,\"ticks\":\"\"},\"colorscale\":[[0.0,\"#0d0887\"],[0.1111111111111111,\"#46039f\"],[0.2222222222222222,\"#7201a8\"],[0.3333333333333333,\"#9c179e\"],[0.4444444444444444,\"#bd3786\"],[0.5555555555555556,\"#d8576b\"],[0.6666666666666666,\"#ed7953\"],[0.7777777777777778,\"#fb9f3a\"],[0.8888888888888888,\"#fdca26\"],[1.0,\"#f0f921\"]]}],\"heatmap\":[{\"type\":\"heatmap\",\"colorbar\":{\"outlinewidth\":0,\"ticks\":\"\"},\"colorscale\":[[0.0,\"#0d0887\"],[0.1111111111111111,\"#46039f\"],[0.2222222222222222,\"#7201a8\"],[0.3333333333333333,\"#9c179e\"],[0.4444444444444444,\"#bd3786\"],[0.5555555555555556,\"#d8576b\"],[0.6666666666666666,\"#ed7953\"],[0.7777777777777778,\"#fb9f3a\"],[0.8888888888888888,\"#fdca26\"],[1.0,\"#f0f921\"]]}],\"heatmapgl\":[{\"type\":\"heatmapgl\",\"colorbar\":{\"outlinewidth\":0,\"ticks\":\"\"},\"colorscale\":[[0.0,\"#0d0887\"],[0.1111111111111111,\"#46039f\"],[0.2222222222222222,\"#7201a8\"],[0.3333333333333333,\"#9c179e\"],[0.4444444444444444,\"#bd3786\"],[0.5555555555555556,\"#d8576b\"],[0.6666666666666666,\"#ed7953\"],[0.7777777777777778,\"#fb9f3a\"],[0.8888888888888888,\"#fdca26\"],[1.0,\"#f0f921\"]]}],\"contourcarpet\":[{\"type\":\"contourcarpet\",\"colorbar\":{\"outlinewidth\":0,\"ticks\":\"\"}}],\"contour\":[{\"type\":\"contour\",\"colorbar\":{\"outlinewidth\":0,\"ticks\":\"\"},\"colorscale\":[[0.0,\"#0d0887\"],[0.1111111111111111,\"#46039f\"],[0.2222222222222222,\"#7201a8\"],[0.3333333333333333,\"#9c179e\"],[0.4444444444444444,\"#bd3786\"],[0.5555555555555556,\"#d8576b\"],[0.6666666666666666,\"#ed7953\"],[0.7777777777777778,\"#fb9f3a\"],[0.8888888888888888,\"#fdca26\"],[1.0,\"#f0f921\"]]}],\"surface\":[{\"type\":\"surface\",\"colorbar\":{\"outlinewidth\":0,\"ticks\":\"\"},\"colorscale\":[[0.0,\"#0d0887\"],[0.1111111111111111,\"#46039f\"],[0.2222222222222222,\"#7201a8\"],[0.3333333333333333,\"#9c179e\"],[0.4444444444444444,\"#bd3786\"],[0.5555555555555556,\"#d8576b\"],[0.6666666666666666,\"#ed7953\"],[0.7777777777777778,\"#fb9f3a\"],[0.8888888888888888,\"#fdca26\"],[1.0,\"#f0f921\"]]}],\"mesh3d\":[{\"type\":\"mesh3d\",\"colorbar\":{\"outlinewidth\":0,\"ticks\":\"\"}}],\"scatter\":[{\"fillpattern\":{\"fillmode\":\"overlay\",\"size\":10,\"solidity\":0.2},\"type\":\"scatter\"}],\"parcoords\":[{\"type\":\"parcoords\",\"line\":{\"colorbar\":{\"outlinewidth\":0,\"ticks\":\"\"}}}],\"scatterpolargl\":[{\"type\":\"scatterpolargl\",\"marker\":{\"colorbar\":{\"outlinewidth\":0,\"ticks\":\"\"}}}],\"bar\":[{\"error_x\":{\"color\":\"#2a3f5f\"},\"error_y\":{\"color\":\"#2a3f5f\"},\"marker\":{\"line\":{\"color\":\"#E5ECF6\",\"width\":0.5},\"pattern\":{\"fillmode\":\"overlay\",\"size\":10,\"solidity\":0.2}},\"type\":\"bar\"}],\"scattergeo\":[{\"type\":\"scattergeo\",\"marker\":{\"colorbar\":{\"outlinewidth\":0,\"ticks\":\"\"}}}],\"scatterpolar\":[{\"type\":\"scatterpolar\",\"marker\":{\"colorbar\":{\"outlinewidth\":0,\"ticks\":\"\"}}}],\"histogram\":[{\"marker\":{\"pattern\":{\"fillmode\":\"overlay\",\"size\":10,\"solidity\":0.2}},\"type\":\"histogram\"}],\"scattergl\":[{\"type\":\"scattergl\",\"marker\":{\"colorbar\":{\"outlinewidth\":0,\"ticks\":\"\"}}}],\"scatter3d\":[{\"type\":\"scatter3d\",\"line\":{\"colorbar\":{\"outlinewidth\":0,\"ticks\":\"\"}},\"marker\":{\"colorbar\":{\"outlinewidth\":0,\"ticks\":\"\"}}}],\"scattermapbox\":[{\"type\":\"scattermapbox\",\"marker\":{\"colorbar\":{\"outlinewidth\":0,\"ticks\":\"\"}}}],\"scatterternary\":[{\"type\":\"scatterternary\",\"marker\":{\"colorbar\":{\"outlinewidth\":0,\"ticks\":\"\"}}}],\"scattercarpet\":[{\"type\":\"scattercarpet\",\"marker\":{\"colorbar\":{\"outlinewidth\":0,\"ticks\":\"\"}}}],\"carpet\":[{\"aaxis\":{\"endlinecolor\":\"#2a3f5f\",\"gridcolor\":\"white\",\"linecolor\":\"white\",\"minorgridcolor\":\"white\",\"startlinecolor\":\"#2a3f5f\"},\"baxis\":{\"endlinecolor\":\"#2a3f5f\",\"gridcolor\":\"white\",\"linecolor\":\"white\",\"minorgridcolor\":\"white\",\"startlinecolor\":\"#2a3f5f\"},\"type\":\"carpet\"}],\"table\":[{\"cells\":{\"fill\":{\"color\":\"#EBF0F8\"},\"line\":{\"color\":\"white\"}},\"header\":{\"fill\":{\"color\":\"#C8D4E3\"},\"line\":{\"color\":\"white\"}},\"type\":\"table\"}],\"barpolar\":[{\"marker\":{\"line\":{\"color\":\"#E5ECF6\",\"width\":0.5},\"pattern\":{\"fillmode\":\"overlay\",\"size\":10,\"solidity\":0.2}},\"type\":\"barpolar\"}],\"pie\":[{\"automargin\":true,\"type\":\"pie\"}]},\"layout\":{\"autotypenumbers\":\"strict\",\"colorway\":[\"#636efa\",\"#EF553B\",\"#00cc96\",\"#ab63fa\",\"#FFA15A\",\"#19d3f3\",\"#FF6692\",\"#B6E880\",\"#FF97FF\",\"#FECB52\"],\"font\":{\"color\":\"#2a3f5f\"},\"hovermode\":\"closest\",\"hoverlabel\":{\"align\":\"left\"},\"paper_bgcolor\":\"white\",\"plot_bgcolor\":\"#E5ECF6\",\"polar\":{\"bgcolor\":\"#E5ECF6\",\"angularaxis\":{\"gridcolor\":\"white\",\"linecolor\":\"white\",\"ticks\":\"\"},\"radialaxis\":{\"gridcolor\":\"white\",\"linecolor\":\"white\",\"ticks\":\"\"}},\"ternary\":{\"bgcolor\":\"#E5ECF6\",\"aaxis\":{\"gridcolor\":\"white\",\"linecolor\":\"white\",\"ticks\":\"\"},\"baxis\":{\"gridcolor\":\"white\",\"linecolor\":\"white\",\"ticks\":\"\"},\"caxis\":{\"gridcolor\":\"white\",\"linecolor\":\"white\",\"ticks\":\"\"}},\"coloraxis\":{\"colorbar\":{\"outlinewidth\":0,\"ticks\":\"\"}},\"colorscale\":{\"sequential\":[[0.0,\"#0d0887\"],[0.1111111111111111,\"#46039f\"],[0.2222222222222222,\"#7201a8\"],[0.3333333333333333,\"#9c179e\"],[0.4444444444444444,\"#bd3786\"],[0.5555555555555556,\"#d8576b\"],[0.6666666666666666,\"#ed7953\"],[0.7777777777777778,\"#fb9f3a\"],[0.8888888888888888,\"#fdca26\"],[1.0,\"#f0f921\"]],\"sequentialminus\":[[0.0,\"#0d0887\"],[0.1111111111111111,\"#46039f\"],[0.2222222222222222,\"#7201a8\"],[0.3333333333333333,\"#9c179e\"],[0.4444444444444444,\"#bd3786\"],[0.5555555555555556,\"#d8576b\"],[0.6666666666666666,\"#ed7953\"],[0.7777777777777778,\"#fb9f3a\"],[0.8888888888888888,\"#fdca26\"],[1.0,\"#f0f921\"]],\"diverging\":[[0,\"#8e0152\"],[0.1,\"#c51b7d\"],[0.2,\"#de77ae\"],[0.3,\"#f1b6da\"],[0.4,\"#fde0ef\"],[0.5,\"#f7f7f7\"],[0.6,\"#e6f5d0\"],[0.7,\"#b8e186\"],[0.8,\"#7fbc41\"],[0.9,\"#4d9221\"],[1,\"#276419\"]]},\"xaxis\":{\"gridcolor\":\"white\",\"linecolor\":\"white\",\"ticks\":\"\",\"title\":{\"standoff\":15},\"zerolinecolor\":\"white\",\"automargin\":true,\"zerolinewidth\":2},\"yaxis\":{\"gridcolor\":\"white\",\"linecolor\":\"white\",\"ticks\":\"\",\"title\":{\"standoff\":15},\"zerolinecolor\":\"white\",\"automargin\":true,\"zerolinewidth\":2},\"scene\":{\"xaxis\":{\"backgroundcolor\":\"#E5ECF6\",\"gridcolor\":\"white\",\"linecolor\":\"white\",\"showbackground\":true,\"ticks\":\"\",\"zerolinecolor\":\"white\",\"gridwidth\":2},\"yaxis\":{\"backgroundcolor\":\"#E5ECF6\",\"gridcolor\":\"white\",\"linecolor\":\"white\",\"showbackground\":true,\"ticks\":\"\",\"zerolinecolor\":\"white\",\"gridwidth\":2},\"zaxis\":{\"backgroundcolor\":\"#E5ECF6\",\"gridcolor\":\"white\",\"linecolor\":\"white\",\"showbackground\":true,\"ticks\":\"\",\"zerolinecolor\":\"white\",\"gridwidth\":2}},\"shapedefaults\":{\"line\":{\"color\":\"#2a3f5f\"}},\"annotationdefaults\":{\"arrowcolor\":\"#2a3f5f\",\"arrowhead\":0,\"arrowwidth\":1},\"geo\":{\"bgcolor\":\"white\",\"landcolor\":\"#E5ECF6\",\"subunitcolor\":\"white\",\"showland\":true,\"showlakes\":true,\"lakecolor\":\"white\"},\"title\":{\"x\":0.05},\"mapbox\":{\"style\":\"light\"}}},\"xaxis\":{\"anchor\":\"y\",\"domain\":[0.0,1.0],\"title\":{\"text\":\"X\"}},\"yaxis\":{\"anchor\":\"x\",\"domain\":[0.0,1.0],\"title\":{\"text\":\"coef\"}},\"legend\":{\"tracegroupgap\":0},\"margin\":{\"t\":60},\"barmode\":\"relative\"},                        {\"responsive\": true}                    ).then(function(){\n",
       "                            \n",
       "var gd = document.getElementById('250161e2-551d-4abe-b01d-15106c6fb424');\n",
       "var x = new MutationObserver(function (mutations, observer) {{\n",
       "        var display = window.getComputedStyle(gd).display;\n",
       "        if (!display || display === 'none') {{\n",
       "            console.log([gd, 'removed!']);\n",
       "            Plotly.purge(gd);\n",
       "            observer.disconnect();\n",
       "        }}\n",
       "}});\n",
       "\n",
       "// Listen for the removal of the full notebook cells\n",
       "var notebookContainer = gd.closest('#notebook-container');\n",
       "if (notebookContainer) {{\n",
       "    x.observe(notebookContainer, {childList: true});\n",
       "}}\n",
       "\n",
       "// Listen for the clearing of the current output cell\n",
       "var outputEl = gd.closest('.output');\n",
       "if (outputEl) {{\n",
       "    x.observe(outputEl, {childList: true});\n",
       "}}\n",
       "\n",
       "                        })                };                });            </script>        </div>"
      ]
     },
     "metadata": {},
     "output_type": "display_data"
    }
   ],
   "source": [
    "px.bar(df_coef, x='X', y='coef') # 회귀계수의 시각화"
   ]
  },
  {
   "cell_type": "code",
   "execution_count": 22,
   "id": "6184fdaf-8fb0-41cf-abd0-bda87c94a084",
   "metadata": {},
   "outputs": [],
   "source": [
    "# 회귀모델 성능 평가\n",
    "\n",
    "# R² (결정계수) : 회귀식이 데이터를 얼마나 잘 설명하고 있는가 (0~1)\n",
    "# MSE (평균 제곱 오차) : 실제 값과 예측값의 차이의 제곱 합의 평균을 계산 (0으로 갈수록 좋은 모델)\n",
    "# MAE (평균 절대 오차) : 실제 값과 예측값의 절대값의 합의 평균을 계산 (0으로 갈수록 Best)\n",
    "# RMSE : MSE에 Root 제곱근을 사용하여, 더욱 직관적으로 해석 가능한 평가지표\n",
    "\n",
    "from sklearn.metrics import r2_score\n",
    "from sklearn.metrics import mean_squared_error, mean_absolute_error"
   ]
  },
  {
   "cell_type": "code",
   "execution_count": 23,
   "id": "badb6c1d-c7b1-413c-aa42-d9e79841abda",
   "metadata": {},
   "outputs": [],
   "source": [
    "# 생성한 모델을 예측값을 계산해, 실제값과 예측값의 차이를 연산\n",
    "Y_train_pred = best_model.predict(X_train)\n",
    "Y_test_pred = best_model.predict(X_test)"
   ]
  },
  {
   "cell_type": "code",
   "execution_count": 25,
   "id": "79d81062-d9f3-4f6b-a08d-4211a0b1c2f5",
   "metadata": {},
   "outputs": [
    {
     "name": "stdout",
     "output_type": "stream",
     "text": [
      "학습 결정 계수 :  0.9994225170133184\n",
      "일반화 결정 계수 :  0.9991793129574523\n"
     ]
    }
   ],
   "source": [
    "print('학습 결정 계수 : ' , r2_score(Y_train, Y_train_pred))\n",
    "print('일반화 결정 계수 : ' , r2_score(Y_test, Y_test_pred))"
   ]
  },
  {
   "cell_type": "code",
   "execution_count": 26,
   "id": "fa7e671a-764b-48ea-86aa-357b755891e7",
   "metadata": {},
   "outputs": [
    {
     "name": "stdout",
     "output_type": "stream",
     "text": [
      "학습 MSE :  0.007060266987012296\n",
      "일반화 MSE :  0.010560016874980819\n"
     ]
    }
   ],
   "source": [
    "print('학습 MSE : ' , mean_squared_error(Y_train, Y_train_pred))\n",
    "print('일반화 MSE : ' ,  mean_squared_error(Y_test, Y_test_pred))"
   ]
  },
  {
   "cell_type": "code",
   "execution_count": 27,
   "id": "dc3613a8-45d9-4e11-910a-f9d361888fa7",
   "metadata": {},
   "outputs": [
    {
     "name": "stdout",
     "output_type": "stream",
     "text": [
      "학습 MAE :  0.05353323700268606\n",
      "일반화 MAE :  0.06053029968920205\n"
     ]
    }
   ],
   "source": [
    "print('학습 MAE : ' , mean_absolute_error(Y_train, Y_train_pred))\n",
    "print('일반화 MAE : ' ,  mean_absolute_error(Y_test, Y_test_pred))"
   ]
  },
  {
   "cell_type": "markdown",
   "id": "2c7ef0a7-7b18-4d04-9d2f-0afcc53d1623",
   "metadata": {},
   "source": [
    "# 다항회귀분석 (Polynominal Regression)\n",
    "\n",
    "- 기본의 선형 회귀 분석 : X와 Y의 관계식, 수식이 1차식인 형태\n",
    "- 다항회귀 : 다차원의 X를 2차 또는 3차 방정식 이상으로 표현하여 회귀 분석을 수행\n",
    "- 학습 시키려 하는 X를 Polynomianl 변환(파이프 내에서 수행)을 통해 학습"
   ]
  },
  {
   "cell_type": "code",
   "execution_count": 28,
   "id": "dc7b75e0-6e4a-47b9-9d29-5e06a7e10918",
   "metadata": {},
   "outputs": [],
   "source": [
    "from sklearn.preprocessing import PolynomialFeatures"
   ]
  },
  {
   "cell_type": "code",
   "execution_count": 31,
   "id": "704f982c-6a20-495c-ab3c-84e2d36d363f",
   "metadata": {},
   "outputs": [
    {
     "data": {
      "text/html": [
       "<style>#sk-container-id-1 {color: black;background-color: white;}#sk-container-id-1 pre{padding: 0;}#sk-container-id-1 div.sk-toggleable {background-color: white;}#sk-container-id-1 label.sk-toggleable__label {cursor: pointer;display: block;width: 100%;margin-bottom: 0;padding: 0.3em;box-sizing: border-box;text-align: center;}#sk-container-id-1 label.sk-toggleable__label-arrow:before {content: \"▸\";float: left;margin-right: 0.25em;color: #696969;}#sk-container-id-1 label.sk-toggleable__label-arrow:hover:before {color: black;}#sk-container-id-1 div.sk-estimator:hover label.sk-toggleable__label-arrow:before {color: black;}#sk-container-id-1 div.sk-toggleable__content {max-height: 0;max-width: 0;overflow: hidden;text-align: left;background-color: #f0f8ff;}#sk-container-id-1 div.sk-toggleable__content pre {margin: 0.2em;color: black;border-radius: 0.25em;background-color: #f0f8ff;}#sk-container-id-1 input.sk-toggleable__control:checked~div.sk-toggleable__content {max-height: 200px;max-width: 100%;overflow: auto;}#sk-container-id-1 input.sk-toggleable__control:checked~label.sk-toggleable__label-arrow:before {content: \"▾\";}#sk-container-id-1 div.sk-estimator input.sk-toggleable__control:checked~label.sk-toggleable__label {background-color: #d4ebff;}#sk-container-id-1 div.sk-label input.sk-toggleable__control:checked~label.sk-toggleable__label {background-color: #d4ebff;}#sk-container-id-1 input.sk-hidden--visually {border: 0;clip: rect(1px 1px 1px 1px);clip: rect(1px, 1px, 1px, 1px);height: 1px;margin: -1px;overflow: hidden;padding: 0;position: absolute;width: 1px;}#sk-container-id-1 div.sk-estimator {font-family: monospace;background-color: #f0f8ff;border: 1px dotted black;border-radius: 0.25em;box-sizing: border-box;margin-bottom: 0.5em;}#sk-container-id-1 div.sk-estimator:hover {background-color: #d4ebff;}#sk-container-id-1 div.sk-parallel-item::after {content: \"\";width: 100%;border-bottom: 1px solid gray;flex-grow: 1;}#sk-container-id-1 div.sk-label:hover label.sk-toggleable__label {background-color: #d4ebff;}#sk-container-id-1 div.sk-serial::before {content: \"\";position: absolute;border-left: 1px solid gray;box-sizing: border-box;top: 0;bottom: 0;left: 50%;z-index: 0;}#sk-container-id-1 div.sk-serial {display: flex;flex-direction: column;align-items: center;background-color: white;padding-right: 0.2em;padding-left: 0.2em;position: relative;}#sk-container-id-1 div.sk-item {position: relative;z-index: 1;}#sk-container-id-1 div.sk-parallel {display: flex;align-items: stretch;justify-content: center;background-color: white;position: relative;}#sk-container-id-1 div.sk-item::before, #sk-container-id-1 div.sk-parallel-item::before {content: \"\";position: absolute;border-left: 1px solid gray;box-sizing: border-box;top: 0;bottom: 0;left: 50%;z-index: -1;}#sk-container-id-1 div.sk-parallel-item {display: flex;flex-direction: column;z-index: 1;position: relative;background-color: white;}#sk-container-id-1 div.sk-parallel-item:first-child::after {align-self: flex-end;width: 50%;}#sk-container-id-1 div.sk-parallel-item:last-child::after {align-self: flex-start;width: 50%;}#sk-container-id-1 div.sk-parallel-item:only-child::after {width: 0;}#sk-container-id-1 div.sk-dashed-wrapped {border: 1px dashed gray;margin: 0 0.4em 0.5em 0.4em;box-sizing: border-box;padding-bottom: 0.4em;background-color: white;}#sk-container-id-1 div.sk-label label {font-family: monospace;font-weight: bold;display: inline-block;line-height: 1.2em;}#sk-container-id-1 div.sk-label-container {text-align: center;}#sk-container-id-1 div.sk-container {/* jupyter's `normalize.less` sets `[hidden] { display: none; }` but bootstrap.min.css set `[hidden] { display: none !important; }` so we also need the `!important` here to be able to override the default hidden behavior on the sphinx rendered scikit-learn.org. See: https://github.com/scikit-learn/scikit-learn/issues/21755 */display: inline-block !important;position: relative;}#sk-container-id-1 div.sk-text-repr-fallback {display: none;}</style><div id=\"sk-container-id-1\" class=\"sk-top-container\"><div class=\"sk-text-repr-fallback\"><pre>Pipeline(steps=[(&#x27;polynomialfeatures&#x27;, PolynomialFeatures()),\n",
       "                (&#x27;linearregression&#x27;, LinearRegression())])</pre><b>In a Jupyter environment, please rerun this cell to show the HTML representation or trust the notebook. <br />On GitHub, the HTML representation is unable to render, please try loading this page with nbviewer.org.</b></div><div class=\"sk-container\" hidden><div class=\"sk-item sk-dashed-wrapped\"><div class=\"sk-label-container\"><div class=\"sk-label sk-toggleable\"><input class=\"sk-toggleable__control sk-hidden--visually\" id=\"sk-estimator-id-1\" type=\"checkbox\" ><label for=\"sk-estimator-id-1\" class=\"sk-toggleable__label sk-toggleable__label-arrow\">Pipeline</label><div class=\"sk-toggleable__content\"><pre>Pipeline(steps=[(&#x27;polynomialfeatures&#x27;, PolynomialFeatures()),\n",
       "                (&#x27;linearregression&#x27;, LinearRegression())])</pre></div></div></div><div class=\"sk-serial\"><div class=\"sk-item\"><div class=\"sk-estimator sk-toggleable\"><input class=\"sk-toggleable__control sk-hidden--visually\" id=\"sk-estimator-id-2\" type=\"checkbox\" ><label for=\"sk-estimator-id-2\" class=\"sk-toggleable__label sk-toggleable__label-arrow\">PolynomialFeatures</label><div class=\"sk-toggleable__content\"><pre>PolynomialFeatures()</pre></div></div></div><div class=\"sk-item\"><div class=\"sk-estimator sk-toggleable\"><input class=\"sk-toggleable__control sk-hidden--visually\" id=\"sk-estimator-id-3\" type=\"checkbox\" ><label for=\"sk-estimator-id-3\" class=\"sk-toggleable__label sk-toggleable__label-arrow\">LinearRegression</label><div class=\"sk-toggleable__content\"><pre>LinearRegression()</pre></div></div></div></div></div></div></div>"
      ],
      "text/plain": [
       "Pipeline(steps=[('polynomialfeatures', PolynomialFeatures()),\n",
       "                ('linearregression', LinearRegression())])"
      ]
     },
     "execution_count": 31,
     "metadata": {},
     "output_type": "execute_result"
    }
   ],
   "source": [
    "model_pipe = make_pipeline(PolynomialFeatures(degree=2), LinearRegression())\n",
    "model_pipe.fit(X_train, Y_train)"
   ]
  },
  {
   "cell_type": "code",
   "execution_count": 32,
   "id": "7feebd69-1f77-4fe0-accf-d5b7526a578d",
   "metadata": {},
   "outputs": [
    {
     "data": {
      "text/plain": [
       "array([ 2.87728834e+06,  1.66753501e-01,  1.23179531e-04,  7.22579783e-02,\n",
       "       -8.29671369e+00,  3.94535027e-01, -6.13412360e+00,  1.23989629e+01,\n",
       "        2.80358279e+00,  4.54943729e+01,  2.81248867e-05, -7.81159603e-06,\n",
       "       -8.56477116e-04,  2.90909202e-01, -1.84474124e-01,  7.39830121e-02,\n",
       "       -1.57607991e-01, -4.39348711e-02, -2.80782429e-01,  4.14371024e-08,\n",
       "        4.92069109e-05, -2.03530644e-02,  1.11781338e-02, -5.04592995e-03,\n",
       "        9.49310322e-03,  4.32387103e-03,  1.79910471e-02, -2.02870702e-04,\n",
       "       -2.59782281e-01, -7.51283166e-02,  4.47801832e-02,  1.45360113e-01,\n",
       "        1.20132016e-02,  1.29327912e-02, -7.54110113e+01,  5.70142209e+01,\n",
       "       -4.65514639e+01,  7.71384783e+01,  4.35217575e+00,  1.49338205e+02,\n",
       "        1.88560818e+01, -9.16166772e+00, -6.19972326e+00,  7.16946495e+00,\n",
       "       -4.22832056e+01, -8.61705205e-01,  1.04371882e+01,  8.77713835e+00,\n",
       "        7.55097942e+01, -1.06659359e+01, -2.74142767e+01, -1.47449928e+02,\n",
       "        3.81599074e+00, -5.29457020e+01, -2.44789988e+02])"
      ]
     },
     "execution_count": 32,
     "metadata": {},
     "output_type": "execute_result"
    }
   ],
   "source": [
    "model_pipe['linearregression'].coef_ # 해석의 의미가 없어짐"
   ]
  },
  {
   "cell_type": "markdown",
   "id": "f1fe623e-caf2-4e98-b596-b18cae959c8d",
   "metadata": {},
   "source": [
    "# 규제 선형 회귀 (Regularization Regression)\n",
    "\n",
    "- Overfitting을 방지, 차원의 저주 방지하기 위해 회귀 계수를 적절히 통제하여 회귀식을 구성\n",
    "- Cost Function + 패널티 항\n",
    "- Alpah (패널티 항 통제 계수, Hyper Parameter)\n",
    "  \n",
    "- Ridge : L2규제 (제곱으로 연산되는 패널티 항을 추가) / 상대적으로 큰 회귀 계수값을 통제하여 (회귀 계수를 특정 값 이상으로 커지지 않게 통제) Overfitting이 발생하지 않도록 규제\n",
    "  - 높은 Alpha : 모델의 계수를 더 많이 축소하여 복잡성을 줄임 (Overfitting 방지 / 성능 저하)\n",
    "  - 낮은 Alpah : 정규화 효과를 줄여 (패널티를 줄임) 모델의 계수가 더 늘어나게 통제 (Overfitting 발생 가능성)\n",
    "\n",
    "- Lasso : L1규제 (절대값으로 연산되는 패널티 항을 추가) / 예측 영향력이 적은 X의 회귀 계수를 0으로 만들어 (영향력없는X를뺀다) 회귀분석에 선택되지 않게 통제 (변수 선택법)\n",
    "  - 제조/공정에서 X Column이 굉장히 많은 경우 -> 유의미한 X를 선택해 남긴 뒤, 다시 회귀 분석을 수행\n",
    "  - 높은 Alpha : 모델의 계수를 더 많이 축소, 0으로 변환 (Overfitting 방지 / 단순화 / 성능 저하)\n",
    "  - 낮은 Alpah : 모델의 복잡성은 증가 / 0으로 삭제되는 Column은 줄임 (Overfitting 발생 가능성)\n",
    "    \n",
    "- Elastic : L1 + L2 / 회귀 계수가 큰 인자는 통제, 회귀 계수가 작은 인자는 0으로 만들어 통제"
   ]
  },
  {
   "cell_type": "code",
   "execution_count": 33,
   "id": "791cf2e6-d7ad-4eaf-ba5b-7d213781b621",
   "metadata": {},
   "outputs": [],
   "source": [
    "from sklearn.linear_model import Lasso, Ridge, ElasticNet"
   ]
  },
  {
   "cell_type": "code",
   "execution_count": 35,
   "id": "fdf1ad0f-4793-4c8f-8b41-84760a2a678b",
   "metadata": {},
   "outputs": [],
   "source": [
    "model_pipe = make_pipeline(StandardScaler(), Lasso())"
   ]
  },
  {
   "cell_type": "code",
   "execution_count": 38,
   "id": "361b4d69-daf1-41ac-82de-8f229b065412",
   "metadata": {},
   "outputs": [],
   "source": [
    "hyperparameter = {'lasso__alpha' : [0.01,0.1,1,1.5,2]}\n",
    "grid_model = GridSearchCV(model_pipe, param_grid = hyperparameter, cv=3)\n",
    "grid_model.fit(X_train, Y_train)\n",
    "best_model = grid_model.best_estimator_"
   ]
  },
  {
   "cell_type": "code",
   "execution_count": 41,
   "id": "363b7fc4-bc21-48e2-aa9a-933c50e77aba",
   "metadata": {},
   "outputs": [
    {
     "data": {
      "text/html": [
       "<div>\n",
       "<style scoped>\n",
       "    .dataframe tbody tr th:only-of-type {\n",
       "        vertical-align: middle;\n",
       "    }\n",
       "\n",
       "    .dataframe tbody tr th {\n",
       "        vertical-align: top;\n",
       "    }\n",
       "\n",
       "    .dataframe thead th {\n",
       "        text-align: right;\n",
       "    }\n",
       "</style>\n",
       "<table border=\"1\" class=\"dataframe\">\n",
       "  <thead>\n",
       "    <tr style=\"text-align: right;\">\n",
       "      <th></th>\n",
       "      <th>coef</th>\n",
       "      <th>X</th>\n",
       "    </tr>\n",
       "  </thead>\n",
       "  <tbody>\n",
       "    <tr>\n",
       "      <th>0</th>\n",
       "      <td>3.559761</td>\n",
       "      <td>Mean Perimeter</td>\n",
       "    </tr>\n",
       "    <tr>\n",
       "      <th>1</th>\n",
       "      <td>0.022036</td>\n",
       "      <td>Mean Area</td>\n",
       "    </tr>\n",
       "    <tr>\n",
       "      <th>2</th>\n",
       "      <td>-0.000000</td>\n",
       "      <td>Mean Texture</td>\n",
       "    </tr>\n",
       "    <tr>\n",
       "      <th>3</th>\n",
       "      <td>0.000000</td>\n",
       "      <td>Mean Smoothness</td>\n",
       "    </tr>\n",
       "    <tr>\n",
       "      <th>4</th>\n",
       "      <td>-0.200058</td>\n",
       "      <td>Mean Compactness</td>\n",
       "    </tr>\n",
       "    <tr>\n",
       "      <th>5</th>\n",
       "      <td>-0.002659</td>\n",
       "      <td>Mean Concavity</td>\n",
       "    </tr>\n",
       "    <tr>\n",
       "      <th>6</th>\n",
       "      <td>-0.000000</td>\n",
       "      <td>Mean Concave Points</td>\n",
       "    </tr>\n",
       "    <tr>\n",
       "      <th>7</th>\n",
       "      <td>-0.000000</td>\n",
       "      <td>Mean Symmetry</td>\n",
       "    </tr>\n",
       "    <tr>\n",
       "      <th>8</th>\n",
       "      <td>-0.026762</td>\n",
       "      <td>Mean Fractal Dim</td>\n",
       "    </tr>\n",
       "  </tbody>\n",
       "</table>\n",
       "</div>"
      ],
      "text/plain": [
       "       coef                    X\n",
       "0  3.559761       Mean Perimeter\n",
       "1  0.022036            Mean Area\n",
       "2 -0.000000         Mean Texture\n",
       "3  0.000000      Mean Smoothness\n",
       "4 -0.200058     Mean Compactness\n",
       "5 -0.002659       Mean Concavity\n",
       "6 -0.000000  Mean Concave Points\n",
       "7 -0.000000        Mean Symmetry\n",
       "8 -0.026762     Mean Fractal Dim"
      ]
     },
     "execution_count": 41,
     "metadata": {},
     "output_type": "execute_result"
    }
   ],
   "source": [
    "df_coef_lasso = pd.DataFrame()\n",
    "df_coef_lasso['coef'] = best_model['lasso'].coef_\n",
    "df_coef_lasso['X'] = X_train.columns\n",
    "df_coef_lasso"
   ]
  },
  {
   "cell_type": "code",
   "execution_count": 43,
   "id": "ccf6f31b-c135-488f-8cf3-74ae2d0ec0e2",
   "metadata": {},
   "outputs": [],
   "source": [
    "model_pipe = make_pipeline(StandardScaler(), Ridge())\n",
    "hyperparameter = {'ridge__alpha' : [0.01,0.1,1,1.5,2]}\n",
    "grid_model = GridSearchCV(model_pipe, param_grid = hyperparameter, cv=3)\n",
    "grid_model.fit(X_train, Y_train)\n",
    "best_model2 = grid_model.best_estimator_"
   ]
  },
  {
   "cell_type": "code",
   "execution_count": 45,
   "id": "5158fde9-6aa8-4559-9f29-0d1c5cae05f4",
   "metadata": {},
   "outputs": [
    {
     "data": {
      "text/html": [
       "<div>\n",
       "<style scoped>\n",
       "    .dataframe tbody tr th:only-of-type {\n",
       "        vertical-align: middle;\n",
       "    }\n",
       "\n",
       "    .dataframe tbody tr th {\n",
       "        vertical-align: top;\n",
       "    }\n",
       "\n",
       "    .dataframe thead th {\n",
       "        text-align: right;\n",
       "    }\n",
       "</style>\n",
       "<table border=\"1\" class=\"dataframe\">\n",
       "  <thead>\n",
       "    <tr style=\"text-align: right;\">\n",
       "      <th></th>\n",
       "      <th>coef</th>\n",
       "      <th>X</th>\n",
       "    </tr>\n",
       "  </thead>\n",
       "  <tbody>\n",
       "    <tr>\n",
       "      <th>0</th>\n",
       "      <td>3.728883</td>\n",
       "      <td>Mean Perimeter</td>\n",
       "    </tr>\n",
       "    <tr>\n",
       "      <th>1</th>\n",
       "      <td>-0.043296</td>\n",
       "      <td>Mean Area</td>\n",
       "    </tr>\n",
       "    <tr>\n",
       "      <th>2</th>\n",
       "      <td>-0.003280</td>\n",
       "      <td>Mean Texture</td>\n",
       "    </tr>\n",
       "    <tr>\n",
       "      <th>3</th>\n",
       "      <td>0.018652</td>\n",
       "      <td>Mean Smoothness</td>\n",
       "    </tr>\n",
       "    <tr>\n",
       "      <th>4</th>\n",
       "      <td>-0.254408</td>\n",
       "      <td>Mean Compactness</td>\n",
       "    </tr>\n",
       "    <tr>\n",
       "      <th>5</th>\n",
       "      <td>-0.029750</td>\n",
       "      <td>Mean Concavity</td>\n",
       "    </tr>\n",
       "    <tr>\n",
       "      <th>6</th>\n",
       "      <td>-0.044667</td>\n",
       "      <td>Mean Concave Points</td>\n",
       "    </tr>\n",
       "    <tr>\n",
       "      <th>7</th>\n",
       "      <td>0.012486</td>\n",
       "      <td>Mean Symmetry</td>\n",
       "    </tr>\n",
       "    <tr>\n",
       "      <th>8</th>\n",
       "      <td>0.020817</td>\n",
       "      <td>Mean Fractal Dim</td>\n",
       "    </tr>\n",
       "  </tbody>\n",
       "</table>\n",
       "</div>"
      ],
      "text/plain": [
       "       coef                    X\n",
       "0  3.728883       Mean Perimeter\n",
       "1 -0.043296            Mean Area\n",
       "2 -0.003280         Mean Texture\n",
       "3  0.018652      Mean Smoothness\n",
       "4 -0.254408     Mean Compactness\n",
       "5 -0.029750       Mean Concavity\n",
       "6 -0.044667  Mean Concave Points\n",
       "7  0.012486        Mean Symmetry\n",
       "8  0.020817     Mean Fractal Dim"
      ]
     },
     "execution_count": 45,
     "metadata": {},
     "output_type": "execute_result"
    }
   ],
   "source": [
    "df_coef_ridge = pd.DataFrame()\n",
    "df_coef_ridge['coef'] = best_model2['ridge'].coef_\n",
    "df_coef_ridge['X'] = X_train.columns\n",
    "df_coef_ridge"
   ]
  },
  {
   "cell_type": "markdown",
   "id": "4a163e98-22fa-491d-b6a5-1dc795bdab54",
   "metadata": {},
   "source": [
    "# 로지스틱 회귀 분석 (Logistic Regression) \n",
    "\n",
    "- Y 범주형 형태인 분류를 수행할 수 있는 회귀 분석 모델 (분류기법)\n",
    "- 선형회귀 기법 -> 분류 모델\n",
    "- 원리 :\n",
    "    ![image.png](attachment:0273fad6-64c3-4cbb-a1e1-7740cbed0511.png)\n",
    "  - Odds(오즈, 승산) : 임의의 사건이 발생할 확률\n",
    "  - Odds Ratio (오즈 비율, 승산비) : 임의의 특정 사건이 발생하고, 해당 사건에 성공,실패 여부의 비율을 계산\n",
    "  - Odds값을 계산한 뒤, log 함수를 취하여 Link Function(연결함수- 특정함수를 다른 형태로 변화하기 위한 함수/ 로짓 함수 (Log odds))의 선형 예측 모델을 로지스틱 변환을 통해 1,0 (A,B)과 같은 분류를 수행   "
   ]
  },
  {
   "cell_type": "markdown",
   "id": "e90172b6-048b-474b-84fb-2a9a6253740b",
   "metadata": {},
   "source": [
    "- 시그모이드 (Sigmoid) 함수 형태로 연결함수를 최적화 -> 시그모이드 함수의 Y를 분류의 확률 값으로 사용하여 분류를 진행\n",
    "- Logistic Regression 알고리즘의 최적화 기법\n",
    "  - Newton Conjugate Gradient : 뉴턴공액경사기법 / Log odds 함수의 Cost Function을 최소화 하기 위해 사용되는 최적화 함수\n",
    "    - 작동 원리 :\n",
    "      1. 초기 추정값 세팅\n",
    "      2. 비용함수 Cost Function 도함수 계산 / Hessian Matix 헤이시안 행렬 계산을 수행\n",
    "      3. Update 방향을 결정 (Newton 함수를 활용해 Update 방향을 결정)\n",
    "      4. Conjugate Gradient을 이용하여, 새로운 Update 값을 계산\n",
    "      5. 최적화가 충분히 진행 될 때 까지 (Cost Function이 최소지점을 찾을 때 까지) 위의 과정을 반복\n",
    "    - 대규모 데이터셋에서는 속도가 느림 / 매우 정교하게 Cost Function을 계산 -> 성능이 비교적 좋다\n",
    "    - Overfitting 가능성 \n",
    "  - Limited-memory BFGS (Broyden Flecher Goldfarbs Shanno)\n",
    "    - 메모리 사용을 최소로 줄이며 연산 최적화 기법 (Logistic Regression 알고리즘의 기본값)\n",
    "  - Stochastic Average Gradient (SAG) :\n",
    "    - 확률적 경사하강법을 적용한 최적화 기법 (Betch 통계량을 계산하여 Cost Function 도출)\n",
    "    - 대규모 데이터셋에 적합하며, 연산속도가 빠르고, 메모리사용량이 적은 최적화 기법\n",
    "  - Stochastic Average Gradient Descent A.... (SAGA) :\n",
    "    - SAG기법에 규제항(*모델의 복잡도가 줄어듦으로, 성능도 저하될 가능성이 있다)을 추가하여 학습을 수행\n",
    "    - 대규모 데이터 셋에 적용 가능, 빠른 연산 -> Overfitting 사전에 방지\n",
    "  - Lib-linear\n",
    "    - 소규모 데이터셋의 이진분류에서 빠르고 효울\n",
    "    - 적인 최적화"
   ]
  },
  {
   "cell_type": "code",
   "execution_count": 48,
   "id": "5ced73d8-03d6-48b0-9c59-332c48058535",
   "metadata": {},
   "outputs": [],
   "source": [
    "df2 = pd.read_csv(r'C:\\Users\\UserK\\Desktop\\Ranee\\data\\ML\\15_Data.csv')"
   ]
  },
  {
   "cell_type": "code",
   "execution_count": 49,
   "id": "d15da920-ab2d-4fbd-b5a7-bb15ec9f118b",
   "metadata": {},
   "outputs": [],
   "source": [
    "Y = df2['수술실패여부']\n",
    "X = df2[['신장','연령','체중','통증기간(월)','환자통증정도']]"
   ]
  },
  {
   "cell_type": "code",
   "execution_count": 50,
   "id": "b1fd7b38-83dd-46ec-b3ac-c50fac628015",
   "metadata": {},
   "outputs": [],
   "source": [
    "X_train, X_test, Y_train, Y_test = train_test_split(X,Y, random_state=1234)"
   ]
  },
  {
   "cell_type": "code",
   "execution_count": 51,
   "id": "11e6382d-0eb8-4498-b267-7eca54a241f6",
   "metadata": {},
   "outputs": [],
   "source": [
    "from sklearn.impute import SimpleImputer\n",
    "from sklearn.linear_model import LogisticRegression"
   ]
  },
  {
   "cell_type": "code",
   "execution_count": 52,
   "id": "01f8f0f3-55b6-4550-9a42-05df82fc7048",
   "metadata": {},
   "outputs": [],
   "source": [
    "model_pipe = make_pipeline(SimpleImputer(strategy ='median'), LogisticRegression())"
   ]
  },
  {
   "cell_type": "markdown",
   "id": "bf7d1b48-0cf9-446f-b6a7-29ceb3188721",
   "metadata": {},
   "source": [
    "- Logistic Regression Hyper Parameter\r\n",
    "  - solver : 최적화에 사용할 알고리즘을 선택 'newton-cg' / 'lbfgs' / 'sag' / 'saga'\r\n",
    "  - max_iter : 최적화 알고리즘이 Cost Function을 반복 계산의 최대 횟수 지정 (기본값 100회)\r\n",
    "  - multi_class : 다중클래스(3개 이상의 분류 값)에 대한 처리방법 지정 / (기본값 'auto')\r\n",
    "  - random_state : 최적화 알고리즘이 계산을 수행할 때 적용하는 Random State\r\n",
    "  - class_weight : 이진분류(2개의 분류)에서 비율이 깨진데이터(Imbalanced Data)에 대해 학습 시, 비중에 대한 가중치 부여\r\n",
    "    - 기본값 None : 클래스에 대한 가중치 없이 학습\r\n",
    "    - balanced : 비율이 적은 클래스에 가중치를 두며 학습 (Imbalaced Data Sampling과 같은 효과)\r\n",
    "  - penalty : 규제 방법을 지정 (기본값은 L2 적용/ 'l1', 'l2')\r\n",
    "  - C : 규제항이 적용되었을 때, 규제의 강도 (Alpha 값의 역수 / 기본값 C = 1 )\r\n",
    "    - C 값이 작을수록 규제가 강화 (Overfitting 방지)\r\n",
    "    - C 값이 클수록 규제를 완화 (모델의 복잡성을 높이는 방향 /성능 향샹 / 과적합 발생 가능성) "
   ]
  },
  {
   "cell_type": "code",
   "execution_count": 58,
   "id": "4c71e905-0678-4f58-9314-c6c477b79131",
   "metadata": {},
   "outputs": [
    {
     "name": "stderr",
     "output_type": "stream",
     "text": [
      "C:\\ProgramData\\anaconda3\\Lib\\site-packages\\sklearn\\linear_model\\_sag.py:350: ConvergenceWarning:\n",
      "\n",
      "The max_iter was reached which means the coef_ did not converge\n",
      "\n"
     ]
    }
   ],
   "source": [
    "hyperparameter = {'logisticregression__solver':[ 'lbfgs', 'sag'], # 2가지\n",
    "                 'logisticregression__max_iter':[100,200,300], # 3가지 \n",
    "                 'logisticregression__class_weight':[None, 'balanced']} # 2가지 => 12가지 \n",
    "grid_model = GridSearchCV(model_pipe, param_grid=hyperparameter, cv=3, n_jobs=-1, scoring='f1') # 12 x 3 = 36 학습 \n",
    "grid_model.fit(X_train, Y_train)\n",
    "best_model = grid_model.best_estimator_"
   ]
  },
  {
   "cell_type": "code",
   "execution_count": 59,
   "id": "d8c4a227-c70f-4c97-bea3-f645a46af932",
   "metadata": {},
   "outputs": [
    {
     "data": {
      "text/plain": [
       "array([[-0.02104885,  0.02331877,  0.02437819, -0.0119827 ,  0.14381547]])"
      ]
     },
     "execution_count": 59,
     "metadata": {},
     "output_type": "execute_result"
    }
   ],
   "source": [
    "best_model['logisticregression'].coef_"
   ]
  },
  {
   "cell_type": "code",
   "execution_count": 60,
   "id": "2f3f7a9e-d3ee-4469-a4fe-6fa21be05c1f",
   "metadata": {},
   "outputs": [],
   "source": [
    "df_coef = pd.DataFrame() \n",
    "df_coef['coef'] = best_model['logisticregression'].coef_[0]\n",
    "df_coef['X'] = X_train.columns"
   ]
  },
  {
   "cell_type": "code",
   "execution_count": 61,
   "id": "4847b6eb-d3d0-485a-ac43-2bbe05bf03fa",
   "metadata": {},
   "outputs": [
    {
     "data": {
      "text/html": [
       "<div>\n",
       "<style scoped>\n",
       "    .dataframe tbody tr th:only-of-type {\n",
       "        vertical-align: middle;\n",
       "    }\n",
       "\n",
       "    .dataframe tbody tr th {\n",
       "        vertical-align: top;\n",
       "    }\n",
       "\n",
       "    .dataframe thead th {\n",
       "        text-align: right;\n",
       "    }\n",
       "</style>\n",
       "<table border=\"1\" class=\"dataframe\">\n",
       "  <thead>\n",
       "    <tr style=\"text-align: right;\">\n",
       "      <th></th>\n",
       "      <th>coef</th>\n",
       "      <th>X</th>\n",
       "    </tr>\n",
       "  </thead>\n",
       "  <tbody>\n",
       "    <tr>\n",
       "      <th>0</th>\n",
       "      <td>-0.021049</td>\n",
       "      <td>신장</td>\n",
       "    </tr>\n",
       "    <tr>\n",
       "      <th>1</th>\n",
       "      <td>0.023319</td>\n",
       "      <td>연령</td>\n",
       "    </tr>\n",
       "    <tr>\n",
       "      <th>2</th>\n",
       "      <td>0.024378</td>\n",
       "      <td>체중</td>\n",
       "    </tr>\n",
       "    <tr>\n",
       "      <th>3</th>\n",
       "      <td>-0.011983</td>\n",
       "      <td>통증기간(월)</td>\n",
       "    </tr>\n",
       "    <tr>\n",
       "      <th>4</th>\n",
       "      <td>0.143815</td>\n",
       "      <td>환자통증정도</td>\n",
       "    </tr>\n",
       "  </tbody>\n",
       "</table>\n",
       "</div>"
      ],
      "text/plain": [
       "       coef        X\n",
       "0 -0.021049       신장\n",
       "1  0.023319       연령\n",
       "2  0.024378       체중\n",
       "3 -0.011983  통증기간(월)\n",
       "4  0.143815   환자통증정도"
      ]
     },
     "execution_count": 61,
     "metadata": {},
     "output_type": "execute_result"
    }
   ],
   "source": [
    "df_coef # 회귀 계수의 의미 : 회귀계수가 높을 수록 1 값으로 분류될 확률이 높아진다. \n",
    "# 회귀계수가 높다 : Y값에 매우 밀접한 영향을 주고 있는 인자다 "
   ]
  },
  {
   "cell_type": "code",
   "execution_count": null,
   "id": "539f95d5-9d3c-45bd-9619-27ff48da5230",
   "metadata": {},
   "outputs": [],
   "source": []
  }
 ],
 "metadata": {
  "kernelspec": {
   "display_name": "Python 3 (ipykernel)",
   "language": "python",
   "name": "python3"
  },
  "language_info": {
   "codemirror_mode": {
    "name": "ipython",
    "version": 3
   },
   "file_extension": ".py",
   "mimetype": "text/x-python",
   "name": "python",
   "nbconvert_exporter": "python",
   "pygments_lexer": "ipython3",
   "version": "3.11.7"
  }
 },
 "nbformat": 4,
 "nbformat_minor": 5
}
