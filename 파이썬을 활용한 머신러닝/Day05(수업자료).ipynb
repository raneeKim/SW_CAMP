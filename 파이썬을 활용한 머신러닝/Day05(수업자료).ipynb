{
 "cells": [
  {
   "cell_type": "code",
   "execution_count": 1,
   "id": "59bc803d-3338-45e1-bac7-f07e6a2822c5",
   "metadata": {},
   "outputs": [],
   "source": [
    "import pandas as pd \n",
    "import plotly.express as px \n",
    "import scipy.stats as stats \n",
    "import numpy as np "
   ]
  },
  {
   "cell_type": "code",
   "execution_count": 2,
   "id": "3c24df9b-7db9-4e3e-9062-7dd61f0fd099",
   "metadata": {},
   "outputs": [],
   "source": [
    "df3 = pd.read_csv('11_Data.csv')"
   ]
  },
  {
   "cell_type": "markdown",
   "id": "59a2c2e2-2169-4ed5-bc7a-2ec68c57d47b",
   "metadata": {},
   "source": [
    "1. df3데이터를 이용해 아래와 같은 분석을 하고자 한다. 최근성(Recency)가 가장 좋은 상위 10%의 고객들의 성비와 평균 나이를 계산하시오."
   ]
  },
  {
   "cell_type": "code",
   "execution_count": 6,
   "id": "17a870f8-d2e7-4c91-b3c2-2240175c046a",
   "metadata": {},
   "outputs": [],
   "source": [
    "cond1 = df3['Recency'] <= df3['Recency'].quantile(0.1)\n",
    "df4 = df3.loc[cond1]"
   ]
  },
  {
   "cell_type": "code",
   "execution_count": null,
   "id": "4b0b9b1e-f633-42fc-96ea-2e144e7f7b24",
   "metadata": {},
   "outputs": [],
   "source": [
    "df4['성별'].value_counts() / len(df4['성별'])"
   ]
  },
  {
   "cell_type": "code",
   "execution_count": 10,
   "id": "b8577881-6747-4584-b590-144425a6520b",
   "metadata": {},
   "outputs": [
    {
     "data": {
      "text/plain": [
       "42.55615942028985"
      ]
     },
     "execution_count": 10,
     "metadata": {},
     "output_type": "execute_result"
    }
   ],
   "source": [
    "df4['나이'].mean()"
   ]
  },
  {
   "cell_type": "code",
   "execution_count": null,
   "id": "bc99c8bb-af57-444c-aeeb-97fb24ebfff8",
   "metadata": {},
   "outputs": [],
   "source": [
    "df4.pivot_table(index='성별',values='나이',aggfunc='mean',margins=True)"
   ]
  },
  {
   "cell_type": "markdown",
   "id": "1796a136-3a4b-4cb4-98c3-c8f6ca10df00",
   "metadata": {},
   "source": [
    "- 2. 금액(Monetary)이 높은 1000명의 데이터를 추출하여, '사업자구분'에서 '개인'과 '사업자'간 주기(Frequency)의 평균의 차가 있는지 가설 검정을 수행\n",
    "   - \n",
    "가설 및 결론 포함하여 작성"
   ]
  },
  {
   "cell_type": "code",
   "execution_count": 16,
   "id": "00dd6d4f-2440-4728-a725-93979230395e",
   "metadata": {},
   "outputs": [],
   "source": [
    "df5 = df3.sort_values(by='Monetary',ascending=False).head(1000)"
   ]
  },
  {
   "cell_type": "code",
   "execution_count": 17,
   "id": "be6ab0b5-2c04-4f41-94ce-5c192095d45e",
   "metadata": {},
   "outputs": [
    {
     "name": "stdout",
     "output_type": "stream",
     "text": [
      "NormaltestResult(statistic=350.2724240673947, pvalue=8.695799794516361e-77)\n",
      "NormaltestResult(statistic=849.7666155777041, pvalue=2.9889866444145317e-185)\n"
     ]
    }
   ],
   "source": [
    "# 2-1. 각 집단 별 (개인과 사업자에 따른) 주기의 분포가 정규성을 따르는가? \n",
    "# 귀무가설 : 해당 숫자데이터는 정규성을 따른다. / 대립가설 : 해당 숫자데이터는 정규성을 따르지 않는다.\n",
    "cond1 = df5['사업자구분']=='개인'\n",
    "cond2 = df5['사업자구분']=='사업자'\n",
    "print(stats.normaltest(df5.loc[cond1]['Frequency']))\n",
    "print(stats.normaltest(df5.loc[cond2]['Frequency']))\n",
    "# P.value (귀무가설이 참일 확률) < 0.05 (유의수준 5%) / 대립가설 참"
   ]
  },
  {
   "cell_type": "code",
   "execution_count": 18,
   "id": "d1806a32-0298-439c-91a9-f19a5dd23f7f",
   "metadata": {},
   "outputs": [
    {
     "data": {
      "text/plain": [
       "RanksumsResult(statistic=0.10146465851771255, pvalue=0.9191816111531396)"
      ]
     },
     "execution_count": 18,
     "metadata": {},
     "output_type": "execute_result"
    }
   ],
   "source": [
    "# 2-2. (정규분포가 아닌 연속형 자료) 각 집단 별 주기의 대표값(중앙값)의 차이가 있는지 검정 \n",
    "# 귀무 가설 : 각 집단 별 주기의 중앙값의 차이는 없다. \n",
    "# 대립 가설 : 각 집단 별 주기의 중앙값의 차이는 있다.\n",
    "stats.ranksums(df5.loc[cond1]['Frequency'], df5.loc[cond2]['Frequency'])\n",
    "# P.value > 0.05 / 귀무가설 참 / 각 집단 별 주기의 중앙값의 차이는 없다. "
   ]
  },
  {
   "cell_type": "markdown",
   "id": "c02986ef-679a-4a98-a358-5c0b5f9e934d",
   "metadata": {},
   "source": [
    "3. 최근성(Recency)과 금액(Monetary)간의 상관성을 확인하고자 한다. 성별에 따른 최근성과 금액의 산점도를 시각화 하시오. "
   ]
  },
  {
   "cell_type": "code",
   "execution_count": null,
   "id": "4b5b68ed-8986-47a3-9dc6-8de08b67e028",
   "metadata": {},
   "outputs": [],
   "source": [
    "px.scatter(df3, x='Recency', y='Monetary')"
   ]
  },
  {
   "cell_type": "code",
   "execution_count": 22,
   "id": "d37fd347-5879-41ce-85d5-7b5d81f97904",
   "metadata": {},
   "outputs": [
    {
     "name": "stdout",
     "output_type": "stream",
     "text": [
      "NormaltestResult(statistic=1003.4450089983651, pvalue=1.2725792844076955e-218)\n",
      "NormaltestResult(statistic=14087.05803696957, pvalue=0.0)\n"
     ]
    }
   ],
   "source": [
    "# 3-1. 최근성과 금액 간 상관성이 있는지 가설 검정을 수행\n",
    "# 두 연속형 자료가 정규성을 따르는지 확인 \n",
    "print(stats.normaltest(df3['Recency']))\n",
    "print(stats.normaltest(df3['Frequency'])) # P.value < 0.05 / 대립가설 참 / 정규성을 따르지 않는다.  "
   ]
  },
  {
   "cell_type": "code",
   "execution_count": 23,
   "id": "76ac2ed3-8296-4234-ad40-fe54b742342d",
   "metadata": {},
   "outputs": [
    {
     "data": {
      "text/plain": [
       "SignificanceResult(statistic=-0.5143547499449463, pvalue=0.0)"
      ]
     },
     "execution_count": 23,
     "metadata": {},
     "output_type": "execute_result"
    }
   ],
   "source": [
    "# 3-2. 정규분포를 따르지 않는 숫자 데이터의 상관성 검정을 수행 \n",
    "# 귀무가설 : 두 연속형 숫자데이터의 상관성이 없다. \n",
    "# 대립가설 : 두 연속형 숫자데이터는 서로 상관성이 있다. \n",
    "stats.spearmanr(df3['Recency'], df3['Frequency']) # P.value < 0.05 / 대립가설 참 /  두 연속형 숫자데이터는 서로 상관성이 있다. \n",
    "# stats.pearsonr( df[] , df[] )  #  두 연속형 자료가 정규분포를 따르는 경우 "
   ]
  },
  {
   "cell_type": "code",
   "execution_count": null,
   "id": "2502a699-1e61-45b1-92ca-d68c18c0a9d4",
   "metadata": {},
   "outputs": [],
   "source": [
    "# Corrleation (상관 계수) : 두 연속형 자료가 서로 얼만큼 상관성이 있는가? \n",
    "# -1 (음의 상관관계 / 반비례) ~ +1 (양의 상관관계 / 비례) / 0 무상관 \n",
    "df3[['Recency', 'Frequency']].corr() # Pearson Corr (정규성을 따르는 데이터들에 대한 상관계수를 계산) \n",
    "# method='pearson'"
   ]
  },
  {
   "cell_type": "code",
   "execution_count": 26,
   "id": "d0cb55c4-69a2-4ad8-9a08-0bd709e8eea7",
   "metadata": {
    "scrolled": true
   },
   "outputs": [
    {
     "data": {
      "text/html": [
       "<div>\n",
       "<style scoped>\n",
       "    .dataframe tbody tr th:only-of-type {\n",
       "        vertical-align: middle;\n",
       "    }\n",
       "\n",
       "    .dataframe tbody tr th {\n",
       "        vertical-align: top;\n",
       "    }\n",
       "\n",
       "    .dataframe thead th {\n",
       "        text-align: right;\n",
       "    }\n",
       "</style>\n",
       "<table border=\"1\" class=\"dataframe\">\n",
       "  <thead>\n",
       "    <tr style=\"text-align: right;\">\n",
       "      <th></th>\n",
       "      <th>Recency</th>\n",
       "      <th>Frequency</th>\n",
       "    </tr>\n",
       "  </thead>\n",
       "  <tbody>\n",
       "    <tr>\n",
       "      <th>Recency</th>\n",
       "      <td>1.000000</td>\n",
       "      <td>-0.514355</td>\n",
       "    </tr>\n",
       "    <tr>\n",
       "      <th>Frequency</th>\n",
       "      <td>-0.514355</td>\n",
       "      <td>1.000000</td>\n",
       "    </tr>\n",
       "  </tbody>\n",
       "</table>\n",
       "</div>"
      ],
      "text/plain": [
       "            Recency  Frequency\n",
       "Recency    1.000000  -0.514355\n",
       "Frequency -0.514355   1.000000"
      ]
     },
     "execution_count": 26,
     "metadata": {},
     "output_type": "execute_result"
    }
   ],
   "source": [
    "df3[['Recency', 'Frequency']].corr(method='spearman') "
   ]
  },
  {
   "cell_type": "markdown",
   "id": "ea8c7cc5-abe1-47f1-a849-75c61b5efe1f",
   "metadata": {},
   "source": [
    "4. 고객등급 ‘VIP’와 ‘Normal’에 따른 고객 연령의 평균의 차이가 있는지 가설 검정을 수행하고, VIP 고객의 '유입경로' 빈도수가 가장 높은 항목에 대해 Recency와 Frequency, Monetary의 기술 통계량을 계산하시오.\n",
    "    - 가설 수립 및 결론 도출 까지 진행"
   ]
  },
  {
   "cell_type": "code",
   "execution_count": 32,
   "id": "461dbf7d-0224-4bf6-84b6-9fb5dec141c9",
   "metadata": {},
   "outputs": [
    {
     "name": "stdout",
     "output_type": "stream",
     "text": [
      "NormaltestResult(statistic=63.35818345907562, pvalue=1.7456021580554742e-14)\n",
      "NormaltestResult(statistic=99.86360958512842, pvalue=2.0648699646259737e-22)\n"
     ]
    }
   ],
   "source": [
    "# 4-1. 고객 연령의 정규성 검정 \n",
    "cond1 = df3['고객등급']=='VIP'\n",
    "cond2 = df3['고객등급']=='Normal'\n",
    "print(stats.normaltest(df3.loc[cond1]['나이']))\n",
    "print(stats.normaltest(df3.loc[cond2]['나이'])) # P.value < 0.05 / 대립가설 참 "
   ]
  },
  {
   "cell_type": "code",
   "execution_count": 37,
   "id": "c6c45424-f506-4b07-8495-cbd43104ee4d",
   "metadata": {},
   "outputs": [
    {
     "data": {
      "text/plain": [
       "RanksumsResult(statistic=6.460509698899809, pvalue=1.0435090462985479e-10)"
      ]
     },
     "execution_count": 37,
     "metadata": {},
     "output_type": "execute_result"
    }
   ],
   "source": [
    "# 4-2. (정규성을 따르지 않는 연속형 자료의) 집단 간 평균 비교 \n",
    "# 귀무가설 : VIP그룹과 Normal 그룹의 나이의 중앙값 차이는 없다. / 나이의 유의미한 차이가 없다. \n",
    "# 대립가설 : VIP그룹과 Normal 그룹의 나이의 중앙값 차이는 있다.\n",
    "stats.ranksums(df3.loc[cond1]['나이'], df3.loc[cond2]['나이'])  # P.value < 0.05 / 대립가설 참 \n",
    "# df3.pivot_table(index='고객등급',values='나이',aggfunc=['mean','median', 'max','min','std'])"
   ]
  },
  {
   "cell_type": "code",
   "execution_count": 42,
   "id": "dbdaf722-2b88-45d3-8445-4d9935447e92",
   "metadata": {},
   "outputs": [],
   "source": [
    "df_VIP = df3.loc[cond1]\n",
    "top_vip = df_VIP['유입경로'].value_counts().index[0]"
   ]
  },
  {
   "cell_type": "code",
   "execution_count": null,
   "id": "07ce014d-fc7a-459b-9e61-3f071968352c",
   "metadata": {},
   "outputs": [],
   "source": [
    "cond1 = df_VIP['유입경로']==top_vip\n",
    "df_VIP.loc[cond1][['Recency','Frequency','Monetary']].describe()"
   ]
  },
  {
   "cell_type": "markdown",
   "id": "48daf94f-b8a9-4103-9b2d-43a8123f20c7",
   "metadata": {},
   "source": [
    "5. 회원가입일과 최종접속일 데이터를 이용해 '접속기간'이라는 파생 변수를 생성하고, '접속기간'이 가장 오래된 100명의 고객 명단을 뽑아 result_vip_member.xlsx로 저장하시오."
   ]
  },
  {
   "cell_type": "code",
   "execution_count": 54,
   "id": "89d38b65-68ac-45ec-8eb1-df8b8b50cfd4",
   "metadata": {},
   "outputs": [],
   "source": [
    "def func1(row):\n",
    "    if pd.isnull(row):\n",
    "        return row\n",
    "    return row.split(' ')[0]\n",
    "\n",
    "df3['접속기간'] = pd.to_datetime(df3['최종접속일'].apply(func1)) - pd.to_datetime(df3['회원 가입일'])"
   ]
  },
  {
   "cell_type": "code",
   "execution_count": 58,
   "id": "927689b4-89a6-41b3-8983-cb8b5e498153",
   "metadata": {},
   "outputs": [],
   "source": [
    "df3.sort_values(by='접속기간', ascending =False).head(100).to_excel('result_vip_member.xlsx')"
   ]
  },
  {
   "cell_type": "markdown",
   "id": "d271f86c-f714-4876-8c80-acbddda5621b",
   "metadata": {},
   "source": [
    "# 예측적 데이터 분석 (PDA)\n",
    "\n",
    "- 전통 통계 : 회귀 분석 (추출된 데이터를 모두 이용해 회귀식 구성 -> 검증 : P.value)\n",
    "- 데이터 마이닝 : 기계 학습 (학습 데이터와 검증데이터를 분할 -> 검증 : Test Data)\n",
    "- 전통 통계에서 말하는 회귀 분석과 데이터 마이닝에서 말하는 기계학습 다른 매커니즘을 가진다.\n",
    "- 전통 통계에서 회귀 분석 절차\n",
    "  - 1. 연속형 자료간의 상관 분석을 실시 : 변수 간 산점도나 상관계수를 확인해 경향성을 파악\n",
    "  - 2. 목표변수와 설명변수를 선택하여 회귀 모델을 구성 (최소제곱법 [해석학적기법 - 대수적기법])\n",
    "  - 3. 회귀모델의 적합성을 확인\n",
    "       - 추정된 표준 오차를 확인 / 결정 계수 (설명력 / R²) 확인\n",
    "       - 모델 유형의 적합성을 나타내는 ANOVA 분석결과를 확인\n",
    "  - 4. 회귀 계수를 확인\n",
    "       - 회귀 계수의 유의성 (P.value)\n",
    "       - 다중공선성 (Multi-Collinearity) : (설명변수간의 상관관계가 높아 발생하는 문제 -> 상관관계가 높은 변수들 간의 통제할 수 없는 오차를 확인)\n",
    "  - 5. 오차(실제데이터 - 예측데이터)의 가정 확인\n",
    "       - 오차의 기본 가정 ( 오차의 정규성, 등분산성, 독립)\n",
    "  - 6. 모델 선정 "
   ]
  },
  {
   "cell_type": "code",
   "execution_count": null,
   "id": "5091b439-0628-46db-ab87-548e7fb61902",
   "metadata": {},
   "outputs": [],
   "source": [
    "# 12_Data.csv : 구강 내 체강세포 이미지 데이터 \n",
    "# 세포를 현미경으로 촬영해 세포가 갖는 기하적 특성을 통계량으로 정리\n",
    "df1 = pd.read_csv('12_Data.csv') # Diagnosis : M - 암세포 / B - 일반세포\n",
    "print(df1.shape)\n",
    "df1.head(2)"
   ]
  },
  {
   "cell_type": "code",
   "execution_count": null,
   "id": "2ad50ec1-b093-4d76-b33d-506459a1a3a1",
   "metadata": {},
   "outputs": [],
   "source": [
    "# Mean Concavity -> Y / Mean Compactness -> X \n",
    "px.scatter(df1, x='Mean Compactness', y='Mean Concavity', color='Diagnosis')"
   ]
  },
  {
   "cell_type": "code",
   "execution_count": 65,
   "id": "c8917614-3b58-45d1-af72-b277573da836",
   "metadata": {},
   "outputs": [],
   "source": [
    "import statsmodels.api as sm "
   ]
  },
  {
   "cell_type": "code",
   "execution_count": 66,
   "id": "f412e1c1-1504-4606-8879-10d76ce53a7b",
   "metadata": {},
   "outputs": [],
   "source": [
    "# X 값과 Y 값을 설정 \n",
    "X = df1['Mean Compactness']\n",
    "Y = df1['Mean Concavity']"
   ]
  },
  {
   "cell_type": "code",
   "execution_count": 68,
   "id": "11c256fa-47ad-4dc9-92d1-bed55d72e411",
   "metadata": {},
   "outputs": [],
   "source": [
    "# 절편를 계산하기 위한 상수항을 임의로 생성 \n",
    "X2 = sm.add_constant(X)"
   ]
  },
  {
   "cell_type": "code",
   "execution_count": 69,
   "id": "3ca46044-7a97-4ddf-bad5-32f0d941443a",
   "metadata": {},
   "outputs": [],
   "source": [
    "# 회귀 모델을 계산 \n",
    "model = sm.OLS(Y, X2)\n",
    "result = model.fit()"
   ]
  },
  {
   "cell_type": "code",
   "execution_count": 70,
   "id": "56197eb4-c70d-4f6a-973b-8efc77a6d005",
   "metadata": {},
   "outputs": [
    {
     "data": {
      "text/html": [
       "<table class=\"simpletable\">\n",
       "<caption>OLS Regression Results</caption>\n",
       "<tr>\n",
       "  <th>Dep. Variable:</th>     <td>Mean Concavity</td>  <th>  R-squared:         </th> <td>   0.780</td> \n",
       "</tr>\n",
       "<tr>\n",
       "  <th>Model:</th>                   <td>OLS</td>       <th>  Adj. R-squared:    </th> <td>   0.780</td> \n",
       "</tr>\n",
       "<tr>\n",
       "  <th>Method:</th>             <td>Least Squares</td>  <th>  F-statistic:       </th> <td>   2009.</td> \n",
       "</tr>\n",
       "<tr>\n",
       "  <th>Date:</th>             <td>Thu, 16 May 2024</td> <th>  Prob (F-statistic):</th> <td>1.62e-188</td>\n",
       "</tr>\n",
       "<tr>\n",
       "  <th>Time:</th>                 <td>10:43:24</td>     <th>  Log-Likelihood:    </th> <td>  1062.9</td> \n",
       "</tr>\n",
       "<tr>\n",
       "  <th>No. Observations:</th>      <td>   569</td>      <th>  AIC:               </th> <td>  -2122.</td> \n",
       "</tr>\n",
       "<tr>\n",
       "  <th>Df Residuals:</th>          <td>   567</td>      <th>  BIC:               </th> <td>  -2113.</td> \n",
       "</tr>\n",
       "<tr>\n",
       "  <th>Df Model:</th>              <td>     1</td>      <th>                     </th>     <td> </td>    \n",
       "</tr>\n",
       "<tr>\n",
       "  <th>Covariance Type:</th>      <td>nonrobust</td>    <th>                     </th>     <td> </td>    \n",
       "</tr>\n",
       "</table>\n",
       "<table class=\"simpletable\">\n",
       "<tr>\n",
       "          <td></td>            <th>coef</th>     <th>std err</th>      <th>t</th>      <th>P>|t|</th>  <th>[0.025</th>    <th>0.975]</th>  \n",
       "</tr>\n",
       "<tr>\n",
       "  <th>const</th>            <td>   -0.0503</td> <td>    0.003</td> <td>  -14.463</td> <td> 0.000</td> <td>   -0.057</td> <td>   -0.043</td>\n",
       "</tr>\n",
       "<tr>\n",
       "  <th>Mean Compactness</th> <td>    1.3331</td> <td>    0.030</td> <td>   44.823</td> <td> 0.000</td> <td>    1.275</td> <td>    1.391</td>\n",
       "</tr>\n",
       "</table>\n",
       "<table class=\"simpletable\">\n",
       "<tr>\n",
       "  <th>Omnibus:</th>       <td>143.185</td> <th>  Durbin-Watson:     </th> <td>   1.915</td> \n",
       "</tr>\n",
       "<tr>\n",
       "  <th>Prob(Omnibus):</th> <td> 0.000</td>  <th>  Jarque-Bera (JB):  </th> <td> 914.547</td> \n",
       "</tr>\n",
       "<tr>\n",
       "  <th>Skew:</th>          <td> 0.941</td>  <th>  Prob(JB):          </th> <td>2.56e-199</td>\n",
       "</tr>\n",
       "<tr>\n",
       "  <th>Kurtosis:</th>      <td> 8.919</td>  <th>  Cond. No.          </th> <td>    19.2</td> \n",
       "</tr>\n",
       "</table><br/><br/>Notes:<br/>[1] Standard Errors assume that the covariance matrix of the errors is correctly specified."
      ],
      "text/latex": [
       "\\begin{center}\n",
       "\\begin{tabular}{lclc}\n",
       "\\toprule\n",
       "\\textbf{Dep. Variable:}    &  Mean Concavity  & \\textbf{  R-squared:         } &     0.780   \\\\\n",
       "\\textbf{Model:}            &       OLS        & \\textbf{  Adj. R-squared:    } &     0.780   \\\\\n",
       "\\textbf{Method:}           &  Least Squares   & \\textbf{  F-statistic:       } &     2009.   \\\\\n",
       "\\textbf{Date:}             & Thu, 16 May 2024 & \\textbf{  Prob (F-statistic):} & 1.62e-188   \\\\\n",
       "\\textbf{Time:}             &     10:43:24     & \\textbf{  Log-Likelihood:    } &    1062.9   \\\\\n",
       "\\textbf{No. Observations:} &         569      & \\textbf{  AIC:               } &    -2122.   \\\\\n",
       "\\textbf{Df Residuals:}     &         567      & \\textbf{  BIC:               } &    -2113.   \\\\\n",
       "\\textbf{Df Model:}         &           1      & \\textbf{                     } &             \\\\\n",
       "\\textbf{Covariance Type:}  &    nonrobust     & \\textbf{                     } &             \\\\\n",
       "\\bottomrule\n",
       "\\end{tabular}\n",
       "\\begin{tabular}{lcccccc}\n",
       "                          & \\textbf{coef} & \\textbf{std err} & \\textbf{t} & \\textbf{P$> |$t$|$} & \\textbf{[0.025} & \\textbf{0.975]}  \\\\\n",
       "\\midrule\n",
       "\\textbf{const}            &      -0.0503  &        0.003     &   -14.463  &         0.000        &       -0.057    &       -0.043     \\\\\n",
       "\\textbf{Mean Compactness} &       1.3331  &        0.030     &    44.823  &         0.000        &        1.275    &        1.391     \\\\\n",
       "\\bottomrule\n",
       "\\end{tabular}\n",
       "\\begin{tabular}{lclc}\n",
       "\\textbf{Omnibus:}       & 143.185 & \\textbf{  Durbin-Watson:     } &     1.915  \\\\\n",
       "\\textbf{Prob(Omnibus):} &   0.000 & \\textbf{  Jarque-Bera (JB):  } &   914.547  \\\\\n",
       "\\textbf{Skew:}          &   0.941 & \\textbf{  Prob(JB):          } & 2.56e-199  \\\\\n",
       "\\textbf{Kurtosis:}      &   8.919 & \\textbf{  Cond. No.          } &      19.2  \\\\\n",
       "\\bottomrule\n",
       "\\end{tabular}\n",
       "%\\caption{OLS Regression Results}\n",
       "\\end{center}\n",
       "\n",
       "Notes: \\newline\n",
       " [1] Standard Errors assume that the covariance matrix of the errors is correctly specified."
      ],
      "text/plain": [
       "<class 'statsmodels.iolib.summary.Summary'>\n",
       "\"\"\"\n",
       "                            OLS Regression Results                            \n",
       "==============================================================================\n",
       "Dep. Variable:         Mean Concavity   R-squared:                       0.780\n",
       "Model:                            OLS   Adj. R-squared:                  0.780\n",
       "Method:                 Least Squares   F-statistic:                     2009.\n",
       "Date:                Thu, 16 May 2024   Prob (F-statistic):          1.62e-188\n",
       "Time:                        10:43:24   Log-Likelihood:                 1062.9\n",
       "No. Observations:                 569   AIC:                            -2122.\n",
       "Df Residuals:                     567   BIC:                            -2113.\n",
       "Df Model:                           1                                         \n",
       "Covariance Type:            nonrobust                                         \n",
       "====================================================================================\n",
       "                       coef    std err          t      P>|t|      [0.025      0.975]\n",
       "------------------------------------------------------------------------------------\n",
       "const               -0.0503      0.003    -14.463      0.000      -0.057      -0.043\n",
       "Mean Compactness     1.3331      0.030     44.823      0.000       1.275       1.391\n",
       "==============================================================================\n",
       "Omnibus:                      143.185   Durbin-Watson:                   1.915\n",
       "Prob(Omnibus):                  0.000   Jarque-Bera (JB):              914.547\n",
       "Skew:                           0.941   Prob(JB):                    2.56e-199\n",
       "Kurtosis:                       8.919   Cond. No.                         19.2\n",
       "==============================================================================\n",
       "\n",
       "Notes:\n",
       "[1] Standard Errors assume that the covariance matrix of the errors is correctly specified.\n",
       "\"\"\""
      ]
     },
     "execution_count": 70,
     "metadata": {},
     "output_type": "execute_result"
    }
   ],
   "source": [
    "# 모델 해석 \n",
    "result.summary()"
   ]
  },
  {
   "cell_type": "markdown",
   "id": "6bd9599f-721e-4792-8e36-23423d88900f",
   "metadata": {},
   "source": [
    "- R²(R Square, 결정계수) : 0 ~ 1 범위 \n",
    "  - R2는 데이터의 총 변동 중에서 회귀식에 의해 설명되는 변동의 비율\n",
    "  - 회귀식이 데이터를 얼마나 잘 설명하고 있는가 / 회귀식이 얼마나 데이터와 가까운지\n",
    "  - 회귀 모델에 입력변수(X)의 개수가 많을 수록 자연스럽게 증가\n",
    "    \n",
    "- adj R² (Adjusted R Square, 수정된 결정 계수\n",
    "  - 다중회귀분석(X가 여럿있는 회귀식을 구성)에서 데이터 수가 많아지면 결정계수 값이 올라가는 현상을 방지하기 위해 계산\n",
    "\n",
    "- F-statistic (F-검정 통계량) : 해당 회귀식이 기울기가 존재하고, 회귀선이 특정 경향성을 따르는지에 대한 가설검정 결과 통계량\n",
    "- Prob (F-statistic): 회귀식의 기울기가 유의미한지 검정한 결과 Pvalue\n",
    "  - 귀무가설 : 기울기가 없고, 점들이 흩어져 있다.\n",
    "  - 대립가설 : 기울기가 있고, 점들이 특정 경향을 갖고 있는 상태\n",
    "  - Prob (F-statistic) < 0.05 / 대립가설 / 회귀식이 유의미하다\n",
    "\n",
    "- **여러개의 모델끼리 비교할 때 사용**\n",
    "- Log Likelihood : 통계 모델의 적합도를 나타내는 척도 (AIC와 BIC 계산)\n",
    "- AIC (이케아케 정보 기준) : 모델의 적합도와 복잡성을 동시에 고려한 통계량 (Log Likelihood으로 부터 계산) / 낮으면 낮을수록 좋음\n",
    "- BIC (베이지안 정보기준) : 모델의 적합도와 복잡성을 동시에 고려한 통계량 / 낮으면 낮을수록 좋음 (0으로 갈수록)\n",
    "\n",
    "- Covariance Type :  공분산 행렬에 대한 추측\n",
    "  - non-robust : 특이값과 이상치에 대해 민감하게 반응하는 모델 (전통적인 최소제곱법을 사용하여 공분산을 추정한다는 의미)\n",
    "  - robust : 특이값과 이상치에 대해 민감하게 반응하지 않는 모델\n",
    "\n",
    "- coef : 회귀 계수\n",
    "  - Y = 1.3331 x Mean Compactness - 0.0503\n",
    "    \n",
    "- P >|t| : 해당 회귀 계수값이 유의미한지에 대한 P.value\n",
    "  - 귀무가설 : 회귀 계수는 0이다. (해당 독립변수는 종속변수에 영향을 미치지 못한다. / 해당 회귀 계수가 회귀식에 유의하지 않음)\n",
    "  - 대립가설 : 회귀 계수는 0이 아니다. (해당 독립변수는 종속변수에 영향을 주고 있다. / 해당 회귀 계수가 회귀식에 유의하다)\n",
    "- [0.025 - 0.975] : 회귀 계수의 신뢰구간\n",
    "  - 신뢰구간 : 현재 표본으로 모집단을 추정했을때, 모집단에 평균값이 포함될 수 있는 구간\n",
    "\n",
    "- Omnibus(옴니버스 검정) : 회귀 모델의 전반적인 유효성을 검정\n",
    "  - 모델의 적합성에 대한 종합적인 통계량을 F 통계량으로 확인\n",
    "  - 옴니버스 검정이 유의하다 : 적어도 하나의 X가 Y에 유의미한 영향을 주고 있다는 의미 ( Prob(Omnibus) < 0.05 )\n",
    "\n",
    "- Durbin-Watson (더빈왓슨) 통계량 : 회귀모델의 오차항 간의 자기상관성을 판별 통계량 / 오차가 한쪽으로 편향되어 있는지 아닌지를 판별하는 수치\n",
    "  - 0~4사이의 값을 가지며, 2로 가면 갈 수록 오차의 편향이 없는 상태\n",
    "  - 다른 여러 모델과 비교했을 때, 가장 2에 가까운 모델을 찾는 형태\n",
    "\n",
    "- Jarque-Bera (JB 자크베라 검정): 회귀 모델의 오차항이 정규분포를 따르는지 따르지 않는지 검정\n",
    "  - 귀무가설 : 오차 항의 분포는 정규분포를 따른다 (회귀식이 대부분의 데이터를 잘 설명하고 있다.) \n",
    "  - 대립가설 : 오차 항의 분포는 정규분포를 따르지 않는다\n",
    "  - P.value > 0.05 (귀무가설 참) : 오차 항의 분포는 정규분포를 따른다.\n",
    "    - 회귀식이 데이터에 대해 안정적인 분포를 취하고 있다. "
   ]
  },
  {
   "cell_type": "markdown",
   "id": "7e5dc894-641d-4547-b421-dbb41328c762",
   "metadata": {},
   "source": [
    "# 기계학습에서 머신러닝 \n",
    "\n",
    "- **지도 학습 절차**\n",
    "  - 1. 데이터 핸들링 (데이터 불러오기 , 병합 , 재구조화, 파생변수 생성, 이상치 제거)\n",
    "       - 데이터 구조적 관점에서 학습을 수행할 수 있는 형태로 변환하는 과정\n",
    "  - 2. 학습의 목표변수 Y와 설명변수 X를 설정 (변수로 선언)\n",
    "  - 3. 학습 데이터(Train Set)와 검증 데이터(Test Set)를 분할\n",
    "       - Validation Set 교차검증 과정에서 사용되는 데이터 셋 / 학습에 활용 됌\n",
    "       - Test Set 학습에 절대 참여하지 않음\n",
    "  - 4. 학습 수행\n",
    "       - 특성공학(결측값 처리, 스케일링, 교차검증...)  + 학습 동시 수행\n",
    "  - 5. 모델 평가\n",
    "       - 학습 능력 평가 : 알고리즘이 학습 데이터로 적절한 수식을 잘 찾았는가?\n",
    "       - 일반화 능력 평가 : 학습에 참여하지 않은 (Test Set)데이터로 새로 들어올 데이터에 대해 얼마나 잘 작동하는가?\n",
    "  - 6. 새로운 데이터 적용  "
   ]
  },
  {
   "cell_type": "code",
   "execution_count": 71,
   "id": "3d555122-b6c3-486f-a397-f771f36a14cc",
   "metadata": {},
   "outputs": [],
   "source": [
    "# 이탈 고객 분류 모델을 구성 \n",
    "df1 = pd.read_csv('01_Data.csv')"
   ]
  },
  {
   "cell_type": "code",
   "execution_count": 73,
   "id": "f9fa71a7-9fa5-4b94-82bb-75b4ef144a67",
   "metadata": {},
   "outputs": [
    {
     "data": {
      "text/plain": [
       "array(['계약확정', '기간만료', '해약확정', '해약진행중'], dtype=object)"
      ]
     },
     "execution_count": 73,
     "metadata": {},
     "output_type": "execute_result"
    }
   ],
   "source": [
    "df1['State'].unique()"
   ]
  },
  {
   "cell_type": "code",
   "execution_count": 75,
   "id": "43f1f66a-5926-4de7-a7ae-f2b60a146710",
   "metadata": {},
   "outputs": [
    {
     "data": {
      "text/plain": [
       "해약여부\n",
       "정상    50665\n",
       "해약      636\n",
       "Name: count, dtype: int64"
      ]
     },
     "execution_count": 75,
     "metadata": {},
     "output_type": "execute_result"
    }
   ],
   "source": [
    "# 1. 데이터 핸들링 \n",
    "df1['해약여부'] = df1['State'].replace({'계약확정':'정상', '기간만료':'정상', '해약확정':'해약', '해약진행중':'해약'})\n",
    "df1['해약여부'].value_counts()"
   ]
  },
  {
   "cell_type": "code",
   "execution_count": 76,
   "id": "644a770a-b9b8-4433-a347-5b8be9ba1257",
   "metadata": {},
   "outputs": [],
   "source": [
    "df2 = df1.dropna() # 결측값 제거 "
   ]
  },
  {
   "cell_type": "code",
   "execution_count": 78,
   "id": "2c9dc999-b904-4320-a0ca-e1d41f847d46",
   "metadata": {},
   "outputs": [],
   "source": [
    "# 2. X와 Y를 선정 \n",
    "X = df2[['Age', 'Term', 'Amount_Month', 'Credit_Rank']]\n",
    "Y = df2['해약여부']"
   ]
  },
  {
   "cell_type": "code",
   "execution_count": 79,
   "id": "db28abaf-ea1b-42b9-898d-c350a2fb7eb3",
   "metadata": {},
   "outputs": [],
   "source": [
    "# 3. 학습 데이터와 검증 데이터를 분할\n",
    "# scipy (Science Python) : 응용 통계 분석 및 처리 \n",
    "# scikit Learn (Science Python Toolkit Learning) : 정형데이터 데이터마이닝 기법  \n",
    "from sklearn.model_selection import train_test_split "
   ]
  },
  {
   "cell_type": "code",
   "execution_count": 82,
   "id": "1b94ebbc-ae0e-4d45-b8ef-2fe8d8cc5f33",
   "metadata": {},
   "outputs": [
    {
     "name": "stdout",
     "output_type": "stream",
     "text": [
      "(30485, 4) (10162, 4)\n"
     ]
    }
   ],
   "source": [
    "X_train, X_test, Y_train, Y_test = train_test_split(X,Y) # 학습 데이터 검증 데이터 분할 / 75 : 25 \n",
    "print(X_train.shape , X_test.shape)"
   ]
  },
  {
   "cell_type": "code",
   "execution_count": 83,
   "id": "2710d117-3658-4f84-806f-d7c1d096d60e",
   "metadata": {},
   "outputs": [],
   "source": [
    "# 4. 학습 실시 \n",
    "from sklearn.tree import DecisionTreeClassifier # 의사결정나무 모델 (선생님)"
   ]
  },
  {
   "cell_type": "code",
   "execution_count": 84,
   "id": "a4e97b5f-5b55-4e08-be3f-4ea5f9fab433",
   "metadata": {},
   "outputs": [
    {
     "data": {
      "text/html": [
       "<style>#sk-container-id-1 {color: black;background-color: white;}#sk-container-id-1 pre{padding: 0;}#sk-container-id-1 div.sk-toggleable {background-color: white;}#sk-container-id-1 label.sk-toggleable__label {cursor: pointer;display: block;width: 100%;margin-bottom: 0;padding: 0.3em;box-sizing: border-box;text-align: center;}#sk-container-id-1 label.sk-toggleable__label-arrow:before {content: \"▸\";float: left;margin-right: 0.25em;color: #696969;}#sk-container-id-1 label.sk-toggleable__label-arrow:hover:before {color: black;}#sk-container-id-1 div.sk-estimator:hover label.sk-toggleable__label-arrow:before {color: black;}#sk-container-id-1 div.sk-toggleable__content {max-height: 0;max-width: 0;overflow: hidden;text-align: left;background-color: #f0f8ff;}#sk-container-id-1 div.sk-toggleable__content pre {margin: 0.2em;color: black;border-radius: 0.25em;background-color: #f0f8ff;}#sk-container-id-1 input.sk-toggleable__control:checked~div.sk-toggleable__content {max-height: 200px;max-width: 100%;overflow: auto;}#sk-container-id-1 input.sk-toggleable__control:checked~label.sk-toggleable__label-arrow:before {content: \"▾\";}#sk-container-id-1 div.sk-estimator input.sk-toggleable__control:checked~label.sk-toggleable__label {background-color: #d4ebff;}#sk-container-id-1 div.sk-label input.sk-toggleable__control:checked~label.sk-toggleable__label {background-color: #d4ebff;}#sk-container-id-1 input.sk-hidden--visually {border: 0;clip: rect(1px 1px 1px 1px);clip: rect(1px, 1px, 1px, 1px);height: 1px;margin: -1px;overflow: hidden;padding: 0;position: absolute;width: 1px;}#sk-container-id-1 div.sk-estimator {font-family: monospace;background-color: #f0f8ff;border: 1px dotted black;border-radius: 0.25em;box-sizing: border-box;margin-bottom: 0.5em;}#sk-container-id-1 div.sk-estimator:hover {background-color: #d4ebff;}#sk-container-id-1 div.sk-parallel-item::after {content: \"\";width: 100%;border-bottom: 1px solid gray;flex-grow: 1;}#sk-container-id-1 div.sk-label:hover label.sk-toggleable__label {background-color: #d4ebff;}#sk-container-id-1 div.sk-serial::before {content: \"\";position: absolute;border-left: 1px solid gray;box-sizing: border-box;top: 0;bottom: 0;left: 50%;z-index: 0;}#sk-container-id-1 div.sk-serial {display: flex;flex-direction: column;align-items: center;background-color: white;padding-right: 0.2em;padding-left: 0.2em;position: relative;}#sk-container-id-1 div.sk-item {position: relative;z-index: 1;}#sk-container-id-1 div.sk-parallel {display: flex;align-items: stretch;justify-content: center;background-color: white;position: relative;}#sk-container-id-1 div.sk-item::before, #sk-container-id-1 div.sk-parallel-item::before {content: \"\";position: absolute;border-left: 1px solid gray;box-sizing: border-box;top: 0;bottom: 0;left: 50%;z-index: -1;}#sk-container-id-1 div.sk-parallel-item {display: flex;flex-direction: column;z-index: 1;position: relative;background-color: white;}#sk-container-id-1 div.sk-parallel-item:first-child::after {align-self: flex-end;width: 50%;}#sk-container-id-1 div.sk-parallel-item:last-child::after {align-self: flex-start;width: 50%;}#sk-container-id-1 div.sk-parallel-item:only-child::after {width: 0;}#sk-container-id-1 div.sk-dashed-wrapped {border: 1px dashed gray;margin: 0 0.4em 0.5em 0.4em;box-sizing: border-box;padding-bottom: 0.4em;background-color: white;}#sk-container-id-1 div.sk-label label {font-family: monospace;font-weight: bold;display: inline-block;line-height: 1.2em;}#sk-container-id-1 div.sk-label-container {text-align: center;}#sk-container-id-1 div.sk-container {/* jupyter's `normalize.less` sets `[hidden] { display: none; }` but bootstrap.min.css set `[hidden] { display: none !important; }` so we also need the `!important` here to be able to override the default hidden behavior on the sphinx rendered scikit-learn.org. See: https://github.com/scikit-learn/scikit-learn/issues/21755 */display: inline-block !important;position: relative;}#sk-container-id-1 div.sk-text-repr-fallback {display: none;}</style><div id=\"sk-container-id-1\" class=\"sk-top-container\"><div class=\"sk-text-repr-fallback\"><pre>DecisionTreeClassifier()</pre><b>In a Jupyter environment, please rerun this cell to show the HTML representation or trust the notebook. <br />On GitHub, the HTML representation is unable to render, please try loading this page with nbviewer.org.</b></div><div class=\"sk-container\" hidden><div class=\"sk-item\"><div class=\"sk-estimator sk-toggleable\"><input class=\"sk-toggleable__control sk-hidden--visually\" id=\"sk-estimator-id-1\" type=\"checkbox\" checked><label for=\"sk-estimator-id-1\" class=\"sk-toggleable__label sk-toggleable__label-arrow\">DecisionTreeClassifier</label><div class=\"sk-toggleable__content\"><pre>DecisionTreeClassifier()</pre></div></div></div></div></div>"
      ],
      "text/plain": [
       "DecisionTreeClassifier()"
      ]
     },
     "execution_count": 84,
     "metadata": {},
     "output_type": "execute_result"
    }
   ],
   "source": [
    "model = DecisionTreeClassifier() # 학습 알고리즘을 변수로 선언 \n",
    "model.fit(X_train, Y_train) # fit()  : 학습 데이터에 대한 학습 실시 (수식 도출 실시) "
   ]
  },
  {
   "cell_type": "code",
   "execution_count": 85,
   "id": "182c15be-c377-4171-93fd-de61c8ffdc3c",
   "metadata": {},
   "outputs": [],
   "source": [
    "# 5. 평가 \n",
    "from sklearn.metrics import accuracy_score"
   ]
  },
  {
   "cell_type": "code",
   "execution_count": 86,
   "id": "426217ff-834c-405e-af5a-9d401b441374",
   "metadata": {},
   "outputs": [],
   "source": [
    "# 예측 값을 계산 하여 평가 \n",
    "Y_train_pred = model.predict(X_train) # predict() : 예측을 수행하는 함수 \n",
    "Y_test_pred = model.predict(X_test)"
   ]
  },
  {
   "cell_type": "code",
   "execution_count": 87,
   "id": "04c4bd6d-1083-4c15-9b0a-3116f3c68eb6",
   "metadata": {},
   "outputs": [
    {
     "data": {
      "text/plain": [
       "0.9890765950467443"
      ]
     },
     "execution_count": 87,
     "metadata": {},
     "output_type": "execute_result"
    }
   ],
   "source": [
    "# 실제값과 예측값을 비교하여 평가 \n",
    "accuracy_score(Y_train, Y_train_pred) # 학습 능력 "
   ]
  },
  {
   "cell_type": "code",
   "execution_count": 88,
   "id": "fdd97457-d3ee-402e-a3cb-b7678e324fd5",
   "metadata": {},
   "outputs": [
    {
     "data": {
      "text/plain": [
       "0.9852391261562684"
      ]
     },
     "execution_count": 88,
     "metadata": {},
     "output_type": "execute_result"
    }
   ],
   "source": [
    "accuracy_score(Y_test, Y_test_pred) # 일반화 능력 "
   ]
  },
  {
   "cell_type": "code",
   "execution_count": null,
   "id": "5e62e589-eed4-44b8-b0a1-d815087af908",
   "metadata": {},
   "outputs": [],
   "source": [
    "# 6. 새로운 실제 데이터 입력 \n",
    "x1 = input('고객 연령을 입력 하시오 : ')\n",
    "x2 = input('계약 기간(월) 입력 하시오 : ')\n",
    "x3 = input('계약 금액 (월랜탈 비용) 입력 하시오 : ')\n",
    "x4 = input('신용등급을 입력 하시오 : ')\n",
    "input_data = pd.DataFrame(data= [[x1,x2,x3,x4]], columns=['Age', 'Term', 'Amount_Month','Credit_Rank'])\n",
    "input_data"
   ]
  },
  {
   "cell_type": "code",
   "execution_count": 94,
   "id": "6d918df1-b97a-42e8-a90e-9156e33040fc",
   "metadata": {},
   "outputs": [
    {
     "data": {
      "text/plain": [
       "array(['정상'], dtype=object)"
      ]
     },
     "execution_count": 94,
     "metadata": {},
     "output_type": "execute_result"
    }
   ],
   "source": [
    "model.predict(input_data)"
   ]
  },
  {
   "cell_type": "markdown",
   "id": "28ce67ef-b4a5-4eae-91b8-9165c45bf60f",
   "metadata": {},
   "source": [
    "# 학습 모델 평가 \n",
    "\n",
    "## 분류 모델 평가"
   ]
  },
  {
   "cell_type": "markdown",
   "id": "0cfa6cc6-1d5c-45a0-825e-5f83e24733b1",
   "metadata": {},
   "source": [
    "- **정확도 (Accuracy)** = (예측 결과가 동일한 데이터 수)/(전체 예측 데이터 수)\n",
    "- 클래스가 균일(예1 - 정상 /해약의 비율이 큰 차이가 없는 경우)에 사용하며, 모든 클래스가 동등한 중요도를 가질때\n",
    "- 이진 분류에서 불균형 데이터(Imbalanced Data)가 오는경우 모델의 성능이 왜곡되어 계산\n",
    "- **오차행렬 (Confusion Matrix)**\n",
    "\n",
    "![img1](https://www.researchgate.net/profile/Juan_Banda/publication/256418526/figure/fig1/AS:297921313558528@1448041384565/Confusion-matrix-example.png)"
   ]
  },
  {
   "cell_type": "markdown",
   "id": "500151ea-c013-4a05-82bb-154cc71c8b6b",
   "metadata": {},
   "source": [
    "- **정밀도 (Precision)** : True Positive / (True Positive + False Positive)\n",
    "  - 해약을 기준으로 Precision : (해약을 해약으로 맞춘 수) / (모델이 해약으로 예측한 데이터 수 / 잘 예측한 값 + 잘못 예측한 값)\n",
    "  - 문제가 없는 데이터를 문제가 있다고 잘못 판단할 때 발생하는 이슈를 나타내는 지표\n",
    "  -  False Positive가 낮아지는 것에 초점을 맞춘다 / 스팸 메시지 분류기\n",
    "- **재현율 (Recall)** : True Positive / (True Positive + False Negative)\n",
    "  - 해약을 기준으로 Recall : (해약을 해약으로 맞춘 수) / (실제 해약인 데이터 / 잘 예측값 + 해약인데 정상으로 잘못 예측된 값)\n",
    "  - 문제가 있는데 문제가 없다고 잘못 판단 할 때 이슈가 발생하는 경우\n",
    "  - 민감도(Sensitivity) or TPR(True Positive Rate)\n",
    "- 두 수치가 좋을수록 좋은 모델이지만, 이진 분류에서는 Recall - Precision Trade off 관계가 있음\n",
    "- **F1-Score** :정밀도와 재현율을 백분위로 계산한 지표\n",
    "  - 2x(정밀도 x 재현율) / (정밀도 + 재현율) "
   ]
  },
  {
   "cell_type": "code",
   "execution_count": 95,
   "id": "25397c0d-476d-41f2-aa8b-cd63db5cc18b",
   "metadata": {},
   "outputs": [],
   "source": [
    "from sklearn.metrics import classification_report"
   ]
  },
  {
   "cell_type": "code",
   "execution_count": 96,
   "id": "048521ec-5426-43d4-8d97-dd88515fe539",
   "metadata": {},
   "outputs": [
    {
     "name": "stdout",
     "output_type": "stream",
     "text": [
      "              precision    recall  f1-score   support\n",
      "\n",
      "          정상       0.99      1.00      0.99     30106\n",
      "          해약       0.93      0.13      0.23       379\n",
      "\n",
      "    accuracy                           0.99     30485\n",
      "   macro avg       0.96      0.57      0.61     30485\n",
      "weighted avg       0.99      0.99      0.99     30485\n",
      "\n"
     ]
    }
   ],
   "source": [
    "print(classification_report(Y_train, Y_train_pred)) "
   ]
  },
  {
   "cell_type": "code",
   "execution_count": 97,
   "id": "92fdf9b9-c660-42dd-8e88-baf846d56ff4",
   "metadata": {},
   "outputs": [
    {
     "name": "stdout",
     "output_type": "stream",
     "text": [
      "              precision    recall  f1-score   support\n",
      "\n",
      "          정상       0.99      1.00      0.99     10031\n",
      "          해약       0.00      0.00      0.00       131\n",
      "\n",
      "    accuracy                           0.99     10162\n",
      "   macro avg       0.49      0.50      0.50     10162\n",
      "weighted avg       0.97      0.99      0.98     10162\n",
      "\n"
     ]
    }
   ],
   "source": [
    "print(classification_report(Y_test, Y_test_pred)) "
   ]
  },
  {
   "cell_type": "markdown",
   "id": "672025b4-fe30-41dc-926e-5df44c9a5c0f",
   "metadata": {},
   "source": [
    "# Recall - Precision Trade off \n",
    "\n",
    "- Recall-Precision Trade off : 이진 분류에 있어, (불균형 데이터를 분류할 때) 한쪽 지표가 올라가면, 다른 한쪽은 떨어지는 현상\n",
    "- 정밀도나 재현률을 특별히 강조해야하는 경우, Recall - Precision Trade off 를 활용하여, 정밀도 또는 재현율을 올릴 수 있다.\n",
    "- Threshold (임계값) : 분류를 함에 있어, 분류확률을 기준으로 클래스를 분류 "
   ]
  },
  {
   "cell_type": "code",
   "execution_count": null,
   "id": "6b80647b-f731-486d-a14f-9f2765b3cb86",
   "metadata": {},
   "outputs": [],
   "source": [
    "pd.DataFrame(model.predict_proba(X_train), columns=['정상확률', '해약확률']).head(10)"
   ]
  },
  {
   "cell_type": "code",
   "execution_count": 103,
   "id": "3db12ea1-82c4-4e68-be94-a2b258f15836",
   "metadata": {},
   "outputs": [],
   "source": [
    "# 위의 분류 결정 임계값를 다르게 주어, 해약할 확률이 10%만 넘어도 \"해약\"으로 분류 \n",
    "from sklearn.preprocessing import Binarizer"
   ]
  },
  {
   "cell_type": "code",
   "execution_count": 107,
   "id": "74c43388-3d53-4b36-a90c-8f24faff508c",
   "metadata": {},
   "outputs": [],
   "source": [
    "pred_pro = model.predict_proba(X_train)[:, 1].reshape(-1,1) # 해약으로 분류 할 확률 가져와 한줄의 시리즈 형태로 변환 "
   ]
  },
  {
   "cell_type": "code",
   "execution_count": 109,
   "id": "3cc83cfb-4ddc-4af6-b4d6-587ecc6cdeab",
   "metadata": {},
   "outputs": [],
   "source": [
    "# 해약으로 분류될 확률값을 가져와, 10%를 넘어가는 확률에 대해 -> 해약 / 10% 미만은 정상 \n",
    "Y_train_proba = Binarizer(threshold=0.10).fit_transform(pred_pro)"
   ]
  },
  {
   "cell_type": "code",
   "execution_count": 112,
   "id": "c33a993b-5039-428f-94e2-289e24ecb41b",
   "metadata": {},
   "outputs": [
    {
     "name": "stdout",
     "output_type": "stream",
     "text": [
      "              precision    recall  f1-score   support\n",
      "\n",
      "           0       0.99      0.98      0.99     30106\n",
      "           1       0.26      0.55      0.36       379\n",
      "\n",
      "    accuracy                           0.98     30485\n",
      "   macro avg       0.63      0.77      0.67     30485\n",
      "weighted avg       0.99      0.98      0.98     30485\n",
      "\n"
     ]
    }
   ],
   "source": [
    "print(classification_report(Y_train.replace({'정상':0, '해약':1}),\n",
    "                            Y_train_proba))"
   ]
  }
 ],
 "metadata": {
  "kernelspec": {
   "display_name": "Python 3 (ipykernel)",
   "language": "python",
   "name": "python3"
  },
  "language_info": {
   "codemirror_mode": {
    "name": "ipython",
    "version": 3
   },
   "file_extension": ".py",
   "mimetype": "text/x-python",
   "name": "python",
   "nbconvert_exporter": "python",
   "pygments_lexer": "ipython3",
   "version": "3.9.13"
  }
 },
 "nbformat": 4,
 "nbformat_minor": 5
}
