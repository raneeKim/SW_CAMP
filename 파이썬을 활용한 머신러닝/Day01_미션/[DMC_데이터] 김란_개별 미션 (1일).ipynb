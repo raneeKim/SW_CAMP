{
 "cells": [
  {
   "cell_type": "code",
   "execution_count": 2,
   "metadata": {},
   "outputs": [
    {
     "data": {
      "text/html": [
       "<div>\n",
       "<style scoped>\n",
       "    .dataframe tbody tr th:only-of-type {\n",
       "        vertical-align: middle;\n",
       "    }\n",
       "\n",
       "    .dataframe tbody tr th {\n",
       "        vertical-align: top;\n",
       "    }\n",
       "\n",
       "    .dataframe thead th {\n",
       "        text-align: right;\n",
       "    }\n",
       "</style>\n",
       "<table border=\"1\" class=\"dataframe\">\n",
       "  <thead>\n",
       "    <tr style=\"text-align: right;\">\n",
       "      <th></th>\n",
       "      <th>Index</th>\n",
       "      <th>Member_ID</th>\n",
       "      <th>Sales_Type</th>\n",
       "      <th>Contract_Type</th>\n",
       "      <th>Channel</th>\n",
       "      <th>Datetime</th>\n",
       "      <th>Term</th>\n",
       "      <th>Payment_Type</th>\n",
       "      <th>Product_Type</th>\n",
       "      <th>Amount_Month</th>\n",
       "      <th>Customer_Type</th>\n",
       "      <th>Age</th>\n",
       "      <th>Address1</th>\n",
       "      <th>Address2</th>\n",
       "      <th>State</th>\n",
       "      <th>Overdue_count</th>\n",
       "      <th>Overdue_Type</th>\n",
       "      <th>Gender</th>\n",
       "      <th>Credit_Rank</th>\n",
       "      <th>Bank</th>\n",
       "    </tr>\n",
       "  </thead>\n",
       "  <tbody>\n",
       "    <tr>\n",
       "      <th>0</th>\n",
       "      <td>1</td>\n",
       "      <td>66758234</td>\n",
       "      <td>렌탈</td>\n",
       "      <td>일반계약</td>\n",
       "      <td>영업방판</td>\n",
       "      <td>2022-05-05</td>\n",
       "      <td>60</td>\n",
       "      <td>CMS</td>\n",
       "      <td>DES-1</td>\n",
       "      <td>96900</td>\n",
       "      <td>개인</td>\n",
       "      <td>42.0</td>\n",
       "      <td>경기도</td>\n",
       "      <td>경기도</td>\n",
       "      <td>계약확정</td>\n",
       "      <td>0</td>\n",
       "      <td>없음</td>\n",
       "      <td>여자</td>\n",
       "      <td>9.0</td>\n",
       "      <td>새마을금고</td>\n",
       "    </tr>\n",
       "    <tr>\n",
       "      <th>1</th>\n",
       "      <td>2</td>\n",
       "      <td>66755948</td>\n",
       "      <td>렌탈</td>\n",
       "      <td>교체계약</td>\n",
       "      <td>영업방판</td>\n",
       "      <td>2023-02-19</td>\n",
       "      <td>60</td>\n",
       "      <td>카드이체</td>\n",
       "      <td>DES-1</td>\n",
       "      <td>102900</td>\n",
       "      <td>개인</td>\n",
       "      <td>39.0</td>\n",
       "      <td>경기도</td>\n",
       "      <td>경기도</td>\n",
       "      <td>계약확정</td>\n",
       "      <td>0</td>\n",
       "      <td>없음</td>\n",
       "      <td>남자</td>\n",
       "      <td>2.0</td>\n",
       "      <td>현대카드</td>\n",
       "    </tr>\n",
       "    <tr>\n",
       "      <th>2</th>\n",
       "      <td>3</td>\n",
       "      <td>66756657</td>\n",
       "      <td>렌탈</td>\n",
       "      <td>일반계약</td>\n",
       "      <td>홈쇼핑/방송</td>\n",
       "      <td>2022-02-27</td>\n",
       "      <td>60</td>\n",
       "      <td>CMS</td>\n",
       "      <td>DES-1</td>\n",
       "      <td>96900</td>\n",
       "      <td>개인</td>\n",
       "      <td>48.0</td>\n",
       "      <td>경기도</td>\n",
       "      <td>경기도</td>\n",
       "      <td>계약확정</td>\n",
       "      <td>0</td>\n",
       "      <td>없음</td>\n",
       "      <td>여자</td>\n",
       "      <td>8.0</td>\n",
       "      <td>우리은행</td>\n",
       "    </tr>\n",
       "    <tr>\n",
       "      <th>3</th>\n",
       "      <td>4</td>\n",
       "      <td>66423450</td>\n",
       "      <td>멤버십</td>\n",
       "      <td>멤버십3유형</td>\n",
       "      <td>재계약</td>\n",
       "      <td>2022-05-12</td>\n",
       "      <td>12</td>\n",
       "      <td>CMS</td>\n",
       "      <td>DES-1</td>\n",
       "      <td>66900</td>\n",
       "      <td>개인</td>\n",
       "      <td>39.0</td>\n",
       "      <td>경기도</td>\n",
       "      <td>경기도</td>\n",
       "      <td>계약확정</td>\n",
       "      <td>0</td>\n",
       "      <td>없음</td>\n",
       "      <td>남자</td>\n",
       "      <td>5.0</td>\n",
       "      <td>농협회원조합</td>\n",
       "    </tr>\n",
       "    <tr>\n",
       "      <th>4</th>\n",
       "      <td>5</td>\n",
       "      <td>66423204</td>\n",
       "      <td>멤버십</td>\n",
       "      <td>멤버십3유형</td>\n",
       "      <td>재계약</td>\n",
       "      <td>2022-05-09</td>\n",
       "      <td>12</td>\n",
       "      <td>CMS</td>\n",
       "      <td>DES-1</td>\n",
       "      <td>66900</td>\n",
       "      <td>개인</td>\n",
       "      <td>60.0</td>\n",
       "      <td>경기도</td>\n",
       "      <td>경기도</td>\n",
       "      <td>기간만료</td>\n",
       "      <td>12</td>\n",
       "      <td>있음</td>\n",
       "      <td>남자</td>\n",
       "      <td>8.0</td>\n",
       "      <td>농협회원조합</td>\n",
       "    </tr>\n",
       "    <tr>\n",
       "      <th>...</th>\n",
       "      <td>...</td>\n",
       "      <td>...</td>\n",
       "      <td>...</td>\n",
       "      <td>...</td>\n",
       "      <td>...</td>\n",
       "      <td>...</td>\n",
       "      <td>...</td>\n",
       "      <td>...</td>\n",
       "      <td>...</td>\n",
       "      <td>...</td>\n",
       "      <td>...</td>\n",
       "      <td>...</td>\n",
       "      <td>...</td>\n",
       "      <td>...</td>\n",
       "      <td>...</td>\n",
       "      <td>...</td>\n",
       "      <td>...</td>\n",
       "      <td>...</td>\n",
       "      <td>...</td>\n",
       "      <td>...</td>\n",
       "    </tr>\n",
       "    <tr>\n",
       "      <th>51296</th>\n",
       "      <td>51298</td>\n",
       "      <td>66579515</td>\n",
       "      <td>렌탈</td>\n",
       "      <td>프로모션계약</td>\n",
       "      <td>대형마트A</td>\n",
       "      <td>2022-02-28</td>\n",
       "      <td>60</td>\n",
       "      <td>CMS</td>\n",
       "      <td>DES-3A</td>\n",
       "      <td>96900</td>\n",
       "      <td>개인</td>\n",
       "      <td>47.0</td>\n",
       "      <td>경기도</td>\n",
       "      <td>경기도</td>\n",
       "      <td>계약확정</td>\n",
       "      <td>0</td>\n",
       "      <td>없음</td>\n",
       "      <td>남자</td>\n",
       "      <td>NaN</td>\n",
       "      <td>기업은행</td>\n",
       "    </tr>\n",
       "    <tr>\n",
       "      <th>51297</th>\n",
       "      <td>51299</td>\n",
       "      <td>66799558</td>\n",
       "      <td>렌탈</td>\n",
       "      <td>일반계약</td>\n",
       "      <td>대형마트A</td>\n",
       "      <td>2022-03-31</td>\n",
       "      <td>60</td>\n",
       "      <td>CMS</td>\n",
       "      <td>DES-1</td>\n",
       "      <td>96900</td>\n",
       "      <td>개인</td>\n",
       "      <td>42.0</td>\n",
       "      <td>경기도</td>\n",
       "      <td>경기도</td>\n",
       "      <td>계약확정</td>\n",
       "      <td>0</td>\n",
       "      <td>없음</td>\n",
       "      <td>여자</td>\n",
       "      <td>8.0</td>\n",
       "      <td>새마을금고</td>\n",
       "    </tr>\n",
       "    <tr>\n",
       "      <th>51298</th>\n",
       "      <td>51300</td>\n",
       "      <td>66799197</td>\n",
       "      <td>렌탈</td>\n",
       "      <td>프로모션계약</td>\n",
       "      <td>영업방판</td>\n",
       "      <td>2022-03-31</td>\n",
       "      <td>39</td>\n",
       "      <td>카드이체</td>\n",
       "      <td>ERA</td>\n",
       "      <td>120900</td>\n",
       "      <td>개인</td>\n",
       "      <td>65.0</td>\n",
       "      <td>서울특별시</td>\n",
       "      <td>서울특별시</td>\n",
       "      <td>계약확정</td>\n",
       "      <td>0</td>\n",
       "      <td>없음</td>\n",
       "      <td>여자</td>\n",
       "      <td>1.0</td>\n",
       "      <td>롯데카드</td>\n",
       "    </tr>\n",
       "    <tr>\n",
       "      <th>51299</th>\n",
       "      <td>51301</td>\n",
       "      <td>66792778</td>\n",
       "      <td>렌탈</td>\n",
       "      <td>일반계약</td>\n",
       "      <td>홈쇼핑/방송</td>\n",
       "      <td>2023-02-05</td>\n",
       "      <td>60</td>\n",
       "      <td>카드이체</td>\n",
       "      <td>DES-1</td>\n",
       "      <td>96900</td>\n",
       "      <td>개인</td>\n",
       "      <td>54.0</td>\n",
       "      <td>서울특별시</td>\n",
       "      <td>서울특별시</td>\n",
       "      <td>계약확정</td>\n",
       "      <td>0</td>\n",
       "      <td>없음</td>\n",
       "      <td>여자</td>\n",
       "      <td>2.0</td>\n",
       "      <td>롯데카드</td>\n",
       "    </tr>\n",
       "    <tr>\n",
       "      <th>51300</th>\n",
       "      <td>51302</td>\n",
       "      <td>66799607</td>\n",
       "      <td>렌탈</td>\n",
       "      <td>일반계약</td>\n",
       "      <td>홈쇼핑/방송</td>\n",
       "      <td>2022-04-23</td>\n",
       "      <td>60</td>\n",
       "      <td>CMS</td>\n",
       "      <td>DES-1</td>\n",
       "      <td>96900</td>\n",
       "      <td>개인</td>\n",
       "      <td>53.0</td>\n",
       "      <td>서울특별시</td>\n",
       "      <td>서울특별시</td>\n",
       "      <td>계약확정</td>\n",
       "      <td>0</td>\n",
       "      <td>없음</td>\n",
       "      <td>여자</td>\n",
       "      <td>8.0</td>\n",
       "      <td>신한은행</td>\n",
       "    </tr>\n",
       "  </tbody>\n",
       "</table>\n",
       "<p>51301 rows × 20 columns</p>\n",
       "</div>"
      ],
      "text/plain": [
       "       Index  Member_ID Sales_Type Contract_Type Channel    Datetime  Term  \\\n",
       "0          1   66758234         렌탈          일반계약    영업방판  2022-05-05    60   \n",
       "1          2   66755948         렌탈          교체계약    영업방판  2023-02-19    60   \n",
       "2          3   66756657         렌탈          일반계약  홈쇼핑/방송  2022-02-27    60   \n",
       "3          4   66423450        멤버십        멤버십3유형     재계약  2022-05-12    12   \n",
       "4          5   66423204        멤버십        멤버십3유형     재계약  2022-05-09    12   \n",
       "...      ...        ...        ...           ...     ...         ...   ...   \n",
       "51296  51298   66579515         렌탈        프로모션계약   대형마트A  2022-02-28    60   \n",
       "51297  51299   66799558         렌탈          일반계약   대형마트A  2022-03-31    60   \n",
       "51298  51300   66799197         렌탈        프로모션계약    영업방판  2022-03-31    39   \n",
       "51299  51301   66792778         렌탈          일반계약  홈쇼핑/방송  2023-02-05    60   \n",
       "51300  51302   66799607         렌탈          일반계약  홈쇼핑/방송  2022-04-23    60   \n",
       "\n",
       "      Payment_Type Product_Type  Amount_Month Customer_Type   Age Address1  \\\n",
       "0              CMS        DES-1         96900            개인  42.0      경기도   \n",
       "1             카드이체        DES-1        102900            개인  39.0      경기도   \n",
       "2              CMS        DES-1         96900            개인  48.0      경기도   \n",
       "3              CMS        DES-1         66900            개인  39.0      경기도   \n",
       "4              CMS        DES-1         66900            개인  60.0      경기도   \n",
       "...            ...          ...           ...           ...   ...      ...   \n",
       "51296          CMS       DES-3A         96900            개인  47.0      경기도   \n",
       "51297          CMS        DES-1         96900            개인  42.0      경기도   \n",
       "51298         카드이체          ERA        120900            개인  65.0    서울특별시   \n",
       "51299         카드이체        DES-1         96900            개인  54.0    서울특별시   \n",
       "51300          CMS        DES-1         96900            개인  53.0    서울특별시   \n",
       "\n",
       "      Address2 State  Overdue_count Overdue_Type Gender  Credit_Rank    Bank  \n",
       "0          경기도  계약확정              0           없음     여자          9.0   새마을금고  \n",
       "1          경기도  계약확정              0           없음     남자          2.0    현대카드  \n",
       "2          경기도  계약확정              0           없음     여자          8.0    우리은행  \n",
       "3          경기도  계약확정              0           없음     남자          5.0  농협회원조합  \n",
       "4          경기도  기간만료             12           있음     남자          8.0  농협회원조합  \n",
       "...        ...   ...            ...          ...    ...          ...     ...  \n",
       "51296      경기도  계약확정              0           없음     남자          NaN    기업은행  \n",
       "51297      경기도  계약확정              0           없음     여자          8.0   새마을금고  \n",
       "51298    서울특별시  계약확정              0           없음     여자          1.0    롯데카드  \n",
       "51299    서울특별시  계약확정              0           없음     여자          2.0    롯데카드  \n",
       "51300    서울특별시  계약확정              0           없음     여자          8.0    신한은행  \n",
       "\n",
       "[51301 rows x 20 columns]"
      ]
     },
     "execution_count": 2,
     "metadata": {},
     "output_type": "execute_result"
    }
   ],
   "source": [
    "import pandas as pd\n",
    "df1 = pd.read_csv('01_Data.csv')\n",
    "df1"
   ]
  },
  {
   "cell_type": "markdown",
   "metadata": {},
   "source": [
    "**렌탈 고객 유입 채널에 대한 분석을 하고자 한다.**\n",
    "1. 데이터에서 고객들의 유입 경로(Channel)을 분석하고자 한다. 유입 경로(Channel)중 가장 많은 고객이 유입된 경로를 확인하시오.\n",
    "2. 가장 많이 유입된 경로(Channel)에 계약 된 월 랜탈 비용(Amount_Month)의 평균을 계산하시오.\n",
    "3. 유입 경로(Channel)에서 '대형마트A'로 유입된 고객들 중, 연체 건수(Overdue_count)가 높은 상위 30명의 계약 명단을 추출하여 result4.xlsx 저장하시오."
   ]
  },
  {
   "cell_type": "code",
   "execution_count": 47,
   "metadata": {},
   "outputs": [
    {
     "data": {
      "text/plain": [
       "'영업방판'"
      ]
     },
     "execution_count": 47,
     "metadata": {},
     "output_type": "execute_result"
    }
   ],
   "source": [
    "first_channel = df1['Channel'].value_counts().index[0]\n",
    "first_channel"
   ]
  },
  {
   "cell_type": "code",
   "execution_count": null,
   "metadata": {},
   "outputs": [],
   "source": [
    "cond1 = (df1['Channel'] == first_channel)\n",
    "df1.loc[cond1]['Amount_Month'].mean()"
   ]
  },
  {
   "cell_type": "code",
   "execution_count": 8,
   "metadata": {},
   "outputs": [],
   "source": [
    "cond1 = (df1['Channel'] == '대형마트A')\n",
    "df1.loc[cond1].sort_values(by='Overdue_count',ascending=False).head(30).to_excel('result4.xlsx')"
   ]
  },
  {
   "cell_type": "markdown",
   "metadata": {},
   "source": [
    "- **렌탈 계약 제품 군에 대한 분석을 하고자 한다.**\n",
    "1. 데이터에서 고객들이 가장 많이 계약한 제품군(Product_Type)을 분석하고자 한다. 제품군(Product_Type)에는 어떤 데이터가 있는지 확인하시오.\n",
    "2. 제품군(Product_Type)중 계약을 가장 많이 한, 빈도수가 가장 높은 상위 3개의 항목을 추출하여, df2로 선언한 뒤, 계약 일자(Datetime)에 따른 월 렌탈 비용(Amount_Month)의 합을 계산해 result5.xlsx파일로 저장하시오.\n",
    "3. 제품군(Product_Type)중 계약을 가장 많이 한, 빈도수가 가장 높은 상위 2개의 항목의 월 랜탈 비용('Amount_Month')의 평균의 차이를 계산하시오."
   ]
  },
  {
   "cell_type": "code",
   "execution_count": 10,
   "metadata": {},
   "outputs": [
    {
     "data": {
      "text/plain": [
       "array(['DES-1', 'DES-3A', 'DES-2', 'DES-R4', 'MMC', 'ERA'], dtype=object)"
      ]
     },
     "execution_count": 10,
     "metadata": {},
     "output_type": "execute_result"
    }
   ],
   "source": [
    "df1['Product_Type'].unique()"
   ]
  },
  {
   "cell_type": "code",
   "execution_count": 42,
   "metadata": {},
   "outputs": [],
   "source": [
    "cond1 = df1['Product_Type'].isin(df1['Product_Type'].value_counts().index[0:3])\n",
    "cond1\n",
    "df2 = df1.loc[cond1]\n",
    "df2.pivot_table(index='Datetime' , values='Amount_Month', aggfunc='sum').to_excel('result5.xlsx')\n"
   ]
  },
  {
   "cell_type": "code",
   "execution_count": 22,
   "metadata": {},
   "outputs": [
    {
     "data": {
      "text/plain": [
       "6868.154548431063"
      ]
     },
     "execution_count": 22,
     "metadata": {},
     "output_type": "execute_result"
    }
   ],
   "source": [
    "cond1 = (df1['Product_Type'] == df1['Product_Type'].value_counts().index[0])\n",
    "cond2 = (df1['Product_Type'] == df1['Product_Type'].value_counts().index[1])\n",
    "abs(df1.loc[cond1]['Amount_Month'].mean() - df1.loc[cond2]['Amount_Month'].mean())"
   ]
  },
  {
   "cell_type": "markdown",
   "metadata": {},
   "source": [
    "- **계약 고객의 계약 특성을 분석하고자 한다.**\n",
    "1. 데이터에서 고객들이 결제하는 은행(Bank)를 확인하고자 한다. 결제 은행(Bank)항목에서 '신한카드'로 결제하는 고객들의 수를 확인하시오\n",
    "2. 월 랜탈 비용(Amount_Month)이 15만원 이상인 고객들 중 판매 유형(Sales_Type)이 '렌탈'에 해당하는 고객만 추출하여, 해당 데이터의 행(index) 개수를 확인하시오."
   ]
  },
  {
   "cell_type": "code",
   "execution_count": 31,
   "metadata": {},
   "outputs": [
    {
     "data": {
      "text/plain": [
       "1532"
      ]
     },
     "execution_count": 31,
     "metadata": {},
     "output_type": "execute_result"
    }
   ],
   "source": [
    "df1[df1['Bank'] == '신한카드'].shape[0]"
   ]
  },
  {
   "cell_type": "code",
   "execution_count": 33,
   "metadata": {},
   "outputs": [
    {
     "data": {
      "text/plain": [
       "141"
      ]
     },
     "execution_count": 33,
     "metadata": {},
     "output_type": "execute_result"
    }
   ],
   "source": [
    "cond1 = df1['Amount_Month'] >= 150000\n",
    "cond2 = (df1['Sales_Type'] == '렌탈')\n",
    "df1.loc[cond1 & cond2].shape[0]"
   ]
  },
  {
   "cell_type": "markdown",
   "metadata": {},
   "source": [
    "- **계약 건의 전체**\n",
    "1. 계약 일자(Datetime)에서 계약 연도(Year)파생 변수를 생성하고, 연도 별, 각 제품군(Product_Type)의 월 랜탈 비용(Amount_Month) 합을 계산하시오.\n",
    "2. 22년 대비 23년 제품군(Product_Type)별 월 랜탈 비용(Amount_Month) 합의 증감율을 계산하시오.\n",
    "    - 증감율 : ( (20년 월랜탈비용 총합) - (19년 월랜탈비용 총합) ) / (20년 월랜탈비용 총합)\n",
    "3. 판매 유형(Sales_Type)에서 '렌탈'계약과 '멤버십' 계약의 월랜탈비용(Amount_Month)의 평균의 차이를 계산하시오.\n",
    "4. 계약 데이터를 주기적으로 정리하는 업무 자동화 프로그램을 만들고자 한다. 데이터에서 주차(Work Week)를 입력 해, 해당 주차의 제품 군(Product_Type)별 월랜탈비용(Amount_Month)의 합과 평균을 엑셀로 출력하는 함수를 생성하시오.\n",
    "    - 파일이 저장 될 때, 아래와 같은 이름으로 저장 되어야 합니다.\n",
    "    - 1주차 입력시 -> '1week_Product_Contract.xlsx'\n",
    "    - 3주차 입력시 -> '3week_Product_Contract.xlsx'"
   ]
  },
  {
   "cell_type": "code",
   "execution_count": 43,
   "metadata": {},
   "outputs": [
    {
     "data": {
      "text/html": [
       "<div>\n",
       "<style scoped>\n",
       "    .dataframe tbody tr th:only-of-type {\n",
       "        vertical-align: middle;\n",
       "    }\n",
       "\n",
       "    .dataframe tbody tr th {\n",
       "        vertical-align: top;\n",
       "    }\n",
       "\n",
       "    .dataframe thead th {\n",
       "        text-align: right;\n",
       "    }\n",
       "</style>\n",
       "<table border=\"1\" class=\"dataframe\">\n",
       "  <thead>\n",
       "    <tr style=\"text-align: right;\">\n",
       "      <th></th>\n",
       "      <th></th>\n",
       "      <th>Amount_Month</th>\n",
       "    </tr>\n",
       "    <tr>\n",
       "      <th>Year</th>\n",
       "      <th>Product_Type</th>\n",
       "      <th></th>\n",
       "    </tr>\n",
       "  </thead>\n",
       "  <tbody>\n",
       "    <tr>\n",
       "      <th rowspan=\"3\" valign=\"top\">2021</th>\n",
       "      <th>DES-1</th>\n",
       "      <td>3201600</td>\n",
       "    </tr>\n",
       "    <tr>\n",
       "      <th>DES-2</th>\n",
       "      <td>1082100</td>\n",
       "    </tr>\n",
       "    <tr>\n",
       "      <th>DES-3A</th>\n",
       "      <td>272700</td>\n",
       "    </tr>\n",
       "    <tr>\n",
       "      <th rowspan=\"6\" valign=\"top\">2022</th>\n",
       "      <th>DES-1</th>\n",
       "      <td>2945729313</td>\n",
       "    </tr>\n",
       "    <tr>\n",
       "      <th>DES-2</th>\n",
       "      <td>631794330</td>\n",
       "    </tr>\n",
       "    <tr>\n",
       "      <th>DES-3A</th>\n",
       "      <td>157173060</td>\n",
       "    </tr>\n",
       "    <tr>\n",
       "      <th>DES-R4</th>\n",
       "      <td>33891300</td>\n",
       "    </tr>\n",
       "    <tr>\n",
       "      <th>ERA</th>\n",
       "      <td>62944500</td>\n",
       "    </tr>\n",
       "    <tr>\n",
       "      <th>MMC</th>\n",
       "      <td>17540100</td>\n",
       "    </tr>\n",
       "    <tr>\n",
       "      <th rowspan=\"6\" valign=\"top\">2023</th>\n",
       "      <th>DES-1</th>\n",
       "      <td>746184813</td>\n",
       "    </tr>\n",
       "    <tr>\n",
       "      <th>DES-2</th>\n",
       "      <td>154780860</td>\n",
       "    </tr>\n",
       "    <tr>\n",
       "      <th>DES-3A</th>\n",
       "      <td>39639300</td>\n",
       "    </tr>\n",
       "    <tr>\n",
       "      <th>DES-R4</th>\n",
       "      <td>8437200</td>\n",
       "    </tr>\n",
       "    <tr>\n",
       "      <th>ERA</th>\n",
       "      <td>14171100</td>\n",
       "    </tr>\n",
       "    <tr>\n",
       "      <th>MMC</th>\n",
       "      <td>5193900</td>\n",
       "    </tr>\n",
       "  </tbody>\n",
       "</table>\n",
       "</div>"
      ],
      "text/plain": [
       "                   Amount_Month\n",
       "Year Product_Type              \n",
       "2021 DES-1              3201600\n",
       "     DES-2              1082100\n",
       "     DES-3A              272700\n",
       "2022 DES-1           2945729313\n",
       "     DES-2            631794330\n",
       "     DES-3A           157173060\n",
       "     DES-R4            33891300\n",
       "     ERA               62944500\n",
       "     MMC               17540100\n",
       "2023 DES-1            746184813\n",
       "     DES-2            154780860\n",
       "     DES-3A            39639300\n",
       "     DES-R4             8437200\n",
       "     ERA               14171100\n",
       "     MMC                5193900"
      ]
     },
     "execution_count": 43,
     "metadata": {},
     "output_type": "execute_result"
    }
   ],
   "source": [
    "df1['Datetime_dt'] = pd.to_datetime(df1['Datetime'])\n",
    "df1['Year'] = df1['Datetime_dt'].dt.year\n",
    "df1.pivot_table(index=['Year','Product_Type'],values='Amount_Month',aggfunc='sum')"
   ]
  },
  {
   "cell_type": "code",
   "execution_count": 48,
   "metadata": {},
   "outputs": [
    {
     "data": {
      "text/plain": [
       "-2.974642805542292"
      ]
     },
     "execution_count": 48,
     "metadata": {},
     "output_type": "execute_result"
    }
   ],
   "source": [
    "cond2022 = (df1['Year'] == 2022)\n",
    "cond2023 = (df1['Year'] == 2023)\n",
    "\n",
    "((df1.loc[cond2023]['Amount_Month'].sum()) - (df1.loc[cond2022]['Amount_Month'].sum())) / df1.loc[cond2023]['Amount_Month'].sum()"
   ]
  },
  {
   "cell_type": "code",
   "execution_count": 40,
   "metadata": {},
   "outputs": [
    {
     "data": {
      "text/plain": [
       "34122.413318100276"
      ]
     },
     "execution_count": 40,
     "metadata": {},
     "output_type": "execute_result"
    }
   ],
   "source": [
    "cond1 = (df1['Sales_Type'] == '렌탈')\n",
    "cond2 = (df1['Sales_Type'] == '멤버십')\n",
    "\n",
    "abs(df1.loc[cond1]['Amount_Month'].mean() - df1.loc[cond2]['Amount_Month'].mean())"
   ]
  },
  {
   "cell_type": "code",
   "execution_count": 46,
   "metadata": {},
   "outputs": [],
   "source": [
    "def week_contract() :\n",
    "    df1['Work_Week'] = df1['Datetime_dt'].dt.isocalendar().week\n",
    "    n = int(input('주차를 입력하시오 : '))\n",
    "    cond1 = (df1['Work_Week'] == n)\n",
    "    df1_pivot = df1.loc[cond1].pivot_table(index='Product_Type',values='Amount_Month', aggfunc=['sum','mean'])\n",
    "    df1_pivot.to_excel('{0}week_Product_Contract.xlsx'.format(n))\n",
    "    return \n",
    "\n",
    "week_contract()"
   ]
  }
 ],
 "metadata": {
  "kernelspec": {
   "display_name": "Python 3",
   "language": "python",
   "name": "python3"
  },
  "language_info": {
   "codemirror_mode": {
    "name": "ipython",
    "version": 3
   },
   "file_extension": ".py",
   "mimetype": "text/x-python",
   "name": "python",
   "nbconvert_exporter": "python",
   "pygments_lexer": "ipython3",
   "version": "3.12.3"
  }
 },
 "nbformat": 4,
 "nbformat_minor": 2
}
