{
 "cells": [
  {
   "cell_type": "markdown",
   "metadata": {},
   "source": [
    "#점심미션\n",
    "\n",
    "1. 해당 데이터 고객 명단에서 우수 고객을 찾고자 한다. df1 데이터의 월렌탈비용 ('Amount_Month')이 높고 연체건수 ('Overdue_count')가 낮은 상위 50명의 계약명단을 추출하여 result2.xlsx 로 저장\n",
    "2. 젋은 고객을 대상으로 마케팅을 하기위해, 데이터를 추출하고자 한다. 연령이 낮은 100명의 고객 명단을 추출하여 기술통계량을 확인해 해당 기술통계량을 result3.xlsx로 저장\n",
    "3. 월렌탈비용이 100000원 미만인 고객을 df_normal로 선언하여, 해당 변수의 월렌탈비용('Amount_Month') 평균을 계산한뒤 전체 데이터의 월렌탈비용 평균과의 차이를 계산하시오.\n",
    "4. 본사에서 매출 관리를 위해 연체가 높은 고객을 따로 관리하고자 한다. 연체건수가 높은 순서대로 정렬하고, 상위 1000명의 고객 연령의 최소값, 최대값을 확인하시오.\n",
    "5. 매출 관리 부서의 A씨는 매주 해당 데이터를 이용해 보고서를 본사에 제출하는 업무를 수행중이다. 해당 업무를 보조하기위한 함수를 생성하시오.\n",
    "- 월렌탈비용을 입력했을 때, 해당 비용보다 작은 (월렌탈비용이 높은 순서대로 정렬) 50개의 계약 명단을 추출하여 result4.xlsx를 저장하는 함수"
   ]
  },
  {
   "cell_type": "code",
   "execution_count": 1,
   "metadata": {},
   "outputs": [],
   "source": [
    "import pandas as pd\n",
    "df1 = pd.read_csv('data/01_Data.csv')"
   ]
  },
  {
   "cell_type": "code",
   "execution_count": null,
   "metadata": {},
   "outputs": [],
   "source": [
    "#1\n",
    "df1.sort_values(by='Amount_Month',ascending=False).sort_values(by='Overdue_count').head(50).to_excel('result2.xlsx')"
   ]
  },
  {
   "cell_type": "code",
   "execution_count": null,
   "metadata": {},
   "outputs": [],
   "source": [
    "#2\n",
    "df1.sort_values(by='Age').head(100).describe().to_excel('result3.xlsx')"
   ]
  },
  {
   "cell_type": "code",
   "execution_count": null,
   "metadata": {},
   "outputs": [
    {
     "data": {
      "text/plain": [
       "5593.958248705749"
      ]
     },
     "metadata": {},
     "output_type": "display_data"
    }
   ],
   "source": [
    "#3\n",
    "df_normal = df1[df1['Amount_Month']<100000]\n",
    "answer = abs(df1['Amount_Month'].mean() - df_normal['Amount_Month'].mean())"
   ]
  },
  {
   "cell_type": "code",
   "execution_count": null,
   "metadata": {},
   "outputs": [
    {
     "name": "stdout",
     "output_type": "stream",
     "text": [
      "26.0 102.0\n"
     ]
    }
   ],
   "source": [
    "#4\n",
    "df_sorted = df1.sort_values(by='Overdue_count',ascending=False).head(1000)\n",
    "answer_min = df_sorted['Age'].min()\n",
    "answer_max = df_sorted['Age'].max()\n",
    "print(answer_min,answer_max)"
   ]
  },
  {
   "cell_type": "code",
   "execution_count": null,
   "metadata": {},
   "outputs": [],
   "source": [
    "#5\n",
    "def solution(data) :\n",
    "    n = int(input('월렌탈비용을 입력하시오 : '))\n",
    "    df2 = data.sort_values(by='Amount_Month',ascending=False)\n",
    "    df2[df2['Amount_Month'] < n].head(50).to_excel('result4.xlsx')\n",
    "    return\n",
    "\n",
    "solution(df1)"
   ]
  }
 ],
 "metadata": {
  "kernelspec": {
   "display_name": "Python 3",
   "language": "python",
   "name": "python3"
  },
  "language_info": {
   "codemirror_mode": {
    "name": "ipython",
    "version": 3
   },
   "file_extension": ".py",
   "mimetype": "text/x-python",
   "name": "python",
   "nbconvert_exporter": "python",
   "pygments_lexer": "ipython3",
   "version": "3.12.3"
  }
 },
 "nbformat": 4,
 "nbformat_minor": 2
}
