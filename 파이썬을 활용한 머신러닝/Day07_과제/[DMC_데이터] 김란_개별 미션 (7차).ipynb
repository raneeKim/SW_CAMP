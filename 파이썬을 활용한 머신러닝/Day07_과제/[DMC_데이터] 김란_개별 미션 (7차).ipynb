{
 "cells": [
  {
   "cell_type": "code",
   "execution_count": 1,
   "id": "e304d199-9957-4d06-a4c0-39f052f7f6a7",
   "metadata": {},
   "outputs": [],
   "source": [
    "import pandas as pd\n",
    "import scipy.stats as stats"
   ]
  },
  {
   "cell_type": "code",
   "execution_count": 2,
   "id": "206e36a1-9d58-448e-9f54-c003f765174d",
   "metadata": {},
   "outputs": [],
   "source": [
    "df1 = pd.read_csv(r'C:\\Users\\UserK\\Desktop\\Ranee\\data\\ML\\14_Data.csv')"
   ]
  },
  {
   "cell_type": "code",
   "execution_count": 3,
   "id": "14ca7a84-72b7-4f04-8cd6-599d03246844",
   "metadata": {},
   "outputs": [
    {
     "name": "stdout",
     "output_type": "stream",
     "text": [
      "(26283, 25)\n",
      "<class 'pandas.core.frame.DataFrame'>\n",
      "RangeIndex: 26283 entries, 0 to 26282\n",
      "Data columns (total 25 columns):\n",
      " #   Column    Non-Null Count  Dtype  \n",
      "---  ------    --------------  -----  \n",
      " 0   방송Code    26283 non-null  float64\n",
      " 1   채널        26283 non-null  object \n",
      " 2   소요분       26283 non-null  float64\n",
      " 3   가중분       26283 non-null  float64\n",
      " 4   방송구분      26283 non-null  object \n",
      " 5   프로그램명     26283 non-null  object \n",
      " 6   상품ID      26283 non-null  int64  \n",
      " 7   상품명       26283 non-null  object \n",
      " 8   매입과세구분    26283 non-null  object \n",
      " 9   상품목표취급금액  26283 non-null  int64  \n",
      " 10  상품목표주문금액  26283 non-null  int64  \n",
      " 11  판매단가      26283 non-null  int64  \n",
      " 12  수수료율      26283 non-null  float64\n",
      " 13  상품주문수량    26283 non-null  int64  \n",
      " 14  상품주문금액    26283 non-null  int64  \n",
      " 15  상품취소수량    26283 non-null  int64  \n",
      " 16  상품취소금액    26283 non-null  int64  \n",
      " 17  ARS금액     26283 non-null  int64  \n",
      " 18  매입형태      26283 non-null  object \n",
      " 19  배송방식      26283 non-null  object \n",
      " 20  상품소요분     26283 non-null  float64\n",
      " 21  상품가중분     26283 non-null  float64\n",
      " 22  상품방송순번    26283 non-null  int64  \n",
      " 23  방송시작시간    26283 non-null  object \n",
      " 24  방송종료시간    26283 non-null  object \n",
      "dtypes: float64(6), int64(10), object(9)\n",
      "memory usage: 5.0+ MB\n"
     ]
    }
   ],
   "source": [
    "print(df1.shape)\n",
    "df1.info()"
   ]
  },
  {
   "cell_type": "markdown",
   "id": "b047c6ae-ef8a-4112-a837-17af70f5f6e9",
   "metadata": {},
   "source": [
    "1. '방송구분'이라는 항목에서 '녹화방송' 에 해당 하는 데이터의 '프로그램명'별 '상품목표주문금액'과 '상품주문금액'의 합과 평균을 계산하시오."
   ]
  },
  {
   "cell_type": "code",
   "execution_count": 4,
   "id": "bd15f8db-aba2-4120-988a-103e089aad73",
   "metadata": {},
   "outputs": [
    {
     "data": {
      "text/plain": [
       "방송구분\n",
       "생방송     18706\n",
       "재방송      7538\n",
       "녹화방송       39\n",
       "Name: count, dtype: int64"
      ]
     },
     "execution_count": 4,
     "metadata": {},
     "output_type": "execute_result"
    }
   ],
   "source": [
    "df1['방송구분'].value_counts()"
   ]
  },
  {
   "cell_type": "code",
   "execution_count": 5,
   "id": "d37d36eb-0661-4be6-8905-2062a0007762",
   "metadata": {},
   "outputs": [],
   "source": [
    "cond1 = (df1['방송구분'] == '녹화방송')\n",
    "pv1 = df1.loc[cond1].pivot_table(index='프로그램명', values=['상품목표주문금액','상품주문금액'], aggfunc=['sum','mean'])\n",
    "# 왜......... mean값 이난리"
   ]
  },
  {
   "cell_type": "code",
   "execution_count": 6,
   "id": "e6f87186-7314-41f8-b616-8042c40db720",
   "metadata": {},
   "outputs": [
    {
     "data": {
      "text/plain": [
       "count    2.628300e+04\n",
       "mean     7.169959e+07\n",
       "std      8.129376e+07\n",
       "min      0.000000e+00\n",
       "25%      1.575876e+07\n",
       "50%      4.971633e+07\n",
       "75%      1.033874e+08\n",
       "max      1.229786e+09\n",
       "Name: 상품목표주문금액, dtype: float64"
      ]
     },
     "execution_count": 6,
     "metadata": {},
     "output_type": "execute_result"
    }
   ],
   "source": [
    "pv1 = df1.loc[cond1].pivot_table(index='프로그램명', values=['상품목표주문금액','상품주문금액'], aggfunc=['sum','mean'])\n",
    "df1['상품목표주문금액'].describe()"
   ]
  },
  {
   "cell_type": "markdown",
   "id": "e3ad7d51-e4cb-4c43-b0be-5a343f3afbab",
   "metadata": {},
   "source": [
    "2. '프로그램명'에서 가장 '상품주문금액'의 합이 큰 3가지를 확인하여, 3가지 항목에 대해 데이터를 추출한 뒤, '상품명'별 '상품주문금액'의 합을 계산하시오."
   ]
  },
  {
   "cell_type": "code",
   "execution_count": 7,
   "id": "5c625c6a-c94c-4c39-b086-eaad92bd970f",
   "metadata": {},
   "outputs": [
    {
     "data": {
      "text/plain": [
       "MultiIndex([( 'sum', '상품목표주문금액'),\n",
       "            ( 'sum',   '상품주문금액'),\n",
       "            ('mean', '상품목표주문금액'),\n",
       "            ('mean',   '상품주문금액')],\n",
       "           )"
      ]
     },
     "execution_count": 7,
     "metadata": {},
     "output_type": "execute_result"
    }
   ],
   "source": [
    "pv1.columns"
   ]
  },
  {
   "cell_type": "code",
   "execution_count": 8,
   "id": "cb64ca6c-0736-4800-84f5-a59388331586",
   "metadata": {},
   "outputs": [],
   "source": [
    "top3 = pv1.sort_values(by=( 'sum',   '상품주문금액'),ascending=False).index[0:3]"
   ]
  },
  {
   "cell_type": "code",
   "execution_count": 9,
   "id": "d4e8ff67-f050-4808-87f2-f3ada9e38837",
   "metadata": {
    "jp-MarkdownHeadingCollapsed": true
   },
   "outputs": [
    {
     "data": {
      "text/plain": [
       "프로그램명\n",
       "재방_의류      831\n",
       "재방_신선농산    652\n",
       "재방_이미용     468\n",
       "Name: count, dtype: int64"
      ]
     },
     "execution_count": 9,
     "metadata": {},
     "output_type": "execute_result"
    }
   ],
   "source": [
    "df2 = df1.loc[df1['프로그램명'].isin(top3)]\n",
    "df2['프로그램명'].value_counts()"
   ]
  },
  {
   "cell_type": "code",
   "execution_count": 10,
   "id": "c725dc28-19b3-4328-9bae-a757c7c79420",
   "metadata": {},
   "outputs": [
    {
     "data": {
      "text/html": [
       "<div>\n",
       "<style scoped>\n",
       "    .dataframe tbody tr th:only-of-type {\n",
       "        vertical-align: middle;\n",
       "    }\n",
       "\n",
       "    .dataframe tbody tr th {\n",
       "        vertical-align: top;\n",
       "    }\n",
       "\n",
       "    .dataframe thead th {\n",
       "        text-align: right;\n",
       "    }\n",
       "</style>\n",
       "<table border=\"1\" class=\"dataframe\">\n",
       "  <thead>\n",
       "    <tr style=\"text-align: right;\">\n",
       "      <th></th>\n",
       "      <th>상품주문금액</th>\n",
       "    </tr>\n",
       "    <tr>\n",
       "      <th>상품명</th>\n",
       "      <th></th>\n",
       "    </tr>\n",
       "  </thead>\n",
       "  <tbody>\n",
       "    <tr>\n",
       "      <th>(1)[나인테일즈] 링클 파워 세럼 1+1 패키지 (고객요청패키지)</th>\n",
       "      <td>164314981</td>\n",
       "    </tr>\n",
       "    <tr>\n",
       "      <th>(1)[나인테일즈] 링클 파워 세럼 1세트 패키지 (무료체험포함)</th>\n",
       "      <td>180981265</td>\n",
       "    </tr>\n",
       "    <tr>\n",
       "      <th>(18년수확)철원오대쌀 10kg + 10kg</th>\n",
       "      <td>70977036</td>\n",
       "    </tr>\n",
       "    <tr>\n",
       "      <th>(2018년 수확)김연도 웰빙 혼합곡 + 옹기 미니쌀독</th>\n",
       "      <td>99443164</td>\n",
       "    </tr>\n",
       "    <tr>\n",
       "      <th>(D) 클린샤워 프리미엄 때혁명 각질제거제 풀세트</th>\n",
       "      <td>309793170</td>\n",
       "    </tr>\n",
       "    <tr>\n",
       "      <th>...</th>\n",
       "      <td>...</td>\n",
       "    </tr>\n",
       "    <tr>\n",
       "      <th>향기의 미술관 향수컬렉션</th>\n",
       "      <td>77983457</td>\n",
       "    </tr>\n",
       "    <tr>\n",
       "      <th>황금대추 방울토마토3kg</th>\n",
       "      <td>60905159</td>\n",
       "    </tr>\n",
       "    <tr>\n",
       "      <th>황토방 청도 감말랭이 세트(30봉)</th>\n",
       "      <td>50232365</td>\n",
       "    </tr>\n",
       "    <tr>\n",
       "      <th>황토방 청도 감말랭이 세트(30봉+1봉)</th>\n",
       "      <td>127494848</td>\n",
       "    </tr>\n",
       "    <tr>\n",
       "      <th>황토방 청도 반건시(60과)</th>\n",
       "      <td>47347106</td>\n",
       "    </tr>\n",
       "  </tbody>\n",
       "</table>\n",
       "<p>733 rows × 1 columns</p>\n",
       "</div>"
      ],
      "text/plain": [
       "                                          상품주문금액\n",
       "상품명                                             \n",
       "(1)[나인테일즈] 링클 파워 세럼 1+1 패키지 (고객요청패키지)  164314981\n",
       "(1)[나인테일즈] 링클 파워 세럼 1세트 패키지 (무료체험포함)   180981265\n",
       "(18년수확)철원오대쌀 10kg + 10kg                70977036\n",
       "(2018년 수확)김연도 웰빙 혼합곡 + 옹기 미니쌀독          99443164\n",
       "(D) 클린샤워 프리미엄 때혁명 각질제거제 풀세트            309793170\n",
       "...                                          ...\n",
       "향기의 미술관 향수컬렉션                           77983457\n",
       "황금대추 방울토마토3kg                           60905159\n",
       "황토방 청도 감말랭이 세트(30봉)                     50232365\n",
       "황토방 청도 감말랭이 세트(30봉+1봉)                 127494848\n",
       "황토방 청도 반건시(60과)                         47347106\n",
       "\n",
       "[733 rows x 1 columns]"
      ]
     },
     "execution_count": 10,
     "metadata": {},
     "output_type": "execute_result"
    }
   ],
   "source": [
    "pv2 = df2.pivot_table(index='상품명', values='상품주문금액', aggfunc='sum')\n",
    "pv2"
   ]
  },
  {
   "cell_type": "markdown",
   "id": "91159417-b4dd-4c56-a253-e087689565e4",
   "metadata": {},
   "source": [
    "3. '방송시작시간'과 '방송종료시간'의 차이를 계산하여, '방송진행시간'이라는 항목을 선언하고, '방송진행시간'이 1시간 미만인 데이터의 개수를 확인하시오."
   ]
  },
  {
   "cell_type": "code",
   "execution_count": 11,
   "id": "5334ec12-865d-474b-a0b1-cca238a6590e",
   "metadata": {},
   "outputs": [],
   "source": [
    "df1['방송진행시간'] = pd.to_datetime(df1['방송종료시간']) - pd.to_datetime(df1['방송시작시간'])"
   ]
  },
  {
   "cell_type": "code",
   "execution_count": 12,
   "id": "12107188-5f37-468b-8d28-b163d9a8a21f",
   "metadata": {},
   "outputs": [
    {
     "data": {
      "text/plain": [
       "5769"
      ]
     },
     "execution_count": 12,
     "metadata": {},
     "output_type": "execute_result"
    }
   ],
   "source": [
    "count = 0\n",
    "for i in df1['방송진행시간'] :\n",
    " if i < pd.Timedelta(hours=1) :\n",
    "    count += 1\n",
    "count"
   ]
  },
  {
   "cell_type": "code",
   "execution_count": 13,
   "id": "7c641964-cb07-48fd-a5cb-a4f25d002754",
   "metadata": {},
   "outputs": [
    {
     "data": {
      "text/plain": [
       "5769"
      ]
     },
     "execution_count": 13,
     "metadata": {},
     "output_type": "execute_result"
    }
   ],
   "source": [
    "cond1 = df1['방송진행시간'] < pd.to_timedelta(1, unit='h')\n",
    "df1.loc[cond1].shape[0]"
   ]
  },
  {
   "cell_type": "markdown",
   "id": "9e22d78c-192d-4650-825b-3699e1f4ab89",
   "metadata": {},
   "source": [
    "4. '방송시작시간'을 날짜형식으로 변환하여, '방송연도'/'방송월'/'방송일'/'방송요일'항목을 생성"
   ]
  },
  {
   "cell_type": "code",
   "execution_count": 96,
   "id": "cf163c04-b7bf-4d79-9374-408655fda7a1",
   "metadata": {},
   "outputs": [],
   "source": [
    "df1['방송연도'] = pd.to_datetime(df1['방송시작시간']).dt.year\n",
    "df1['방송월'] = pd.to_datetime(df1['방송시작시간']).dt.month\n",
    "df1['방송일'] = pd.to_datetime(df1['방송시작시간']).dt.day\n",
    "df1['방송요일'] = pd.to_datetime(df1['방송시작시간']).dt.day_name()"
   ]
  },
  {
   "cell_type": "markdown",
   "id": "d8fd12bc-9d18-482a-a159-dfca6864c887",
   "metadata": {},
   "source": [
    "5. '방송요일'항목에서 주말과 주중을 구분하여, '주말'과 '주중'의 '상품주문수량'과 '상품주문금액'의 평균의 차이를 계산"
   ]
  },
  {
   "cell_type": "code",
   "execution_count": 98,
   "id": "66571307-01a7-4c88-8fbf-8095fbf1ff2d",
   "metadata": {},
   "outputs": [
    {
     "data": {
      "text/plain": [
       "array(['Friday', 'Saturday', 'Sunday', 'Monday', 'Tuesday', 'Wednesday',\n",
       "       'Thursday'], dtype=object)"
      ]
     },
     "execution_count": 98,
     "metadata": {},
     "output_type": "execute_result"
    }
   ],
   "source": [
    "df1['방송요일'].unique()"
   ]
  },
  {
   "cell_type": "code",
   "execution_count": 101,
   "id": "a5f5612a-5913-4300-9573-70f0670aab30",
   "metadata": {},
   "outputs": [
    {
     "name": "stdout",
     "output_type": "stream",
     "text": [
      "NormaltestResult(statistic=6183.227591499221, pvalue=0.0)\n",
      "NormaltestResult(statistic=19047.731539144883, pvalue=0.0)\n",
      "NormaltestResult(statistic=2980.303190641076, pvalue=0.0)\n",
      "NormaltestResult(statistic=7659.412973449251, pvalue=0.0)\n"
     ]
    }
   ],
   "source": [
    "cond1 = (df1['방송요일'].isin(['Saturday', 'Sunday']))\n",
    "df_week = df1.loc[~cond1] # 주중\n",
    "df_end = df1.loc[cond1] # 주말\n",
    "\n",
    "# 주중과 주말의 상품주문수량과 상품주문금액의 정규성확인\n",
    "# 귀무가설 : 정규성을 따른다.\n",
    "# 대립가설 : 정규성을 따르지 않는다.\n",
    "print(stats.normaltest(df_week['상품주문수량']))\n",
    "print(stats.normaltest(df_week['상품주문금액']))\n",
    "print(stats.normaltest(df_end['상품주문수량']))\n",
    "print(stats.normaltest(df_end['상품주문금액']))\n",
    "\n",
    "# < 0.05 -> 귀무가설 기각 -> 정규성을 따르지 않는다 -> 중앙값비교 -> Ranksum"
   ]
  },
  {
   "cell_type": "code",
   "execution_count": 102,
   "id": "66f4b254-8d1e-4e08-a2b2-c9966202f3ec",
   "metadata": {},
   "outputs": [
    {
     "name": "stdout",
     "output_type": "stream",
     "text": [
      "RanksumsResult(statistic=-3.7987233869844674, pvalue=0.0001454433050965593)\n",
      "RanksumsResult(statistic=4.596803679391717, pvalue=4.290215043465792e-06)\n"
     ]
    }
   ],
   "source": [
    "# 귀무가설 : 중앙값은 차이가 없다\n",
    "# 대립가설 : 중앙값은 차이가 있다\n",
    "\n",
    "print(stats.ranksums(df_week['상품주문수량'],df_end['상품주문수량']))\n",
    "print(stats.ranksums(df_week['상품주문금액'],df_end['상품주문금액']))\n",
    "\n",
    "# < 0.05 -> 귀무가설 기각 -> 중앙값 차이가 있다."
   ]
  },
  {
   "cell_type": "markdown",
   "id": "20016092-28f3-45cc-9084-cdfd7225e1ea",
   "metadata": {},
   "source": [
    "6. '배송방식'과 '매입형태'간의 연관성이 있는지 확인하고자 한다."
   ]
  },
  {
   "cell_type": "code",
   "execution_count": 105,
   "id": "01ff542f-7909-4fce-ac1a-3e594a7d525b",
   "metadata": {},
   "outputs": [
    {
     "data": {
      "text/plain": [
       "Chi2ContingencyResult(statistic=26256.193038804344, pvalue=0.0, dof=2, expected_freq=array([[  980.45428604,    39.54571396],\n",
       "       [  957.38477343,    38.61522657],\n",
       "       [23326.16094053,   940.83905947]]))"
      ]
     },
     "execution_count": 105,
     "metadata": {},
     "output_type": "execute_result"
    }
   ],
   "source": [
    "# '배송방식'과 '매입형태' 연관성이 없다\n",
    "# '배송방식'과 '매입형태' 연관성이 있다\n",
    "\n",
    "c1 = pd.crosstab(df1['배송방식'],df1['매입형태'])\n",
    "stats.chi2_contingency(c1)\n",
    "\n",
    "# < 0.05 -> 귀무가설 기각 -> 연관성이 있다"
   ]
  },
  {
   "cell_type": "markdown",
   "id": "11822e25-8a25-4be3-b180-a647e8a083e3",
   "metadata": {},
   "source": [
    "7. '방송구분'에서 '생방송'과 '녹화방송'의 매출을 비교하고자 한다. '생방송'과'녹화방송'의 '상품주문금액'의 평균의 차이가 있는지 검정"
   ]
  },
  {
   "cell_type": "code",
   "execution_count": 107,
   "id": "a264173b-a664-491c-b6ad-b32ffb5d2969",
   "metadata": {},
   "outputs": [
    {
     "name": "stdout",
     "output_type": "stream",
     "text": [
      "NormaltestResult(statistic=17929.951096292796, pvalue=0.0)\n",
      "NormaltestResult(statistic=37.59192300234786, pvalue=6.870963444477694e-09)\n"
     ]
    }
   ],
   "source": [
    "# 상품주문금액이라는 연속형 변수가 정규성을 따르는지 비교\n",
    "cond1 = (df1['방송구분'] == '생방송')\n",
    "cond2 = (df1['방송구분'] == '녹화방송')\n",
    "\n",
    "# 귀무가설 : 정규성 따른다\n",
    "# 대립가설 : 정규성 따르지 않는다\n",
    "\n",
    "print(stats.normaltest(df1.loc[cond1]['상품주문금액']))\n",
    "print(stats.normaltest(df1.loc[cond2]['상품주문금액']))\n",
    "\n",
    "# < 0.05 -> 귀무가설 기각 -> 정규성을 따르지 않는다 -> 중앙값비교 -> Ranksum"
   ]
  },
  {
   "cell_type": "code",
   "execution_count": 108,
   "id": "fa8d0acf-ec71-467d-8fc1-8eeed7476e75",
   "metadata": {},
   "outputs": [
    {
     "data": {
      "text/plain": [
       "RanksumsResult(statistic=5.897121686301845, pvalue=3.698970792035826e-09)"
      ]
     },
     "execution_count": 108,
     "metadata": {},
     "output_type": "execute_result"
    }
   ],
   "source": [
    "# 귀무가설 : 중앙값 차이 없다\n",
    "# 대립가설 : 중앙값 차이 있다\n",
    "\n",
    "stats.ranksums(df1.loc[cond1]['상품주문금액'],df1.loc[cond2]['상품주문금액'])\n",
    "# < 0.05 -> 귀무가설 기각 -> 중앙값 차이 있다"
   ]
  },
  {
   "cell_type": "markdown",
   "id": "4e015ba2-095f-4572-99f8-e37cc1fcd25a",
   "metadata": {},
   "source": [
    "8. '상품목표주문금액'에서 '상품주문금액'의 차이를 계산해, 목표를 달성하지 못한 방송에 대해서는 0 / 목표를 달성한 방송은 1값으로 '목표달성여부' 변수를 생성"
   ]
  },
  {
   "cell_type": "code",
   "execution_count": 18,
   "id": "c142cac3-4bc6-4f60-9419-0f07c9bb1036",
   "metadata": {},
   "outputs": [
    {
     "data": {
      "text/plain": [
       "목표달성여부\n",
       "1    24652\n",
       "0     1631\n",
       "Name: count, dtype: int64"
      ]
     },
     "execution_count": 18,
     "metadata": {},
     "output_type": "execute_result"
    }
   ],
   "source": [
    "df1['목표금액과차이'] = df1['상품목표주문금액'] - (df1['상품주문수량'] * df1['상품주문금액'])\n",
    "def solution(row) :\n",
    "    if row <= 0 :\n",
    "        return 1\n",
    "    else : return 0\n",
    "df1['목표달성여부'] = df1['목표금액과차이'].apply(solution)\n",
    "\n",
    "df1['목표달성여부'].value_counts()"
   ]
  },
  {
   "cell_type": "code",
   "execution_count": 17,
   "id": "fcdf9c86-0b46-4640-bc1e-d7d725cf29eb",
   "metadata": {},
   "outputs": [
    {
     "data": {
      "text/plain": [
       "목표달성여부2\n",
       "1.0    16333\n",
       "0.0     9950\n",
       "Name: count, dtype: int64"
      ]
     },
     "execution_count": 17,
     "metadata": {},
     "output_type": "execute_result"
    }
   ],
   "source": [
    "df1['목표달성액'] =   df1['상품목표주문금액'] - df1['상품주문금액']\n",
    "cond1 = df1['목표달성액'] > 0\n",
    "df1.loc[cond1, '목표달성여부2'] = 1\n",
    "df1.loc[~cond1, '목표달성여부2'] = 0\n",
    "df1['목표달성여부2'].value_counts()"
   ]
  },
  {
   "cell_type": "code",
   "execution_count": 124,
   "id": "01d42607-aa72-46c2-ac80-f7e0f96dbf37",
   "metadata": {},
   "outputs": [
    {
     "data": {
      "text/plain": [
       "목표달성여부\n",
       "1    24652\n",
       "0     1631\n",
       "Name: count, dtype: int64"
      ]
     },
     "execution_count": 124,
     "metadata": {},
     "output_type": "execute_result"
    }
   ],
   "source": [
    "df1['목표달성여부'].value_counts()"
   ]
  },
  {
   "cell_type": "markdown",
   "id": "5a2ff439-8868-4e0f-819b-dd272a44a49e",
   "metadata": {},
   "source": [
    "9. '목표달성여부'를 분류하는 모델을 만들고자 한다.\r\n",
    "    - X : 소요분 / 방송구분 / 판매단가 / ARS 금액 /수수료율 / '방송요일' / '방송월'\r\n",
    "    - Y : '목표달성여부'\r\n",
    "    - 학습 : 검증 = 8 : 2\r\n",
    "    - 특성 공학 기법 (결측처리(평균,최빈값) + 스케일링&인코딩)\r\n",
    "    - 알고리즘 ( Logistic Regression 회귀 적용 / 하이퍼파라미터 튜닝 적용)\r\n",
    "    - 평가"
   ]
  },
  {
   "cell_type": "code",
   "execution_count": 152,
   "id": "a33bb890-7603-4768-8bbf-dfd995fd6dc8",
   "metadata": {},
   "outputs": [],
   "source": [
    "from sklearn.model_selection import train_test_split #\n",
    "from sklearn.pipeline import make_pipeline # 파이프라인 구성\n",
    "from sklearn.compose import make_column_transformer # 분할처리 때 필요(병렬로 배치)\n",
    "\n",
    "from sklearn.impute import SimpleImputer # 결측값 처리\n",
    "from sklearn.preprocessing import StandardScaler # 스케일링\n",
    "from sklearn.preprocessing import OneHotEncoder # 인코딩\n",
    "\n",
    "from imblearn.combine import SMOTEENN # 불균형데이터처리\n",
    "\n",
    "from sklearn.linear_model import LogisticRegression \n",
    "from sklearn.model_selection import GridSearchCV # 교차검증&매개변수 튜닝\n",
    "from sklearn.metrics import classification_report # 평가"
   ]
  },
  {
   "cell_type": "code",
   "execution_count": 153,
   "id": "f19bcb95-d1f3-4133-ad63-37897bcab51a",
   "metadata": {},
   "outputs": [
    {
     "data": {
      "text/plain": [
       "Index(['방송Code', '채널', '소요분', '가중분', '방송구분', '프로그램명', '상품ID', '상품명', '매입과세구분',\n",
       "       '상품목표취급금액', '상품목표주문금액', '판매단가', '수수료율', '상품주문수량', '상품주문금액', '상품취소수량',\n",
       "       '상품취소금액', 'ARS금액', '매입형태', '배송방식', '상품소요분', '상품가중분', '상품방송순번', '방송시작시간',\n",
       "       '방송종료시간', '방송진행시간', '방송연도', '방송월', '방송일', '방송요일', '목표금액과차이', '목표달성여부'],\n",
       "      dtype='object')"
      ]
     },
     "execution_count": 153,
     "metadata": {},
     "output_type": "execute_result"
    }
   ],
   "source": [
    "df1.columns"
   ]
  },
  {
   "cell_type": "code",
   "execution_count": 154,
   "id": "05d00c42-4283-4170-bbaa-84d0d2a0957e",
   "metadata": {},
   "outputs": [],
   "source": [
    "X = df1[['소요분','방송구분','판매단가','ARS금액','수수료율','방송요일','방송월']]\n",
    "Y = df1['목표달성여부']"
   ]
  },
  {
   "cell_type": "code",
   "execution_count": 155,
   "id": "373d7340-2b75-4a5c-b3f3-4eb1cfad7109",
   "metadata": {},
   "outputs": [
    {
     "data": {
      "text/plain": [
       "0"
      ]
     },
     "execution_count": 155,
     "metadata": {},
     "output_type": "execute_result"
    }
   ],
   "source": [
    "Y.isnull().sum()"
   ]
  },
  {
   "cell_type": "code",
   "execution_count": 156,
   "id": "bcdd9ff3-b779-441d-817c-85bf605696ba",
   "metadata": {},
   "outputs": [
    {
     "name": "stdout",
     "output_type": "stream",
     "text": [
      "<class 'pandas.core.frame.DataFrame'>\n",
      "RangeIndex: 26283 entries, 0 to 26282\n",
      "Data columns (total 7 columns):\n",
      " #   Column  Non-Null Count  Dtype  \n",
      "---  ------  --------------  -----  \n",
      " 0   소요분     26283 non-null  float64\n",
      " 1   방송구분    26283 non-null  object \n",
      " 2   판매단가    26283 non-null  int64  \n",
      " 3   ARS금액   26283 non-null  int64  \n",
      " 4   수수료율    26283 non-null  float64\n",
      " 5   방송요일    26283 non-null  object \n",
      " 6   방송월     26283 non-null  int32  \n",
      "dtypes: float64(2), int32(1), int64(2), object(2)\n",
      "memory usage: 1.3+ MB\n"
     ]
    }
   ],
   "source": [
    "X.info()"
   ]
  },
  {
   "cell_type": "code",
   "execution_count": 157,
   "id": "14827b7b-644b-48b9-ae4c-f11ffb7be772",
   "metadata": {},
   "outputs": [],
   "source": [
    "X_test, X_train, Y_test, Y_train = train_test_split(X,Y,random_state=1234,test_size=0.8)"
   ]
  },
  {
   "cell_type": "code",
   "execution_count": 158,
   "id": "ecc9f447-28ba-4db6-8f68-37b48ceffe4b",
   "metadata": {},
   "outputs": [],
   "source": [
    "numeric_list = X.describe().columns\n",
    "category_list = X.describe(include='object').columns"
   ]
  },
  {
   "cell_type": "code",
   "execution_count": 162,
   "id": "4030cb06-582e-42ec-ac6f-a06c502a1210",
   "metadata": {},
   "outputs": [],
   "source": [
    "numeric_pipe = make_pipeline(SimpleImputer(strategy='mean'), StandardScaler())\n",
    "category_pipe = make_pipeline(SimpleImputer(strategy='most_frequent'), OneHotEncoder())\n",
    "prepro_pipe = make_column_transformer((numeric_pipe,numeric_list),\n",
    "                            (category_pipe,category_list))"
   ]
  },
  {
   "cell_type": "code",
   "execution_count": 163,
   "id": "1952f7b8-b828-4b13-8579-572d9dcf0bb9",
   "metadata": {},
   "outputs": [
    {
     "data": {
      "text/html": [
       "<style>#sk-container-id-7 {color: black;background-color: white;}#sk-container-id-7 pre{padding: 0;}#sk-container-id-7 div.sk-toggleable {background-color: white;}#sk-container-id-7 label.sk-toggleable__label {cursor: pointer;display: block;width: 100%;margin-bottom: 0;padding: 0.3em;box-sizing: border-box;text-align: center;}#sk-container-id-7 label.sk-toggleable__label-arrow:before {content: \"▸\";float: left;margin-right: 0.25em;color: #696969;}#sk-container-id-7 label.sk-toggleable__label-arrow:hover:before {color: black;}#sk-container-id-7 div.sk-estimator:hover label.sk-toggleable__label-arrow:before {color: black;}#sk-container-id-7 div.sk-toggleable__content {max-height: 0;max-width: 0;overflow: hidden;text-align: left;background-color: #f0f8ff;}#sk-container-id-7 div.sk-toggleable__content pre {margin: 0.2em;color: black;border-radius: 0.25em;background-color: #f0f8ff;}#sk-container-id-7 input.sk-toggleable__control:checked~div.sk-toggleable__content {max-height: 200px;max-width: 100%;overflow: auto;}#sk-container-id-7 input.sk-toggleable__control:checked~label.sk-toggleable__label-arrow:before {content: \"▾\";}#sk-container-id-7 div.sk-estimator input.sk-toggleable__control:checked~label.sk-toggleable__label {background-color: #d4ebff;}#sk-container-id-7 div.sk-label input.sk-toggleable__control:checked~label.sk-toggleable__label {background-color: #d4ebff;}#sk-container-id-7 input.sk-hidden--visually {border: 0;clip: rect(1px 1px 1px 1px);clip: rect(1px, 1px, 1px, 1px);height: 1px;margin: -1px;overflow: hidden;padding: 0;position: absolute;width: 1px;}#sk-container-id-7 div.sk-estimator {font-family: monospace;background-color: #f0f8ff;border: 1px dotted black;border-radius: 0.25em;box-sizing: border-box;margin-bottom: 0.5em;}#sk-container-id-7 div.sk-estimator:hover {background-color: #d4ebff;}#sk-container-id-7 div.sk-parallel-item::after {content: \"\";width: 100%;border-bottom: 1px solid gray;flex-grow: 1;}#sk-container-id-7 div.sk-label:hover label.sk-toggleable__label {background-color: #d4ebff;}#sk-container-id-7 div.sk-serial::before {content: \"\";position: absolute;border-left: 1px solid gray;box-sizing: border-box;top: 0;bottom: 0;left: 50%;z-index: 0;}#sk-container-id-7 div.sk-serial {display: flex;flex-direction: column;align-items: center;background-color: white;padding-right: 0.2em;padding-left: 0.2em;position: relative;}#sk-container-id-7 div.sk-item {position: relative;z-index: 1;}#sk-container-id-7 div.sk-parallel {display: flex;align-items: stretch;justify-content: center;background-color: white;position: relative;}#sk-container-id-7 div.sk-item::before, #sk-container-id-7 div.sk-parallel-item::before {content: \"\";position: absolute;border-left: 1px solid gray;box-sizing: border-box;top: 0;bottom: 0;left: 50%;z-index: -1;}#sk-container-id-7 div.sk-parallel-item {display: flex;flex-direction: column;z-index: 1;position: relative;background-color: white;}#sk-container-id-7 div.sk-parallel-item:first-child::after {align-self: flex-end;width: 50%;}#sk-container-id-7 div.sk-parallel-item:last-child::after {align-self: flex-start;width: 50%;}#sk-container-id-7 div.sk-parallel-item:only-child::after {width: 0;}#sk-container-id-7 div.sk-dashed-wrapped {border: 1px dashed gray;margin: 0 0.4em 0.5em 0.4em;box-sizing: border-box;padding-bottom: 0.4em;background-color: white;}#sk-container-id-7 div.sk-label label {font-family: monospace;font-weight: bold;display: inline-block;line-height: 1.2em;}#sk-container-id-7 div.sk-label-container {text-align: center;}#sk-container-id-7 div.sk-container {/* jupyter's `normalize.less` sets `[hidden] { display: none; }` but bootstrap.min.css set `[hidden] { display: none !important; }` so we also need the `!important` here to be able to override the default hidden behavior on the sphinx rendered scikit-learn.org. See: https://github.com/scikit-learn/scikit-learn/issues/21755 */display: inline-block !important;position: relative;}#sk-container-id-7 div.sk-text-repr-fallback {display: none;}</style><div id=\"sk-container-id-7\" class=\"sk-top-container\"><div class=\"sk-text-repr-fallback\"><pre>ColumnTransformer(transformers=[(&#x27;pipeline-1&#x27;,\n",
       "                                 Pipeline(steps=[(&#x27;simpleimputer&#x27;,\n",
       "                                                  SimpleImputer()),\n",
       "                                                 (&#x27;standardscaler&#x27;,\n",
       "                                                  StandardScaler())]),\n",
       "                                 Index([&#x27;소요분&#x27;, &#x27;판매단가&#x27;, &#x27;ARS금액&#x27;, &#x27;수수료율&#x27;, &#x27;방송월&#x27;], dtype=&#x27;object&#x27;)),\n",
       "                                (&#x27;pipeline-2&#x27;,\n",
       "                                 Pipeline(steps=[(&#x27;simpleimputer&#x27;,\n",
       "                                                  SimpleImputer(strategy=&#x27;most_frequent&#x27;)),\n",
       "                                                 (&#x27;onehotencoder&#x27;,\n",
       "                                                  OneHotEncoder())]),\n",
       "                                 Index([&#x27;방송구분&#x27;, &#x27;방송요일&#x27;], dtype=&#x27;object&#x27;))])</pre><b>In a Jupyter environment, please rerun this cell to show the HTML representation or trust the notebook. <br />On GitHub, the HTML representation is unable to render, please try loading this page with nbviewer.org.</b></div><div class=\"sk-container\" hidden><div class=\"sk-item sk-dashed-wrapped\"><div class=\"sk-label-container\"><div class=\"sk-label sk-toggleable\"><input class=\"sk-toggleable__control sk-hidden--visually\" id=\"sk-estimator-id-35\" type=\"checkbox\" ><label for=\"sk-estimator-id-35\" class=\"sk-toggleable__label sk-toggleable__label-arrow\">ColumnTransformer</label><div class=\"sk-toggleable__content\"><pre>ColumnTransformer(transformers=[(&#x27;pipeline-1&#x27;,\n",
       "                                 Pipeline(steps=[(&#x27;simpleimputer&#x27;,\n",
       "                                                  SimpleImputer()),\n",
       "                                                 (&#x27;standardscaler&#x27;,\n",
       "                                                  StandardScaler())]),\n",
       "                                 Index([&#x27;소요분&#x27;, &#x27;판매단가&#x27;, &#x27;ARS금액&#x27;, &#x27;수수료율&#x27;, &#x27;방송월&#x27;], dtype=&#x27;object&#x27;)),\n",
       "                                (&#x27;pipeline-2&#x27;,\n",
       "                                 Pipeline(steps=[(&#x27;simpleimputer&#x27;,\n",
       "                                                  SimpleImputer(strategy=&#x27;most_frequent&#x27;)),\n",
       "                                                 (&#x27;onehotencoder&#x27;,\n",
       "                                                  OneHotEncoder())]),\n",
       "                                 Index([&#x27;방송구분&#x27;, &#x27;방송요일&#x27;], dtype=&#x27;object&#x27;))])</pre></div></div></div><div class=\"sk-parallel\"><div class=\"sk-parallel-item\"><div class=\"sk-item\"><div class=\"sk-label-container\"><div class=\"sk-label sk-toggleable\"><input class=\"sk-toggleable__control sk-hidden--visually\" id=\"sk-estimator-id-36\" type=\"checkbox\" ><label for=\"sk-estimator-id-36\" class=\"sk-toggleable__label sk-toggleable__label-arrow\">pipeline-1</label><div class=\"sk-toggleable__content\"><pre>Index([&#x27;소요분&#x27;, &#x27;판매단가&#x27;, &#x27;ARS금액&#x27;, &#x27;수수료율&#x27;, &#x27;방송월&#x27;], dtype=&#x27;object&#x27;)</pre></div></div></div><div class=\"sk-serial\"><div class=\"sk-item\"><div class=\"sk-serial\"><div class=\"sk-item\"><div class=\"sk-estimator sk-toggleable\"><input class=\"sk-toggleable__control sk-hidden--visually\" id=\"sk-estimator-id-37\" type=\"checkbox\" ><label for=\"sk-estimator-id-37\" class=\"sk-toggleable__label sk-toggleable__label-arrow\">SimpleImputer</label><div class=\"sk-toggleable__content\"><pre>SimpleImputer()</pre></div></div></div><div class=\"sk-item\"><div class=\"sk-estimator sk-toggleable\"><input class=\"sk-toggleable__control sk-hidden--visually\" id=\"sk-estimator-id-38\" type=\"checkbox\" ><label for=\"sk-estimator-id-38\" class=\"sk-toggleable__label sk-toggleable__label-arrow\">StandardScaler</label><div class=\"sk-toggleable__content\"><pre>StandardScaler()</pre></div></div></div></div></div></div></div></div><div class=\"sk-parallel-item\"><div class=\"sk-item\"><div class=\"sk-label-container\"><div class=\"sk-label sk-toggleable\"><input class=\"sk-toggleable__control sk-hidden--visually\" id=\"sk-estimator-id-39\" type=\"checkbox\" ><label for=\"sk-estimator-id-39\" class=\"sk-toggleable__label sk-toggleable__label-arrow\">pipeline-2</label><div class=\"sk-toggleable__content\"><pre>Index([&#x27;방송구분&#x27;, &#x27;방송요일&#x27;], dtype=&#x27;object&#x27;)</pre></div></div></div><div class=\"sk-serial\"><div class=\"sk-item\"><div class=\"sk-serial\"><div class=\"sk-item\"><div class=\"sk-estimator sk-toggleable\"><input class=\"sk-toggleable__control sk-hidden--visually\" id=\"sk-estimator-id-40\" type=\"checkbox\" ><label for=\"sk-estimator-id-40\" class=\"sk-toggleable__label sk-toggleable__label-arrow\">SimpleImputer</label><div class=\"sk-toggleable__content\"><pre>SimpleImputer(strategy=&#x27;most_frequent&#x27;)</pre></div></div></div><div class=\"sk-item\"><div class=\"sk-estimator sk-toggleable\"><input class=\"sk-toggleable__control sk-hidden--visually\" id=\"sk-estimator-id-41\" type=\"checkbox\" ><label for=\"sk-estimator-id-41\" class=\"sk-toggleable__label sk-toggleable__label-arrow\">OneHotEncoder</label><div class=\"sk-toggleable__content\"><pre>OneHotEncoder()</pre></div></div></div></div></div></div></div></div></div></div></div></div>"
      ],
      "text/plain": [
       "ColumnTransformer(transformers=[('pipeline-1',\n",
       "                                 Pipeline(steps=[('simpleimputer',\n",
       "                                                  SimpleImputer()),\n",
       "                                                 ('standardscaler',\n",
       "                                                  StandardScaler())]),\n",
       "                                 Index(['소요분', '판매단가', 'ARS금액', '수수료율', '방송월'], dtype='object')),\n",
       "                                ('pipeline-2',\n",
       "                                 Pipeline(steps=[('simpleimputer',\n",
       "                                                  SimpleImputer(strategy='most_frequent')),\n",
       "                                                 ('onehotencoder',\n",
       "                                                  OneHotEncoder())]),\n",
       "                                 Index(['방송구분', '방송요일'], dtype='object'))])"
      ]
     },
     "execution_count": 163,
     "metadata": {},
     "output_type": "execute_result"
    }
   ],
   "source": [
    "prepro_pipe"
   ]
  },
  {
   "cell_type": "code",
   "execution_count": 164,
   "id": "cf1c937d-30d4-43c6-bb1a-4f9710f6ac0a",
   "metadata": {},
   "outputs": [
    {
     "data": {
      "text/html": [
       "<style>#sk-container-id-8 {color: black;background-color: white;}#sk-container-id-8 pre{padding: 0;}#sk-container-id-8 div.sk-toggleable {background-color: white;}#sk-container-id-8 label.sk-toggleable__label {cursor: pointer;display: block;width: 100%;margin-bottom: 0;padding: 0.3em;box-sizing: border-box;text-align: center;}#sk-container-id-8 label.sk-toggleable__label-arrow:before {content: \"▸\";float: left;margin-right: 0.25em;color: #696969;}#sk-container-id-8 label.sk-toggleable__label-arrow:hover:before {color: black;}#sk-container-id-8 div.sk-estimator:hover label.sk-toggleable__label-arrow:before {color: black;}#sk-container-id-8 div.sk-toggleable__content {max-height: 0;max-width: 0;overflow: hidden;text-align: left;background-color: #f0f8ff;}#sk-container-id-8 div.sk-toggleable__content pre {margin: 0.2em;color: black;border-radius: 0.25em;background-color: #f0f8ff;}#sk-container-id-8 input.sk-toggleable__control:checked~div.sk-toggleable__content {max-height: 200px;max-width: 100%;overflow: auto;}#sk-container-id-8 input.sk-toggleable__control:checked~label.sk-toggleable__label-arrow:before {content: \"▾\";}#sk-container-id-8 div.sk-estimator input.sk-toggleable__control:checked~label.sk-toggleable__label {background-color: #d4ebff;}#sk-container-id-8 div.sk-label input.sk-toggleable__control:checked~label.sk-toggleable__label {background-color: #d4ebff;}#sk-container-id-8 input.sk-hidden--visually {border: 0;clip: rect(1px 1px 1px 1px);clip: rect(1px, 1px, 1px, 1px);height: 1px;margin: -1px;overflow: hidden;padding: 0;position: absolute;width: 1px;}#sk-container-id-8 div.sk-estimator {font-family: monospace;background-color: #f0f8ff;border: 1px dotted black;border-radius: 0.25em;box-sizing: border-box;margin-bottom: 0.5em;}#sk-container-id-8 div.sk-estimator:hover {background-color: #d4ebff;}#sk-container-id-8 div.sk-parallel-item::after {content: \"\";width: 100%;border-bottom: 1px solid gray;flex-grow: 1;}#sk-container-id-8 div.sk-label:hover label.sk-toggleable__label {background-color: #d4ebff;}#sk-container-id-8 div.sk-serial::before {content: \"\";position: absolute;border-left: 1px solid gray;box-sizing: border-box;top: 0;bottom: 0;left: 50%;z-index: 0;}#sk-container-id-8 div.sk-serial {display: flex;flex-direction: column;align-items: center;background-color: white;padding-right: 0.2em;padding-left: 0.2em;position: relative;}#sk-container-id-8 div.sk-item {position: relative;z-index: 1;}#sk-container-id-8 div.sk-parallel {display: flex;align-items: stretch;justify-content: center;background-color: white;position: relative;}#sk-container-id-8 div.sk-item::before, #sk-container-id-8 div.sk-parallel-item::before {content: \"\";position: absolute;border-left: 1px solid gray;box-sizing: border-box;top: 0;bottom: 0;left: 50%;z-index: -1;}#sk-container-id-8 div.sk-parallel-item {display: flex;flex-direction: column;z-index: 1;position: relative;background-color: white;}#sk-container-id-8 div.sk-parallel-item:first-child::after {align-self: flex-end;width: 50%;}#sk-container-id-8 div.sk-parallel-item:last-child::after {align-self: flex-start;width: 50%;}#sk-container-id-8 div.sk-parallel-item:only-child::after {width: 0;}#sk-container-id-8 div.sk-dashed-wrapped {border: 1px dashed gray;margin: 0 0.4em 0.5em 0.4em;box-sizing: border-box;padding-bottom: 0.4em;background-color: white;}#sk-container-id-8 div.sk-label label {font-family: monospace;font-weight: bold;display: inline-block;line-height: 1.2em;}#sk-container-id-8 div.sk-label-container {text-align: center;}#sk-container-id-8 div.sk-container {/* jupyter's `normalize.less` sets `[hidden] { display: none; }` but bootstrap.min.css set `[hidden] { display: none !important; }` so we also need the `!important` here to be able to override the default hidden behavior on the sphinx rendered scikit-learn.org. See: https://github.com/scikit-learn/scikit-learn/issues/21755 */display: inline-block !important;position: relative;}#sk-container-id-8 div.sk-text-repr-fallback {display: none;}</style><div id=\"sk-container-id-8\" class=\"sk-top-container\"><div class=\"sk-text-repr-fallback\"><pre>Pipeline(steps=[(&#x27;columntransformer&#x27;,\n",
       "                 ColumnTransformer(transformers=[(&#x27;pipeline-1&#x27;,\n",
       "                                                  Pipeline(steps=[(&#x27;simpleimputer&#x27;,\n",
       "                                                                   SimpleImputer()),\n",
       "                                                                  (&#x27;standardscaler&#x27;,\n",
       "                                                                   StandardScaler())]),\n",
       "                                                  Index([&#x27;소요분&#x27;, &#x27;판매단가&#x27;, &#x27;ARS금액&#x27;, &#x27;수수료율&#x27;, &#x27;방송월&#x27;], dtype=&#x27;object&#x27;)),\n",
       "                                                 (&#x27;pipeline-2&#x27;,\n",
       "                                                  Pipeline(steps=[(&#x27;simpleimputer&#x27;,\n",
       "                                                                   SimpleImputer(strategy=&#x27;most_frequent&#x27;)),\n",
       "                                                                  (&#x27;onehotencoder&#x27;,\n",
       "                                                                   OneHotEncoder())]),\n",
       "                                                  Index([&#x27;방송구분&#x27;, &#x27;방송요일&#x27;], dtype=&#x27;object&#x27;))])),\n",
       "                (&#x27;logisticregression&#x27;, LogisticRegression())])</pre><b>In a Jupyter environment, please rerun this cell to show the HTML representation or trust the notebook. <br />On GitHub, the HTML representation is unable to render, please try loading this page with nbviewer.org.</b></div><div class=\"sk-container\" hidden><div class=\"sk-item sk-dashed-wrapped\"><div class=\"sk-label-container\"><div class=\"sk-label sk-toggleable\"><input class=\"sk-toggleable__control sk-hidden--visually\" id=\"sk-estimator-id-42\" type=\"checkbox\" ><label for=\"sk-estimator-id-42\" class=\"sk-toggleable__label sk-toggleable__label-arrow\">Pipeline</label><div class=\"sk-toggleable__content\"><pre>Pipeline(steps=[(&#x27;columntransformer&#x27;,\n",
       "                 ColumnTransformer(transformers=[(&#x27;pipeline-1&#x27;,\n",
       "                                                  Pipeline(steps=[(&#x27;simpleimputer&#x27;,\n",
       "                                                                   SimpleImputer()),\n",
       "                                                                  (&#x27;standardscaler&#x27;,\n",
       "                                                                   StandardScaler())]),\n",
       "                                                  Index([&#x27;소요분&#x27;, &#x27;판매단가&#x27;, &#x27;ARS금액&#x27;, &#x27;수수료율&#x27;, &#x27;방송월&#x27;], dtype=&#x27;object&#x27;)),\n",
       "                                                 (&#x27;pipeline-2&#x27;,\n",
       "                                                  Pipeline(steps=[(&#x27;simpleimputer&#x27;,\n",
       "                                                                   SimpleImputer(strategy=&#x27;most_frequent&#x27;)),\n",
       "                                                                  (&#x27;onehotencoder&#x27;,\n",
       "                                                                   OneHotEncoder())]),\n",
       "                                                  Index([&#x27;방송구분&#x27;, &#x27;방송요일&#x27;], dtype=&#x27;object&#x27;))])),\n",
       "                (&#x27;logisticregression&#x27;, LogisticRegression())])</pre></div></div></div><div class=\"sk-serial\"><div class=\"sk-item sk-dashed-wrapped\"><div class=\"sk-label-container\"><div class=\"sk-label sk-toggleable\"><input class=\"sk-toggleable__control sk-hidden--visually\" id=\"sk-estimator-id-43\" type=\"checkbox\" ><label for=\"sk-estimator-id-43\" class=\"sk-toggleable__label sk-toggleable__label-arrow\">columntransformer: ColumnTransformer</label><div class=\"sk-toggleable__content\"><pre>ColumnTransformer(transformers=[(&#x27;pipeline-1&#x27;,\n",
       "                                 Pipeline(steps=[(&#x27;simpleimputer&#x27;,\n",
       "                                                  SimpleImputer()),\n",
       "                                                 (&#x27;standardscaler&#x27;,\n",
       "                                                  StandardScaler())]),\n",
       "                                 Index([&#x27;소요분&#x27;, &#x27;판매단가&#x27;, &#x27;ARS금액&#x27;, &#x27;수수료율&#x27;, &#x27;방송월&#x27;], dtype=&#x27;object&#x27;)),\n",
       "                                (&#x27;pipeline-2&#x27;,\n",
       "                                 Pipeline(steps=[(&#x27;simpleimputer&#x27;,\n",
       "                                                  SimpleImputer(strategy=&#x27;most_frequent&#x27;)),\n",
       "                                                 (&#x27;onehotencoder&#x27;,\n",
       "                                                  OneHotEncoder())]),\n",
       "                                 Index([&#x27;방송구분&#x27;, &#x27;방송요일&#x27;], dtype=&#x27;object&#x27;))])</pre></div></div></div><div class=\"sk-parallel\"><div class=\"sk-parallel-item\"><div class=\"sk-item\"><div class=\"sk-label-container\"><div class=\"sk-label sk-toggleable\"><input class=\"sk-toggleable__control sk-hidden--visually\" id=\"sk-estimator-id-44\" type=\"checkbox\" ><label for=\"sk-estimator-id-44\" class=\"sk-toggleable__label sk-toggleable__label-arrow\">pipeline-1</label><div class=\"sk-toggleable__content\"><pre>Index([&#x27;소요분&#x27;, &#x27;판매단가&#x27;, &#x27;ARS금액&#x27;, &#x27;수수료율&#x27;, &#x27;방송월&#x27;], dtype=&#x27;object&#x27;)</pre></div></div></div><div class=\"sk-serial\"><div class=\"sk-item\"><div class=\"sk-serial\"><div class=\"sk-item\"><div class=\"sk-estimator sk-toggleable\"><input class=\"sk-toggleable__control sk-hidden--visually\" id=\"sk-estimator-id-45\" type=\"checkbox\" ><label for=\"sk-estimator-id-45\" class=\"sk-toggleable__label sk-toggleable__label-arrow\">SimpleImputer</label><div class=\"sk-toggleable__content\"><pre>SimpleImputer()</pre></div></div></div><div class=\"sk-item\"><div class=\"sk-estimator sk-toggleable\"><input class=\"sk-toggleable__control sk-hidden--visually\" id=\"sk-estimator-id-46\" type=\"checkbox\" ><label for=\"sk-estimator-id-46\" class=\"sk-toggleable__label sk-toggleable__label-arrow\">StandardScaler</label><div class=\"sk-toggleable__content\"><pre>StandardScaler()</pre></div></div></div></div></div></div></div></div><div class=\"sk-parallel-item\"><div class=\"sk-item\"><div class=\"sk-label-container\"><div class=\"sk-label sk-toggleable\"><input class=\"sk-toggleable__control sk-hidden--visually\" id=\"sk-estimator-id-47\" type=\"checkbox\" ><label for=\"sk-estimator-id-47\" class=\"sk-toggleable__label sk-toggleable__label-arrow\">pipeline-2</label><div class=\"sk-toggleable__content\"><pre>Index([&#x27;방송구분&#x27;, &#x27;방송요일&#x27;], dtype=&#x27;object&#x27;)</pre></div></div></div><div class=\"sk-serial\"><div class=\"sk-item\"><div class=\"sk-serial\"><div class=\"sk-item\"><div class=\"sk-estimator sk-toggleable\"><input class=\"sk-toggleable__control sk-hidden--visually\" id=\"sk-estimator-id-48\" type=\"checkbox\" ><label for=\"sk-estimator-id-48\" class=\"sk-toggleable__label sk-toggleable__label-arrow\">SimpleImputer</label><div class=\"sk-toggleable__content\"><pre>SimpleImputer(strategy=&#x27;most_frequent&#x27;)</pre></div></div></div><div class=\"sk-item\"><div class=\"sk-estimator sk-toggleable\"><input class=\"sk-toggleable__control sk-hidden--visually\" id=\"sk-estimator-id-49\" type=\"checkbox\" ><label for=\"sk-estimator-id-49\" class=\"sk-toggleable__label sk-toggleable__label-arrow\">OneHotEncoder</label><div class=\"sk-toggleable__content\"><pre>OneHotEncoder()</pre></div></div></div></div></div></div></div></div></div></div><div class=\"sk-item\"><div class=\"sk-estimator sk-toggleable\"><input class=\"sk-toggleable__control sk-hidden--visually\" id=\"sk-estimator-id-50\" type=\"checkbox\" ><label for=\"sk-estimator-id-50\" class=\"sk-toggleable__label sk-toggleable__label-arrow\">LogisticRegression</label><div class=\"sk-toggleable__content\"><pre>LogisticRegression()</pre></div></div></div></div></div></div></div>"
      ],
      "text/plain": [
       "Pipeline(steps=[('columntransformer',\n",
       "                 ColumnTransformer(transformers=[('pipeline-1',\n",
       "                                                  Pipeline(steps=[('simpleimputer',\n",
       "                                                                   SimpleImputer()),\n",
       "                                                                  ('standardscaler',\n",
       "                                                                   StandardScaler())]),\n",
       "                                                  Index(['소요분', '판매단가', 'ARS금액', '수수료율', '방송월'], dtype='object')),\n",
       "                                                 ('pipeline-2',\n",
       "                                                  Pipeline(steps=[('simpleimputer',\n",
       "                                                                   SimpleImputer(strategy='most_frequent')),\n",
       "                                                                  ('onehotencoder',\n",
       "                                                                   OneHotEncoder())]),\n",
       "                                                  Index(['방송구분', '방송요일'], dtype='object'))])),\n",
       "                ('logisticregression', LogisticRegression())])"
      ]
     },
     "execution_count": 164,
     "metadata": {},
     "output_type": "execute_result"
    }
   ],
   "source": [
    "model_pipe = make_pipeline(prepro_pipe, LogisticRegression())\n",
    "model_pipe"
   ]
  },
  {
   "cell_type": "code",
   "execution_count": 165,
   "id": "f329d797-43e3-432e-b90a-f89236b3e130",
   "metadata": {},
   "outputs": [],
   "source": [
    "grid_model = GridSearchCV(model_pipe, param_grid={}, cv=5)\n",
    "grid_model.fit(X_train,Y_train)\n",
    "best_model = grid_model.best_estimator_"
   ]
  },
  {
   "cell_type": "code",
   "execution_count": 166,
   "id": "b98e6a83-21fc-4e9e-ba2e-d4ed9886c145",
   "metadata": {},
   "outputs": [],
   "source": [
    "from sklearn.metrics import r2_score\n",
    "from sklearn.metrics import mean_squared_error,mean_absolute_error"
   ]
  },
  {
   "cell_type": "code",
   "execution_count": 167,
   "id": "db6c70f1-70a8-4778-8be4-dd55b5224f8f",
   "metadata": {},
   "outputs": [],
   "source": [
    "Y_train_pred = best_model.predict(X_train)\n",
    "Y_test_pred = best_model.predict(X_test)"
   ]
  },
  {
   "cell_type": "code",
   "execution_count": 168,
   "id": "fc13d949-8ee4-47e7-9959-68bb7ec0b6cb",
   "metadata": {},
   "outputs": [
    {
     "name": "stdout",
     "output_type": "stream",
     "text": [
      "학습 결정 계수 :  0.25776235532975833\n",
      "일반화 결정 계수 :  0.17652439024390254\n"
     ]
    }
   ],
   "source": [
    "print('학습 결정 계수 : ' , r2_score(Y_train, Y_train_pred))\n",
    "print('일반화 결정 계수 : ' , r2_score(Y_test, Y_test_pred))"
   ]
  },
  {
   "cell_type": "code",
   "execution_count": 169,
   "id": "15712bc2-5706-49ea-9232-29ff493ccb5d",
   "metadata": {},
   "outputs": [
    {
     "name": "stdout",
     "output_type": "stream",
     "text": [
      "학습 MSE :  0.042897227374328245\n",
      "일반화 MSE :  0.049277016742770165\n"
     ]
    }
   ],
   "source": [
    "print('학습 MSE : ' , mean_squared_error(Y_train, Y_train_pred))\n",
    "print('일반화 MSE : ' ,  mean_squared_error(Y_test, Y_test_pred))"
   ]
  },
  {
   "cell_type": "code",
   "execution_count": 170,
   "id": "08202bb3-29ac-47d4-8481-fb7867ac339e",
   "metadata": {},
   "outputs": [
    {
     "name": "stdout",
     "output_type": "stream",
     "text": [
      "학습 MAE :  0.042897227374328245\n",
      "일반화 MAE :  0.049277016742770165\n"
     ]
    }
   ],
   "source": [
    "print('학습 MAE : ' , mean_absolute_error(Y_train, Y_train_pred))\n",
    "print('일반화 MAE : ' ,  mean_absolute_error(Y_test, Y_test_pred))"
   ]
  },
  {
   "cell_type": "code",
   "execution_count": null,
   "id": "dc83c884-ef4a-4e8d-884d-786b0ada8806",
   "metadata": {},
   "outputs": [],
   "source": []
  }
 ],
 "metadata": {
  "kernelspec": {
   "display_name": "Python 3 (ipykernel)",
   "language": "python",
   "name": "python3"
  },
  "language_info": {
   "codemirror_mode": {
    "name": "ipython",
    "version": 3
   },
   "file_extension": ".py",
   "mimetype": "text/x-python",
   "name": "python",
   "nbconvert_exporter": "python",
   "pygments_lexer": "ipython3",
   "version": "3.11.7"
  }
 },
 "nbformat": 4,
 "nbformat_minor": 5
}
