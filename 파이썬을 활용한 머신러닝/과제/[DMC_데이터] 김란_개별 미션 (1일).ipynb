{
 "cells": [
  {
   "cell_type": "code",
   "execution_count": null,
   "metadata": {},
   "outputs": [],
   "source": [
    "import pandas as pd\n",
    "df1 = pd.read_csv('01_Data.csv')\n",
    "df1.head(2)"
   ]
  },
  {
   "cell_type": "markdown",
   "metadata": {},
   "source": [
    "**렌탈 고객 유입 채널에 대한 분석을 하고자 한다.**\n",
    "1. 데이터에서 고객들의 유입 경로(Channel)을 분석하고자 한다. 유입 경로(Channel)중 가장 많은 고객이 유입된 경로를 확인하시오.\n",
    "2. 가장 많이 유입된 경로(Channel)에 계약 된 월 랜탈 비용(Amount_Month)의 평균을 계산하시오.\n",
    "3. 유입 경로(Channel)에서 '대형마트A'로 유입된 고객들 중, 연체 건수(Overdue_count)가 높은 상위 30명의 계약 명단을 추출하여 result4.xlsx 저장하시오."
   ]
  },
  {
   "cell_type": "code",
   "execution_count": null,
   "metadata": {},
   "outputs": [],
   "source": [
    "first_channel = df1['Channel'].value_counts().index[0]\n",
    "first_channel"
   ]
  },
  {
   "cell_type": "code",
   "execution_count": null,
   "metadata": {},
   "outputs": [],
   "source": [
    "cond1 = (df1['Channel'] == first_channel)\n",
    "df1.loc[cond1]['Amount_Month'].mean()"
   ]
  },
  {
   "cell_type": "code",
   "execution_count": null,
   "metadata": {},
   "outputs": [],
   "source": [
    "cond1 = (df1['Channel'] == '대형마트A')\n",
    "df1.loc[cond1].sort_values(by='Overdue_count',ascending=False).head(30).to_excel('result4.xlsx')"
   ]
  },
  {
   "cell_type": "markdown",
   "metadata": {},
   "source": [
    "- **렌탈 계약 제품 군에 대한 분석을 하고자 한다.**\n",
    "1. 데이터에서 고객들이 가장 많이 계약한 제품군(Product_Type)을 분석하고자 한다. 제품군(Product_Type)에는 어떤 데이터가 있는지 확인하시오.\n",
    "2. 제품군(Product_Type)중 계약을 가장 많이 한, 빈도수가 가장 높은 상위 3개의 항목을 추출하여, df2로 선언한 뒤, 계약 일자(Datetime)에 따른 월 렌탈 비용(Amount_Month)의 합을 계산해 result5.xlsx파일로 저장하시오.\n",
    "3. 제품군(Product_Type)중 계약을 가장 많이 한, 빈도수가 가장 높은 상위 2개의 항목의 월 랜탈 비용('Amount_Month')의 평균의 차이를 계산하시오."
   ]
  },
  {
   "cell_type": "code",
   "execution_count": null,
   "metadata": {},
   "outputs": [],
   "source": [
    "df1['Product_Type'].unique()"
   ]
  },
  {
   "cell_type": "code",
   "execution_count": null,
   "metadata": {},
   "outputs": [],
   "source": [
    "cond1 = df1['Product_Type'].isin(df1['Product_Type'].value_counts().index[0:3])\n",
    "cond1\n",
    "df2 = df1.loc[cond1]\n",
    "df2.pivot_table(index='Datetime' , values='Amount_Month', aggfunc='sum').('result5.xlsx')\n"
   ]
  },
  {
   "cell_type": "code",
   "execution_count": null,
   "metadata": {},
   "outputs": [],
   "source": [
    "cond1 = (df1['Product_Type'] == df1['Product_Type'].value_counts().index[0])\n",
    "cond2 = (df1['Product_Type'] == df1['Product_Type'].value_counts().index[1])\n",
    "abs(df1.loc[cond1]['Amount_Month'].mean() - df1.loc[cond2]['Amount_Month'].mean())"
   ]
  },
  {
   "cell_type": "markdown",
   "metadata": {},
   "source": [
    "- **계약 고객의 계약 특성을 분석하고자 한다.**\n",
    "1. 데이터에서 고객들이 결제하는 은행(Bank)를 확인하고자 한다. 결제 은행(Bank)항목에서 '신한카드'로 결제하는 고객들의 수를 확인하시오\n",
    "2. 월 랜탈 비용(Amount_Month)이 15만원 이상인 고객들 중 판매 유형(Sales_Type)이 '렌탈'에 해당하는 고객만 추출하여, 해당 데이터의 행(index) 개수를 확인하시오."
   ]
  },
  {
   "cell_type": "code",
   "execution_count": null,
   "metadata": {},
   "outputs": [],
   "source": [
    "# df1[df1['Bank'] == '신한카드'].shape[0] --> 계약건수\n",
    "\n",
    "len(df1[df1['Bank'] == '신한카드']['Member_ID'].unique())"
   ]
  },
  {
   "cell_type": "code",
   "execution_count": null,
   "metadata": {},
   "outputs": [],
   "source": [
    "cond1 = df1['Amount_Month'] >= 150000\n",
    "cond2 = (df1['Sales_Type'] == '렌탈')\n",
    "df1.loc[cond1 & cond2].shape[0]"
   ]
  },
  {
   "cell_type": "markdown",
   "metadata": {},
   "source": [
    "- **계약 건의 전체**\n",
    "1. 계약 일자(Datetime)에서 계약 연도(Year)파생 변수를 생성하고, 연도 별, 각 제품군(Product_Type)의 월 랜탈 비용(Amount_Month) 합을 계산하시오.\n",
    "2. 22년 대비 23년 제품군(Product_Type)별 월 랜탈 비용(Amount_Month) 합의 증감율을 계산하시오.\n",
    "    - 증감율 : ( (20년 월랜탈비용 총합) - (19년 월랜탈비용 총합) ) / (20년 월랜탈비용 총합)\n",
    "3. 판매 유형(Sales_Type)에서 '렌탈'계약과 '멤버십' 계약의 월랜탈비용(Amount_Month)의 평균의 차이를 계산하시오.\n",
    "4. 계약 데이터를 주기적으로 정리하는 업무 자동화 프로그램을 만들고자 한다. 데이터에서 주차(Work Week)를 입력 해, 해당 주차의 제품 군(Product_Type)별 월랜탈비용(Amount_Month)의 합과 평균을 엑셀로 출력하는 함수를 생성하시오.\n",
    "    - 파일이 저장 될 때, 아래와 같은 이름으로 저장 되어야 합니다.\n",
    "    - 1주차 입력시 -> '1week_Product_Contract.xlsx'\n",
    "    - 3주차 입력시 -> '3week_Product_Contract.xlsx'"
   ]
  },
  {
   "cell_type": "code",
   "execution_count": 18,
   "metadata": {},
   "outputs": [
    {
     "data": {
      "text/html": [
       "<div>\n",
       "<style scoped>\n",
       "    .dataframe tbody tr th:only-of-type {\n",
       "        vertical-align: middle;\n",
       "    }\n",
       "\n",
       "    .dataframe tbody tr th {\n",
       "        vertical-align: top;\n",
       "    }\n",
       "\n",
       "    .dataframe thead th {\n",
       "        text-align: right;\n",
       "    }\n",
       "</style>\n",
       "<table border=\"1\" class=\"dataframe\">\n",
       "  <thead>\n",
       "    <tr style=\"text-align: right;\">\n",
       "      <th>Year</th>\n",
       "      <th>2021</th>\n",
       "      <th>2022</th>\n",
       "      <th>2023</th>\n",
       "    </tr>\n",
       "    <tr>\n",
       "      <th>Product_Type</th>\n",
       "      <th></th>\n",
       "      <th></th>\n",
       "      <th></th>\n",
       "    </tr>\n",
       "  </thead>\n",
       "  <tbody>\n",
       "    <tr>\n",
       "      <th>DES-1</th>\n",
       "      <td>3201600.0</td>\n",
       "      <td>2.945729e+09</td>\n",
       "      <td>746184813.0</td>\n",
       "    </tr>\n",
       "    <tr>\n",
       "      <th>DES-2</th>\n",
       "      <td>1082100.0</td>\n",
       "      <td>6.317943e+08</td>\n",
       "      <td>154780860.0</td>\n",
       "    </tr>\n",
       "    <tr>\n",
       "      <th>DES-3A</th>\n",
       "      <td>272700.0</td>\n",
       "      <td>1.571731e+08</td>\n",
       "      <td>39639300.0</td>\n",
       "    </tr>\n",
       "    <tr>\n",
       "      <th>DES-R4</th>\n",
       "      <td>NaN</td>\n",
       "      <td>3.389130e+07</td>\n",
       "      <td>8437200.0</td>\n",
       "    </tr>\n",
       "    <tr>\n",
       "      <th>ERA</th>\n",
       "      <td>NaN</td>\n",
       "      <td>6.294450e+07</td>\n",
       "      <td>14171100.0</td>\n",
       "    </tr>\n",
       "    <tr>\n",
       "      <th>MMC</th>\n",
       "      <td>NaN</td>\n",
       "      <td>1.754010e+07</td>\n",
       "      <td>5193900.0</td>\n",
       "    </tr>\n",
       "  </tbody>\n",
       "</table>\n",
       "</div>"
      ],
      "text/plain": [
       "Year               2021          2022         2023\n",
       "Product_Type                                      \n",
       "DES-1         3201600.0  2.945729e+09  746184813.0\n",
       "DES-2         1082100.0  6.317943e+08  154780860.0\n",
       "DES-3A         272700.0  1.571731e+08   39639300.0\n",
       "DES-R4              NaN  3.389130e+07    8437200.0\n",
       "ERA                 NaN  6.294450e+07   14171100.0\n",
       "MMC                 NaN  1.754010e+07    5193900.0"
      ]
     },
     "execution_count": 18,
     "metadata": {},
     "output_type": "execute_result"
    }
   ],
   "source": [
    "df1['Datetime_dt'] = pd.to_datetime(df1['Datetime'])\n",
    "df1['Year'] = df1['Datetime_dt'].dt.year\n",
    "df1.pivot_table(index=['Year','Product_Type'],values='Amount_Month',aggfunc='sum')\n",
    "p1 = df1.pivot_table(index='Product_Type',columns='Year', values='Amount_Month',aggfunc='sum')\n",
    "p1"
   ]
  },
  {
   "cell_type": "code",
   "execution_count": 21,
   "metadata": {},
   "outputs": [
    {
     "data": {
      "text/html": [
       "<div>\n",
       "<style scoped>\n",
       "    .dataframe tbody tr th:only-of-type {\n",
       "        vertical-align: middle;\n",
       "    }\n",
       "\n",
       "    .dataframe tbody tr th {\n",
       "        vertical-align: top;\n",
       "    }\n",
       "\n",
       "    .dataframe thead th {\n",
       "        text-align: right;\n",
       "    }\n",
       "</style>\n",
       "<table border=\"1\" class=\"dataframe\">\n",
       "  <thead>\n",
       "    <tr style=\"text-align: right;\">\n",
       "      <th>Year</th>\n",
       "      <th>2021</th>\n",
       "      <th>2022</th>\n",
       "      <th>2023</th>\n",
       "      <th>증감율</th>\n",
       "    </tr>\n",
       "    <tr>\n",
       "      <th>Product_Type</th>\n",
       "      <th></th>\n",
       "      <th></th>\n",
       "      <th></th>\n",
       "      <th></th>\n",
       "    </tr>\n",
       "  </thead>\n",
       "  <tbody>\n",
       "    <tr>\n",
       "      <th>DES-1</th>\n",
       "      <td>3201600.0</td>\n",
       "      <td>2.945729e+09</td>\n",
       "      <td>746184813.0</td>\n",
       "      <td>-0.746689</td>\n",
       "    </tr>\n",
       "    <tr>\n",
       "      <th>DES-2</th>\n",
       "      <td>1082100.0</td>\n",
       "      <td>6.317943e+08</td>\n",
       "      <td>154780860.0</td>\n",
       "      <td>-0.755014</td>\n",
       "    </tr>\n",
       "    <tr>\n",
       "      <th>DES-3A</th>\n",
       "      <td>272700.0</td>\n",
       "      <td>1.571731e+08</td>\n",
       "      <td>39639300.0</td>\n",
       "      <td>-0.747798</td>\n",
       "    </tr>\n",
       "    <tr>\n",
       "      <th>DES-R4</th>\n",
       "      <td>NaN</td>\n",
       "      <td>3.389130e+07</td>\n",
       "      <td>8437200.0</td>\n",
       "      <td>-0.751051</td>\n",
       "    </tr>\n",
       "    <tr>\n",
       "      <th>ERA</th>\n",
       "      <td>NaN</td>\n",
       "      <td>6.294450e+07</td>\n",
       "      <td>14171100.0</td>\n",
       "      <td>-0.774864</td>\n",
       "    </tr>\n",
       "    <tr>\n",
       "      <th>MMC</th>\n",
       "      <td>NaN</td>\n",
       "      <td>1.754010e+07</td>\n",
       "      <td>5193900.0</td>\n",
       "      <td>-0.703884</td>\n",
       "    </tr>\n",
       "  </tbody>\n",
       "</table>\n",
       "</div>"
      ],
      "text/plain": [
       "Year               2021          2022         2023       증감율\n",
       "Product_Type                                                \n",
       "DES-1         3201600.0  2.945729e+09  746184813.0 -0.746689\n",
       "DES-2         1082100.0  6.317943e+08  154780860.0 -0.755014\n",
       "DES-3A         272700.0  1.571731e+08   39639300.0 -0.747798\n",
       "DES-R4              NaN  3.389130e+07    8437200.0 -0.751051\n",
       "ERA                 NaN  6.294450e+07   14171100.0 -0.774864\n",
       "MMC                 NaN  1.754010e+07    5193900.0 -0.703884"
      ]
     },
     "execution_count": 21,
     "metadata": {},
     "output_type": "execute_result"
    }
   ],
   "source": [
    "'''\n",
    "cond2022 = (df1['Year'] == 2022)\n",
    "cond2023 = (df1['Year'] == 2023)\n",
    "\n",
    "((df1.loc[cond2023]['Amount_Month'].sum()) - (df1.loc[cond2022]['Amount_Month'].sum())) / df1.loc[cond2023]['Amount_Month'].sum()\n",
    "'''\n",
    "\n",
    "p1['증감율'] = (p1[2023]-p1[2022])/p1[2022]\n",
    "p1"
   ]
  },
  {
   "cell_type": "code",
   "execution_count": null,
   "metadata": {},
   "outputs": [],
   "source": [
    "cond1 = (df1['Sales_Type'] == '렌탈')\n",
    "cond2 = (df1['Sales_Type'] == '멤버십')\n",
    "\n",
    "abs(df1.loc[cond1]['Amount_Month'].mean() - df1.loc[cond2]['Amount_Month'].mean())"
   ]
  },
  {
   "cell_type": "code",
   "execution_count": null,
   "metadata": {},
   "outputs": [],
   "source": [
    "def week_contract() :\n",
    "    df1['Work_Week'] = df1['Datetime_dt'].dt.isocalendar().week\n",
    "    n = int(input('주차를 입력하시오 : '))\n",
    "    cond1 = (df1['Work_Week'] == n)\n",
    "    df1_pivot = df1.loc[cond1].pivot_table(index='Product_Type',values='Amount_Month', aggfunc=['sum','mean'])\n",
    "    df1_pivot.to_excel('{0}week_Product_Contract.xlsx'.format(n))\n",
    "    return \n",
    "\n",
    "week_contract()"
   ]
  }
 ],
 "metadata": {
  "kernelspec": {
   "display_name": "Python 3",
   "language": "python",
   "name": "python3"
  },
  "language_info": {
   "codemirror_mode": {
    "name": "ipython",
    "version": 3
   },
   "file_extension": ".py",
   "mimetype": "text/x-python",
   "name": "python",
   "nbconvert_exporter": "python",
   "pygments_lexer": "ipython3",
   "version": "3.12.3"
  }
 },
 "nbformat": 4,
 "nbformat_minor": 2
}
