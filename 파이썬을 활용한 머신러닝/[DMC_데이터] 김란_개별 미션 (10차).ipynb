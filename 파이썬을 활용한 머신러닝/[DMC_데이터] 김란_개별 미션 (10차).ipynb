{
 "cells": [
  {
   "cell_type": "markdown",
   "id": "82f9930c-f14e-4f44-869d-729046952f12",
   "metadata": {},
   "source": [
    "1. 26_Data.csv 데이터를 df_product로, 25_Data.csv를 df_distribution으로 선언하고, df_product 데이터와 df_distribution데이터를 df_distribution데이터를 기준으로 병합해 df1으로 선언하시오.을 생성하시오."
   ]
  },
  {
   "cell_type": "code",
   "execution_count": 46,
   "id": "d1728e4e-3491-4795-93a7-05c0b7545827",
   "metadata": {},
   "outputs": [],
   "source": [
    "import pandas as pd\n",
    "import numpy as np\n",
    "import plotly.express as px\n",
    "import scipy.stats as stats"
   ]
  },
  {
   "cell_type": "code",
   "execution_count": 6,
   "id": "a952158b-a706-4613-94a2-85f019da7bd2",
   "metadata": {},
   "outputs": [
    {
     "name": "stdout",
     "output_type": "stream",
     "text": [
      "(3611, 6)\n",
      "<class 'pandas.core.frame.DataFrame'>\n",
      "RangeIndex: 3611 entries, 0 to 3610\n",
      "Data columns (total 6 columns):\n",
      " #   Column  Non-Null Count  Dtype \n",
      "---  ------  --------------  ----- \n",
      " 0   상품코드    3611 non-null   object\n",
      " 1   제품명     3611 non-null   object\n",
      " 2   물품가격    3611 non-null   int64 \n",
      " 3   대분류     3611 non-null   object\n",
      " 4   소분류     3611 non-null   object\n",
      " 5   제조사     2924 non-null   object\n",
      "dtypes: int64(1), object(5)\n",
      "memory usage: 169.4+ KB\n"
     ]
    }
   ],
   "source": [
    "df_product = pd.read_csv(r'C:\\Users\\UserK\\Desktop\\Ranee\\data\\ML\\26_Data.csv')\n",
    "print(df_product.shape)\n",
    "df_product.info()"
   ]
  },
  {
   "cell_type": "code",
   "execution_count": 7,
   "id": "27987902-1de3-4a22-bb87-4923549b108e",
   "metadata": {},
   "outputs": [
    {
     "name": "stdout",
     "output_type": "stream",
     "text": [
      "(731761, 13)\n",
      "<class 'pandas.core.frame.DataFrame'>\n",
      "RangeIndex: 731761 entries, 0 to 731760\n",
      "Data columns (total 13 columns):\n",
      " #   Column      Non-Null Count   Dtype  \n",
      "---  ------      --------------   -----  \n",
      " 0   Unnamed: 0  731761 non-null  int64  \n",
      " 1   공급ID        731761 non-null  object \n",
      " 2   공급일자        731761 non-null  object \n",
      " 3   유통Hub       731761 non-null  object \n",
      " 4   판매금액        731761 non-null  int64  \n",
      " 5   수량          731761 non-null  float64\n",
      " 6   상품코드        731761 non-null  object \n",
      " 7   제품명         731761 non-null  object \n",
      " 8   Div         731761 non-null  object \n",
      " 9   본부          731761 non-null  object \n",
      " 10  채널          731761 non-null  object \n",
      " 11  지역          731761 non-null  object \n",
      " 12  영업대표        731761 non-null  object \n",
      "dtypes: float64(1), int64(2), object(10)\n",
      "memory usage: 72.6+ MB\n"
     ]
    }
   ],
   "source": [
    "df_distribution = pd.read_csv(r'C:\\Users\\UserK\\Desktop\\Ranee\\data\\ML\\25_Data.csv')\n",
    "print(df_distribution.shape)\n",
    "df_distribution.info()"
   ]
  },
  {
   "cell_type": "code",
   "execution_count": 8,
   "id": "83df1960-3aa0-420e-98e4-65b0c3a49d1a",
   "metadata": {},
   "outputs": [],
   "source": [
    "df1 = pd.merge(df_distribution, df_product, on=['상품코드','제품명'], how='inner' )"
   ]
  },
  {
   "cell_type": "code",
   "execution_count": 9,
   "id": "0efec393-e58c-4162-9438-b51ede71ec2d",
   "metadata": {},
   "outputs": [
    {
     "name": "stdout",
     "output_type": "stream",
     "text": [
      "(731761, 17)\n",
      "<class 'pandas.core.frame.DataFrame'>\n",
      "RangeIndex: 731761 entries, 0 to 731760\n",
      "Data columns (total 17 columns):\n",
      " #   Column      Non-Null Count   Dtype  \n",
      "---  ------      --------------   -----  \n",
      " 0   Unnamed: 0  731761 non-null  int64  \n",
      " 1   공급ID        731761 non-null  object \n",
      " 2   공급일자        731761 non-null  object \n",
      " 3   유통Hub       731761 non-null  object \n",
      " 4   판매금액        731761 non-null  int64  \n",
      " 5   수량          731761 non-null  float64\n",
      " 6   상품코드        731761 non-null  object \n",
      " 7   제품명         731761 non-null  object \n",
      " 8   Div         731761 non-null  object \n",
      " 9   본부          731761 non-null  object \n",
      " 10  채널          731761 non-null  object \n",
      " 11  지역          731761 non-null  object \n",
      " 12  영업대표        731761 non-null  object \n",
      " 13  물품가격        731761 non-null  int64  \n",
      " 14  대분류         731761 non-null  object \n",
      " 15  소분류         731761 non-null  object \n",
      " 16  제조사         606410 non-null  object \n",
      "dtypes: float64(1), int64(3), object(13)\n",
      "memory usage: 94.9+ MB\n"
     ]
    }
   ],
   "source": [
    "print(df1.shape)\n",
    "df1.info()"
   ]
  },
  {
   "cell_type": "markdown",
   "id": "b31efbf1-2936-4f8b-bb9b-b35496acd4d7",
   "metadata": {},
   "source": [
    "2. 병합된 데이터를 기준으로 분석합니다. 가장 많이 유통된 상위 3개 상품 소분류에 대해, 상품 판매 금액의 유의미한 차이가 있는지 확인하시오."
   ]
  },
  {
   "cell_type": "code",
   "execution_count": 32,
   "id": "99906792-2312-4113-849d-223610137507",
   "metadata": {},
   "outputs": [],
   "source": [
    "pv1 = df1.pivot_table(index='소분류' , values='판매금액', aggfunc='sum').sort_values(by='판매금액', ascending=False).head(3)"
   ]
  },
  {
   "cell_type": "code",
   "execution_count": 59,
   "id": "ee59bd80-ccd9-47d0-8708-9df8cb3c14e4",
   "metadata": {},
   "outputs": [
    {
     "name": "stdout",
     "output_type": "stream",
     "text": [
      "NormaltestResult(statistic=259444.81532670674, pvalue=0.0)\n",
      "NormaltestResult(statistic=12905.831110302788, pvalue=0.0)\n",
      "NormaltestResult(statistic=69532.48459077894, pvalue=0.0)\n"
     ]
    }
   ],
   "source": [
    "cond1 = df1['소분류'] == pv1.index[0]\n",
    "cond2 = df1['소분류'] == pv1.index[1]\n",
    "cond3 = df1['소분류'] == pv1.index[2]\n",
    "\n",
    "# 정규분포 따르는지. -> pvalue < 0.5 => 귀무가설 기각 => 정규분포XX\n",
    "print(stasts.normaltest(df1.loc[cond1]['판매금액']))\n",
    "print(stasts.normaltest(df1.loc[cond2]['판매금액']))\n",
    "print(stasts.normaltest(df1.loc[cond3]['판매금액']))"
   ]
  },
  {
   "cell_type": "code",
   "execution_count": 40,
   "id": "4d0f1a01-c412-4ffb-b5db-e1549a7d5062",
   "metadata": {},
   "outputs": [],
   "source": [
    "df2 = df1.loc[cond1 | cond2 | cond3]"
   ]
  },
  {
   "cell_type": "code",
   "execution_count": 42,
   "id": "c684717b-78fa-4f8c-8613-e682e7cf05b6",
   "metadata": {},
   "outputs": [
    {
     "data": {
      "text/plain": [
       "(228712, 17)"
      ]
     },
     "execution_count": 42,
     "metadata": {},
     "output_type": "execute_result"
    }
   ],
   "source": [
    "df2.shape"
   ]
  },
  {
   "cell_type": "code",
   "execution_count": 47,
   "id": "c5f2f63f-b441-4445-933b-ca48166c6c55",
   "metadata": {},
   "outputs": [
    {
     "data": {
      "text/plain": [
       "KruskalResult(statistic=20509.731666588534, pvalue=0.0)"
      ]
     },
     "execution_count": 47,
     "metadata": {},
     "output_type": "execute_result"
    }
   ],
   "source": [
    "groups = df2.groupby('소분류')['판매금액'].apply(list)\n",
    "stats.kruskal(*groups)\n",
    "#  pvalue < 0.5 => 귀무가설 기각 => 대표값의 유의미한 차이가 있다."
   ]
  },
  {
   "cell_type": "markdown",
   "id": "9882871b-5f59-4f4b-85e7-e805f38bd297",
   "metadata": {},
   "source": [
    "3. 가장 많이 유통되고 있는 제품에 대해 유통허브에 따라 유통수량의 유의미한 차이가 있는지 확인하시오."
   ]
  },
  {
   "cell_type": "code",
   "execution_count": 52,
   "id": "1a3c67c4-7326-4487-82e5-f4a4d0213f44",
   "metadata": {},
   "outputs": [
    {
     "data": {
      "text/html": [
       "<div>\n",
       "<style scoped>\n",
       "    .dataframe tbody tr th:only-of-type {\n",
       "        vertical-align: middle;\n",
       "    }\n",
       "\n",
       "    .dataframe tbody tr th {\n",
       "        vertical-align: top;\n",
       "    }\n",
       "\n",
       "    .dataframe thead th {\n",
       "        text-align: right;\n",
       "    }\n",
       "</style>\n",
       "<table border=\"1\" class=\"dataframe\">\n",
       "  <thead>\n",
       "    <tr style=\"text-align: right;\">\n",
       "      <th></th>\n",
       "      <th>수량</th>\n",
       "    </tr>\n",
       "    <tr>\n",
       "      <th>소분류</th>\n",
       "      <th></th>\n",
       "    </tr>\n",
       "  </thead>\n",
       "  <tbody>\n",
       "    <tr>\n",
       "      <th>바디케어세트</th>\n",
       "      <td>205126.31</td>\n",
       "    </tr>\n",
       "    <tr>\n",
       "      <th>치약/칫솔세트</th>\n",
       "      <td>44009.80</td>\n",
       "    </tr>\n",
       "    <tr>\n",
       "      <th>유아/아동용칫솔</th>\n",
       "      <td>35161.10</td>\n",
       "    </tr>\n",
       "    <tr>\n",
       "      <th>샴푸</th>\n",
       "      <td>34932.60</td>\n",
       "    </tr>\n",
       "    <tr>\n",
       "      <th>바디워시</th>\n",
       "      <td>28587.74</td>\n",
       "    </tr>\n",
       "    <tr>\n",
       "      <th>...</th>\n",
       "      <td>...</td>\n",
       "    </tr>\n",
       "    <tr>\n",
       "      <th>부분세탁제</th>\n",
       "      <td>18.00</td>\n",
       "    </tr>\n",
       "    <tr>\n",
       "      <th>남녀공용향수</th>\n",
       "      <td>15.00</td>\n",
       "    </tr>\n",
       "    <tr>\n",
       "      <th>태닝/애프터선케어</th>\n",
       "      <td>6.00</td>\n",
       "    </tr>\n",
       "    <tr>\n",
       "      <th>전동칫솔/칫솔모</th>\n",
       "      <td>3.00</td>\n",
       "    </tr>\n",
       "    <tr>\n",
       "      <th>광택제</th>\n",
       "      <td>1.00</td>\n",
       "    </tr>\n",
       "  </tbody>\n",
       "</table>\n",
       "<p>97 rows × 1 columns</p>\n",
       "</div>"
      ],
      "text/plain": [
       "                  수량\n",
       "소분류                 \n",
       "바디케어세트     205126.31\n",
       "치약/칫솔세트     44009.80\n",
       "유아/아동용칫솔    35161.10\n",
       "샴푸          34932.60\n",
       "바디워시        28587.74\n",
       "...              ...\n",
       "부분세탁제          18.00\n",
       "남녀공용향수         15.00\n",
       "태닝/애프터선케어       6.00\n",
       "전동칫솔/칫솔모        3.00\n",
       "광택제             1.00\n",
       "\n",
       "[97 rows x 1 columns]"
      ]
     },
     "execution_count": 52,
     "metadata": {},
     "output_type": "execute_result"
    }
   ],
   "source": [
    "p2 = df1.pivot_table(index='소분류', values='수량', aggfunc='sum').sort_values(by='수량', ascending=False)\n",
    "p2"
   ]
  },
  {
   "cell_type": "code",
   "execution_count": 56,
   "id": "8323803a-2a45-42e5-ac40-cf1dd6a29d7e",
   "metadata": {},
   "outputs": [
    {
     "data": {
      "text/plain": [
       "array(['경상', '서울/수도권', '충청/전라', '강원'], dtype=object)"
      ]
     },
     "execution_count": 56,
     "metadata": {},
     "output_type": "execute_result"
    }
   ],
   "source": [
    "df3 = df1.loc[df1['소분류'] == '바디케어세트']\n",
    "df3['유통Hub'].unique()"
   ]
  },
  {
   "cell_type": "code",
   "execution_count": 60,
   "id": "df78b007-02dd-4c1c-9636-5874e96cb890",
   "metadata": {},
   "outputs": [
    {
     "name": "stdout",
     "output_type": "stream",
     "text": [
      "NormaltestResult(statistic=48409.59379941935, pvalue=0.0)\n",
      "NormaltestResult(statistic=65340.67854002927, pvalue=0.0)\n",
      "NormaltestResult(statistic=62558.60568022526, pvalue=0.0)\n",
      "NormaltestResult(statistic=65305.254565059266, pvalue=0.0)\n"
     ]
    }
   ],
   "source": [
    "cond_list = ['경상', '서울/수도권', '충청/전라', '강원']\n",
    "for i in cond_list :\n",
    "    print(stasts.normaltest(df3.loc[df3['유통Hub'] == i]['수량']))"
   ]
  },
  {
   "cell_type": "code",
   "execution_count": 61,
   "id": "026cf6c9-dfa8-46bf-ae52-3cf3483c5f51",
   "metadata": {},
   "outputs": [
    {
     "data": {
      "text/plain": [
       "KruskalResult(statistic=54.69492178878355, pvalue=7.976188176531246e-12)"
      ]
     },
     "execution_count": 61,
     "metadata": {},
     "output_type": "execute_result"
    }
   ],
   "source": [
    "groups = df3.groupby('유통Hub')['수량'].apply(list)\n",
    "stats.kruskal(*groups)\n",
    "#  pvalue < 0.5 => 귀무가설 기각 => 대표값의 유의미한 차이가 있다."
   ]
  },
  {
   "cell_type": "markdown",
   "id": "12fe760d-354d-4bff-a65b-a590e5118913",
   "metadata": {},
   "source": [
    "4. 유통허브가 각 유통채널에 상품을 적절하게 유통하고 있는지 확인하고자 한다. 유통허브 별로 유통 채널의 비율이 달라지는지 확인하시오."
   ]
  },
  {
   "cell_type": "code",
   "execution_count": 63,
   "id": "ad357ea1-380c-4244-9747-ab0fba8c22a0",
   "metadata": {},
   "outputs": [
    {
     "data": {
      "text/plain": [
       "array(['현대Hmall', 'CJmall', '위메프', 'LotteMall', 'Auction', 'Naver쇼핑',\n",
       "       'GS', 'TMON', 'Interpark', '11번가', '신세계Mall', 'AKMall', 'Coupang',\n",
       "       'GMarket', '인터파크'], dtype=object)"
      ]
     },
     "execution_count": 63,
     "metadata": {},
     "output_type": "execute_result"
    }
   ],
   "source": [
    "df1['채널'].unique()"
   ]
  },
  {
   "cell_type": "code",
   "execution_count": 64,
   "id": "fa3db17c-5686-4ed7-8ef2-479e54c85cdd",
   "metadata": {},
   "outputs": [],
   "source": [
    "df1['count'] = 1"
   ]
  },
  {
   "cell_type": "code",
   "execution_count": 77,
   "id": "ff2dd2a7-cc89-4f2a-b5f4-01112fa3808b",
   "metadata": {},
   "outputs": [
    {
     "data": {
      "text/html": [
       "<div>\n",
       "<style scoped>\n",
       "    .dataframe tbody tr th:only-of-type {\n",
       "        vertical-align: middle;\n",
       "    }\n",
       "\n",
       "    .dataframe tbody tr th {\n",
       "        vertical-align: top;\n",
       "    }\n",
       "\n",
       "    .dataframe thead th {\n",
       "        text-align: right;\n",
       "    }\n",
       "</style>\n",
       "<table border=\"1\" class=\"dataframe\">\n",
       "  <thead>\n",
       "    <tr style=\"text-align: right;\">\n",
       "      <th></th>\n",
       "      <th></th>\n",
       "      <th>count</th>\n",
       "    </tr>\n",
       "    <tr>\n",
       "      <th>유통Hub</th>\n",
       "      <th>채널</th>\n",
       "      <th></th>\n",
       "    </tr>\n",
       "  </thead>\n",
       "  <tbody>\n",
       "    <tr>\n",
       "      <th rowspan=\"15\" valign=\"top\">강원</th>\n",
       "      <th>11번가</th>\n",
       "      <td>1579</td>\n",
       "    </tr>\n",
       "    <tr>\n",
       "      <th>AKMall</th>\n",
       "      <td>1640</td>\n",
       "    </tr>\n",
       "    <tr>\n",
       "      <th>Auction</th>\n",
       "      <td>3124</td>\n",
       "    </tr>\n",
       "    <tr>\n",
       "      <th>CJmall</th>\n",
       "      <td>11037</td>\n",
       "    </tr>\n",
       "    <tr>\n",
       "      <th>Coupang</th>\n",
       "      <td>8121</td>\n",
       "    </tr>\n",
       "    <tr>\n",
       "      <th>GMarket</th>\n",
       "      <td>1530</td>\n",
       "    </tr>\n",
       "    <tr>\n",
       "      <th>GS</th>\n",
       "      <td>11270</td>\n",
       "    </tr>\n",
       "    <tr>\n",
       "      <th>Interpark</th>\n",
       "      <td>11240</td>\n",
       "    </tr>\n",
       "    <tr>\n",
       "      <th>LotteMall</th>\n",
       "      <td>9468</td>\n",
       "    </tr>\n",
       "    <tr>\n",
       "      <th>Naver쇼핑</th>\n",
       "      <td>23689</td>\n",
       "    </tr>\n",
       "    <tr>\n",
       "      <th>TMON</th>\n",
       "      <td>3253</td>\n",
       "    </tr>\n",
       "    <tr>\n",
       "      <th>신세계Mall</th>\n",
       "      <td>1554</td>\n",
       "    </tr>\n",
       "    <tr>\n",
       "      <th>위메프</th>\n",
       "      <td>9518</td>\n",
       "    </tr>\n",
       "    <tr>\n",
       "      <th>인터파크</th>\n",
       "      <td>1570</td>\n",
       "    </tr>\n",
       "    <tr>\n",
       "      <th>현대Hmall</th>\n",
       "      <td>33330</td>\n",
       "    </tr>\n",
       "    <tr>\n",
       "      <th rowspan=\"15\" valign=\"top\">경상</th>\n",
       "      <th>11번가</th>\n",
       "      <td>1694</td>\n",
       "    </tr>\n",
       "    <tr>\n",
       "      <th>AKMall</th>\n",
       "      <td>1713</td>\n",
       "    </tr>\n",
       "    <tr>\n",
       "      <th>Auction</th>\n",
       "      <td>3349</td>\n",
       "    </tr>\n",
       "    <tr>\n",
       "      <th>CJmall</th>\n",
       "      <td>11492</td>\n",
       "    </tr>\n",
       "    <tr>\n",
       "      <th>Coupang</th>\n",
       "      <td>8255</td>\n",
       "    </tr>\n",
       "    <tr>\n",
       "      <th>GMarket</th>\n",
       "      <td>1608</td>\n",
       "    </tr>\n",
       "    <tr>\n",
       "      <th>GS</th>\n",
       "      <td>11611</td>\n",
       "    </tr>\n",
       "    <tr>\n",
       "      <th>Interpark</th>\n",
       "      <td>11570</td>\n",
       "    </tr>\n",
       "    <tr>\n",
       "      <th>LotteMall</th>\n",
       "      <td>9898</td>\n",
       "    </tr>\n",
       "    <tr>\n",
       "      <th>Naver쇼핑</th>\n",
       "      <td>24734</td>\n",
       "    </tr>\n",
       "    <tr>\n",
       "      <th>TMON</th>\n",
       "      <td>3328</td>\n",
       "    </tr>\n",
       "    <tr>\n",
       "      <th>신세계Mall</th>\n",
       "      <td>1668</td>\n",
       "    </tr>\n",
       "    <tr>\n",
       "      <th>위메프</th>\n",
       "      <td>9904</td>\n",
       "    </tr>\n",
       "    <tr>\n",
       "      <th>인터파크</th>\n",
       "      <td>1698</td>\n",
       "    </tr>\n",
       "    <tr>\n",
       "      <th>현대Hmall</th>\n",
       "      <td>35033</td>\n",
       "    </tr>\n",
       "    <tr>\n",
       "      <th rowspan=\"15\" valign=\"top\">서울/수도권</th>\n",
       "      <th>11번가</th>\n",
       "      <td>3668</td>\n",
       "    </tr>\n",
       "    <tr>\n",
       "      <th>AKMall</th>\n",
       "      <td>3697</td>\n",
       "    </tr>\n",
       "    <tr>\n",
       "      <th>Auction</th>\n",
       "      <td>7342</td>\n",
       "    </tr>\n",
       "    <tr>\n",
       "      <th>CJmall</th>\n",
       "      <td>25450</td>\n",
       "    </tr>\n",
       "    <tr>\n",
       "      <th>Coupang</th>\n",
       "      <td>18049</td>\n",
       "    </tr>\n",
       "    <tr>\n",
       "      <th>GMarket</th>\n",
       "      <td>3670</td>\n",
       "    </tr>\n",
       "    <tr>\n",
       "      <th>GS</th>\n",
       "      <td>25648</td>\n",
       "    </tr>\n",
       "    <tr>\n",
       "      <th>Interpark</th>\n",
       "      <td>25579</td>\n",
       "    </tr>\n",
       "    <tr>\n",
       "      <th>LotteMall</th>\n",
       "      <td>21950</td>\n",
       "    </tr>\n",
       "    <tr>\n",
       "      <th>Naver쇼핑</th>\n",
       "      <td>54608</td>\n",
       "    </tr>\n",
       "    <tr>\n",
       "      <th>TMON</th>\n",
       "      <td>7403</td>\n",
       "    </tr>\n",
       "    <tr>\n",
       "      <th>신세계Mall</th>\n",
       "      <td>3722</td>\n",
       "    </tr>\n",
       "    <tr>\n",
       "      <th>위메프</th>\n",
       "      <td>21880</td>\n",
       "    </tr>\n",
       "    <tr>\n",
       "      <th>인터파크</th>\n",
       "      <td>3776</td>\n",
       "    </tr>\n",
       "    <tr>\n",
       "      <th>현대Hmall</th>\n",
       "      <td>77234</td>\n",
       "    </tr>\n",
       "    <tr>\n",
       "      <th rowspan=\"15\" valign=\"top\">충청/전라</th>\n",
       "      <th>11번가</th>\n",
       "      <td>1852</td>\n",
       "    </tr>\n",
       "    <tr>\n",
       "      <th>AKMall</th>\n",
       "      <td>1842</td>\n",
       "    </tr>\n",
       "    <tr>\n",
       "      <th>Auction</th>\n",
       "      <td>3914</td>\n",
       "    </tr>\n",
       "    <tr>\n",
       "      <th>CJmall</th>\n",
       "      <td>13523</td>\n",
       "    </tr>\n",
       "    <tr>\n",
       "      <th>Coupang</th>\n",
       "      <td>9652</td>\n",
       "    </tr>\n",
       "    <tr>\n",
       "      <th>GMarket</th>\n",
       "      <td>1939</td>\n",
       "    </tr>\n",
       "    <tr>\n",
       "      <th>GS</th>\n",
       "      <td>13281</td>\n",
       "    </tr>\n",
       "    <tr>\n",
       "      <th>Interpark</th>\n",
       "      <td>13234</td>\n",
       "    </tr>\n",
       "    <tr>\n",
       "      <th>LotteMall</th>\n",
       "      <td>11428</td>\n",
       "    </tr>\n",
       "    <tr>\n",
       "      <th>Naver쇼핑</th>\n",
       "      <td>28862</td>\n",
       "    </tr>\n",
       "    <tr>\n",
       "      <th>TMON</th>\n",
       "      <td>3791</td>\n",
       "    </tr>\n",
       "    <tr>\n",
       "      <th>신세계Mall</th>\n",
       "      <td>1947</td>\n",
       "    </tr>\n",
       "    <tr>\n",
       "      <th>위메프</th>\n",
       "      <td>11420</td>\n",
       "    </tr>\n",
       "    <tr>\n",
       "      <th>인터파크</th>\n",
       "      <td>1900</td>\n",
       "    </tr>\n",
       "    <tr>\n",
       "      <th>현대Hmall</th>\n",
       "      <td>40022</td>\n",
       "    </tr>\n",
       "  </tbody>\n",
       "</table>\n",
       "</div>"
      ],
      "text/plain": [
       "                  count\n",
       "유통Hub  채널              \n",
       "강원     11번가        1579\n",
       "       AKMall      1640\n",
       "       Auction     3124\n",
       "       CJmall     11037\n",
       "       Coupang     8121\n",
       "       GMarket     1530\n",
       "       GS         11270\n",
       "       Interpark  11240\n",
       "       LotteMall   9468\n",
       "       Naver쇼핑    23689\n",
       "       TMON        3253\n",
       "       신세계Mall     1554\n",
       "       위메프         9518\n",
       "       인터파크        1570\n",
       "       현대Hmall    33330\n",
       "경상     11번가        1694\n",
       "       AKMall      1713\n",
       "       Auction     3349\n",
       "       CJmall     11492\n",
       "       Coupang     8255\n",
       "       GMarket     1608\n",
       "       GS         11611\n",
       "       Interpark  11570\n",
       "       LotteMall   9898\n",
       "       Naver쇼핑    24734\n",
       "       TMON        3328\n",
       "       신세계Mall     1668\n",
       "       위메프         9904\n",
       "       인터파크        1698\n",
       "       현대Hmall    35033\n",
       "서울/수도권 11번가        3668\n",
       "       AKMall      3697\n",
       "       Auction     7342\n",
       "       CJmall     25450\n",
       "       Coupang    18049\n",
       "       GMarket     3670\n",
       "       GS         25648\n",
       "       Interpark  25579\n",
       "       LotteMall  21950\n",
       "       Naver쇼핑    54608\n",
       "       TMON        7403\n",
       "       신세계Mall     3722\n",
       "       위메프        21880\n",
       "       인터파크        3776\n",
       "       현대Hmall    77234\n",
       "충청/전라  11번가        1852\n",
       "       AKMall      1842\n",
       "       Auction     3914\n",
       "       CJmall     13523\n",
       "       Coupang     9652\n",
       "       GMarket     1939\n",
       "       GS         13281\n",
       "       Interpark  13234\n",
       "       LotteMall  11428\n",
       "       Naver쇼핑    28862\n",
       "       TMON        3791\n",
       "       신세계Mall     1947\n",
       "       위메프        11420\n",
       "       인터파크        1900\n",
       "       현대Hmall    40022"
      ]
     },
     "execution_count": 77,
     "metadata": {},
     "output_type": "execute_result"
    }
   ],
   "source": [
    "p3 = df1.pivot_table(index=['유통Hub','채널'] , values='count', aggfunc='sum')\n",
    "p3"
   ]
  },
  {
   "cell_type": "code",
   "execution_count": 76,
   "id": "81358991-b9f2-49ef-b9d5-0efc3adfc45c",
   "metadata": {},
   "outputs": [
    {
     "data": {
      "text/plain": [
       "유통Hub\n",
       "강원        131923\n",
       "경상        137555\n",
       "서울/수도권    303676\n",
       "충청/전라     158607\n",
       "Name: count, dtype: int64"
      ]
     },
     "execution_count": 76,
     "metadata": {},
     "output_type": "execute_result"
    }
   ],
   "source": [
    "p3.groupby('유통Hub')['count'].sum()"
   ]
  },
  {
   "cell_type": "markdown",
   "id": "0b8aeeeb-0ba4-4624-bbc0-7cdb4c77bf87",
   "metadata": {},
   "source": [
    "5. 22년도에 각 영업대표가 각 채널로 유통하는 유통판매금액의 합을 계산해, 22년 영업실적이 가장 높은 영업 대표를 확인하시오.\n",
    "6. 데이터가 수집된 기간 내, 유통량이 온라인 소비자들의 수요와 관련이 있는지 확인하고자 한다. 데이터에 가장 많이 유통된 제품의 소분류를 확인하여, 아래 사이트를 활용해 해당 소분류를 소비자들이 검색했을 때, 검색량과 유통수량의 상관성이 있는지 분석하시오.\n",
    "    - https://datalab.naver.com/\n",
    "    - 성별 / 연령대 / 범위에 따라 각각 계산하시오.\n",
    "7. 앞서 수집한 검색엔진 검색량 데이터를 X로, 유통수량을 Y로 머신러닝 알고리즘을 활용해, 특정 연령/성별/범위의 검색량에 대한 유통수량을 예측하는 모델을 생성하시오."
   ]
  },
  {
   "cell_type": "code",
   "execution_count": null,
   "id": "1ac0d0d8-f712-4f93-88c7-4e4c0bb672de",
   "metadata": {},
   "outputs": [],
   "source": []
  }
 ],
 "metadata": {
  "kernelspec": {
   "display_name": "Python 3 (ipykernel)",
   "language": "python",
   "name": "python3"
  },
  "language_info": {
   "codemirror_mode": {
    "name": "ipython",
    "version": 3
   },
   "file_extension": ".py",
   "mimetype": "text/x-python",
   "name": "python",
   "nbconvert_exporter": "python",
   "pygments_lexer": "ipython3",
   "version": "3.11.7"
  }
 },
 "nbformat": 4,
 "nbformat_minor": 5
}
