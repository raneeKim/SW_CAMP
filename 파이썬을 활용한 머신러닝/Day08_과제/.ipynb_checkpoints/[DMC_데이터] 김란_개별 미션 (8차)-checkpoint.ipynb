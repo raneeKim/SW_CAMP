{
 "cells": [
  {
   "cell_type": "code",
   "execution_count": 1,
   "id": "4eb8a218-07c3-4c6b-a3a2-a12658dbcf21",
   "metadata": {},
   "outputs": [],
   "source": [
    "import pandas as pd\n",
    "import numpy as np\n",
    "import scipy.stats as stats\n",
    "import plotly.express as px"
   ]
  },
  {
   "cell_type": "markdown",
   "id": "65844dea-0983-4a16-bf2c-61f0129ba4bd",
   "metadata": {},
   "source": [
    "1. Z1-Temp값을 목표변수로 회귀 모델을 구성하고자 한다. 각 소입로(Tube Furnace) 온도계수(Temp)와 열전도율(OP), CP, ST값을 입력했을 때, Z1-Temp를 예측할 수 있는 모델을 **다중 선형 회귀 모델**로 구성하시오.\r\n",
    "    - X : 'Tube Furnace CP', 'Tube Furnace1 OP',\r\n",
    "    'Tube Furnace1 Temp', 'Tube Furnace2 OP', 'Tube Furnace2 Temp',\r\n",
    "    'Tube Furnace3 OP', 'Tube Furnace3 Temp', 'Tube Furnace4 OP',\r\n",
    "    'Tube Furnace4 Temp', 'ST'\r\n",
    "    - 먼저 다중 선형회귀 모델을 구성한 뒤, 성능을 확인하시오.\r\n",
    "    - 다항회귀분석을 이용해, 3차원 다항 회귀 모델을 구성한 뒤, 성능을 확인하시오.\r\n",
    "    - 규제선형회귀 모델 Lasso 활용해 회귀모델을 구성한 뒤, 성능을 확인하시오.\r\n",
    "    - 본인이 만든 모델 중 가장 성능이 좋은 모델을 Best.sav로 저장하시오.\r\n",
    "    - 가장 성능이 좋은 모델의 회귀 계수를 확인하시오.\r\n",
    "    - 현재 만든 모델을 \"08_Data_Test.csv\"파일을 넣어, Test Set Score (R을 예측하는 함수를 구성하시오."
   ]
  },
  {
   "cell_type": "code",
   "execution_count": 2,
   "id": "3f92c5f2-50cb-4a9c-843b-b3dd548b8d9a",
   "metadata": {},
   "outputs": [],
   "source": [
    "df1 = pd.read_csv(r'C:\\Users\\UserK\\Desktop\\Ranee\\data\\ML\\08_Data.csv')"
   ]
  },
  {
   "cell_type": "code",
   "execution_count": 30,
   "id": "03ebf003-aae7-4a4e-811a-c710d969a34e",
   "metadata": {},
   "outputs": [
    {
     "name": "stdout",
     "output_type": "stream",
     "text": [
      "(93043, 17)\n",
      "<class 'pandas.core.frame.DataFrame'>\n",
      "RangeIndex: 93043 entries, 0 to 93042\n",
      "Data columns (total 17 columns):\n",
      " #   Column              Non-Null Count  Dtype  \n",
      "---  ------              --------------  -----  \n",
      " 0   Unnamed: 0          93043 non-null  int64  \n",
      " 1   Code_Num            93043 non-null  object \n",
      " 2   Datetime            93043 non-null  object \n",
      " 3   Process_Type        93043 non-null  object \n",
      " 4   ST                  93028 non-null  float64\n",
      " 5   Tube Furnace CP     93043 non-null  float64\n",
      " 6   Tube Furnace1 OP    92864 non-null  float64\n",
      " 7   Tube Furnace1 Temp  93039 non-null  float64\n",
      " 8   Tube Furnace2 OP    93043 non-null  float64\n",
      " 9   Tube Furnace2 Temp  93041 non-null  float64\n",
      " 10  Tube Furnace3 OP    93043 non-null  float64\n",
      " 11  Tube Furnace3 Temp  93036 non-null  float64\n",
      " 12  Tube Furnace4 OP    93043 non-null  float64\n",
      " 13  Tube Furnace4 Temp  93038 non-null  float64\n",
      " 14  Z1-OP1              93043 non-null  float64\n",
      " 15  Z1-OP2              93043 non-null  float64\n",
      " 16  Z1-Temp             93028 non-null  float64\n",
      "dtypes: float64(13), int64(1), object(3)\n",
      "memory usage: 12.1+ MB\n"
     ]
    }
   ],
   "source": [
    "print(df1.shape)\n",
    "df1.info()"
   ]
  },
  {
   "cell_type": "code",
   "execution_count": 31,
   "id": "2cba7aaf-8646-4645-9d8c-9fb5498e85f9",
   "metadata": {
    "scrolled": true
   },
   "outputs": [
    {
     "data": {
      "text/plain": [
       "Unnamed: 0              0\n",
       "Code_Num                0\n",
       "Datetime                0\n",
       "Process_Type            0\n",
       "ST                     15\n",
       "Tube Furnace CP         0\n",
       "Tube Furnace1 OP      179\n",
       "Tube Furnace1 Temp      4\n",
       "Tube Furnace2 OP        0\n",
       "Tube Furnace2 Temp      2\n",
       "Tube Furnace3 OP        0\n",
       "Tube Furnace3 Temp      7\n",
       "Tube Furnace4 OP        0\n",
       "Tube Furnace4 Temp      5\n",
       "Z1-OP1                  0\n",
       "Z1-OP2                  0\n",
       "Z1-Temp                15\n",
       "dtype: int64"
      ]
     },
     "execution_count": 31,
     "metadata": {},
     "output_type": "execute_result"
    }
   ],
   "source": [
    "df1.isnull().sum()"
   ]
  },
  {
   "cell_type": "code",
   "execution_count": 35,
   "id": "7b8ce1db-e46c-4119-b82d-ed078323908d",
   "metadata": {},
   "outputs": [
    {
     "data": {
      "text/plain": [
       "(93028, 17)"
      ]
     },
     "execution_count": 35,
     "metadata": {},
     "output_type": "execute_result"
    }
   ],
   "source": [
    "df2 = df1.dropna(subset=['Z1-Temp'])\n",
    "df2.shape"
   ]
  },
  {
   "cell_type": "code",
   "execution_count": 36,
   "id": "b41971ab-b291-45a0-ae5d-0fc997794646",
   "metadata": {},
   "outputs": [],
   "source": [
    "X = df2[['Tube Furnace CP', 'Tube Furnace1 OP', 'Tube Furnace1 Temp', 'Tube Furnace2 OP', 'Tube Furnace2 Temp',\n",
    "     'Tube Furnace3 OP', 'Tube Furnace3 Temp', 'Tube Furnace4 OP', 'Tube Furnace4 Temp', 'ST']]\n",
    "Y = df2['Z1-Temp']"
   ]
  },
  {
   "cell_type": "code",
   "execution_count": 43,
   "id": "cfa948dc-fb2b-4146-a9a4-58dd7123cc05",
   "metadata": {},
   "outputs": [],
   "source": [
    "from sklearn.model_selection import train_test_split\n",
    "from sklearn.pipeline import make_pipeline\n",
    "\n",
    "from sklearn.impute import SimpleImputer\n",
    "from sklearn.preprocessing import StandardScaler\n",
    "\n",
    "from sklearn.linear_model import LinearRegression\n",
    "from sklearn.model_selection import GridSearchCV"
   ]
  },
  {
   "cell_type": "code",
   "execution_count": 38,
   "id": "ae4f1949-6b40-430c-9063-a4aa80302e3a",
   "metadata": {},
   "outputs": [],
   "source": [
    "X_train, X_test, Y_train, Y_test= train_test_split(X,Y,random_state=1234)"
   ]
  },
  {
   "cell_type": "code",
   "execution_count": 39,
   "id": "87a40afc-a0c5-4fba-80c1-376825c4a8f5",
   "metadata": {},
   "outputs": [],
   "source": [
    "prepro_pipe = make_pipeline(SimpleImputer(strategy='mean'), StandardScaler())\n",
    "model_pipe = make_pipeline( prepro_pipe, LinearRegression() )\n",
    "grid_model = GridSearchCV(model_pipe, param_grid={}, cv=3)\n",
    "grid_model.fit(X_train,Y_train)\n",
    "\n",
    "best_model = grid_model.best_estimator_"
   ]
  },
  {
   "cell_type": "code",
   "execution_count": 40,
   "id": "b8932999-f21e-4f95-a2af-5d1cddb8f829",
   "metadata": {},
   "outputs": [
    {
     "data": {
      "text/plain": [
       "100.50931113512884"
      ]
     },
     "execution_count": 40,
     "metadata": {},
     "output_type": "execute_result"
    }
   ],
   "source": [
    "best_model['linearregression'].intercept_"
   ]
  },
  {
   "cell_type": "code",
   "execution_count": 41,
   "id": "9bb2912c-473c-41c9-ba91-d26587bc808f",
   "metadata": {},
   "outputs": [],
   "source": [
    "best_model['linearregression'].coef_ # 회귀 모델의 회귀 계수를 계산\n",
    "df_coef = pd.DataFrame()\n",
    "df_coef['coef'] = best_model['linearregression'].coef_  # 회귀 모델의 회귀 계수를 계산\n",
    "df_coef['X'] = X.columns"
   ]
  },
  {
   "cell_type": "code",
   "execution_count": 42,
   "id": "842ca14e-9595-4fe1-a7b3-6f20ab0af235",
   "metadata": {},
   "outputs": [
    {
     "data": {
      "text/html": [
       "<div>\n",
       "<style scoped>\n",
       "    .dataframe tbody tr th:only-of-type {\n",
       "        vertical-align: middle;\n",
       "    }\n",
       "\n",
       "    .dataframe tbody tr th {\n",
       "        vertical-align: top;\n",
       "    }\n",
       "\n",
       "    .dataframe thead th {\n",
       "        text-align: right;\n",
       "    }\n",
       "</style>\n",
       "<table border=\"1\" class=\"dataframe\">\n",
       "  <thead>\n",
       "    <tr style=\"text-align: right;\">\n",
       "      <th></th>\n",
       "      <th>coef</th>\n",
       "      <th>X</th>\n",
       "    </tr>\n",
       "  </thead>\n",
       "  <tbody>\n",
       "    <tr>\n",
       "      <th>0</th>\n",
       "      <td>-0.023549</td>\n",
       "      <td>Tube Furnace CP</td>\n",
       "    </tr>\n",
       "    <tr>\n",
       "      <th>7</th>\n",
       "      <td>-0.015409</td>\n",
       "      <td>Tube Furnace4 OP</td>\n",
       "    </tr>\n",
       "    <tr>\n",
       "      <th>4</th>\n",
       "      <td>-0.001692</td>\n",
       "      <td>Tube Furnace2 Temp</td>\n",
       "    </tr>\n",
       "    <tr>\n",
       "      <th>8</th>\n",
       "      <td>-0.000421</td>\n",
       "      <td>Tube Furnace4 Temp</td>\n",
       "    </tr>\n",
       "    <tr>\n",
       "      <th>3</th>\n",
       "      <td>-0.000068</td>\n",
       "      <td>Tube Furnace2 OP</td>\n",
       "    </tr>\n",
       "    <tr>\n",
       "      <th>6</th>\n",
       "      <td>0.000355</td>\n",
       "      <td>Tube Furnace3 Temp</td>\n",
       "    </tr>\n",
       "    <tr>\n",
       "      <th>2</th>\n",
       "      <td>0.000764</td>\n",
       "      <td>Tube Furnace1 Temp</td>\n",
       "    </tr>\n",
       "    <tr>\n",
       "      <th>5</th>\n",
       "      <td>0.001888</td>\n",
       "      <td>Tube Furnace3 OP</td>\n",
       "    </tr>\n",
       "    <tr>\n",
       "      <th>1</th>\n",
       "      <td>0.004619</td>\n",
       "      <td>Tube Furnace1 OP</td>\n",
       "    </tr>\n",
       "    <tr>\n",
       "      <th>9</th>\n",
       "      <td>0.125190</td>\n",
       "      <td>ST</td>\n",
       "    </tr>\n",
       "  </tbody>\n",
       "</table>\n",
       "</div>"
      ],
      "text/plain": [
       "       coef                   X\n",
       "0 -0.023549     Tube Furnace CP\n",
       "7 -0.015409    Tube Furnace4 OP\n",
       "4 -0.001692  Tube Furnace2 Temp\n",
       "8 -0.000421  Tube Furnace4 Temp\n",
       "3 -0.000068    Tube Furnace2 OP\n",
       "6  0.000355  Tube Furnace3 Temp\n",
       "2  0.000764  Tube Furnace1 Temp\n",
       "5  0.001888    Tube Furnace3 OP\n",
       "1  0.004619    Tube Furnace1 OP\n",
       "9  0.125190                  ST"
      ]
     },
     "execution_count": 42,
     "metadata": {},
     "output_type": "execute_result"
    }
   ],
   "source": [
    "df_coef.sort_values(by='coef') "
   ]
  },
  {
   "cell_type": "code",
   "execution_count": 44,
   "id": "64e19355-fd42-4874-9082-bedde3b18ee2",
   "metadata": {},
   "outputs": [],
   "source": [
    "from sklearn.metrics import r2_score\n",
    "from sklearn.metrics import mean_squared_error, mean_absolute_error"
   ]
  },
  {
   "cell_type": "code",
   "execution_count": 47,
   "id": "1996ea9b-26d2-4f88-8852-a528aeac412b",
   "metadata": {},
   "outputs": [],
   "source": [
    "Y_train_pred = best_model.predict(X_train)\n",
    "Y_test_pred = best_model.predict(X_test)"
   ]
  },
  {
   "cell_type": "code",
   "execution_count": 53,
   "id": "bb7c3d77-31c6-45c5-8466-399d56c483ee",
   "metadata": {},
   "outputs": [
    {
     "name": "stdout",
     "output_type": "stream",
     "text": [
      "학습 결정계수 :  0.08247320323191787\n",
      "일반화 결정계수 :  0.08043810458110523\n",
      "학습 MSE :  0.18922059253324164\n",
      "일반화 MSE :  0.18909528020467534\n",
      "학습 MAE :  0.3287498866472179\n",
      "일반화 MAE :  0.3288878463344254\n"
     ]
    }
   ],
   "source": [
    "print('학습 결정계수 : ', r2_score(Y_test, Y_test_pred))\n",
    "print('일반화 결정계수 : ', r2_score(Y_train, Y_train_pred))\n",
    "print('학습 MSE : ', mean_squared_error(Y_test, Y_test_pred))\n",
    "print('일반화 MSE : ', mean_squared_error(Y_train, Y_train_pred))\n",
    "print('학습 MAE : ', mean_absolute_error(Y_test, Y_test_pred))\n",
    "print('일반화 MAE : ', mean_absolute_error(Y_train, Y_train_pred))"
   ]
  },
  {
   "cell_type": "code",
   "execution_count": 52,
   "id": "297ff56c-894e-4f00-b301-6cae861066dc",
   "metadata": {},
   "outputs": [],
   "source": [
    "from sklearn.preprocessing import PolynomialFeatures"
   ]
  },
  {
   "cell_type": "code",
   "execution_count": 54,
   "id": "aaaa6b4b-efcd-4e3e-a67a-e00ceea51eca",
   "metadata": {},
   "outputs": [],
   "source": [
    "model_pipe2 = make_pipeline(prepro_pipe, PolynomialFeatures(degree=3), LinearRegression())\n",
    "grid_model2 = GridSearchCV(model_pipe2, param_grid={}, cv=3)\n",
    "grid_model2.fit(X_train,Y_train)\n",
    "best_model2 = grid_model2.best_estimator_\n",
    "Y_train_pred = best_model2.predict(X_train)\n",
    "Y_test_pred = best_model2.predict(X_test)"
   ]
  },
  {
   "cell_type": "code",
   "execution_count": 55,
   "id": "3932c9cf-894a-42b4-9b61-6eeb00ad9c4a",
   "metadata": {},
   "outputs": [
    {
     "name": "stdout",
     "output_type": "stream",
     "text": [
      "학습 결정계수 :  0.16131851074830095\n",
      "일반화 결정계수 :  0.16798778066293907\n",
      "학습 MSE :  0.1729604071530792\n",
      "일반화 MSE :  0.17109189118540608\n",
      "학습 MAE :  0.31958748879983095\n",
      "일반화 MAE :  0.31898167503751657\n"
     ]
    }
   ],
   "source": [
    "print('학습 결정계수 : ', r2_score(Y_test, Y_test_pred))\n",
    "print('일반화 결정계수 : ', r2_score(Y_train, Y_train_pred))\n",
    "print('학습 MSE : ', mean_squared_error(Y_test, Y_test_pred))\n",
    "print('일반화 MSE : ', mean_squared_error(Y_train, Y_train_pred))\n",
    "print('학습 MAE : ', mean_absolute_error(Y_test, Y_test_pred))\n",
    "print('일반화 MAE : ', mean_absolute_error(Y_train, Y_train_pred))"
   ]
  },
  {
   "cell_type": "code",
   "execution_count": 56,
   "id": "ee65fe8d-9bfc-465c-80b5-a516a4d0dfce",
   "metadata": {},
   "outputs": [],
   "source": [
    "from sklearn.linear_model import Lasso"
   ]
  },
  {
   "cell_type": "code",
   "execution_count": null,
   "id": "b1b3a702-b4e2-471c-9f3a-a72058569f44",
   "metadata": {},
   "outputs": [],
   "source": []
  }
 ],
 "metadata": {
  "kernelspec": {
   "display_name": "Python 3 (ipykernel)",
   "language": "python",
   "name": "python3"
  },
  "language_info": {
   "codemirror_mode": {
    "name": "ipython",
    "version": 3
   },
   "file_extension": ".py",
   "mimetype": "text/x-python",
   "name": "python",
   "nbconvert_exporter": "python",
   "pygments_lexer": "ipython3",
   "version": "3.11.7"
  }
 },
 "nbformat": 4,
 "nbformat_minor": 5
}
