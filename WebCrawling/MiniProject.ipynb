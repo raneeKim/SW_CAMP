{
 "cells": [
  {
   "cell_type": "code",
   "execution_count": 1,
   "metadata": {},
   "outputs": [
    {
     "name": "stdout",
     "output_type": "stream",
     "text": [
      "Requirement already satisfied: selenium in c:\\users\\userk\\appdata\\local\\programs\\python\\python312\\lib\\site-packages (4.20.0)\n",
      "Requirement already satisfied: urllib3<3,>=1.26 in c:\\users\\userk\\appdata\\local\\programs\\python\\python312\\lib\\site-packages (from urllib3[socks]<3,>=1.26->selenium) (2.2.1)\n",
      "Requirement already satisfied: trio~=0.17 in c:\\users\\userk\\appdata\\local\\programs\\python\\python312\\lib\\site-packages (from selenium) (0.25.0)\n",
      "Requirement already satisfied: trio-websocket~=0.9 in c:\\users\\userk\\appdata\\local\\programs\\python\\python312\\lib\\site-packages (from selenium) (0.11.1)\n",
      "Requirement already satisfied: certifi>=2021.10.8 in c:\\users\\userk\\appdata\\local\\programs\\python\\python312\\lib\\site-packages (from selenium) (2024.2.2)\n",
      "Requirement already satisfied: typing_extensions>=4.9.0 in c:\\users\\userk\\appdata\\local\\programs\\python\\python312\\lib\\site-packages (from selenium) (4.11.0)\n",
      "Requirement already satisfied: attrs>=23.2.0 in c:\\users\\userk\\appdata\\local\\programs\\python\\python312\\lib\\site-packages (from trio~=0.17->selenium) (23.2.0)\n",
      "Requirement already satisfied: sortedcontainers in c:\\users\\userk\\appdata\\local\\programs\\python\\python312\\lib\\site-packages (from trio~=0.17->selenium) (2.4.0)\n",
      "Requirement already satisfied: idna in c:\\users\\userk\\appdata\\local\\programs\\python\\python312\\lib\\site-packages (from trio~=0.17->selenium) (3.6)\n",
      "Requirement already satisfied: outcome in c:\\users\\userk\\appdata\\local\\programs\\python\\python312\\lib\\site-packages (from trio~=0.17->selenium) (1.3.0.post0)\n",
      "Requirement already satisfied: sniffio>=1.3.0 in c:\\users\\userk\\appdata\\local\\programs\\python\\python312\\lib\\site-packages (from trio~=0.17->selenium) (1.3.1)\n",
      "Requirement already satisfied: cffi>=1.14 in c:\\users\\userk\\appdata\\local\\programs\\python\\python312\\lib\\site-packages (from trio~=0.17->selenium) (1.16.0)\n",
      "Requirement already satisfied: wsproto>=0.14 in c:\\users\\userk\\appdata\\local\\programs\\python\\python312\\lib\\site-packages (from trio-websocket~=0.9->selenium) (1.2.0)\n",
      "Requirement already satisfied: pysocks!=1.5.7,<2.0,>=1.5.6 in c:\\users\\userk\\appdata\\local\\programs\\python\\python312\\lib\\site-packages (from urllib3[socks]<3,>=1.26->selenium) (1.7.1)\n",
      "Requirement already satisfied: pycparser in c:\\users\\userk\\appdata\\local\\programs\\python\\python312\\lib\\site-packages (from cffi>=1.14->trio~=0.17->selenium) (2.22)\n",
      "Requirement already satisfied: h11<1,>=0.9.0 in c:\\users\\userk\\appdata\\local\\programs\\python\\python312\\lib\\site-packages (from wsproto>=0.14->trio-websocket~=0.9->selenium) (0.14.0)\n"
     ]
    }
   ],
   "source": [
    "!pip install selenium"
   ]
  },
  {
   "cell_type": "code",
   "execution_count": 40,
   "metadata": {},
   "outputs": [],
   "source": [
    "from selenium import webdriver\n",
    "from selenium.webdriver.common.keys import Keys\n",
    "from selenium.webdriver.common.by import By\n",
    "\n",
    "import time\n",
    "\n",
    "driver = webdriver.Chrome()\n",
    "driver.get('https://www.youtube.com/feed/trending')\n",
    "\n",
    "main_youtube = driver.find_elements(By.ID, 'grid-container')\n",
    "\n",
    "# imgg = driver.find_elements(By.CLASS_NAME, 'yt-core-image.yt-core-image--fill-parent-height.yt-core-image--fill-parent-width.yt-core-image--content-mode-scale-aspect-fill.yt-core-image--loaded')\n"
   ]
  },
  {
   "cell_type": "code",
   "execution_count": 44,
   "metadata": {},
   "outputs": [],
   "source": [
    "img_urls = []\n",
    "title_info = []\n",
    "video_urls = []\n",
    "\n",
    "for i in main_youtube :\n",
    "    for j in i.find_elements(By.CLASS_NAME, 'yt-core-image.yt-core-image--fill-parent-height.yt-core-image--fill-parent-width.yt-core-image--content-mode-scale-aspect-fill.yt-core-image--loaded') :\n",
    "        img_urls.append(j.get_attribute('src'))\n",
    "    for t in i.find_elements(By.ID, 'video-title') :\n",
    "        title_info.append(t.get_attribute('aria-label'))\n",
    "        video_urls.append(t.get_attribute('href'))"
   ]
  },
  {
   "cell_type": "code",
   "execution_count": 45,
   "metadata": {},
   "outputs": [
    {
     "name": "stdout",
     "output_type": "stream",
     "text": [
      "['https://i.ytimg.com/vi/tCCtZ6J5vs8/hqdefault.jpg?sqp=-oaymwEcCPYBEIoBSFXyq4qpAw4IARUAAIhCGAFwAcABBg==&rs=AOn4CLCGCoIOmsDP8qDCU0bodAsDEWureg', 'https://i.ytimg.com/vi/2WGc-5VdoGw/hqdefault.jpg?sqp=-oaymwEcCPYBEIoBSFXyq4qpAw4IARUAAIhCGAFwAcABBg==&rs=AOn4CLADZC8vGn4yKtYEDiGNGj4fTmf1rw']\n",
      "['[한글자막] 아이브 장원영에게 예쁘다 게시자: 피식대학Psick Univ 조회수 3,285,177회 1일 전 40분', \"임영웅 '온기' Official M/V 게시자: 임영웅 조회수 1,193,393회 1일 전 4분 7초\", '원우 케리아가 진짜라고? 이게 된다..진짜란다😦ㅣ세븐틴 원우&T1 케리아 [셀폰KODE] 게시자: KODE 코드 조회수 603,046회 16시간 전 15분', '[여행 브이로그] 아기와 해외 여행을 간다면?👶🏻💟 | 조카와 첫 해외여행! 게시자: 지유롭게 조회수 158,998회 15시간 전 17분', '콘치즈 하나 더 주세요 게시자: 숏박스 조회수 2,794,631회 3일 전 8분 22초', '땅이 사라진 마인크래프트에서 100일간 살아남기 게시자: 코마 조회수 1,008,012회 3일 전 44분', '[Sub] 드디어 만난 초딩라인✌🏻 전과자 집들이 간 막뎨 게시자: 육캔두잇 YOOK SUNGJAE Official 조회수 522,610회 2일 전 16분', '10년차 또 과장 결국... 퇴사합니다(회사/학교 공개) 게시자: 또 떠나는 남자 ddoddunam 조회수 406,627회 1일 전 16분', '[#나혼자산다] 팜유즈 바프 끝난 기념으로 1++ 최고 등급 한우 박스째로 주문한 현무🤤 | #전현무 #박나래 #이장우 #팜유 MBC240503방송 게시자: 엠뚜루마뚜루 : MBC 공식 종합 채널 조회수 969,277회 1일 전 17분', 'Stray Kids(스트레이 키즈) \"Lose My Breath (Feat. Charlie Puth)\" M/V Teaser 2 게시자: JYP Entertainment 조회수 924,132회 1일 전 27초', \"[뮤뱅 원테이크 4K] 아이브(IVE) '해야 (HEYA)' 4K Bonus Ver. @뮤직뱅크(Music Bank) 240503 게시자: KBS Kpop 조회수 1,110,674회 3일 전 3분 32초\", '12주년! 우리 얘기 좀 하자^^ 게시자: 다나나 조회수 360,394회 2일 전 15분', '[국내 메이저] 연장 혈투 끝 대반전 우승! 김홍택 주요장면ㅣ제43회 GS칼텍스 매경오픈 FR 게시자: JTBC GOLF 조회수 173,267회 1일 전 5분 24초', '드디어 체리 동생, 파랑이가 무사히 태어났어요! | 감동주의 게시자: 올리버쌤 조회수 1,007,282회 3일 전 13분 59초', \"'최초 공개' IVE - 해야 (HEYA) #엠카운트다운 EP.841 | Mnet 240502 방송 게시자: Mnet K-POP 조회수 2,204,505회 4일 전 4분 4초\", '임영웅 Double Single ‘온기’ M/V Teaser Ver.02 게시자: 임영웅 조회수 446,986회 3일 전 56초', '(SUB) 아이브(IVE)가 박명수 지갑 다 털어감 이슈ㅣ할명수 ep.181 게시자: 할명수 조회수 959,842회 3일 전 31분', 'sub) 한국 왔어요 ✈️ㅣ이삿짐 싸기ㅣ우리 1주년 🖤ㅣ20년째 아이돌 얘기ㅣ신안사 템플스테이 ep.07 게시자: deemd 딤디 조회수 202,422회 1일 전 26분', '[EN/JP] 240502 mini핑계고 : 유재석, 아이브(안유진, 장원영, 리즈, 레이) @뜬뜬편집실 (OneCam)ㅣ EP.14 게시자: 뜬뜬 DdeunDdeun 조회수 2,101,445회 4일 전 37분', '윤은성? 전재준? 다 맞습니다~ 다음 캐릭터가 벌써 기대되는 박성훈 자기님🔥 #highlight#유퀴즈온더블럭 | YOU QUIZ ON THE BLOCK EP.242 게시자: 유 퀴즈 온 더 튜브 조회수 787,535회 4일 전 19분', '한 사람만 빠지면 완벽한 소개팅 게시자: 카더정원 조회수 1,038,413회 4일 전 15분', '여자들의 대화 게시자: 띱 Deep 조회수 1,059,291회 2일 전 6분 20초', '셋째 출산 후 처음 가는 그리스, 손자 손녀를 처음 보신 그리스 장인 장모님 반응 게시자: 소피아패밀리(Sophia family) 조회수 431,502회 3일 전 10분 39초', '[나 혼자 산다 선공개] 바프 촬영 후 시작된 팜유즈의 소고기🐮 파티! 본격적으로 먹던 대장 팜유 전현무가 실망한 이유는?, MBC 240503 방송 게시자: 나혼자산다 STUDIO 조회수 379,718회 3일 전 4분 24초', '[#예능연구소8K] IVE (아이브) – 해야 (HEYA) 풀캠 | 쇼! 음악중심 | MBC240504방송 게시자: MBCkpop 조회수 329,350회 2일 전 3분 46초', 'IVE(아이브) 해야 (HEYA) 안무가 버전 | Lachica Choreography 게시자: 라치카 La Chica 조회수 270,681회 3일 전 3분 15초', \"IVE 아이브 '해야 (HEYA)' MV 게시자: STARSHIP 조회수 25,809,274회 7일 전 3분 10초\", '고질라가 브롤스타즈에 출격! 게시자: Brawl Stars 조회수 7,977,960회 4일 전 39초', '입대 직전 인생 흑돼지 먹고 울뻔한 영국 대학생들!! (feat. 워터파크 통대관) 게시자: 영국남자 Korean Englishman 조회수 2,254,268회 5일 전 20분', '[ENG] 김지원 인생캐 모르는 사람 또 있나요? 🏅 | 부캐대전 | 김지원 게시자: 하이지음스튜디오 HighZium studio 조회수 411,787회 3일 전 12분 57초', \"[BE ORIGINAL] IVE(아이브) '해야 (HEYA)' (4K) 게시자: STUDIO CHOOM [스튜디오 춤] 조회수 4,376,785회 6일 전 3분 45초\", '삼남매의 진정한 자유여행 (기안84, 이시언, 한혜진) 게시자: 인생84 조회수 942,680회 4일 전 13분 35초', '미국 고속도로 위, 차에서 아기가 나올 것 같아요!! 게시자: 올리버쌤 조회수 1,046,139회 5일 전 22분', '[EN/JP] 등산 중 상탈 강요하는 외국인..? | 운동짱범규 EP.02 게시자: M드로메다 스튜디오 조회수 557,207회 4일 전 17분', \"기안84 마음대로 무계획 규슈 여행 (이시언, 기안84, 이승훈, 빠니보틀 일본 여행 브이로그 2탄) 게시자: 시언's쿨 조회수 235,480회 3일 전 18분\", '시누이만 두명! 이지혜 막둥이 남동생 드디어 결혼??? 게시자: 밉지않은 관종언니 조회수 467,412회 4일 전 24분', '당근이는 남자?여자? 젠더리빌 파티하기 🎉 게시자: 국가비 GabieKook 조회수 762,588회 4일 전 22분', '기안84식 무계획 랜덤여행, 그리고 그를 따르는 여행자들【규슈下】 게시자: 빠니보틀 Pani Bottle 조회수 1,555,729회 6일 전 33분', '소맥이의 소개팅 게시자: 소맥거핀 조회수 970,467회 3일 전 4분', '※충격실화※ 현주디 결혼하다….!🫢 게시자: 아옳이 조회수 647,958회 5일 전 22분', '그동안 채코제의 옥탑방을 사랑해 주셔서 감사했습니다. 게시자: 채코제 Channel Korean Jay 조회수 487,614회 5일 전 18분', '그리고 다른것도 공개 게시자: 아이네 INE 조회수 368,011회 5일 전 11분 13초', '건강은 어려워 게시자: 인생 녹음 중 조회수 781,919회 4일 전 1분 51초', '손주가져서 고맙다고 시아버지에게 자동차 선물받은 우크라이나 아내 게시자: 한국사는따냐 Tanya in Korea 조회수 1,484,170회 8일 전 20분', '🎨요즘, 이런 컬러 조합이 뜨는 이유❓️ 게시자: Bora Claire (보라끌레르) 조회수 511,477회 7일 전 15분', '오랜 일본팬이 갑자기 최애의 아이돌을 만난다면 - 미나미(끝) 게시자: 곽튜브 조회수 1,594,545회 6일 전 35분', '[유료광고포함] 🍼 일주일동안 육아에 올인해봤습니다...이것이 애 키우는 재미?!! 게시자: 해쭈 [HAEJOO] 조회수 674,899회 7일 전 37분', '태계일주 멤버들의 벚꽃 날리는 일본 라이딩 여행 【규슈上】 게시자: 빠니보틀 Pani Bottle 조회수 1,955,469회 10일 전 24분', '빵빵이와 옥지의 럽스타그램 ~! 게시자: 빵빵이의 일상 조회수 2,698,823회 10일 전 3분 12초', '[먹방브이로그#95] 맛있는 거 많아서 즐거우세요?ㅎㅎ 즐거우시냐고요🤓 마라두루치기,카레통닭+신전떡볶이, 성심당 망고시루, 의성마늘핫도그+트러플치즈핫도그,까르보불닭,크붕이+크루키 게시자: 살빼조DietJo 조회수 467,177회 7일 전 23분', \"NewJeans (뉴진스) 'Bubble Gum' Official MV 게시자: HYBE LABELS 조회수 26,440,456회 10일 전 3분 41초\", '콘치즈 하나 더 주세요 게시자: 숏박스 조회수 2,794,631회 3일 전 8분 22초', '땅이 사라진 마인크래프트에서 100일간 살아남기 게시자: 코마 조회수 1,008,012회 3일 전 44분', 'ZICO (지코) ‘SPOT! (feat. JENNIE)’ Official MV 게시자: HYBE LABELS 조회수 28,228,120회 10일 전 3분 13초', \"SEVENTEEN (세븐틴) 'MAESTRO' Official MV 게시자: HYBE LABELS 조회수 39,799,256회 7일 전 4분 12초\", \"'최초 공개' IVE - 해야 (HEYA) #엠카운트다운 EP.841 | Mnet 240502 방송 게시자: Mnet K-POP 조회수 2,204,505회 4일 전 4분 4초\", '기안84식 무계획 랜덤여행, 그리고 그를 따르는 여행자들【규슈下】 게시자: 빠니보틀 Pani Bottle 조회수 1,555,729회 6일 전 33분', '[EN/JP] 240502 mini핑계고 : 유재석, 아이브(안유진, 장원영, 리즈, 레이) @뜬뜬편집실 (OneCam)ㅣ EP.14 게시자: 뜬뜬 DdeunDdeun 조회수 2,101,445회 4일 전 37분', \"[BE ORIGINAL] IVE(아이브) '해야 (HEYA)' (4K) 게시자: STUDIO CHOOM [스튜디오 춤] 조회수 4,376,785회 6일 전 3분 45초\", \"[뮤뱅 원테이크 4K] 아이브(IVE) '해야 (HEYA)' 4K Bonus Ver. @뮤직뱅크(Music Bank) 240503 게시자: KBS Kpop 조회수 1,110,674회 3일 전 3분 32초\", '드디어 체리 동생, 파랑이가 무사히 태어났어요! | 감동주의 게시자: 올리버쌤 조회수 1,007,282회 3일 전 13분 59초', '윤은성? 전재준? 다 맞습니다~ 다음 캐릭터가 벌써 기대되는 박성훈 자기님🔥 #highlight#유퀴즈온더블럭 | YOU QUIZ ON THE BLOCK EP.242 게시자: 유 퀴즈 온 더 튜브 조회수 787,535회 4일 전 19분', '청춘찬가 게시자: SEVENTEEN 조회수 1,817,649회 7일 전 3분 12초', '\"얘들아.. 왜 우리끼리 싸워?\" 오자마자 서열 1위가 된 침착맨에 대해서.. (feat. 침착맨, 빠니보틀, 곽튜브, 키드밀리) [라면꼰대5] EP25 게시자: the BOB studio | 더 밥 스튜디오 조회수 1,101,956회 6일 전 43분', '한 사람만 빠지면 완벽한 소개팅 게시자: 카더정원 조회수 1,038,413회 4일 전 15분', '[Sub] 드디어 만난 초딩라인✌🏻 전과자 집들이 간 막뎨 게시자: 육캔두잇 YOOK SUNGJAE Official 조회수 522,610회 2일 전 16분', '빵빵이와 옥지의 럽스타그램 ~! 게시자: 빵빵이의 일상 조회수 2,698,823회 10일 전 3분 12초', '태계일주 멤버들의 벚꽃 날리는 일본 라이딩 여행 【규슈上】 게시자: 빠니보틀 Pani Bottle 조회수 1,955,469회 10일 전 24분', '원우 케리아가 진짜라고? 이게 된다..진짜란다😦ㅣ세븐틴 원우&T1 케리아 [셀폰KODE] 게시자: KODE 코드 조회수 603,046회 16시간 전 15분', '입대 직전 인생 흑돼지 먹고 울뻔한 영국 대학생들!! (feat. 워터파크 통대관) 게시자: 영국남자 Korean Englishman 조회수 2,254,268회 5일 전 20분', '미국 고속도로 위, 차에서 아기가 나올 것 같아요!! 게시자: 올리버쌤 조회수 1,046,139회 5일 전 22분', '(SUB) 아이브(IVE)가 박명수 지갑 다 털어감 이슈ㅣ할명수 ep.181 게시자: 할명수 조회수 959,842회 3일 전 31분', '[여행 브이로그] 아기와 해외 여행을 간다면?👶🏻💟 | 조카와 첫 해외여행! 게시자: 지유롭게 조회수 158,998회 15시간 전 17분', '홍콩 2박 3일 여행기 (이시언, 한혜진, 기안84) 게시자: 인생84 조회수 2,114,258회 11일 전 17분', '육상 여신 김민지 선수와 100m 달리기!🔥 육상 선수 클라쓰 ㄷㄷ 게시자: 매미킴 TV 조회수 3,426,055회 8일 전 9분 5초', '[내꺼내먹_EP.14] 초심 잃은 새마을식당?! 제꺼 긴급 점검 들어갑니다😭 게시자: 백종원 PAIK JONG WON 조회수 2,318,434회 7일 전 17분', '12주년! 우리 얘기 좀 하자^^ 게시자: 다나나 조회수 360,394회 2일 전 15분', '“충성!🫡이리메라~갔다가 치약!” 승헌쓴배릠 모시고 쌈뽕하게 4년 공백 썰 푼다🙏  | 대세갑이주🏠 | EP19 | 승헌쓰 가비 게시자: 가비 걸 GABEE GIRL 조회수 633,231회 8일 전 27분', '[#나혼자산다] 팜유즈 바프 끝난 기념으로 1++ 최고 등급 한우 박스째로 주문한 현무🤤 | #전현무 #박나래 #이장우 #팜유 MBC240503방송 게시자: 엠뚜루마뚜루 : MBC 공식 종합 채널 조회수 969,277회 1일 전 17분', '※충격실화※ 현주디 결혼하다….!🫢 게시자: 아옳이 조회수 647,958회 5일 전 22분', '임영웅 Double Single ‘온기’ M/V Teaser Ver.02 게시자: 임영웅 조회수 446,986회 3일 전 56초', '손주가져서 고맙다고 시아버지에게 자동차 선물받은 우크라이나 아내 게시자: 한국사는따냐 Tanya in Korea 조회수 1,484,170회 8일 전 20분', '버논이랑 무도게임 게시자: 유병재 조회수 518,954회 6일 전 28분', '10년차 또 과장 결국... 퇴사합니다(회사/학교 공개) 게시자: 또 떠나는 남자 ddoddunam 조회수 406,627회 1일 전 16분', '고질라가 브롤스타즈에 출격! 게시자: Brawl Stars 조회수 7,977,960회 4일 전 39초', '셋째 출산 후 처음 가는 그리스, 손자 손녀를 처음 보신 그리스 장인 장모님 반응 게시자: 소피아패밀리(Sophia family) 조회수 431,502회 3일 전 10분 39초', '[MV] Kim Soo Hyun(김수현) - Way Home(청혼) 게시자: SUPER SOUND Bugs! 조회수 1,117,263회 7일 전 3분 40초', '[Original Song] 우주미아(Would You M.I.A) ㅣ권민&왁파고&티파니 게시자: 왁타버스 WAKTAVERSE 조회수 1,702,263회 2주 전 3분 38초', '한국이 너무 그리워 후유증을 앓는 엄마...그리고 한국에서 가져온 물건과 깜짝 선물을 본 북마케도니아 가족들 반응 게시자: NB couple엔비커플 조회수 644,104회 9일 전 28분', '그동안 채코제의 옥탑방을 사랑해 주셔서 감사했습니다. 게시자: 채코제 Channel Korean Jay 조회수 487,614회 5일 전 18분', '당근이는 남자?여자? 젠더리빌 파티하기 🎉 게시자: 국가비 GabieKook 조회수 762,588회 4일 전 22분', '여자들의 대화 게시자: 띱 Deep 조회수 1,059,291회 2일 전 6분 20초', '충청도 아기 태하😍 내가 아는 두 살 중에 말 제일 잘해요 게시자: kiu기우쌤 조회수 1,424,852회 11일 전 11분 1초', '우리 친구 맞지? 게시자: 너덜트 조회수 1,125,918회 11일 전 6분 52초', '얘들아 우리… 군대가… 게시자: 영국남자 Korean Englishman 조회수 2,631,770회 12일 전 10분 35초', '🎨요즘, 이런 컬러 조합이 뜨는 이유❓️ 게시자: Bora Claire (보라끌레르) 조회수 511,477회 7일 전 15분', '치즈블럭 1800g으로 햄버거 튀기기 게시자: 먹어볼래TryToEat 조회수 567,625회 8일 전 10분 51초']\n",
      "['https://www.youtube.com/watch?v=tCCtZ6J5vs8', 'https://www.youtube.com/watch?v=2WGc-5VdoGw', 'https://www.youtube.com/watch?v=gJEb8oa5jXo', 'https://www.youtube.com/watch?v=yotiO6FdlyY', 'https://www.youtube.com/watch?v=n9yXBQIzO2w', 'https://www.youtube.com/watch?v=ubdDPL3sTBo', 'https://www.youtube.com/watch?v=nYYEG_PROco', 'https://www.youtube.com/watch?v=PwuJumHhXZI', 'https://www.youtube.com/watch?v=bDlxiBI8fyo', 'https://www.youtube.com/watch?v=kBp3vVWQvyg', 'https://www.youtube.com/watch?v=onmmF5fcxDI', 'https://www.youtube.com/watch?v=JDw5oKiV3lM', 'https://www.youtube.com/watch?v=C7gVSW09Xko', 'https://www.youtube.com/watch?v=dI31YC2REVM', 'https://www.youtube.com/watch?v=WS1xNayex8c', 'https://www.youtube.com/watch?v=_VlfhTWpvow', 'https://www.youtube.com/watch?v=jEQ6gJS_WS8', 'https://www.youtube.com/watch?v=zfV1R6_66to', 'https://www.youtube.com/watch?v=yD3qRoTuHzQ', 'https://www.youtube.com/watch?v=gXQBlzIqXto', 'https://www.youtube.com/watch?v=W8DqHgo43Fo', 'https://www.youtube.com/watch?v=XYSvKkslu0Y', 'https://www.youtube.com/watch?v=JimAnyBCAyk', 'https://www.youtube.com/watch?v=VOS5djhiMlc', 'https://www.youtube.com/watch?v=-klcYJIFE6M', 'https://www.youtube.com/watch?v=UrTLuOZLZXI', 'https://www.youtube.com/watch?v=07EzMbVH3QE', 'https://www.youtube.com/watch?v=2ya8Oww8xWo', 'https://www.youtube.com/watch?v=mEIJxaJLGUE', 'https://www.youtube.com/watch?v=ZnWp42Viq3U', 'https://www.youtube.com/watch?v=F2Ib564MBFo', 'https://www.youtube.com/watch?v=83-VFOR5mdU', 'https://www.youtube.com/watch?v=xRZdaiUexco', 'https://www.youtube.com/watch?v=MzP1KhcsVL8', 'https://www.youtube.com/watch?v=AZkeNiXgfWs', 'https://www.youtube.com/watch?v=f90A-_fEZxU', 'https://www.youtube.com/watch?v=cguP5PA8g2k', 'https://www.youtube.com/watch?v=J4OV_VGKwfU', 'https://www.youtube.com/watch?v=w0mpbFwNCiE', 'https://www.youtube.com/watch?v=SW_2JgnrX4c', 'https://www.youtube.com/watch?v=S4jKdQ_fH9A', 'https://www.youtube.com/watch?v=KrYf_-zgEpo', 'https://www.youtube.com/watch?v=plFgsenEAU4', 'https://www.youtube.com/watch?v=9CNda2oSm44', 'https://www.youtube.com/watch?v=ifoogNJ3xcU', 'https://www.youtube.com/watch?v=KhAuA2Vb3K8', 'https://www.youtube.com/watch?v=wOqrJdezezg', 'https://www.youtube.com/watch?v=xRwdShWue2I', 'https://www.youtube.com/watch?v=IL93PtUSkPs', 'https://www.youtube.com/watch?v=m3QMe2Fn9k4', 'https://www.youtube.com/watch?v=ft70sAYrFyY', 'https://www.youtube.com/watch?v=n9yXBQIzO2w', 'https://www.youtube.com/watch?v=ubdDPL3sTBo', 'https://www.youtube.com/watch?v=xfqBQ2XhBCg', 'https://www.youtube.com/watch?v=ThI0pBAbFnk', 'https://www.youtube.com/watch?v=WS1xNayex8c', 'https://www.youtube.com/watch?v=J4OV_VGKwfU', 'https://www.youtube.com/watch?v=yD3qRoTuHzQ', 'https://www.youtube.com/watch?v=F2Ib564MBFo', 'https://www.youtube.com/watch?v=onmmF5fcxDI', 'https://www.youtube.com/watch?v=dI31YC2REVM', 'https://www.youtube.com/watch?v=gXQBlzIqXto', 'https://www.youtube.com/watch?v=e4tlvgKtcuw', 'https://www.youtube.com/watch?v=dfdK1IKr1Tg', 'https://www.youtube.com/watch?v=W8DqHgo43Fo', 'https://www.youtube.com/watch?v=nYYEG_PROco', 'https://www.youtube.com/watch?v=IL93PtUSkPs', 'https://www.youtube.com/watch?v=xRwdShWue2I', 'https://www.youtube.com/watch?v=gJEb8oa5jXo', 'https://www.youtube.com/watch?v=mEIJxaJLGUE', 'https://www.youtube.com/watch?v=xRZdaiUexco', 'https://www.youtube.com/watch?v=jEQ6gJS_WS8', 'https://www.youtube.com/watch?v=yotiO6FdlyY', 'https://www.youtube.com/watch?v=hMKMSRKV1Xg', 'https://www.youtube.com/watch?v=K4-1MCSYWJY', 'https://www.youtube.com/watch?v=B-Ej_Hgf8_M', 'https://www.youtube.com/watch?v=JDw5oKiV3lM', 'https://www.youtube.com/watch?v=sUY8fn1sO9M', 'https://www.youtube.com/watch?v=bDlxiBI8fyo', 'https://www.youtube.com/watch?v=SW_2JgnrX4c', 'https://www.youtube.com/watch?v=_VlfhTWpvow', 'https://www.youtube.com/watch?v=9CNda2oSm44', 'https://www.youtube.com/watch?v=DSqHCk3jglg', 'https://www.youtube.com/watch?v=PwuJumHhXZI', 'https://www.youtube.com/watch?v=2ya8Oww8xWo', 'https://www.youtube.com/watch?v=JimAnyBCAyk', 'https://www.youtube.com/watch?v=KBWAFWuhszU', 'https://www.youtube.com/watch?v=cApabFGK8VA', 'https://www.youtube.com/watch?v=SfPknI5XbRM', 'https://www.youtube.com/watch?v=S4jKdQ_fH9A', 'https://www.youtube.com/watch?v=cguP5PA8g2k', 'https://www.youtube.com/watch?v=XYSvKkslu0Y', 'https://www.youtube.com/watch?v=gm_cQ_lfcSI', 'https://www.youtube.com/watch?v=SjiizDuxmK0', 'https://www.youtube.com/watch?v=GYLps1Hy1As', 'https://www.youtube.com/watch?v=ifoogNJ3xcU', 'https://www.youtube.com/watch?v=44LmqrAa7eA']\n"
     ]
    }
   ],
   "source": [
    "print(img_urls)\n",
    "print(title_info)\n",
    "print(video_urls)"
   ]
  },
  {
   "cell_type": "code",
   "execution_count": 31,
   "metadata": {},
   "outputs": [],
   "source": [
    "title_names = []\n",
    "title_ch = []\n",
    "for t in title_info :\n",
    "    title_names.append(t.split(' 게시자: ')[0])\n",
    "    title_ch.append(t.split(' 게시자: ')[1].split(' 조회수')[0])"
   ]
  },
  {
   "cell_type": "code",
   "execution_count": 32,
   "metadata": {},
   "outputs": [
    {
     "name": "stdout",
     "output_type": "stream",
     "text": [
      "['[한글자막] 아이브 장원영에게 예쁘다', \"임영웅 '온기' Official M/V\", '원우 케리아가 진짜라고? 이게 된다..진짜란다😦ㅣ세븐틴 원우&T1 케리아 [셀폰KODE]', '[여행 브이로그] 아기와 해외 여행을 간다면?👶🏻💟 | 조카와 첫 해외여행!', '콘치즈 하나 더 주세요', '땅이 사라진 마인크래프트에서 100일간 살아남기', '[Sub] 드디어 만난 초딩라인✌🏻 전과자 집들이 간 막뎨', '10년차 또 과장 결국... 퇴사합니다(회사/학교 공개)', '[#나혼자산다] 팜유즈 바프 끝난 기념으로 1++ 최고 등급 한우 박스째로 주문한 현무🤤 | #전현무 #박나래 #이장우 #팜유 MBC240503방송', 'Stray Kids(스트레이 키즈) \"Lose My Breath (Feat. Charlie Puth)\" M/V Teaser 2', \"[뮤뱅 원테이크 4K] 아이브(IVE) '해야 (HEYA)' 4K Bonus Ver. @뮤직뱅크(Music Bank) 240503\", '12주년! 우리 얘기 좀 하자^^', '[국내 메이저] 연장 혈투 끝 대반전 우승! 김홍택 주요장면ㅣ제43회 GS칼텍스 매경오픈 FR', '드디어 체리 동생, 파랑이가 무사히 태어났어요! | 감동주의', \"'최초 공개' IVE - 해야 (HEYA) #엠카운트다운 EP.841 | Mnet 240502 방송\", '임영웅 Double Single ‘온기’ M/V Teaser Ver.02', '(SUB) 아이브(IVE)가 박명수 지갑 다 털어감 이슈ㅣ할명수 ep.181', 'sub) 한국 왔어요 ✈️ㅣ이삿짐 싸기ㅣ우리 1주년 🖤ㅣ20년째 아이돌 얘기ㅣ신안사 템플스테이 ep.07', '[EN/JP] 240502 mini핑계고 : 유재석, 아이브(안유진, 장원영, 리즈, 레이) @뜬뜬편집실 (OneCam)ㅣ EP.14', '윤은성? 전재준? 다 맞습니다~ 다음 캐릭터가 벌써 기대되는 박성훈 자기님🔥 #highlight#유퀴즈온더블럭 | YOU QUIZ ON THE BLOCK EP.242', '한 사람만 빠지면 완벽한 소개팅', '여자들의 대화', '셋째 출산 후 처음 가는 그리스, 손자 손녀를 처음 보신 그리스 장인 장모님 반응', '[나 혼자 산다 선공개] 바프 촬영 후 시작된 팜유즈의 소고기🐮 파티! 본격적으로 먹던 대장 팜유 전현무가 실망한 이유는?, MBC 240503 방송', '[#예능연구소8K] IVE (아이브) – 해야 (HEYA) 풀캠 | 쇼! 음악중심 | MBC240504방송', 'IVE(아이브) 해야 (HEYA) 안무가 버전 | Lachica Choreography', \"IVE 아이브 '해야 (HEYA)' MV\", '고질라가 브롤스타즈에 출격!', '삼남매의 진정한 자유여행 (기안84, 이시언, 한혜진)', '입대 직전 인생 흑돼지 먹고 울뻔한 영국 대학생들!! (feat. 워터파크 통대관)', '[ENG] 김지원 인생캐 모르는 사람 또 있나요? 🏅 | 부캐대전 | 김지원', \"[BE ORIGINAL] IVE(아이브) '해야 (HEYA)' (4K)\", '미국 고속도로 위, 차에서 아기가 나올 것 같아요!!', '[EN/JP] 등산 중 상탈 강요하는 외국인..? | 운동짱범규 EP.02', '기안84 마음대로 무계획 규슈 여행 (이시언, 기안84, 이승훈, 빠니보틀 일본 여행 브이로그 2탄)', '시누이만 두명! 이지혜 막둥이 남동생 드디어 결혼???', '당근이는 남자?여자? 젠더리빌 파티하기 🎉', '기안84식 무계획 랜덤여행, 그리고 그를 따르는 여행자들【규슈下】', '소맥이의 소개팅', '※충격실화※ 현주디 결혼하다….!🫢', '그동안 채코제의 옥탑방을 사랑해 주셔서 감사했습니다.', '그리고 다른것도 공개', '건강은 어려워', '손주가져서 고맙다고 시아버지에게 자동차 선물받은 우크라이나 아내', '🎨요즘, 이런 컬러 조합이 뜨는 이유❓️', '오랜 일본팬이 갑자기 최애의 아이돌을 만난다면 - 미나미(끝)', '[유료광고포함] 🍼 일주일동안 육아에 올인해봤습니다...이것이 애 키우는 재미?!!', '태계일주 멤버들의 벚꽃 날리는 일본 라이딩 여행 【규슈上】', '빵빵이와 옥지의 럽스타그램 ~!', '[먹방브이로그#95] 맛있는 거 많아서 즐거우세요?ㅎㅎ 즐거우시냐고요🤓 마라두루치기,카레통닭+신전떡볶이, 성심당 망고시루, 의성마늘핫도그+트러플치즈핫도그,까르보불닭,크붕이+크루키', \"NewJeans (뉴진스) 'Bubble Gum' Official MV\", '콘치즈 하나 더 주세요', '땅이 사라진 마인크래프트에서 100일간 살아남기', 'ZICO (지코) ‘SPOT! (feat. JENNIE)’ Official MV', \"SEVENTEEN (세븐틴) 'MAESTRO' Official MV\", \"'최초 공개' IVE - 해야 (HEYA) #엠카운트다운 EP.841 | Mnet 240502 방송\", '기안84식 무계획 랜덤여행, 그리고 그를 따르는 여행자들【규슈下】', \"[BE ORIGINAL] IVE(아이브) '해야 (HEYA)' (4K)\", '[EN/JP] 240502 mini핑계고 : 유재석, 아이브(안유진, 장원영, 리즈, 레이) @뜬뜬편집실 (OneCam)ㅣ EP.14', \"[뮤뱅 원테이크 4K] 아이브(IVE) '해야 (HEYA)' 4K Bonus Ver. @뮤직뱅크(Music Bank) 240503\", '드디어 체리 동생, 파랑이가 무사히 태어났어요! | 감동주의', '윤은성? 전재준? 다 맞습니다~ 다음 캐릭터가 벌써 기대되는 박성훈 자기님🔥 #highlight#유퀴즈온더블럭 | YOU QUIZ ON THE BLOCK EP.242', '청춘찬가', '\"얘들아.. 왜 우리끼리 싸워?\" 오자마자 서열 1위가 된 침착맨에 대해서.. (feat. 침착맨, 빠니보틀, 곽튜브, 키드밀리) [라면꼰대5] EP25', '한 사람만 빠지면 완벽한 소개팅', '[Sub] 드디어 만난 초딩라인✌🏻 전과자 집들이 간 막뎨', '빵빵이와 옥지의 럽스타그램 ~!', '태계일주 멤버들의 벚꽃 날리는 일본 라이딩 여행 【규슈上】', '입대 직전 인생 흑돼지 먹고 울뻔한 영국 대학생들!! (feat. 워터파크 통대관)', '원우 케리아가 진짜라고? 이게 된다..진짜란다😦ㅣ세븐틴 원우&T1 케리아 [셀폰KODE]', '미국 고속도로 위, 차에서 아기가 나올 것 같아요!!', '(SUB) 아이브(IVE)가 박명수 지갑 다 털어감 이슈ㅣ할명수 ep.181', '[여행 브이로그] 아기와 해외 여행을 간다면?👶🏻💟 | 조카와 첫 해외여행!', '홍콩 2박 3일 여행기 (이시언, 한혜진, 기안84)', '육상 여신 김민지 선수와 100m 달리기!🔥 육상 선수 클라쓰 ㄷㄷ', '[내꺼내먹_EP.14] 초심 잃은 새마을식당?! 제꺼 긴급 점검 들어갑니다😭', '12주년! 우리 얘기 좀 하자^^', '“충성!🫡이리메라~갔다가 치약!” 승헌쓴배릠 모시고 쌈뽕하게 4년 공백 썰 푼다🙏  | 대세갑이주🏠 | EP19 | 승헌쓰 가비', '※충격실화※ 현주디 결혼하다….!🫢', '손주가져서 고맙다고 시아버지에게 자동차 선물받은 우크라이나 아내', '임영웅 Double Single ‘온기’ M/V Teaser Ver.02', '[#나혼자산다] 팜유즈 바프 끝난 기념으로 1++ 최고 등급 한우 박스째로 주문한 현무🤤 | #전현무 #박나래 #이장우 #팜유 MBC240503방송', '버논이랑 무도게임', '10년차 또 과장 결국... 퇴사합니다(회사/학교 공개)', '고질라가 브롤스타즈에 출격!', '삼남매의 진정한 자유여행 (기안84, 이시언, 한혜진)', '셋째 출산 후 처음 가는 그리스, 손자 손녀를 처음 보신 그리스 장인 장모님 반응', '[Original Song] 우주미아(Would You M.I.A) ㅣ권민&왁파고&티파니', '한국이 너무 그리워 후유증을 앓는 엄마...그리고 한국에서 가져온 물건과 깜짝 선물을 본 북마케도니아 가족들 반응', '그동안 채코제의 옥탑방을 사랑해 주셔서 감사했습니다.', '당근이는 남자?여자? 젠더리빌 파티하기 🎉', '여자들의 대화', '충청도 아기 태하😍 내가 아는 두 살 중에 말 제일 잘해요', '우리 친구 맞지?', '얘들아 우리… 군대가…', '🎨요즘, 이런 컬러 조합이 뜨는 이유❓️', '치즈블럭 1800g으로 햄버거 튀기기']\n",
      "['피식대학Psick Univ', '임영웅', 'KODE 코드', '지유롭게', '숏박스', '코마', '육캔두잇 YOOK SUNGJAE Official', '또 떠나는 남자 ddoddunam', '엠뚜루마뚜루 : MBC 공식 종합 채널', 'JYP Entertainment', 'KBS Kpop', '다나나', 'JTBC GOLF', '올리버쌤', 'Mnet K-POP', '임영웅', '할명수', 'deemd 딤디', '뜬뜬 DdeunDdeun', '유 퀴즈 온 더 튜브', '카더정원', '띱 Deep', '소피아패밀리(Sophia family)', '나혼자산다 STUDIO', 'MBCkpop', '라치카 La Chica', 'STARSHIP', 'Brawl Stars', '인생84', '영국남자 Korean Englishman', '하이지음스튜디오 HighZium studio', 'STUDIO CHOOM [스튜디오 춤]', '올리버쌤', 'M드로메다 스튜디오', \"시언's쿨\", '밉지않은 관종언니', '국가비 GabieKook', '빠니보틀 Pani Bottle', '소맥거핀', '아옳이', '채코제 Channel Korean Jay', '아이네 INE', '인생 녹음 중', '한국사는따냐 Tanya in Korea', 'Bora Claire (보라끌레르)', '곽튜브', '해쭈 [HAEJOO]', '빠니보틀 Pani Bottle', '빵빵이의 일상', '살빼조DietJo', 'HYBE LABELS', '숏박스', '코마', 'HYBE LABELS', 'HYBE LABELS', 'Mnet K-POP', '빠니보틀 Pani Bottle', 'STUDIO CHOOM [스튜디오 춤]', '뜬뜬 DdeunDdeun', 'KBS Kpop', '올리버쌤', '유 퀴즈 온 더 튜브', 'SEVENTEEN', 'the BOB studio | 더 밥 스튜디오', '카더정원', '육캔두잇 YOOK SUNGJAE Official', '빵빵이의 일상', '빠니보틀 Pani Bottle', '영국남자 Korean Englishman', 'KODE 코드', '올리버쌤', '할명수', '지유롭게', '인생84', '매미킴 TV', '백종원 PAIK JONG WON', '다나나', '가비 걸 GABEE GIRL', '아옳이', '한국사는따냐 Tanya in Korea', '임영웅', '엠뚜루마뚜루 : MBC 공식 종합 채널', '유병재', '또 떠나는 남자 ddoddunam', 'Brawl Stars', '인생84', '소피아패밀리(Sophia family)', '왁타버스 WAKTAVERSE', 'NB couple엔비커플', '채코제 Channel Korean Jay', '국가비 GabieKook', '띱 Deep', 'kiu기우쌤', '너덜트', '영국남자 Korean Englishman', 'Bora Claire (보라끌레르)', '먹어볼래TryToEat']\n"
     ]
    }
   ],
   "source": [
    "print(title_names)\n",
    "print(title_ch)"
   ]
  },
  {
   "cell_type": "code",
   "execution_count": 33,
   "metadata": {},
   "outputs": [],
   "source": [
    "import urllib.request\n",
    "\n",
    "for i in range(len(img_urls)) :\n",
    "    urllib.request.urlretrieve(img_urls[i], \"플젝이미지/{0}.jpg\".format(title_ch[i]))"
   ]
  },
  {
   "cell_type": "code",
   "execution_count": 35,
   "metadata": {},
   "outputs": [
    {
     "ename": "ElementNotInteractableException",
     "evalue": "Message: element not interactable\n  (Session info: chrome=124.0.6367.119)\nStacktrace:\n\tGetHandleVerifier [0x00007FF71AD21502+60802]\n\t(No symbol) [0x00007FF71AC9AC02]\n\t(No symbol) [0x00007FF71AB57B13]\n\t(No symbol) [0x00007FF71ABA8052]\n\t(No symbol) [0x00007FF71AB9AE8B]\n\t(No symbol) [0x00007FF71ABCAB7A]\n\t(No symbol) [0x00007FF71AB9A7C6]\n\t(No symbol) [0x00007FF71ABCAD90]\n\t(No symbol) [0x00007FF71ABEA224]\n\t(No symbol) [0x00007FF71ABCA923]\n\t(No symbol) [0x00007FF71AB98FEC]\n\t(No symbol) [0x00007FF71AB99C21]\n\tGetHandleVerifier [0x00007FF71B02411D+3217821]\n\tGetHandleVerifier [0x00007FF71B0660B7+3488055]\n\tGetHandleVerifier [0x00007FF71B05F03F+3459263]\n\tGetHandleVerifier [0x00007FF71ADDB846+823494]\n\t(No symbol) [0x00007FF71ACA5F9F]\n\t(No symbol) [0x00007FF71ACA0EC4]\n\t(No symbol) [0x00007FF71ACA1052]\n\t(No symbol) [0x00007FF71AC918A4]\n\tBaseThreadInitThunk [0x00007FF906377344+20]\n\tRtlUserThreadStart [0x00007FF906FC26B1+33]\n",
     "output_type": "error",
     "traceback": [
      "\u001b[1;31m---------------------------------------------------------------------------\u001b[0m",
      "\u001b[1;31mElementNotInteractableException\u001b[0m           Traceback (most recent call last)",
      "Cell \u001b[1;32mIn[35], line 15\u001b[0m\n\u001b[0;32m     13\u001b[0m \u001b[38;5;28;01mfor\u001b[39;00m t \u001b[38;5;129;01min\u001b[39;00m i\u001b[38;5;241m.\u001b[39mfind_elements(By\u001b[38;5;241m.\u001b[39mID, \u001b[38;5;124m'\u001b[39m\u001b[38;5;124mvideo-title\u001b[39m\u001b[38;5;124m'\u001b[39m) :\n\u001b[0;32m     14\u001b[0m     \u001b[38;5;28;01mfor\u001b[39;00m c \u001b[38;5;129;01min\u001b[39;00m t\u001b[38;5;241m.\u001b[39mfind_elements(By\u001b[38;5;241m.\u001b[39mCLASS_NAME, \u001b[38;5;124m'\u001b[39m\u001b[38;5;124mstyle-scope.yt-formatted-string\u001b[39m\u001b[38;5;124m'\u001b[39m) :\n\u001b[1;32m---> 15\u001b[0m         \u001b[43mc\u001b[49m\u001b[38;5;241;43m.\u001b[39;49m\u001b[43mclick\u001b[49m\u001b[43m(\u001b[49m\u001b[43m)\u001b[49m\n\u001b[0;32m     16\u001b[0m         time\u001b[38;5;241m.\u001b[39msleep(\u001b[38;5;241m2\u001b[39m)\n\u001b[0;32m     17\u001b[0m         \u001b[38;5;28;01mfor\u001b[39;00m _ \u001b[38;5;129;01min\u001b[39;00m \u001b[38;5;28mrange\u001b[39m(\u001b[38;5;241m3\u001b[39m) :\n",
      "File \u001b[1;32mc:\\Users\\UserK\\AppData\\Local\\Programs\\Python\\Python312\\Lib\\site-packages\\selenium\\webdriver\\remote\\webelement.py:94\u001b[0m, in \u001b[0;36mWebElement.click\u001b[1;34m(self)\u001b[0m\n\u001b[0;32m     92\u001b[0m \u001b[38;5;28;01mdef\u001b[39;00m \u001b[38;5;21mclick\u001b[39m(\u001b[38;5;28mself\u001b[39m) \u001b[38;5;241m-\u001b[39m\u001b[38;5;241m>\u001b[39m \u001b[38;5;28;01mNone\u001b[39;00m:\n\u001b[0;32m     93\u001b[0m \u001b[38;5;250m    \u001b[39m\u001b[38;5;124;03m\"\"\"Clicks the element.\"\"\"\u001b[39;00m\n\u001b[1;32m---> 94\u001b[0m     \u001b[38;5;28;43mself\u001b[39;49m\u001b[38;5;241;43m.\u001b[39;49m\u001b[43m_execute\u001b[49m\u001b[43m(\u001b[49m\u001b[43mCommand\u001b[49m\u001b[38;5;241;43m.\u001b[39;49m\u001b[43mCLICK_ELEMENT\u001b[49m\u001b[43m)\u001b[49m\n",
      "File \u001b[1;32mc:\\Users\\UserK\\AppData\\Local\\Programs\\Python\\Python312\\Lib\\site-packages\\selenium\\webdriver\\remote\\webelement.py:395\u001b[0m, in \u001b[0;36mWebElement._execute\u001b[1;34m(self, command, params)\u001b[0m\n\u001b[0;32m    393\u001b[0m     params \u001b[38;5;241m=\u001b[39m {}\n\u001b[0;32m    394\u001b[0m params[\u001b[38;5;124m\"\u001b[39m\u001b[38;5;124mid\u001b[39m\u001b[38;5;124m\"\u001b[39m] \u001b[38;5;241m=\u001b[39m \u001b[38;5;28mself\u001b[39m\u001b[38;5;241m.\u001b[39m_id\n\u001b[1;32m--> 395\u001b[0m \u001b[38;5;28;01mreturn\u001b[39;00m \u001b[38;5;28;43mself\u001b[39;49m\u001b[38;5;241;43m.\u001b[39;49m\u001b[43m_parent\u001b[49m\u001b[38;5;241;43m.\u001b[39;49m\u001b[43mexecute\u001b[49m\u001b[43m(\u001b[49m\u001b[43mcommand\u001b[49m\u001b[43m,\u001b[49m\u001b[43m \u001b[49m\u001b[43mparams\u001b[49m\u001b[43m)\u001b[49m\n",
      "File \u001b[1;32mc:\\Users\\UserK\\AppData\\Local\\Programs\\Python\\Python312\\Lib\\site-packages\\selenium\\webdriver\\remote\\webdriver.py:347\u001b[0m, in \u001b[0;36mWebDriver.execute\u001b[1;34m(self, driver_command, params)\u001b[0m\n\u001b[0;32m    345\u001b[0m response \u001b[38;5;241m=\u001b[39m \u001b[38;5;28mself\u001b[39m\u001b[38;5;241m.\u001b[39mcommand_executor\u001b[38;5;241m.\u001b[39mexecute(driver_command, params)\n\u001b[0;32m    346\u001b[0m \u001b[38;5;28;01mif\u001b[39;00m response:\n\u001b[1;32m--> 347\u001b[0m     \u001b[38;5;28;43mself\u001b[39;49m\u001b[38;5;241;43m.\u001b[39;49m\u001b[43merror_handler\u001b[49m\u001b[38;5;241;43m.\u001b[39;49m\u001b[43mcheck_response\u001b[49m\u001b[43m(\u001b[49m\u001b[43mresponse\u001b[49m\u001b[43m)\u001b[49m\n\u001b[0;32m    348\u001b[0m     response[\u001b[38;5;124m\"\u001b[39m\u001b[38;5;124mvalue\u001b[39m\u001b[38;5;124m\"\u001b[39m] \u001b[38;5;241m=\u001b[39m \u001b[38;5;28mself\u001b[39m\u001b[38;5;241m.\u001b[39m_unwrap_value(response\u001b[38;5;241m.\u001b[39mget(\u001b[38;5;124m\"\u001b[39m\u001b[38;5;124mvalue\u001b[39m\u001b[38;5;124m\"\u001b[39m, \u001b[38;5;28;01mNone\u001b[39;00m))\n\u001b[0;32m    349\u001b[0m     \u001b[38;5;28;01mreturn\u001b[39;00m response\n",
      "File \u001b[1;32mc:\\Users\\UserK\\AppData\\Local\\Programs\\Python\\Python312\\Lib\\site-packages\\selenium\\webdriver\\remote\\errorhandler.py:229\u001b[0m, in \u001b[0;36mErrorHandler.check_response\u001b[1;34m(self, response)\u001b[0m\n\u001b[0;32m    227\u001b[0m         alert_text \u001b[38;5;241m=\u001b[39m value[\u001b[38;5;124m\"\u001b[39m\u001b[38;5;124malert\u001b[39m\u001b[38;5;124m\"\u001b[39m]\u001b[38;5;241m.\u001b[39mget(\u001b[38;5;124m\"\u001b[39m\u001b[38;5;124mtext\u001b[39m\u001b[38;5;124m\"\u001b[39m)\n\u001b[0;32m    228\u001b[0m     \u001b[38;5;28;01mraise\u001b[39;00m exception_class(message, screen, stacktrace, alert_text)  \u001b[38;5;66;03m# type: ignore[call-arg]  # mypy is not smart enough here\u001b[39;00m\n\u001b[1;32m--> 229\u001b[0m \u001b[38;5;28;01mraise\u001b[39;00m exception_class(message, screen, stacktrace)\n",
      "\u001b[1;31mElementNotInteractableException\u001b[0m: Message: element not interactable\n  (Session info: chrome=124.0.6367.119)\nStacktrace:\n\tGetHandleVerifier [0x00007FF71AD21502+60802]\n\t(No symbol) [0x00007FF71AC9AC02]\n\t(No symbol) [0x00007FF71AB57B13]\n\t(No symbol) [0x00007FF71ABA8052]\n\t(No symbol) [0x00007FF71AB9AE8B]\n\t(No symbol) [0x00007FF71ABCAB7A]\n\t(No symbol) [0x00007FF71AB9A7C6]\n\t(No symbol) [0x00007FF71ABCAD90]\n\t(No symbol) [0x00007FF71ABEA224]\n\t(No symbol) [0x00007FF71ABCA923]\n\t(No symbol) [0x00007FF71AB98FEC]\n\t(No symbol) [0x00007FF71AB99C21]\n\tGetHandleVerifier [0x00007FF71B02411D+3217821]\n\tGetHandleVerifier [0x00007FF71B0660B7+3488055]\n\tGetHandleVerifier [0x00007FF71B05F03F+3459263]\n\tGetHandleVerifier [0x00007FF71ADDB846+823494]\n\t(No symbol) [0x00007FF71ACA5F9F]\n\t(No symbol) [0x00007FF71ACA0EC4]\n\t(No symbol) [0x00007FF71ACA1052]\n\t(No symbol) [0x00007FF71AC918A4]\n\tBaseThreadInitThunk [0x00007FF906377344+20]\n\tRtlUserThreadStart [0x00007FF906FC26B1+33]\n"
     ]
    }
   ],
   "source": [
    "from selenium import webdriver\n",
    "from selenium.webdriver.common.keys import Keys\n",
    "from selenium.webdriver.common.by import By\n",
    "\n",
    "import time\n",
    "\n",
    "driver = webdriver.Chrome()\n",
    "driver.get('https://www.youtube.com/feed/trending')\n",
    "\n",
    "main_youtube = driver.find_elements(By.ID, 'grid-container')\n",
    "\n",
    "for i in main_youtube :\n",
    "    for t in i.find_elements(By.ID, 'video-title') :\n",
    "        for c in t.find_elements(By.CLASS_NAME, 'style-scope.yt-formatted-string') :\n",
    "            c.click()\n",
    "            time.sleep(2)\n",
    "            for _ in range(3) :\n",
    "                action = driver.find_element(By.TAG_NAME, 'body')\n",
    "                action.send_keys(Keys.END)\n",
    "            time.sleep(1)"
   ]
  },
  {
   "cell_type": "code",
   "execution_count": 3,
   "metadata": {},
   "outputs": [],
   "source": [
    "from selenium import webdriver\n",
    "from selenium.webdriver.common.keys import Keys\n",
    "from selenium.webdriver.common.by import By\n",
    "\n",
    "import time\n",
    "\n",
    "\n",
    "# 인기급상승 페이지 열기\n",
    "driver = webdriver.Chrome()\n",
    "driver.get('https://www.youtube.com/feed/trending')\n",
    "\n",
    "# 인기급상승 동영상만 불러오기\n",
    "main_youtube = driver.find_elements(By.ID, 'grid-container')\n",
    "\n",
    "# 스크롤\n",
    "action = driver.find_element(By.TAG_NAME, 'body')\n",
    "action.send_keys(Keys.PAGE_DOWN)\n",
    "time.sleep(1)\n",
    "\n",
    "img_urls = [] # 썸네일 이미지 다운로드\n",
    "title_info = [] # 동영상 제목, 채널 이름, 조회수 등의 정보\n",
    "video_urls = [] # 동영상 주소\n",
    "\n",
    "\n",
    "for i in main_youtube :\n",
    "    for j in i.find_elements(By.CLASS_NAME, 'yt-core-image.yt-core-image--fill-parent-height.yt-core-image--fill-parent-width.yt-core-image--content-mode-scale-aspect-fill.yt-core-image--loaded') :\n",
    "        img_urls.append(j.get_attribute('src'))\n",
    "    for t in i.find_elements(By.ID, 'video-title') :\n",
    "        title_info.append(t.get_attribute('aria-label'))\n",
    "        video_urls.append(t.get_attribute('href'))\n",
    "\n",
    "\n",
    "# 동영상의 제목과 채널 이름만 저장\n",
    "title_names = []\n",
    "title_ch = []\n",
    "for t in title_info :\n",
    "    title_names.append(t.split(' 게시자: ')[0])\n",
    "    title_ch.append(t.split(' 게시자: ')[1].split(' 조회수')[0])\n",
    "\n",
    "\n",
    "# 썸네일 이미지를 채널 이름을 제목으로 하여 저장 (top5개만 하기위하여)\n",
    "import urllib.request\n",
    "\n",
    "for i in range(5) : \n",
    "    urllib.request.urlretrieve(img_urls[i], \"플젝이미지/{0}.jpg\".format(title_ch[i]))\n",
    "\n",
    "\n",
    "driver.close()"
   ]
  },
  {
   "cell_type": "code",
   "execution_count": 4,
   "metadata": {},
   "outputs": [],
   "source": [
    "import pandas as pd \n",
    "\n",
    "data = {'title_name' : title_names[0:5] ,\n",
    "        'title_ch' : title_ch[0:5] ,\n",
    "        'video_urls' : video_urls[0:5]}"
   ]
  },
  {
   "cell_type": "code",
   "execution_count": 8,
   "metadata": {},
   "outputs": [],
   "source": [
    "video_info = pd.DataFrame(data)"
   ]
  },
  {
   "cell_type": "code",
   "execution_count": 12,
   "metadata": {},
   "outputs": [],
   "source": [
    "from selenium import webdriver\n",
    "from selenium.webdriver.common.keys import Keys\n",
    "from selenium.webdriver.common.by import By\n",
    "\n",
    "import time\n",
    "\n",
    "for url in video_info['video_urls'] :\n",
    "    driver = webdriver.Chrome()\n",
    "    driver.get(url)\n",
    "\n",
    "    for c in range(2) :\n",
    "        action = driver.find_element(By.TAG_NAME, 'body')\n",
    "        action.send_keys(Keys.END)\n",
    "        time.sleep(1)\n"
   ]
  },
  {
   "cell_type": "code",
   "execution_count": 30,
   "metadata": {},
   "outputs": [],
   "source": [
    "from selenium import webdriver\n",
    "from selenium.webdriver.common.keys import Keys\n",
    "from selenium.webdriver.common.by import By\n",
    "\n",
    "import time\n",
    "\n",
    "driver = webdriver.Chrome()\n",
    "driver.get(video_info['video_urls'][0])\n",
    "\n",
    "for _ in range(3) :\n",
    "    action = driver.find_element(By.TAG_NAME, 'body')\n",
    "    action.send_keys(Keys.END)\n",
    "    time.sleep(1)\n",
    "\n",
    "reply = driver.find_element(By.ID, 'sections')\n",
    "\n",
    "for r in reply.find_elements(By.CSS_SELECTOR, \n",
    "                              'span.yt-core-attributed-string.yt-core-attributed-string--white-space-pre-wrap') :\n",
    "    print(r.text)\n",
    "\n",
    "driver.close()\n",
    "# id = sections"
   ]
  },
  {
   "cell_type": "code",
   "execution_count": 31,
   "metadata": {},
   "outputs": [
    {
     "name": "stdout",
     "output_type": "stream",
     "text": [
      "\n",
      "#피식대학 #피식쇼 #장원영 \n",
      "\n",
      "Follow the host of PSICK SHOW on instagram right now!\n",
      "썸넬에 자기들 사진 아예 빼버리고 장원영 사진만 넣어놨어ㅋㅋㅋㅋㅋㅋㅋㅋㅋ최고의 선택\n",
      "원래 피식쇼 제목 ’누구에게 ~을 묻다‘ 아니었냐고ㅋㅋㅋㅋㅋㅋ 이번엔 그냥 이쁘다로 끝나네ㅋㅋㅋㅋㅋㅋ\n",
      "6년간 세계에서 억까 당하면서 말 한마디 안하고 행동으로만 증명하는게 ㄹㅇ 보살임. 5대 성인의 반열에 오를듯.\n",
      "하루만에 조회수 3백만ㅋㅋㅋㅋㅋ\n",
      "얘가 ㄹㅇ 아이돌 고트네\n",
      "이 영상의 가장 큰, 유일한 문제점...4K가 아니라는 것\n",
      "물어보기도 입아프니까 장원영에게 예쁘냐고 묻다도 아니고 예쁘다 박고 끝내버리네 ㅋㅋㅋㅋ\n",
      "장원영이 괜히 만년돌 소리 듣겠냐 14살때 엠넷 서바이벌 나간 순간부터 살면서 너무 예쁘다는 소리만 들은 애인데 악플러들이 억까 해봤자지 그저 애잔\n",
      "예쁘기만 한 줄 알았는데 키도 크고 영어도 잘하고 개그 장난도 잘 받아치고 발성도 좋고 매력넘치는 센스쟁이 였네;; 완전 사기캐다\n",
      "묻는 것도 아니고 그냥 예쁘다 박아버리네 ㅋㅋㅋㅋㅋㅋㅋㅋ\n",
      "다 보고 장원영한테 벽느낀사람들은 개추 ㅋㅋㅋㅋ 그냥 어나더임 사람 자체가\n",
      "하루만에 3백만ㅋㅋㅋㅋ 진짜 장원영 파급력 미쳤다\n",
      "근데 장원영 대단한게 ㄹㅇ딸기 이쁘게 먹었다고 억까 당할 때 누구처럼 팍큐 스토리도 안올리고 ㄹㅇ보살임\n",
      "제목이 무슨 장원영에게 편지 쓴 것처럼 되어 있네 ㅋㅋㅋㅋㅋ\n",
      "한국 최고 개그맨: 차은우 \n",
      "한국 최고 개그우먼: 장원영 ㅇㅇ 이게 맞다\n",
      "17:59 별거 아닌 말일 수 있겠지만 편집하는 사람 입장에서는 저런 코멘트 하나가 정말 감사할 따름입니다... 정말 고맙습니다.\n",
      "와 저 진짜 댓글 거의 안달고 아이돌도 막 열성적으로 좋아한적도 없는데 장원영은 진짜 엄청나네요... 얼굴 비출때마다 감탄만 하고 갑니다\n",
      "김민수 구속시켜라.\n",
      "차은우가 왜 개그맨인지 이해되어버린 남자들은 개추\n",
      "영상도 보고 댓글도 보면서..\n",
      "요즘 여러 연예계 혼란 속에서도 장원영은 아무일 없이 평소처럼 활동하는데.. 진짜 가만히 있어서 가만히 있는게 아니고 얘가 이렇게 가만히 평소처럼 그대로 있기 위해 뒤에서는 얼마나 많은 노력을 했을까 다시금 깨닫게 됨.마치 수면위에선 우아하고 편안해 보이지만 그 밑에서 발구르기를 멈추지 않고 있는 백조 같달까 \n",
      "타고난 아이돌이기도 하지만 저렇게 발전하기까지 혼자만의 무수한 생각과 노력의 시간이 있었으리라 생각됩니다 생각도 깊고 겸손하고.. 영상을 보다보니 나보다 어리지만 배우고 싶은 점이 많네요 정말 호감에 응원합니다\n",
      "장원영은 연예인하려고 태어난 사람같아. 독보적인듯\n",
      "이번회차 단점: 장원영 얼굴보느라 내용이 기억이 안남\n",
      "남자 셋이서 40분동안 꺄르륵 거리는 영상 1위..\n",
      "아이고 예뻐라,, 이제 다 컸는데도 아기같아서 저렇게 말도 잘하고 센스있게 리액션 하는거 너무 기특해ㅋㅋㅋㅋㅋ\n",
      "진짜 아무도 장원영 억까하지마라... 걍 얘는 본투비 아이돌이며 보호받아 마땅한 피조물임... 왜 여자들이 차은우를 보고 웃음이 난다는지 알겠다\n",
      "사람들은 보통 원영이가 그저 예쁘고 차분한 아이인줄 아는데..센스도 넘치고 유머감각도 있어서 예능에서 항상 자기 1인분은 확실히 챙기는 스타일임 ㅋㅋㅋㅋ\n",
      "썸네일에서 'PSICK show' 로고를 얼굴로 가려버린 첫번째 출연자, 장원영. 클라스보소 ㅋㅋㅋㅋ\n",
      "진짜 아이돌이라는 단어에 가장 근접한 사람\n",
      "여자인데 보는내내 나도모르게 실실웃고있었음.. 장원영 진짜 존나이쁘고 너무 완벽하다\n",
      "이젠 대놓고 제목에 묻지도 않고 예쁘다 사심 넣네ㅋㅋㅋㅋㅋㅋㅋㅋㅋㅋ\n",
      "저 어린애가 그 엄청난 안티와 악플 속에서도 고고하게 서있을 수 있는 이유는 다름아닌 영특함... 사람이 너무 똑똑함\n",
      "예쁜것도 예쁜건데 센스도 진짜 좋다ㅋㅋㅋㅋㅋㅋㅋㅋㅋㅋ 길게 볼수록 얼굴보다도(얼굴이야 1초봐도 앎) 언행때문에 홀리는 거 같음 너무 매력있음\n",
      "40분 영상을 이렇게 지루하지 않게 풀로 본 건 처음이다… 얼굴이 컨텐츠네… 키랑 비율 와… 진짜… 그냥 무편집본 풀어줬음 좋겠다\n",
      "장원영은 정말 유명한 예쁘다.\n",
      "진짜 아이돌 보고 ”와 예쁘다“ 말고 ”내 딸이였으면 좋겠다…“ 가 먼저인 애는 장원영 한명임ㅋㅋㅋㅋㅋㅋㅋㅋ 원영이 어머님은 얼마나 딸이 이쁘고 뿌듯하실까….\n",
      "아니 다들 안자..? ㅋㅋㅋㅋㅋ\n",
      "이 밤에 조회수 오르는 속도 미쳤네ㅋㅋ\n",
      "난 여잔데 왜 계속 광대폭발하며 봤지ㅋㅋ 너무 귀엽고 사랑스럽다 나이만 어렸지 참 똑부러지고 그래서 안심? 돼서 좋다\n",
      "저렇게 똑부러지고 예쁜 애가 온갖 억까 당하는거 ㅈㄴ 웃기네…\n",
      "박진영이 말한거 처럼 천상 아이돌이다. 3:1 인터뷰인데 진행이나 멘트가 너무 매끄럽고, 부담스럽지 않게 자기 매력을 다 발휘하네.. 진짜 아이돌 능력치 최상이다. 이쁜것도 이쁜건데 능력이랑 태도가 너무 좋다.\n",
      "혼자나와서 자기 그룹 멤버 에피소드 얘기 안하고도 온전히 피식멤버들이랑 티키타카로만 35분을 꽉 채울 수 있는 유일한 아이돌이라고 봄\n",
      "장원영은 오디션 프로 등장 순간부터 아, 쟤가 그냥 센터고 나머지 멤버 뽑는 프로다 라고 바로 느꼈었던.\n",
      "더 놀라운 점은 당시 아이즈원 제일 막내 중딩이었는데 말할때 어휘력, 카메라앞에서의 순발력, 판단력, 노련미가 그냥 방송20년차 경력자 느낌이었던. 달리 본투비아이돌이 아니라는.\n"
     ]
    }
   ],
   "source": [
    "from selenium import webdriver\n",
    "from selenium.webdriver.common.keys import Keys\n",
    "from selenium.webdriver.common.by import By\n",
    "\n",
    "import time\n",
    "\n",
    "driver = webdriver.Chrome()\n",
    "driver.get(video_info['video_urls'][0])\n",
    "\n",
    "for _ in range(3) :\n",
    "    action = driver.find_element(By.TAG_NAME, 'body')\n",
    "    action.send_keys(Keys.END)\n",
    "    time.sleep(1)\n",
    "\n",
    "#reply = driver.find_element(By.ID, 'sections')\n",
    "# /html/body/ytd-app/div[1]/ytd-page-manager/ytd-watch-flexy/div[5]/div[1]/div/div[2]/ytd-comments/ytd-item-section-renderer\n",
    "\n",
    "for r in driver.find_elements(By.CSS_SELECTOR, \n",
    "                              'span.yt-core-attributed-string.yt-core-attributed-string--white-space-pre-wrap') :\n",
    "    print(r.text)\n",
    "\n",
    "driver.close()"
   ]
  },
  {
   "cell_type": "code",
   "execution_count": null,
   "metadata": {},
   "outputs": [],
   "source": []
  }
 ],
 "metadata": {
  "kernelspec": {
   "display_name": "Python 3",
   "language": "python",
   "name": "python3"
  },
  "language_info": {
   "codemirror_mode": {
    "name": "ipython",
    "version": 3
   },
   "file_extension": ".py",
   "mimetype": "text/x-python",
   "name": "python",
   "nbconvert_exporter": "python",
   "pygments_lexer": "ipython3",
   "version": "3.12.3"
  }
 },
 "nbformat": 4,
 "nbformat_minor": 2
}
