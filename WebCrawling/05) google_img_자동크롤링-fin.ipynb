{
 "cells": [
  {
   "cell_type": "code",
   "execution_count": 13,
   "id": "2a542438",
   "metadata": {},
   "outputs": [],
   "source": [
    "# !pip install selenium"
   ]
  },
  {
   "cell_type": "code",
   "execution_count": 3,
   "id": "3b1c0cec",
   "metadata": {},
   "outputs": [],
   "source": [
    "# selenium ver4\n",
    "\n",
    "from selenium.webdriver.chrome.service import Service\n",
    "from selenium.webdriver.common.by import By\n",
    "# from webdriver_manager.chrome import ChromeDriverManager\n",
    "from selenium import webdriver\n",
    "\n",
    "# Key값을 넣기 위함\n",
    "from selenium.webdriver.common.keys import Keys\n",
    "import time\n"
   ]
  },
  {
   "cell_type": "code",
   "execution_count": null,
   "id": "7d485bd9",
   "metadata": {},
   "outputs": [],
   "source": [
    "from selenium import webdriver\n",
    "driver = webdriver.Chrome()\n",
    "driver.get('https://www.google.co.kr/imghp?hl=ko&ogbl')\n",
    "\n",
    "# time.sleep(2.3)\n",
    "# driver.refresh()\n",
    "\n",
    "\n",
    "# time.sleep(1.3)\n",
    "elem = driver.find_element(By.NAME, \"q\")\n",
    "elem.clear()\n",
    "elem.send_keys(\"pycon\")\n",
    "\n",
    "time.sleep(1.3)\n",
    "elem.send_keys(Keys.RETURN) # enter키를 친다.\n",
    "\n",
    "## CSS_selector에 따른 elements 찾기\n",
    "images = driver.find_elements(By.CSS_SELECTOR, '.rg_i.Q4LuWd' )\n",
    "\n",
    "# # JavaScript와 연결된 코드\n",
    "# SCROLL_PAUSE_TIME = 1.8\n",
    "\n",
    "# # Get scroll height\n",
    "# last_height = driver.execute_script(\"return document.body.scrollHeight\")\n",
    "\n",
    "# while True:\n",
    "#     # Scroll down to bottom\n",
    "#     driver.execute_script(\"window.scrollTo(0, document.body.scrollHeight);\")\n",
    "\n",
    "#     # Wait to load page\n",
    "#     time.sleep(SCROLL_PAUSE_TIME)\n",
    "\n",
    "#     # Calculate new scroll height and compare with last scroll height\n",
    "#     new_height = driver.execute_script(\"return document.body.scrollHeight\")\n",
    "#     if new_height == last_height:\n",
    "#         try:\n",
    "#             driver.find_element(By.CSS_SELECTOR, '.mye4qd').click()\n",
    "#         except:\n",
    "#             break\n",
    "#     last_height = new_height\n",
    "\n",
    "cnt = 1\n",
    "for img in images:\n",
    "    try:\n",
    "        time.sleep(2.3)\n",
    "        img.click()    \n",
    "        # image 주소 가져오기\n",
    "        img_url = driver.find_element(By.XPATH, '/html/body/div[2]/c-wiz/div[3]/div[2]/div[3]/div/div/div[3]/div[2]/c-wiz/div/div[1]/div[1]/div[3]/div/a/img' ).get_attribute('src')\n",
    "            # image 다운로드\n",
    "        import urllib.request\n",
    "        urllib.request.urlretrieve(img_url, './test_img/test{0}.png'.format(cnt))\n",
    "        cnt = cnt + 1\n",
    "    except:\n",
    "        pass\n",
    "\n"
   ]
  },
  {
   "cell_type": "code",
   "execution_count": null,
   "id": "29694f1d",
   "metadata": {},
   "outputs": [],
   "source": []
  },
  {
   "cell_type": "code",
   "execution_count": null,
   "id": "ddf67be0",
   "metadata": {},
   "outputs": [],
   "source": []
  }
 ],
 "metadata": {
  "kernelspec": {
   "display_name": "Python 3 (ipykernel)",
   "language": "python",
   "name": "python3"
  },
  "language_info": {
   "codemirror_mode": {
    "name": "ipython",
    "version": 3
   },
   "file_extension": ".py",
   "mimetype": "text/x-python",
   "name": "python",
   "nbconvert_exporter": "python",
   "pygments_lexer": "ipython3",
   "version": "3.11.5"
  }
 },
 "nbformat": 4,
 "nbformat_minor": 5
}
