{
 "cells": [
  {
   "cell_type": "code",
   "execution_count": 2,
   "metadata": {},
   "outputs": [
    {
     "name": "stdout",
     "output_type": "stream",
     "text": [
      "Requirement already satisfied: selenium in c:\\users\\userk\\appdata\\local\\programs\\python\\python312\\lib\\site-packages (4.20.0)\n",
      "Requirement already satisfied: urllib3<3,>=1.26 in c:\\users\\userk\\appdata\\local\\programs\\python\\python312\\lib\\site-packages (from urllib3[socks]<3,>=1.26->selenium) (2.2.1)\n",
      "Requirement already satisfied: trio~=0.17 in c:\\users\\userk\\appdata\\local\\programs\\python\\python312\\lib\\site-packages (from selenium) (0.25.0)\n",
      "Requirement already satisfied: trio-websocket~=0.9 in c:\\users\\userk\\appdata\\local\\programs\\python\\python312\\lib\\site-packages (from selenium) (0.11.1)\n",
      "Requirement already satisfied: certifi>=2021.10.8 in c:\\users\\userk\\appdata\\local\\programs\\python\\python312\\lib\\site-packages (from selenium) (2024.2.2)\n",
      "Requirement already satisfied: typing_extensions>=4.9.0 in c:\\users\\userk\\appdata\\local\\programs\\python\\python312\\lib\\site-packages (from selenium) (4.11.0)\n",
      "Requirement already satisfied: attrs>=23.2.0 in c:\\users\\userk\\appdata\\local\\programs\\python\\python312\\lib\\site-packages (from trio~=0.17->selenium) (23.2.0)\n",
      "Requirement already satisfied: sortedcontainers in c:\\users\\userk\\appdata\\local\\programs\\python\\python312\\lib\\site-packages (from trio~=0.17->selenium) (2.4.0)\n",
      "Requirement already satisfied: idna in c:\\users\\userk\\appdata\\local\\programs\\python\\python312\\lib\\site-packages (from trio~=0.17->selenium) (3.6)\n",
      "Requirement already satisfied: outcome in c:\\users\\userk\\appdata\\local\\programs\\python\\python312\\lib\\site-packages (from trio~=0.17->selenium) (1.3.0.post0)\n",
      "Requirement already satisfied: sniffio>=1.3.0 in c:\\users\\userk\\appdata\\local\\programs\\python\\python312\\lib\\site-packages (from trio~=0.17->selenium) (1.3.1)\n",
      "Requirement already satisfied: cffi>=1.14 in c:\\users\\userk\\appdata\\local\\programs\\python\\python312\\lib\\site-packages (from trio~=0.17->selenium) (1.16.0)\n",
      "Requirement already satisfied: wsproto>=0.14 in c:\\users\\userk\\appdata\\local\\programs\\python\\python312\\lib\\site-packages (from trio-websocket~=0.9->selenium) (1.2.0)\n",
      "Requirement already satisfied: pysocks!=1.5.7,<2.0,>=1.5.6 in c:\\users\\userk\\appdata\\local\\programs\\python\\python312\\lib\\site-packages (from urllib3[socks]<3,>=1.26->selenium) (1.7.1)\n",
      "Requirement already satisfied: pycparser in c:\\users\\userk\\appdata\\local\\programs\\python\\python312\\lib\\site-packages (from cffi>=1.14->trio~=0.17->selenium) (2.22)\n",
      "Requirement already satisfied: h11<1,>=0.9.0 in c:\\users\\userk\\appdata\\local\\programs\\python\\python312\\lib\\site-packages (from wsproto>=0.14->trio-websocket~=0.9->selenium) (0.14.0)\n"
     ]
    }
   ],
   "source": [
    "!pip install selenium"
   ]
  },
  {
   "cell_type": "code",
   "execution_count": 47,
   "metadata": {},
   "outputs": [],
   "source": [
    "from selenium import webdriver\n",
    "from selenium.webdriver.common.keys import Keys\n",
    "from selenium.webdriver.common.by import By\n",
    "\n",
    "import time\n",
    "\n",
    "\n",
    "# 인기급상승 페이지 열기\n",
    "driver = webdriver.Chrome()\n",
    "driver.get('https://www.youtube.com/feed/trending')\n",
    "\n",
    "# 인기급상승 동영상만 불러오기\n",
    "main_youtube = driver.find_elements(By.ID, 'grid-container')\n",
    "\n",
    "# 스크롤\n",
    "action = driver.find_element(By.TAG_NAME, 'body')\n",
    "action.send_keys(Keys.PAGE_DOWN)\n",
    "action.send_keys(Keys.PAGE_DOWN)\n",
    "\n",
    "\n",
    "img_urls = [] # 썸네일 이미지 다운로드\n",
    "title_info = [] # 동영상 제목, 채널 이름, 조회수 등의 정보\n",
    "video_urls = [] # 동영상 주소\n",
    "\n",
    "\n",
    "for i in main_youtube :\n",
    "    for j in i.find_elements(By.CLASS_NAME, 'yt-core-image.yt-core-image--fill-parent-height.yt-core-image--fill-parent-width.yt-core-image--content-mode-scale-aspect-fill.yt-core-image--loaded') :\n",
    "        img_urls.append(j.get_attribute('src'))\n",
    "    for t in i.find_elements(By.ID, 'video-title') :\n",
    "        title_info.append(t.get_attribute('aria-label'))\n",
    "        video_urls.append(t.get_attribute('href'))\n",
    "\n",
    "\n",
    "# 동영상의 제목과 채널 이름만 저장\n",
    "title_names = []\n",
    "title_ch = []\n",
    "for t in title_info :\n",
    "    title_names.append(t.split(' 게시자: ')[0])\n",
    "    title_ch.append(t.split(' 게시자: ')[1].split(' 조회수')[0])\n",
    "\n",
    "\n",
    "# 썸네일 이미지를 채널 이름을 제목으로 하여 저장 (top5개만 하기 위하여)\n",
    "import urllib.request\n",
    "\n",
    "for i in range(5) : \n",
    "    urllib.request.urlretrieve(img_urls[i], \"플젝이미지/{0}.jpg\".format(title_ch[i]))\n",
    "\n",
    "\n",
    "driver.close()"
   ]
  },
  {
   "cell_type": "code",
   "execution_count": 48,
   "metadata": {},
   "outputs": [],
   "source": [
    "import pandas as pd \n",
    "\n",
    "data = {'title_name' : title_names[0:5] ,\n",
    "        'title_ch' : title_ch[0:5] ,\n",
    "        'video_urls' : video_urls[0:5]}\n",
    "\n",
    "video_info = pd.DataFrame(data)"
   ]
  },
  {
   "cell_type": "code",
   "execution_count": 49,
   "metadata": {},
   "outputs": [],
   "source": [
    "from selenium import webdriver\n",
    "from selenium.webdriver.common.keys import Keys\n",
    "from selenium.webdriver.common.by import By\n",
    "\n",
    "import time\n",
    "\n",
    "video_reply = []\n",
    "\n",
    "for url in video_info['video_urls'] :\n",
    "    driver = webdriver.Chrome()\n",
    "    driver.get(url)\n",
    "\n",
    "    # 첫번째스크롤 : 댓글 로딩 , 두번째스크롤 : +20 댓글 로딩 , 세번째스크롤 + 20 댓글 로딩 -> 총 40개의 댓글 로딩\n",
    "\n",
    "    for _ in range(3) : \n",
    "        action = driver.find_element(By.TAG_NAME, 'body')\n",
    "        action.send_keys(Keys.END)\n",
    "        time.sleep(2)\n",
    "\n",
    "    # 로딩 시간을 위해\n",
    "    time.sleep(2)\n",
    "\n",
    "    # 댓글구역을 찾기 위해 xpath로 찾아감\n",
    "    target_xpath = '/html/body/ytd-app/div[1]/ytd-page-manager/ytd-watch-flexy/div[5]/div[1]/div/div[2]/ytd-comments/ytd-item-section-renderer'\n",
    "    element = driver.find_element(By.XPATH, target_xpath)\n",
    "\n",
    "    reply = []\n",
    "    for r in element.find_elements(By.CSS_SELECTOR, \n",
    "                                'span.yt-core-attributed-string.yt-core-attributed-string--white-space-pre-wrap') :\n",
    "        reply.append(r.text)\n",
    "    \n",
    "    video_reply.append(reply)\n",
    "\n",
    "    driver.close()\n"
   ]
  },
  {
   "cell_type": "code",
   "execution_count": 55,
   "metadata": {},
   "outputs": [],
   "source": [
    "video_info['video_reply'] = video_reply"
   ]
  },
  {
   "cell_type": "code",
   "execution_count": 27,
   "metadata": {},
   "outputs": [
    {
     "name": "stdout",
     "output_type": "stream",
     "text": [
      "                                          title_name        title_ch  \\\n",
      "0                               [한글자막] 아이브 장원영에게 예쁘다  피식대학Psick Univ   \n",
      "1                              임영웅 '온기' Official M/V             임영웅   \n",
      "2  원우 케리아가 진짜라고? 이게 된다..진짜란다😦ㅣ세븐틴 원우&T1 케리아 [셀폰KODE]         KODE 코드   \n",
      "3         [여행 브이로그] 아기와 해외 여행을 간다면?👶🏻💟 | 조카와 첫 해외여행!            지유롭게   \n",
      "4                                       콘치즈 하나 더 주세요             숏박스   \n",
      "\n",
      "                                    video_urls  \\\n",
      "0  https://www.youtube.com/watch?v=tCCtZ6J5vs8   \n",
      "1  https://www.youtube.com/watch?v=2WGc-5VdoGw   \n",
      "2  https://www.youtube.com/watch?v=gJEb8oa5jXo   \n",
      "3  https://www.youtube.com/watch?v=yotiO6FdlyY   \n",
      "4  https://www.youtube.com/watch?v=n9yXBQIzO2w   \n",
      "\n",
      "                                         video_reply  \n",
      "0  [썸넬에 자기들 사진 아예 빼버리고 장원영 사진만 넣어놨어ㅋㅋㅋㅋㅋㅋㅋㅋㅋ최고의 선...  \n",
      "1  [🩵 임영웅 신곡 \"온기\" \\n남루한 모습에서 풍기는 처절함 \\n거친 모습에서 보이...  \n",
      "2  [Can't believe we're playing KODE superstar Ke...  \n",
      "3  [지유님 매번 느끼긴했지만 새삼 말투에서도 오는 착함이 항상 뿜뿜해요,, 예쁜데착한...  \n",
      "4  [김원훈 snl 다녀오더니 mz묻은거 개웃기네 ㅋㅋㅋㅋㅋㅋㅋㅋㅋㅋㅋㅋㅋㅋㅋㅋㅋㅋㅋㅋ...  \n"
     ]
    }
   ],
   "source": [
    "print(video_info)"
   ]
  },
  {
   "cell_type": "code",
   "execution_count": 56,
   "metadata": {},
   "outputs": [],
   "source": [
    "video_info.to_csv('video_info.csv', encoding='utf-16')"
   ]
  }
 ],
 "metadata": {
  "kernelspec": {
   "display_name": "Python 3",
   "language": "python",
   "name": "python3"
  },
  "language_info": {
   "codemirror_mode": {
    "name": "ipython",
    "version": 3
   },
   "file_extension": ".py",
   "mimetype": "text/x-python",
   "name": "python",
   "nbconvert_exporter": "python",
   "pygments_lexer": "ipython3",
   "version": "3.12.3"
  }
 },
 "nbformat": 4,
 "nbformat_minor": 2
}
