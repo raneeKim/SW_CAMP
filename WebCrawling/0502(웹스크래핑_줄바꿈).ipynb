{
 "cells": [
  {
   "cell_type": "code",
   "execution_count": 1,
   "metadata": {},
   "outputs": [
    {
     "data": {
      "text/plain": [
       "True"
      ]
     },
     "execution_count": 1,
     "metadata": {},
     "output_type": "execute_result"
    }
   ],
   "source": [
    "import webbrowser\n",
    "\n",
    "url = 'www.naver.com'\n",
    "webbrowser.open(url)"
   ]
  },
  {
   "cell_type": "code",
   "execution_count": 2,
   "metadata": {},
   "outputs": [
    {
     "data": {
      "text/plain": [
       "True"
      ]
     },
     "execution_count": 2,
     "metadata": {},
     "output_type": "execute_result"
    }
   ],
   "source": [
    "import webbrowser\n",
    "\n",
    "url = 'http://www.google.com/search?q='\n",
    "search_word = '하이브'\n",
    "\n",
    "search_url = url + search_word\n",
    "webbrowser.open(search_url)"
   ]
  },
  {
   "cell_type": "code",
   "execution_count": 6,
   "metadata": {},
   "outputs": [
    {
     "name": "stdout",
     "output_type": "stream",
     "text": [
      "<!DOCTYPE html>\n",
      "<html itemscope=\"\" itemtype=\"http://schema.org/WebPage\" lang=\"ko\">\n",
      " <head>\n",
      "  <meta content=\"text/html; charset=utf-8\" http-equiv=\"Content-Type\"/>\n",
      "  <meta content=\"/images/branding/googleg/1x/googleg_standard_color_128dp.png\" itemprop=\"image\"/>\n",
      "  <title>\n",
      "   Google\n",
      "  </title>\n",
      "  <script nonce=\"NPmCnAPLHA-A-m4bFJxwPA\">\n",
      "   (function(){var _g={kEI:'3u4yZtz3GOy32roP6a-SkAI',kEXPI:'0,1370478,2329853,979,478218,4998,23960,34431,2891,11754,67694,9707,230,107251,6627,49751,2,39761,6700,41942,24670,33070,2,2,1,24626,2006,8155,23351,8702,13733,9779,42459,20199,73178,3030,15816,1804,35268,11814,1635,13493,29964,5216099,5928,303,1009,1347,5993322,2798624,40824,121,11,26818178,1164377,1008,15664,43887,3,318,4,1281,3,2121778,2585,24111,23005240,7954,1,4844,8408,8004,2751,5910,17450,10577,2078,34792,1922,8589,2370,6407,8048,2413,3385,2623,12541,7968,214,390,959,11895,4501,5,5102,4,8939,15841,1793,1144,2070,6871,10991,359,232,54,1213,3,611,419,708,1795,1954,123,32,399,2085,207,1501,2692,4547,4556,2411,4645,681,8,5183,1408,434,992,53,1061,967,540,359,2550,183,23,183,122,405,1034,1,6,337,865,569,4,126,289,810,5,1435,339,707,2644,464,463,1,275,2,702,497,37,1354,2,4,1026,3127,754,1076,1224,846,387,1727,1090,801,347,27,499,298,220,245,2,161,482,1219,884,303,803,308,1,3,657,133,483,1158,1,385,1212,2,2,376,63,721,1006,589,1370,40,414,77,1221,40,288,126,9,6,12,6,9,12,6,9,9,14,6,9,12,9,6,12,9,6,9,9,12,6,12,9,9,9,6,9,9,9,12,6,9,9,9,9,12,6,12,6,12,6,12,9,9,6,12,9,9,9,6,12,9,6,12,9,9,9,9,6,9,9,12,9,6,12,6,9,12,9,6,9,9,9,9,9,12,6,9,9,12,6,9,9,12,6,12,6,9,9,12,9,9,9,9,9,6,9,9,12,6,9,9,12,9,6,12,9,6,12,6,9,12,9,6,9,9,9,12,6,12,9,6,9,9,12,6,12,6,9,12,9,9,9,6,12,6,9,12,6,9,9,9,9,12,9,9,6,9,1256,85,17,1237,1505,123,48,145,466,508,3,310,993,578,482,4045,840,2,41,2,649,234,408,216,917,460,3,556,1120,1045,163,1242,227,521,41,99,2,6,4,65,74,1141,2,173,240,537,261,446,5,1,6,1187,1504,469,216,13,3,44,21255968,365636,3,5250,3022,23,5769,105,1575',kBL:'SdEg',kOPI:89978449};(function(){var a;(null==(a=window.google)?0:a.stvsc)?google.kEI=_g.kEI:window.google=_g;}).call(this);})();(function(){google.sn='webhp';google.kHL='ko';})();(function(){\n",
      "var h=this||self;function l(){return void 0!==window.google&&void 0!==window.google.kOPI&&0!==window.google.kOPI?window.google.kOPI:null};var m,n=[];function p(a){for(var b;a&&(!a.getAttribute||!(b=a.getAttribute(\"eid\")));)a=a.parentNode;return b||m}function q(a){for(var b=null;a&&(!a.getAttribute||!(b=a.getAttribute(\"leid\")));)a=a.parentNode;return b}function r(a){/^http:/i.test(a)&&\"https:\"===window.location.protocol&&(google.ml&&google.ml(Error(\"a\"),!1,{src:a,glmm:1}),a=\"\");return a}\n",
      "function t(a,b,c,d,k){var e=\"\";-1===b.search(\"&ei=\")&&(e=\"&ei=\"+p(d),-1===b.search(\"&lei=\")&&(d=q(d))&&(e+=\"&lei=\"+d));d=\"\";var g=-1===b.search(\"&cshid=\")&&\"slh\"!==a,f=[];f.push([\"zx\",Date.now().toString()]);h._cshid&&g&&f.push([\"cshid\",h._cshid]);c=c();null!=c&&f.push([\"opi\",c.toString()]);for(c=0;c<f.length;c++){if(0===c||0<c)d+=\"&\";d+=f[c][0]+\"=\"+f[c][1]}return\"/\"+(k||\"gen_204\")+\"?atyp=i&ct=\"+String(a)+\"&cad=\"+(b+e+d)};m=google.kEI;google.getEI=p;google.getLEI=q;google.ml=function(){return null};google.log=function(a,b,c,d,k,e){e=void 0===e?l:e;c||(c=t(a,b,e,d,k));if(c=r(c)){a=new Image;var g=n.length;n[g]=a;a.onerror=a.onload=a.onabort=function(){delete n[g]};a.src=c}};google.logUrl=function(a,b){b=void 0===b?l:b;return t(\"\",a,b)};}).call(this);(function(){google.y={};google.sy=[];google.x=function(a,b){if(a)var c=a.id;else{do c=Math.random();while(google.y[c])}google.y[c]=[a,b];return!1};google.sx=function(a){google.sy.push(a)};google.lm=[];google.plm=function(a){google.lm.push.apply(google.lm,a)};google.lq=[];google.load=function(a,b,c){google.lq.push([[a],b,c])};google.loadAll=function(a,b){google.lq.push([a,b])};google.bx=!1;google.lx=function(){};var d=[];google.fce=function(a,b,c,e){d.push([a,b,c,e])};google.qce=d;}).call(this);google.f={};(function(){\n",
      "document.documentElement.addEventListener(\"submit\",function(b){var a;if(a=b.target){var c=a.getAttribute(\"data-submitfalse\");a=\"1\"===c||\"q\"===c&&!a.elements.q.value?!0:!1}else a=!1;a&&(b.preventDefault(),b.stopPropagation())},!0);document.documentElement.addEventListener(\"click\",function(b){var a;a:{for(a=b.target;a&&a!==document.documentElement;a=a.parentElement)if(\"A\"===a.tagName){a=\"1\"===a.getAttribute(\"data-nohref\");break a}a=!1}a&&b.preventDefault()},!0);}).call(this);\n",
      "  </script>\n",
      "  <style>\n",
      "   #gbar,#guser{font-size:13px;padding-top:1px !important;}#gbar{height:22px}#guser{padding-bottom:7px !important;text-align:right}.gbh,.gbd{border-top:1px solid #c9d7f1;font-size:1px}.gbh{height:0;position:absolute;top:24px;width:100%}@media all{.gb1{height:22px;margin-right:.5em;vertical-align:top}#gbar{float:left}}a.gb1,a.gb4{text-decoration:underline !important}a.gb1,a.gb4{color:#00c !important}.gbi .gb4{color:#dd8e27 !important}.gbf .gb4{color:#900 !important}\n",
      "  </style>\n",
      "  <style>\n",
      "   body,td,a,p,.h{font-family:굴림,돋움,arial,sans-serif}.ko{font-size:9pt}body{margin:0;overflow-y:scroll}#gog{padding:3px 8px 0}td{line-height:.8em}.gac_m td{line-height:17px}form{margin-bottom:20px}.h{color:#1967d2}em{font-weight:bold;font-style:normal}.lst{height:25px;width:496px}.gsfi,.lst{font:18px arial,sans-serif}.gsfs{font:17px arial,sans-serif}.ds{display:inline-box;display:inline-block;margin:3px 0 4px;margin-left:4px}input{font-family:inherit}body{background:#fff;color:#000}a{color:#681da8;text-decoration:none}a:hover,a:active{text-decoration:underline}.fl a{color:#1967d2}a:visited{color:#681da8}.sblc{padding-top:5px}.sblc a{display:block;margin:2px 0;margin-left:13px;font-size:11px}.lsbb{background:#f8f9fa;border:solid 1px;border-color:#dadce0 #70757a #70757a #dadce0;height:30px}.lsbb{display:block}#WqQANb a{display:inline-block;margin:0 12px}.lsb{background:url(/images/nav_logo229.png) 0 -261px repeat-x;color:#000;border:none;cursor:pointer;height:30px;margin:0;outline:0;font:15px arial,sans-serif;vertical-align:top}.lsb:active{background:#dadce0}.lst:focus{outline:none}.Ucigb{width:458px}\n",
      "  </style>\n",
      "  <script nonce=\"NPmCnAPLHA-A-m4bFJxwPA\">\n",
      "   (function(){window.google.erd={jsr:1,bv:1999,de:true};\n",
      "var h=this||self;var k,l=null!=(k=h.mei)?k:1,n,p=null!=(n=h.sdo)?n:!0,q=0,r,t=google.erd,v=t.jsr;google.ml=function(a,b,d,m,e){e=void 0===e?2:e;b&&(r=a&&a.message);void 0===d&&(d={});d.cad=\"ple_\"+google.ple+\".aple_\"+google.aple;if(google.dl)return google.dl(a,e,d,!0),null;b=d;if(0>v){window.console&&console.error(a,b);if(-2===v)throw a;b=!1}else b=!a||!a.message||\"Error loading script\"===a.message||q>=l&&!m?!1:!0;if(!b)return null;q++;d=d||{};b=encodeURIComponent;var c=\"/gen_204?atyp=i&ei=\"+b(google.kEI);google.kEXPI&&(c+=\"&jexpid=\"+b(google.kEXPI));c+=\"&srcpg=\"+b(google.sn)+\"&jsr=\"+b(t.jsr)+\n",
      "\"&bver=\"+b(t.bv);var f=a.lineNumber;void 0!==f&&(c+=\"&line=\"+f);var g=a.fileName;g&&(0<g.indexOf(\"-extension:/\")&&(e=3),c+=\"&script=\"+b(g),f&&g===window.location.href&&(f=document.documentElement.outerHTML.split(\"\\n\")[f],c+=\"&cad=\"+b(f?f.substring(0,300):\"No script found.\")));google.ple&&1===google.ple&&(e=2);c+=\"&jsel=\"+e;for(var u in d)c+=\"&\",c+=b(u),c+=\"=\",c+=b(d[u]);c=c+\"&emsg=\"+b(a.name+\": \"+a.message);c=c+\"&jsst=\"+b(a.stack||\"N/A\");12288<=c.length&&(c=c.substr(0,12288));a=c;m||google.log(0,\"\",a);return a};window.onerror=function(a,b,d,m,e){r!==a&&(a=e instanceof Error?e:Error(a),void 0===d||\"lineNumber\"in a||(a.lineNumber=d),void 0===b||\"fileName\"in a||(a.fileName=b),google.ml(a,!1,void 0,!1,\"SyntaxError\"===a.name||\"SyntaxError\"===a.message.substring(0,11)||-1!==a.message.indexOf(\"Script error\")?3:0));r=null;p&&q>=l&&(window.onerror=null)};})();\n",
      "  </script>\n",
      " </head>\n",
      " <body bgcolor=\"#fff\">\n",
      "  <script nonce=\"NPmCnAPLHA-A-m4bFJxwPA\">\n",
      "   (function(){var src='/images/nav_logo229.png';var iesg=false;document.body.onload = function(){window.n && window.n();if (document.images){new Image().src=src;}\n",
      "if (!iesg){document.f&&document.f.q.focus();document.gbqf&&document.gbqf.q.focus();}\n",
      "}\n",
      "})();\n",
      "  </script>\n",
      "  <div id=\"mngb\">\n",
      "   <div id=\"gbar\">\n",
      "    <nobr>\n",
      "     <b class=\"gb1\">\n",
      "      검색\n",
      "     </b>\n",
      "     <a class=\"gb1\" href=\"https://www.google.co.kr/imghp?hl=ko&amp;tab=wi\">\n",
      "      이미지\n",
      "     </a>\n",
      "     <a class=\"gb1\" href=\"http://maps.google.co.kr/maps?hl=ko&amp;tab=wl\">\n",
      "      지도\n",
      "     </a>\n",
      "     <a class=\"gb1\" href=\"https://play.google.com/?hl=ko&amp;tab=w8\">\n",
      "      Play\n",
      "     </a>\n",
      "     <a class=\"gb1\" href=\"https://www.youtube.com/?tab=w1\">\n",
      "      YouTube\n",
      "     </a>\n",
      "     <a class=\"gb1\" href=\"https://news.google.com/?tab=wn\">\n",
      "      뉴스\n",
      "     </a>\n",
      "     <a class=\"gb1\" href=\"https://mail.google.com/mail/?tab=wm\">\n",
      "      Gmail\n",
      "     </a>\n",
      "     <a class=\"gb1\" href=\"https://drive.google.com/?tab=wo\">\n",
      "      드라이브\n",
      "     </a>\n",
      "     <a class=\"gb1\" href=\"https://www.google.co.kr/intl/ko/about/products?tab=wh\" style=\"text-decoration:none\">\n",
      "      <u>\n",
      "       더보기\n",
      "      </u>\n",
      "      »\n",
      "     </a>\n",
      "    </nobr>\n",
      "   </div>\n",
      "   <div id=\"guser\" width=\"100%\">\n",
      "    <nobr>\n",
      "     <span class=\"gbi\" id=\"gbn\">\n",
      "     </span>\n",
      "     <span class=\"gbf\" id=\"gbf\">\n",
      "     </span>\n",
      "     <span id=\"gbe\">\n",
      "     </span>\n",
      "     <a class=\"gb4\" href=\"http://www.google.co.kr/history/optout?hl=ko\">\n",
      "      웹 기록\n",
      "     </a>\n",
      "     |\n",
      "     <a class=\"gb4\" href=\"/preferences?hl=ko\">\n",
      "      설정\n",
      "     </a>\n",
      "     |\n",
      "     <a class=\"gb4\" href=\"https://accounts.google.com/ServiceLogin?hl=ko&amp;passive=true&amp;continue=http://www.google.co.kr/&amp;ec=GAZAAQ\" id=\"gb_70\" target=\"_top\">\n",
      "      로그인\n",
      "     </a>\n",
      "    </nobr>\n",
      "   </div>\n",
      "   <div class=\"gbh\" style=\"left:0\">\n",
      "   </div>\n",
      "   <div class=\"gbh\" style=\"right:0\">\n",
      "   </div>\n",
      "  </div>\n",
      "  <center>\n",
      "   <br clear=\"all\" id=\"lgpd\"/>\n",
      "   <div id=\"lga\">\n",
      "    <img alt=\"Google\" height=\"92\" id=\"hplogo\" src=\"/images/branding/googlelogo/1x/googlelogo_white_background_color_272x92dp.png\" style=\"padding:28px 0 14px\" width=\"272\"/>\n",
      "    <br/>\n",
      "    <br/>\n",
      "   </div>\n",
      "   <form action=\"/search\" name=\"f\">\n",
      "    <table cellpadding=\"0\" cellspacing=\"0\">\n",
      "     <tr valign=\"top\">\n",
      "      <td width=\"25%\">\n",
      "      </td>\n",
      "      <td align=\"center\" nowrap=\"\">\n",
      "       <input name=\"ie\" type=\"hidden\" value=\"EUC-KR\"/>\n",
      "       <input name=\"hl\" type=\"hidden\" value=\"ko\"/>\n",
      "       <input name=\"source\" type=\"hidden\" value=\"hp\"/>\n",
      "       <input name=\"biw\" type=\"hidden\"/>\n",
      "       <input name=\"bih\" type=\"hidden\"/>\n",
      "       <div class=\"ds\" style=\"height:32px;margin:4px 0\">\n",
      "        <div style=\"position:relative;zoom:1\">\n",
      "         <input autocomplete=\"off\" class=\"lst Ucigb\" maxlength=\"2048\" name=\"q\" size=\"57\" style=\"margin:0;padding:5px 8px 0 6px;vertical-align:top;color:#000;padding-right:38px\" title=\"Google 검색\" value=\"\"/>\n",
      "         <img alt=\"\" data-script-url=\"/textinputassistant/13/ko_tia.js\" height=\"23\" id=\"tsuid_1\" src=\"/textinputassistant/tia.png\" style=\"position:absolute;cursor:pointer;right:5px;top:4px;z-index:300\" width=\"27\"/>\n",
      "         <script nonce=\"NPmCnAPLHA-A-m4bFJxwPA\">\n",
      "          (function(){var id='tsuid_1';document.getElementById(id).onclick = function(){var s = document.createElement('script');s.src = this.getAttribute('data-script-url');document.body.appendChild(s);};})();\n",
      "         </script>\n",
      "        </div>\n",
      "       </div>\n",
      "       <br style=\"line-height:0\"/>\n",
      "       <span class=\"ds\">\n",
      "        <span class=\"lsbb\">\n",
      "         <input class=\"lsb\" name=\"btnG\" type=\"submit\" value=\"Google 검색\"/>\n",
      "        </span>\n",
      "       </span>\n",
      "       <span class=\"ds\">\n",
      "        <span class=\"lsbb\">\n",
      "         <input class=\"lsb\" id=\"tsuid_2\" name=\"btnI\" type=\"submit\" value=\"I’m Feeling Lucky\"/>\n",
      "         <script nonce=\"NPmCnAPLHA-A-m4bFJxwPA\">\n",
      "          (function(){var id='tsuid_2';document.getElementById(id).onclick = function(){if (this.form.q.value){this.checked = 1;if (this.form.iflsig)this.form.iflsig.disabled = false;}\n",
      "else top.location='/doodles/';};})();\n",
      "         </script>\n",
      "         <input name=\"iflsig\" type=\"hidden\" value=\"ANes7DEAAAAAZjL87obTtidO2UuFjWMXn7mXu5mGuGBG\"/>\n",
      "        </span>\n",
      "       </span>\n",
      "      </td>\n",
      "      <td align=\"left\" class=\"fl sblc\" nowrap=\"\" width=\"25%\">\n",
      "       <a href=\"/advanced_search?hl=ko&amp;authuser=0\">\n",
      "        고급검색\n",
      "       </a>\n",
      "      </td>\n",
      "     </tr>\n",
      "    </table>\n",
      "    <input id=\"gbv\" name=\"gbv\" type=\"hidden\" value=\"1\"/>\n",
      "    <script nonce=\"NPmCnAPLHA-A-m4bFJxwPA\">\n",
      "     (function(){var a,b=\"1\";if(document&&document.getElementById)if(\"undefined\"!=typeof XMLHttpRequest)b=\"2\";else if(\"undefined\"!=typeof ActiveXObject){var c,d,e=[\"MSXML2.XMLHTTP.6.0\",\"MSXML2.XMLHTTP.3.0\",\"MSXML2.XMLHTTP\",\"Microsoft.XMLHTTP\"];for(c=0;d=e[c++];)try{new ActiveXObject(d),b=\"2\"}catch(h){}}a=b;if(\"2\"==a&&-1==location.search.indexOf(\"&gbv=2\")){var f=google.gbvu,g=document.getElementById(\"gbv\");g&&(g.value=a);f&&window.setTimeout(function(){location.href=f},0)};}).call(this);\n",
      "    </script>\n",
      "   </form>\n",
      "   <div id=\"gac_scont\">\n",
      "   </div>\n",
      "   <div style=\"font-size:83%;min-height:3.5em\">\n",
      "    <br/>\n",
      "   </div>\n",
      "   <span id=\"footer\">\n",
      "    <div style=\"font-size:10pt\">\n",
      "     <div id=\"WqQANb\" style=\"margin:19px auto;text-align:center\">\n",
      "      <a href=\"/intl/ko/ads/\">\n",
      "       광고\n",
      "      </a>\n",
      "      <a href=\"http://www.google.co.kr/intl/ko/services/\">\n",
      "       비즈니스 솔루션\n",
      "      </a>\n",
      "      <a href=\"/intl/ko/about.html\">\n",
      "       Google 정보\n",
      "      </a>\n",
      "      <a href=\"http://www.google.co.kr/setprefdomain?prefdom=US&amp;sig=K_zzDBfbhy425HqazZgs42YzMbzHo%3D\" id=\"fehl\">\n",
      "       Google.com\n",
      "      </a>\n",
      "     </div>\n",
      "    </div>\n",
      "    <p style=\"font-size:8pt;color:#70757a\">\n",
      "     © 2024 -\n",
      "     <a href=\"/intl/ko/policies/privacy/\">\n",
      "      개인정보처리방침\n",
      "     </a>\n",
      "     -\n",
      "     <a href=\"/intl/ko/policies/terms/\">\n",
      "      약관\n",
      "     </a>\n",
      "    </p>\n",
      "   </span>\n",
      "  </center>\n",
      "  <script nonce=\"NPmCnAPLHA-A-m4bFJxwPA\">\n",
      "   (function(){window.google.cdo={height:757,width:1440};(function(){var a=window.innerWidth,b=window.innerHeight;if(!a||!b){var c=window.document,d=\"CSS1Compat\"==c.compatMode?c.documentElement:c.body;a=d.clientWidth;b=d.clientHeight}\n",
      "if(a&&b&&(a!=google.cdo.width||b!=google.cdo.height)){var e=google,f=e.log,g=\"/client_204?&atyp=i&biw=\"+a+\"&bih=\"+b+\"&ei=\"+google.kEI,h=\"\",k=[],l=void 0!==window.google&&void 0!==window.google.kOPI&&0!==window.google.kOPI?window.google.kOPI:null;null!=l&&k.push([\"opi\",l.toString()]);for(var m=0;m<k.length;m++){if(0===m||0<m)h+=\"&\";h+=k[m][0]+\"=\"+k[m][1]}f.call(e,\"\",\"\",g+h)};}).call(this);})();\n",
      "  </script>\n",
      "  <script nonce=\"NPmCnAPLHA-A-m4bFJxwPA\">\n",
      "   (function(){google.xjs={basecomb:'/xjs/_/js/k\\x3dxjs.hp.en.6aL01WAtyb4.O/ck\\x3dxjs.hp.0eG0OD-iBhc.L.X.O/am\\x3dAQAAAAEAAAAAAAAAAAAAAAAAAACAAAAAAAAAACBwAAAAAgACGQAAAD8AAgAAABEAgAQBwEF0BAADcAQAAF4/d\\x3d1/ed\\x3d1/dg\\x3d0/ujg\\x3d1/rs\\x3dACT90oFW9sD95d_VNPLCBBqwOC_pQnJdyw',basecss:'/xjs/_/ss/k\\x3dxjs.hp.0eG0OD-iBhc.L.X.O/am\\x3dAQAAAAEAAAAAAAAAAAAAAAAAAAAAAAAAAAAAAAAAAAAAAgACGQAAAAAAAgAAABEAgAQB/rs\\x3dACT90oE-pGJgg83gg6MIT61N3wi2_fOydw',basejs:'/xjs/_/js/k\\x3dxjs.hp.en.6aL01WAtyb4.O/am\\x3dAAAAAAAAAAAAAAAAAAAAAAAAAACAAAAAAAAAACBwAAAAAAAAAAAAAD8AAAAAAAAAAAAAwEF0BAADcAQAAF4/dg\\x3d0/rs\\x3dACT90oF76pEFYyp4TK2uS3YFvPWRmmHILg',ck:'',combam:'',cs:'',cssam:'',csss:'',excm:[],jsam:'',jss:''};})();\n",
      "  </script>\n",
      "  <link href=\"/xjs/_/ss/k=xjs.hp.0eG0OD-iBhc.L.X.O/am=AQAAAAEAAAAAAAAAAAAAAAAAAAAAAAAAAAAAAAAAAAAAAgACGQAAAAAAAgAAABEAgAQB/d=1/ed=1/rs=ACT90oE-pGJgg83gg6MIT61N3wi2_fOydw/m=sb_he,d\" nonce=\"NPmCnAPLHA-A-m4bFJxwPA\" rel=\"stylesheet\"/>\n",
      "  <script nonce=\"NPmCnAPLHA-A-m4bFJxwPA\">\n",
      "   (function(){var u='/xjs/_/js/k\\x3dxjs.hp.en.6aL01WAtyb4.O/am\\x3dAAAAAAAAAAAAAAAAAAAAAAAAAACAAAAAAAAAACBwAAAAAAAAAAAAAD8AAAAAAAAAAAAAwEF0BAADcAQAAF4/d\\x3d1/ed\\x3d1/rs\\x3dACT90oF76pEFYyp4TK2uS3YFvPWRmmHILg/m\\x3dsb_he,d';var st=0;var amd=0;\n",
      "var e=this||self,f=function(a){return a};var g;var h=function(a){this.g=a};h.prototype.toString=function(){return this.g+\"\"};var k={};\n",
      "function m(a,b){a.src=b instanceof h&&b.constructor===h?b.g:\"type_error:TrustedResourceUrl\";var c,d;(c=(b=null==(d=(c=(a.ownerDocument&&a.ownerDocument.defaultView||window).document).querySelector)?void 0:d.call(c,\"script[nonce]\"))?b.nonce||b.getAttribute(\"nonce\")||\"\":\"\")&&a.setAttribute(\"nonce\",c)};var n=function(){var a=document;var b=\"SCRIPT\";\"application/xhtml+xml\"===a.contentType&&(b=b.toLowerCase());return a.createElement(b)};function p(a){a=null===a?\"null\":void 0===a?\"undefined\":a;if(void 0===g){var b=null;var c=e.trustedTypes;if(c&&c.createPolicy){try{b=c.createPolicy(\"goog#html\",{createHTML:f,createScript:f,createScriptURL:f})}catch(d){e.console&&e.console.error(d.message)}g=b}else g=b}a=(b=g)?b.createScriptURL(a):a;return new h(a,k)};void 0===google.ps&&(google.ps=[]);function q(){var a=u,b=function(){};google.lx=google.stvsc?b:function(){r(a);google.lx=b};google.bx||google.lx()}function t(a,b){b&&m(a,p(b));var c=a.onload;a.onload=function(d){c&&c(d);google.ps=google.ps.filter(function(l){return a!==l})};google.ps.push(a);document.body.appendChild(a)}google.as=t;function r(a){google.timers&&google.timers.load&&google.tick&&google.tick(\"load\",\"xjsls\");var b=n();b.onerror=function(){google.ple=1};b.onload=function(){google.ple=0};google.xjsus=void 0;t(b,a);google.aple=-1;google.psa=!0};google.xjsu=u;e._F_jsUrl=u;var v=!1;function w(){v||(q(),v=!0)}\n",
      "setTimeout(function(){google&&google.tick&&google.timers&&google.timers.load&&google.tick(\"load\",\"xjspls\");var a;if(a=1===st&&google.caft){a:{a=document.getElementsByTagName(\"img\");for(var b=0,c=a.length;b<c;b++){var d=a[b],l=Number(d.getAttribute(\"data-atf\"))&1;d=d.hasAttribute(\"data-lzy_\");if(l&&d){a=!0;break a}}a=!1}a=!a}a?(window.setTimeout(w,amd),google.caft(w)):2===st&&google.rairicb?(window.setTimeout(w,amd),google.rairicb(w)):q()},0);})();window._ = window._ || {};window._DumpException = _._DumpException = function(e){throw e;};window._s = window._s || {};_s._DumpException = _._DumpException;window._qs = window._qs || {};_qs._DumpException = _._DumpException;(function(){var t=[9,4,0,0,0,163840,0,474513408,33554624,6555648,66060288,128,4352,117441586,805324612,72768,24064];window._F_toggles = window._xjs_toggles = t;})();function _F_installCss(c){}\n",
      "(function(){google.jl={bfl:0,dw:false,ine:false,ubm:false,uwp:true,vs:false};})();(function(){var pmc='{\\x22d\\x22:{},\\x22sb_he\\x22:{\\x22agen\\x22:false,\\x22cgen\\x22:false,\\x22client\\x22:\\x22heirloom-hp\\x22,\\x22dh\\x22:true,\\x22ds\\x22:\\x22\\x22,\\x22fl\\x22:true,\\x22host\\x22:\\x22google.co.kr\\x22,\\x22jsonp\\x22:true,\\x22msgs\\x22:{\\x22cibl\\x22:\\x22\\\\uac80\\\\uc0c9\\\\uc5b4 \\\\uc9c0\\\\uc6b0\\\\uae30\\x22,\\x22dym\\x22:\\x22\\\\uc774\\\\uac83\\\\uc744 \\\\ucc3e\\\\uc73c\\\\uc168\\\\ub098\\\\uc694?\\x22,\\x22lcky\\x22:\\x22I\\\\u2019m Feeling Lucky\\x22,\\x22lml\\x22:\\x22\\\\uc790\\\\uc138\\\\ud788 \\\\uc54c\\\\uc544\\\\ubcf4\\\\uae30\\x22,\\x22psrc\\x22:\\x22\\\\uac80\\\\uc0c9\\\\uc5b4\\\\uac00 \\\\u003Ca href\\x3d\\\\\\x22/history\\\\\\x22\\\\u003E\\\\uc6f9 \\\\uae30\\\\ub85d\\\\u003C/a\\\\u003E\\\\uc5d0\\\\uc11c \\\\uc0ad\\\\uc81c\\\\ub418\\\\uc5c8\\\\uc2b5\\\\ub2c8\\\\ub2e4.\\x22,\\x22psrl\\x22:\\x22\\\\uc0ad\\\\uc81c\\x22,\\x22sbit\\x22:\\x22\\\\uc774\\\\ubbf8\\\\uc9c0\\\\ub85c \\\\uac80\\\\uc0c9\\x22,\\x22srch\\x22:\\x22Google \\\\uac80\\\\uc0c9\\x22},\\x22ovr\\x22:{},\\x22pq\\x22:\\x22\\x22,\\x22rfs\\x22:[],\\x22sbas\\x22:\\x220 3px 8px 0 rgba(0,0,0,0.2),0 0 0 1px rgba(0,0,0,0.08)\\x22,\\x22stok\\x22:\\x22fAlCVLOJN0GsQnvO0xGmGKvowBA\\x22}}';google.pmc=JSON.parse(pmc);})();(function(){var c=function(a){var b=0;return function(){return b<a.length?{done:!1,value:a[b++]}:{done:!0}}};\n",
      "var e=this||self;var g,h;a:{for(var k=[\"CLOSURE_FLAGS\"],l=e,n=0;n<k.length;n++)if(l=l[k[n]],null==l){h=null;break a}h=l}var p=h&&h[610401301];g=null!=p?p:!1;var q,r=e.navigator;q=r?r.userAgentData||null:null;function t(a){return g?q?q.brands.some(function(b){return(b=b.brand)&&-1!=b.indexOf(a)}):!1:!1}function u(a){var b;a:{if(b=e.navigator)if(b=b.userAgent)break a;b=\"\"}return-1!=b.indexOf(a)};function v(){return g?!!q&&0<q.brands.length:!1}function w(){return u(\"Safari\")&&!(x()||(v()?0:u(\"Coast\"))||(v()?0:u(\"Opera\"))||(v()?0:u(\"Edge\"))||(v()?t(\"Microsoft Edge\"):u(\"Edg/\"))||(v()?t(\"Opera\"):u(\"OPR\"))||u(\"Firefox\")||u(\"FxiOS\")||u(\"Silk\")||u(\"Android\"))}function x(){return v()?t(\"Chromium\"):(u(\"Chrome\")||u(\"CriOS\"))&&!(v()?0:u(\"Edge\"))||u(\"Silk\")}function y(){return u(\"Android\")&&!(x()||u(\"Firefox\")||u(\"FxiOS\")||(v()?0:u(\"Opera\"))||u(\"Silk\"))};var z=v()?!1:u(\"Trident\")||u(\"MSIE\");y();x();w();var A;A=\"function\"===typeof Symbol&&\"symbol\"===typeof Symbol()?Symbol():void 0;var B=[];(A?function(a,b){a[A]=b}:function(a,b){void 0!==a.g?a.g=b:Object.defineProperties(a,{g:{value:b,configurable:!0,writable:!0,enumerable:!1}})})(B,55);Object.freeze(B);Object.freeze(new function(){});Object.freeze(new function(){});var C=!z&&!w(),F=function(a){if(/-[a-z]/.test(\"ved\"))return null;if(C&&a.dataset){if(y()&&!(\"ved\"in a.dataset))return null;a=a.dataset.ved;return void 0===a?null:a}return a.getAttribute(\"data-\"+\"ved\".replace(/([A-Z])/g,\"-$1\").toLowerCase())};var G=[],H=null;function I(a){a=a.target;var b=performance.now(),f=[],J=f.concat,d=G;if(!(d instanceof Array)){var m=\"undefined\"!=typeof Symbol&&Symbol.iterator&&d[Symbol.iterator];if(m)d=m.call(d);else if(\"number\"==typeof d.length)d={next:c(d)};else throw Error(\"b`\"+String(d));for(var D=[];!(m=d.next()).done;)D.push(m.value);d=D}G=J.call(f,d,[b]);if(a&&a instanceof HTMLElement)if(a===H){if(b=4<=G.length)b=5>(G[G.length-1]-G[G.length-4])/1E3;if(b){b=google.getEI(a);a.hasAttribute(\"data-ved\")?f=a?F(a)||\"\":\"\":f=(f=\n",
      "a.closest(\"[data-ved]\"))?F(f)||\"\":\"\";f=f||\"\";if(a.hasAttribute(\"jsname\"))a=a.getAttribute(\"jsname\");else{var E;a=null==(E=a.closest(\"[jsname]\"))?void 0:E.getAttribute(\"jsname\")}google.log(\"rcm\",\"&ei=\"+b+\"&ved=\"+f+\"&jsname=\"+(a||\"\"))}}else H=a,G=[b]}window.document.addEventListener(\"DOMContentLoaded\",function(){document.body.addEventListener(\"click\",I)});}).call(this);\n",
      "  </script>\n",
      " </body>\n",
      "</html>\n",
      "\n"
     ]
    }
   ],
   "source": [
    "# 1. request라고 하는 라이브러를 통해서 html을 가져온다\n",
    "\n",
    "import requests\n",
    "\n",
    "r = requests.get('http://www.google.co.kr')\n",
    "r.text[:]\n",
    "\n",
    "# 2. parsing(파싱) // html 코드를 알아볼수 있도록 해석\n",
    "\n",
    "from bs4 import BeautifulSoup\n",
    "html = r.text[:]\n",
    "soup = BeautifulSoup(html)\n",
    "print(soup.prettify())"
   ]
  },
  {
   "cell_type": "code",
   "execution_count": 8,
   "metadata": {},
   "outputs": [
    {
     "name": "stdout",
     "output_type": "stream",
     "text": [
      "<title>Google</title>\n",
      "[<a class=\"gb1\" href=\"https://www.google.co.kr/imghp?hl=ko&amp;tab=wi\">이미지</a>, <a class=\"gb1\" href=\"http://maps.google.co.kr/maps?hl=ko&amp;tab=wl\">지도</a>, <a class=\"gb1\" href=\"https://play.google.com/?hl=ko&amp;tab=w8\">Play</a>, <a class=\"gb1\" href=\"https://www.youtube.com/?tab=w1\">YouTube</a>, <a class=\"gb1\" href=\"https://news.google.com/?tab=wn\">뉴스</a>, <a class=\"gb1\" href=\"https://mail.google.com/mail/?tab=wm\">Gmail</a>, <a class=\"gb1\" href=\"https://drive.google.com/?tab=wo\">드라이브</a>, <a class=\"gb1\" href=\"https://www.google.co.kr/intl/ko/about/products?tab=wh\" style=\"text-decoration:none\"><u>더보기</u> »</a>, <a class=\"gb4\" href=\"http://www.google.co.kr/history/optout?hl=ko\">웹 기록</a>, <a class=\"gb4\" href=\"/preferences?hl=ko\">설정</a>, <a class=\"gb4\" href=\"https://accounts.google.com/ServiceLogin?hl=ko&amp;passive=true&amp;continue=http://www.google.co.kr/&amp;ec=GAZAAQ\" id=\"gb_70\" target=\"_top\">로그인</a>, <a href=\"/advanced_search?hl=ko&amp;authuser=0\">고급검색</a>, <a href=\"/intl/ko/ads/\">광고</a>, <a href=\"http://www.google.co.kr/intl/ko/services/\">비즈니스 솔루션</a>, <a href=\"/intl/ko/about.html\">Google 정보</a>, <a href=\"http://www.google.co.kr/setprefdomain?prefdom=US&amp;sig=K_zzDBfbhy425HqazZgs42YzMbzHo%3D\" id=\"fehl\">Google.com</a>, <a href=\"/intl/ko/policies/privacy/\">개인정보처리방침</a>, <a href=\"/intl/ko/policies/terms/\">약관</a>]\n"
     ]
    }
   ],
   "source": [
    "print(soup.title)\n",
    "print(soup.find_all('a'))"
   ]
  },
  {
   "cell_type": "code",
   "execution_count": 9,
   "metadata": {},
   "outputs": [],
   "source": [
    "html2 = \"\"\"\n",
    "<html>\n",
    " <head>\n",
    "  <title>작품과 작가 모음</title>\n",
    " </head>\n",
    " <body>\n",
    "  <h1>책 정보</h1>\n",
    "  <p id=\"book_title\">토지</p>\n",
    "  <p id=\"author\">박경리</p>\n",
    "  \n",
    "  <p id=\"book_title\">태백산맥</p>\n",
    "  <p id=\"author\">조정래</p>\n",
    "\n",
    "  <p id=\"book_title\">감옥으로부터의 사색</p>\n",
    "  <p id=\"author\">신영복</p>\n",
    " </body>\n",
    "</html>\n",
    "\"\"\" "
   ]
  },
  {
   "cell_type": "code",
   "execution_count": 11,
   "metadata": {},
   "outputs": [
    {
     "data": {
      "text/plain": [
       "\n",
       "<html>\n",
       "<head>\n",
       "<title>작품과 작가 모음</title>\n",
       "</head>\n",
       "<body>\n",
       "<h1>책 정보</h1>\n",
       "<p id=\"book_title\">토지</p>\n",
       "<p id=\"author\">박경리</p>\n",
       "<p id=\"book_title\">태백산맥</p>\n",
       "<p id=\"author\">조정래</p>\n",
       "<p id=\"book_title\">감옥으로부터의 사색</p>\n",
       "<p id=\"author\">신영복</p>\n",
       "</body>\n",
       "</html>"
      ]
     },
     "execution_count": 11,
     "metadata": {},
     "output_type": "execute_result"
    }
   ],
   "source": [
    "from bs4 import BeautifulSoup\n",
    "\n",
    "soup2 = BeautifulSoup(html2)\n",
    "soup2"
   ]
  },
  {
   "cell_type": "code",
   "execution_count": 14,
   "metadata": {},
   "outputs": [
    {
     "data": {
      "text/plain": [
       "<p id=\"book_title\">토지</p>"
      ]
     },
     "execution_count": 14,
     "metadata": {},
     "output_type": "execute_result"
    }
   ],
   "source": [
    "### 1번 방식\n",
    "## soup2뒤에 직접 태그값을 적는다.\n",
    "soup2.p"
   ]
  },
  {
   "cell_type": "code",
   "execution_count": 16,
   "metadata": {},
   "outputs": [
    {
     "data": {
      "text/plain": [
       "[<p id=\"author\">박경리</p>, <p id=\"author\">조정래</p>, <p id=\"author\">신영복</p>]"
      ]
     },
     "execution_count": 16,
     "metadata": {},
     "output_type": "execute_result"
    }
   ],
   "source": [
    "### 2번 방식\n",
    "## find // find_all을 활용\n",
    "soup2.find_all('p')\n",
    "\n",
    "### 2-1번 방식\n",
    "soup2.find_all(\"p\", {'id':'author'})"
   ]
  },
  {
   "cell_type": "code",
   "execution_count": 18,
   "metadata": {},
   "outputs": [
    {
     "name": "stdout",
     "output_type": "stream",
     "text": [
      "[<p id=\"book_title\">토지</p>, <p id=\"author\">박경리</p>, <p id=\"book_title\">태백산맥</p>, <p id=\"author\">조정래</p>, <p id=\"book_title\">감옥으로부터의 사색</p>, <p id=\"author\">신영복</p>]\n",
      "[<p id=\"book_title\">토지</p>, <p id=\"author\">박경리</p>, <p id=\"book_title\">태백산맥</p>, <p id=\"author\">조정래</p>, <p id=\"book_title\">감옥으로부터의 사색</p>, <p id=\"author\">신영복</p>]\n"
     ]
    }
   ],
   "source": [
    "### 3번 방식\n",
    "## CSS 선택지(selector)형태로 데이터 인덱싱\n",
    "soup2.select('body h1')\n",
    "\n",
    "print(soup2.select('body p'))\n",
    "print(soup2.select('p')) # p가 body안에 밖에 없으므로"
   ]
  },
  {
   "cell_type": "code",
   "execution_count": 21,
   "metadata": {},
   "outputs": [
    {
     "data": {
      "text/plain": [
       "<p id=\"book_title\">태백산맥</p>"
      ]
     },
     "execution_count": 21,
     "metadata": {},
     "output_type": "execute_result"
    }
   ],
   "source": [
    "soup2.select('p#book_title')"
   ]
  }
 ],
 "metadata": {
  "kernelspec": {
   "display_name": "Python 3",
   "language": "python",
   "name": "python3"
  },
  "language_info": {
   "codemirror_mode": {
    "name": "ipython",
    "version": 3
   },
   "file_extension": ".py",
   "mimetype": "text/x-python",
   "name": "python",
   "nbconvert_exporter": "python",
   "pygments_lexer": "ipython3",
   "version": "3.12.3"
  }
 },
 "nbformat": 4,
 "nbformat_minor": 2
}
