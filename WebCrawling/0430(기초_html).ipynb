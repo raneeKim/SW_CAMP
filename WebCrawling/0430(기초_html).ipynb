{
 "cells": [
  {
   "cell_type": "code",
   "execution_count": 9,
   "id": "7cc0af7a-5acf-4ecf-a824-8a653f65b9bb",
   "metadata": {},
   "outputs": [
    {
     "data": {
      "text/plain": [
       "True"
      ]
     },
     "execution_count": 9,
     "metadata": {},
     "output_type": "execute_result"
    }
   ],
   "source": [
    "# import webbrowser\n",
    "\n",
    "# url = 'www.naver.com'\n",
    "# webbrowser.open(url)"
   ]
  },
  {
   "cell_type": "code",
   "execution_count": 10,
   "id": "86f376d7-eeb6-45a7-8802-b390956fbb17",
   "metadata": {},
   "outputs": [
    {
     "data": {
      "text/plain": [
       "True"
      ]
     },
     "execution_count": 10,
     "metadata": {},
     "output_type": "execute_result"
    }
   ],
   "source": [
    "# import webbrowser\n",
    "\n",
    "# url = 'https://search.naver.com/search.naver?query='\n",
    "# search_word = '하이브'\n",
    "\n",
    "# naver_s_url = url + search_word\n",
    "# webbrowser.open_new_tab(naver_s_url)"
   ]
  },
  {
   "cell_type": "code",
   "execution_count": 11,
   "id": "cb6181c7-75c1-4768-bdc7-6a281b4e589d",
   "metadata": {},
   "outputs": [
    {
     "name": "stdin",
     "output_type": "stream",
     "text": [
      " 파이썬\n"
     ]
    },
    {
     "data": {
      "text/plain": [
       "True"
      ]
     },
     "execution_count": 11,
     "metadata": {},
     "output_type": "execute_result"
    }
   ],
   "source": [
    "##네이버검색사이트\n",
    "# import webbrowser\n",
    "\n",
    "# url = 'https://search.naver.com/search.naver?query='\n",
    "# search_word = input()\n",
    "\n",
    "# naver_s_url = url + search_word\n",
    "# webbrowser.open_new_tab(naver_s_url)"
   ]
  },
  {
   "cell_type": "code",
   "execution_count": 1,
   "id": "c31c8594-0b23-43b9-a07d-346e0713e46f",
   "metadata": {},
   "outputs": [
    {
     "name": "stdin",
     "output_type": "stream",
     "text": [
      " 빅카인즈\n"
     ]
    },
    {
     "data": {
      "text/plain": [
       "True"
      ]
     },
     "execution_count": 1,
     "metadata": {},
     "output_type": "execute_result"
    }
   ],
   "source": [
    "# 구글 검색 사이트\n",
    "\n",
    "import webbrowser\n",
    "\n",
    "url = 'https://www.google.com/search?q='\n",
    "search_word = input()\n",
    "\n",
    "gg_s_url = url + search_word\n",
    "webbrowser.open_new_tab(gg_s_url)"
   ]
  },
  {
   "cell_type": "code",
   "execution_count": 2,
   "id": "c108c3af-84ef-4057-a6f0-a1a808a23286",
   "metadata": {},
   "outputs": [],
   "source": [
    "\n",
    "import webbrowser\n",
    "\n",
    "urls = ['https://www.google.com/','www.naver.com','www.daum.net']\n",
    "for url in urls :\n",
    "    webbrowser.open(url)\n"
   ]
  },
  {
   "cell_type": "code",
   "execution_count": 3,
   "id": "6c4fb828-21e0-4911-b42a-ee5a6c73e101",
   "metadata": {},
   "outputs": [
    {
     "name": "stdout",
     "output_type": "stream",
     "text": [
      "Writing ./\\HTML_example.html\n"
     ]
    }
   ],
   "source": [
    "%%writefile ./\\HTML_example.html \n",
    "<!doctype html>\n",
    "<html>\n",
    " <head>\n",
    "  <meta charset=\"utf-8\">\n",
    "  <title>이것은 HTML 예제</title>\n",
    " </head>\n",
    " <body>\n",
    "  <h1>출간된 책 정보</h1>\n",
    "  <p id=\"book_title\">이해가 쏙쏙 되는 파이썬</p>\n",
    "  <p id=\"author\">홍길동</p>\n",
    "  <p id=\"publisher\">영식북스 출판사</p>\n",
    "  <p id=\"year\">2024</p>\n",
    " </body>\n",
    "</html>"
   ]
  },
  {
   "cell_type": "code",
   "execution_count": 7,
   "id": "09d4c252-5c28-45f0-82ed-f6de20400935",
   "metadata": {},
   "outputs": [],
   "source": [
    "import requests\n",
    "\n",
    "r = requests.get(\"http://www.google.co.kr\")"
   ]
  },
  {
   "cell_type": "code",
   "execution_count": 8,
   "id": "2f26d63d-47c2-4324-98f3-bc1f4c5e1148",
   "metadata": {},
   "outputs": [
    {
     "data": {
      "text/plain": [
       "'<!doctype html><html itemscope=\"\" itemtype=\"http://schema.org/WebPage\" lang=\"ko\"><head><meta content'"
      ]
     },
     "execution_count": 8,
     "metadata": {},
     "output_type": "execute_result"
    }
   ],
   "source": [
    "r.text[:100]"
   ]
  },
  {
   "cell_type": "code",
   "execution_count": 9,
   "id": "8f90929a-25ac-4b92-8611-ddedff4f0185",
   "metadata": {},
   "outputs": [
    {
     "data": {
      "text/plain": [
       "<html><body><div><span> <a href=\"http://www.naver.com\">naver</a> <a href=\"https://www.google.com\">google</a> <a href=\"http://www.daum.net/\">daum</a> </span></div></body></html>"
      ]
     },
     "execution_count": 9,
     "metadata": {},
     "output_type": "execute_result"
    }
   ],
   "source": [
    "# parsing :: HTML코드를 우리가 알아볼 수 있도록 해석해주는 것\n",
    "\n",
    "### Beautiful Soup 라이브러리에 대한 자세한 방법은 웹 사이트(https://www.crummy.com/software/BeautifulSoup/bs4/doc)\n",
    "\n",
    "from bs4 import BeautifulSoup\n",
    "\n",
    "# 테스트용 html 코드\n",
    "html = \"\"\"<html><body><div><span>\\\n",
    "        <a href=http://www.naver.com>naver</a>\\\n",
    "        <a href=https://www.google.com>google</a>\\\n",
    "        <a href=http://www.daum.net/>daum</a>\\\n",
    "        </span></div></body></html>\"\"\" \n",
    "\n",
    "# BeautifulSoup를 이용해 HTML 소스를 파싱\n",
    "soup = BeautifulSoup(html, 'lxml')  # HTML 소스를 처리하기 위한 Parser이다.\n",
    "soup"
   ]
  },
  {
   "cell_type": "code",
   "execution_count": 11,
   "id": "73ccac7b-b90a-470a-a1bd-5f6da73a42c3",
   "metadata": {},
   "outputs": [
    {
     "data": {
      "text/plain": [
       "'<html>\\n <body>\\n  <div>\\n   <span>\\n    <a href=\"http://www.naver.com\">\\n     naver\\n    </a>\\n    <a href=\"https://www.google.com\">\\n     google\\n    </a>\\n    <a href=\"http://www.daum.net/\">\\n     daum\\n    </a>\\n   </span>\\n  </div>\\n </body>\\n</html>\\n'"
      ]
     },
     "execution_count": 11,
     "metadata": {},
     "output_type": "execute_result"
    }
   ],
   "source": [
    "# 좀 더 편하게 정리\n",
    "soup.prettify()"
   ]
  },
  {
   "attachments": {
    "addc4142-0523-4b30-81fd-717511f9971c.png": {
     "image/png": "[encoded data removed]"
    }
   },
   "cell_type": "markdown",
   "id": "ee774054-186d-4387-8bca-5368b90df38d",
   "metadata": {},
   "source": [
    "![image.png](attachment:addc4142-0523-4b30-81fd-717511f9971c.png)"
   ]
  },
  {
   "cell_type": "code",
   "execution_count": 16,
   "id": "7ee27f7d-8b04-4c8b-ab8a-35deea0fcbd4",
   "metadata": {},
   "outputs": [
    {
     "name": "stdout",
     "output_type": "stream",
     "text": [
      "<html>\n",
      " <body>\n",
      "  <div>\n",
      "   <span>\n",
      "    <a href=\"http://www.naver.com\">\n",
      "     naver\n",
      "    </a>\n",
      "    <a href=\"https://www.google.com\">\n",
      "     google\n",
      "    </a>\n",
      "    <a href=\"http://www.daum.net/\">\n",
      "     daum\n",
      "    </a>\n",
      "   </span>\n",
      "  </div>\n",
      " </body>\n",
      "</html>\n",
      "\n"
     ]
    }
   ],
   "source": [
    "print(soup.prettify())"
   ]
  },
  {
   "cell_type": "code",
   "execution_count": 23,
   "id": "a0fe9929-10cd-4c73-ae1d-c4af04cbed43",
   "metadata": {},
   "outputs": [
    {
     "data": {
      "text/plain": [
       "'naver'"
      ]
     },
     "execution_count": 23,
     "metadata": {},
     "output_type": "execute_result"
    }
   ],
   "source": [
    "# 태그의 요소들만 가져와본다.\n",
    "soup.find('a')\n",
    "soup.find('a').get_text()"
   ]
  },
  {
   "cell_type": "code",
   "execution_count": 20,
   "id": "d4f2a13f-d75b-4d53-9d98-f51124ea5cd9",
   "metadata": {},
   "outputs": [
    {
     "data": {
      "text/plain": [
       "[<a href=\"http://www.naver.com\">naver</a>,\n",
       " <a href=\"https://www.google.com\">google</a>,\n",
       " <a href=\"http://www.daum.net/\">daum</a>]"
      ]
     },
     "execution_count": 20,
     "metadata": {},
     "output_type": "execute_result"
    }
   ],
   "source": [
    "soup.find_all('a')"
   ]
  },
  {
   "cell_type": "code",
   "execution_count": 21,
   "id": "cb8361de-99a5-4b19-b92b-f751fbdec18d",
   "metadata": {},
   "outputs": [
    {
     "data": {
      "text/plain": [
       "[<a href=\"http://www.naver.com\">naver</a>,\n",
       " <a href=\"https://www.google.com\">google</a>,\n",
       " <a href=\"http://www.daum.net/\">daum</a>]"
      ]
     },
     "execution_count": 21,
     "metadata": {},
     "output_type": "execute_result"
    }
   ],
   "source": [
    "site_names = soup.find_all('a')\n",
    "site_names"
   ]
  },
  {
   "cell_type": "code",
   "execution_count": 24,
   "id": "4afd836d-5665-4bc0-a018-949631f17f13",
   "metadata": {},
   "outputs": [
    {
     "name": "stdout",
     "output_type": "stream",
     "text": [
      "<a href=\"http://www.naver.com\">naver</a>\n",
      "<a href=\"https://www.google.com\">google</a>\n",
      "<a href=\"http://www.daum.net/\">daum</a>\n"
     ]
    }
   ],
   "source": [
    "for site_name in site_names :\n",
    "    print(site_name)"
   ]
  },
  {
   "cell_type": "code",
   "execution_count": 26,
   "id": "b9d5e0ea-db7d-4f27-afbd-42b85b372c7f",
   "metadata": {},
   "outputs": [
    {
     "name": "stdout",
     "output_type": "stream",
     "text": [
      "naver\n",
      "google\n",
      "daum\n"
     ]
    }
   ],
   "source": [
    "for site_name in site_names :\n",
    "    print(site_name.get_text())"
   ]
  },
  {
   "cell_type": "code",
   "execution_count": 42,
   "id": "4d753d2e-11bc-438f-9df7-03d9e000737f",
   "metadata": {},
   "outputs": [],
   "source": [
    "# 다른 사례를 살펴보자.\n",
    "# 아래의 html2는 다른 사례이다.\n",
    "\n",
    "html2 = \"\"\"\n",
    "<html>\n",
    " <head>\n",
    "  <title>작품과 작가 모음</title>\n",
    " </head>\n",
    " <body>\n",
    "  <h1>책 정보</h1>\n",
    "  <p id=\"book_title\">토지</p>\n",
    "  <p id=\"author\">박경리</p>\n",
    "  \n",
    "  <p id=\"book_title\">태백산맥</p>\n",
    "  <p id=\"author\">조정래</p>\n",
    "\n",
    "  <p id=\"book_title\">감옥으로부터의 사색</p>\n",
    "  <p id=\"author\">신영복</p>\n",
    " </body>\n",
    "</html>\n",
    "\"\"\" "
   ]
  },
  {
   "cell_type": "markdown",
   "id": "a68dd80f-b3f4-48e1-9556-d06f7ae052d7",
   "metadata": {
    "jp-MarkdownHeadingCollapsed": true
   },
   "source": [
    "html 코드 분석\n",
    "\n",
    "1. request라고 하는 모듈 혹은 라이브러리를 통해서 Html 코드를 가져오고\n",
    "2. beautifulsoup이라 하는 모듈 혹은 라이브러리를 통해서 parsing(사람이보기쉽게코드정렬)\n",
    "3. 우리가 원하는 데이터가 존재하는 태그(<a ,<p ...) 찾기"
   ]
  },
  {
   "cell_type": "code",
   "execution_count": 28,
   "id": "263c9343-f5f3-4647-bf9e-419e20fcf0da",
   "metadata": {},
   "outputs": [
    {
     "name": "stdout",
     "output_type": "stream",
     "text": [
      "<html>\n",
      "<head>\n",
      "<title>작품과 작가 모음</title>\n",
      "</head>\n",
      "<body>\n",
      "<h1>책 정보</h1>\n",
      "<p id=\"book_title\">토지</p>\n",
      "<p id=\"author\">박경리</p>\n",
      "<p id=\"book_title\">태백산맥</p>\n",
      "<p id=\"author\">조정래</p>\n",
      "<p id=\"book_title\">감옥으로부터의 사색</p>\n",
      "<p id=\"author\">신영복</p>\n",
      "</body>\n",
      "</html>\n",
      "\n"
     ]
    }
   ],
   "source": [
    "from bs4 import BeautifulSoup\n",
    "\n",
    "soup2 =  BeautifulSoup(html2)\n",
    "print(soup2)"
   ]
  },
  {
   "cell_type": "code",
   "execution_count": 29,
   "id": "0c8a9515-b182-4c28-9e8d-4c5357f37d87",
   "metadata": {},
   "outputs": [
    {
     "data": {
      "text/plain": [
       "<head>\n",
       "<title>작품과 작가 모음</title>\n",
       "</head>"
      ]
     },
     "execution_count": 29,
     "metadata": {},
     "output_type": "execute_result"
    }
   ],
   "source": [
    "soup2.head"
   ]
  },
  {
   "cell_type": "code",
   "execution_count": 30,
   "id": "212f98d2-1fd7-4343-a26e-3d0a6050a99b",
   "metadata": {},
   "outputs": [
    {
     "data": {
      "text/plain": [
       "<title>작품과 작가 모음</title>"
      ]
     },
     "execution_count": 30,
     "metadata": {},
     "output_type": "execute_result"
    }
   ],
   "source": [
    "soup2.title"
   ]
  },
  {
   "cell_type": "code",
   "execution_count": 31,
   "id": "f9a5e53c-1506-43d9-b871-ad35449c48ba",
   "metadata": {},
   "outputs": [
    {
     "data": {
      "text/plain": [
       "<body>\n",
       "<h1>책 정보</h1>\n",
       "<p id=\"book_title\">토지</p>\n",
       "<p id=\"author\">박경리</p>\n",
       "<p id=\"book_title\">태백산맥</p>\n",
       "<p id=\"author\">조정래</p>\n",
       "<p id=\"book_title\">감옥으로부터의 사색</p>\n",
       "<p id=\"author\">신영복</p>\n",
       "</body>"
      ]
     },
     "execution_count": 31,
     "metadata": {},
     "output_type": "execute_result"
    }
   ],
   "source": [
    "soup2.body"
   ]
  },
  {
   "cell_type": "code",
   "execution_count": 32,
   "id": "d14e3fcd-02bf-4942-99fc-8343651d445f",
   "metadata": {},
   "outputs": [
    {
     "data": {
      "text/plain": [
       "<h1>책 정보</h1>"
      ]
     },
     "execution_count": 32,
     "metadata": {},
     "output_type": "execute_result"
    }
   ],
   "source": [
    "soup2.body.h1"
   ]
  },
  {
   "cell_type": "code",
   "execution_count": 36,
   "id": "ec952ae8-9195-423d-876d-81b6a8919492",
   "metadata": {},
   "outputs": [
    {
     "data": {
      "text/plain": [
       "[<p id=\"book_title\">토지</p>,\n",
       " <p id=\"author\">박경리</p>,\n",
       " <p id=\"book_title\">태백산맥</p>,\n",
       " <p id=\"author\">조정래</p>,\n",
       " <p id=\"book_title\">감옥으로부터의 사색</p>,\n",
       " <p id=\"author\">신영복</p>]"
      ]
     },
     "execution_count": 36,
     "metadata": {},
     "output_type": "execute_result"
    }
   ],
   "source": [
    "## find라는 함수활용\n",
    "\n",
    "soup2.find_all('p')"
   ]
  },
  {
   "cell_type": "code",
   "execution_count": 44,
   "id": "c5f70129-6a9e-4e7a-982a-d5eba2135e3a",
   "metadata": {},
   "outputs": [
    {
     "name": "stdout",
     "output_type": "stream",
     "text": [
      "토지:::박경리\n",
      "태백산맥:::조정래\n",
      "감옥으로부터의 사색:::신영복\n"
     ]
    }
   ],
   "source": [
    "from bs4 import BeautifulSoup\n",
    "\n",
    "soup2 = BeautifulSoup(html2)\n",
    "titles = soup2.find_all('p',{'id' : 'book_title'})\n",
    "authors = soup2.find_all('p',{'id' : 'author'})\n",
    "\n",
    "for title,author in zip(titles,authors) :\n",
    "    print(title.get_text() + ':::' + author.get_text())"
   ]
  },
  {
   "cell_type": "code",
   "execution_count": null,
   "id": "580eead1-d706-4603-8eed-6e3678be89bd",
   "metadata": {},
   "outputs": [],
   "source": [
    "# End of File"
   ]
  }
 ],
 "metadata": {
  "kernelspec": {
   "display_name": "Python 3 (ipykernel)",
   "language": "python",
   "name": "python3"
  },
  "language_info": {
   "codemirror_mode": {
    "name": "ipython",
    "version": 3
   },
   "file_extension": ".py",
   "mimetype": "text/x-python",
   "name": "python",
   "nbconvert_exporter": "python",
   "pygments_lexer": "ipython3",
   "version": "3.11.7"
  }
 },
 "nbformat": 4,
 "nbformat_minor": 5
}
