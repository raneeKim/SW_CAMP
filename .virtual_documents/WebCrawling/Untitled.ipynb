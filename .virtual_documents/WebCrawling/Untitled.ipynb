# import webbrowser

# url = 'www.naver.com'
# webbrowser.open(url)


# import webbrowser

# url = 'https://search.naver.com/search.naver?query='
# search_word = '하이브'

# naver_s_url = url + search_word
# webbrowser.open_new_tab(naver_s_url)


import webbrowser

url = 'https://search.naver.com/search.naver?query='
search_word = input()

naver_s_url = url + search_word
webbrowser.open_new_tab(naver_s_url)



