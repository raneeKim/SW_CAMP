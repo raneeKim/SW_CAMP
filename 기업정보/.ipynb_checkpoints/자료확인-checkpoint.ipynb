{
 "cells": [
  {
   "cell_type": "code",
   "execution_count": 1,
   "id": "0480d9f8-eca2-45d8-8528-e2524c166bc9",
   "metadata": {},
   "outputs": [],
   "source": [
    "import pandas as pd\n",
    "import numpy as np\n",
    "import matplotlib.pyplot as plt\n",
    "import seaborn as sns\n",
    "import plotly.express as px\n",
    "import scipy.stats as stats"
   ]
  },
  {
   "cell_type": "code",
   "execution_count": null,
   "id": "f1f57165",
   "metadata": {},
   "outputs": [],
   "source": [
    "# 데이터 불러오기"
   ]
  },
  {
   "cell_type": "code",
   "execution_count": 2,
   "id": "0f9d425d-19a5-4140-88b8-486186dccca2",
   "metadata": {},
   "outputs": [],
   "source": [
    "path = 'C:/Users/UserK/Desktop/Ranee/data/신용예측프로젝트/프로젝트 데이터/'"
   ]
  },
  {
   "cell_type": "code",
   "execution_count": 2,
   "id": "02303706",
   "metadata": {},
   "outputs": [],
   "source": [
    "path = 'C:/Users/MSI/Desktop/study/Data/기업정보/'"
   ]
  },
  {
   "cell_type": "markdown",
   "id": "0c788177-41fb-4e4a-a27f-5b5039d93df2",
   "metadata": {},
   "source": [
    "- 기업정보요약 : comp_intro\n",
    "- 재무제표정보 : comp_finance\n",
    "- 경영진정보 : comp_manager\n",
    "- 국가R&D과제 : ntis_assign (진행중인것 / 완료 --> 성과데이터로있음)\n",
    "- 국가R&D성과 : ntis_accomp \n",
    "- 국가R&D연구보고서 : ntis_article\n",
    "- 디자인권정보 : kisti_design\n",
    "- 상표권정보 : kisti_mark\n",
    "- 신용등급정보: cri\n",
    "- 실용신안정보 : kisti_utility\n",
    "- 온라인뉴스: naver_news\n",
    "- 취업포탈리뷰 : jobplanet_review\n",
    "- 특허정보상세 : patent_detail\n",
    "- 패밀리특허정보 : family_patent"
   ]
  },
  {
   "cell_type": "code",
   "execution_count": 23,
   "id": "6a8247f2-e784-49bf-9276-e38b17dda86e",
   "metadata": {},
   "outputs": [
    {
     "name": "stderr",
     "output_type": "stream",
     "text": [
      "C:\\Users\\MSI\\AppData\\Local\\Temp\\ipykernel_25172\\1054590792.py:2: DtypeWarning: Columns (42,44,46,48,51,56) have mixed types. Specify dtype option on import or set low_memory=False.\n",
      "  ntis_assign = pd.read_csv(path +'국가R&D과제_train.csv')\n"
     ]
    }
   ],
   "source": [
    "comp_manager = pd.read_csv(path +'경영진정보_train.csv')\n",
    "ntis_assign = pd.read_csv(path +'국가R&D과제_train.csv')\n",
    "ntis_accomp = pd.read_csv(path +'국가R&D성과_train.csv')\n",
    "ntis_article = pd.read_csv(path +'국가R&D연구보고서_train.csv')\n",
    "comp_intro = pd.read_csv(path +'기업정보요약_train.csv')\n",
    "comp_spe_intro = pd.read_csv(path +'기업정보상세.csv')\n",
    "kisti_design = pd.read_csv(path +'디자인권정보_train.csv')\n",
    "kisti_mark = pd.read_csv(path +'상표권정보_train.csv')\n",
    "cri = pd.read_csv(path +'신용등급정보_train.csv')\n",
    "kisti_utility = pd.read_csv(path +'실용신안정보_train.csv')\n",
    "naver_news = pd.read_csv(path +'온라인뉴스_train.csv')\n",
    "comp_finance = pd.read_csv(path +'재무제표정보_train.csv')\n",
    "jobplanet_review = pd.read_csv(path +'취업포탈리뷰_train.csv')\n",
    "patent_detail = pd.read_csv(path +'특허정보상세_train.csv')\n",
    "family_patent = pd.read_csv(path +'패밀리특허정보_train.csv')\n",
    "pre_df = pd.read_csv(path +'주소_설립연차_전처리.csv', index_col=0)"
   ]
  },
  {
   "cell_type": "code",
   "execution_count": 44,
   "id": "4f847e19",
   "metadata": {},
   "outputs": [],
   "source": [
    "comp_finance_train = pd.read_csv(path +'재무제표정보_train.csv')\n",
    "comp_finance_test = pd.read_csv(path +'재무제표정보_test.csv')\n",
    "comp_finance = pd.concat([comp_finance_train,comp_finance_test])"
   ]
  },
  {
   "cell_type": "code",
   "execution_count": 15,
   "id": "aba1b168",
   "metadata": {},
   "outputs": [],
   "source": [
    "comp_intro_train = pd.read_csv(path +'기업정보요약_train.csv')\n",
    "comp_intro_test = pd.read_csv(path +'기업정보요약_test.csv')\n",
    "comp_intro = pd.concat([comp_intro_train,comp_intro_test])"
   ]
  },
  {
   "cell_type": "code",
   "execution_count": 8,
   "id": "a75bf879-a8cd-4c3b-81f9-f39164862493",
   "metadata": {},
   "outputs": [],
   "source": [
    "def dot_split(row):\n",
    "    row = str(row)\n",
    "    if isinstance(row, str) : \n",
    "        return row.split('.')[0]\n",
    "    else:\n",
    "        return row "
   ]
  },
  {
   "cell_type": "markdown",
   "id": "136f3ab7-eb30-487d-bf9a-e98d9c4e5abd",
   "metadata": {},
   "source": [
    "# 산업분류코드 전처리"
   ]
  },
  {
   "cell_type": "code",
   "execution_count": 9,
   "id": "a8a8e04e-8ea9-47e4-86ca-c395100d1b5d",
   "metadata": {},
   "outputs": [],
   "source": [
    "df_industry = pd.read_excel(path+'한국표준산업분류표.xlsx',index_col=1).reset_index().fillna(method= 'ffill')"
   ]
  },
  {
   "cell_type": "code",
   "execution_count": 10,
   "id": "b7b2b5fe-a200-4ffb-878f-bf69624363fb",
   "metadata": {},
   "outputs": [
    {
     "name": "stdout",
     "output_type": "stream",
     "text": [
      "<class 'pandas.core.frame.DataFrame'>\n",
      "RangeIndex: 1197 entries, 0 to 1196\n",
      "Data columns (total 10 columns):\n",
      " #   Column  Non-Null Count  Dtype  \n",
      "---  ------  --------------  -----  \n",
      " 0   항목명     1197 non-null   object \n",
      " 1   대분류코드   1197 non-null   object \n",
      " 2   중분류코드   1197 non-null   float64\n",
      " 3   항목명.1   1197 non-null   object \n",
      " 4   소분류코드   1197 non-null   float64\n",
      " 5   항목명.2   1197 non-null   object \n",
      " 6   세분류코드   1197 non-null   float64\n",
      " 7   항목명.3   1197 non-null   object \n",
      " 8   세세분류코드  1197 non-null   float64\n",
      " 9   항목명.4   1197 non-null   object \n",
      "dtypes: float64(4), object(6)\n",
      "memory usage: 93.6+ KB\n"
     ]
    }
   ],
   "source": [
    "df_industry.info()"
   ]
  },
  {
   "cell_type": "code",
   "execution_count": 11,
   "id": "8b75d289-fa07-4c30-b751-87d5ba7f67ef",
   "metadata": {},
   "outputs": [],
   "source": [
    "def namee(row) :\n",
    "    return row.split('(')[0]\n",
    "\n",
    "df_industry['항목명'] = df_industry['항목명'].apply(namee)"
   ]
  },
  {
   "cell_type": "code",
   "execution_count": 12,
   "id": "89c73a2c-ab90-4552-89bd-fd3a9530933e",
   "metadata": {},
   "outputs": [
    {
     "data": {
      "text/html": [
       "<div>\n",
       "<style scoped>\n",
       "    .dataframe tbody tr th:only-of-type {\n",
       "        vertical-align: middle;\n",
       "    }\n",
       "\n",
       "    .dataframe tbody tr th {\n",
       "        vertical-align: top;\n",
       "    }\n",
       "\n",
       "    .dataframe thead th {\n",
       "        text-align: right;\n",
       "    }\n",
       "</style>\n",
       "<table border=\"1\" class=\"dataframe\">\n",
       "  <thead>\n",
       "    <tr style=\"text-align: right;\">\n",
       "      <th></th>\n",
       "      <th>항목명</th>\n",
       "      <th>대분류코드</th>\n",
       "      <th>중분류코드</th>\n",
       "      <th>항목명.1</th>\n",
       "      <th>소분류코드</th>\n",
       "      <th>항목명.2</th>\n",
       "      <th>세분류코드</th>\n",
       "      <th>항목명.3</th>\n",
       "      <th>세세분류코드</th>\n",
       "      <th>항목명.4</th>\n",
       "    </tr>\n",
       "  </thead>\n",
       "  <tbody>\n",
       "    <tr>\n",
       "      <th>0</th>\n",
       "      <td>농업, 임업 및 어업</td>\n",
       "      <td>A</td>\n",
       "      <td>1.0</td>\n",
       "      <td>농업</td>\n",
       "      <td>11.0</td>\n",
       "      <td>작물 재배업</td>\n",
       "      <td>111.0</td>\n",
       "      <td>곡물 및 기타 식량작물 재배업</td>\n",
       "      <td>1110.0</td>\n",
       "      <td>곡물 및 기타 식량작물 재배업</td>\n",
       "    </tr>\n",
       "    <tr>\n",
       "      <th>1</th>\n",
       "      <td>농업, 임업 및 어업</td>\n",
       "      <td>A</td>\n",
       "      <td>1.0</td>\n",
       "      <td>농업</td>\n",
       "      <td>11.0</td>\n",
       "      <td>작물 재배업</td>\n",
       "      <td>112.0</td>\n",
       "      <td>채소, 화훼작물 및 종묘 재배업</td>\n",
       "      <td>1121.0</td>\n",
       "      <td>채소작물 재배업</td>\n",
       "    </tr>\n",
       "    <tr>\n",
       "      <th>2</th>\n",
       "      <td>농업, 임업 및 어업</td>\n",
       "      <td>A</td>\n",
       "      <td>1.0</td>\n",
       "      <td>농업</td>\n",
       "      <td>11.0</td>\n",
       "      <td>작물 재배업</td>\n",
       "      <td>112.0</td>\n",
       "      <td>채소, 화훼작물 및 종묘 재배업</td>\n",
       "      <td>1122.0</td>\n",
       "      <td>화훼작물 재배업</td>\n",
       "    </tr>\n",
       "    <tr>\n",
       "      <th>3</th>\n",
       "      <td>농업, 임업 및 어업</td>\n",
       "      <td>A</td>\n",
       "      <td>1.0</td>\n",
       "      <td>농업</td>\n",
       "      <td>11.0</td>\n",
       "      <td>작물 재배업</td>\n",
       "      <td>112.0</td>\n",
       "      <td>채소, 화훼작물 및 종묘 재배업</td>\n",
       "      <td>1123.0</td>\n",
       "      <td>종자 및 묘목 생산업</td>\n",
       "    </tr>\n",
       "    <tr>\n",
       "      <th>4</th>\n",
       "      <td>농업, 임업 및 어업</td>\n",
       "      <td>A</td>\n",
       "      <td>1.0</td>\n",
       "      <td>농업</td>\n",
       "      <td>11.0</td>\n",
       "      <td>작물 재배업</td>\n",
       "      <td>113.0</td>\n",
       "      <td>과실, 음료용 및 향신용 작물 재배업</td>\n",
       "      <td>1131.0</td>\n",
       "      <td>과실작물 재배업</td>\n",
       "    </tr>\n",
       "    <tr>\n",
       "      <th>...</th>\n",
       "      <td>...</td>\n",
       "      <td>...</td>\n",
       "      <td>...</td>\n",
       "      <td>...</td>\n",
       "      <td>...</td>\n",
       "      <td>...</td>\n",
       "      <td>...</td>\n",
       "      <td>...</td>\n",
       "      <td>...</td>\n",
       "      <td>...</td>\n",
       "    </tr>\n",
       "    <tr>\n",
       "      <th>1192</th>\n",
       "      <td>가구 내 고용활동 및 달리 분류되지 않은 자가 소비 생산활동</td>\n",
       "      <td>T</td>\n",
       "      <td>97.0</td>\n",
       "      <td>가구 내 고용활동</td>\n",
       "      <td>970.0</td>\n",
       "      <td>가구 내 고용활동</td>\n",
       "      <td>9700.0</td>\n",
       "      <td>가구 내 고용활동</td>\n",
       "      <td>97000.0</td>\n",
       "      <td>가구 내 고용활동</td>\n",
       "    </tr>\n",
       "    <tr>\n",
       "      <th>1193</th>\n",
       "      <td>가구 내 고용활동 및 달리 분류되지 않은 자가 소비 생산활동</td>\n",
       "      <td>T</td>\n",
       "      <td>98.0</td>\n",
       "      <td>달리 분류되지 않은 자가 소비를 위한 가구의 재화 및 서비스 생산활동</td>\n",
       "      <td>981.0</td>\n",
       "      <td>자가 소비를 위한 가사 생산 활동</td>\n",
       "      <td>9810.0</td>\n",
       "      <td>자가 소비를 위한 가사 생산 활동</td>\n",
       "      <td>98100.0</td>\n",
       "      <td>자가 소비를 위한 가사 생산 활동</td>\n",
       "    </tr>\n",
       "    <tr>\n",
       "      <th>1194</th>\n",
       "      <td>가구 내 고용활동 및 달리 분류되지 않은 자가 소비 생산활동</td>\n",
       "      <td>T</td>\n",
       "      <td>98.0</td>\n",
       "      <td>달리 분류되지 않은 자가 소비를 위한 가구의 재화 및 서비스 생산활동</td>\n",
       "      <td>982.0</td>\n",
       "      <td>자가 소비를 위한 가사 서비스 활동</td>\n",
       "      <td>9820.0</td>\n",
       "      <td>자가 소비를 위한 가사 서비스 활동</td>\n",
       "      <td>98200.0</td>\n",
       "      <td>자가 소비를 위한 가사 서비스 활동</td>\n",
       "    </tr>\n",
       "    <tr>\n",
       "      <th>1195</th>\n",
       "      <td>국제 및 외국기관</td>\n",
       "      <td>U</td>\n",
       "      <td>99.0</td>\n",
       "      <td>국제 및 외국기관</td>\n",
       "      <td>990.0</td>\n",
       "      <td>국제 및 외국기관</td>\n",
       "      <td>9900.0</td>\n",
       "      <td>국제 및 외국기관</td>\n",
       "      <td>99001.0</td>\n",
       "      <td>주한 외국 공관</td>\n",
       "    </tr>\n",
       "    <tr>\n",
       "      <th>1196</th>\n",
       "      <td>국제 및 외국기관</td>\n",
       "      <td>U</td>\n",
       "      <td>99.0</td>\n",
       "      <td>국제 및 외국기관</td>\n",
       "      <td>990.0</td>\n",
       "      <td>국제 및 외국기관</td>\n",
       "      <td>9900.0</td>\n",
       "      <td>국제 및 외국기관</td>\n",
       "      <td>99009.0</td>\n",
       "      <td>기타 국제 및 외국기관</td>\n",
       "    </tr>\n",
       "  </tbody>\n",
       "</table>\n",
       "<p>1197 rows × 10 columns</p>\n",
       "</div>"
      ],
      "text/plain": [
       "                                    항목명 대분류코드  중분류코드  \\\n",
       "0                           농업, 임업 및 어업     A    1.0   \n",
       "1                           농업, 임업 및 어업     A    1.0   \n",
       "2                           농업, 임업 및 어업     A    1.0   \n",
       "3                           농업, 임업 및 어업     A    1.0   \n",
       "4                           농업, 임업 및 어업     A    1.0   \n",
       "...                                 ...   ...    ...   \n",
       "1192  가구 내 고용활동 및 달리 분류되지 않은 자가 소비 생산활동     T   97.0   \n",
       "1193  가구 내 고용활동 및 달리 분류되지 않은 자가 소비 생산활동     T   98.0   \n",
       "1194  가구 내 고용활동 및 달리 분류되지 않은 자가 소비 생산활동     T   98.0   \n",
       "1195                          국제 및 외국기관     U   99.0   \n",
       "1196                          국제 및 외국기관     U   99.0   \n",
       "\n",
       "                                       항목명.1  소분류코드                항목명.2  \\\n",
       "0                                         농업   11.0               작물 재배업   \n",
       "1                                         농업   11.0               작물 재배업   \n",
       "2                                         농업   11.0               작물 재배업   \n",
       "3                                         농업   11.0               작물 재배업   \n",
       "4                                         농업   11.0               작물 재배업   \n",
       "...                                      ...    ...                  ...   \n",
       "1192                               가구 내 고용활동  970.0            가구 내 고용활동   \n",
       "1193  달리 분류되지 않은 자가 소비를 위한 가구의 재화 및 서비스 생산활동  981.0   자가 소비를 위한 가사 생산 활동   \n",
       "1194  달리 분류되지 않은 자가 소비를 위한 가구의 재화 및 서비스 생산활동  982.0  자가 소비를 위한 가사 서비스 활동   \n",
       "1195                               국제 및 외국기관  990.0            국제 및 외국기관   \n",
       "1196                               국제 및 외국기관  990.0            국제 및 외국기관   \n",
       "\n",
       "       세분류코드                 항목명.3   세세분류코드                항목명.4  \n",
       "0      111.0      곡물 및 기타 식량작물 재배업   1110.0     곡물 및 기타 식량작물 재배업  \n",
       "1      112.0     채소, 화훼작물 및 종묘 재배업   1121.0             채소작물 재배업  \n",
       "2      112.0     채소, 화훼작물 및 종묘 재배업   1122.0             화훼작물 재배업  \n",
       "3      112.0     채소, 화훼작물 및 종묘 재배업   1123.0          종자 및 묘목 생산업  \n",
       "4      113.0  과실, 음료용 및 향신용 작물 재배업   1131.0             과실작물 재배업  \n",
       "...      ...                   ...      ...                  ...  \n",
       "1192  9700.0             가구 내 고용활동  97000.0            가구 내 고용활동  \n",
       "1193  9810.0    자가 소비를 위한 가사 생산 활동  98100.0   자가 소비를 위한 가사 생산 활동  \n",
       "1194  9820.0   자가 소비를 위한 가사 서비스 활동  98200.0  자가 소비를 위한 가사 서비스 활동  \n",
       "1195  9900.0             국제 및 외국기관  99001.0             주한 외국 공관  \n",
       "1196  9900.0             국제 및 외국기관  99009.0         기타 국제 및 외국기관  \n",
       "\n",
       "[1197 rows x 10 columns]"
      ]
     },
     "execution_count": 12,
     "metadata": {},
     "output_type": "execute_result"
    }
   ],
   "source": [
    "df_industry"
   ]
  },
  {
   "cell_type": "code",
   "execution_count": 13,
   "id": "76f41ad1-25b5-49af-9e12-267bf72d889d",
   "metadata": {},
   "outputs": [
    {
     "data": {
      "text/html": [
       "<div>\n",
       "<style scoped>\n",
       "    .dataframe tbody tr th:only-of-type {\n",
       "        vertical-align: middle;\n",
       "    }\n",
       "\n",
       "    .dataframe tbody tr th {\n",
       "        vertical-align: top;\n",
       "    }\n",
       "\n",
       "    .dataframe thead th {\n",
       "        text-align: right;\n",
       "    }\n",
       "</style>\n",
       "<table border=\"1\" class=\"dataframe\">\n",
       "  <thead>\n",
       "    <tr style=\"text-align: right;\">\n",
       "      <th></th>\n",
       "      <th>대분류</th>\n",
       "      <th>중분류</th>\n",
       "      <th>소분류</th>\n",
       "      <th>세분류</th>\n",
       "      <th>indCd1_str</th>\n",
       "    </tr>\n",
       "  </thead>\n",
       "  <tbody>\n",
       "    <tr>\n",
       "      <th>0</th>\n",
       "      <td>농업, 임업 및 어업</td>\n",
       "      <td>농업</td>\n",
       "      <td>작물 재배업</td>\n",
       "      <td>곡물 및 기타 식량작물 재배업</td>\n",
       "      <td>1110</td>\n",
       "    </tr>\n",
       "    <tr>\n",
       "      <th>1</th>\n",
       "      <td>농업, 임업 및 어업</td>\n",
       "      <td>농업</td>\n",
       "      <td>작물 재배업</td>\n",
       "      <td>채소, 화훼작물 및 종묘 재배업</td>\n",
       "      <td>1121</td>\n",
       "    </tr>\n",
       "    <tr>\n",
       "      <th>2</th>\n",
       "      <td>농업, 임업 및 어업</td>\n",
       "      <td>농업</td>\n",
       "      <td>작물 재배업</td>\n",
       "      <td>채소, 화훼작물 및 종묘 재배업</td>\n",
       "      <td>1122</td>\n",
       "    </tr>\n",
       "    <tr>\n",
       "      <th>3</th>\n",
       "      <td>농업, 임업 및 어업</td>\n",
       "      <td>농업</td>\n",
       "      <td>작물 재배업</td>\n",
       "      <td>채소, 화훼작물 및 종묘 재배업</td>\n",
       "      <td>1123</td>\n",
       "    </tr>\n",
       "    <tr>\n",
       "      <th>4</th>\n",
       "      <td>농업, 임업 및 어업</td>\n",
       "      <td>농업</td>\n",
       "      <td>작물 재배업</td>\n",
       "      <td>과실, 음료용 및 향신용 작물 재배업</td>\n",
       "      <td>1131</td>\n",
       "    </tr>\n",
       "    <tr>\n",
       "      <th>...</th>\n",
       "      <td>...</td>\n",
       "      <td>...</td>\n",
       "      <td>...</td>\n",
       "      <td>...</td>\n",
       "      <td>...</td>\n",
       "    </tr>\n",
       "    <tr>\n",
       "      <th>1192</th>\n",
       "      <td>가구 내 고용활동 및 달리 분류되지 않은 자가 소비 생산활동</td>\n",
       "      <td>가구 내 고용활동</td>\n",
       "      <td>가구 내 고용활동</td>\n",
       "      <td>가구 내 고용활동</td>\n",
       "      <td>97000</td>\n",
       "    </tr>\n",
       "    <tr>\n",
       "      <th>1193</th>\n",
       "      <td>가구 내 고용활동 및 달리 분류되지 않은 자가 소비 생산활동</td>\n",
       "      <td>달리 분류되지 않은 자가 소비를 위한 가구의 재화 및 서비스 생산활동</td>\n",
       "      <td>자가 소비를 위한 가사 생산 활동</td>\n",
       "      <td>자가 소비를 위한 가사 생산 활동</td>\n",
       "      <td>98100</td>\n",
       "    </tr>\n",
       "    <tr>\n",
       "      <th>1194</th>\n",
       "      <td>가구 내 고용활동 및 달리 분류되지 않은 자가 소비 생산활동</td>\n",
       "      <td>달리 분류되지 않은 자가 소비를 위한 가구의 재화 및 서비스 생산활동</td>\n",
       "      <td>자가 소비를 위한 가사 서비스 활동</td>\n",
       "      <td>자가 소비를 위한 가사 서비스 활동</td>\n",
       "      <td>98200</td>\n",
       "    </tr>\n",
       "    <tr>\n",
       "      <th>1195</th>\n",
       "      <td>국제 및 외국기관</td>\n",
       "      <td>국제 및 외국기관</td>\n",
       "      <td>국제 및 외국기관</td>\n",
       "      <td>국제 및 외국기관</td>\n",
       "      <td>99001</td>\n",
       "    </tr>\n",
       "    <tr>\n",
       "      <th>1196</th>\n",
       "      <td>국제 및 외국기관</td>\n",
       "      <td>국제 및 외국기관</td>\n",
       "      <td>국제 및 외국기관</td>\n",
       "      <td>국제 및 외국기관</td>\n",
       "      <td>99009</td>\n",
       "    </tr>\n",
       "  </tbody>\n",
       "</table>\n",
       "<p>1197 rows × 5 columns</p>\n",
       "</div>"
      ],
      "text/plain": [
       "                                    대분류  \\\n",
       "0                           농업, 임업 및 어업   \n",
       "1                           농업, 임업 및 어업   \n",
       "2                           농업, 임업 및 어업   \n",
       "3                           농업, 임업 및 어업   \n",
       "4                           농업, 임업 및 어업   \n",
       "...                                 ...   \n",
       "1192  가구 내 고용활동 및 달리 분류되지 않은 자가 소비 생산활동   \n",
       "1193  가구 내 고용활동 및 달리 분류되지 않은 자가 소비 생산활동   \n",
       "1194  가구 내 고용활동 및 달리 분류되지 않은 자가 소비 생산활동   \n",
       "1195                          국제 및 외국기관   \n",
       "1196                          국제 및 외국기관   \n",
       "\n",
       "                                         중분류                  소분류  \\\n",
       "0                                         농업               작물 재배업   \n",
       "1                                         농업               작물 재배업   \n",
       "2                                         농업               작물 재배업   \n",
       "3                                         농업               작물 재배업   \n",
       "4                                         농업               작물 재배업   \n",
       "...                                      ...                  ...   \n",
       "1192                               가구 내 고용활동            가구 내 고용활동   \n",
       "1193  달리 분류되지 않은 자가 소비를 위한 가구의 재화 및 서비스 생산활동   자가 소비를 위한 가사 생산 활동   \n",
       "1194  달리 분류되지 않은 자가 소비를 위한 가구의 재화 및 서비스 생산활동  자가 소비를 위한 가사 서비스 활동   \n",
       "1195                               국제 및 외국기관            국제 및 외국기관   \n",
       "1196                               국제 및 외국기관            국제 및 외국기관   \n",
       "\n",
       "                       세분류 indCd1_str  \n",
       "0         곡물 및 기타 식량작물 재배업       1110  \n",
       "1        채소, 화훼작물 및 종묘 재배업       1121  \n",
       "2        채소, 화훼작물 및 종묘 재배업       1122  \n",
       "3        채소, 화훼작물 및 종묘 재배업       1123  \n",
       "4     과실, 음료용 및 향신용 작물 재배업       1131  \n",
       "...                    ...        ...  \n",
       "1192             가구 내 고용활동      97000  \n",
       "1193    자가 소비를 위한 가사 생산 활동      98100  \n",
       "1194   자가 소비를 위한 가사 서비스 활동      98200  \n",
       "1195             국제 및 외국기관      99001  \n",
       "1196             국제 및 외국기관      99009  \n",
       "\n",
       "[1197 rows x 5 columns]"
      ]
     },
     "execution_count": 13,
     "metadata": {},
     "output_type": "execute_result"
    }
   ],
   "source": [
    "df_industry_small = df_industry[['항목명','항목명.1','항목명.2','항목명.3','세세분류코드']].rename(columns={'항목명' : '대분류', \n",
    "                                                                                           '항목명.1' : '중분류', '항목명.2' : '소분류', \n",
    "                                                                                           '항목명.3' : '세분류','세세분류코드':'indCd1_str'})\n",
    "df_industry_small['indCd1_str'] = df_industry_small['indCd1_str'].apply(dot_split)\n",
    "df_industry_small"
   ]
  },
  {
   "cell_type": "markdown",
   "id": "fac549ba",
   "metadata": {},
   "source": [
    "# 산업분류별 분류"
   ]
  },
  {
   "cell_type": "code",
   "execution_count": 14,
   "id": "e9932d10",
   "metadata": {},
   "outputs": [
    {
     "name": "stdout",
     "output_type": "stream",
     "text": [
      "<class 'pandas.core.frame.DataFrame'>\n",
      "RangeIndex: 7804 entries, 0 to 7803\n",
      "Data columns (total 15 columns):\n",
      " #   Column       Non-Null Count  Dtype  \n",
      "---  ------       --------------  -----  \n",
      " 0   Unnamed: 0   7804 non-null   int64  \n",
      " 1   BusinessNum  7804 non-null   int64  \n",
      " 2   cmpNm        7804 non-null   int64  \n",
      " 3   기업명          7804 non-null   object \n",
      " 4   ceoNm        7804 non-null   object \n",
      " 5   telNo        7390 non-null   object \n",
      " 6   faxTelNo     5607 non-null   object \n",
      " 7   zip          6314 non-null   float64\n",
      " 8   adr          7731 non-null   object \n",
      " 9   dtlAdr       6426 non-null   object \n",
      " 10  cmpTypNm     7804 non-null   object \n",
      " 11  cmpSclNm     7804 non-null   object \n",
      " 12  pbcoGbNm     6505 non-null   object \n",
      " 13  indCd1       7789 non-null   float64\n",
      " 14  indNm        7787 non-null   object \n",
      "dtypes: float64(2), int64(3), object(10)\n",
      "memory usage: 914.7+ KB\n"
     ]
    }
   ],
   "source": [
    "comp_intro.info()"
   ]
  },
  {
   "cell_type": "code",
   "execution_count": 17,
   "id": "2dbd9d67",
   "metadata": {},
   "outputs": [],
   "source": [
    "comp_intro['indCd1_str'] = comp_intro['indCd1'].apply(dot_split)"
   ]
  },
  {
   "cell_type": "code",
   "execution_count": 18,
   "id": "0aaf381f-348a-4477-bcff-9d94b8418b53",
   "metadata": {},
   "outputs": [
    {
     "name": "stdout",
     "output_type": "stream",
     "text": [
      "<class 'pandas.core.frame.DataFrame'>\n",
      "Int64Index: 7377 entries, 0 to 7376\n",
      "Data columns (total 20 columns):\n",
      " #   Column       Non-Null Count  Dtype  \n",
      "---  ------       --------------  -----  \n",
      " 0   Unnamed: 0   7377 non-null   int64  \n",
      " 1   BusinessNum  7377 non-null   int64  \n",
      " 2   cmpNm        7377 non-null   object \n",
      " 3   기업명          5909 non-null   object \n",
      " 4   ceoNm        7377 non-null   object \n",
      " 5   telNo        7020 non-null   object \n",
      " 6   faxTelNo     5185 non-null   object \n",
      " 7   zip          5853 non-null   float64\n",
      " 8   adr          7334 non-null   object \n",
      " 9   dtlAdr       5950 non-null   object \n",
      " 10  cmpTypNm     7377 non-null   object \n",
      " 11  cmpSclNm     7377 non-null   object \n",
      " 12  pbcoGbNm     6001 non-null   object \n",
      " 13  indCd1       7377 non-null   float64\n",
      " 14  indNm        7376 non-null   object \n",
      " 15  indCd1_str   7377 non-null   object \n",
      " 16  대분류          7377 non-null   object \n",
      " 17  중분류          7377 non-null   object \n",
      " 18  소분류          7377 non-null   object \n",
      " 19  세분류          7377 non-null   object \n",
      "dtypes: float64(2), int64(2), object(16)\n",
      "memory usage: 1.2+ MB\n"
     ]
    }
   ],
   "source": [
    "comp_intro_m1 = pd.merge(comp_intro,df_industry_small,on='indCd1_str')\n",
    "comp_intro_m1.info()"
   ]
  },
  {
   "cell_type": "code",
   "execution_count": 35,
   "id": "61c970b1-6257-4e39-93ab-eeccbbfff4ca",
   "metadata": {},
   "outputs": [
    {
     "data": {
      "text/plain": [
       "469"
      ]
     },
     "execution_count": 35,
     "metadata": {},
     "output_type": "execute_result"
    }
   ],
   "source": [
    "len(comp_intro_m1['indCd1_str'].unique())"
   ]
  },
  {
   "cell_type": "code",
   "execution_count": 15,
   "id": "2046ce1c-9960-417a-85ed-573cfa9310dc",
   "metadata": {
    "collapsed": true
   },
   "outputs": [
    {
     "data": {
      "text/plain": [
       "대분류\n",
       "정보통신업(58~63)                       2114\n",
       "건설업(41~42)                         2061\n",
       "도매 및 소매업(45~47)                     652\n",
       "제조업(10~34)                          504\n",
       "전문, 과학 및 기술 서비스업(70~73)             221\n",
       "사업시설 관리, 사업 지원 및 임대 서비스업(74~76)      97\n",
       "협회 및 단체, 수리 및 기타 개인 서비스업(94~96)      55\n",
       "부동산업(68)                             47\n",
       "운수 및 창고업(49~52)                      43\n",
       "금융 및 보험업(64~66)                      34\n",
       "숙박 및 음식점업(55~56)                     26\n",
       "교육 서비스업(85)                          25\n",
       "예술, 스포츠 및 여가관련 서비스업(90~91)           12\n",
       "수도, 하수 및 폐기물 처리, 원료 재생업(36~39)        6\n",
       "보건업 및 사회복지 서비스업(86~87)                5\n",
       "전기, 가스, 증기 및 공기 조절 공급업(35)            4\n",
       "공공 행정, 국방 및 사회보장 행정(84)               1\n",
       "농업, 임업 및 어업(01~03)                    1\n",
       "광업(05~08)                             1\n",
       "Name: count, dtype: int64"
      ]
     },
     "execution_count": 15,
     "metadata": {},
     "output_type": "execute_result"
    }
   ],
   "source": [
    "comp_intro_m1['대분류'].value_counts()"
   ]
  },
  {
   "cell_type": "code",
   "execution_count": 16,
   "id": "eacbbd43-8caa-43f4-a93c-5c490c0a663a",
   "metadata": {
    "collapsed": true
   },
   "outputs": [
    {
     "data": {
      "text/plain": [
       "중분류\n",
       "전문직별 공사업                   1586\n",
       "컴퓨터 프로그래밍, 시스템 통합 및 관리업    1098\n",
       "출판업                         708\n",
       "종합 건설업                      475\n",
       "도매 및 상품 중개업                 456\n",
       "                           ... \n",
       "공공 행정, 국방 및 사회보장 행정           1\n",
       "농업                            1\n",
       "항공 운송업                        1\n",
       "비금속광물 광업; 연료용 제외              1\n",
       "환경 정화 및 복원업                   1\n",
       "Name: count, Length: 64, dtype: int64"
      ]
     },
     "execution_count": 16,
     "metadata": {},
     "output_type": "execute_result"
    }
   ],
   "source": [
    "comp_intro_m1['중분류'].value_counts()"
   ]
  },
  {
   "cell_type": "code",
   "execution_count": 17,
   "id": "5fd8185a-70fa-45d1-9d8e-dc0121f0a062",
   "metadata": {
    "scrolled": true
   },
   "outputs": [
    {
     "data": {
      "text/plain": [
       "Unnamed: 0        0\n",
       "BusinessNum       0\n",
       "cmpNm             0\n",
       "기업명               0\n",
       "ceoNm             0\n",
       "telNo           298\n",
       "faxTelNo       1768\n",
       "zip            1224\n",
       "adr              31\n",
       "dtlAdr         1138\n",
       "cmpTypNm          0\n",
       "cmpSclNm          0\n",
       "pbcoGbNm       1101\n",
       "indCd1            0\n",
       "indNm             1\n",
       "indCd1_str        0\n",
       "대분류               0\n",
       "중분류               0\n",
       "소분류               0\n",
       "세분류               0\n",
       "dtype: int64"
      ]
     },
     "execution_count": 17,
     "metadata": {},
     "output_type": "execute_result"
    }
   ],
   "source": [
    "comp_intro_m1.isnull().sum()"
   ]
  },
  {
   "cell_type": "code",
   "execution_count": 145,
   "id": "fc4ded8f-441c-48af-b05c-bc93b441150d",
   "metadata": {
    "collapsed": true
   },
   "outputs": [
    {
     "data": {
      "text/html": [
       "<div>\n",
       "<style scoped>\n",
       "    .dataframe tbody tr th:only-of-type {\n",
       "        vertical-align: middle;\n",
       "    }\n",
       "\n",
       "    .dataframe tbody tr th {\n",
       "        vertical-align: top;\n",
       "    }\n",
       "\n",
       "    .dataframe thead th {\n",
       "        text-align: right;\n",
       "    }\n",
       "</style>\n",
       "<table border=\"1\" class=\"dataframe\">\n",
       "  <thead>\n",
       "    <tr style=\"text-align: right;\">\n",
       "      <th></th>\n",
       "      <th>Unnamed: 0</th>\n",
       "      <th>BusinessNum</th>\n",
       "      <th>cmpNm</th>\n",
       "      <th>기업명</th>\n",
       "      <th>ceoNm</th>\n",
       "      <th>telNo</th>\n",
       "      <th>faxTelNo</th>\n",
       "      <th>zip</th>\n",
       "      <th>adr</th>\n",
       "      <th>dtlAdr</th>\n",
       "      <th>cmpTypNm</th>\n",
       "      <th>cmpSclNm</th>\n",
       "      <th>pbcoGbNm</th>\n",
       "      <th>indCd1</th>\n",
       "      <th>indNm</th>\n",
       "      <th>indCd1_str</th>\n",
       "      <th>대분류</th>\n",
       "      <th>중분류</th>\n",
       "      <th>소분류</th>\n",
       "      <th>세분류</th>\n",
       "    </tr>\n",
       "  </thead>\n",
       "  <tbody>\n",
       "    <tr>\n",
       "      <th>1050</th>\n",
       "      <td>275</td>\n",
       "      <td>1088209536</td>\n",
       "      <td>20221022</td>\n",
       "      <td>현대산업정보***</td>\n",
       "      <td>최**</td>\n",
       "      <td>02-3143-0041</td>\n",
       "      <td>NaN</td>\n",
       "      <td>NaN</td>\n",
       "      <td>서울 마포구 월드컵로28길 20 (성산동)</td>\n",
       "      <td>NaN</td>\n",
       "      <td>일반</td>\n",
       "      <td>기타(비영리법인)</td>\n",
       "      <td>NaN</td>\n",
       "      <td>71531.0</td>\n",
       "      <td>경영컨설팅업</td>\n",
       "      <td>71531</td>\n",
       "      <td>전문, 과학 및 기술 서비스업</td>\n",
       "      <td>전문 서비스업</td>\n",
       "      <td>회사 본부 및 경영 컨설팅 서비스업</td>\n",
       "      <td>경영 컨설팅 및 공공 관계 서비스업</td>\n",
       "    </tr>\n",
       "    <tr>\n",
       "      <th>3573</th>\n",
       "      <td>2202</td>\n",
       "      <td>6158103807</td>\n",
       "      <td>20211229</td>\n",
       "      <td>(주)장유정***</td>\n",
       "      <td>박**</td>\n",
       "      <td>055 331 7456</td>\n",
       "      <td>055 331 7457</td>\n",
       "      <td>51008.0</td>\n",
       "      <td>경남 김해시 장유로329번길 36-17</td>\n",
       "      <td>1층 (신문동)</td>\n",
       "      <td>일반</td>\n",
       "      <td>기타(비영리법인)</td>\n",
       "      <td>일반기업</td>\n",
       "      <td>42322.0</td>\n",
       "      <td>내부 통신배선 공사업</td>\n",
       "      <td>42322</td>\n",
       "      <td>건설업</td>\n",
       "      <td>전문직별 공사업</td>\n",
       "      <td>전기 및 통신 공사업</td>\n",
       "      <td>통신 공사업</td>\n",
       "    </tr>\n",
       "    <tr>\n",
       "      <th>3710</th>\n",
       "      <td>82</td>\n",
       "      <td>8728203394</td>\n",
       "      <td>20221022</td>\n",
       "      <td>한국저작권***</td>\n",
       "      <td>박**</td>\n",
       "      <td>02-1588-0190</td>\n",
       "      <td>NaN</td>\n",
       "      <td>NaN</td>\n",
       "      <td>서울특별시 마포구 월드컵북로 400 9층 (상암동,서울산업진흥원빌딩)</td>\n",
       "      <td>NaN</td>\n",
       "      <td>일반</td>\n",
       "      <td>기타(비영리법인)</td>\n",
       "      <td>NaN</td>\n",
       "      <td>94990.0</td>\n",
       "      <td>그 외 기타 협회 및 단체</td>\n",
       "      <td>94990</td>\n",
       "      <td>협회 및 단체, 수리 및 기타 개인 서비스업</td>\n",
       "      <td>협회 및 단체</td>\n",
       "      <td>기타 협회 및 단체</td>\n",
       "      <td>그 외 기타 협회 및 단체</td>\n",
       "    </tr>\n",
       "    <tr>\n",
       "      <th>3711</th>\n",
       "      <td>313</td>\n",
       "      <td>1198209415</td>\n",
       "      <td>20210908</td>\n",
       "      <td>(사)한국화학안***</td>\n",
       "      <td>지**</td>\n",
       "      <td>031-410-2991</td>\n",
       "      <td>031-410-2994</td>\n",
       "      <td>7623.0</td>\n",
       "      <td>서울 강서구 공항대로</td>\n",
       "      <td>36, 302호 (공항동)</td>\n",
       "      <td>일반</td>\n",
       "      <td>기타(비영리법인)</td>\n",
       "      <td>일반기업</td>\n",
       "      <td>94990.0</td>\n",
       "      <td>그 외 기타 협회 및 단체</td>\n",
       "      <td>94990</td>\n",
       "      <td>협회 및 단체, 수리 및 기타 개인 서비스업</td>\n",
       "      <td>협회 및 단체</td>\n",
       "      <td>기타 협회 및 단체</td>\n",
       "      <td>그 외 기타 협회 및 단체</td>\n",
       "    </tr>\n",
       "    <tr>\n",
       "      <th>3712</th>\n",
       "      <td>523</td>\n",
       "      <td>1058209828</td>\n",
       "      <td>20221022</td>\n",
       "      <td>국제개발협력민간***</td>\n",
       "      <td>오**</td>\n",
       "      <td>02-2279-1705</td>\n",
       "      <td>NaN</td>\n",
       "      <td>NaN</td>\n",
       "      <td>서울 마포구 독막로 282 4층 (대흥동,대흥빌딩)</td>\n",
       "      <td>NaN</td>\n",
       "      <td>일반</td>\n",
       "      <td>기타(비영리법인)</td>\n",
       "      <td>NaN</td>\n",
       "      <td>94990.0</td>\n",
       "      <td>그 외 기타 협회 및 단체</td>\n",
       "      <td>94990</td>\n",
       "      <td>협회 및 단체, 수리 및 기타 개인 서비스업</td>\n",
       "      <td>협회 및 단체</td>\n",
       "      <td>기타 협회 및 단체</td>\n",
       "      <td>그 외 기타 협회 및 단체</td>\n",
       "    </tr>\n",
       "    <tr>\n",
       "      <th>3713</th>\n",
       "      <td>699</td>\n",
       "      <td>2768207917</td>\n",
       "      <td>20221022</td>\n",
       "      <td>컨선월드와이***</td>\n",
       "      <td>이준모외***</td>\n",
       "      <td>02-324-3900</td>\n",
       "      <td>NaN</td>\n",
       "      <td>NaN</td>\n",
       "      <td>서울 마포구 양화로11길 12 5층 (서교동,현담빌딩)</td>\n",
       "      <td>NaN</td>\n",
       "      <td>일반</td>\n",
       "      <td>기타(비영리법인)</td>\n",
       "      <td>NaN</td>\n",
       "      <td>94990.0</td>\n",
       "      <td>그 외 기타 협회 및 단체</td>\n",
       "      <td>94990</td>\n",
       "      <td>협회 및 단체, 수리 및 기타 개인 서비스업</td>\n",
       "      <td>협회 및 단체</td>\n",
       "      <td>기타 협회 및 단체</td>\n",
       "      <td>그 외 기타 협회 및 단체</td>\n",
       "    </tr>\n",
       "    <tr>\n",
       "      <th>3714</th>\n",
       "      <td>1022</td>\n",
       "      <td>1248209725</td>\n",
       "      <td>20221022</td>\n",
       "      <td>인권재***</td>\n",
       "      <td>박**</td>\n",
       "      <td>02-363-5855</td>\n",
       "      <td>NaN</td>\n",
       "      <td>NaN</td>\n",
       "      <td>서울특별시 은평구 증산로 403-1 2층 (신사동,복지빌딩)</td>\n",
       "      <td>NaN</td>\n",
       "      <td>일반</td>\n",
       "      <td>기타(비영리법인)</td>\n",
       "      <td>NaN</td>\n",
       "      <td>94990.0</td>\n",
       "      <td>그 외 기타 협회 및 단체</td>\n",
       "      <td>94990</td>\n",
       "      <td>협회 및 단체, 수리 및 기타 개인 서비스업</td>\n",
       "      <td>협회 및 단체</td>\n",
       "      <td>기타 협회 및 단체</td>\n",
       "      <td>그 외 기타 협회 및 단체</td>\n",
       "    </tr>\n",
       "    <tr>\n",
       "      <th>3715</th>\n",
       "      <td>1140</td>\n",
       "      <td>2068209956</td>\n",
       "      <td>20221022</td>\n",
       "      <td>어린이와작은도서***</td>\n",
       "      <td>백**</td>\n",
       "      <td>02-388-5933</td>\n",
       "      <td>NaN</td>\n",
       "      <td>NaN</td>\n",
       "      <td>서울 마포구 월드컵북로5가길 8-7 (서교동)</td>\n",
       "      <td>NaN</td>\n",
       "      <td>일반</td>\n",
       "      <td>기타(비영리법인)</td>\n",
       "      <td>NaN</td>\n",
       "      <td>94990.0</td>\n",
       "      <td>그 외 기타 협회 및 단체</td>\n",
       "      <td>94990</td>\n",
       "      <td>협회 및 단체, 수리 및 기타 개인 서비스업</td>\n",
       "      <td>협회 및 단체</td>\n",
       "      <td>기타 협회 및 단체</td>\n",
       "      <td>그 외 기타 협회 및 단체</td>\n",
       "    </tr>\n",
       "    <tr>\n",
       "      <th>3716</th>\n",
       "      <td>1512</td>\n",
       "      <td>1168206394</td>\n",
       "      <td>20211228</td>\n",
       "      <td>(사)한국정보산업***</td>\n",
       "      <td>정**</td>\n",
       "      <td>02  780 0201</td>\n",
       "      <td>02  782 1266</td>\n",
       "      <td>6221.0</td>\n",
       "      <td>서울 강남구 테헤란로 222</td>\n",
       "      <td>3층, 4층 (역삼동,도원빌딩)</td>\n",
       "      <td>일반</td>\n",
       "      <td>기타(비영리법인)</td>\n",
       "      <td>일반기업</td>\n",
       "      <td>94990.0</td>\n",
       "      <td>그 외 기타 협회 및 단체</td>\n",
       "      <td>94990</td>\n",
       "      <td>협회 및 단체, 수리 및 기타 개인 서비스업</td>\n",
       "      <td>협회 및 단체</td>\n",
       "      <td>기타 협회 및 단체</td>\n",
       "      <td>그 외 기타 협회 및 단체</td>\n",
       "    </tr>\n",
       "    <tr>\n",
       "      <th>3717</th>\n",
       "      <td>2010</td>\n",
       "      <td>8588207928</td>\n",
       "      <td>20221022</td>\n",
       "      <td>남북보건의료교***</td>\n",
       "      <td>배**</td>\n",
       "      <td>02-712-5587</td>\n",
       "      <td>NaN</td>\n",
       "      <td>NaN</td>\n",
       "      <td>서울특별시 마포구 큰우물로 76 413호 (도화동,고려빌딩)</td>\n",
       "      <td>NaN</td>\n",
       "      <td>일반</td>\n",
       "      <td>기타(비영리법인)</td>\n",
       "      <td>NaN</td>\n",
       "      <td>94990.0</td>\n",
       "      <td>그 외 기타 협회 및 단체</td>\n",
       "      <td>94990</td>\n",
       "      <td>협회 및 단체, 수리 및 기타 개인 서비스업</td>\n",
       "      <td>협회 및 단체</td>\n",
       "      <td>기타 협회 및 단체</td>\n",
       "      <td>그 외 기타 협회 및 단체</td>\n",
       "    </tr>\n",
       "    <tr>\n",
       "      <th>3718</th>\n",
       "      <td>2209</td>\n",
       "      <td>1018206257</td>\n",
       "      <td>20210903</td>\n",
       "      <td>(재)함께일하***</td>\n",
       "      <td>송**</td>\n",
       "      <td>02  338 0019</td>\n",
       "      <td>02  22323516</td>\n",
       "      <td>3992.0</td>\n",
       "      <td>서울특별시 마포구 월드컵북로6길 36</td>\n",
       "      <td>6층 (동교동,함께일하는사회)</td>\n",
       "      <td>일반</td>\n",
       "      <td>기타(비영리법인)</td>\n",
       "      <td>일반기업</td>\n",
       "      <td>94990.0</td>\n",
       "      <td>그 외 기타 협회 및 단체</td>\n",
       "      <td>94990</td>\n",
       "      <td>협회 및 단체, 수리 및 기타 개인 서비스업</td>\n",
       "      <td>협회 및 단체</td>\n",
       "      <td>기타 협회 및 단체</td>\n",
       "      <td>그 외 기타 협회 및 단체</td>\n",
       "    </tr>\n",
       "    <tr>\n",
       "      <th>3719</th>\n",
       "      <td>2540</td>\n",
       "      <td>1058209898</td>\n",
       "      <td>20221022</td>\n",
       "      <td>중견기업***</td>\n",
       "      <td>조**</td>\n",
       "      <td>02-3275-3128</td>\n",
       "      <td>NaN</td>\n",
       "      <td>NaN</td>\n",
       "      <td>서울 마포구 독막로 279 4층 (대흥동,상장회사회관)</td>\n",
       "      <td>NaN</td>\n",
       "      <td>일반</td>\n",
       "      <td>기타(비영리법인)</td>\n",
       "      <td>NaN</td>\n",
       "      <td>94990.0</td>\n",
       "      <td>그 외 기타 협회 및 단체</td>\n",
       "      <td>94990</td>\n",
       "      <td>협회 및 단체, 수리 및 기타 개인 서비스업</td>\n",
       "      <td>협회 및 단체</td>\n",
       "      <td>기타 협회 및 단체</td>\n",
       "      <td>그 외 기타 협회 및 단체</td>\n",
       "    </tr>\n",
       "    <tr>\n",
       "      <th>3720</th>\n",
       "      <td>3445</td>\n",
       "      <td>4018203710</td>\n",
       "      <td>20211201</td>\n",
       "      <td>(사)정보통신서비스***</td>\n",
       "      <td>박**</td>\n",
       "      <td>02-2088-1911</td>\n",
       "      <td>02-2088-1911</td>\n",
       "      <td>8507.0</td>\n",
       "      <td>서울특별시 금천구 가산디지털1로</td>\n",
       "      <td>142, 508호 (가산동,가산더스카이밸리1차)</td>\n",
       "      <td>일반</td>\n",
       "      <td>기타(비영리법인)</td>\n",
       "      <td>일반기업</td>\n",
       "      <td>94990.0</td>\n",
       "      <td>그 외 기타 협회 및 단체</td>\n",
       "      <td>94990</td>\n",
       "      <td>협회 및 단체, 수리 및 기타 개인 서비스업</td>\n",
       "      <td>협회 및 단체</td>\n",
       "      <td>기타 협회 및 단체</td>\n",
       "      <td>그 외 기타 협회 및 단체</td>\n",
       "    </tr>\n",
       "    <tr>\n",
       "      <th>3721</th>\n",
       "      <td>3639</td>\n",
       "      <td>2128207832</td>\n",
       "      <td>20221022</td>\n",
       "      <td>월드투**</td>\n",
       "      <td>김**</td>\n",
       "      <td>02-429-4044</td>\n",
       "      <td>NaN</td>\n",
       "      <td>NaN</td>\n",
       "      <td>서울특별시 마포구 토정로 296 8층 (용강동,이연빌딩)</td>\n",
       "      <td>NaN</td>\n",
       "      <td>일반</td>\n",
       "      <td>기타(비영리법인)</td>\n",
       "      <td>NaN</td>\n",
       "      <td>94990.0</td>\n",
       "      <td>그 외 기타 협회 및 단체</td>\n",
       "      <td>94990</td>\n",
       "      <td>협회 및 단체, 수리 및 기타 개인 서비스업</td>\n",
       "      <td>협회 및 단체</td>\n",
       "      <td>기타 협회 및 단체</td>\n",
       "      <td>그 외 기타 협회 및 단체</td>\n",
       "    </tr>\n",
       "    <tr>\n",
       "      <th>3722</th>\n",
       "      <td>3642</td>\n",
       "      <td>2098206974</td>\n",
       "      <td>20220128</td>\n",
       "      <td>영상물등급***</td>\n",
       "      <td>채**</td>\n",
       "      <td>02  31534300</td>\n",
       "      <td>02  31534337</td>\n",
       "      <td>48058.0</td>\n",
       "      <td>부산 해운대구 센텀서로 39</td>\n",
       "      <td>(우동)</td>\n",
       "      <td>일반</td>\n",
       "      <td>기타(비영리법인)</td>\n",
       "      <td>공기업</td>\n",
       "      <td>94990.0</td>\n",
       "      <td>그 외 기타 협회 및 단체</td>\n",
       "      <td>94990</td>\n",
       "      <td>협회 및 단체, 수리 및 기타 개인 서비스업</td>\n",
       "      <td>협회 및 단체</td>\n",
       "      <td>기타 협회 및 단체</td>\n",
       "      <td>그 외 기타 협회 및 단체</td>\n",
       "    </tr>\n",
       "    <tr>\n",
       "      <th>3723</th>\n",
       "      <td>3697</td>\n",
       "      <td>6198208700</td>\n",
       "      <td>20221022</td>\n",
       "      <td>아동복지실천***</td>\n",
       "      <td>허**</td>\n",
       "      <td>NaN</td>\n",
       "      <td>NaN</td>\n",
       "      <td>NaN</td>\n",
       "      <td>서울특별시 마포구 양화로7길 49 3층 (서교동,배아띠빌딩)</td>\n",
       "      <td>NaN</td>\n",
       "      <td>일반</td>\n",
       "      <td>기타(비영리법인)</td>\n",
       "      <td>NaN</td>\n",
       "      <td>94990.0</td>\n",
       "      <td>그 외 기타 협회 및 단체</td>\n",
       "      <td>94990</td>\n",
       "      <td>협회 및 단체, 수리 및 기타 개인 서비스업</td>\n",
       "      <td>협회 및 단체</td>\n",
       "      <td>기타 협회 및 단체</td>\n",
       "      <td>그 외 기타 협회 및 단체</td>\n",
       "    </tr>\n",
       "    <tr>\n",
       "      <th>3724</th>\n",
       "      <td>4133</td>\n",
       "      <td>2298207780</td>\n",
       "      <td>20220128</td>\n",
       "      <td>한국사회복지***</td>\n",
       "      <td>남**</td>\n",
       "      <td>02  719 8939</td>\n",
       "      <td>02  719 8313</td>\n",
       "      <td>4195.0</td>\n",
       "      <td>서울 마포구 만리재로 14</td>\n",
       "      <td>710호,711호 (공덕동,한국사회복지회관르네상스타워)</td>\n",
       "      <td>일반</td>\n",
       "      <td>기타(비영리법인)</td>\n",
       "      <td>일반기업</td>\n",
       "      <td>94990.0</td>\n",
       "      <td>그 외 기타 협회 및 단체</td>\n",
       "      <td>94990</td>\n",
       "      <td>협회 및 단체, 수리 및 기타 개인 서비스업</td>\n",
       "      <td>협회 및 단체</td>\n",
       "      <td>기타 협회 및 단체</td>\n",
       "      <td>그 외 기타 협회 및 단체</td>\n",
       "    </tr>\n",
       "    <tr>\n",
       "      <th>3725</th>\n",
       "      <td>4417</td>\n",
       "      <td>1058208718</td>\n",
       "      <td>20221022</td>\n",
       "      <td>북한이탈주민지***</td>\n",
       "      <td>정**</td>\n",
       "      <td>02-3215-5851</td>\n",
       "      <td>NaN</td>\n",
       "      <td>NaN</td>\n",
       "      <td>서울 마포구 새창로 7 4층,5층,14층 (도화동,서울대학교 총동창회 장학빌딩)</td>\n",
       "      <td>NaN</td>\n",
       "      <td>일반</td>\n",
       "      <td>기타(비영리법인)</td>\n",
       "      <td>NaN</td>\n",
       "      <td>94990.0</td>\n",
       "      <td>그 외 기타 협회 및 단체</td>\n",
       "      <td>94990</td>\n",
       "      <td>협회 및 단체, 수리 및 기타 개인 서비스업</td>\n",
       "      <td>협회 및 단체</td>\n",
       "      <td>기타 협회 및 단체</td>\n",
       "      <td>그 외 기타 협회 및 단체</td>\n",
       "    </tr>\n",
       "    <tr>\n",
       "      <th>3726</th>\n",
       "      <td>4435</td>\n",
       "      <td>1028202607</td>\n",
       "      <td>20211018</td>\n",
       "      <td>(재)케이티그룹희망나***</td>\n",
       "      <td>조**</td>\n",
       "      <td>02  34142045</td>\n",
       "      <td>02  34143100</td>\n",
       "      <td>3154.0</td>\n",
       "      <td>서울 종로구 세종대로 178</td>\n",
       "      <td>15층 (세종로,케이티광화문빌딩 웨스트)</td>\n",
       "      <td>일반</td>\n",
       "      <td>기타(비영리법인)</td>\n",
       "      <td>일반기업</td>\n",
       "      <td>94990.0</td>\n",
       "      <td>그 외 기타 협회 및 단체</td>\n",
       "      <td>94990</td>\n",
       "      <td>협회 및 단체, 수리 및 기타 개인 서비스업</td>\n",
       "      <td>협회 및 단체</td>\n",
       "      <td>기타 협회 및 단체</td>\n",
       "      <td>그 외 기타 협회 및 단체</td>\n",
       "    </tr>\n",
       "    <tr>\n",
       "      <th>3727</th>\n",
       "      <td>4999</td>\n",
       "      <td>8278205863</td>\n",
       "      <td>20221022</td>\n",
       "      <td>한국역사***</td>\n",
       "      <td>김**</td>\n",
       "      <td>02-586-4854</td>\n",
       "      <td>NaN</td>\n",
       "      <td>NaN</td>\n",
       "      <td>서울특별시 마포구 새창로 52 상가 213호 (도화동,도화동현대아파트)</td>\n",
       "      <td>NaN</td>\n",
       "      <td>일반</td>\n",
       "      <td>기타(비영리법인)</td>\n",
       "      <td>NaN</td>\n",
       "      <td>94990.0</td>\n",
       "      <td>그 외 기타 협회 및 단체</td>\n",
       "      <td>94990</td>\n",
       "      <td>협회 및 단체, 수리 및 기타 개인 서비스업</td>\n",
       "      <td>협회 및 단체</td>\n",
       "      <td>기타 협회 및 단체</td>\n",
       "      <td>그 외 기타 협회 및 단체</td>\n",
       "    </tr>\n",
       "    <tr>\n",
       "      <th>3728</th>\n",
       "      <td>5531</td>\n",
       "      <td>1058204619</td>\n",
       "      <td>20210903</td>\n",
       "      <td>(사)**</td>\n",
       "      <td>김**</td>\n",
       "      <td>02  322 2516</td>\n",
       "      <td>02-333-6058</td>\n",
       "      <td>3996.0</td>\n",
       "      <td>서울특별시 마포구 성미산로2길 47</td>\n",
       "      <td>(서교동)</td>\n",
       "      <td>일반</td>\n",
       "      <td>기타(비영리법인)</td>\n",
       "      <td>일반기업</td>\n",
       "      <td>94990.0</td>\n",
       "      <td>그 외 기타 협회 및 단체</td>\n",
       "      <td>94990</td>\n",
       "      <td>협회 및 단체, 수리 및 기타 개인 서비스업</td>\n",
       "      <td>협회 및 단체</td>\n",
       "      <td>기타 협회 및 단체</td>\n",
       "      <td>그 외 기타 협회 및 단체</td>\n",
       "    </tr>\n",
       "    <tr>\n",
       "      <th>3729</th>\n",
       "      <td>6031</td>\n",
       "      <td>1058202909</td>\n",
       "      <td>20221022</td>\n",
       "      <td>한국경영자***</td>\n",
       "      <td>손**</td>\n",
       "      <td>02-3270-7300</td>\n",
       "      <td>NaN</td>\n",
       "      <td>NaN</td>\n",
       "      <td>서울 마포구 백범로 88 (대흥동)</td>\n",
       "      <td>NaN</td>\n",
       "      <td>일반</td>\n",
       "      <td>기타(비영리법인)</td>\n",
       "      <td>NaN</td>\n",
       "      <td>94990.0</td>\n",
       "      <td>그 외 기타 협회 및 단체</td>\n",
       "      <td>94990</td>\n",
       "      <td>협회 및 단체, 수리 및 기타 개인 서비스업</td>\n",
       "      <td>협회 및 단체</td>\n",
       "      <td>기타 협회 및 단체</td>\n",
       "      <td>그 외 기타 협회 및 단체</td>\n",
       "    </tr>\n",
       "    <tr>\n",
       "      <th>3730</th>\n",
       "      <td>6197</td>\n",
       "      <td>2018209072</td>\n",
       "      <td>20221022</td>\n",
       "      <td>서울특별시자원봉***</td>\n",
       "      <td>권**</td>\n",
       "      <td>167--</td>\n",
       "      <td>NaN</td>\n",
       "      <td>NaN</td>\n",
       "      <td>서울 마포구 마포대로 163 3층 (공덕동,서울신용보증재단빌딩)</td>\n",
       "      <td>NaN</td>\n",
       "      <td>일반</td>\n",
       "      <td>기타(비영리법인)</td>\n",
       "      <td>NaN</td>\n",
       "      <td>94990.0</td>\n",
       "      <td>그 외 기타 협회 및 단체</td>\n",
       "      <td>94990</td>\n",
       "      <td>협회 및 단체, 수리 및 기타 개인 서비스업</td>\n",
       "      <td>협회 및 단체</td>\n",
       "      <td>기타 협회 및 단체</td>\n",
       "      <td>그 외 기타 협회 및 단체</td>\n",
       "    </tr>\n",
       "    <tr>\n",
       "      <th>3731</th>\n",
       "      <td>6495</td>\n",
       "      <td>1058200137</td>\n",
       "      <td>20221022</td>\n",
       "      <td>홍익대학교산학***</td>\n",
       "      <td>정**</td>\n",
       "      <td>02-201-1423</td>\n",
       "      <td>NaN</td>\n",
       "      <td>NaN</td>\n",
       "      <td>서울 마포구 와우산로 94 (상수동)</td>\n",
       "      <td>NaN</td>\n",
       "      <td>일반</td>\n",
       "      <td>기타(비영리법인)</td>\n",
       "      <td>NaN</td>\n",
       "      <td>94990.0</td>\n",
       "      <td>그 외 기타 협회 및 단체</td>\n",
       "      <td>94990</td>\n",
       "      <td>협회 및 단체, 수리 및 기타 개인 서비스업</td>\n",
       "      <td>협회 및 단체</td>\n",
       "      <td>기타 협회 및 단체</td>\n",
       "      <td>그 외 기타 협회 및 단체</td>\n",
       "    </tr>\n",
       "    <tr>\n",
       "      <th>3732</th>\n",
       "      <td>6586</td>\n",
       "      <td>1028207962</td>\n",
       "      <td>20220128</td>\n",
       "      <td>유니세프한국***</td>\n",
       "      <td>정**</td>\n",
       "      <td>02  737 1004</td>\n",
       "      <td>02  738 8504</td>\n",
       "      <td>4099.0</td>\n",
       "      <td>서울특별시 마포구 서강로 60</td>\n",
       "      <td>(창전동)</td>\n",
       "      <td>일반</td>\n",
       "      <td>기타(비영리법인)</td>\n",
       "      <td>일반기업</td>\n",
       "      <td>94990.0</td>\n",
       "      <td>그 외 기타 협회 및 단체</td>\n",
       "      <td>94990</td>\n",
       "      <td>협회 및 단체, 수리 및 기타 개인 서비스업</td>\n",
       "      <td>협회 및 단체</td>\n",
       "      <td>기타 협회 및 단체</td>\n",
       "      <td>그 외 기타 협회 및 단체</td>\n",
       "    </tr>\n",
       "    <tr>\n",
       "      <th>3733</th>\n",
       "      <td>7449</td>\n",
       "      <td>1058200285</td>\n",
       "      <td>20220302</td>\n",
       "      <td>한국컨테이너풀***</td>\n",
       "      <td>서**</td>\n",
       "      <td>NaN</td>\n",
       "      <td>NaN</td>\n",
       "      <td>4157.0</td>\n",
       "      <td>서울 마포구 마포대로</td>\n",
       "      <td>63-8, 5층 (도화동,삼창빌딩)</td>\n",
       "      <td>일반</td>\n",
       "      <td>기타(비영리법인)</td>\n",
       "      <td>일반기업</td>\n",
       "      <td>94990.0</td>\n",
       "      <td>그 외 기타 협회 및 단체</td>\n",
       "      <td>94990</td>\n",
       "      <td>협회 및 단체, 수리 및 기타 개인 서비스업</td>\n",
       "      <td>협회 및 단체</td>\n",
       "      <td>기타 협회 및 단체</td>\n",
       "      <td>그 외 기타 협회 및 단체</td>\n",
       "    </tr>\n",
       "    <tr>\n",
       "      <th>3734</th>\n",
       "      <td>7480</td>\n",
       "      <td>1198200394</td>\n",
       "      <td>20211130</td>\n",
       "      <td>(사)타이드인스***</td>\n",
       "      <td>이**</td>\n",
       "      <td>02-2268-2011</td>\n",
       "      <td>02-2268-0805</td>\n",
       "      <td>3194.0</td>\n",
       "      <td>서울특별시 종로구 청계천로 159</td>\n",
       "      <td>510호 (장사동,세운상가)</td>\n",
       "      <td>일반</td>\n",
       "      <td>기타(비영리법인)</td>\n",
       "      <td>일반기업</td>\n",
       "      <td>94990.0</td>\n",
       "      <td>그 외 기타 협회 및 단체</td>\n",
       "      <td>94990</td>\n",
       "      <td>협회 및 단체, 수리 및 기타 개인 서비스업</td>\n",
       "      <td>협회 및 단체</td>\n",
       "      <td>기타 협회 및 단체</td>\n",
       "      <td>그 외 기타 협회 및 단체</td>\n",
       "    </tr>\n",
       "    <tr>\n",
       "      <th>4436</th>\n",
       "      <td>7441</td>\n",
       "      <td>3128209817</td>\n",
       "      <td>20221022</td>\n",
       "      <td>한국산업보건연***</td>\n",
       "      <td>김**</td>\n",
       "      <td>02-326-1102</td>\n",
       "      <td>NaN</td>\n",
       "      <td>NaN</td>\n",
       "      <td>서울특별시 마포구 월드컵북로 25 (서교동)</td>\n",
       "      <td>NaN</td>\n",
       "      <td>일반</td>\n",
       "      <td>기타(비영리법인)</td>\n",
       "      <td>NaN</td>\n",
       "      <td>75999.0</td>\n",
       "      <td>그 외 기타 분류 안된 사업지원 서비스업</td>\n",
       "      <td>75999</td>\n",
       "      <td>사업시설 관리, 사업 지원 및 임대 서비스업</td>\n",
       "      <td>사업 지원 서비스업</td>\n",
       "      <td>기타 사업 지원 서비스업</td>\n",
       "      <td>그 외 기타 사업 지원 서비스업</td>\n",
       "    </tr>\n",
       "    <tr>\n",
       "      <th>4603</th>\n",
       "      <td>952</td>\n",
       "      <td>2118207227</td>\n",
       "      <td>20221022</td>\n",
       "      <td>한국출판***</td>\n",
       "      <td>김**</td>\n",
       "      <td>02-3142-2333</td>\n",
       "      <td>NaN</td>\n",
       "      <td>NaN</td>\n",
       "      <td>서울특별시 마포구 동교로22길 44 (서교동)</td>\n",
       "      <td>NaN</td>\n",
       "      <td>일반</td>\n",
       "      <td>기타(비영리법인)</td>\n",
       "      <td>NaN</td>\n",
       "      <td>71310.0</td>\n",
       "      <td>광고 대행업</td>\n",
       "      <td>71310</td>\n",
       "      <td>전문, 과학 및 기술 서비스업</td>\n",
       "      <td>전문 서비스업</td>\n",
       "      <td>광고업</td>\n",
       "      <td>광고 대행업</td>\n",
       "    </tr>\n",
       "    <tr>\n",
       "      <th>4613</th>\n",
       "      <td>2075</td>\n",
       "      <td>1028205906</td>\n",
       "      <td>20220128</td>\n",
       "      <td>한국문화원***</td>\n",
       "      <td>김**</td>\n",
       "      <td>27042311</td>\n",
       "      <td>27042377</td>\n",
       "      <td>4158.0</td>\n",
       "      <td>서울 마포구 마포대로 49</td>\n",
       "      <td>1202호 (도화동,성우빌딩)</td>\n",
       "      <td>일반</td>\n",
       "      <td>기타(비영리법인)</td>\n",
       "      <td>일반기업</td>\n",
       "      <td>71310.0</td>\n",
       "      <td>광고 대행업</td>\n",
       "      <td>71310</td>\n",
       "      <td>전문, 과학 및 기술 서비스업</td>\n",
       "      <td>전문 서비스업</td>\n",
       "      <td>광고업</td>\n",
       "      <td>광고 대행업</td>\n",
       "    </tr>\n",
       "    <tr>\n",
       "      <th>5037</th>\n",
       "      <td>3407</td>\n",
       "      <td>1058200100</td>\n",
       "      <td>20221022</td>\n",
       "      <td>홍익대학교산학***</td>\n",
       "      <td>추**</td>\n",
       "      <td>02-320-3110</td>\n",
       "      <td>NaN</td>\n",
       "      <td>NaN</td>\n",
       "      <td>서울특별시 마포구 와우산로 94 (상수동)</td>\n",
       "      <td>NaN</td>\n",
       "      <td>일반</td>\n",
       "      <td>기타(비영리법인)</td>\n",
       "      <td>NaN</td>\n",
       "      <td>71600.0</td>\n",
       "      <td>기타 전문 서비스업</td>\n",
       "      <td>71600</td>\n",
       "      <td>전문, 과학 및 기술 서비스업</td>\n",
       "      <td>전문 서비스업</td>\n",
       "      <td>기타 전문 서비스업</td>\n",
       "      <td>기타 전문 서비스업</td>\n",
       "    </tr>\n",
       "    <tr>\n",
       "      <th>5114</th>\n",
       "      <td>788</td>\n",
       "      <td>1208205110</td>\n",
       "      <td>20210923</td>\n",
       "      <td>(사)텔코경영***</td>\n",
       "      <td>금**</td>\n",
       "      <td>02  508 5811</td>\n",
       "      <td>NaN</td>\n",
       "      <td>6595.0</td>\n",
       "      <td>서울 서초구 법원로3길 20-7</td>\n",
       "      <td>2층 (서초동,텔코웨어빌딩)</td>\n",
       "      <td>일반</td>\n",
       "      <td>기타(비영리법인)</td>\n",
       "      <td>일반기업</td>\n",
       "      <td>70121.0</td>\n",
       "      <td>전기ㆍ전자공학 연구 개발업</td>\n",
       "      <td>70121</td>\n",
       "      <td>전문, 과학 및 기술 서비스업</td>\n",
       "      <td>연구개발업</td>\n",
       "      <td>자연과학 및 공학 연구개발업</td>\n",
       "      <td>공학 연구개발업</td>\n",
       "    </tr>\n",
       "    <tr>\n",
       "      <th>5286</th>\n",
       "      <td>1088</td>\n",
       "      <td>1058201494</td>\n",
       "      <td>20211201</td>\n",
       "      <td>(학)서강***</td>\n",
       "      <td>박**</td>\n",
       "      <td>02  705 8114</td>\n",
       "      <td>02  705 8147</td>\n",
       "      <td>4107.0</td>\n",
       "      <td>서울 마포구 백범로 35</td>\n",
       "      <td>(신수동)</td>\n",
       "      <td>일반</td>\n",
       "      <td>기타(비영리법인)</td>\n",
       "      <td>공기업</td>\n",
       "      <td>85302.0</td>\n",
       "      <td>대학교</td>\n",
       "      <td>85302</td>\n",
       "      <td>교육 서비스업</td>\n",
       "      <td>교육 서비스업</td>\n",
       "      <td>고등 교육기관</td>\n",
       "      <td>고등 교육기관</td>\n",
       "    </tr>\n",
       "    <tr>\n",
       "      <th>5287</th>\n",
       "      <td>1873</td>\n",
       "      <td>6038200532</td>\n",
       "      <td>20221022</td>\n",
       "      <td>서울디지털***</td>\n",
       "      <td>강**</td>\n",
       "      <td>02-2128-2561</td>\n",
       "      <td>NaN</td>\n",
       "      <td>NaN</td>\n",
       "      <td>서울특별시 마포구 독막로 320 (도화동)</td>\n",
       "      <td>NaN</td>\n",
       "      <td>일반</td>\n",
       "      <td>기타(비영리법인)</td>\n",
       "      <td>NaN</td>\n",
       "      <td>85302.0</td>\n",
       "      <td>대학교</td>\n",
       "      <td>85302</td>\n",
       "      <td>교육 서비스업</td>\n",
       "      <td>교육 서비스업</td>\n",
       "      <td>고등 교육기관</td>\n",
       "      <td>고등 교육기관</td>\n",
       "    </tr>\n",
       "    <tr>\n",
       "      <th>5288</th>\n",
       "      <td>5300</td>\n",
       "      <td>1058200553</td>\n",
       "      <td>20211201</td>\n",
       "      <td>서강대**</td>\n",
       "      <td>박**</td>\n",
       "      <td>02  705 8114</td>\n",
       "      <td>02-718-2065</td>\n",
       "      <td>4107.0</td>\n",
       "      <td>서울 마포구 백범로 35</td>\n",
       "      <td>(신수동)</td>\n",
       "      <td>일반</td>\n",
       "      <td>기타(비영리법인)</td>\n",
       "      <td>공기업</td>\n",
       "      <td>85302.0</td>\n",
       "      <td>대학교</td>\n",
       "      <td>85302</td>\n",
       "      <td>교육 서비스업</td>\n",
       "      <td>교육 서비스업</td>\n",
       "      <td>고등 교육기관</td>\n",
       "      <td>고등 교육기관</td>\n",
       "    </tr>\n",
       "    <tr>\n",
       "      <th>5319</th>\n",
       "      <td>3165</td>\n",
       "      <td>1058203217</td>\n",
       "      <td>20221022</td>\n",
       "      <td>더나은**</td>\n",
       "      <td>염**</td>\n",
       "      <td>02-635-5858</td>\n",
       "      <td>NaN</td>\n",
       "      <td>NaN</td>\n",
       "      <td>서울 마포구 성미산로 120 (연남동)</td>\n",
       "      <td>NaN</td>\n",
       "      <td>일반</td>\n",
       "      <td>기타(비영리법인)</td>\n",
       "      <td>NaN</td>\n",
       "      <td>85701.0</td>\n",
       "      <td>교육 관련 자문 및 평가업</td>\n",
       "      <td>85701</td>\n",
       "      <td>교육 서비스업</td>\n",
       "      <td>교육 서비스업</td>\n",
       "      <td>교육 지원 서비스업</td>\n",
       "      <td>교육 지원 서비스업</td>\n",
       "    </tr>\n",
       "    <tr>\n",
       "      <th>5394</th>\n",
       "      <td>6582</td>\n",
       "      <td>1018200478</td>\n",
       "      <td>20211130</td>\n",
       "      <td>(재)한국정보통신산업***</td>\n",
       "      <td>강**</td>\n",
       "      <td>031-231-3410</td>\n",
       "      <td>031-269-5210</td>\n",
       "      <td>16324.0</td>\n",
       "      <td>경기도 수원시 장안구 하률로12번길 80</td>\n",
       "      <td>(천천동)</td>\n",
       "      <td>일반</td>\n",
       "      <td>기타(비영리법인)</td>\n",
       "      <td>일반기업</td>\n",
       "      <td>70129.0</td>\n",
       "      <td>기타 공학 연구개발업</td>\n",
       "      <td>70129</td>\n",
       "      <td>전문, 과학 및 기술 서비스업</td>\n",
       "      <td>연구개발업</td>\n",
       "      <td>자연과학 및 공학 연구개발업</td>\n",
       "      <td>공학 연구개발업</td>\n",
       "    </tr>\n",
       "    <tr>\n",
       "      <th>5495</th>\n",
       "      <td>1814</td>\n",
       "      <td>1058209496</td>\n",
       "      <td>20220128</td>\n",
       "      <td>(복)홀트아동***</td>\n",
       "      <td>설**</td>\n",
       "      <td>02-331-7051</td>\n",
       "      <td>02-331-7015</td>\n",
       "      <td>4027.0</td>\n",
       "      <td>서울 마포구 양화로 19</td>\n",
       "      <td>(합정동)</td>\n",
       "      <td>일반</td>\n",
       "      <td>기타(비영리법인)</td>\n",
       "      <td>일반기업</td>\n",
       "      <td>87131.0</td>\n",
       "      <td>아동 및 부녀자 거주 복지시설 운영업</td>\n",
       "      <td>87131</td>\n",
       "      <td>보건업 및 사회복지 서비스업</td>\n",
       "      <td>사회복지 서비스업</td>\n",
       "      <td>거주 복지시설 운영업</td>\n",
       "      <td>기타 거주 복지시설 운영업</td>\n",
       "    </tr>\n",
       "    <tr>\n",
       "      <th>5611</th>\n",
       "      <td>2357</td>\n",
       "      <td>1108201361</td>\n",
       "      <td>20221022</td>\n",
       "      <td>국가임상시험지***</td>\n",
       "      <td>배**</td>\n",
       "      <td>02-985-5032</td>\n",
       "      <td>NaN</td>\n",
       "      <td>NaN</td>\n",
       "      <td>서울 마포구 마포대로 137 15층 (공덕동,케이피엑스빌딩)</td>\n",
       "      <td>NaN</td>\n",
       "      <td>일반</td>\n",
       "      <td>기타(비영리법인)</td>\n",
       "      <td>NaN</td>\n",
       "      <td>94110.0</td>\n",
       "      <td>산업 단체</td>\n",
       "      <td>94110</td>\n",
       "      <td>협회 및 단체, 수리 및 기타 개인 서비스업</td>\n",
       "      <td>협회 및 단체</td>\n",
       "      <td>산업 및 전문가 단체</td>\n",
       "      <td>산업 단체</td>\n",
       "    </tr>\n",
       "    <tr>\n",
       "      <th>5612</th>\n",
       "      <td>4918</td>\n",
       "      <td>1078207462</td>\n",
       "      <td>20211018</td>\n",
       "      <td>(사)한국정보기술서비스산***</td>\n",
       "      <td>박**</td>\n",
       "      <td>02  761 2060</td>\n",
       "      <td>02  761 6646</td>\n",
       "      <td>7207.0</td>\n",
       "      <td>서울특별시 영등포구 양평로25길 8</td>\n",
       "      <td>408호 (양평동5가,어반322)</td>\n",
       "      <td>일반</td>\n",
       "      <td>기타(비영리법인)</td>\n",
       "      <td>일반기업</td>\n",
       "      <td>94110.0</td>\n",
       "      <td>산업 단체</td>\n",
       "      <td>94110</td>\n",
       "      <td>협회 및 단체, 수리 및 기타 개인 서비스업</td>\n",
       "      <td>협회 및 단체</td>\n",
       "      <td>산업 및 전문가 단체</td>\n",
       "      <td>산업 단체</td>\n",
       "    </tr>\n",
       "    <tr>\n",
       "      <th>5613</th>\n",
       "      <td>5476</td>\n",
       "      <td>2028204157</td>\n",
       "      <td>20221022</td>\n",
       "      <td>한국중견기업***</td>\n",
       "      <td>최**</td>\n",
       "      <td>02-3275-0175</td>\n",
       "      <td>NaN</td>\n",
       "      <td>NaN</td>\n",
       "      <td>서울특별시 마포구 독막로 279 상장회사회관 1동 4,5층 (대흥동)</td>\n",
       "      <td>NaN</td>\n",
       "      <td>일반</td>\n",
       "      <td>기타(비영리법인)</td>\n",
       "      <td>NaN</td>\n",
       "      <td>94110.0</td>\n",
       "      <td>산업 단체</td>\n",
       "      <td>94110</td>\n",
       "      <td>협회 및 단체, 수리 및 기타 개인 서비스업</td>\n",
       "      <td>협회 및 단체</td>\n",
       "      <td>산업 및 전문가 단체</td>\n",
       "      <td>산업 단체</td>\n",
       "    </tr>\n",
       "    <tr>\n",
       "      <th>5614</th>\n",
       "      <td>5704</td>\n",
       "      <td>1058202680</td>\n",
       "      <td>20211130</td>\n",
       "      <td>(사)한국정보방송통신***</td>\n",
       "      <td>노**</td>\n",
       "      <td>02  21322100</td>\n",
       "      <td>02-2132-2110</td>\n",
       "      <td>3925.0</td>\n",
       "      <td>서울특별시 마포구 월드컵북로 396</td>\n",
       "      <td>903호 (상암동,누리꿈스퀘어 알엔디타워)</td>\n",
       "      <td>일반</td>\n",
       "      <td>기타(비영리법인)</td>\n",
       "      <td>일반기업</td>\n",
       "      <td>94110.0</td>\n",
       "      <td>산업 단체</td>\n",
       "      <td>94110</td>\n",
       "      <td>협회 및 단체, 수리 및 기타 개인 서비스업</td>\n",
       "      <td>협회 및 단체</td>\n",
       "      <td>산업 및 전문가 단체</td>\n",
       "      <td>산업 단체</td>\n",
       "    </tr>\n",
       "    <tr>\n",
       "      <th>5628</th>\n",
       "      <td>2440</td>\n",
       "      <td>6148200106</td>\n",
       "      <td>20211228</td>\n",
       "      <td>정보통신기획***</td>\n",
       "      <td>석**</td>\n",
       "      <td>042-612-8001</td>\n",
       "      <td>042-612-8809</td>\n",
       "      <td>34054.0</td>\n",
       "      <td>대전 유성구 유성대로 1548</td>\n",
       "      <td>(화암동)</td>\n",
       "      <td>일반</td>\n",
       "      <td>기타(비영리법인)</td>\n",
       "      <td>공기업</td>\n",
       "      <td>70209.0</td>\n",
       "      <td>기타 인문 및 사회과학 연구개발업</td>\n",
       "      <td>70209</td>\n",
       "      <td>전문, 과학 및 기술 서비스업</td>\n",
       "      <td>연구개발업</td>\n",
       "      <td>인문 및 사회과학 연구개발업</td>\n",
       "      <td>인문 및 사회과학 연구개발업</td>\n",
       "    </tr>\n",
       "    <tr>\n",
       "      <th>5629</th>\n",
       "      <td>2454</td>\n",
       "      <td>1018209128</td>\n",
       "      <td>20221022</td>\n",
       "      <td>희망제**</td>\n",
       "      <td>정**</td>\n",
       "      <td>02-3210-0909</td>\n",
       "      <td>NaN</td>\n",
       "      <td>NaN</td>\n",
       "      <td>서울 마포구 월드컵북로 92 (성산동)</td>\n",
       "      <td>NaN</td>\n",
       "      <td>일반</td>\n",
       "      <td>기타(비영리법인)</td>\n",
       "      <td>NaN</td>\n",
       "      <td>70209.0</td>\n",
       "      <td>기타 인문 및 사회과학 연구개발업</td>\n",
       "      <td>70209</td>\n",
       "      <td>전문, 과학 및 기술 서비스업</td>\n",
       "      <td>연구개발업</td>\n",
       "      <td>인문 및 사회과학 연구개발업</td>\n",
       "      <td>인문 및 사회과학 연구개발업</td>\n",
       "    </tr>\n",
       "    <tr>\n",
       "      <th>5635</th>\n",
       "      <td>6538</td>\n",
       "      <td>2048204585</td>\n",
       "      <td>20221022</td>\n",
       "      <td>한국환경생***</td>\n",
       "      <td>백**</td>\n",
       "      <td>070-4194-7488</td>\n",
       "      <td>NaN</td>\n",
       "      <td>NaN</td>\n",
       "      <td>서울 마포구 월드컵로3길 36 501호 (합정동,상일빌딩)</td>\n",
       "      <td>NaN</td>\n",
       "      <td>일반</td>\n",
       "      <td>기타(비영리법인)</td>\n",
       "      <td>NaN</td>\n",
       "      <td>70209.0</td>\n",
       "      <td>기타 인문 및 사회과학 연구개발업</td>\n",
       "      <td>70209</td>\n",
       "      <td>전문, 과학 및 기술 서비스업</td>\n",
       "      <td>연구개발업</td>\n",
       "      <td>인문 및 사회과학 연구개발업</td>\n",
       "      <td>인문 및 사회과학 연구개발업</td>\n",
       "    </tr>\n",
       "    <tr>\n",
       "      <th>5680</th>\n",
       "      <td>2952</td>\n",
       "      <td>1058509139</td>\n",
       "      <td>20220302</td>\n",
       "      <td>한국중부발전(주)서울화력***</td>\n",
       "      <td>김**</td>\n",
       "      <td>02-320-2276</td>\n",
       "      <td>02-320-2192</td>\n",
       "      <td>4082.0</td>\n",
       "      <td>서울 마포구 토정로</td>\n",
       "      <td>56, 1 (당인동,서울화력발전소)</td>\n",
       "      <td>외감</td>\n",
       "      <td>기타(비영리법인)</td>\n",
       "      <td>일반기업</td>\n",
       "      <td>35113.0</td>\n",
       "      <td>화력 발전업</td>\n",
       "      <td>35113</td>\n",
       "      <td>전기, 가스, 증기 및 공기 조절 공급업</td>\n",
       "      <td>전기, 가스, 증기 및 공기 조절 공급업</td>\n",
       "      <td>전기업</td>\n",
       "      <td>발전업</td>\n",
       "    </tr>\n",
       "    <tr>\n",
       "      <th>5682</th>\n",
       "      <td>3060</td>\n",
       "      <td>1058206009</td>\n",
       "      <td>20221022</td>\n",
       "      <td>한국소프트웨어***</td>\n",
       "      <td>유**</td>\n",
       "      <td>02-2132-1234</td>\n",
       "      <td>NaN</td>\n",
       "      <td>NaN</td>\n",
       "      <td>서울 마포구 월드컵북로 396, 1층 IT KOREA 전시관 (상암동,누리꿈스퀘어디...</td>\n",
       "      <td>NaN</td>\n",
       "      <td>일반</td>\n",
       "      <td>기타(비영리법인)</td>\n",
       "      <td>NaN</td>\n",
       "      <td>68111.0</td>\n",
       "      <td>주거용 건물 임대업</td>\n",
       "      <td>68111</td>\n",
       "      <td>부동산업</td>\n",
       "      <td>부동산업</td>\n",
       "      <td>부동산 임대 및 공급업</td>\n",
       "      <td>부동산 임대업</td>\n",
       "    </tr>\n",
       "    <tr>\n",
       "      <th>5694</th>\n",
       "      <td>3218</td>\n",
       "      <td>2088206039</td>\n",
       "      <td>20221022</td>\n",
       "      <td>환경**</td>\n",
       "      <td>이**</td>\n",
       "      <td>02-743-4747</td>\n",
       "      <td>NaN</td>\n",
       "      <td>NaN</td>\n",
       "      <td>서울 마포구 월드컵로26길 39 (성산동)</td>\n",
       "      <td>NaN</td>\n",
       "      <td>일반</td>\n",
       "      <td>기타(비영리법인)</td>\n",
       "      <td>NaN</td>\n",
       "      <td>94931.0</td>\n",
       "      <td>환경운동 단체</td>\n",
       "      <td>94931</td>\n",
       "      <td>협회 및 단체, 수리 및 기타 개인 서비스업</td>\n",
       "      <td>협회 및 단체</td>\n",
       "      <td>기타 협회 및 단체</td>\n",
       "      <td>시민운동 단체</td>\n",
       "    </tr>\n",
       "    <tr>\n",
       "      <th>5695</th>\n",
       "      <td>6575</td>\n",
       "      <td>1028209240</td>\n",
       "      <td>20221022</td>\n",
       "      <td>생명**</td>\n",
       "      <td>허**</td>\n",
       "      <td>02-735-3232</td>\n",
       "      <td>NaN</td>\n",
       "      <td>NaN</td>\n",
       "      <td>서울특별시 마포구 성미산로11길 5 5층 (성산동)</td>\n",
       "      <td>NaN</td>\n",
       "      <td>일반</td>\n",
       "      <td>기타(비영리법인)</td>\n",
       "      <td>NaN</td>\n",
       "      <td>94931.0</td>\n",
       "      <td>환경운동 단체</td>\n",
       "      <td>94931</td>\n",
       "      <td>협회 및 단체, 수리 및 기타 개인 서비스업</td>\n",
       "      <td>협회 및 단체</td>\n",
       "      <td>기타 협회 및 단체</td>\n",
       "      <td>시민운동 단체</td>\n",
       "    </tr>\n",
       "    <tr>\n",
       "      <th>5704</th>\n",
       "      <td>3272</td>\n",
       "      <td>6218207020</td>\n",
       "      <td>20221022</td>\n",
       "      <td>성보문화재***</td>\n",
       "      <td>김**</td>\n",
       "      <td>02-701-6830</td>\n",
       "      <td>NaN</td>\n",
       "      <td>NaN</td>\n",
       "      <td>서울 마포구 마포대로 38 801호 (도화동,일신빌딩)</td>\n",
       "      <td>NaN</td>\n",
       "      <td>일반</td>\n",
       "      <td>기타(비영리법인)</td>\n",
       "      <td>NaN</td>\n",
       "      <td>84212.0</td>\n",
       "      <td>문화 및 관광 행정</td>\n",
       "      <td>84212</td>\n",
       "      <td>공공 행정, 국방 및 사회보장 행정</td>\n",
       "      <td>공공 행정, 국방 및 사회보장 행정</td>\n",
       "      <td>사회 및 산업정책 행정</td>\n",
       "      <td>사회서비스 관리 행정</td>\n",
       "    </tr>\n",
       "    <tr>\n",
       "      <th>5708</th>\n",
       "      <td>6011</td>\n",
       "      <td>1078201068</td>\n",
       "      <td>20211018</td>\n",
       "      <td>(사)한국아이티복지***</td>\n",
       "      <td>정**</td>\n",
       "      <td>02-2015-3555</td>\n",
       "      <td>02-2015-3501</td>\n",
       "      <td>6373.0</td>\n",
       "      <td>서울특별시 강남구 자곡로 174-10</td>\n",
       "      <td>613호 (자곡동,강남에이스타워)</td>\n",
       "      <td>일반</td>\n",
       "      <td>기타(비영리법인)</td>\n",
       "      <td>일반기업</td>\n",
       "      <td>38110.0</td>\n",
       "      <td>지정 외 폐기물 수집, 운반업</td>\n",
       "      <td>38110</td>\n",
       "      <td>수도, 하수 및 폐기물 처리, 원료 재생업</td>\n",
       "      <td>폐기물 수집, 운반, 처리 및 원료 재생업</td>\n",
       "      <td>폐기물 수집, 운반업</td>\n",
       "      <td>지정 외 폐기물 수집, 운반업</td>\n",
       "    </tr>\n",
       "    <tr>\n",
       "      <th>5760</th>\n",
       "      <td>5093</td>\n",
       "      <td>6178200261</td>\n",
       "      <td>20210923</td>\n",
       "      <td>(재)부산정보산업***</td>\n",
       "      <td>이**</td>\n",
       "      <td>051 744 7755</td>\n",
       "      <td>051 731 6660</td>\n",
       "      <td>NaN</td>\n",
       "      <td>NaN</td>\n",
       "      <td>NaN</td>\n",
       "      <td>일반</td>\n",
       "      <td>기타(비영리법인)</td>\n",
       "      <td>일반기업</td>\n",
       "      <td>85709.0</td>\n",
       "      <td>기타 교육 지원 서비스업</td>\n",
       "      <td>85709</td>\n",
       "      <td>교육 서비스업</td>\n",
       "      <td>교육 서비스업</td>\n",
       "      <td>교육 지원 서비스업</td>\n",
       "      <td>교육 지원 서비스업</td>\n",
       "    </tr>\n",
       "    <tr>\n",
       "      <th>5781</th>\n",
       "      <td>4268</td>\n",
       "      <td>1018202106</td>\n",
       "      <td>20211229</td>\n",
       "      <td>(사)글로벌발전***</td>\n",
       "      <td>이**</td>\n",
       "      <td>7044960092</td>\n",
       "      <td>02 3349110</td>\n",
       "      <td>4002.0</td>\n",
       "      <td>서울특별시 마포구 월드컵북로5나길</td>\n",
       "      <td>9, 2층 (서교동)</td>\n",
       "      <td>일반</td>\n",
       "      <td>기타(비영리법인)</td>\n",
       "      <td>일반기업</td>\n",
       "      <td>70201.0</td>\n",
       "      <td>경제 및 경영학 연구개발업</td>\n",
       "      <td>70201</td>\n",
       "      <td>전문, 과학 및 기술 서비스업</td>\n",
       "      <td>연구개발업</td>\n",
       "      <td>인문 및 사회과학 연구개발업</td>\n",
       "      <td>인문 및 사회과학 연구개발업</td>\n",
       "    </tr>\n",
       "    <tr>\n",
       "      <th>5782</th>\n",
       "      <td>5428</td>\n",
       "      <td>2208207512</td>\n",
       "      <td>20210908</td>\n",
       "      <td>(재)중소기업미래***</td>\n",
       "      <td>박**</td>\n",
       "      <td>070-5067-0690</td>\n",
       "      <td>02-761-2559</td>\n",
       "      <td>7327.0</td>\n",
       "      <td>서울 영등포구 국제금융로 20</td>\n",
       "      <td>5층 530호 (여의도동,율촌빌딩)</td>\n",
       "      <td>일반</td>\n",
       "      <td>기타(비영리법인)</td>\n",
       "      <td>일반기업</td>\n",
       "      <td>70201.0</td>\n",
       "      <td>경제 및 경영학 연구개발업</td>\n",
       "      <td>70201</td>\n",
       "      <td>전문, 과학 및 기술 서비스업</td>\n",
       "      <td>연구개발업</td>\n",
       "      <td>인문 및 사회과학 연구개발업</td>\n",
       "      <td>인문 및 사회과학 연구개발업</td>\n",
       "    </tr>\n",
       "    <tr>\n",
       "      <th>5838</th>\n",
       "      <td>5696</td>\n",
       "      <td>1058206775</td>\n",
       "      <td>20221022</td>\n",
       "      <td>행복도시락사회적협***</td>\n",
       "      <td>최**</td>\n",
       "      <td>02-6010-6105</td>\n",
       "      <td>NaN</td>\n",
       "      <td>NaN</td>\n",
       "      <td>서울특별시 용산구 한강대로102길 12 4층 (갈월동)</td>\n",
       "      <td>NaN</td>\n",
       "      <td>일반</td>\n",
       "      <td>기타(비영리법인)</td>\n",
       "      <td>NaN</td>\n",
       "      <td>46102.0</td>\n",
       "      <td>음ㆍ식료품 및 담배 중개업</td>\n",
       "      <td>46102</td>\n",
       "      <td>도매 및 소매업</td>\n",
       "      <td>도매 및 상품 중개업</td>\n",
       "      <td>상품 중개업</td>\n",
       "      <td>상품 중개업</td>\n",
       "    </tr>\n",
       "    <tr>\n",
       "      <th>5860</th>\n",
       "      <td>6363</td>\n",
       "      <td>2028206272</td>\n",
       "      <td>20221022</td>\n",
       "      <td>우리민족서로돕***</td>\n",
       "      <td>임**</td>\n",
       "      <td>02-734-7070</td>\n",
       "      <td>NaN</td>\n",
       "      <td>NaN</td>\n",
       "      <td>서울 마포구 마포대로4나길 46, 지하1층 (마포동,덕성빌딩)</td>\n",
       "      <td>NaN</td>\n",
       "      <td>일반</td>\n",
       "      <td>기타(비영리법인)</td>\n",
       "      <td>NaN</td>\n",
       "      <td>94939.0</td>\n",
       "      <td>기타 시민운동 단체</td>\n",
       "      <td>94939</td>\n",
       "      <td>협회 및 단체, 수리 및 기타 개인 서비스업</td>\n",
       "      <td>협회 및 단체</td>\n",
       "      <td>기타 협회 및 단체</td>\n",
       "      <td>시민운동 단체</td>\n",
       "    </tr>\n",
       "    <tr>\n",
       "      <th>5873</th>\n",
       "      <td>6725</td>\n",
       "      <td>1058200006</td>\n",
       "      <td>20211201</td>\n",
       "      <td>서강대학교산학***</td>\n",
       "      <td>정**</td>\n",
       "      <td>232744846</td>\n",
       "      <td>02  705 8671</td>\n",
       "      <td>4107.0</td>\n",
       "      <td>서울특별시 마포구 백범로 35</td>\n",
       "      <td>(신수동,서강대학교)</td>\n",
       "      <td>일반</td>\n",
       "      <td>기타(비영리법인)</td>\n",
       "      <td>일반기업</td>\n",
       "      <td>75919.0</td>\n",
       "      <td>기타 사무지원 서비스업</td>\n",
       "      <td>75919</td>\n",
       "      <td>사업시설 관리, 사업 지원 및 임대 서비스업</td>\n",
       "      <td>사업 지원 서비스업</td>\n",
       "      <td>기타 사업 지원 서비스업</td>\n",
       "      <td>사무 지원 서비스업</td>\n",
       "    </tr>\n",
       "    <tr>\n",
       "      <th>5906</th>\n",
       "      <td>7655</td>\n",
       "      <td>2748206879</td>\n",
       "      <td>20221022</td>\n",
       "      <td>지파운데이션사회적협***</td>\n",
       "      <td>박**</td>\n",
       "      <td>02-6335-0100</td>\n",
       "      <td>NaN</td>\n",
       "      <td>NaN</td>\n",
       "      <td>서울특별시 마포구 월드컵북로6길 30 3층 (동교동,신원빌딩)</td>\n",
       "      <td>NaN</td>\n",
       "      <td>일반</td>\n",
       "      <td>기타(비영리법인)</td>\n",
       "      <td>NaN</td>\n",
       "      <td>46419.0</td>\n",
       "      <td>기타 생활용 섬유 및 직물제품 도매업</td>\n",
       "      <td>46419</td>\n",
       "      <td>도매 및 소매업</td>\n",
       "      <td>도매 및 상품 중개업</td>\n",
       "      <td>생활용품 도매업</td>\n",
       "      <td>생활용 섬유제품, 의복, 의복 액세서리 및 모피제품 도매업</td>\n",
       "    </tr>\n",
       "  </tbody>\n",
       "</table>\n",
       "</div>"
      ],
      "text/plain": [
       "      Unnamed: 0  BusinessNum     cmpNm               기업명    ceoNm  \\\n",
       "1050         275   1088209536  20221022         현대산업정보***      최**   \n",
       "3573        2202   6158103807  20211229         (주)장유정***      박**   \n",
       "3710          82   8728203394  20221022          한국저작권***      박**   \n",
       "3711         313   1198209415  20210908       (사)한국화학안***      지**   \n",
       "3712         523   1058209828  20221022       국제개발협력민간***      오**   \n",
       "3713         699   2768207917  20221022         컨선월드와이***  이준모외***   \n",
       "3714        1022   1248209725  20221022            인권재***      박**   \n",
       "3715        1140   2068209956  20221022       어린이와작은도서***      백**   \n",
       "3716        1512   1168206394  20211228      (사)한국정보산업***      정**   \n",
       "3717        2010   8588207928  20221022        남북보건의료교***      배**   \n",
       "3718        2209   1018206257  20210903        (재)함께일하***      송**   \n",
       "3719        2540   1058209898  20221022           중견기업***      조**   \n",
       "3720        3445   4018203710  20211201     (사)정보통신서비스***      박**   \n",
       "3721        3639   2128207832  20221022             월드투**      김**   \n",
       "3722        3642   2098206974  20220128          영상물등급***      채**   \n",
       "3723        3697   6198208700  20221022         아동복지실천***      허**   \n",
       "3724        4133   2298207780  20220128         한국사회복지***      남**   \n",
       "3725        4417   1058208718  20221022        북한이탈주민지***      정**   \n",
       "3726        4435   1028202607  20211018    (재)케이티그룹희망나***      조**   \n",
       "3727        4999   8278205863  20221022           한국역사***      김**   \n",
       "3728        5531   1058204619  20210903             (사)**      김**   \n",
       "3729        6031   1058202909  20221022          한국경영자***      손**   \n",
       "3730        6197   2018209072  20221022       서울특별시자원봉***      권**   \n",
       "3731        6495   1058200137  20221022        홍익대학교산학***      정**   \n",
       "3732        6586   1028207962  20220128         유니세프한국***      정**   \n",
       "3733        7449   1058200285  20220302        한국컨테이너풀***      서**   \n",
       "3734        7480   1198200394  20211130       (사)타이드인스***      이**   \n",
       "4436        7441   3128209817  20221022        한국산업보건연***      김**   \n",
       "4603         952   2118207227  20221022           한국출판***      김**   \n",
       "4613        2075   1028205906  20220128          한국문화원***      김**   \n",
       "5037        3407   1058200100  20221022        홍익대학교산학***      추**   \n",
       "5114         788   1208205110  20210923        (사)텔코경영***      금**   \n",
       "5286        1088   1058201494  20211201          (학)서강***      박**   \n",
       "5287        1873   6038200532  20221022          서울디지털***      강**   \n",
       "5288        5300   1058200553  20211201             서강대**      박**   \n",
       "5319        3165   1058203217  20221022             더나은**      염**   \n",
       "5394        6582   1018200478  20211130    (재)한국정보통신산업***      강**   \n",
       "5495        1814   1058209496  20220128        (복)홀트아동***      설**   \n",
       "5611        2357   1108201361  20221022        국가임상시험지***      배**   \n",
       "5612        4918   1078207462  20211018  (사)한국정보기술서비스산***      박**   \n",
       "5613        5476   2028204157  20221022         한국중견기업***      최**   \n",
       "5614        5704   1058202680  20211130    (사)한국정보방송통신***      노**   \n",
       "5628        2440   6148200106  20211228         정보통신기획***      석**   \n",
       "5629        2454   1018209128  20221022             희망제**      정**   \n",
       "5635        6538   2048204585  20221022          한국환경생***      백**   \n",
       "5680        2952   1058509139  20220302  한국중부발전(주)서울화력***      김**   \n",
       "5682        3060   1058206009  20221022        한국소프트웨어***      유**   \n",
       "5694        3218   2088206039  20221022              환경**      이**   \n",
       "5695        6575   1028209240  20221022              생명**      허**   \n",
       "5704        3272   6218207020  20221022          성보문화재***      김**   \n",
       "5708        6011   1078201068  20211018     (사)한국아이티복지***      정**   \n",
       "5760        5093   6178200261  20210923      (재)부산정보산업***      이**   \n",
       "5781        4268   1018202106  20211229       (사)글로벌발전***      이**   \n",
       "5782        5428   2208207512  20210908      (재)중소기업미래***      박**   \n",
       "5838        5696   1058206775  20221022      행복도시락사회적협***      최**   \n",
       "5860        6363   2028206272  20221022        우리민족서로돕***      임**   \n",
       "5873        6725   1058200006  20211201        서강대학교산학***      정**   \n",
       "5906        7655   2748206879  20221022     지파운데이션사회적협***      박**   \n",
       "\n",
       "              telNo      faxTelNo      zip  \\\n",
       "1050   02-3143-0041           NaN      NaN   \n",
       "3573   055 331 7456  055 331 7457  51008.0   \n",
       "3710   02-1588-0190           NaN      NaN   \n",
       "3711   031-410-2991  031-410-2994   7623.0   \n",
       "3712   02-2279-1705           NaN      NaN   \n",
       "3713    02-324-3900           NaN      NaN   \n",
       "3714    02-363-5855           NaN      NaN   \n",
       "3715    02-388-5933           NaN      NaN   \n",
       "3716   02  780 0201  02  782 1266   6221.0   \n",
       "3717    02-712-5587           NaN      NaN   \n",
       "3718   02  338 0019  02  22323516   3992.0   \n",
       "3719   02-3275-3128           NaN      NaN   \n",
       "3720   02-2088-1911  02-2088-1911   8507.0   \n",
       "3721    02-429-4044           NaN      NaN   \n",
       "3722   02  31534300  02  31534337  48058.0   \n",
       "3723            NaN           NaN      NaN   \n",
       "3724   02  719 8939  02  719 8313   4195.0   \n",
       "3725   02-3215-5851           NaN      NaN   \n",
       "3726   02  34142045  02  34143100   3154.0   \n",
       "3727    02-586-4854           NaN      NaN   \n",
       "3728   02  322 2516   02-333-6058   3996.0   \n",
       "3729   02-3270-7300           NaN      NaN   \n",
       "3730          167--           NaN      NaN   \n",
       "3731    02-201-1423           NaN      NaN   \n",
       "3732   02  737 1004  02  738 8504   4099.0   \n",
       "3733            NaN           NaN   4157.0   \n",
       "3734   02-2268-2011  02-2268-0805   3194.0   \n",
       "4436    02-326-1102           NaN      NaN   \n",
       "4603   02-3142-2333           NaN      NaN   \n",
       "4613       27042311      27042377   4158.0   \n",
       "5037    02-320-3110           NaN      NaN   \n",
       "5114   02  508 5811           NaN   6595.0   \n",
       "5286   02  705 8114  02  705 8147   4107.0   \n",
       "5287   02-2128-2561           NaN      NaN   \n",
       "5288   02  705 8114   02-718-2065   4107.0   \n",
       "5319    02-635-5858           NaN      NaN   \n",
       "5394   031-231-3410  031-269-5210  16324.0   \n",
       "5495    02-331-7051   02-331-7015   4027.0   \n",
       "5611    02-985-5032           NaN      NaN   \n",
       "5612   02  761 2060  02  761 6646   7207.0   \n",
       "5613   02-3275-0175           NaN      NaN   \n",
       "5614   02  21322100  02-2132-2110   3925.0   \n",
       "5628   042-612-8001  042-612-8809  34054.0   \n",
       "5629   02-3210-0909           NaN      NaN   \n",
       "5635  070-4194-7488           NaN      NaN   \n",
       "5680    02-320-2276   02-320-2192   4082.0   \n",
       "5682   02-2132-1234           NaN      NaN   \n",
       "5694    02-743-4747           NaN      NaN   \n",
       "5695    02-735-3232           NaN      NaN   \n",
       "5704    02-701-6830           NaN      NaN   \n",
       "5708   02-2015-3555  02-2015-3501   6373.0   \n",
       "5760   051 744 7755  051 731 6660      NaN   \n",
       "5781     7044960092    02 3349110   4002.0   \n",
       "5782  070-5067-0690   02-761-2559   7327.0   \n",
       "5838   02-6010-6105           NaN      NaN   \n",
       "5860    02-734-7070           NaN      NaN   \n",
       "5873      232744846  02  705 8671   4107.0   \n",
       "5906   02-6335-0100           NaN      NaN   \n",
       "\n",
       "                                                    adr  \\\n",
       "1050                            서울 마포구 월드컵로28길 20 (성산동)   \n",
       "3573                              경남 김해시 장유로329번길 36-17   \n",
       "3710             서울특별시 마포구 월드컵북로 400 9층 (상암동,서울산업진흥원빌딩)   \n",
       "3711                                        서울 강서구 공항대로   \n",
       "3712                       서울 마포구 독막로 282 4층 (대흥동,대흥빌딩)   \n",
       "3713                     서울 마포구 양화로11길 12 5층 (서교동,현담빌딩)   \n",
       "3714                  서울특별시 은평구 증산로 403-1 2층 (신사동,복지빌딩)   \n",
       "3715                          서울 마포구 월드컵북로5가길 8-7 (서교동)   \n",
       "3716                                    서울 강남구 테헤란로 222   \n",
       "3717                  서울특별시 마포구 큰우물로 76 413호 (도화동,고려빌딩)   \n",
       "3718                               서울특별시 마포구 월드컵북로6길 36   \n",
       "3719                     서울 마포구 독막로 279 4층 (대흥동,상장회사회관)   \n",
       "3720                                  서울특별시 금천구 가산디지털1로   \n",
       "3721                    서울특별시 마포구 토정로 296 8층 (용강동,이연빌딩)   \n",
       "3722                                    부산 해운대구 센텀서로 39   \n",
       "3723                  서울특별시 마포구 양화로7길 49 3층 (서교동,배아띠빌딩)   \n",
       "3724                                     서울 마포구 만리재로 14   \n",
       "3725       서울 마포구 새창로 7 4층,5층,14층 (도화동,서울대학교 총동창회 장학빌딩)   \n",
       "3726                                    서울 종로구 세종대로 178   \n",
       "3727            서울특별시 마포구 새창로 52 상가 213호 (도화동,도화동현대아파트)   \n",
       "3728                                서울특별시 마포구 성미산로2길 47   \n",
       "3729                                서울 마포구 백범로 88 (대흥동)   \n",
       "3730                서울 마포구 마포대로 163 3층 (공덕동,서울신용보증재단빌딩)   \n",
       "3731                               서울 마포구 와우산로 94 (상수동)   \n",
       "3732                                   서울특별시 마포구 서강로 60   \n",
       "3733                                        서울 마포구 마포대로   \n",
       "3734                                 서울특별시 종로구 청계천로 159   \n",
       "4436                           서울특별시 마포구 월드컵북로 25 (서교동)   \n",
       "4603                          서울특별시 마포구 동교로22길 44 (서교동)   \n",
       "4613                                     서울 마포구 마포대로 49   \n",
       "5037                            서울특별시 마포구 와우산로 94 (상수동)   \n",
       "5114                                  서울 서초구 법원로3길 20-7   \n",
       "5286                                      서울 마포구 백범로 35   \n",
       "5287                            서울특별시 마포구 독막로 320 (도화동)   \n",
       "5288                                      서울 마포구 백범로 35   \n",
       "5319                              서울 마포구 성미산로 120 (연남동)   \n",
       "5394                             경기도 수원시 장안구 하률로12번길 80   \n",
       "5495                                      서울 마포구 양화로 19   \n",
       "5611                  서울 마포구 마포대로 137 15층 (공덕동,케이피엑스빌딩)   \n",
       "5612                                서울특별시 영등포구 양평로25길 8   \n",
       "5613             서울특별시 마포구 독막로 279 상장회사회관 1동 4,5층 (대흥동)   \n",
       "5614                                서울특별시 마포구 월드컵북로 396   \n",
       "5628                                   대전 유성구 유성대로 1548   \n",
       "5629                              서울 마포구 월드컵북로 92 (성산동)   \n",
       "5635                   서울 마포구 월드컵로3길 36 501호 (합정동,상일빌딩)   \n",
       "5680                                         서울 마포구 토정로   \n",
       "5682  서울 마포구 월드컵북로 396, 1층 IT KOREA 전시관 (상암동,누리꿈스퀘어디...   \n",
       "5694                            서울 마포구 월드컵로26길 39 (성산동)   \n",
       "5695                       서울특별시 마포구 성미산로11길 5 5층 (성산동)   \n",
       "5704                     서울 마포구 마포대로 38 801호 (도화동,일신빌딩)   \n",
       "5708                               서울특별시 강남구 자곡로 174-10   \n",
       "5760                                                NaN   \n",
       "5781                                 서울특별시 마포구 월드컵북로5나길   \n",
       "5782                                   서울 영등포구 국제금융로 20   \n",
       "5838                     서울특별시 용산구 한강대로102길 12 4층 (갈월동)   \n",
       "5860                 서울 마포구 마포대로4나길 46, 지하1층 (마포동,덕성빌딩)   \n",
       "5873                                   서울특별시 마포구 백범로 35   \n",
       "5906                 서울특별시 마포구 월드컵북로6길 30 3층 (동교동,신원빌딩)   \n",
       "\n",
       "                              dtlAdr cmpTypNm   cmpSclNm pbcoGbNm   indCd1  \\\n",
       "1050                             NaN       일반  기타(비영리법인)      NaN  71531.0   \n",
       "3573                        1층 (신문동)       일반  기타(비영리법인)     일반기업  42322.0   \n",
       "3710                             NaN       일반  기타(비영리법인)      NaN  94990.0   \n",
       "3711                  36, 302호 (공항동)       일반  기타(비영리법인)     일반기업  94990.0   \n",
       "3712                             NaN       일반  기타(비영리법인)      NaN  94990.0   \n",
       "3713                             NaN       일반  기타(비영리법인)      NaN  94990.0   \n",
       "3714                             NaN       일반  기타(비영리법인)      NaN  94990.0   \n",
       "3715                             NaN       일반  기타(비영리법인)      NaN  94990.0   \n",
       "3716               3층, 4층 (역삼동,도원빌딩)       일반  기타(비영리법인)     일반기업  94990.0   \n",
       "3717                             NaN       일반  기타(비영리법인)      NaN  94990.0   \n",
       "3718                6층 (동교동,함께일하는사회)       일반  기타(비영리법인)     일반기업  94990.0   \n",
       "3719                             NaN       일반  기타(비영리법인)      NaN  94990.0   \n",
       "3720      142, 508호 (가산동,가산더스카이밸리1차)       일반  기타(비영리법인)     일반기업  94990.0   \n",
       "3721                             NaN       일반  기타(비영리법인)      NaN  94990.0   \n",
       "3722                            (우동)       일반  기타(비영리법인)      공기업  94990.0   \n",
       "3723                             NaN       일반  기타(비영리법인)      NaN  94990.0   \n",
       "3724  710호,711호 (공덕동,한국사회복지회관르네상스타워)       일반  기타(비영리법인)     일반기업  94990.0   \n",
       "3725                             NaN       일반  기타(비영리법인)      NaN  94990.0   \n",
       "3726          15층 (세종로,케이티광화문빌딩 웨스트)       일반  기타(비영리법인)     일반기업  94990.0   \n",
       "3727                             NaN       일반  기타(비영리법인)      NaN  94990.0   \n",
       "3728                           (서교동)       일반  기타(비영리법인)     일반기업  94990.0   \n",
       "3729                             NaN       일반  기타(비영리법인)      NaN  94990.0   \n",
       "3730                             NaN       일반  기타(비영리법인)      NaN  94990.0   \n",
       "3731                             NaN       일반  기타(비영리법인)      NaN  94990.0   \n",
       "3732                           (창전동)       일반  기타(비영리법인)     일반기업  94990.0   \n",
       "3733             63-8, 5층 (도화동,삼창빌딩)       일반  기타(비영리법인)     일반기업  94990.0   \n",
       "3734                 510호 (장사동,세운상가)       일반  기타(비영리법인)     일반기업  94990.0   \n",
       "4436                             NaN       일반  기타(비영리법인)      NaN  75999.0   \n",
       "4603                             NaN       일반  기타(비영리법인)      NaN  71310.0   \n",
       "4613                1202호 (도화동,성우빌딩)       일반  기타(비영리법인)     일반기업  71310.0   \n",
       "5037                             NaN       일반  기타(비영리법인)      NaN  71600.0   \n",
       "5114                 2층 (서초동,텔코웨어빌딩)       일반  기타(비영리법인)     일반기업  70121.0   \n",
       "5286                           (신수동)       일반  기타(비영리법인)      공기업  85302.0   \n",
       "5287                             NaN       일반  기타(비영리법인)      NaN  85302.0   \n",
       "5288                           (신수동)       일반  기타(비영리법인)      공기업  85302.0   \n",
       "5319                             NaN       일반  기타(비영리법인)      NaN  85701.0   \n",
       "5394                           (천천동)       일반  기타(비영리법인)     일반기업  70129.0   \n",
       "5495                           (합정동)       일반  기타(비영리법인)     일반기업  87131.0   \n",
       "5611                             NaN       일반  기타(비영리법인)      NaN  94110.0   \n",
       "5612              408호 (양평동5가,어반322)       일반  기타(비영리법인)     일반기업  94110.0   \n",
       "5613                             NaN       일반  기타(비영리법인)      NaN  94110.0   \n",
       "5614         903호 (상암동,누리꿈스퀘어 알엔디타워)       일반  기타(비영리법인)     일반기업  94110.0   \n",
       "5628                           (화암동)       일반  기타(비영리법인)      공기업  70209.0   \n",
       "5629                             NaN       일반  기타(비영리법인)      NaN  70209.0   \n",
       "5635                             NaN       일반  기타(비영리법인)      NaN  70209.0   \n",
       "5680             56, 1 (당인동,서울화력발전소)       외감  기타(비영리법인)     일반기업  35113.0   \n",
       "5682                             NaN       일반  기타(비영리법인)      NaN  68111.0   \n",
       "5694                             NaN       일반  기타(비영리법인)      NaN  94931.0   \n",
       "5695                             NaN       일반  기타(비영리법인)      NaN  94931.0   \n",
       "5704                             NaN       일반  기타(비영리법인)      NaN  84212.0   \n",
       "5708              613호 (자곡동,강남에이스타워)       일반  기타(비영리법인)     일반기업  38110.0   \n",
       "5760                             NaN       일반  기타(비영리법인)     일반기업  85709.0   \n",
       "5781                     9, 2층 (서교동)       일반  기타(비영리법인)     일반기업  70201.0   \n",
       "5782             5층 530호 (여의도동,율촌빌딩)       일반  기타(비영리법인)     일반기업  70201.0   \n",
       "5838                             NaN       일반  기타(비영리법인)      NaN  46102.0   \n",
       "5860                             NaN       일반  기타(비영리법인)      NaN  94939.0   \n",
       "5873                     (신수동,서강대학교)       일반  기타(비영리법인)     일반기업  75919.0   \n",
       "5906                             NaN       일반  기타(비영리법인)      NaN  46419.0   \n",
       "\n",
       "                       indNm indCd1_str                       대분류  \\\n",
       "1050                  경영컨설팅업      71531          전문, 과학 및 기술 서비스업   \n",
       "3573             내부 통신배선 공사업      42322                       건설업   \n",
       "3710          그 외 기타 협회 및 단체      94990  협회 및 단체, 수리 및 기타 개인 서비스업   \n",
       "3711          그 외 기타 협회 및 단체      94990  협회 및 단체, 수리 및 기타 개인 서비스업   \n",
       "3712          그 외 기타 협회 및 단체      94990  협회 및 단체, 수리 및 기타 개인 서비스업   \n",
       "3713          그 외 기타 협회 및 단체      94990  협회 및 단체, 수리 및 기타 개인 서비스업   \n",
       "3714          그 외 기타 협회 및 단체      94990  협회 및 단체, 수리 및 기타 개인 서비스업   \n",
       "3715          그 외 기타 협회 및 단체      94990  협회 및 단체, 수리 및 기타 개인 서비스업   \n",
       "3716          그 외 기타 협회 및 단체      94990  협회 및 단체, 수리 및 기타 개인 서비스업   \n",
       "3717          그 외 기타 협회 및 단체      94990  협회 및 단체, 수리 및 기타 개인 서비스업   \n",
       "3718          그 외 기타 협회 및 단체      94990  협회 및 단체, 수리 및 기타 개인 서비스업   \n",
       "3719          그 외 기타 협회 및 단체      94990  협회 및 단체, 수리 및 기타 개인 서비스업   \n",
       "3720          그 외 기타 협회 및 단체      94990  협회 및 단체, 수리 및 기타 개인 서비스업   \n",
       "3721          그 외 기타 협회 및 단체      94990  협회 및 단체, 수리 및 기타 개인 서비스업   \n",
       "3722          그 외 기타 협회 및 단체      94990  협회 및 단체, 수리 및 기타 개인 서비스업   \n",
       "3723          그 외 기타 협회 및 단체      94990  협회 및 단체, 수리 및 기타 개인 서비스업   \n",
       "3724          그 외 기타 협회 및 단체      94990  협회 및 단체, 수리 및 기타 개인 서비스업   \n",
       "3725          그 외 기타 협회 및 단체      94990  협회 및 단체, 수리 및 기타 개인 서비스업   \n",
       "3726          그 외 기타 협회 및 단체      94990  협회 및 단체, 수리 및 기타 개인 서비스업   \n",
       "3727          그 외 기타 협회 및 단체      94990  협회 및 단체, 수리 및 기타 개인 서비스업   \n",
       "3728          그 외 기타 협회 및 단체      94990  협회 및 단체, 수리 및 기타 개인 서비스업   \n",
       "3729          그 외 기타 협회 및 단체      94990  협회 및 단체, 수리 및 기타 개인 서비스업   \n",
       "3730          그 외 기타 협회 및 단체      94990  협회 및 단체, 수리 및 기타 개인 서비스업   \n",
       "3731          그 외 기타 협회 및 단체      94990  협회 및 단체, 수리 및 기타 개인 서비스업   \n",
       "3732          그 외 기타 협회 및 단체      94990  협회 및 단체, 수리 및 기타 개인 서비스업   \n",
       "3733          그 외 기타 협회 및 단체      94990  협회 및 단체, 수리 및 기타 개인 서비스업   \n",
       "3734          그 외 기타 협회 및 단체      94990  협회 및 단체, 수리 및 기타 개인 서비스업   \n",
       "4436  그 외 기타 분류 안된 사업지원 서비스업      75999  사업시설 관리, 사업 지원 및 임대 서비스업   \n",
       "4603                  광고 대행업      71310          전문, 과학 및 기술 서비스업   \n",
       "4613                  광고 대행업      71310          전문, 과학 및 기술 서비스업   \n",
       "5037              기타 전문 서비스업      71600          전문, 과학 및 기술 서비스업   \n",
       "5114          전기ㆍ전자공학 연구 개발업      70121          전문, 과학 및 기술 서비스업   \n",
       "5286                     대학교      85302                   교육 서비스업   \n",
       "5287                     대학교      85302                   교육 서비스업   \n",
       "5288                     대학교      85302                   교육 서비스업   \n",
       "5319          교육 관련 자문 및 평가업      85701                   교육 서비스업   \n",
       "5394             기타 공학 연구개발업      70129          전문, 과학 및 기술 서비스업   \n",
       "5495    아동 및 부녀자 거주 복지시설 운영업      87131           보건업 및 사회복지 서비스업   \n",
       "5611                   산업 단체      94110  협회 및 단체, 수리 및 기타 개인 서비스업   \n",
       "5612                   산업 단체      94110  협회 및 단체, 수리 및 기타 개인 서비스업   \n",
       "5613                   산업 단체      94110  협회 및 단체, 수리 및 기타 개인 서비스업   \n",
       "5614                   산업 단체      94110  협회 및 단체, 수리 및 기타 개인 서비스업   \n",
       "5628      기타 인문 및 사회과학 연구개발업      70209          전문, 과학 및 기술 서비스업   \n",
       "5629      기타 인문 및 사회과학 연구개발업      70209          전문, 과학 및 기술 서비스업   \n",
       "5635      기타 인문 및 사회과학 연구개발업      70209          전문, 과학 및 기술 서비스업   \n",
       "5680                  화력 발전업      35113    전기, 가스, 증기 및 공기 조절 공급업   \n",
       "5682              주거용 건물 임대업      68111                      부동산업   \n",
       "5694                 환경운동 단체      94931  협회 및 단체, 수리 및 기타 개인 서비스업   \n",
       "5695                 환경운동 단체      94931  협회 및 단체, 수리 및 기타 개인 서비스업   \n",
       "5704              문화 및 관광 행정      84212       공공 행정, 국방 및 사회보장 행정   \n",
       "5708        지정 외 폐기물 수집, 운반업      38110   수도, 하수 및 폐기물 처리, 원료 재생업   \n",
       "5760           기타 교육 지원 서비스업      85709                   교육 서비스업   \n",
       "5781          경제 및 경영학 연구개발업      70201          전문, 과학 및 기술 서비스업   \n",
       "5782          경제 및 경영학 연구개발업      70201          전문, 과학 및 기술 서비스업   \n",
       "5838          음ㆍ식료품 및 담배 중개업      46102                  도매 및 소매업   \n",
       "5860              기타 시민운동 단체      94939  협회 및 단체, 수리 및 기타 개인 서비스업   \n",
       "5873            기타 사무지원 서비스업      75919  사업시설 관리, 사업 지원 및 임대 서비스업   \n",
       "5906    기타 생활용 섬유 및 직물제품 도매업      46419                  도매 및 소매업   \n",
       "\n",
       "                          중분류                  소분류  \\\n",
       "1050                  전문 서비스업  회사 본부 및 경영 컨설팅 서비스업   \n",
       "3573                 전문직별 공사업          전기 및 통신 공사업   \n",
       "3710                  협회 및 단체           기타 협회 및 단체   \n",
       "3711                  협회 및 단체           기타 협회 및 단체   \n",
       "3712                  협회 및 단체           기타 협회 및 단체   \n",
       "3713                  협회 및 단체           기타 협회 및 단체   \n",
       "3714                  협회 및 단체           기타 협회 및 단체   \n",
       "3715                  협회 및 단체           기타 협회 및 단체   \n",
       "3716                  협회 및 단체           기타 협회 및 단체   \n",
       "3717                  협회 및 단체           기타 협회 및 단체   \n",
       "3718                  협회 및 단체           기타 협회 및 단체   \n",
       "3719                  협회 및 단체           기타 협회 및 단체   \n",
       "3720                  협회 및 단체           기타 협회 및 단체   \n",
       "3721                  협회 및 단체           기타 협회 및 단체   \n",
       "3722                  협회 및 단체           기타 협회 및 단체   \n",
       "3723                  협회 및 단체           기타 협회 및 단체   \n",
       "3724                  협회 및 단체           기타 협회 및 단체   \n",
       "3725                  협회 및 단체           기타 협회 및 단체   \n",
       "3726                  협회 및 단체           기타 협회 및 단체   \n",
       "3727                  협회 및 단체           기타 협회 및 단체   \n",
       "3728                  협회 및 단체           기타 협회 및 단체   \n",
       "3729                  협회 및 단체           기타 협회 및 단체   \n",
       "3730                  협회 및 단체           기타 협회 및 단체   \n",
       "3731                  협회 및 단체           기타 협회 및 단체   \n",
       "3732                  협회 및 단체           기타 협회 및 단체   \n",
       "3733                  협회 및 단체           기타 협회 및 단체   \n",
       "3734                  협회 및 단체           기타 협회 및 단체   \n",
       "4436               사업 지원 서비스업        기타 사업 지원 서비스업   \n",
       "4603                  전문 서비스업                  광고업   \n",
       "4613                  전문 서비스업                  광고업   \n",
       "5037                  전문 서비스업           기타 전문 서비스업   \n",
       "5114                    연구개발업      자연과학 및 공학 연구개발업   \n",
       "5286                  교육 서비스업              고등 교육기관   \n",
       "5287                  교육 서비스업              고등 교육기관   \n",
       "5288                  교육 서비스업              고등 교육기관   \n",
       "5319                  교육 서비스업           교육 지원 서비스업   \n",
       "5394                    연구개발업      자연과학 및 공학 연구개발업   \n",
       "5495                사회복지 서비스업          거주 복지시설 운영업   \n",
       "5611                  협회 및 단체          산업 및 전문가 단체   \n",
       "5612                  협회 및 단체          산업 및 전문가 단체   \n",
       "5613                  협회 및 단체          산업 및 전문가 단체   \n",
       "5614                  협회 및 단체          산업 및 전문가 단체   \n",
       "5628                    연구개발업      인문 및 사회과학 연구개발업   \n",
       "5629                    연구개발업      인문 및 사회과학 연구개발업   \n",
       "5635                    연구개발업      인문 및 사회과학 연구개발업   \n",
       "5680   전기, 가스, 증기 및 공기 조절 공급업                  전기업   \n",
       "5682                     부동산업         부동산 임대 및 공급업   \n",
       "5694                  협회 및 단체           기타 협회 및 단체   \n",
       "5695                  협회 및 단체           기타 협회 및 단체   \n",
       "5704      공공 행정, 국방 및 사회보장 행정         사회 및 산업정책 행정   \n",
       "5708  폐기물 수집, 운반, 처리 및 원료 재생업          폐기물 수집, 운반업   \n",
       "5760                  교육 서비스업           교육 지원 서비스업   \n",
       "5781                    연구개발업      인문 및 사회과학 연구개발업   \n",
       "5782                    연구개발업      인문 및 사회과학 연구개발업   \n",
       "5838              도매 및 상품 중개업               상품 중개업   \n",
       "5860                  협회 및 단체           기타 협회 및 단체   \n",
       "5873               사업 지원 서비스업        기타 사업 지원 서비스업   \n",
       "5906              도매 및 상품 중개업             생활용품 도매업   \n",
       "\n",
       "                                   세분류  \n",
       "1050               경영 컨설팅 및 공공 관계 서비스업  \n",
       "3573                            통신 공사업  \n",
       "3710                    그 외 기타 협회 및 단체  \n",
       "3711                    그 외 기타 협회 및 단체  \n",
       "3712                    그 외 기타 협회 및 단체  \n",
       "3713                    그 외 기타 협회 및 단체  \n",
       "3714                    그 외 기타 협회 및 단체  \n",
       "3715                    그 외 기타 협회 및 단체  \n",
       "3716                    그 외 기타 협회 및 단체  \n",
       "3717                    그 외 기타 협회 및 단체  \n",
       "3718                    그 외 기타 협회 및 단체  \n",
       "3719                    그 외 기타 협회 및 단체  \n",
       "3720                    그 외 기타 협회 및 단체  \n",
       "3721                    그 외 기타 협회 및 단체  \n",
       "3722                    그 외 기타 협회 및 단체  \n",
       "3723                    그 외 기타 협회 및 단체  \n",
       "3724                    그 외 기타 협회 및 단체  \n",
       "3725                    그 외 기타 협회 및 단체  \n",
       "3726                    그 외 기타 협회 및 단체  \n",
       "3727                    그 외 기타 협회 및 단체  \n",
       "3728                    그 외 기타 협회 및 단체  \n",
       "3729                    그 외 기타 협회 및 단체  \n",
       "3730                    그 외 기타 협회 및 단체  \n",
       "3731                    그 외 기타 협회 및 단체  \n",
       "3732                    그 외 기타 협회 및 단체  \n",
       "3733                    그 외 기타 협회 및 단체  \n",
       "3734                    그 외 기타 협회 및 단체  \n",
       "4436                 그 외 기타 사업 지원 서비스업  \n",
       "4603                            광고 대행업  \n",
       "4613                            광고 대행업  \n",
       "5037                        기타 전문 서비스업  \n",
       "5114                          공학 연구개발업  \n",
       "5286                           고등 교육기관  \n",
       "5287                           고등 교육기관  \n",
       "5288                           고등 교육기관  \n",
       "5319                        교육 지원 서비스업  \n",
       "5394                          공학 연구개발업  \n",
       "5495                    기타 거주 복지시설 운영업  \n",
       "5611                             산업 단체  \n",
       "5612                             산업 단체  \n",
       "5613                             산업 단체  \n",
       "5614                             산업 단체  \n",
       "5628                   인문 및 사회과학 연구개발업  \n",
       "5629                   인문 및 사회과학 연구개발업  \n",
       "5635                   인문 및 사회과학 연구개발업  \n",
       "5680                               발전업  \n",
       "5682                           부동산 임대업  \n",
       "5694                           시민운동 단체  \n",
       "5695                           시민운동 단체  \n",
       "5704                       사회서비스 관리 행정  \n",
       "5708                  지정 외 폐기물 수집, 운반업  \n",
       "5760                        교육 지원 서비스업  \n",
       "5781                   인문 및 사회과학 연구개발업  \n",
       "5782                   인문 및 사회과학 연구개발업  \n",
       "5838                            상품 중개업  \n",
       "5860                           시민운동 단체  \n",
       "5873                        사무 지원 서비스업  \n",
       "5906  생활용 섬유제품, 의복, 의복 액세서리 및 모피제품 도매업  "
      ]
     },
     "execution_count": 145,
     "metadata": {},
     "output_type": "execute_result"
    }
   ],
   "source": [
    "comp_intro_m1.loc[comp_intro_m1['cmpSclNm'] == '기타(비영리법인)']"
   ]
  },
  {
   "cell_type": "code",
   "execution_count": 146,
   "id": "5f84a101-fdef-4e6b-9431-e6a0be91f996",
   "metadata": {
    "collapsed": true
   },
   "outputs": [
    {
     "data": {
      "text/html": [
       "<div>\n",
       "<style scoped>\n",
       "    .dataframe tbody tr th:only-of-type {\n",
       "        vertical-align: middle;\n",
       "    }\n",
       "\n",
       "    .dataframe tbody tr th {\n",
       "        vertical-align: top;\n",
       "    }\n",
       "\n",
       "    .dataframe thead th {\n",
       "        text-align: right;\n",
       "    }\n",
       "</style>\n",
       "<table border=\"1\" class=\"dataframe\">\n",
       "  <thead>\n",
       "    <tr style=\"text-align: right;\">\n",
       "      <th></th>\n",
       "      <th>Unnamed: 0</th>\n",
       "      <th>BusinessNum</th>\n",
       "      <th>cmpNm</th>\n",
       "      <th>기업명</th>\n",
       "      <th>ceoNm</th>\n",
       "      <th>telNo</th>\n",
       "      <th>faxTelNo</th>\n",
       "      <th>zip</th>\n",
       "      <th>adr</th>\n",
       "      <th>dtlAdr</th>\n",
       "      <th>cmpTypNm</th>\n",
       "      <th>cmpSclNm</th>\n",
       "      <th>pbcoGbNm</th>\n",
       "      <th>indCd1</th>\n",
       "      <th>indNm</th>\n",
       "      <th>indCd1_str</th>\n",
       "      <th>대분류</th>\n",
       "      <th>중분류</th>\n",
       "      <th>소분류</th>\n",
       "      <th>세분류</th>\n",
       "    </tr>\n",
       "  </thead>\n",
       "  <tbody>\n",
       "    <tr>\n",
       "      <th>4540</th>\n",
       "      <td>373</td>\n",
       "      <td>2068103702</td>\n",
       "      <td>20210818</td>\n",
       "      <td>케이씨에이손해사정***</td>\n",
       "      <td>허**</td>\n",
       "      <td>02  450 2973</td>\n",
       "      <td>02  450 2975</td>\n",
       "      <td>4143.0</td>\n",
       "      <td>서울 마포구 마포대로 137</td>\n",
       "      <td>(공덕동)</td>\n",
       "      <td>외감</td>\n",
       "      <td>대기업(금융)</td>\n",
       "      <td>일반기업</td>\n",
       "      <td>66201.0</td>\n",
       "      <td>손해사정업</td>\n",
       "      <td>66201</td>\n",
       "      <td>금융 및 보험업</td>\n",
       "      <td>금융 및 보험관련 서비스업</td>\n",
       "      <td>보험 및 연금관련 서비스업</td>\n",
       "      <td>보험 및 연금관련 서비스업</td>\n",
       "    </tr>\n",
       "    <tr>\n",
       "      <th>5817</th>\n",
       "      <td>5245</td>\n",
       "      <td>2208702750</td>\n",
       "      <td>20210908</td>\n",
       "      <td>카카오페이증권***</td>\n",
       "      <td>김대홍외***</td>\n",
       "      <td>16008515</td>\n",
       "      <td>02  60998519</td>\n",
       "      <td>13529.0</td>\n",
       "      <td>경기 성남시 분당구 판교역로146번길 20</td>\n",
       "      <td>12층 (백현동,오피스에이치)</td>\n",
       "      <td>외감</td>\n",
       "      <td>대기업(금융)</td>\n",
       "      <td>일반기업</td>\n",
       "      <td>66121.0</td>\n",
       "      <td>증권 중개업</td>\n",
       "      <td>66121</td>\n",
       "      <td>금융 및 보험업</td>\n",
       "      <td>금융 및 보험관련 서비스업</td>\n",
       "      <td>금융 지원 서비스업</td>\n",
       "      <td>증권 및 선물 중개업</td>\n",
       "    </tr>\n",
       "  </tbody>\n",
       "</table>\n",
       "</div>"
      ],
      "text/plain": [
       "      Unnamed: 0  BusinessNum     cmpNm           기업명    ceoNm         telNo  \\\n",
       "4540         373   2068103702  20210818  케이씨에이손해사정***      허**  02  450 2973   \n",
       "5817        5245   2208702750  20210908    카카오페이증권***  김대홍외***      16008515   \n",
       "\n",
       "          faxTelNo      zip                      adr            dtlAdr  \\\n",
       "4540  02  450 2975   4143.0          서울 마포구 마포대로 137             (공덕동)   \n",
       "5817  02  60998519  13529.0  경기 성남시 분당구 판교역로146번길 20  12층 (백현동,오피스에이치)   \n",
       "\n",
       "     cmpTypNm cmpSclNm pbcoGbNm   indCd1   indNm indCd1_str       대분류  \\\n",
       "4540       외감  대기업(금융)     일반기업  66201.0   손해사정업      66201  금융 및 보험업   \n",
       "5817       외감  대기업(금융)     일반기업  66121.0  증권 중개업      66121  금융 및 보험업   \n",
       "\n",
       "                 중분류             소분류             세분류  \n",
       "4540  금융 및 보험관련 서비스업  보험 및 연금관련 서비스업  보험 및 연금관련 서비스업  \n",
       "5817  금융 및 보험관련 서비스업      금융 지원 서비스업     증권 및 선물 중개업  "
      ]
     },
     "execution_count": 146,
     "metadata": {},
     "output_type": "execute_result"
    }
   ],
   "source": [
    "comp_intro_m1.loc[comp_intro_m1['cmpSclNm'] == '대기업(금융)']"
   ]
  },
  {
   "cell_type": "code",
   "execution_count": 18,
   "id": "ada57bf5-ceee-4205-8950-60e2e8666376",
   "metadata": {
    "collapsed": true
   },
   "outputs": [
    {
     "data": {
      "text/html": [
       "<div>\n",
       "<style scoped>\n",
       "    .dataframe tbody tr th:only-of-type {\n",
       "        vertical-align: middle;\n",
       "    }\n",
       "\n",
       "    .dataframe tbody tr th {\n",
       "        vertical-align: top;\n",
       "    }\n",
       "\n",
       "    .dataframe thead th {\n",
       "        text-align: right;\n",
       "    }\n",
       "</style>\n",
       "<table border=\"1\" class=\"dataframe\">\n",
       "  <thead>\n",
       "    <tr style=\"text-align: right;\">\n",
       "      <th></th>\n",
       "      <th>Unnamed: 0</th>\n",
       "      <th>BusinessNum</th>\n",
       "      <th>cmpNm</th>\n",
       "      <th>기업명</th>\n",
       "      <th>ceoNm</th>\n",
       "      <th>telNo</th>\n",
       "      <th>faxTelNo</th>\n",
       "      <th>zip</th>\n",
       "      <th>adr</th>\n",
       "      <th>dtlAdr</th>\n",
       "      <th>cmpTypNm</th>\n",
       "      <th>cmpSclNm</th>\n",
       "      <th>pbcoGbNm</th>\n",
       "      <th>indCd1</th>\n",
       "      <th>indNm</th>\n",
       "      <th>indCd1_str</th>\n",
       "      <th>대분류</th>\n",
       "      <th>중분류</th>\n",
       "      <th>소분류</th>\n",
       "      <th>세분류</th>\n",
       "    </tr>\n",
       "  </thead>\n",
       "  <tbody>\n",
       "    <tr>\n",
       "      <th>3722</th>\n",
       "      <td>3642</td>\n",
       "      <td>2098206974</td>\n",
       "      <td>20220128</td>\n",
       "      <td>영상물등급***</td>\n",
       "      <td>채**</td>\n",
       "      <td>02  31534300</td>\n",
       "      <td>02  31534337</td>\n",
       "      <td>48058.0</td>\n",
       "      <td>부산 해운대구 센텀서로 39</td>\n",
       "      <td>(우동)</td>\n",
       "      <td>일반</td>\n",
       "      <td>기타(비영리법인)</td>\n",
       "      <td>공기업</td>\n",
       "      <td>94990.0</td>\n",
       "      <td>그 외 기타 협회 및 단체</td>\n",
       "      <td>94990</td>\n",
       "      <td>협회 및 단체, 수리 및 기타 개인 서비스업(94~96)</td>\n",
       "      <td>협회 및 단체</td>\n",
       "      <td>기타 협회 및 단체</td>\n",
       "      <td>그 외 기타 협회 및 단체</td>\n",
       "    </tr>\n",
       "    <tr>\n",
       "      <th>5286</th>\n",
       "      <td>1088</td>\n",
       "      <td>1058201494</td>\n",
       "      <td>20211201</td>\n",
       "      <td>(학)서강***</td>\n",
       "      <td>박**</td>\n",
       "      <td>02  705 8114</td>\n",
       "      <td>02  705 8147</td>\n",
       "      <td>4107.0</td>\n",
       "      <td>서울 마포구 백범로 35</td>\n",
       "      <td>(신수동)</td>\n",
       "      <td>일반</td>\n",
       "      <td>기타(비영리법인)</td>\n",
       "      <td>공기업</td>\n",
       "      <td>85302.0</td>\n",
       "      <td>대학교</td>\n",
       "      <td>85302</td>\n",
       "      <td>교육 서비스업(85)</td>\n",
       "      <td>교육 서비스업</td>\n",
       "      <td>고등 교육기관</td>\n",
       "      <td>고등 교육기관</td>\n",
       "    </tr>\n",
       "    <tr>\n",
       "      <th>5288</th>\n",
       "      <td>5300</td>\n",
       "      <td>1058200553</td>\n",
       "      <td>20211201</td>\n",
       "      <td>서강대**</td>\n",
       "      <td>박**</td>\n",
       "      <td>02  705 8114</td>\n",
       "      <td>02-718-2065</td>\n",
       "      <td>4107.0</td>\n",
       "      <td>서울 마포구 백범로 35</td>\n",
       "      <td>(신수동)</td>\n",
       "      <td>일반</td>\n",
       "      <td>기타(비영리법인)</td>\n",
       "      <td>공기업</td>\n",
       "      <td>85302.0</td>\n",
       "      <td>대학교</td>\n",
       "      <td>85302</td>\n",
       "      <td>교육 서비스업(85)</td>\n",
       "      <td>교육 서비스업</td>\n",
       "      <td>고등 교육기관</td>\n",
       "      <td>고등 교육기관</td>\n",
       "    </tr>\n",
       "    <tr>\n",
       "      <th>5628</th>\n",
       "      <td>2440</td>\n",
       "      <td>6148200106</td>\n",
       "      <td>20211228</td>\n",
       "      <td>정보통신기획***</td>\n",
       "      <td>석**</td>\n",
       "      <td>042-612-8001</td>\n",
       "      <td>042-612-8809</td>\n",
       "      <td>34054.0</td>\n",
       "      <td>대전 유성구 유성대로 1548</td>\n",
       "      <td>(화암동)</td>\n",
       "      <td>일반</td>\n",
       "      <td>기타(비영리법인)</td>\n",
       "      <td>공기업</td>\n",
       "      <td>70209.0</td>\n",
       "      <td>기타 인문 및 사회과학 연구개발업</td>\n",
       "      <td>70209</td>\n",
       "      <td>전문, 과학 및 기술 서비스업(70~73)</td>\n",
       "      <td>연구개발업</td>\n",
       "      <td>인문 및 사회과학 연구개발업</td>\n",
       "      <td>인문 및 사회과학 연구개발업</td>\n",
       "    </tr>\n",
       "  </tbody>\n",
       "</table>\n",
       "</div>"
      ],
      "text/plain": [
       "      Unnamed: 0  BusinessNum     cmpNm        기업명 ceoNm         telNo  \\\n",
       "3722        3642   2098206974  20220128   영상물등급***   채**  02  31534300   \n",
       "5286        1088   1058201494  20211201   (학)서강***   박**  02  705 8114   \n",
       "5288        5300   1058200553  20211201      서강대**   박**  02  705 8114   \n",
       "5628        2440   6148200106  20211228  정보통신기획***   석**  042-612-8001   \n",
       "\n",
       "          faxTelNo      zip               adr dtlAdr cmpTypNm   cmpSclNm  \\\n",
       "3722  02  31534337  48058.0   부산 해운대구 센텀서로 39   (우동)       일반  기타(비영리법인)   \n",
       "5286  02  705 8147   4107.0     서울 마포구 백범로 35  (신수동)       일반  기타(비영리법인)   \n",
       "5288   02-718-2065   4107.0     서울 마포구 백범로 35  (신수동)       일반  기타(비영리법인)   \n",
       "5628  042-612-8809  34054.0  대전 유성구 유성대로 1548  (화암동)       일반  기타(비영리법인)   \n",
       "\n",
       "     pbcoGbNm   indCd1               indNm indCd1_str  \\\n",
       "3722      공기업  94990.0      그 외 기타 협회 및 단체      94990   \n",
       "5286      공기업  85302.0                 대학교      85302   \n",
       "5288      공기업  85302.0                 대학교      85302   \n",
       "5628      공기업  70209.0  기타 인문 및 사회과학 연구개발업      70209   \n",
       "\n",
       "                                  대분류      중분류              소분류  \\\n",
       "3722  협회 및 단체, 수리 및 기타 개인 서비스업(94~96)  협회 및 단체       기타 협회 및 단체   \n",
       "5286                      교육 서비스업(85)  교육 서비스업          고등 교육기관   \n",
       "5288                      교육 서비스업(85)  교육 서비스업          고등 교육기관   \n",
       "5628          전문, 과학 및 기술 서비스업(70~73)    연구개발업  인문 및 사회과학 연구개발업   \n",
       "\n",
       "                  세분류  \n",
       "3722   그 외 기타 협회 및 단체  \n",
       "5286          고등 교육기관  \n",
       "5288          고등 교육기관  \n",
       "5628  인문 및 사회과학 연구개발업  "
      ]
     },
     "execution_count": 18,
     "metadata": {},
     "output_type": "execute_result"
    }
   ],
   "source": [
    "comp_intro_m1.loc[comp_intro_m1['pbcoGbNm'] == '공기업']"
   ]
  },
  {
   "cell_type": "markdown",
   "id": "5a8fe78d-1a13-42cb-92c2-481e2dc5ecfd",
   "metadata": {
    "jp-MarkdownHeadingCollapsed": true
   },
   "source": [
    "# 산업분야별 매출액 대표값 차이 유무"
   ]
  },
  {
   "cell_type": "code",
   "execution_count": 28,
   "id": "372abc99-27f7-4801-8ba2-cd9d1498c052",
   "metadata": {},
   "outputs": [
    {
     "data": {
      "text/html": [
       "<div>\n",
       "<style scoped>\n",
       "    .dataframe tbody tr th:only-of-type {\n",
       "        vertical-align: middle;\n",
       "    }\n",
       "\n",
       "    .dataframe tbody tr th {\n",
       "        vertical-align: top;\n",
       "    }\n",
       "\n",
       "    .dataframe thead th {\n",
       "        text-align: right;\n",
       "    }\n",
       "</style>\n",
       "<table border=\"1\" class=\"dataframe\">\n",
       "  <thead>\n",
       "    <tr style=\"text-align: right;\">\n",
       "      <th></th>\n",
       "      <th>Unnamed: 0</th>\n",
       "      <th>BusinessNum</th>\n",
       "      <th>stYear</th>\n",
       "      <th>stNm</th>\n",
       "      <th>acctCd</th>\n",
       "      <th>accNm</th>\n",
       "      <th>acctAmt</th>\n",
       "    </tr>\n",
       "  </thead>\n",
       "  <tbody>\n",
       "    <tr>\n",
       "      <th>0</th>\n",
       "      <td>0</td>\n",
       "      <td>1051505526</td>\n",
       "      <td>NaN</td>\n",
       "      <td>NaN</td>\n",
       "      <td>NaN</td>\n",
       "      <td>NaN</td>\n",
       "      <td>NaN</td>\n",
       "    </tr>\n",
       "    <tr>\n",
       "      <th>1</th>\n",
       "      <td>1</td>\n",
       "      <td>2118605035</td>\n",
       "      <td>2017.0</td>\n",
       "      <td>재무상태표</td>\n",
       "      <td>M11000</td>\n",
       "      <td>유동자산</td>\n",
       "      <td>9440422.000</td>\n",
       "    </tr>\n",
       "    <tr>\n",
       "      <th>2</th>\n",
       "      <td>2</td>\n",
       "      <td>2118605035</td>\n",
       "      <td>2017.0</td>\n",
       "      <td>재무상태표</td>\n",
       "      <td>M11100</td>\n",
       "      <td>당좌자산</td>\n",
       "      <td>9358829.000</td>\n",
       "    </tr>\n",
       "    <tr>\n",
       "      <th>3</th>\n",
       "      <td>3</td>\n",
       "      <td>2118605035</td>\n",
       "      <td>2017.0</td>\n",
       "      <td>재무상태표</td>\n",
       "      <td>M11130</td>\n",
       "      <td>매출채권</td>\n",
       "      <td>1934474.000</td>\n",
       "    </tr>\n",
       "    <tr>\n",
       "      <th>4</th>\n",
       "      <td>4</td>\n",
       "      <td>2118605035</td>\n",
       "      <td>2017.0</td>\n",
       "      <td>재무상태표</td>\n",
       "      <td>M11500</td>\n",
       "      <td>재고자산</td>\n",
       "      <td>81593.000</td>\n",
       "    </tr>\n",
       "    <tr>\n",
       "      <th>...</th>\n",
       "      <td>...</td>\n",
       "      <td>...</td>\n",
       "      <td>...</td>\n",
       "      <td>...</td>\n",
       "      <td>...</td>\n",
       "      <td>...</td>\n",
       "      <td>...</td>\n",
       "    </tr>\n",
       "    <tr>\n",
       "      <th>888629</th>\n",
       "      <td>888629</td>\n",
       "      <td>6138108916</td>\n",
       "      <td>2021.0</td>\n",
       "      <td>성장성지표</td>\n",
       "      <td>MA1600</td>\n",
       "      <td>매출 증가율</td>\n",
       "      <td>-4.190</td>\n",
       "    </tr>\n",
       "    <tr>\n",
       "      <th>888630</th>\n",
       "      <td>888630</td>\n",
       "      <td>6138108916</td>\n",
       "      <td>2021.0</td>\n",
       "      <td>성장성지표</td>\n",
       "      <td>MA5100</td>\n",
       "      <td>총자산</td>\n",
       "      <td>3618115.000</td>\n",
       "    </tr>\n",
       "    <tr>\n",
       "      <th>888631</th>\n",
       "      <td>888631</td>\n",
       "      <td>6138108916</td>\n",
       "      <td>2021.0</td>\n",
       "      <td>성장성지표</td>\n",
       "      <td>MA5300</td>\n",
       "      <td>자기자본</td>\n",
       "      <td>2511720.000</td>\n",
       "    </tr>\n",
       "    <tr>\n",
       "      <th>888632</th>\n",
       "      <td>888632</td>\n",
       "      <td>6138108916</td>\n",
       "      <td>2021.0</td>\n",
       "      <td>성장성지표</td>\n",
       "      <td>MA5900</td>\n",
       "      <td>차입금</td>\n",
       "      <td>0.000</td>\n",
       "    </tr>\n",
       "    <tr>\n",
       "      <th>888633</th>\n",
       "      <td>888633</td>\n",
       "      <td>6138108916</td>\n",
       "      <td>2021.0</td>\n",
       "      <td>안정성지표</td>\n",
       "      <td>MC1100</td>\n",
       "      <td>유동비율</td>\n",
       "      <td>273.352</td>\n",
       "    </tr>\n",
       "  </tbody>\n",
       "</table>\n",
       "<p>888634 rows × 7 columns</p>\n",
       "</div>"
      ],
      "text/plain": [
       "        Unnamed: 0  BusinessNum  stYear   stNm  acctCd   accNm      acctAmt\n",
       "0                0   1051505526     NaN    NaN     NaN     NaN          NaN\n",
       "1                1   2118605035  2017.0  재무상태표  M11000    유동자산  9440422.000\n",
       "2                2   2118605035  2017.0  재무상태표  M11100    당좌자산  9358829.000\n",
       "3                3   2118605035  2017.0  재무상태표  M11130    매출채권  1934474.000\n",
       "4                4   2118605035  2017.0  재무상태표  M11500    재고자산    81593.000\n",
       "...            ...          ...     ...    ...     ...     ...          ...\n",
       "888629      888629   6138108916  2021.0  성장성지표  MA1600  매출 증가율       -4.190\n",
       "888630      888630   6138108916  2021.0  성장성지표  MA5100     총자산  3618115.000\n",
       "888631      888631   6138108916  2021.0  성장성지표  MA5300    자기자본  2511720.000\n",
       "888632      888632   6138108916  2021.0  성장성지표  MA5900     차입금        0.000\n",
       "888633      888633   6138108916  2021.0  안정성지표  MC1100    유동비율      273.352\n",
       "\n",
       "[888634 rows x 7 columns]"
      ]
     },
     "execution_count": 28,
     "metadata": {},
     "output_type": "execute_result"
    }
   ],
   "source": [
    "comp_finance"
   ]
  },
  {
   "cell_type": "code",
   "execution_count": 33,
   "id": "9a4d79be-7c66-480a-9de9-c97295f8386d",
   "metadata": {},
   "outputs": [],
   "source": [
    "pv1 = comp_finance.pivot_table(index=['BusinessNum','accNm'] , values='acctAmt', aggfunc='mean').reset_index()\n",
    "df_sales = pv1.loc[pv1['accNm'] == '매출액']"
   ]
  },
  {
   "cell_type": "code",
   "execution_count": 47,
   "id": "78506662",
   "metadata": {},
   "outputs": [],
   "source": [
    "pv1 = comp_finance.pivot_table(index=['BusinessNum','accNm'] , values='acctAmt', aggfunc='median').reset_index()\n",
    "df_sales = pv1.loc[pv1['accNm'] == '매출액']"
   ]
  },
  {
   "cell_type": "code",
   "execution_count": 48,
   "id": "011bbe2f-64fb-43cd-a877-794312398aa9",
   "metadata": {},
   "outputs": [],
   "source": [
    "comp_intro_m2 = pd.merge(comp_intro_m1, df_sales, on='BusinessNum')"
   ]
  },
  {
   "cell_type": "code",
   "execution_count": 49,
   "id": "df10d735-c27e-43f3-8bce-06480a834a32",
   "metadata": {},
   "outputs": [
    {
     "data": {
      "text/plain": [
       "NormaltestResult(statistic=17488.058927123275, pvalue=0.0)"
      ]
     },
     "execution_count": 49,
     "metadata": {},
     "output_type": "execute_result"
    }
   ],
   "source": [
    "# 귀무가설 : 정규성을 따른다 \n",
    "# 대립가설 : 정규성을 따르지 않는다.\n",
    "stats.normaltest(comp_intro_m2['acctAmt']) # < 0.05 -> 귀무가설 기각"
   ]
  },
  {
   "cell_type": "code",
   "execution_count": 50,
   "id": "8a73d28a-d10f-42fd-ae17-0e10c68c4477",
   "metadata": {},
   "outputs": [
    {
     "data": {
      "text/plain": [
       "KruskalResult(statistic=368.84662732417524, pvalue=2.793367790403717e-67)"
      ]
     },
     "execution_count": 50,
     "metadata": {},
     "output_type": "execute_result"
    }
   ],
   "source": [
    "# 귀무가설 : 대분류별 중앙값 차이없다\n",
    "# 대립가설 : 대분류별 중앙값 차이있다\n",
    "grouped_data = [comp_intro_m2[comp_intro_m2['대분류'] == group]['acctAmt'] for group in comp_intro_m2['대분류'].unique()]\n",
    "stats.kruskal(*grouped_data)"
   ]
  },
  {
   "cell_type": "code",
   "execution_count": 33,
   "id": "9bd1015b-39ef-47e7-a8e4-887bd8a97026",
   "metadata": {},
   "outputs": [
    {
     "data": {
      "text/html": [
       "<div>\n",
       "<style scoped>\n",
       "    .dataframe tbody tr th:only-of-type {\n",
       "        vertical-align: middle;\n",
       "    }\n",
       "\n",
       "    .dataframe tbody tr th {\n",
       "        vertical-align: top;\n",
       "    }\n",
       "\n",
       "    .dataframe thead th {\n",
       "        text-align: right;\n",
       "    }\n",
       "</style>\n",
       "<table border=\"1\" class=\"dataframe\">\n",
       "  <thead>\n",
       "    <tr style=\"text-align: right;\">\n",
       "      <th></th>\n",
       "      <th>Unnamed: 0</th>\n",
       "      <th>BusinessNum</th>\n",
       "      <th>stYear</th>\n",
       "      <th>stNm</th>\n",
       "      <th>acctCd</th>\n",
       "      <th>accNm</th>\n",
       "      <th>acctAmt</th>\n",
       "    </tr>\n",
       "  </thead>\n",
       "  <tbody>\n",
       "    <tr>\n",
       "      <th>0</th>\n",
       "      <td>0</td>\n",
       "      <td>1051505526</td>\n",
       "      <td>NaN</td>\n",
       "      <td>NaN</td>\n",
       "      <td>NaN</td>\n",
       "      <td>NaN</td>\n",
       "      <td>NaN</td>\n",
       "    </tr>\n",
       "    <tr>\n",
       "      <th>1</th>\n",
       "      <td>1</td>\n",
       "      <td>2118605035</td>\n",
       "      <td>2017.0</td>\n",
       "      <td>재무상태표</td>\n",
       "      <td>M11000</td>\n",
       "      <td>유동자산</td>\n",
       "      <td>9440422.000</td>\n",
       "    </tr>\n",
       "    <tr>\n",
       "      <th>2</th>\n",
       "      <td>2</td>\n",
       "      <td>2118605035</td>\n",
       "      <td>2017.0</td>\n",
       "      <td>재무상태표</td>\n",
       "      <td>M11100</td>\n",
       "      <td>당좌자산</td>\n",
       "      <td>9358829.000</td>\n",
       "    </tr>\n",
       "    <tr>\n",
       "      <th>3</th>\n",
       "      <td>3</td>\n",
       "      <td>2118605035</td>\n",
       "      <td>2017.0</td>\n",
       "      <td>재무상태표</td>\n",
       "      <td>M11130</td>\n",
       "      <td>매출채권</td>\n",
       "      <td>1934474.000</td>\n",
       "    </tr>\n",
       "    <tr>\n",
       "      <th>4</th>\n",
       "      <td>4</td>\n",
       "      <td>2118605035</td>\n",
       "      <td>2017.0</td>\n",
       "      <td>재무상태표</td>\n",
       "      <td>M11500</td>\n",
       "      <td>재고자산</td>\n",
       "      <td>81593.000</td>\n",
       "    </tr>\n",
       "    <tr>\n",
       "      <th>...</th>\n",
       "      <td>...</td>\n",
       "      <td>...</td>\n",
       "      <td>...</td>\n",
       "      <td>...</td>\n",
       "      <td>...</td>\n",
       "      <td>...</td>\n",
       "      <td>...</td>\n",
       "    </tr>\n",
       "    <tr>\n",
       "      <th>888629</th>\n",
       "      <td>888629</td>\n",
       "      <td>6138108916</td>\n",
       "      <td>2021.0</td>\n",
       "      <td>성장성지표</td>\n",
       "      <td>MA1600</td>\n",
       "      <td>매출 증가율</td>\n",
       "      <td>-4.190</td>\n",
       "    </tr>\n",
       "    <tr>\n",
       "      <th>888630</th>\n",
       "      <td>888630</td>\n",
       "      <td>6138108916</td>\n",
       "      <td>2021.0</td>\n",
       "      <td>성장성지표</td>\n",
       "      <td>MA5100</td>\n",
       "      <td>총자산</td>\n",
       "      <td>3618115.000</td>\n",
       "    </tr>\n",
       "    <tr>\n",
       "      <th>888631</th>\n",
       "      <td>888631</td>\n",
       "      <td>6138108916</td>\n",
       "      <td>2021.0</td>\n",
       "      <td>성장성지표</td>\n",
       "      <td>MA5300</td>\n",
       "      <td>자기자본</td>\n",
       "      <td>2511720.000</td>\n",
       "    </tr>\n",
       "    <tr>\n",
       "      <th>888632</th>\n",
       "      <td>888632</td>\n",
       "      <td>6138108916</td>\n",
       "      <td>2021.0</td>\n",
       "      <td>성장성지표</td>\n",
       "      <td>MA5900</td>\n",
       "      <td>차입금</td>\n",
       "      <td>0.000</td>\n",
       "    </tr>\n",
       "    <tr>\n",
       "      <th>888633</th>\n",
       "      <td>888633</td>\n",
       "      <td>6138108916</td>\n",
       "      <td>2021.0</td>\n",
       "      <td>안정성지표</td>\n",
       "      <td>MC1100</td>\n",
       "      <td>유동비율</td>\n",
       "      <td>273.352</td>\n",
       "    </tr>\n",
       "  </tbody>\n",
       "</table>\n",
       "<p>888634 rows × 7 columns</p>\n",
       "</div>"
      ],
      "text/plain": [
       "        Unnamed: 0  BusinessNum  stYear   stNm  acctCd   accNm      acctAmt\n",
       "0                0   1051505526     NaN    NaN     NaN     NaN          NaN\n",
       "1                1   2118605035  2017.0  재무상태표  M11000    유동자산  9440422.000\n",
       "2                2   2118605035  2017.0  재무상태표  M11100    당좌자산  9358829.000\n",
       "3                3   2118605035  2017.0  재무상태표  M11130    매출채권  1934474.000\n",
       "4                4   2118605035  2017.0  재무상태표  M11500    재고자산    81593.000\n",
       "...            ...          ...     ...    ...     ...     ...          ...\n",
       "888629      888629   6138108916  2021.0  성장성지표  MA1600  매출 증가율       -4.190\n",
       "888630      888630   6138108916  2021.0  성장성지표  MA5100     총자산  3618115.000\n",
       "888631      888631   6138108916  2021.0  성장성지표  MA5300    자기자본  2511720.000\n",
       "888632      888632   6138108916  2021.0  성장성지표  MA5900     차입금        0.000\n",
       "888633      888633   6138108916  2021.0  안정성지표  MC1100    유동비율      273.352\n",
       "\n",
       "[888634 rows x 7 columns]"
      ]
     },
     "execution_count": 33,
     "metadata": {},
     "output_type": "execute_result"
    }
   ],
   "source": [
    "comp_finance"
   ]
  },
  {
   "cell_type": "markdown",
   "id": "4c7f3e90-e04d-4dd9-896c-7f643a7a2278",
   "metadata": {},
   "source": [
    "# 설립연도일 포함된 회사정보"
   ]
  },
  {
   "cell_type": "code",
   "execution_count": 6,
   "id": "acb88f1a-9468-424e-a75b-9366f012d8a8",
   "metadata": {},
   "outputs": [
    {
     "name": "stdout",
     "output_type": "stream",
     "text": [
      "<class 'pandas.core.frame.DataFrame'>\n",
      "RangeIndex: 9881 entries, 0 to 9880\n",
      "Data columns (total 20 columns):\n",
      " #   Column      Non-Null Count  Dtype  \n",
      "---  ------      --------------  -----  \n",
      " 0   Unnamed: 0  9881 non-null   int64  \n",
      " 1   사업자등록번호     9881 non-null   int64  \n",
      " 2   Unnamed: 2  0 non-null      float64\n",
      " 3   기업명         9881 non-null   object \n",
      " 4   기업영문명       8998 non-null   object \n",
      " 5   대표자명        9881 non-null   object \n",
      " 6   종업원수        9274 non-null   float64\n",
      " 7   종업원수기준년월    9217 non-null   object \n",
      " 8   산업분류코드      9851 non-null   float64\n",
      " 9   산업분류코드설명    9849 non-null   object \n",
      " 10  기업규모        9881 non-null   object \n",
      " 11  기업형태        9881 non-null   object \n",
      " 12  업태명         8658 non-null   object \n",
      " 13  설립일         9412 non-null   float64\n",
      " 14  이메일주소       4076 non-null   object \n",
      " 15  전화번호        9330 non-null   object \n",
      " 16  팩스전화번호      7868 non-null   object \n",
      " 17  우편번호        9011 non-null   float64\n",
      " 18  주소          9797 non-null   object \n",
      " 19  상세주보        9157 non-null   object \n",
      "dtypes: float64(5), int64(2), object(13)\n",
      "memory usage: 1.5+ MB\n"
     ]
    }
   ],
   "source": [
    "comp_spe_intro.info()"
   ]
  },
  {
   "cell_type": "code",
   "execution_count": 17,
   "id": "130aab39-c47b-44a8-bc31-314e1963841f",
   "metadata": {},
   "outputs": [
    {
     "data": {
      "text/html": [
       "<div>\n",
       "<style scoped>\n",
       "    .dataframe tbody tr th:only-of-type {\n",
       "        vertical-align: middle;\n",
       "    }\n",
       "\n",
       "    .dataframe tbody tr th {\n",
       "        vertical-align: top;\n",
       "    }\n",
       "\n",
       "    .dataframe thead th {\n",
       "        text-align: right;\n",
       "    }\n",
       "</style>\n",
       "<table border=\"1\" class=\"dataframe\">\n",
       "  <thead>\n",
       "    <tr style=\"text-align: right;\">\n",
       "      <th></th>\n",
       "      <th>Unnamed: 0</th>\n",
       "      <th>사업자등록번호</th>\n",
       "      <th>Unnamed: 2</th>\n",
       "      <th>기업명</th>\n",
       "      <th>기업영문명</th>\n",
       "      <th>대표자명</th>\n",
       "      <th>종업원수</th>\n",
       "      <th>종업원수기준년월</th>\n",
       "      <th>산업분류코드</th>\n",
       "      <th>산업분류코드설명</th>\n",
       "      <th>기업규모</th>\n",
       "      <th>기업형태</th>\n",
       "      <th>업태명</th>\n",
       "      <th>설립일</th>\n",
       "      <th>이메일주소</th>\n",
       "      <th>전화번호</th>\n",
       "      <th>팩스전화번호</th>\n",
       "      <th>우편번호</th>\n",
       "      <th>주소</th>\n",
       "      <th>상세주보</th>\n",
       "    </tr>\n",
       "  </thead>\n",
       "  <tbody>\n",
       "    <tr>\n",
       "      <th>0</th>\n",
       "      <td>0</td>\n",
       "      <td>1050508965</td>\n",
       "      <td>NaN</td>\n",
       "      <td>크린토**</td>\n",
       "      <td>Cleanto***</td>\n",
       "      <td>강**</td>\n",
       "      <td>NaN</td>\n",
       "      <td>NaN</td>\n",
       "      <td>96910</td>\n",
       "      <td>세탁업</td>\n",
       "      <td>중소기업</td>\n",
       "      <td>폐업</td>\n",
       "      <td>기타서비스업</td>\n",
       "      <td>NaN</td>\n",
       "      <td>NaN</td>\n",
       "      <td>NaN</td>\n",
       "      <td>NaN</td>\n",
       "      <td>3998.0</td>\n",
       "      <td>서울 마포구 동교로17길</td>\n",
       "      <td>91, 1층 (성산동)</td>\n",
       "    </tr>\n",
       "    <tr>\n",
       "      <th>1</th>\n",
       "      <td>1</td>\n",
       "      <td>1010204456</td>\n",
       "      <td>NaN</td>\n",
       "      <td>씨앤피비즈***</td>\n",
       "      <td>C&amp;P BIZ SOLUT***</td>\n",
       "      <td>함**</td>\n",
       "      <td>5.0</td>\n",
       "      <td>Jun-21</td>\n",
       "      <td>46510</td>\n",
       "      <td>컴퓨터 및 주변장치, 소프트웨어 도매업</td>\n",
       "      <td>중소기업</td>\n",
       "      <td>일반</td>\n",
       "      <td>도소매/서비스/소매/제조업/통신업</td>\n",
       "      <td>20000414.0</td>\n",
       "      <td>djham29@hanmail.net</td>\n",
       "      <td>02-334-0349</td>\n",
       "      <td>02-338-0349</td>\n",
       "      <td>3966.0</td>\n",
       "      <td>서울 마포구 월드컵북로 137</td>\n",
       "      <td>(성산동,C.S타워 B3호)</td>\n",
       "    </tr>\n",
       "    <tr>\n",
       "      <th>2</th>\n",
       "      <td>2</td>\n",
       "      <td>1048107174</td>\n",
       "      <td>NaN</td>\n",
       "      <td>(주)씨트랜***</td>\n",
       "      <td>SEATRANS SHIPPING CO.,***</td>\n",
       "      <td>주**</td>\n",
       "      <td>12.0</td>\n",
       "      <td>Dec-20</td>\n",
       "      <td>50130</td>\n",
       "      <td>기타 해상 운송업</td>\n",
       "      <td>중소기업</td>\n",
       "      <td>일반</td>\n",
       "      <td>도매업/서비스</td>\n",
       "      <td>20010222.0</td>\n",
       "      <td>NaN</td>\n",
       "      <td>02-322-4890</td>\n",
       "      <td>02-322-4891</td>\n",
       "      <td>4031.0</td>\n",
       "      <td>서울 마포구 월드컵북로1길 26-16</td>\n",
       "      <td>2층 (서교동,G-Art)</td>\n",
       "    </tr>\n",
       "    <tr>\n",
       "      <th>3</th>\n",
       "      <td>3</td>\n",
       "      <td>1018102731</td>\n",
       "      <td>NaN</td>\n",
       "      <td>(주)파***</td>\n",
       "      <td>Power PT Co., L***</td>\n",
       "      <td>이**</td>\n",
       "      <td>18.0</td>\n",
       "      <td>Mar-19</td>\n",
       "      <td>73203</td>\n",
       "      <td>시각 디자인업</td>\n",
       "      <td>중소기업</td>\n",
       "      <td>일반</td>\n",
       "      <td>서비스외</td>\n",
       "      <td>20030909.0</td>\n",
       "      <td>account@powerpt.co.kr</td>\n",
       "      <td>02  733 8209</td>\n",
       "      <td>02  733 8205</td>\n",
       "      <td>4172.0</td>\n",
       "      <td>서울 마포구 삼개로 27</td>\n",
       "      <td>2층 (도화동)</td>\n",
       "    </tr>\n",
       "    <tr>\n",
       "      <th>4</th>\n",
       "      <td>4</td>\n",
       "      <td>1018606595</td>\n",
       "      <td>NaN</td>\n",
       "      <td>(주)에이치제이디벨***</td>\n",
       "      <td>HJ Development Co., L***</td>\n",
       "      <td>홍**</td>\n",
       "      <td>3.0</td>\n",
       "      <td>Dec-20</td>\n",
       "      <td>68122</td>\n",
       "      <td>비주거용 건물 개발 및 공급업</td>\n",
       "      <td>중소기업</td>\n",
       "      <td>외감</td>\n",
       "      <td>서비스 외</td>\n",
       "      <td>20090520.0</td>\n",
       "      <td>NaN</td>\n",
       "      <td>02  718 7844</td>\n",
       "      <td>02  721 5550</td>\n",
       "      <td>4174.0</td>\n",
       "      <td>서울특별시 마포구 마포대로 34</td>\n",
       "      <td>(도화동)</td>\n",
       "    </tr>\n",
       "    <tr>\n",
       "      <th>5</th>\n",
       "      <td>5</td>\n",
       "      <td>1018609361</td>\n",
       "      <td>NaN</td>\n",
       "      <td>(주)제인디엠씨***</td>\n",
       "      <td>JaneDMC Korea Co., L***</td>\n",
       "      <td>한**</td>\n",
       "      <td>19.0</td>\n",
       "      <td>Apr-20</td>\n",
       "      <td>75210</td>\n",
       "      <td>여행사업</td>\n",
       "      <td>중소기업</td>\n",
       "      <td>일반</td>\n",
       "      <td>도매/도매 및 소매업/사업시설관리 및 사업지원서비스업/서비스/전문, 과학 및 기술서비스업</td>\n",
       "      <td>20060103.0</td>\n",
       "      <td>darling@janetour.com</td>\n",
       "      <td>02  720 7506</td>\n",
       "      <td>02  720 7502</td>\n",
       "      <td>4209.0</td>\n",
       "      <td>서울특별시 마포구 만리재로 51</td>\n",
       "      <td>4층 (신공덕동)</td>\n",
       "    </tr>\n",
       "    <tr>\n",
       "      <th>6</th>\n",
       "      <td>6</td>\n",
       "      <td>1018606703</td>\n",
       "      <td>NaN</td>\n",
       "      <td>(주)에포크미디어***</td>\n",
       "      <td>Epoch Media Korea I***</td>\n",
       "      <td>정**</td>\n",
       "      <td>18.0</td>\n",
       "      <td>Dec-21</td>\n",
       "      <td>59120</td>\n",
       "      <td>영화, 비디오물 및 방송 프로그램 제작 관련 서비스업</td>\n",
       "      <td>중소기업</td>\n",
       "      <td>일반</td>\n",
       "      <td>서비스/정보통신업</td>\n",
       "      <td>20130424.0</td>\n",
       "      <td>NaN</td>\n",
       "      <td>02-732-8608</td>\n",
       "      <td>02-732-8609</td>\n",
       "      <td>4146.0</td>\n",
       "      <td>서울 마포구 마포대로 109</td>\n",
       "      <td>N동 34층 3403호 (공덕동,롯데캐슬프레지던트)</td>\n",
       "    </tr>\n",
       "    <tr>\n",
       "      <th>7</th>\n",
       "      <td>7</td>\n",
       "      <td>1048106371</td>\n",
       "      <td>NaN</td>\n",
       "      <td>(주)래딕스글***</td>\n",
       "      <td>RADIXGLOBIZ CO.,L***</td>\n",
       "      <td>조**</td>\n",
       "      <td>25.0</td>\n",
       "      <td>Jun-21</td>\n",
       "      <td>46320</td>\n",
       "      <td>가공식품 도매업</td>\n",
       "      <td>중소기업</td>\n",
       "      <td>일반</td>\n",
       "      <td>도．소매/도매/부동산/서비스</td>\n",
       "      <td>19970801.0</td>\n",
       "      <td>jwjung@theradix.co.kr</td>\n",
       "      <td>02-706-8715</td>\n",
       "      <td>02-737-2077</td>\n",
       "      <td>4168.0</td>\n",
       "      <td>서울 마포구 마포대로 86</td>\n",
       "      <td>8층 (도화동,창강빌딩)</td>\n",
       "    </tr>\n",
       "    <tr>\n",
       "      <th>8</th>\n",
       "      <td>8</td>\n",
       "      <td>1048104500</td>\n",
       "      <td>NaN</td>\n",
       "      <td>아라마크***</td>\n",
       "      <td>Aramark Co., L***</td>\n",
       "      <td>심성호외***</td>\n",
       "      <td>789.0</td>\n",
       "      <td>Mar-21</td>\n",
       "      <td>56130</td>\n",
       "      <td>기관 구내식당업</td>\n",
       "      <td>중견기업</td>\n",
       "      <td>외감</td>\n",
       "      <td>도매/소매/음식</td>\n",
       "      <td>19930701.0</td>\n",
       "      <td>hong-sh@arakor.co.kr</td>\n",
       "      <td>02  32788000</td>\n",
       "      <td>02  778 9380</td>\n",
       "      <td>4143.0</td>\n",
       "      <td>서울 마포구 마포대로 137</td>\n",
       "      <td>8층 (공덕동)</td>\n",
       "    </tr>\n",
       "    <tr>\n",
       "      <th>9</th>\n",
       "      <td>9</td>\n",
       "      <td>1010109319</td>\n",
       "      <td>NaN</td>\n",
       "      <td>드림오**</td>\n",
       "      <td>dream off***</td>\n",
       "      <td>박**</td>\n",
       "      <td>1.0</td>\n",
       "      <td>Jun-20</td>\n",
       "      <td>46800</td>\n",
       "      <td>상품 종합 도매업</td>\n",
       "      <td>중소기업</td>\n",
       "      <td>일반</td>\n",
       "      <td>도매,소매</td>\n",
       "      <td>20020501.0</td>\n",
       "      <td>NaN</td>\n",
       "      <td>02 336 5351</td>\n",
       "      <td>02 336 5344</td>\n",
       "      <td>4030.0</td>\n",
       "      <td>서울 마포구 동교로 150</td>\n",
       "      <td>(서교동)</td>\n",
       "    </tr>\n",
       "  </tbody>\n",
       "</table>\n",
       "</div>"
      ],
      "text/plain": [
       "   Unnamed: 0     사업자등록번호  Unnamed: 2            기업명  \\\n",
       "0           0  1050508965         NaN          크린토**   \n",
       "1           1  1010204456         NaN       씨앤피비즈***   \n",
       "2           2  1048107174         NaN      (주)씨트랜***   \n",
       "3           3  1018102731         NaN        (주)파***   \n",
       "4           4  1018606595         NaN  (주)에이치제이디벨***   \n",
       "5           5  1018609361         NaN    (주)제인디엠씨***   \n",
       "6           6  1018606703         NaN   (주)에포크미디어***   \n",
       "7           7  1048106371         NaN     (주)래딕스글***   \n",
       "8           8  1048104500         NaN        아라마크***   \n",
       "9           9  1010109319         NaN          드림오**   \n",
       "\n",
       "                       기업영문명     대표자명   종업원수 종업원수기준년월 산업분류코드  \\\n",
       "0                 Cleanto***      강**    NaN      NaN  96910   \n",
       "1           C&P BIZ SOLUT***      함**    5.0   Jun-21  46510   \n",
       "2  SEATRANS SHIPPING CO.,***      주**   12.0   Dec-20  50130   \n",
       "3         Power PT Co., L***      이**   18.0   Mar-19  73203   \n",
       "4   HJ Development Co., L***      홍**    3.0   Dec-20  68122   \n",
       "5    JaneDMC Korea Co., L***      한**   19.0   Apr-20  75210   \n",
       "6     Epoch Media Korea I***      정**   18.0   Dec-21  59120   \n",
       "7       RADIXGLOBIZ CO.,L***      조**   25.0   Jun-21  46320   \n",
       "8          Aramark Co., L***  심성호외***  789.0   Mar-21  56130   \n",
       "9               dream off***      박**    1.0   Jun-20  46800   \n",
       "\n",
       "                        산업분류코드설명  기업규모 기업형태  \\\n",
       "0                            세탁업  중소기업   폐업   \n",
       "1          컴퓨터 및 주변장치, 소프트웨어 도매업  중소기업   일반   \n",
       "2                      기타 해상 운송업  중소기업   일반   \n",
       "3                        시각 디자인업  중소기업   일반   \n",
       "4               비주거용 건물 개발 및 공급업  중소기업   외감   \n",
       "5                           여행사업  중소기업   일반   \n",
       "6  영화, 비디오물 및 방송 프로그램 제작 관련 서비스업  중소기업   일반   \n",
       "7                       가공식품 도매업  중소기업   일반   \n",
       "8                       기관 구내식당업  중견기업   외감   \n",
       "9                      상품 종합 도매업  중소기업   일반   \n",
       "\n",
       "                                                 업태명         설립일  \\\n",
       "0                                             기타서비스업         NaN   \n",
       "1                                 도소매/서비스/소매/제조업/통신업  20000414.0   \n",
       "2                                            도매업/서비스  20010222.0   \n",
       "3                                               서비스외  20030909.0   \n",
       "4                                              서비스 외  20090520.0   \n",
       "5  도매/도매 및 소매업/사업시설관리 및 사업지원서비스업/서비스/전문, 과학 및 기술서비스업  20060103.0   \n",
       "6                                          서비스/정보통신업  20130424.0   \n",
       "7                                    도．소매/도매/부동산/서비스  19970801.0   \n",
       "8                                           도매/소매/음식  19930701.0   \n",
       "9                                              도매,소매  20020501.0   \n",
       "\n",
       "                   이메일주소          전화번호        팩스전화번호    우편번호  \\\n",
       "0                    NaN           NaN           NaN  3998.0   \n",
       "1    djham29@hanmail.net   02-334-0349   02-338-0349  3966.0   \n",
       "2                    NaN   02-322-4890   02-322-4891  4031.0   \n",
       "3  account@powerpt.co.kr  02  733 8209  02  733 8205  4172.0   \n",
       "4                    NaN  02  718 7844  02  721 5550  4174.0   \n",
       "5   darling@janetour.com  02  720 7506  02  720 7502  4209.0   \n",
       "6                    NaN   02-732-8608   02-732-8609  4146.0   \n",
       "7  jwjung@theradix.co.kr   02-706-8715   02-737-2077  4168.0   \n",
       "8   hong-sh@arakor.co.kr  02  32788000  02  778 9380  4143.0   \n",
       "9                    NaN   02 336 5351   02 336 5344  4030.0   \n",
       "\n",
       "                     주소                          상세주보  \n",
       "0         서울 마포구 동교로17길                  91, 1층 (성산동)  \n",
       "1      서울 마포구 월드컵북로 137               (성산동,C.S타워 B3호)  \n",
       "2  서울 마포구 월드컵북로1길 26-16                2층 (서교동,G-Art)  \n",
       "3         서울 마포구 삼개로 27                      2층 (도화동)  \n",
       "4     서울특별시 마포구 마포대로 34                         (도화동)  \n",
       "5     서울특별시 마포구 만리재로 51                     4층 (신공덕동)  \n",
       "6       서울 마포구 마포대로 109  N동 34층 3403호 (공덕동,롯데캐슬프레지던트)  \n",
       "7        서울 마포구 마포대로 86                 8층 (도화동,창강빌딩)  \n",
       "8       서울 마포구 마포대로 137                      8층 (공덕동)  \n",
       "9        서울 마포구 동교로 150                         (서교동)  "
      ]
     },
     "execution_count": 17,
     "metadata": {},
     "output_type": "execute_result"
    }
   ],
   "source": [
    "comp_spe_intro.head(10)"
   ]
  },
  {
   "cell_type": "code",
   "execution_count": 7,
   "id": "ad3fa1d9-5a90-4531-bd54-939cafaf9e1a",
   "metadata": {},
   "outputs": [],
   "source": [
    "comp_spe_intro['설립일_dt'] = pd.to_datetime(comp_spe_intro['설립일'].apply(dot_split))\n",
    "comp_spe_intro['설립일_year'] = comp_spe_intro['설립일_dt'].dt.year"
   ]
  },
  {
   "cell_type": "code",
   "execution_count": 11,
   "id": "4d251c54-d600-4fd6-b758-f6982787a7d7",
   "metadata": {},
   "outputs": [],
   "source": [
    "comp_spe_intro['산업분류코드'] = comp_spe_intro['산업분류코드'].apply(dot_split)"
   ]
  },
  {
   "cell_type": "code",
   "execution_count": 12,
   "id": "43ea13ae-8b34-4c48-b628-c08302467afd",
   "metadata": {},
   "outputs": [
    {
     "name": "stdout",
     "output_type": "stream",
     "text": [
      "<class 'pandas.core.frame.DataFrame'>\n",
      "RangeIndex: 7490 entries, 0 to 7489\n",
      "Data columns (total 25 columns):\n",
      " #   Column      Non-Null Count  Dtype  \n",
      "---  ------      --------------  -----  \n",
      " 0   Unnamed: 0  7490 non-null   int64  \n",
      " 1   사업자등록번호     7490 non-null   int64  \n",
      " 2   Unnamed: 2  0 non-null      float64\n",
      " 3   기업명         7490 non-null   object \n",
      " 4   기업영문명       6846 non-null   object \n",
      " 5   대표자명        7490 non-null   object \n",
      " 6   종업원수        7116 non-null   float64\n",
      " 7   종업원수기준년월    7074 non-null   object \n",
      " 8   산업분류코드      7490 non-null   object \n",
      " 9   산업분류코드설명    7489 non-null   object \n",
      " 10  기업규모        7490 non-null   object \n",
      " 11  기업형태        7490 non-null   object \n",
      " 12  업태명         6348 non-null   object \n",
      " 13  설립일         7248 non-null   float64\n",
      " 14  이메일주소       2945 non-null   object \n",
      " 15  전화번호        7099 non-null   object \n",
      " 16  팩스전화번호      5999 non-null   object \n",
      " 17  우편번호        6898 non-null   float64\n",
      " 18  주소          7447 non-null   object \n",
      " 19  상세주보        7010 non-null   object \n",
      " 20  대분류         7490 non-null   object \n",
      " 21  중분류         7490 non-null   object \n",
      " 22  소분류         7490 non-null   object \n",
      " 23  세분류         7490 non-null   object \n",
      " 24  indCd1_str  7490 non-null   object \n",
      "dtypes: float64(4), int64(2), object(19)\n",
      "memory usage: 1.4+ MB\n"
     ]
    }
   ],
   "source": [
    "comp_spe_intro = pd.merge(comp_spe_intro,df_industry_small,left_on='산업분류코드', right_on='indCd1_str')\n",
    "comp_spe_intro.info()"
   ]
  },
  {
   "cell_type": "code",
   "execution_count": 13,
   "id": "16e187ae-108c-4f7b-8af3-1a9da8bf517d",
   "metadata": {},
   "outputs": [
    {
     "data": {
      "text/plain": [
       "대분류\n",
       "정보통신업                       2665\n",
       "건설업                         2515\n",
       "도매 및 소매업                     889\n",
       "제조업                          668\n",
       "전문, 과학 및 기술 서비스업             285\n",
       "사업시설 관리, 사업 지원 및 임대 서비스업     131\n",
       "협회 및 단체, 수리 및 기타 개인 서비스업      67\n",
       "부동산업                          64\n",
       "운수 및 창고업                      54\n",
       "금융 및 보험업                      40\n",
       "교육 서비스업                       37\n",
       "숙박 및 음식점업                     34\n",
       "예술, 스포츠 및 여가관련 서비스업           14\n",
       "보건업 및 사회복지 서비스업               11\n",
       "수도, 하수 및 폐기물 처리, 원료 재생업        7\n",
       "전기, 가스, 증기 및 공기 조절 공급업         5\n",
       "농업, 임업 및 어업                    2\n",
       "공공 행정, 국방 및 사회보장 행정            1\n",
       "광업                             1\n",
       "Name: count, dtype: int64"
      ]
     },
     "execution_count": 13,
     "metadata": {},
     "output_type": "execute_result"
    }
   ],
   "source": [
    "comp_spe_intro['대분류'].value_counts()"
   ]
  },
  {
   "cell_type": "code",
   "execution_count": 18,
   "id": "4faad7e2-b708-4ca7-8b2b-c88be4191668",
   "metadata": {},
   "outputs": [],
   "source": [
    "df1 = comp_spe_intro.loc[comp_spe_intro['대분류'] == '정보통신업']\n",
    "df2 = comp_spe_intro.loc[comp_spe_intro['대분류'] == '건설업']\n",
    "df3 = comp_spe_intro.loc[comp_spe_intro['대분류'] == '도매 및 소매업']\n",
    "df4 = comp_spe_intro.loc[comp_spe_intro['대분류'] == '제조업']\n",
    "df5 = comp_spe_intro.loc[comp_spe_intro['대분류'] == '전문, 과학 및 기술 서비스업']"
   ]
  },
  {
   "cell_type": "code",
   "execution_count": 19,
   "id": "e586153b-1d33-4c18-aed5-29f90cccdc02",
   "metadata": {},
   "outputs": [
    {
     "name": "stdout",
     "output_type": "stream",
     "text": [
      "(2665, 27)\n",
      "(2515, 27)\n",
      "(889, 27)\n",
      "(668, 27)\n",
      "(285, 27)\n"
     ]
    }
   ],
   "source": [
    "print(df1.shape)\n",
    "print(df2.shape)\n",
    "print(df3.shape)\n",
    "print(df4.shape)\n",
    "print(df5.shape)"
   ]
  },
  {
   "cell_type": "code",
   "execution_count": 20,
   "id": "15dcfa28-dd68-47ed-8d77-52ff0c8dcd01",
   "metadata": {},
   "outputs": [],
   "source": [
    "df1.to_csv('정보통신업.csv')\n",
    "df2.to_csv('건설업.csv')\n",
    "df3.to_csv('도매 및 소매업.csv')\n",
    "df4.to_csv('제조업.csv')\n",
    "df5.to_csv('전문, 과학 및 기술 서비스업.csv')"
   ]
  },
  {
   "cell_type": "code",
   "execution_count": 17,
   "id": "a10aae5f-e296-47bf-a063-149011a413ee",
   "metadata": {},
   "outputs": [],
   "source": [
    "df6 = comp_spe_intro.loc[comp_spe_intro['대분류'].isin(['정보통신업','건설업','도매 및 소매업','제조업','전문, 과학 및 기술 서비스업'])]\n",
    "df6.to_csv('top5.csv')"
   ]
  },
  {
   "cell_type": "code",
   "execution_count": 18,
   "id": "2c8d5506-2931-46d7-a2b5-2cb79a67c378",
   "metadata": {},
   "outputs": [
    {
     "ename": "NameError",
     "evalue": "name 'm1' is not defined",
     "output_type": "error",
     "traceback": [
      "\u001b[1;31m---------------------------------------------------------------------------\u001b[0m",
      "\u001b[1;31mNameError\u001b[0m                                 Traceback (most recent call last)",
      "Cell \u001b[1;32mIn[18], line 1\u001b[0m\n\u001b[1;32m----> 1\u001b[0m m1\u001b[38;5;241m.\u001b[39mhead(\u001b[38;5;241m10\u001b[39m)\n",
      "\u001b[1;31mNameError\u001b[0m: name 'm1' is not defined"
     ]
    }
   ],
   "source": [
    "m1.head(10)"
   ]
  },
  {
   "cell_type": "code",
   "execution_count": 28,
   "id": "e351febc-60db-47f0-a6c0-6759828e1498",
   "metadata": {},
   "outputs": [
    {
     "data": {
      "text/html": [
       "<div>\n",
       "<style scoped>\n",
       "    .dataframe tbody tr th:only-of-type {\n",
       "        vertical-align: middle;\n",
       "    }\n",
       "\n",
       "    .dataframe tbody tr th {\n",
       "        vertical-align: top;\n",
       "    }\n",
       "\n",
       "    .dataframe thead th {\n",
       "        text-align: right;\n",
       "    }\n",
       "</style>\n",
       "<table border=\"1\" class=\"dataframe\">\n",
       "  <thead>\n",
       "    <tr style=\"text-align: right;\">\n",
       "      <th></th>\n",
       "      <th>대분류</th>\n",
       "      <th>설립일_year</th>\n",
       "      <th>count</th>\n",
       "    </tr>\n",
       "  </thead>\n",
       "  <tbody>\n",
       "    <tr>\n",
       "      <th>0</th>\n",
       "      <td>건설업</td>\n",
       "      <td>1939.0</td>\n",
       "      <td>1</td>\n",
       "    </tr>\n",
       "    <tr>\n",
       "      <th>1</th>\n",
       "      <td>건설업</td>\n",
       "      <td>1951.0</td>\n",
       "      <td>1</td>\n",
       "    </tr>\n",
       "    <tr>\n",
       "      <th>2</th>\n",
       "      <td>건설업</td>\n",
       "      <td>1956.0</td>\n",
       "      <td>1</td>\n",
       "    </tr>\n",
       "    <tr>\n",
       "      <th>3</th>\n",
       "      <td>건설업</td>\n",
       "      <td>1957.0</td>\n",
       "      <td>1</td>\n",
       "    </tr>\n",
       "    <tr>\n",
       "      <th>4</th>\n",
       "      <td>건설업</td>\n",
       "      <td>1959.0</td>\n",
       "      <td>1</td>\n",
       "    </tr>\n",
       "    <tr>\n",
       "      <th>...</th>\n",
       "      <td>...</td>\n",
       "      <td>...</td>\n",
       "      <td>...</td>\n",
       "    </tr>\n",
       "    <tr>\n",
       "      <th>439</th>\n",
       "      <td>협회 및 단체, 수리 및 기타 개인 서비스업</td>\n",
       "      <td>2015.0</td>\n",
       "      <td>6</td>\n",
       "    </tr>\n",
       "    <tr>\n",
       "      <th>440</th>\n",
       "      <td>협회 및 단체, 수리 및 기타 개인 서비스업</td>\n",
       "      <td>2016.0</td>\n",
       "      <td>5</td>\n",
       "    </tr>\n",
       "    <tr>\n",
       "      <th>441</th>\n",
       "      <td>협회 및 단체, 수리 및 기타 개인 서비스업</td>\n",
       "      <td>2017.0</td>\n",
       "      <td>1</td>\n",
       "    </tr>\n",
       "    <tr>\n",
       "      <th>442</th>\n",
       "      <td>협회 및 단체, 수리 및 기타 개인 서비스업</td>\n",
       "      <td>2018.0</td>\n",
       "      <td>3</td>\n",
       "    </tr>\n",
       "    <tr>\n",
       "      <th>443</th>\n",
       "      <td>협회 및 단체, 수리 및 기타 개인 서비스업</td>\n",
       "      <td>2019.0</td>\n",
       "      <td>1</td>\n",
       "    </tr>\n",
       "  </tbody>\n",
       "</table>\n",
       "<p>444 rows × 3 columns</p>\n",
       "</div>"
      ],
      "text/plain": [
       "                          대분류  설립일_year  count\n",
       "0                         건설업    1939.0      1\n",
       "1                         건설업    1951.0      1\n",
       "2                         건설업    1956.0      1\n",
       "3                         건설업    1957.0      1\n",
       "4                         건설업    1959.0      1\n",
       "..                        ...       ...    ...\n",
       "439  협회 및 단체, 수리 및 기타 개인 서비스업    2015.0      6\n",
       "440  협회 및 단체, 수리 및 기타 개인 서비스업    2016.0      5\n",
       "441  협회 및 단체, 수리 및 기타 개인 서비스업    2017.0      1\n",
       "442  협회 및 단체, 수리 및 기타 개인 서비스업    2018.0      3\n",
       "443  협회 및 단체, 수리 및 기타 개인 서비스업    2019.0      1\n",
       "\n",
       "[444 rows x 3 columns]"
      ]
     },
     "execution_count": 28,
     "metadata": {},
     "output_type": "execute_result"
    }
   ],
   "source": [
    "p1 = m1.pivot_table(index=['대분류','설립일_year'], values='count', aggfunc='sum').reset_index()\n",
    "p1"
   ]
  },
  {
   "cell_type": "code",
   "execution_count": 43,
   "id": "e578f6f1-6ce0-4a0b-9294-9ea68d977952",
   "metadata": {},
   "outputs": [
    {
     "data": {
      "application/vnd.plotly.v1+json": {
       "config": {
        "plotlyServerURL": "https://plot.ly"
       },
       "data": [
        {
         "alignmentgroup": "True",
         "bingroup": "x",
         "histfunc": "sum",
         "hovertemplate": "설립일_year=%{x}<br>sum of count=%{y}<extra></extra>",
         "legendgroup": "",
         "marker": {
          "color": "#636efa",
          "pattern": {
           "shape": ""
          }
         },
         "name": "",
         "offsetgroup": "",
         "orientation": "v",
         "showlegend": false,
         "type": "histogram",
         "x": [
          1920,
          1945,
          1946,
          1948,
          1961,
          1962,
          1964,
          1969,
          1971,
          1972,
          1974,
          1977,
          1979,
          1980,
          1981,
          1982,
          1985,
          1986,
          1987,
          1988,
          1989,
          1990,
          1991,
          1992,
          1993,
          1994,
          1995,
          1996,
          1997,
          1998,
          1999,
          2000,
          2001,
          2002,
          2003,
          2004,
          2005,
          2006,
          2007,
          2008,
          2009,
          2010,
          2011,
          2012,
          2013,
          2014,
          2015,
          2016,
          2017,
          2018,
          2019,
          2020,
          2021
         ],
         "xaxis": "x",
         "y": [
          1,
          2,
          1,
          1,
          1,
          1,
          1,
          1,
          2,
          1,
          1,
          3,
          1,
          1,
          1,
          1,
          1,
          2,
          2,
          2,
          5,
          2,
          11,
          10,
          8,
          10,
          21,
          17,
          17,
          20,
          48,
          84,
          49,
          41,
          62,
          48,
          59,
          64,
          46,
          41,
          75,
          93,
          117,
          151,
          168,
          182,
          239,
          267,
          239,
          248,
          143,
          32,
          4
         ],
         "yaxis": "y"
        }
       ],
       "layout": {
        "autosize": true,
        "barmode": "relative",
        "legend": {
         "tracegroupgap": 0
        },
        "margin": {
         "t": 60
        },
        "template": {
         "data": {
          "bar": [
           {
            "error_x": {
             "color": "#2a3f5f"
            },
            "error_y": {
             "color": "#2a3f5f"
            },
            "marker": {
             "line": {
              "color": "#E5ECF6",
              "width": 0.5
             },
             "pattern": {
              "fillmode": "overlay",
              "size": 10,
              "solidity": 0.2
             }
            },
            "type": "bar"
           }
          ],
          "barpolar": [
           {
            "marker": {
             "line": {
              "color": "#E5ECF6",
              "width": 0.5
             },
             "pattern": {
              "fillmode": "overlay",
              "size": 10,
              "solidity": 0.2
             }
            },
            "type": "barpolar"
           }
          ],
          "carpet": [
           {
            "aaxis": {
             "endlinecolor": "#2a3f5f",
             "gridcolor": "white",
             "linecolor": "white",
             "minorgridcolor": "white",
             "startlinecolor": "#2a3f5f"
            },
            "baxis": {
             "endlinecolor": "#2a3f5f",
             "gridcolor": "white",
             "linecolor": "white",
             "minorgridcolor": "white",
             "startlinecolor": "#2a3f5f"
            },
            "type": "carpet"
           }
          ],
          "choropleth": [
           {
            "colorbar": {
             "outlinewidth": 0,
             "ticks": ""
            },
            "type": "choropleth"
           }
          ],
          "contour": [
           {
            "colorbar": {
             "outlinewidth": 0,
             "ticks": ""
            },
            "colorscale": [
             [
              0,
              "#0d0887"
             ],
             [
              0.1111111111111111,
              "#46039f"
             ],
             [
              0.2222222222222222,
              "#7201a8"
             ],
             [
              0.3333333333333333,
              "#9c179e"
             ],
             [
              0.4444444444444444,
              "#bd3786"
             ],
             [
              0.5555555555555556,
              "#d8576b"
             ],
             [
              0.6666666666666666,
              "#ed7953"
             ],
             [
              0.7777777777777778,
              "#fb9f3a"
             ],
             [
              0.8888888888888888,
              "#fdca26"
             ],
             [
              1,
              "#f0f921"
             ]
            ],
            "type": "contour"
           }
          ],
          "contourcarpet": [
           {
            "colorbar": {
             "outlinewidth": 0,
             "ticks": ""
            },
            "type": "contourcarpet"
           }
          ],
          "heatmap": [
           {
            "colorbar": {
             "outlinewidth": 0,
             "ticks": ""
            },
            "colorscale": [
             [
              0,
              "#0d0887"
             ],
             [
              0.1111111111111111,
              "#46039f"
             ],
             [
              0.2222222222222222,
              "#7201a8"
             ],
             [
              0.3333333333333333,
              "#9c179e"
             ],
             [
              0.4444444444444444,
              "#bd3786"
             ],
             [
              0.5555555555555556,
              "#d8576b"
             ],
             [
              0.6666666666666666,
              "#ed7953"
             ],
             [
              0.7777777777777778,
              "#fb9f3a"
             ],
             [
              0.8888888888888888,
              "#fdca26"
             ],
             [
              1,
              "#f0f921"
             ]
            ],
            "type": "heatmap"
           }
          ],
          "heatmapgl": [
           {
            "colorbar": {
             "outlinewidth": 0,
             "ticks": ""
            },
            "colorscale": [
             [
              0,
              "#0d0887"
             ],
             [
              0.1111111111111111,
              "#46039f"
             ],
             [
              0.2222222222222222,
              "#7201a8"
             ],
             [
              0.3333333333333333,
              "#9c179e"
             ],
             [
              0.4444444444444444,
              "#bd3786"
             ],
             [
              0.5555555555555556,
              "#d8576b"
             ],
             [
              0.6666666666666666,
              "#ed7953"
             ],
             [
              0.7777777777777778,
              "#fb9f3a"
             ],
             [
              0.8888888888888888,
              "#fdca26"
             ],
             [
              1,
              "#f0f921"
             ]
            ],
            "type": "heatmapgl"
           }
          ],
          "histogram": [
           {
            "marker": {
             "pattern": {
              "fillmode": "overlay",
              "size": 10,
              "solidity": 0.2
             }
            },
            "type": "histogram"
           }
          ],
          "histogram2d": [
           {
            "colorbar": {
             "outlinewidth": 0,
             "ticks": ""
            },
            "colorscale": [
             [
              0,
              "#0d0887"
             ],
             [
              0.1111111111111111,
              "#46039f"
             ],
             [
              0.2222222222222222,
              "#7201a8"
             ],
             [
              0.3333333333333333,
              "#9c179e"
             ],
             [
              0.4444444444444444,
              "#bd3786"
             ],
             [
              0.5555555555555556,
              "#d8576b"
             ],
             [
              0.6666666666666666,
              "#ed7953"
             ],
             [
              0.7777777777777778,
              "#fb9f3a"
             ],
             [
              0.8888888888888888,
              "#fdca26"
             ],
             [
              1,
              "#f0f921"
             ]
            ],
            "type": "histogram2d"
           }
          ],
          "histogram2dcontour": [
           {
            "colorbar": {
             "outlinewidth": 0,
             "ticks": ""
            },
            "colorscale": [
             [
              0,
              "#0d0887"
             ],
             [
              0.1111111111111111,
              "#46039f"
             ],
             [
              0.2222222222222222,
              "#7201a8"
             ],
             [
              0.3333333333333333,
              "#9c179e"
             ],
             [
              0.4444444444444444,
              "#bd3786"
             ],
             [
              0.5555555555555556,
              "#d8576b"
             ],
             [
              0.6666666666666666,
              "#ed7953"
             ],
             [
              0.7777777777777778,
              "#fb9f3a"
             ],
             [
              0.8888888888888888,
              "#fdca26"
             ],
             [
              1,
              "#f0f921"
             ]
            ],
            "type": "histogram2dcontour"
           }
          ],
          "mesh3d": [
           {
            "colorbar": {
             "outlinewidth": 0,
             "ticks": ""
            },
            "type": "mesh3d"
           }
          ],
          "parcoords": [
           {
            "line": {
             "colorbar": {
              "outlinewidth": 0,
              "ticks": ""
             }
            },
            "type": "parcoords"
           }
          ],
          "pie": [
           {
            "automargin": true,
            "type": "pie"
           }
          ],
          "scatter": [
           {
            "fillpattern": {
             "fillmode": "overlay",
             "size": 10,
             "solidity": 0.2
            },
            "type": "scatter"
           }
          ],
          "scatter3d": [
           {
            "line": {
             "colorbar": {
              "outlinewidth": 0,
              "ticks": ""
             }
            },
            "marker": {
             "colorbar": {
              "outlinewidth": 0,
              "ticks": ""
             }
            },
            "type": "scatter3d"
           }
          ],
          "scattercarpet": [
           {
            "marker": {
             "colorbar": {
              "outlinewidth": 0,
              "ticks": ""
             }
            },
            "type": "scattercarpet"
           }
          ],
          "scattergeo": [
           {
            "marker": {
             "colorbar": {
              "outlinewidth": 0,
              "ticks": ""
             }
            },
            "type": "scattergeo"
           }
          ],
          "scattergl": [
           {
            "marker": {
             "colorbar": {
              "outlinewidth": 0,
              "ticks": ""
             }
            },
            "type": "scattergl"
           }
          ],
          "scattermapbox": [
           {
            "marker": {
             "colorbar": {
              "outlinewidth": 0,
              "ticks": ""
             }
            },
            "type": "scattermapbox"
           }
          ],
          "scatterpolar": [
           {
            "marker": {
             "colorbar": {
              "outlinewidth": 0,
              "ticks": ""
             }
            },
            "type": "scatterpolar"
           }
          ],
          "scatterpolargl": [
           {
            "marker": {
             "colorbar": {
              "outlinewidth": 0,
              "ticks": ""
             }
            },
            "type": "scatterpolargl"
           }
          ],
          "scatterternary": [
           {
            "marker": {
             "colorbar": {
              "outlinewidth": 0,
              "ticks": ""
             }
            },
            "type": "scatterternary"
           }
          ],
          "surface": [
           {
            "colorbar": {
             "outlinewidth": 0,
             "ticks": ""
            },
            "colorscale": [
             [
              0,
              "#0d0887"
             ],
             [
              0.1111111111111111,
              "#46039f"
             ],
             [
              0.2222222222222222,
              "#7201a8"
             ],
             [
              0.3333333333333333,
              "#9c179e"
             ],
             [
              0.4444444444444444,
              "#bd3786"
             ],
             [
              0.5555555555555556,
              "#d8576b"
             ],
             [
              0.6666666666666666,
              "#ed7953"
             ],
             [
              0.7777777777777778,
              "#fb9f3a"
             ],
             [
              0.8888888888888888,
              "#fdca26"
             ],
             [
              1,
              "#f0f921"
             ]
            ],
            "type": "surface"
           }
          ],
          "table": [
           {
            "cells": {
             "fill": {
              "color": "#EBF0F8"
             },
             "line": {
              "color": "white"
             }
            },
            "header": {
             "fill": {
              "color": "#C8D4E3"
             },
             "line": {
              "color": "white"
             }
            },
            "type": "table"
           }
          ]
         },
         "layout": {
          "annotationdefaults": {
           "arrowcolor": "#2a3f5f",
           "arrowhead": 0,
           "arrowwidth": 1
          },
          "autotypenumbers": "strict",
          "coloraxis": {
           "colorbar": {
            "outlinewidth": 0,
            "ticks": ""
           }
          },
          "colorscale": {
           "diverging": [
            [
             0,
             "#8e0152"
            ],
            [
             0.1,
             "#c51b7d"
            ],
            [
             0.2,
             "#de77ae"
            ],
            [
             0.3,
             "#f1b6da"
            ],
            [
             0.4,
             "#fde0ef"
            ],
            [
             0.5,
             "#f7f7f7"
            ],
            [
             0.6,
             "#e6f5d0"
            ],
            [
             0.7,
             "#b8e186"
            ],
            [
             0.8,
             "#7fbc41"
            ],
            [
             0.9,
             "#4d9221"
            ],
            [
             1,
             "#276419"
            ]
           ],
           "sequential": [
            [
             0,
             "#0d0887"
            ],
            [
             0.1111111111111111,
             "#46039f"
            ],
            [
             0.2222222222222222,
             "#7201a8"
            ],
            [
             0.3333333333333333,
             "#9c179e"
            ],
            [
             0.4444444444444444,
             "#bd3786"
            ],
            [
             0.5555555555555556,
             "#d8576b"
            ],
            [
             0.6666666666666666,
             "#ed7953"
            ],
            [
             0.7777777777777778,
             "#fb9f3a"
            ],
            [
             0.8888888888888888,
             "#fdca26"
            ],
            [
             1,
             "#f0f921"
            ]
           ],
           "sequentialminus": [
            [
             0,
             "#0d0887"
            ],
            [
             0.1111111111111111,
             "#46039f"
            ],
            [
             0.2222222222222222,
             "#7201a8"
            ],
            [
             0.3333333333333333,
             "#9c179e"
            ],
            [
             0.4444444444444444,
             "#bd3786"
            ],
            [
             0.5555555555555556,
             "#d8576b"
            ],
            [
             0.6666666666666666,
             "#ed7953"
            ],
            [
             0.7777777777777778,
             "#fb9f3a"
            ],
            [
             0.8888888888888888,
             "#fdca26"
            ],
            [
             1,
             "#f0f921"
            ]
           ]
          },
          "colorway": [
           "#636efa",
           "#EF553B",
           "#00cc96",
           "#ab63fa",
           "#FFA15A",
           "#19d3f3",
           "#FF6692",
           "#B6E880",
           "#FF97FF",
           "#FECB52"
          ],
          "font": {
           "color": "#2a3f5f"
          },
          "geo": {
           "bgcolor": "white",
           "lakecolor": "white",
           "landcolor": "#E5ECF6",
           "showlakes": true,
           "showland": true,
           "subunitcolor": "white"
          },
          "hoverlabel": {
           "align": "left"
          },
          "hovermode": "closest",
          "mapbox": {
           "style": "light"
          },
          "paper_bgcolor": "white",
          "plot_bgcolor": "#E5ECF6",
          "polar": {
           "angularaxis": {
            "gridcolor": "white",
            "linecolor": "white",
            "ticks": ""
           },
           "bgcolor": "#E5ECF6",
           "radialaxis": {
            "gridcolor": "white",
            "linecolor": "white",
            "ticks": ""
           }
          },
          "scene": {
           "xaxis": {
            "backgroundcolor": "#E5ECF6",
            "gridcolor": "white",
            "gridwidth": 2,
            "linecolor": "white",
            "showbackground": true,
            "ticks": "",
            "zerolinecolor": "white"
           },
           "yaxis": {
            "backgroundcolor": "#E5ECF6",
            "gridcolor": "white",
            "gridwidth": 2,
            "linecolor": "white",
            "showbackground": true,
            "ticks": "",
            "zerolinecolor": "white"
           },
           "zaxis": {
            "backgroundcolor": "#E5ECF6",
            "gridcolor": "white",
            "gridwidth": 2,
            "linecolor": "white",
            "showbackground": true,
            "ticks": "",
            "zerolinecolor": "white"
           }
          },
          "shapedefaults": {
           "line": {
            "color": "#2a3f5f"
           }
          },
          "ternary": {
           "aaxis": {
            "gridcolor": "white",
            "linecolor": "white",
            "ticks": ""
           },
           "baxis": {
            "gridcolor": "white",
            "linecolor": "white",
            "ticks": ""
           },
           "bgcolor": "#E5ECF6",
           "caxis": {
            "gridcolor": "white",
            "linecolor": "white",
            "ticks": ""
           }
          },
          "title": {
           "x": 0.05
          },
          "xaxis": {
           "automargin": true,
           "gridcolor": "white",
           "linecolor": "white",
           "ticks": "",
           "title": {
            "standoff": 15
           },
           "zerolinecolor": "white",
           "zerolinewidth": 2
          },
          "yaxis": {
           "automargin": true,
           "gridcolor": "white",
           "linecolor": "white",
           "ticks": "",
           "title": {
            "standoff": 15
           },
           "zerolinecolor": "white",
           "zerolinewidth": 2
          }
         }
        },
        "xaxis": {
         "anchor": "y",
         "autorange": true,
         "domain": [
          0,
          1
         ],
         "range": [
          1919.5,
          2029.5
         ],
         "title": {
          "text": "설립일_year"
         },
         "type": "linear"
        },
        "yaxis": {
         "anchor": "x",
         "autorange": true,
         "domain": [
          0,
          1
         ],
         "range": [
          0,
          1944.2105263157896
         ],
         "title": {
          "text": "sum of count"
         },
         "type": "linear"
        }
       }
      },
      "image/png": "[encoded data removed]",
      "text/html": [
       "<div>                            <div id=\"96c3cbd5-cb09-43eb-8fa7-d3e14483a696\" class=\"plotly-graph-div\" style=\"height:525px; width:100%;\"></div>            <script type=\"text/javascript\">                require([\"plotly\"], function(Plotly) {                    window.PLOTLYENV=window.PLOTLYENV || {};                                    if (document.getElementById(\"96c3cbd5-cb09-43eb-8fa7-d3e14483a696\")) {                    Plotly.newPlot(                        \"96c3cbd5-cb09-43eb-8fa7-d3e14483a696\",                        [{\"alignmentgroup\":\"True\",\"bingroup\":\"x\",\"histfunc\":\"sum\",\"hovertemplate\":\"\\uc124\\ub9bd\\uc77c_year=%{x}<br>sum of count=%{y}<extra></extra>\",\"legendgroup\":\"\",\"marker\":{\"color\":\"#636efa\",\"pattern\":{\"shape\":\"\"}},\"name\":\"\",\"offsetgroup\":\"\",\"orientation\":\"v\",\"showlegend\":false,\"x\":[1920.0,1945.0,1946.0,1948.0,1961.0,1962.0,1964.0,1969.0,1971.0,1972.0,1974.0,1977.0,1979.0,1980.0,1981.0,1982.0,1985.0,1986.0,1987.0,1988.0,1989.0,1990.0,1991.0,1992.0,1993.0,1994.0,1995.0,1996.0,1997.0,1998.0,1999.0,2000.0,2001.0,2002.0,2003.0,2004.0,2005.0,2006.0,2007.0,2008.0,2009.0,2010.0,2011.0,2012.0,2013.0,2014.0,2015.0,2016.0,2017.0,2018.0,2019.0,2020.0,2021.0],\"xaxis\":\"x\",\"y\":[1,2,1,1,1,1,1,1,2,1,1,3,1,1,1,1,1,2,2,2,5,2,11,10,8,10,21,17,17,20,48,84,49,41,62,48,59,64,46,41,75,93,117,151,168,182,239,267,239,248,143,32,4],\"yaxis\":\"y\",\"type\":\"histogram\"}],                        {\"template\":{\"data\":{\"histogram2dcontour\":[{\"type\":\"histogram2dcontour\",\"colorbar\":{\"outlinewidth\":0,\"ticks\":\"\"},\"colorscale\":[[0.0,\"#0d0887\"],[0.1111111111111111,\"#46039f\"],[0.2222222222222222,\"#7201a8\"],[0.3333333333333333,\"#9c179e\"],[0.4444444444444444,\"#bd3786\"],[0.5555555555555556,\"#d8576b\"],[0.6666666666666666,\"#ed7953\"],[0.7777777777777778,\"#fb9f3a\"],[0.8888888888888888,\"#fdca26\"],[1.0,\"#f0f921\"]]}],\"choropleth\":[{\"type\":\"choropleth\",\"colorbar\":{\"outlinewidth\":0,\"ticks\":\"\"}}],\"histogram2d\":[{\"type\":\"histogram2d\",\"colorbar\":{\"outlinewidth\":0,\"ticks\":\"\"},\"colorscale\":[[0.0,\"#0d0887\"],[0.1111111111111111,\"#46039f\"],[0.2222222222222222,\"#7201a8\"],[0.3333333333333333,\"#9c179e\"],[0.4444444444444444,\"#bd3786\"],[0.5555555555555556,\"#d8576b\"],[0.6666666666666666,\"#ed7953\"],[0.7777777777777778,\"#fb9f3a\"],[0.8888888888888888,\"#fdca26\"],[1.0,\"#f0f921\"]]}],\"heatmap\":[{\"type\":\"heatmap\",\"colorbar\":{\"outlinewidth\":0,\"ticks\":\"\"},\"colorscale\":[[0.0,\"#0d0887\"],[0.1111111111111111,\"#46039f\"],[0.2222222222222222,\"#7201a8\"],[0.3333333333333333,\"#9c179e\"],[0.4444444444444444,\"#bd3786\"],[0.5555555555555556,\"#d8576b\"],[0.6666666666666666,\"#ed7953\"],[0.7777777777777778,\"#fb9f3a\"],[0.8888888888888888,\"#fdca26\"],[1.0,\"#f0f921\"]]}],\"heatmapgl\":[{\"type\":\"heatmapgl\",\"colorbar\":{\"outlinewidth\":0,\"ticks\":\"\"},\"colorscale\":[[0.0,\"#0d0887\"],[0.1111111111111111,\"#46039f\"],[0.2222222222222222,\"#7201a8\"],[0.3333333333333333,\"#9c179e\"],[0.4444444444444444,\"#bd3786\"],[0.5555555555555556,\"#d8576b\"],[0.6666666666666666,\"#ed7953\"],[0.7777777777777778,\"#fb9f3a\"],[0.8888888888888888,\"#fdca26\"],[1.0,\"#f0f921\"]]}],\"contourcarpet\":[{\"type\":\"contourcarpet\",\"colorbar\":{\"outlinewidth\":0,\"ticks\":\"\"}}],\"contour\":[{\"type\":\"contour\",\"colorbar\":{\"outlinewidth\":0,\"ticks\":\"\"},\"colorscale\":[[0.0,\"#0d0887\"],[0.1111111111111111,\"#46039f\"],[0.2222222222222222,\"#7201a8\"],[0.3333333333333333,\"#9c179e\"],[0.4444444444444444,\"#bd3786\"],[0.5555555555555556,\"#d8576b\"],[0.6666666666666666,\"#ed7953\"],[0.7777777777777778,\"#fb9f3a\"],[0.8888888888888888,\"#fdca26\"],[1.0,\"#f0f921\"]]}],\"surface\":[{\"type\":\"surface\",\"colorbar\":{\"outlinewidth\":0,\"ticks\":\"\"},\"colorscale\":[[0.0,\"#0d0887\"],[0.1111111111111111,\"#46039f\"],[0.2222222222222222,\"#7201a8\"],[0.3333333333333333,\"#9c179e\"],[0.4444444444444444,\"#bd3786\"],[0.5555555555555556,\"#d8576b\"],[0.6666666666666666,\"#ed7953\"],[0.7777777777777778,\"#fb9f3a\"],[0.8888888888888888,\"#fdca26\"],[1.0,\"#f0f921\"]]}],\"mesh3d\":[{\"type\":\"mesh3d\",\"colorbar\":{\"outlinewidth\":0,\"ticks\":\"\"}}],\"scatter\":[{\"fillpattern\":{\"fillmode\":\"overlay\",\"size\":10,\"solidity\":0.2},\"type\":\"scatter\"}],\"parcoords\":[{\"type\":\"parcoords\",\"line\":{\"colorbar\":{\"outlinewidth\":0,\"ticks\":\"\"}}}],\"scatterpolargl\":[{\"type\":\"scatterpolargl\",\"marker\":{\"colorbar\":{\"outlinewidth\":0,\"ticks\":\"\"}}}],\"bar\":[{\"error_x\":{\"color\":\"#2a3f5f\"},\"error_y\":{\"color\":\"#2a3f5f\"},\"marker\":{\"line\":{\"color\":\"#E5ECF6\",\"width\":0.5},\"pattern\":{\"fillmode\":\"overlay\",\"size\":10,\"solidity\":0.2}},\"type\":\"bar\"}],\"scattergeo\":[{\"type\":\"scattergeo\",\"marker\":{\"colorbar\":{\"outlinewidth\":0,\"ticks\":\"\"}}}],\"scatterpolar\":[{\"type\":\"scatterpolar\",\"marker\":{\"colorbar\":{\"outlinewidth\":0,\"ticks\":\"\"}}}],\"histogram\":[{\"marker\":{\"pattern\":{\"fillmode\":\"overlay\",\"size\":10,\"solidity\":0.2}},\"type\":\"histogram\"}],\"scattergl\":[{\"type\":\"scattergl\",\"marker\":{\"colorbar\":{\"outlinewidth\":0,\"ticks\":\"\"}}}],\"scatter3d\":[{\"type\":\"scatter3d\",\"line\":{\"colorbar\":{\"outlinewidth\":0,\"ticks\":\"\"}},\"marker\":{\"colorbar\":{\"outlinewidth\":0,\"ticks\":\"\"}}}],\"scattermapbox\":[{\"type\":\"scattermapbox\",\"marker\":{\"colorbar\":{\"outlinewidth\":0,\"ticks\":\"\"}}}],\"scatterternary\":[{\"type\":\"scatterternary\",\"marker\":{\"colorbar\":{\"outlinewidth\":0,\"ticks\":\"\"}}}],\"scattercarpet\":[{\"type\":\"scattercarpet\",\"marker\":{\"colorbar\":{\"outlinewidth\":0,\"ticks\":\"\"}}}],\"carpet\":[{\"aaxis\":{\"endlinecolor\":\"#2a3f5f\",\"gridcolor\":\"white\",\"linecolor\":\"white\",\"minorgridcolor\":\"white\",\"startlinecolor\":\"#2a3f5f\"},\"baxis\":{\"endlinecolor\":\"#2a3f5f\",\"gridcolor\":\"white\",\"linecolor\":\"white\",\"minorgridcolor\":\"white\",\"startlinecolor\":\"#2a3f5f\"},\"type\":\"carpet\"}],\"table\":[{\"cells\":{\"fill\":{\"color\":\"#EBF0F8\"},\"line\":{\"color\":\"white\"}},\"header\":{\"fill\":{\"color\":\"#C8D4E3\"},\"line\":{\"color\":\"white\"}},\"type\":\"table\"}],\"barpolar\":[{\"marker\":{\"line\":{\"color\":\"#E5ECF6\",\"width\":0.5},\"pattern\":{\"fillmode\":\"overlay\",\"size\":10,\"solidity\":0.2}},\"type\":\"barpolar\"}],\"pie\":[{\"automargin\":true,\"type\":\"pie\"}]},\"layout\":{\"autotypenumbers\":\"strict\",\"colorway\":[\"#636efa\",\"#EF553B\",\"#00cc96\",\"#ab63fa\",\"#FFA15A\",\"#19d3f3\",\"#FF6692\",\"#B6E880\",\"#FF97FF\",\"#FECB52\"],\"font\":{\"color\":\"#2a3f5f\"},\"hovermode\":\"closest\",\"hoverlabel\":{\"align\":\"left\"},\"paper_bgcolor\":\"white\",\"plot_bgcolor\":\"#E5ECF6\",\"polar\":{\"bgcolor\":\"#E5ECF6\",\"angularaxis\":{\"gridcolor\":\"white\",\"linecolor\":\"white\",\"ticks\":\"\"},\"radialaxis\":{\"gridcolor\":\"white\",\"linecolor\":\"white\",\"ticks\":\"\"}},\"ternary\":{\"bgcolor\":\"#E5ECF6\",\"aaxis\":{\"gridcolor\":\"white\",\"linecolor\":\"white\",\"ticks\":\"\"},\"baxis\":{\"gridcolor\":\"white\",\"linecolor\":\"white\",\"ticks\":\"\"},\"caxis\":{\"gridcolor\":\"white\",\"linecolor\":\"white\",\"ticks\":\"\"}},\"coloraxis\":{\"colorbar\":{\"outlinewidth\":0,\"ticks\":\"\"}},\"colorscale\":{\"sequential\":[[0.0,\"#0d0887\"],[0.1111111111111111,\"#46039f\"],[0.2222222222222222,\"#7201a8\"],[0.3333333333333333,\"#9c179e\"],[0.4444444444444444,\"#bd3786\"],[0.5555555555555556,\"#d8576b\"],[0.6666666666666666,\"#ed7953\"],[0.7777777777777778,\"#fb9f3a\"],[0.8888888888888888,\"#fdca26\"],[1.0,\"#f0f921\"]],\"sequentialminus\":[[0.0,\"#0d0887\"],[0.1111111111111111,\"#46039f\"],[0.2222222222222222,\"#7201a8\"],[0.3333333333333333,\"#9c179e\"],[0.4444444444444444,\"#bd3786\"],[0.5555555555555556,\"#d8576b\"],[0.6666666666666666,\"#ed7953\"],[0.7777777777777778,\"#fb9f3a\"],[0.8888888888888888,\"#fdca26\"],[1.0,\"#f0f921\"]],\"diverging\":[[0,\"#8e0152\"],[0.1,\"#c51b7d\"],[0.2,\"#de77ae\"],[0.3,\"#f1b6da\"],[0.4,\"#fde0ef\"],[0.5,\"#f7f7f7\"],[0.6,\"#e6f5d0\"],[0.7,\"#b8e186\"],[0.8,\"#7fbc41\"],[0.9,\"#4d9221\"],[1,\"#276419\"]]},\"xaxis\":{\"gridcolor\":\"white\",\"linecolor\":\"white\",\"ticks\":\"\",\"title\":{\"standoff\":15},\"zerolinecolor\":\"white\",\"automargin\":true,\"zerolinewidth\":2},\"yaxis\":{\"gridcolor\":\"white\",\"linecolor\":\"white\",\"ticks\":\"\",\"title\":{\"standoff\":15},\"zerolinecolor\":\"white\",\"automargin\":true,\"zerolinewidth\":2},\"scene\":{\"xaxis\":{\"backgroundcolor\":\"#E5ECF6\",\"gridcolor\":\"white\",\"linecolor\":\"white\",\"showbackground\":true,\"ticks\":\"\",\"zerolinecolor\":\"white\",\"gridwidth\":2},\"yaxis\":{\"backgroundcolor\":\"#E5ECF6\",\"gridcolor\":\"white\",\"linecolor\":\"white\",\"showbackground\":true,\"ticks\":\"\",\"zerolinecolor\":\"white\",\"gridwidth\":2},\"zaxis\":{\"backgroundcolor\":\"#E5ECF6\",\"gridcolor\":\"white\",\"linecolor\":\"white\",\"showbackground\":true,\"ticks\":\"\",\"zerolinecolor\":\"white\",\"gridwidth\":2}},\"shapedefaults\":{\"line\":{\"color\":\"#2a3f5f\"}},\"annotationdefaults\":{\"arrowcolor\":\"#2a3f5f\",\"arrowhead\":0,\"arrowwidth\":1},\"geo\":{\"bgcolor\":\"white\",\"landcolor\":\"#E5ECF6\",\"subunitcolor\":\"white\",\"showland\":true,\"showlakes\":true,\"lakecolor\":\"white\"},\"title\":{\"x\":0.05},\"mapbox\":{\"style\":\"light\"}}},\"xaxis\":{\"anchor\":\"y\",\"domain\":[0.0,1.0],\"title\":{\"text\":\"\\uc124\\ub9bd\\uc77c_year\"}},\"yaxis\":{\"anchor\":\"x\",\"domain\":[0.0,1.0],\"title\":{\"text\":\"sum of count\"}},\"legend\":{\"tracegroupgap\":0},\"margin\":{\"t\":60},\"barmode\":\"relative\"},                        {\"responsive\": true}                    ).then(function(){\n",
       "                            \n",
       "var gd = document.getElementById('96c3cbd5-cb09-43eb-8fa7-d3e14483a696');\n",
       "var x = new MutationObserver(function (mutations, observer) {{\n",
       "        var display = window.getComputedStyle(gd).display;\n",
       "        if (!display || display === 'none') {{\n",
       "            console.log([gd, 'removed!']);\n",
       "            Plotly.purge(gd);\n",
       "            observer.disconnect();\n",
       "        }}\n",
       "}});\n",
       "\n",
       "// Listen for the removal of the full notebook cells\n",
       "var notebookContainer = gd.closest('#notebook-container');\n",
       "if (notebookContainer) {{\n",
       "    x.observe(notebookContainer, {childList: true});\n",
       "}}\n",
       "\n",
       "// Listen for the clearing of the current output cell\n",
       "var outputEl = gd.closest('.output');\n",
       "if (outputEl) {{\n",
       "    x.observe(outputEl, {childList: true});\n",
       "}}\n",
       "\n",
       "                        })                };                });            </script>        </div>"
      ]
     },
     "metadata": {},
     "output_type": "display_data"
    }
   ],
   "source": [
    "df1 = p1.loc[p1['대분류'] == '정보통신업']\n",
    "px.histogram(df1,x='설립일_year' , y='count')"
   ]
  },
  {
   "cell_type": "code",
   "execution_count": 35,
   "id": "a257d918-5f57-4617-8435-fb06e0db2afd",
   "metadata": {},
   "outputs": [
    {
     "data": {
      "application/vnd.plotly.v1+json": {
       "config": {
        "plotlyServerURL": "https://plot.ly"
       },
       "data": [
        {
         "alignmentgroup": "True",
         "bingroup": "x",
         "histfunc": "sum",
         "hovertemplate": "설립일_year=%{x}<br>sum of count=%{y}<extra></extra>",
         "legendgroup": "",
         "marker": {
          "color": "#636efa",
          "pattern": {
           "shape": ""
          }
         },
         "name": "",
         "offsetgroup": "",
         "orientation": "v",
         "showlegend": false,
         "type": "histogram",
         "x": [
          1954,
          1958,
          1967,
          1968,
          1972,
          1974,
          1975,
          1976,
          1977,
          1981,
          1984,
          1986,
          1987,
          1988,
          1989,
          1990,
          1991,
          1992,
          1993,
          1994,
          1995,
          1996,
          1997,
          1998,
          1999,
          2000,
          2001,
          2002,
          2003,
          2004,
          2005,
          2006,
          2007,
          2008,
          2009,
          2010,
          2011,
          2012,
          2013,
          2014,
          2015,
          2016,
          2017,
          2018,
          2019,
          2020
         ],
         "xaxis": "x",
         "y": [
          1,
          1,
          1,
          1,
          1,
          1,
          2,
          2,
          1,
          1,
          1,
          1,
          2,
          2,
          4,
          2,
          2,
          3,
          4,
          2,
          8,
          7,
          10,
          12,
          21,
          18,
          16,
          18,
          16,
          30,
          29,
          24,
          22,
          29,
          39,
          43,
          39,
          45,
          40,
          47,
          59,
          61,
          48,
          37,
          21,
          4
         ],
         "yaxis": "y"
        }
       ],
       "layout": {
        "autosize": true,
        "barmode": "relative",
        "legend": {
         "tracegroupgap": 0
        },
        "margin": {
         "t": 60
        },
        "template": {
         "data": {
          "bar": [
           {
            "error_x": {
             "color": "#2a3f5f"
            },
            "error_y": {
             "color": "#2a3f5f"
            },
            "marker": {
             "line": {
              "color": "#E5ECF6",
              "width": 0.5
             },
             "pattern": {
              "fillmode": "overlay",
              "size": 10,
              "solidity": 0.2
             }
            },
            "type": "bar"
           }
          ],
          "barpolar": [
           {
            "marker": {
             "line": {
              "color": "#E5ECF6",
              "width": 0.5
             },
             "pattern": {
              "fillmode": "overlay",
              "size": 10,
              "solidity": 0.2
             }
            },
            "type": "barpolar"
           }
          ],
          "carpet": [
           {
            "aaxis": {
             "endlinecolor": "#2a3f5f",
             "gridcolor": "white",
             "linecolor": "white",
             "minorgridcolor": "white",
             "startlinecolor": "#2a3f5f"
            },
            "baxis": {
             "endlinecolor": "#2a3f5f",
             "gridcolor": "white",
             "linecolor": "white",
             "minorgridcolor": "white",
             "startlinecolor": "#2a3f5f"
            },
            "type": "carpet"
           }
          ],
          "choropleth": [
           {
            "colorbar": {
             "outlinewidth": 0,
             "ticks": ""
            },
            "type": "choropleth"
           }
          ],
          "contour": [
           {
            "colorbar": {
             "outlinewidth": 0,
             "ticks": ""
            },
            "colorscale": [
             [
              0,
              "#0d0887"
             ],
             [
              0.1111111111111111,
              "#46039f"
             ],
             [
              0.2222222222222222,
              "#7201a8"
             ],
             [
              0.3333333333333333,
              "#9c179e"
             ],
             [
              0.4444444444444444,
              "#bd3786"
             ],
             [
              0.5555555555555556,
              "#d8576b"
             ],
             [
              0.6666666666666666,
              "#ed7953"
             ],
             [
              0.7777777777777778,
              "#fb9f3a"
             ],
             [
              0.8888888888888888,
              "#fdca26"
             ],
             [
              1,
              "#f0f921"
             ]
            ],
            "type": "contour"
           }
          ],
          "contourcarpet": [
           {
            "colorbar": {
             "outlinewidth": 0,
             "ticks": ""
            },
            "type": "contourcarpet"
           }
          ],
          "heatmap": [
           {
            "colorbar": {
             "outlinewidth": 0,
             "ticks": ""
            },
            "colorscale": [
             [
              0,
              "#0d0887"
             ],
             [
              0.1111111111111111,
              "#46039f"
             ],
             [
              0.2222222222222222,
              "#7201a8"
             ],
             [
              0.3333333333333333,
              "#9c179e"
             ],
             [
              0.4444444444444444,
              "#bd3786"
             ],
             [
              0.5555555555555556,
              "#d8576b"
             ],
             [
              0.6666666666666666,
              "#ed7953"
             ],
             [
              0.7777777777777778,
              "#fb9f3a"
             ],
             [
              0.8888888888888888,
              "#fdca26"
             ],
             [
              1,
              "#f0f921"
             ]
            ],
            "type": "heatmap"
           }
          ],
          "heatmapgl": [
           {
            "colorbar": {
             "outlinewidth": 0,
             "ticks": ""
            },
            "colorscale": [
             [
              0,
              "#0d0887"
             ],
             [
              0.1111111111111111,
              "#46039f"
             ],
             [
              0.2222222222222222,
              "#7201a8"
             ],
             [
              0.3333333333333333,
              "#9c179e"
             ],
             [
              0.4444444444444444,
              "#bd3786"
             ],
             [
              0.5555555555555556,
              "#d8576b"
             ],
             [
              0.6666666666666666,
              "#ed7953"
             ],
             [
              0.7777777777777778,
              "#fb9f3a"
             ],
             [
              0.8888888888888888,
              "#fdca26"
             ],
             [
              1,
              "#f0f921"
             ]
            ],
            "type": "heatmapgl"
           }
          ],
          "histogram": [
           {
            "marker": {
             "pattern": {
              "fillmode": "overlay",
              "size": 10,
              "solidity": 0.2
             }
            },
            "type": "histogram"
           }
          ],
          "histogram2d": [
           {
            "colorbar": {
             "outlinewidth": 0,
             "ticks": ""
            },
            "colorscale": [
             [
              0,
              "#0d0887"
             ],
             [
              0.1111111111111111,
              "#46039f"
             ],
             [
              0.2222222222222222,
              "#7201a8"
             ],
             [
              0.3333333333333333,
              "#9c179e"
             ],
             [
              0.4444444444444444,
              "#bd3786"
             ],
             [
              0.5555555555555556,
              "#d8576b"
             ],
             [
              0.6666666666666666,
              "#ed7953"
             ],
             [
              0.7777777777777778,
              "#fb9f3a"
             ],
             [
              0.8888888888888888,
              "#fdca26"
             ],
             [
              1,
              "#f0f921"
             ]
            ],
            "type": "histogram2d"
           }
          ],
          "histogram2dcontour": [
           {
            "colorbar": {
             "outlinewidth": 0,
             "ticks": ""
            },
            "colorscale": [
             [
              0,
              "#0d0887"
             ],
             [
              0.1111111111111111,
              "#46039f"
             ],
             [
              0.2222222222222222,
              "#7201a8"
             ],
             [
              0.3333333333333333,
              "#9c179e"
             ],
             [
              0.4444444444444444,
              "#bd3786"
             ],
             [
              0.5555555555555556,
              "#d8576b"
             ],
             [
              0.6666666666666666,
              "#ed7953"
             ],
             [
              0.7777777777777778,
              "#fb9f3a"
             ],
             [
              0.8888888888888888,
              "#fdca26"
             ],
             [
              1,
              "#f0f921"
             ]
            ],
            "type": "histogram2dcontour"
           }
          ],
          "mesh3d": [
           {
            "colorbar": {
             "outlinewidth": 0,
             "ticks": ""
            },
            "type": "mesh3d"
           }
          ],
          "parcoords": [
           {
            "line": {
             "colorbar": {
              "outlinewidth": 0,
              "ticks": ""
             }
            },
            "type": "parcoords"
           }
          ],
          "pie": [
           {
            "automargin": true,
            "type": "pie"
           }
          ],
          "scatter": [
           {
            "fillpattern": {
             "fillmode": "overlay",
             "size": 10,
             "solidity": 0.2
            },
            "type": "scatter"
           }
          ],
          "scatter3d": [
           {
            "line": {
             "colorbar": {
              "outlinewidth": 0,
              "ticks": ""
             }
            },
            "marker": {
             "colorbar": {
              "outlinewidth": 0,
              "ticks": ""
             }
            },
            "type": "scatter3d"
           }
          ],
          "scattercarpet": [
           {
            "marker": {
             "colorbar": {
              "outlinewidth": 0,
              "ticks": ""
             }
            },
            "type": "scattercarpet"
           }
          ],
          "scattergeo": [
           {
            "marker": {
             "colorbar": {
              "outlinewidth": 0,
              "ticks": ""
             }
            },
            "type": "scattergeo"
           }
          ],
          "scattergl": [
           {
            "marker": {
             "colorbar": {
              "outlinewidth": 0,
              "ticks": ""
             }
            },
            "type": "scattergl"
           }
          ],
          "scattermapbox": [
           {
            "marker": {
             "colorbar": {
              "outlinewidth": 0,
              "ticks": ""
             }
            },
            "type": "scattermapbox"
           }
          ],
          "scatterpolar": [
           {
            "marker": {
             "colorbar": {
              "outlinewidth": 0,
              "ticks": ""
             }
            },
            "type": "scatterpolar"
           }
          ],
          "scatterpolargl": [
           {
            "marker": {
             "colorbar": {
              "outlinewidth": 0,
              "ticks": ""
             }
            },
            "type": "scatterpolargl"
           }
          ],
          "scatterternary": [
           {
            "marker": {
             "colorbar": {
              "outlinewidth": 0,
              "ticks": ""
             }
            },
            "type": "scatterternary"
           }
          ],
          "surface": [
           {
            "colorbar": {
             "outlinewidth": 0,
             "ticks": ""
            },
            "colorscale": [
             [
              0,
              "#0d0887"
             ],
             [
              0.1111111111111111,
              "#46039f"
             ],
             [
              0.2222222222222222,
              "#7201a8"
             ],
             [
              0.3333333333333333,
              "#9c179e"
             ],
             [
              0.4444444444444444,
              "#bd3786"
             ],
             [
              0.5555555555555556,
              "#d8576b"
             ],
             [
              0.6666666666666666,
              "#ed7953"
             ],
             [
              0.7777777777777778,
              "#fb9f3a"
             ],
             [
              0.8888888888888888,
              "#fdca26"
             ],
             [
              1,
              "#f0f921"
             ]
            ],
            "type": "surface"
           }
          ],
          "table": [
           {
            "cells": {
             "fill": {
              "color": "#EBF0F8"
             },
             "line": {
              "color": "white"
             }
            },
            "header": {
             "fill": {
              "color": "#C8D4E3"
             },
             "line": {
              "color": "white"
             }
            },
            "type": "table"
           }
          ]
         },
         "layout": {
          "annotationdefaults": {
           "arrowcolor": "#2a3f5f",
           "arrowhead": 0,
           "arrowwidth": 1
          },
          "autotypenumbers": "strict",
          "coloraxis": {
           "colorbar": {
            "outlinewidth": 0,
            "ticks": ""
           }
          },
          "colorscale": {
           "diverging": [
            [
             0,
             "#8e0152"
            ],
            [
             0.1,
             "#c51b7d"
            ],
            [
             0.2,
             "#de77ae"
            ],
            [
             0.3,
             "#f1b6da"
            ],
            [
             0.4,
             "#fde0ef"
            ],
            [
             0.5,
             "#f7f7f7"
            ],
            [
             0.6,
             "#e6f5d0"
            ],
            [
             0.7,
             "#b8e186"
            ],
            [
             0.8,
             "#7fbc41"
            ],
            [
             0.9,
             "#4d9221"
            ],
            [
             1,
             "#276419"
            ]
           ],
           "sequential": [
            [
             0,
             "#0d0887"
            ],
            [
             0.1111111111111111,
             "#46039f"
            ],
            [
             0.2222222222222222,
             "#7201a8"
            ],
            [
             0.3333333333333333,
             "#9c179e"
            ],
            [
             0.4444444444444444,
             "#bd3786"
            ],
            [
             0.5555555555555556,
             "#d8576b"
            ],
            [
             0.6666666666666666,
             "#ed7953"
            ],
            [
             0.7777777777777778,
             "#fb9f3a"
            ],
            [
             0.8888888888888888,
             "#fdca26"
            ],
            [
             1,
             "#f0f921"
            ]
           ],
           "sequentialminus": [
            [
             0,
             "#0d0887"
            ],
            [
             0.1111111111111111,
             "#46039f"
            ],
            [
             0.2222222222222222,
             "#7201a8"
            ],
            [
             0.3333333333333333,
             "#9c179e"
            ],
            [
             0.4444444444444444,
             "#bd3786"
            ],
            [
             0.5555555555555556,
             "#d8576b"
            ],
            [
             0.6666666666666666,
             "#ed7953"
            ],
            [
             0.7777777777777778,
             "#fb9f3a"
            ],
            [
             0.8888888888888888,
             "#fdca26"
            ],
            [
             1,
             "#f0f921"
            ]
           ]
          },
          "colorway": [
           "#636efa",
           "#EF553B",
           "#00cc96",
           "#ab63fa",
           "#FFA15A",
           "#19d3f3",
           "#FF6692",
           "#B6E880",
           "#FF97FF",
           "#FECB52"
          ],
          "font": {
           "color": "#2a3f5f"
          },
          "geo": {
           "bgcolor": "white",
           "lakecolor": "white",
           "landcolor": "#E5ECF6",
           "showlakes": true,
           "showland": true,
           "subunitcolor": "white"
          },
          "hoverlabel": {
           "align": "left"
          },
          "hovermode": "closest",
          "mapbox": {
           "style": "light"
          },
          "paper_bgcolor": "white",
          "plot_bgcolor": "#E5ECF6",
          "polar": {
           "angularaxis": {
            "gridcolor": "white",
            "linecolor": "white",
            "ticks": ""
           },
           "bgcolor": "#E5ECF6",
           "radialaxis": {
            "gridcolor": "white",
            "linecolor": "white",
            "ticks": ""
           }
          },
          "scene": {
           "xaxis": {
            "backgroundcolor": "#E5ECF6",
            "gridcolor": "white",
            "gridwidth": 2,
            "linecolor": "white",
            "showbackground": true,
            "ticks": "",
            "zerolinecolor": "white"
           },
           "yaxis": {
            "backgroundcolor": "#E5ECF6",
            "gridcolor": "white",
            "gridwidth": 2,
            "linecolor": "white",
            "showbackground": true,
            "ticks": "",
            "zerolinecolor": "white"
           },
           "zaxis": {
            "backgroundcolor": "#E5ECF6",
            "gridcolor": "white",
            "gridwidth": 2,
            "linecolor": "white",
            "showbackground": true,
            "ticks": "",
            "zerolinecolor": "white"
           }
          },
          "shapedefaults": {
           "line": {
            "color": "#2a3f5f"
           }
          },
          "ternary": {
           "aaxis": {
            "gridcolor": "white",
            "linecolor": "white",
            "ticks": ""
           },
           "baxis": {
            "gridcolor": "white",
            "linecolor": "white",
            "ticks": ""
           },
           "bgcolor": "#E5ECF6",
           "caxis": {
            "gridcolor": "white",
            "linecolor": "white",
            "ticks": ""
           }
          },
          "title": {
           "x": 0.05
          },
          "xaxis": {
           "automargin": true,
           "gridcolor": "white",
           "linecolor": "white",
           "ticks": "",
           "title": {
            "standoff": 15
           },
           "zerolinecolor": "white",
           "zerolinewidth": 2
          },
          "yaxis": {
           "automargin": true,
           "gridcolor": "white",
           "linecolor": "white",
           "ticks": "",
           "title": {
            "standoff": 15
           },
           "zerolinecolor": "white",
           "zerolinewidth": 2
          }
         }
        },
        "xaxis": {
         "anchor": "y",
         "autorange": true,
         "domain": [
          0,
          1
         ],
         "range": [
          1949.5,
          2029.5
         ],
         "title": {
          "text": "설립일_year"
         },
         "type": "linear"
        },
        "yaxis": {
         "anchor": "x",
         "autorange": true,
         "domain": [
          0,
          1
         ],
         "range": [
          0,
          463.1578947368421
         ],
         "title": {
          "text": "sum of count"
         },
         "type": "linear"
        }
       }
      },
      "image/png": "[encoded data removed]",
      "text/html": [
       "<div>                            <div id=\"4b94fa88-b88c-4d18-bf03-645b12f72c47\" class=\"plotly-graph-div\" style=\"height:525px; width:100%;\"></div>            <script type=\"text/javascript\">                require([\"plotly\"], function(Plotly) {                    window.PLOTLYENV=window.PLOTLYENV || {};                                    if (document.getElementById(\"4b94fa88-b88c-4d18-bf03-645b12f72c47\")) {                    Plotly.newPlot(                        \"4b94fa88-b88c-4d18-bf03-645b12f72c47\",                        [{\"alignmentgroup\":\"True\",\"bingroup\":\"x\",\"histfunc\":\"sum\",\"hovertemplate\":\"\\uc124\\ub9bd\\uc77c_year=%{x}<br>sum of count=%{y}<extra></extra>\",\"legendgroup\":\"\",\"marker\":{\"color\":\"#636efa\",\"pattern\":{\"shape\":\"\"}},\"name\":\"\",\"offsetgroup\":\"\",\"orientation\":\"v\",\"showlegend\":false,\"x\":[1954.0,1958.0,1967.0,1968.0,1972.0,1974.0,1975.0,1976.0,1977.0,1981.0,1984.0,1986.0,1987.0,1988.0,1989.0,1990.0,1991.0,1992.0,1993.0,1994.0,1995.0,1996.0,1997.0,1998.0,1999.0,2000.0,2001.0,2002.0,2003.0,2004.0,2005.0,2006.0,2007.0,2008.0,2009.0,2010.0,2011.0,2012.0,2013.0,2014.0,2015.0,2016.0,2017.0,2018.0,2019.0,2020.0],\"xaxis\":\"x\",\"y\":[1,1,1,1,1,1,2,2,1,1,1,1,2,2,4,2,2,3,4,2,8,7,10,12,21,18,16,18,16,30,29,24,22,29,39,43,39,45,40,47,59,61,48,37,21,4],\"yaxis\":\"y\",\"type\":\"histogram\"}],                        {\"template\":{\"data\":{\"histogram2dcontour\":[{\"type\":\"histogram2dcontour\",\"colorbar\":{\"outlinewidth\":0,\"ticks\":\"\"},\"colorscale\":[[0.0,\"#0d0887\"],[0.1111111111111111,\"#46039f\"],[0.2222222222222222,\"#7201a8\"],[0.3333333333333333,\"#9c179e\"],[0.4444444444444444,\"#bd3786\"],[0.5555555555555556,\"#d8576b\"],[0.6666666666666666,\"#ed7953\"],[0.7777777777777778,\"#fb9f3a\"],[0.8888888888888888,\"#fdca26\"],[1.0,\"#f0f921\"]]}],\"choropleth\":[{\"type\":\"choropleth\",\"colorbar\":{\"outlinewidth\":0,\"ticks\":\"\"}}],\"histogram2d\":[{\"type\":\"histogram2d\",\"colorbar\":{\"outlinewidth\":0,\"ticks\":\"\"},\"colorscale\":[[0.0,\"#0d0887\"],[0.1111111111111111,\"#46039f\"],[0.2222222222222222,\"#7201a8\"],[0.3333333333333333,\"#9c179e\"],[0.4444444444444444,\"#bd3786\"],[0.5555555555555556,\"#d8576b\"],[0.6666666666666666,\"#ed7953\"],[0.7777777777777778,\"#fb9f3a\"],[0.8888888888888888,\"#fdca26\"],[1.0,\"#f0f921\"]]}],\"heatmap\":[{\"type\":\"heatmap\",\"colorbar\":{\"outlinewidth\":0,\"ticks\":\"\"},\"colorscale\":[[0.0,\"#0d0887\"],[0.1111111111111111,\"#46039f\"],[0.2222222222222222,\"#7201a8\"],[0.3333333333333333,\"#9c179e\"],[0.4444444444444444,\"#bd3786\"],[0.5555555555555556,\"#d8576b\"],[0.6666666666666666,\"#ed7953\"],[0.7777777777777778,\"#fb9f3a\"],[0.8888888888888888,\"#fdca26\"],[1.0,\"#f0f921\"]]}],\"heatmapgl\":[{\"type\":\"heatmapgl\",\"colorbar\":{\"outlinewidth\":0,\"ticks\":\"\"},\"colorscale\":[[0.0,\"#0d0887\"],[0.1111111111111111,\"#46039f\"],[0.2222222222222222,\"#7201a8\"],[0.3333333333333333,\"#9c179e\"],[0.4444444444444444,\"#bd3786\"],[0.5555555555555556,\"#d8576b\"],[0.6666666666666666,\"#ed7953\"],[0.7777777777777778,\"#fb9f3a\"],[0.8888888888888888,\"#fdca26\"],[1.0,\"#f0f921\"]]}],\"contourcarpet\":[{\"type\":\"contourcarpet\",\"colorbar\":{\"outlinewidth\":0,\"ticks\":\"\"}}],\"contour\":[{\"type\":\"contour\",\"colorbar\":{\"outlinewidth\":0,\"ticks\":\"\"},\"colorscale\":[[0.0,\"#0d0887\"],[0.1111111111111111,\"#46039f\"],[0.2222222222222222,\"#7201a8\"],[0.3333333333333333,\"#9c179e\"],[0.4444444444444444,\"#bd3786\"],[0.5555555555555556,\"#d8576b\"],[0.6666666666666666,\"#ed7953\"],[0.7777777777777778,\"#fb9f3a\"],[0.8888888888888888,\"#fdca26\"],[1.0,\"#f0f921\"]]}],\"surface\":[{\"type\":\"surface\",\"colorbar\":{\"outlinewidth\":0,\"ticks\":\"\"},\"colorscale\":[[0.0,\"#0d0887\"],[0.1111111111111111,\"#46039f\"],[0.2222222222222222,\"#7201a8\"],[0.3333333333333333,\"#9c179e\"],[0.4444444444444444,\"#bd3786\"],[0.5555555555555556,\"#d8576b\"],[0.6666666666666666,\"#ed7953\"],[0.7777777777777778,\"#fb9f3a\"],[0.8888888888888888,\"#fdca26\"],[1.0,\"#f0f921\"]]}],\"mesh3d\":[{\"type\":\"mesh3d\",\"colorbar\":{\"outlinewidth\":0,\"ticks\":\"\"}}],\"scatter\":[{\"fillpattern\":{\"fillmode\":\"overlay\",\"size\":10,\"solidity\":0.2},\"type\":\"scatter\"}],\"parcoords\":[{\"type\":\"parcoords\",\"line\":{\"colorbar\":{\"outlinewidth\":0,\"ticks\":\"\"}}}],\"scatterpolargl\":[{\"type\":\"scatterpolargl\",\"marker\":{\"colorbar\":{\"outlinewidth\":0,\"ticks\":\"\"}}}],\"bar\":[{\"error_x\":{\"color\":\"#2a3f5f\"},\"error_y\":{\"color\":\"#2a3f5f\"},\"marker\":{\"line\":{\"color\":\"#E5ECF6\",\"width\":0.5},\"pattern\":{\"fillmode\":\"overlay\",\"size\":10,\"solidity\":0.2}},\"type\":\"bar\"}],\"scattergeo\":[{\"type\":\"scattergeo\",\"marker\":{\"colorbar\":{\"outlinewidth\":0,\"ticks\":\"\"}}}],\"scatterpolar\":[{\"type\":\"scatterpolar\",\"marker\":{\"colorbar\":{\"outlinewidth\":0,\"ticks\":\"\"}}}],\"histogram\":[{\"marker\":{\"pattern\":{\"fillmode\":\"overlay\",\"size\":10,\"solidity\":0.2}},\"type\":\"histogram\"}],\"scattergl\":[{\"type\":\"scattergl\",\"marker\":{\"colorbar\":{\"outlinewidth\":0,\"ticks\":\"\"}}}],\"scatter3d\":[{\"type\":\"scatter3d\",\"line\":{\"colorbar\":{\"outlinewidth\":0,\"ticks\":\"\"}},\"marker\":{\"colorbar\":{\"outlinewidth\":0,\"ticks\":\"\"}}}],\"scattermapbox\":[{\"type\":\"scattermapbox\",\"marker\":{\"colorbar\":{\"outlinewidth\":0,\"ticks\":\"\"}}}],\"scatterternary\":[{\"type\":\"scatterternary\",\"marker\":{\"colorbar\":{\"outlinewidth\":0,\"ticks\":\"\"}}}],\"scattercarpet\":[{\"type\":\"scattercarpet\",\"marker\":{\"colorbar\":{\"outlinewidth\":0,\"ticks\":\"\"}}}],\"carpet\":[{\"aaxis\":{\"endlinecolor\":\"#2a3f5f\",\"gridcolor\":\"white\",\"linecolor\":\"white\",\"minorgridcolor\":\"white\",\"startlinecolor\":\"#2a3f5f\"},\"baxis\":{\"endlinecolor\":\"#2a3f5f\",\"gridcolor\":\"white\",\"linecolor\":\"white\",\"minorgridcolor\":\"white\",\"startlinecolor\":\"#2a3f5f\"},\"type\":\"carpet\"}],\"table\":[{\"cells\":{\"fill\":{\"color\":\"#EBF0F8\"},\"line\":{\"color\":\"white\"}},\"header\":{\"fill\":{\"color\":\"#C8D4E3\"},\"line\":{\"color\":\"white\"}},\"type\":\"table\"}],\"barpolar\":[{\"marker\":{\"line\":{\"color\":\"#E5ECF6\",\"width\":0.5},\"pattern\":{\"fillmode\":\"overlay\",\"size\":10,\"solidity\":0.2}},\"type\":\"barpolar\"}],\"pie\":[{\"automargin\":true,\"type\":\"pie\"}]},\"layout\":{\"autotypenumbers\":\"strict\",\"colorway\":[\"#636efa\",\"#EF553B\",\"#00cc96\",\"#ab63fa\",\"#FFA15A\",\"#19d3f3\",\"#FF6692\",\"#B6E880\",\"#FF97FF\",\"#FECB52\"],\"font\":{\"color\":\"#2a3f5f\"},\"hovermode\":\"closest\",\"hoverlabel\":{\"align\":\"left\"},\"paper_bgcolor\":\"white\",\"plot_bgcolor\":\"#E5ECF6\",\"polar\":{\"bgcolor\":\"#E5ECF6\",\"angularaxis\":{\"gridcolor\":\"white\",\"linecolor\":\"white\",\"ticks\":\"\"},\"radialaxis\":{\"gridcolor\":\"white\",\"linecolor\":\"white\",\"ticks\":\"\"}},\"ternary\":{\"bgcolor\":\"#E5ECF6\",\"aaxis\":{\"gridcolor\":\"white\",\"linecolor\":\"white\",\"ticks\":\"\"},\"baxis\":{\"gridcolor\":\"white\",\"linecolor\":\"white\",\"ticks\":\"\"},\"caxis\":{\"gridcolor\":\"white\",\"linecolor\":\"white\",\"ticks\":\"\"}},\"coloraxis\":{\"colorbar\":{\"outlinewidth\":0,\"ticks\":\"\"}},\"colorscale\":{\"sequential\":[[0.0,\"#0d0887\"],[0.1111111111111111,\"#46039f\"],[0.2222222222222222,\"#7201a8\"],[0.3333333333333333,\"#9c179e\"],[0.4444444444444444,\"#bd3786\"],[0.5555555555555556,\"#d8576b\"],[0.6666666666666666,\"#ed7953\"],[0.7777777777777778,\"#fb9f3a\"],[0.8888888888888888,\"#fdca26\"],[1.0,\"#f0f921\"]],\"sequentialminus\":[[0.0,\"#0d0887\"],[0.1111111111111111,\"#46039f\"],[0.2222222222222222,\"#7201a8\"],[0.3333333333333333,\"#9c179e\"],[0.4444444444444444,\"#bd3786\"],[0.5555555555555556,\"#d8576b\"],[0.6666666666666666,\"#ed7953\"],[0.7777777777777778,\"#fb9f3a\"],[0.8888888888888888,\"#fdca26\"],[1.0,\"#f0f921\"]],\"diverging\":[[0,\"#8e0152\"],[0.1,\"#c51b7d\"],[0.2,\"#de77ae\"],[0.3,\"#f1b6da\"],[0.4,\"#fde0ef\"],[0.5,\"#f7f7f7\"],[0.6,\"#e6f5d0\"],[0.7,\"#b8e186\"],[0.8,\"#7fbc41\"],[0.9,\"#4d9221\"],[1,\"#276419\"]]},\"xaxis\":{\"gridcolor\":\"white\",\"linecolor\":\"white\",\"ticks\":\"\",\"title\":{\"standoff\":15},\"zerolinecolor\":\"white\",\"automargin\":true,\"zerolinewidth\":2},\"yaxis\":{\"gridcolor\":\"white\",\"linecolor\":\"white\",\"ticks\":\"\",\"title\":{\"standoff\":15},\"zerolinecolor\":\"white\",\"automargin\":true,\"zerolinewidth\":2},\"scene\":{\"xaxis\":{\"backgroundcolor\":\"#E5ECF6\",\"gridcolor\":\"white\",\"linecolor\":\"white\",\"showbackground\":true,\"ticks\":\"\",\"zerolinecolor\":\"white\",\"gridwidth\":2},\"yaxis\":{\"backgroundcolor\":\"#E5ECF6\",\"gridcolor\":\"white\",\"linecolor\":\"white\",\"showbackground\":true,\"ticks\":\"\",\"zerolinecolor\":\"white\",\"gridwidth\":2},\"zaxis\":{\"backgroundcolor\":\"#E5ECF6\",\"gridcolor\":\"white\",\"linecolor\":\"white\",\"showbackground\":true,\"ticks\":\"\",\"zerolinecolor\":\"white\",\"gridwidth\":2}},\"shapedefaults\":{\"line\":{\"color\":\"#2a3f5f\"}},\"annotationdefaults\":{\"arrowcolor\":\"#2a3f5f\",\"arrowhead\":0,\"arrowwidth\":1},\"geo\":{\"bgcolor\":\"white\",\"landcolor\":\"#E5ECF6\",\"subunitcolor\":\"white\",\"showland\":true,\"showlakes\":true,\"lakecolor\":\"white\"},\"title\":{\"x\":0.05},\"mapbox\":{\"style\":\"light\"}}},\"xaxis\":{\"anchor\":\"y\",\"domain\":[0.0,1.0],\"title\":{\"text\":\"\\uc124\\ub9bd\\uc77c_year\"}},\"yaxis\":{\"anchor\":\"x\",\"domain\":[0.0,1.0],\"title\":{\"text\":\"sum of count\"}},\"legend\":{\"tracegroupgap\":0},\"margin\":{\"t\":60},\"barmode\":\"relative\"},                        {\"responsive\": true}                    ).then(function(){\n",
       "                            \n",
       "var gd = document.getElementById('4b94fa88-b88c-4d18-bf03-645b12f72c47');\n",
       "var x = new MutationObserver(function (mutations, observer) {{\n",
       "        var display = window.getComputedStyle(gd).display;\n",
       "        if (!display || display === 'none') {{\n",
       "            console.log([gd, 'removed!']);\n",
       "            Plotly.purge(gd);\n",
       "            observer.disconnect();\n",
       "        }}\n",
       "}});\n",
       "\n",
       "// Listen for the removal of the full notebook cells\n",
       "var notebookContainer = gd.closest('#notebook-container');\n",
       "if (notebookContainer) {{\n",
       "    x.observe(notebookContainer, {childList: true});\n",
       "}}\n",
       "\n",
       "// Listen for the clearing of the current output cell\n",
       "var outputEl = gd.closest('.output');\n",
       "if (outputEl) {{\n",
       "    x.observe(outputEl, {childList: true});\n",
       "}}\n",
       "\n",
       "                        })                };                });            </script>        </div>"
      ]
     },
     "metadata": {},
     "output_type": "display_data"
    }
   ],
   "source": [
    "df2 = p1.loc[p1['대분류'] == '도매 및 소매업']\n",
    "df2\n",
    "px.histogram(df2,x='설립일_year' , y='count')"
   ]
  },
  {
   "cell_type": "code",
   "execution_count": 36,
   "id": "b3303767-67ff-4f17-801d-bd622cd68031",
   "metadata": {},
   "outputs": [
    {
     "data": {
      "application/vnd.plotly.v1+json": {
       "config": {
        "plotlyServerURL": "https://plot.ly"
       },
       "data": [
        {
         "alignmentgroup": "True",
         "bingroup": "x",
         "histfunc": "sum",
         "hovertemplate": "설립일_year=%{x}<br>sum of count=%{y}<extra></extra>",
         "legendgroup": "",
         "marker": {
          "color": "#636efa",
          "pattern": {
           "shape": ""
          }
         },
         "name": "",
         "offsetgroup": "",
         "orientation": "v",
         "showlegend": false,
         "type": "histogram",
         "x": [
          1955,
          1956,
          1960,
          1965,
          1969,
          1970,
          1971,
          1972,
          1974,
          1975,
          1977,
          1978,
          1980,
          1982,
          1983,
          1985,
          1986,
          1987,
          1988,
          1989,
          1990,
          1991,
          1992,
          1993,
          1994,
          1995,
          1996,
          1997,
          1998,
          1999,
          2000,
          2001,
          2002,
          2003,
          2004,
          2005,
          2006,
          2007,
          2008,
          2009,
          2010,
          2011,
          2012,
          2013,
          2014,
          2015,
          2016,
          2017,
          2018,
          2019,
          2020
         ],
         "xaxis": "x",
         "y": [
          1,
          1,
          1,
          1,
          1,
          1,
          2,
          5,
          1,
          3,
          1,
          1,
          1,
          1,
          2,
          3,
          2,
          1,
          5,
          2,
          1,
          3,
          4,
          6,
          8,
          5,
          6,
          10,
          12,
          17,
          26,
          25,
          14,
          22,
          19,
          15,
          19,
          23,
          22,
          18,
          20,
          13,
          30,
          35,
          34,
          62,
          37,
          44,
          35,
          22,
          6
         ],
         "yaxis": "y"
        }
       ],
       "layout": {
        "autosize": true,
        "barmode": "relative",
        "legend": {
         "tracegroupgap": 0
        },
        "margin": {
         "t": 60
        },
        "template": {
         "data": {
          "bar": [
           {
            "error_x": {
             "color": "#2a3f5f"
            },
            "error_y": {
             "color": "#2a3f5f"
            },
            "marker": {
             "line": {
              "color": "#E5ECF6",
              "width": 0.5
             },
             "pattern": {
              "fillmode": "overlay",
              "size": 10,
              "solidity": 0.2
             }
            },
            "type": "bar"
           }
          ],
          "barpolar": [
           {
            "marker": {
             "line": {
              "color": "#E5ECF6",
              "width": 0.5
             },
             "pattern": {
              "fillmode": "overlay",
              "size": 10,
              "solidity": 0.2
             }
            },
            "type": "barpolar"
           }
          ],
          "carpet": [
           {
            "aaxis": {
             "endlinecolor": "#2a3f5f",
             "gridcolor": "white",
             "linecolor": "white",
             "minorgridcolor": "white",
             "startlinecolor": "#2a3f5f"
            },
            "baxis": {
             "endlinecolor": "#2a3f5f",
             "gridcolor": "white",
             "linecolor": "white",
             "minorgridcolor": "white",
             "startlinecolor": "#2a3f5f"
            },
            "type": "carpet"
           }
          ],
          "choropleth": [
           {
            "colorbar": {
             "outlinewidth": 0,
             "ticks": ""
            },
            "type": "choropleth"
           }
          ],
          "contour": [
           {
            "colorbar": {
             "outlinewidth": 0,
             "ticks": ""
            },
            "colorscale": [
             [
              0,
              "#0d0887"
             ],
             [
              0.1111111111111111,
              "#46039f"
             ],
             [
              0.2222222222222222,
              "#7201a8"
             ],
             [
              0.3333333333333333,
              "#9c179e"
             ],
             [
              0.4444444444444444,
              "#bd3786"
             ],
             [
              0.5555555555555556,
              "#d8576b"
             ],
             [
              0.6666666666666666,
              "#ed7953"
             ],
             [
              0.7777777777777778,
              "#fb9f3a"
             ],
             [
              0.8888888888888888,
              "#fdca26"
             ],
             [
              1,
              "#f0f921"
             ]
            ],
            "type": "contour"
           }
          ],
          "contourcarpet": [
           {
            "colorbar": {
             "outlinewidth": 0,
             "ticks": ""
            },
            "type": "contourcarpet"
           }
          ],
          "heatmap": [
           {
            "colorbar": {
             "outlinewidth": 0,
             "ticks": ""
            },
            "colorscale": [
             [
              0,
              "#0d0887"
             ],
             [
              0.1111111111111111,
              "#46039f"
             ],
             [
              0.2222222222222222,
              "#7201a8"
             ],
             [
              0.3333333333333333,
              "#9c179e"
             ],
             [
              0.4444444444444444,
              "#bd3786"
             ],
             [
              0.5555555555555556,
              "#d8576b"
             ],
             [
              0.6666666666666666,
              "#ed7953"
             ],
             [
              0.7777777777777778,
              "#fb9f3a"
             ],
             [
              0.8888888888888888,
              "#fdca26"
             ],
             [
              1,
              "#f0f921"
             ]
            ],
            "type": "heatmap"
           }
          ],
          "heatmapgl": [
           {
            "colorbar": {
             "outlinewidth": 0,
             "ticks": ""
            },
            "colorscale": [
             [
              0,
              "#0d0887"
             ],
             [
              0.1111111111111111,
              "#46039f"
             ],
             [
              0.2222222222222222,
              "#7201a8"
             ],
             [
              0.3333333333333333,
              "#9c179e"
             ],
             [
              0.4444444444444444,
              "#bd3786"
             ],
             [
              0.5555555555555556,
              "#d8576b"
             ],
             [
              0.6666666666666666,
              "#ed7953"
             ],
             [
              0.7777777777777778,
              "#fb9f3a"
             ],
             [
              0.8888888888888888,
              "#fdca26"
             ],
             [
              1,
              "#f0f921"
             ]
            ],
            "type": "heatmapgl"
           }
          ],
          "histogram": [
           {
            "marker": {
             "pattern": {
              "fillmode": "overlay",
              "size": 10,
              "solidity": 0.2
             }
            },
            "type": "histogram"
           }
          ],
          "histogram2d": [
           {
            "colorbar": {
             "outlinewidth": 0,
             "ticks": ""
            },
            "colorscale": [
             [
              0,
              "#0d0887"
             ],
             [
              0.1111111111111111,
              "#46039f"
             ],
             [
              0.2222222222222222,
              "#7201a8"
             ],
             [
              0.3333333333333333,
              "#9c179e"
             ],
             [
              0.4444444444444444,
              "#bd3786"
             ],
             [
              0.5555555555555556,
              "#d8576b"
             ],
             [
              0.6666666666666666,
              "#ed7953"
             ],
             [
              0.7777777777777778,
              "#fb9f3a"
             ],
             [
              0.8888888888888888,
              "#fdca26"
             ],
             [
              1,
              "#f0f921"
             ]
            ],
            "type": "histogram2d"
           }
          ],
          "histogram2dcontour": [
           {
            "colorbar": {
             "outlinewidth": 0,
             "ticks": ""
            },
            "colorscale": [
             [
              0,
              "#0d0887"
             ],
             [
              0.1111111111111111,
              "#46039f"
             ],
             [
              0.2222222222222222,
              "#7201a8"
             ],
             [
              0.3333333333333333,
              "#9c179e"
             ],
             [
              0.4444444444444444,
              "#bd3786"
             ],
             [
              0.5555555555555556,
              "#d8576b"
             ],
             [
              0.6666666666666666,
              "#ed7953"
             ],
             [
              0.7777777777777778,
              "#fb9f3a"
             ],
             [
              0.8888888888888888,
              "#fdca26"
             ],
             [
              1,
              "#f0f921"
             ]
            ],
            "type": "histogram2dcontour"
           }
          ],
          "mesh3d": [
           {
            "colorbar": {
             "outlinewidth": 0,
             "ticks": ""
            },
            "type": "mesh3d"
           }
          ],
          "parcoords": [
           {
            "line": {
             "colorbar": {
              "outlinewidth": 0,
              "ticks": ""
             }
            },
            "type": "parcoords"
           }
          ],
          "pie": [
           {
            "automargin": true,
            "type": "pie"
           }
          ],
          "scatter": [
           {
            "fillpattern": {
             "fillmode": "overlay",
             "size": 10,
             "solidity": 0.2
            },
            "type": "scatter"
           }
          ],
          "scatter3d": [
           {
            "line": {
             "colorbar": {
              "outlinewidth": 0,
              "ticks": ""
             }
            },
            "marker": {
             "colorbar": {
              "outlinewidth": 0,
              "ticks": ""
             }
            },
            "type": "scatter3d"
           }
          ],
          "scattercarpet": [
           {
            "marker": {
             "colorbar": {
              "outlinewidth": 0,
              "ticks": ""
             }
            },
            "type": "scattercarpet"
           }
          ],
          "scattergeo": [
           {
            "marker": {
             "colorbar": {
              "outlinewidth": 0,
              "ticks": ""
             }
            },
            "type": "scattergeo"
           }
          ],
          "scattergl": [
           {
            "marker": {
             "colorbar": {
              "outlinewidth": 0,
              "ticks": ""
             }
            },
            "type": "scattergl"
           }
          ],
          "scattermapbox": [
           {
            "marker": {
             "colorbar": {
              "outlinewidth": 0,
              "ticks": ""
             }
            },
            "type": "scattermapbox"
           }
          ],
          "scatterpolar": [
           {
            "marker": {
             "colorbar": {
              "outlinewidth": 0,
              "ticks": ""
             }
            },
            "type": "scatterpolar"
           }
          ],
          "scatterpolargl": [
           {
            "marker": {
             "colorbar": {
              "outlinewidth": 0,
              "ticks": ""
             }
            },
            "type": "scatterpolargl"
           }
          ],
          "scatterternary": [
           {
            "marker": {
             "colorbar": {
              "outlinewidth": 0,
              "ticks": ""
             }
            },
            "type": "scatterternary"
           }
          ],
          "surface": [
           {
            "colorbar": {
             "outlinewidth": 0,
             "ticks": ""
            },
            "colorscale": [
             [
              0,
              "#0d0887"
             ],
             [
              0.1111111111111111,
              "#46039f"
             ],
             [
              0.2222222222222222,
              "#7201a8"
             ],
             [
              0.3333333333333333,
              "#9c179e"
             ],
             [
              0.4444444444444444,
              "#bd3786"
             ],
             [
              0.5555555555555556,
              "#d8576b"
             ],
             [
              0.6666666666666666,
              "#ed7953"
             ],
             [
              0.7777777777777778,
              "#fb9f3a"
             ],
             [
              0.8888888888888888,
              "#fdca26"
             ],
             [
              1,
              "#f0f921"
             ]
            ],
            "type": "surface"
           }
          ],
          "table": [
           {
            "cells": {
             "fill": {
              "color": "#EBF0F8"
             },
             "line": {
              "color": "white"
             }
            },
            "header": {
             "fill": {
              "color": "#C8D4E3"
             },
             "line": {
              "color": "white"
             }
            },
            "type": "table"
           }
          ]
         },
         "layout": {
          "annotationdefaults": {
           "arrowcolor": "#2a3f5f",
           "arrowhead": 0,
           "arrowwidth": 1
          },
          "autotypenumbers": "strict",
          "coloraxis": {
           "colorbar": {
            "outlinewidth": 0,
            "ticks": ""
           }
          },
          "colorscale": {
           "diverging": [
            [
             0,
             "#8e0152"
            ],
            [
             0.1,
             "#c51b7d"
            ],
            [
             0.2,
             "#de77ae"
            ],
            [
             0.3,
             "#f1b6da"
            ],
            [
             0.4,
             "#fde0ef"
            ],
            [
             0.5,
             "#f7f7f7"
            ],
            [
             0.6,
             "#e6f5d0"
            ],
            [
             0.7,
             "#b8e186"
            ],
            [
             0.8,
             "#7fbc41"
            ],
            [
             0.9,
             "#4d9221"
            ],
            [
             1,
             "#276419"
            ]
           ],
           "sequential": [
            [
             0,
             "#0d0887"
            ],
            [
             0.1111111111111111,
             "#46039f"
            ],
            [
             0.2222222222222222,
             "#7201a8"
            ],
            [
             0.3333333333333333,
             "#9c179e"
            ],
            [
             0.4444444444444444,
             "#bd3786"
            ],
            [
             0.5555555555555556,
             "#d8576b"
            ],
            [
             0.6666666666666666,
             "#ed7953"
            ],
            [
             0.7777777777777778,
             "#fb9f3a"
            ],
            [
             0.8888888888888888,
             "#fdca26"
            ],
            [
             1,
             "#f0f921"
            ]
           ],
           "sequentialminus": [
            [
             0,
             "#0d0887"
            ],
            [
             0.1111111111111111,
             "#46039f"
            ],
            [
             0.2222222222222222,
             "#7201a8"
            ],
            [
             0.3333333333333333,
             "#9c179e"
            ],
            [
             0.4444444444444444,
             "#bd3786"
            ],
            [
             0.5555555555555556,
             "#d8576b"
            ],
            [
             0.6666666666666666,
             "#ed7953"
            ],
            [
             0.7777777777777778,
             "#fb9f3a"
            ],
            [
             0.8888888888888888,
             "#fdca26"
            ],
            [
             1,
             "#f0f921"
            ]
           ]
          },
          "colorway": [
           "#636efa",
           "#EF553B",
           "#00cc96",
           "#ab63fa",
           "#FFA15A",
           "#19d3f3",
           "#FF6692",
           "#B6E880",
           "#FF97FF",
           "#FECB52"
          ],
          "font": {
           "color": "#2a3f5f"
          },
          "geo": {
           "bgcolor": "white",
           "lakecolor": "white",
           "landcolor": "#E5ECF6",
           "showlakes": true,
           "showland": true,
           "subunitcolor": "white"
          },
          "hoverlabel": {
           "align": "left"
          },
          "hovermode": "closest",
          "mapbox": {
           "style": "light"
          },
          "paper_bgcolor": "white",
          "plot_bgcolor": "#E5ECF6",
          "polar": {
           "angularaxis": {
            "gridcolor": "white",
            "linecolor": "white",
            "ticks": ""
           },
           "bgcolor": "#E5ECF6",
           "radialaxis": {
            "gridcolor": "white",
            "linecolor": "white",
            "ticks": ""
           }
          },
          "scene": {
           "xaxis": {
            "backgroundcolor": "#E5ECF6",
            "gridcolor": "white",
            "gridwidth": 2,
            "linecolor": "white",
            "showbackground": true,
            "ticks": "",
            "zerolinecolor": "white"
           },
           "yaxis": {
            "backgroundcolor": "#E5ECF6",
            "gridcolor": "white",
            "gridwidth": 2,
            "linecolor": "white",
            "showbackground": true,
            "ticks": "",
            "zerolinecolor": "white"
           },
           "zaxis": {
            "backgroundcolor": "#E5ECF6",
            "gridcolor": "white",
            "gridwidth": 2,
            "linecolor": "white",
            "showbackground": true,
            "ticks": "",
            "zerolinecolor": "white"
           }
          },
          "shapedefaults": {
           "line": {
            "color": "#2a3f5f"
           }
          },
          "ternary": {
           "aaxis": {
            "gridcolor": "white",
            "linecolor": "white",
            "ticks": ""
           },
           "baxis": {
            "gridcolor": "white",
            "linecolor": "white",
            "ticks": ""
           },
           "bgcolor": "#E5ECF6",
           "caxis": {
            "gridcolor": "white",
            "linecolor": "white",
            "ticks": ""
           }
          },
          "title": {
           "x": 0.05
          },
          "xaxis": {
           "automargin": true,
           "gridcolor": "white",
           "linecolor": "white",
           "ticks": "",
           "title": {
            "standoff": 15
           },
           "zerolinecolor": "white",
           "zerolinewidth": 2
          },
          "yaxis": {
           "automargin": true,
           "gridcolor": "white",
           "linecolor": "white",
           "ticks": "",
           "title": {
            "standoff": 15
           },
           "zerolinecolor": "white",
           "zerolinewidth": 2
          }
         }
        },
        "xaxis": {
         "anchor": "y",
         "autorange": true,
         "domain": [
          0,
          1
         ],
         "range": [
          1949.5,
          2029.5
         ],
         "title": {
          "text": "설립일_year"
         },
         "type": "linear"
        },
        "yaxis": {
         "anchor": "x",
         "autorange": true,
         "domain": [
          0,
          1
         ],
         "range": [
          0,
          349.4736842105263
         ],
         "title": {
          "text": "sum of count"
         },
         "type": "linear"
        }
       }
      },
      "image/png": "[encoded data removed]",
      "text/html": [
       "<div>                            <div id=\"2e4b9f31-0d10-4310-a113-ccb0919ba08c\" class=\"plotly-graph-div\" style=\"height:525px; width:100%;\"></div>            <script type=\"text/javascript\">                require([\"plotly\"], function(Plotly) {                    window.PLOTLYENV=window.PLOTLYENV || {};                                    if (document.getElementById(\"2e4b9f31-0d10-4310-a113-ccb0919ba08c\")) {                    Plotly.newPlot(                        \"2e4b9f31-0d10-4310-a113-ccb0919ba08c\",                        [{\"alignmentgroup\":\"True\",\"bingroup\":\"x\",\"histfunc\":\"sum\",\"hovertemplate\":\"\\uc124\\ub9bd\\uc77c_year=%{x}<br>sum of count=%{y}<extra></extra>\",\"legendgroup\":\"\",\"marker\":{\"color\":\"#636efa\",\"pattern\":{\"shape\":\"\"}},\"name\":\"\",\"offsetgroup\":\"\",\"orientation\":\"v\",\"showlegend\":false,\"x\":[1955.0,1956.0,1960.0,1965.0,1969.0,1970.0,1971.0,1972.0,1974.0,1975.0,1977.0,1978.0,1980.0,1982.0,1983.0,1985.0,1986.0,1987.0,1988.0,1989.0,1990.0,1991.0,1992.0,1993.0,1994.0,1995.0,1996.0,1997.0,1998.0,1999.0,2000.0,2001.0,2002.0,2003.0,2004.0,2005.0,2006.0,2007.0,2008.0,2009.0,2010.0,2011.0,2012.0,2013.0,2014.0,2015.0,2016.0,2017.0,2018.0,2019.0,2020.0],\"xaxis\":\"x\",\"y\":[1,1,1,1,1,1,2,5,1,3,1,1,1,1,2,3,2,1,5,2,1,3,4,6,8,5,6,10,12,17,26,25,14,22,19,15,19,23,22,18,20,13,30,35,34,62,37,44,35,22,6],\"yaxis\":\"y\",\"type\":\"histogram\"}],                        {\"template\":{\"data\":{\"histogram2dcontour\":[{\"type\":\"histogram2dcontour\",\"colorbar\":{\"outlinewidth\":0,\"ticks\":\"\"},\"colorscale\":[[0.0,\"#0d0887\"],[0.1111111111111111,\"#46039f\"],[0.2222222222222222,\"#7201a8\"],[0.3333333333333333,\"#9c179e\"],[0.4444444444444444,\"#bd3786\"],[0.5555555555555556,\"#d8576b\"],[0.6666666666666666,\"#ed7953\"],[0.7777777777777778,\"#fb9f3a\"],[0.8888888888888888,\"#fdca26\"],[1.0,\"#f0f921\"]]}],\"choropleth\":[{\"type\":\"choropleth\",\"colorbar\":{\"outlinewidth\":0,\"ticks\":\"\"}}],\"histogram2d\":[{\"type\":\"histogram2d\",\"colorbar\":{\"outlinewidth\":0,\"ticks\":\"\"},\"colorscale\":[[0.0,\"#0d0887\"],[0.1111111111111111,\"#46039f\"],[0.2222222222222222,\"#7201a8\"],[0.3333333333333333,\"#9c179e\"],[0.4444444444444444,\"#bd3786\"],[0.5555555555555556,\"#d8576b\"],[0.6666666666666666,\"#ed7953\"],[0.7777777777777778,\"#fb9f3a\"],[0.8888888888888888,\"#fdca26\"],[1.0,\"#f0f921\"]]}],\"heatmap\":[{\"type\":\"heatmap\",\"colorbar\":{\"outlinewidth\":0,\"ticks\":\"\"},\"colorscale\":[[0.0,\"#0d0887\"],[0.1111111111111111,\"#46039f\"],[0.2222222222222222,\"#7201a8\"],[0.3333333333333333,\"#9c179e\"],[0.4444444444444444,\"#bd3786\"],[0.5555555555555556,\"#d8576b\"],[0.6666666666666666,\"#ed7953\"],[0.7777777777777778,\"#fb9f3a\"],[0.8888888888888888,\"#fdca26\"],[1.0,\"#f0f921\"]]}],\"heatmapgl\":[{\"type\":\"heatmapgl\",\"colorbar\":{\"outlinewidth\":0,\"ticks\":\"\"},\"colorscale\":[[0.0,\"#0d0887\"],[0.1111111111111111,\"#46039f\"],[0.2222222222222222,\"#7201a8\"],[0.3333333333333333,\"#9c179e\"],[0.4444444444444444,\"#bd3786\"],[0.5555555555555556,\"#d8576b\"],[0.6666666666666666,\"#ed7953\"],[0.7777777777777778,\"#fb9f3a\"],[0.8888888888888888,\"#fdca26\"],[1.0,\"#f0f921\"]]}],\"contourcarpet\":[{\"type\":\"contourcarpet\",\"colorbar\":{\"outlinewidth\":0,\"ticks\":\"\"}}],\"contour\":[{\"type\":\"contour\",\"colorbar\":{\"outlinewidth\":0,\"ticks\":\"\"},\"colorscale\":[[0.0,\"#0d0887\"],[0.1111111111111111,\"#46039f\"],[0.2222222222222222,\"#7201a8\"],[0.3333333333333333,\"#9c179e\"],[0.4444444444444444,\"#bd3786\"],[0.5555555555555556,\"#d8576b\"],[0.6666666666666666,\"#ed7953\"],[0.7777777777777778,\"#fb9f3a\"],[0.8888888888888888,\"#fdca26\"],[1.0,\"#f0f921\"]]}],\"surface\":[{\"type\":\"surface\",\"colorbar\":{\"outlinewidth\":0,\"ticks\":\"\"},\"colorscale\":[[0.0,\"#0d0887\"],[0.1111111111111111,\"#46039f\"],[0.2222222222222222,\"#7201a8\"],[0.3333333333333333,\"#9c179e\"],[0.4444444444444444,\"#bd3786\"],[0.5555555555555556,\"#d8576b\"],[0.6666666666666666,\"#ed7953\"],[0.7777777777777778,\"#fb9f3a\"],[0.8888888888888888,\"#fdca26\"],[1.0,\"#f0f921\"]]}],\"mesh3d\":[{\"type\":\"mesh3d\",\"colorbar\":{\"outlinewidth\":0,\"ticks\":\"\"}}],\"scatter\":[{\"fillpattern\":{\"fillmode\":\"overlay\",\"size\":10,\"solidity\":0.2},\"type\":\"scatter\"}],\"parcoords\":[{\"type\":\"parcoords\",\"line\":{\"colorbar\":{\"outlinewidth\":0,\"ticks\":\"\"}}}],\"scatterpolargl\":[{\"type\":\"scatterpolargl\",\"marker\":{\"colorbar\":{\"outlinewidth\":0,\"ticks\":\"\"}}}],\"bar\":[{\"error_x\":{\"color\":\"#2a3f5f\"},\"error_y\":{\"color\":\"#2a3f5f\"},\"marker\":{\"line\":{\"color\":\"#E5ECF6\",\"width\":0.5},\"pattern\":{\"fillmode\":\"overlay\",\"size\":10,\"solidity\":0.2}},\"type\":\"bar\"}],\"scattergeo\":[{\"type\":\"scattergeo\",\"marker\":{\"colorbar\":{\"outlinewidth\":0,\"ticks\":\"\"}}}],\"scatterpolar\":[{\"type\":\"scatterpolar\",\"marker\":{\"colorbar\":{\"outlinewidth\":0,\"ticks\":\"\"}}}],\"histogram\":[{\"marker\":{\"pattern\":{\"fillmode\":\"overlay\",\"size\":10,\"solidity\":0.2}},\"type\":\"histogram\"}],\"scattergl\":[{\"type\":\"scattergl\",\"marker\":{\"colorbar\":{\"outlinewidth\":0,\"ticks\":\"\"}}}],\"scatter3d\":[{\"type\":\"scatter3d\",\"line\":{\"colorbar\":{\"outlinewidth\":0,\"ticks\":\"\"}},\"marker\":{\"colorbar\":{\"outlinewidth\":0,\"ticks\":\"\"}}}],\"scattermapbox\":[{\"type\":\"scattermapbox\",\"marker\":{\"colorbar\":{\"outlinewidth\":0,\"ticks\":\"\"}}}],\"scatterternary\":[{\"type\":\"scatterternary\",\"marker\":{\"colorbar\":{\"outlinewidth\":0,\"ticks\":\"\"}}}],\"scattercarpet\":[{\"type\":\"scattercarpet\",\"marker\":{\"colorbar\":{\"outlinewidth\":0,\"ticks\":\"\"}}}],\"carpet\":[{\"aaxis\":{\"endlinecolor\":\"#2a3f5f\",\"gridcolor\":\"white\",\"linecolor\":\"white\",\"minorgridcolor\":\"white\",\"startlinecolor\":\"#2a3f5f\"},\"baxis\":{\"endlinecolor\":\"#2a3f5f\",\"gridcolor\":\"white\",\"linecolor\":\"white\",\"minorgridcolor\":\"white\",\"startlinecolor\":\"#2a3f5f\"},\"type\":\"carpet\"}],\"table\":[{\"cells\":{\"fill\":{\"color\":\"#EBF0F8\"},\"line\":{\"color\":\"white\"}},\"header\":{\"fill\":{\"color\":\"#C8D4E3\"},\"line\":{\"color\":\"white\"}},\"type\":\"table\"}],\"barpolar\":[{\"marker\":{\"line\":{\"color\":\"#E5ECF6\",\"width\":0.5},\"pattern\":{\"fillmode\":\"overlay\",\"size\":10,\"solidity\":0.2}},\"type\":\"barpolar\"}],\"pie\":[{\"automargin\":true,\"type\":\"pie\"}]},\"layout\":{\"autotypenumbers\":\"strict\",\"colorway\":[\"#636efa\",\"#EF553B\",\"#00cc96\",\"#ab63fa\",\"#FFA15A\",\"#19d3f3\",\"#FF6692\",\"#B6E880\",\"#FF97FF\",\"#FECB52\"],\"font\":{\"color\":\"#2a3f5f\"},\"hovermode\":\"closest\",\"hoverlabel\":{\"align\":\"left\"},\"paper_bgcolor\":\"white\",\"plot_bgcolor\":\"#E5ECF6\",\"polar\":{\"bgcolor\":\"#E5ECF6\",\"angularaxis\":{\"gridcolor\":\"white\",\"linecolor\":\"white\",\"ticks\":\"\"},\"radialaxis\":{\"gridcolor\":\"white\",\"linecolor\":\"white\",\"ticks\":\"\"}},\"ternary\":{\"bgcolor\":\"#E5ECF6\",\"aaxis\":{\"gridcolor\":\"white\",\"linecolor\":\"white\",\"ticks\":\"\"},\"baxis\":{\"gridcolor\":\"white\",\"linecolor\":\"white\",\"ticks\":\"\"},\"caxis\":{\"gridcolor\":\"white\",\"linecolor\":\"white\",\"ticks\":\"\"}},\"coloraxis\":{\"colorbar\":{\"outlinewidth\":0,\"ticks\":\"\"}},\"colorscale\":{\"sequential\":[[0.0,\"#0d0887\"],[0.1111111111111111,\"#46039f\"],[0.2222222222222222,\"#7201a8\"],[0.3333333333333333,\"#9c179e\"],[0.4444444444444444,\"#bd3786\"],[0.5555555555555556,\"#d8576b\"],[0.6666666666666666,\"#ed7953\"],[0.7777777777777778,\"#fb9f3a\"],[0.8888888888888888,\"#fdca26\"],[1.0,\"#f0f921\"]],\"sequentialminus\":[[0.0,\"#0d0887\"],[0.1111111111111111,\"#46039f\"],[0.2222222222222222,\"#7201a8\"],[0.3333333333333333,\"#9c179e\"],[0.4444444444444444,\"#bd3786\"],[0.5555555555555556,\"#d8576b\"],[0.6666666666666666,\"#ed7953\"],[0.7777777777777778,\"#fb9f3a\"],[0.8888888888888888,\"#fdca26\"],[1.0,\"#f0f921\"]],\"diverging\":[[0,\"#8e0152\"],[0.1,\"#c51b7d\"],[0.2,\"#de77ae\"],[0.3,\"#f1b6da\"],[0.4,\"#fde0ef\"],[0.5,\"#f7f7f7\"],[0.6,\"#e6f5d0\"],[0.7,\"#b8e186\"],[0.8,\"#7fbc41\"],[0.9,\"#4d9221\"],[1,\"#276419\"]]},\"xaxis\":{\"gridcolor\":\"white\",\"linecolor\":\"white\",\"ticks\":\"\",\"title\":{\"standoff\":15},\"zerolinecolor\":\"white\",\"automargin\":true,\"zerolinewidth\":2},\"yaxis\":{\"gridcolor\":\"white\",\"linecolor\":\"white\",\"ticks\":\"\",\"title\":{\"standoff\":15},\"zerolinecolor\":\"white\",\"automargin\":true,\"zerolinewidth\":2},\"scene\":{\"xaxis\":{\"backgroundcolor\":\"#E5ECF6\",\"gridcolor\":\"white\",\"linecolor\":\"white\",\"showbackground\":true,\"ticks\":\"\",\"zerolinecolor\":\"white\",\"gridwidth\":2},\"yaxis\":{\"backgroundcolor\":\"#E5ECF6\",\"gridcolor\":\"white\",\"linecolor\":\"white\",\"showbackground\":true,\"ticks\":\"\",\"zerolinecolor\":\"white\",\"gridwidth\":2},\"zaxis\":{\"backgroundcolor\":\"#E5ECF6\",\"gridcolor\":\"white\",\"linecolor\":\"white\",\"showbackground\":true,\"ticks\":\"\",\"zerolinecolor\":\"white\",\"gridwidth\":2}},\"shapedefaults\":{\"line\":{\"color\":\"#2a3f5f\"}},\"annotationdefaults\":{\"arrowcolor\":\"#2a3f5f\",\"arrowhead\":0,\"arrowwidth\":1},\"geo\":{\"bgcolor\":\"white\",\"landcolor\":\"#E5ECF6\",\"subunitcolor\":\"white\",\"showland\":true,\"showlakes\":true,\"lakecolor\":\"white\"},\"title\":{\"x\":0.05},\"mapbox\":{\"style\":\"light\"}}},\"xaxis\":{\"anchor\":\"y\",\"domain\":[0.0,1.0],\"title\":{\"text\":\"\\uc124\\ub9bd\\uc77c_year\"}},\"yaxis\":{\"anchor\":\"x\",\"domain\":[0.0,1.0],\"title\":{\"text\":\"sum of count\"}},\"legend\":{\"tracegroupgap\":0},\"margin\":{\"t\":60},\"barmode\":\"relative\"},                        {\"responsive\": true}                    ).then(function(){\n",
       "                            \n",
       "var gd = document.getElementById('2e4b9f31-0d10-4310-a113-ccb0919ba08c');\n",
       "var x = new MutationObserver(function (mutations, observer) {{\n",
       "        var display = window.getComputedStyle(gd).display;\n",
       "        if (!display || display === 'none') {{\n",
       "            console.log([gd, 'removed!']);\n",
       "            Plotly.purge(gd);\n",
       "            observer.disconnect();\n",
       "        }}\n",
       "}});\n",
       "\n",
       "// Listen for the removal of the full notebook cells\n",
       "var notebookContainer = gd.closest('#notebook-container');\n",
       "if (notebookContainer) {{\n",
       "    x.observe(notebookContainer, {childList: true});\n",
       "}}\n",
       "\n",
       "// Listen for the clearing of the current output cell\n",
       "var outputEl = gd.closest('.output');\n",
       "if (outputEl) {{\n",
       "    x.observe(outputEl, {childList: true});\n",
       "}}\n",
       "\n",
       "                        })                };                });            </script>        </div>"
      ]
     },
     "metadata": {},
     "output_type": "display_data"
    }
   ],
   "source": [
    "df3 = p1.loc[p1['대분류'] == '제조업']\n",
    "df3\n",
    "px.histogram(df3,x='설립일_year' , y='count')"
   ]
  },
  {
   "cell_type": "code",
   "execution_count": 37,
   "id": "dc77fd84-def9-4cb5-bfad-2ff75ceac31c",
   "metadata": {},
   "outputs": [
    {
     "name": "stdout",
     "output_type": "stream",
     "text": [
      "<class 'pandas.core.frame.DataFrame'>\n",
      "RangeIndex: 888634 entries, 0 to 888633\n",
      "Data columns (total 7 columns):\n",
      " #   Column       Non-Null Count   Dtype  \n",
      "---  ------       --------------   -----  \n",
      " 0   Unnamed: 0   888634 non-null  int64  \n",
      " 1   BusinessNum  888634 non-null  int64  \n",
      " 2   stYear       887950 non-null  float64\n",
      " 3   stNm         887950 non-null  object \n",
      " 4   acctCd       887950 non-null  object \n",
      " 5   accNm        887950 non-null  object \n",
      " 6   acctAmt      887947 non-null  float64\n",
      "dtypes: float64(2), int64(2), object(3)\n",
      "memory usage: 47.5+ MB\n"
     ]
    }
   ],
   "source": [
    "comp_finance.info()"
   ]
  },
  {
   "cell_type": "code",
   "execution_count": 44,
   "id": "930161dc-1521-4394-a6ea-a020342d58f5",
   "metadata": {},
   "outputs": [
    {
     "data": {
      "text/html": [
       "<div>\n",
       "<style scoped>\n",
       "    .dataframe tbody tr th:only-of-type {\n",
       "        vertical-align: middle;\n",
       "    }\n",
       "\n",
       "    .dataframe tbody tr th {\n",
       "        vertical-align: top;\n",
       "    }\n",
       "\n",
       "    .dataframe thead th {\n",
       "        text-align: right;\n",
       "    }\n",
       "</style>\n",
       "<table border=\"1\" class=\"dataframe\">\n",
       "  <thead>\n",
       "    <tr style=\"text-align: right;\">\n",
       "      <th></th>\n",
       "      <th>Unnamed: 0</th>\n",
       "      <th>사업자등록번호</th>\n",
       "      <th>Unnamed: 2</th>\n",
       "      <th>기업명</th>\n",
       "      <th>기업영문명</th>\n",
       "      <th>대표자명</th>\n",
       "      <th>종업원수</th>\n",
       "      <th>종업원수기준년월</th>\n",
       "      <th>산업분류코드</th>\n",
       "      <th>산업분류코드설명</th>\n",
       "      <th>...</th>\n",
       "      <th>주소</th>\n",
       "      <th>상세주보</th>\n",
       "      <th>대분류</th>\n",
       "      <th>중분류</th>\n",
       "      <th>소분류</th>\n",
       "      <th>세분류</th>\n",
       "      <th>indCd1_str</th>\n",
       "      <th>count</th>\n",
       "      <th>설립일_dt</th>\n",
       "      <th>설립일_year</th>\n",
       "    </tr>\n",
       "  </thead>\n",
       "  <tbody>\n",
       "    <tr>\n",
       "      <th>0</th>\n",
       "      <td>1</td>\n",
       "      <td>1010204456</td>\n",
       "      <td>NaN</td>\n",
       "      <td>씨앤피비즈***</td>\n",
       "      <td>C&amp;P BIZ SOLUT***</td>\n",
       "      <td>함**</td>\n",
       "      <td>5.0</td>\n",
       "      <td>Jun-21</td>\n",
       "      <td>46510</td>\n",
       "      <td>컴퓨터 및 주변장치, 소프트웨어 도매업</td>\n",
       "      <td>...</td>\n",
       "      <td>서울 마포구 월드컵북로 137</td>\n",
       "      <td>(성산동,C.S타워 B3호)</td>\n",
       "      <td>도매 및 소매업</td>\n",
       "      <td>도매 및 상품 중개업</td>\n",
       "      <td>기계장비 및 관련 물품 도매업</td>\n",
       "      <td>컴퓨터 및 주변장치, 소프트웨어 도매업</td>\n",
       "      <td>46510</td>\n",
       "      <td>1</td>\n",
       "      <td>2000-04-14</td>\n",
       "      <td>2000.0</td>\n",
       "    </tr>\n",
       "    <tr>\n",
       "      <th>1</th>\n",
       "      <td>36</td>\n",
       "      <td>1608104528</td>\n",
       "      <td>NaN</td>\n",
       "      <td>(주)그린정보***</td>\n",
       "      <td>GREEN INFORMATION SYATEM CO.KR Co., L***</td>\n",
       "      <td>이**</td>\n",
       "      <td>7.0</td>\n",
       "      <td>Dec-21</td>\n",
       "      <td>46510</td>\n",
       "      <td>컴퓨터 및 주변장치, 소프트웨어 도매업</td>\n",
       "      <td>...</td>\n",
       "      <td>서울 마포구 신촌로12다길 20</td>\n",
       "      <td>1층 (노고산동,스테이하이오피스텔)</td>\n",
       "      <td>도매 및 소매업</td>\n",
       "      <td>도매 및 상품 중개업</td>\n",
       "      <td>기계장비 및 관련 물품 도매업</td>\n",
       "      <td>컴퓨터 및 주변장치, 소프트웨어 도매업</td>\n",
       "      <td>46510</td>\n",
       "      <td>1</td>\n",
       "      <td>2018-01-09</td>\n",
       "      <td>2018.0</td>\n",
       "    </tr>\n",
       "    <tr>\n",
       "      <th>2</th>\n",
       "      <td>577</td>\n",
       "      <td>3123102159</td>\n",
       "      <td>NaN</td>\n",
       "      <td>그린아**</td>\n",
       "      <td>Green IT ***</td>\n",
       "      <td>이**</td>\n",
       "      <td>8.0</td>\n",
       "      <td>Sep-21</td>\n",
       "      <td>46510</td>\n",
       "      <td>컴퓨터 및 주변장치, 소프트웨어 도매업</td>\n",
       "      <td>...</td>\n",
       "      <td>충남 천안시 서북구 오성8길</td>\n",
       "      <td>30, 401호 (두정동,상지빌딩)</td>\n",
       "      <td>도매 및 소매업</td>\n",
       "      <td>도매 및 상품 중개업</td>\n",
       "      <td>기계장비 및 관련 물품 도매업</td>\n",
       "      <td>컴퓨터 및 주변장치, 소프트웨어 도매업</td>\n",
       "      <td>46510</td>\n",
       "      <td>1</td>\n",
       "      <td>2012-11-01</td>\n",
       "      <td>2012.0</td>\n",
       "    </tr>\n",
       "    <tr>\n",
       "      <th>3</th>\n",
       "      <td>636</td>\n",
       "      <td>5048504267</td>\n",
       "      <td>NaN</td>\n",
       "      <td>(주)진두아이에스대***</td>\n",
       "      <td>Jin Do IS Daegu Bra***</td>\n",
       "      <td>손**</td>\n",
       "      <td>NaN</td>\n",
       "      <td>NaN</td>\n",
       "      <td>46510</td>\n",
       "      <td>컴퓨터 및 주변장치, 소프트웨어 도매업</td>\n",
       "      <td>...</td>\n",
       "      <td>대구광역시 중구 동덕로</td>\n",
       "      <td>64-15 (대봉동)</td>\n",
       "      <td>도매 및 소매업</td>\n",
       "      <td>도매 및 상품 중개업</td>\n",
       "      <td>기계장비 및 관련 물품 도매업</td>\n",
       "      <td>컴퓨터 및 주변장치, 소프트웨어 도매업</td>\n",
       "      <td>46510</td>\n",
       "      <td>1</td>\n",
       "      <td>2008-01-14</td>\n",
       "      <td>2008.0</td>\n",
       "    </tr>\n",
       "    <tr>\n",
       "      <th>4</th>\n",
       "      <td>846</td>\n",
       "      <td>1138103379</td>\n",
       "      <td>NaN</td>\n",
       "      <td>선진인포텍***</td>\n",
       "      <td>Sunjin Infotech Co., L***</td>\n",
       "      <td>김**</td>\n",
       "      <td>15.0</td>\n",
       "      <td>Mar-19</td>\n",
       "      <td>46510</td>\n",
       "      <td>컴퓨터 및 주변장치, 소프트웨어 도매업</td>\n",
       "      <td>...</td>\n",
       "      <td>서울 금천구 가산디지털1로 5</td>\n",
       "      <td>1613호, 1614호, 1615호, 1616호, 1617호 (가산동,대륭테크노타운...</td>\n",
       "      <td>도매 및 소매업</td>\n",
       "      <td>도매 및 상품 중개업</td>\n",
       "      <td>기계장비 및 관련 물품 도매업</td>\n",
       "      <td>컴퓨터 및 주변장치, 소프트웨어 도매업</td>\n",
       "      <td>46510</td>\n",
       "      <td>1</td>\n",
       "      <td>1998-08-24</td>\n",
       "      <td>1998.0</td>\n",
       "    </tr>\n",
       "    <tr>\n",
       "      <th>...</th>\n",
       "      <td>...</td>\n",
       "      <td>...</td>\n",
       "      <td>...</td>\n",
       "      <td>...</td>\n",
       "      <td>...</td>\n",
       "      <td>...</td>\n",
       "      <td>...</td>\n",
       "      <td>...</td>\n",
       "      <td>...</td>\n",
       "      <td>...</td>\n",
       "      <td>...</td>\n",
       "      <td>...</td>\n",
       "      <td>...</td>\n",
       "      <td>...</td>\n",
       "      <td>...</td>\n",
       "      <td>...</td>\n",
       "      <td>...</td>\n",
       "      <td>...</td>\n",
       "      <td>...</td>\n",
       "      <td>...</td>\n",
       "      <td>...</td>\n",
       "    </tr>\n",
       "    <tr>\n",
       "      <th>7485</th>\n",
       "      <td>9761</td>\n",
       "      <td>1258107565</td>\n",
       "      <td>NaN</td>\n",
       "      <td>성*</td>\n",
       "      <td>NaN</td>\n",
       "      <td>박**</td>\n",
       "      <td>6.0</td>\n",
       "      <td>Apr-22</td>\n",
       "      <td>42129</td>\n",
       "      <td>기타 기반 조성 관련 전문공사업</td>\n",
       "      <td>...</td>\n",
       "      <td>경기도 여주시 흥천면 석화길 27 (외사리)</td>\n",
       "      <td>NaN</td>\n",
       "      <td>건설업</td>\n",
       "      <td>전문직별 공사업</td>\n",
       "      <td>기반조성 및 시설물 축조관련 전문공사업</td>\n",
       "      <td>기반조성 관련 전문공사업</td>\n",
       "      <td>42129</td>\n",
       "      <td>1</td>\n",
       "      <td>2007-01-08</td>\n",
       "      <td>2007.0</td>\n",
       "    </tr>\n",
       "    <tr>\n",
       "      <th>7486</th>\n",
       "      <td>9155</td>\n",
       "      <td>5028100774</td>\n",
       "      <td>NaN</td>\n",
       "      <td>(주)***</td>\n",
       "      <td>Taegu Broadcasting Corporat***</td>\n",
       "      <td>송**</td>\n",
       "      <td>129.0</td>\n",
       "      <td>Mar-22</td>\n",
       "      <td>60210</td>\n",
       "      <td>지상파 방송업</td>\n",
       "      <td>...</td>\n",
       "      <td>대구 수성구 동대구로 23</td>\n",
       "      <td>(두산동)</td>\n",
       "      <td>정보통신업</td>\n",
       "      <td>방송업</td>\n",
       "      <td>텔레비전 방송업</td>\n",
       "      <td>지상파 방송업</td>\n",
       "      <td>60210</td>\n",
       "      <td>1</td>\n",
       "      <td>1994-10-07</td>\n",
       "      <td>1994.0</td>\n",
       "    </tr>\n",
       "    <tr>\n",
       "      <th>7487</th>\n",
       "      <td>9282</td>\n",
       "      <td>1168100017</td>\n",
       "      <td>NaN</td>\n",
       "      <td>문화**</td>\n",
       "      <td>NaN</td>\n",
       "      <td>박**</td>\n",
       "      <td>1619.0</td>\n",
       "      <td>May-22</td>\n",
       "      <td>60210</td>\n",
       "      <td>지상파 방송업</td>\n",
       "      <td>...</td>\n",
       "      <td>서울 마포구 성암로 267 (상암동)</td>\n",
       "      <td>NaN</td>\n",
       "      <td>정보통신업</td>\n",
       "      <td>방송업</td>\n",
       "      <td>텔레비전 방송업</td>\n",
       "      <td>지상파 방송업</td>\n",
       "      <td>60210</td>\n",
       "      <td>1</td>\n",
       "      <td>1961-12-02</td>\n",
       "      <td>1961.0</td>\n",
       "    </tr>\n",
       "    <tr>\n",
       "      <th>7488</th>\n",
       "      <td>9442</td>\n",
       "      <td>1238101777</td>\n",
       "      <td>NaN</td>\n",
       "      <td>환경에너지***</td>\n",
       "      <td>NaN</td>\n",
       "      <td>이**</td>\n",
       "      <td>842.0</td>\n",
       "      <td>Apr-22</td>\n",
       "      <td>38210</td>\n",
       "      <td>지정 외 폐기물 처리업</td>\n",
       "      <td>...</td>\n",
       "      <td>경기 안양시 동안구 평촌대로212번길 55 6층 (관양동,대고빌딩)</td>\n",
       "      <td>NaN</td>\n",
       "      <td>수도, 하수 및 폐기물 처리, 원료 재생업</td>\n",
       "      <td>폐기물 수집, 운반, 처리 및 원료 재생업</td>\n",
       "      <td>폐기물 처리업</td>\n",
       "      <td>지정 외 폐기물 처리업</td>\n",
       "      <td>38210</td>\n",
       "      <td>1</td>\n",
       "      <td>2002-01-18</td>\n",
       "      <td>2002.0</td>\n",
       "    </tr>\n",
       "    <tr>\n",
       "      <th>7489</th>\n",
       "      <td>9487</td>\n",
       "      <td>1208608619</td>\n",
       "      <td>NaN</td>\n",
       "      <td>네오**</td>\n",
       "      <td>NaN</td>\n",
       "      <td>김종내외***</td>\n",
       "      <td>9.0</td>\n",
       "      <td>Mar-19</td>\n",
       "      <td>28422</td>\n",
       "      <td>일반용 전기 조명장치 제조업</td>\n",
       "      <td>...</td>\n",
       "      <td>서울특별시 강남구 논현로152길 21 1층 (신사동,디오빌딩)</td>\n",
       "      <td>NaN</td>\n",
       "      <td>제조업</td>\n",
       "      <td>전기장비 제조업</td>\n",
       "      <td>전구 및 조명장치 제조업</td>\n",
       "      <td>조명장치 제조업</td>\n",
       "      <td>28422</td>\n",
       "      <td>1</td>\n",
       "      <td>2001-03-06</td>\n",
       "      <td>2001.0</td>\n",
       "    </tr>\n",
       "  </tbody>\n",
       "</table>\n",
       "<p>7490 rows × 28 columns</p>\n",
       "</div>"
      ],
      "text/plain": [
       "      Unnamed: 0     사업자등록번호  Unnamed: 2            기업명  \\\n",
       "0              1  1010204456         NaN       씨앤피비즈***   \n",
       "1             36  1608104528         NaN     (주)그린정보***   \n",
       "2            577  3123102159         NaN          그린아**   \n",
       "3            636  5048504267         NaN  (주)진두아이에스대***   \n",
       "4            846  1138103379         NaN       선진인포텍***   \n",
       "...          ...         ...         ...            ...   \n",
       "7485        9761  1258107565         NaN             성*   \n",
       "7486        9155  5028100774         NaN         (주)***   \n",
       "7487        9282  1168100017         NaN           문화**   \n",
       "7488        9442  1238101777         NaN       환경에너지***   \n",
       "7489        9487  1208608619         NaN           네오**   \n",
       "\n",
       "                                         기업영문명     대표자명    종업원수 종업원수기준년월  \\\n",
       "0                             C&P BIZ SOLUT***      함**     5.0   Jun-21   \n",
       "1     GREEN INFORMATION SYATEM CO.KR Co., L***      이**     7.0   Dec-21   \n",
       "2                                 Green IT ***      이**     8.0   Sep-21   \n",
       "3                       Jin Do IS Daegu Bra***      손**     NaN      NaN   \n",
       "4                    Sunjin Infotech Co., L***      김**    15.0   Mar-19   \n",
       "...                                        ...      ...     ...      ...   \n",
       "7485                                       NaN      박**     6.0   Apr-22   \n",
       "7486            Taegu Broadcasting Corporat***      송**   129.0   Mar-22   \n",
       "7487                                       NaN      박**  1619.0   May-22   \n",
       "7488                                       NaN      이**   842.0   Apr-22   \n",
       "7489                                       NaN  김종내외***     9.0   Mar-19   \n",
       "\n",
       "     산업분류코드               산업분류코드설명  ...  \\\n",
       "0     46510  컴퓨터 및 주변장치, 소프트웨어 도매업  ...   \n",
       "1     46510  컴퓨터 및 주변장치, 소프트웨어 도매업  ...   \n",
       "2     46510  컴퓨터 및 주변장치, 소프트웨어 도매업  ...   \n",
       "3     46510  컴퓨터 및 주변장치, 소프트웨어 도매업  ...   \n",
       "4     46510  컴퓨터 및 주변장치, 소프트웨어 도매업  ...   \n",
       "...     ...                    ...  ...   \n",
       "7485  42129      기타 기반 조성 관련 전문공사업  ...   \n",
       "7486  60210                지상파 방송업  ...   \n",
       "7487  60210                지상파 방송업  ...   \n",
       "7488  38210           지정 외 폐기물 처리업  ...   \n",
       "7489  28422        일반용 전기 조명장치 제조업  ...   \n",
       "\n",
       "                                         주소  \\\n",
       "0                          서울 마포구 월드컵북로 137   \n",
       "1                         서울 마포구 신촌로12다길 20   \n",
       "2                           충남 천안시 서북구 오성8길   \n",
       "3                              대구광역시 중구 동덕로   \n",
       "4                          서울 금천구 가산디지털1로 5   \n",
       "...                                     ...   \n",
       "7485               경기도 여주시 흥천면 석화길 27 (외사리)   \n",
       "7486                         대구 수성구 동대구로 23   \n",
       "7487                   서울 마포구 성암로 267 (상암동)   \n",
       "7488  경기 안양시 동안구 평촌대로212번길 55 6층 (관양동,대고빌딩)   \n",
       "7489     서울특별시 강남구 논현로152길 21 1층 (신사동,디오빌딩)   \n",
       "\n",
       "                                                   상세주보  \\\n",
       "0                                       (성산동,C.S타워 B3호)   \n",
       "1                                   1층 (노고산동,스테이하이오피스텔)   \n",
       "2                                   30, 401호 (두정동,상지빌딩)   \n",
       "3                                           64-15 (대봉동)   \n",
       "4     1613호, 1614호, 1615호, 1616호, 1617호 (가산동,대륭테크노타운...   \n",
       "...                                                 ...   \n",
       "7485                                                NaN   \n",
       "7486                                              (두산동)   \n",
       "7487                                                NaN   \n",
       "7488                                                NaN   \n",
       "7489                                                NaN   \n",
       "\n",
       "                          대분류                      중분류                    소분류  \\\n",
       "0                    도매 및 소매업              도매 및 상품 중개업       기계장비 및 관련 물품 도매업   \n",
       "1                    도매 및 소매업              도매 및 상품 중개업       기계장비 및 관련 물품 도매업   \n",
       "2                    도매 및 소매업              도매 및 상품 중개업       기계장비 및 관련 물품 도매업   \n",
       "3                    도매 및 소매업              도매 및 상품 중개업       기계장비 및 관련 물품 도매업   \n",
       "4                    도매 및 소매업              도매 및 상품 중개업       기계장비 및 관련 물품 도매업   \n",
       "...                       ...                      ...                    ...   \n",
       "7485                      건설업                 전문직별 공사업  기반조성 및 시설물 축조관련 전문공사업   \n",
       "7486                    정보통신업                      방송업               텔레비전 방송업   \n",
       "7487                    정보통신업                      방송업               텔레비전 방송업   \n",
       "7488  수도, 하수 및 폐기물 처리, 원료 재생업  폐기물 수집, 운반, 처리 및 원료 재생업                폐기물 처리업   \n",
       "7489                      제조업                 전기장비 제조업          전구 및 조명장치 제조업   \n",
       "\n",
       "                        세분류 indCd1_str  count     설립일_dt 설립일_year  \n",
       "0     컴퓨터 및 주변장치, 소프트웨어 도매업      46510      1 2000-04-14   2000.0  \n",
       "1     컴퓨터 및 주변장치, 소프트웨어 도매업      46510      1 2018-01-09   2018.0  \n",
       "2     컴퓨터 및 주변장치, 소프트웨어 도매업      46510      1 2012-11-01   2012.0  \n",
       "3     컴퓨터 및 주변장치, 소프트웨어 도매업      46510      1 2008-01-14   2008.0  \n",
       "4     컴퓨터 및 주변장치, 소프트웨어 도매업      46510      1 1998-08-24   1998.0  \n",
       "...                     ...        ...    ...        ...      ...  \n",
       "7485          기반조성 관련 전문공사업      42129      1 2007-01-08   2007.0  \n",
       "7486                지상파 방송업      60210      1 1994-10-07   1994.0  \n",
       "7487                지상파 방송업      60210      1 1961-12-02   1961.0  \n",
       "7488           지정 외 폐기물 처리업      38210      1 2002-01-18   2002.0  \n",
       "7489               조명장치 제조업      28422      1 2001-03-06   2001.0  \n",
       "\n",
       "[7490 rows x 28 columns]"
      ]
     },
     "execution_count": 44,
     "metadata": {},
     "output_type": "execute_result"
    }
   ],
   "source": [
    "m1"
   ]
  },
  {
   "cell_type": "markdown",
   "id": "598e96c4-a8ab-4080-bb24-b4f7cf36245e",
   "metadata": {},
   "source": [
    "# 국가 과제 없는 회사 제외"
   ]
  },
  {
   "cell_type": "code",
   "execution_count": 52,
   "id": "5cd526c8-cddb-4376-9d42-6555856953dc",
   "metadata": {},
   "outputs": [],
   "source": [
    "rnd_list = ntis_assign['BusinessNum'].unique().tolist()"
   ]
  },
  {
   "cell_type": "code",
   "execution_count": 73,
   "id": "f0b9b04d-f151-4569-9825-fba6ac973f45",
   "metadata": {},
   "outputs": [],
   "source": [
    "df_rnd = comp_spe_intro.loc[comp_spe_intro['사업자등록번호'].isin(not_rnd_list)]"
   ]
  },
  {
   "cell_type": "code",
   "execution_count": 82,
   "id": "aee8c211-f604-4dcb-957f-bd170a2fee00",
   "metadata": {},
   "outputs": [],
   "source": [
    "comp_finance_list = comp_finance['BusinessNum'].unique().tolist()\n",
    "df_finace = df_rnd.loc[comp_spe_intro['사업자등록번호'].isin(comp_finance_list)]"
   ]
  },
  {
   "cell_type": "code",
   "execution_count": 83,
   "id": "5a8e6bab-9b39-4d75-a65d-d0803474669a",
   "metadata": {},
   "outputs": [
    {
     "name": "stdout",
     "output_type": "stream",
     "text": [
      "<class 'pandas.core.frame.DataFrame'>\n",
      "Index: 5937 entries, 0 to 7489\n",
      "Data columns (total 27 columns):\n",
      " #   Column      Non-Null Count  Dtype         \n",
      "---  ------      --------------  -----         \n",
      " 0   Unnamed: 0  5937 non-null   int64         \n",
      " 1   사업자등록번호     5937 non-null   int64         \n",
      " 2   Unnamed: 2  0 non-null      float64       \n",
      " 3   기업명         5937 non-null   object        \n",
      " 4   기업영문명       5437 non-null   object        \n",
      " 5   대표자명        5937 non-null   object        \n",
      " 6   종업원수        5638 non-null   float64       \n",
      " 7   종업원수기준년월    5607 non-null   object        \n",
      " 8   산업분류코드      5937 non-null   object        \n",
      " 9   산업분류코드설명    5937 non-null   object        \n",
      " 10  기업규모        5937 non-null   object        \n",
      " 11  기업형태        5937 non-null   object        \n",
      " 12  업태명         5023 non-null   object        \n",
      " 13  설립일         5740 non-null   float64       \n",
      " 14  이메일주소       2340 non-null   object        \n",
      " 15  전화번호        5616 non-null   object        \n",
      " 16  팩스전화번호      4753 non-null   object        \n",
      " 17  우편번호        5491 non-null   float64       \n",
      " 18  주소          5904 non-null   object        \n",
      " 19  상세주보        5577 non-null   object        \n",
      " 20  설립일_dt      5740 non-null   datetime64[ns]\n",
      " 21  설립일_year    5740 non-null   float64       \n",
      " 22  대분류         5937 non-null   object        \n",
      " 23  중분류         5937 non-null   object        \n",
      " 24  소분류         5937 non-null   object        \n",
      " 25  세분류         5937 non-null   object        \n",
      " 26  indCd1_str  5937 non-null   object        \n",
      "dtypes: datetime64[ns](1), float64(5), int64(2), object(19)\n",
      "memory usage: 1.3+ MB\n"
     ]
    }
   ],
   "source": [
    "df_finace.info()"
   ]
  },
  {
   "cell_type": "code",
   "execution_count": 84,
   "id": "53daa78f-af5b-4b60-b49b-5c4fa18a20ab",
   "metadata": {},
   "outputs": [
    {
     "data": {
      "text/plain": [
       "대분류\n",
       "정보통신업                       2136\n",
       "건설업                         1982\n",
       "도매 및 소매업                     707\n",
       "제조업                          521\n",
       "전문, 과학 및 기술 서비스업             226\n",
       "사업시설 관리, 사업 지원 및 임대 서비스업     103\n",
       "협회 및 단체, 수리 및 기타 개인 서비스업      51\n",
       "부동산업                          50\n",
       "운수 및 창고업                      41\n",
       "교육 서비스업                       31\n",
       "금융 및 보험업                      30\n",
       "숙박 및 음식점업                     26\n",
       "예술, 스포츠 및 여가관련 서비스업           12\n",
       "보건업 및 사회복지 서비스업                9\n",
       "수도, 하수 및 폐기물 처리, 원료 재생업        5\n",
       "전기, 가스, 증기 및 공기 조절 공급업         4\n",
       "농업, 임업 및 어업                    2\n",
       "공공 행정, 국방 및 사회보장 행정            1\n",
       "Name: count, dtype: int64"
      ]
     },
     "execution_count": 84,
     "metadata": {},
     "output_type": "execute_result"
    }
   ],
   "source": [
    "df_finace['대분류'].value_counts()"
   ]
  },
  {
   "cell_type": "markdown",
   "id": "c5dbbd73-c103-4347-963a-5fde4714193e",
   "metadata": {},
   "source": [
    "# 재무정보확인"
   ]
  },
  {
   "cell_type": "code",
   "execution_count": 37,
   "id": "084ea4d1-6fdf-4de3-bf59-dacc072cff59",
   "metadata": {},
   "outputs": [
    {
     "name": "stdout",
     "output_type": "stream",
     "text": [
      "<class 'pandas.core.frame.DataFrame'>\n",
      "RangeIndex: 888634 entries, 0 to 888633\n",
      "Data columns (total 7 columns):\n",
      " #   Column       Non-Null Count   Dtype  \n",
      "---  ------       --------------   -----  \n",
      " 0   Unnamed: 0   888634 non-null  int64  \n",
      " 1   BusinessNum  888634 non-null  int64  \n",
      " 2   stYear       887950 non-null  float64\n",
      " 3   stNm         887950 non-null  object \n",
      " 4   acctCd       887950 non-null  object \n",
      " 5   accNm        887950 non-null  object \n",
      " 6   acctAmt      887947 non-null  float64\n",
      "dtypes: float64(2), int64(2), object(3)\n",
      "memory usage: 47.5+ MB\n"
     ]
    }
   ],
   "source": [
    "comp_finance.info()"
   ]
  },
  {
   "cell_type": "code",
   "execution_count": 21,
   "id": "4dd6b83a-0c7d-4a76-b61f-825d1eb7e5c6",
   "metadata": {},
   "outputs": [
    {
     "data": {
      "text/plain": [
       "array([nan, '유동자산', '당좌자산', '매출채권', '재고자산', '투자자산', '자산총계', '유동부채',\n",
       "       '비유동부채', '부채총계', '이익잉여금', '자본총계', '매출액', '매출원가', '매출총이익',\n",
       "       '판매비와관리비', '인건비', '영업이익', '영업외비용', '법인세비용', '당기순이익(손실)', '총자산 증가율',\n",
       "       '유형자산 증가율', '매출 증가율', '총자산', '자기자본', '차입금', '유동비율', '대손상각비',\n",
       "       '이자비용', '노무비', '제조경비', '제조원가', '원재료', '자본잉여금', '수출액1', '수출액2',\n",
       "       '수출액3', '수출액5', '당좌부채(당좌차월)', '수출액4'], dtype=object)"
      ]
     },
     "execution_count": 21,
     "metadata": {},
     "output_type": "execute_result"
    }
   ],
   "source": [
    "comp_finance['accNm'].unique()"
   ]
  },
  {
   "cell_type": "code",
   "execution_count": 15,
   "id": "068e7457-cd01-431f-b15d-5efb33b96b16",
   "metadata": {},
   "outputs": [
    {
     "data": {
      "text/plain": [
       "7271"
      ]
     },
     "execution_count": 15,
     "metadata": {},
     "output_type": "execute_result"
    }
   ],
   "source": [
    "len(comp_finance.loc[comp_finance['accNm']=='인건비']['BusinessNum'].unique())"
   ]
  },
  {
   "cell_type": "code",
   "execution_count": 16,
   "id": "aef85f7c-6fca-43ff-b91a-88ad56bf044e",
   "metadata": {},
   "outputs": [
    {
     "data": {
      "text/plain": [
       "8000"
      ]
     },
     "execution_count": 16,
     "metadata": {},
     "output_type": "execute_result"
    }
   ],
   "source": [
    "len(comp_finance['BusinessNum'].unique())"
   ]
  },
  {
   "cell_type": "code",
   "execution_count": 36,
   "id": "62f16d7e-18a0-4f69-8f2f-db662bdab04a",
   "metadata": {},
   "outputs": [
    {
     "data": {
      "text/plain": [
       "7301"
      ]
     },
     "execution_count": 36,
     "metadata": {},
     "output_type": "execute_result"
    }
   ],
   "source": [
    "len(comp_finance.loc[comp_finance['accNm']=='매출총이익']['BusinessNum'].unique())"
   ]
  },
  {
   "cell_type": "code",
   "execution_count": 45,
   "id": "034504a0-88bc-4875-ad78-09a4170c5d0a",
   "metadata": {},
   "outputs": [
    {
     "data": {
      "text/html": [
       "<div>\n",
       "<style scoped>\n",
       "    .dataframe tbody tr th:only-of-type {\n",
       "        vertical-align: middle;\n",
       "    }\n",
       "\n",
       "    .dataframe tbody tr th {\n",
       "        vertical-align: top;\n",
       "    }\n",
       "\n",
       "    .dataframe thead th {\n",
       "        text-align: right;\n",
       "    }\n",
       "</style>\n",
       "<table border=\"1\" class=\"dataframe\">\n",
       "  <thead>\n",
       "    <tr style=\"text-align: right;\">\n",
       "      <th></th>\n",
       "      <th>BusinessNum</th>\n",
       "      <th>stYear</th>\n",
       "      <th>acctAmt</th>\n",
       "    </tr>\n",
       "  </thead>\n",
       "  <tbody>\n",
       "    <tr>\n",
       "      <th>0</th>\n",
       "      <td>1010109319</td>\n",
       "      <td>2017.0</td>\n",
       "      <td>4.347828e+10</td>\n",
       "    </tr>\n",
       "    <tr>\n",
       "      <th>1</th>\n",
       "      <td>1010109319</td>\n",
       "      <td>2018.0</td>\n",
       "      <td>4.761907e+10</td>\n",
       "    </tr>\n",
       "    <tr>\n",
       "      <th>2</th>\n",
       "      <td>1010109319</td>\n",
       "      <td>2019.0</td>\n",
       "      <td>4.761907e+10</td>\n",
       "    </tr>\n",
       "    <tr>\n",
       "      <th>3</th>\n",
       "      <td>1010204456</td>\n",
       "      <td>2017.0</td>\n",
       "      <td>3.573899e+05</td>\n",
       "    </tr>\n",
       "    <tr>\n",
       "      <th>4</th>\n",
       "      <td>1010204456</td>\n",
       "      <td>2018.0</td>\n",
       "      <td>3.900892e+05</td>\n",
       "    </tr>\n",
       "    <tr>\n",
       "      <th>...</th>\n",
       "      <td>...</td>\n",
       "      <td>...</td>\n",
       "      <td>...</td>\n",
       "    </tr>\n",
       "    <tr>\n",
       "      <th>31332</th>\n",
       "      <td>8998803795</td>\n",
       "      <td>2017.0</td>\n",
       "      <td>1.666667e+11</td>\n",
       "    </tr>\n",
       "    <tr>\n",
       "      <th>31333</th>\n",
       "      <td>8998803795</td>\n",
       "      <td>2018.0</td>\n",
       "      <td>8.333410e+10</td>\n",
       "    </tr>\n",
       "    <tr>\n",
       "      <th>31334</th>\n",
       "      <td>8998803795</td>\n",
       "      <td>2019.0</td>\n",
       "      <td>1.589174e+06</td>\n",
       "    </tr>\n",
       "    <tr>\n",
       "      <th>31335</th>\n",
       "      <td>8998803795</td>\n",
       "      <td>2020.0</td>\n",
       "      <td>1.292393e+06</td>\n",
       "    </tr>\n",
       "    <tr>\n",
       "      <th>31336</th>\n",
       "      <td>8998803795</td>\n",
       "      <td>2021.0</td>\n",
       "      <td>6.288480e+05</td>\n",
       "    </tr>\n",
       "  </tbody>\n",
       "</table>\n",
       "<p>31337 rows × 3 columns</p>\n",
       "</div>"
      ],
      "text/plain": [
       "       BusinessNum  stYear       acctAmt\n",
       "0       1010109319  2017.0  4.347828e+10\n",
       "1       1010109319  2018.0  4.761907e+10\n",
       "2       1010109319  2019.0  4.761907e+10\n",
       "3       1010204456  2017.0  3.573899e+05\n",
       "4       1010204456  2018.0  3.900892e+05\n",
       "...            ...     ...           ...\n",
       "31332   8998803795  2017.0  1.666667e+11\n",
       "31333   8998803795  2018.0  8.333410e+10\n",
       "31334   8998803795  2019.0  1.589174e+06\n",
       "31335   8998803795  2020.0  1.292393e+06\n",
       "31336   8998803795  2021.0  6.288480e+05\n",
       "\n",
       "[31337 rows x 3 columns]"
      ]
     },
     "execution_count": 45,
     "metadata": {},
     "output_type": "execute_result"
    }
   ],
   "source": [
    "pv1 = comp_finance.pivot_table(index=['BusinessNum','stYear'], values='acctAmt',  aggfunc='mean').reset_index()\n",
    "pv1 "
   ]
  },
  {
   "cell_type": "code",
   "execution_count": 46,
   "id": "231dca9c-002d-470d-ac73-069ef6c815b7",
   "metadata": {},
   "outputs": [
    {
     "data": {
      "text/plain": [
       "(31337, 3)"
      ]
     },
     "execution_count": 46,
     "metadata": {},
     "output_type": "execute_result"
    }
   ],
   "source": [
    "pv1.shape"
   ]
  },
  {
   "cell_type": "code",
   "execution_count": 47,
   "id": "0a7fe7a3-a0b0-40a7-a90d-6f6fed1f3fbc",
   "metadata": {},
   "outputs": [
    {
     "data": {
      "text/plain": [
       "BusinessNum\n",
       "1010109319    3\n",
       "1010204456    5\n",
       "1010607727    3\n",
       "1010709848    2\n",
       "1011106242    4\n",
       "             ..\n",
       "8988107860    4\n",
       "8988702634    5\n",
       "8998607522    2\n",
       "8998708313    5\n",
       "8998803795    5\n",
       "Name: stYear, Length: 7316, dtype: int64"
      ]
     },
     "execution_count": 47,
     "metadata": {},
     "output_type": "execute_result"
    }
   ],
   "source": [
    "year_counts = pv1.groupby('BusinessNum')['stYear'].nunique()\n",
    "filtered_business_nums = year_counts[year_counts <= 4]"
   ]
  },
  {
   "cell_type": "code",
   "execution_count": 55,
   "id": "9557fafc-9cdb-4979-847d-66fc4b818abc",
   "metadata": {},
   "outputs": [
    {
     "data": {
      "text/plain": [
       "Index([1010109319, 1010607727, 1010709848, 1011106242, 1018100845, 1018102731,\n",
       "       1018104121, 1018107650, 1018107961, 1018108627,\n",
       "       ...\n",
       "       8938104987, 8948604603, 8962207587, 8968106155, 8968108422, 8968600318,\n",
       "       8968702730, 8968801450, 8988107860, 8998607522],\n",
       "      dtype='int64', name='BusinessNum', length=3115)"
      ]
     },
     "execution_count": 55,
     "metadata": {},
     "output_type": "execute_result"
    }
   ],
   "source": [
    "filtered_business_nums.index"
   ]
  },
  {
   "cell_type": "code",
   "execution_count": 68,
   "id": "6b08e2be-7476-4a86-978d-a60db57f7444",
   "metadata": {},
   "outputs": [],
   "source": [
    "shutdown_list = []\n",
    "for i in filtered_business_nums.index :\n",
    "    if pv1.loc[pv1['BusinessNum'] == i].iloc[0]['stYear'] == 2017.0 :\n",
    "        shutdown_list.append(pv1.loc[pv1['BusinessNum'] == i].iloc[0]['BusinessNum'])"
   ]
  },
  {
   "cell_type": "code",
   "execution_count": 70,
   "id": "beef397e-2ee6-49d5-a220-f15863668e9d",
   "metadata": {},
   "outputs": [
    {
     "data": {
      "text/plain": [
       "1652"
      ]
     },
     "execution_count": 70,
     "metadata": {},
     "output_type": "execute_result"
    }
   ],
   "source": [
    "len(shutdown_list)"
   ]
  },
  {
   "cell_type": "code",
   "execution_count": 20,
   "id": "f3065ff5",
   "metadata": {},
   "outputs": [
    {
     "name": "stdout",
     "output_type": "stream",
     "text": [
      "<class 'pandas.core.frame.DataFrame'>\n",
      "RangeIndex: 156666 entries, 0 to 156665\n",
      "Data columns (total 57 columns):\n",
      " #   Column                          Non-Null Count   Dtype  \n",
      "---  ------                          --------------   -----  \n",
      " 0   Unnamed: 0                      156666 non-null  int64  \n",
      " 1   BusinessNum                     156666 non-null  int64  \n",
      " 2   ProjectNo                       122915 non-null  float64\n",
      " 3   ProjectNameKR                   122915 non-null  object \n",
      " 4   ProjectNameEN                   47544 non-null   object \n",
      " 5   ManagerName                     121805 non-null  object \n",
      " 6   ResearchersName                 86220 non-null   object \n",
      " 7   ResManCount                     112253 non-null  float64\n",
      " 8   ResWmanCount                    77439 non-null   float64\n",
      " 9   GoalFull                        118386 non-null  object \n",
      " 10  GoalTeaser                      23525 non-null   object \n",
      " 11  AbstractFull                    117866 non-null  object \n",
      " 12  AbstractTeaser                  22620 non-null   object \n",
      " 13  EffectFull                      99202 non-null   object \n",
      " 14  EffectTeaser                    22604 non-null   object \n",
      " 15  KeywordKR                       118356 non-null  object \n",
      " 16  KeywordEN                       117289 non-null  object \n",
      " 17  OrderagencyName                 122915 non-null  object \n",
      " 18  ResearchagencyName              122915 non-null  object \n",
      " 19  BudgetProjectName               122680 non-null  object \n",
      " 20  BusinessName                    122915 non-null  object \n",
      " 21  BigprojectTitle                 109181 non-null  object \n",
      " 22  ManageagencyName                122915 non-null  object \n",
      " 23  MinistryName                    122680 non-null  object \n",
      " 24  ProjectYear                     122915 non-null  float64\n",
      " 25  ProjectStart                    122915 non-null  object \n",
      " 26  ProjectEnd                      122381 non-null  object \n",
      " 27  ProjectTotstart                 122879 non-null  object \n",
      " 28  ProjectTotend                   122879 non-null  object \n",
      " 29  OrganizationpNo                 122915 non-null  object \n",
      " 30  Scienceclass_New_1_Large_code   98468 non-null   object \n",
      " 31  Scienceclass_New_1_Large        98418 non-null   object \n",
      " 32  Scienceclass_New_1_Midium_Code  98492 non-null   object \n",
      " 33  Scienceclass_New_1_Midium       98418 non-null   object \n",
      " 34  Scienceclass_New_1_Small_Code   83196 non-null   object \n",
      " 35  Scienceclass_New_1_Small        83155 non-null   object \n",
      " 36  Ministryscience_Class_Large     73487 non-null   object \n",
      " 37  Ministryscience_Class_Midium    74246 non-null   object \n",
      " 38  Ministryscience_Class_Small     74413 non-null   object \n",
      " 39  Tempscience_Class_Large         25188 non-null   object \n",
      " 40  Tempscience_Class_Midium        25188 non-null   object \n",
      " 41  Tempscience_Class_Small         25188 non-null   object \n",
      " 42  PerformagentCode                122883 non-null  object \n",
      " 43  Performagent                    122883 non-null  object \n",
      " 44  DevelopmentPhasesCode           122730 non-null  object \n",
      " 45  DevelopmentPhases               122730 non-null  object \n",
      " 46  TechlifecycleCode               113243 non-null  object \n",
      " 47  TechLifecycle                   113243 non-null  object \n",
      " 48  RegionCode                      122754 non-null  object \n",
      " 49  Region                          122754 non-null  object \n",
      " 50  EconomicSocialGoal              39349 non-null   object \n",
      " 51  SixtechCode                     117882 non-null  object \n",
      " 52  Sixtech                         117882 non-null  object \n",
      " 53  ApplyareaFirstCode              102850 non-null  object \n",
      " 54  ApplyareaFirst                  102850 non-null  object \n",
      " 55  ApplyareaSecond                 121893 non-null  object \n",
      " 56  ApplyareaThird                  121595 non-null  object \n",
      "dtypes: float64(4), int64(2), object(51)\n",
      "memory usage: 68.1+ MB\n"
     ]
    }
   ],
   "source": [
    "ntis_assign.info()"
   ]
  },
  {
   "cell_type": "markdown",
   "id": "f8b4f402",
   "metadata": {},
   "source": [
    "# R&D 확인"
   ]
  },
  {
   "cell_type": "code",
   "execution_count": 35,
   "id": "d70243c7",
   "metadata": {},
   "outputs": [
    {
     "data": {
      "text/plain": [
       "8736      ['백승한', '정송혜', '강대운', '박형선', '손종혁', '유인학', '김건...\n",
       "8751      ['백승한', '정송혜', '강대운', '박형선', '손종혁', '유인학', '김건...\n",
       "8802      ['백승한', '정송혜', '강대운', '박형선', '손종혁', '유인학', '김건...\n",
       "8807      ['백승한', '정송혜', '강대운', '박형선', '손종혁', '유인학', '김건...\n",
       "8885      ['백승한', '정송혜', '강대운', '박형선', '손종혁', '유인학', '김건...\n",
       "                                ...                        \n",
       "135956    ['백승한', '정송혜', '강대운', '박형선', '손종혁', '유인학', '김건...\n",
       "136037    ['백승한', '정송혜', '강대운', '박형선', '손종혁', '유인학', '김건...\n",
       "136048    ['백승한', '정송혜', '강대운', '박형선', '손종혁', '유인학', '김건...\n",
       "136089    ['백승한', '정송혜', '강대운', '박형선', '손종혁', '유인학', '김건...\n",
       "136107    ['백승한', '정송혜', '강대운', '박형선', '손종혁', '유인학', '김건...\n",
       "Name: ResearchersName, Length: 106, dtype: object"
      ]
     },
     "execution_count": 35,
     "metadata": {},
     "output_type": "execute_result"
    }
   ],
   "source": [
    "ntis_assign.loc[ntis_assign['ProjectNo_str'] == '1415140263.0']['ResearchersName']"
   ]
  },
  {
   "cell_type": "code",
   "execution_count": 29,
   "id": "94550fe0",
   "metadata": {},
   "outputs": [
    {
     "data": {
      "text/plain": [
       "nan             33751\n",
       "1415140263.0      106\n",
       "1415134777.0      106\n",
       "1415152294.0      106\n",
       "1415146080.0      106\n",
       "                ...  \n",
       "1415159981.0        1\n",
       "1711125997.0        1\n",
       "1711108632.0        1\n",
       "1711074007.0        1\n",
       "1345119205.0        1\n",
       "Name: ProjectNo_str, Length: 25462, dtype: int64"
      ]
     },
     "execution_count": 29,
     "metadata": {},
     "output_type": "execute_result"
    }
   ],
   "source": [
    "ntis_assign['ProjectNo_str'].value_counts()"
   ]
  },
  {
   "cell_type": "code",
   "execution_count": 27,
   "id": "2cc97bd7",
   "metadata": {},
   "outputs": [],
   "source": [
    "ntis_assign['ProjectNo_str'] = ntis_assign['ProjectNo'].astype('str')"
   ]
  },
  {
   "cell_type": "code",
   "execution_count": 39,
   "id": "a8260fdb",
   "metadata": {},
   "outputs": [
    {
     "data": {
      "text/plain": [
       "\"['백승한', '정송혜', '강대운', '박형선', '손종혁', '유인학', '김건명', '김종훈', '이규림', '김정철', '김현철', '이현정', '김태완', '곽희주', '한동운', '남희철', '이상훈', '이희정', '이송열', '권명규', '임준모', '황주연', '이선영', '한태호', '추삼곤', '유재풍', '박진철', '배동주', '이기보', '최승원', '유요한', '이용직', '김기익', 'HONG HOONBIN', '한태익', '곽진구', '박종원', '여민정', '정수용', '정현호', '임재민', '이승훈', '김동기', '배해식']\""
      ]
     },
     "execution_count": 39,
     "metadata": {},
     "output_type": "execute_result"
    }
   ],
   "source": [
    "ntis_assign.loc[8736]['ResearchersName']"
   ]
  },
  {
   "cell_type": "code",
   "execution_count": 40,
   "id": "d5d84129",
   "metadata": {},
   "outputs": [
    {
     "data": {
      "text/plain": [
       "25462"
      ]
     },
     "execution_count": 40,
     "metadata": {},
     "output_type": "execute_result"
    }
   ],
   "source": [
    "len(ntis_assign['ProjectNo_str'].unique())"
   ]
  },
  {
   "cell_type": "code",
   "execution_count": 46,
   "id": "f25ec234",
   "metadata": {},
   "outputs": [
    {
     "data": {
      "text/plain": [
       "25462"
      ]
     },
     "execution_count": 46,
     "metadata": {},
     "output_type": "execute_result"
    }
   ],
   "source": [
    "len(ntis_assign['ProjectNo_str'].unique())"
   ]
  },
  {
   "cell_type": "code",
   "execution_count": 44,
   "id": "aa42062f",
   "metadata": {
    "scrolled": false
   },
   "outputs": [
    {
     "data": {
      "text/plain": [
       "Unnamed: 0                                                                        0\n",
       "BusinessNum                                                              1051505526\n",
       "ProjectNo                                                              1425153964.0\n",
       "ProjectNameKR                               원자력용 부품의 형상 가공 및 캠 방식 progressive 기술 개발\n",
       "ProjectNameEN                     Develpment of Shape processing and CAM-based p...\n",
       "ManagerName                                                                     김영남\n",
       "ResearchersName                                                             ['정동진']\n",
       "ResManCount                                                                     2.0\n",
       "ResWmanCount                                                                    NaN\n",
       "GoalFull                          0 원자력용 부품의 형상 가공  및  캠 방식 progressive 기술 개발   ...\n",
       "GoalTeaser                                                                      NaN\n",
       "AbstractFull                      0 소재의 기초물성 및 설계  - 소재는 황동 재질 중에 C2680를 사용할 예정이...\n",
       "AbstractTeaser                                                                  NaN\n",
       "EffectFull                        설계 및 시제품 제작    - 복합 progressive 금형 및 성형 공정에 대한...\n",
       "EffectTeaser                                                                    NaN\n",
       "KeywordKR                                                            금형,가공,복합,부품,기술\n",
       "KeywordEN                                    Die,processing,complex,parts,technolgy\n",
       "OrderagencyName                                                         중소기업기술정보진흥원\n",
       "ResearchagencyName                                                           주식회사신일\n",
       "BudgetProjectName                                                    공정·품질기술개발(R&D)\n",
       "BusinessName                                                                 현장형R&D\n",
       "BigprojectTitle                                      2021년 공정품질기술개발사업(현장형R&D) 1차 공고\n",
       "ManageagencyName                                                        중소기업기술정보진흥원\n",
       "MinistryName                                                                중소벤처기업부\n",
       "ProjectYear                                                                  2021.0\n",
       "ProjectStart                                                             2021-06-15\n",
       "ProjectEnd                                                               2022-06-14\n",
       "ProjectTotstart                                                          2021-06-15\n",
       "ProjectTotend                                                            2022-06-14\n",
       "OrganizationpNo                                                            S3084064\n",
       "Scienceclass_New_1_Large_code                                                    EA\n",
       "Scienceclass_New_1_Large                                                         기계\n",
       "Scienceclass_New_1_Midium_Code                                                 EA02\n",
       "Scienceclass_New_1_Midium                                                    생산기반기술\n",
       "Scienceclass_New_1_Small_Code                                                EA0201\n",
       "Scienceclass_New_1_Small                                                     생산관리기술\n",
       "Ministryscience_Class_Large                                                   기계ㆍ소재\n",
       "Ministryscience_Class_Midium                                                   요소부품\n",
       "Ministryscience_Class_Small                                                      금형\n",
       "Tempscience_Class_Large                                                          OX\n",
       "Tempscience_Class_Midium                                                       OX99\n",
       "Tempscience_Class_Small                                                      OX9999\n",
       "PerformagentCode                                                                  5\n",
       "Performagent                                                                   중소기업\n",
       "DevelopmentPhasesCode                                                             3\n",
       "DevelopmentPhases                                                              개발연구\n",
       "TechlifecycleCode                                                                 2\n",
       "TechLifecycle                                                                   성장기\n",
       "RegionCode                                                                        8\n",
       "Region                                                                      경기도 광주시\n",
       "EconomicSocialGoal                                                              NaN\n",
       "SixtechCode                                                                   70000\n",
       "Sixtech                                       위의 미래유망신기술(6T) 103개 세분류에 속하지 않는 기타 연구\n",
       "ApplyareaFirstCode                                                              Y10\n",
       "ApplyareaFirst                                                       제조업(전기 및 기계장비)\n",
       "ApplyareaSecond                                                                   0\n",
       "ApplyareaThird                                                             49760000\n",
       "ProjectNo_str                                                          1425153964.0\n",
       "Name: 0, dtype: object"
      ]
     },
     "execution_count": 44,
     "metadata": {},
     "output_type": "execute_result"
    }
   ],
   "source": [
    "ntis_assign.loc[0]"
   ]
  },
  {
   "cell_type": "code",
   "execution_count": 45,
   "id": "a32d8e20",
   "metadata": {},
   "outputs": [
    {
     "data": {
      "text/plain": [
       "15049"
      ]
     },
     "execution_count": 45,
     "metadata": {},
     "output_type": "execute_result"
    }
   ],
   "source": [
    "len(ntis_assign['ProjectNameKR'].unique())"
   ]
  },
  {
   "cell_type": "markdown",
   "id": "813993ef",
   "metadata": {},
   "source": [
    "# 재무제표 전처리"
   ]
  },
  {
   "cell_type": "code",
   "execution_count": 178,
   "id": "970716c5",
   "metadata": {},
   "outputs": [
    {
     "name": "stdout",
     "output_type": "stream",
     "text": [
      "<class 'pandas.core.frame.DataFrame'>\n",
      "Int64Index: 1115871 entries, 0 to 227236\n",
      "Data columns (total 7 columns):\n",
      " #   Column       Non-Null Count    Dtype  \n",
      "---  ------       --------------    -----  \n",
      " 0   Unnamed: 0   1115871 non-null  int64  \n",
      " 1   BusinessNum  1115871 non-null  int64  \n",
      " 2   stYear       1115044 non-null  float64\n",
      " 3   stNm         1115044 non-null  object \n",
      " 4   acctCd       1115044 non-null  object \n",
      " 5   accNm        1115044 non-null  object \n",
      " 6   acctAmt      1115038 non-null  float64\n",
      "dtypes: float64(2), int64(2), object(3)\n",
      "memory usage: 68.1+ MB\n"
     ]
    }
   ],
   "source": [
    "comp_finance.info()"
   ]
  },
  {
   "cell_type": "code",
   "execution_count": 179,
   "id": "78f0aa10",
   "metadata": {
    "collapsed": true
   },
   "outputs": [
    {
     "data": {
      "text/html": [
       "<div>\n",
       "<style scoped>\n",
       "    .dataframe tbody tr th:only-of-type {\n",
       "        vertical-align: middle;\n",
       "    }\n",
       "\n",
       "    .dataframe tbody tr th {\n",
       "        vertical-align: top;\n",
       "    }\n",
       "\n",
       "    .dataframe thead th {\n",
       "        text-align: right;\n",
       "    }\n",
       "</style>\n",
       "<table border=\"1\" class=\"dataframe\">\n",
       "  <thead>\n",
       "    <tr style=\"text-align: right;\">\n",
       "      <th></th>\n",
       "      <th>Unnamed: 0</th>\n",
       "      <th>BusinessNum</th>\n",
       "      <th>stYear</th>\n",
       "      <th>stNm</th>\n",
       "      <th>acctCd</th>\n",
       "      <th>accNm</th>\n",
       "      <th>acctAmt</th>\n",
       "    </tr>\n",
       "  </thead>\n",
       "  <tbody>\n",
       "    <tr>\n",
       "      <th>0</th>\n",
       "      <td>0</td>\n",
       "      <td>1051505526</td>\n",
       "      <td>NaN</td>\n",
       "      <td>NaN</td>\n",
       "      <td>NaN</td>\n",
       "      <td>NaN</td>\n",
       "      <td>NaN</td>\n",
       "    </tr>\n",
       "    <tr>\n",
       "      <th>1</th>\n",
       "      <td>1</td>\n",
       "      <td>2118605035</td>\n",
       "      <td>2017.0</td>\n",
       "      <td>재무상태표</td>\n",
       "      <td>M11000</td>\n",
       "      <td>유동자산</td>\n",
       "      <td>9440422.0</td>\n",
       "    </tr>\n",
       "    <tr>\n",
       "      <th>2</th>\n",
       "      <td>2</td>\n",
       "      <td>2118605035</td>\n",
       "      <td>2017.0</td>\n",
       "      <td>재무상태표</td>\n",
       "      <td>M11100</td>\n",
       "      <td>당좌자산</td>\n",
       "      <td>9358829.0</td>\n",
       "    </tr>\n",
       "    <tr>\n",
       "      <th>3</th>\n",
       "      <td>3</td>\n",
       "      <td>2118605035</td>\n",
       "      <td>2017.0</td>\n",
       "      <td>재무상태표</td>\n",
       "      <td>M11130</td>\n",
       "      <td>매출채권</td>\n",
       "      <td>1934474.0</td>\n",
       "    </tr>\n",
       "    <tr>\n",
       "      <th>4</th>\n",
       "      <td>4</td>\n",
       "      <td>2118605035</td>\n",
       "      <td>2017.0</td>\n",
       "      <td>재무상태표</td>\n",
       "      <td>M11500</td>\n",
       "      <td>재고자산</td>\n",
       "      <td>81593.0</td>\n",
       "    </tr>\n",
       "    <tr>\n",
       "      <th>5</th>\n",
       "      <td>5</td>\n",
       "      <td>2118605035</td>\n",
       "      <td>2017.0</td>\n",
       "      <td>재무상태표</td>\n",
       "      <td>M12100</td>\n",
       "      <td>투자자산</td>\n",
       "      <td>9116800.0</td>\n",
       "    </tr>\n",
       "    <tr>\n",
       "      <th>6</th>\n",
       "      <td>6</td>\n",
       "      <td>2118605035</td>\n",
       "      <td>2017.0</td>\n",
       "      <td>재무상태표</td>\n",
       "      <td>M14900</td>\n",
       "      <td>자산총계</td>\n",
       "      <td>65229650.0</td>\n",
       "    </tr>\n",
       "    <tr>\n",
       "      <th>7</th>\n",
       "      <td>7</td>\n",
       "      <td>2118605035</td>\n",
       "      <td>2017.0</td>\n",
       "      <td>재무상태표</td>\n",
       "      <td>M15000</td>\n",
       "      <td>유동부채</td>\n",
       "      <td>17131198.0</td>\n",
       "    </tr>\n",
       "    <tr>\n",
       "      <th>8</th>\n",
       "      <td>8</td>\n",
       "      <td>2118605035</td>\n",
       "      <td>2017.0</td>\n",
       "      <td>재무상태표</td>\n",
       "      <td>M16000</td>\n",
       "      <td>비유동부채</td>\n",
       "      <td>219861.0</td>\n",
       "    </tr>\n",
       "    <tr>\n",
       "      <th>9</th>\n",
       "      <td>9</td>\n",
       "      <td>2118605035</td>\n",
       "      <td>2017.0</td>\n",
       "      <td>재무상태표</td>\n",
       "      <td>M16900</td>\n",
       "      <td>부채총계</td>\n",
       "      <td>17351059.0</td>\n",
       "    </tr>\n",
       "    <tr>\n",
       "      <th>10</th>\n",
       "      <td>10</td>\n",
       "      <td>2118605035</td>\n",
       "      <td>2017.0</td>\n",
       "      <td>재무상태표</td>\n",
       "      <td>M19000</td>\n",
       "      <td>이익잉여금</td>\n",
       "      <td>47828591.0</td>\n",
       "    </tr>\n",
       "    <tr>\n",
       "      <th>11</th>\n",
       "      <td>11</td>\n",
       "      <td>2118605035</td>\n",
       "      <td>2017.0</td>\n",
       "      <td>재무상태표</td>\n",
       "      <td>M19800</td>\n",
       "      <td>자본총계</td>\n",
       "      <td>47878591.0</td>\n",
       "    </tr>\n",
       "    <tr>\n",
       "      <th>12</th>\n",
       "      <td>12</td>\n",
       "      <td>2118605035</td>\n",
       "      <td>2017.0</td>\n",
       "      <td>손익계산서</td>\n",
       "      <td>M21000</td>\n",
       "      <td>매출액</td>\n",
       "      <td>45024996.0</td>\n",
       "    </tr>\n",
       "    <tr>\n",
       "      <th>13</th>\n",
       "      <td>13</td>\n",
       "      <td>2118605035</td>\n",
       "      <td>2017.0</td>\n",
       "      <td>손익계산서</td>\n",
       "      <td>M22000</td>\n",
       "      <td>매출원가</td>\n",
       "      <td>28503376.0</td>\n",
       "    </tr>\n",
       "    <tr>\n",
       "      <th>14</th>\n",
       "      <td>14</td>\n",
       "      <td>2118605035</td>\n",
       "      <td>2017.0</td>\n",
       "      <td>손익계산서</td>\n",
       "      <td>M23000</td>\n",
       "      <td>매출총이익</td>\n",
       "      <td>16521621.0</td>\n",
       "    </tr>\n",
       "    <tr>\n",
       "      <th>15</th>\n",
       "      <td>15</td>\n",
       "      <td>2118605035</td>\n",
       "      <td>2017.0</td>\n",
       "      <td>손익계산서</td>\n",
       "      <td>M24000</td>\n",
       "      <td>판매비와관리비</td>\n",
       "      <td>4741481.0</td>\n",
       "    </tr>\n",
       "    <tr>\n",
       "      <th>16</th>\n",
       "      <td>16</td>\n",
       "      <td>2118605035</td>\n",
       "      <td>2017.0</td>\n",
       "      <td>손익계산서</td>\n",
       "      <td>M24100</td>\n",
       "      <td>인건비</td>\n",
       "      <td>1632483.0</td>\n",
       "    </tr>\n",
       "    <tr>\n",
       "      <th>17</th>\n",
       "      <td>17</td>\n",
       "      <td>2118605035</td>\n",
       "      <td>2017.0</td>\n",
       "      <td>손익계산서</td>\n",
       "      <td>M25000</td>\n",
       "      <td>영업이익</td>\n",
       "      <td>11780140.0</td>\n",
       "    </tr>\n",
       "    <tr>\n",
       "      <th>18</th>\n",
       "      <td>18</td>\n",
       "      <td>2118605035</td>\n",
       "      <td>2017.0</td>\n",
       "      <td>손익계산서</td>\n",
       "      <td>M26500</td>\n",
       "      <td>영업외비용</td>\n",
       "      <td>427150.0</td>\n",
       "    </tr>\n",
       "    <tr>\n",
       "      <th>19</th>\n",
       "      <td>19</td>\n",
       "      <td>2118605035</td>\n",
       "      <td>2017.0</td>\n",
       "      <td>손익계산서</td>\n",
       "      <td>M29500</td>\n",
       "      <td>법인세비용</td>\n",
       "      <td>2955211.0</td>\n",
       "    </tr>\n",
       "  </tbody>\n",
       "</table>\n",
       "</div>"
      ],
      "text/plain": [
       "    Unnamed: 0  BusinessNum  stYear   stNm  acctCd    accNm     acctAmt\n",
       "0            0   1051505526     NaN    NaN     NaN      NaN         NaN\n",
       "1            1   2118605035  2017.0  재무상태표  M11000     유동자산   9440422.0\n",
       "2            2   2118605035  2017.0  재무상태표  M11100     당좌자산   9358829.0\n",
       "3            3   2118605035  2017.0  재무상태표  M11130     매출채권   1934474.0\n",
       "4            4   2118605035  2017.0  재무상태표  M11500     재고자산     81593.0\n",
       "5            5   2118605035  2017.0  재무상태표  M12100     투자자산   9116800.0\n",
       "6            6   2118605035  2017.0  재무상태표  M14900     자산총계  65229650.0\n",
       "7            7   2118605035  2017.0  재무상태표  M15000     유동부채  17131198.0\n",
       "8            8   2118605035  2017.0  재무상태표  M16000    비유동부채    219861.0\n",
       "9            9   2118605035  2017.0  재무상태표  M16900     부채총계  17351059.0\n",
       "10          10   2118605035  2017.0  재무상태표  M19000    이익잉여금  47828591.0\n",
       "11          11   2118605035  2017.0  재무상태표  M19800     자본총계  47878591.0\n",
       "12          12   2118605035  2017.0  손익계산서  M21000      매출액  45024996.0\n",
       "13          13   2118605035  2017.0  손익계산서  M22000     매출원가  28503376.0\n",
       "14          14   2118605035  2017.0  손익계산서  M23000    매출총이익  16521621.0\n",
       "15          15   2118605035  2017.0  손익계산서  M24000  판매비와관리비   4741481.0\n",
       "16          16   2118605035  2017.0  손익계산서  M24100      인건비   1632483.0\n",
       "17          17   2118605035  2017.0  손익계산서  M25000     영업이익  11780140.0\n",
       "18          18   2118605035  2017.0  손익계산서  M26500    영업외비용    427150.0\n",
       "19          19   2118605035  2017.0  손익계산서  M29500    법인세비용   2955211.0"
      ]
     },
     "execution_count": 179,
     "metadata": {},
     "output_type": "execute_result"
    }
   ],
   "source": [
    "comp_finance.head(20)"
   ]
  },
  {
   "cell_type": "code",
   "execution_count": 216,
   "id": "de7eeb91",
   "metadata": {},
   "outputs": [],
   "source": [
    "comp_finance_final = comp_finance.pivot_table(index=['BusinessNum','stYear'], columns='accNm', values='acctAmt').reset_index()"
   ]
  },
  {
   "cell_type": "code",
   "execution_count": 217,
   "id": "e61475c4",
   "metadata": {},
   "outputs": [
    {
     "data": {
      "text/plain": [
       "9173"
      ]
     },
     "execution_count": 217,
     "metadata": {},
     "output_type": "execute_result"
    }
   ],
   "source": [
    "len(comp_finance_final['BusinessNum'].unique())"
   ]
  },
  {
   "cell_type": "code",
   "execution_count": 219,
   "id": "d8647e2f",
   "metadata": {},
   "outputs": [
    {
     "data": {
      "text/plain": [
       "accNm\n",
       "BusinessNum        0\n",
       "stYear             0\n",
       "노무비            19389\n",
       "당기순이익(손실)         56\n",
       "당좌부채(당좌차월)     39285\n",
       "당좌자산             217\n",
       "대손상각비          25657\n",
       "매출 증가율             3\n",
       "매출액              441\n",
       "매출원가            6190\n",
       "매출채권            5212\n",
       "매출총이익            436\n",
       "법인세비용          16201\n",
       "부채총계              90\n",
       "비유동부채          11823\n",
       "수출액1           39251\n",
       "수출액2           39188\n",
       "수출액3           38878\n",
       "수출액4           39344\n",
       "수출액5           39345\n",
       "영업외비용           1654\n",
       "영업이익              58\n",
       "원재료            28253\n",
       "유동부채             103\n",
       "유동비율               8\n",
       "유동자산              48\n",
       "유형자산 증가율           3\n",
       "이익잉여금            817\n",
       "이자비용            8064\n",
       "인건비              745\n",
       "자기자본               4\n",
       "자본잉여금          33843\n",
       "자본총계              51\n",
       "자산총계              47\n",
       "재고자산           17081\n",
       "제조경비           17394\n",
       "제조원가           21079\n",
       "차입금              515\n",
       "총자산                4\n",
       "총자산 증가율            3\n",
       "투자자산           11254\n",
       "판매비와관리비          228\n",
       "회사채            39350\n",
       "dtype: int64"
      ]
     },
     "execution_count": 219,
     "metadata": {},
     "output_type": "execute_result"
    }
   ],
   "source": [
    "comp_finance_final.isnull().sum()"
   ]
  },
  {
   "cell_type": "code",
   "execution_count": 220,
   "id": "2c272dee",
   "metadata": {},
   "outputs": [],
   "source": [
    "comp_finance_final['유동자산비율'] = comp_finance_final['유동부채']/comp_finance_final['유동자산']"
   ]
  },
  {
   "cell_type": "code",
   "execution_count": 221,
   "id": "1d4ac61c",
   "metadata": {},
   "outputs": [],
   "source": [
    "comp_finance_final['순운전자본비율'] = (comp_finance_final['유동자산']-comp_finance_final['유동부채'])/comp_finance_final['총자산']"
   ]
  },
  {
   "cell_type": "code",
   "execution_count": 222,
   "id": "3e521492",
   "metadata": {},
   "outputs": [],
   "source": [
    "comp_finance_final['매출액순이익률'] = (comp_finance_final['당기순이익(손실)']/comp_finance_final['매출액']) * 100"
   ]
  },
  {
   "cell_type": "code",
   "execution_count": 223,
   "id": "980d9d94",
   "metadata": {},
   "outputs": [],
   "source": [
    "comp_finance_final['ROA'] = (comp_finance_final['당기순이익(손실)']/comp_finance_final['총자산'])*100"
   ]
  },
  {
   "cell_type": "code",
   "execution_count": 224,
   "id": "941f8889",
   "metadata": {},
   "outputs": [],
   "source": [
    "comp_finance_final['ROE'] = (comp_finance_final['당기순이익(손실)']/comp_finance_final['자기자본'])*100"
   ]
  },
  {
   "cell_type": "code",
   "execution_count": 225,
   "id": "16434fb9",
   "metadata": {},
   "outputs": [],
   "source": [
    "comp_finance_final['매출총이익률'] = (comp_finance_final['매출총이익']/comp_finance_final['매출액']) * 100"
   ]
  },
  {
   "cell_type": "code",
   "execution_count": 226,
   "id": "d7c714f6",
   "metadata": {},
   "outputs": [],
   "source": [
    "comp_finance_final['총자산증가율'] = comp_finance_final['총자산 증가율']"
   ]
  },
  {
   "cell_type": "code",
   "execution_count": 227,
   "id": "602bac3d",
   "metadata": {},
   "outputs": [],
   "source": [
    "comp_finance_final['매출액증가율'] = comp_finance_final['매출 증가율']"
   ]
  },
  {
   "cell_type": "code",
   "execution_count": 228,
   "id": "bbaf451b",
   "metadata": {},
   "outputs": [],
   "source": [
    "comp_finance_final['유형자산증가율'] = comp_finance_final['유형자산 증가율']"
   ]
  },
  {
   "cell_type": "code",
   "execution_count": 229,
   "id": "83b23315",
   "metadata": {},
   "outputs": [],
   "source": [
    "comp_finance_final['자본생산성비율'] = comp_finance_final['매출액']/(comp_finance_final['총자산']-comp_finance_final['부채총계'])"
   ]
  },
  {
   "cell_type": "code",
   "execution_count": 230,
   "id": "1a4d2368",
   "metadata": {},
   "outputs": [],
   "source": [
    "comp_finance_final['매출채권회전율'] = comp_finance_final['매출액']/comp_finance_final['매출채권']"
   ]
  },
  {
   "cell_type": "code",
   "execution_count": 231,
   "id": "5d2f2ccb",
   "metadata": {},
   "outputs": [],
   "source": [
    "comp_finance_final['재고자산회전율'] = comp_finance_final['매출원가']/comp_finance_final['재고자산']"
   ]
  },
  {
   "cell_type": "code",
   "execution_count": 232,
   "id": "900841de",
   "metadata": {},
   "outputs": [],
   "source": [
    "comp_finance_final['총자본회전율'] = comp_finance_final['매출액']/comp_finance_final['총자산']"
   ]
  },
  {
   "cell_type": "code",
   "execution_count": 196,
   "id": "7b4546c4",
   "metadata": {},
   "outputs": [
    {
     "data": {
      "text/plain": [
       "accNm\n",
       "BusinessNum        0\n",
       "stYear             0\n",
       "노무비            19389\n",
       "당기순이익(손실)         56\n",
       "당좌부채(당좌차월)     39285\n",
       "당좌자산             217\n",
       "대손상각비          25657\n",
       "매출 증가율             3\n",
       "매출액              441\n",
       "매출원가            6190\n",
       "매출채권            5212\n",
       "매출총이익            436\n",
       "법인세비용          16201\n",
       "부채총계              90\n",
       "비유동부채          11823\n",
       "수출액1           39251\n",
       "수출액2           39188\n",
       "수출액3           38878\n",
       "수출액4           39344\n",
       "수출액5           39345\n",
       "영업외비용           1654\n",
       "영업이익              58\n",
       "원재료            28253\n",
       "유동부채             103\n",
       "유동비율               8\n",
       "유동자산              48\n",
       "유형자산 증가율           3\n",
       "이익잉여금            817\n",
       "이자비용            8064\n",
       "인건비              745\n",
       "자기자본               4\n",
       "자본잉여금          33843\n",
       "자본총계              51\n",
       "자산총계              47\n",
       "재고자산           17081\n",
       "제조경비           17394\n",
       "제조원가           21079\n",
       "차입금              515\n",
       "총자산                4\n",
       "총자산 증가율            3\n",
       "투자자산           11254\n",
       "판매비와관리비          228\n",
       "회사채            39350\n",
       "유동자산비율           107\n",
       "순운전자본비율          110\n",
       "매출액순이익률          456\n",
       "ROA               59\n",
       "ROE               59\n",
       "매출총이익률           562\n",
       "총자산증가율             3\n",
       "매출액증가율             3\n",
       "유형자산증가율            3\n",
       "자본생산성비율          470\n",
       "매출채권회전율         5344\n",
       "재고자산회전율        18875\n",
       "총자본회전율           445\n",
       "dtype: int64"
      ]
     },
     "execution_count": 196,
     "metadata": {},
     "output_type": "execute_result"
    }
   ],
   "source": [
    "comp_finance_final.isnull().sum()"
   ]
  },
  {
   "cell_type": "code",
   "execution_count": 100,
   "id": "79600e74",
   "metadata": {
    "collapsed": true
   },
   "outputs": [
    {
     "data": {
      "text/html": [
       "<div>\n",
       "<style scoped>\n",
       "    .dataframe tbody tr th:only-of-type {\n",
       "        vertical-align: middle;\n",
       "    }\n",
       "\n",
       "    .dataframe tbody tr th {\n",
       "        vertical-align: top;\n",
       "    }\n",
       "\n",
       "    .dataframe thead th {\n",
       "        text-align: right;\n",
       "    }\n",
       "</style>\n",
       "<table border=\"1\" class=\"dataframe\">\n",
       "  <thead>\n",
       "    <tr style=\"text-align: right;\">\n",
       "      <th>accNm</th>\n",
       "      <th>매출액</th>\n",
       "      <th>매출총이익</th>\n",
       "      <th>당기순이익(손실)</th>\n",
       "    </tr>\n",
       "    <tr>\n",
       "      <th>accNm</th>\n",
       "      <th></th>\n",
       "      <th></th>\n",
       "      <th></th>\n",
       "    </tr>\n",
       "  </thead>\n",
       "  <tbody>\n",
       "    <tr>\n",
       "      <th>BusinessNum</th>\n",
       "      <td>-0.046270</td>\n",
       "      <td>-0.040933</td>\n",
       "      <td>-0.016998</td>\n",
       "    </tr>\n",
       "    <tr>\n",
       "      <th>stYear</th>\n",
       "      <td>-0.011672</td>\n",
       "      <td>-0.011872</td>\n",
       "      <td>0.006845</td>\n",
       "    </tr>\n",
       "    <tr>\n",
       "      <th>노무비</th>\n",
       "      <td>0.864320</td>\n",
       "      <td>0.696481</td>\n",
       "      <td>0.469344</td>\n",
       "    </tr>\n",
       "    <tr>\n",
       "      <th>당기순이익(손실)</th>\n",
       "      <td>0.106153</td>\n",
       "      <td>0.089962</td>\n",
       "      <td>1.000000</td>\n",
       "    </tr>\n",
       "    <tr>\n",
       "      <th>당좌부채(당좌차월)</th>\n",
       "      <td>0.806043</td>\n",
       "      <td>0.259056</td>\n",
       "      <td>-0.104166</td>\n",
       "    </tr>\n",
       "    <tr>\n",
       "      <th>당좌자산</th>\n",
       "      <td>0.754363</td>\n",
       "      <td>0.632369</td>\n",
       "      <td>0.417563</td>\n",
       "    </tr>\n",
       "    <tr>\n",
       "      <th>대손상각비</th>\n",
       "      <td>0.254388</td>\n",
       "      <td>0.079540</td>\n",
       "      <td>0.034789</td>\n",
       "    </tr>\n",
       "    <tr>\n",
       "      <th>매출 증가율</th>\n",
       "      <td>-0.020880</td>\n",
       "      <td>-0.017233</td>\n",
       "      <td>-0.010246</td>\n",
       "    </tr>\n",
       "    <tr>\n",
       "      <th>매출액</th>\n",
       "      <td>1.000000</td>\n",
       "      <td>0.821408</td>\n",
       "      <td>0.106153</td>\n",
       "    </tr>\n",
       "    <tr>\n",
       "      <th>매출원가</th>\n",
       "      <td>0.956496</td>\n",
       "      <td>0.625602</td>\n",
       "      <td>0.109139</td>\n",
       "    </tr>\n",
       "    <tr>\n",
       "      <th>매출채권</th>\n",
       "      <td>0.756205</td>\n",
       "      <td>0.405564</td>\n",
       "      <td>0.250971</td>\n",
       "    </tr>\n",
       "    <tr>\n",
       "      <th>매출총이익</th>\n",
       "      <td>0.821408</td>\n",
       "      <td>1.000000</td>\n",
       "      <td>0.089962</td>\n",
       "    </tr>\n",
       "    <tr>\n",
       "      <th>법인세비용</th>\n",
       "      <td>0.255360</td>\n",
       "      <td>0.236560</td>\n",
       "      <td>0.796288</td>\n",
       "    </tr>\n",
       "    <tr>\n",
       "      <th>부채총계</th>\n",
       "      <td>0.840396</td>\n",
       "      <td>0.878893</td>\n",
       "      <td>0.084195</td>\n",
       "    </tr>\n",
       "    <tr>\n",
       "      <th>비유동부채</th>\n",
       "      <td>0.701445</td>\n",
       "      <td>0.795638</td>\n",
       "      <td>-0.033447</td>\n",
       "    </tr>\n",
       "    <tr>\n",
       "      <th>수출액1</th>\n",
       "      <td>0.707932</td>\n",
       "      <td>0.276235</td>\n",
       "      <td>0.278522</td>\n",
       "    </tr>\n",
       "    <tr>\n",
       "      <th>수출액2</th>\n",
       "      <td>0.045890</td>\n",
       "      <td>0.050293</td>\n",
       "      <td>0.082708</td>\n",
       "    </tr>\n",
       "    <tr>\n",
       "      <th>수출액3</th>\n",
       "      <td>0.792329</td>\n",
       "      <td>0.541889</td>\n",
       "      <td>0.374298</td>\n",
       "    </tr>\n",
       "    <tr>\n",
       "      <th>수출액4</th>\n",
       "      <td>-0.418597</td>\n",
       "      <td>-0.704194</td>\n",
       "      <td>-0.004955</td>\n",
       "    </tr>\n",
       "    <tr>\n",
       "      <th>수출액5</th>\n",
       "      <td>-0.115909</td>\n",
       "      <td>-0.527290</td>\n",
       "      <td>-0.381716</td>\n",
       "    </tr>\n",
       "    <tr>\n",
       "      <th>영업외비용</th>\n",
       "      <td>0.811880</td>\n",
       "      <td>0.932900</td>\n",
       "      <td>-0.047834</td>\n",
       "    </tr>\n",
       "    <tr>\n",
       "      <th>영업이익</th>\n",
       "      <td>0.520991</td>\n",
       "      <td>0.580779</td>\n",
       "      <td>0.742221</td>\n",
       "    </tr>\n",
       "    <tr>\n",
       "      <th>원재료</th>\n",
       "      <td>0.163069</td>\n",
       "      <td>0.043565</td>\n",
       "      <td>0.045780</td>\n",
       "    </tr>\n",
       "    <tr>\n",
       "      <th>유동부채</th>\n",
       "      <td>0.886784</td>\n",
       "      <td>0.857180</td>\n",
       "      <td>0.205594</td>\n",
       "    </tr>\n",
       "    <tr>\n",
       "      <th>유동비율</th>\n",
       "      <td>-0.003830</td>\n",
       "      <td>-0.002835</td>\n",
       "      <td>-0.001877</td>\n",
       "    </tr>\n",
       "    <tr>\n",
       "      <th>유동자산</th>\n",
       "      <td>0.783874</td>\n",
       "      <td>0.645913</td>\n",
       "      <td>0.390394</td>\n",
       "    </tr>\n",
       "    <tr>\n",
       "      <th>유형자산 증가율</th>\n",
       "      <td>-0.028460</td>\n",
       "      <td>-0.022685</td>\n",
       "      <td>-0.011825</td>\n",
       "    </tr>\n",
       "    <tr>\n",
       "      <th>이익잉여금</th>\n",
       "      <td>0.729049</td>\n",
       "      <td>0.902068</td>\n",
       "      <td>0.225907</td>\n",
       "    </tr>\n",
       "    <tr>\n",
       "      <th>이자비용</th>\n",
       "      <td>0.711423</td>\n",
       "      <td>0.753702</td>\n",
       "      <td>0.007059</td>\n",
       "    </tr>\n",
       "    <tr>\n",
       "      <th>인건비</th>\n",
       "      <td>0.819783</td>\n",
       "      <td>0.967799</td>\n",
       "      <td>-0.033267</td>\n",
       "    </tr>\n",
       "    <tr>\n",
       "      <th>자기자본</th>\n",
       "      <td>0.765933</td>\n",
       "      <td>0.892833</td>\n",
       "      <td>0.275061</td>\n",
       "    </tr>\n",
       "    <tr>\n",
       "      <th>자본잉여금</th>\n",
       "      <td>0.685945</td>\n",
       "      <td>0.792361</td>\n",
       "      <td>0.262170</td>\n",
       "    </tr>\n",
       "    <tr>\n",
       "      <th>자본총계</th>\n",
       "      <td>0.765990</td>\n",
       "      <td>0.892910</td>\n",
       "      <td>0.275491</td>\n",
       "    </tr>\n",
       "    <tr>\n",
       "      <th>자산총계</th>\n",
       "      <td>0.826125</td>\n",
       "      <td>0.910298</td>\n",
       "      <td>0.183052</td>\n",
       "    </tr>\n",
       "    <tr>\n",
       "      <th>재고자산</th>\n",
       "      <td>0.750637</td>\n",
       "      <td>0.554024</td>\n",
       "      <td>0.151854</td>\n",
       "    </tr>\n",
       "    <tr>\n",
       "      <th>제조경비</th>\n",
       "      <td>0.970358</td>\n",
       "      <td>0.774740</td>\n",
       "      <td>0.568318</td>\n",
       "    </tr>\n",
       "    <tr>\n",
       "      <th>제조원가</th>\n",
       "      <td>0.973894</td>\n",
       "      <td>0.764920</td>\n",
       "      <td>0.571983</td>\n",
       "    </tr>\n",
       "    <tr>\n",
       "      <th>차입금</th>\n",
       "      <td>0.030548</td>\n",
       "      <td>0.033176</td>\n",
       "      <td>0.008520</td>\n",
       "    </tr>\n",
       "    <tr>\n",
       "      <th>총자산</th>\n",
       "      <td>0.826043</td>\n",
       "      <td>0.910208</td>\n",
       "      <td>0.182769</td>\n",
       "    </tr>\n",
       "    <tr>\n",
       "      <th>총자산 증가율</th>\n",
       "      <td>-0.018702</td>\n",
       "      <td>-0.015664</td>\n",
       "      <td>-0.008390</td>\n",
       "    </tr>\n",
       "    <tr>\n",
       "      <th>투자자산</th>\n",
       "      <td>0.508922</td>\n",
       "      <td>0.596729</td>\n",
       "      <td>0.430993</td>\n",
       "    </tr>\n",
       "    <tr>\n",
       "      <th>판매비와관리비</th>\n",
       "      <td>0.787102</td>\n",
       "      <td>0.973315</td>\n",
       "      <td>-0.106945</td>\n",
       "    </tr>\n",
       "    <tr>\n",
       "      <th>회사채</th>\n",
       "      <td>NaN</td>\n",
       "      <td>NaN</td>\n",
       "      <td>NaN</td>\n",
       "    </tr>\n",
       "    <tr>\n",
       "      <th>유동자산비율</th>\n",
       "      <td>-0.000905</td>\n",
       "      <td>-0.000428</td>\n",
       "      <td>-0.000541</td>\n",
       "    </tr>\n",
       "    <tr>\n",
       "      <th>순운전자본비율</th>\n",
       "      <td>-0.004138</td>\n",
       "      <td>-0.003476</td>\n",
       "      <td>0.001865</td>\n",
       "    </tr>\n",
       "    <tr>\n",
       "      <th>매출액순이익률</th>\n",
       "      <td>0.000523</td>\n",
       "      <td>0.000402</td>\n",
       "      <td>0.006029</td>\n",
       "    </tr>\n",
       "    <tr>\n",
       "      <th>ROA</th>\n",
       "      <td>-0.000104</td>\n",
       "      <td>-0.000012</td>\n",
       "      <td>0.002273</td>\n",
       "    </tr>\n",
       "    <tr>\n",
       "      <th>ROE</th>\n",
       "      <td>0.000315</td>\n",
       "      <td>0.000299</td>\n",
       "      <td>0.001015</td>\n",
       "    </tr>\n",
       "    <tr>\n",
       "      <th>매출총이익률</th>\n",
       "      <td>-0.015428</td>\n",
       "      <td>0.009874</td>\n",
       "      <td>0.003937</td>\n",
       "    </tr>\n",
       "    <tr>\n",
       "      <th>총자산증가율</th>\n",
       "      <td>-0.018702</td>\n",
       "      <td>-0.015664</td>\n",
       "      <td>-0.008390</td>\n",
       "    </tr>\n",
       "    <tr>\n",
       "      <th>매출액증가율</th>\n",
       "      <td>-0.020880</td>\n",
       "      <td>-0.017233</td>\n",
       "      <td>-0.010246</td>\n",
       "    </tr>\n",
       "    <tr>\n",
       "      <th>유형자산증가율</th>\n",
       "      <td>-0.028460</td>\n",
       "      <td>-0.022685</td>\n",
       "      <td>-0.011825</td>\n",
       "    </tr>\n",
       "    <tr>\n",
       "      <th>자본생산성비율</th>\n",
       "      <td>-0.084167</td>\n",
       "      <td>-0.001755</td>\n",
       "      <td>-0.000436</td>\n",
       "    </tr>\n",
       "    <tr>\n",
       "      <th>매출채권회전율</th>\n",
       "      <td>-0.000928</td>\n",
       "      <td>-0.000474</td>\n",
       "      <td>-0.000183</td>\n",
       "    </tr>\n",
       "    <tr>\n",
       "      <th>재고자산회전율</th>\n",
       "      <td>0.004260</td>\n",
       "      <td>0.004362</td>\n",
       "      <td>0.018845</td>\n",
       "    </tr>\n",
       "    <tr>\n",
       "      <th>총자본회전율</th>\n",
       "      <td>0.031846</td>\n",
       "      <td>-0.000151</td>\n",
       "      <td>-0.000659</td>\n",
       "    </tr>\n",
       "  </tbody>\n",
       "</table>\n",
       "</div>"
      ],
      "text/plain": [
       "accNm             매출액     매출총이익  당기순이익(손실)\n",
       "accNm                                     \n",
       "BusinessNum -0.046270 -0.040933  -0.016998\n",
       "stYear      -0.011672 -0.011872   0.006845\n",
       "노무비          0.864320  0.696481   0.469344\n",
       "당기순이익(손실)    0.106153  0.089962   1.000000\n",
       "당좌부채(당좌차월)   0.806043  0.259056  -0.104166\n",
       "당좌자산         0.754363  0.632369   0.417563\n",
       "대손상각비        0.254388  0.079540   0.034789\n",
       "매출 증가율      -0.020880 -0.017233  -0.010246\n",
       "매출액          1.000000  0.821408   0.106153\n",
       "매출원가         0.956496  0.625602   0.109139\n",
       "매출채권         0.756205  0.405564   0.250971\n",
       "매출총이익        0.821408  1.000000   0.089962\n",
       "법인세비용        0.255360  0.236560   0.796288\n",
       "부채총계         0.840396  0.878893   0.084195\n",
       "비유동부채        0.701445  0.795638  -0.033447\n",
       "수출액1         0.707932  0.276235   0.278522\n",
       "수출액2         0.045890  0.050293   0.082708\n",
       "수출액3         0.792329  0.541889   0.374298\n",
       "수출액4        -0.418597 -0.704194  -0.004955\n",
       "수출액5        -0.115909 -0.527290  -0.381716\n",
       "영업외비용        0.811880  0.932900  -0.047834\n",
       "영업이익         0.520991  0.580779   0.742221\n",
       "원재료          0.163069  0.043565   0.045780\n",
       "유동부채         0.886784  0.857180   0.205594\n",
       "유동비율        -0.003830 -0.002835  -0.001877\n",
       "유동자산         0.783874  0.645913   0.390394\n",
       "유형자산 증가율    -0.028460 -0.022685  -0.011825\n",
       "이익잉여금        0.729049  0.902068   0.225907\n",
       "이자비용         0.711423  0.753702   0.007059\n",
       "인건비          0.819783  0.967799  -0.033267\n",
       "자기자본         0.765933  0.892833   0.275061\n",
       "자본잉여금        0.685945  0.792361   0.262170\n",
       "자본총계         0.765990  0.892910   0.275491\n",
       "자산총계         0.826125  0.910298   0.183052\n",
       "재고자산         0.750637  0.554024   0.151854\n",
       "제조경비         0.970358  0.774740   0.568318\n",
       "제조원가         0.973894  0.764920   0.571983\n",
       "차입금          0.030548  0.033176   0.008520\n",
       "총자산          0.826043  0.910208   0.182769\n",
       "총자산 증가율     -0.018702 -0.015664  -0.008390\n",
       "투자자산         0.508922  0.596729   0.430993\n",
       "판매비와관리비      0.787102  0.973315  -0.106945\n",
       "회사채               NaN       NaN        NaN\n",
       "유동자산비율      -0.000905 -0.000428  -0.000541\n",
       "순운전자본비율     -0.004138 -0.003476   0.001865\n",
       "매출액순이익률      0.000523  0.000402   0.006029\n",
       "ROA         -0.000104 -0.000012   0.002273\n",
       "ROE          0.000315  0.000299   0.001015\n",
       "매출총이익률      -0.015428  0.009874   0.003937\n",
       "총자산증가율      -0.018702 -0.015664  -0.008390\n",
       "매출액증가율      -0.020880 -0.017233  -0.010246\n",
       "유형자산증가율     -0.028460 -0.022685  -0.011825\n",
       "자본생산성비율     -0.084167 -0.001755  -0.000436\n",
       "매출채권회전율     -0.000928 -0.000474  -0.000183\n",
       "재고자산회전율      0.004260  0.004362   0.018845\n",
       "총자본회전율       0.031846 -0.000151  -0.000659"
      ]
     },
     "execution_count": 100,
     "metadata": {},
     "output_type": "execute_result"
    }
   ],
   "source": [
    "comp_finance_final.corr()[['매출액','매출총이익','당기순이익(손실)']]"
   ]
  },
  {
   "cell_type": "code",
   "execution_count": 127,
   "id": "7cc360f4",
   "metadata": {},
   "outputs": [
    {
     "data": {
      "text/plain": [
       "Index(['BusinessNum', 'stYear', '노무비', '당기순이익(손실)', '당좌부채(당좌차월)', '당좌자산',\n",
       "       '대손상각비', '매출 증가율', '매출액', '매출원가', '매출채권', '매출총이익', '법인세비용', '부채총계',\n",
       "       '비유동부채', '수출액1', '수출액2', '수출액3', '수출액4', '수출액5', '영업외비용', '영업이익', '원재료',\n",
       "       '유동부채', '유동비율', '유동자산', '유형자산 증가율', '이익잉여금', '이자비용', '인건비', '자기자본',\n",
       "       '자본잉여금', '자본총계', '자산총계', '재고자산', '제조경비', '제조원가', '차입금', '총자산',\n",
       "       '총자산 증가율', '투자자산', '판매비와관리비', '회사채', '유동자산비율', '순운전자본비율', '매출액순이익률',\n",
       "       'ROA', 'ROE', '매출총이익률', '총자산증가율', '매출액증가율', '유형자산증가율', '자본생산성비율',\n",
       "       '매출채권회전율', '재고자산회전율', '총자본회전율'],\n",
       "      dtype='object', name='accNm')"
      ]
     },
     "execution_count": 127,
     "metadata": {},
     "output_type": "execute_result"
    }
   ],
   "source": [
    "comp_finance_final.columns"
   ]
  },
  {
   "cell_type": "code",
   "execution_count": 233,
   "id": "8864144e",
   "metadata": {},
   "outputs": [
    {
     "data": {
      "text/html": [
       "<div>\n",
       "<style scoped>\n",
       "    .dataframe tbody tr th:only-of-type {\n",
       "        vertical-align: middle;\n",
       "    }\n",
       "\n",
       "    .dataframe tbody tr th {\n",
       "        vertical-align: top;\n",
       "    }\n",
       "\n",
       "    .dataframe thead th {\n",
       "        text-align: right;\n",
       "    }\n",
       "</style>\n",
       "<table border=\"1\" class=\"dataframe\">\n",
       "  <thead>\n",
       "    <tr style=\"text-align: right;\">\n",
       "      <th>accNm</th>\n",
       "      <th>BusinessNum</th>\n",
       "      <th>stYear</th>\n",
       "      <th>노무비</th>\n",
       "      <th>당기순이익(손실)</th>\n",
       "      <th>당좌부채(당좌차월)</th>\n",
       "      <th>당좌자산</th>\n",
       "      <th>대손상각비</th>\n",
       "      <th>매출 증가율</th>\n",
       "      <th>매출액</th>\n",
       "      <th>매출원가</th>\n",
       "      <th>...</th>\n",
       "      <th>ROA</th>\n",
       "      <th>ROE</th>\n",
       "      <th>매출총이익률</th>\n",
       "      <th>총자산증가율</th>\n",
       "      <th>매출액증가율</th>\n",
       "      <th>유형자산증가율</th>\n",
       "      <th>자본생산성비율</th>\n",
       "      <th>매출채권회전율</th>\n",
       "      <th>재고자산회전율</th>\n",
       "      <th>총자본회전율</th>\n",
       "    </tr>\n",
       "  </thead>\n",
       "  <tbody>\n",
       "    <tr>\n",
       "      <th>count</th>\n",
       "      <td>3.935100e+04</td>\n",
       "      <td>39351.000000</td>\n",
       "      <td>1.996200e+04</td>\n",
       "      <td>3.929500e+04</td>\n",
       "      <td>6.600000e+01</td>\n",
       "      <td>3.913400e+04</td>\n",
       "      <td>1.369400e+04</td>\n",
       "      <td>3.934800e+04</td>\n",
       "      <td>3.891000e+04</td>\n",
       "      <td>3.316100e+04</td>\n",
       "      <td>...</td>\n",
       "      <td>3.929200e+04</td>\n",
       "      <td>3.929200e+04</td>\n",
       "      <td>3.878900e+04</td>\n",
       "      <td>3.934800e+04</td>\n",
       "      <td>3.934800e+04</td>\n",
       "      <td>3.934800e+04</td>\n",
       "      <td>3.888100e+04</td>\n",
       "      <td>3.400700e+04</td>\n",
       "      <td>2.047600e+04</td>\n",
       "      <td>3.890600e+04</td>\n",
       "    </tr>\n",
       "    <tr>\n",
       "      <th>mean</th>\n",
       "      <td>3.301794e+09</td>\n",
       "      <td>2018.957485</td>\n",
       "      <td>2.136965e+06</td>\n",
       "      <td>1.112027e+06</td>\n",
       "      <td>6.785291e+06</td>\n",
       "      <td>1.280562e+07</td>\n",
       "      <td>1.284970e+05</td>\n",
       "      <td>9.187255e+10</td>\n",
       "      <td>2.946712e+07</td>\n",
       "      <td>2.444358e+07</td>\n",
       "      <td>...</td>\n",
       "      <td>NaN</td>\n",
       "      <td>NaN</td>\n",
       "      <td>-inf</td>\n",
       "      <td>7.642066e+10</td>\n",
       "      <td>9.187255e+10</td>\n",
       "      <td>1.382684e+11</td>\n",
       "      <td>inf</td>\n",
       "      <td>inf</td>\n",
       "      <td>inf</td>\n",
       "      <td>inf</td>\n",
       "    </tr>\n",
       "    <tr>\n",
       "      <th>std</th>\n",
       "      <td>2.209772e+09</td>\n",
       "      <td>1.361682</td>\n",
       "      <td>1.382490e+07</td>\n",
       "      <td>2.905693e+07</td>\n",
       "      <td>1.710103e+07</td>\n",
       "      <td>1.374170e+08</td>\n",
       "      <td>1.768030e+06</td>\n",
       "      <td>2.884056e+11</td>\n",
       "      <td>3.170269e+08</td>\n",
       "      <td>2.472305e+08</td>\n",
       "      <td>...</td>\n",
       "      <td>NaN</td>\n",
       "      <td>NaN</td>\n",
       "      <td>NaN</td>\n",
       "      <td>2.652625e+11</td>\n",
       "      <td>2.884056e+11</td>\n",
       "      <td>3.448694e+11</td>\n",
       "      <td>NaN</td>\n",
       "      <td>NaN</td>\n",
       "      <td>NaN</td>\n",
       "      <td>NaN</td>\n",
       "    </tr>\n",
       "    <tr>\n",
       "      <th>min</th>\n",
       "      <td>1.010109e+09</td>\n",
       "      <td>2017.000000</td>\n",
       "      <td>0.000000e+00</td>\n",
       "      <td>-7.537013e+08</td>\n",
       "      <td>2.030000e+02</td>\n",
       "      <td>-8.100000e+04</td>\n",
       "      <td>-2.825100e+07</td>\n",
       "      <td>-1.000000e+02</td>\n",
       "      <td>-6.949763e+06</td>\n",
       "      <td>-3.919884e+06</td>\n",
       "      <td>...</td>\n",
       "      <td>-inf</td>\n",
       "      <td>-inf</td>\n",
       "      <td>-inf</td>\n",
       "      <td>-1.248370e+02</td>\n",
       "      <td>-1.000000e+02</td>\n",
       "      <td>-1.000000e+02</td>\n",
       "      <td>-2.935523e+04</td>\n",
       "      <td>-1.222720e+04</td>\n",
       "      <td>-4.867160e+01</td>\n",
       "      <td>-5.563636e+00</td>\n",
       "    </tr>\n",
       "    <tr>\n",
       "      <th>25%</th>\n",
       "      <td>1.228601e+09</td>\n",
       "      <td>2018.000000</td>\n",
       "      <td>9.956075e+04</td>\n",
       "      <td>8.776000e+03</td>\n",
       "      <td>9.560025e+04</td>\n",
       "      <td>3.146945e+05</td>\n",
       "      <td>0.000000e+00</td>\n",
       "      <td>-1.085175e+01</td>\n",
       "      <td>7.245365e+05</td>\n",
       "      <td>4.083240e+05</td>\n",
       "      <td>...</td>\n",
       "      <td>8.059231e-01</td>\n",
       "      <td>2.347020e+00</td>\n",
       "      <td>1.650539e+01</td>\n",
       "      <td>-7.737500e-01</td>\n",
       "      <td>-1.085175e+01</td>\n",
       "      <td>-1.842425e+01</td>\n",
       "      <td>1.058339e+00</td>\n",
       "      <td>4.324127e+00</td>\n",
       "      <td>3.630737e+00</td>\n",
       "      <td>7.362912e-01</td>\n",
       "    </tr>\n",
       "    <tr>\n",
       "      <th>50%</th>\n",
       "      <td>2.298103e+09</td>\n",
       "      <td>2019.000000</td>\n",
       "      <td>2.651330e+05</td>\n",
       "      <td>7.300200e+04</td>\n",
       "      <td>1.320678e+06</td>\n",
       "      <td>8.829675e+05</td>\n",
       "      <td>1.757000e+03</td>\n",
       "      <td>1.430000e+01</td>\n",
       "      <td>2.044260e+06</td>\n",
       "      <td>1.447226e+06</td>\n",
       "      <td>...</td>\n",
       "      <td>4.733224e+00</td>\n",
       "      <td>9.899816e+00</td>\n",
       "      <td>3.068533e+01</td>\n",
       "      <td>1.250150e+01</td>\n",
       "      <td>1.430000e+01</td>\n",
       "      <td>5.685000e-01</td>\n",
       "      <td>2.182261e+00</td>\n",
       "      <td>8.066297e+00</td>\n",
       "      <td>1.093845e+01</td>\n",
       "      <td>1.303227e+00</td>\n",
       "    </tr>\n",
       "    <tr>\n",
       "      <th>75%</th>\n",
       "      <td>5.048101e+09</td>\n",
       "      <td>2020.000000</td>\n",
       "      <td>8.092808e+05</td>\n",
       "      <td>2.620820e+05</td>\n",
       "      <td>3.499994e+06</td>\n",
       "      <td>2.686073e+06</td>\n",
       "      <td>1.663500e+04</td>\n",
       "      <td>7.195050e+01</td>\n",
       "      <td>6.663636e+06</td>\n",
       "      <td>5.406199e+06</td>\n",
       "      <td>...</td>\n",
       "      <td>1.163026e+01</td>\n",
       "      <td>2.417195e+01</td>\n",
       "      <td>7.421042e+01</td>\n",
       "      <td>4.758575e+01</td>\n",
       "      <td>7.195050e+01</td>\n",
       "      <td>1.646390e+02</td>\n",
       "      <td>4.279274e+00</td>\n",
       "      <td>1.833275e+01</td>\n",
       "      <td>4.630355e+01</td>\n",
       "      <td>2.157598e+00</td>\n",
       "    </tr>\n",
       "    <tr>\n",
       "      <th>max</th>\n",
       "      <td>8.998804e+09</td>\n",
       "      <td>2021.000000</td>\n",
       "      <td>6.578916e+08</td>\n",
       "      <td>2.152950e+09</td>\n",
       "      <td>1.021000e+08</td>\n",
       "      <td>8.559888e+09</td>\n",
       "      <td>1.147980e+08</td>\n",
       "      <td>1.000000e+12</td>\n",
       "      <td>1.133206e+10</td>\n",
       "      <td>1.060157e+10</td>\n",
       "      <td>...</td>\n",
       "      <td>inf</td>\n",
       "      <td>inf</td>\n",
       "      <td>8.740752e+02</td>\n",
       "      <td>1.000000e+12</td>\n",
       "      <td>1.000000e+12</td>\n",
       "      <td>1.000000e+12</td>\n",
       "      <td>inf</td>\n",
       "      <td>inf</td>\n",
       "      <td>inf</td>\n",
       "      <td>inf</td>\n",
       "    </tr>\n",
       "  </tbody>\n",
       "</table>\n",
       "<p>8 rows × 56 columns</p>\n",
       "</div>"
      ],
      "text/plain": [
       "accNm   BusinessNum        stYear           노무비     당기순이익(손실)    당좌부채(당좌차월)  \\\n",
       "count  3.935100e+04  39351.000000  1.996200e+04  3.929500e+04  6.600000e+01   \n",
       "mean   3.301794e+09   2018.957485  2.136965e+06  1.112027e+06  6.785291e+06   \n",
       "std    2.209772e+09      1.361682  1.382490e+07  2.905693e+07  1.710103e+07   \n",
       "min    1.010109e+09   2017.000000  0.000000e+00 -7.537013e+08  2.030000e+02   \n",
       "25%    1.228601e+09   2018.000000  9.956075e+04  8.776000e+03  9.560025e+04   \n",
       "50%    2.298103e+09   2019.000000  2.651330e+05  7.300200e+04  1.320678e+06   \n",
       "75%    5.048101e+09   2020.000000  8.092808e+05  2.620820e+05  3.499994e+06   \n",
       "max    8.998804e+09   2021.000000  6.578916e+08  2.152950e+09  1.021000e+08   \n",
       "\n",
       "accNm          당좌자산         대손상각비        매출 증가율           매출액          매출원가  \\\n",
       "count  3.913400e+04  1.369400e+04  3.934800e+04  3.891000e+04  3.316100e+04   \n",
       "mean   1.280562e+07  1.284970e+05  9.187255e+10  2.946712e+07  2.444358e+07   \n",
       "std    1.374170e+08  1.768030e+06  2.884056e+11  3.170269e+08  2.472305e+08   \n",
       "min   -8.100000e+04 -2.825100e+07 -1.000000e+02 -6.949763e+06 -3.919884e+06   \n",
       "25%    3.146945e+05  0.000000e+00 -1.085175e+01  7.245365e+05  4.083240e+05   \n",
       "50%    8.829675e+05  1.757000e+03  1.430000e+01  2.044260e+06  1.447226e+06   \n",
       "75%    2.686073e+06  1.663500e+04  7.195050e+01  6.663636e+06  5.406199e+06   \n",
       "max    8.559888e+09  1.147980e+08  1.000000e+12  1.133206e+10  1.060157e+10   \n",
       "\n",
       "accNm  ...           ROA           ROE        매출총이익률        총자산증가율  \\\n",
       "count  ...  3.929200e+04  3.929200e+04  3.878900e+04  3.934800e+04   \n",
       "mean   ...           NaN           NaN          -inf  7.642066e+10   \n",
       "std    ...           NaN           NaN           NaN  2.652625e+11   \n",
       "min    ...          -inf          -inf          -inf -1.248370e+02   \n",
       "25%    ...  8.059231e-01  2.347020e+00  1.650539e+01 -7.737500e-01   \n",
       "50%    ...  4.733224e+00  9.899816e+00  3.068533e+01  1.250150e+01   \n",
       "75%    ...  1.163026e+01  2.417195e+01  7.421042e+01  4.758575e+01   \n",
       "max    ...           inf           inf  8.740752e+02  1.000000e+12   \n",
       "\n",
       "accNm        매출액증가율       유형자산증가율       자본생산성비율       매출채권회전율       재고자산회전율  \\\n",
       "count  3.934800e+04  3.934800e+04  3.888100e+04  3.400700e+04  2.047600e+04   \n",
       "mean   9.187255e+10  1.382684e+11           inf           inf           inf   \n",
       "std    2.884056e+11  3.448694e+11           NaN           NaN           NaN   \n",
       "min   -1.000000e+02 -1.000000e+02 -2.935523e+04 -1.222720e+04 -4.867160e+01   \n",
       "25%   -1.085175e+01 -1.842425e+01  1.058339e+00  4.324127e+00  3.630737e+00   \n",
       "50%    1.430000e+01  5.685000e-01  2.182261e+00  8.066297e+00  1.093845e+01   \n",
       "75%    7.195050e+01  1.646390e+02  4.279274e+00  1.833275e+01  4.630355e+01   \n",
       "max    1.000000e+12  1.000000e+12           inf           inf           inf   \n",
       "\n",
       "accNm        총자본회전율  \n",
       "count  3.890600e+04  \n",
       "mean            inf  \n",
       "std             NaN  \n",
       "min   -5.563636e+00  \n",
       "25%    7.362912e-01  \n",
       "50%    1.303227e+00  \n",
       "75%    2.157598e+00  \n",
       "max             inf  \n",
       "\n",
       "[8 rows x 56 columns]"
      ]
     },
     "execution_count": 233,
     "metadata": {},
     "output_type": "execute_result"
    }
   ],
   "source": [
    "comp_finance_final.describe()"
   ]
  },
  {
   "cell_type": "code",
   "execution_count": 244,
   "id": "31bb3086",
   "metadata": {},
   "outputs": [],
   "source": [
    "comp_finance_final_2 = comp_finance_final[['BusinessNum','당기순이익(손실)','매출액','영업이익','유동자산비율', '순운전자본비율', '매출액순이익률',\n",
    "       'ROA', 'ROE', '매출총이익률', '총자산증가율', '매출액증가율', '유형자산증가율', '자본생산성비율','매출채권회전율', '총자본회전율']]"
   ]
  },
  {
   "cell_type": "code",
   "execution_count": 245,
   "id": "ec9006bb",
   "metadata": {},
   "outputs": [],
   "source": [
    "def inf_ch(row) :\n",
    "    if row == np.inf or row == -np.inf :\n",
    "        return 0\n",
    "    return row"
   ]
  },
  {
   "cell_type": "code",
   "execution_count": 246,
   "id": "c11906dd",
   "metadata": {},
   "outputs": [
    {
     "name": "stderr",
     "output_type": "stream",
     "text": [
      "C:\\Users\\MSI\\AppData\\Local\\Temp\\ipykernel_25172\\359476504.py:2: SettingWithCopyWarning: \n",
      "A value is trying to be set on a copy of a slice from a DataFrame.\n",
      "Try using .loc[row_indexer,col_indexer] = value instead\n",
      "\n",
      "See the caveats in the documentation: https://pandas.pydata.org/pandas-docs/stable/user_guide/indexing.html#returning-a-view-versus-a-copy\n",
      "  comp_finance_final_2[i] = comp_finance_final_2[i].apply(inf_ch)\n"
     ]
    }
   ],
   "source": [
    "for i in ['당기순이익(손실)','매출액','영업이익','유동자산비율', '순운전자본비율', '매출액순이익률','ROA', 'ROE', '매출총이익률', '총자산증가율', '매출액증가율', '유형자산증가율', '자본생산성비율','매출채권회전율', '총자본회전율'] :\n",
    "    comp_finance_final_2[i] = comp_finance_final_2[i].apply(inf_ch)"
   ]
  },
  {
   "cell_type": "code",
   "execution_count": 247,
   "id": "eda0aa07",
   "metadata": {},
   "outputs": [
    {
     "data": {
      "text/html": [
       "<div>\n",
       "<style scoped>\n",
       "    .dataframe tbody tr th:only-of-type {\n",
       "        vertical-align: middle;\n",
       "    }\n",
       "\n",
       "    .dataframe tbody tr th {\n",
       "        vertical-align: top;\n",
       "    }\n",
       "\n",
       "    .dataframe thead th {\n",
       "        text-align: right;\n",
       "    }\n",
       "</style>\n",
       "<table border=\"1\" class=\"dataframe\">\n",
       "  <thead>\n",
       "    <tr style=\"text-align: right;\">\n",
       "      <th>accNm</th>\n",
       "      <th>BusinessNum</th>\n",
       "      <th>당기순이익(손실)</th>\n",
       "      <th>매출액</th>\n",
       "      <th>영업이익</th>\n",
       "      <th>유동자산비율</th>\n",
       "      <th>순운전자본비율</th>\n",
       "      <th>매출액순이익률</th>\n",
       "      <th>ROA</th>\n",
       "      <th>ROE</th>\n",
       "      <th>매출총이익률</th>\n",
       "      <th>총자산증가율</th>\n",
       "      <th>매출액증가율</th>\n",
       "      <th>유형자산증가율</th>\n",
       "      <th>자본생산성비율</th>\n",
       "      <th>매출채권회전율</th>\n",
       "      <th>총자본회전율</th>\n",
       "    </tr>\n",
       "  </thead>\n",
       "  <tbody>\n",
       "    <tr>\n",
       "      <th>count</th>\n",
       "      <td>3.935100e+04</td>\n",
       "      <td>3.929500e+04</td>\n",
       "      <td>3.891000e+04</td>\n",
       "      <td>3.929300e+04</td>\n",
       "      <td>39244.000000</td>\n",
       "      <td>39241.000000</td>\n",
       "      <td>3.889500e+04</td>\n",
       "      <td>39292.000000</td>\n",
       "      <td>3.929200e+04</td>\n",
       "      <td>38789.000000</td>\n",
       "      <td>3.934800e+04</td>\n",
       "      <td>3.934800e+04</td>\n",
       "      <td>3.934800e+04</td>\n",
       "      <td>38881.000000</td>\n",
       "      <td>3.400700e+04</td>\n",
       "      <td>38906.000000</td>\n",
       "    </tr>\n",
       "    <tr>\n",
       "      <th>mean</th>\n",
       "      <td>3.301794e+09</td>\n",
       "      <td>1.112027e+06</td>\n",
       "      <td>2.946712e+07</td>\n",
       "      <td>1.767101e+06</td>\n",
       "      <td>2.011399</td>\n",
       "      <td>0.251274</td>\n",
       "      <td>-3.157376e+03</td>\n",
       "      <td>3.631873</td>\n",
       "      <td>-1.910371e+01</td>\n",
       "      <td>42.668695</td>\n",
       "      <td>7.642066e+10</td>\n",
       "      <td>9.187255e+10</td>\n",
       "      <td>1.382684e+11</td>\n",
       "      <td>3.980630</td>\n",
       "      <td>2.528905e+02</td>\n",
       "      <td>2.348787</td>\n",
       "    </tr>\n",
       "    <tr>\n",
       "      <th>std</th>\n",
       "      <td>2.209772e+09</td>\n",
       "      <td>2.905693e+07</td>\n",
       "      <td>3.170269e+08</td>\n",
       "      <td>2.981844e+07</td>\n",
       "      <td>82.977461</td>\n",
       "      <td>3.551367</td>\n",
       "      <td>5.630980e+05</td>\n",
       "      <td>598.486065</td>\n",
       "      <td>6.713973e+03</td>\n",
       "      <td>80.972209</td>\n",
       "      <td>2.652625e+11</td>\n",
       "      <td>2.884056e+11</td>\n",
       "      <td>3.448694e+11</td>\n",
       "      <td>271.258447</td>\n",
       "      <td>1.860054e+04</td>\n",
       "      <td>77.884844</td>\n",
       "    </tr>\n",
       "    <tr>\n",
       "      <th>min</th>\n",
       "      <td>1.010109e+09</td>\n",
       "      <td>-7.537013e+08</td>\n",
       "      <td>-6.949763e+06</td>\n",
       "      <td>-1.926095e+08</td>\n",
       "      <td>-2.864341</td>\n",
       "      <td>-387.549153</td>\n",
       "      <td>-1.109482e+08</td>\n",
       "      <td>-16025.000000</td>\n",
       "      <td>-1.320070e+06</td>\n",
       "      <td>-12601.922175</td>\n",
       "      <td>-1.248370e+02</td>\n",
       "      <td>-1.000000e+02</td>\n",
       "      <td>-1.000000e+02</td>\n",
       "      <td>-29355.234946</td>\n",
       "      <td>-1.222720e+04</td>\n",
       "      <td>-5.563636</td>\n",
       "    </tr>\n",
       "    <tr>\n",
       "      <th>25%</th>\n",
       "      <td>1.228601e+09</td>\n",
       "      <td>8.776000e+03</td>\n",
       "      <td>7.245365e+05</td>\n",
       "      <td>2.595000e+03</td>\n",
       "      <td>0.158287</td>\n",
       "      <td>0.152187</td>\n",
       "      <td>7.640819e-01</td>\n",
       "      <td>0.804389</td>\n",
       "      <td>2.343969e+00</td>\n",
       "      <td>16.505391</td>\n",
       "      <td>-7.737500e-01</td>\n",
       "      <td>-1.085175e+01</td>\n",
       "      <td>-1.842425e+01</td>\n",
       "      <td>1.057449</td>\n",
       "      <td>4.084168e+00</td>\n",
       "      <td>0.735580</td>\n",
       "    </tr>\n",
       "    <tr>\n",
       "      <th>50%</th>\n",
       "      <td>2.298103e+09</td>\n",
       "      <td>7.300200e+04</td>\n",
       "      <td>2.044260e+06</td>\n",
       "      <td>7.151900e+04</td>\n",
       "      <td>0.351142</td>\n",
       "      <td>0.421601</td>\n",
       "      <td>3.593387e+00</td>\n",
       "      <td>4.730193</td>\n",
       "      <td>9.892720e+00</td>\n",
       "      <td>30.685331</td>\n",
       "      <td>1.250150e+01</td>\n",
       "      <td>1.430000e+01</td>\n",
       "      <td>5.685000e-01</td>\n",
       "      <td>2.179993</td>\n",
       "      <td>7.654067e+00</td>\n",
       "      <td>1.302704</td>\n",
       "    </tr>\n",
       "    <tr>\n",
       "      <th>75%</th>\n",
       "      <td>5.048101e+09</td>\n",
       "      <td>2.620820e+05</td>\n",
       "      <td>6.663636e+06</td>\n",
       "      <td>2.801320e+05</td>\n",
       "      <td>0.714616</td>\n",
       "      <td>0.636986</td>\n",
       "      <td>8.071672e+00</td>\n",
       "      <td>11.619079</td>\n",
       "      <td>2.415639e+01</td>\n",
       "      <td>74.210420</td>\n",
       "      <td>4.758575e+01</td>\n",
       "      <td>7.195050e+01</td>\n",
       "      <td>1.646390e+02</td>\n",
       "      <td>4.276946</td>\n",
       "      <td>1.659159e+01</td>\n",
       "      <td>2.156640</td>\n",
       "    </tr>\n",
       "    <tr>\n",
       "      <th>max</th>\n",
       "      <td>8.998804e+09</td>\n",
       "      <td>2.152950e+09</td>\n",
       "      <td>1.133206e+10</td>\n",
       "      <td>3.274727e+09</td>\n",
       "      <td>14990.823529</td>\n",
       "      <td>1.927273</td>\n",
       "      <td>4.513661e+04</td>\n",
       "      <td>113006.666667</td>\n",
       "      <td>9.091537e+04</td>\n",
       "      <td>874.075163</td>\n",
       "      <td>1.000000e+12</td>\n",
       "      <td>1.000000e+12</td>\n",
       "      <td>1.000000e+12</td>\n",
       "      <td>38989.000000</td>\n",
       "      <td>3.055403e+06</td>\n",
       "      <td>15008.000000</td>\n",
       "    </tr>\n",
       "  </tbody>\n",
       "</table>\n",
       "</div>"
      ],
      "text/plain": [
       "accNm   BusinessNum     당기순이익(손실)           매출액          영업이익        유동자산비율  \\\n",
       "count  3.935100e+04  3.929500e+04  3.891000e+04  3.929300e+04  39244.000000   \n",
       "mean   3.301794e+09  1.112027e+06  2.946712e+07  1.767101e+06      2.011399   \n",
       "std    2.209772e+09  2.905693e+07  3.170269e+08  2.981844e+07     82.977461   \n",
       "min    1.010109e+09 -7.537013e+08 -6.949763e+06 -1.926095e+08     -2.864341   \n",
       "25%    1.228601e+09  8.776000e+03  7.245365e+05  2.595000e+03      0.158287   \n",
       "50%    2.298103e+09  7.300200e+04  2.044260e+06  7.151900e+04      0.351142   \n",
       "75%    5.048101e+09  2.620820e+05  6.663636e+06  2.801320e+05      0.714616   \n",
       "max    8.998804e+09  2.152950e+09  1.133206e+10  3.274727e+09  14990.823529   \n",
       "\n",
       "accNm       순운전자본비율       매출액순이익률            ROA           ROE        매출총이익률  \\\n",
       "count  39241.000000  3.889500e+04   39292.000000  3.929200e+04  38789.000000   \n",
       "mean       0.251274 -3.157376e+03       3.631873 -1.910371e+01     42.668695   \n",
       "std        3.551367  5.630980e+05     598.486065  6.713973e+03     80.972209   \n",
       "min     -387.549153 -1.109482e+08  -16025.000000 -1.320070e+06 -12601.922175   \n",
       "25%        0.152187  7.640819e-01       0.804389  2.343969e+00     16.505391   \n",
       "50%        0.421601  3.593387e+00       4.730193  9.892720e+00     30.685331   \n",
       "75%        0.636986  8.071672e+00      11.619079  2.415639e+01     74.210420   \n",
       "max        1.927273  4.513661e+04  113006.666667  9.091537e+04    874.075163   \n",
       "\n",
       "accNm        총자산증가율        매출액증가율       유형자산증가율       자본생산성비율       매출채권회전율  \\\n",
       "count  3.934800e+04  3.934800e+04  3.934800e+04  38881.000000  3.400700e+04   \n",
       "mean   7.642066e+10  9.187255e+10  1.382684e+11      3.980630  2.528905e+02   \n",
       "std    2.652625e+11  2.884056e+11  3.448694e+11    271.258447  1.860054e+04   \n",
       "min   -1.248370e+02 -1.000000e+02 -1.000000e+02 -29355.234946 -1.222720e+04   \n",
       "25%   -7.737500e-01 -1.085175e+01 -1.842425e+01      1.057449  4.084168e+00   \n",
       "50%    1.250150e+01  1.430000e+01  5.685000e-01      2.179993  7.654067e+00   \n",
       "75%    4.758575e+01  7.195050e+01  1.646390e+02      4.276946  1.659159e+01   \n",
       "max    1.000000e+12  1.000000e+12  1.000000e+12  38989.000000  3.055403e+06   \n",
       "\n",
       "accNm        총자본회전율  \n",
       "count  38906.000000  \n",
       "mean       2.348787  \n",
       "std       77.884844  \n",
       "min       -5.563636  \n",
       "25%        0.735580  \n",
       "50%        1.302704  \n",
       "75%        2.156640  \n",
       "max    15008.000000  "
      ]
     },
     "execution_count": 247,
     "metadata": {},
     "output_type": "execute_result"
    }
   ],
   "source": [
    "comp_finance_final_2.describe()"
   ]
  },
  {
   "cell_type": "code",
   "execution_count": 249,
   "id": "205b1864",
   "metadata": {},
   "outputs": [
    {
     "data": {
      "text/plain": [
       "accNm\n",
       "BusinessNum     0.000000\n",
       "당기순이익(손실)       0.142309\n",
       "매출액             1.120683\n",
       "영업이익            0.147391\n",
       "유동자산비율          0.271912\n",
       "순운전자본비율         0.279535\n",
       "매출액순이익률         1.158802\n",
       "ROA             0.149933\n",
       "ROE             0.149933\n",
       "매출총이익률          1.428172\n",
       "총자산증가율          0.007624\n",
       "매출액증가율          0.007624\n",
       "유형자산증가율         0.007624\n",
       "자본생산성비율         1.194379\n",
       "매출채권회전율        13.580341\n",
       "총자본회전율          1.130848\n",
       "dtype: float64"
      ]
     },
     "execution_count": 249,
     "metadata": {},
     "output_type": "execute_result"
    }
   ],
   "source": [
    "comp_finance_final_2.isnull().sum()/len(comp_finance_final_2)*100"
   ]
  },
  {
   "cell_type": "code",
   "execution_count": 250,
   "id": "6cc4008a",
   "metadata": {},
   "outputs": [],
   "source": [
    "df_2017 = comp_finance_final_2.loc[comp_finance_final['stYear'] == 2017.0]\n",
    "df_2018 = comp_finance_final_2.loc[comp_finance_final['stYear'] == 2018.0]\n",
    "df_2019 = comp_finance_final_2.loc[comp_finance_final['stYear'] == 2019.0]\n",
    "df_2020 = comp_finance_final_2.loc[comp_finance_final['stYear'] == 2020.0]\n",
    "df_2021 = comp_finance_final_2.loc[comp_finance_final['stYear'] == 2021.0]"
   ]
  },
  {
   "cell_type": "markdown",
   "id": "02c1f383",
   "metadata": {},
   "source": [
    "# 주소별, 설립연도별 매출액 대표값 차이 유무"
   ]
  },
  {
   "cell_type": "code",
   "execution_count": 24,
   "id": "7583d9b9",
   "metadata": {},
   "outputs": [
    {
     "name": "stdout",
     "output_type": "stream",
     "text": [
      "<class 'pandas.core.frame.DataFrame'>\n",
      "Int64Index: 9881 entries, 0 to 9880\n",
      "Data columns (total 8 columns):\n",
      " #   Column       Non-Null Count  Dtype  \n",
      "---  ------       --------------  -----  \n",
      " 0   BusinessNum  9881 non-null   int64  \n",
      " 1   종업원수         9524 non-null   float64\n",
      " 2   주소1          9876 non-null   object \n",
      " 3   주소2          9874 non-null   object \n",
      " 4   인건비          9529 non-null   float64\n",
      " 5   연차           9412 non-null   object \n",
      " 6   평균인건비        9411 non-null   float64\n",
      " 7   평균종업원수       9411 non-null   float64\n",
      "dtypes: float64(4), int64(1), object(3)\n",
      "memory usage: 694.8+ KB\n"
     ]
    }
   ],
   "source": [
    "pre_df.info()"
   ]
  },
  {
   "cell_type": "code",
   "execution_count": 126,
   "id": "9a1517e1",
   "metadata": {},
   "outputs": [
    {
     "data": {
      "text/plain": [
       "(7377, 20)"
      ]
     },
     "execution_count": 126,
     "metadata": {},
     "output_type": "execute_result"
    }
   ],
   "source": [
    "comp_intro_m1.shape"
   ]
  },
  {
   "cell_type": "code",
   "execution_count": 38,
   "id": "f6c71bb7",
   "metadata": {},
   "outputs": [],
   "source": [
    "comp_intro_m3 = pd.merge(comp_intro_m1,pre_df,on='BusinessNum')"
   ]
  },
  {
   "cell_type": "code",
   "execution_count": 124,
   "id": "23af9155",
   "metadata": {},
   "outputs": [
    {
     "data": {
      "text/plain": [
       "(7323, 27)"
      ]
     },
     "execution_count": 124,
     "metadata": {},
     "output_type": "execute_result"
    }
   ],
   "source": [
    "comp_intro_m3.shape"
   ]
  },
  {
   "cell_type": "code",
   "execution_count": 39,
   "id": "f7d0ebe5",
   "metadata": {},
   "outputs": [
    {
     "data": {
      "text/html": [
       "<div>\n",
       "<style scoped>\n",
       "    .dataframe tbody tr th:only-of-type {\n",
       "        vertical-align: middle;\n",
       "    }\n",
       "\n",
       "    .dataframe tbody tr th {\n",
       "        vertical-align: top;\n",
       "    }\n",
       "\n",
       "    .dataframe thead th {\n",
       "        text-align: right;\n",
       "    }\n",
       "</style>\n",
       "<table border=\"1\" class=\"dataframe\">\n",
       "  <thead>\n",
       "    <tr style=\"text-align: right;\">\n",
       "      <th></th>\n",
       "      <th>Unnamed: 0</th>\n",
       "      <th>BusinessNum</th>\n",
       "      <th>cmpNm</th>\n",
       "      <th>기업명</th>\n",
       "      <th>ceoNm</th>\n",
       "      <th>telNo</th>\n",
       "      <th>faxTelNo</th>\n",
       "      <th>zip</th>\n",
       "      <th>adr</th>\n",
       "      <th>dtlAdr</th>\n",
       "      <th>...</th>\n",
       "      <th>중분류</th>\n",
       "      <th>소분류</th>\n",
       "      <th>세분류</th>\n",
       "      <th>종업원수</th>\n",
       "      <th>주소1</th>\n",
       "      <th>주소2</th>\n",
       "      <th>인건비</th>\n",
       "      <th>연차</th>\n",
       "      <th>평균인건비</th>\n",
       "      <th>평균종업원수</th>\n",
       "    </tr>\n",
       "  </thead>\n",
       "  <tbody>\n",
       "    <tr>\n",
       "      <th>0</th>\n",
       "      <td>0</td>\n",
       "      <td>1131201292</td>\n",
       "      <td>20210903</td>\n",
       "      <td>에**</td>\n",
       "      <td>김**</td>\n",
       "      <td>02  26333232</td>\n",
       "      <td>NaN</td>\n",
       "      <td>7295.0</td>\n",
       "      <td>서울특별시 영등포구 문래로20길</td>\n",
       "      <td>60, 5층 505호 (문래동3가,메가벤처타워)</td>\n",
       "      <td>...</td>\n",
       "      <td>전문직별 공사업</td>\n",
       "      <td>전기 및 통신 공사업</td>\n",
       "      <td>통신 공사업</td>\n",
       "      <td>2.0</td>\n",
       "      <td>서울</td>\n",
       "      <td>영등포구</td>\n",
       "      <td>460156.0</td>\n",
       "      <td>21.0</td>\n",
       "      <td>460156.0</td>\n",
       "      <td>16.0</td>\n",
       "    </tr>\n",
       "    <tr>\n",
       "      <th>1</th>\n",
       "      <td>23</td>\n",
       "      <td>3148608060</td>\n",
       "      <td>20211130</td>\n",
       "      <td>(주)***</td>\n",
       "      <td>박**</td>\n",
       "      <td>070-7596-3375</td>\n",
       "      <td>7047639870</td>\n",
       "      <td>34027.0</td>\n",
       "      <td>대전 유성구 테크노10로</td>\n",
       "      <td>44-1 (탑립동)</td>\n",
       "      <td>...</td>\n",
       "      <td>전문직별 공사업</td>\n",
       "      <td>전기 및 통신 공사업</td>\n",
       "      <td>통신 공사업</td>\n",
       "      <td>13.0</td>\n",
       "      <td>대전</td>\n",
       "      <td>유성구</td>\n",
       "      <td>185494.0</td>\n",
       "      <td>10.0</td>\n",
       "      <td>185494.0</td>\n",
       "      <td>8.0</td>\n",
       "    </tr>\n",
       "    <tr>\n",
       "      <th>2</th>\n",
       "      <td>25</td>\n",
       "      <td>2158609654</td>\n",
       "      <td>20211228</td>\n",
       "      <td>유니넷텍***</td>\n",
       "      <td>김**</td>\n",
       "      <td>02-881-5200</td>\n",
       "      <td>02-881-5203</td>\n",
       "      <td>5854.0</td>\n",
       "      <td>서울 송파구 송파대로 201</td>\n",
       "      <td>제에이동 제6층 제에이-616호,617호 (문정동,송파테라타워2)</td>\n",
       "      <td>...</td>\n",
       "      <td>전문직별 공사업</td>\n",
       "      <td>전기 및 통신 공사업</td>\n",
       "      <td>통신 공사업</td>\n",
       "      <td>28.0</td>\n",
       "      <td>서울</td>\n",
       "      <td>송파구</td>\n",
       "      <td>1628632.0</td>\n",
       "      <td>23.0</td>\n",
       "      <td>353671.0</td>\n",
       "      <td>14.0</td>\n",
       "    </tr>\n",
       "    <tr>\n",
       "      <th>3</th>\n",
       "      <td>45</td>\n",
       "      <td>8348605611</td>\n",
       "      <td>20211228</td>\n",
       "      <td>(주)씨에이치비오거니***</td>\n",
       "      <td>배**</td>\n",
       "      <td>260119990</td>\n",
       "      <td>NaN</td>\n",
       "      <td>8513.0</td>\n",
       "      <td>서울 금천구 벚꽃로</td>\n",
       "      <td>234, 701호, 702호, 703호 (가산동,에이스하이앤드6차)</td>\n",
       "      <td>...</td>\n",
       "      <td>전문직별 공사업</td>\n",
       "      <td>전기 및 통신 공사업</td>\n",
       "      <td>통신 공사업</td>\n",
       "      <td>1.0</td>\n",
       "      <td>서울</td>\n",
       "      <td>금천구</td>\n",
       "      <td>9605.0</td>\n",
       "      <td>8.0</td>\n",
       "      <td>137491.0</td>\n",
       "      <td>8.0</td>\n",
       "    </tr>\n",
       "    <tr>\n",
       "      <th>4</th>\n",
       "      <td>58</td>\n",
       "      <td>1188100646</td>\n",
       "      <td>20211018</td>\n",
       "      <td>동해정보통신***</td>\n",
       "      <td>이**</td>\n",
       "      <td>02-840-3800</td>\n",
       "      <td>02-835-2725</td>\n",
       "      <td>7415.0</td>\n",
       "      <td>서울 영등포구 대림로29길 43</td>\n",
       "      <td>(대림동)</td>\n",
       "      <td>...</td>\n",
       "      <td>전문직별 공사업</td>\n",
       "      <td>전기 및 통신 공사업</td>\n",
       "      <td>통신 공사업</td>\n",
       "      <td>58.0</td>\n",
       "      <td>서울</td>\n",
       "      <td>영등포구</td>\n",
       "      <td>2459913.0</td>\n",
       "      <td>30년이상</td>\n",
       "      <td>1323069.0</td>\n",
       "      <td>51.0</td>\n",
       "    </tr>\n",
       "  </tbody>\n",
       "</table>\n",
       "<p>5 rows × 27 columns</p>\n",
       "</div>"
      ],
      "text/plain": [
       "   Unnamed: 0  BusinessNum     cmpNm             기업명 ceoNm          telNo  \\\n",
       "0           0   1131201292  20210903             에**   김**   02  26333232   \n",
       "1          23   3148608060  20211130          (주)***   박**  070-7596-3375   \n",
       "2          25   2158609654  20211228         유니넷텍***   김**    02-881-5200   \n",
       "3          45   8348605611  20211228  (주)씨에이치비오거니***   배**      260119990   \n",
       "4          58   1188100646  20211018       동해정보통신***   이**    02-840-3800   \n",
       "\n",
       "      faxTelNo      zip                adr  \\\n",
       "0          NaN   7295.0  서울특별시 영등포구 문래로20길   \n",
       "1   7047639870  34027.0      대전 유성구 테크노10로   \n",
       "2  02-881-5203   5854.0    서울 송파구 송파대로 201   \n",
       "3          NaN   8513.0         서울 금천구 벚꽃로   \n",
       "4  02-835-2725   7415.0  서울 영등포구 대림로29길 43   \n",
       "\n",
       "                                  dtlAdr  ...       중분류          소분류     세분류  \\\n",
       "0             60, 5층 505호 (문래동3가,메가벤처타워)  ...  전문직별 공사업  전기 및 통신 공사업  통신 공사업   \n",
       "1                             44-1 (탑립동)  ...  전문직별 공사업  전기 및 통신 공사업  통신 공사업   \n",
       "2   제에이동 제6층 제에이-616호,617호 (문정동,송파테라타워2)  ...  전문직별 공사업  전기 및 통신 공사업  통신 공사업   \n",
       "3  234, 701호, 702호, 703호 (가산동,에이스하이앤드6차)  ...  전문직별 공사업  전기 및 통신 공사업  통신 공사업   \n",
       "4                                  (대림동)  ...  전문직별 공사업  전기 및 통신 공사업  통신 공사업   \n",
       "\n",
       "   종업원수 주소1   주소2        인건비     연차      평균인건비 평균종업원수  \n",
       "0   2.0  서울  영등포구   460156.0   21.0   460156.0   16.0  \n",
       "1  13.0  대전   유성구   185494.0   10.0   185494.0    8.0  \n",
       "2  28.0  서울   송파구  1628632.0   23.0   353671.0   14.0  \n",
       "3   1.0  서울   금천구     9605.0    8.0   137491.0    8.0  \n",
       "4  58.0  서울  영등포구  2459913.0  30년이상  1323069.0   51.0  \n",
       "\n",
       "[5 rows x 27 columns]"
      ]
     },
     "execution_count": 39,
     "metadata": {},
     "output_type": "execute_result"
    }
   ],
   "source": [
    "comp_intro_m3.head(5)"
   ]
  },
  {
   "cell_type": "code",
   "execution_count": 46,
   "id": "1141acb5",
   "metadata": {},
   "outputs": [
    {
     "data": {
      "text/html": [
       "<div>\n",
       "<style scoped>\n",
       "    .dataframe tbody tr th:only-of-type {\n",
       "        vertical-align: middle;\n",
       "    }\n",
       "\n",
       "    .dataframe tbody tr th {\n",
       "        vertical-align: top;\n",
       "    }\n",
       "\n",
       "    .dataframe thead th {\n",
       "        text-align: right;\n",
       "    }\n",
       "</style>\n",
       "<table border=\"1\" class=\"dataframe\">\n",
       "  <thead>\n",
       "    <tr style=\"text-align: right;\">\n",
       "      <th></th>\n",
       "      <th>BusinessNum</th>\n",
       "      <th>accNm</th>\n",
       "      <th>acctAmt</th>\n",
       "    </tr>\n",
       "  </thead>\n",
       "  <tbody>\n",
       "    <tr>\n",
       "      <th>3</th>\n",
       "      <td>1010109319</td>\n",
       "      <td>매출액</td>\n",
       "      <td>190706.0</td>\n",
       "    </tr>\n",
       "    <tr>\n",
       "      <th>26</th>\n",
       "      <td>1010204456</td>\n",
       "      <td>매출액</td>\n",
       "      <td>984750.0</td>\n",
       "    </tr>\n",
       "    <tr>\n",
       "      <th>50</th>\n",
       "      <td>1010607727</td>\n",
       "      <td>매출액</td>\n",
       "      <td>854824.0</td>\n",
       "    </tr>\n",
       "    <tr>\n",
       "      <th>80</th>\n",
       "      <td>1010709848</td>\n",
       "      <td>매출액</td>\n",
       "      <td>106517.0</td>\n",
       "    </tr>\n",
       "    <tr>\n",
       "      <th>110</th>\n",
       "      <td>1011106242</td>\n",
       "      <td>매출액</td>\n",
       "      <td>409474.0</td>\n",
       "    </tr>\n",
       "    <tr>\n",
       "      <th>...</th>\n",
       "      <td>...</td>\n",
       "      <td>...</td>\n",
       "      <td>...</td>\n",
       "    </tr>\n",
       "    <tr>\n",
       "      <th>273108</th>\n",
       "      <td>8998607522</td>\n",
       "      <td>매출액</td>\n",
       "      <td>481685.0</td>\n",
       "    </tr>\n",
       "    <tr>\n",
       "      <th>273134</th>\n",
       "      <td>8998705196</td>\n",
       "      <td>매출액</td>\n",
       "      <td>1070388.0</td>\n",
       "    </tr>\n",
       "    <tr>\n",
       "      <th>273159</th>\n",
       "      <td>8998707411</td>\n",
       "      <td>매출액</td>\n",
       "      <td>85667.0</td>\n",
       "    </tr>\n",
       "    <tr>\n",
       "      <th>273190</th>\n",
       "      <td>8998708313</td>\n",
       "      <td>매출액</td>\n",
       "      <td>4314005.0</td>\n",
       "    </tr>\n",
       "    <tr>\n",
       "      <th>273221</th>\n",
       "      <td>8998803795</td>\n",
       "      <td>매출액</td>\n",
       "      <td>773020.0</td>\n",
       "    </tr>\n",
       "  </tbody>\n",
       "</table>\n",
       "<p>9151 rows × 3 columns</p>\n",
       "</div>"
      ],
      "text/plain": [
       "        BusinessNum accNm    acctAmt\n",
       "3        1010109319   매출액   190706.0\n",
       "26       1010204456   매출액   984750.0\n",
       "50       1010607727   매출액   854824.0\n",
       "80       1010709848   매출액   106517.0\n",
       "110      1011106242   매출액   409474.0\n",
       "...             ...   ...        ...\n",
       "273108   8998607522   매출액   481685.0\n",
       "273134   8998705196   매출액  1070388.0\n",
       "273159   8998707411   매출액    85667.0\n",
       "273190   8998708313   매출액  4314005.0\n",
       "273221   8998803795   매출액   773020.0\n",
       "\n",
       "[9151 rows x 3 columns]"
      ]
     },
     "execution_count": 46,
     "metadata": {},
     "output_type": "execute_result"
    }
   ],
   "source": [
    "pv1 = comp_finance.pivot_table(index=['BusinessNum','accNm'] , values='acctAmt', aggfunc='median').reset_index()\n",
    "df_sales = pv1.loc[pv1['accNm'] == '매출액']\n",
    "df_sales"
   ]
  },
  {
   "cell_type": "code",
   "execution_count": 45,
   "id": "3de81e0f",
   "metadata": {},
   "outputs": [
    {
     "data": {
      "text/plain": [
       "10000"
      ]
     },
     "execution_count": 45,
     "metadata": {},
     "output_type": "execute_result"
    }
   ],
   "source": [
    "len(comp_finance['BusinessNum'].unique())"
   ]
  },
  {
   "cell_type": "code",
   "execution_count": 51,
   "id": "a14b23f3",
   "metadata": {},
   "outputs": [],
   "source": [
    "comp_intro_m4 = pd.merge(comp_intro_m3,df_sales,on='BusinessNum')"
   ]
  },
  {
   "cell_type": "code",
   "execution_count": 52,
   "id": "0c630bde",
   "metadata": {
    "scrolled": true
   },
   "outputs": [
    {
     "data": {
      "text/html": [
       "<div>\n",
       "<style scoped>\n",
       "    .dataframe tbody tr th:only-of-type {\n",
       "        vertical-align: middle;\n",
       "    }\n",
       "\n",
       "    .dataframe tbody tr th {\n",
       "        vertical-align: top;\n",
       "    }\n",
       "\n",
       "    .dataframe thead th {\n",
       "        text-align: right;\n",
       "    }\n",
       "</style>\n",
       "<table border=\"1\" class=\"dataframe\">\n",
       "  <thead>\n",
       "    <tr style=\"text-align: right;\">\n",
       "      <th></th>\n",
       "      <th>Unnamed: 0</th>\n",
       "      <th>BusinessNum</th>\n",
       "      <th>cmpNm</th>\n",
       "      <th>기업명</th>\n",
       "      <th>ceoNm</th>\n",
       "      <th>telNo</th>\n",
       "      <th>faxTelNo</th>\n",
       "      <th>zip</th>\n",
       "      <th>adr</th>\n",
       "      <th>dtlAdr</th>\n",
       "      <th>...</th>\n",
       "      <th>세분류</th>\n",
       "      <th>종업원수</th>\n",
       "      <th>주소1</th>\n",
       "      <th>주소2</th>\n",
       "      <th>인건비</th>\n",
       "      <th>연차</th>\n",
       "      <th>평균인건비</th>\n",
       "      <th>평균종업원수</th>\n",
       "      <th>accNm</th>\n",
       "      <th>acctAmt</th>\n",
       "    </tr>\n",
       "  </thead>\n",
       "  <tbody>\n",
       "    <tr>\n",
       "      <th>0</th>\n",
       "      <td>23</td>\n",
       "      <td>3148608060</td>\n",
       "      <td>20211130</td>\n",
       "      <td>(주)***</td>\n",
       "      <td>박**</td>\n",
       "      <td>070-7596-3375</td>\n",
       "      <td>7047639870</td>\n",
       "      <td>34027.0</td>\n",
       "      <td>대전 유성구 테크노10로</td>\n",
       "      <td>44-1 (탑립동)</td>\n",
       "      <td>...</td>\n",
       "      <td>통신 공사업</td>\n",
       "      <td>13.0</td>\n",
       "      <td>대전</td>\n",
       "      <td>유성구</td>\n",
       "      <td>185494.0</td>\n",
       "      <td>10.0</td>\n",
       "      <td>185494.0</td>\n",
       "      <td>8.0</td>\n",
       "      <td>매출액</td>\n",
       "      <td>2118400.0</td>\n",
       "    </tr>\n",
       "    <tr>\n",
       "      <th>1</th>\n",
       "      <td>25</td>\n",
       "      <td>2158609654</td>\n",
       "      <td>20211228</td>\n",
       "      <td>유니넷텍***</td>\n",
       "      <td>김**</td>\n",
       "      <td>02-881-5200</td>\n",
       "      <td>02-881-5203</td>\n",
       "      <td>5854.0</td>\n",
       "      <td>서울 송파구 송파대로 201</td>\n",
       "      <td>제에이동 제6층 제에이-616호,617호 (문정동,송파테라타워2)</td>\n",
       "      <td>...</td>\n",
       "      <td>통신 공사업</td>\n",
       "      <td>28.0</td>\n",
       "      <td>서울</td>\n",
       "      <td>송파구</td>\n",
       "      <td>1628632.0</td>\n",
       "      <td>23.0</td>\n",
       "      <td>353671.0</td>\n",
       "      <td>14.0</td>\n",
       "      <td>매출액</td>\n",
       "      <td>16125546.0</td>\n",
       "    </tr>\n",
       "    <tr>\n",
       "      <th>2</th>\n",
       "      <td>45</td>\n",
       "      <td>8348605611</td>\n",
       "      <td>20211228</td>\n",
       "      <td>(주)씨에이치비오거니***</td>\n",
       "      <td>배**</td>\n",
       "      <td>260119990</td>\n",
       "      <td>NaN</td>\n",
       "      <td>8513.0</td>\n",
       "      <td>서울 금천구 벚꽃로</td>\n",
       "      <td>234, 701호, 702호, 703호 (가산동,에이스하이앤드6차)</td>\n",
       "      <td>...</td>\n",
       "      <td>통신 공사업</td>\n",
       "      <td>1.0</td>\n",
       "      <td>서울</td>\n",
       "      <td>금천구</td>\n",
       "      <td>9605.0</td>\n",
       "      <td>8.0</td>\n",
       "      <td>137491.0</td>\n",
       "      <td>8.0</td>\n",
       "      <td>매출액</td>\n",
       "      <td>514352.0</td>\n",
       "    </tr>\n",
       "    <tr>\n",
       "      <th>3</th>\n",
       "      <td>58</td>\n",
       "      <td>1188100646</td>\n",
       "      <td>20211018</td>\n",
       "      <td>동해정보통신***</td>\n",
       "      <td>이**</td>\n",
       "      <td>02-840-3800</td>\n",
       "      <td>02-835-2725</td>\n",
       "      <td>7415.0</td>\n",
       "      <td>서울 영등포구 대림로29길 43</td>\n",
       "      <td>(대림동)</td>\n",
       "      <td>...</td>\n",
       "      <td>통신 공사업</td>\n",
       "      <td>58.0</td>\n",
       "      <td>서울</td>\n",
       "      <td>영등포구</td>\n",
       "      <td>2459913.0</td>\n",
       "      <td>30년이상</td>\n",
       "      <td>1323069.0</td>\n",
       "      <td>51.0</td>\n",
       "      <td>매출액</td>\n",
       "      <td>10877788.0</td>\n",
       "    </tr>\n",
       "    <tr>\n",
       "      <th>4</th>\n",
       "      <td>64</td>\n",
       "      <td>3148106855</td>\n",
       "      <td>20221022</td>\n",
       "      <td>이**</td>\n",
       "      <td>이**</td>\n",
       "      <td>032-811-9077</td>\n",
       "      <td>NaN</td>\n",
       "      <td>NaN</td>\n",
       "      <td>인천 연수구 송도미래로 30 B동 701,722호 (송도동,송도BRC스마트밸리지식산...</td>\n",
       "      <td>NaN</td>\n",
       "      <td>...</td>\n",
       "      <td>통신 공사업</td>\n",
       "      <td>12.0</td>\n",
       "      <td>인천</td>\n",
       "      <td>연수구</td>\n",
       "      <td>198708.0</td>\n",
       "      <td>23.0</td>\n",
       "      <td>353671.0</td>\n",
       "      <td>14.0</td>\n",
       "      <td>매출액</td>\n",
       "      <td>7343483.0</td>\n",
       "    </tr>\n",
       "  </tbody>\n",
       "</table>\n",
       "<p>5 rows × 29 columns</p>\n",
       "</div>"
      ],
      "text/plain": [
       "   Unnamed: 0  BusinessNum     cmpNm             기업명 ceoNm          telNo  \\\n",
       "0          23   3148608060  20211130          (주)***   박**  070-7596-3375   \n",
       "1          25   2158609654  20211228         유니넷텍***   김**    02-881-5200   \n",
       "2          45   8348605611  20211228  (주)씨에이치비오거니***   배**      260119990   \n",
       "3          58   1188100646  20211018       동해정보통신***   이**    02-840-3800   \n",
       "4          64   3148106855  20221022             이**   이**   032-811-9077   \n",
       "\n",
       "      faxTelNo      zip                                                adr  \\\n",
       "0   7047639870  34027.0                                      대전 유성구 테크노10로   \n",
       "1  02-881-5203   5854.0                                    서울 송파구 송파대로 201   \n",
       "2          NaN   8513.0                                         서울 금천구 벚꽃로   \n",
       "3  02-835-2725   7415.0                                  서울 영등포구 대림로29길 43   \n",
       "4          NaN      NaN  인천 연수구 송도미래로 30 B동 701,722호 (송도동,송도BRC스마트밸리지식산...   \n",
       "\n",
       "                                  dtlAdr  ...     세분류  종업원수 주소1   주소2  \\\n",
       "0                             44-1 (탑립동)  ...  통신 공사업  13.0  대전   유성구   \n",
       "1   제에이동 제6층 제에이-616호,617호 (문정동,송파테라타워2)  ...  통신 공사업  28.0  서울   송파구   \n",
       "2  234, 701호, 702호, 703호 (가산동,에이스하이앤드6차)  ...  통신 공사업   1.0  서울   금천구   \n",
       "3                                  (대림동)  ...  통신 공사업  58.0  서울  영등포구   \n",
       "4                                    NaN  ...  통신 공사업  12.0  인천   연수구   \n",
       "\n",
       "         인건비     연차      평균인건비 평균종업원수 accNm     acctAmt  \n",
       "0   185494.0   10.0   185494.0    8.0   매출액   2118400.0  \n",
       "1  1628632.0   23.0   353671.0   14.0   매출액  16125546.0  \n",
       "2     9605.0    8.0   137491.0    8.0   매출액    514352.0  \n",
       "3  2459913.0  30년이상  1323069.0   51.0   매출액  10877788.0  \n",
       "4   198708.0   23.0   353671.0   14.0   매출액   7343483.0  \n",
       "\n",
       "[5 rows x 29 columns]"
      ]
     },
     "execution_count": 52,
     "metadata": {},
     "output_type": "execute_result"
    }
   ],
   "source": [
    "comp_intro_m4.head(5)"
   ]
  },
  {
   "cell_type": "code",
   "execution_count": 66,
   "id": "ab418ab0",
   "metadata": {},
   "outputs": [
    {
     "data": {
      "text/plain": [
       "(6906, 29)"
      ]
     },
     "execution_count": 66,
     "metadata": {},
     "output_type": "execute_result"
    }
   ],
   "source": [
    "comp_intro_m4.shape"
   ]
  },
  {
   "cell_type": "code",
   "execution_count": 64,
   "id": "9a4762fb",
   "metadata": {},
   "outputs": [
    {
     "data": {
      "text/plain": [
       "Unnamed: 0        0\n",
       "BusinessNum       0\n",
       "cmpNm             0\n",
       "기업명            1385\n",
       "ceoNm             0\n",
       "telNo           222\n",
       "faxTelNo       1889\n",
       "zip            1452\n",
       "adr              25\n",
       "dtlAdr         1358\n",
       "cmpTypNm          0\n",
       "cmpSclNm          0\n",
       "pbcoGbNm       1325\n",
       "indCd1            0\n",
       "indNm             0\n",
       "indCd1_str        0\n",
       "대분류               0\n",
       "중분류               0\n",
       "소분류               0\n",
       "세분류               0\n",
       "종업원수             24\n",
       "주소1               1\n",
       "주소2               1\n",
       "인건비               1\n",
       "연차               56\n",
       "평균인건비            56\n",
       "평균종업원수           56\n",
       "accNm             0\n",
       "acctAmt           0\n",
       "dtype: int64"
      ]
     },
     "execution_count": 64,
     "metadata": {},
     "output_type": "execute_result"
    }
   ],
   "source": [
    "comp_intro_m4.isnull().sum()"
   ]
  },
  {
   "cell_type": "code",
   "execution_count": 68,
   "id": "ac0e83fa",
   "metadata": {},
   "outputs": [],
   "source": [
    "comp_intro_m4_clean = comp_intro_m4.dropna(subset=['주소1'])"
   ]
  },
  {
   "cell_type": "code",
   "execution_count": 69,
   "id": "69d2b453",
   "metadata": {},
   "outputs": [
    {
     "data": {
      "text/plain": [
       "KruskalResult(statistic=255.41640019872813, pvalue=4.003237251468776e-45)"
      ]
     },
     "execution_count": 69,
     "metadata": {},
     "output_type": "execute_result"
    }
   ],
   "source": [
    "# 귀무가설 : 대분류별 중앙값 차이없다\n",
    "# 대립가설 : 대분류별 중앙값 차이있다\n",
    "grouped_data = [comp_intro_m4_clean[comp_intro_m4_clean['주소1'] == group]['acctAmt'] for group in comp_intro_m4_clean['주소1'].unique()]\n",
    "stats.kruskal(*grouped_data)"
   ]
  },
  {
   "cell_type": "code",
   "execution_count": 70,
   "id": "6e4d140e",
   "metadata": {},
   "outputs": [],
   "source": [
    "comp_intro_m4_clean = comp_intro_m4.dropna(subset=['연차'])"
   ]
  },
  {
   "cell_type": "code",
   "execution_count": 71,
   "id": "34c77dc5",
   "metadata": {},
   "outputs": [
    {
     "data": {
      "text/plain": [
       "KruskalResult(statistic=1466.81834186001, pvalue=1.1901313680790119e-292)"
      ]
     },
     "execution_count": 71,
     "metadata": {},
     "output_type": "execute_result"
    }
   ],
   "source": [
    "# 귀무가설 : 대분류별 중앙값 차이없다\n",
    "# 대립가설 : 대분류별 중앙값 차이있다\n",
    "grouped_data = [comp_intro_m4_clean[comp_intro_m4_clean['연차'] == group]['acctAmt'] for group in comp_intro_m4_clean['연차'].unique()]\n",
    "stats.kruskal(*grouped_data)"
   ]
  },
  {
   "cell_type": "code",
   "execution_count": 72,
   "id": "3b43726e",
   "metadata": {},
   "outputs": [],
   "source": [
    "comp_intro_m4_clean = comp_intro_m4.dropna(subset=['주소2'])"
   ]
  },
  {
   "cell_type": "code",
   "execution_count": 73,
   "id": "1d7d254f",
   "metadata": {},
   "outputs": [
    {
     "data": {
      "text/plain": [
       "KruskalResult(statistic=505.1786675239751, pvalue=1.3575929954794293e-25)"
      ]
     },
     "execution_count": 73,
     "metadata": {},
     "output_type": "execute_result"
    }
   ],
   "source": [
    "# 귀무가설 : 대분류별 중앙값 차이없다\n",
    "# 대립가설 : 대분류별 중앙값 차이있다\n",
    "grouped_data = [comp_intro_m4_clean[comp_intro_m4_clean['주소2'] == group]['acctAmt'] for group in comp_intro_m4_clean['주소2'].unique()]\n",
    "stats.kruskal(*grouped_data)"
   ]
  },
  {
   "cell_type": "code",
   "execution_count": 251,
   "id": "a76a7c01",
   "metadata": {},
   "outputs": [],
   "source": [
    "c1 = comp_intro_m4[['BusinessNum','주소1','연차','종업원수','대분류']]"
   ]
  },
  {
   "cell_type": "code",
   "execution_count": 252,
   "id": "7aa7f68f",
   "metadata": {},
   "outputs": [],
   "source": [
    "df_17 = pd.merge(c1,df_2017,on='BusinessNum', how='inner')\n",
    "df_18 = pd.merge(c1,df_2018,on='BusinessNum', how='inner')\n",
    "df_19 = pd.merge(c1,df_2019,on='BusinessNum', how='inner')\n",
    "df_20 = pd.merge(c1,df_2020,on='BusinessNum', how='inner')\n",
    "df_21 = pd.merge(c1,df_2021,on='BusinessNum', how='inner')"
   ]
  },
  {
   "cell_type": "code",
   "execution_count": 253,
   "id": "0b1f8386",
   "metadata": {},
   "outputs": [],
   "source": [
    "df_17.to_csv(path + '재무정보_2017.csv')\n",
    "df_18.to_csv(path + '재무정보_2018.csv')\n",
    "df_19.to_csv(path + '재무정보_2019.csv')\n",
    "df_20.to_csv(path + '재무정보_2020.csv')\n",
    "df_21.to_csv(path + '재무정보_2021.csv')"
   ]
  },
  {
   "cell_type": "code",
   "execution_count": 254,
   "id": "4e168301",
   "metadata": {},
   "outputs": [],
   "source": [
    "df_all = pd.merge(c1,comp_finance_final_2,on='BusinessNum', how='inner')\n",
    "df_all.to_csv(path + '재무정보_통합.csv')"
   ]
  },
  {
   "cell_type": "code",
   "execution_count": 255,
   "id": "69e2811c",
   "metadata": {},
   "outputs": [
    {
     "data": {
      "text/plain": [
       "6899"
      ]
     },
     "execution_count": 255,
     "metadata": {},
     "output_type": "execute_result"
    }
   ],
   "source": [
    "len(df_all['BusinessNum'].unique())"
   ]
  },
  {
   "cell_type": "code",
   "execution_count": 256,
   "id": "0781a1db",
   "metadata": {},
   "outputs": [
    {
     "name": "stdout",
     "output_type": "stream",
     "text": [
      "(5346, 20)\n"
     ]
    },
    {
     "data": {
      "text/plain": [
       "BusinessNum      0\n",
       "주소1              1\n",
       "연차              48\n",
       "종업원수            20\n",
       "대분류              0\n",
       "당기순이익(손실)       11\n",
       "매출액            112\n",
       "영업이익             9\n",
       "유동자산비율          20\n",
       "순운전자본비율         20\n",
       "매출액순이익률        120\n",
       "ROA             11\n",
       "ROE             11\n",
       "매출총이익률         117\n",
       "총자산증가율           0\n",
       "매출액증가율           0\n",
       "유형자산증가율          0\n",
       "자본생산성비율        115\n",
       "매출채권회전율        888\n",
       "총자본회전율         113\n",
       "dtype: int64"
      ]
     },
     "execution_count": 256,
     "metadata": {},
     "output_type": "execute_result"
    }
   ],
   "source": [
    "print(df_17.shape)\n",
    "df_17.isnull().sum()"
   ]
  },
  {
   "cell_type": "code",
   "execution_count": 257,
   "id": "621b7e04",
   "metadata": {},
   "outputs": [
    {
     "data": {
      "text/html": [
       "<div>\n",
       "<style scoped>\n",
       "    .dataframe tbody tr th:only-of-type {\n",
       "        vertical-align: middle;\n",
       "    }\n",
       "\n",
       "    .dataframe tbody tr th {\n",
       "        vertical-align: top;\n",
       "    }\n",
       "\n",
       "    .dataframe thead th {\n",
       "        text-align: right;\n",
       "    }\n",
       "</style>\n",
       "<table border=\"1\" class=\"dataframe\">\n",
       "  <thead>\n",
       "    <tr style=\"text-align: right;\">\n",
       "      <th></th>\n",
       "      <th>BusinessNum</th>\n",
       "      <th>종업원수</th>\n",
       "      <th>당기순이익(손실)</th>\n",
       "      <th>매출액</th>\n",
       "      <th>영업이익</th>\n",
       "      <th>유동자산비율</th>\n",
       "      <th>순운전자본비율</th>\n",
       "      <th>매출액순이익률</th>\n",
       "      <th>ROA</th>\n",
       "      <th>ROE</th>\n",
       "      <th>매출총이익률</th>\n",
       "      <th>총자산증가율</th>\n",
       "      <th>매출액증가율</th>\n",
       "      <th>유형자산증가율</th>\n",
       "      <th>자본생산성비율</th>\n",
       "      <th>매출채권회전율</th>\n",
       "      <th>총자본회전율</th>\n",
       "    </tr>\n",
       "  </thead>\n",
       "  <tbody>\n",
       "    <tr>\n",
       "      <th>count</th>\n",
       "      <td>5.346000e+03</td>\n",
       "      <td>5326.000000</td>\n",
       "      <td>5.335000e+03</td>\n",
       "      <td>5.234000e+03</td>\n",
       "      <td>5.337000e+03</td>\n",
       "      <td>5326.000000</td>\n",
       "      <td>5326.000000</td>\n",
       "      <td>5.226000e+03</td>\n",
       "      <td>5335.000000</td>\n",
       "      <td>5335.000000</td>\n",
       "      <td>5229.000000</td>\n",
       "      <td>5.346000e+03</td>\n",
       "      <td>5.346000e+03</td>\n",
       "      <td>5.346000e+03</td>\n",
       "      <td>5231.000000</td>\n",
       "      <td>4458.000000</td>\n",
       "      <td>5233.000000</td>\n",
       "    </tr>\n",
       "    <tr>\n",
       "      <th>mean</th>\n",
       "      <td>3.075135e+09</td>\n",
       "      <td>58.789899</td>\n",
       "      <td>1.347178e+06</td>\n",
       "      <td>3.222207e+07</td>\n",
       "      <td>1.899123e+06</td>\n",
       "      <td>2.177642</td>\n",
       "      <td>0.234597</td>\n",
       "      <td>-2.151317e+04</td>\n",
       "      <td>-0.166745</td>\n",
       "      <td>31.173082</td>\n",
       "      <td>44.882362</td>\n",
       "      <td>1.728863e+11</td>\n",
       "      <td>1.899083e+11</td>\n",
       "      <td>2.450430e+11</td>\n",
       "      <td>6.413762</td>\n",
       "      <td>106.659845</td>\n",
       "      <td>1.965128</td>\n",
       "    </tr>\n",
       "    <tr>\n",
       "      <th>std</th>\n",
       "      <td>2.175989e+09</td>\n",
       "      <td>450.766764</td>\n",
       "      <td>2.286812e+07</td>\n",
       "      <td>3.735315e+08</td>\n",
       "      <td>2.687566e+07</td>\n",
       "      <td>52.799014</td>\n",
       "      <td>1.444221</td>\n",
       "      <td>1.534796e+06</td>\n",
       "      <td>325.043005</td>\n",
       "      <td>565.968311</td>\n",
       "      <td>46.367429</td>\n",
       "      <td>3.775017e+11</td>\n",
       "      <td>3.914877e+11</td>\n",
       "      <td>4.295938e+11</td>\n",
       "      <td>99.691604</td>\n",
       "      <td>2404.215541</td>\n",
       "      <td>2.655815</td>\n",
       "    </tr>\n",
       "    <tr>\n",
       "      <th>min</th>\n",
       "      <td>1.010109e+09</td>\n",
       "      <td>0.000000</td>\n",
       "      <td>-5.136669e+08</td>\n",
       "      <td>0.000000e+00</td>\n",
       "      <td>-1.352187e+08</td>\n",
       "      <td>0.000000</td>\n",
       "      <td>-50.099063</td>\n",
       "      <td>-1.109482e+08</td>\n",
       "      <td>-16025.000000</td>\n",
       "      <td>-6967.600442</td>\n",
       "      <td>-1664.057856</td>\n",
       "      <td>-1.000000e+02</td>\n",
       "      <td>-1.000000e+02</td>\n",
       "      <td>-1.000000e+02</td>\n",
       "      <td>-560.070369</td>\n",
       "      <td>-1264.219512</td>\n",
       "      <td>0.000000</td>\n",
       "    </tr>\n",
       "    <tr>\n",
       "      <th>25%</th>\n",
       "      <td>1.198606e+09</td>\n",
       "      <td>6.000000</td>\n",
       "      <td>9.424500e+03</td>\n",
       "      <td>6.480922e+05</td>\n",
       "      <td>6.647000e+03</td>\n",
       "      <td>0.196944</td>\n",
       "      <td>0.115168</td>\n",
       "      <td>9.646384e-01</td>\n",
       "      <td>1.123036</td>\n",
       "      <td>3.262071</td>\n",
       "      <td>17.267236</td>\n",
       "      <td>1.383000e+00</td>\n",
       "      <td>-2.333000e+00</td>\n",
       "      <td>-1.036550e+01</td>\n",
       "      <td>1.203571</td>\n",
       "      <td>4.144074</td>\n",
       "      <td>0.830887</td>\n",
       "    </tr>\n",
       "    <tr>\n",
       "      <th>50%</th>\n",
       "      <td>2.158110e+09</td>\n",
       "      <td>11.000000</td>\n",
       "      <td>6.724100e+04</td>\n",
       "      <td>1.968407e+06</td>\n",
       "      <td>7.139100e+04</td>\n",
       "      <td>0.428706</td>\n",
       "      <td>0.374647</td>\n",
       "      <td>3.623752e+00</td>\n",
       "      <td>5.265672</td>\n",
       "      <td>11.615546</td>\n",
       "      <td>32.034355</td>\n",
       "      <td>2.013350e+01</td>\n",
       "      <td>2.665200e+01</td>\n",
       "      <td>1.308300e+01</td>\n",
       "      <td>2.629828</td>\n",
       "      <td>7.611731</td>\n",
       "      <td>1.482351</td>\n",
       "    </tr>\n",
       "    <tr>\n",
       "      <th>75%</th>\n",
       "      <td>4.828777e+09</td>\n",
       "      <td>27.000000</td>\n",
       "      <td>2.450490e+05</td>\n",
       "      <td>6.857488e+06</td>\n",
       "      <td>2.717580e+05</td>\n",
       "      <td>0.789734</td>\n",
       "      <td>0.602403</td>\n",
       "      <td>8.035224e+00</td>\n",
       "      <td>12.309975</td>\n",
       "      <td>27.704098</td>\n",
       "      <td>82.698703</td>\n",
       "      <td>1.229230e+02</td>\n",
       "      <td>2.348377e+02</td>\n",
       "      <td>2.719603e+04</td>\n",
       "      <td>5.073691</td>\n",
       "      <td>16.296936</td>\n",
       "      <td>2.465566</td>\n",
       "    </tr>\n",
       "    <tr>\n",
       "      <th>max</th>\n",
       "      <td>8.998804e+09</td>\n",
       "      <td>16878.000000</td>\n",
       "      <td>7.193635e+08</td>\n",
       "      <td>1.133206e+10</td>\n",
       "      <td>1.063675e+09</td>\n",
       "      <td>3565.800000</td>\n",
       "      <td>0.996347</td>\n",
       "      <td>1.394307e+03</td>\n",
       "      <td>15963.225806</td>\n",
       "      <td>23424.075000</td>\n",
       "      <td>100.000000</td>\n",
       "      <td>1.000000e+12</td>\n",
       "      <td>1.000000e+12</td>\n",
       "      <td>1.000000e+12</td>\n",
       "      <td>6682.580645</td>\n",
       "      <td>131287.300000</td>\n",
       "      <td>120.288981</td>\n",
       "    </tr>\n",
       "  </tbody>\n",
       "</table>\n",
       "</div>"
      ],
      "text/plain": [
       "        BusinessNum          종업원수     당기순이익(손실)           매출액          영업이익  \\\n",
       "count  5.346000e+03   5326.000000  5.335000e+03  5.234000e+03  5.337000e+03   \n",
       "mean   3.075135e+09     58.789899  1.347178e+06  3.222207e+07  1.899123e+06   \n",
       "std    2.175989e+09    450.766764  2.286812e+07  3.735315e+08  2.687566e+07   \n",
       "min    1.010109e+09      0.000000 -5.136669e+08  0.000000e+00 -1.352187e+08   \n",
       "25%    1.198606e+09      6.000000  9.424500e+03  6.480922e+05  6.647000e+03   \n",
       "50%    2.158110e+09     11.000000  6.724100e+04  1.968407e+06  7.139100e+04   \n",
       "75%    4.828777e+09     27.000000  2.450490e+05  6.857488e+06  2.717580e+05   \n",
       "max    8.998804e+09  16878.000000  7.193635e+08  1.133206e+10  1.063675e+09   \n",
       "\n",
       "            유동자산비율      순운전자본비율       매출액순이익률           ROA           ROE  \\\n",
       "count  5326.000000  5326.000000  5.226000e+03   5335.000000   5335.000000   \n",
       "mean      2.177642     0.234597 -2.151317e+04     -0.166745     31.173082   \n",
       "std      52.799014     1.444221  1.534796e+06    325.043005    565.968311   \n",
       "min       0.000000   -50.099063 -1.109482e+08 -16025.000000  -6967.600442   \n",
       "25%       0.196944     0.115168  9.646384e-01      1.123036      3.262071   \n",
       "50%       0.428706     0.374647  3.623752e+00      5.265672     11.615546   \n",
       "75%       0.789734     0.602403  8.035224e+00     12.309975     27.704098   \n",
       "max    3565.800000     0.996347  1.394307e+03  15963.225806  23424.075000   \n",
       "\n",
       "            매출총이익률        총자산증가율        매출액증가율       유형자산증가율      자본생산성비율  \\\n",
       "count  5229.000000  5.346000e+03  5.346000e+03  5.346000e+03  5231.000000   \n",
       "mean     44.882362  1.728863e+11  1.899083e+11  2.450430e+11     6.413762   \n",
       "std      46.367429  3.775017e+11  3.914877e+11  4.295938e+11    99.691604   \n",
       "min   -1664.057856 -1.000000e+02 -1.000000e+02 -1.000000e+02  -560.070369   \n",
       "25%      17.267236  1.383000e+00 -2.333000e+00 -1.036550e+01     1.203571   \n",
       "50%      32.034355  2.013350e+01  2.665200e+01  1.308300e+01     2.629828   \n",
       "75%      82.698703  1.229230e+02  2.348377e+02  2.719603e+04     5.073691   \n",
       "max     100.000000  1.000000e+12  1.000000e+12  1.000000e+12  6682.580645   \n",
       "\n",
       "             매출채권회전율       총자본회전율  \n",
       "count    4458.000000  5233.000000  \n",
       "mean      106.659845     1.965128  \n",
       "std      2404.215541     2.655815  \n",
       "min     -1264.219512     0.000000  \n",
       "25%         4.144074     0.830887  \n",
       "50%         7.611731     1.482351  \n",
       "75%        16.296936     2.465566  \n",
       "max    131287.300000   120.288981  "
      ]
     },
     "execution_count": 257,
     "metadata": {},
     "output_type": "execute_result"
    }
   ],
   "source": [
    "df_17.describe()"
   ]
  },
  {
   "cell_type": "code",
   "execution_count": 212,
   "id": "c3b2274c",
   "metadata": {},
   "outputs": [
    {
     "data": {
      "text/html": [
       "<div>\n",
       "<style scoped>\n",
       "    .dataframe tbody tr th:only-of-type {\n",
       "        vertical-align: middle;\n",
       "    }\n",
       "\n",
       "    .dataframe tbody tr th {\n",
       "        vertical-align: top;\n",
       "    }\n",
       "\n",
       "    .dataframe thead th {\n",
       "        text-align: right;\n",
       "    }\n",
       "</style>\n",
       "<table border=\"1\" class=\"dataframe\">\n",
       "  <thead>\n",
       "    <tr style=\"text-align: right;\">\n",
       "      <th></th>\n",
       "      <th>BusinessNum</th>\n",
       "      <th>주소1</th>\n",
       "      <th>연차</th>\n",
       "      <th>종업원수</th>\n",
       "      <th>대분류</th>\n",
       "      <th>당기순이익(손실)</th>\n",
       "      <th>매출액</th>\n",
       "      <th>영업이익</th>\n",
       "      <th>유동자산비율</th>\n",
       "      <th>순운전자본비율</th>\n",
       "      <th>...</th>\n",
       "      <th>ROA</th>\n",
       "      <th>ROE</th>\n",
       "      <th>매출총이익률</th>\n",
       "      <th>총자산증가율</th>\n",
       "      <th>매출액증가율</th>\n",
       "      <th>유형자산증가율</th>\n",
       "      <th>자본생산성비율</th>\n",
       "      <th>매출채권회전율</th>\n",
       "      <th>재고자산회전율</th>\n",
       "      <th>총자본회전율</th>\n",
       "    </tr>\n",
       "  </thead>\n",
       "  <tbody>\n",
       "    <tr>\n",
       "      <th>4</th>\n",
       "      <td>3198701794</td>\n",
       "      <td>경북</td>\n",
       "      <td>7.0</td>\n",
       "      <td>5.0</td>\n",
       "      <td>건설업</td>\n",
       "      <td>2015.0</td>\n",
       "      <td>28396.0</td>\n",
       "      <td>1178.0</td>\n",
       "      <td>0.076249</td>\n",
       "      <td>0.767410</td>\n",
       "      <td>...</td>\n",
       "      <td>1.078394</td>\n",
       "      <td>1.325527</td>\n",
       "      <td>39.227356</td>\n",
       "      <td>1.000000e+12</td>\n",
       "      <td>1.000000e+12</td>\n",
       "      <td>1.000000e+12</td>\n",
       "      <td>0.186796</td>\n",
       "      <td>NaN</td>\n",
       "      <td>2.064728</td>\n",
       "      <td>0.151971</td>\n",
       "    </tr>\n",
       "    <tr>\n",
       "      <th>9</th>\n",
       "      <td>5488804890</td>\n",
       "      <td>강원</td>\n",
       "      <td>7.0</td>\n",
       "      <td>6.0</td>\n",
       "      <td>건설업</td>\n",
       "      <td>7652.0</td>\n",
       "      <td>2052792.0</td>\n",
       "      <td>6721.0</td>\n",
       "      <td>0.440395</td>\n",
       "      <td>0.469053</td>\n",
       "      <td>...</td>\n",
       "      <td>2.732711</td>\n",
       "      <td>4.704523</td>\n",
       "      <td>4.898061</td>\n",
       "      <td>1.000000e+12</td>\n",
       "      <td>1.000000e+12</td>\n",
       "      <td>1.000000e+12</td>\n",
       "      <td>12.620761</td>\n",
       "      <td>363.390335</td>\n",
       "      <td>NaN</td>\n",
       "      <td>7.331007</td>\n",
       "    </tr>\n",
       "    <tr>\n",
       "      <th>12</th>\n",
       "      <td>3738701684</td>\n",
       "      <td>부산</td>\n",
       "      <td>8.0</td>\n",
       "      <td>7.0</td>\n",
       "      <td>건설업</td>\n",
       "      <td>13109.0</td>\n",
       "      <td>401691.0</td>\n",
       "      <td>14239.0</td>\n",
       "      <td>0.435301</td>\n",
       "      <td>0.452136</td>\n",
       "      <td>...</td>\n",
       "      <td>4.651221</td>\n",
       "      <td>7.139550</td>\n",
       "      <td>30.089795</td>\n",
       "      <td>1.000000e+12</td>\n",
       "      <td>1.000000e+12</td>\n",
       "      <td>1.000000e+12</td>\n",
       "      <td>2.187740</td>\n",
       "      <td>237.125738</td>\n",
       "      <td>10.403164</td>\n",
       "      <td>1.425245</td>\n",
       "    </tr>\n",
       "    <tr>\n",
       "      <th>14</th>\n",
       "      <td>6948102266</td>\n",
       "      <td>경기</td>\n",
       "      <td>7.0</td>\n",
       "      <td>9.0</td>\n",
       "      <td>건설업</td>\n",
       "      <td>71477.0</td>\n",
       "      <td>1040574.0</td>\n",
       "      <td>71476.0</td>\n",
       "      <td>0.605254</td>\n",
       "      <td>0.386179</td>\n",
       "      <td>...</td>\n",
       "      <td>13.163497</td>\n",
       "      <td>32.272877</td>\n",
       "      <td>16.877896</td>\n",
       "      <td>1.000000e+12</td>\n",
       "      <td>1.000000e+12</td>\n",
       "      <td>1.000000e+12</td>\n",
       "      <td>4.698339</td>\n",
       "      <td>4.602966</td>\n",
       "      <td>172.197492</td>\n",
       "      <td>1.916364</td>\n",
       "    </tr>\n",
       "    <tr>\n",
       "      <th>15</th>\n",
       "      <td>6298701383</td>\n",
       "      <td>경기</td>\n",
       "      <td>7.0</td>\n",
       "      <td>3.0</td>\n",
       "      <td>건설업</td>\n",
       "      <td>30899.0</td>\n",
       "      <td>503609.0</td>\n",
       "      <td>34074.0</td>\n",
       "      <td>0.075367</td>\n",
       "      <td>0.842221</td>\n",
       "      <td>...</td>\n",
       "      <td>15.908131</td>\n",
       "      <td>17.080802</td>\n",
       "      <td>12.133222</td>\n",
       "      <td>1.000000e+12</td>\n",
       "      <td>1.000000e+12</td>\n",
       "      <td>1.000000e+12</td>\n",
       "      <td>2.783908</td>\n",
       "      <td>NaN</td>\n",
       "      <td>NaN</td>\n",
       "      <td>2.592795</td>\n",
       "    </tr>\n",
       "    <tr>\n",
       "      <th>...</th>\n",
       "      <td>...</td>\n",
       "      <td>...</td>\n",
       "      <td>...</td>\n",
       "      <td>...</td>\n",
       "      <td>...</td>\n",
       "      <td>...</td>\n",
       "      <td>...</td>\n",
       "      <td>...</td>\n",
       "      <td>...</td>\n",
       "      <td>...</td>\n",
       "      <td>...</td>\n",
       "      <td>...</td>\n",
       "      <td>...</td>\n",
       "      <td>...</td>\n",
       "      <td>...</td>\n",
       "      <td>...</td>\n",
       "      <td>...</td>\n",
       "      <td>...</td>\n",
       "      <td>...</td>\n",
       "      <td>...</td>\n",
       "      <td>...</td>\n",
       "    </tr>\n",
       "    <tr>\n",
       "      <th>5327</th>\n",
       "      <td>5818703079</td>\n",
       "      <td>서울</td>\n",
       "      <td>7.0</td>\n",
       "      <td>6.0</td>\n",
       "      <td>제조업</td>\n",
       "      <td>-24663.0</td>\n",
       "      <td>NaN</td>\n",
       "      <td>-17109.0</td>\n",
       "      <td>0.221890</td>\n",
       "      <td>0.241732</td>\n",
       "      <td>...</td>\n",
       "      <td>-3.400213</td>\n",
       "      <td>-3.651955</td>\n",
       "      <td>NaN</td>\n",
       "      <td>1.000000e+12</td>\n",
       "      <td>1.000000e+12</td>\n",
       "      <td>1.000000e+12</td>\n",
       "      <td>NaN</td>\n",
       "      <td>NaN</td>\n",
       "      <td>NaN</td>\n",
       "      <td>NaN</td>\n",
       "    </tr>\n",
       "    <tr>\n",
       "      <th>5338</th>\n",
       "      <td>1238601513</td>\n",
       "      <td>경기</td>\n",
       "      <td>18.0</td>\n",
       "      <td>55.0</td>\n",
       "      <td>제조업</td>\n",
       "      <td>-326601.0</td>\n",
       "      <td>611127.0</td>\n",
       "      <td>-392193.0</td>\n",
       "      <td>1.015386</td>\n",
       "      <td>-0.000985</td>\n",
       "      <td>...</td>\n",
       "      <td>-2.839148</td>\n",
       "      <td>-5.615911</td>\n",
       "      <td>5.029233</td>\n",
       "      <td>-2.574900e+01</td>\n",
       "      <td>1.000000e+12</td>\n",
       "      <td>-2.886300e+01</td>\n",
       "      <td>0.105083</td>\n",
       "      <td>10.095933</td>\n",
       "      <td>4.404743</td>\n",
       "      <td>0.053125</td>\n",
       "    </tr>\n",
       "    <tr>\n",
       "      <th>5339</th>\n",
       "      <td>7068605150</td>\n",
       "      <td>서울</td>\n",
       "      <td>7.0</td>\n",
       "      <td>7.0</td>\n",
       "      <td>전문, 과학 및 기술 서비스업</td>\n",
       "      <td>-12491.0</td>\n",
       "      <td>270681.0</td>\n",
       "      <td>-12243.0</td>\n",
       "      <td>1.555556</td>\n",
       "      <td>-0.331542</td>\n",
       "      <td>...</td>\n",
       "      <td>-11.924241</td>\n",
       "      <td>-166.347050</td>\n",
       "      <td>100.000000</td>\n",
       "      <td>1.000000e+12</td>\n",
       "      <td>1.000000e+12</td>\n",
       "      <td>1.000000e+12</td>\n",
       "      <td>36.047543</td>\n",
       "      <td>31.721669</td>\n",
       "      <td>NaN</td>\n",
       "      <td>2.583993</td>\n",
       "    </tr>\n",
       "    <tr>\n",
       "      <th>5342</th>\n",
       "      <td>6428604895</td>\n",
       "      <td>경기</td>\n",
       "      <td>9.0</td>\n",
       "      <td>11.0</td>\n",
       "      <td>사업시설 관리, 사업 지원 및 임대 서비스업</td>\n",
       "      <td>193223.0</td>\n",
       "      <td>3307269.0</td>\n",
       "      <td>182814.0</td>\n",
       "      <td>0.521683</td>\n",
       "      <td>0.269604</td>\n",
       "      <td>...</td>\n",
       "      <td>11.632372</td>\n",
       "      <td>25.919100</td>\n",
       "      <td>97.761930</td>\n",
       "      <td>1.000000e+12</td>\n",
       "      <td>1.000000e+12</td>\n",
       "      <td>1.000000e+12</td>\n",
       "      <td>4.436399</td>\n",
       "      <td>16.905735</td>\n",
       "      <td>NaN</td>\n",
       "      <td>1.991035</td>\n",
       "    </tr>\n",
       "    <tr>\n",
       "      <th>5345</th>\n",
       "      <td>8138100244</td>\n",
       "      <td>충북</td>\n",
       "      <td>7.0</td>\n",
       "      <td>19.0</td>\n",
       "      <td>제조업</td>\n",
       "      <td>-139101.0</td>\n",
       "      <td>102045.0</td>\n",
       "      <td>-140821.0</td>\n",
       "      <td>1.094307</td>\n",
       "      <td>-0.034572</td>\n",
       "      <td>...</td>\n",
       "      <td>-6.212165</td>\n",
       "      <td>-33.852845</td>\n",
       "      <td>28.769660</td>\n",
       "      <td>1.000000e+12</td>\n",
       "      <td>1.000000e+12</td>\n",
       "      <td>1.000000e+12</td>\n",
       "      <td>0.248346</td>\n",
       "      <td>NaN</td>\n",
       "      <td>0.326652</td>\n",
       "      <td>0.045573</td>\n",
       "    </tr>\n",
       "  </tbody>\n",
       "</table>\n",
       "<p>1009 rows × 21 columns</p>\n",
       "</div>"
      ],
      "text/plain": [
       "      BusinessNum 주소1    연차  종업원수                       대분류  당기순이익(손실)  \\\n",
       "4      3198701794  경북   7.0   5.0                       건설업     2015.0   \n",
       "9      5488804890  강원   7.0   6.0                       건설업     7652.0   \n",
       "12     3738701684  부산   8.0   7.0                       건설업    13109.0   \n",
       "14     6948102266  경기   7.0   9.0                       건설업    71477.0   \n",
       "15     6298701383  경기   7.0   3.0                       건설업    30899.0   \n",
       "...           ...  ..   ...   ...                       ...        ...   \n",
       "5327   5818703079  서울   7.0   6.0                       제조업   -24663.0   \n",
       "5338   1238601513  경기  18.0  55.0                       제조업  -326601.0   \n",
       "5339   7068605150  서울   7.0   7.0          전문, 과학 및 기술 서비스업   -12491.0   \n",
       "5342   6428604895  경기   9.0  11.0  사업시설 관리, 사업 지원 및 임대 서비스업   193223.0   \n",
       "5345   8138100244  충북   7.0  19.0                       제조업  -139101.0   \n",
       "\n",
       "            매출액      영업이익    유동자산비율   순운전자본비율  ...        ROA         ROE  \\\n",
       "4       28396.0    1178.0  0.076249  0.767410  ...   1.078394    1.325527   \n",
       "9     2052792.0    6721.0  0.440395  0.469053  ...   2.732711    4.704523   \n",
       "12     401691.0   14239.0  0.435301  0.452136  ...   4.651221    7.139550   \n",
       "14    1040574.0   71476.0  0.605254  0.386179  ...  13.163497   32.272877   \n",
       "15     503609.0   34074.0  0.075367  0.842221  ...  15.908131   17.080802   \n",
       "...         ...       ...       ...       ...  ...        ...         ...   \n",
       "5327        NaN  -17109.0  0.221890  0.241732  ...  -3.400213   -3.651955   \n",
       "5338   611127.0 -392193.0  1.015386 -0.000985  ...  -2.839148   -5.615911   \n",
       "5339   270681.0  -12243.0  1.555556 -0.331542  ... -11.924241 -166.347050   \n",
       "5342  3307269.0  182814.0  0.521683  0.269604  ...  11.632372   25.919100   \n",
       "5345   102045.0 -140821.0  1.094307 -0.034572  ...  -6.212165  -33.852845   \n",
       "\n",
       "          매출총이익률        총자산증가율        매출액증가율       유형자산증가율    자본생산성비율  \\\n",
       "4      39.227356  1.000000e+12  1.000000e+12  1.000000e+12   0.186796   \n",
       "9       4.898061  1.000000e+12  1.000000e+12  1.000000e+12  12.620761   \n",
       "12     30.089795  1.000000e+12  1.000000e+12  1.000000e+12   2.187740   \n",
       "14     16.877896  1.000000e+12  1.000000e+12  1.000000e+12   4.698339   \n",
       "15     12.133222  1.000000e+12  1.000000e+12  1.000000e+12   2.783908   \n",
       "...          ...           ...           ...           ...        ...   \n",
       "5327         NaN  1.000000e+12  1.000000e+12  1.000000e+12        NaN   \n",
       "5338    5.029233 -2.574900e+01  1.000000e+12 -2.886300e+01   0.105083   \n",
       "5339  100.000000  1.000000e+12  1.000000e+12  1.000000e+12  36.047543   \n",
       "5342   97.761930  1.000000e+12  1.000000e+12  1.000000e+12   4.436399   \n",
       "5345   28.769660  1.000000e+12  1.000000e+12  1.000000e+12   0.248346   \n",
       "\n",
       "         매출채권회전율     재고자산회전율    총자본회전율  \n",
       "4            NaN    2.064728  0.151971  \n",
       "9     363.390335         NaN  7.331007  \n",
       "12    237.125738   10.403164  1.425245  \n",
       "14      4.602966  172.197492  1.916364  \n",
       "15           NaN         NaN  2.592795  \n",
       "...          ...         ...       ...  \n",
       "5327         NaN         NaN       NaN  \n",
       "5338   10.095933    4.404743  0.053125  \n",
       "5339   31.721669         NaN  2.583993  \n",
       "5342   16.905735         NaN  1.991035  \n",
       "5345         NaN    0.326652  0.045573  \n",
       "\n",
       "[1009 rows x 21 columns]"
      ]
     },
     "execution_count": 212,
     "metadata": {},
     "output_type": "execute_result"
    }
   ],
   "source": [
    "df_17.loc[df_17['매출액증가율'] == 1.000000e+12]"
   ]
  },
  {
   "cell_type": "code",
   "execution_count": 214,
   "id": "29df8628",
   "metadata": {},
   "outputs": [
    {
     "data": {
      "text/html": [
       "<div>\n",
       "<style scoped>\n",
       "    .dataframe tbody tr th:only-of-type {\n",
       "        vertical-align: middle;\n",
       "    }\n",
       "\n",
       "    .dataframe tbody tr th {\n",
       "        vertical-align: top;\n",
       "    }\n",
       "\n",
       "    .dataframe thead th {\n",
       "        text-align: right;\n",
       "    }\n",
       "</style>\n",
       "<table border=\"1\" class=\"dataframe\">\n",
       "  <thead>\n",
       "    <tr style=\"text-align: right;\">\n",
       "      <th></th>\n",
       "      <th>Unnamed: 0</th>\n",
       "      <th>BusinessNum</th>\n",
       "      <th>cmpNm</th>\n",
       "      <th>기업명</th>\n",
       "      <th>ceoNm</th>\n",
       "      <th>telNo</th>\n",
       "      <th>faxTelNo</th>\n",
       "      <th>zip</th>\n",
       "      <th>adr</th>\n",
       "      <th>dtlAdr</th>\n",
       "      <th>cmpTypNm</th>\n",
       "      <th>cmpSclNm</th>\n",
       "      <th>pbcoGbNm</th>\n",
       "      <th>indCd1</th>\n",
       "      <th>indNm</th>\n",
       "    </tr>\n",
       "  </thead>\n",
       "  <tbody>\n",
       "    <tr>\n",
       "      <th>66</th>\n",
       "      <td>66</td>\n",
       "      <td>3198701794</td>\n",
       "      <td>20211228</td>\n",
       "      <td>(주)광명정***</td>\n",
       "      <td>강**</td>\n",
       "      <td>054 8523113</td>\n",
       "      <td>054-853-4114</td>\n",
       "      <td>36626.0</td>\n",
       "      <td>경북 안동시 석수1길 5</td>\n",
       "      <td>(안기동)</td>\n",
       "      <td>일반</td>\n",
       "      <td>중소기업</td>\n",
       "      <td>일반기업</td>\n",
       "      <td>42321.0</td>\n",
       "      <td>일반 통신 공사업</td>\n",
       "    </tr>\n",
       "  </tbody>\n",
       "</table>\n",
       "</div>"
      ],
      "text/plain": [
       "    Unnamed: 0  BusinessNum     cmpNm        기업명 ceoNm         telNo  \\\n",
       "66          66   3198701794  20211228  (주)광명정***   강**   054 8523113   \n",
       "\n",
       "        faxTelNo      zip            adr dtlAdr cmpTypNm cmpSclNm pbcoGbNm  \\\n",
       "66  054-853-4114  36626.0  경북 안동시 석수1길 5  (안기동)       일반     중소기업     일반기업   \n",
       "\n",
       "     indCd1      indNm  \n",
       "66  42321.0  일반 통신 공사업  "
      ]
     },
     "execution_count": 214,
     "metadata": {},
     "output_type": "execute_result"
    }
   ],
   "source": [
    "comp_intro.loc[comp_intro['BusinessNum'] == 3198701794]"
   ]
  },
  {
   "cell_type": "code",
   "execution_count": 258,
   "id": "3824d1be",
   "metadata": {
    "scrolled": false
   },
   "outputs": [
    {
     "name": "stdout",
     "output_type": "stream",
     "text": [
      "(6341, 20)\n"
     ]
    },
    {
     "data": {
      "text/plain": [
       "BusinessNum      0\n",
       "주소1              1\n",
       "연차              54\n",
       "종업원수            22\n",
       "대분류              0\n",
       "당기순이익(손실)        4\n",
       "매출액             95\n",
       "영업이익             9\n",
       "유동자산비율          18\n",
       "순운전자본비율         18\n",
       "매출액순이익률         99\n",
       "ROA              4\n",
       "ROE              4\n",
       "매출총이익률         132\n",
       "총자산증가율           0\n",
       "매출액증가율           0\n",
       "유형자산증가율          0\n",
       "자본생산성비율        103\n",
       "매출채권회전율        995\n",
       "총자본회전율          95\n",
       "dtype: int64"
      ]
     },
     "execution_count": 258,
     "metadata": {},
     "output_type": "execute_result"
    }
   ],
   "source": [
    "print(df_18.shape)\n",
    "df_18.isnull().sum()"
   ]
  },
  {
   "cell_type": "code",
   "execution_count": 142,
   "id": "0fa5b59a",
   "metadata": {},
   "outputs": [
    {
     "name": "stdout",
     "output_type": "stream",
     "text": [
      "(6483, 21)\n"
     ]
    },
    {
     "data": {
      "text/plain": [
       "BusinessNum       0\n",
       "주소1               1\n",
       "연차               44\n",
       "종업원수             13\n",
       "대분류               0\n",
       "당기순이익(손실)         0\n",
       "매출액              58\n",
       "영업이익              0\n",
       "유동자산비율            9\n",
       "순운전자본비율           9\n",
       "매출액순이익률          59\n",
       "ROA               0\n",
       "ROE               0\n",
       "매출총이익률           89\n",
       "총자산증가율            0\n",
       "매출액증가율            0\n",
       "유형자산증가율           0\n",
       "자본생산성비율          63\n",
       "매출채권회전율         820\n",
       "재고자산회전율        3183\n",
       "총자본회전율           58\n",
       "dtype: int64"
      ]
     },
     "execution_count": 142,
     "metadata": {},
     "output_type": "execute_result"
    }
   ],
   "source": [
    "print(df_19.shape)\n",
    "df_19.isnull().sum()"
   ]
  },
  {
   "cell_type": "code",
   "execution_count": 259,
   "id": "ab1959a7",
   "metadata": {},
   "outputs": [
    {
     "name": "stdout",
     "output_type": "stream",
     "text": [
      "(6109, 20)\n"
     ]
    },
    {
     "data": {
      "text/plain": [
       "BusinessNum      0\n",
       "주소1              0\n",
       "연차              16\n",
       "종업원수             8\n",
       "대분류              0\n",
       "당기순이익(손실)        6\n",
       "매출액             30\n",
       "영업이익             6\n",
       "유동자산비율           9\n",
       "순운전자본비율          9\n",
       "매출액순이익률         31\n",
       "ROA              6\n",
       "ROE              6\n",
       "매출총이익률          51\n",
       "총자산증가율           0\n",
       "매출액증가율           0\n",
       "유형자산증가율          0\n",
       "자본생산성비율         31\n",
       "매출채권회전율        687\n",
       "총자본회전율          30\n",
       "dtype: int64"
      ]
     },
     "execution_count": 259,
     "metadata": {},
     "output_type": "execute_result"
    }
   ],
   "source": [
    "print(df_20.shape)\n",
    "df_20.isnull().sum()"
   ]
  },
  {
   "cell_type": "code",
   "execution_count": 144,
   "id": "8da1cb76",
   "metadata": {},
   "outputs": [
    {
     "name": "stdout",
     "output_type": "stream",
     "text": [
      "(5076, 21)\n"
     ]
    },
    {
     "data": {
      "text/plain": [
       "BusinessNum       0\n",
       "주소1               0\n",
       "연차                6\n",
       "종업원수              2\n",
       "대분류               0\n",
       "당기순이익(손실)         5\n",
       "매출액              18\n",
       "영업이익              5\n",
       "유동자산비율            9\n",
       "순운전자본비율          11\n",
       "매출액순이익률          18\n",
       "ROA               7\n",
       "ROE               7\n",
       "매출총이익률           39\n",
       "총자산증가율            2\n",
       "매출액증가율            2\n",
       "유형자산증가율           2\n",
       "자본생산성비율          23\n",
       "매출채권회전율         454\n",
       "재고자산회전율        2231\n",
       "총자본회전율           20\n",
       "dtype: int64"
      ]
     },
     "execution_count": 144,
     "metadata": {},
     "output_type": "execute_result"
    }
   ],
   "source": [
    "print(df_21.shape)\n",
    "df_21.isnull().sum()"
   ]
  },
  {
   "cell_type": "code",
   "execution_count": null,
   "id": "9a90ff20",
   "metadata": {},
   "outputs": [],
   "source": []
  }
 ],
 "metadata": {
  "kernelspec": {
   "display_name": "Python 3 (ipykernel)",
   "language": "python",
   "name": "python3"
  },
  "language_info": {
   "codemirror_mode": {
    "name": "ipython",
    "version": 3
   },
   "file_extension": ".py",
   "mimetype": "text/x-python",
   "name": "python",
   "nbconvert_exporter": "python",
   "pygments_lexer": "ipython3",
   "version": "3.9.13"
  }
 },
 "nbformat": 4,
 "nbformat_minor": 5
}
