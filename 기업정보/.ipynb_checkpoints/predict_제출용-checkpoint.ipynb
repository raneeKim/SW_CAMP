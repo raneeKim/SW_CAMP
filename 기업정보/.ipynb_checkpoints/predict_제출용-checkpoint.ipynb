{
 "cells": [
  {
   "cell_type": "code",
   "execution_count": null,
   "id": "42e2f226",
   "metadata": {},
   "outputs": [],
   "source": [
    "import pandas as pd\n",
    "import numpy as np\n",
    "\n",
    "from sklearn.model_selection import train_test_split, GridSearchCV\n",
    "from sklearn.pipeline import make_pipeline\n",
    "from sklearn.compose import make_column_transformer\n",
    "from sklearn.impute import SimpleImputer\n",
    "from sklearn.preprocessing import StandardScaler, RobustScaler, OneHotEncoder\n",
    "import xgboost as xgb\n",
    "from sklearn.ensemble import GradientBoostingRegressor\n",
    "from sklearn.linear_model import ElasticNet\n",
    "from sklearn.metrics import mean_squared_error, r2_score"
   ]
  },
  {
   "cell_type": "code",
   "execution_count": null,
   "id": "2670e3ea",
   "metadata": {},
   "outputs": [],
   "source": [
    "# 데이터로드\n",
    "path = 'C:/Users/MSI/Desktop/study/Data/기업정보/'\n",
    "df = pd.read_csv(path + '원자료변수_이상치_bound변환.csv',index_col=0)\n",
    "df.drop(columns=['BusinessNum','stYear'], inplace=True)\n",
    "df = df.dropna(subset=['매출액', '영업이익', '당기순이익(손실)'])"
   ]
  },
  {
   "cell_type": "code",
   "execution_count": null,
   "id": "f85df1ce",
   "metadata": {
    "scrolled": true
   },
   "outputs": [],
   "source": [
    "df.info()"
   ]
  },
  {
   "cell_type": "code",
   "execution_count": null,
   "id": "93ff380a",
   "metadata": {},
   "outputs": [],
   "source": [
    "df2 = pd.read_csv(path + 'predict_ex.csv',index_col=0)\n",
    "df2.drop(columns=['stYear'], inplace=True)"
   ]
  },
  {
   "cell_type": "code",
   "execution_count": null,
   "id": "4bd7eb57",
   "metadata": {
    "scrolled": true
   },
   "outputs": [],
   "source": [
    "df2.info()"
   ]
  },
  {
   "cell_type": "code",
   "execution_count": null,
   "id": "9e4f38f9",
   "metadata": {},
   "outputs": [],
   "source": [
    "# 데이터로드\n",
    "path = 'C:/Users/MSI/Desktop/study/Data/기업정보/'\n",
    "df = pd.read_csv(path + '원자료변수_이상치_bound변환.csv',index_col=0)\n",
    "df.drop(columns=['BusinessNum','stYear'], inplace=True)\n",
    "df = df.dropna(subset=['매출액', '영업이익', '당기순이익(손실)'])\n",
    "\n",
    "df2 = pd.read_csv(path + 'predict_ex.csv',index_col=0)\n",
    "df2.drop(columns=['stYear'], inplace=True)\n",
    "\n",
    "\n",
    "#카테고리와 숫자형 변수 리스트 생성\n",
    "category_list = df.select_dtypes(include=['object']).columns\n",
    "numeric_list = df.select_dtypes(include=[np.number]).columns.drop(['매출액', '영업이익', '당기순이익(손실)'])\n",
    "\n",
    "# 전처리 파이프라인 정의\n",
    "numeric_pipe = make_pipeline(SimpleImputer(strategy='median'), StandardScaler())\n",
    "category_pipe = make_pipeline(SimpleImputer(strategy='most_frequent'), OneHotEncoder(handle_unknown='ignore'))\n",
    "\n",
    "prepro_pipe = make_column_transformer((numeric_pipe, numeric_list),\n",
    "                                      (category_pipe, category_list))\n",
    "\n",
    "# 전처리 파이프라인을 학습 데이터에 대해 fit 및 transform\n",
    "X = df.drop(columns=['매출액', '영업이익', '당기순이익(손실)'])\n",
    "prepro_pipe.fit(X)\n",
    "X_transformed = prepro_pipe.transform(X)\n",
    "\n",
    "# df2 전처리\n",
    "X_new = df2.drop(columns=['BusinessNum'])\n",
    "X_new_transformed = prepro_pipe.transform(X_new)\n",
    "\n",
    "# 타겟 변수 목록\n",
    "targets = ['매출액', '영업이익', '당기순이익(손실)']\n",
    "\n",
    "results = []\n",
    "predictions = df2[['BusinessNum']].copy()\n",
    "\n",
    "for target in targets:\n",
    "    Y = df[target]\n",
    "    \n",
    "    X_train, X_test, Y_train, Y_test = train_test_split(X_transformed, Y, random_state=42)\n",
    "    \n",
    "    # 모델 정의\n",
    "    model = xgb.XGBRegressor()\n",
    "    \n",
    "    # 모델 학습\n",
    "    model.fit(X_train, Y_train)\n",
    "\n",
    "    Y_train_pred = model.predict(X_train)\n",
    "    Y_test_pred = model.predict(X_test)\n",
    "\n",
    "    train_mse = mean_squared_error(Y_train, Y_train_pred)\n",
    "    test_mse = mean_squared_error(Y_test, Y_test_pred)\n",
    "    train_r2 = r2_score(Y_train, Y_train_pred)\n",
    "    test_r2 = r2_score(Y_test, Y_test_pred)\n",
    "\n",
    "    results.append({\n",
    "        'target': target,\n",
    "        'train_mse': train_mse,\n",
    "        'test_mse': test_mse,\n",
    "        'train_r2': train_r2,\n",
    "        'test_r2': test_r2\n",
    "    })\n",
    "    \n",
    "    # 예측값을 predictions 데이터프레임에 추가\n",
    "    predictions[f'{target}_pred'] = model.predict(X_new_transformed)\n"
   ]
  },
  {
   "cell_type": "code",
   "execution_count": null,
   "id": "46d03e79",
   "metadata": {},
   "outputs": [],
   "source": [
    "predictions.to_csv(path + '최종의최종의최종의predict.csv')"
   ]
  },
  {
   "cell_type": "code",
   "execution_count": null,
   "id": "1d903b18",
   "metadata": {},
   "outputs": [],
   "source": [
    "df_2022 = pd.read_csv(path+'(2024_bigdata)2022_predict.csv', encoding='cp949')"
   ]
  },
  {
   "cell_type": "code",
   "execution_count": null,
   "id": "cde0f9b3",
   "metadata": {},
   "outputs": [],
   "source": [
    "df_2022"
   ]
  },
  {
   "cell_type": "markdown",
   "id": "20302a09",
   "metadata": {},
   "source": [
    "# 하이퍼파라미터 튜닝 후"
   ]
  },
  {
   "cell_type": "code",
   "execution_count": null,
   "id": "7f47583d",
   "metadata": {},
   "outputs": [],
   "source": [
    "# 카테고리와 숫자형 변수 리스트 생성\n",
    "category_list = df.select_dtypes(include=['object']).columns\n",
    "numeric_list = df.select_dtypes(include=[np.number]).columns.drop(['매출액', '영업이익', '당기순이익(손실)'])\n",
    "\n",
    "# 전처리 파이프라인 정의\n",
    "numeric_pipe = make_pipeline(SimpleImputer(strategy='median'), StandardScaler())\n",
    "category_pipe = make_pipeline(SimpleImputer(strategy='most_frequent'), OneHotEncoder(handle_unknown='ignore'))\n",
    "\n",
    "prepro_pipe = make_column_transformer((numeric_pipe, numeric_list),\n",
    "                                      (category_pipe, category_list))\n",
    "\n",
    "# 전처리 파이프라인을 학습 데이터에 대해 fit 및 transform\n",
    "X = df.drop(columns=['매출액', '영업이익', '당기순이익(손실)'])\n",
    "prepro_pipe.fit(X)\n",
    "X_transformed = prepro_pipe.transform(X)\n",
    "\n",
    "# df2 전처리\n",
    "X_new = df2.drop(columns=['BusinessNum'])\n",
    "X_new_transformed = prepro_pipe.transform(X_new)\n",
    "\n",
    "# 타겟 변수 목록\n",
    "targets = ['매출액', '영업이익', '당기순이익(손실)']\n",
    "\n",
    "\n",
    "predictions = df2[['BusinessNum']].copy()\n",
    "\n",
    "# 하이퍼파라미터 그리드 설정\n",
    "param_grid = {\n",
    "    'xgbregressor__n_estimators': [100, 200, 300],\n",
    "    'xgbregressor__max_depth': [3, 5, 7],\n",
    "    'xgbregressor__learning_rate': [0.01, 0.1, 0.3],\n",
    "    'xgbregressor__subsample': [0.6, 0.8, 1.0],\n",
    "    'xgbregressor__colsample_bytree': [0.6, 0.8, 1.0]\n",
    "}\n",
    "\n",
    "for target in targets:\n",
    "    Y = df[target]\n",
    "    \n",
    "    X_train, X_test, Y_train, Y_test = train_test_split(X_transformed, Y, random_state=42)\n",
    "    \n",
    "    # 모델 정의\n",
    "    model = xgb.XGBRegressor()\n",
    "    \n",
    "    # 전체 파이프라인\n",
    "    model_pipe = make_pipeline(prepro_pipe, model)\n",
    "    \n",
    "    # GridSearchCV 설정\n",
    "    grid_search = GridSearchCV(model_pipe, param_grid, cv=5, scoring='neg_mean_squared_error', n_jobs=-1)\n",
    "    \n",
    "    # 모델 학습\n",
    "    grid_search.fit(X_train, Y_train)\n",
    "\n",
    "    # 최적 모델로 예측\n",
    "    best_model = grid_search.best_estimator_\n",
    "    Y_train_pred = best_model.predict(X_train)\n",
    "    Y_test_pred = best_model.predict(X_test)\n",
    "\n",
    "    train_mse = mean_squared_error(Y_train, Y_train_pred)\n",
    "    test_mse = mean_squared_error(Y_test, Y_test_pred)\n",
    "    train_r2 = r2_score(Y_train, Y_train_pred)\n",
    "    test_r2 = r2_score(Y_test, Y_test_pred)\n",
    "\n",
    "    # 예측값을 predictions 데이터프레임에 추가\n",
    "    predictions[f'{target}_pred'] = best_model.predict(X_new_transformed)"
   ]
  },
  {
   "cell_type": "code",
   "execution_count": null,
   "id": "341ef9c0",
   "metadata": {},
   "outputs": [],
   "source": []
  }
 ],
 "metadata": {
  "kernelspec": {
   "display_name": "Python 3 (ipykernel)",
   "language": "python",
   "name": "python3"
  },
  "language_info": {
   "codemirror_mode": {
    "name": "ipython",
    "version": 3
   },
   "file_extension": ".py",
   "mimetype": "text/x-python",
   "name": "python",
   "nbconvert_exporter": "python",
   "pygments_lexer": "ipython3",
   "version": "3.9.13"
  }
 },
 "nbformat": 4,
 "nbformat_minor": 5
}
