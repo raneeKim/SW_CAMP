{
 "cells": [
  {
   "cell_type": "code",
   "execution_count": 42,
   "id": "0480d9f8-eca2-45d8-8528-e2524c166bc9",
   "metadata": {},
   "outputs": [],
   "source": [
    "import pandas as pd\n",
    "import numpy as np\n",
    "import matplotlib.pyplot as plt\n",
    "import seaborn as sns\n",
    "import plotly.express as px\n",
    "import scipy.stats as stats"
   ]
  },
  {
   "cell_type": "markdown",
   "id": "cb0f408c-8263-4ef5-bf36-3c7feb7381c0",
   "metadata": {
    "jp-MarkdownHeadingCollapsed": true
   },
   "source": [
    "# 데이터 불러오기"
   ]
  },
  {
   "cell_type": "code",
   "execution_count": 43,
   "id": "0f9d425d-19a5-4140-88b8-486186dccca2",
   "metadata": {},
   "outputs": [],
   "source": [
    "path = 'C:/Users/UserK/Desktop/Ranee/data/신용예측프로젝트/프로젝트 데이터/'"
   ]
  },
  {
   "cell_type": "code",
   "execution_count": 44,
   "id": "6d7b7f92",
   "metadata": {},
   "outputs": [],
   "source": [
    "path = 'C:/Users/MSI/Desktop/study/Data/기업정보/'"
   ]
  },
  {
   "cell_type": "code",
   "execution_count": 131,
   "id": "1b74cf0a-a0cb-4f0e-b8ae-5528fd89f72c",
   "metadata": {},
   "outputs": [
    {
     "ename": "FileNotFoundError",
     "evalue": "[WinError 3] 지정된 경로를 찾을 수 없습니다: 'C:/Users/UserK/Desktop/Ranee/data/신용예측프로젝트/프로젝트 데이터\\\\경영진정보_test.csv' -> 'C:/Users/UserK/Desktop/Ranee/data/신용예측프로젝트/프로젝트 데이터//Users/UserK/Desktop/Ranee/data/신용예측프로젝트/프로젝트 데이터\\\\경영진정보_test.csv'",
     "output_type": "error",
     "traceback": [
      "\u001b[1;31m---------------------------------------------------------------------------\u001b[0m",
      "\u001b[1;31mFileNotFoundError\u001b[0m                         Traceback (most recent call last)",
      "Cell \u001b[1;32mIn[131], line 14\u001b[0m\n\u001b[0;32m     12\u001b[0m \u001b[38;5;28;01mif\u001b[39;00m \u001b[38;5;28mlen\u001b[39m(tmp)\u001b[38;5;241m==\u001b[39m\u001b[38;5;241m28\u001b[39m:\n\u001b[0;32m     13\u001b[0m     os\u001b[38;5;241m.\u001b[39mmakedirs(path, exist_ok\u001b[38;5;241m=\u001b[39m\u001b[38;5;28;01mTrue\u001b[39;00m)\n\u001b[1;32m---> 14\u001b[0m     [os\u001b[38;5;241m.\u001b[39mrename(_, path \u001b[38;5;241m+\u001b[39m_[\u001b[38;5;241m2\u001b[39m:]) \u001b[38;5;28;01mfor\u001b[39;00m _ \u001b[38;5;129;01min\u001b[39;00m tmp]\n\u001b[0;32m     15\u001b[0m \u001b[38;5;28;01mdel\u001b[39;00m tmp\n\u001b[0;32m     17\u001b[0m err_list \u001b[38;5;241m=\u001b[39m []\n",
      "Cell \u001b[1;32mIn[131], line 14\u001b[0m, in \u001b[0;36m<listcomp>\u001b[1;34m(.0)\u001b[0m\n\u001b[0;32m     12\u001b[0m \u001b[38;5;28;01mif\u001b[39;00m \u001b[38;5;28mlen\u001b[39m(tmp)\u001b[38;5;241m==\u001b[39m\u001b[38;5;241m28\u001b[39m:\n\u001b[0;32m     13\u001b[0m     os\u001b[38;5;241m.\u001b[39mmakedirs(path, exist_ok\u001b[38;5;241m=\u001b[39m\u001b[38;5;28;01mTrue\u001b[39;00m)\n\u001b[1;32m---> 14\u001b[0m     [os\u001b[38;5;241m.\u001b[39mrename(_, path \u001b[38;5;241m+\u001b[39m_[\u001b[38;5;241m2\u001b[39m:]) \u001b[38;5;28;01mfor\u001b[39;00m _ \u001b[38;5;129;01min\u001b[39;00m tmp]\n\u001b[0;32m     15\u001b[0m \u001b[38;5;28;01mdel\u001b[39;00m tmp\n\u001b[0;32m     17\u001b[0m err_list \u001b[38;5;241m=\u001b[39m []\n",
      "\u001b[1;31mFileNotFoundError\u001b[0m: [WinError 3] 지정된 경로를 찾을 수 없습니다: 'C:/Users/UserK/Desktop/Ranee/data/신용예측프로젝트/프로젝트 데이터\\\\경영진정보_test.csv' -> 'C:/Users/UserK/Desktop/Ranee/data/신용예측프로젝트/프로젝트 데이터//Users/UserK/Desktop/Ranee/data/신용예측프로젝트/프로젝트 데이터\\\\경영진정보_test.csv'"
     ]
    }
   ],
   "source": [
    "import warnings\n",
    "from glob import glob\n",
    "import os\n",
    "warnings.filterwarnings('ignore')\n",
    "get_ipython().run_line_magic('matplotlib', 'inline')\n",
    "plt.rc('font', family='Malgun Gothic')\n",
    "plt.rcParams['axes.unicode_minus'] = False\n",
    "\n",
    "# 파일명 변경 dict\n",
    "rename_dict = dict(zip(['기업정보요약', '재무제표정보', '경영진정보', '국가R&D과제', '국가R&D성과', '국가R&D연구보고서',\n",
    "        '디자인권정보', '상표권정보', '신용등급정보', '실용신안정보', '온라인뉴스', '취업포탈리뷰',\n",
    "        '특허정보상세', '패밀리특허정보'],\n",
    "        ['comp_intro_test', 'comp_finance_test', 'comp_manager_test', 'ntis_assign_test',\n",
    "        'ntis_accomp_test.csf', 'ntis_article_test', 'kisti_design_test', 'kisti_mark_test',\n",
    "        'cri_test', 'kisti_utility_test', 'naver_news_test', 'jobplanet_review_test',\n",
    "        'patent_detail', 'family_patent']))\n",
    "\n",
    "# data 폴더 여부 확인 및 생성\n",
    "tmp = glob(path + '*.csv')\n",
    "if len(tmp)==28:\n",
    "    os.makedirs(path, exist_ok=True)\n",
    "    [os.rename(_, path +_[2:]) for _ in tmp]\n",
    "del tmp\n",
    "\n",
    "err_list = []\n",
    "for ori_name in glob(path+'*_train.csv'):\n",
    "    target = ori_name[7:-10]\n",
    "    new_name = rename_dict.get(target)\n",
    "    if new_name:\n",
    "        new_name = ori_name.replace(target, new_name)\n",
    "        os.rename(ori_name, new_name)\n",
    "    elif not target.replace('_', '').replace('.', '').isalpha():\n",
    "        err_list.append(ori_name)\n",
    "\n",
    "for ori_name in glob(path+'*_test.csv'):\n",
    "    target = ori_name[7:-9]\n",
    "    new_name = rename_dict.get(target)\n",
    "    if new_name:\n",
    "        new_name = ori_name.replace(target, new_name)\n",
    "        os.rename(ori_name, new_name)\n",
    "    elif not target.replace('_', '').replace('.', '').isalpha():\n",
    "        err_list.append(ori_name)\n",
    "\n",
    "if err_list:\n",
    "    [print(_) for _ in glob(path+'*.csv')]\n",
    "else:\n",
    "    del err_list, ori_name, target, new_name, rename_dict"
   ]
  },
  {
   "cell_type": "markdown",
   "id": "0c788177-41fb-4e4a-a27f-5b5039d93df2",
   "metadata": {},
   "source": [
    "- 기업정보요약 : comp_intro\n",
    "- 재무제표정보 : comp_finance\n",
    "- 경영진정보 : comp_manager\n",
    "- 국가R&D과제 : ntis_assign (진행중인것 / 완료 --> 성과데이터로있음)\n",
    "- 국가R&D성과 : ntis_accomp \n",
    "- 국가R&D연구보고서 : ntis_article\n",
    "- 디자인권정보 : kisti_design\n",
    "- 상표권정보 : kisti_mark\n",
    "- 신용등급정보: cri\n",
    "- 실용신안정보 : kisti_utility\n",
    "- 온라인뉴스: naver_news\n",
    "- 취업포탈리뷰 : jobplanet_review\n",
    "- 특허정보상세 : patent_detail\n",
    "- 패밀리특허정보 : family_patent"
   ]
  },
  {
   "cell_type": "code",
   "execution_count": 45,
   "id": "6a8247f2-e784-49bf-9276-e38b17dda86e",
   "metadata": {},
   "outputs": [
    {
     "name": "stderr",
     "output_type": "stream",
     "text": [
      "C:\\Users\\MSI\\AppData\\Local\\Temp\\ipykernel_25720\\1103864065.py:2: DtypeWarning: Columns (42,44,46,48,51,56) have mixed types. Specify dtype option on import or set low_memory=False.\n",
      "  ntis_assign = pd.read_csv(path +'국가R&D과제_train.csv')\n"
     ]
    }
   ],
   "source": [
    "comp_manager = pd.read_csv(path +'경영진정보_train.csv')\n",
    "ntis_assign = pd.read_csv(path +'국가R&D과제_train.csv')\n",
    "ntis_accomp = pd.read_csv(path +'국가R&D성과_train.csv')\n",
    "ntis_article = pd.read_csv(path +'국가R&D연구보고서_train.csv')\n",
    "comp_intro = pd.read_csv(path +'기업정보요약_train.csv')\n",
    "comp_spe_intro = pd.read_csv(path +'기업정보상세.csv')\n",
    "kisti_design = pd.read_csv(path +'디자인권정보_train.csv')\n",
    "kisti_mark = pd.read_csv(path +'상표권정보_train.csv')\n",
    "cri = pd.read_csv(path +'신용등급정보_train.csv')\n",
    "kisti_utility = pd.read_csv(path +'실용신안정보_train.csv')\n",
    "naver_news = pd.read_csv(path +'온라인뉴스_train.csv')\n",
    "comp_finance = pd.read_csv(path +'재무제표정보_train.csv')\n",
    "jobplanet_review = pd.read_csv(path +'취업포탈리뷰_train.csv')\n",
    "patent_detail = pd.read_csv(path +'특허정보상세_train.csv')\n",
    "family_patent = pd.read_csv(path +'패밀리특허정보_train.csv')\n",
    "mapping =  pd.read_csv(path + 'mapping_info.csv')\n",
    "comp_spe_intro =  pd.read_csv(path + '기업정보상세.csv')"
   ]
  },
  {
   "cell_type": "code",
   "execution_count": 4,
   "id": "c9ba67bd-6cda-4004-b7f8-b4fe0655260d",
   "metadata": {},
   "outputs": [
    {
     "data": {
      "text/html": [
       "<div>\n",
       "<style scoped>\n",
       "    .dataframe tbody tr th:only-of-type {\n",
       "        vertical-align: middle;\n",
       "    }\n",
       "\n",
       "    .dataframe tbody tr th {\n",
       "        vertical-align: top;\n",
       "    }\n",
       "\n",
       "    .dataframe thead th {\n",
       "        text-align: right;\n",
       "    }\n",
       "</style>\n",
       "<table border=\"1\" class=\"dataframe\">\n",
       "  <thead>\n",
       "    <tr style=\"text-align: right;\">\n",
       "      <th></th>\n",
       "      <th>Unnamed: 0</th>\n",
       "      <th>BusinessNum</th>\n",
       "      <th>cmpNm</th>\n",
       "      <th>기업명</th>\n",
       "      <th>ceoNm</th>\n",
       "      <th>telNo</th>\n",
       "      <th>faxTelNo</th>\n",
       "      <th>zip</th>\n",
       "      <th>adr</th>\n",
       "      <th>dtlAdr</th>\n",
       "      <th>cmpTypNm</th>\n",
       "      <th>cmpSclNm</th>\n",
       "      <th>pbcoGbNm</th>\n",
       "      <th>indCd1</th>\n",
       "      <th>indNm</th>\n",
       "    </tr>\n",
       "  </thead>\n",
       "  <tbody>\n",
       "    <tr>\n",
       "      <th>0</th>\n",
       "      <td>0</td>\n",
       "      <td>1131201292</td>\n",
       "      <td>20210903</td>\n",
       "      <td>에**</td>\n",
       "      <td>김**</td>\n",
       "      <td>02  26333232</td>\n",
       "      <td>NaN</td>\n",
       "      <td>7295.0</td>\n",
       "      <td>서울특별시 영등포구 문래로20길</td>\n",
       "      <td>60, 5층 505호 (문래동3가,메가벤처타워)</td>\n",
       "      <td>일반</td>\n",
       "      <td>중소기업</td>\n",
       "      <td>일반기업</td>\n",
       "      <td>42321.0</td>\n",
       "      <td>일반 통신 공사업</td>\n",
       "    </tr>\n",
       "    <tr>\n",
       "      <th>1</th>\n",
       "      <td>1</td>\n",
       "      <td>6058609398</td>\n",
       "      <td>20220308</td>\n",
       "      <td>두원건설***</td>\n",
       "      <td>이**</td>\n",
       "      <td>043 283 4567</td>\n",
       "      <td>043 292 2002</td>\n",
       "      <td>28536.0</td>\n",
       "      <td>충청북도 청주시 청원구 중앙로 140</td>\n",
       "      <td>4층 (우암동)</td>\n",
       "      <td>일반</td>\n",
       "      <td>중소기업</td>\n",
       "      <td>일반기업</td>\n",
       "      <td>41100.0</td>\n",
       "      <td>건물 건설업</td>\n",
       "    </tr>\n",
       "    <tr>\n",
       "      <th>2</th>\n",
       "      <td>2</td>\n",
       "      <td>1138601802</td>\n",
       "      <td>20210903</td>\n",
       "      <td>(주)드림아이***</td>\n",
       "      <td>유**</td>\n",
       "      <td>070 77666664</td>\n",
       "      <td>02  62806509</td>\n",
       "      <td>8510.0</td>\n",
       "      <td>서울 금천구 벚꽃로 298</td>\n",
       "      <td>903호,1312호 (가산동,대륭포스트타워6차)</td>\n",
       "      <td>외감</td>\n",
       "      <td>중소기업</td>\n",
       "      <td>일반기업</td>\n",
       "      <td>62010.0</td>\n",
       "      <td>컴퓨터 프로그래밍 서비스업</td>\n",
       "    </tr>\n",
       "    <tr>\n",
       "      <th>3</th>\n",
       "      <td>3</td>\n",
       "      <td>7048608706</td>\n",
       "      <td>20211201</td>\n",
       "      <td>(주)드림오브***</td>\n",
       "      <td>신**</td>\n",
       "      <td>02-854-8000</td>\n",
       "      <td>050-4199-5335</td>\n",
       "      <td>3900.0</td>\n",
       "      <td>서울 마포구 마포나루길 332</td>\n",
       "      <td>선착장 (상암동,상암나루)</td>\n",
       "      <td>일반</td>\n",
       "      <td>중소기업</td>\n",
       "      <td>일반기업</td>\n",
       "      <td>71531.0</td>\n",
       "      <td>경영컨설팅업</td>\n",
       "    </tr>\n",
       "    <tr>\n",
       "      <th>4</th>\n",
       "      <td>4</td>\n",
       "      <td>5088103009</td>\n",
       "      <td>20211130</td>\n",
       "      <td>(주)세***</td>\n",
       "      <td>권**</td>\n",
       "      <td>054 853 0006</td>\n",
       "      <td>054 8539929</td>\n",
       "      <td>36660.0</td>\n",
       "      <td>경북 안동시 경북대로</td>\n",
       "      <td>389, 101호 지하</td>\n",
       "      <td>일반</td>\n",
       "      <td>중소기업</td>\n",
       "      <td>일반기업</td>\n",
       "      <td>41220.0</td>\n",
       "      <td>토목시설물 건설업</td>\n",
       "    </tr>\n",
       "  </tbody>\n",
       "</table>\n",
       "</div>"
      ],
      "text/plain": [
       "   Unnamed: 0  BusinessNum     cmpNm         기업명 ceoNm         telNo  \\\n",
       "0           0   1131201292  20210903         에**   김**  02  26333232   \n",
       "1           1   6058609398  20220308     두원건설***   이**  043 283 4567   \n",
       "2           2   1138601802  20210903  (주)드림아이***   유**  070 77666664   \n",
       "3           3   7048608706  20211201  (주)드림오브***   신**   02-854-8000   \n",
       "4           4   5088103009  20211130     (주)세***   권**  054 853 0006   \n",
       "\n",
       "        faxTelNo      zip                   adr                      dtlAdr  \\\n",
       "0            NaN   7295.0     서울특별시 영등포구 문래로20길  60, 5층 505호 (문래동3가,메가벤처타워)   \n",
       "1   043 292 2002  28536.0  충청북도 청주시 청원구 중앙로 140                    4층 (우암동)   \n",
       "2   02  62806509   8510.0        서울 금천구 벚꽃로 298  903호,1312호 (가산동,대륭포스트타워6차)   \n",
       "3  050-4199-5335   3900.0      서울 마포구 마포나루길 332              선착장 (상암동,상암나루)   \n",
       "4    054 8539929  36660.0           경북 안동시 경북대로                389, 101호 지하   \n",
       "\n",
       "  cmpTypNm cmpSclNm pbcoGbNm   indCd1           indNm  \n",
       "0       일반     중소기업     일반기업  42321.0       일반 통신 공사업  \n",
       "1       일반     중소기업     일반기업  41100.0          건물 건설업  \n",
       "2       외감     중소기업     일반기업  62010.0  컴퓨터 프로그래밍 서비스업  \n",
       "3       일반     중소기업     일반기업  71531.0          경영컨설팅업  \n",
       "4       일반     중소기업     일반기업  41220.0       토목시설물 건설업  "
      ]
     },
     "execution_count": 4,
     "metadata": {},
     "output_type": "execute_result"
    }
   ],
   "source": [
    "comp_intro.head(5)"
   ]
  },
  {
   "cell_type": "code",
   "execution_count": 49,
   "id": "a75bf879-a8cd-4c3b-81f9-f39164862493",
   "metadata": {},
   "outputs": [],
   "source": [
    "def dot_split(row):\n",
    "    row = str(row)\n",
    "    if isinstance(row, str) : \n",
    "        return row.split('.')[0]\n",
    "    else:\n",
    "        return row \n"
   ]
  },
  {
   "cell_type": "code",
   "execution_count": null,
   "id": "1f954b95-89e5-4edf-8093-5a57b4dc534d",
   "metadata": {},
   "outputs": [],
   "source": [
    "comp_intro['indCd1_str'] = comp_intro['indCd1'].apply(dot_split)"
   ]
  },
  {
   "cell_type": "markdown",
   "id": "136f3ab7-eb30-487d-bf9a-e98d9c4e5abd",
   "metadata": {
    "jp-MarkdownHeadingCollapsed": true
   },
   "source": [
    "# 상품코드로 상품분류명"
   ]
  },
  {
   "cell_type": "code",
   "execution_count": 6,
   "id": "0cd30182-cbf2-4e17-80a2-b86af5ff5d1b",
   "metadata": {},
   "outputs": [
    {
     "name": "stdout",
     "output_type": "stream",
     "text": [
      "<class 'pandas.core.frame.DataFrame'>\n",
      "RangeIndex: 7804 entries, 0 to 7803\n",
      "Data columns (total 16 columns):\n",
      " #   Column       Non-Null Count  Dtype  \n",
      "---  ------       --------------  -----  \n",
      " 0   Unnamed: 0   7804 non-null   int64  \n",
      " 1   BusinessNum  7804 non-null   int64  \n",
      " 2   cmpNm        7804 non-null   int64  \n",
      " 3   기업명          7804 non-null   object \n",
      " 4   ceoNm        7804 non-null   object \n",
      " 5   telNo        7390 non-null   object \n",
      " 6   faxTelNo     5607 non-null   object \n",
      " 7   zip          6314 non-null   float64\n",
      " 8   adr          7731 non-null   object \n",
      " 9   dtlAdr       6426 non-null   object \n",
      " 10  cmpTypNm     7804 non-null   object \n",
      " 11  cmpSclNm     7804 non-null   object \n",
      " 12  pbcoGbNm     6505 non-null   object \n",
      " 13  indCd1       7789 non-null   float64\n",
      " 14  indNm        7787 non-null   object \n",
      " 15  indCd1_str   7804 non-null   object \n",
      "dtypes: float64(2), int64(3), object(11)\n",
      "memory usage: 975.6+ KB\n"
     ]
    }
   ],
   "source": [
    "comp_intro.info()"
   ]
  },
  {
   "cell_type": "code",
   "execution_count": 7,
   "id": "11ea8439-3a79-4801-9669-3c02fecc0ff7",
   "metadata": {},
   "outputs": [
    {
     "data": {
      "text/plain": [
       "array(['42321', '41100', '62010', '71531', '41220', '62021', '42320',\n",
       "       '73209', '59110', '41111', '58221', '42310', '63991', '42132',\n",
       "       '46522', '62090', '41229', '85501', '58211', '47912', '42110',\n",
       "       '26410', '42201', '61210', '52990', '47420', '16300', '42420',\n",
       "       '26429', '42311', '58222', '47910', '42131', '42491', '41121',\n",
       "       '46520', '28121', '46109', '63900', '42322', '42129', '46103',\n",
       "       '90191', '94990', '72111', '26120', '41129', '74100', '63100',\n",
       "       '72120', '46730', '17223', '42121', '42204', '42120', '63120',\n",
       "       '75900', '46491', '59114', '58200', '41221', '47312', '60229',\n",
       "       '62020', '41000', '61000', '47592', '28510', '42300', '61220',\n",
       "       '58220', '46599', '45219', '52991', '42412', '46510', '42499',\n",
       "       '59113', '46800', '61291', '46453', '42136', '20499', '42130',\n",
       "       '68112', '42134', '70100', '29299', '29162', '46595', '26420',\n",
       "       '59100', '47320', '46443', '55104', '75991', '63111', '63990',\n",
       "       '41119', '30201', '71530', '59111', '42202', '75999', '46313',\n",
       "       '68122', '26421', '42410', '62000', '73200', '47911', '73100',\n",
       "       '66192', '56121', '71393', '41112', '46492', '41222', '41110',\n",
       "       '46741', '75310', '66201', '59120', '96991', '63000', '68110',\n",
       "       '56190', '42411', '46412', '42000', '46592', '14192', '46733',\n",
       "       '91132', '46712', '71310', '42200', '95110', '58212', '41120',\n",
       "       '86201', '26422', '27199', '72112', '60221', '41200', '46621',\n",
       "       '76110', '52992', '62022', '10000', '29270', '25922', '46433',\n",
       "       '75121', '56111', '76390', '26111', '10403', '42492', '26000',\n",
       "       '14110', '68121', '76320', '46325', '47919', '58112', '46590',\n",
       "       'nan', '58113', '47310', '28120', '73203', '42139', '68119',\n",
       "       '41224', '65121', '41225', '58122', '42137', '29110', '28909',\n",
       "       '20423', '13999', '73202', '64900', '47300', '76310', '42133',\n",
       "       '32090', '15129', '63999', '42500', '22232', '41226', '71600',\n",
       "       '46493', '42209', '26299', '26511', '46400', '56194', '60222',\n",
       "       '58000', '23312', '26292', '28519', '46799', '70121', '46413',\n",
       "       '47813', '75990', '26121', '29271', '14120', '42400', '72129',\n",
       "       '42122', '59141', '29290', '72924', '13213', '25999', '33931',\n",
       "       '46441', '73201', '42138', '46591', '85640', '75210', '46410',\n",
       "       '41122', '63110', '29175', '26310', '20501', '49401', '33999',\n",
       "       '58219', '29180', '75992', '46000', '64209', '52914', '90192',\n",
       "       '30310', '85302', '47590', '46464', '68221', '46442', '10712',\n",
       "       '32011', '49301', '10799', '46201', '22192', '76210', '25921',\n",
       "       '46100', '47830', '96995', '68223', '85701', '30300', '91290',\n",
       "       '42100', '46791', '96112', '63910', '64919', '26400', '96910',\n",
       "       '71400', '73909', '27219', '45110', '59000', '26329', '14191',\n",
       "       '46721', '25121', '10791', '94900', '61299', '26290', '70113',\n",
       "       '95120', '15219', '26291', '70129', '56192', '29172', '24132',\n",
       "       '55101', '91000', '27400', '22299', '73901', '26529', '27193',\n",
       "       '46331', '46539', '42312', '10797', '47129', '64992', '58120',\n",
       "       '73902', '59201', '71399', '75110', '27302', '20313', '42600',\n",
       "       '32029', '29000', '18110', '46594', '24000', '13100', '23322',\n",
       "       '46452', '86000', '74210', '70119', '26100', '87131', '26300',\n",
       "       '52101', '16220', '65110', '63112', '27213', '28302', '47190',\n",
       "       '46320', '35119', '56142', '46451', '71201', '47430', '47219',\n",
       "       '85700', '46521', '25990', '85669', '47811', '70111', '90190',\n",
       "       '59112', '86909', '75120', '14111', '90199', '28123', '46432',\n",
       "       '15211', '41210', '72920', '23300', '76000', '21210', '47400',\n",
       "       '58121', '47121', '20411', '13992', '18119', '10309', '14112',\n",
       "       '68220', '33110', '33309', '96912', '42123', '94110', '21102',\n",
       "       '56130', '27191', '72122', '33930', '31322', '27192', '46613',\n",
       "       '70209', '58110', '58210', '72911', '58111', '76292', '30399',\n",
       "       '68129', '50122', '22292', '31114', '46431', '26211', '70000',\n",
       "       '75122', '61290', '26510', '85000', '70200', '47311', '47821',\n",
       "       '46700', '20422', '56110', '10700', '45000', '46105', '27215',\n",
       "       '42490', '21300', '60210', '59130', '35113', '14490', '75290',\n",
       "       '68111', '38311', '87000', '33401', '56229', '58190', '45100',\n",
       "       '29269', '94931', '26519', '72121', '28420', '71390', '84212',\n",
       "       '73900', '71109', '38110', '46311', '46593', '64100', '17902',\n",
       "       '22223', '27216', '74211', '20493', '29133', '46596', '46790',\n",
       "       '50112', '28903', '47631', '35114', '29169', '18200', '85503',\n",
       "       '52104', '33000', '46329', '46107', '64201', '1123', '18129',\n",
       "       '42203', '56100', '13222', '52910', '68212', '75993', '85709',\n",
       "       '47510', '25991', '29131', '76190', '22229', '26200', '20203',\n",
       "       '28119', '38120', '31202', '52999', '25110', '70120', '95211',\n",
       "       '49309', '46720', '85629', '46310', '70201', '96119', '34020',\n",
       "       '46530', '46499', '47217', '66209', '33910', '29163', '66202',\n",
       "       '50130', '23232', '29294', '68000', '46739', '10502', '28122',\n",
       "       '30320', '94930', '22220', '14199', '27212', '29171', '51200',\n",
       "       '29170', '68222', '38130', '58100', '46500', '72919', '27111',\n",
       "       '25900', '66121', '7110', '46699', '30391', '46740', '95212',\n",
       "       '17901', '24112', '46203', '64121', '29261', '20500', '25944',\n",
       "       '52915', '28111', '29199', '34019', '29280', '26520', '22000',\n",
       "       '46102', '28202', '52920', '46463', '47111', '14000', '71500',\n",
       "       '49212', '47812', '91191', '47591', '52941', '20129', '46713',\n",
       "       '17129', '14190', '85699', '85630', '25000', '91199', '27300',\n",
       "       '75320', '56123', '33400', '29229', '10759', '20121', '59140',\n",
       "       '33920', '85500', '94939', '33992', '47414', '18111', '71101',\n",
       "       '72100', '25113', '46106', '20119', '56122', '73904', '39009',\n",
       "       '60000', '61200', '27190', '56199', '29190', '45200', '75919',\n",
       "       '71200', '66199', '46411', '56191', '58119', '96921', '20132',\n",
       "       '10790', '28511', '28423', '56211', '27112', '18100', '73301',\n",
       "       '47869', '14194', '25112', '71391', '46742', '46711', '28301',\n",
       "       '46450', '46414', '46611', '47810', '29173', '75000', '46610',\n",
       "       '28110', '73903', '46319', '47820', '29150', '38000', '15120',\n",
       "       '25934', '27301', '64132', '86203', '46419', '46732', '46612',\n",
       "       '20110', '84210'], dtype=object)"
      ]
     },
     "execution_count": 7,
     "metadata": {},
     "output_type": "execute_result"
    }
   ],
   "source": [
    "comp_intro['indCd1_str'].unique()"
   ]
  },
  {
   "cell_type": "code",
   "execution_count": 53,
   "id": "a8a8e04e-8ea9-47e4-86ca-c395100d1b5d",
   "metadata": {},
   "outputs": [
    {
     "ename": "FileNotFoundError",
     "evalue": "[Errno 2] No such file or directory: 'C:/Users/MSI/Desktop/study/Data/기업정보/한국표준산업분류표.xlsx'",
     "output_type": "error",
     "traceback": [
      "\u001b[1;31m---------------------------------------------------------------------------\u001b[0m",
      "\u001b[1;31mFileNotFoundError\u001b[0m                         Traceback (most recent call last)",
      "\u001b[1;32m~\\AppData\\Local\\Temp\\ipykernel_25720\\4076721132.py\u001b[0m in \u001b[0;36m<module>\u001b[1;34m\u001b[0m\n\u001b[1;32m----> 1\u001b[1;33m \u001b[0mdf_industry\u001b[0m \u001b[1;33m=\u001b[0m \u001b[0mpd\u001b[0m\u001b[1;33m.\u001b[0m\u001b[0mread_excel\u001b[0m\u001b[1;33m(\u001b[0m\u001b[0mpath\u001b[0m\u001b[1;33m+\u001b[0m\u001b[1;34m'한국표준산업분류표.xlsx'\u001b[0m\u001b[1;33m,\u001b[0m\u001b[0mindex_col\u001b[0m\u001b[1;33m=\u001b[0m\u001b[1;36m1\u001b[0m\u001b[1;33m)\u001b[0m\u001b[1;33m.\u001b[0m\u001b[0mreset_index\u001b[0m\u001b[1;33m(\u001b[0m\u001b[1;33m)\u001b[0m\u001b[1;33m.\u001b[0m\u001b[0mfillna\u001b[0m\u001b[1;33m(\u001b[0m\u001b[0mmethod\u001b[0m\u001b[1;33m=\u001b[0m \u001b[1;34m'ffill'\u001b[0m\u001b[1;33m)\u001b[0m\u001b[1;33m\u001b[0m\u001b[1;33m\u001b[0m\u001b[0m\n\u001b[0m",
      "\u001b[1;32m~\\anaconda3\\lib\\site-packages\\pandas\\util\\_decorators.py\u001b[0m in \u001b[0;36mwrapper\u001b[1;34m(*args, **kwargs)\u001b[0m\n\u001b[0;32m    309\u001b[0m                     \u001b[0mstacklevel\u001b[0m\u001b[1;33m=\u001b[0m\u001b[0mstacklevel\u001b[0m\u001b[1;33m,\u001b[0m\u001b[1;33m\u001b[0m\u001b[1;33m\u001b[0m\u001b[0m\n\u001b[0;32m    310\u001b[0m                 )\n\u001b[1;32m--> 311\u001b[1;33m             \u001b[1;32mreturn\u001b[0m \u001b[0mfunc\u001b[0m\u001b[1;33m(\u001b[0m\u001b[1;33m*\u001b[0m\u001b[0margs\u001b[0m\u001b[1;33m,\u001b[0m \u001b[1;33m**\u001b[0m\u001b[0mkwargs\u001b[0m\u001b[1;33m)\u001b[0m\u001b[1;33m\u001b[0m\u001b[1;33m\u001b[0m\u001b[0m\n\u001b[0m\u001b[0;32m    312\u001b[0m \u001b[1;33m\u001b[0m\u001b[0m\n\u001b[0;32m    313\u001b[0m         \u001b[1;32mreturn\u001b[0m \u001b[0mwrapper\u001b[0m\u001b[1;33m\u001b[0m\u001b[1;33m\u001b[0m\u001b[0m\n",
      "\u001b[1;32m~\\anaconda3\\lib\\site-packages\\pandas\\io\\excel\\_base.py\u001b[0m in \u001b[0;36mread_excel\u001b[1;34m(io, sheet_name, header, names, index_col, usecols, squeeze, dtype, engine, converters, true_values, false_values, skiprows, nrows, na_values, keep_default_na, na_filter, verbose, parse_dates, date_parser, thousands, decimal, comment, skipfooter, convert_float, mangle_dupe_cols, storage_options)\u001b[0m\n\u001b[0;32m    455\u001b[0m     \u001b[1;32mif\u001b[0m \u001b[1;32mnot\u001b[0m \u001b[0misinstance\u001b[0m\u001b[1;33m(\u001b[0m\u001b[0mio\u001b[0m\u001b[1;33m,\u001b[0m \u001b[0mExcelFile\u001b[0m\u001b[1;33m)\u001b[0m\u001b[1;33m:\u001b[0m\u001b[1;33m\u001b[0m\u001b[1;33m\u001b[0m\u001b[0m\n\u001b[0;32m    456\u001b[0m         \u001b[0mshould_close\u001b[0m \u001b[1;33m=\u001b[0m \u001b[1;32mTrue\u001b[0m\u001b[1;33m\u001b[0m\u001b[1;33m\u001b[0m\u001b[0m\n\u001b[1;32m--> 457\u001b[1;33m         \u001b[0mio\u001b[0m \u001b[1;33m=\u001b[0m \u001b[0mExcelFile\u001b[0m\u001b[1;33m(\u001b[0m\u001b[0mio\u001b[0m\u001b[1;33m,\u001b[0m \u001b[0mstorage_options\u001b[0m\u001b[1;33m=\u001b[0m\u001b[0mstorage_options\u001b[0m\u001b[1;33m,\u001b[0m \u001b[0mengine\u001b[0m\u001b[1;33m=\u001b[0m\u001b[0mengine\u001b[0m\u001b[1;33m)\u001b[0m\u001b[1;33m\u001b[0m\u001b[1;33m\u001b[0m\u001b[0m\n\u001b[0m\u001b[0;32m    458\u001b[0m     \u001b[1;32melif\u001b[0m \u001b[0mengine\u001b[0m \u001b[1;32mand\u001b[0m \u001b[0mengine\u001b[0m \u001b[1;33m!=\u001b[0m \u001b[0mio\u001b[0m\u001b[1;33m.\u001b[0m\u001b[0mengine\u001b[0m\u001b[1;33m:\u001b[0m\u001b[1;33m\u001b[0m\u001b[1;33m\u001b[0m\u001b[0m\n\u001b[0;32m    459\u001b[0m         raise ValueError(\n",
      "\u001b[1;32m~\\anaconda3\\lib\\site-packages\\pandas\\io\\excel\\_base.py\u001b[0m in \u001b[0;36m__init__\u001b[1;34m(self, path_or_buffer, engine, storage_options)\u001b[0m\n\u001b[0;32m   1374\u001b[0m                 \u001b[0mext\u001b[0m \u001b[1;33m=\u001b[0m \u001b[1;34m\"xls\"\u001b[0m\u001b[1;33m\u001b[0m\u001b[1;33m\u001b[0m\u001b[0m\n\u001b[0;32m   1375\u001b[0m             \u001b[1;32melse\u001b[0m\u001b[1;33m:\u001b[0m\u001b[1;33m\u001b[0m\u001b[1;33m\u001b[0m\u001b[0m\n\u001b[1;32m-> 1376\u001b[1;33m                 ext = inspect_excel_format(\n\u001b[0m\u001b[0;32m   1377\u001b[0m                     \u001b[0mcontent_or_path\u001b[0m\u001b[1;33m=\u001b[0m\u001b[0mpath_or_buffer\u001b[0m\u001b[1;33m,\u001b[0m \u001b[0mstorage_options\u001b[0m\u001b[1;33m=\u001b[0m\u001b[0mstorage_options\u001b[0m\u001b[1;33m\u001b[0m\u001b[1;33m\u001b[0m\u001b[0m\n\u001b[0;32m   1378\u001b[0m                 )\n",
      "\u001b[1;32m~\\anaconda3\\lib\\site-packages\\pandas\\io\\excel\\_base.py\u001b[0m in \u001b[0;36minspect_excel_format\u001b[1;34m(content_or_path, storage_options)\u001b[0m\n\u001b[0;32m   1248\u001b[0m         \u001b[0mcontent_or_path\u001b[0m \u001b[1;33m=\u001b[0m \u001b[0mBytesIO\u001b[0m\u001b[1;33m(\u001b[0m\u001b[0mcontent_or_path\u001b[0m\u001b[1;33m)\u001b[0m\u001b[1;33m\u001b[0m\u001b[1;33m\u001b[0m\u001b[0m\n\u001b[0;32m   1249\u001b[0m \u001b[1;33m\u001b[0m\u001b[0m\n\u001b[1;32m-> 1250\u001b[1;33m     with get_handle(\n\u001b[0m\u001b[0;32m   1251\u001b[0m         \u001b[0mcontent_or_path\u001b[0m\u001b[1;33m,\u001b[0m \u001b[1;34m\"rb\"\u001b[0m\u001b[1;33m,\u001b[0m \u001b[0mstorage_options\u001b[0m\u001b[1;33m=\u001b[0m\u001b[0mstorage_options\u001b[0m\u001b[1;33m,\u001b[0m \u001b[0mis_text\u001b[0m\u001b[1;33m=\u001b[0m\u001b[1;32mFalse\u001b[0m\u001b[1;33m\u001b[0m\u001b[1;33m\u001b[0m\u001b[0m\n\u001b[0;32m   1252\u001b[0m     ) as handle:\n",
      "\u001b[1;32m~\\anaconda3\\lib\\site-packages\\pandas\\io\\common.py\u001b[0m in \u001b[0;36mget_handle\u001b[1;34m(path_or_buf, mode, encoding, compression, memory_map, is_text, errors, storage_options)\u001b[0m\n\u001b[0;32m    793\u001b[0m         \u001b[1;32melse\u001b[0m\u001b[1;33m:\u001b[0m\u001b[1;33m\u001b[0m\u001b[1;33m\u001b[0m\u001b[0m\n\u001b[0;32m    794\u001b[0m             \u001b[1;31m# Binary mode\u001b[0m\u001b[1;33m\u001b[0m\u001b[1;33m\u001b[0m\u001b[0m\n\u001b[1;32m--> 795\u001b[1;33m             \u001b[0mhandle\u001b[0m \u001b[1;33m=\u001b[0m \u001b[0mopen\u001b[0m\u001b[1;33m(\u001b[0m\u001b[0mhandle\u001b[0m\u001b[1;33m,\u001b[0m \u001b[0mioargs\u001b[0m\u001b[1;33m.\u001b[0m\u001b[0mmode\u001b[0m\u001b[1;33m)\u001b[0m\u001b[1;33m\u001b[0m\u001b[1;33m\u001b[0m\u001b[0m\n\u001b[0m\u001b[0;32m    796\u001b[0m         \u001b[0mhandles\u001b[0m\u001b[1;33m.\u001b[0m\u001b[0mappend\u001b[0m\u001b[1;33m(\u001b[0m\u001b[0mhandle\u001b[0m\u001b[1;33m)\u001b[0m\u001b[1;33m\u001b[0m\u001b[1;33m\u001b[0m\u001b[0m\n\u001b[0;32m    797\u001b[0m \u001b[1;33m\u001b[0m\u001b[0m\n",
      "\u001b[1;31mFileNotFoundError\u001b[0m: [Errno 2] No such file or directory: 'C:/Users/MSI/Desktop/study/Data/기업정보/한국표준산업분류표.xlsx'"
     ]
    }
   ],
   "source": [
    "df_industry = pd.read_excel(path+'한국표준산업분류표.xlsx',index_col=1).reset_index().fillna(method= 'ffill')"
   ]
  },
  {
   "cell_type": "code",
   "execution_count": 8,
   "id": "b7b2b5fe-a200-4ffb-878f-bf69624363fb",
   "metadata": {},
   "outputs": [
    {
     "name": "stdout",
     "output_type": "stream",
     "text": [
      "<class 'pandas.core.frame.DataFrame'>\n",
      "RangeIndex: 1197 entries, 0 to 1196\n",
      "Data columns (total 10 columns):\n",
      " #   Column  Non-Null Count  Dtype  \n",
      "---  ------  --------------  -----  \n",
      " 0   항목명     1197 non-null   object \n",
      " 1   대분류코드   1197 non-null   object \n",
      " 2   중분류코드   1197 non-null   float64\n",
      " 3   항목명.1   1197 non-null   object \n",
      " 4   소분류코드   1197 non-null   float64\n",
      " 5   항목명.2   1197 non-null   object \n",
      " 6   세분류코드   1197 non-null   float64\n",
      " 7   항목명.3   1197 non-null   object \n",
      " 8   세세분류코드  1197 non-null   float64\n",
      " 9   항목명.4   1197 non-null   object \n",
      "dtypes: float64(4), object(6)\n",
      "memory usage: 93.6+ KB\n"
     ]
    }
   ],
   "source": [
    "df_industry.info()"
   ]
  },
  {
   "cell_type": "code",
   "execution_count": 11,
   "id": "8b75d289-fa07-4c30-b751-87d5ba7f67ef",
   "metadata": {},
   "outputs": [],
   "source": [
    "def namee(row) :\n",
    "    return row.split('(')[0]\n",
    "\n",
    "df_industry['항목명'] = df_industry['항목명'].apply(namee)"
   ]
  },
  {
   "cell_type": "code",
   "execution_count": 12,
   "id": "89c73a2c-ab90-4552-89bd-fd3a9530933e",
   "metadata": {},
   "outputs": [
    {
     "data": {
      "text/html": [
       "<div>\n",
       "<style scoped>\n",
       "    .dataframe tbody tr th:only-of-type {\n",
       "        vertical-align: middle;\n",
       "    }\n",
       "\n",
       "    .dataframe tbody tr th {\n",
       "        vertical-align: top;\n",
       "    }\n",
       "\n",
       "    .dataframe thead th {\n",
       "        text-align: right;\n",
       "    }\n",
       "</style>\n",
       "<table border=\"1\" class=\"dataframe\">\n",
       "  <thead>\n",
       "    <tr style=\"text-align: right;\">\n",
       "      <th></th>\n",
       "      <th>항목명</th>\n",
       "      <th>대분류코드</th>\n",
       "      <th>중분류코드</th>\n",
       "      <th>항목명.1</th>\n",
       "      <th>소분류코드</th>\n",
       "      <th>항목명.2</th>\n",
       "      <th>세분류코드</th>\n",
       "      <th>항목명.3</th>\n",
       "      <th>세세분류코드</th>\n",
       "      <th>항목명.4</th>\n",
       "    </tr>\n",
       "  </thead>\n",
       "  <tbody>\n",
       "    <tr>\n",
       "      <th>0</th>\n",
       "      <td>농업, 임업 및 어업</td>\n",
       "      <td>A</td>\n",
       "      <td>1.0</td>\n",
       "      <td>농업</td>\n",
       "      <td>11.0</td>\n",
       "      <td>작물 재배업</td>\n",
       "      <td>111.0</td>\n",
       "      <td>곡물 및 기타 식량작물 재배업</td>\n",
       "      <td>1110.0</td>\n",
       "      <td>곡물 및 기타 식량작물 재배업</td>\n",
       "    </tr>\n",
       "    <tr>\n",
       "      <th>1</th>\n",
       "      <td>농업, 임업 및 어업</td>\n",
       "      <td>A</td>\n",
       "      <td>1.0</td>\n",
       "      <td>농업</td>\n",
       "      <td>11.0</td>\n",
       "      <td>작물 재배업</td>\n",
       "      <td>112.0</td>\n",
       "      <td>채소, 화훼작물 및 종묘 재배업</td>\n",
       "      <td>1121.0</td>\n",
       "      <td>채소작물 재배업</td>\n",
       "    </tr>\n",
       "    <tr>\n",
       "      <th>2</th>\n",
       "      <td>농업, 임업 및 어업</td>\n",
       "      <td>A</td>\n",
       "      <td>1.0</td>\n",
       "      <td>농업</td>\n",
       "      <td>11.0</td>\n",
       "      <td>작물 재배업</td>\n",
       "      <td>112.0</td>\n",
       "      <td>채소, 화훼작물 및 종묘 재배업</td>\n",
       "      <td>1122.0</td>\n",
       "      <td>화훼작물 재배업</td>\n",
       "    </tr>\n",
       "    <tr>\n",
       "      <th>3</th>\n",
       "      <td>농업, 임업 및 어업</td>\n",
       "      <td>A</td>\n",
       "      <td>1.0</td>\n",
       "      <td>농업</td>\n",
       "      <td>11.0</td>\n",
       "      <td>작물 재배업</td>\n",
       "      <td>112.0</td>\n",
       "      <td>채소, 화훼작물 및 종묘 재배업</td>\n",
       "      <td>1123.0</td>\n",
       "      <td>종자 및 묘목 생산업</td>\n",
       "    </tr>\n",
       "    <tr>\n",
       "      <th>4</th>\n",
       "      <td>농업, 임업 및 어업</td>\n",
       "      <td>A</td>\n",
       "      <td>1.0</td>\n",
       "      <td>농업</td>\n",
       "      <td>11.0</td>\n",
       "      <td>작물 재배업</td>\n",
       "      <td>113.0</td>\n",
       "      <td>과실, 음료용 및 향신용 작물 재배업</td>\n",
       "      <td>1131.0</td>\n",
       "      <td>과실작물 재배업</td>\n",
       "    </tr>\n",
       "    <tr>\n",
       "      <th>...</th>\n",
       "      <td>...</td>\n",
       "      <td>...</td>\n",
       "      <td>...</td>\n",
       "      <td>...</td>\n",
       "      <td>...</td>\n",
       "      <td>...</td>\n",
       "      <td>...</td>\n",
       "      <td>...</td>\n",
       "      <td>...</td>\n",
       "      <td>...</td>\n",
       "    </tr>\n",
       "    <tr>\n",
       "      <th>1192</th>\n",
       "      <td>가구 내 고용활동 및 달리 분류되지 않은 자가 소비 생산활동</td>\n",
       "      <td>T</td>\n",
       "      <td>97.0</td>\n",
       "      <td>가구 내 고용활동</td>\n",
       "      <td>970.0</td>\n",
       "      <td>가구 내 고용활동</td>\n",
       "      <td>9700.0</td>\n",
       "      <td>가구 내 고용활동</td>\n",
       "      <td>97000.0</td>\n",
       "      <td>가구 내 고용활동</td>\n",
       "    </tr>\n",
       "    <tr>\n",
       "      <th>1193</th>\n",
       "      <td>가구 내 고용활동 및 달리 분류되지 않은 자가 소비 생산활동</td>\n",
       "      <td>T</td>\n",
       "      <td>98.0</td>\n",
       "      <td>달리 분류되지 않은 자가 소비를 위한 가구의 재화 및 서비스 생산활동</td>\n",
       "      <td>981.0</td>\n",
       "      <td>자가 소비를 위한 가사 생산 활동</td>\n",
       "      <td>9810.0</td>\n",
       "      <td>자가 소비를 위한 가사 생산 활동</td>\n",
       "      <td>98100.0</td>\n",
       "      <td>자가 소비를 위한 가사 생산 활동</td>\n",
       "    </tr>\n",
       "    <tr>\n",
       "      <th>1194</th>\n",
       "      <td>가구 내 고용활동 및 달리 분류되지 않은 자가 소비 생산활동</td>\n",
       "      <td>T</td>\n",
       "      <td>98.0</td>\n",
       "      <td>달리 분류되지 않은 자가 소비를 위한 가구의 재화 및 서비스 생산활동</td>\n",
       "      <td>982.0</td>\n",
       "      <td>자가 소비를 위한 가사 서비스 활동</td>\n",
       "      <td>9820.0</td>\n",
       "      <td>자가 소비를 위한 가사 서비스 활동</td>\n",
       "      <td>98200.0</td>\n",
       "      <td>자가 소비를 위한 가사 서비스 활동</td>\n",
       "    </tr>\n",
       "    <tr>\n",
       "      <th>1195</th>\n",
       "      <td>국제 및 외국기관</td>\n",
       "      <td>U</td>\n",
       "      <td>99.0</td>\n",
       "      <td>국제 및 외국기관</td>\n",
       "      <td>990.0</td>\n",
       "      <td>국제 및 외국기관</td>\n",
       "      <td>9900.0</td>\n",
       "      <td>국제 및 외국기관</td>\n",
       "      <td>99001.0</td>\n",
       "      <td>주한 외국 공관</td>\n",
       "    </tr>\n",
       "    <tr>\n",
       "      <th>1196</th>\n",
       "      <td>국제 및 외국기관</td>\n",
       "      <td>U</td>\n",
       "      <td>99.0</td>\n",
       "      <td>국제 및 외국기관</td>\n",
       "      <td>990.0</td>\n",
       "      <td>국제 및 외국기관</td>\n",
       "      <td>9900.0</td>\n",
       "      <td>국제 및 외국기관</td>\n",
       "      <td>99009.0</td>\n",
       "      <td>기타 국제 및 외국기관</td>\n",
       "    </tr>\n",
       "  </tbody>\n",
       "</table>\n",
       "<p>1197 rows × 10 columns</p>\n",
       "</div>"
      ],
      "text/plain": [
       "                                    항목명 대분류코드  중분류코드  \\\n",
       "0                           농업, 임업 및 어업     A    1.0   \n",
       "1                           농업, 임업 및 어업     A    1.0   \n",
       "2                           농업, 임업 및 어업     A    1.0   \n",
       "3                           농업, 임업 및 어업     A    1.0   \n",
       "4                           농업, 임업 및 어업     A    1.0   \n",
       "...                                 ...   ...    ...   \n",
       "1192  가구 내 고용활동 및 달리 분류되지 않은 자가 소비 생산활동     T   97.0   \n",
       "1193  가구 내 고용활동 및 달리 분류되지 않은 자가 소비 생산활동     T   98.0   \n",
       "1194  가구 내 고용활동 및 달리 분류되지 않은 자가 소비 생산활동     T   98.0   \n",
       "1195                          국제 및 외국기관     U   99.0   \n",
       "1196                          국제 및 외국기관     U   99.0   \n",
       "\n",
       "                                       항목명.1  소분류코드                항목명.2  \\\n",
       "0                                         농업   11.0               작물 재배업   \n",
       "1                                         농업   11.0               작물 재배업   \n",
       "2                                         농업   11.0               작물 재배업   \n",
       "3                                         농업   11.0               작물 재배업   \n",
       "4                                         농업   11.0               작물 재배업   \n",
       "...                                      ...    ...                  ...   \n",
       "1192                               가구 내 고용활동  970.0            가구 내 고용활동   \n",
       "1193  달리 분류되지 않은 자가 소비를 위한 가구의 재화 및 서비스 생산활동  981.0   자가 소비를 위한 가사 생산 활동   \n",
       "1194  달리 분류되지 않은 자가 소비를 위한 가구의 재화 및 서비스 생산활동  982.0  자가 소비를 위한 가사 서비스 활동   \n",
       "1195                               국제 및 외국기관  990.0            국제 및 외국기관   \n",
       "1196                               국제 및 외국기관  990.0            국제 및 외국기관   \n",
       "\n",
       "       세분류코드                 항목명.3   세세분류코드                항목명.4  \n",
       "0      111.0      곡물 및 기타 식량작물 재배업   1110.0     곡물 및 기타 식량작물 재배업  \n",
       "1      112.0     채소, 화훼작물 및 종묘 재배업   1121.0             채소작물 재배업  \n",
       "2      112.0     채소, 화훼작물 및 종묘 재배업   1122.0             화훼작물 재배업  \n",
       "3      112.0     채소, 화훼작물 및 종묘 재배업   1123.0          종자 및 묘목 생산업  \n",
       "4      113.0  과실, 음료용 및 향신용 작물 재배업   1131.0             과실작물 재배업  \n",
       "...      ...                   ...      ...                  ...  \n",
       "1192  9700.0             가구 내 고용활동  97000.0            가구 내 고용활동  \n",
       "1193  9810.0    자가 소비를 위한 가사 생산 활동  98100.0   자가 소비를 위한 가사 생산 활동  \n",
       "1194  9820.0   자가 소비를 위한 가사 서비스 활동  98200.0  자가 소비를 위한 가사 서비스 활동  \n",
       "1195  9900.0             국제 및 외국기관  99001.0             주한 외국 공관  \n",
       "1196  9900.0             국제 및 외국기관  99009.0         기타 국제 및 외국기관  \n",
       "\n",
       "[1197 rows x 10 columns]"
      ]
     },
     "execution_count": 12,
     "metadata": {},
     "output_type": "execute_result"
    }
   ],
   "source": [
    "df_industry"
   ]
  },
  {
   "cell_type": "code",
   "execution_count": 15,
   "id": "76f41ad1-25b5-49af-9e12-267bf72d889d",
   "metadata": {},
   "outputs": [
    {
     "data": {
      "text/html": [
       "<div>\n",
       "<style scoped>\n",
       "    .dataframe tbody tr th:only-of-type {\n",
       "        vertical-align: middle;\n",
       "    }\n",
       "\n",
       "    .dataframe tbody tr th {\n",
       "        vertical-align: top;\n",
       "    }\n",
       "\n",
       "    .dataframe thead th {\n",
       "        text-align: right;\n",
       "    }\n",
       "</style>\n",
       "<table border=\"1\" class=\"dataframe\">\n",
       "  <thead>\n",
       "    <tr style=\"text-align: right;\">\n",
       "      <th></th>\n",
       "      <th>대분류</th>\n",
       "      <th>중분류</th>\n",
       "      <th>소분류</th>\n",
       "      <th>세분류</th>\n",
       "      <th>indCd1_str</th>\n",
       "    </tr>\n",
       "  </thead>\n",
       "  <tbody>\n",
       "    <tr>\n",
       "      <th>0</th>\n",
       "      <td>농업, 임업 및 어업</td>\n",
       "      <td>농업</td>\n",
       "      <td>작물 재배업</td>\n",
       "      <td>곡물 및 기타 식량작물 재배업</td>\n",
       "      <td>1110</td>\n",
       "    </tr>\n",
       "    <tr>\n",
       "      <th>1</th>\n",
       "      <td>농업, 임업 및 어업</td>\n",
       "      <td>농업</td>\n",
       "      <td>작물 재배업</td>\n",
       "      <td>채소, 화훼작물 및 종묘 재배업</td>\n",
       "      <td>1121</td>\n",
       "    </tr>\n",
       "    <tr>\n",
       "      <th>2</th>\n",
       "      <td>농업, 임업 및 어업</td>\n",
       "      <td>농업</td>\n",
       "      <td>작물 재배업</td>\n",
       "      <td>채소, 화훼작물 및 종묘 재배업</td>\n",
       "      <td>1122</td>\n",
       "    </tr>\n",
       "    <tr>\n",
       "      <th>3</th>\n",
       "      <td>농업, 임업 및 어업</td>\n",
       "      <td>농업</td>\n",
       "      <td>작물 재배업</td>\n",
       "      <td>채소, 화훼작물 및 종묘 재배업</td>\n",
       "      <td>1123</td>\n",
       "    </tr>\n",
       "    <tr>\n",
       "      <th>4</th>\n",
       "      <td>농업, 임업 및 어업</td>\n",
       "      <td>농업</td>\n",
       "      <td>작물 재배업</td>\n",
       "      <td>과실, 음료용 및 향신용 작물 재배업</td>\n",
       "      <td>1131</td>\n",
       "    </tr>\n",
       "    <tr>\n",
       "      <th>...</th>\n",
       "      <td>...</td>\n",
       "      <td>...</td>\n",
       "      <td>...</td>\n",
       "      <td>...</td>\n",
       "      <td>...</td>\n",
       "    </tr>\n",
       "    <tr>\n",
       "      <th>1192</th>\n",
       "      <td>가구 내 고용활동 및 달리 분류되지 않은 자가 소비 생산활동</td>\n",
       "      <td>가구 내 고용활동</td>\n",
       "      <td>가구 내 고용활동</td>\n",
       "      <td>가구 내 고용활동</td>\n",
       "      <td>97000</td>\n",
       "    </tr>\n",
       "    <tr>\n",
       "      <th>1193</th>\n",
       "      <td>가구 내 고용활동 및 달리 분류되지 않은 자가 소비 생산활동</td>\n",
       "      <td>달리 분류되지 않은 자가 소비를 위한 가구의 재화 및 서비스 생산활동</td>\n",
       "      <td>자가 소비를 위한 가사 생산 활동</td>\n",
       "      <td>자가 소비를 위한 가사 생산 활동</td>\n",
       "      <td>98100</td>\n",
       "    </tr>\n",
       "    <tr>\n",
       "      <th>1194</th>\n",
       "      <td>가구 내 고용활동 및 달리 분류되지 않은 자가 소비 생산활동</td>\n",
       "      <td>달리 분류되지 않은 자가 소비를 위한 가구의 재화 및 서비스 생산활동</td>\n",
       "      <td>자가 소비를 위한 가사 서비스 활동</td>\n",
       "      <td>자가 소비를 위한 가사 서비스 활동</td>\n",
       "      <td>98200</td>\n",
       "    </tr>\n",
       "    <tr>\n",
       "      <th>1195</th>\n",
       "      <td>국제 및 외국기관</td>\n",
       "      <td>국제 및 외국기관</td>\n",
       "      <td>국제 및 외국기관</td>\n",
       "      <td>국제 및 외국기관</td>\n",
       "      <td>99001</td>\n",
       "    </tr>\n",
       "    <tr>\n",
       "      <th>1196</th>\n",
       "      <td>국제 및 외국기관</td>\n",
       "      <td>국제 및 외국기관</td>\n",
       "      <td>국제 및 외국기관</td>\n",
       "      <td>국제 및 외국기관</td>\n",
       "      <td>99009</td>\n",
       "    </tr>\n",
       "  </tbody>\n",
       "</table>\n",
       "<p>1197 rows × 5 columns</p>\n",
       "</div>"
      ],
      "text/plain": [
       "                                    대분류  \\\n",
       "0                           농업, 임업 및 어업   \n",
       "1                           농업, 임업 및 어업   \n",
       "2                           농업, 임업 및 어업   \n",
       "3                           농업, 임업 및 어업   \n",
       "4                           농업, 임업 및 어업   \n",
       "...                                 ...   \n",
       "1192  가구 내 고용활동 및 달리 분류되지 않은 자가 소비 생산활동   \n",
       "1193  가구 내 고용활동 및 달리 분류되지 않은 자가 소비 생산활동   \n",
       "1194  가구 내 고용활동 및 달리 분류되지 않은 자가 소비 생산활동   \n",
       "1195                          국제 및 외국기관   \n",
       "1196                          국제 및 외국기관   \n",
       "\n",
       "                                         중분류                  소분류  \\\n",
       "0                                         농업               작물 재배업   \n",
       "1                                         농업               작물 재배업   \n",
       "2                                         농업               작물 재배업   \n",
       "3                                         농업               작물 재배업   \n",
       "4                                         농업               작물 재배업   \n",
       "...                                      ...                  ...   \n",
       "1192                               가구 내 고용활동            가구 내 고용활동   \n",
       "1193  달리 분류되지 않은 자가 소비를 위한 가구의 재화 및 서비스 생산활동   자가 소비를 위한 가사 생산 활동   \n",
       "1194  달리 분류되지 않은 자가 소비를 위한 가구의 재화 및 서비스 생산활동  자가 소비를 위한 가사 서비스 활동   \n",
       "1195                               국제 및 외국기관            국제 및 외국기관   \n",
       "1196                               국제 및 외국기관            국제 및 외국기관   \n",
       "\n",
       "                       세분류 indCd1_str  \n",
       "0         곡물 및 기타 식량작물 재배업       1110  \n",
       "1        채소, 화훼작물 및 종묘 재배업       1121  \n",
       "2        채소, 화훼작물 및 종묘 재배업       1122  \n",
       "3        채소, 화훼작물 및 종묘 재배업       1123  \n",
       "4     과실, 음료용 및 향신용 작물 재배업       1131  \n",
       "...                    ...        ...  \n",
       "1192             가구 내 고용활동      97000  \n",
       "1193    자가 소비를 위한 가사 생산 활동      98100  \n",
       "1194   자가 소비를 위한 가사 서비스 활동      98200  \n",
       "1195             국제 및 외국기관      99001  \n",
       "1196             국제 및 외국기관      99009  \n",
       "\n",
       "[1197 rows x 5 columns]"
      ]
     },
     "execution_count": 15,
     "metadata": {},
     "output_type": "execute_result"
    }
   ],
   "source": [
    "df_industry_small = df_industry[['항목명','항목명.1','항목명.2','항목명.3','세세분류코드']].rename(columns={'항목명' : '대분류', \n",
    "                                                                                           '항목명.1' : '중분류', '항목명.2' : '소분류', \n",
    "                                                                                           '항목명.3' : '세분류','세세분류코드':'indCd1_str'})\n",
    "df_industry_small['indCd1_str'] = df_industry_small['indCd1_str'].apply(dot_split)\n",
    "df_industry_small"
   ]
  },
  {
   "cell_type": "code",
   "execution_count": 14,
   "id": "0aaf381f-348a-4477-bcff-9d94b8418b53",
   "metadata": {},
   "outputs": [
    {
     "name": "stdout",
     "output_type": "stream",
     "text": [
      "<class 'pandas.core.frame.DataFrame'>\n",
      "RangeIndex: 5909 entries, 0 to 5908\n",
      "Data columns (total 20 columns):\n",
      " #   Column       Non-Null Count  Dtype  \n",
      "---  ------       --------------  -----  \n",
      " 0   Unnamed: 0   5909 non-null   int64  \n",
      " 1   BusinessNum  5909 non-null   int64  \n",
      " 2   cmpNm        5909 non-null   int64  \n",
      " 3   기업명          5909 non-null   object \n",
      " 4   ceoNm        5909 non-null   object \n",
      " 5   telNo        5611 non-null   object \n",
      " 6   faxTelNo     4141 non-null   object \n",
      " 7   zip          4685 non-null   float64\n",
      " 8   adr          5878 non-null   object \n",
      " 9   dtlAdr       4771 non-null   object \n",
      " 10  cmpTypNm     5909 non-null   object \n",
      " 11  cmpSclNm     5909 non-null   object \n",
      " 12  pbcoGbNm     4808 non-null   object \n",
      " 13  indCd1       5909 non-null   float64\n",
      " 14  indNm        5908 non-null   object \n",
      " 15  indCd1_str   5909 non-null   object \n",
      " 16  대분류          5909 non-null   object \n",
      " 17  중분류          5909 non-null   object \n",
      " 18  소분류          5909 non-null   object \n",
      " 19  세분류          5909 non-null   object \n",
      "dtypes: float64(2), int64(3), object(15)\n",
      "memory usage: 923.4+ KB\n"
     ]
    }
   ],
   "source": [
    "comp_intro_m1 = pd.merge(comp_intro,df_industry_small,on='indCd1_str')\n",
    "comp_intro_m1.info()"
   ]
  },
  {
   "cell_type": "code",
   "execution_count": 35,
   "id": "61c970b1-6257-4e39-93ab-eeccbbfff4ca",
   "metadata": {},
   "outputs": [
    {
     "data": {
      "text/plain": [
       "469"
      ]
     },
     "execution_count": 35,
     "metadata": {},
     "output_type": "execute_result"
    }
   ],
   "source": [
    "len(comp_intro_m1['indCd1_str'].unique())"
   ]
  },
  {
   "cell_type": "code",
   "execution_count": 15,
   "id": "2046ce1c-9960-417a-85ed-573cfa9310dc",
   "metadata": {},
   "outputs": [
    {
     "data": {
      "text/plain": [
       "대분류\n",
       "정보통신업(58~63)                       2114\n",
       "건설업(41~42)                         2061\n",
       "도매 및 소매업(45~47)                     652\n",
       "제조업(10~34)                          504\n",
       "전문, 과학 및 기술 서비스업(70~73)             221\n",
       "사업시설 관리, 사업 지원 및 임대 서비스업(74~76)      97\n",
       "협회 및 단체, 수리 및 기타 개인 서비스업(94~96)      55\n",
       "부동산업(68)                             47\n",
       "운수 및 창고업(49~52)                      43\n",
       "금융 및 보험업(64~66)                      34\n",
       "숙박 및 음식점업(55~56)                     26\n",
       "교육 서비스업(85)                          25\n",
       "예술, 스포츠 및 여가관련 서비스업(90~91)           12\n",
       "수도, 하수 및 폐기물 처리, 원료 재생업(36~39)        6\n",
       "보건업 및 사회복지 서비스업(86~87)                5\n",
       "전기, 가스, 증기 및 공기 조절 공급업(35)            4\n",
       "공공 행정, 국방 및 사회보장 행정(84)               1\n",
       "농업, 임업 및 어업(01~03)                    1\n",
       "광업(05~08)                             1\n",
       "Name: count, dtype: int64"
      ]
     },
     "execution_count": 15,
     "metadata": {},
     "output_type": "execute_result"
    }
   ],
   "source": [
    "comp_intro_m1['대분류'].value_counts()"
   ]
  },
  {
   "cell_type": "code",
   "execution_count": 16,
   "id": "eacbbd43-8caa-43f4-a93c-5c490c0a663a",
   "metadata": {},
   "outputs": [
    {
     "data": {
      "text/plain": [
       "중분류\n",
       "전문직별 공사업                   1586\n",
       "컴퓨터 프로그래밍, 시스템 통합 및 관리업    1098\n",
       "출판업                         708\n",
       "종합 건설업                      475\n",
       "도매 및 상품 중개업                 456\n",
       "                           ... \n",
       "공공 행정, 국방 및 사회보장 행정           1\n",
       "농업                            1\n",
       "항공 운송업                        1\n",
       "비금속광물 광업; 연료용 제외              1\n",
       "환경 정화 및 복원업                   1\n",
       "Name: count, Length: 64, dtype: int64"
      ]
     },
     "execution_count": 16,
     "metadata": {},
     "output_type": "execute_result"
    }
   ],
   "source": [
    "comp_intro_m1['중분류'].value_counts()"
   ]
  },
  {
   "cell_type": "code",
   "execution_count": 17,
   "id": "5fd8185a-70fa-45d1-9d8e-dc0121f0a062",
   "metadata": {},
   "outputs": [
    {
     "data": {
      "text/plain": [
       "Unnamed: 0        0\n",
       "BusinessNum       0\n",
       "cmpNm             0\n",
       "기업명               0\n",
       "ceoNm             0\n",
       "telNo           298\n",
       "faxTelNo       1768\n",
       "zip            1224\n",
       "adr              31\n",
       "dtlAdr         1138\n",
       "cmpTypNm          0\n",
       "cmpSclNm          0\n",
       "pbcoGbNm       1101\n",
       "indCd1            0\n",
       "indNm             1\n",
       "indCd1_str        0\n",
       "대분류               0\n",
       "중분류               0\n",
       "소분류               0\n",
       "세분류               0\n",
       "dtype: int64"
      ]
     },
     "execution_count": 17,
     "metadata": {},
     "output_type": "execute_result"
    }
   ],
   "source": [
    "comp_intro_m1.isnull().sum()"
   ]
  },
  {
   "cell_type": "code",
   "execution_count": 145,
   "id": "fc4ded8f-441c-48af-b05c-bc93b441150d",
   "metadata": {},
   "outputs": [
    {
     "data": {
      "text/html": [
       "<div>\n",
       "<style scoped>\n",
       "    .dataframe tbody tr th:only-of-type {\n",
       "        vertical-align: middle;\n",
       "    }\n",
       "\n",
       "    .dataframe tbody tr th {\n",
       "        vertical-align: top;\n",
       "    }\n",
       "\n",
       "    .dataframe thead th {\n",
       "        text-align: right;\n",
       "    }\n",
       "</style>\n",
       "<table border=\"1\" class=\"dataframe\">\n",
       "  <thead>\n",
       "    <tr style=\"text-align: right;\">\n",
       "      <th></th>\n",
       "      <th>Unnamed: 0</th>\n",
       "      <th>BusinessNum</th>\n",
       "      <th>cmpNm</th>\n",
       "      <th>기업명</th>\n",
       "      <th>ceoNm</th>\n",
       "      <th>telNo</th>\n",
       "      <th>faxTelNo</th>\n",
       "      <th>zip</th>\n",
       "      <th>adr</th>\n",
       "      <th>dtlAdr</th>\n",
       "      <th>cmpTypNm</th>\n",
       "      <th>cmpSclNm</th>\n",
       "      <th>pbcoGbNm</th>\n",
       "      <th>indCd1</th>\n",
       "      <th>indNm</th>\n",
       "      <th>indCd1_str</th>\n",
       "      <th>대분류</th>\n",
       "      <th>중분류</th>\n",
       "      <th>소분류</th>\n",
       "      <th>세분류</th>\n",
       "    </tr>\n",
       "  </thead>\n",
       "  <tbody>\n",
       "    <tr>\n",
       "      <th>1050</th>\n",
       "      <td>275</td>\n",
       "      <td>1088209536</td>\n",
       "      <td>20221022</td>\n",
       "      <td>현대산업정보***</td>\n",
       "      <td>최**</td>\n",
       "      <td>02-3143-0041</td>\n",
       "      <td>NaN</td>\n",
       "      <td>NaN</td>\n",
       "      <td>서울 마포구 월드컵로28길 20 (성산동)</td>\n",
       "      <td>NaN</td>\n",
       "      <td>일반</td>\n",
       "      <td>기타(비영리법인)</td>\n",
       "      <td>NaN</td>\n",
       "      <td>71531.0</td>\n",
       "      <td>경영컨설팅업</td>\n",
       "      <td>71531</td>\n",
       "      <td>전문, 과학 및 기술 서비스업</td>\n",
       "      <td>전문 서비스업</td>\n",
       "      <td>회사 본부 및 경영 컨설팅 서비스업</td>\n",
       "      <td>경영 컨설팅 및 공공 관계 서비스업</td>\n",
       "    </tr>\n",
       "    <tr>\n",
       "      <th>3573</th>\n",
       "      <td>2202</td>\n",
       "      <td>6158103807</td>\n",
       "      <td>20211229</td>\n",
       "      <td>(주)장유정***</td>\n",
       "      <td>박**</td>\n",
       "      <td>055 331 7456</td>\n",
       "      <td>055 331 7457</td>\n",
       "      <td>51008.0</td>\n",
       "      <td>경남 김해시 장유로329번길 36-17</td>\n",
       "      <td>1층 (신문동)</td>\n",
       "      <td>일반</td>\n",
       "      <td>기타(비영리법인)</td>\n",
       "      <td>일반기업</td>\n",
       "      <td>42322.0</td>\n",
       "      <td>내부 통신배선 공사업</td>\n",
       "      <td>42322</td>\n",
       "      <td>건설업</td>\n",
       "      <td>전문직별 공사업</td>\n",
       "      <td>전기 및 통신 공사업</td>\n",
       "      <td>통신 공사업</td>\n",
       "    </tr>\n",
       "    <tr>\n",
       "      <th>3710</th>\n",
       "      <td>82</td>\n",
       "      <td>8728203394</td>\n",
       "      <td>20221022</td>\n",
       "      <td>한국저작권***</td>\n",
       "      <td>박**</td>\n",
       "      <td>02-1588-0190</td>\n",
       "      <td>NaN</td>\n",
       "      <td>NaN</td>\n",
       "      <td>서울특별시 마포구 월드컵북로 400 9층 (상암동,서울산업진흥원빌딩)</td>\n",
       "      <td>NaN</td>\n",
       "      <td>일반</td>\n",
       "      <td>기타(비영리법인)</td>\n",
       "      <td>NaN</td>\n",
       "      <td>94990.0</td>\n",
       "      <td>그 외 기타 협회 및 단체</td>\n",
       "      <td>94990</td>\n",
       "      <td>협회 및 단체, 수리 및 기타 개인 서비스업</td>\n",
       "      <td>협회 및 단체</td>\n",
       "      <td>기타 협회 및 단체</td>\n",
       "      <td>그 외 기타 협회 및 단체</td>\n",
       "    </tr>\n",
       "    <tr>\n",
       "      <th>3711</th>\n",
       "      <td>313</td>\n",
       "      <td>1198209415</td>\n",
       "      <td>20210908</td>\n",
       "      <td>(사)한국화학안***</td>\n",
       "      <td>지**</td>\n",
       "      <td>031-410-2991</td>\n",
       "      <td>031-410-2994</td>\n",
       "      <td>7623.0</td>\n",
       "      <td>서울 강서구 공항대로</td>\n",
       "      <td>36, 302호 (공항동)</td>\n",
       "      <td>일반</td>\n",
       "      <td>기타(비영리법인)</td>\n",
       "      <td>일반기업</td>\n",
       "      <td>94990.0</td>\n",
       "      <td>그 외 기타 협회 및 단체</td>\n",
       "      <td>94990</td>\n",
       "      <td>협회 및 단체, 수리 및 기타 개인 서비스업</td>\n",
       "      <td>협회 및 단체</td>\n",
       "      <td>기타 협회 및 단체</td>\n",
       "      <td>그 외 기타 협회 및 단체</td>\n",
       "    </tr>\n",
       "    <tr>\n",
       "      <th>3712</th>\n",
       "      <td>523</td>\n",
       "      <td>1058209828</td>\n",
       "      <td>20221022</td>\n",
       "      <td>국제개발협력민간***</td>\n",
       "      <td>오**</td>\n",
       "      <td>02-2279-1705</td>\n",
       "      <td>NaN</td>\n",
       "      <td>NaN</td>\n",
       "      <td>서울 마포구 독막로 282 4층 (대흥동,대흥빌딩)</td>\n",
       "      <td>NaN</td>\n",
       "      <td>일반</td>\n",
       "      <td>기타(비영리법인)</td>\n",
       "      <td>NaN</td>\n",
       "      <td>94990.0</td>\n",
       "      <td>그 외 기타 협회 및 단체</td>\n",
       "      <td>94990</td>\n",
       "      <td>협회 및 단체, 수리 및 기타 개인 서비스업</td>\n",
       "      <td>협회 및 단체</td>\n",
       "      <td>기타 협회 및 단체</td>\n",
       "      <td>그 외 기타 협회 및 단체</td>\n",
       "    </tr>\n",
       "    <tr>\n",
       "      <th>3713</th>\n",
       "      <td>699</td>\n",
       "      <td>2768207917</td>\n",
       "      <td>20221022</td>\n",
       "      <td>컨선월드와이***</td>\n",
       "      <td>이준모외***</td>\n",
       "      <td>02-324-3900</td>\n",
       "      <td>NaN</td>\n",
       "      <td>NaN</td>\n",
       "      <td>서울 마포구 양화로11길 12 5층 (서교동,현담빌딩)</td>\n",
       "      <td>NaN</td>\n",
       "      <td>일반</td>\n",
       "      <td>기타(비영리법인)</td>\n",
       "      <td>NaN</td>\n",
       "      <td>94990.0</td>\n",
       "      <td>그 외 기타 협회 및 단체</td>\n",
       "      <td>94990</td>\n",
       "      <td>협회 및 단체, 수리 및 기타 개인 서비스업</td>\n",
       "      <td>협회 및 단체</td>\n",
       "      <td>기타 협회 및 단체</td>\n",
       "      <td>그 외 기타 협회 및 단체</td>\n",
       "    </tr>\n",
       "    <tr>\n",
       "      <th>3714</th>\n",
       "      <td>1022</td>\n",
       "      <td>1248209725</td>\n",
       "      <td>20221022</td>\n",
       "      <td>인권재***</td>\n",
       "      <td>박**</td>\n",
       "      <td>02-363-5855</td>\n",
       "      <td>NaN</td>\n",
       "      <td>NaN</td>\n",
       "      <td>서울특별시 은평구 증산로 403-1 2층 (신사동,복지빌딩)</td>\n",
       "      <td>NaN</td>\n",
       "      <td>일반</td>\n",
       "      <td>기타(비영리법인)</td>\n",
       "      <td>NaN</td>\n",
       "      <td>94990.0</td>\n",
       "      <td>그 외 기타 협회 및 단체</td>\n",
       "      <td>94990</td>\n",
       "      <td>협회 및 단체, 수리 및 기타 개인 서비스업</td>\n",
       "      <td>협회 및 단체</td>\n",
       "      <td>기타 협회 및 단체</td>\n",
       "      <td>그 외 기타 협회 및 단체</td>\n",
       "    </tr>\n",
       "    <tr>\n",
       "      <th>3715</th>\n",
       "      <td>1140</td>\n",
       "      <td>2068209956</td>\n",
       "      <td>20221022</td>\n",
       "      <td>어린이와작은도서***</td>\n",
       "      <td>백**</td>\n",
       "      <td>02-388-5933</td>\n",
       "      <td>NaN</td>\n",
       "      <td>NaN</td>\n",
       "      <td>서울 마포구 월드컵북로5가길 8-7 (서교동)</td>\n",
       "      <td>NaN</td>\n",
       "      <td>일반</td>\n",
       "      <td>기타(비영리법인)</td>\n",
       "      <td>NaN</td>\n",
       "      <td>94990.0</td>\n",
       "      <td>그 외 기타 협회 및 단체</td>\n",
       "      <td>94990</td>\n",
       "      <td>협회 및 단체, 수리 및 기타 개인 서비스업</td>\n",
       "      <td>협회 및 단체</td>\n",
       "      <td>기타 협회 및 단체</td>\n",
       "      <td>그 외 기타 협회 및 단체</td>\n",
       "    </tr>\n",
       "    <tr>\n",
       "      <th>3716</th>\n",
       "      <td>1512</td>\n",
       "      <td>1168206394</td>\n",
       "      <td>20211228</td>\n",
       "      <td>(사)한국정보산업***</td>\n",
       "      <td>정**</td>\n",
       "      <td>02  780 0201</td>\n",
       "      <td>02  782 1266</td>\n",
       "      <td>6221.0</td>\n",
       "      <td>서울 강남구 테헤란로 222</td>\n",
       "      <td>3층, 4층 (역삼동,도원빌딩)</td>\n",
       "      <td>일반</td>\n",
       "      <td>기타(비영리법인)</td>\n",
       "      <td>일반기업</td>\n",
       "      <td>94990.0</td>\n",
       "      <td>그 외 기타 협회 및 단체</td>\n",
       "      <td>94990</td>\n",
       "      <td>협회 및 단체, 수리 및 기타 개인 서비스업</td>\n",
       "      <td>협회 및 단체</td>\n",
       "      <td>기타 협회 및 단체</td>\n",
       "      <td>그 외 기타 협회 및 단체</td>\n",
       "    </tr>\n",
       "    <tr>\n",
       "      <th>3717</th>\n",
       "      <td>2010</td>\n",
       "      <td>8588207928</td>\n",
       "      <td>20221022</td>\n",
       "      <td>남북보건의료교***</td>\n",
       "      <td>배**</td>\n",
       "      <td>02-712-5587</td>\n",
       "      <td>NaN</td>\n",
       "      <td>NaN</td>\n",
       "      <td>서울특별시 마포구 큰우물로 76 413호 (도화동,고려빌딩)</td>\n",
       "      <td>NaN</td>\n",
       "      <td>일반</td>\n",
       "      <td>기타(비영리법인)</td>\n",
       "      <td>NaN</td>\n",
       "      <td>94990.0</td>\n",
       "      <td>그 외 기타 협회 및 단체</td>\n",
       "      <td>94990</td>\n",
       "      <td>협회 및 단체, 수리 및 기타 개인 서비스업</td>\n",
       "      <td>협회 및 단체</td>\n",
       "      <td>기타 협회 및 단체</td>\n",
       "      <td>그 외 기타 협회 및 단체</td>\n",
       "    </tr>\n",
       "    <tr>\n",
       "      <th>3718</th>\n",
       "      <td>2209</td>\n",
       "      <td>1018206257</td>\n",
       "      <td>20210903</td>\n",
       "      <td>(재)함께일하***</td>\n",
       "      <td>송**</td>\n",
       "      <td>02  338 0019</td>\n",
       "      <td>02  22323516</td>\n",
       "      <td>3992.0</td>\n",
       "      <td>서울특별시 마포구 월드컵북로6길 36</td>\n",
       "      <td>6층 (동교동,함께일하는사회)</td>\n",
       "      <td>일반</td>\n",
       "      <td>기타(비영리법인)</td>\n",
       "      <td>일반기업</td>\n",
       "      <td>94990.0</td>\n",
       "      <td>그 외 기타 협회 및 단체</td>\n",
       "      <td>94990</td>\n",
       "      <td>협회 및 단체, 수리 및 기타 개인 서비스업</td>\n",
       "      <td>협회 및 단체</td>\n",
       "      <td>기타 협회 및 단체</td>\n",
       "      <td>그 외 기타 협회 및 단체</td>\n",
       "    </tr>\n",
       "    <tr>\n",
       "      <th>3719</th>\n",
       "      <td>2540</td>\n",
       "      <td>1058209898</td>\n",
       "      <td>20221022</td>\n",
       "      <td>중견기업***</td>\n",
       "      <td>조**</td>\n",
       "      <td>02-3275-3128</td>\n",
       "      <td>NaN</td>\n",
       "      <td>NaN</td>\n",
       "      <td>서울 마포구 독막로 279 4층 (대흥동,상장회사회관)</td>\n",
       "      <td>NaN</td>\n",
       "      <td>일반</td>\n",
       "      <td>기타(비영리법인)</td>\n",
       "      <td>NaN</td>\n",
       "      <td>94990.0</td>\n",
       "      <td>그 외 기타 협회 및 단체</td>\n",
       "      <td>94990</td>\n",
       "      <td>협회 및 단체, 수리 및 기타 개인 서비스업</td>\n",
       "      <td>협회 및 단체</td>\n",
       "      <td>기타 협회 및 단체</td>\n",
       "      <td>그 외 기타 협회 및 단체</td>\n",
       "    </tr>\n",
       "    <tr>\n",
       "      <th>3720</th>\n",
       "      <td>3445</td>\n",
       "      <td>4018203710</td>\n",
       "      <td>20211201</td>\n",
       "      <td>(사)정보통신서비스***</td>\n",
       "      <td>박**</td>\n",
       "      <td>02-2088-1911</td>\n",
       "      <td>02-2088-1911</td>\n",
       "      <td>8507.0</td>\n",
       "      <td>서울특별시 금천구 가산디지털1로</td>\n",
       "      <td>142, 508호 (가산동,가산더스카이밸리1차)</td>\n",
       "      <td>일반</td>\n",
       "      <td>기타(비영리법인)</td>\n",
       "      <td>일반기업</td>\n",
       "      <td>94990.0</td>\n",
       "      <td>그 외 기타 협회 및 단체</td>\n",
       "      <td>94990</td>\n",
       "      <td>협회 및 단체, 수리 및 기타 개인 서비스업</td>\n",
       "      <td>협회 및 단체</td>\n",
       "      <td>기타 협회 및 단체</td>\n",
       "      <td>그 외 기타 협회 및 단체</td>\n",
       "    </tr>\n",
       "    <tr>\n",
       "      <th>3721</th>\n",
       "      <td>3639</td>\n",
       "      <td>2128207832</td>\n",
       "      <td>20221022</td>\n",
       "      <td>월드투**</td>\n",
       "      <td>김**</td>\n",
       "      <td>02-429-4044</td>\n",
       "      <td>NaN</td>\n",
       "      <td>NaN</td>\n",
       "      <td>서울특별시 마포구 토정로 296 8층 (용강동,이연빌딩)</td>\n",
       "      <td>NaN</td>\n",
       "      <td>일반</td>\n",
       "      <td>기타(비영리법인)</td>\n",
       "      <td>NaN</td>\n",
       "      <td>94990.0</td>\n",
       "      <td>그 외 기타 협회 및 단체</td>\n",
       "      <td>94990</td>\n",
       "      <td>협회 및 단체, 수리 및 기타 개인 서비스업</td>\n",
       "      <td>협회 및 단체</td>\n",
       "      <td>기타 협회 및 단체</td>\n",
       "      <td>그 외 기타 협회 및 단체</td>\n",
       "    </tr>\n",
       "    <tr>\n",
       "      <th>3722</th>\n",
       "      <td>3642</td>\n",
       "      <td>2098206974</td>\n",
       "      <td>20220128</td>\n",
       "      <td>영상물등급***</td>\n",
       "      <td>채**</td>\n",
       "      <td>02  31534300</td>\n",
       "      <td>02  31534337</td>\n",
       "      <td>48058.0</td>\n",
       "      <td>부산 해운대구 센텀서로 39</td>\n",
       "      <td>(우동)</td>\n",
       "      <td>일반</td>\n",
       "      <td>기타(비영리법인)</td>\n",
       "      <td>공기업</td>\n",
       "      <td>94990.0</td>\n",
       "      <td>그 외 기타 협회 및 단체</td>\n",
       "      <td>94990</td>\n",
       "      <td>협회 및 단체, 수리 및 기타 개인 서비스업</td>\n",
       "      <td>협회 및 단체</td>\n",
       "      <td>기타 협회 및 단체</td>\n",
       "      <td>그 외 기타 협회 및 단체</td>\n",
       "    </tr>\n",
       "    <tr>\n",
       "      <th>3723</th>\n",
       "      <td>3697</td>\n",
       "      <td>6198208700</td>\n",
       "      <td>20221022</td>\n",
       "      <td>아동복지실천***</td>\n",
       "      <td>허**</td>\n",
       "      <td>NaN</td>\n",
       "      <td>NaN</td>\n",
       "      <td>NaN</td>\n",
       "      <td>서울특별시 마포구 양화로7길 49 3층 (서교동,배아띠빌딩)</td>\n",
       "      <td>NaN</td>\n",
       "      <td>일반</td>\n",
       "      <td>기타(비영리법인)</td>\n",
       "      <td>NaN</td>\n",
       "      <td>94990.0</td>\n",
       "      <td>그 외 기타 협회 및 단체</td>\n",
       "      <td>94990</td>\n",
       "      <td>협회 및 단체, 수리 및 기타 개인 서비스업</td>\n",
       "      <td>협회 및 단체</td>\n",
       "      <td>기타 협회 및 단체</td>\n",
       "      <td>그 외 기타 협회 및 단체</td>\n",
       "    </tr>\n",
       "    <tr>\n",
       "      <th>3724</th>\n",
       "      <td>4133</td>\n",
       "      <td>2298207780</td>\n",
       "      <td>20220128</td>\n",
       "      <td>한국사회복지***</td>\n",
       "      <td>남**</td>\n",
       "      <td>02  719 8939</td>\n",
       "      <td>02  719 8313</td>\n",
       "      <td>4195.0</td>\n",
       "      <td>서울 마포구 만리재로 14</td>\n",
       "      <td>710호,711호 (공덕동,한국사회복지회관르네상스타워)</td>\n",
       "      <td>일반</td>\n",
       "      <td>기타(비영리법인)</td>\n",
       "      <td>일반기업</td>\n",
       "      <td>94990.0</td>\n",
       "      <td>그 외 기타 협회 및 단체</td>\n",
       "      <td>94990</td>\n",
       "      <td>협회 및 단체, 수리 및 기타 개인 서비스업</td>\n",
       "      <td>협회 및 단체</td>\n",
       "      <td>기타 협회 및 단체</td>\n",
       "      <td>그 외 기타 협회 및 단체</td>\n",
       "    </tr>\n",
       "    <tr>\n",
       "      <th>3725</th>\n",
       "      <td>4417</td>\n",
       "      <td>1058208718</td>\n",
       "      <td>20221022</td>\n",
       "      <td>북한이탈주민지***</td>\n",
       "      <td>정**</td>\n",
       "      <td>02-3215-5851</td>\n",
       "      <td>NaN</td>\n",
       "      <td>NaN</td>\n",
       "      <td>서울 마포구 새창로 7 4층,5층,14층 (도화동,서울대학교 총동창회 장학빌딩)</td>\n",
       "      <td>NaN</td>\n",
       "      <td>일반</td>\n",
       "      <td>기타(비영리법인)</td>\n",
       "      <td>NaN</td>\n",
       "      <td>94990.0</td>\n",
       "      <td>그 외 기타 협회 및 단체</td>\n",
       "      <td>94990</td>\n",
       "      <td>협회 및 단체, 수리 및 기타 개인 서비스업</td>\n",
       "      <td>협회 및 단체</td>\n",
       "      <td>기타 협회 및 단체</td>\n",
       "      <td>그 외 기타 협회 및 단체</td>\n",
       "    </tr>\n",
       "    <tr>\n",
       "      <th>3726</th>\n",
       "      <td>4435</td>\n",
       "      <td>1028202607</td>\n",
       "      <td>20211018</td>\n",
       "      <td>(재)케이티그룹희망나***</td>\n",
       "      <td>조**</td>\n",
       "      <td>02  34142045</td>\n",
       "      <td>02  34143100</td>\n",
       "      <td>3154.0</td>\n",
       "      <td>서울 종로구 세종대로 178</td>\n",
       "      <td>15층 (세종로,케이티광화문빌딩 웨스트)</td>\n",
       "      <td>일반</td>\n",
       "      <td>기타(비영리법인)</td>\n",
       "      <td>일반기업</td>\n",
       "      <td>94990.0</td>\n",
       "      <td>그 외 기타 협회 및 단체</td>\n",
       "      <td>94990</td>\n",
       "      <td>협회 및 단체, 수리 및 기타 개인 서비스업</td>\n",
       "      <td>협회 및 단체</td>\n",
       "      <td>기타 협회 및 단체</td>\n",
       "      <td>그 외 기타 협회 및 단체</td>\n",
       "    </tr>\n",
       "    <tr>\n",
       "      <th>3727</th>\n",
       "      <td>4999</td>\n",
       "      <td>8278205863</td>\n",
       "      <td>20221022</td>\n",
       "      <td>한국역사***</td>\n",
       "      <td>김**</td>\n",
       "      <td>02-586-4854</td>\n",
       "      <td>NaN</td>\n",
       "      <td>NaN</td>\n",
       "      <td>서울특별시 마포구 새창로 52 상가 213호 (도화동,도화동현대아파트)</td>\n",
       "      <td>NaN</td>\n",
       "      <td>일반</td>\n",
       "      <td>기타(비영리법인)</td>\n",
       "      <td>NaN</td>\n",
       "      <td>94990.0</td>\n",
       "      <td>그 외 기타 협회 및 단체</td>\n",
       "      <td>94990</td>\n",
       "      <td>협회 및 단체, 수리 및 기타 개인 서비스업</td>\n",
       "      <td>협회 및 단체</td>\n",
       "      <td>기타 협회 및 단체</td>\n",
       "      <td>그 외 기타 협회 및 단체</td>\n",
       "    </tr>\n",
       "    <tr>\n",
       "      <th>3728</th>\n",
       "      <td>5531</td>\n",
       "      <td>1058204619</td>\n",
       "      <td>20210903</td>\n",
       "      <td>(사)**</td>\n",
       "      <td>김**</td>\n",
       "      <td>02  322 2516</td>\n",
       "      <td>02-333-6058</td>\n",
       "      <td>3996.0</td>\n",
       "      <td>서울특별시 마포구 성미산로2길 47</td>\n",
       "      <td>(서교동)</td>\n",
       "      <td>일반</td>\n",
       "      <td>기타(비영리법인)</td>\n",
       "      <td>일반기업</td>\n",
       "      <td>94990.0</td>\n",
       "      <td>그 외 기타 협회 및 단체</td>\n",
       "      <td>94990</td>\n",
       "      <td>협회 및 단체, 수리 및 기타 개인 서비스업</td>\n",
       "      <td>협회 및 단체</td>\n",
       "      <td>기타 협회 및 단체</td>\n",
       "      <td>그 외 기타 협회 및 단체</td>\n",
       "    </tr>\n",
       "    <tr>\n",
       "      <th>3729</th>\n",
       "      <td>6031</td>\n",
       "      <td>1058202909</td>\n",
       "      <td>20221022</td>\n",
       "      <td>한국경영자***</td>\n",
       "      <td>손**</td>\n",
       "      <td>02-3270-7300</td>\n",
       "      <td>NaN</td>\n",
       "      <td>NaN</td>\n",
       "      <td>서울 마포구 백범로 88 (대흥동)</td>\n",
       "      <td>NaN</td>\n",
       "      <td>일반</td>\n",
       "      <td>기타(비영리법인)</td>\n",
       "      <td>NaN</td>\n",
       "      <td>94990.0</td>\n",
       "      <td>그 외 기타 협회 및 단체</td>\n",
       "      <td>94990</td>\n",
       "      <td>협회 및 단체, 수리 및 기타 개인 서비스업</td>\n",
       "      <td>협회 및 단체</td>\n",
       "      <td>기타 협회 및 단체</td>\n",
       "      <td>그 외 기타 협회 및 단체</td>\n",
       "    </tr>\n",
       "    <tr>\n",
       "      <th>3730</th>\n",
       "      <td>6197</td>\n",
       "      <td>2018209072</td>\n",
       "      <td>20221022</td>\n",
       "      <td>서울특별시자원봉***</td>\n",
       "      <td>권**</td>\n",
       "      <td>167--</td>\n",
       "      <td>NaN</td>\n",
       "      <td>NaN</td>\n",
       "      <td>서울 마포구 마포대로 163 3층 (공덕동,서울신용보증재단빌딩)</td>\n",
       "      <td>NaN</td>\n",
       "      <td>일반</td>\n",
       "      <td>기타(비영리법인)</td>\n",
       "      <td>NaN</td>\n",
       "      <td>94990.0</td>\n",
       "      <td>그 외 기타 협회 및 단체</td>\n",
       "      <td>94990</td>\n",
       "      <td>협회 및 단체, 수리 및 기타 개인 서비스업</td>\n",
       "      <td>협회 및 단체</td>\n",
       "      <td>기타 협회 및 단체</td>\n",
       "      <td>그 외 기타 협회 및 단체</td>\n",
       "    </tr>\n",
       "    <tr>\n",
       "      <th>3731</th>\n",
       "      <td>6495</td>\n",
       "      <td>1058200137</td>\n",
       "      <td>20221022</td>\n",
       "      <td>홍익대학교산학***</td>\n",
       "      <td>정**</td>\n",
       "      <td>02-201-1423</td>\n",
       "      <td>NaN</td>\n",
       "      <td>NaN</td>\n",
       "      <td>서울 마포구 와우산로 94 (상수동)</td>\n",
       "      <td>NaN</td>\n",
       "      <td>일반</td>\n",
       "      <td>기타(비영리법인)</td>\n",
       "      <td>NaN</td>\n",
       "      <td>94990.0</td>\n",
       "      <td>그 외 기타 협회 및 단체</td>\n",
       "      <td>94990</td>\n",
       "      <td>협회 및 단체, 수리 및 기타 개인 서비스업</td>\n",
       "      <td>협회 및 단체</td>\n",
       "      <td>기타 협회 및 단체</td>\n",
       "      <td>그 외 기타 협회 및 단체</td>\n",
       "    </tr>\n",
       "    <tr>\n",
       "      <th>3732</th>\n",
       "      <td>6586</td>\n",
       "      <td>1028207962</td>\n",
       "      <td>20220128</td>\n",
       "      <td>유니세프한국***</td>\n",
       "      <td>정**</td>\n",
       "      <td>02  737 1004</td>\n",
       "      <td>02  738 8504</td>\n",
       "      <td>4099.0</td>\n",
       "      <td>서울특별시 마포구 서강로 60</td>\n",
       "      <td>(창전동)</td>\n",
       "      <td>일반</td>\n",
       "      <td>기타(비영리법인)</td>\n",
       "      <td>일반기업</td>\n",
       "      <td>94990.0</td>\n",
       "      <td>그 외 기타 협회 및 단체</td>\n",
       "      <td>94990</td>\n",
       "      <td>협회 및 단체, 수리 및 기타 개인 서비스업</td>\n",
       "      <td>협회 및 단체</td>\n",
       "      <td>기타 협회 및 단체</td>\n",
       "      <td>그 외 기타 협회 및 단체</td>\n",
       "    </tr>\n",
       "    <tr>\n",
       "      <th>3733</th>\n",
       "      <td>7449</td>\n",
       "      <td>1058200285</td>\n",
       "      <td>20220302</td>\n",
       "      <td>한국컨테이너풀***</td>\n",
       "      <td>서**</td>\n",
       "      <td>NaN</td>\n",
       "      <td>NaN</td>\n",
       "      <td>4157.0</td>\n",
       "      <td>서울 마포구 마포대로</td>\n",
       "      <td>63-8, 5층 (도화동,삼창빌딩)</td>\n",
       "      <td>일반</td>\n",
       "      <td>기타(비영리법인)</td>\n",
       "      <td>일반기업</td>\n",
       "      <td>94990.0</td>\n",
       "      <td>그 외 기타 협회 및 단체</td>\n",
       "      <td>94990</td>\n",
       "      <td>협회 및 단체, 수리 및 기타 개인 서비스업</td>\n",
       "      <td>협회 및 단체</td>\n",
       "      <td>기타 협회 및 단체</td>\n",
       "      <td>그 외 기타 협회 및 단체</td>\n",
       "    </tr>\n",
       "    <tr>\n",
       "      <th>3734</th>\n",
       "      <td>7480</td>\n",
       "      <td>1198200394</td>\n",
       "      <td>20211130</td>\n",
       "      <td>(사)타이드인스***</td>\n",
       "      <td>이**</td>\n",
       "      <td>02-2268-2011</td>\n",
       "      <td>02-2268-0805</td>\n",
       "      <td>3194.0</td>\n",
       "      <td>서울특별시 종로구 청계천로 159</td>\n",
       "      <td>510호 (장사동,세운상가)</td>\n",
       "      <td>일반</td>\n",
       "      <td>기타(비영리법인)</td>\n",
       "      <td>일반기업</td>\n",
       "      <td>94990.0</td>\n",
       "      <td>그 외 기타 협회 및 단체</td>\n",
       "      <td>94990</td>\n",
       "      <td>협회 및 단체, 수리 및 기타 개인 서비스업</td>\n",
       "      <td>협회 및 단체</td>\n",
       "      <td>기타 협회 및 단체</td>\n",
       "      <td>그 외 기타 협회 및 단체</td>\n",
       "    </tr>\n",
       "    <tr>\n",
       "      <th>4436</th>\n",
       "      <td>7441</td>\n",
       "      <td>3128209817</td>\n",
       "      <td>20221022</td>\n",
       "      <td>한국산업보건연***</td>\n",
       "      <td>김**</td>\n",
       "      <td>02-326-1102</td>\n",
       "      <td>NaN</td>\n",
       "      <td>NaN</td>\n",
       "      <td>서울특별시 마포구 월드컵북로 25 (서교동)</td>\n",
       "      <td>NaN</td>\n",
       "      <td>일반</td>\n",
       "      <td>기타(비영리법인)</td>\n",
       "      <td>NaN</td>\n",
       "      <td>75999.0</td>\n",
       "      <td>그 외 기타 분류 안된 사업지원 서비스업</td>\n",
       "      <td>75999</td>\n",
       "      <td>사업시설 관리, 사업 지원 및 임대 서비스업</td>\n",
       "      <td>사업 지원 서비스업</td>\n",
       "      <td>기타 사업 지원 서비스업</td>\n",
       "      <td>그 외 기타 사업 지원 서비스업</td>\n",
       "    </tr>\n",
       "    <tr>\n",
       "      <th>4603</th>\n",
       "      <td>952</td>\n",
       "      <td>2118207227</td>\n",
       "      <td>20221022</td>\n",
       "      <td>한국출판***</td>\n",
       "      <td>김**</td>\n",
       "      <td>02-3142-2333</td>\n",
       "      <td>NaN</td>\n",
       "      <td>NaN</td>\n",
       "      <td>서울특별시 마포구 동교로22길 44 (서교동)</td>\n",
       "      <td>NaN</td>\n",
       "      <td>일반</td>\n",
       "      <td>기타(비영리법인)</td>\n",
       "      <td>NaN</td>\n",
       "      <td>71310.0</td>\n",
       "      <td>광고 대행업</td>\n",
       "      <td>71310</td>\n",
       "      <td>전문, 과학 및 기술 서비스업</td>\n",
       "      <td>전문 서비스업</td>\n",
       "      <td>광고업</td>\n",
       "      <td>광고 대행업</td>\n",
       "    </tr>\n",
       "    <tr>\n",
       "      <th>4613</th>\n",
       "      <td>2075</td>\n",
       "      <td>1028205906</td>\n",
       "      <td>20220128</td>\n",
       "      <td>한국문화원***</td>\n",
       "      <td>김**</td>\n",
       "      <td>27042311</td>\n",
       "      <td>27042377</td>\n",
       "      <td>4158.0</td>\n",
       "      <td>서울 마포구 마포대로 49</td>\n",
       "      <td>1202호 (도화동,성우빌딩)</td>\n",
       "      <td>일반</td>\n",
       "      <td>기타(비영리법인)</td>\n",
       "      <td>일반기업</td>\n",
       "      <td>71310.0</td>\n",
       "      <td>광고 대행업</td>\n",
       "      <td>71310</td>\n",
       "      <td>전문, 과학 및 기술 서비스업</td>\n",
       "      <td>전문 서비스업</td>\n",
       "      <td>광고업</td>\n",
       "      <td>광고 대행업</td>\n",
       "    </tr>\n",
       "    <tr>\n",
       "      <th>5037</th>\n",
       "      <td>3407</td>\n",
       "      <td>1058200100</td>\n",
       "      <td>20221022</td>\n",
       "      <td>홍익대학교산학***</td>\n",
       "      <td>추**</td>\n",
       "      <td>02-320-3110</td>\n",
       "      <td>NaN</td>\n",
       "      <td>NaN</td>\n",
       "      <td>서울특별시 마포구 와우산로 94 (상수동)</td>\n",
       "      <td>NaN</td>\n",
       "      <td>일반</td>\n",
       "      <td>기타(비영리법인)</td>\n",
       "      <td>NaN</td>\n",
       "      <td>71600.0</td>\n",
       "      <td>기타 전문 서비스업</td>\n",
       "      <td>71600</td>\n",
       "      <td>전문, 과학 및 기술 서비스업</td>\n",
       "      <td>전문 서비스업</td>\n",
       "      <td>기타 전문 서비스업</td>\n",
       "      <td>기타 전문 서비스업</td>\n",
       "    </tr>\n",
       "    <tr>\n",
       "      <th>5114</th>\n",
       "      <td>788</td>\n",
       "      <td>1208205110</td>\n",
       "      <td>20210923</td>\n",
       "      <td>(사)텔코경영***</td>\n",
       "      <td>금**</td>\n",
       "      <td>02  508 5811</td>\n",
       "      <td>NaN</td>\n",
       "      <td>6595.0</td>\n",
       "      <td>서울 서초구 법원로3길 20-7</td>\n",
       "      <td>2층 (서초동,텔코웨어빌딩)</td>\n",
       "      <td>일반</td>\n",
       "      <td>기타(비영리법인)</td>\n",
       "      <td>일반기업</td>\n",
       "      <td>70121.0</td>\n",
       "      <td>전기ㆍ전자공학 연구 개발업</td>\n",
       "      <td>70121</td>\n",
       "      <td>전문, 과학 및 기술 서비스업</td>\n",
       "      <td>연구개발업</td>\n",
       "      <td>자연과학 및 공학 연구개발업</td>\n",
       "      <td>공학 연구개발업</td>\n",
       "    </tr>\n",
       "    <tr>\n",
       "      <th>5286</th>\n",
       "      <td>1088</td>\n",
       "      <td>1058201494</td>\n",
       "      <td>20211201</td>\n",
       "      <td>(학)서강***</td>\n",
       "      <td>박**</td>\n",
       "      <td>02  705 8114</td>\n",
       "      <td>02  705 8147</td>\n",
       "      <td>4107.0</td>\n",
       "      <td>서울 마포구 백범로 35</td>\n",
       "      <td>(신수동)</td>\n",
       "      <td>일반</td>\n",
       "      <td>기타(비영리법인)</td>\n",
       "      <td>공기업</td>\n",
       "      <td>85302.0</td>\n",
       "      <td>대학교</td>\n",
       "      <td>85302</td>\n",
       "      <td>교육 서비스업</td>\n",
       "      <td>교육 서비스업</td>\n",
       "      <td>고등 교육기관</td>\n",
       "      <td>고등 교육기관</td>\n",
       "    </tr>\n",
       "    <tr>\n",
       "      <th>5287</th>\n",
       "      <td>1873</td>\n",
       "      <td>6038200532</td>\n",
       "      <td>20221022</td>\n",
       "      <td>서울디지털***</td>\n",
       "      <td>강**</td>\n",
       "      <td>02-2128-2561</td>\n",
       "      <td>NaN</td>\n",
       "      <td>NaN</td>\n",
       "      <td>서울특별시 마포구 독막로 320 (도화동)</td>\n",
       "      <td>NaN</td>\n",
       "      <td>일반</td>\n",
       "      <td>기타(비영리법인)</td>\n",
       "      <td>NaN</td>\n",
       "      <td>85302.0</td>\n",
       "      <td>대학교</td>\n",
       "      <td>85302</td>\n",
       "      <td>교육 서비스업</td>\n",
       "      <td>교육 서비스업</td>\n",
       "      <td>고등 교육기관</td>\n",
       "      <td>고등 교육기관</td>\n",
       "    </tr>\n",
       "    <tr>\n",
       "      <th>5288</th>\n",
       "      <td>5300</td>\n",
       "      <td>1058200553</td>\n",
       "      <td>20211201</td>\n",
       "      <td>서강대**</td>\n",
       "      <td>박**</td>\n",
       "      <td>02  705 8114</td>\n",
       "      <td>02-718-2065</td>\n",
       "      <td>4107.0</td>\n",
       "      <td>서울 마포구 백범로 35</td>\n",
       "      <td>(신수동)</td>\n",
       "      <td>일반</td>\n",
       "      <td>기타(비영리법인)</td>\n",
       "      <td>공기업</td>\n",
       "      <td>85302.0</td>\n",
       "      <td>대학교</td>\n",
       "      <td>85302</td>\n",
       "      <td>교육 서비스업</td>\n",
       "      <td>교육 서비스업</td>\n",
       "      <td>고등 교육기관</td>\n",
       "      <td>고등 교육기관</td>\n",
       "    </tr>\n",
       "    <tr>\n",
       "      <th>5319</th>\n",
       "      <td>3165</td>\n",
       "      <td>1058203217</td>\n",
       "      <td>20221022</td>\n",
       "      <td>더나은**</td>\n",
       "      <td>염**</td>\n",
       "      <td>02-635-5858</td>\n",
       "      <td>NaN</td>\n",
       "      <td>NaN</td>\n",
       "      <td>서울 마포구 성미산로 120 (연남동)</td>\n",
       "      <td>NaN</td>\n",
       "      <td>일반</td>\n",
       "      <td>기타(비영리법인)</td>\n",
       "      <td>NaN</td>\n",
       "      <td>85701.0</td>\n",
       "      <td>교육 관련 자문 및 평가업</td>\n",
       "      <td>85701</td>\n",
       "      <td>교육 서비스업</td>\n",
       "      <td>교육 서비스업</td>\n",
       "      <td>교육 지원 서비스업</td>\n",
       "      <td>교육 지원 서비스업</td>\n",
       "    </tr>\n",
       "    <tr>\n",
       "      <th>5394</th>\n",
       "      <td>6582</td>\n",
       "      <td>1018200478</td>\n",
       "      <td>20211130</td>\n",
       "      <td>(재)한국정보통신산업***</td>\n",
       "      <td>강**</td>\n",
       "      <td>031-231-3410</td>\n",
       "      <td>031-269-5210</td>\n",
       "      <td>16324.0</td>\n",
       "      <td>경기도 수원시 장안구 하률로12번길 80</td>\n",
       "      <td>(천천동)</td>\n",
       "      <td>일반</td>\n",
       "      <td>기타(비영리법인)</td>\n",
       "      <td>일반기업</td>\n",
       "      <td>70129.0</td>\n",
       "      <td>기타 공학 연구개발업</td>\n",
       "      <td>70129</td>\n",
       "      <td>전문, 과학 및 기술 서비스업</td>\n",
       "      <td>연구개발업</td>\n",
       "      <td>자연과학 및 공학 연구개발업</td>\n",
       "      <td>공학 연구개발업</td>\n",
       "    </tr>\n",
       "    <tr>\n",
       "      <th>5495</th>\n",
       "      <td>1814</td>\n",
       "      <td>1058209496</td>\n",
       "      <td>20220128</td>\n",
       "      <td>(복)홀트아동***</td>\n",
       "      <td>설**</td>\n",
       "      <td>02-331-7051</td>\n",
       "      <td>02-331-7015</td>\n",
       "      <td>4027.0</td>\n",
       "      <td>서울 마포구 양화로 19</td>\n",
       "      <td>(합정동)</td>\n",
       "      <td>일반</td>\n",
       "      <td>기타(비영리법인)</td>\n",
       "      <td>일반기업</td>\n",
       "      <td>87131.0</td>\n",
       "      <td>아동 및 부녀자 거주 복지시설 운영업</td>\n",
       "      <td>87131</td>\n",
       "      <td>보건업 및 사회복지 서비스업</td>\n",
       "      <td>사회복지 서비스업</td>\n",
       "      <td>거주 복지시설 운영업</td>\n",
       "      <td>기타 거주 복지시설 운영업</td>\n",
       "    </tr>\n",
       "    <tr>\n",
       "      <th>5611</th>\n",
       "      <td>2357</td>\n",
       "      <td>1108201361</td>\n",
       "      <td>20221022</td>\n",
       "      <td>국가임상시험지***</td>\n",
       "      <td>배**</td>\n",
       "      <td>02-985-5032</td>\n",
       "      <td>NaN</td>\n",
       "      <td>NaN</td>\n",
       "      <td>서울 마포구 마포대로 137 15층 (공덕동,케이피엑스빌딩)</td>\n",
       "      <td>NaN</td>\n",
       "      <td>일반</td>\n",
       "      <td>기타(비영리법인)</td>\n",
       "      <td>NaN</td>\n",
       "      <td>94110.0</td>\n",
       "      <td>산업 단체</td>\n",
       "      <td>94110</td>\n",
       "      <td>협회 및 단체, 수리 및 기타 개인 서비스업</td>\n",
       "      <td>협회 및 단체</td>\n",
       "      <td>산업 및 전문가 단체</td>\n",
       "      <td>산업 단체</td>\n",
       "    </tr>\n",
       "    <tr>\n",
       "      <th>5612</th>\n",
       "      <td>4918</td>\n",
       "      <td>1078207462</td>\n",
       "      <td>20211018</td>\n",
       "      <td>(사)한국정보기술서비스산***</td>\n",
       "      <td>박**</td>\n",
       "      <td>02  761 2060</td>\n",
       "      <td>02  761 6646</td>\n",
       "      <td>7207.0</td>\n",
       "      <td>서울특별시 영등포구 양평로25길 8</td>\n",
       "      <td>408호 (양평동5가,어반322)</td>\n",
       "      <td>일반</td>\n",
       "      <td>기타(비영리법인)</td>\n",
       "      <td>일반기업</td>\n",
       "      <td>94110.0</td>\n",
       "      <td>산업 단체</td>\n",
       "      <td>94110</td>\n",
       "      <td>협회 및 단체, 수리 및 기타 개인 서비스업</td>\n",
       "      <td>협회 및 단체</td>\n",
       "      <td>산업 및 전문가 단체</td>\n",
       "      <td>산업 단체</td>\n",
       "    </tr>\n",
       "    <tr>\n",
       "      <th>5613</th>\n",
       "      <td>5476</td>\n",
       "      <td>2028204157</td>\n",
       "      <td>20221022</td>\n",
       "      <td>한국중견기업***</td>\n",
       "      <td>최**</td>\n",
       "      <td>02-3275-0175</td>\n",
       "      <td>NaN</td>\n",
       "      <td>NaN</td>\n",
       "      <td>서울특별시 마포구 독막로 279 상장회사회관 1동 4,5층 (대흥동)</td>\n",
       "      <td>NaN</td>\n",
       "      <td>일반</td>\n",
       "      <td>기타(비영리법인)</td>\n",
       "      <td>NaN</td>\n",
       "      <td>94110.0</td>\n",
       "      <td>산업 단체</td>\n",
       "      <td>94110</td>\n",
       "      <td>협회 및 단체, 수리 및 기타 개인 서비스업</td>\n",
       "      <td>협회 및 단체</td>\n",
       "      <td>산업 및 전문가 단체</td>\n",
       "      <td>산업 단체</td>\n",
       "    </tr>\n",
       "    <tr>\n",
       "      <th>5614</th>\n",
       "      <td>5704</td>\n",
       "      <td>1058202680</td>\n",
       "      <td>20211130</td>\n",
       "      <td>(사)한국정보방송통신***</td>\n",
       "      <td>노**</td>\n",
       "      <td>02  21322100</td>\n",
       "      <td>02-2132-2110</td>\n",
       "      <td>3925.0</td>\n",
       "      <td>서울특별시 마포구 월드컵북로 396</td>\n",
       "      <td>903호 (상암동,누리꿈스퀘어 알엔디타워)</td>\n",
       "      <td>일반</td>\n",
       "      <td>기타(비영리법인)</td>\n",
       "      <td>일반기업</td>\n",
       "      <td>94110.0</td>\n",
       "      <td>산업 단체</td>\n",
       "      <td>94110</td>\n",
       "      <td>협회 및 단체, 수리 및 기타 개인 서비스업</td>\n",
       "      <td>협회 및 단체</td>\n",
       "      <td>산업 및 전문가 단체</td>\n",
       "      <td>산업 단체</td>\n",
       "    </tr>\n",
       "    <tr>\n",
       "      <th>5628</th>\n",
       "      <td>2440</td>\n",
       "      <td>6148200106</td>\n",
       "      <td>20211228</td>\n",
       "      <td>정보통신기획***</td>\n",
       "      <td>석**</td>\n",
       "      <td>042-612-8001</td>\n",
       "      <td>042-612-8809</td>\n",
       "      <td>34054.0</td>\n",
       "      <td>대전 유성구 유성대로 1548</td>\n",
       "      <td>(화암동)</td>\n",
       "      <td>일반</td>\n",
       "      <td>기타(비영리법인)</td>\n",
       "      <td>공기업</td>\n",
       "      <td>70209.0</td>\n",
       "      <td>기타 인문 및 사회과학 연구개발업</td>\n",
       "      <td>70209</td>\n",
       "      <td>전문, 과학 및 기술 서비스업</td>\n",
       "      <td>연구개발업</td>\n",
       "      <td>인문 및 사회과학 연구개발업</td>\n",
       "      <td>인문 및 사회과학 연구개발업</td>\n",
       "    </tr>\n",
       "    <tr>\n",
       "      <th>5629</th>\n",
       "      <td>2454</td>\n",
       "      <td>1018209128</td>\n",
       "      <td>20221022</td>\n",
       "      <td>희망제**</td>\n",
       "      <td>정**</td>\n",
       "      <td>02-3210-0909</td>\n",
       "      <td>NaN</td>\n",
       "      <td>NaN</td>\n",
       "      <td>서울 마포구 월드컵북로 92 (성산동)</td>\n",
       "      <td>NaN</td>\n",
       "      <td>일반</td>\n",
       "      <td>기타(비영리법인)</td>\n",
       "      <td>NaN</td>\n",
       "      <td>70209.0</td>\n",
       "      <td>기타 인문 및 사회과학 연구개발업</td>\n",
       "      <td>70209</td>\n",
       "      <td>전문, 과학 및 기술 서비스업</td>\n",
       "      <td>연구개발업</td>\n",
       "      <td>인문 및 사회과학 연구개발업</td>\n",
       "      <td>인문 및 사회과학 연구개발업</td>\n",
       "    </tr>\n",
       "    <tr>\n",
       "      <th>5635</th>\n",
       "      <td>6538</td>\n",
       "      <td>2048204585</td>\n",
       "      <td>20221022</td>\n",
       "      <td>한국환경생***</td>\n",
       "      <td>백**</td>\n",
       "      <td>070-4194-7488</td>\n",
       "      <td>NaN</td>\n",
       "      <td>NaN</td>\n",
       "      <td>서울 마포구 월드컵로3길 36 501호 (합정동,상일빌딩)</td>\n",
       "      <td>NaN</td>\n",
       "      <td>일반</td>\n",
       "      <td>기타(비영리법인)</td>\n",
       "      <td>NaN</td>\n",
       "      <td>70209.0</td>\n",
       "      <td>기타 인문 및 사회과학 연구개발업</td>\n",
       "      <td>70209</td>\n",
       "      <td>전문, 과학 및 기술 서비스업</td>\n",
       "      <td>연구개발업</td>\n",
       "      <td>인문 및 사회과학 연구개발업</td>\n",
       "      <td>인문 및 사회과학 연구개발업</td>\n",
       "    </tr>\n",
       "    <tr>\n",
       "      <th>5680</th>\n",
       "      <td>2952</td>\n",
       "      <td>1058509139</td>\n",
       "      <td>20220302</td>\n",
       "      <td>한국중부발전(주)서울화력***</td>\n",
       "      <td>김**</td>\n",
       "      <td>02-320-2276</td>\n",
       "      <td>02-320-2192</td>\n",
       "      <td>4082.0</td>\n",
       "      <td>서울 마포구 토정로</td>\n",
       "      <td>56, 1 (당인동,서울화력발전소)</td>\n",
       "      <td>외감</td>\n",
       "      <td>기타(비영리법인)</td>\n",
       "      <td>일반기업</td>\n",
       "      <td>35113.0</td>\n",
       "      <td>화력 발전업</td>\n",
       "      <td>35113</td>\n",
       "      <td>전기, 가스, 증기 및 공기 조절 공급업</td>\n",
       "      <td>전기, 가스, 증기 및 공기 조절 공급업</td>\n",
       "      <td>전기업</td>\n",
       "      <td>발전업</td>\n",
       "    </tr>\n",
       "    <tr>\n",
       "      <th>5682</th>\n",
       "      <td>3060</td>\n",
       "      <td>1058206009</td>\n",
       "      <td>20221022</td>\n",
       "      <td>한국소프트웨어***</td>\n",
       "      <td>유**</td>\n",
       "      <td>02-2132-1234</td>\n",
       "      <td>NaN</td>\n",
       "      <td>NaN</td>\n",
       "      <td>서울 마포구 월드컵북로 396, 1층 IT KOREA 전시관 (상암동,누리꿈스퀘어디...</td>\n",
       "      <td>NaN</td>\n",
       "      <td>일반</td>\n",
       "      <td>기타(비영리법인)</td>\n",
       "      <td>NaN</td>\n",
       "      <td>68111.0</td>\n",
       "      <td>주거용 건물 임대업</td>\n",
       "      <td>68111</td>\n",
       "      <td>부동산업</td>\n",
       "      <td>부동산업</td>\n",
       "      <td>부동산 임대 및 공급업</td>\n",
       "      <td>부동산 임대업</td>\n",
       "    </tr>\n",
       "    <tr>\n",
       "      <th>5694</th>\n",
       "      <td>3218</td>\n",
       "      <td>2088206039</td>\n",
       "      <td>20221022</td>\n",
       "      <td>환경**</td>\n",
       "      <td>이**</td>\n",
       "      <td>02-743-4747</td>\n",
       "      <td>NaN</td>\n",
       "      <td>NaN</td>\n",
       "      <td>서울 마포구 월드컵로26길 39 (성산동)</td>\n",
       "      <td>NaN</td>\n",
       "      <td>일반</td>\n",
       "      <td>기타(비영리법인)</td>\n",
       "      <td>NaN</td>\n",
       "      <td>94931.0</td>\n",
       "      <td>환경운동 단체</td>\n",
       "      <td>94931</td>\n",
       "      <td>협회 및 단체, 수리 및 기타 개인 서비스업</td>\n",
       "      <td>협회 및 단체</td>\n",
       "      <td>기타 협회 및 단체</td>\n",
       "      <td>시민운동 단체</td>\n",
       "    </tr>\n",
       "    <tr>\n",
       "      <th>5695</th>\n",
       "      <td>6575</td>\n",
       "      <td>1028209240</td>\n",
       "      <td>20221022</td>\n",
       "      <td>생명**</td>\n",
       "      <td>허**</td>\n",
       "      <td>02-735-3232</td>\n",
       "      <td>NaN</td>\n",
       "      <td>NaN</td>\n",
       "      <td>서울특별시 마포구 성미산로11길 5 5층 (성산동)</td>\n",
       "      <td>NaN</td>\n",
       "      <td>일반</td>\n",
       "      <td>기타(비영리법인)</td>\n",
       "      <td>NaN</td>\n",
       "      <td>94931.0</td>\n",
       "      <td>환경운동 단체</td>\n",
       "      <td>94931</td>\n",
       "      <td>협회 및 단체, 수리 및 기타 개인 서비스업</td>\n",
       "      <td>협회 및 단체</td>\n",
       "      <td>기타 협회 및 단체</td>\n",
       "      <td>시민운동 단체</td>\n",
       "    </tr>\n",
       "    <tr>\n",
       "      <th>5704</th>\n",
       "      <td>3272</td>\n",
       "      <td>6218207020</td>\n",
       "      <td>20221022</td>\n",
       "      <td>성보문화재***</td>\n",
       "      <td>김**</td>\n",
       "      <td>02-701-6830</td>\n",
       "      <td>NaN</td>\n",
       "      <td>NaN</td>\n",
       "      <td>서울 마포구 마포대로 38 801호 (도화동,일신빌딩)</td>\n",
       "      <td>NaN</td>\n",
       "      <td>일반</td>\n",
       "      <td>기타(비영리법인)</td>\n",
       "      <td>NaN</td>\n",
       "      <td>84212.0</td>\n",
       "      <td>문화 및 관광 행정</td>\n",
       "      <td>84212</td>\n",
       "      <td>공공 행정, 국방 및 사회보장 행정</td>\n",
       "      <td>공공 행정, 국방 및 사회보장 행정</td>\n",
       "      <td>사회 및 산업정책 행정</td>\n",
       "      <td>사회서비스 관리 행정</td>\n",
       "    </tr>\n",
       "    <tr>\n",
       "      <th>5708</th>\n",
       "      <td>6011</td>\n",
       "      <td>1078201068</td>\n",
       "      <td>20211018</td>\n",
       "      <td>(사)한국아이티복지***</td>\n",
       "      <td>정**</td>\n",
       "      <td>02-2015-3555</td>\n",
       "      <td>02-2015-3501</td>\n",
       "      <td>6373.0</td>\n",
       "      <td>서울특별시 강남구 자곡로 174-10</td>\n",
       "      <td>613호 (자곡동,강남에이스타워)</td>\n",
       "      <td>일반</td>\n",
       "      <td>기타(비영리법인)</td>\n",
       "      <td>일반기업</td>\n",
       "      <td>38110.0</td>\n",
       "      <td>지정 외 폐기물 수집, 운반업</td>\n",
       "      <td>38110</td>\n",
       "      <td>수도, 하수 및 폐기물 처리, 원료 재생업</td>\n",
       "      <td>폐기물 수집, 운반, 처리 및 원료 재생업</td>\n",
       "      <td>폐기물 수집, 운반업</td>\n",
       "      <td>지정 외 폐기물 수집, 운반업</td>\n",
       "    </tr>\n",
       "    <tr>\n",
       "      <th>5760</th>\n",
       "      <td>5093</td>\n",
       "      <td>6178200261</td>\n",
       "      <td>20210923</td>\n",
       "      <td>(재)부산정보산업***</td>\n",
       "      <td>이**</td>\n",
       "      <td>051 744 7755</td>\n",
       "      <td>051 731 6660</td>\n",
       "      <td>NaN</td>\n",
       "      <td>NaN</td>\n",
       "      <td>NaN</td>\n",
       "      <td>일반</td>\n",
       "      <td>기타(비영리법인)</td>\n",
       "      <td>일반기업</td>\n",
       "      <td>85709.0</td>\n",
       "      <td>기타 교육 지원 서비스업</td>\n",
       "      <td>85709</td>\n",
       "      <td>교육 서비스업</td>\n",
       "      <td>교육 서비스업</td>\n",
       "      <td>교육 지원 서비스업</td>\n",
       "      <td>교육 지원 서비스업</td>\n",
       "    </tr>\n",
       "    <tr>\n",
       "      <th>5781</th>\n",
       "      <td>4268</td>\n",
       "      <td>1018202106</td>\n",
       "      <td>20211229</td>\n",
       "      <td>(사)글로벌발전***</td>\n",
       "      <td>이**</td>\n",
       "      <td>7044960092</td>\n",
       "      <td>02 3349110</td>\n",
       "      <td>4002.0</td>\n",
       "      <td>서울특별시 마포구 월드컵북로5나길</td>\n",
       "      <td>9, 2층 (서교동)</td>\n",
       "      <td>일반</td>\n",
       "      <td>기타(비영리법인)</td>\n",
       "      <td>일반기업</td>\n",
       "      <td>70201.0</td>\n",
       "      <td>경제 및 경영학 연구개발업</td>\n",
       "      <td>70201</td>\n",
       "      <td>전문, 과학 및 기술 서비스업</td>\n",
       "      <td>연구개발업</td>\n",
       "      <td>인문 및 사회과학 연구개발업</td>\n",
       "      <td>인문 및 사회과학 연구개발업</td>\n",
       "    </tr>\n",
       "    <tr>\n",
       "      <th>5782</th>\n",
       "      <td>5428</td>\n",
       "      <td>2208207512</td>\n",
       "      <td>20210908</td>\n",
       "      <td>(재)중소기업미래***</td>\n",
       "      <td>박**</td>\n",
       "      <td>070-5067-0690</td>\n",
       "      <td>02-761-2559</td>\n",
       "      <td>7327.0</td>\n",
       "      <td>서울 영등포구 국제금융로 20</td>\n",
       "      <td>5층 530호 (여의도동,율촌빌딩)</td>\n",
       "      <td>일반</td>\n",
       "      <td>기타(비영리법인)</td>\n",
       "      <td>일반기업</td>\n",
       "      <td>70201.0</td>\n",
       "      <td>경제 및 경영학 연구개발업</td>\n",
       "      <td>70201</td>\n",
       "      <td>전문, 과학 및 기술 서비스업</td>\n",
       "      <td>연구개발업</td>\n",
       "      <td>인문 및 사회과학 연구개발업</td>\n",
       "      <td>인문 및 사회과학 연구개발업</td>\n",
       "    </tr>\n",
       "    <tr>\n",
       "      <th>5838</th>\n",
       "      <td>5696</td>\n",
       "      <td>1058206775</td>\n",
       "      <td>20221022</td>\n",
       "      <td>행복도시락사회적협***</td>\n",
       "      <td>최**</td>\n",
       "      <td>02-6010-6105</td>\n",
       "      <td>NaN</td>\n",
       "      <td>NaN</td>\n",
       "      <td>서울특별시 용산구 한강대로102길 12 4층 (갈월동)</td>\n",
       "      <td>NaN</td>\n",
       "      <td>일반</td>\n",
       "      <td>기타(비영리법인)</td>\n",
       "      <td>NaN</td>\n",
       "      <td>46102.0</td>\n",
       "      <td>음ㆍ식료품 및 담배 중개업</td>\n",
       "      <td>46102</td>\n",
       "      <td>도매 및 소매업</td>\n",
       "      <td>도매 및 상품 중개업</td>\n",
       "      <td>상품 중개업</td>\n",
       "      <td>상품 중개업</td>\n",
       "    </tr>\n",
       "    <tr>\n",
       "      <th>5860</th>\n",
       "      <td>6363</td>\n",
       "      <td>2028206272</td>\n",
       "      <td>20221022</td>\n",
       "      <td>우리민족서로돕***</td>\n",
       "      <td>임**</td>\n",
       "      <td>02-734-7070</td>\n",
       "      <td>NaN</td>\n",
       "      <td>NaN</td>\n",
       "      <td>서울 마포구 마포대로4나길 46, 지하1층 (마포동,덕성빌딩)</td>\n",
       "      <td>NaN</td>\n",
       "      <td>일반</td>\n",
       "      <td>기타(비영리법인)</td>\n",
       "      <td>NaN</td>\n",
       "      <td>94939.0</td>\n",
       "      <td>기타 시민운동 단체</td>\n",
       "      <td>94939</td>\n",
       "      <td>협회 및 단체, 수리 및 기타 개인 서비스업</td>\n",
       "      <td>협회 및 단체</td>\n",
       "      <td>기타 협회 및 단체</td>\n",
       "      <td>시민운동 단체</td>\n",
       "    </tr>\n",
       "    <tr>\n",
       "      <th>5873</th>\n",
       "      <td>6725</td>\n",
       "      <td>1058200006</td>\n",
       "      <td>20211201</td>\n",
       "      <td>서강대학교산학***</td>\n",
       "      <td>정**</td>\n",
       "      <td>232744846</td>\n",
       "      <td>02  705 8671</td>\n",
       "      <td>4107.0</td>\n",
       "      <td>서울특별시 마포구 백범로 35</td>\n",
       "      <td>(신수동,서강대학교)</td>\n",
       "      <td>일반</td>\n",
       "      <td>기타(비영리법인)</td>\n",
       "      <td>일반기업</td>\n",
       "      <td>75919.0</td>\n",
       "      <td>기타 사무지원 서비스업</td>\n",
       "      <td>75919</td>\n",
       "      <td>사업시설 관리, 사업 지원 및 임대 서비스업</td>\n",
       "      <td>사업 지원 서비스업</td>\n",
       "      <td>기타 사업 지원 서비스업</td>\n",
       "      <td>사무 지원 서비스업</td>\n",
       "    </tr>\n",
       "    <tr>\n",
       "      <th>5906</th>\n",
       "      <td>7655</td>\n",
       "      <td>2748206879</td>\n",
       "      <td>20221022</td>\n",
       "      <td>지파운데이션사회적협***</td>\n",
       "      <td>박**</td>\n",
       "      <td>02-6335-0100</td>\n",
       "      <td>NaN</td>\n",
       "      <td>NaN</td>\n",
       "      <td>서울특별시 마포구 월드컵북로6길 30 3층 (동교동,신원빌딩)</td>\n",
       "      <td>NaN</td>\n",
       "      <td>일반</td>\n",
       "      <td>기타(비영리법인)</td>\n",
       "      <td>NaN</td>\n",
       "      <td>46419.0</td>\n",
       "      <td>기타 생활용 섬유 및 직물제품 도매업</td>\n",
       "      <td>46419</td>\n",
       "      <td>도매 및 소매업</td>\n",
       "      <td>도매 및 상품 중개업</td>\n",
       "      <td>생활용품 도매업</td>\n",
       "      <td>생활용 섬유제품, 의복, 의복 액세서리 및 모피제품 도매업</td>\n",
       "    </tr>\n",
       "  </tbody>\n",
       "</table>\n",
       "</div>"
      ],
      "text/plain": [
       "      Unnamed: 0  BusinessNum     cmpNm               기업명    ceoNm  \\\n",
       "1050         275   1088209536  20221022         현대산업정보***      최**   \n",
       "3573        2202   6158103807  20211229         (주)장유정***      박**   \n",
       "3710          82   8728203394  20221022          한국저작권***      박**   \n",
       "3711         313   1198209415  20210908       (사)한국화학안***      지**   \n",
       "3712         523   1058209828  20221022       국제개발협력민간***      오**   \n",
       "3713         699   2768207917  20221022         컨선월드와이***  이준모외***   \n",
       "3714        1022   1248209725  20221022            인권재***      박**   \n",
       "3715        1140   2068209956  20221022       어린이와작은도서***      백**   \n",
       "3716        1512   1168206394  20211228      (사)한국정보산업***      정**   \n",
       "3717        2010   8588207928  20221022        남북보건의료교***      배**   \n",
       "3718        2209   1018206257  20210903        (재)함께일하***      송**   \n",
       "3719        2540   1058209898  20221022           중견기업***      조**   \n",
       "3720        3445   4018203710  20211201     (사)정보통신서비스***      박**   \n",
       "3721        3639   2128207832  20221022             월드투**      김**   \n",
       "3722        3642   2098206974  20220128          영상물등급***      채**   \n",
       "3723        3697   6198208700  20221022         아동복지실천***      허**   \n",
       "3724        4133   2298207780  20220128         한국사회복지***      남**   \n",
       "3725        4417   1058208718  20221022        북한이탈주민지***      정**   \n",
       "3726        4435   1028202607  20211018    (재)케이티그룹희망나***      조**   \n",
       "3727        4999   8278205863  20221022           한국역사***      김**   \n",
       "3728        5531   1058204619  20210903             (사)**      김**   \n",
       "3729        6031   1058202909  20221022          한국경영자***      손**   \n",
       "3730        6197   2018209072  20221022       서울특별시자원봉***      권**   \n",
       "3731        6495   1058200137  20221022        홍익대학교산학***      정**   \n",
       "3732        6586   1028207962  20220128         유니세프한국***      정**   \n",
       "3733        7449   1058200285  20220302        한국컨테이너풀***      서**   \n",
       "3734        7480   1198200394  20211130       (사)타이드인스***      이**   \n",
       "4436        7441   3128209817  20221022        한국산업보건연***      김**   \n",
       "4603         952   2118207227  20221022           한국출판***      김**   \n",
       "4613        2075   1028205906  20220128          한국문화원***      김**   \n",
       "5037        3407   1058200100  20221022        홍익대학교산학***      추**   \n",
       "5114         788   1208205110  20210923        (사)텔코경영***      금**   \n",
       "5286        1088   1058201494  20211201          (학)서강***      박**   \n",
       "5287        1873   6038200532  20221022          서울디지털***      강**   \n",
       "5288        5300   1058200553  20211201             서강대**      박**   \n",
       "5319        3165   1058203217  20221022             더나은**      염**   \n",
       "5394        6582   1018200478  20211130    (재)한국정보통신산업***      강**   \n",
       "5495        1814   1058209496  20220128        (복)홀트아동***      설**   \n",
       "5611        2357   1108201361  20221022        국가임상시험지***      배**   \n",
       "5612        4918   1078207462  20211018  (사)한국정보기술서비스산***      박**   \n",
       "5613        5476   2028204157  20221022         한국중견기업***      최**   \n",
       "5614        5704   1058202680  20211130    (사)한국정보방송통신***      노**   \n",
       "5628        2440   6148200106  20211228         정보통신기획***      석**   \n",
       "5629        2454   1018209128  20221022             희망제**      정**   \n",
       "5635        6538   2048204585  20221022          한국환경생***      백**   \n",
       "5680        2952   1058509139  20220302  한국중부발전(주)서울화력***      김**   \n",
       "5682        3060   1058206009  20221022        한국소프트웨어***      유**   \n",
       "5694        3218   2088206039  20221022              환경**      이**   \n",
       "5695        6575   1028209240  20221022              생명**      허**   \n",
       "5704        3272   6218207020  20221022          성보문화재***      김**   \n",
       "5708        6011   1078201068  20211018     (사)한국아이티복지***      정**   \n",
       "5760        5093   6178200261  20210923      (재)부산정보산업***      이**   \n",
       "5781        4268   1018202106  20211229       (사)글로벌발전***      이**   \n",
       "5782        5428   2208207512  20210908      (재)중소기업미래***      박**   \n",
       "5838        5696   1058206775  20221022      행복도시락사회적협***      최**   \n",
       "5860        6363   2028206272  20221022        우리민족서로돕***      임**   \n",
       "5873        6725   1058200006  20211201        서강대학교산학***      정**   \n",
       "5906        7655   2748206879  20221022     지파운데이션사회적협***      박**   \n",
       "\n",
       "              telNo      faxTelNo      zip  \\\n",
       "1050   02-3143-0041           NaN      NaN   \n",
       "3573   055 331 7456  055 331 7457  51008.0   \n",
       "3710   02-1588-0190           NaN      NaN   \n",
       "3711   031-410-2991  031-410-2994   7623.0   \n",
       "3712   02-2279-1705           NaN      NaN   \n",
       "3713    02-324-3900           NaN      NaN   \n",
       "3714    02-363-5855           NaN      NaN   \n",
       "3715    02-388-5933           NaN      NaN   \n",
       "3716   02  780 0201  02  782 1266   6221.0   \n",
       "3717    02-712-5587           NaN      NaN   \n",
       "3718   02  338 0019  02  22323516   3992.0   \n",
       "3719   02-3275-3128           NaN      NaN   \n",
       "3720   02-2088-1911  02-2088-1911   8507.0   \n",
       "3721    02-429-4044           NaN      NaN   \n",
       "3722   02  31534300  02  31534337  48058.0   \n",
       "3723            NaN           NaN      NaN   \n",
       "3724   02  719 8939  02  719 8313   4195.0   \n",
       "3725   02-3215-5851           NaN      NaN   \n",
       "3726   02  34142045  02  34143100   3154.0   \n",
       "3727    02-586-4854           NaN      NaN   \n",
       "3728   02  322 2516   02-333-6058   3996.0   \n",
       "3729   02-3270-7300           NaN      NaN   \n",
       "3730          167--           NaN      NaN   \n",
       "3731    02-201-1423           NaN      NaN   \n",
       "3732   02  737 1004  02  738 8504   4099.0   \n",
       "3733            NaN           NaN   4157.0   \n",
       "3734   02-2268-2011  02-2268-0805   3194.0   \n",
       "4436    02-326-1102           NaN      NaN   \n",
       "4603   02-3142-2333           NaN      NaN   \n",
       "4613       27042311      27042377   4158.0   \n",
       "5037    02-320-3110           NaN      NaN   \n",
       "5114   02  508 5811           NaN   6595.0   \n",
       "5286   02  705 8114  02  705 8147   4107.0   \n",
       "5287   02-2128-2561           NaN      NaN   \n",
       "5288   02  705 8114   02-718-2065   4107.0   \n",
       "5319    02-635-5858           NaN      NaN   \n",
       "5394   031-231-3410  031-269-5210  16324.0   \n",
       "5495    02-331-7051   02-331-7015   4027.0   \n",
       "5611    02-985-5032           NaN      NaN   \n",
       "5612   02  761 2060  02  761 6646   7207.0   \n",
       "5613   02-3275-0175           NaN      NaN   \n",
       "5614   02  21322100  02-2132-2110   3925.0   \n",
       "5628   042-612-8001  042-612-8809  34054.0   \n",
       "5629   02-3210-0909           NaN      NaN   \n",
       "5635  070-4194-7488           NaN      NaN   \n",
       "5680    02-320-2276   02-320-2192   4082.0   \n",
       "5682   02-2132-1234           NaN      NaN   \n",
       "5694    02-743-4747           NaN      NaN   \n",
       "5695    02-735-3232           NaN      NaN   \n",
       "5704    02-701-6830           NaN      NaN   \n",
       "5708   02-2015-3555  02-2015-3501   6373.0   \n",
       "5760   051 744 7755  051 731 6660      NaN   \n",
       "5781     7044960092    02 3349110   4002.0   \n",
       "5782  070-5067-0690   02-761-2559   7327.0   \n",
       "5838   02-6010-6105           NaN      NaN   \n",
       "5860    02-734-7070           NaN      NaN   \n",
       "5873      232744846  02  705 8671   4107.0   \n",
       "5906   02-6335-0100           NaN      NaN   \n",
       "\n",
       "                                                    adr  \\\n",
       "1050                            서울 마포구 월드컵로28길 20 (성산동)   \n",
       "3573                              경남 김해시 장유로329번길 36-17   \n",
       "3710             서울특별시 마포구 월드컵북로 400 9층 (상암동,서울산업진흥원빌딩)   \n",
       "3711                                        서울 강서구 공항대로   \n",
       "3712                       서울 마포구 독막로 282 4층 (대흥동,대흥빌딩)   \n",
       "3713                     서울 마포구 양화로11길 12 5층 (서교동,현담빌딩)   \n",
       "3714                  서울특별시 은평구 증산로 403-1 2층 (신사동,복지빌딩)   \n",
       "3715                          서울 마포구 월드컵북로5가길 8-7 (서교동)   \n",
       "3716                                    서울 강남구 테헤란로 222   \n",
       "3717                  서울특별시 마포구 큰우물로 76 413호 (도화동,고려빌딩)   \n",
       "3718                               서울특별시 마포구 월드컵북로6길 36   \n",
       "3719                     서울 마포구 독막로 279 4층 (대흥동,상장회사회관)   \n",
       "3720                                  서울특별시 금천구 가산디지털1로   \n",
       "3721                    서울특별시 마포구 토정로 296 8층 (용강동,이연빌딩)   \n",
       "3722                                    부산 해운대구 센텀서로 39   \n",
       "3723                  서울특별시 마포구 양화로7길 49 3층 (서교동,배아띠빌딩)   \n",
       "3724                                     서울 마포구 만리재로 14   \n",
       "3725       서울 마포구 새창로 7 4층,5층,14층 (도화동,서울대학교 총동창회 장학빌딩)   \n",
       "3726                                    서울 종로구 세종대로 178   \n",
       "3727            서울특별시 마포구 새창로 52 상가 213호 (도화동,도화동현대아파트)   \n",
       "3728                                서울특별시 마포구 성미산로2길 47   \n",
       "3729                                서울 마포구 백범로 88 (대흥동)   \n",
       "3730                서울 마포구 마포대로 163 3층 (공덕동,서울신용보증재단빌딩)   \n",
       "3731                               서울 마포구 와우산로 94 (상수동)   \n",
       "3732                                   서울특별시 마포구 서강로 60   \n",
       "3733                                        서울 마포구 마포대로   \n",
       "3734                                 서울특별시 종로구 청계천로 159   \n",
       "4436                           서울특별시 마포구 월드컵북로 25 (서교동)   \n",
       "4603                          서울특별시 마포구 동교로22길 44 (서교동)   \n",
       "4613                                     서울 마포구 마포대로 49   \n",
       "5037                            서울특별시 마포구 와우산로 94 (상수동)   \n",
       "5114                                  서울 서초구 법원로3길 20-7   \n",
       "5286                                      서울 마포구 백범로 35   \n",
       "5287                            서울특별시 마포구 독막로 320 (도화동)   \n",
       "5288                                      서울 마포구 백범로 35   \n",
       "5319                              서울 마포구 성미산로 120 (연남동)   \n",
       "5394                             경기도 수원시 장안구 하률로12번길 80   \n",
       "5495                                      서울 마포구 양화로 19   \n",
       "5611                  서울 마포구 마포대로 137 15층 (공덕동,케이피엑스빌딩)   \n",
       "5612                                서울특별시 영등포구 양평로25길 8   \n",
       "5613             서울특별시 마포구 독막로 279 상장회사회관 1동 4,5층 (대흥동)   \n",
       "5614                                서울특별시 마포구 월드컵북로 396   \n",
       "5628                                   대전 유성구 유성대로 1548   \n",
       "5629                              서울 마포구 월드컵북로 92 (성산동)   \n",
       "5635                   서울 마포구 월드컵로3길 36 501호 (합정동,상일빌딩)   \n",
       "5680                                         서울 마포구 토정로   \n",
       "5682  서울 마포구 월드컵북로 396, 1층 IT KOREA 전시관 (상암동,누리꿈스퀘어디...   \n",
       "5694                            서울 마포구 월드컵로26길 39 (성산동)   \n",
       "5695                       서울특별시 마포구 성미산로11길 5 5층 (성산동)   \n",
       "5704                     서울 마포구 마포대로 38 801호 (도화동,일신빌딩)   \n",
       "5708                               서울특별시 강남구 자곡로 174-10   \n",
       "5760                                                NaN   \n",
       "5781                                 서울특별시 마포구 월드컵북로5나길   \n",
       "5782                                   서울 영등포구 국제금융로 20   \n",
       "5838                     서울특별시 용산구 한강대로102길 12 4층 (갈월동)   \n",
       "5860                 서울 마포구 마포대로4나길 46, 지하1층 (마포동,덕성빌딩)   \n",
       "5873                                   서울특별시 마포구 백범로 35   \n",
       "5906                 서울특별시 마포구 월드컵북로6길 30 3층 (동교동,신원빌딩)   \n",
       "\n",
       "                              dtlAdr cmpTypNm   cmpSclNm pbcoGbNm   indCd1  \\\n",
       "1050                             NaN       일반  기타(비영리법인)      NaN  71531.0   \n",
       "3573                        1층 (신문동)       일반  기타(비영리법인)     일반기업  42322.0   \n",
       "3710                             NaN       일반  기타(비영리법인)      NaN  94990.0   \n",
       "3711                  36, 302호 (공항동)       일반  기타(비영리법인)     일반기업  94990.0   \n",
       "3712                             NaN       일반  기타(비영리법인)      NaN  94990.0   \n",
       "3713                             NaN       일반  기타(비영리법인)      NaN  94990.0   \n",
       "3714                             NaN       일반  기타(비영리법인)      NaN  94990.0   \n",
       "3715                             NaN       일반  기타(비영리법인)      NaN  94990.0   \n",
       "3716               3층, 4층 (역삼동,도원빌딩)       일반  기타(비영리법인)     일반기업  94990.0   \n",
       "3717                             NaN       일반  기타(비영리법인)      NaN  94990.0   \n",
       "3718                6층 (동교동,함께일하는사회)       일반  기타(비영리법인)     일반기업  94990.0   \n",
       "3719                             NaN       일반  기타(비영리법인)      NaN  94990.0   \n",
       "3720      142, 508호 (가산동,가산더스카이밸리1차)       일반  기타(비영리법인)     일반기업  94990.0   \n",
       "3721                             NaN       일반  기타(비영리법인)      NaN  94990.0   \n",
       "3722                            (우동)       일반  기타(비영리법인)      공기업  94990.0   \n",
       "3723                             NaN       일반  기타(비영리법인)      NaN  94990.0   \n",
       "3724  710호,711호 (공덕동,한국사회복지회관르네상스타워)       일반  기타(비영리법인)     일반기업  94990.0   \n",
       "3725                             NaN       일반  기타(비영리법인)      NaN  94990.0   \n",
       "3726          15층 (세종로,케이티광화문빌딩 웨스트)       일반  기타(비영리법인)     일반기업  94990.0   \n",
       "3727                             NaN       일반  기타(비영리법인)      NaN  94990.0   \n",
       "3728                           (서교동)       일반  기타(비영리법인)     일반기업  94990.0   \n",
       "3729                             NaN       일반  기타(비영리법인)      NaN  94990.0   \n",
       "3730                             NaN       일반  기타(비영리법인)      NaN  94990.0   \n",
       "3731                             NaN       일반  기타(비영리법인)      NaN  94990.0   \n",
       "3732                           (창전동)       일반  기타(비영리법인)     일반기업  94990.0   \n",
       "3733             63-8, 5층 (도화동,삼창빌딩)       일반  기타(비영리법인)     일반기업  94990.0   \n",
       "3734                 510호 (장사동,세운상가)       일반  기타(비영리법인)     일반기업  94990.0   \n",
       "4436                             NaN       일반  기타(비영리법인)      NaN  75999.0   \n",
       "4603                             NaN       일반  기타(비영리법인)      NaN  71310.0   \n",
       "4613                1202호 (도화동,성우빌딩)       일반  기타(비영리법인)     일반기업  71310.0   \n",
       "5037                             NaN       일반  기타(비영리법인)      NaN  71600.0   \n",
       "5114                 2층 (서초동,텔코웨어빌딩)       일반  기타(비영리법인)     일반기업  70121.0   \n",
       "5286                           (신수동)       일반  기타(비영리법인)      공기업  85302.0   \n",
       "5287                             NaN       일반  기타(비영리법인)      NaN  85302.0   \n",
       "5288                           (신수동)       일반  기타(비영리법인)      공기업  85302.0   \n",
       "5319                             NaN       일반  기타(비영리법인)      NaN  85701.0   \n",
       "5394                           (천천동)       일반  기타(비영리법인)     일반기업  70129.0   \n",
       "5495                           (합정동)       일반  기타(비영리법인)     일반기업  87131.0   \n",
       "5611                             NaN       일반  기타(비영리법인)      NaN  94110.0   \n",
       "5612              408호 (양평동5가,어반322)       일반  기타(비영리법인)     일반기업  94110.0   \n",
       "5613                             NaN       일반  기타(비영리법인)      NaN  94110.0   \n",
       "5614         903호 (상암동,누리꿈스퀘어 알엔디타워)       일반  기타(비영리법인)     일반기업  94110.0   \n",
       "5628                           (화암동)       일반  기타(비영리법인)      공기업  70209.0   \n",
       "5629                             NaN       일반  기타(비영리법인)      NaN  70209.0   \n",
       "5635                             NaN       일반  기타(비영리법인)      NaN  70209.0   \n",
       "5680             56, 1 (당인동,서울화력발전소)       외감  기타(비영리법인)     일반기업  35113.0   \n",
       "5682                             NaN       일반  기타(비영리법인)      NaN  68111.0   \n",
       "5694                             NaN       일반  기타(비영리법인)      NaN  94931.0   \n",
       "5695                             NaN       일반  기타(비영리법인)      NaN  94931.0   \n",
       "5704                             NaN       일반  기타(비영리법인)      NaN  84212.0   \n",
       "5708              613호 (자곡동,강남에이스타워)       일반  기타(비영리법인)     일반기업  38110.0   \n",
       "5760                             NaN       일반  기타(비영리법인)     일반기업  85709.0   \n",
       "5781                     9, 2층 (서교동)       일반  기타(비영리법인)     일반기업  70201.0   \n",
       "5782             5층 530호 (여의도동,율촌빌딩)       일반  기타(비영리법인)     일반기업  70201.0   \n",
       "5838                             NaN       일반  기타(비영리법인)      NaN  46102.0   \n",
       "5860                             NaN       일반  기타(비영리법인)      NaN  94939.0   \n",
       "5873                     (신수동,서강대학교)       일반  기타(비영리법인)     일반기업  75919.0   \n",
       "5906                             NaN       일반  기타(비영리법인)      NaN  46419.0   \n",
       "\n",
       "                       indNm indCd1_str                       대분류  \\\n",
       "1050                  경영컨설팅업      71531          전문, 과학 및 기술 서비스업   \n",
       "3573             내부 통신배선 공사업      42322                       건설업   \n",
       "3710          그 외 기타 협회 및 단체      94990  협회 및 단체, 수리 및 기타 개인 서비스업   \n",
       "3711          그 외 기타 협회 및 단체      94990  협회 및 단체, 수리 및 기타 개인 서비스업   \n",
       "3712          그 외 기타 협회 및 단체      94990  협회 및 단체, 수리 및 기타 개인 서비스업   \n",
       "3713          그 외 기타 협회 및 단체      94990  협회 및 단체, 수리 및 기타 개인 서비스업   \n",
       "3714          그 외 기타 협회 및 단체      94990  협회 및 단체, 수리 및 기타 개인 서비스업   \n",
       "3715          그 외 기타 협회 및 단체      94990  협회 및 단체, 수리 및 기타 개인 서비스업   \n",
       "3716          그 외 기타 협회 및 단체      94990  협회 및 단체, 수리 및 기타 개인 서비스업   \n",
       "3717          그 외 기타 협회 및 단체      94990  협회 및 단체, 수리 및 기타 개인 서비스업   \n",
       "3718          그 외 기타 협회 및 단체      94990  협회 및 단체, 수리 및 기타 개인 서비스업   \n",
       "3719          그 외 기타 협회 및 단체      94990  협회 및 단체, 수리 및 기타 개인 서비스업   \n",
       "3720          그 외 기타 협회 및 단체      94990  협회 및 단체, 수리 및 기타 개인 서비스업   \n",
       "3721          그 외 기타 협회 및 단체      94990  협회 및 단체, 수리 및 기타 개인 서비스업   \n",
       "3722          그 외 기타 협회 및 단체      94990  협회 및 단체, 수리 및 기타 개인 서비스업   \n",
       "3723          그 외 기타 협회 및 단체      94990  협회 및 단체, 수리 및 기타 개인 서비스업   \n",
       "3724          그 외 기타 협회 및 단체      94990  협회 및 단체, 수리 및 기타 개인 서비스업   \n",
       "3725          그 외 기타 협회 및 단체      94990  협회 및 단체, 수리 및 기타 개인 서비스업   \n",
       "3726          그 외 기타 협회 및 단체      94990  협회 및 단체, 수리 및 기타 개인 서비스업   \n",
       "3727          그 외 기타 협회 및 단체      94990  협회 및 단체, 수리 및 기타 개인 서비스업   \n",
       "3728          그 외 기타 협회 및 단체      94990  협회 및 단체, 수리 및 기타 개인 서비스업   \n",
       "3729          그 외 기타 협회 및 단체      94990  협회 및 단체, 수리 및 기타 개인 서비스업   \n",
       "3730          그 외 기타 협회 및 단체      94990  협회 및 단체, 수리 및 기타 개인 서비스업   \n",
       "3731          그 외 기타 협회 및 단체      94990  협회 및 단체, 수리 및 기타 개인 서비스업   \n",
       "3732          그 외 기타 협회 및 단체      94990  협회 및 단체, 수리 및 기타 개인 서비스업   \n",
       "3733          그 외 기타 협회 및 단체      94990  협회 및 단체, 수리 및 기타 개인 서비스업   \n",
       "3734          그 외 기타 협회 및 단체      94990  협회 및 단체, 수리 및 기타 개인 서비스업   \n",
       "4436  그 외 기타 분류 안된 사업지원 서비스업      75999  사업시설 관리, 사업 지원 및 임대 서비스업   \n",
       "4603                  광고 대행업      71310          전문, 과학 및 기술 서비스업   \n",
       "4613                  광고 대행업      71310          전문, 과학 및 기술 서비스업   \n",
       "5037              기타 전문 서비스업      71600          전문, 과학 및 기술 서비스업   \n",
       "5114          전기ㆍ전자공학 연구 개발업      70121          전문, 과학 및 기술 서비스업   \n",
       "5286                     대학교      85302                   교육 서비스업   \n",
       "5287                     대학교      85302                   교육 서비스업   \n",
       "5288                     대학교      85302                   교육 서비스업   \n",
       "5319          교육 관련 자문 및 평가업      85701                   교육 서비스업   \n",
       "5394             기타 공학 연구개발업      70129          전문, 과학 및 기술 서비스업   \n",
       "5495    아동 및 부녀자 거주 복지시설 운영업      87131           보건업 및 사회복지 서비스업   \n",
       "5611                   산업 단체      94110  협회 및 단체, 수리 및 기타 개인 서비스업   \n",
       "5612                   산업 단체      94110  협회 및 단체, 수리 및 기타 개인 서비스업   \n",
       "5613                   산업 단체      94110  협회 및 단체, 수리 및 기타 개인 서비스업   \n",
       "5614                   산업 단체      94110  협회 및 단체, 수리 및 기타 개인 서비스업   \n",
       "5628      기타 인문 및 사회과학 연구개발업      70209          전문, 과학 및 기술 서비스업   \n",
       "5629      기타 인문 및 사회과학 연구개발업      70209          전문, 과학 및 기술 서비스업   \n",
       "5635      기타 인문 및 사회과학 연구개발업      70209          전문, 과학 및 기술 서비스업   \n",
       "5680                  화력 발전업      35113    전기, 가스, 증기 및 공기 조절 공급업   \n",
       "5682              주거용 건물 임대업      68111                      부동산업   \n",
       "5694                 환경운동 단체      94931  협회 및 단체, 수리 및 기타 개인 서비스업   \n",
       "5695                 환경운동 단체      94931  협회 및 단체, 수리 및 기타 개인 서비스업   \n",
       "5704              문화 및 관광 행정      84212       공공 행정, 국방 및 사회보장 행정   \n",
       "5708        지정 외 폐기물 수집, 운반업      38110   수도, 하수 및 폐기물 처리, 원료 재생업   \n",
       "5760           기타 교육 지원 서비스업      85709                   교육 서비스업   \n",
       "5781          경제 및 경영학 연구개발업      70201          전문, 과학 및 기술 서비스업   \n",
       "5782          경제 및 경영학 연구개발업      70201          전문, 과학 및 기술 서비스업   \n",
       "5838          음ㆍ식료품 및 담배 중개업      46102                  도매 및 소매업   \n",
       "5860              기타 시민운동 단체      94939  협회 및 단체, 수리 및 기타 개인 서비스업   \n",
       "5873            기타 사무지원 서비스업      75919  사업시설 관리, 사업 지원 및 임대 서비스업   \n",
       "5906    기타 생활용 섬유 및 직물제품 도매업      46419                  도매 및 소매업   \n",
       "\n",
       "                          중분류                  소분류  \\\n",
       "1050                  전문 서비스업  회사 본부 및 경영 컨설팅 서비스업   \n",
       "3573                 전문직별 공사업          전기 및 통신 공사업   \n",
       "3710                  협회 및 단체           기타 협회 및 단체   \n",
       "3711                  협회 및 단체           기타 협회 및 단체   \n",
       "3712                  협회 및 단체           기타 협회 및 단체   \n",
       "3713                  협회 및 단체           기타 협회 및 단체   \n",
       "3714                  협회 및 단체           기타 협회 및 단체   \n",
       "3715                  협회 및 단체           기타 협회 및 단체   \n",
       "3716                  협회 및 단체           기타 협회 및 단체   \n",
       "3717                  협회 및 단체           기타 협회 및 단체   \n",
       "3718                  협회 및 단체           기타 협회 및 단체   \n",
       "3719                  협회 및 단체           기타 협회 및 단체   \n",
       "3720                  협회 및 단체           기타 협회 및 단체   \n",
       "3721                  협회 및 단체           기타 협회 및 단체   \n",
       "3722                  협회 및 단체           기타 협회 및 단체   \n",
       "3723                  협회 및 단체           기타 협회 및 단체   \n",
       "3724                  협회 및 단체           기타 협회 및 단체   \n",
       "3725                  협회 및 단체           기타 협회 및 단체   \n",
       "3726                  협회 및 단체           기타 협회 및 단체   \n",
       "3727                  협회 및 단체           기타 협회 및 단체   \n",
       "3728                  협회 및 단체           기타 협회 및 단체   \n",
       "3729                  협회 및 단체           기타 협회 및 단체   \n",
       "3730                  협회 및 단체           기타 협회 및 단체   \n",
       "3731                  협회 및 단체           기타 협회 및 단체   \n",
       "3732                  협회 및 단체           기타 협회 및 단체   \n",
       "3733                  협회 및 단체           기타 협회 및 단체   \n",
       "3734                  협회 및 단체           기타 협회 및 단체   \n",
       "4436               사업 지원 서비스업        기타 사업 지원 서비스업   \n",
       "4603                  전문 서비스업                  광고업   \n",
       "4613                  전문 서비스업                  광고업   \n",
       "5037                  전문 서비스업           기타 전문 서비스업   \n",
       "5114                    연구개발업      자연과학 및 공학 연구개발업   \n",
       "5286                  교육 서비스업              고등 교육기관   \n",
       "5287                  교육 서비스업              고등 교육기관   \n",
       "5288                  교육 서비스업              고등 교육기관   \n",
       "5319                  교육 서비스업           교육 지원 서비스업   \n",
       "5394                    연구개발업      자연과학 및 공학 연구개발업   \n",
       "5495                사회복지 서비스업          거주 복지시설 운영업   \n",
       "5611                  협회 및 단체          산업 및 전문가 단체   \n",
       "5612                  협회 및 단체          산업 및 전문가 단체   \n",
       "5613                  협회 및 단체          산업 및 전문가 단체   \n",
       "5614                  협회 및 단체          산업 및 전문가 단체   \n",
       "5628                    연구개발업      인문 및 사회과학 연구개발업   \n",
       "5629                    연구개발업      인문 및 사회과학 연구개발업   \n",
       "5635                    연구개발업      인문 및 사회과학 연구개발업   \n",
       "5680   전기, 가스, 증기 및 공기 조절 공급업                  전기업   \n",
       "5682                     부동산업         부동산 임대 및 공급업   \n",
       "5694                  협회 및 단체           기타 협회 및 단체   \n",
       "5695                  협회 및 단체           기타 협회 및 단체   \n",
       "5704      공공 행정, 국방 및 사회보장 행정         사회 및 산업정책 행정   \n",
       "5708  폐기물 수집, 운반, 처리 및 원료 재생업          폐기물 수집, 운반업   \n",
       "5760                  교육 서비스업           교육 지원 서비스업   \n",
       "5781                    연구개발업      인문 및 사회과학 연구개발업   \n",
       "5782                    연구개발업      인문 및 사회과학 연구개발업   \n",
       "5838              도매 및 상품 중개업               상품 중개업   \n",
       "5860                  협회 및 단체           기타 협회 및 단체   \n",
       "5873               사업 지원 서비스업        기타 사업 지원 서비스업   \n",
       "5906              도매 및 상품 중개업             생활용품 도매업   \n",
       "\n",
       "                                   세분류  \n",
       "1050               경영 컨설팅 및 공공 관계 서비스업  \n",
       "3573                            통신 공사업  \n",
       "3710                    그 외 기타 협회 및 단체  \n",
       "3711                    그 외 기타 협회 및 단체  \n",
       "3712                    그 외 기타 협회 및 단체  \n",
       "3713                    그 외 기타 협회 및 단체  \n",
       "3714                    그 외 기타 협회 및 단체  \n",
       "3715                    그 외 기타 협회 및 단체  \n",
       "3716                    그 외 기타 협회 및 단체  \n",
       "3717                    그 외 기타 협회 및 단체  \n",
       "3718                    그 외 기타 협회 및 단체  \n",
       "3719                    그 외 기타 협회 및 단체  \n",
       "3720                    그 외 기타 협회 및 단체  \n",
       "3721                    그 외 기타 협회 및 단체  \n",
       "3722                    그 외 기타 협회 및 단체  \n",
       "3723                    그 외 기타 협회 및 단체  \n",
       "3724                    그 외 기타 협회 및 단체  \n",
       "3725                    그 외 기타 협회 및 단체  \n",
       "3726                    그 외 기타 협회 및 단체  \n",
       "3727                    그 외 기타 협회 및 단체  \n",
       "3728                    그 외 기타 협회 및 단체  \n",
       "3729                    그 외 기타 협회 및 단체  \n",
       "3730                    그 외 기타 협회 및 단체  \n",
       "3731                    그 외 기타 협회 및 단체  \n",
       "3732                    그 외 기타 협회 및 단체  \n",
       "3733                    그 외 기타 협회 및 단체  \n",
       "3734                    그 외 기타 협회 및 단체  \n",
       "4436                 그 외 기타 사업 지원 서비스업  \n",
       "4603                            광고 대행업  \n",
       "4613                            광고 대행업  \n",
       "5037                        기타 전문 서비스업  \n",
       "5114                          공학 연구개발업  \n",
       "5286                           고등 교육기관  \n",
       "5287                           고등 교육기관  \n",
       "5288                           고등 교육기관  \n",
       "5319                        교육 지원 서비스업  \n",
       "5394                          공학 연구개발업  \n",
       "5495                    기타 거주 복지시설 운영업  \n",
       "5611                             산업 단체  \n",
       "5612                             산업 단체  \n",
       "5613                             산업 단체  \n",
       "5614                             산업 단체  \n",
       "5628                   인문 및 사회과학 연구개발업  \n",
       "5629                   인문 및 사회과학 연구개발업  \n",
       "5635                   인문 및 사회과학 연구개발업  \n",
       "5680                               발전업  \n",
       "5682                           부동산 임대업  \n",
       "5694                           시민운동 단체  \n",
       "5695                           시민운동 단체  \n",
       "5704                       사회서비스 관리 행정  \n",
       "5708                  지정 외 폐기물 수집, 운반업  \n",
       "5760                        교육 지원 서비스업  \n",
       "5781                   인문 및 사회과학 연구개발업  \n",
       "5782                   인문 및 사회과학 연구개발업  \n",
       "5838                            상품 중개업  \n",
       "5860                           시민운동 단체  \n",
       "5873                        사무 지원 서비스업  \n",
       "5906  생활용 섬유제품, 의복, 의복 액세서리 및 모피제품 도매업  "
      ]
     },
     "execution_count": 145,
     "metadata": {},
     "output_type": "execute_result"
    }
   ],
   "source": [
    "comp_intro_m1.loc[comp_intro_m1['cmpSclNm'] == '기타(비영리법인)']"
   ]
  },
  {
   "cell_type": "code",
   "execution_count": 146,
   "id": "5f84a101-fdef-4e6b-9431-e6a0be91f996",
   "metadata": {},
   "outputs": [
    {
     "data": {
      "text/html": [
       "<div>\n",
       "<style scoped>\n",
       "    .dataframe tbody tr th:only-of-type {\n",
       "        vertical-align: middle;\n",
       "    }\n",
       "\n",
       "    .dataframe tbody tr th {\n",
       "        vertical-align: top;\n",
       "    }\n",
       "\n",
       "    .dataframe thead th {\n",
       "        text-align: right;\n",
       "    }\n",
       "</style>\n",
       "<table border=\"1\" class=\"dataframe\">\n",
       "  <thead>\n",
       "    <tr style=\"text-align: right;\">\n",
       "      <th></th>\n",
       "      <th>Unnamed: 0</th>\n",
       "      <th>BusinessNum</th>\n",
       "      <th>cmpNm</th>\n",
       "      <th>기업명</th>\n",
       "      <th>ceoNm</th>\n",
       "      <th>telNo</th>\n",
       "      <th>faxTelNo</th>\n",
       "      <th>zip</th>\n",
       "      <th>adr</th>\n",
       "      <th>dtlAdr</th>\n",
       "      <th>cmpTypNm</th>\n",
       "      <th>cmpSclNm</th>\n",
       "      <th>pbcoGbNm</th>\n",
       "      <th>indCd1</th>\n",
       "      <th>indNm</th>\n",
       "      <th>indCd1_str</th>\n",
       "      <th>대분류</th>\n",
       "      <th>중분류</th>\n",
       "      <th>소분류</th>\n",
       "      <th>세분류</th>\n",
       "    </tr>\n",
       "  </thead>\n",
       "  <tbody>\n",
       "    <tr>\n",
       "      <th>4540</th>\n",
       "      <td>373</td>\n",
       "      <td>2068103702</td>\n",
       "      <td>20210818</td>\n",
       "      <td>케이씨에이손해사정***</td>\n",
       "      <td>허**</td>\n",
       "      <td>02  450 2973</td>\n",
       "      <td>02  450 2975</td>\n",
       "      <td>4143.0</td>\n",
       "      <td>서울 마포구 마포대로 137</td>\n",
       "      <td>(공덕동)</td>\n",
       "      <td>외감</td>\n",
       "      <td>대기업(금융)</td>\n",
       "      <td>일반기업</td>\n",
       "      <td>66201.0</td>\n",
       "      <td>손해사정업</td>\n",
       "      <td>66201</td>\n",
       "      <td>금융 및 보험업</td>\n",
       "      <td>금융 및 보험관련 서비스업</td>\n",
       "      <td>보험 및 연금관련 서비스업</td>\n",
       "      <td>보험 및 연금관련 서비스업</td>\n",
       "    </tr>\n",
       "    <tr>\n",
       "      <th>5817</th>\n",
       "      <td>5245</td>\n",
       "      <td>2208702750</td>\n",
       "      <td>20210908</td>\n",
       "      <td>카카오페이증권***</td>\n",
       "      <td>김대홍외***</td>\n",
       "      <td>16008515</td>\n",
       "      <td>02  60998519</td>\n",
       "      <td>13529.0</td>\n",
       "      <td>경기 성남시 분당구 판교역로146번길 20</td>\n",
       "      <td>12층 (백현동,오피스에이치)</td>\n",
       "      <td>외감</td>\n",
       "      <td>대기업(금융)</td>\n",
       "      <td>일반기업</td>\n",
       "      <td>66121.0</td>\n",
       "      <td>증권 중개업</td>\n",
       "      <td>66121</td>\n",
       "      <td>금융 및 보험업</td>\n",
       "      <td>금융 및 보험관련 서비스업</td>\n",
       "      <td>금융 지원 서비스업</td>\n",
       "      <td>증권 및 선물 중개업</td>\n",
       "    </tr>\n",
       "  </tbody>\n",
       "</table>\n",
       "</div>"
      ],
      "text/plain": [
       "      Unnamed: 0  BusinessNum     cmpNm           기업명    ceoNm         telNo  \\\n",
       "4540         373   2068103702  20210818  케이씨에이손해사정***      허**  02  450 2973   \n",
       "5817        5245   2208702750  20210908    카카오페이증권***  김대홍외***      16008515   \n",
       "\n",
       "          faxTelNo      zip                      adr            dtlAdr  \\\n",
       "4540  02  450 2975   4143.0          서울 마포구 마포대로 137             (공덕동)   \n",
       "5817  02  60998519  13529.0  경기 성남시 분당구 판교역로146번길 20  12층 (백현동,오피스에이치)   \n",
       "\n",
       "     cmpTypNm cmpSclNm pbcoGbNm   indCd1   indNm indCd1_str       대분류  \\\n",
       "4540       외감  대기업(금융)     일반기업  66201.0   손해사정업      66201  금융 및 보험업   \n",
       "5817       외감  대기업(금융)     일반기업  66121.0  증권 중개업      66121  금융 및 보험업   \n",
       "\n",
       "                 중분류             소분류             세분류  \n",
       "4540  금융 및 보험관련 서비스업  보험 및 연금관련 서비스업  보험 및 연금관련 서비스업  \n",
       "5817  금융 및 보험관련 서비스업      금융 지원 서비스업     증권 및 선물 중개업  "
      ]
     },
     "execution_count": 146,
     "metadata": {},
     "output_type": "execute_result"
    }
   ],
   "source": [
    "comp_intro_m1.loc[comp_intro_m1['cmpSclNm'] == '대기업(금융)']"
   ]
  },
  {
   "cell_type": "code",
   "execution_count": 18,
   "id": "ada57bf5-ceee-4205-8950-60e2e8666376",
   "metadata": {},
   "outputs": [
    {
     "data": {
      "text/html": [
       "<div>\n",
       "<style scoped>\n",
       "    .dataframe tbody tr th:only-of-type {\n",
       "        vertical-align: middle;\n",
       "    }\n",
       "\n",
       "    .dataframe tbody tr th {\n",
       "        vertical-align: top;\n",
       "    }\n",
       "\n",
       "    .dataframe thead th {\n",
       "        text-align: right;\n",
       "    }\n",
       "</style>\n",
       "<table border=\"1\" class=\"dataframe\">\n",
       "  <thead>\n",
       "    <tr style=\"text-align: right;\">\n",
       "      <th></th>\n",
       "      <th>Unnamed: 0</th>\n",
       "      <th>BusinessNum</th>\n",
       "      <th>cmpNm</th>\n",
       "      <th>기업명</th>\n",
       "      <th>ceoNm</th>\n",
       "      <th>telNo</th>\n",
       "      <th>faxTelNo</th>\n",
       "      <th>zip</th>\n",
       "      <th>adr</th>\n",
       "      <th>dtlAdr</th>\n",
       "      <th>cmpTypNm</th>\n",
       "      <th>cmpSclNm</th>\n",
       "      <th>pbcoGbNm</th>\n",
       "      <th>indCd1</th>\n",
       "      <th>indNm</th>\n",
       "      <th>indCd1_str</th>\n",
       "      <th>대분류</th>\n",
       "      <th>중분류</th>\n",
       "      <th>소분류</th>\n",
       "      <th>세분류</th>\n",
       "    </tr>\n",
       "  </thead>\n",
       "  <tbody>\n",
       "    <tr>\n",
       "      <th>3722</th>\n",
       "      <td>3642</td>\n",
       "      <td>2098206974</td>\n",
       "      <td>20220128</td>\n",
       "      <td>영상물등급***</td>\n",
       "      <td>채**</td>\n",
       "      <td>02  31534300</td>\n",
       "      <td>02  31534337</td>\n",
       "      <td>48058.0</td>\n",
       "      <td>부산 해운대구 센텀서로 39</td>\n",
       "      <td>(우동)</td>\n",
       "      <td>일반</td>\n",
       "      <td>기타(비영리법인)</td>\n",
       "      <td>공기업</td>\n",
       "      <td>94990.0</td>\n",
       "      <td>그 외 기타 협회 및 단체</td>\n",
       "      <td>94990</td>\n",
       "      <td>협회 및 단체, 수리 및 기타 개인 서비스업(94~96)</td>\n",
       "      <td>협회 및 단체</td>\n",
       "      <td>기타 협회 및 단체</td>\n",
       "      <td>그 외 기타 협회 및 단체</td>\n",
       "    </tr>\n",
       "    <tr>\n",
       "      <th>5286</th>\n",
       "      <td>1088</td>\n",
       "      <td>1058201494</td>\n",
       "      <td>20211201</td>\n",
       "      <td>(학)서강***</td>\n",
       "      <td>박**</td>\n",
       "      <td>02  705 8114</td>\n",
       "      <td>02  705 8147</td>\n",
       "      <td>4107.0</td>\n",
       "      <td>서울 마포구 백범로 35</td>\n",
       "      <td>(신수동)</td>\n",
       "      <td>일반</td>\n",
       "      <td>기타(비영리법인)</td>\n",
       "      <td>공기업</td>\n",
       "      <td>85302.0</td>\n",
       "      <td>대학교</td>\n",
       "      <td>85302</td>\n",
       "      <td>교육 서비스업(85)</td>\n",
       "      <td>교육 서비스업</td>\n",
       "      <td>고등 교육기관</td>\n",
       "      <td>고등 교육기관</td>\n",
       "    </tr>\n",
       "    <tr>\n",
       "      <th>5288</th>\n",
       "      <td>5300</td>\n",
       "      <td>1058200553</td>\n",
       "      <td>20211201</td>\n",
       "      <td>서강대**</td>\n",
       "      <td>박**</td>\n",
       "      <td>02  705 8114</td>\n",
       "      <td>02-718-2065</td>\n",
       "      <td>4107.0</td>\n",
       "      <td>서울 마포구 백범로 35</td>\n",
       "      <td>(신수동)</td>\n",
       "      <td>일반</td>\n",
       "      <td>기타(비영리법인)</td>\n",
       "      <td>공기업</td>\n",
       "      <td>85302.0</td>\n",
       "      <td>대학교</td>\n",
       "      <td>85302</td>\n",
       "      <td>교육 서비스업(85)</td>\n",
       "      <td>교육 서비스업</td>\n",
       "      <td>고등 교육기관</td>\n",
       "      <td>고등 교육기관</td>\n",
       "    </tr>\n",
       "    <tr>\n",
       "      <th>5628</th>\n",
       "      <td>2440</td>\n",
       "      <td>6148200106</td>\n",
       "      <td>20211228</td>\n",
       "      <td>정보통신기획***</td>\n",
       "      <td>석**</td>\n",
       "      <td>042-612-8001</td>\n",
       "      <td>042-612-8809</td>\n",
       "      <td>34054.0</td>\n",
       "      <td>대전 유성구 유성대로 1548</td>\n",
       "      <td>(화암동)</td>\n",
       "      <td>일반</td>\n",
       "      <td>기타(비영리법인)</td>\n",
       "      <td>공기업</td>\n",
       "      <td>70209.0</td>\n",
       "      <td>기타 인문 및 사회과학 연구개발업</td>\n",
       "      <td>70209</td>\n",
       "      <td>전문, 과학 및 기술 서비스업(70~73)</td>\n",
       "      <td>연구개발업</td>\n",
       "      <td>인문 및 사회과학 연구개발업</td>\n",
       "      <td>인문 및 사회과학 연구개발업</td>\n",
       "    </tr>\n",
       "  </tbody>\n",
       "</table>\n",
       "</div>"
      ],
      "text/plain": [
       "      Unnamed: 0  BusinessNum     cmpNm        기업명 ceoNm         telNo  \\\n",
       "3722        3642   2098206974  20220128   영상물등급***   채**  02  31534300   \n",
       "5286        1088   1058201494  20211201   (학)서강***   박**  02  705 8114   \n",
       "5288        5300   1058200553  20211201      서강대**   박**  02  705 8114   \n",
       "5628        2440   6148200106  20211228  정보통신기획***   석**  042-612-8001   \n",
       "\n",
       "          faxTelNo      zip               adr dtlAdr cmpTypNm   cmpSclNm  \\\n",
       "3722  02  31534337  48058.0   부산 해운대구 센텀서로 39   (우동)       일반  기타(비영리법인)   \n",
       "5286  02  705 8147   4107.0     서울 마포구 백범로 35  (신수동)       일반  기타(비영리법인)   \n",
       "5288   02-718-2065   4107.0     서울 마포구 백범로 35  (신수동)       일반  기타(비영리법인)   \n",
       "5628  042-612-8809  34054.0  대전 유성구 유성대로 1548  (화암동)       일반  기타(비영리법인)   \n",
       "\n",
       "     pbcoGbNm   indCd1               indNm indCd1_str  \\\n",
       "3722      공기업  94990.0      그 외 기타 협회 및 단체      94990   \n",
       "5286      공기업  85302.0                 대학교      85302   \n",
       "5288      공기업  85302.0                 대학교      85302   \n",
       "5628      공기업  70209.0  기타 인문 및 사회과학 연구개발업      70209   \n",
       "\n",
       "                                  대분류      중분류              소분류  \\\n",
       "3722  협회 및 단체, 수리 및 기타 개인 서비스업(94~96)  협회 및 단체       기타 협회 및 단체   \n",
       "5286                      교육 서비스업(85)  교육 서비스업          고등 교육기관   \n",
       "5288                      교육 서비스업(85)  교육 서비스업          고등 교육기관   \n",
       "5628          전문, 과학 및 기술 서비스업(70~73)    연구개발업  인문 및 사회과학 연구개발업   \n",
       "\n",
       "                  세분류  \n",
       "3722   그 외 기타 협회 및 단체  \n",
       "5286          고등 교육기관  \n",
       "5288          고등 교육기관  \n",
       "5628  인문 및 사회과학 연구개발업  "
      ]
     },
     "execution_count": 18,
     "metadata": {},
     "output_type": "execute_result"
    }
   ],
   "source": [
    "comp_intro_m1.loc[comp_intro_m1['pbcoGbNm'] == '공기업']"
   ]
  },
  {
   "cell_type": "markdown",
   "id": "5a8fe78d-1a13-42cb-92c2-481e2dc5ecfd",
   "metadata": {
    "jp-MarkdownHeadingCollapsed": true
   },
   "source": [
    "# 산업분야별 매출액 대표값 차이 유무"
   ]
  },
  {
   "cell_type": "code",
   "execution_count": 39,
   "id": "372abc99-27f7-4801-8ba2-cd9d1498c052",
   "metadata": {},
   "outputs": [
    {
     "data": {
      "text/html": [
       "<div>\n",
       "<style scoped>\n",
       "    .dataframe tbody tr th:only-of-type {\n",
       "        vertical-align: middle;\n",
       "    }\n",
       "\n",
       "    .dataframe tbody tr th {\n",
       "        vertical-align: top;\n",
       "    }\n",
       "\n",
       "    .dataframe thead th {\n",
       "        text-align: right;\n",
       "    }\n",
       "</style>\n",
       "<table border=\"1\" class=\"dataframe\">\n",
       "  <thead>\n",
       "    <tr style=\"text-align: right;\">\n",
       "      <th></th>\n",
       "      <th>Unnamed: 0</th>\n",
       "      <th>BusinessNum</th>\n",
       "      <th>stYear</th>\n",
       "      <th>stNm</th>\n",
       "      <th>acctCd</th>\n",
       "      <th>accNm</th>\n",
       "      <th>acctAmt</th>\n",
       "    </tr>\n",
       "  </thead>\n",
       "  <tbody>\n",
       "    <tr>\n",
       "      <th>0</th>\n",
       "      <td>0</td>\n",
       "      <td>1051505526</td>\n",
       "      <td>NaN</td>\n",
       "      <td>NaN</td>\n",
       "      <td>NaN</td>\n",
       "      <td>NaN</td>\n",
       "      <td>NaN</td>\n",
       "    </tr>\n",
       "    <tr>\n",
       "      <th>1</th>\n",
       "      <td>1</td>\n",
       "      <td>2118605035</td>\n",
       "      <td>2017.0</td>\n",
       "      <td>재무상태표</td>\n",
       "      <td>M11000</td>\n",
       "      <td>유동자산</td>\n",
       "      <td>9440422.000</td>\n",
       "    </tr>\n",
       "    <tr>\n",
       "      <th>2</th>\n",
       "      <td>2</td>\n",
       "      <td>2118605035</td>\n",
       "      <td>2017.0</td>\n",
       "      <td>재무상태표</td>\n",
       "      <td>M11100</td>\n",
       "      <td>당좌자산</td>\n",
       "      <td>9358829.000</td>\n",
       "    </tr>\n",
       "    <tr>\n",
       "      <th>3</th>\n",
       "      <td>3</td>\n",
       "      <td>2118605035</td>\n",
       "      <td>2017.0</td>\n",
       "      <td>재무상태표</td>\n",
       "      <td>M11130</td>\n",
       "      <td>매출채권</td>\n",
       "      <td>1934474.000</td>\n",
       "    </tr>\n",
       "    <tr>\n",
       "      <th>4</th>\n",
       "      <td>4</td>\n",
       "      <td>2118605035</td>\n",
       "      <td>2017.0</td>\n",
       "      <td>재무상태표</td>\n",
       "      <td>M11500</td>\n",
       "      <td>재고자산</td>\n",
       "      <td>81593.000</td>\n",
       "    </tr>\n",
       "    <tr>\n",
       "      <th>...</th>\n",
       "      <td>...</td>\n",
       "      <td>...</td>\n",
       "      <td>...</td>\n",
       "      <td>...</td>\n",
       "      <td>...</td>\n",
       "      <td>...</td>\n",
       "      <td>...</td>\n",
       "    </tr>\n",
       "    <tr>\n",
       "      <th>888629</th>\n",
       "      <td>888629</td>\n",
       "      <td>6138108916</td>\n",
       "      <td>2021.0</td>\n",
       "      <td>성장성지표</td>\n",
       "      <td>MA1600</td>\n",
       "      <td>매출 증가율</td>\n",
       "      <td>-4.190</td>\n",
       "    </tr>\n",
       "    <tr>\n",
       "      <th>888630</th>\n",
       "      <td>888630</td>\n",
       "      <td>6138108916</td>\n",
       "      <td>2021.0</td>\n",
       "      <td>성장성지표</td>\n",
       "      <td>MA5100</td>\n",
       "      <td>총자산</td>\n",
       "      <td>3618115.000</td>\n",
       "    </tr>\n",
       "    <tr>\n",
       "      <th>888631</th>\n",
       "      <td>888631</td>\n",
       "      <td>6138108916</td>\n",
       "      <td>2021.0</td>\n",
       "      <td>성장성지표</td>\n",
       "      <td>MA5300</td>\n",
       "      <td>자기자본</td>\n",
       "      <td>2511720.000</td>\n",
       "    </tr>\n",
       "    <tr>\n",
       "      <th>888632</th>\n",
       "      <td>888632</td>\n",
       "      <td>6138108916</td>\n",
       "      <td>2021.0</td>\n",
       "      <td>성장성지표</td>\n",
       "      <td>MA5900</td>\n",
       "      <td>차입금</td>\n",
       "      <td>0.000</td>\n",
       "    </tr>\n",
       "    <tr>\n",
       "      <th>888633</th>\n",
       "      <td>888633</td>\n",
       "      <td>6138108916</td>\n",
       "      <td>2021.0</td>\n",
       "      <td>안정성지표</td>\n",
       "      <td>MC1100</td>\n",
       "      <td>유동비율</td>\n",
       "      <td>273.352</td>\n",
       "    </tr>\n",
       "  </tbody>\n",
       "</table>\n",
       "<p>888634 rows × 7 columns</p>\n",
       "</div>"
      ],
      "text/plain": [
       "        Unnamed: 0  BusinessNum  stYear   stNm  acctCd   accNm      acctAmt\n",
       "0                0   1051505526     NaN    NaN     NaN     NaN          NaN\n",
       "1                1   2118605035  2017.0  재무상태표  M11000    유동자산  9440422.000\n",
       "2                2   2118605035  2017.0  재무상태표  M11100    당좌자산  9358829.000\n",
       "3                3   2118605035  2017.0  재무상태표  M11130    매출채권  1934474.000\n",
       "4                4   2118605035  2017.0  재무상태표  M11500    재고자산    81593.000\n",
       "...            ...          ...     ...    ...     ...     ...          ...\n",
       "888629      888629   6138108916  2021.0  성장성지표  MA1600  매출 증가율       -4.190\n",
       "888630      888630   6138108916  2021.0  성장성지표  MA5100     총자산  3618115.000\n",
       "888631      888631   6138108916  2021.0  성장성지표  MA5300    자기자본  2511720.000\n",
       "888632      888632   6138108916  2021.0  성장성지표  MA5900     차입금        0.000\n",
       "888633      888633   6138108916  2021.0  안정성지표  MC1100    유동비율      273.352\n",
       "\n",
       "[888634 rows x 7 columns]"
      ]
     },
     "execution_count": 39,
     "metadata": {},
     "output_type": "execute_result"
    }
   ],
   "source": [
    "comp_finance"
   ]
  },
  {
   "cell_type": "code",
   "execution_count": 23,
   "id": "9a4d79be-7c66-480a-9de9-c97295f8386d",
   "metadata": {},
   "outputs": [],
   "source": [
    "pv1 = comp_finance.pivot_table(index=['BusinessNum','accNm'] , values='acctAmt', aggfunc='mean').reset_index()\n",
    "df_sales = pv1.loc[pv1['accNm'] == '매출액']"
   ]
  },
  {
   "cell_type": "code",
   "execution_count": 24,
   "id": "011bbe2f-64fb-43cd-a877-794312398aa9",
   "metadata": {},
   "outputs": [],
   "source": [
    "comp_intro_m2 = pd.merge(comp_intro_m1, df_sales, on='BusinessNum')"
   ]
  },
  {
   "cell_type": "code",
   "execution_count": 29,
   "id": "df10d735-c27e-43f3-8bce-06480a834a32",
   "metadata": {},
   "outputs": [
    {
     "data": {
      "text/plain": [
       "NormaltestResult(statistic=10592.817202765118, pvalue=0.0)"
      ]
     },
     "execution_count": 29,
     "metadata": {},
     "output_type": "execute_result"
    }
   ],
   "source": [
    "# 귀무가설 : 정규성을 따른다 \n",
    "# 대립가설 : 정규성을 따르지 않는다.\n",
    "stats.normaltest(comp_intro_m2['acctAmt']) # < 0.05 -> 귀무가설 기각"
   ]
  },
  {
   "cell_type": "code",
   "execution_count": 32,
   "id": "8a73d28a-d10f-42fd-ae17-0e10c68c4477",
   "metadata": {},
   "outputs": [
    {
     "data": {
      "text/plain": [
       "KruskalResult(statistic=244.18752631970986, pvalue=3.2036747297560524e-42)"
      ]
     },
     "execution_count": 32,
     "metadata": {},
     "output_type": "execute_result"
    }
   ],
   "source": [
    "# 귀무가설 : 대분류별 중앙값 차이있다\n",
    "# 귀무가설 : 대분류별 중앙값 차이없다\n",
    "grouped_data = [comp_intro_m2[comp_intro_m2['대분류'] == group]['acctAmt'] for group in comp_intro_m2['대분류'].unique()]\n",
    "stats.kruskal(*grouped_data)"
   ]
  },
  {
   "cell_type": "code",
   "execution_count": 33,
   "id": "9bd1015b-39ef-47e7-a8e4-887bd8a97026",
   "metadata": {},
   "outputs": [
    {
     "data": {
      "text/html": [
       "<div>\n",
       "<style scoped>\n",
       "    .dataframe tbody tr th:only-of-type {\n",
       "        vertical-align: middle;\n",
       "    }\n",
       "\n",
       "    .dataframe tbody tr th {\n",
       "        vertical-align: top;\n",
       "    }\n",
       "\n",
       "    .dataframe thead th {\n",
       "        text-align: right;\n",
       "    }\n",
       "</style>\n",
       "<table border=\"1\" class=\"dataframe\">\n",
       "  <thead>\n",
       "    <tr style=\"text-align: right;\">\n",
       "      <th></th>\n",
       "      <th>Unnamed: 0</th>\n",
       "      <th>BusinessNum</th>\n",
       "      <th>stYear</th>\n",
       "      <th>stNm</th>\n",
       "      <th>acctCd</th>\n",
       "      <th>accNm</th>\n",
       "      <th>acctAmt</th>\n",
       "    </tr>\n",
       "  </thead>\n",
       "  <tbody>\n",
       "    <tr>\n",
       "      <th>0</th>\n",
       "      <td>0</td>\n",
       "      <td>1051505526</td>\n",
       "      <td>NaN</td>\n",
       "      <td>NaN</td>\n",
       "      <td>NaN</td>\n",
       "      <td>NaN</td>\n",
       "      <td>NaN</td>\n",
       "    </tr>\n",
       "    <tr>\n",
       "      <th>1</th>\n",
       "      <td>1</td>\n",
       "      <td>2118605035</td>\n",
       "      <td>2017.0</td>\n",
       "      <td>재무상태표</td>\n",
       "      <td>M11000</td>\n",
       "      <td>유동자산</td>\n",
       "      <td>9440422.000</td>\n",
       "    </tr>\n",
       "    <tr>\n",
       "      <th>2</th>\n",
       "      <td>2</td>\n",
       "      <td>2118605035</td>\n",
       "      <td>2017.0</td>\n",
       "      <td>재무상태표</td>\n",
       "      <td>M11100</td>\n",
       "      <td>당좌자산</td>\n",
       "      <td>9358829.000</td>\n",
       "    </tr>\n",
       "    <tr>\n",
       "      <th>3</th>\n",
       "      <td>3</td>\n",
       "      <td>2118605035</td>\n",
       "      <td>2017.0</td>\n",
       "      <td>재무상태표</td>\n",
       "      <td>M11130</td>\n",
       "      <td>매출채권</td>\n",
       "      <td>1934474.000</td>\n",
       "    </tr>\n",
       "    <tr>\n",
       "      <th>4</th>\n",
       "      <td>4</td>\n",
       "      <td>2118605035</td>\n",
       "      <td>2017.0</td>\n",
       "      <td>재무상태표</td>\n",
       "      <td>M11500</td>\n",
       "      <td>재고자산</td>\n",
       "      <td>81593.000</td>\n",
       "    </tr>\n",
       "    <tr>\n",
       "      <th>...</th>\n",
       "      <td>...</td>\n",
       "      <td>...</td>\n",
       "      <td>...</td>\n",
       "      <td>...</td>\n",
       "      <td>...</td>\n",
       "      <td>...</td>\n",
       "      <td>...</td>\n",
       "    </tr>\n",
       "    <tr>\n",
       "      <th>888629</th>\n",
       "      <td>888629</td>\n",
       "      <td>6138108916</td>\n",
       "      <td>2021.0</td>\n",
       "      <td>성장성지표</td>\n",
       "      <td>MA1600</td>\n",
       "      <td>매출 증가율</td>\n",
       "      <td>-4.190</td>\n",
       "    </tr>\n",
       "    <tr>\n",
       "      <th>888630</th>\n",
       "      <td>888630</td>\n",
       "      <td>6138108916</td>\n",
       "      <td>2021.0</td>\n",
       "      <td>성장성지표</td>\n",
       "      <td>MA5100</td>\n",
       "      <td>총자산</td>\n",
       "      <td>3618115.000</td>\n",
       "    </tr>\n",
       "    <tr>\n",
       "      <th>888631</th>\n",
       "      <td>888631</td>\n",
       "      <td>6138108916</td>\n",
       "      <td>2021.0</td>\n",
       "      <td>성장성지표</td>\n",
       "      <td>MA5300</td>\n",
       "      <td>자기자본</td>\n",
       "      <td>2511720.000</td>\n",
       "    </tr>\n",
       "    <tr>\n",
       "      <th>888632</th>\n",
       "      <td>888632</td>\n",
       "      <td>6138108916</td>\n",
       "      <td>2021.0</td>\n",
       "      <td>성장성지표</td>\n",
       "      <td>MA5900</td>\n",
       "      <td>차입금</td>\n",
       "      <td>0.000</td>\n",
       "    </tr>\n",
       "    <tr>\n",
       "      <th>888633</th>\n",
       "      <td>888633</td>\n",
       "      <td>6138108916</td>\n",
       "      <td>2021.0</td>\n",
       "      <td>안정성지표</td>\n",
       "      <td>MC1100</td>\n",
       "      <td>유동비율</td>\n",
       "      <td>273.352</td>\n",
       "    </tr>\n",
       "  </tbody>\n",
       "</table>\n",
       "<p>888634 rows × 7 columns</p>\n",
       "</div>"
      ],
      "text/plain": [
       "        Unnamed: 0  BusinessNum  stYear   stNm  acctCd   accNm      acctAmt\n",
       "0                0   1051505526     NaN    NaN     NaN     NaN          NaN\n",
       "1                1   2118605035  2017.0  재무상태표  M11000    유동자산  9440422.000\n",
       "2                2   2118605035  2017.0  재무상태표  M11100    당좌자산  9358829.000\n",
       "3                3   2118605035  2017.0  재무상태표  M11130    매출채권  1934474.000\n",
       "4                4   2118605035  2017.0  재무상태표  M11500    재고자산    81593.000\n",
       "...            ...          ...     ...    ...     ...     ...          ...\n",
       "888629      888629   6138108916  2021.0  성장성지표  MA1600  매출 증가율       -4.190\n",
       "888630      888630   6138108916  2021.0  성장성지표  MA5100     총자산  3618115.000\n",
       "888631      888631   6138108916  2021.0  성장성지표  MA5300    자기자본  2511720.000\n",
       "888632      888632   6138108916  2021.0  성장성지표  MA5900     차입금        0.000\n",
       "888633      888633   6138108916  2021.0  안정성지표  MC1100    유동비율      273.352\n",
       "\n",
       "[888634 rows x 7 columns]"
      ]
     },
     "execution_count": 33,
     "metadata": {},
     "output_type": "execute_result"
    }
   ],
   "source": [
    "comp_finance"
   ]
  },
  {
   "cell_type": "markdown",
   "id": "4c7f3e90-e04d-4dd9-896c-7f643a7a2278",
   "metadata": {
    "jp-MarkdownHeadingCollapsed": true
   },
   "source": [
    "# 설립연도일 포함된 회사정보"
   ]
  },
  {
   "cell_type": "code",
   "execution_count": 50,
   "id": "acb88f1a-9468-424e-a75b-9366f012d8a8",
   "metadata": {},
   "outputs": [
    {
     "name": "stdout",
     "output_type": "stream",
     "text": [
      "<class 'pandas.core.frame.DataFrame'>\n",
      "RangeIndex: 9881 entries, 0 to 9880\n",
      "Data columns (total 20 columns):\n",
      " #   Column      Non-Null Count  Dtype  \n",
      "---  ------      --------------  -----  \n",
      " 0   Unnamed: 0  9881 non-null   int64  \n",
      " 1   사업자등록번호     9881 non-null   int64  \n",
      " 2   Unnamed: 2  0 non-null      float64\n",
      " 3   기업명         9881 non-null   object \n",
      " 4   기업영문명       8998 non-null   object \n",
      " 5   대표자명        9881 non-null   object \n",
      " 6   종업원수        9274 non-null   float64\n",
      " 7   종업원수기준년월    9217 non-null   object \n",
      " 8   산업분류코드      9851 non-null   float64\n",
      " 9   산업분류코드설명    9849 non-null   object \n",
      " 10  기업규모        9881 non-null   object \n",
      " 11  기업형태        9881 non-null   object \n",
      " 12  업태명         8658 non-null   object \n",
      " 13  설립일         9412 non-null   float64\n",
      " 14  이메일주소       4076 non-null   object \n",
      " 15  전화번호        9330 non-null   object \n",
      " 16  팩스전화번호      7868 non-null   object \n",
      " 17  우편번호        9011 non-null   float64\n",
      " 18  주소          9797 non-null   object \n",
      " 19  상세주보        9157 non-null   object \n",
      "dtypes: float64(5), int64(2), object(13)\n",
      "memory usage: 1.5+ MB\n"
     ]
    }
   ],
   "source": [
    "comp_spe_intro.info()"
   ]
  },
  {
   "cell_type": "code",
   "execution_count": 51,
   "id": "130aab39-c47b-44a8-bc31-314e1963841f",
   "metadata": {},
   "outputs": [
    {
     "data": {
      "text/html": [
       "<div>\n",
       "<style scoped>\n",
       "    .dataframe tbody tr th:only-of-type {\n",
       "        vertical-align: middle;\n",
       "    }\n",
       "\n",
       "    .dataframe tbody tr th {\n",
       "        vertical-align: top;\n",
       "    }\n",
       "\n",
       "    .dataframe thead th {\n",
       "        text-align: right;\n",
       "    }\n",
       "</style>\n",
       "<table border=\"1\" class=\"dataframe\">\n",
       "  <thead>\n",
       "    <tr style=\"text-align: right;\">\n",
       "      <th></th>\n",
       "      <th>Unnamed: 0</th>\n",
       "      <th>사업자등록번호</th>\n",
       "      <th>Unnamed: 2</th>\n",
       "      <th>기업명</th>\n",
       "      <th>기업영문명</th>\n",
       "      <th>대표자명</th>\n",
       "      <th>종업원수</th>\n",
       "      <th>종업원수기준년월</th>\n",
       "      <th>산업분류코드</th>\n",
       "      <th>산업분류코드설명</th>\n",
       "      <th>기업규모</th>\n",
       "      <th>기업형태</th>\n",
       "      <th>업태명</th>\n",
       "      <th>설립일</th>\n",
       "      <th>이메일주소</th>\n",
       "      <th>전화번호</th>\n",
       "      <th>팩스전화번호</th>\n",
       "      <th>우편번호</th>\n",
       "      <th>주소</th>\n",
       "      <th>상세주보</th>\n",
       "    </tr>\n",
       "  </thead>\n",
       "  <tbody>\n",
       "    <tr>\n",
       "      <th>0</th>\n",
       "      <td>0</td>\n",
       "      <td>1050508965</td>\n",
       "      <td>NaN</td>\n",
       "      <td>크린토**</td>\n",
       "      <td>Cleanto***</td>\n",
       "      <td>강**</td>\n",
       "      <td>NaN</td>\n",
       "      <td>NaN</td>\n",
       "      <td>96910.0</td>\n",
       "      <td>세탁업</td>\n",
       "      <td>중소기업</td>\n",
       "      <td>폐업</td>\n",
       "      <td>기타서비스업</td>\n",
       "      <td>NaN</td>\n",
       "      <td>NaN</td>\n",
       "      <td>NaN</td>\n",
       "      <td>NaN</td>\n",
       "      <td>3998.0</td>\n",
       "      <td>서울 마포구 동교로17길</td>\n",
       "      <td>91, 1층 (성산동)</td>\n",
       "    </tr>\n",
       "    <tr>\n",
       "      <th>1</th>\n",
       "      <td>1</td>\n",
       "      <td>1010204456</td>\n",
       "      <td>NaN</td>\n",
       "      <td>씨앤피비즈***</td>\n",
       "      <td>C&amp;P BIZ SOLUT***</td>\n",
       "      <td>함**</td>\n",
       "      <td>5.0</td>\n",
       "      <td>Jun-21</td>\n",
       "      <td>46510.0</td>\n",
       "      <td>컴퓨터 및 주변장치, 소프트웨어 도매업</td>\n",
       "      <td>중소기업</td>\n",
       "      <td>일반</td>\n",
       "      <td>도소매/서비스/소매/제조업/통신업</td>\n",
       "      <td>20000414.0</td>\n",
       "      <td>djham29@hanmail.net</td>\n",
       "      <td>02-334-0349</td>\n",
       "      <td>02-338-0349</td>\n",
       "      <td>3966.0</td>\n",
       "      <td>서울 마포구 월드컵북로 137</td>\n",
       "      <td>(성산동,C.S타워 B3호)</td>\n",
       "    </tr>\n",
       "    <tr>\n",
       "      <th>2</th>\n",
       "      <td>2</td>\n",
       "      <td>1048107174</td>\n",
       "      <td>NaN</td>\n",
       "      <td>(주)씨트랜***</td>\n",
       "      <td>SEATRANS SHIPPING CO.,***</td>\n",
       "      <td>주**</td>\n",
       "      <td>12.0</td>\n",
       "      <td>Dec-20</td>\n",
       "      <td>50130.0</td>\n",
       "      <td>기타 해상 운송업</td>\n",
       "      <td>중소기업</td>\n",
       "      <td>일반</td>\n",
       "      <td>도매업/서비스</td>\n",
       "      <td>20010222.0</td>\n",
       "      <td>NaN</td>\n",
       "      <td>02-322-4890</td>\n",
       "      <td>02-322-4891</td>\n",
       "      <td>4031.0</td>\n",
       "      <td>서울 마포구 월드컵북로1길 26-16</td>\n",
       "      <td>2층 (서교동,G-Art)</td>\n",
       "    </tr>\n",
       "    <tr>\n",
       "      <th>3</th>\n",
       "      <td>3</td>\n",
       "      <td>1018102731</td>\n",
       "      <td>NaN</td>\n",
       "      <td>(주)파***</td>\n",
       "      <td>Power PT Co., L***</td>\n",
       "      <td>이**</td>\n",
       "      <td>18.0</td>\n",
       "      <td>Mar-19</td>\n",
       "      <td>73203.0</td>\n",
       "      <td>시각 디자인업</td>\n",
       "      <td>중소기업</td>\n",
       "      <td>일반</td>\n",
       "      <td>서비스외</td>\n",
       "      <td>20030909.0</td>\n",
       "      <td>account@powerpt.co.kr</td>\n",
       "      <td>02  733 8209</td>\n",
       "      <td>02  733 8205</td>\n",
       "      <td>4172.0</td>\n",
       "      <td>서울 마포구 삼개로 27</td>\n",
       "      <td>2층 (도화동)</td>\n",
       "    </tr>\n",
       "    <tr>\n",
       "      <th>4</th>\n",
       "      <td>4</td>\n",
       "      <td>1018606595</td>\n",
       "      <td>NaN</td>\n",
       "      <td>(주)에이치제이디벨***</td>\n",
       "      <td>HJ Development Co., L***</td>\n",
       "      <td>홍**</td>\n",
       "      <td>3.0</td>\n",
       "      <td>Dec-20</td>\n",
       "      <td>68122.0</td>\n",
       "      <td>비주거용 건물 개발 및 공급업</td>\n",
       "      <td>중소기업</td>\n",
       "      <td>외감</td>\n",
       "      <td>서비스 외</td>\n",
       "      <td>20090520.0</td>\n",
       "      <td>NaN</td>\n",
       "      <td>02  718 7844</td>\n",
       "      <td>02  721 5550</td>\n",
       "      <td>4174.0</td>\n",
       "      <td>서울특별시 마포구 마포대로 34</td>\n",
       "      <td>(도화동)</td>\n",
       "    </tr>\n",
       "    <tr>\n",
       "      <th>5</th>\n",
       "      <td>5</td>\n",
       "      <td>1018609361</td>\n",
       "      <td>NaN</td>\n",
       "      <td>(주)제인디엠씨***</td>\n",
       "      <td>JaneDMC Korea Co., L***</td>\n",
       "      <td>한**</td>\n",
       "      <td>19.0</td>\n",
       "      <td>Apr-20</td>\n",
       "      <td>75210.0</td>\n",
       "      <td>여행사업</td>\n",
       "      <td>중소기업</td>\n",
       "      <td>일반</td>\n",
       "      <td>도매/도매 및 소매업/사업시설관리 및 사업지원서비스업/서비스/전문, 과학 및 기술서비스업</td>\n",
       "      <td>20060103.0</td>\n",
       "      <td>darling@janetour.com</td>\n",
       "      <td>02  720 7506</td>\n",
       "      <td>02  720 7502</td>\n",
       "      <td>4209.0</td>\n",
       "      <td>서울특별시 마포구 만리재로 51</td>\n",
       "      <td>4층 (신공덕동)</td>\n",
       "    </tr>\n",
       "    <tr>\n",
       "      <th>6</th>\n",
       "      <td>6</td>\n",
       "      <td>1018606703</td>\n",
       "      <td>NaN</td>\n",
       "      <td>(주)에포크미디어***</td>\n",
       "      <td>Epoch Media Korea I***</td>\n",
       "      <td>정**</td>\n",
       "      <td>18.0</td>\n",
       "      <td>Dec-21</td>\n",
       "      <td>59120.0</td>\n",
       "      <td>영화, 비디오물 및 방송 프로그램 제작 관련 서비스업</td>\n",
       "      <td>중소기업</td>\n",
       "      <td>일반</td>\n",
       "      <td>서비스/정보통신업</td>\n",
       "      <td>20130424.0</td>\n",
       "      <td>NaN</td>\n",
       "      <td>02-732-8608</td>\n",
       "      <td>02-732-8609</td>\n",
       "      <td>4146.0</td>\n",
       "      <td>서울 마포구 마포대로 109</td>\n",
       "      <td>N동 34층 3403호 (공덕동,롯데캐슬프레지던트)</td>\n",
       "    </tr>\n",
       "    <tr>\n",
       "      <th>7</th>\n",
       "      <td>7</td>\n",
       "      <td>1048106371</td>\n",
       "      <td>NaN</td>\n",
       "      <td>(주)래딕스글***</td>\n",
       "      <td>RADIXGLOBIZ CO.,L***</td>\n",
       "      <td>조**</td>\n",
       "      <td>25.0</td>\n",
       "      <td>Jun-21</td>\n",
       "      <td>46320.0</td>\n",
       "      <td>가공식품 도매업</td>\n",
       "      <td>중소기업</td>\n",
       "      <td>일반</td>\n",
       "      <td>도．소매/도매/부동산/서비스</td>\n",
       "      <td>19970801.0</td>\n",
       "      <td>jwjung@theradix.co.kr</td>\n",
       "      <td>02-706-8715</td>\n",
       "      <td>02-737-2077</td>\n",
       "      <td>4168.0</td>\n",
       "      <td>서울 마포구 마포대로 86</td>\n",
       "      <td>8층 (도화동,창강빌딩)</td>\n",
       "    </tr>\n",
       "    <tr>\n",
       "      <th>8</th>\n",
       "      <td>8</td>\n",
       "      <td>1048104500</td>\n",
       "      <td>NaN</td>\n",
       "      <td>아라마크***</td>\n",
       "      <td>Aramark Co., L***</td>\n",
       "      <td>심성호외***</td>\n",
       "      <td>789.0</td>\n",
       "      <td>Mar-21</td>\n",
       "      <td>56130.0</td>\n",
       "      <td>기관 구내식당업</td>\n",
       "      <td>중견기업</td>\n",
       "      <td>외감</td>\n",
       "      <td>도매/소매/음식</td>\n",
       "      <td>19930701.0</td>\n",
       "      <td>hong-sh@arakor.co.kr</td>\n",
       "      <td>02  32788000</td>\n",
       "      <td>02  778 9380</td>\n",
       "      <td>4143.0</td>\n",
       "      <td>서울 마포구 마포대로 137</td>\n",
       "      <td>8층 (공덕동)</td>\n",
       "    </tr>\n",
       "    <tr>\n",
       "      <th>9</th>\n",
       "      <td>9</td>\n",
       "      <td>1010109319</td>\n",
       "      <td>NaN</td>\n",
       "      <td>드림오**</td>\n",
       "      <td>dream off***</td>\n",
       "      <td>박**</td>\n",
       "      <td>1.0</td>\n",
       "      <td>Jun-20</td>\n",
       "      <td>46800.0</td>\n",
       "      <td>상품 종합 도매업</td>\n",
       "      <td>중소기업</td>\n",
       "      <td>일반</td>\n",
       "      <td>도매,소매</td>\n",
       "      <td>20020501.0</td>\n",
       "      <td>NaN</td>\n",
       "      <td>02 336 5351</td>\n",
       "      <td>02 336 5344</td>\n",
       "      <td>4030.0</td>\n",
       "      <td>서울 마포구 동교로 150</td>\n",
       "      <td>(서교동)</td>\n",
       "    </tr>\n",
       "  </tbody>\n",
       "</table>\n",
       "</div>"
      ],
      "text/plain": [
       "   Unnamed: 0     사업자등록번호  Unnamed: 2            기업명  \\\n",
       "0           0  1050508965         NaN          크린토**   \n",
       "1           1  1010204456         NaN       씨앤피비즈***   \n",
       "2           2  1048107174         NaN      (주)씨트랜***   \n",
       "3           3  1018102731         NaN        (주)파***   \n",
       "4           4  1018606595         NaN  (주)에이치제이디벨***   \n",
       "5           5  1018609361         NaN    (주)제인디엠씨***   \n",
       "6           6  1018606703         NaN   (주)에포크미디어***   \n",
       "7           7  1048106371         NaN     (주)래딕스글***   \n",
       "8           8  1048104500         NaN        아라마크***   \n",
       "9           9  1010109319         NaN          드림오**   \n",
       "\n",
       "                       기업영문명     대표자명   종업원수 종업원수기준년월   산업분류코드  \\\n",
       "0                 Cleanto***      강**    NaN      NaN  96910.0   \n",
       "1           C&P BIZ SOLUT***      함**    5.0   Jun-21  46510.0   \n",
       "2  SEATRANS SHIPPING CO.,***      주**   12.0   Dec-20  50130.0   \n",
       "3         Power PT Co., L***      이**   18.0   Mar-19  73203.0   \n",
       "4   HJ Development Co., L***      홍**    3.0   Dec-20  68122.0   \n",
       "5    JaneDMC Korea Co., L***      한**   19.0   Apr-20  75210.0   \n",
       "6     Epoch Media Korea I***      정**   18.0   Dec-21  59120.0   \n",
       "7       RADIXGLOBIZ CO.,L***      조**   25.0   Jun-21  46320.0   \n",
       "8          Aramark Co., L***  심성호외***  789.0   Mar-21  56130.0   \n",
       "9               dream off***      박**    1.0   Jun-20  46800.0   \n",
       "\n",
       "                        산업분류코드설명  기업규모 기업형태  \\\n",
       "0                            세탁업  중소기업   폐업   \n",
       "1          컴퓨터 및 주변장치, 소프트웨어 도매업  중소기업   일반   \n",
       "2                      기타 해상 운송업  중소기업   일반   \n",
       "3                        시각 디자인업  중소기업   일반   \n",
       "4               비주거용 건물 개발 및 공급업  중소기업   외감   \n",
       "5                           여행사업  중소기업   일반   \n",
       "6  영화, 비디오물 및 방송 프로그램 제작 관련 서비스업  중소기업   일반   \n",
       "7                       가공식품 도매업  중소기업   일반   \n",
       "8                       기관 구내식당업  중견기업   외감   \n",
       "9                      상품 종합 도매업  중소기업   일반   \n",
       "\n",
       "                                                 업태명         설립일  \\\n",
       "0                                             기타서비스업         NaN   \n",
       "1                                 도소매/서비스/소매/제조업/통신업  20000414.0   \n",
       "2                                            도매업/서비스  20010222.0   \n",
       "3                                               서비스외  20030909.0   \n",
       "4                                              서비스 외  20090520.0   \n",
       "5  도매/도매 및 소매업/사업시설관리 및 사업지원서비스업/서비스/전문, 과학 및 기술서비스업  20060103.0   \n",
       "6                                          서비스/정보통신업  20130424.0   \n",
       "7                                    도．소매/도매/부동산/서비스  19970801.0   \n",
       "8                                           도매/소매/음식  19930701.0   \n",
       "9                                              도매,소매  20020501.0   \n",
       "\n",
       "                   이메일주소          전화번호        팩스전화번호    우편번호  \\\n",
       "0                    NaN           NaN           NaN  3998.0   \n",
       "1    djham29@hanmail.net   02-334-0349   02-338-0349  3966.0   \n",
       "2                    NaN   02-322-4890   02-322-4891  4031.0   \n",
       "3  account@powerpt.co.kr  02  733 8209  02  733 8205  4172.0   \n",
       "4                    NaN  02  718 7844  02  721 5550  4174.0   \n",
       "5   darling@janetour.com  02  720 7506  02  720 7502  4209.0   \n",
       "6                    NaN   02-732-8608   02-732-8609  4146.0   \n",
       "7  jwjung@theradix.co.kr   02-706-8715   02-737-2077  4168.0   \n",
       "8   hong-sh@arakor.co.kr  02  32788000  02  778 9380  4143.0   \n",
       "9                    NaN   02 336 5351   02 336 5344  4030.0   \n",
       "\n",
       "                     주소                          상세주보  \n",
       "0         서울 마포구 동교로17길                  91, 1층 (성산동)  \n",
       "1      서울 마포구 월드컵북로 137               (성산동,C.S타워 B3호)  \n",
       "2  서울 마포구 월드컵북로1길 26-16                2층 (서교동,G-Art)  \n",
       "3         서울 마포구 삼개로 27                      2층 (도화동)  \n",
       "4     서울특별시 마포구 마포대로 34                         (도화동)  \n",
       "5     서울특별시 마포구 만리재로 51                     4층 (신공덕동)  \n",
       "6       서울 마포구 마포대로 109  N동 34층 3403호 (공덕동,롯데캐슬프레지던트)  \n",
       "7        서울 마포구 마포대로 86                 8층 (도화동,창강빌딩)  \n",
       "8       서울 마포구 마포대로 137                      8층 (공덕동)  \n",
       "9        서울 마포구 동교로 150                         (서교동)  "
      ]
     },
     "execution_count": 51,
     "metadata": {},
     "output_type": "execute_result"
    }
   ],
   "source": [
    "comp_spe_intro.head(10)"
   ]
  },
  {
   "cell_type": "code",
   "execution_count": 48,
   "id": "ad3fa1d9-5a90-4531-bd54-939cafaf9e1a",
   "metadata": {},
   "outputs": [
    {
     "ename": "NameError",
     "evalue": "name 'dot_split' is not defined",
     "output_type": "error",
     "traceback": [
      "\u001b[1;31m---------------------------------------------------------------------------\u001b[0m",
      "\u001b[1;31mNameError\u001b[0m                                 Traceback (most recent call last)",
      "\u001b[1;32m~\\AppData\\Local\\Temp\\ipykernel_25720\\2887491797.py\u001b[0m in \u001b[0;36m<module>\u001b[1;34m\u001b[0m\n\u001b[1;32m----> 1\u001b[1;33m \u001b[0mcomp_spe_intro\u001b[0m\u001b[1;33m[\u001b[0m\u001b[1;34m'설립일_dt'\u001b[0m\u001b[1;33m]\u001b[0m \u001b[1;33m=\u001b[0m \u001b[0mpd\u001b[0m\u001b[1;33m.\u001b[0m\u001b[0mto_datetime\u001b[0m\u001b[1;33m(\u001b[0m\u001b[0mcomp_spe_intro\u001b[0m\u001b[1;33m[\u001b[0m\u001b[1;34m'설립일'\u001b[0m\u001b[1;33m]\u001b[0m\u001b[1;33m.\u001b[0m\u001b[0mapply\u001b[0m\u001b[1;33m(\u001b[0m\u001b[0mdot_split\u001b[0m\u001b[1;33m)\u001b[0m\u001b[1;33m)\u001b[0m\u001b[1;33m\u001b[0m\u001b[1;33m\u001b[0m\u001b[0m\n\u001b[0m\u001b[0;32m      2\u001b[0m \u001b[0mcomp_spe_intro\u001b[0m\u001b[1;33m[\u001b[0m\u001b[1;34m'설립일_year'\u001b[0m\u001b[1;33m]\u001b[0m \u001b[1;33m=\u001b[0m \u001b[0mcomp_spe_intro\u001b[0m\u001b[1;33m[\u001b[0m\u001b[1;34m'설립일_dt'\u001b[0m\u001b[1;33m]\u001b[0m\u001b[1;33m.\u001b[0m\u001b[0mdt\u001b[0m\u001b[1;33m.\u001b[0m\u001b[0myear\u001b[0m\u001b[1;33m\u001b[0m\u001b[1;33m\u001b[0m\u001b[0m\n",
      "\u001b[1;31mNameError\u001b[0m: name 'dot_split' is not defined"
     ]
    }
   ],
   "source": [
    "comp_spe_intro['설립일_dt'] = pd.to_datetime(comp_spe_intro['설립일'].apply(dot_split))\n",
    "comp_spe_intro['설립일_year'] = comp_spe_intro['설립일_dt'].dt.year"
   ]
  },
  {
   "cell_type": "code",
   "execution_count": 52,
   "id": "4d251c54-d600-4fd6-b758-f6982787a7d7",
   "metadata": {},
   "outputs": [],
   "source": [
    "comp_spe_intro['산업분류코드'] = comp_spe_intro['산업분류코드'].apply(dot_split)"
   ]
  },
  {
   "cell_type": "code",
   "execution_count": 72,
   "id": "43ea13ae-8b34-4c48-b628-c08302467afd",
   "metadata": {},
   "outputs": [
    {
     "name": "stdout",
     "output_type": "stream",
     "text": [
      "<class 'pandas.core.frame.DataFrame'>\n",
      "RangeIndex: 7490 entries, 0 to 7489\n",
      "Data columns (total 27 columns):\n",
      " #   Column      Non-Null Count  Dtype         \n",
      "---  ------      --------------  -----         \n",
      " 0   Unnamed: 0  7490 non-null   int64         \n",
      " 1   사업자등록번호     7490 non-null   int64         \n",
      " 2   Unnamed: 2  0 non-null      float64       \n",
      " 3   기업명         7490 non-null   object        \n",
      " 4   기업영문명       6846 non-null   object        \n",
      " 5   대표자명        7490 non-null   object        \n",
      " 6   종업원수        7116 non-null   float64       \n",
      " 7   종업원수기준년월    7074 non-null   object        \n",
      " 8   산업분류코드      7490 non-null   object        \n",
      " 9   산업분류코드설명    7489 non-null   object        \n",
      " 10  기업규모        7490 non-null   object        \n",
      " 11  기업형태        7490 non-null   object        \n",
      " 12  업태명         6348 non-null   object        \n",
      " 13  설립일         7248 non-null   float64       \n",
      " 14  이메일주소       2945 non-null   object        \n",
      " 15  전화번호        7099 non-null   object        \n",
      " 16  팩스전화번호      5999 non-null   object        \n",
      " 17  우편번호        6898 non-null   float64       \n",
      " 18  주소          7447 non-null   object        \n",
      " 19  상세주보        7010 non-null   object        \n",
      " 20  설립일_dt      7248 non-null   datetime64[ns]\n",
      " 21  설립일_year    7248 non-null   float64       \n",
      " 22  대분류         7490 non-null   object        \n",
      " 23  중분류         7490 non-null   object        \n",
      " 24  소분류         7490 non-null   object        \n",
      " 25  세분류         7490 non-null   object        \n",
      " 26  indCd1_str  7490 non-null   object        \n",
      "dtypes: datetime64[ns](1), float64(5), int64(2), object(19)\n",
      "memory usage: 1.5+ MB\n"
     ]
    }
   ],
   "source": [
    "comp_spe_intro = pd.merge(comp_spe_intro,df_industry_small,left_on='산업분류코드', right_on='indCd1_str')\n",
    "comp_spe_intro.info()"
   ]
  },
  {
   "cell_type": "code",
   "execution_count": 48,
   "id": "16e187ae-108c-4f7b-8af3-1a9da8bf517d",
   "metadata": {},
   "outputs": [
    {
     "name": "stdout",
     "output_type": "stream",
     "text": [
      "<class 'pandas.core.frame.DataFrame'>\n",
      "RangeIndex: 7490 entries, 0 to 7489\n",
      "Data columns (total 27 columns):\n",
      " #   Column      Non-Null Count  Dtype         \n",
      "---  ------      --------------  -----         \n",
      " 0   Unnamed: 0  7490 non-null   int64         \n",
      " 1   사업자등록번호     7490 non-null   int64         \n",
      " 2   Unnamed: 2  0 non-null      float64       \n",
      " 3   기업명         7490 non-null   object        \n",
      " 4   기업영문명       6846 non-null   object        \n",
      " 5   대표자명        7490 non-null   object        \n",
      " 6   종업원수        7116 non-null   float64       \n",
      " 7   종업원수기준년월    7074 non-null   object        \n",
      " 8   산업분류코드      7490 non-null   object        \n",
      " 9   산업분류코드설명    7489 non-null   object        \n",
      " 10  기업규모        7490 non-null   object        \n",
      " 11  기업형태        7490 non-null   object        \n",
      " 12  업태명         6348 non-null   object        \n",
      " 13  설립일         7248 non-null   float64       \n",
      " 14  이메일주소       2945 non-null   object        \n",
      " 15  전화번호        7099 non-null   object        \n",
      " 16  팩스전화번호      5999 non-null   object        \n",
      " 17  우편번호        6898 non-null   float64       \n",
      " 18  주소          7447 non-null   object        \n",
      " 19  상세주보        7010 non-null   object        \n",
      " 20  설립일_dt      7248 non-null   datetime64[ns]\n",
      " 21  설립일_year    7248 non-null   float64       \n",
      " 22  대분류         7490 non-null   object        \n",
      " 23  중분류         7490 non-null   object        \n",
      " 24  소분류         7490 non-null   object        \n",
      " 25  세분류         7490 non-null   object        \n",
      " 26  indCd1_str  7490 non-null   object        \n",
      "dtypes: datetime64[ns](1), float64(5), int64(2), object(19)\n",
      "memory usage: 1.5+ MB\n"
     ]
    }
   ],
   "source": [
    "m1.info()"
   ]
  },
  {
   "cell_type": "code",
   "execution_count": 49,
   "id": "2c8d5506-2931-46d7-a2b5-2cb79a67c378",
   "metadata": {},
   "outputs": [
    {
     "data": {
      "text/html": [
       "<div>\n",
       "<style scoped>\n",
       "    .dataframe tbody tr th:only-of-type {\n",
       "        vertical-align: middle;\n",
       "    }\n",
       "\n",
       "    .dataframe tbody tr th {\n",
       "        vertical-align: top;\n",
       "    }\n",
       "\n",
       "    .dataframe thead th {\n",
       "        text-align: right;\n",
       "    }\n",
       "</style>\n",
       "<table border=\"1\" class=\"dataframe\">\n",
       "  <thead>\n",
       "    <tr style=\"text-align: right;\">\n",
       "      <th></th>\n",
       "      <th>Unnamed: 0</th>\n",
       "      <th>사업자등록번호</th>\n",
       "      <th>Unnamed: 2</th>\n",
       "      <th>기업명</th>\n",
       "      <th>기업영문명</th>\n",
       "      <th>대표자명</th>\n",
       "      <th>종업원수</th>\n",
       "      <th>종업원수기준년월</th>\n",
       "      <th>산업분류코드</th>\n",
       "      <th>산업분류코드설명</th>\n",
       "      <th>...</th>\n",
       "      <th>우편번호</th>\n",
       "      <th>주소</th>\n",
       "      <th>상세주보</th>\n",
       "      <th>설립일_dt</th>\n",
       "      <th>설립일_year</th>\n",
       "      <th>대분류</th>\n",
       "      <th>중분류</th>\n",
       "      <th>소분류</th>\n",
       "      <th>세분류</th>\n",
       "      <th>indCd1_str</th>\n",
       "    </tr>\n",
       "  </thead>\n",
       "  <tbody>\n",
       "    <tr>\n",
       "      <th>0</th>\n",
       "      <td>1</td>\n",
       "      <td>1010204456</td>\n",
       "      <td>NaN</td>\n",
       "      <td>씨앤피비즈***</td>\n",
       "      <td>C&amp;P BIZ SOLUT***</td>\n",
       "      <td>함**</td>\n",
       "      <td>5.0</td>\n",
       "      <td>Jun-21</td>\n",
       "      <td>46510</td>\n",
       "      <td>컴퓨터 및 주변장치, 소프트웨어 도매업</td>\n",
       "      <td>...</td>\n",
       "      <td>3966.0</td>\n",
       "      <td>서울 마포구 월드컵북로 137</td>\n",
       "      <td>(성산동,C.S타워 B3호)</td>\n",
       "      <td>2000-04-14</td>\n",
       "      <td>2000.0</td>\n",
       "      <td>도매 및 소매업</td>\n",
       "      <td>도매 및 상품 중개업</td>\n",
       "      <td>기계장비 및 관련 물품 도매업</td>\n",
       "      <td>컴퓨터 및 주변장치, 소프트웨어 도매업</td>\n",
       "      <td>46510</td>\n",
       "    </tr>\n",
       "    <tr>\n",
       "      <th>1</th>\n",
       "      <td>36</td>\n",
       "      <td>1608104528</td>\n",
       "      <td>NaN</td>\n",
       "      <td>(주)그린정보***</td>\n",
       "      <td>GREEN INFORMATION SYATEM CO.KR Co., L***</td>\n",
       "      <td>이**</td>\n",
       "      <td>7.0</td>\n",
       "      <td>Dec-21</td>\n",
       "      <td>46510</td>\n",
       "      <td>컴퓨터 및 주변장치, 소프트웨어 도매업</td>\n",
       "      <td>...</td>\n",
       "      <td>4057.0</td>\n",
       "      <td>서울 마포구 신촌로12다길 20</td>\n",
       "      <td>1층 (노고산동,스테이하이오피스텔)</td>\n",
       "      <td>2018-01-09</td>\n",
       "      <td>2018.0</td>\n",
       "      <td>도매 및 소매업</td>\n",
       "      <td>도매 및 상품 중개업</td>\n",
       "      <td>기계장비 및 관련 물품 도매업</td>\n",
       "      <td>컴퓨터 및 주변장치, 소프트웨어 도매업</td>\n",
       "      <td>46510</td>\n",
       "    </tr>\n",
       "    <tr>\n",
       "      <th>2</th>\n",
       "      <td>577</td>\n",
       "      <td>3123102159</td>\n",
       "      <td>NaN</td>\n",
       "      <td>그린아**</td>\n",
       "      <td>Green IT ***</td>\n",
       "      <td>이**</td>\n",
       "      <td>8.0</td>\n",
       "      <td>Sep-21</td>\n",
       "      <td>46510</td>\n",
       "      <td>컴퓨터 및 주변장치, 소프트웨어 도매업</td>\n",
       "      <td>...</td>\n",
       "      <td>31090.0</td>\n",
       "      <td>충남 천안시 서북구 오성8길</td>\n",
       "      <td>30, 401호 (두정동,상지빌딩)</td>\n",
       "      <td>2012-11-01</td>\n",
       "      <td>2012.0</td>\n",
       "      <td>도매 및 소매업</td>\n",
       "      <td>도매 및 상품 중개업</td>\n",
       "      <td>기계장비 및 관련 물품 도매업</td>\n",
       "      <td>컴퓨터 및 주변장치, 소프트웨어 도매업</td>\n",
       "      <td>46510</td>\n",
       "    </tr>\n",
       "    <tr>\n",
       "      <th>3</th>\n",
       "      <td>636</td>\n",
       "      <td>5048504267</td>\n",
       "      <td>NaN</td>\n",
       "      <td>(주)진두아이에스대***</td>\n",
       "      <td>Jin Do IS Daegu Bra***</td>\n",
       "      <td>손**</td>\n",
       "      <td>NaN</td>\n",
       "      <td>NaN</td>\n",
       "      <td>46510</td>\n",
       "      <td>컴퓨터 및 주변장치, 소프트웨어 도매업</td>\n",
       "      <td>...</td>\n",
       "      <td>41952.0</td>\n",
       "      <td>대구광역시 중구 동덕로</td>\n",
       "      <td>64-15 (대봉동)</td>\n",
       "      <td>2008-01-14</td>\n",
       "      <td>2008.0</td>\n",
       "      <td>도매 및 소매업</td>\n",
       "      <td>도매 및 상품 중개업</td>\n",
       "      <td>기계장비 및 관련 물품 도매업</td>\n",
       "      <td>컴퓨터 및 주변장치, 소프트웨어 도매업</td>\n",
       "      <td>46510</td>\n",
       "    </tr>\n",
       "    <tr>\n",
       "      <th>4</th>\n",
       "      <td>846</td>\n",
       "      <td>1138103379</td>\n",
       "      <td>NaN</td>\n",
       "      <td>선진인포텍***</td>\n",
       "      <td>Sunjin Infotech Co., L***</td>\n",
       "      <td>김**</td>\n",
       "      <td>15.0</td>\n",
       "      <td>Mar-19</td>\n",
       "      <td>46510</td>\n",
       "      <td>컴퓨터 및 주변장치, 소프트웨어 도매업</td>\n",
       "      <td>...</td>\n",
       "      <td>8594.0</td>\n",
       "      <td>서울 금천구 가산디지털1로 5</td>\n",
       "      <td>1613호, 1614호, 1615호, 1616호, 1617호 (가산동,대륭테크노타운...</td>\n",
       "      <td>1998-08-24</td>\n",
       "      <td>1998.0</td>\n",
       "      <td>도매 및 소매업</td>\n",
       "      <td>도매 및 상품 중개업</td>\n",
       "      <td>기계장비 및 관련 물품 도매업</td>\n",
       "      <td>컴퓨터 및 주변장치, 소프트웨어 도매업</td>\n",
       "      <td>46510</td>\n",
       "    </tr>\n",
       "    <tr>\n",
       "      <th>5</th>\n",
       "      <td>903</td>\n",
       "      <td>2208802869</td>\n",
       "      <td>NaN</td>\n",
       "      <td>(주)유플렉스***</td>\n",
       "      <td>Uplex Soft Co.,L***</td>\n",
       "      <td>김**</td>\n",
       "      <td>21.0</td>\n",
       "      <td>Mar-19</td>\n",
       "      <td>46510</td>\n",
       "      <td>컴퓨터 및 주변장치, 소프트웨어 도매업</td>\n",
       "      <td>...</td>\n",
       "      <td>6250.0</td>\n",
       "      <td>서울 강남구 역삼로 138</td>\n",
       "      <td>501호 (역삼동,동광빌딩)</td>\n",
       "      <td>2010-12-14</td>\n",
       "      <td>2010.0</td>\n",
       "      <td>도매 및 소매업</td>\n",
       "      <td>도매 및 상품 중개업</td>\n",
       "      <td>기계장비 및 관련 물품 도매업</td>\n",
       "      <td>컴퓨터 및 주변장치, 소프트웨어 도매업</td>\n",
       "      <td>46510</td>\n",
       "    </tr>\n",
       "    <tr>\n",
       "      <th>6</th>\n",
       "      <td>920</td>\n",
       "      <td>2118107654</td>\n",
       "      <td>NaN</td>\n",
       "      <td>(주)케이씨***</td>\n",
       "      <td>KCIM Co., L***</td>\n",
       "      <td>김**</td>\n",
       "      <td>91.0</td>\n",
       "      <td>Mar-19</td>\n",
       "      <td>46510</td>\n",
       "      <td>컴퓨터 및 주변장치, 소프트웨어 도매업</td>\n",
       "      <td>...</td>\n",
       "      <td>6246.0</td>\n",
       "      <td>서울특별시 강남구 역삼로19길 3</td>\n",
       "      <td>(역삼동)</td>\n",
       "      <td>1990-12-13</td>\n",
       "      <td>1990.0</td>\n",
       "      <td>도매 및 소매업</td>\n",
       "      <td>도매 및 상품 중개업</td>\n",
       "      <td>기계장비 및 관련 물품 도매업</td>\n",
       "      <td>컴퓨터 및 주변장치, 소프트웨어 도매업</td>\n",
       "      <td>46510</td>\n",
       "    </tr>\n",
       "    <tr>\n",
       "      <th>7</th>\n",
       "      <td>936</td>\n",
       "      <td>2128608353</td>\n",
       "      <td>NaN</td>\n",
       "      <td>(주)엔큐***</td>\n",
       "      <td>NQ Consulting. l***</td>\n",
       "      <td>유**</td>\n",
       "      <td>9.0</td>\n",
       "      <td>Sep-21</td>\n",
       "      <td>46510</td>\n",
       "      <td>컴퓨터 및 주변장치, 소프트웨어 도매업</td>\n",
       "      <td>...</td>\n",
       "      <td>5836.0</td>\n",
       "      <td>서울 송파구 법원로11길 25</td>\n",
       "      <td>A동 1009호 (문정동,에이치비지니스파크)</td>\n",
       "      <td>2014-01-17</td>\n",
       "      <td>2014.0</td>\n",
       "      <td>도매 및 소매업</td>\n",
       "      <td>도매 및 상품 중개업</td>\n",
       "      <td>기계장비 및 관련 물품 도매업</td>\n",
       "      <td>컴퓨터 및 주변장치, 소프트웨어 도매업</td>\n",
       "      <td>46510</td>\n",
       "    </tr>\n",
       "    <tr>\n",
       "      <th>8</th>\n",
       "      <td>1057</td>\n",
       "      <td>1068609960</td>\n",
       "      <td>NaN</td>\n",
       "      <td>(주)하람아***</td>\n",
       "      <td>Haram INC Co.,L***</td>\n",
       "      <td>최**</td>\n",
       "      <td>5.0</td>\n",
       "      <td>Mar-19</td>\n",
       "      <td>46510</td>\n",
       "      <td>컴퓨터 및 주변장치, 소프트웨어 도매업</td>\n",
       "      <td>...</td>\n",
       "      <td>4178.0</td>\n",
       "      <td>서울 마포구 마포대로4나길 71</td>\n",
       "      <td>지하2층 비201호 (마포동,마포비체힐1리버뷰)</td>\n",
       "      <td>2008-02-04</td>\n",
       "      <td>2008.0</td>\n",
       "      <td>도매 및 소매업</td>\n",
       "      <td>도매 및 상품 중개업</td>\n",
       "      <td>기계장비 및 관련 물품 도매업</td>\n",
       "      <td>컴퓨터 및 주변장치, 소프트웨어 도매업</td>\n",
       "      <td>46510</td>\n",
       "    </tr>\n",
       "    <tr>\n",
       "      <th>9</th>\n",
       "      <td>1159</td>\n",
       "      <td>1018107931</td>\n",
       "      <td>NaN</td>\n",
       "      <td>삼성솔루션***</td>\n",
       "      <td>SAMSUNG SOLUTION Co., L***</td>\n",
       "      <td>박**</td>\n",
       "      <td>8.0</td>\n",
       "      <td>Mar-19</td>\n",
       "      <td>46510</td>\n",
       "      <td>컴퓨터 및 주변장치, 소프트웨어 도매업</td>\n",
       "      <td>...</td>\n",
       "      <td>4209.0</td>\n",
       "      <td>서울특별시 마포구 만리재옛길 36</td>\n",
       "      <td>(신공덕동)</td>\n",
       "      <td>2000-06-28</td>\n",
       "      <td>2000.0</td>\n",
       "      <td>도매 및 소매업</td>\n",
       "      <td>도매 및 상품 중개업</td>\n",
       "      <td>기계장비 및 관련 물품 도매업</td>\n",
       "      <td>컴퓨터 및 주변장치, 소프트웨어 도매업</td>\n",
       "      <td>46510</td>\n",
       "    </tr>\n",
       "  </tbody>\n",
       "</table>\n",
       "<p>10 rows × 27 columns</p>\n",
       "</div>"
      ],
      "text/plain": [
       "   Unnamed: 0     사업자등록번호  Unnamed: 2            기업명  \\\n",
       "0           1  1010204456         NaN       씨앤피비즈***   \n",
       "1          36  1608104528         NaN     (주)그린정보***   \n",
       "2         577  3123102159         NaN          그린아**   \n",
       "3         636  5048504267         NaN  (주)진두아이에스대***   \n",
       "4         846  1138103379         NaN       선진인포텍***   \n",
       "5         903  2208802869         NaN     (주)유플렉스***   \n",
       "6         920  2118107654         NaN      (주)케이씨***   \n",
       "7         936  2128608353         NaN       (주)엔큐***   \n",
       "8        1057  1068609960         NaN      (주)하람아***   \n",
       "9        1159  1018107931         NaN       삼성솔루션***   \n",
       "\n",
       "                                      기업영문명 대표자명  종업원수 종업원수기준년월 산업분류코드  \\\n",
       "0                          C&P BIZ SOLUT***  함**   5.0   Jun-21  46510   \n",
       "1  GREEN INFORMATION SYATEM CO.KR Co., L***  이**   7.0   Dec-21  46510   \n",
       "2                              Green IT ***  이**   8.0   Sep-21  46510   \n",
       "3                    Jin Do IS Daegu Bra***  손**   NaN      NaN  46510   \n",
       "4                 Sunjin Infotech Co., L***  김**  15.0   Mar-19  46510   \n",
       "5                       Uplex Soft Co.,L***  김**  21.0   Mar-19  46510   \n",
       "6                            KCIM Co., L***  김**  91.0   Mar-19  46510   \n",
       "7                       NQ Consulting. l***  유**   9.0   Sep-21  46510   \n",
       "8                        Haram INC Co.,L***  최**   5.0   Mar-19  46510   \n",
       "9                SAMSUNG SOLUTION Co., L***  박**   8.0   Mar-19  46510   \n",
       "\n",
       "                산업분류코드설명  ...     우편번호                  주소  \\\n",
       "0  컴퓨터 및 주변장치, 소프트웨어 도매업  ...   3966.0    서울 마포구 월드컵북로 137   \n",
       "1  컴퓨터 및 주변장치, 소프트웨어 도매업  ...   4057.0   서울 마포구 신촌로12다길 20   \n",
       "2  컴퓨터 및 주변장치, 소프트웨어 도매업  ...  31090.0     충남 천안시 서북구 오성8길   \n",
       "3  컴퓨터 및 주변장치, 소프트웨어 도매업  ...  41952.0        대구광역시 중구 동덕로   \n",
       "4  컴퓨터 및 주변장치, 소프트웨어 도매업  ...   8594.0    서울 금천구 가산디지털1로 5   \n",
       "5  컴퓨터 및 주변장치, 소프트웨어 도매업  ...   6250.0      서울 강남구 역삼로 138   \n",
       "6  컴퓨터 및 주변장치, 소프트웨어 도매업  ...   6246.0  서울특별시 강남구 역삼로19길 3   \n",
       "7  컴퓨터 및 주변장치, 소프트웨어 도매업  ...   5836.0    서울 송파구 법원로11길 25   \n",
       "8  컴퓨터 및 주변장치, 소프트웨어 도매업  ...   4178.0   서울 마포구 마포대로4나길 71   \n",
       "9  컴퓨터 및 주변장치, 소프트웨어 도매업  ...   4209.0  서울특별시 마포구 만리재옛길 36   \n",
       "\n",
       "                                                상세주보     설립일_dt 설립일_year  \\\n",
       "0                                    (성산동,C.S타워 B3호) 2000-04-14   2000.0   \n",
       "1                                1층 (노고산동,스테이하이오피스텔) 2018-01-09   2018.0   \n",
       "2                                30, 401호 (두정동,상지빌딩) 2012-11-01   2012.0   \n",
       "3                                        64-15 (대봉동) 2008-01-14   2008.0   \n",
       "4  1613호, 1614호, 1615호, 1616호, 1617호 (가산동,대륭테크노타운... 1998-08-24   1998.0   \n",
       "5                                    501호 (역삼동,동광빌딩) 2010-12-14   2010.0   \n",
       "6                                              (역삼동) 1990-12-13   1990.0   \n",
       "7                           A동 1009호 (문정동,에이치비지니스파크) 2014-01-17   2014.0   \n",
       "8                         지하2층 비201호 (마포동,마포비체힐1리버뷰) 2008-02-04   2008.0   \n",
       "9                                             (신공덕동) 2000-06-28   2000.0   \n",
       "\n",
       "        대분류          중분류               소분류                    세분류 indCd1_str  \n",
       "0  도매 및 소매업  도매 및 상품 중개업  기계장비 및 관련 물품 도매업  컴퓨터 및 주변장치, 소프트웨어 도매업      46510  \n",
       "1  도매 및 소매업  도매 및 상품 중개업  기계장비 및 관련 물품 도매업  컴퓨터 및 주변장치, 소프트웨어 도매업      46510  \n",
       "2  도매 및 소매업  도매 및 상품 중개업  기계장비 및 관련 물품 도매업  컴퓨터 및 주변장치, 소프트웨어 도매업      46510  \n",
       "3  도매 및 소매업  도매 및 상품 중개업  기계장비 및 관련 물품 도매업  컴퓨터 및 주변장치, 소프트웨어 도매업      46510  \n",
       "4  도매 및 소매업  도매 및 상품 중개업  기계장비 및 관련 물품 도매업  컴퓨터 및 주변장치, 소프트웨어 도매업      46510  \n",
       "5  도매 및 소매업  도매 및 상품 중개업  기계장비 및 관련 물품 도매업  컴퓨터 및 주변장치, 소프트웨어 도매업      46510  \n",
       "6  도매 및 소매업  도매 및 상품 중개업  기계장비 및 관련 물품 도매업  컴퓨터 및 주변장치, 소프트웨어 도매업      46510  \n",
       "7  도매 및 소매업  도매 및 상품 중개업  기계장비 및 관련 물품 도매업  컴퓨터 및 주변장치, 소프트웨어 도매업      46510  \n",
       "8  도매 및 소매업  도매 및 상품 중개업  기계장비 및 관련 물품 도매업  컴퓨터 및 주변장치, 소프트웨어 도매업      46510  \n",
       "9  도매 및 소매업  도매 및 상품 중개업  기계장비 및 관련 물품 도매업  컴퓨터 및 주변장치, 소프트웨어 도매업      46510  \n",
       "\n",
       "[10 rows x 27 columns]"
      ]
     },
     "execution_count": 49,
     "metadata": {},
     "output_type": "execute_result"
    }
   ],
   "source": [
    "m1.head(10)"
   ]
  },
  {
   "cell_type": "code",
   "execution_count": 28,
   "id": "e351febc-60db-47f0-a6c0-6759828e1498",
   "metadata": {},
   "outputs": [
    {
     "data": {
      "text/html": [
       "<div>\n",
       "<style scoped>\n",
       "    .dataframe tbody tr th:only-of-type {\n",
       "        vertical-align: middle;\n",
       "    }\n",
       "\n",
       "    .dataframe tbody tr th {\n",
       "        vertical-align: top;\n",
       "    }\n",
       "\n",
       "    .dataframe thead th {\n",
       "        text-align: right;\n",
       "    }\n",
       "</style>\n",
       "<table border=\"1\" class=\"dataframe\">\n",
       "  <thead>\n",
       "    <tr style=\"text-align: right;\">\n",
       "      <th></th>\n",
       "      <th>대분류</th>\n",
       "      <th>설립일_year</th>\n",
       "      <th>count</th>\n",
       "    </tr>\n",
       "  </thead>\n",
       "  <tbody>\n",
       "    <tr>\n",
       "      <th>0</th>\n",
       "      <td>건설업</td>\n",
       "      <td>1939.0</td>\n",
       "      <td>1</td>\n",
       "    </tr>\n",
       "    <tr>\n",
       "      <th>1</th>\n",
       "      <td>건설업</td>\n",
       "      <td>1951.0</td>\n",
       "      <td>1</td>\n",
       "    </tr>\n",
       "    <tr>\n",
       "      <th>2</th>\n",
       "      <td>건설업</td>\n",
       "      <td>1956.0</td>\n",
       "      <td>1</td>\n",
       "    </tr>\n",
       "    <tr>\n",
       "      <th>3</th>\n",
       "      <td>건설업</td>\n",
       "      <td>1957.0</td>\n",
       "      <td>1</td>\n",
       "    </tr>\n",
       "    <tr>\n",
       "      <th>4</th>\n",
       "      <td>건설업</td>\n",
       "      <td>1959.0</td>\n",
       "      <td>1</td>\n",
       "    </tr>\n",
       "    <tr>\n",
       "      <th>...</th>\n",
       "      <td>...</td>\n",
       "      <td>...</td>\n",
       "      <td>...</td>\n",
       "    </tr>\n",
       "    <tr>\n",
       "      <th>439</th>\n",
       "      <td>협회 및 단체, 수리 및 기타 개인 서비스업</td>\n",
       "      <td>2015.0</td>\n",
       "      <td>6</td>\n",
       "    </tr>\n",
       "    <tr>\n",
       "      <th>440</th>\n",
       "      <td>협회 및 단체, 수리 및 기타 개인 서비스업</td>\n",
       "      <td>2016.0</td>\n",
       "      <td>5</td>\n",
       "    </tr>\n",
       "    <tr>\n",
       "      <th>441</th>\n",
       "      <td>협회 및 단체, 수리 및 기타 개인 서비스업</td>\n",
       "      <td>2017.0</td>\n",
       "      <td>1</td>\n",
       "    </tr>\n",
       "    <tr>\n",
       "      <th>442</th>\n",
       "      <td>협회 및 단체, 수리 및 기타 개인 서비스업</td>\n",
       "      <td>2018.0</td>\n",
       "      <td>3</td>\n",
       "    </tr>\n",
       "    <tr>\n",
       "      <th>443</th>\n",
       "      <td>협회 및 단체, 수리 및 기타 개인 서비스업</td>\n",
       "      <td>2019.0</td>\n",
       "      <td>1</td>\n",
       "    </tr>\n",
       "  </tbody>\n",
       "</table>\n",
       "<p>444 rows × 3 columns</p>\n",
       "</div>"
      ],
      "text/plain": [
       "                          대분류  설립일_year  count\n",
       "0                         건설업    1939.0      1\n",
       "1                         건설업    1951.0      1\n",
       "2                         건설업    1956.0      1\n",
       "3                         건설업    1957.0      1\n",
       "4                         건설업    1959.0      1\n",
       "..                        ...       ...    ...\n",
       "439  협회 및 단체, 수리 및 기타 개인 서비스업    2015.0      6\n",
       "440  협회 및 단체, 수리 및 기타 개인 서비스업    2016.0      5\n",
       "441  협회 및 단체, 수리 및 기타 개인 서비스업    2017.0      1\n",
       "442  협회 및 단체, 수리 및 기타 개인 서비스업    2018.0      3\n",
       "443  협회 및 단체, 수리 및 기타 개인 서비스업    2019.0      1\n",
       "\n",
       "[444 rows x 3 columns]"
      ]
     },
     "execution_count": 28,
     "metadata": {},
     "output_type": "execute_result"
    }
   ],
   "source": [
    "p1 = m1.pivot_table(index=['대분류','설립일_year'], values='count', aggfunc='sum').reset_index()\n",
    "p1"
   ]
  },
  {
   "cell_type": "code",
   "execution_count": 43,
   "id": "e578f6f1-6ce0-4a0b-9294-9ea68d977952",
   "metadata": {},
   "outputs": [
    {
     "data": {
      "application/vnd.plotly.v1+json": {
       "config": {
        "plotlyServerURL": "https://plot.ly"
       },
       "data": [
        {
         "alignmentgroup": "True",
         "bingroup": "x",
         "histfunc": "sum",
         "hovertemplate": "설립일_year=%{x}<br>sum of count=%{y}<extra></extra>",
         "legendgroup": "",
         "marker": {
          "color": "#636efa",
          "pattern": {
           "shape": ""
          }
         },
         "name": "",
         "offsetgroup": "",
         "orientation": "v",
         "showlegend": false,
         "type": "histogram",
         "x": [
          1920,
          1945,
          1946,
          1948,
          1961,
          1962,
          1964,
          1969,
          1971,
          1972,
          1974,
          1977,
          1979,
          1980,
          1981,
          1982,
          1985,
          1986,
          1987,
          1988,
          1989,
          1990,
          1991,
          1992,
          1993,
          1994,
          1995,
          1996,
          1997,
          1998,
          1999,
          2000,
          2001,
          2002,
          2003,
          2004,
          2005,
          2006,
          2007,
          2008,
          2009,
          2010,
          2011,
          2012,
          2013,
          2014,
          2015,
          2016,
          2017,
          2018,
          2019,
          2020,
          2021
         ],
         "xaxis": "x",
         "y": [
          1,
          2,
          1,
          1,
          1,
          1,
          1,
          1,
          2,
          1,
          1,
          3,
          1,
          1,
          1,
          1,
          1,
          2,
          2,
          2,
          5,
          2,
          11,
          10,
          8,
          10,
          21,
          17,
          17,
          20,
          48,
          84,
          49,
          41,
          62,
          48,
          59,
          64,
          46,
          41,
          75,
          93,
          117,
          151,
          168,
          182,
          239,
          267,
          239,
          248,
          143,
          32,
          4
         ],
         "yaxis": "y"
        }
       ],
       "layout": {
        "autosize": true,
        "barmode": "relative",
        "legend": {
         "tracegroupgap": 0
        },
        "margin": {
         "t": 60
        },
        "template": {
         "data": {
          "bar": [
           {
            "error_x": {
             "color": "#2a3f5f"
            },
            "error_y": {
             "color": "#2a3f5f"
            },
            "marker": {
             "line": {
              "color": "#E5ECF6",
              "width": 0.5
             },
             "pattern": {
              "fillmode": "overlay",
              "size": 10,
              "solidity": 0.2
             }
            },
            "type": "bar"
           }
          ],
          "barpolar": [
           {
            "marker": {
             "line": {
              "color": "#E5ECF6",
              "width": 0.5
             },
             "pattern": {
              "fillmode": "overlay",
              "size": 10,
              "solidity": 0.2
             }
            },
            "type": "barpolar"
           }
          ],
          "carpet": [
           {
            "aaxis": {
             "endlinecolor": "#2a3f5f",
             "gridcolor": "white",
             "linecolor": "white",
             "minorgridcolor": "white",
             "startlinecolor": "#2a3f5f"
            },
            "baxis": {
             "endlinecolor": "#2a3f5f",
             "gridcolor": "white",
             "linecolor": "white",
             "minorgridcolor": "white",
             "startlinecolor": "#2a3f5f"
            },
            "type": "carpet"
           }
          ],
          "choropleth": [
           {
            "colorbar": {
             "outlinewidth": 0,
             "ticks": ""
            },
            "type": "choropleth"
           }
          ],
          "contour": [
           {
            "colorbar": {
             "outlinewidth": 0,
             "ticks": ""
            },
            "colorscale": [
             [
              0,
              "#0d0887"
             ],
             [
              0.1111111111111111,
              "#46039f"
             ],
             [
              0.2222222222222222,
              "#7201a8"
             ],
             [
              0.3333333333333333,
              "#9c179e"
             ],
             [
              0.4444444444444444,
              "#bd3786"
             ],
             [
              0.5555555555555556,
              "#d8576b"
             ],
             [
              0.6666666666666666,
              "#ed7953"
             ],
             [
              0.7777777777777778,
              "#fb9f3a"
             ],
             [
              0.8888888888888888,
              "#fdca26"
             ],
             [
              1,
              "#f0f921"
             ]
            ],
            "type": "contour"
           }
          ],
          "contourcarpet": [
           {
            "colorbar": {
             "outlinewidth": 0,
             "ticks": ""
            },
            "type": "contourcarpet"
           }
          ],
          "heatmap": [
           {
            "colorbar": {
             "outlinewidth": 0,
             "ticks": ""
            },
            "colorscale": [
             [
              0,
              "#0d0887"
             ],
             [
              0.1111111111111111,
              "#46039f"
             ],
             [
              0.2222222222222222,
              "#7201a8"
             ],
             [
              0.3333333333333333,
              "#9c179e"
             ],
             [
              0.4444444444444444,
              "#bd3786"
             ],
             [
              0.5555555555555556,
              "#d8576b"
             ],
             [
              0.6666666666666666,
              "#ed7953"
             ],
             [
              0.7777777777777778,
              "#fb9f3a"
             ],
             [
              0.8888888888888888,
              "#fdca26"
             ],
             [
              1,
              "#f0f921"
             ]
            ],
            "type": "heatmap"
           }
          ],
          "heatmapgl": [
           {
            "colorbar": {
             "outlinewidth": 0,
             "ticks": ""
            },
            "colorscale": [
             [
              0,
              "#0d0887"
             ],
             [
              0.1111111111111111,
              "#46039f"
             ],
             [
              0.2222222222222222,
              "#7201a8"
             ],
             [
              0.3333333333333333,
              "#9c179e"
             ],
             [
              0.4444444444444444,
              "#bd3786"
             ],
             [
              0.5555555555555556,
              "#d8576b"
             ],
             [
              0.6666666666666666,
              "#ed7953"
             ],
             [
              0.7777777777777778,
              "#fb9f3a"
             ],
             [
              0.8888888888888888,
              "#fdca26"
             ],
             [
              1,
              "#f0f921"
             ]
            ],
            "type": "heatmapgl"
           }
          ],
          "histogram": [
           {
            "marker": {
             "pattern": {
              "fillmode": "overlay",
              "size": 10,
              "solidity": 0.2
             }
            },
            "type": "histogram"
           }
          ],
          "histogram2d": [
           {
            "colorbar": {
             "outlinewidth": 0,
             "ticks": ""
            },
            "colorscale": [
             [
              0,
              "#0d0887"
             ],
             [
              0.1111111111111111,
              "#46039f"
             ],
             [
              0.2222222222222222,
              "#7201a8"
             ],
             [
              0.3333333333333333,
              "#9c179e"
             ],
             [
              0.4444444444444444,
              "#bd3786"
             ],
             [
              0.5555555555555556,
              "#d8576b"
             ],
             [
              0.6666666666666666,
              "#ed7953"
             ],
             [
              0.7777777777777778,
              "#fb9f3a"
             ],
             [
              0.8888888888888888,
              "#fdca26"
             ],
             [
              1,
              "#f0f921"
             ]
            ],
            "type": "histogram2d"
           }
          ],
          "histogram2dcontour": [
           {
            "colorbar": {
             "outlinewidth": 0,
             "ticks": ""
            },
            "colorscale": [
             [
              0,
              "#0d0887"
             ],
             [
              0.1111111111111111,
              "#46039f"
             ],
             [
              0.2222222222222222,
              "#7201a8"
             ],
             [
              0.3333333333333333,
              "#9c179e"
             ],
             [
              0.4444444444444444,
              "#bd3786"
             ],
             [
              0.5555555555555556,
              "#d8576b"
             ],
             [
              0.6666666666666666,
              "#ed7953"
             ],
             [
              0.7777777777777778,
              "#fb9f3a"
             ],
             [
              0.8888888888888888,
              "#fdca26"
             ],
             [
              1,
              "#f0f921"
             ]
            ],
            "type": "histogram2dcontour"
           }
          ],
          "mesh3d": [
           {
            "colorbar": {
             "outlinewidth": 0,
             "ticks": ""
            },
            "type": "mesh3d"
           }
          ],
          "parcoords": [
           {
            "line": {
             "colorbar": {
              "outlinewidth": 0,
              "ticks": ""
             }
            },
            "type": "parcoords"
           }
          ],
          "pie": [
           {
            "automargin": true,
            "type": "pie"
           }
          ],
          "scatter": [
           {
            "fillpattern": {
             "fillmode": "overlay",
             "size": 10,
             "solidity": 0.2
            },
            "type": "scatter"
           }
          ],
          "scatter3d": [
           {
            "line": {
             "colorbar": {
              "outlinewidth": 0,
              "ticks": ""
             }
            },
            "marker": {
             "colorbar": {
              "outlinewidth": 0,
              "ticks": ""
             }
            },
            "type": "scatter3d"
           }
          ],
          "scattercarpet": [
           {
            "marker": {
             "colorbar": {
              "outlinewidth": 0,
              "ticks": ""
             }
            },
            "type": "scattercarpet"
           }
          ],
          "scattergeo": [
           {
            "marker": {
             "colorbar": {
              "outlinewidth": 0,
              "ticks": ""
             }
            },
            "type": "scattergeo"
           }
          ],
          "scattergl": [
           {
            "marker": {
             "colorbar": {
              "outlinewidth": 0,
              "ticks": ""
             }
            },
            "type": "scattergl"
           }
          ],
          "scattermapbox": [
           {
            "marker": {
             "colorbar": {
              "outlinewidth": 0,
              "ticks": ""
             }
            },
            "type": "scattermapbox"
           }
          ],
          "scatterpolar": [
           {
            "marker": {
             "colorbar": {
              "outlinewidth": 0,
              "ticks": ""
             }
            },
            "type": "scatterpolar"
           }
          ],
          "scatterpolargl": [
           {
            "marker": {
             "colorbar": {
              "outlinewidth": 0,
              "ticks": ""
             }
            },
            "type": "scatterpolargl"
           }
          ],
          "scatterternary": [
           {
            "marker": {
             "colorbar": {
              "outlinewidth": 0,
              "ticks": ""
             }
            },
            "type": "scatterternary"
           }
          ],
          "surface": [
           {
            "colorbar": {
             "outlinewidth": 0,
             "ticks": ""
            },
            "colorscale": [
             [
              0,
              "#0d0887"
             ],
             [
              0.1111111111111111,
              "#46039f"
             ],
             [
              0.2222222222222222,
              "#7201a8"
             ],
             [
              0.3333333333333333,
              "#9c179e"
             ],
             [
              0.4444444444444444,
              "#bd3786"
             ],
             [
              0.5555555555555556,
              "#d8576b"
             ],
             [
              0.6666666666666666,
              "#ed7953"
             ],
             [
              0.7777777777777778,
              "#fb9f3a"
             ],
             [
              0.8888888888888888,
              "#fdca26"
             ],
             [
              1,
              "#f0f921"
             ]
            ],
            "type": "surface"
           }
          ],
          "table": [
           {
            "cells": {
             "fill": {
              "color": "#EBF0F8"
             },
             "line": {
              "color": "white"
             }
            },
            "header": {
             "fill": {
              "color": "#C8D4E3"
             },
             "line": {
              "color": "white"
             }
            },
            "type": "table"
           }
          ]
         },
         "layout": {
          "annotationdefaults": {
           "arrowcolor": "#2a3f5f",
           "arrowhead": 0,
           "arrowwidth": 1
          },
          "autotypenumbers": "strict",
          "coloraxis": {
           "colorbar": {
            "outlinewidth": 0,
            "ticks": ""
           }
          },
          "colorscale": {
           "diverging": [
            [
             0,
             "#8e0152"
            ],
            [
             0.1,
             "#c51b7d"
            ],
            [
             0.2,
             "#de77ae"
            ],
            [
             0.3,
             "#f1b6da"
            ],
            [
             0.4,
             "#fde0ef"
            ],
            [
             0.5,
             "#f7f7f7"
            ],
            [
             0.6,
             "#e6f5d0"
            ],
            [
             0.7,
             "#b8e186"
            ],
            [
             0.8,
             "#7fbc41"
            ],
            [
             0.9,
             "#4d9221"
            ],
            [
             1,
             "#276419"
            ]
           ],
           "sequential": [
            [
             0,
             "#0d0887"
            ],
            [
             0.1111111111111111,
             "#46039f"
            ],
            [
             0.2222222222222222,
             "#7201a8"
            ],
            [
             0.3333333333333333,
             "#9c179e"
            ],
            [
             0.4444444444444444,
             "#bd3786"
            ],
            [
             0.5555555555555556,
             "#d8576b"
            ],
            [
             0.6666666666666666,
             "#ed7953"
            ],
            [
             0.7777777777777778,
             "#fb9f3a"
            ],
            [
             0.8888888888888888,
             "#fdca26"
            ],
            [
             1,
             "#f0f921"
            ]
           ],
           "sequentialminus": [
            [
             0,
             "#0d0887"
            ],
            [
             0.1111111111111111,
             "#46039f"
            ],
            [
             0.2222222222222222,
             "#7201a8"
            ],
            [
             0.3333333333333333,
             "#9c179e"
            ],
            [
             0.4444444444444444,
             "#bd3786"
            ],
            [
             0.5555555555555556,
             "#d8576b"
            ],
            [
             0.6666666666666666,
             "#ed7953"
            ],
            [
             0.7777777777777778,
             "#fb9f3a"
            ],
            [
             0.8888888888888888,
             "#fdca26"
            ],
            [
             1,
             "#f0f921"
            ]
           ]
          },
          "colorway": [
           "#636efa",
           "#EF553B",
           "#00cc96",
           "#ab63fa",
           "#FFA15A",
           "#19d3f3",
           "#FF6692",
           "#B6E880",
           "#FF97FF",
           "#FECB52"
          ],
          "font": {
           "color": "#2a3f5f"
          },
          "geo": {
           "bgcolor": "white",
           "lakecolor": "white",
           "landcolor": "#E5ECF6",
           "showlakes": true,
           "showland": true,
           "subunitcolor": "white"
          },
          "hoverlabel": {
           "align": "left"
          },
          "hovermode": "closest",
          "mapbox": {
           "style": "light"
          },
          "paper_bgcolor": "white",
          "plot_bgcolor": "#E5ECF6",
          "polar": {
           "angularaxis": {
            "gridcolor": "white",
            "linecolor": "white",
            "ticks": ""
           },
           "bgcolor": "#E5ECF6",
           "radialaxis": {
            "gridcolor": "white",
            "linecolor": "white",
            "ticks": ""
           }
          },
          "scene": {
           "xaxis": {
            "backgroundcolor": "#E5ECF6",
            "gridcolor": "white",
            "gridwidth": 2,
            "linecolor": "white",
            "showbackground": true,
            "ticks": "",
            "zerolinecolor": "white"
           },
           "yaxis": {
            "backgroundcolor": "#E5ECF6",
            "gridcolor": "white",
            "gridwidth": 2,
            "linecolor": "white",
            "showbackground": true,
            "ticks": "",
            "zerolinecolor": "white"
           },
           "zaxis": {
            "backgroundcolor": "#E5ECF6",
            "gridcolor": "white",
            "gridwidth": 2,
            "linecolor": "white",
            "showbackground": true,
            "ticks": "",
            "zerolinecolor": "white"
           }
          },
          "shapedefaults": {
           "line": {
            "color": "#2a3f5f"
           }
          },
          "ternary": {
           "aaxis": {
            "gridcolor": "white",
            "linecolor": "white",
            "ticks": ""
           },
           "baxis": {
            "gridcolor": "white",
            "linecolor": "white",
            "ticks": ""
           },
           "bgcolor": "#E5ECF6",
           "caxis": {
            "gridcolor": "white",
            "linecolor": "white",
            "ticks": ""
           }
          },
          "title": {
           "x": 0.05
          },
          "xaxis": {
           "automargin": true,
           "gridcolor": "white",
           "linecolor": "white",
           "ticks": "",
           "title": {
            "standoff": 15
           },
           "zerolinecolor": "white",
           "zerolinewidth": 2
          },
          "yaxis": {
           "automargin": true,
           "gridcolor": "white",
           "linecolor": "white",
           "ticks": "",
           "title": {
            "standoff": 15
           },
           "zerolinecolor": "white",
           "zerolinewidth": 2
          }
         }
        },
        "xaxis": {
         "anchor": "y",
         "autorange": true,
         "domain": [
          0,
          1
         ],
         "range": [
          1919.5,
          2029.5
         ],
         "title": {
          "text": "설립일_year"
         },
         "type": "linear"
        },
        "yaxis": {
         "anchor": "x",
         "autorange": true,
         "domain": [
          0,
          1
         ],
         "range": [
          0,
          1944.2105263157896
         ],
         "title": {
          "text": "sum of count"
         },
         "type": "linear"
        }
       }
      },
      "image/png": "[encoded data removed]",
      "text/html": [
       "<div>                            <div id=\"96c3cbd5-cb09-43eb-8fa7-d3e14483a696\" class=\"plotly-graph-div\" style=\"height:525px; width:100%;\"></div>            <script type=\"text/javascript\">                require([\"plotly\"], function(Plotly) {                    window.PLOTLYENV=window.PLOTLYENV || {};                                    if (document.getElementById(\"96c3cbd5-cb09-43eb-8fa7-d3e14483a696\")) {                    Plotly.newPlot(                        \"96c3cbd5-cb09-43eb-8fa7-d3e14483a696\",                        [{\"alignmentgroup\":\"True\",\"bingroup\":\"x\",\"histfunc\":\"sum\",\"hovertemplate\":\"\\uc124\\ub9bd\\uc77c_year=%{x}<br>sum of count=%{y}<extra></extra>\",\"legendgroup\":\"\",\"marker\":{\"color\":\"#636efa\",\"pattern\":{\"shape\":\"\"}},\"name\":\"\",\"offsetgroup\":\"\",\"orientation\":\"v\",\"showlegend\":false,\"x\":[1920.0,1945.0,1946.0,1948.0,1961.0,1962.0,1964.0,1969.0,1971.0,1972.0,1974.0,1977.0,1979.0,1980.0,1981.0,1982.0,1985.0,1986.0,1987.0,1988.0,1989.0,1990.0,1991.0,1992.0,1993.0,1994.0,1995.0,1996.0,1997.0,1998.0,1999.0,2000.0,2001.0,2002.0,2003.0,2004.0,2005.0,2006.0,2007.0,2008.0,2009.0,2010.0,2011.0,2012.0,2013.0,2014.0,2015.0,2016.0,2017.0,2018.0,2019.0,2020.0,2021.0],\"xaxis\":\"x\",\"y\":[1,2,1,1,1,1,1,1,2,1,1,3,1,1,1,1,1,2,2,2,5,2,11,10,8,10,21,17,17,20,48,84,49,41,62,48,59,64,46,41,75,93,117,151,168,182,239,267,239,248,143,32,4],\"yaxis\":\"y\",\"type\":\"histogram\"}],                        {\"template\":{\"data\":{\"histogram2dcontour\":[{\"type\":\"histogram2dcontour\",\"colorbar\":{\"outlinewidth\":0,\"ticks\":\"\"},\"colorscale\":[[0.0,\"#0d0887\"],[0.1111111111111111,\"#46039f\"],[0.2222222222222222,\"#7201a8\"],[0.3333333333333333,\"#9c179e\"],[0.4444444444444444,\"#bd3786\"],[0.5555555555555556,\"#d8576b\"],[0.6666666666666666,\"#ed7953\"],[0.7777777777777778,\"#fb9f3a\"],[0.8888888888888888,\"#fdca26\"],[1.0,\"#f0f921\"]]}],\"choropleth\":[{\"type\":\"choropleth\",\"colorbar\":{\"outlinewidth\":0,\"ticks\":\"\"}}],\"histogram2d\":[{\"type\":\"histogram2d\",\"colorbar\":{\"outlinewidth\":0,\"ticks\":\"\"},\"colorscale\":[[0.0,\"#0d0887\"],[0.1111111111111111,\"#46039f\"],[0.2222222222222222,\"#7201a8\"],[0.3333333333333333,\"#9c179e\"],[0.4444444444444444,\"#bd3786\"],[0.5555555555555556,\"#d8576b\"],[0.6666666666666666,\"#ed7953\"],[0.7777777777777778,\"#fb9f3a\"],[0.8888888888888888,\"#fdca26\"],[1.0,\"#f0f921\"]]}],\"heatmap\":[{\"type\":\"heatmap\",\"colorbar\":{\"outlinewidth\":0,\"ticks\":\"\"},\"colorscale\":[[0.0,\"#0d0887\"],[0.1111111111111111,\"#46039f\"],[0.2222222222222222,\"#7201a8\"],[0.3333333333333333,\"#9c179e\"],[0.4444444444444444,\"#bd3786\"],[0.5555555555555556,\"#d8576b\"],[0.6666666666666666,\"#ed7953\"],[0.7777777777777778,\"#fb9f3a\"],[0.8888888888888888,\"#fdca26\"],[1.0,\"#f0f921\"]]}],\"heatmapgl\":[{\"type\":\"heatmapgl\",\"colorbar\":{\"outlinewidth\":0,\"ticks\":\"\"},\"colorscale\":[[0.0,\"#0d0887\"],[0.1111111111111111,\"#46039f\"],[0.2222222222222222,\"#7201a8\"],[0.3333333333333333,\"#9c179e\"],[0.4444444444444444,\"#bd3786\"],[0.5555555555555556,\"#d8576b\"],[0.6666666666666666,\"#ed7953\"],[0.7777777777777778,\"#fb9f3a\"],[0.8888888888888888,\"#fdca26\"],[1.0,\"#f0f921\"]]}],\"contourcarpet\":[{\"type\":\"contourcarpet\",\"colorbar\":{\"outlinewidth\":0,\"ticks\":\"\"}}],\"contour\":[{\"type\":\"contour\",\"colorbar\":{\"outlinewidth\":0,\"ticks\":\"\"},\"colorscale\":[[0.0,\"#0d0887\"],[0.1111111111111111,\"#46039f\"],[0.2222222222222222,\"#7201a8\"],[0.3333333333333333,\"#9c179e\"],[0.4444444444444444,\"#bd3786\"],[0.5555555555555556,\"#d8576b\"],[0.6666666666666666,\"#ed7953\"],[0.7777777777777778,\"#fb9f3a\"],[0.8888888888888888,\"#fdca26\"],[1.0,\"#f0f921\"]]}],\"surface\":[{\"type\":\"surface\",\"colorbar\":{\"outlinewidth\":0,\"ticks\":\"\"},\"colorscale\":[[0.0,\"#0d0887\"],[0.1111111111111111,\"#46039f\"],[0.2222222222222222,\"#7201a8\"],[0.3333333333333333,\"#9c179e\"],[0.4444444444444444,\"#bd3786\"],[0.5555555555555556,\"#d8576b\"],[0.6666666666666666,\"#ed7953\"],[0.7777777777777778,\"#fb9f3a\"],[0.8888888888888888,\"#fdca26\"],[1.0,\"#f0f921\"]]}],\"mesh3d\":[{\"type\":\"mesh3d\",\"colorbar\":{\"outlinewidth\":0,\"ticks\":\"\"}}],\"scatter\":[{\"fillpattern\":{\"fillmode\":\"overlay\",\"size\":10,\"solidity\":0.2},\"type\":\"scatter\"}],\"parcoords\":[{\"type\":\"parcoords\",\"line\":{\"colorbar\":{\"outlinewidth\":0,\"ticks\":\"\"}}}],\"scatterpolargl\":[{\"type\":\"scatterpolargl\",\"marker\":{\"colorbar\":{\"outlinewidth\":0,\"ticks\":\"\"}}}],\"bar\":[{\"error_x\":{\"color\":\"#2a3f5f\"},\"error_y\":{\"color\":\"#2a3f5f\"},\"marker\":{\"line\":{\"color\":\"#E5ECF6\",\"width\":0.5},\"pattern\":{\"fillmode\":\"overlay\",\"size\":10,\"solidity\":0.2}},\"type\":\"bar\"}],\"scattergeo\":[{\"type\":\"scattergeo\",\"marker\":{\"colorbar\":{\"outlinewidth\":0,\"ticks\":\"\"}}}],\"scatterpolar\":[{\"type\":\"scatterpolar\",\"marker\":{\"colorbar\":{\"outlinewidth\":0,\"ticks\":\"\"}}}],\"histogram\":[{\"marker\":{\"pattern\":{\"fillmode\":\"overlay\",\"size\":10,\"solidity\":0.2}},\"type\":\"histogram\"}],\"scattergl\":[{\"type\":\"scattergl\",\"marker\":{\"colorbar\":{\"outlinewidth\":0,\"ticks\":\"\"}}}],\"scatter3d\":[{\"type\":\"scatter3d\",\"line\":{\"colorbar\":{\"outlinewidth\":0,\"ticks\":\"\"}},\"marker\":{\"colorbar\":{\"outlinewidth\":0,\"ticks\":\"\"}}}],\"scattermapbox\":[{\"type\":\"scattermapbox\",\"marker\":{\"colorbar\":{\"outlinewidth\":0,\"ticks\":\"\"}}}],\"scatterternary\":[{\"type\":\"scatterternary\",\"marker\":{\"colorbar\":{\"outlinewidth\":0,\"ticks\":\"\"}}}],\"scattercarpet\":[{\"type\":\"scattercarpet\",\"marker\":{\"colorbar\":{\"outlinewidth\":0,\"ticks\":\"\"}}}],\"carpet\":[{\"aaxis\":{\"endlinecolor\":\"#2a3f5f\",\"gridcolor\":\"white\",\"linecolor\":\"white\",\"minorgridcolor\":\"white\",\"startlinecolor\":\"#2a3f5f\"},\"baxis\":{\"endlinecolor\":\"#2a3f5f\",\"gridcolor\":\"white\",\"linecolor\":\"white\",\"minorgridcolor\":\"white\",\"startlinecolor\":\"#2a3f5f\"},\"type\":\"carpet\"}],\"table\":[{\"cells\":{\"fill\":{\"color\":\"#EBF0F8\"},\"line\":{\"color\":\"white\"}},\"header\":{\"fill\":{\"color\":\"#C8D4E3\"},\"line\":{\"color\":\"white\"}},\"type\":\"table\"}],\"barpolar\":[{\"marker\":{\"line\":{\"color\":\"#E5ECF6\",\"width\":0.5},\"pattern\":{\"fillmode\":\"overlay\",\"size\":10,\"solidity\":0.2}},\"type\":\"barpolar\"}],\"pie\":[{\"automargin\":true,\"type\":\"pie\"}]},\"layout\":{\"autotypenumbers\":\"strict\",\"colorway\":[\"#636efa\",\"#EF553B\",\"#00cc96\",\"#ab63fa\",\"#FFA15A\",\"#19d3f3\",\"#FF6692\",\"#B6E880\",\"#FF97FF\",\"#FECB52\"],\"font\":{\"color\":\"#2a3f5f\"},\"hovermode\":\"closest\",\"hoverlabel\":{\"align\":\"left\"},\"paper_bgcolor\":\"white\",\"plot_bgcolor\":\"#E5ECF6\",\"polar\":{\"bgcolor\":\"#E5ECF6\",\"angularaxis\":{\"gridcolor\":\"white\",\"linecolor\":\"white\",\"ticks\":\"\"},\"radialaxis\":{\"gridcolor\":\"white\",\"linecolor\":\"white\",\"ticks\":\"\"}},\"ternary\":{\"bgcolor\":\"#E5ECF6\",\"aaxis\":{\"gridcolor\":\"white\",\"linecolor\":\"white\",\"ticks\":\"\"},\"baxis\":{\"gridcolor\":\"white\",\"linecolor\":\"white\",\"ticks\":\"\"},\"caxis\":{\"gridcolor\":\"white\",\"linecolor\":\"white\",\"ticks\":\"\"}},\"coloraxis\":{\"colorbar\":{\"outlinewidth\":0,\"ticks\":\"\"}},\"colorscale\":{\"sequential\":[[0.0,\"#0d0887\"],[0.1111111111111111,\"#46039f\"],[0.2222222222222222,\"#7201a8\"],[0.3333333333333333,\"#9c179e\"],[0.4444444444444444,\"#bd3786\"],[0.5555555555555556,\"#d8576b\"],[0.6666666666666666,\"#ed7953\"],[0.7777777777777778,\"#fb9f3a\"],[0.8888888888888888,\"#fdca26\"],[1.0,\"#f0f921\"]],\"sequentialminus\":[[0.0,\"#0d0887\"],[0.1111111111111111,\"#46039f\"],[0.2222222222222222,\"#7201a8\"],[0.3333333333333333,\"#9c179e\"],[0.4444444444444444,\"#bd3786\"],[0.5555555555555556,\"#d8576b\"],[0.6666666666666666,\"#ed7953\"],[0.7777777777777778,\"#fb9f3a\"],[0.8888888888888888,\"#fdca26\"],[1.0,\"#f0f921\"]],\"diverging\":[[0,\"#8e0152\"],[0.1,\"#c51b7d\"],[0.2,\"#de77ae\"],[0.3,\"#f1b6da\"],[0.4,\"#fde0ef\"],[0.5,\"#f7f7f7\"],[0.6,\"#e6f5d0\"],[0.7,\"#b8e186\"],[0.8,\"#7fbc41\"],[0.9,\"#4d9221\"],[1,\"#276419\"]]},\"xaxis\":{\"gridcolor\":\"white\",\"linecolor\":\"white\",\"ticks\":\"\",\"title\":{\"standoff\":15},\"zerolinecolor\":\"white\",\"automargin\":true,\"zerolinewidth\":2},\"yaxis\":{\"gridcolor\":\"white\",\"linecolor\":\"white\",\"ticks\":\"\",\"title\":{\"standoff\":15},\"zerolinecolor\":\"white\",\"automargin\":true,\"zerolinewidth\":2},\"scene\":{\"xaxis\":{\"backgroundcolor\":\"#E5ECF6\",\"gridcolor\":\"white\",\"linecolor\":\"white\",\"showbackground\":true,\"ticks\":\"\",\"zerolinecolor\":\"white\",\"gridwidth\":2},\"yaxis\":{\"backgroundcolor\":\"#E5ECF6\",\"gridcolor\":\"white\",\"linecolor\":\"white\",\"showbackground\":true,\"ticks\":\"\",\"zerolinecolor\":\"white\",\"gridwidth\":2},\"zaxis\":{\"backgroundcolor\":\"#E5ECF6\",\"gridcolor\":\"white\",\"linecolor\":\"white\",\"showbackground\":true,\"ticks\":\"\",\"zerolinecolor\":\"white\",\"gridwidth\":2}},\"shapedefaults\":{\"line\":{\"color\":\"#2a3f5f\"}},\"annotationdefaults\":{\"arrowcolor\":\"#2a3f5f\",\"arrowhead\":0,\"arrowwidth\":1},\"geo\":{\"bgcolor\":\"white\",\"landcolor\":\"#E5ECF6\",\"subunitcolor\":\"white\",\"showland\":true,\"showlakes\":true,\"lakecolor\":\"white\"},\"title\":{\"x\":0.05},\"mapbox\":{\"style\":\"light\"}}},\"xaxis\":{\"anchor\":\"y\",\"domain\":[0.0,1.0],\"title\":{\"text\":\"\\uc124\\ub9bd\\uc77c_year\"}},\"yaxis\":{\"anchor\":\"x\",\"domain\":[0.0,1.0],\"title\":{\"text\":\"sum of count\"}},\"legend\":{\"tracegroupgap\":0},\"margin\":{\"t\":60},\"barmode\":\"relative\"},                        {\"responsive\": true}                    ).then(function(){\n",
       "                            \n",
       "var gd = document.getElementById('96c3cbd5-cb09-43eb-8fa7-d3e14483a696');\n",
       "var x = new MutationObserver(function (mutations, observer) {{\n",
       "        var display = window.getComputedStyle(gd).display;\n",
       "        if (!display || display === 'none') {{\n",
       "            console.log([gd, 'removed!']);\n",
       "            Plotly.purge(gd);\n",
       "            observer.disconnect();\n",
       "        }}\n",
       "}});\n",
       "\n",
       "// Listen for the removal of the full notebook cells\n",
       "var notebookContainer = gd.closest('#notebook-container');\n",
       "if (notebookContainer) {{\n",
       "    x.observe(notebookContainer, {childList: true});\n",
       "}}\n",
       "\n",
       "// Listen for the clearing of the current output cell\n",
       "var outputEl = gd.closest('.output');\n",
       "if (outputEl) {{\n",
       "    x.observe(outputEl, {childList: true});\n",
       "}}\n",
       "\n",
       "                        })                };                });            </script>        </div>"
      ]
     },
     "metadata": {},
     "output_type": "display_data"
    }
   ],
   "source": [
    "df1 = p1.loc[p1['대분류'] == '정보통신업']\n",
    "px.histogram(df1,x='설립일_year' , y='count')"
   ]
  },
  {
   "cell_type": "code",
   "execution_count": 35,
   "id": "a257d918-5f57-4617-8435-fb06e0db2afd",
   "metadata": {},
   "outputs": [
    {
     "data": {
      "application/vnd.plotly.v1+json": {
       "config": {
        "plotlyServerURL": "https://plot.ly"
       },
       "data": [
        {
         "alignmentgroup": "True",
         "bingroup": "x",
         "histfunc": "sum",
         "hovertemplate": "설립일_year=%{x}<br>sum of count=%{y}<extra></extra>",
         "legendgroup": "",
         "marker": {
          "color": "#636efa",
          "pattern": {
           "shape": ""
          }
         },
         "name": "",
         "offsetgroup": "",
         "orientation": "v",
         "showlegend": false,
         "type": "histogram",
         "x": [
          1954,
          1958,
          1967,
          1968,
          1972,
          1974,
          1975,
          1976,
          1977,
          1981,
          1984,
          1986,
          1987,
          1988,
          1989,
          1990,
          1991,
          1992,
          1993,
          1994,
          1995,
          1996,
          1997,
          1998,
          1999,
          2000,
          2001,
          2002,
          2003,
          2004,
          2005,
          2006,
          2007,
          2008,
          2009,
          2010,
          2011,
          2012,
          2013,
          2014,
          2015,
          2016,
          2017,
          2018,
          2019,
          2020
         ],
         "xaxis": "x",
         "y": [
          1,
          1,
          1,
          1,
          1,
          1,
          2,
          2,
          1,
          1,
          1,
          1,
          2,
          2,
          4,
          2,
          2,
          3,
          4,
          2,
          8,
          7,
          10,
          12,
          21,
          18,
          16,
          18,
          16,
          30,
          29,
          24,
          22,
          29,
          39,
          43,
          39,
          45,
          40,
          47,
          59,
          61,
          48,
          37,
          21,
          4
         ],
         "yaxis": "y"
        }
       ],
       "layout": {
        "autosize": true,
        "barmode": "relative",
        "legend": {
         "tracegroupgap": 0
        },
        "margin": {
         "t": 60
        },
        "template": {
         "data": {
          "bar": [
           {
            "error_x": {
             "color": "#2a3f5f"
            },
            "error_y": {
             "color": "#2a3f5f"
            },
            "marker": {
             "line": {
              "color": "#E5ECF6",
              "width": 0.5
             },
             "pattern": {
              "fillmode": "overlay",
              "size": 10,
              "solidity": 0.2
             }
            },
            "type": "bar"
           }
          ],
          "barpolar": [
           {
            "marker": {
             "line": {
              "color": "#E5ECF6",
              "width": 0.5
             },
             "pattern": {
              "fillmode": "overlay",
              "size": 10,
              "solidity": 0.2
             }
            },
            "type": "barpolar"
           }
          ],
          "carpet": [
           {
            "aaxis": {
             "endlinecolor": "#2a3f5f",
             "gridcolor": "white",
             "linecolor": "white",
             "minorgridcolor": "white",
             "startlinecolor": "#2a3f5f"
            },
            "baxis": {
             "endlinecolor": "#2a3f5f",
             "gridcolor": "white",
             "linecolor": "white",
             "minorgridcolor": "white",
             "startlinecolor": "#2a3f5f"
            },
            "type": "carpet"
           }
          ],
          "choropleth": [
           {
            "colorbar": {
             "outlinewidth": 0,
             "ticks": ""
            },
            "type": "choropleth"
           }
          ],
          "contour": [
           {
            "colorbar": {
             "outlinewidth": 0,
             "ticks": ""
            },
            "colorscale": [
             [
              0,
              "#0d0887"
             ],
             [
              0.1111111111111111,
              "#46039f"
             ],
             [
              0.2222222222222222,
              "#7201a8"
             ],
             [
              0.3333333333333333,
              "#9c179e"
             ],
             [
              0.4444444444444444,
              "#bd3786"
             ],
             [
              0.5555555555555556,
              "#d8576b"
             ],
             [
              0.6666666666666666,
              "#ed7953"
             ],
             [
              0.7777777777777778,
              "#fb9f3a"
             ],
             [
              0.8888888888888888,
              "#fdca26"
             ],
             [
              1,
              "#f0f921"
             ]
            ],
            "type": "contour"
           }
          ],
          "contourcarpet": [
           {
            "colorbar": {
             "outlinewidth": 0,
             "ticks": ""
            },
            "type": "contourcarpet"
           }
          ],
          "heatmap": [
           {
            "colorbar": {
             "outlinewidth": 0,
             "ticks": ""
            },
            "colorscale": [
             [
              0,
              "#0d0887"
             ],
             [
              0.1111111111111111,
              "#46039f"
             ],
             [
              0.2222222222222222,
              "#7201a8"
             ],
             [
              0.3333333333333333,
              "#9c179e"
             ],
             [
              0.4444444444444444,
              "#bd3786"
             ],
             [
              0.5555555555555556,
              "#d8576b"
             ],
             [
              0.6666666666666666,
              "#ed7953"
             ],
             [
              0.7777777777777778,
              "#fb9f3a"
             ],
             [
              0.8888888888888888,
              "#fdca26"
             ],
             [
              1,
              "#f0f921"
             ]
            ],
            "type": "heatmap"
           }
          ],
          "heatmapgl": [
           {
            "colorbar": {
             "outlinewidth": 0,
             "ticks": ""
            },
            "colorscale": [
             [
              0,
              "#0d0887"
             ],
             [
              0.1111111111111111,
              "#46039f"
             ],
             [
              0.2222222222222222,
              "#7201a8"
             ],
             [
              0.3333333333333333,
              "#9c179e"
             ],
             [
              0.4444444444444444,
              "#bd3786"
             ],
             [
              0.5555555555555556,
              "#d8576b"
             ],
             [
              0.6666666666666666,
              "#ed7953"
             ],
             [
              0.7777777777777778,
              "#fb9f3a"
             ],
             [
              0.8888888888888888,
              "#fdca26"
             ],
             [
              1,
              "#f0f921"
             ]
            ],
            "type": "heatmapgl"
           }
          ],
          "histogram": [
           {
            "marker": {
             "pattern": {
              "fillmode": "overlay",
              "size": 10,
              "solidity": 0.2
             }
            },
            "type": "histogram"
           }
          ],
          "histogram2d": [
           {
            "colorbar": {
             "outlinewidth": 0,
             "ticks": ""
            },
            "colorscale": [
             [
              0,
              "#0d0887"
             ],
             [
              0.1111111111111111,
              "#46039f"
             ],
             [
              0.2222222222222222,
              "#7201a8"
             ],
             [
              0.3333333333333333,
              "#9c179e"
             ],
             [
              0.4444444444444444,
              "#bd3786"
             ],
             [
              0.5555555555555556,
              "#d8576b"
             ],
             [
              0.6666666666666666,
              "#ed7953"
             ],
             [
              0.7777777777777778,
              "#fb9f3a"
             ],
             [
              0.8888888888888888,
              "#fdca26"
             ],
             [
              1,
              "#f0f921"
             ]
            ],
            "type": "histogram2d"
           }
          ],
          "histogram2dcontour": [
           {
            "colorbar": {
             "outlinewidth": 0,
             "ticks": ""
            },
            "colorscale": [
             [
              0,
              "#0d0887"
             ],
             [
              0.1111111111111111,
              "#46039f"
             ],
             [
              0.2222222222222222,
              "#7201a8"
             ],
             [
              0.3333333333333333,
              "#9c179e"
             ],
             [
              0.4444444444444444,
              "#bd3786"
             ],
             [
              0.5555555555555556,
              "#d8576b"
             ],
             [
              0.6666666666666666,
              "#ed7953"
             ],
             [
              0.7777777777777778,
              "#fb9f3a"
             ],
             [
              0.8888888888888888,
              "#fdca26"
             ],
             [
              1,
              "#f0f921"
             ]
            ],
            "type": "histogram2dcontour"
           }
          ],
          "mesh3d": [
           {
            "colorbar": {
             "outlinewidth": 0,
             "ticks": ""
            },
            "type": "mesh3d"
           }
          ],
          "parcoords": [
           {
            "line": {
             "colorbar": {
              "outlinewidth": 0,
              "ticks": ""
             }
            },
            "type": "parcoords"
           }
          ],
          "pie": [
           {
            "automargin": true,
            "type": "pie"
           }
          ],
          "scatter": [
           {
            "fillpattern": {
             "fillmode": "overlay",
             "size": 10,
             "solidity": 0.2
            },
            "type": "scatter"
           }
          ],
          "scatter3d": [
           {
            "line": {
             "colorbar": {
              "outlinewidth": 0,
              "ticks": ""
             }
            },
            "marker": {
             "colorbar": {
              "outlinewidth": 0,
              "ticks": ""
             }
            },
            "type": "scatter3d"
           }
          ],
          "scattercarpet": [
           {
            "marker": {
             "colorbar": {
              "outlinewidth": 0,
              "ticks": ""
             }
            },
            "type": "scattercarpet"
           }
          ],
          "scattergeo": [
           {
            "marker": {
             "colorbar": {
              "outlinewidth": 0,
              "ticks": ""
             }
            },
            "type": "scattergeo"
           }
          ],
          "scattergl": [
           {
            "marker": {
             "colorbar": {
              "outlinewidth": 0,
              "ticks": ""
             }
            },
            "type": "scattergl"
           }
          ],
          "scattermapbox": [
           {
            "marker": {
             "colorbar": {
              "outlinewidth": 0,
              "ticks": ""
             }
            },
            "type": "scattermapbox"
           }
          ],
          "scatterpolar": [
           {
            "marker": {
             "colorbar": {
              "outlinewidth": 0,
              "ticks": ""
             }
            },
            "type": "scatterpolar"
           }
          ],
          "scatterpolargl": [
           {
            "marker": {
             "colorbar": {
              "outlinewidth": 0,
              "ticks": ""
             }
            },
            "type": "scatterpolargl"
           }
          ],
          "scatterternary": [
           {
            "marker": {
             "colorbar": {
              "outlinewidth": 0,
              "ticks": ""
             }
            },
            "type": "scatterternary"
           }
          ],
          "surface": [
           {
            "colorbar": {
             "outlinewidth": 0,
             "ticks": ""
            },
            "colorscale": [
             [
              0,
              "#0d0887"
             ],
             [
              0.1111111111111111,
              "#46039f"
             ],
             [
              0.2222222222222222,
              "#7201a8"
             ],
             [
              0.3333333333333333,
              "#9c179e"
             ],
             [
              0.4444444444444444,
              "#bd3786"
             ],
             [
              0.5555555555555556,
              "#d8576b"
             ],
             [
              0.6666666666666666,
              "#ed7953"
             ],
             [
              0.7777777777777778,
              "#fb9f3a"
             ],
             [
              0.8888888888888888,
              "#fdca26"
             ],
             [
              1,
              "#f0f921"
             ]
            ],
            "type": "surface"
           }
          ],
          "table": [
           {
            "cells": {
             "fill": {
              "color": "#EBF0F8"
             },
             "line": {
              "color": "white"
             }
            },
            "header": {
             "fill": {
              "color": "#C8D4E3"
             },
             "line": {
              "color": "white"
             }
            },
            "type": "table"
           }
          ]
         },
         "layout": {
          "annotationdefaults": {
           "arrowcolor": "#2a3f5f",
           "arrowhead": 0,
           "arrowwidth": 1
          },
          "autotypenumbers": "strict",
          "coloraxis": {
           "colorbar": {
            "outlinewidth": 0,
            "ticks": ""
           }
          },
          "colorscale": {
           "diverging": [
            [
             0,
             "#8e0152"
            ],
            [
             0.1,
             "#c51b7d"
            ],
            [
             0.2,
             "#de77ae"
            ],
            [
             0.3,
             "#f1b6da"
            ],
            [
             0.4,
             "#fde0ef"
            ],
            [
             0.5,
             "#f7f7f7"
            ],
            [
             0.6,
             "#e6f5d0"
            ],
            [
             0.7,
             "#b8e186"
            ],
            [
             0.8,
             "#7fbc41"
            ],
            [
             0.9,
             "#4d9221"
            ],
            [
             1,
             "#276419"
            ]
           ],
           "sequential": [
            [
             0,
             "#0d0887"
            ],
            [
             0.1111111111111111,
             "#46039f"
            ],
            [
             0.2222222222222222,
             "#7201a8"
            ],
            [
             0.3333333333333333,
             "#9c179e"
            ],
            [
             0.4444444444444444,
             "#bd3786"
            ],
            [
             0.5555555555555556,
             "#d8576b"
            ],
            [
             0.6666666666666666,
             "#ed7953"
            ],
            [
             0.7777777777777778,
             "#fb9f3a"
            ],
            [
             0.8888888888888888,
             "#fdca26"
            ],
            [
             1,
             "#f0f921"
            ]
           ],
           "sequentialminus": [
            [
             0,
             "#0d0887"
            ],
            [
             0.1111111111111111,
             "#46039f"
            ],
            [
             0.2222222222222222,
             "#7201a8"
            ],
            [
             0.3333333333333333,
             "#9c179e"
            ],
            [
             0.4444444444444444,
             "#bd3786"
            ],
            [
             0.5555555555555556,
             "#d8576b"
            ],
            [
             0.6666666666666666,
             "#ed7953"
            ],
            [
             0.7777777777777778,
             "#fb9f3a"
            ],
            [
             0.8888888888888888,
             "#fdca26"
            ],
            [
             1,
             "#f0f921"
            ]
           ]
          },
          "colorway": [
           "#636efa",
           "#EF553B",
           "#00cc96",
           "#ab63fa",
           "#FFA15A",
           "#19d3f3",
           "#FF6692",
           "#B6E880",
           "#FF97FF",
           "#FECB52"
          ],
          "font": {
           "color": "#2a3f5f"
          },
          "geo": {
           "bgcolor": "white",
           "lakecolor": "white",
           "landcolor": "#E5ECF6",
           "showlakes": true,
           "showland": true,
           "subunitcolor": "white"
          },
          "hoverlabel": {
           "align": "left"
          },
          "hovermode": "closest",
          "mapbox": {
           "style": "light"
          },
          "paper_bgcolor": "white",
          "plot_bgcolor": "#E5ECF6",
          "polar": {
           "angularaxis": {
            "gridcolor": "white",
            "linecolor": "white",
            "ticks": ""
           },
           "bgcolor": "#E5ECF6",
           "radialaxis": {
            "gridcolor": "white",
            "linecolor": "white",
            "ticks": ""
           }
          },
          "scene": {
           "xaxis": {
            "backgroundcolor": "#E5ECF6",
            "gridcolor": "white",
            "gridwidth": 2,
            "linecolor": "white",
            "showbackground": true,
            "ticks": "",
            "zerolinecolor": "white"
           },
           "yaxis": {
            "backgroundcolor": "#E5ECF6",
            "gridcolor": "white",
            "gridwidth": 2,
            "linecolor": "white",
            "showbackground": true,
            "ticks": "",
            "zerolinecolor": "white"
           },
           "zaxis": {
            "backgroundcolor": "#E5ECF6",
            "gridcolor": "white",
            "gridwidth": 2,
            "linecolor": "white",
            "showbackground": true,
            "ticks": "",
            "zerolinecolor": "white"
           }
          },
          "shapedefaults": {
           "line": {
            "color": "#2a3f5f"
           }
          },
          "ternary": {
           "aaxis": {
            "gridcolor": "white",
            "linecolor": "white",
            "ticks": ""
           },
           "baxis": {
            "gridcolor": "white",
            "linecolor": "white",
            "ticks": ""
           },
           "bgcolor": "#E5ECF6",
           "caxis": {
            "gridcolor": "white",
            "linecolor": "white",
            "ticks": ""
           }
          },
          "title": {
           "x": 0.05
          },
          "xaxis": {
           "automargin": true,
           "gridcolor": "white",
           "linecolor": "white",
           "ticks": "",
           "title": {
            "standoff": 15
           },
           "zerolinecolor": "white",
           "zerolinewidth": 2
          },
          "yaxis": {
           "automargin": true,
           "gridcolor": "white",
           "linecolor": "white",
           "ticks": "",
           "title": {
            "standoff": 15
           },
           "zerolinecolor": "white",
           "zerolinewidth": 2
          }
         }
        },
        "xaxis": {
         "anchor": "y",
         "autorange": true,
         "domain": [
          0,
          1
         ],
         "range": [
          1949.5,
          2029.5
         ],
         "title": {
          "text": "설립일_year"
         },
         "type": "linear"
        },
        "yaxis": {
         "anchor": "x",
         "autorange": true,
         "domain": [
          0,
          1
         ],
         "range": [
          0,
          463.1578947368421
         ],
         "title": {
          "text": "sum of count"
         },
         "type": "linear"
        }
       }
      },
      "image/png": "[encoded data removed]",
      "text/html": [
       "<div>                            <div id=\"4b94fa88-b88c-4d18-bf03-645b12f72c47\" class=\"plotly-graph-div\" style=\"height:525px; width:100%;\"></div>            <script type=\"text/javascript\">                require([\"plotly\"], function(Plotly) {                    window.PLOTLYENV=window.PLOTLYENV || {};                                    if (document.getElementById(\"4b94fa88-b88c-4d18-bf03-645b12f72c47\")) {                    Plotly.newPlot(                        \"4b94fa88-b88c-4d18-bf03-645b12f72c47\",                        [{\"alignmentgroup\":\"True\",\"bingroup\":\"x\",\"histfunc\":\"sum\",\"hovertemplate\":\"\\uc124\\ub9bd\\uc77c_year=%{x}<br>sum of count=%{y}<extra></extra>\",\"legendgroup\":\"\",\"marker\":{\"color\":\"#636efa\",\"pattern\":{\"shape\":\"\"}},\"name\":\"\",\"offsetgroup\":\"\",\"orientation\":\"v\",\"showlegend\":false,\"x\":[1954.0,1958.0,1967.0,1968.0,1972.0,1974.0,1975.0,1976.0,1977.0,1981.0,1984.0,1986.0,1987.0,1988.0,1989.0,1990.0,1991.0,1992.0,1993.0,1994.0,1995.0,1996.0,1997.0,1998.0,1999.0,2000.0,2001.0,2002.0,2003.0,2004.0,2005.0,2006.0,2007.0,2008.0,2009.0,2010.0,2011.0,2012.0,2013.0,2014.0,2015.0,2016.0,2017.0,2018.0,2019.0,2020.0],\"xaxis\":\"x\",\"y\":[1,1,1,1,1,1,2,2,1,1,1,1,2,2,4,2,2,3,4,2,8,7,10,12,21,18,16,18,16,30,29,24,22,29,39,43,39,45,40,47,59,61,48,37,21,4],\"yaxis\":\"y\",\"type\":\"histogram\"}],                        {\"template\":{\"data\":{\"histogram2dcontour\":[{\"type\":\"histogram2dcontour\",\"colorbar\":{\"outlinewidth\":0,\"ticks\":\"\"},\"colorscale\":[[0.0,\"#0d0887\"],[0.1111111111111111,\"#46039f\"],[0.2222222222222222,\"#7201a8\"],[0.3333333333333333,\"#9c179e\"],[0.4444444444444444,\"#bd3786\"],[0.5555555555555556,\"#d8576b\"],[0.6666666666666666,\"#ed7953\"],[0.7777777777777778,\"#fb9f3a\"],[0.8888888888888888,\"#fdca26\"],[1.0,\"#f0f921\"]]}],\"choropleth\":[{\"type\":\"choropleth\",\"colorbar\":{\"outlinewidth\":0,\"ticks\":\"\"}}],\"histogram2d\":[{\"type\":\"histogram2d\",\"colorbar\":{\"outlinewidth\":0,\"ticks\":\"\"},\"colorscale\":[[0.0,\"#0d0887\"],[0.1111111111111111,\"#46039f\"],[0.2222222222222222,\"#7201a8\"],[0.3333333333333333,\"#9c179e\"],[0.4444444444444444,\"#bd3786\"],[0.5555555555555556,\"#d8576b\"],[0.6666666666666666,\"#ed7953\"],[0.7777777777777778,\"#fb9f3a\"],[0.8888888888888888,\"#fdca26\"],[1.0,\"#f0f921\"]]}],\"heatmap\":[{\"type\":\"heatmap\",\"colorbar\":{\"outlinewidth\":0,\"ticks\":\"\"},\"colorscale\":[[0.0,\"#0d0887\"],[0.1111111111111111,\"#46039f\"],[0.2222222222222222,\"#7201a8\"],[0.3333333333333333,\"#9c179e\"],[0.4444444444444444,\"#bd3786\"],[0.5555555555555556,\"#d8576b\"],[0.6666666666666666,\"#ed7953\"],[0.7777777777777778,\"#fb9f3a\"],[0.8888888888888888,\"#fdca26\"],[1.0,\"#f0f921\"]]}],\"heatmapgl\":[{\"type\":\"heatmapgl\",\"colorbar\":{\"outlinewidth\":0,\"ticks\":\"\"},\"colorscale\":[[0.0,\"#0d0887\"],[0.1111111111111111,\"#46039f\"],[0.2222222222222222,\"#7201a8\"],[0.3333333333333333,\"#9c179e\"],[0.4444444444444444,\"#bd3786\"],[0.5555555555555556,\"#d8576b\"],[0.6666666666666666,\"#ed7953\"],[0.7777777777777778,\"#fb9f3a\"],[0.8888888888888888,\"#fdca26\"],[1.0,\"#f0f921\"]]}],\"contourcarpet\":[{\"type\":\"contourcarpet\",\"colorbar\":{\"outlinewidth\":0,\"ticks\":\"\"}}],\"contour\":[{\"type\":\"contour\",\"colorbar\":{\"outlinewidth\":0,\"ticks\":\"\"},\"colorscale\":[[0.0,\"#0d0887\"],[0.1111111111111111,\"#46039f\"],[0.2222222222222222,\"#7201a8\"],[0.3333333333333333,\"#9c179e\"],[0.4444444444444444,\"#bd3786\"],[0.5555555555555556,\"#d8576b\"],[0.6666666666666666,\"#ed7953\"],[0.7777777777777778,\"#fb9f3a\"],[0.8888888888888888,\"#fdca26\"],[1.0,\"#f0f921\"]]}],\"surface\":[{\"type\":\"surface\",\"colorbar\":{\"outlinewidth\":0,\"ticks\":\"\"},\"colorscale\":[[0.0,\"#0d0887\"],[0.1111111111111111,\"#46039f\"],[0.2222222222222222,\"#7201a8\"],[0.3333333333333333,\"#9c179e\"],[0.4444444444444444,\"#bd3786\"],[0.5555555555555556,\"#d8576b\"],[0.6666666666666666,\"#ed7953\"],[0.7777777777777778,\"#fb9f3a\"],[0.8888888888888888,\"#fdca26\"],[1.0,\"#f0f921\"]]}],\"mesh3d\":[{\"type\":\"mesh3d\",\"colorbar\":{\"outlinewidth\":0,\"ticks\":\"\"}}],\"scatter\":[{\"fillpattern\":{\"fillmode\":\"overlay\",\"size\":10,\"solidity\":0.2},\"type\":\"scatter\"}],\"parcoords\":[{\"type\":\"parcoords\",\"line\":{\"colorbar\":{\"outlinewidth\":0,\"ticks\":\"\"}}}],\"scatterpolargl\":[{\"type\":\"scatterpolargl\",\"marker\":{\"colorbar\":{\"outlinewidth\":0,\"ticks\":\"\"}}}],\"bar\":[{\"error_x\":{\"color\":\"#2a3f5f\"},\"error_y\":{\"color\":\"#2a3f5f\"},\"marker\":{\"line\":{\"color\":\"#E5ECF6\",\"width\":0.5},\"pattern\":{\"fillmode\":\"overlay\",\"size\":10,\"solidity\":0.2}},\"type\":\"bar\"}],\"scattergeo\":[{\"type\":\"scattergeo\",\"marker\":{\"colorbar\":{\"outlinewidth\":0,\"ticks\":\"\"}}}],\"scatterpolar\":[{\"type\":\"scatterpolar\",\"marker\":{\"colorbar\":{\"outlinewidth\":0,\"ticks\":\"\"}}}],\"histogram\":[{\"marker\":{\"pattern\":{\"fillmode\":\"overlay\",\"size\":10,\"solidity\":0.2}},\"type\":\"histogram\"}],\"scattergl\":[{\"type\":\"scattergl\",\"marker\":{\"colorbar\":{\"outlinewidth\":0,\"ticks\":\"\"}}}],\"scatter3d\":[{\"type\":\"scatter3d\",\"line\":{\"colorbar\":{\"outlinewidth\":0,\"ticks\":\"\"}},\"marker\":{\"colorbar\":{\"outlinewidth\":0,\"ticks\":\"\"}}}],\"scattermapbox\":[{\"type\":\"scattermapbox\",\"marker\":{\"colorbar\":{\"outlinewidth\":0,\"ticks\":\"\"}}}],\"scatterternary\":[{\"type\":\"scatterternary\",\"marker\":{\"colorbar\":{\"outlinewidth\":0,\"ticks\":\"\"}}}],\"scattercarpet\":[{\"type\":\"scattercarpet\",\"marker\":{\"colorbar\":{\"outlinewidth\":0,\"ticks\":\"\"}}}],\"carpet\":[{\"aaxis\":{\"endlinecolor\":\"#2a3f5f\",\"gridcolor\":\"white\",\"linecolor\":\"white\",\"minorgridcolor\":\"white\",\"startlinecolor\":\"#2a3f5f\"},\"baxis\":{\"endlinecolor\":\"#2a3f5f\",\"gridcolor\":\"white\",\"linecolor\":\"white\",\"minorgridcolor\":\"white\",\"startlinecolor\":\"#2a3f5f\"},\"type\":\"carpet\"}],\"table\":[{\"cells\":{\"fill\":{\"color\":\"#EBF0F8\"},\"line\":{\"color\":\"white\"}},\"header\":{\"fill\":{\"color\":\"#C8D4E3\"},\"line\":{\"color\":\"white\"}},\"type\":\"table\"}],\"barpolar\":[{\"marker\":{\"line\":{\"color\":\"#E5ECF6\",\"width\":0.5},\"pattern\":{\"fillmode\":\"overlay\",\"size\":10,\"solidity\":0.2}},\"type\":\"barpolar\"}],\"pie\":[{\"automargin\":true,\"type\":\"pie\"}]},\"layout\":{\"autotypenumbers\":\"strict\",\"colorway\":[\"#636efa\",\"#EF553B\",\"#00cc96\",\"#ab63fa\",\"#FFA15A\",\"#19d3f3\",\"#FF6692\",\"#B6E880\",\"#FF97FF\",\"#FECB52\"],\"font\":{\"color\":\"#2a3f5f\"},\"hovermode\":\"closest\",\"hoverlabel\":{\"align\":\"left\"},\"paper_bgcolor\":\"white\",\"plot_bgcolor\":\"#E5ECF6\",\"polar\":{\"bgcolor\":\"#E5ECF6\",\"angularaxis\":{\"gridcolor\":\"white\",\"linecolor\":\"white\",\"ticks\":\"\"},\"radialaxis\":{\"gridcolor\":\"white\",\"linecolor\":\"white\",\"ticks\":\"\"}},\"ternary\":{\"bgcolor\":\"#E5ECF6\",\"aaxis\":{\"gridcolor\":\"white\",\"linecolor\":\"white\",\"ticks\":\"\"},\"baxis\":{\"gridcolor\":\"white\",\"linecolor\":\"white\",\"ticks\":\"\"},\"caxis\":{\"gridcolor\":\"white\",\"linecolor\":\"white\",\"ticks\":\"\"}},\"coloraxis\":{\"colorbar\":{\"outlinewidth\":0,\"ticks\":\"\"}},\"colorscale\":{\"sequential\":[[0.0,\"#0d0887\"],[0.1111111111111111,\"#46039f\"],[0.2222222222222222,\"#7201a8\"],[0.3333333333333333,\"#9c179e\"],[0.4444444444444444,\"#bd3786\"],[0.5555555555555556,\"#d8576b\"],[0.6666666666666666,\"#ed7953\"],[0.7777777777777778,\"#fb9f3a\"],[0.8888888888888888,\"#fdca26\"],[1.0,\"#f0f921\"]],\"sequentialminus\":[[0.0,\"#0d0887\"],[0.1111111111111111,\"#46039f\"],[0.2222222222222222,\"#7201a8\"],[0.3333333333333333,\"#9c179e\"],[0.4444444444444444,\"#bd3786\"],[0.5555555555555556,\"#d8576b\"],[0.6666666666666666,\"#ed7953\"],[0.7777777777777778,\"#fb9f3a\"],[0.8888888888888888,\"#fdca26\"],[1.0,\"#f0f921\"]],\"diverging\":[[0,\"#8e0152\"],[0.1,\"#c51b7d\"],[0.2,\"#de77ae\"],[0.3,\"#f1b6da\"],[0.4,\"#fde0ef\"],[0.5,\"#f7f7f7\"],[0.6,\"#e6f5d0\"],[0.7,\"#b8e186\"],[0.8,\"#7fbc41\"],[0.9,\"#4d9221\"],[1,\"#276419\"]]},\"xaxis\":{\"gridcolor\":\"white\",\"linecolor\":\"white\",\"ticks\":\"\",\"title\":{\"standoff\":15},\"zerolinecolor\":\"white\",\"automargin\":true,\"zerolinewidth\":2},\"yaxis\":{\"gridcolor\":\"white\",\"linecolor\":\"white\",\"ticks\":\"\",\"title\":{\"standoff\":15},\"zerolinecolor\":\"white\",\"automargin\":true,\"zerolinewidth\":2},\"scene\":{\"xaxis\":{\"backgroundcolor\":\"#E5ECF6\",\"gridcolor\":\"white\",\"linecolor\":\"white\",\"showbackground\":true,\"ticks\":\"\",\"zerolinecolor\":\"white\",\"gridwidth\":2},\"yaxis\":{\"backgroundcolor\":\"#E5ECF6\",\"gridcolor\":\"white\",\"linecolor\":\"white\",\"showbackground\":true,\"ticks\":\"\",\"zerolinecolor\":\"white\",\"gridwidth\":2},\"zaxis\":{\"backgroundcolor\":\"#E5ECF6\",\"gridcolor\":\"white\",\"linecolor\":\"white\",\"showbackground\":true,\"ticks\":\"\",\"zerolinecolor\":\"white\",\"gridwidth\":2}},\"shapedefaults\":{\"line\":{\"color\":\"#2a3f5f\"}},\"annotationdefaults\":{\"arrowcolor\":\"#2a3f5f\",\"arrowhead\":0,\"arrowwidth\":1},\"geo\":{\"bgcolor\":\"white\",\"landcolor\":\"#E5ECF6\",\"subunitcolor\":\"white\",\"showland\":true,\"showlakes\":true,\"lakecolor\":\"white\"},\"title\":{\"x\":0.05},\"mapbox\":{\"style\":\"light\"}}},\"xaxis\":{\"anchor\":\"y\",\"domain\":[0.0,1.0],\"title\":{\"text\":\"\\uc124\\ub9bd\\uc77c_year\"}},\"yaxis\":{\"anchor\":\"x\",\"domain\":[0.0,1.0],\"title\":{\"text\":\"sum of count\"}},\"legend\":{\"tracegroupgap\":0},\"margin\":{\"t\":60},\"barmode\":\"relative\"},                        {\"responsive\": true}                    ).then(function(){\n",
       "                            \n",
       "var gd = document.getElementById('4b94fa88-b88c-4d18-bf03-645b12f72c47');\n",
       "var x = new MutationObserver(function (mutations, observer) {{\n",
       "        var display = window.getComputedStyle(gd).display;\n",
       "        if (!display || display === 'none') {{\n",
       "            console.log([gd, 'removed!']);\n",
       "            Plotly.purge(gd);\n",
       "            observer.disconnect();\n",
       "        }}\n",
       "}});\n",
       "\n",
       "// Listen for the removal of the full notebook cells\n",
       "var notebookContainer = gd.closest('#notebook-container');\n",
       "if (notebookContainer) {{\n",
       "    x.observe(notebookContainer, {childList: true});\n",
       "}}\n",
       "\n",
       "// Listen for the clearing of the current output cell\n",
       "var outputEl = gd.closest('.output');\n",
       "if (outputEl) {{\n",
       "    x.observe(outputEl, {childList: true});\n",
       "}}\n",
       "\n",
       "                        })                };                });            </script>        </div>"
      ]
     },
     "metadata": {},
     "output_type": "display_data"
    }
   ],
   "source": [
    "df2 = p1.loc[p1['대분류'] == '도매 및 소매업']\n",
    "df2\n",
    "px.histogram(df2,x='설립일_year' , y='count')"
   ]
  },
  {
   "cell_type": "code",
   "execution_count": 36,
   "id": "b3303767-67ff-4f17-801d-bd622cd68031",
   "metadata": {},
   "outputs": [
    {
     "data": {
      "application/vnd.plotly.v1+json": {
       "config": {
        "plotlyServerURL": "https://plot.ly"
       },
       "data": [
        {
         "alignmentgroup": "True",
         "bingroup": "x",
         "histfunc": "sum",
         "hovertemplate": "설립일_year=%{x}<br>sum of count=%{y}<extra></extra>",
         "legendgroup": "",
         "marker": {
          "color": "#636efa",
          "pattern": {
           "shape": ""
          }
         },
         "name": "",
         "offsetgroup": "",
         "orientation": "v",
         "showlegend": false,
         "type": "histogram",
         "x": [
          1955,
          1956,
          1960,
          1965,
          1969,
          1970,
          1971,
          1972,
          1974,
          1975,
          1977,
          1978,
          1980,
          1982,
          1983,
          1985,
          1986,
          1987,
          1988,
          1989,
          1990,
          1991,
          1992,
          1993,
          1994,
          1995,
          1996,
          1997,
          1998,
          1999,
          2000,
          2001,
          2002,
          2003,
          2004,
          2005,
          2006,
          2007,
          2008,
          2009,
          2010,
          2011,
          2012,
          2013,
          2014,
          2015,
          2016,
          2017,
          2018,
          2019,
          2020
         ],
         "xaxis": "x",
         "y": [
          1,
          1,
          1,
          1,
          1,
          1,
          2,
          5,
          1,
          3,
          1,
          1,
          1,
          1,
          2,
          3,
          2,
          1,
          5,
          2,
          1,
          3,
          4,
          6,
          8,
          5,
          6,
          10,
          12,
          17,
          26,
          25,
          14,
          22,
          19,
          15,
          19,
          23,
          22,
          18,
          20,
          13,
          30,
          35,
          34,
          62,
          37,
          44,
          35,
          22,
          6
         ],
         "yaxis": "y"
        }
       ],
       "layout": {
        "autosize": true,
        "barmode": "relative",
        "legend": {
         "tracegroupgap": 0
        },
        "margin": {
         "t": 60
        },
        "template": {
         "data": {
          "bar": [
           {
            "error_x": {
             "color": "#2a3f5f"
            },
            "error_y": {
             "color": "#2a3f5f"
            },
            "marker": {
             "line": {
              "color": "#E5ECF6",
              "width": 0.5
             },
             "pattern": {
              "fillmode": "overlay",
              "size": 10,
              "solidity": 0.2
             }
            },
            "type": "bar"
           }
          ],
          "barpolar": [
           {
            "marker": {
             "line": {
              "color": "#E5ECF6",
              "width": 0.5
             },
             "pattern": {
              "fillmode": "overlay",
              "size": 10,
              "solidity": 0.2
             }
            },
            "type": "barpolar"
           }
          ],
          "carpet": [
           {
            "aaxis": {
             "endlinecolor": "#2a3f5f",
             "gridcolor": "white",
             "linecolor": "white",
             "minorgridcolor": "white",
             "startlinecolor": "#2a3f5f"
            },
            "baxis": {
             "endlinecolor": "#2a3f5f",
             "gridcolor": "white",
             "linecolor": "white",
             "minorgridcolor": "white",
             "startlinecolor": "#2a3f5f"
            },
            "type": "carpet"
           }
          ],
          "choropleth": [
           {
            "colorbar": {
             "outlinewidth": 0,
             "ticks": ""
            },
            "type": "choropleth"
           }
          ],
          "contour": [
           {
            "colorbar": {
             "outlinewidth": 0,
             "ticks": ""
            },
            "colorscale": [
             [
              0,
              "#0d0887"
             ],
             [
              0.1111111111111111,
              "#46039f"
             ],
             [
              0.2222222222222222,
              "#7201a8"
             ],
             [
              0.3333333333333333,
              "#9c179e"
             ],
             [
              0.4444444444444444,
              "#bd3786"
             ],
             [
              0.5555555555555556,
              "#d8576b"
             ],
             [
              0.6666666666666666,
              "#ed7953"
             ],
             [
              0.7777777777777778,
              "#fb9f3a"
             ],
             [
              0.8888888888888888,
              "#fdca26"
             ],
             [
              1,
              "#f0f921"
             ]
            ],
            "type": "contour"
           }
          ],
          "contourcarpet": [
           {
            "colorbar": {
             "outlinewidth": 0,
             "ticks": ""
            },
            "type": "contourcarpet"
           }
          ],
          "heatmap": [
           {
            "colorbar": {
             "outlinewidth": 0,
             "ticks": ""
            },
            "colorscale": [
             [
              0,
              "#0d0887"
             ],
             [
              0.1111111111111111,
              "#46039f"
             ],
             [
              0.2222222222222222,
              "#7201a8"
             ],
             [
              0.3333333333333333,
              "#9c179e"
             ],
             [
              0.4444444444444444,
              "#bd3786"
             ],
             [
              0.5555555555555556,
              "#d8576b"
             ],
             [
              0.6666666666666666,
              "#ed7953"
             ],
             [
              0.7777777777777778,
              "#fb9f3a"
             ],
             [
              0.8888888888888888,
              "#fdca26"
             ],
             [
              1,
              "#f0f921"
             ]
            ],
            "type": "heatmap"
           }
          ],
          "heatmapgl": [
           {
            "colorbar": {
             "outlinewidth": 0,
             "ticks": ""
            },
            "colorscale": [
             [
              0,
              "#0d0887"
             ],
             [
              0.1111111111111111,
              "#46039f"
             ],
             [
              0.2222222222222222,
              "#7201a8"
             ],
             [
              0.3333333333333333,
              "#9c179e"
             ],
             [
              0.4444444444444444,
              "#bd3786"
             ],
             [
              0.5555555555555556,
              "#d8576b"
             ],
             [
              0.6666666666666666,
              "#ed7953"
             ],
             [
              0.7777777777777778,
              "#fb9f3a"
             ],
             [
              0.8888888888888888,
              "#fdca26"
             ],
             [
              1,
              "#f0f921"
             ]
            ],
            "type": "heatmapgl"
           }
          ],
          "histogram": [
           {
            "marker": {
             "pattern": {
              "fillmode": "overlay",
              "size": 10,
              "solidity": 0.2
             }
            },
            "type": "histogram"
           }
          ],
          "histogram2d": [
           {
            "colorbar": {
             "outlinewidth": 0,
             "ticks": ""
            },
            "colorscale": [
             [
              0,
              "#0d0887"
             ],
             [
              0.1111111111111111,
              "#46039f"
             ],
             [
              0.2222222222222222,
              "#7201a8"
             ],
             [
              0.3333333333333333,
              "#9c179e"
             ],
             [
              0.4444444444444444,
              "#bd3786"
             ],
             [
              0.5555555555555556,
              "#d8576b"
             ],
             [
              0.6666666666666666,
              "#ed7953"
             ],
             [
              0.7777777777777778,
              "#fb9f3a"
             ],
             [
              0.8888888888888888,
              "#fdca26"
             ],
             [
              1,
              "#f0f921"
             ]
            ],
            "type": "histogram2d"
           }
          ],
          "histogram2dcontour": [
           {
            "colorbar": {
             "outlinewidth": 0,
             "ticks": ""
            },
            "colorscale": [
             [
              0,
              "#0d0887"
             ],
             [
              0.1111111111111111,
              "#46039f"
             ],
             [
              0.2222222222222222,
              "#7201a8"
             ],
             [
              0.3333333333333333,
              "#9c179e"
             ],
             [
              0.4444444444444444,
              "#bd3786"
             ],
             [
              0.5555555555555556,
              "#d8576b"
             ],
             [
              0.6666666666666666,
              "#ed7953"
             ],
             [
              0.7777777777777778,
              "#fb9f3a"
             ],
             [
              0.8888888888888888,
              "#fdca26"
             ],
             [
              1,
              "#f0f921"
             ]
            ],
            "type": "histogram2dcontour"
           }
          ],
          "mesh3d": [
           {
            "colorbar": {
             "outlinewidth": 0,
             "ticks": ""
            },
            "type": "mesh3d"
           }
          ],
          "parcoords": [
           {
            "line": {
             "colorbar": {
              "outlinewidth": 0,
              "ticks": ""
             }
            },
            "type": "parcoords"
           }
          ],
          "pie": [
           {
            "automargin": true,
            "type": "pie"
           }
          ],
          "scatter": [
           {
            "fillpattern": {
             "fillmode": "overlay",
             "size": 10,
             "solidity": 0.2
            },
            "type": "scatter"
           }
          ],
          "scatter3d": [
           {
            "line": {
             "colorbar": {
              "outlinewidth": 0,
              "ticks": ""
             }
            },
            "marker": {
             "colorbar": {
              "outlinewidth": 0,
              "ticks": ""
             }
            },
            "type": "scatter3d"
           }
          ],
          "scattercarpet": [
           {
            "marker": {
             "colorbar": {
              "outlinewidth": 0,
              "ticks": ""
             }
            },
            "type": "scattercarpet"
           }
          ],
          "scattergeo": [
           {
            "marker": {
             "colorbar": {
              "outlinewidth": 0,
              "ticks": ""
             }
            },
            "type": "scattergeo"
           }
          ],
          "scattergl": [
           {
            "marker": {
             "colorbar": {
              "outlinewidth": 0,
              "ticks": ""
             }
            },
            "type": "scattergl"
           }
          ],
          "scattermapbox": [
           {
            "marker": {
             "colorbar": {
              "outlinewidth": 0,
              "ticks": ""
             }
            },
            "type": "scattermapbox"
           }
          ],
          "scatterpolar": [
           {
            "marker": {
             "colorbar": {
              "outlinewidth": 0,
              "ticks": ""
             }
            },
            "type": "scatterpolar"
           }
          ],
          "scatterpolargl": [
           {
            "marker": {
             "colorbar": {
              "outlinewidth": 0,
              "ticks": ""
             }
            },
            "type": "scatterpolargl"
           }
          ],
          "scatterternary": [
           {
            "marker": {
             "colorbar": {
              "outlinewidth": 0,
              "ticks": ""
             }
            },
            "type": "scatterternary"
           }
          ],
          "surface": [
           {
            "colorbar": {
             "outlinewidth": 0,
             "ticks": ""
            },
            "colorscale": [
             [
              0,
              "#0d0887"
             ],
             [
              0.1111111111111111,
              "#46039f"
             ],
             [
              0.2222222222222222,
              "#7201a8"
             ],
             [
              0.3333333333333333,
              "#9c179e"
             ],
             [
              0.4444444444444444,
              "#bd3786"
             ],
             [
              0.5555555555555556,
              "#d8576b"
             ],
             [
              0.6666666666666666,
              "#ed7953"
             ],
             [
              0.7777777777777778,
              "#fb9f3a"
             ],
             [
              0.8888888888888888,
              "#fdca26"
             ],
             [
              1,
              "#f0f921"
             ]
            ],
            "type": "surface"
           }
          ],
          "table": [
           {
            "cells": {
             "fill": {
              "color": "#EBF0F8"
             },
             "line": {
              "color": "white"
             }
            },
            "header": {
             "fill": {
              "color": "#C8D4E3"
             },
             "line": {
              "color": "white"
             }
            },
            "type": "table"
           }
          ]
         },
         "layout": {
          "annotationdefaults": {
           "arrowcolor": "#2a3f5f",
           "arrowhead": 0,
           "arrowwidth": 1
          },
          "autotypenumbers": "strict",
          "coloraxis": {
           "colorbar": {
            "outlinewidth": 0,
            "ticks": ""
           }
          },
          "colorscale": {
           "diverging": [
            [
             0,
             "#8e0152"
            ],
            [
             0.1,
             "#c51b7d"
            ],
            [
             0.2,
             "#de77ae"
            ],
            [
             0.3,
             "#f1b6da"
            ],
            [
             0.4,
             "#fde0ef"
            ],
            [
             0.5,
             "#f7f7f7"
            ],
            [
             0.6,
             "#e6f5d0"
            ],
            [
             0.7,
             "#b8e186"
            ],
            [
             0.8,
             "#7fbc41"
            ],
            [
             0.9,
             "#4d9221"
            ],
            [
             1,
             "#276419"
            ]
           ],
           "sequential": [
            [
             0,
             "#0d0887"
            ],
            [
             0.1111111111111111,
             "#46039f"
            ],
            [
             0.2222222222222222,
             "#7201a8"
            ],
            [
             0.3333333333333333,
             "#9c179e"
            ],
            [
             0.4444444444444444,
             "#bd3786"
            ],
            [
             0.5555555555555556,
             "#d8576b"
            ],
            [
             0.6666666666666666,
             "#ed7953"
            ],
            [
             0.7777777777777778,
             "#fb9f3a"
            ],
            [
             0.8888888888888888,
             "#fdca26"
            ],
            [
             1,
             "#f0f921"
            ]
           ],
           "sequentialminus": [
            [
             0,
             "#0d0887"
            ],
            [
             0.1111111111111111,
             "#46039f"
            ],
            [
             0.2222222222222222,
             "#7201a8"
            ],
            [
             0.3333333333333333,
             "#9c179e"
            ],
            [
             0.4444444444444444,
             "#bd3786"
            ],
            [
             0.5555555555555556,
             "#d8576b"
            ],
            [
             0.6666666666666666,
             "#ed7953"
            ],
            [
             0.7777777777777778,
             "#fb9f3a"
            ],
            [
             0.8888888888888888,
             "#fdca26"
            ],
            [
             1,
             "#f0f921"
            ]
           ]
          },
          "colorway": [
           "#636efa",
           "#EF553B",
           "#00cc96",
           "#ab63fa",
           "#FFA15A",
           "#19d3f3",
           "#FF6692",
           "#B6E880",
           "#FF97FF",
           "#FECB52"
          ],
          "font": {
           "color": "#2a3f5f"
          },
          "geo": {
           "bgcolor": "white",
           "lakecolor": "white",
           "landcolor": "#E5ECF6",
           "showlakes": true,
           "showland": true,
           "subunitcolor": "white"
          },
          "hoverlabel": {
           "align": "left"
          },
          "hovermode": "closest",
          "mapbox": {
           "style": "light"
          },
          "paper_bgcolor": "white",
          "plot_bgcolor": "#E5ECF6",
          "polar": {
           "angularaxis": {
            "gridcolor": "white",
            "linecolor": "white",
            "ticks": ""
           },
           "bgcolor": "#E5ECF6",
           "radialaxis": {
            "gridcolor": "white",
            "linecolor": "white",
            "ticks": ""
           }
          },
          "scene": {
           "xaxis": {
            "backgroundcolor": "#E5ECF6",
            "gridcolor": "white",
            "gridwidth": 2,
            "linecolor": "white",
            "showbackground": true,
            "ticks": "",
            "zerolinecolor": "white"
           },
           "yaxis": {
            "backgroundcolor": "#E5ECF6",
            "gridcolor": "white",
            "gridwidth": 2,
            "linecolor": "white",
            "showbackground": true,
            "ticks": "",
            "zerolinecolor": "white"
           },
           "zaxis": {
            "backgroundcolor": "#E5ECF6",
            "gridcolor": "white",
            "gridwidth": 2,
            "linecolor": "white",
            "showbackground": true,
            "ticks": "",
            "zerolinecolor": "white"
           }
          },
          "shapedefaults": {
           "line": {
            "color": "#2a3f5f"
           }
          },
          "ternary": {
           "aaxis": {
            "gridcolor": "white",
            "linecolor": "white",
            "ticks": ""
           },
           "baxis": {
            "gridcolor": "white",
            "linecolor": "white",
            "ticks": ""
           },
           "bgcolor": "#E5ECF6",
           "caxis": {
            "gridcolor": "white",
            "linecolor": "white",
            "ticks": ""
           }
          },
          "title": {
           "x": 0.05
          },
          "xaxis": {
           "automargin": true,
           "gridcolor": "white",
           "linecolor": "white",
           "ticks": "",
           "title": {
            "standoff": 15
           },
           "zerolinecolor": "white",
           "zerolinewidth": 2
          },
          "yaxis": {
           "automargin": true,
           "gridcolor": "white",
           "linecolor": "white",
           "ticks": "",
           "title": {
            "standoff": 15
           },
           "zerolinecolor": "white",
           "zerolinewidth": 2
          }
         }
        },
        "xaxis": {
         "anchor": "y",
         "autorange": true,
         "domain": [
          0,
          1
         ],
         "range": [
          1949.5,
          2029.5
         ],
         "title": {
          "text": "설립일_year"
         },
         "type": "linear"
        },
        "yaxis": {
         "anchor": "x",
         "autorange": true,
         "domain": [
          0,
          1
         ],
         "range": [
          0,
          349.4736842105263
         ],
         "title": {
          "text": "sum of count"
         },
         "type": "linear"
        }
       }
      },
      "image/png": "[encoded data removed]",
      "text/html": [
       "<div>                            <div id=\"2e4b9f31-0d10-4310-a113-ccb0919ba08c\" class=\"plotly-graph-div\" style=\"height:525px; width:100%;\"></div>            <script type=\"text/javascript\">                require([\"plotly\"], function(Plotly) {                    window.PLOTLYENV=window.PLOTLYENV || {};                                    if (document.getElementById(\"2e4b9f31-0d10-4310-a113-ccb0919ba08c\")) {                    Plotly.newPlot(                        \"2e4b9f31-0d10-4310-a113-ccb0919ba08c\",                        [{\"alignmentgroup\":\"True\",\"bingroup\":\"x\",\"histfunc\":\"sum\",\"hovertemplate\":\"\\uc124\\ub9bd\\uc77c_year=%{x}<br>sum of count=%{y}<extra></extra>\",\"legendgroup\":\"\",\"marker\":{\"color\":\"#636efa\",\"pattern\":{\"shape\":\"\"}},\"name\":\"\",\"offsetgroup\":\"\",\"orientation\":\"v\",\"showlegend\":false,\"x\":[1955.0,1956.0,1960.0,1965.0,1969.0,1970.0,1971.0,1972.0,1974.0,1975.0,1977.0,1978.0,1980.0,1982.0,1983.0,1985.0,1986.0,1987.0,1988.0,1989.0,1990.0,1991.0,1992.0,1993.0,1994.0,1995.0,1996.0,1997.0,1998.0,1999.0,2000.0,2001.0,2002.0,2003.0,2004.0,2005.0,2006.0,2007.0,2008.0,2009.0,2010.0,2011.0,2012.0,2013.0,2014.0,2015.0,2016.0,2017.0,2018.0,2019.0,2020.0],\"xaxis\":\"x\",\"y\":[1,1,1,1,1,1,2,5,1,3,1,1,1,1,2,3,2,1,5,2,1,3,4,6,8,5,6,10,12,17,26,25,14,22,19,15,19,23,22,18,20,13,30,35,34,62,37,44,35,22,6],\"yaxis\":\"y\",\"type\":\"histogram\"}],                        {\"template\":{\"data\":{\"histogram2dcontour\":[{\"type\":\"histogram2dcontour\",\"colorbar\":{\"outlinewidth\":0,\"ticks\":\"\"},\"colorscale\":[[0.0,\"#0d0887\"],[0.1111111111111111,\"#46039f\"],[0.2222222222222222,\"#7201a8\"],[0.3333333333333333,\"#9c179e\"],[0.4444444444444444,\"#bd3786\"],[0.5555555555555556,\"#d8576b\"],[0.6666666666666666,\"#ed7953\"],[0.7777777777777778,\"#fb9f3a\"],[0.8888888888888888,\"#fdca26\"],[1.0,\"#f0f921\"]]}],\"choropleth\":[{\"type\":\"choropleth\",\"colorbar\":{\"outlinewidth\":0,\"ticks\":\"\"}}],\"histogram2d\":[{\"type\":\"histogram2d\",\"colorbar\":{\"outlinewidth\":0,\"ticks\":\"\"},\"colorscale\":[[0.0,\"#0d0887\"],[0.1111111111111111,\"#46039f\"],[0.2222222222222222,\"#7201a8\"],[0.3333333333333333,\"#9c179e\"],[0.4444444444444444,\"#bd3786\"],[0.5555555555555556,\"#d8576b\"],[0.6666666666666666,\"#ed7953\"],[0.7777777777777778,\"#fb9f3a\"],[0.8888888888888888,\"#fdca26\"],[1.0,\"#f0f921\"]]}],\"heatmap\":[{\"type\":\"heatmap\",\"colorbar\":{\"outlinewidth\":0,\"ticks\":\"\"},\"colorscale\":[[0.0,\"#0d0887\"],[0.1111111111111111,\"#46039f\"],[0.2222222222222222,\"#7201a8\"],[0.3333333333333333,\"#9c179e\"],[0.4444444444444444,\"#bd3786\"],[0.5555555555555556,\"#d8576b\"],[0.6666666666666666,\"#ed7953\"],[0.7777777777777778,\"#fb9f3a\"],[0.8888888888888888,\"#fdca26\"],[1.0,\"#f0f921\"]]}],\"heatmapgl\":[{\"type\":\"heatmapgl\",\"colorbar\":{\"outlinewidth\":0,\"ticks\":\"\"},\"colorscale\":[[0.0,\"#0d0887\"],[0.1111111111111111,\"#46039f\"],[0.2222222222222222,\"#7201a8\"],[0.3333333333333333,\"#9c179e\"],[0.4444444444444444,\"#bd3786\"],[0.5555555555555556,\"#d8576b\"],[0.6666666666666666,\"#ed7953\"],[0.7777777777777778,\"#fb9f3a\"],[0.8888888888888888,\"#fdca26\"],[1.0,\"#f0f921\"]]}],\"contourcarpet\":[{\"type\":\"contourcarpet\",\"colorbar\":{\"outlinewidth\":0,\"ticks\":\"\"}}],\"contour\":[{\"type\":\"contour\",\"colorbar\":{\"outlinewidth\":0,\"ticks\":\"\"},\"colorscale\":[[0.0,\"#0d0887\"],[0.1111111111111111,\"#46039f\"],[0.2222222222222222,\"#7201a8\"],[0.3333333333333333,\"#9c179e\"],[0.4444444444444444,\"#bd3786\"],[0.5555555555555556,\"#d8576b\"],[0.6666666666666666,\"#ed7953\"],[0.7777777777777778,\"#fb9f3a\"],[0.8888888888888888,\"#fdca26\"],[1.0,\"#f0f921\"]]}],\"surface\":[{\"type\":\"surface\",\"colorbar\":{\"outlinewidth\":0,\"ticks\":\"\"},\"colorscale\":[[0.0,\"#0d0887\"],[0.1111111111111111,\"#46039f\"],[0.2222222222222222,\"#7201a8\"],[0.3333333333333333,\"#9c179e\"],[0.4444444444444444,\"#bd3786\"],[0.5555555555555556,\"#d8576b\"],[0.6666666666666666,\"#ed7953\"],[0.7777777777777778,\"#fb9f3a\"],[0.8888888888888888,\"#fdca26\"],[1.0,\"#f0f921\"]]}],\"mesh3d\":[{\"type\":\"mesh3d\",\"colorbar\":{\"outlinewidth\":0,\"ticks\":\"\"}}],\"scatter\":[{\"fillpattern\":{\"fillmode\":\"overlay\",\"size\":10,\"solidity\":0.2},\"type\":\"scatter\"}],\"parcoords\":[{\"type\":\"parcoords\",\"line\":{\"colorbar\":{\"outlinewidth\":0,\"ticks\":\"\"}}}],\"scatterpolargl\":[{\"type\":\"scatterpolargl\",\"marker\":{\"colorbar\":{\"outlinewidth\":0,\"ticks\":\"\"}}}],\"bar\":[{\"error_x\":{\"color\":\"#2a3f5f\"},\"error_y\":{\"color\":\"#2a3f5f\"},\"marker\":{\"line\":{\"color\":\"#E5ECF6\",\"width\":0.5},\"pattern\":{\"fillmode\":\"overlay\",\"size\":10,\"solidity\":0.2}},\"type\":\"bar\"}],\"scattergeo\":[{\"type\":\"scattergeo\",\"marker\":{\"colorbar\":{\"outlinewidth\":0,\"ticks\":\"\"}}}],\"scatterpolar\":[{\"type\":\"scatterpolar\",\"marker\":{\"colorbar\":{\"outlinewidth\":0,\"ticks\":\"\"}}}],\"histogram\":[{\"marker\":{\"pattern\":{\"fillmode\":\"overlay\",\"size\":10,\"solidity\":0.2}},\"type\":\"histogram\"}],\"scattergl\":[{\"type\":\"scattergl\",\"marker\":{\"colorbar\":{\"outlinewidth\":0,\"ticks\":\"\"}}}],\"scatter3d\":[{\"type\":\"scatter3d\",\"line\":{\"colorbar\":{\"outlinewidth\":0,\"ticks\":\"\"}},\"marker\":{\"colorbar\":{\"outlinewidth\":0,\"ticks\":\"\"}}}],\"scattermapbox\":[{\"type\":\"scattermapbox\",\"marker\":{\"colorbar\":{\"outlinewidth\":0,\"ticks\":\"\"}}}],\"scatterternary\":[{\"type\":\"scatterternary\",\"marker\":{\"colorbar\":{\"outlinewidth\":0,\"ticks\":\"\"}}}],\"scattercarpet\":[{\"type\":\"scattercarpet\",\"marker\":{\"colorbar\":{\"outlinewidth\":0,\"ticks\":\"\"}}}],\"carpet\":[{\"aaxis\":{\"endlinecolor\":\"#2a3f5f\",\"gridcolor\":\"white\",\"linecolor\":\"white\",\"minorgridcolor\":\"white\",\"startlinecolor\":\"#2a3f5f\"},\"baxis\":{\"endlinecolor\":\"#2a3f5f\",\"gridcolor\":\"white\",\"linecolor\":\"white\",\"minorgridcolor\":\"white\",\"startlinecolor\":\"#2a3f5f\"},\"type\":\"carpet\"}],\"table\":[{\"cells\":{\"fill\":{\"color\":\"#EBF0F8\"},\"line\":{\"color\":\"white\"}},\"header\":{\"fill\":{\"color\":\"#C8D4E3\"},\"line\":{\"color\":\"white\"}},\"type\":\"table\"}],\"barpolar\":[{\"marker\":{\"line\":{\"color\":\"#E5ECF6\",\"width\":0.5},\"pattern\":{\"fillmode\":\"overlay\",\"size\":10,\"solidity\":0.2}},\"type\":\"barpolar\"}],\"pie\":[{\"automargin\":true,\"type\":\"pie\"}]},\"layout\":{\"autotypenumbers\":\"strict\",\"colorway\":[\"#636efa\",\"#EF553B\",\"#00cc96\",\"#ab63fa\",\"#FFA15A\",\"#19d3f3\",\"#FF6692\",\"#B6E880\",\"#FF97FF\",\"#FECB52\"],\"font\":{\"color\":\"#2a3f5f\"},\"hovermode\":\"closest\",\"hoverlabel\":{\"align\":\"left\"},\"paper_bgcolor\":\"white\",\"plot_bgcolor\":\"#E5ECF6\",\"polar\":{\"bgcolor\":\"#E5ECF6\",\"angularaxis\":{\"gridcolor\":\"white\",\"linecolor\":\"white\",\"ticks\":\"\"},\"radialaxis\":{\"gridcolor\":\"white\",\"linecolor\":\"white\",\"ticks\":\"\"}},\"ternary\":{\"bgcolor\":\"#E5ECF6\",\"aaxis\":{\"gridcolor\":\"white\",\"linecolor\":\"white\",\"ticks\":\"\"},\"baxis\":{\"gridcolor\":\"white\",\"linecolor\":\"white\",\"ticks\":\"\"},\"caxis\":{\"gridcolor\":\"white\",\"linecolor\":\"white\",\"ticks\":\"\"}},\"coloraxis\":{\"colorbar\":{\"outlinewidth\":0,\"ticks\":\"\"}},\"colorscale\":{\"sequential\":[[0.0,\"#0d0887\"],[0.1111111111111111,\"#46039f\"],[0.2222222222222222,\"#7201a8\"],[0.3333333333333333,\"#9c179e\"],[0.4444444444444444,\"#bd3786\"],[0.5555555555555556,\"#d8576b\"],[0.6666666666666666,\"#ed7953\"],[0.7777777777777778,\"#fb9f3a\"],[0.8888888888888888,\"#fdca26\"],[1.0,\"#f0f921\"]],\"sequentialminus\":[[0.0,\"#0d0887\"],[0.1111111111111111,\"#46039f\"],[0.2222222222222222,\"#7201a8\"],[0.3333333333333333,\"#9c179e\"],[0.4444444444444444,\"#bd3786\"],[0.5555555555555556,\"#d8576b\"],[0.6666666666666666,\"#ed7953\"],[0.7777777777777778,\"#fb9f3a\"],[0.8888888888888888,\"#fdca26\"],[1.0,\"#f0f921\"]],\"diverging\":[[0,\"#8e0152\"],[0.1,\"#c51b7d\"],[0.2,\"#de77ae\"],[0.3,\"#f1b6da\"],[0.4,\"#fde0ef\"],[0.5,\"#f7f7f7\"],[0.6,\"#e6f5d0\"],[0.7,\"#b8e186\"],[0.8,\"#7fbc41\"],[0.9,\"#4d9221\"],[1,\"#276419\"]]},\"xaxis\":{\"gridcolor\":\"white\",\"linecolor\":\"white\",\"ticks\":\"\",\"title\":{\"standoff\":15},\"zerolinecolor\":\"white\",\"automargin\":true,\"zerolinewidth\":2},\"yaxis\":{\"gridcolor\":\"white\",\"linecolor\":\"white\",\"ticks\":\"\",\"title\":{\"standoff\":15},\"zerolinecolor\":\"white\",\"automargin\":true,\"zerolinewidth\":2},\"scene\":{\"xaxis\":{\"backgroundcolor\":\"#E5ECF6\",\"gridcolor\":\"white\",\"linecolor\":\"white\",\"showbackground\":true,\"ticks\":\"\",\"zerolinecolor\":\"white\",\"gridwidth\":2},\"yaxis\":{\"backgroundcolor\":\"#E5ECF6\",\"gridcolor\":\"white\",\"linecolor\":\"white\",\"showbackground\":true,\"ticks\":\"\",\"zerolinecolor\":\"white\",\"gridwidth\":2},\"zaxis\":{\"backgroundcolor\":\"#E5ECF6\",\"gridcolor\":\"white\",\"linecolor\":\"white\",\"showbackground\":true,\"ticks\":\"\",\"zerolinecolor\":\"white\",\"gridwidth\":2}},\"shapedefaults\":{\"line\":{\"color\":\"#2a3f5f\"}},\"annotationdefaults\":{\"arrowcolor\":\"#2a3f5f\",\"arrowhead\":0,\"arrowwidth\":1},\"geo\":{\"bgcolor\":\"white\",\"landcolor\":\"#E5ECF6\",\"subunitcolor\":\"white\",\"showland\":true,\"showlakes\":true,\"lakecolor\":\"white\"},\"title\":{\"x\":0.05},\"mapbox\":{\"style\":\"light\"}}},\"xaxis\":{\"anchor\":\"y\",\"domain\":[0.0,1.0],\"title\":{\"text\":\"\\uc124\\ub9bd\\uc77c_year\"}},\"yaxis\":{\"anchor\":\"x\",\"domain\":[0.0,1.0],\"title\":{\"text\":\"sum of count\"}},\"legend\":{\"tracegroupgap\":0},\"margin\":{\"t\":60},\"barmode\":\"relative\"},                        {\"responsive\": true}                    ).then(function(){\n",
       "                            \n",
       "var gd = document.getElementById('2e4b9f31-0d10-4310-a113-ccb0919ba08c');\n",
       "var x = new MutationObserver(function (mutations, observer) {{\n",
       "        var display = window.getComputedStyle(gd).display;\n",
       "        if (!display || display === 'none') {{\n",
       "            console.log([gd, 'removed!']);\n",
       "            Plotly.purge(gd);\n",
       "            observer.disconnect();\n",
       "        }}\n",
       "}});\n",
       "\n",
       "// Listen for the removal of the full notebook cells\n",
       "var notebookContainer = gd.closest('#notebook-container');\n",
       "if (notebookContainer) {{\n",
       "    x.observe(notebookContainer, {childList: true});\n",
       "}}\n",
       "\n",
       "// Listen for the clearing of the current output cell\n",
       "var outputEl = gd.closest('.output');\n",
       "if (outputEl) {{\n",
       "    x.observe(outputEl, {childList: true});\n",
       "}}\n",
       "\n",
       "                        })                };                });            </script>        </div>"
      ]
     },
     "metadata": {},
     "output_type": "display_data"
    }
   ],
   "source": [
    "df3 = p1.loc[p1['대분류'] == '제조업']\n",
    "df3\n",
    "px.histogram(df3,x='설립일_year' , y='count')"
   ]
  },
  {
   "cell_type": "code",
   "execution_count": 37,
   "id": "dc77fd84-def9-4cb5-bfad-2ff75ceac31c",
   "metadata": {},
   "outputs": [
    {
     "name": "stdout",
     "output_type": "stream",
     "text": [
      "<class 'pandas.core.frame.DataFrame'>\n",
      "RangeIndex: 888634 entries, 0 to 888633\n",
      "Data columns (total 7 columns):\n",
      " #   Column       Non-Null Count   Dtype  \n",
      "---  ------       --------------   -----  \n",
      " 0   Unnamed: 0   888634 non-null  int64  \n",
      " 1   BusinessNum  888634 non-null  int64  \n",
      " 2   stYear       887950 non-null  float64\n",
      " 3   stNm         887950 non-null  object \n",
      " 4   acctCd       887950 non-null  object \n",
      " 5   accNm        887950 non-null  object \n",
      " 6   acctAmt      887947 non-null  float64\n",
      "dtypes: float64(2), int64(2), object(3)\n",
      "memory usage: 47.5+ MB\n"
     ]
    }
   ],
   "source": [
    "comp_finance.info()"
   ]
  },
  {
   "cell_type": "code",
   "execution_count": 44,
   "id": "930161dc-1521-4394-a6ea-a020342d58f5",
   "metadata": {},
   "outputs": [
    {
     "data": {
      "text/html": [
       "<div>\n",
       "<style scoped>\n",
       "    .dataframe tbody tr th:only-of-type {\n",
       "        vertical-align: middle;\n",
       "    }\n",
       "\n",
       "    .dataframe tbody tr th {\n",
       "        vertical-align: top;\n",
       "    }\n",
       "\n",
       "    .dataframe thead th {\n",
       "        text-align: right;\n",
       "    }\n",
       "</style>\n",
       "<table border=\"1\" class=\"dataframe\">\n",
       "  <thead>\n",
       "    <tr style=\"text-align: right;\">\n",
       "      <th></th>\n",
       "      <th>Unnamed: 0</th>\n",
       "      <th>사업자등록번호</th>\n",
       "      <th>Unnamed: 2</th>\n",
       "      <th>기업명</th>\n",
       "      <th>기업영문명</th>\n",
       "      <th>대표자명</th>\n",
       "      <th>종업원수</th>\n",
       "      <th>종업원수기준년월</th>\n",
       "      <th>산업분류코드</th>\n",
       "      <th>산업분류코드설명</th>\n",
       "      <th>...</th>\n",
       "      <th>주소</th>\n",
       "      <th>상세주보</th>\n",
       "      <th>대분류</th>\n",
       "      <th>중분류</th>\n",
       "      <th>소분류</th>\n",
       "      <th>세분류</th>\n",
       "      <th>indCd1_str</th>\n",
       "      <th>count</th>\n",
       "      <th>설립일_dt</th>\n",
       "      <th>설립일_year</th>\n",
       "    </tr>\n",
       "  </thead>\n",
       "  <tbody>\n",
       "    <tr>\n",
       "      <th>0</th>\n",
       "      <td>1</td>\n",
       "      <td>1010204456</td>\n",
       "      <td>NaN</td>\n",
       "      <td>씨앤피비즈***</td>\n",
       "      <td>C&amp;P BIZ SOLUT***</td>\n",
       "      <td>함**</td>\n",
       "      <td>5.0</td>\n",
       "      <td>Jun-21</td>\n",
       "      <td>46510</td>\n",
       "      <td>컴퓨터 및 주변장치, 소프트웨어 도매업</td>\n",
       "      <td>...</td>\n",
       "      <td>서울 마포구 월드컵북로 137</td>\n",
       "      <td>(성산동,C.S타워 B3호)</td>\n",
       "      <td>도매 및 소매업</td>\n",
       "      <td>도매 및 상품 중개업</td>\n",
       "      <td>기계장비 및 관련 물품 도매업</td>\n",
       "      <td>컴퓨터 및 주변장치, 소프트웨어 도매업</td>\n",
       "      <td>46510</td>\n",
       "      <td>1</td>\n",
       "      <td>2000-04-14</td>\n",
       "      <td>2000.0</td>\n",
       "    </tr>\n",
       "    <tr>\n",
       "      <th>1</th>\n",
       "      <td>36</td>\n",
       "      <td>1608104528</td>\n",
       "      <td>NaN</td>\n",
       "      <td>(주)그린정보***</td>\n",
       "      <td>GREEN INFORMATION SYATEM CO.KR Co., L***</td>\n",
       "      <td>이**</td>\n",
       "      <td>7.0</td>\n",
       "      <td>Dec-21</td>\n",
       "      <td>46510</td>\n",
       "      <td>컴퓨터 및 주변장치, 소프트웨어 도매업</td>\n",
       "      <td>...</td>\n",
       "      <td>서울 마포구 신촌로12다길 20</td>\n",
       "      <td>1층 (노고산동,스테이하이오피스텔)</td>\n",
       "      <td>도매 및 소매업</td>\n",
       "      <td>도매 및 상품 중개업</td>\n",
       "      <td>기계장비 및 관련 물품 도매업</td>\n",
       "      <td>컴퓨터 및 주변장치, 소프트웨어 도매업</td>\n",
       "      <td>46510</td>\n",
       "      <td>1</td>\n",
       "      <td>2018-01-09</td>\n",
       "      <td>2018.0</td>\n",
       "    </tr>\n",
       "    <tr>\n",
       "      <th>2</th>\n",
       "      <td>577</td>\n",
       "      <td>3123102159</td>\n",
       "      <td>NaN</td>\n",
       "      <td>그린아**</td>\n",
       "      <td>Green IT ***</td>\n",
       "      <td>이**</td>\n",
       "      <td>8.0</td>\n",
       "      <td>Sep-21</td>\n",
       "      <td>46510</td>\n",
       "      <td>컴퓨터 및 주변장치, 소프트웨어 도매업</td>\n",
       "      <td>...</td>\n",
       "      <td>충남 천안시 서북구 오성8길</td>\n",
       "      <td>30, 401호 (두정동,상지빌딩)</td>\n",
       "      <td>도매 및 소매업</td>\n",
       "      <td>도매 및 상품 중개업</td>\n",
       "      <td>기계장비 및 관련 물품 도매업</td>\n",
       "      <td>컴퓨터 및 주변장치, 소프트웨어 도매업</td>\n",
       "      <td>46510</td>\n",
       "      <td>1</td>\n",
       "      <td>2012-11-01</td>\n",
       "      <td>2012.0</td>\n",
       "    </tr>\n",
       "    <tr>\n",
       "      <th>3</th>\n",
       "      <td>636</td>\n",
       "      <td>5048504267</td>\n",
       "      <td>NaN</td>\n",
       "      <td>(주)진두아이에스대***</td>\n",
       "      <td>Jin Do IS Daegu Bra***</td>\n",
       "      <td>손**</td>\n",
       "      <td>NaN</td>\n",
       "      <td>NaN</td>\n",
       "      <td>46510</td>\n",
       "      <td>컴퓨터 및 주변장치, 소프트웨어 도매업</td>\n",
       "      <td>...</td>\n",
       "      <td>대구광역시 중구 동덕로</td>\n",
       "      <td>64-15 (대봉동)</td>\n",
       "      <td>도매 및 소매업</td>\n",
       "      <td>도매 및 상품 중개업</td>\n",
       "      <td>기계장비 및 관련 물품 도매업</td>\n",
       "      <td>컴퓨터 및 주변장치, 소프트웨어 도매업</td>\n",
       "      <td>46510</td>\n",
       "      <td>1</td>\n",
       "      <td>2008-01-14</td>\n",
       "      <td>2008.0</td>\n",
       "    </tr>\n",
       "    <tr>\n",
       "      <th>4</th>\n",
       "      <td>846</td>\n",
       "      <td>1138103379</td>\n",
       "      <td>NaN</td>\n",
       "      <td>선진인포텍***</td>\n",
       "      <td>Sunjin Infotech Co., L***</td>\n",
       "      <td>김**</td>\n",
       "      <td>15.0</td>\n",
       "      <td>Mar-19</td>\n",
       "      <td>46510</td>\n",
       "      <td>컴퓨터 및 주변장치, 소프트웨어 도매업</td>\n",
       "      <td>...</td>\n",
       "      <td>서울 금천구 가산디지털1로 5</td>\n",
       "      <td>1613호, 1614호, 1615호, 1616호, 1617호 (가산동,대륭테크노타운...</td>\n",
       "      <td>도매 및 소매업</td>\n",
       "      <td>도매 및 상품 중개업</td>\n",
       "      <td>기계장비 및 관련 물품 도매업</td>\n",
       "      <td>컴퓨터 및 주변장치, 소프트웨어 도매업</td>\n",
       "      <td>46510</td>\n",
       "      <td>1</td>\n",
       "      <td>1998-08-24</td>\n",
       "      <td>1998.0</td>\n",
       "    </tr>\n",
       "    <tr>\n",
       "      <th>...</th>\n",
       "      <td>...</td>\n",
       "      <td>...</td>\n",
       "      <td>...</td>\n",
       "      <td>...</td>\n",
       "      <td>...</td>\n",
       "      <td>...</td>\n",
       "      <td>...</td>\n",
       "      <td>...</td>\n",
       "      <td>...</td>\n",
       "      <td>...</td>\n",
       "      <td>...</td>\n",
       "      <td>...</td>\n",
       "      <td>...</td>\n",
       "      <td>...</td>\n",
       "      <td>...</td>\n",
       "      <td>...</td>\n",
       "      <td>...</td>\n",
       "      <td>...</td>\n",
       "      <td>...</td>\n",
       "      <td>...</td>\n",
       "      <td>...</td>\n",
       "    </tr>\n",
       "    <tr>\n",
       "      <th>7485</th>\n",
       "      <td>9761</td>\n",
       "      <td>1258107565</td>\n",
       "      <td>NaN</td>\n",
       "      <td>성*</td>\n",
       "      <td>NaN</td>\n",
       "      <td>박**</td>\n",
       "      <td>6.0</td>\n",
       "      <td>Apr-22</td>\n",
       "      <td>42129</td>\n",
       "      <td>기타 기반 조성 관련 전문공사업</td>\n",
       "      <td>...</td>\n",
       "      <td>경기도 여주시 흥천면 석화길 27 (외사리)</td>\n",
       "      <td>NaN</td>\n",
       "      <td>건설업</td>\n",
       "      <td>전문직별 공사업</td>\n",
       "      <td>기반조성 및 시설물 축조관련 전문공사업</td>\n",
       "      <td>기반조성 관련 전문공사업</td>\n",
       "      <td>42129</td>\n",
       "      <td>1</td>\n",
       "      <td>2007-01-08</td>\n",
       "      <td>2007.0</td>\n",
       "    </tr>\n",
       "    <tr>\n",
       "      <th>7486</th>\n",
       "      <td>9155</td>\n",
       "      <td>5028100774</td>\n",
       "      <td>NaN</td>\n",
       "      <td>(주)***</td>\n",
       "      <td>Taegu Broadcasting Corporat***</td>\n",
       "      <td>송**</td>\n",
       "      <td>129.0</td>\n",
       "      <td>Mar-22</td>\n",
       "      <td>60210</td>\n",
       "      <td>지상파 방송업</td>\n",
       "      <td>...</td>\n",
       "      <td>대구 수성구 동대구로 23</td>\n",
       "      <td>(두산동)</td>\n",
       "      <td>정보통신업</td>\n",
       "      <td>방송업</td>\n",
       "      <td>텔레비전 방송업</td>\n",
       "      <td>지상파 방송업</td>\n",
       "      <td>60210</td>\n",
       "      <td>1</td>\n",
       "      <td>1994-10-07</td>\n",
       "      <td>1994.0</td>\n",
       "    </tr>\n",
       "    <tr>\n",
       "      <th>7487</th>\n",
       "      <td>9282</td>\n",
       "      <td>1168100017</td>\n",
       "      <td>NaN</td>\n",
       "      <td>문화**</td>\n",
       "      <td>NaN</td>\n",
       "      <td>박**</td>\n",
       "      <td>1619.0</td>\n",
       "      <td>May-22</td>\n",
       "      <td>60210</td>\n",
       "      <td>지상파 방송업</td>\n",
       "      <td>...</td>\n",
       "      <td>서울 마포구 성암로 267 (상암동)</td>\n",
       "      <td>NaN</td>\n",
       "      <td>정보통신업</td>\n",
       "      <td>방송업</td>\n",
       "      <td>텔레비전 방송업</td>\n",
       "      <td>지상파 방송업</td>\n",
       "      <td>60210</td>\n",
       "      <td>1</td>\n",
       "      <td>1961-12-02</td>\n",
       "      <td>1961.0</td>\n",
       "    </tr>\n",
       "    <tr>\n",
       "      <th>7488</th>\n",
       "      <td>9442</td>\n",
       "      <td>1238101777</td>\n",
       "      <td>NaN</td>\n",
       "      <td>환경에너지***</td>\n",
       "      <td>NaN</td>\n",
       "      <td>이**</td>\n",
       "      <td>842.0</td>\n",
       "      <td>Apr-22</td>\n",
       "      <td>38210</td>\n",
       "      <td>지정 외 폐기물 처리업</td>\n",
       "      <td>...</td>\n",
       "      <td>경기 안양시 동안구 평촌대로212번길 55 6층 (관양동,대고빌딩)</td>\n",
       "      <td>NaN</td>\n",
       "      <td>수도, 하수 및 폐기물 처리, 원료 재생업</td>\n",
       "      <td>폐기물 수집, 운반, 처리 및 원료 재생업</td>\n",
       "      <td>폐기물 처리업</td>\n",
       "      <td>지정 외 폐기물 처리업</td>\n",
       "      <td>38210</td>\n",
       "      <td>1</td>\n",
       "      <td>2002-01-18</td>\n",
       "      <td>2002.0</td>\n",
       "    </tr>\n",
       "    <tr>\n",
       "      <th>7489</th>\n",
       "      <td>9487</td>\n",
       "      <td>1208608619</td>\n",
       "      <td>NaN</td>\n",
       "      <td>네오**</td>\n",
       "      <td>NaN</td>\n",
       "      <td>김종내외***</td>\n",
       "      <td>9.0</td>\n",
       "      <td>Mar-19</td>\n",
       "      <td>28422</td>\n",
       "      <td>일반용 전기 조명장치 제조업</td>\n",
       "      <td>...</td>\n",
       "      <td>서울특별시 강남구 논현로152길 21 1층 (신사동,디오빌딩)</td>\n",
       "      <td>NaN</td>\n",
       "      <td>제조업</td>\n",
       "      <td>전기장비 제조업</td>\n",
       "      <td>전구 및 조명장치 제조업</td>\n",
       "      <td>조명장치 제조업</td>\n",
       "      <td>28422</td>\n",
       "      <td>1</td>\n",
       "      <td>2001-03-06</td>\n",
       "      <td>2001.0</td>\n",
       "    </tr>\n",
       "  </tbody>\n",
       "</table>\n",
       "<p>7490 rows × 28 columns</p>\n",
       "</div>"
      ],
      "text/plain": [
       "      Unnamed: 0     사업자등록번호  Unnamed: 2            기업명  \\\n",
       "0              1  1010204456         NaN       씨앤피비즈***   \n",
       "1             36  1608104528         NaN     (주)그린정보***   \n",
       "2            577  3123102159         NaN          그린아**   \n",
       "3            636  5048504267         NaN  (주)진두아이에스대***   \n",
       "4            846  1138103379         NaN       선진인포텍***   \n",
       "...          ...         ...         ...            ...   \n",
       "7485        9761  1258107565         NaN             성*   \n",
       "7486        9155  5028100774         NaN         (주)***   \n",
       "7487        9282  1168100017         NaN           문화**   \n",
       "7488        9442  1238101777         NaN       환경에너지***   \n",
       "7489        9487  1208608619         NaN           네오**   \n",
       "\n",
       "                                         기업영문명     대표자명    종업원수 종업원수기준년월  \\\n",
       "0                             C&P BIZ SOLUT***      함**     5.0   Jun-21   \n",
       "1     GREEN INFORMATION SYATEM CO.KR Co., L***      이**     7.0   Dec-21   \n",
       "2                                 Green IT ***      이**     8.0   Sep-21   \n",
       "3                       Jin Do IS Daegu Bra***      손**     NaN      NaN   \n",
       "4                    Sunjin Infotech Co., L***      김**    15.0   Mar-19   \n",
       "...                                        ...      ...     ...      ...   \n",
       "7485                                       NaN      박**     6.0   Apr-22   \n",
       "7486            Taegu Broadcasting Corporat***      송**   129.0   Mar-22   \n",
       "7487                                       NaN      박**  1619.0   May-22   \n",
       "7488                                       NaN      이**   842.0   Apr-22   \n",
       "7489                                       NaN  김종내외***     9.0   Mar-19   \n",
       "\n",
       "     산업분류코드               산업분류코드설명  ...  \\\n",
       "0     46510  컴퓨터 및 주변장치, 소프트웨어 도매업  ...   \n",
       "1     46510  컴퓨터 및 주변장치, 소프트웨어 도매업  ...   \n",
       "2     46510  컴퓨터 및 주변장치, 소프트웨어 도매업  ...   \n",
       "3     46510  컴퓨터 및 주변장치, 소프트웨어 도매업  ...   \n",
       "4     46510  컴퓨터 및 주변장치, 소프트웨어 도매업  ...   \n",
       "...     ...                    ...  ...   \n",
       "7485  42129      기타 기반 조성 관련 전문공사업  ...   \n",
       "7486  60210                지상파 방송업  ...   \n",
       "7487  60210                지상파 방송업  ...   \n",
       "7488  38210           지정 외 폐기물 처리업  ...   \n",
       "7489  28422        일반용 전기 조명장치 제조업  ...   \n",
       "\n",
       "                                         주소  \\\n",
       "0                          서울 마포구 월드컵북로 137   \n",
       "1                         서울 마포구 신촌로12다길 20   \n",
       "2                           충남 천안시 서북구 오성8길   \n",
       "3                              대구광역시 중구 동덕로   \n",
       "4                          서울 금천구 가산디지털1로 5   \n",
       "...                                     ...   \n",
       "7485               경기도 여주시 흥천면 석화길 27 (외사리)   \n",
       "7486                         대구 수성구 동대구로 23   \n",
       "7487                   서울 마포구 성암로 267 (상암동)   \n",
       "7488  경기 안양시 동안구 평촌대로212번길 55 6층 (관양동,대고빌딩)   \n",
       "7489     서울특별시 강남구 논현로152길 21 1층 (신사동,디오빌딩)   \n",
       "\n",
       "                                                   상세주보  \\\n",
       "0                                       (성산동,C.S타워 B3호)   \n",
       "1                                   1층 (노고산동,스테이하이오피스텔)   \n",
       "2                                   30, 401호 (두정동,상지빌딩)   \n",
       "3                                           64-15 (대봉동)   \n",
       "4     1613호, 1614호, 1615호, 1616호, 1617호 (가산동,대륭테크노타운...   \n",
       "...                                                 ...   \n",
       "7485                                                NaN   \n",
       "7486                                              (두산동)   \n",
       "7487                                                NaN   \n",
       "7488                                                NaN   \n",
       "7489                                                NaN   \n",
       "\n",
       "                          대분류                      중분류                    소분류  \\\n",
       "0                    도매 및 소매업              도매 및 상품 중개업       기계장비 및 관련 물품 도매업   \n",
       "1                    도매 및 소매업              도매 및 상품 중개업       기계장비 및 관련 물품 도매업   \n",
       "2                    도매 및 소매업              도매 및 상품 중개업       기계장비 및 관련 물품 도매업   \n",
       "3                    도매 및 소매업              도매 및 상품 중개업       기계장비 및 관련 물품 도매업   \n",
       "4                    도매 및 소매업              도매 및 상품 중개업       기계장비 및 관련 물품 도매업   \n",
       "...                       ...                      ...                    ...   \n",
       "7485                      건설업                 전문직별 공사업  기반조성 및 시설물 축조관련 전문공사업   \n",
       "7486                    정보통신업                      방송업               텔레비전 방송업   \n",
       "7487                    정보통신업                      방송업               텔레비전 방송업   \n",
       "7488  수도, 하수 및 폐기물 처리, 원료 재생업  폐기물 수집, 운반, 처리 및 원료 재생업                폐기물 처리업   \n",
       "7489                      제조업                 전기장비 제조업          전구 및 조명장치 제조업   \n",
       "\n",
       "                        세분류 indCd1_str  count     설립일_dt 설립일_year  \n",
       "0     컴퓨터 및 주변장치, 소프트웨어 도매업      46510      1 2000-04-14   2000.0  \n",
       "1     컴퓨터 및 주변장치, 소프트웨어 도매업      46510      1 2018-01-09   2018.0  \n",
       "2     컴퓨터 및 주변장치, 소프트웨어 도매업      46510      1 2012-11-01   2012.0  \n",
       "3     컴퓨터 및 주변장치, 소프트웨어 도매업      46510      1 2008-01-14   2008.0  \n",
       "4     컴퓨터 및 주변장치, 소프트웨어 도매업      46510      1 1998-08-24   1998.0  \n",
       "...                     ...        ...    ...        ...      ...  \n",
       "7485          기반조성 관련 전문공사업      42129      1 2007-01-08   2007.0  \n",
       "7486                지상파 방송업      60210      1 1994-10-07   1994.0  \n",
       "7487                지상파 방송업      60210      1 1961-12-02   1961.0  \n",
       "7488           지정 외 폐기물 처리업      38210      1 2002-01-18   2002.0  \n",
       "7489               조명장치 제조업      28422      1 2001-03-06   2001.0  \n",
       "\n",
       "[7490 rows x 28 columns]"
      ]
     },
     "execution_count": 44,
     "metadata": {},
     "output_type": "execute_result"
    }
   ],
   "source": [
    "m1"
   ]
  },
  {
   "cell_type": "markdown",
   "id": "598e96c4-a8ab-4080-bb24-b4f7cf36245e",
   "metadata": {},
   "source": [
    "# 국가 과제 없는 회사 제외"
   ]
  },
  {
   "cell_type": "code",
   "execution_count": 52,
   "id": "5cd526c8-cddb-4376-9d42-6555856953dc",
   "metadata": {},
   "outputs": [],
   "source": [
    "rnd_list = ntis_assign['BusinessNum'].unique().tolist()"
   ]
  },
  {
   "cell_type": "code",
   "execution_count": 73,
   "id": "f0b9b04d-f151-4569-9825-fba6ac973f45",
   "metadata": {},
   "outputs": [],
   "source": [
    "df_rnd = comp_spe_intro.loc[comp_spe_intro['사업자등록번호'].isin(not_rnd_list)]"
   ]
  },
  {
   "cell_type": "code",
   "execution_count": 82,
   "id": "aee8c211-f604-4dcb-957f-bd170a2fee00",
   "metadata": {},
   "outputs": [],
   "source": [
    "comp_finance_list = comp_finance['BusinessNum'].unique().tolist()\n",
    "df_finace = df_rnd.loc[comp_spe_intro['사업자등록번호'].isin(comp_finance_list)]"
   ]
  },
  {
   "cell_type": "code",
   "execution_count": 83,
   "id": "5a8e6bab-9b39-4d75-a65d-d0803474669a",
   "metadata": {},
   "outputs": [
    {
     "name": "stdout",
     "output_type": "stream",
     "text": [
      "<class 'pandas.core.frame.DataFrame'>\n",
      "Index: 5937 entries, 0 to 7489\n",
      "Data columns (total 27 columns):\n",
      " #   Column      Non-Null Count  Dtype         \n",
      "---  ------      --------------  -----         \n",
      " 0   Unnamed: 0  5937 non-null   int64         \n",
      " 1   사업자등록번호     5937 non-null   int64         \n",
      " 2   Unnamed: 2  0 non-null      float64       \n",
      " 3   기업명         5937 non-null   object        \n",
      " 4   기업영문명       5437 non-null   object        \n",
      " 5   대표자명        5937 non-null   object        \n",
      " 6   종업원수        5638 non-null   float64       \n",
      " 7   종업원수기준년월    5607 non-null   object        \n",
      " 8   산업분류코드      5937 non-null   object        \n",
      " 9   산업분류코드설명    5937 non-null   object        \n",
      " 10  기업규모        5937 non-null   object        \n",
      " 11  기업형태        5937 non-null   object        \n",
      " 12  업태명         5023 non-null   object        \n",
      " 13  설립일         5740 non-null   float64       \n",
      " 14  이메일주소       2340 non-null   object        \n",
      " 15  전화번호        5616 non-null   object        \n",
      " 16  팩스전화번호      4753 non-null   object        \n",
      " 17  우편번호        5491 non-null   float64       \n",
      " 18  주소          5904 non-null   object        \n",
      " 19  상세주보        5577 non-null   object        \n",
      " 20  설립일_dt      5740 non-null   datetime64[ns]\n",
      " 21  설립일_year    5740 non-null   float64       \n",
      " 22  대분류         5937 non-null   object        \n",
      " 23  중분류         5937 non-null   object        \n",
      " 24  소분류         5937 non-null   object        \n",
      " 25  세분류         5937 non-null   object        \n",
      " 26  indCd1_str  5937 non-null   object        \n",
      "dtypes: datetime64[ns](1), float64(5), int64(2), object(19)\n",
      "memory usage: 1.3+ MB\n"
     ]
    }
   ],
   "source": [
    "df_finace.info()"
   ]
  },
  {
   "cell_type": "code",
   "execution_count": 84,
   "id": "53daa78f-af5b-4b60-b49b-5c4fa18a20ab",
   "metadata": {},
   "outputs": [
    {
     "data": {
      "text/plain": [
       "대분류\n",
       "정보통신업                       2136\n",
       "건설업                         1982\n",
       "도매 및 소매업                     707\n",
       "제조업                          521\n",
       "전문, 과학 및 기술 서비스업             226\n",
       "사업시설 관리, 사업 지원 및 임대 서비스업     103\n",
       "협회 및 단체, 수리 및 기타 개인 서비스업      51\n",
       "부동산업                          50\n",
       "운수 및 창고업                      41\n",
       "교육 서비스업                       31\n",
       "금융 및 보험업                      30\n",
       "숙박 및 음식점업                     26\n",
       "예술, 스포츠 및 여가관련 서비스업           12\n",
       "보건업 및 사회복지 서비스업                9\n",
       "수도, 하수 및 폐기물 처리, 원료 재생업        5\n",
       "전기, 가스, 증기 및 공기 조절 공급업         4\n",
       "농업, 임업 및 어업                    2\n",
       "공공 행정, 국방 및 사회보장 행정            1\n",
       "Name: count, dtype: int64"
      ]
     },
     "execution_count": 84,
     "metadata": {},
     "output_type": "execute_result"
    }
   ],
   "source": [
    "df_finace['대분류'].value_counts()"
   ]
  },
  {
   "cell_type": "code",
   "execution_count": 5,
   "id": "79a22525-af75-4c8b-aaa3-5f16c63d6301",
   "metadata": {},
   "outputs": [
    {
     "ename": "NameError",
     "evalue": "name 'df_finace' is not defined",
     "output_type": "error",
     "traceback": [
      "\u001b[1;31m---------------------------------------------------------------------------\u001b[0m",
      "\u001b[1;31mNameError\u001b[0m                                 Traceback (most recent call last)",
      "Cell \u001b[1;32mIn[5], line 1\u001b[0m\n\u001b[1;32m----> 1\u001b[0m df_finace\u001b[38;5;241m.\u001b[39mshape()\n",
      "\u001b[1;31mNameError\u001b[0m: name 'df_finace' is not defined"
     ]
    }
   ],
   "source": [
    "df_finace.shape"
   ]
  },
  {
   "cell_type": "markdown",
   "id": "c5dbbd73-c103-4347-963a-5fde4714193e",
   "metadata": {},
   "source": [
    "# 재무정보확인"
   ]
  },
  {
   "cell_type": "code",
   "execution_count": 37,
   "id": "084ea4d1-6fdf-4de3-bf59-dacc072cff59",
   "metadata": {},
   "outputs": [
    {
     "name": "stdout",
     "output_type": "stream",
     "text": [
      "<class 'pandas.core.frame.DataFrame'>\n",
      "RangeIndex: 888634 entries, 0 to 888633\n",
      "Data columns (total 7 columns):\n",
      " #   Column       Non-Null Count   Dtype  \n",
      "---  ------       --------------   -----  \n",
      " 0   Unnamed: 0   888634 non-null  int64  \n",
      " 1   BusinessNum  888634 non-null  int64  \n",
      " 2   stYear       887950 non-null  float64\n",
      " 3   stNm         887950 non-null  object \n",
      " 4   acctCd       887950 non-null  object \n",
      " 5   accNm        887950 non-null  object \n",
      " 6   acctAmt      887947 non-null  float64\n",
      "dtypes: float64(2), int64(2), object(3)\n",
      "memory usage: 47.5+ MB\n"
     ]
    }
   ],
   "source": [
    "comp_finance.info()"
   ]
  },
  {
   "cell_type": "code",
   "execution_count": 21,
   "id": "4dd6b83a-0c7d-4a76-b61f-825d1eb7e5c6",
   "metadata": {},
   "outputs": [
    {
     "data": {
      "text/plain": [
       "array([nan, '유동자산', '당좌자산', '매출채권', '재고자산', '투자자산', '자산총계', '유동부채',\n",
       "       '비유동부채', '부채총계', '이익잉여금', '자본총계', '매출액', '매출원가', '매출총이익',\n",
       "       '판매비와관리비', '인건비', '영업이익', '영업외비용', '법인세비용', '당기순이익(손실)', '총자산 증가율',\n",
       "       '유형자산 증가율', '매출 증가율', '총자산', '자기자본', '차입금', '유동비율', '대손상각비',\n",
       "       '이자비용', '노무비', '제조경비', '제조원가', '원재료', '자본잉여금', '수출액1', '수출액2',\n",
       "       '수출액3', '수출액5', '당좌부채(당좌차월)', '수출액4'], dtype=object)"
      ]
     },
     "execution_count": 21,
     "metadata": {},
     "output_type": "execute_result"
    }
   ],
   "source": [
    "comp_finance['accNm'].unique()"
   ]
  },
  {
   "cell_type": "code",
   "execution_count": 15,
   "id": "068e7457-cd01-431f-b15d-5efb33b96b16",
   "metadata": {},
   "outputs": [
    {
     "data": {
      "text/plain": [
       "7271"
      ]
     },
     "execution_count": 15,
     "metadata": {},
     "output_type": "execute_result"
    }
   ],
   "source": [
    "len(comp_finance.loc[comp_finance['accNm']=='인건비']['BusinessNum'].unique())"
   ]
  },
  {
   "cell_type": "code",
   "execution_count": 16,
   "id": "aef85f7c-6fca-43ff-b91a-88ad56bf044e",
   "metadata": {},
   "outputs": [
    {
     "data": {
      "text/plain": [
       "8000"
      ]
     },
     "execution_count": 16,
     "metadata": {},
     "output_type": "execute_result"
    }
   ],
   "source": [
    "len(comp_finance['BusinessNum'].unique())"
   ]
  },
  {
   "cell_type": "code",
   "execution_count": 36,
   "id": "62f16d7e-18a0-4f69-8f2f-db662bdab04a",
   "metadata": {},
   "outputs": [
    {
     "data": {
      "text/plain": [
       "7301"
      ]
     },
     "execution_count": 36,
     "metadata": {},
     "output_type": "execute_result"
    }
   ],
   "source": [
    "len(comp_finance.loc[comp_finance['accNm']=='매출총이익']['BusinessNum'].unique())"
   ]
  },
  {
   "cell_type": "code",
   "execution_count": 45,
   "id": "034504a0-88bc-4875-ad78-09a4170c5d0a",
   "metadata": {},
   "outputs": [
    {
     "data": {
      "text/html": [
       "<div>\n",
       "<style scoped>\n",
       "    .dataframe tbody tr th:only-of-type {\n",
       "        vertical-align: middle;\n",
       "    }\n",
       "\n",
       "    .dataframe tbody tr th {\n",
       "        vertical-align: top;\n",
       "    }\n",
       "\n",
       "    .dataframe thead th {\n",
       "        text-align: right;\n",
       "    }\n",
       "</style>\n",
       "<table border=\"1\" class=\"dataframe\">\n",
       "  <thead>\n",
       "    <tr style=\"text-align: right;\">\n",
       "      <th></th>\n",
       "      <th>BusinessNum</th>\n",
       "      <th>stYear</th>\n",
       "      <th>acctAmt</th>\n",
       "    </tr>\n",
       "  </thead>\n",
       "  <tbody>\n",
       "    <tr>\n",
       "      <th>0</th>\n",
       "      <td>1010109319</td>\n",
       "      <td>2017.0</td>\n",
       "      <td>4.347828e+10</td>\n",
       "    </tr>\n",
       "    <tr>\n",
       "      <th>1</th>\n",
       "      <td>1010109319</td>\n",
       "      <td>2018.0</td>\n",
       "      <td>4.761907e+10</td>\n",
       "    </tr>\n",
       "    <tr>\n",
       "      <th>2</th>\n",
       "      <td>1010109319</td>\n",
       "      <td>2019.0</td>\n",
       "      <td>4.761907e+10</td>\n",
       "    </tr>\n",
       "    <tr>\n",
       "      <th>3</th>\n",
       "      <td>1010204456</td>\n",
       "      <td>2017.0</td>\n",
       "      <td>3.573899e+05</td>\n",
       "    </tr>\n",
       "    <tr>\n",
       "      <th>4</th>\n",
       "      <td>1010204456</td>\n",
       "      <td>2018.0</td>\n",
       "      <td>3.900892e+05</td>\n",
       "    </tr>\n",
       "    <tr>\n",
       "      <th>...</th>\n",
       "      <td>...</td>\n",
       "      <td>...</td>\n",
       "      <td>...</td>\n",
       "    </tr>\n",
       "    <tr>\n",
       "      <th>31332</th>\n",
       "      <td>8998803795</td>\n",
       "      <td>2017.0</td>\n",
       "      <td>1.666667e+11</td>\n",
       "    </tr>\n",
       "    <tr>\n",
       "      <th>31333</th>\n",
       "      <td>8998803795</td>\n",
       "      <td>2018.0</td>\n",
       "      <td>8.333410e+10</td>\n",
       "    </tr>\n",
       "    <tr>\n",
       "      <th>31334</th>\n",
       "      <td>8998803795</td>\n",
       "      <td>2019.0</td>\n",
       "      <td>1.589174e+06</td>\n",
       "    </tr>\n",
       "    <tr>\n",
       "      <th>31335</th>\n",
       "      <td>8998803795</td>\n",
       "      <td>2020.0</td>\n",
       "      <td>1.292393e+06</td>\n",
       "    </tr>\n",
       "    <tr>\n",
       "      <th>31336</th>\n",
       "      <td>8998803795</td>\n",
       "      <td>2021.0</td>\n",
       "      <td>6.288480e+05</td>\n",
       "    </tr>\n",
       "  </tbody>\n",
       "</table>\n",
       "<p>31337 rows × 3 columns</p>\n",
       "</div>"
      ],
      "text/plain": [
       "       BusinessNum  stYear       acctAmt\n",
       "0       1010109319  2017.0  4.347828e+10\n",
       "1       1010109319  2018.0  4.761907e+10\n",
       "2       1010109319  2019.0  4.761907e+10\n",
       "3       1010204456  2017.0  3.573899e+05\n",
       "4       1010204456  2018.0  3.900892e+05\n",
       "...            ...     ...           ...\n",
       "31332   8998803795  2017.0  1.666667e+11\n",
       "31333   8998803795  2018.0  8.333410e+10\n",
       "31334   8998803795  2019.0  1.589174e+06\n",
       "31335   8998803795  2020.0  1.292393e+06\n",
       "31336   8998803795  2021.0  6.288480e+05\n",
       "\n",
       "[31337 rows x 3 columns]"
      ]
     },
     "execution_count": 45,
     "metadata": {},
     "output_type": "execute_result"
    }
   ],
   "source": [
    "pv1 = comp_finance.pivot_table(index=['BusinessNum','stYear'], values='acctAmt',  aggfunc='mean').reset_index()\n",
    "pv1 "
   ]
  },
  {
   "cell_type": "code",
   "execution_count": 46,
   "id": "231dca9c-002d-470d-ac73-069ef6c815b7",
   "metadata": {},
   "outputs": [
    {
     "data": {
      "text/plain": [
       "(31337, 3)"
      ]
     },
     "execution_count": 46,
     "metadata": {},
     "output_type": "execute_result"
    }
   ],
   "source": [
    "pv1.shape"
   ]
  },
  {
   "cell_type": "code",
   "execution_count": 47,
   "id": "0a7fe7a3-a0b0-40a7-a90d-6f6fed1f3fbc",
   "metadata": {},
   "outputs": [
    {
     "data": {
      "text/plain": [
       "BusinessNum\n",
       "1010109319    3\n",
       "1010204456    5\n",
       "1010607727    3\n",
       "1010709848    2\n",
       "1011106242    4\n",
       "             ..\n",
       "8988107860    4\n",
       "8988702634    5\n",
       "8998607522    2\n",
       "8998708313    5\n",
       "8998803795    5\n",
       "Name: stYear, Length: 7316, dtype: int64"
      ]
     },
     "execution_count": 47,
     "metadata": {},
     "output_type": "execute_result"
    }
   ],
   "source": [
    "year_counts = pv1.groupby('BusinessNum')['stYear'].nunique()\n",
    "filtered_business_nums = year_counts[year_counts <= 4]"
   ]
  },
  {
   "cell_type": "code",
   "execution_count": 55,
   "id": "9557fafc-9cdb-4979-847d-66fc4b818abc",
   "metadata": {},
   "outputs": [
    {
     "data": {
      "text/plain": [
       "Index([1010109319, 1010607727, 1010709848, 1011106242, 1018100845, 1018102731,\n",
       "       1018104121, 1018107650, 1018107961, 1018108627,\n",
       "       ...\n",
       "       8938104987, 8948604603, 8962207587, 8968106155, 8968108422, 8968600318,\n",
       "       8968702730, 8968801450, 8988107860, 8998607522],\n",
       "      dtype='int64', name='BusinessNum', length=3115)"
      ]
     },
     "execution_count": 55,
     "metadata": {},
     "output_type": "execute_result"
    }
   ],
   "source": [
    "filtered_business_nums.index"
   ]
  },
  {
   "cell_type": "code",
   "execution_count": 68,
   "id": "6b08e2be-7476-4a86-978d-a60db57f7444",
   "metadata": {},
   "outputs": [],
   "source": [
    "shutdown_list = []\n",
    "for i in filtered_business_nums.index :\n",
    "    if pv1.loc[pv1['BusinessNum'] == i].iloc[0]['stYear'] == 2017.0 :\n",
    "        shutdown_list.append(pv1.loc[pv1['BusinessNum'] == i].iloc[0]['BusinessNum'])"
   ]
  },
  {
   "cell_type": "code",
   "execution_count": 70,
   "id": "beef397e-2ee6-49d5-a220-f15863668e9d",
   "metadata": {},
   "outputs": [
    {
     "data": {
      "text/plain": [
       "1652"
      ]
     },
     "execution_count": 70,
     "metadata": {},
     "output_type": "execute_result"
    }
   ],
   "source": [
    "len(shutdown_list)"
   ]
  },
  {
   "cell_type": "markdown",
   "id": "2d807926",
   "metadata": {},
   "source": [
    "# 사업자번호랑 매핑"
   ]
  },
  {
   "cell_type": "code",
   "execution_count": 23,
   "id": "76900b1c",
   "metadata": {},
   "outputs": [
    {
     "name": "stdout",
     "output_type": "stream",
     "text": [
      "<class 'pandas.core.frame.DataFrame'>\n",
      "RangeIndex: 10000 entries, 0 to 9999\n",
      "Data columns (total 4 columns):\n",
      " #   Column       Non-Null Count  Dtype \n",
      "---  ------       --------------  ----- \n",
      " 0   사업자등록번호      10000 non-null  int64 \n",
      " 1   사업자등록번호_마스킹  10000 non-null  int64 \n",
      " 2   기업명          9881 non-null   object\n",
      " 3   대표자명         9881 non-null   object\n",
      "dtypes: int64(2), object(2)\n",
      "memory usage: 312.6+ KB\n"
     ]
    }
   ],
   "source": [
    "mapping.info()"
   ]
  },
  {
   "cell_type": "code",
   "execution_count": 24,
   "id": "2663888f",
   "metadata": {},
   "outputs": [
    {
     "data": {
      "text/html": [
       "<div>\n",
       "<style scoped>\n",
       "    .dataframe tbody tr th:only-of-type {\n",
       "        vertical-align: middle;\n",
       "    }\n",
       "\n",
       "    .dataframe tbody tr th {\n",
       "        vertical-align: top;\n",
       "    }\n",
       "\n",
       "    .dataframe thead th {\n",
       "        text-align: right;\n",
       "    }\n",
       "</style>\n",
       "<table border=\"1\" class=\"dataframe\">\n",
       "  <thead>\n",
       "    <tr style=\"text-align: right;\">\n",
       "      <th></th>\n",
       "      <th>사업자등록번호</th>\n",
       "      <th>사업자등록번호_마스킹</th>\n",
       "      <th>기업명</th>\n",
       "      <th>대표자명</th>\n",
       "    </tr>\n",
       "  </thead>\n",
       "  <tbody>\n",
       "    <tr>\n",
       "      <th>0</th>\n",
       "      <td>1240440311</td>\n",
       "      <td>1240400001</td>\n",
       "      <td>에스케이텔레콤</td>\n",
       "      <td>신현국</td>\n",
       "    </tr>\n",
       "    <tr>\n",
       "      <th>1</th>\n",
       "      <td>1242151566</td>\n",
       "      <td>1242100002</td>\n",
       "      <td>에스케이텔레콤</td>\n",
       "      <td>이재영</td>\n",
       "    </tr>\n",
       "    <tr>\n",
       "      <th>2</th>\n",
       "      <td>1171449462</td>\n",
       "      <td>1171400003</td>\n",
       "      <td>에스케이텔레콤</td>\n",
       "      <td>임채선</td>\n",
       "    </tr>\n",
       "    <tr>\n",
       "      <th>3</th>\n",
       "      <td>1212087845</td>\n",
       "      <td>1212000004</td>\n",
       "      <td>에스케이텔레콤</td>\n",
       "      <td>김현미</td>\n",
       "    </tr>\n",
       "    <tr>\n",
       "      <th>4</th>\n",
       "      <td>1274051488</td>\n",
       "      <td>1274000005</td>\n",
       "      <td>네이버</td>\n",
       "      <td>김태영</td>\n",
       "    </tr>\n",
       "    <tr>\n",
       "      <th>5</th>\n",
       "      <td>1058213581</td>\n",
       "      <td>1058200006</td>\n",
       "      <td>서강대학교산학협력단</td>\n",
       "      <td>정현식</td>\n",
       "    </tr>\n",
       "    <tr>\n",
       "      <th>6</th>\n",
       "      <td>5382500866</td>\n",
       "      <td>5382500007</td>\n",
       "      <td>우진</td>\n",
       "      <td>박찬우</td>\n",
       "    </tr>\n",
       "    <tr>\n",
       "      <th>7</th>\n",
       "      <td>1198119350</td>\n",
       "      <td>1198100008</td>\n",
       "      <td>천재교육</td>\n",
       "      <td>오병목</td>\n",
       "    </tr>\n",
       "    <tr>\n",
       "      <th>8</th>\n",
       "      <td>1100235682</td>\n",
       "      <td>1100200009</td>\n",
       "      <td>대상</td>\n",
       "      <td>이재임</td>\n",
       "    </tr>\n",
       "    <tr>\n",
       "      <th>9</th>\n",
       "      <td>1388201372</td>\n",
       "      <td>1388200010</td>\n",
       "      <td>정보통신정책연구원</td>\n",
       "      <td>권호열</td>\n",
       "    </tr>\n",
       "  </tbody>\n",
       "</table>\n",
       "</div>"
      ],
      "text/plain": [
       "      사업자등록번호  사업자등록번호_마스킹         기업명 대표자명\n",
       "0  1240440311   1240400001     에스케이텔레콤  신현국\n",
       "1  1242151566   1242100002     에스케이텔레콤  이재영\n",
       "2  1171449462   1171400003     에스케이텔레콤  임채선\n",
       "3  1212087845   1212000004     에스케이텔레콤  김현미\n",
       "4  1274051488   1274000005         네이버  김태영\n",
       "5  1058213581   1058200006  서강대학교산학협력단  정현식\n",
       "6  5382500866   5382500007          우진  박찬우\n",
       "7  1198119350   1198100008        천재교육  오병목\n",
       "8  1100235682   1100200009          대상  이재임\n",
       "9  1388201372   1388200010   정보통신정책연구원  권호열"
      ]
     },
     "execution_count": 24,
     "metadata": {},
     "output_type": "execute_result"
    }
   ],
   "source": [
    "mapping.head(10)"
   ]
  },
  {
   "cell_type": "code",
   "execution_count": 14,
   "id": "601eb5e2",
   "metadata": {},
   "outputs": [
    {
     "data": {
      "text/plain": [
       "['에스케이텔레콤',\n",
       " '네이버',\n",
       " '서강대학교산학협력단',\n",
       " '우진',\n",
       " '천재교육',\n",
       " '대상',\n",
       " '정보통신정책연구원',\n",
       " '인포뱅크',\n",
       " '한국연구재단',\n",
       " nan,\n",
       " '삼우이엔씨',\n",
       " '에스엘',\n",
       " '문화방송',\n",
       " '케이씨',\n",
       " '에스케이플래닛',\n",
       " '더페이스샵',\n",
       " '아이온커뮤니케이션즈',\n",
       " '엑스퍼트컨설팅',\n",
       " '디엘',\n",
       " '이룸',\n",
       " '비바리퍼블리카',\n",
       " '아이진',\n",
       " '매스씨앤지',\n",
       " '엘에스',\n",
       " '이에스',\n",
       " '난다',\n",
       " '씨에스텍',\n",
       " '시대고시기획시대교육',\n",
       " '대학내일',\n",
       " '엘지헬로비전',\n",
       " '파수',\n",
       " '애경자산관리',\n",
       " '블루솔루션즈',\n",
       " '대우',\n",
       " '디케이',\n",
       " '대우건설',\n",
       " '디케이아이테크놀로지',\n",
       " '기아자동차',\n",
       " '에이츠',\n",
       " '엘씨케이',\n",
       " '오에이티씨',\n",
       " '에이아이테크',\n",
       " '에스케이',\n",
       " '신원',\n",
       " '이스트소프트',\n",
       " '제페토',\n",
       " '세종텔레콤',\n",
       " '제이에스테크',\n",
       " '에코밸리',\n",
       " '일성',\n",
       " '신흥',\n",
       " '위두커뮤니케이션즈',\n",
       " '한마음',\n",
       " '나인',\n",
       " '이레',\n",
       " '제이와이피엔터테인먼트',\n",
       " '아이씨티',\n",
       " '대방건설',\n",
       " '에이아이딥',\n",
       " '부림',\n",
       " '제이엔씨',\n",
       " '대교',\n",
       " '제이텍',\n",
       " '기가텍',\n",
       " '원진',\n",
       " '세니온',\n",
       " '아이엠티',\n",
       " '애니캐스팅',\n",
       " '에이앤아이',\n",
       " '페더럴익스프레스코리아',\n",
       " '센스톤',\n",
       " '재능교육',\n",
       " '씨티에스',\n",
       " '홍익대학교산학협력단',\n",
       " '티아이스퀘어',\n",
       " '덕양산업',\n",
       " '아이티엘',\n",
       " '와이즈와이어즈',\n",
       " '제이엠아이',\n",
       " '정보통신기획평가원',\n",
       " '휴톰',\n",
       " '그라비티',\n",
       " '미래정보통신',\n",
       " '잉글리시에그',\n",
       " '마크애니',\n",
       " '피닉스다트',\n",
       " '한국정보인증',\n",
       " '네이버클라우드',\n",
       " '인포마인드',\n",
       " '에드모텍',\n",
       " '큐로드',\n",
       " '대성전기공업',\n",
       " '미래테크',\n",
       " '금성통신',\n",
       " '제이에스시스템',\n",
       " '솔브레인',\n",
       " '가온',\n",
       " '다누시스',\n",
       " '하이브',\n",
       " '코아텍',\n",
       " '로보러스',\n",
       " '탑손해사정',\n",
       " '아이디스',\n",
       " '제이엔에스텍',\n",
       " '쓰리아이',\n",
       " '디스트릭트코리아',\n",
       " '모아',\n",
       " '삼일씨엔에스',\n",
       " '(주)성우애드컴',\n",
       " '하나테크',\n",
       " '이토마토',\n",
       " '세븐일렉',\n",
       " '아토리서치',\n",
       " '디에이치엘글로벌포워딩코리아',\n",
       " '플래티어',\n",
       " '롯데건설',\n",
       " '을지',\n",
       " '블루테크',\n",
       " '유니텍',\n",
       " '네오뉴트라',\n",
       " '라온테크',\n",
       " '건영',\n",
       " '씨엔씨엔지니어링',\n",
       " '지티지',\n",
       " '모츠',\n",
       " '우리은행',\n",
       " '에스케이커뮤니케이션즈',\n",
       " '(주)국보디자인',\n",
       " '토마토시스템',\n",
       " '에스에프씨바이오',\n",
       " '아이엔소프트',\n",
       " '해줌',\n",
       " '클라우드네트웍스',\n",
       " '디오',\n",
       " '대원미디어',\n",
       " '갈렙에이비씨',\n",
       " '신화전자',\n",
       " '영신디엔씨',\n",
       " '칼자이스',\n",
       " '신성이엔지',\n",
       " '썬테크',\n",
       " '부강테크',\n",
       " '하스퍼',\n",
       " '한아아이티',\n",
       " '누리텔레콤',\n",
       " '밀레에델바이스홀딩스',\n",
       " '엘지텔레콤',\n",
       " '클라우드게이트',\n",
       " '지비엠아이엔씨',\n",
       " '빅트론닉스',\n",
       " '델타텍코리아',\n",
       " '솔테크',\n",
       " '케이엘정보통신',\n",
       " '가온아이',\n",
       " '케이미트',\n",
       " '다림티센',\n",
       " '현대이지웰',\n",
       " '한국방송공사',\n",
       " '미래엔',\n",
       " '지란지교소프트',\n",
       " '이건창호',\n",
       " '에이원',\n",
       " '아이피그룹',\n",
       " '해피콤',\n",
       " '텐덤',\n",
       " '비엔씨테크',\n",
       " '세움건설',\n",
       " '한국코스모',\n",
       " '에스케이티엔에스',\n",
       " '엘케이테크넷',\n",
       " '아이유노글로벌',\n",
       " '디에스브이에어앤씨',\n",
       " '신세계',\n",
       " '제이몬',\n",
       " '한국이앤에스',\n",
       " '대한공조',\n",
       " '기림',\n",
       " '경신',\n",
       " '리디',\n",
       " '도서출판길벗',\n",
       " '엔베스트',\n",
       " '국토',\n",
       " '대림엔지니어링',\n",
       " '(주)엘솔컴퍼니',\n",
       " '글로텍',\n",
       " '엠이엘텔레콤',\n",
       " '무브인터렉티브',\n",
       " '아이비즈소프트웨어',\n",
       " '투비스마트',\n",
       " '금성정보통신',\n",
       " '시큐리티앤맵',\n",
       " '유사이드',\n",
       " '대한',\n",
       " '파이퀀트',\n",
       " '파인텍',\n",
       " '아하플래닛',\n",
       " '(주)대은',\n",
       " '누리넷',\n",
       " '한신공영',\n",
       " '버추얼랩',\n",
       " '첨단',\n",
       " '아이티사이언스',\n",
       " '엔엑스테크놀로지',\n",
       " '(주)나래앤컴퍼니',\n",
       " '중앙아이씨에스',\n",
       " '킹케어',\n",
       " '우리테크',\n",
       " '나인이즈',\n",
       " '스튜디오이온',\n",
       " '자이트론',\n",
       " '인정보기술',\n",
       " '부산정보산업진흥원',\n",
       " '엔아이투스',\n",
       " '한국정보통신',\n",
       " '메타소프트',\n",
       " '디엘건설',\n",
       " '엔씨소프트',\n",
       " '비즈모델라인',\n",
       " '세기정보통신',\n",
       " '티웨이브',\n",
       " '진보기업',\n",
       " '이퓨전아이',\n",
       " '기원테크',\n",
       " '더파이버스',\n",
       " '에스테크',\n",
       " '아이메코',\n",
       " '내츄럴코리아',\n",
       " '아비코테크',\n",
       " '시컴스',\n",
       " '엑스바엑스',\n",
       " '한화생명보험',\n",
       " '한국컨테이너풀',\n",
       " '셀리버리',\n",
       " '미래산업',\n",
       " '중앙건설',\n",
       " '비에스지파트너스',\n",
       " '대성산업',\n",
       " '하이브랩',\n",
       " '브로윈',\n",
       " '아이헤이트플라잉버그스',\n",
       " '로완',\n",
       " '케이씨이아이',\n",
       " '제이에스정보통신',\n",
       " '헤브론스타',\n",
       " '에스에이엠지엔터테인먼트',\n",
       " '금양통신',\n",
       " '삼성캐피탈',\n",
       " '코아비즈',\n",
       " '디투오',\n",
       " '티케이',\n",
       " '동구바이오제약',\n",
       " '티팟스튜디오',\n",
       " '지오스토리',\n",
       " '엠케이',\n",
       " '애니파이브',\n",
       " '메타',\n",
       " '케이디티',\n",
       " '반의공식',\n",
       " '세컨핸즈',\n",
       " '피엔아이컴퍼니',\n",
       " '대성홀딩스',\n",
       " '로코모',\n",
       " '아이엠씨게임즈',\n",
       " '레트로봇',\n",
       " '째깍악어',\n",
       " '다올',\n",
       " '엠블럭',\n",
       " '케이시크',\n",
       " '아임웹',\n",
       " '피앤지코퍼레이션',\n",
       " '매플렉스',\n",
       " '네오바이오',\n",
       " '마루아이티',\n",
       " '팡세',\n",
       " '쏘우웨이브',\n",
       " '브랜드아큐멘',\n",
       " '서울데이타통신',\n",
       " '마이크임팩트',\n",
       " '에이치엘엠씨',\n",
       " '고피자',\n",
       " '청담홀딩스',\n",
       " '썬플라워즈',\n",
       " '트레져헌터',\n",
       " '인터전기',\n",
       " '지오투정보기술',\n",
       " '에이치앤에이치그룹',\n",
       " '맥파이테크',\n",
       " '곰앤컴퍼니',\n",
       " '엔에스텍',\n",
       " '성원정보기술',\n",
       " '엘솔컴퍼니',\n",
       " '와이엘피',\n",
       " '식스랩',\n",
       " '엑셈',\n",
       " '대보건설',\n",
       " '알에프코리아',\n",
       " '엔지스테크널러지',\n",
       " '나이츠넷',\n",
       " '인찬',\n",
       " '모아데이타',\n",
       " '이엠플러스정보기술',\n",
       " '휴머놀러지',\n",
       " '이니스트팜',\n",
       " '엔코드',\n",
       " '아이티노매즈',\n",
       " '도원닷컴',\n",
       " '산하정보기술',\n",
       " '티머니',\n",
       " '에스앤피랩',\n",
       " '이케이허브',\n",
       " '케이티엔지니어링',\n",
       " '성보',\n",
       " '아시아종묘',\n",
       " '로렌스',\n",
       " '뉴인',\n",
       " '엠텔레텍',\n",
       " '커머스톤컨설팅',\n",
       " '(주)씨엠에스에듀',\n",
       " '제이토드',\n",
       " '레이월드',\n",
       " '에스엠테크',\n",
       " '타이드인스티튜트',\n",
       " '요거프레소',\n",
       " '미스터블루',\n",
       " '태원테크',\n",
       " '대일휀스',\n",
       " '픽셀아이',\n",
       " '에스엠코어',\n",
       " '인사이드정보',\n",
       " '원진일렉트로닉스',\n",
       " '삼마아이씨티',\n",
       " '케이엠에스랩',\n",
       " '아이아이컴바인드',\n",
       " '창조의아침',\n",
       " '넷케이티아이',\n",
       " '아이티엔제이',\n",
       " '모비스',\n",
       " '상상제작소',\n",
       " '예스콜닷컴',\n",
       " '(주)유저해빗',\n",
       " '바이오빛',\n",
       " '하람아이',\n",
       " '에스비정보기술',\n",
       " '다리소프트',\n",
       " '바른정보기술',\n",
       " '케이비에스미디어',\n",
       " '새롬정보통신',\n",
       " '더트라이브',\n",
       " '블루컴',\n",
       " '제이앤케이씨',\n",
       " '브레인즈컴퍼니',\n",
       " '메디치소프트',\n",
       " '텐원더스',\n",
       " '우리산업',\n",
       " '네오플',\n",
       " '레뷰코퍼레이션',\n",
       " '나도소프트',\n",
       " '시큐오션',\n",
       " '세아베스틸지주',\n",
       " '엠프로미스',\n",
       " '렉투스',\n",
       " '티모넷',\n",
       " '삼진로푸',\n",
       " '에스케이에코플랜트',\n",
       " '전자부품연구원',\n",
       " '지오넷',\n",
       " '슈어엠',\n",
       " '반도정보기술',\n",
       " '브이웨이',\n",
       " '윈드밀소프트',\n",
       " '리얼코딩',\n",
       " '지오그레이트',\n",
       " '이에이엔테크놀로지',\n",
       " '소셜뉴스',\n",
       " '디에스텍',\n",
       " '대흥토건',\n",
       " '제일',\n",
       " '아렌네',\n",
       " '학지사',\n",
       " '맘편한세상',\n",
       " '두성산업',\n",
       " '나인티시스템',\n",
       " '코리아피디에스',\n",
       " '성한',\n",
       " '대연아이앤티',\n",
       " '한국',\n",
       " '네오건설',\n",
       " '이노이즈인터랙티브',\n",
       " '티쿤글로벌',\n",
       " '올리브크리에이티브',\n",
       " '세원',\n",
       " '심텍',\n",
       " '워키도기',\n",
       " '에이원엔지니어링',\n",
       " '엑스코어시스템',\n",
       " '엘젠',\n",
       " '유니크',\n",
       " '한국정보통신산업연구원',\n",
       " '데이터세이브',\n",
       " '웨이브온',\n",
       " '네스지오',\n",
       " '스카이디스플레이',\n",
       " '딥헬릭스',\n",
       " '케이비데이타시스템',\n",
       " '옴니오',\n",
       " '삼정데이타서비스',\n",
       " '알에프넷',\n",
       " '컬처메이커스',\n",
       " '가온누리시스템',\n",
       " '아프로알앤디',\n",
       " '네오그라프',\n",
       " '리코시스템',\n",
       " '가이스트코리아',\n",
       " '루트소프트',\n",
       " '드림네트웍스',\n",
       " '쓰리디타다',\n",
       " '엠아이티소프트',\n",
       " '어반플레이',\n",
       " '모빌토크',\n",
       " '데이타솔루션',\n",
       " '미르헨지',\n",
       " '명성',\n",
       " '버텍스아이디',\n",
       " '더와이즈',\n",
       " '피피솔',\n",
       " '쏘닉스',\n",
       " '경원테크',\n",
       " '위즈코리아',\n",
       " '아이디온',\n",
       " '씨엔에스아이엔티',\n",
       " '엔비테크',\n",
       " '스쿱',\n",
       " '미래넷',\n",
       " '디지털에볼루션',\n",
       " '엑솔아이티',\n",
       " '씨알에스큐브',\n",
       " '스마트큐브',\n",
       " '글로벌텔레콤',\n",
       " '용달의기사',\n",
       " '유플리트',\n",
       " '모빅랩',\n",
       " '디에스티인터내셔날',\n",
       " '숨코리아',\n",
       " '서울디지털대학교',\n",
       " '비덴트',\n",
       " '와이드모바일',\n",
       " '웰메이드생활건강',\n",
       " '일등라이스',\n",
       " '블루넷',\n",
       " '브라이언앤데이비드',\n",
       " '크리스피드',\n",
       " '무신사',\n",
       " '선우엔지니어링',\n",
       " '에스티오',\n",
       " '브레인소프트',\n",
       " '태영건설',\n",
       " '다솜이엔씨',\n",
       " '선광이엔지',\n",
       " '재플',\n",
       " '둥글',\n",
       " '티르티르',\n",
       " '에이티소프트',\n",
       " '레이시스',\n",
       " '서강대학교',\n",
       " '신라이앤씨',\n",
       " '블루사이드',\n",
       " '리마커블소프트',\n",
       " '유앤아이씨',\n",
       " '아이티젠',\n",
       " '에이샛',\n",
       " '젤루텍',\n",
       " '얼반웍스',\n",
       " '에이치씨컴퍼니',\n",
       " '성현정보통신',\n",
       " '디자인리서치801',\n",
       " '유영제약',\n",
       " '두꺼비세상',\n",
       " '스포투',\n",
       " '제이케이',\n",
       " '두물머리',\n",
       " '더부엔지니어링',\n",
       " '알투소프트',\n",
       " '메디오피아테크',\n",
       " '아이티아이에스',\n",
       " '얄라팩토리',\n",
       " '디엘정보기술',\n",
       " '미래아이앤지',\n",
       " '한국전자인증',\n",
       " '인지네트워크',\n",
       " '디어건축사사무소',\n",
       " '더아이원',\n",
       " '신한회계법인',\n",
       " '대영소결금속',\n",
       " '에스엔피제네틱스',\n",
       " '유안테크',\n",
       " '(주)더식스데이',\n",
       " '나은커뮤니케이션',\n",
       " '뉴시스',\n",
       " '제이엠더블유',\n",
       " '광명디앤씨',\n",
       " '래딕스플러스',\n",
       " '이디리서치',\n",
       " '넥스트포',\n",
       " '메타비즈',\n",
       " '산들네트웍스',\n",
       " '(주)네오젠소프트',\n",
       " '티에스',\n",
       " '다운',\n",
       " '어거스트텐',\n",
       " '비아이매트릭스',\n",
       " '이지미디어',\n",
       " '하트미디어',\n",
       " '세아네트웍스',\n",
       " '원스토어',\n",
       " '지엔텔',\n",
       " '유넷시스템',\n",
       " '자버',\n",
       " '라온시스템',\n",
       " '미래엔지니어링',\n",
       " '(주)어빌리터즈',\n",
       " '트릭아이미술관',\n",
       " '지오아이티',\n",
       " '베스띠아',\n",
       " '유니브이알',\n",
       " '진산테크',\n",
       " '아이센트',\n",
       " '퍼니글루',\n",
       " '창공정보통신',\n",
       " '티엔에스베큠',\n",
       " '미디어채널',\n",
       " '제로엔',\n",
       " '위더스텍',\n",
       " '신한네트웍스',\n",
       " '셀콤',\n",
       " '(주)팬택자산관리',\n",
       " '휴네이처',\n",
       " '코엔지',\n",
       " '앨리스헬스케어',\n",
       " '잉그리스',\n",
       " '알고리즘랩스',\n",
       " '글로벌링커스',\n",
       " '동화건설',\n",
       " '휴넷',\n",
       " '와이디티',\n",
       " '동국시스템즈',\n",
       " '제3의청춘',\n",
       " '삼정엔지니어링',\n",
       " '유프리즘',\n",
       " '인피니텍',\n",
       " '어크로스웨이브즈',\n",
       " '이씨플라자',\n",
       " '아이디알시스템',\n",
       " '동해정보통신',\n",
       " '로얄통상',\n",
       " '프로키언',\n",
       " '네오리진',\n",
       " '혜움랩스',\n",
       " '코리아데이타네트워크',\n",
       " '유비컴',\n",
       " '동흥하이랙',\n",
       " '한솔인티큐브',\n",
       " '세아제강지주',\n",
       " '엠지시스',\n",
       " '코레이즈홀딩스',\n",
       " '마이창고',\n",
       " '국립전파연구원',\n",
       " '이모션웨이브',\n",
       " '세원이앤씨',\n",
       " '아이티네이드',\n",
       " '한결이엔지',\n",
       " '가온기술',\n",
       " '코드코스메인터내셔널',\n",
       " '엠아이티',\n",
       " '동광제약',\n",
       " '동문건설',\n",
       " '지더블유캐드코리아',\n",
       " '하나로텔레콤',\n",
       " '아이에스비정보통신',\n",
       " '하이솔루션',\n",
       " '아이티솔루션',\n",
       " '브이알카버',\n",
       " '신일산업',\n",
       " '호반건설',\n",
       " '헤르스',\n",
       " '네트빌',\n",
       " '나남에이엘디',\n",
       " '엔지스',\n",
       " '피에스글로벌',\n",
       " '해피업',\n",
       " '신청담에듀',\n",
       " '세인텍',\n",
       " '에프씨코리아랜드',\n",
       " '미소정보기술',\n",
       " '모빌씨앤씨',\n",
       " '스타십벤딩머신',\n",
       " '더원',\n",
       " '스마트인포',\n",
       " '새롬기술',\n",
       " '세아제강',\n",
       " '한국이엠에스',\n",
       " '에이투케이에이치에스',\n",
       " '에스알테크날러지',\n",
       " '오투컴퍼니',\n",
       " '케이씨넷',\n",
       " '비아이엔솔루션',\n",
       " '엔라인',\n",
       " '가천씨앤텍',\n",
       " '씨이기술',\n",
       " '대덕넷',\n",
       " '디메타',\n",
       " '아토디자인',\n",
       " '주원통신기술',\n",
       " '쓰리엘랩스',\n",
       " '아이티온넷',\n",
       " '에스제이테크놀로지',\n",
       " '베데스다소프트',\n",
       " '케이티엠모바일',\n",
       " '메쎄이상',\n",
       " '메타로직컨설팅',\n",
       " '코테크시스템',\n",
       " '뉴스1',\n",
       " '미스터멘션',\n",
       " '신화정보통신',\n",
       " '테이슨',\n",
       " '인테크',\n",
       " '디오에프연구소',\n",
       " '네티스정보기술',\n",
       " '유레카인베스트먼트',\n",
       " '이맥스시스템',\n",
       " '삼지엔지니어링',\n",
       " '우아한형제들',\n",
       " '한국통신공사',\n",
       " '해빗팩토리',\n",
       " '네트워크코리아',\n",
       " '유스비',\n",
       " '펜타시스템테크놀러지',\n",
       " '라이트비전',\n",
       " '아이퀘스트',\n",
       " '데이세븐',\n",
       " '커넥스트',\n",
       " '케이에스랩',\n",
       " '주영산업',\n",
       " '허밍스토리',\n",
       " '인더텍',\n",
       " '파로스인포',\n",
       " '셀트론',\n",
       " '한국정보통신진흥협회',\n",
       " '라온스퀘어',\n",
       " '지에스인스텍',\n",
       " '(주)키다리이엔티',\n",
       " '카스아이',\n",
       " '파이언넷',\n",
       " '드림테크',\n",
       " '바텍엠시스',\n",
       " '우리정보기술단',\n",
       " '엔클로니',\n",
       " '현정보시스템',\n",
       " '제이제이',\n",
       " '아이티아이즈',\n",
       " '케이아이엔엑스',\n",
       " '크레이드인터내셔널',\n",
       " '퍼니웍',\n",
       " '빌리언이십일',\n",
       " '비트컴퓨터',\n",
       " '엔다인아이엔씨',\n",
       " '바인트리',\n",
       " '셀러노트',\n",
       " '마인드그룹',\n",
       " '베니페',\n",
       " '티비씨',\n",
       " '오니온파이브',\n",
       " '일삼헤르츠',\n",
       " '노트스퀘어',\n",
       " '키스톤소프트',\n",
       " '아이옵스테크놀러지',\n",
       " '빗썸코리아',\n",
       " '오베네프',\n",
       " '비욘드리밋',\n",
       " '웨다',\n",
       " '엔에이티통신기술',\n",
       " '매니코어소프트',\n",
       " '에이치아이엔티',\n",
       " '컴퍼니에스에스',\n",
       " '원근건설',\n",
       " '제이씨원',\n",
       " '비앤씨',\n",
       " '신안건업',\n",
       " '태성산업',\n",
       " '엠피지오',\n",
       " '제일정보건설',\n",
       " '오픈소스컨설팅',\n",
       " '팬엔터테인먼트',\n",
       " '미래아이콘',\n",
       " '한국통신인터넷기술',\n",
       " '파이널데이터',\n",
       " '알마로꼬',\n",
       " '킨사이트',\n",
       " '넥스트비즈',\n",
       " '닷',\n",
       " '유윈정보통신',\n",
       " '유아용품연구소',\n",
       " '레드로버',\n",
       " '아이디피',\n",
       " '제이비티',\n",
       " '크리모',\n",
       " '한솔텔레콤',\n",
       " '영신',\n",
       " '가치공간',\n",
       " '컴플렉시온',\n",
       " '아이준',\n",
       " '하우코스트',\n",
       " '모노글로트홀딩스',\n",
       " '마젠타웍스',\n",
       " '하나이엔디',\n",
       " '진정보',\n",
       " '프리코어',\n",
       " '씨앤토트플러스',\n",
       " '구주네트웍',\n",
       " '엠케이얼라이언스',\n",
       " '제로투세븐',\n",
       " '비케이아이디',\n",
       " '제일시스템',\n",
       " '동진전기통신',\n",
       " '시그웍스',\n",
       " '브라이튼코퍼레이션',\n",
       " '송림하이텍',\n",
       " '거성정보통신',\n",
       " '씨제이보안정보통신',\n",
       " '워터월시스템즈',\n",
       " '에스에스알',\n",
       " '세안이엔씨',\n",
       " '제이오토메이션',\n",
       " '효성티앤씨',\n",
       " '씨케이머티리얼즈랩',\n",
       " '에이앤티플러스',\n",
       " '진성산업',\n",
       " '디에스테크놀러지',\n",
       " '오마이뉴스',\n",
       " '진성정보통신',\n",
       " '세종아이티',\n",
       " '노다멘',\n",
       " '넥스트키',\n",
       " '코빗',\n",
       " '쎄인트인터내셔널',\n",
       " '드로닉스',\n",
       " '블루하우스코리아',\n",
       " '넥스트엔터테인먼트월드',\n",
       " '시트론정보통신',\n",
       " '피엔알',\n",
       " '쉬프트베리',\n",
       " '핏펫',\n",
       " '신성전자통신',\n",
       " '투비콘',\n",
       " '동진정보통신',\n",
       " '에스에스통신',\n",
       " '한국방송통신산업협동조합',\n",
       " '진성기업',\n",
       " '네추럴웨이',\n",
       " '이노보테라퓨틱스',\n",
       " '건영산업',\n",
       " '테이크아웃',\n",
       " '위드라인',\n",
       " '한인정보통신',\n",
       " '네트워크디파인즈',\n",
       " '공팔리터',\n",
       " '세타랩',\n",
       " '키다리스튜디오',\n",
       " '굿채널시스템',\n",
       " '제이피아이헬스케어',\n",
       " '비플컨설팅',\n",
       " '님버스네트웍스',\n",
       " '이엠포커스',\n",
       " '미르테크',\n",
       " '나라이엔씨',\n",
       " '대우산업개발',\n",
       " '아이티굿',\n",
       " '티볼리씨앤씨',\n",
       " '모아지오',\n",
       " '더프로스트',\n",
       " '하다',\n",
       " '펜타시큐리티시스템',\n",
       " '예원정보통신',\n",
       " '한성크린텍',\n",
       " '우진전기',\n",
       " '에스케이엠앤서비스',\n",
       " '알에프디바이스',\n",
       " '옥타솔루션',\n",
       " '액츠원',\n",
       " '누리랩',\n",
       " '(주)제이티넷',\n",
       " '태왕이앤씨',\n",
       " '대천나염',\n",
       " '위즈너',\n",
       " '우리보안',\n",
       " '도원시스템즈',\n",
       " '에이원네트워크',\n",
       " '씨엔에스',\n",
       " '유스텍',\n",
       " '백선통신',\n",
       " '인엘씨테크놀러지',\n",
       " '엣지랭크',\n",
       " '강원전산원네트웍스',\n",
       " '블록펫',\n",
       " '두루안',\n",
       " '라온',\n",
       " '데이타콤',\n",
       " '슬릭코퍼레이션',\n",
       " '엠피엠지',\n",
       " '모아텍',\n",
       " '케이티엠앤에스',\n",
       " '덴코정보통신',\n",
       " '지씨티인터내셔날',\n",
       " '윤텔',\n",
       " '엔텍이앤씨',\n",
       " '오픈프레스',\n",
       " '비제이네트웍스',\n",
       " '비즈엠코리아웍스',\n",
       " '위키시큐리티',\n",
       " '알윈',\n",
       " '컬쳐히어로',\n",
       " '나이스페이먼츠',\n",
       " '신성글로벌네트워크',\n",
       " '팩넷서비스코리아',\n",
       " '와이엘테크',\n",
       " '코드브릭',\n",
       " '에스케어',\n",
       " '울림엔터테인먼트',\n",
       " '온결',\n",
       " '소비코프로페셔널',\n",
       " '브랜덤',\n",
       " '원창이앤씨',\n",
       " '디케이테크인',\n",
       " '한국생활건강',\n",
       " '퓨젼아이앤씨',\n",
       " '아토',\n",
       " '재율개발',\n",
       " '한소리',\n",
       " '아이엠씨큐브',\n",
       " '아이디',\n",
       " '빌리버',\n",
       " '버즈비터즈',\n",
       " '피에스앤마케팅',\n",
       " '대경정보통신',\n",
       " '시루정보',\n",
       " '거북이정보통신',\n",
       " '둡',\n",
       " '삼원홀딩스',\n",
       " '한국건축조형미술연구소',\n",
       " '자이스',\n",
       " '한일산업',\n",
       " '영우',\n",
       " '천세',\n",
       " '대성정보통신',\n",
       " '삼성통신',\n",
       " '디비아이엔씨',\n",
       " '페로카',\n",
       " '씨엠아이',\n",
       " '뮤토스마트',\n",
       " '삼기정보통신',\n",
       " '혁신이앤씨',\n",
       " '디지틀조선일보',\n",
       " '소프트파워',\n",
       " '위너시스텍',\n",
       " '리마',\n",
       " '강인정보통신',\n",
       " '지앤비',\n",
       " '알에프에이치아이씨',\n",
       " '우리윈시스템',\n",
       " '동남무선통신',\n",
       " '마인드올',\n",
       " '에스엔에스이서비스',\n",
       " '대신정보통신',\n",
       " '엔에스데블',\n",
       " '에이젠글로벌',\n",
       " '오성미디컴',\n",
       " '엠에스전자통신',\n",
       " '유니온플레이스',\n",
       " '엘케이엠테크',\n",
       " '지앤지커머스',\n",
       " '준성',\n",
       " '마루솔루션',\n",
       " '후본',\n",
       " '아크로메이트',\n",
       " '내외정보기술',\n",
       " '케이엔엑스정보통신',\n",
       " '루나랩스',\n",
       " '시공사',\n",
       " '델타정보통신',\n",
       " '에이엔비글로벌',\n",
       " '명가씨앤씨',\n",
       " '다한지엔에스',\n",
       " '제이티비씨플러스',\n",
       " '텔리테크',\n",
       " '샴페인',\n",
       " '유진케임텍',\n",
       " '아이티로그',\n",
       " '한국아이비엠',\n",
       " '석원정보통신',\n",
       " '마이크로프로텍트',\n",
       " '엑스오소프트',\n",
       " '대원정보시스템',\n",
       " '디젠트소프트',\n",
       " '글로벌넷',\n",
       " '진성시스템',\n",
       " '시스기어',\n",
       " '메가박스중앙',\n",
       " '이지엠인터내셔널',\n",
       " '태경전력',\n",
       " '삼보광업',\n",
       " '유니테크인포컴',\n",
       " '세진에프엔디',\n",
       " '디바인테크',\n",
       " '성지산업',\n",
       " '카이네트웍스',\n",
       " '이벤트티브이',\n",
       " '베티카',\n",
       " '한림상사',\n",
       " '케이디지',\n",
       " '더에이아이랩',\n",
       " '희상건설',\n",
       " '싸이크로스',\n",
       " '팔칠구삼',\n",
       " '라온정보통신',\n",
       " '케이앤아이',\n",
       " '광영',\n",
       " '하이컨시',\n",
       " '창성건설',\n",
       " '가온테크',\n",
       " '케이피엑스케미칼',\n",
       " '케이탑시스템',\n",
       " '이지아이',\n",
       " '덕산정보통신',\n",
       " '벤타브이알',\n",
       " '크리스피',\n",
       " '씨너렉스',\n",
       " '아이쿠카',\n",
       " '웅비정보통신',\n",
       " '프렌트립',\n",
       " '대영에스텍',\n",
       " '비엔에스테크',\n",
       " '에스엠비나',\n",
       " '야놀자에프앤지',\n",
       " '정보와기술',\n",
       " '나르크테크놀로지',\n",
       " '작당모의',\n",
       " '대륙',\n",
       " '오앤씨테크',\n",
       " '유진아이티서비스',\n",
       " '도아기업',\n",
       " '한국아이티복지진흥원',\n",
       " '파이디지털헬스케어',\n",
       " '제이아이티',\n",
       " '코아아이티',\n",
       " '탑코어시스템',\n",
       " '사이테크놀로지스',\n",
       " '다바',\n",
       " '한국에버라이트',\n",
       " '대성아이넷',\n",
       " '미래로시스템',\n",
       " '디케이프라임홀딩스',\n",
       " '마르시끄',\n",
       " '에이스엔지니어링',\n",
       " '디엔비소프트',\n",
       " '이태호',\n",
       " '네오시스템즈',\n",
       " '보이스루',\n",
       " '베네콥',\n",
       " '브로드텍인터내셔널',\n",
       " '에이원시스템',\n",
       " '인포스텍',\n",
       " '아이티로',\n",
       " '라온즈',\n",
       " '링크샵스',\n",
       " '나노원',\n",
       " '지티에스솔루션즈',\n",
       " '리원에이스',\n",
       " '청조정보통신',\n",
       " '닥터엘시아',\n",
       " '네오메카',\n",
       " '더피플라이프',\n",
       " '상왕기업',\n",
       " '투비시스템',\n",
       " '다쏘시스템코리아',\n",
       " '케이디엘',\n",
       " '우정정보통신',\n",
       " '신화정보시스템',\n",
       " '크리에이저',\n",
       " '조은아이앤에스',\n",
       " '대성네트웍',\n",
       " '지엔아이티',\n",
       " '정상라이다',\n",
       " '티아이에스씨',\n",
       " '유니온앤이씨',\n",
       " '휴머니아',\n",
       " '오르다코리아',\n",
       " '질경이',\n",
       " '진성',\n",
       " '딜리버리랩',\n",
       " '이비즈네트웍스',\n",
       " '오스코',\n",
       " ...]"
      ]
     },
     "execution_count": 14,
     "metadata": {},
     "output_type": "execute_result"
    }
   ],
   "source": [
    "mapping['기업명'].unique().tolist()"
   ]
  },
  {
   "cell_type": "code",
   "execution_count": 30,
   "id": "7aaf60f7",
   "metadata": {},
   "outputs": [
    {
     "data": {
      "text/html": [
       "<div>\n",
       "<style scoped>\n",
       "    .dataframe tbody tr th:only-of-type {\n",
       "        vertical-align: middle;\n",
       "    }\n",
       "\n",
       "    .dataframe tbody tr th {\n",
       "        vertical-align: top;\n",
       "    }\n",
       "\n",
       "    .dataframe thead th {\n",
       "        text-align: right;\n",
       "    }\n",
       "</style>\n",
       "<table border=\"1\" class=\"dataframe\">\n",
       "  <thead>\n",
       "    <tr style=\"text-align: right;\">\n",
       "      <th></th>\n",
       "      <th>사업자등록번호</th>\n",
       "      <th>사업자등록번호_마스킹</th>\n",
       "      <th>기업명</th>\n",
       "      <th>대표자명</th>\n",
       "    </tr>\n",
       "  </thead>\n",
       "  <tbody>\n",
       "    <tr>\n",
       "      <th>290</th>\n",
       "      <td>1238625633</td>\n",
       "      <td>1238600291</td>\n",
       "      <td>대성산업</td>\n",
       "      <td>전찬진</td>\n",
       "    </tr>\n",
       "    <tr>\n",
       "      <th>651</th>\n",
       "      <td>1130224001</td>\n",
       "      <td>1130200652</td>\n",
       "      <td>대성산업</td>\n",
       "      <td>윤여환</td>\n",
       "    </tr>\n",
       "  </tbody>\n",
       "</table>\n",
       "</div>"
      ],
      "text/plain": [
       "        사업자등록번호  사업자등록번호_마스킹   기업명 대표자명\n",
       "290  1238625633   1238600291  대성산업  전찬진\n",
       "651  1130224001   1130200652  대성산업  윤여환"
      ]
     },
     "execution_count": 30,
     "metadata": {},
     "output_type": "execute_result"
    }
   ],
   "source": [
    "mapping.loc[mapping['기업명'] =='대성산업']"
   ]
  },
  {
   "cell_type": "code",
   "execution_count": 32,
   "id": "0fba70eb",
   "metadata": {},
   "outputs": [
    {
     "data": {
      "text/html": [
       "<div>\n",
       "<style scoped>\n",
       "    .dataframe tbody tr th:only-of-type {\n",
       "        vertical-align: middle;\n",
       "    }\n",
       "\n",
       "    .dataframe tbody tr th {\n",
       "        vertical-align: top;\n",
       "    }\n",
       "\n",
       "    .dataframe thead th {\n",
       "        text-align: right;\n",
       "    }\n",
       "</style>\n",
       "<table border=\"1\" class=\"dataframe\">\n",
       "  <thead>\n",
       "    <tr style=\"text-align: right;\">\n",
       "      <th></th>\n",
       "      <th>Unnamed: 0</th>\n",
       "      <th>사업자등록번호</th>\n",
       "      <th>Unnamed: 2</th>\n",
       "      <th>기업명</th>\n",
       "      <th>기업영문명</th>\n",
       "      <th>대표자명</th>\n",
       "      <th>종업원수</th>\n",
       "      <th>종업원수기준년월</th>\n",
       "      <th>산업분류코드</th>\n",
       "      <th>산업분류코드설명</th>\n",
       "      <th>기업규모</th>\n",
       "      <th>기업형태</th>\n",
       "      <th>업태명</th>\n",
       "      <th>설립일</th>\n",
       "      <th>이메일주소</th>\n",
       "      <th>전화번호</th>\n",
       "      <th>팩스전화번호</th>\n",
       "      <th>우편번호</th>\n",
       "      <th>주소</th>\n",
       "      <th>상세주보</th>\n",
       "    </tr>\n",
       "  </thead>\n",
       "  <tbody>\n",
       "    <tr>\n",
       "      <th>9414</th>\n",
       "      <td>9414</td>\n",
       "      <td>1238600291</td>\n",
       "      <td>NaN</td>\n",
       "      <td>대성**</td>\n",
       "      <td>NaN</td>\n",
       "      <td>전**</td>\n",
       "      <td>9.0</td>\n",
       "      <td>Mar-19</td>\n",
       "      <td>42412.0</td>\n",
       "      <td>도배, 실내 장식 및 내장 목공사업</td>\n",
       "      <td>중소기업</td>\n",
       "      <td>일반</td>\n",
       "      <td>건 설 업</td>\n",
       "      <td>20110114.0</td>\n",
       "      <td>NaN</td>\n",
       "      <td>031-444-9636</td>\n",
       "      <td>NaN</td>\n",
       "      <td>NaN</td>\n",
       "      <td>경기도 안양시 동안구 관악대로374번길 12 306호 (관양동)</td>\n",
       "      <td>NaN</td>\n",
       "    </tr>\n",
       "  </tbody>\n",
       "</table>\n",
       "</div>"
      ],
      "text/plain": [
       "      Unnamed: 0     사업자등록번호  Unnamed: 2   기업명 기업영문명 대표자명  종업원수 종업원수기준년월  \\\n",
       "9414        9414  1238600291         NaN  대성**   NaN  전**   9.0   Mar-19   \n",
       "\n",
       "       산업분류코드             산업분류코드설명  기업규모 기업형태    업태명         설립일 이메일주소  \\\n",
       "9414  42412.0  도배, 실내 장식 및 내장 목공사업  중소기업   일반  건 설 업  20110114.0   NaN   \n",
       "\n",
       "              전화번호 팩스전화번호  우편번호                                   주소 상세주보  \n",
       "9414  031-444-9636    NaN   NaN  경기도 안양시 동안구 관악대로374번길 12 306호 (관양동)  NaN  "
      ]
     },
     "execution_count": 32,
     "metadata": {},
     "output_type": "execute_result"
    }
   ],
   "source": [
    "comp_spe_intro.loc[comp_spe_intro['사업자등록번호'] == 1238600291]"
   ]
  },
  {
   "cell_type": "code",
   "execution_count": 38,
   "id": "6ea16a33",
   "metadata": {},
   "outputs": [
    {
     "name": "stdout",
     "output_type": "stream",
     "text": [
      "<class 'pandas.core.frame.DataFrame'>\n",
      "RangeIndex: 29265 entries, 0 to 29264\n",
      "Data columns (total 17 columns):\n",
      " #   Column          Non-Null Count  Dtype  \n",
      "---  ------          --------------  -----  \n",
      " 0   Unnamed: 0      29265 non-null  int64  \n",
      " 1   BusinessNum     29265 non-null  int64  \n",
      " 2   Job             22484 non-null  object \n",
      " 3   EmployeeStatus  23123 non-null  object \n",
      " 4   ReviewDate      22774 non-null  object \n",
      " 5   TotScore        23123 non-null  float64\n",
      " 6   PromotionScore  23123 non-null  float64\n",
      " 7   WelfareScore    23123 non-null  float64\n",
      " 8   BalanceScore    23123 non-null  float64\n",
      " 9   CultureScore    23123 non-null  float64\n",
      " 10  ExecutiveScore  23123 non-null  float64\n",
      " 11  ReviewTitle     23123 non-null  object \n",
      " 12  Advantage       23123 non-null  object \n",
      " 13  Disadvantage    23123 non-null  object \n",
      " 14  ForExecutive    23118 non-null  object \n",
      " 15  GrowthYN        15735 non-null  object \n",
      " 16  RecommendYN     21834 non-null  object \n",
      "dtypes: float64(6), int64(2), object(9)\n",
      "memory usage: 3.8+ MB\n"
     ]
    }
   ],
   "source": [
    "jobplanet_review.info()"
   ]
  },
  {
   "cell_type": "code",
   "execution_count": 41,
   "id": "2a45a216",
   "metadata": {},
   "outputs": [
    {
     "data": {
      "text/plain": [
       "8000"
      ]
     },
     "execution_count": 41,
     "metadata": {},
     "output_type": "execute_result"
    }
   ],
   "source": [
    "len(jobplanet_review['BusinessNum'].unique())"
   ]
  },
  {
   "cell_type": "code",
   "execution_count": null,
   "id": "80b62dc4",
   "metadata": {},
   "outputs": [],
   "source": []
  }
 ],
 "metadata": {
  "kernelspec": {
   "display_name": "Python 3 (ipykernel)",
   "language": "python",
   "name": "python3"
  },
  "language_info": {
   "codemirror_mode": {
    "name": "ipython",
    "version": 3
   },
   "file_extension": ".py",
   "mimetype": "text/x-python",
   "name": "python",
   "nbconvert_exporter": "python",
   "pygments_lexer": "ipython3",
   "version": "3.9.13"
  }
 },
 "nbformat": 4,
 "nbformat_minor": 5
}
