{
 "cells": [
  {
   "cell_type": "code",
   "execution_count": 183,
   "id": "0480d9f8-eca2-45d8-8528-e2524c166bc9",
   "metadata": {},
   "outputs": [],
   "source": [
    "import pandas as pd\n",
    "import numpy as np\n",
    "import matplotlib.pyplot as plt\n",
    "import seaborn as sns\n",
    "import plotly.express as px\n",
    "import scipy.stats as stats"
   ]
  },
  {
   "cell_type": "code",
   "execution_count": 184,
   "id": "f1f57165",
   "metadata": {},
   "outputs": [],
   "source": [
    "# 데이터 불러오기"
   ]
  },
  {
   "cell_type": "code",
   "execution_count": 185,
   "id": "0f9d425d-19a5-4140-88b8-486186dccca2",
   "metadata": {},
   "outputs": [],
   "source": [
    "#path = 'C:/Users/UserK/Desktop/Ranee/data/신용예측프로젝트/프로젝트 데이터/'"
   ]
  },
  {
   "cell_type": "code",
   "execution_count": 345,
   "id": "02303706",
   "metadata": {},
   "outputs": [],
   "source": [
    "path = 'C:/Users/MSI/Desktop/study/Data/기업정보/'"
   ]
  },
  {
   "cell_type": "markdown",
   "id": "0c788177-41fb-4e4a-a27f-5b5039d93df2",
   "metadata": {},
   "source": [
    "- 기업정보요약 : comp_intro\n",
    "- 재무제표정보 : comp_finance\n",
    "- 경영진정보 : comp_manager\n",
    "- 국가R&D과제 : ntis_assign (진행중인것 / 완료 --> 성과데이터로있음)\n",
    "- 국가R&D성과 : ntis_accomp \n",
    "- 국가R&D연구보고서 : ntis_article\n",
    "- 디자인권정보 : kisti_design\n",
    "- 상표권정보 : kisti_mark\n",
    "- 신용등급정보: cri\n",
    "- 실용신안정보 : kisti_utility\n",
    "- 온라인뉴스: naver_news\n",
    "- 취업포탈리뷰 : jobplanet_review\n",
    "- 특허정보상세 : patent_detail\n",
    "- 패밀리특허정보 : family_patent"
   ]
  },
  {
   "cell_type": "code",
   "execution_count": 380,
   "id": "4f847e19",
   "metadata": {},
   "outputs": [],
   "source": [
    "comp_finance_train = pd.read_csv(path +'재무제표정보_train.csv')\n",
    "comp_finance_test = pd.read_csv(path +'재무제표정보_test.csv')\n",
    "comp_finance = pd.concat([comp_finance_train,comp_finance_test])"
   ]
  },
  {
   "cell_type": "code",
   "execution_count": 381,
   "id": "aba1b168",
   "metadata": {},
   "outputs": [],
   "source": [
    "comp_intro_train = pd.read_csv(path +'기업정보요약_train.csv')\n",
    "comp_intro_test = pd.read_csv(path +'기업정보요약_test.csv')\n",
    "comp_intro = pd.concat([comp_intro_train,comp_intro_test])"
   ]
  },
  {
   "cell_type": "code",
   "execution_count": 382,
   "id": "c677c857",
   "metadata": {},
   "outputs": [],
   "source": [
    "def dot_split(row):\n",
    "    if pd.isnull(row) :\n",
    "        return np.nan\n",
    "    else : \n",
    "        row = str(row)\n",
    "        return row.split('.')[0]"
   ]
  },
  {
   "cell_type": "markdown",
   "id": "136f3ab7-eb30-487d-bf9a-e98d9c4e5abd",
   "metadata": {},
   "source": [
    "# 산업분류코드 전처리"
   ]
  },
  {
   "cell_type": "code",
   "execution_count": 383,
   "id": "a8a8e04e-8ea9-47e4-86ca-c395100d1b5d",
   "metadata": {},
   "outputs": [],
   "source": [
    "df_industry = pd.read_excel(path+'한국표준산업분류표.xlsx',index_col=1).reset_index().fillna(method= 'ffill')"
   ]
  },
  {
   "cell_type": "code",
   "execution_count": 384,
   "id": "b7b2b5fe-a200-4ffb-878f-bf69624363fb",
   "metadata": {},
   "outputs": [
    {
     "name": "stdout",
     "output_type": "stream",
     "text": [
      "<class 'pandas.core.frame.DataFrame'>\n",
      "RangeIndex: 1197 entries, 0 to 1196\n",
      "Data columns (total 10 columns):\n",
      " #   Column  Non-Null Count  Dtype  \n",
      "---  ------  --------------  -----  \n",
      " 0   항목명     1197 non-null   object \n",
      " 1   대분류코드   1197 non-null   object \n",
      " 2   중분류코드   1197 non-null   float64\n",
      " 3   항목명.1   1197 non-null   object \n",
      " 4   소분류코드   1197 non-null   float64\n",
      " 5   항목명.2   1197 non-null   object \n",
      " 6   세분류코드   1197 non-null   float64\n",
      " 7   항목명.3   1197 non-null   object \n",
      " 8   세세분류코드  1197 non-null   float64\n",
      " 9   항목명.4   1197 non-null   object \n",
      "dtypes: float64(4), object(6)\n",
      "memory usage: 93.6+ KB\n"
     ]
    }
   ],
   "source": [
    "df_industry.info()"
   ]
  },
  {
   "cell_type": "code",
   "execution_count": 385,
   "id": "8b75d289-fa07-4c30-b751-87d5ba7f67ef",
   "metadata": {},
   "outputs": [],
   "source": [
    "def namee(row) :\n",
    "    return row.split('(')[0]\n",
    "\n",
    "df_industry['항목명'] = df_industry['항목명'].apply(namee)"
   ]
  },
  {
   "cell_type": "code",
   "execution_count": 386,
   "id": "5a3b8c53",
   "metadata": {},
   "outputs": [],
   "source": [
    "def spe_industry(row) :\n",
    "    if pd.isnull(row) :\n",
    "        return np.nan\n",
    "    elif len(str(row)) == 1 :\n",
    "        return '0'+str(row)\n",
    "    else : \n",
    "        return str(row)\n",
    "    \n",
    "df_industry['중분류코드_str'] = df_industry['중분류코드'].apply(dot_split).apply(spe_industry)"
   ]
  },
  {
   "cell_type": "code",
   "execution_count": 387,
   "id": "c3321a9b",
   "metadata": {},
   "outputs": [],
   "source": [
    "def spe_industry2(row) :\n",
    "    if pd.isnull(row) :\n",
    "        return np.nan\n",
    "    elif len(str(row)) == 4 :\n",
    "        return '0'+str(row)\n",
    "    else : \n",
    "        return str(row)\n",
    "    \n",
    "df_industry['indCd1_str'] = df_industry['세세분류코드'].apply(dot_split).apply(spe_industry2)"
   ]
  },
  {
   "cell_type": "code",
   "execution_count": 388,
   "id": "31c302e6",
   "metadata": {},
   "outputs": [],
   "source": [
    "df_industry_unique = df_industry[['대분류코드','항목명','중분류코드_str']].drop_duplicates()"
   ]
  },
  {
   "cell_type": "markdown",
   "id": "fac549ba",
   "metadata": {},
   "source": [
    "# 산업분류별 분류"
   ]
  },
  {
   "cell_type": "code",
   "execution_count": 389,
   "id": "2dbd9d67",
   "metadata": {},
   "outputs": [],
   "source": [
    "comp_intro['indCd1_str'] = comp_intro['indCd1'].apply(dot_split).apply(spe_industry2)"
   ]
  },
  {
   "cell_type": "code",
   "execution_count": 390,
   "id": "4d82d4be",
   "metadata": {},
   "outputs": [],
   "source": [
    "def indCd1(row) :\n",
    "    if pd.isnull(row) :\n",
    "        return np.nan\n",
    "    else : \n",
    "        return row[0:2]"
   ]
  },
  {
   "cell_type": "code",
   "execution_count": 391,
   "id": "b3395c77",
   "metadata": {},
   "outputs": [],
   "source": [
    "comp_intro['중분류코드_str'] = comp_intro['indCd1_str'].apply(indCd1)"
   ]
  },
  {
   "cell_type": "code",
   "execution_count": 392,
   "id": "0aaf381f-348a-4477-bcff-9d94b8418b53",
   "metadata": {},
   "outputs": [
    {
     "data": {
      "text/plain": [
       "(9755, 19)"
      ]
     },
     "execution_count": 392,
     "metadata": {},
     "output_type": "execute_result"
    }
   ],
   "source": [
    "comp_intro_m1 = pd.merge(comp_intro,df_industry_unique,on='중분류코드_str',how='left')\n",
    "comp_intro_m1.shape"
   ]
  },
  {
   "cell_type": "markdown",
   "id": "4c7f3e90-e04d-4dd9-896c-7f643a7a2278",
   "metadata": {},
   "source": [
    "# 재무제표로 폐업회사 추출"
   ]
  },
  {
   "cell_type": "code",
   "execution_count": 294,
   "id": "034504a0-88bc-4875-ad78-09a4170c5d0a",
   "metadata": {},
   "outputs": [],
   "source": [
    "pv1 = comp_finance.pivot_table(index=['BusinessNum','stYear'], columns='accNm', values='acctAmt').reset_index()"
   ]
  },
  {
   "cell_type": "code",
   "execution_count": 24,
   "id": "760cd67b",
   "metadata": {},
   "outputs": [],
   "source": [
    "# null값 적은 칼럼으로 확인\n",
    "pv2 = pv1[['BusinessNum','stYear','총자산']]"
   ]
  },
  {
   "cell_type": "code",
   "execution_count": 25,
   "id": "0a7fe7a3-a0b0-40a7-a90d-6f6fed1f3fbc",
   "metadata": {},
   "outputs": [],
   "source": [
    "# 4년치 이하인 사업자\n",
    "year_counts = pv2.groupby('BusinessNum')['stYear'].nunique()\n",
    "filtered_business_nums = year_counts[year_counts <= 4]"
   ]
  },
  {
   "cell_type": "code",
   "execution_count": 29,
   "id": "416c6d1b",
   "metadata": {},
   "outputs": [],
   "source": [
    "# 3년치 이하인 사업자\n",
    "year_counts = pv2.groupby('BusinessNum')['stYear'].nunique()\n",
    "filtered_business_nums2 = year_counts[year_counts <= 3]"
   ]
  },
  {
   "cell_type": "code",
   "execution_count": 26,
   "id": "572c0132",
   "metadata": {},
   "outputs": [
    {
     "data": {
      "text/plain": [
       "9173"
      ]
     },
     "execution_count": 26,
     "metadata": {},
     "output_type": "execute_result"
    }
   ],
   "source": [
    "len(pv2['BusinessNum'].unique())"
   ]
  },
  {
   "cell_type": "code",
   "execution_count": 27,
   "id": "6b08e2be-7476-4a86-978d-a60db57f7444",
   "metadata": {},
   "outputs": [],
   "source": [
    "shutdown_list = []\n",
    "for i in filtered_business_nums.index :\n",
    "    # 4년치 재무정보를 가진 회사 중 2017년에 첫 시작이면 list에 넣기\n",
    "    if pv2.loc[pv2['BusinessNum'] == i].iloc[0]['stYear'] == 2017.0 : \n",
    "        shutdown_list.append(pv2.loc[pv2['BusinessNum'] == i].iloc[0]['BusinessNum'])\n",
    "    "
   ]
  },
  {
   "cell_type": "code",
   "execution_count": 33,
   "id": "2ca9e180",
   "metadata": {},
   "outputs": [],
   "source": [
    "shutdown_list = []\n",
    "for i in filtered_business_nums.index :\n",
    "    # 4년치 재무정보를 가진 회사 중 끝 데이터값이 2021아니면 list에 넣기\n",
    "    if pv2.loc[pv2['BusinessNum'] == i].iloc[-1]['stYear'] != 2021.0 : \n",
    "        shutdown_list.append(pv2.loc[pv2['BusinessNum'] == i].iloc[0]['BusinessNum'])"
   ]
  },
  {
   "cell_type": "code",
   "execution_count": 35,
   "id": "7c6a6440",
   "metadata": {},
   "outputs": [],
   "source": [
    "cond1 = pv1['BusinessNum'].isin(shutdown_list)"
   ]
  },
  {
   "cell_type": "code",
   "execution_count": 36,
   "id": "dbaaaf2f",
   "metadata": {},
   "outputs": [],
   "source": [
    "pv1.loc[cond1, '폐업여부'] = '폐업'\n",
    "pv1.loc[~cond1, '폐업여부'] = '영업중'"
   ]
  },
  {
   "cell_type": "markdown",
   "id": "813993ef",
   "metadata": {},
   "source": [
    "# 재무제표 전처리"
   ]
  },
  {
   "cell_type": "code",
   "execution_count": 393,
   "id": "970716c5",
   "metadata": {},
   "outputs": [
    {
     "name": "stdout",
     "output_type": "stream",
     "text": [
      "(1115871, 7)\n",
      "<class 'pandas.core.frame.DataFrame'>\n",
      "Int64Index: 1115871 entries, 0 to 227236\n",
      "Data columns (total 7 columns):\n",
      " #   Column       Non-Null Count    Dtype  \n",
      "---  ------       --------------    -----  \n",
      " 0   Unnamed: 0   1115871 non-null  int64  \n",
      " 1   BusinessNum  1115871 non-null  int64  \n",
      " 2   stYear       1115044 non-null  float64\n",
      " 3   stNm         1115044 non-null  object \n",
      " 4   acctCd       1115044 non-null  object \n",
      " 5   accNm        1115044 non-null  object \n",
      " 6   acctAmt      1115038 non-null  float64\n",
      "dtypes: float64(2), int64(2), object(3)\n",
      "memory usage: 68.1+ MB\n"
     ]
    }
   ],
   "source": [
    "print(comp_finance.shape)\n",
    "comp_finance.info()"
   ]
  },
  {
   "cell_type": "code",
   "execution_count": 394,
   "id": "de7eeb91",
   "metadata": {},
   "outputs": [],
   "source": [
    "comp_finance_final = comp_finance.pivot_table(index=['BusinessNum','stYear'], columns='accNm', values='acctAmt').reset_index()"
   ]
  },
  {
   "cell_type": "markdown",
   "id": "0f99dd39",
   "metadata": {},
   "source": [
    "### 매개변수 만들기"
   ]
  },
  {
   "cell_type": "code",
   "execution_count": 242,
   "id": "2c272dee",
   "metadata": {},
   "outputs": [],
   "source": [
    "comp_finance_final['유동자산비율'] = comp_finance_final['유동부채']/comp_finance_final['유동자산']"
   ]
  },
  {
   "cell_type": "code",
   "execution_count": 243,
   "id": "1d4ac61c",
   "metadata": {},
   "outputs": [],
   "source": [
    "comp_finance_final['순운전자본비율'] = (comp_finance_final['유동자산']-comp_finance_final['유동부채'])/comp_finance_final['총자산']"
   ]
  },
  {
   "cell_type": "code",
   "execution_count": 244,
   "id": "3e521492",
   "metadata": {},
   "outputs": [],
   "source": [
    "comp_finance_final['매출액순이익률'] = (comp_finance_final['당기순이익(손실)']/comp_finance_final['매출액']) * 100"
   ]
  },
  {
   "cell_type": "code",
   "execution_count": 245,
   "id": "980d9d94",
   "metadata": {},
   "outputs": [],
   "source": [
    "comp_finance_final['ROA'] = (comp_finance_final['당기순이익(손실)']/comp_finance_final['총자산'])*100"
   ]
  },
  {
   "cell_type": "code",
   "execution_count": 246,
   "id": "941f8889",
   "metadata": {},
   "outputs": [],
   "source": [
    "comp_finance_final['ROE'] = (comp_finance_final['당기순이익(손실)']/comp_finance_final['자기자본'])*100"
   ]
  },
  {
   "cell_type": "code",
   "execution_count": 247,
   "id": "16434fb9",
   "metadata": {},
   "outputs": [],
   "source": [
    "comp_finance_final['매출총이익률'] = (comp_finance_final['매출총이익']/comp_finance_final['매출액']) * 100"
   ]
  },
  {
   "cell_type": "code",
   "execution_count": 248,
   "id": "d7c714f6",
   "metadata": {},
   "outputs": [],
   "source": [
    "comp_finance_final['총자산증가율'] = comp_finance_final['총자산 증가율']"
   ]
  },
  {
   "cell_type": "code",
   "execution_count": 249,
   "id": "602bac3d",
   "metadata": {},
   "outputs": [],
   "source": [
    "comp_finance_final['매출액증가율'] = comp_finance_final['매출 증가율']"
   ]
  },
  {
   "cell_type": "code",
   "execution_count": 250,
   "id": "bbaf451b",
   "metadata": {},
   "outputs": [],
   "source": [
    "comp_finance_final['유형자산증가율'] = comp_finance_final['유형자산 증가율']"
   ]
  },
  {
   "cell_type": "code",
   "execution_count": 251,
   "id": "83b23315",
   "metadata": {},
   "outputs": [],
   "source": [
    "comp_finance_final['자본생산성비율'] = comp_finance_final['매출액']/(comp_finance_final['총자산']-comp_finance_final['부채총계'])"
   ]
  },
  {
   "cell_type": "code",
   "execution_count": 252,
   "id": "1a4d2368",
   "metadata": {},
   "outputs": [],
   "source": [
    "comp_finance_final['매출채권회전율'] = comp_finance_final['매출액']/comp_finance_final['매출채권']"
   ]
  },
  {
   "cell_type": "code",
   "execution_count": 253,
   "id": "5d2f2ccb",
   "metadata": {},
   "outputs": [],
   "source": [
    "comp_finance_final['재고자산회전율'] = comp_finance_final['매출원가']/comp_finance_final['재고자산']"
   ]
  },
  {
   "cell_type": "code",
   "execution_count": 255,
   "id": "900841de",
   "metadata": {},
   "outputs": [],
   "source": [
    "comp_finance_final['총자본회전율'] = comp_finance_final['매출액']/comp_finance_final['총자산']"
   ]
  },
  {
   "cell_type": "code",
   "execution_count": null,
   "id": "7b4546c4",
   "metadata": {},
   "outputs": [],
   "source": [
    "comp_finance_final.isnull().sum()"
   ]
  },
  {
   "cell_type": "code",
   "execution_count": null,
   "id": "79600e74",
   "metadata": {},
   "outputs": [],
   "source": [
    "comp_finance_final.corr()[['매출액','매출총이익','당기순이익(손실)']]"
   ]
  },
  {
   "cell_type": "code",
   "execution_count": null,
   "id": "7cc360f4",
   "metadata": {},
   "outputs": [],
   "source": [
    "comp_finance_final.columns"
   ]
  },
  {
   "cell_type": "code",
   "execution_count": null,
   "id": "8864144e",
   "metadata": {},
   "outputs": [],
   "source": [
    "comp_finance_final.describe()"
   ]
  },
  {
   "cell_type": "code",
   "execution_count": 256,
   "id": "31bb3086",
   "metadata": {},
   "outputs": [],
   "source": [
    "comp_finance_final_2 = comp_finance_final[['BusinessNum','stYear','당기순이익(손실)','매출액','영업이익','유동자산비율', '순운전자본비율', '매출액순이익률',\n",
    "       'ROA', 'ROE', '매출총이익률', '총자산증가율', '매출액증가율', '유형자산증가율', '자본생산성비율','매출채권회전율', '총자본회전율']]"
   ]
  },
  {
   "cell_type": "code",
   "execution_count": 31,
   "id": "d8647e2f",
   "metadata": {
    "scrolled": true
   },
   "outputs": [
    {
     "data": {
      "text/plain": [
       "accNm\n",
       "BusinessNum     0.000000\n",
       "stYear          0.000000\n",
       "노무비            49.271937\n",
       "당기순이익(손실)       0.142309\n",
       "당좌부채(당좌차월)     99.832279\n",
       "당좌자산            0.551447\n",
       "대손상각비          65.200376\n",
       "매출 증가율          0.007624\n",
       "매출액             1.120683\n",
       "매출원가           15.730223\n",
       "매출채권           13.244898\n",
       "매출총이익           1.107977\n",
       "법인세비용          41.170491\n",
       "부채총계            0.228711\n",
       "비유동부채          30.044980\n",
       "수출액1           99.745877\n",
       "수출액2           99.585779\n",
       "수출액3           98.797998\n",
       "수출액4           99.982211\n",
       "수출액5           99.984753\n",
       "영업외비용           4.203197\n",
       "영업이익            0.147391\n",
       "원재료            71.797413\n",
       "유동부채            0.261747\n",
       "유동비율            0.020330\n",
       "유동자산            0.121979\n",
       "유형자산 증가율        0.007624\n",
       "이익잉여금           2.076186\n",
       "이자비용           20.492491\n",
       "인건비             1.893217\n",
       "자기자본            0.010165\n",
       "자본잉여금          86.002897\n",
       "자본총계            0.129603\n",
       "자산총계            0.119438\n",
       "재고자산           43.406775\n",
       "제조경비           44.202180\n",
       "제조원가           53.566618\n",
       "차입금             1.308734\n",
       "총자산             0.010165\n",
       "총자산 증가율         0.007624\n",
       "투자자산           28.599019\n",
       "판매비와관리비         0.579401\n",
       "회사채            99.997459\n",
       "dtype: float64"
      ]
     },
     "execution_count": 31,
     "metadata": {},
     "output_type": "execute_result"
    }
   ],
   "source": [
    "comp_finance_final.isnull().sum()/len(comp_finance_final) * 100"
   ]
  },
  {
   "cell_type": "markdown",
   "id": "b35be972",
   "metadata": {},
   "source": [
    "### 원자료모두사용 (null값 30% 이상 제외한 변수 사용)"
   ]
  },
  {
   "cell_type": "code",
   "execution_count": 297,
   "id": "a97dcd43",
   "metadata": {},
   "outputs": [],
   "source": [
    "comp_finance_final = comp_finance_final[['BusinessNum','stYear','매출액','영업이익','당기순이익(손실)', '당좌자산', '매출원가', \n",
    "                                     '매출채권', '매출총이익','부채총계', '영업외비용', '유동부채', '유동자산',\n",
    "                              '이익잉여금', '이자비용', '인건비', '자기자본', '자본총계', '자산총계', '총자산', '차입금',\n",
    "                                     '투자자산','판매비와관리비']]  "
   ]
  },
  {
   "cell_type": "markdown",
   "id": "0f48f378",
   "metadata": {},
   "source": [
    "### 상관관계로 변수 정함"
   ]
  },
  {
   "cell_type": "code",
   "execution_count": 147,
   "id": "23c6f35a",
   "metadata": {},
   "outputs": [
    {
     "data": {
      "text/plain": [
       "Index(['당좌자산', '매출원가', '매출채권', '매출총이익', '부채총계', '영업외비용', '유동부채', '유동자산',\n",
       "       '이익잉여금', '이자비용', '인건비', '자기자본', '자본총계', '자산총계', '총자산', '투자자산',\n",
       "       '판매비와관리비'],\n",
       "      dtype='object', name='accNm')"
      ]
     },
     "execution_count": 147,
     "metadata": {},
     "output_type": "execute_result"
    }
   ],
   "source": [
    "# 상관계수 행렬 계산\n",
    "correlations = comp_finance_final.corr()\n",
    "\n",
    "# '매출액', '당기순이익(손실)', '영업이익' 칼럼과의 상관계수 필터링\n",
    "target_columns = ['매출액', '당기순이익(손실)', '영업이익']\n",
    "filtered_correlations = correlations[target_columns].drop(target_columns)\n",
    "\n",
    "# 상관계수가 0.3 이상인 경우만 남기기\n",
    "filtered_correlations = filtered_correlations[filtered_correlations >= 0.3].dropna(how='all')\n",
    "\n",
    "filtered_correlations.index"
   ]
  },
  {
   "cell_type": "code",
   "execution_count": 361,
   "id": "8bbc1521",
   "metadata": {
    "scrolled": true
   },
   "outputs": [],
   "source": [
    "comp_finance_final = comp_finance_final[['BusinessNum','stYear','매출액','영업이익','당기순이익(손실)','당좌자산', '매출원가',\n",
    "                                         '매출채권', '매출총이익', '부채총계', '영업외비용', '유동부채', '유동자산','이익잉여금', \n",
    "                                         '이자비용', '인건비', '자기자본', '자본총계', '자산총계', '총자산', '투자자산','판매비와관리비']]"
   ]
  },
  {
   "cell_type": "markdown",
   "id": "3964f4c3",
   "metadata": {},
   "source": [
    "### 논문관련된변수를 사용"
   ]
  },
  {
   "cell_type": "code",
   "execution_count": 329,
   "id": "380e8e59",
   "metadata": {},
   "outputs": [],
   "source": [
    "comp_finance_final = comp_finance_final[['BusinessNum','stYear','매출액','영업이익','당기순이익(손실)','유동부채','유동자산',\n",
    "                                         '총자산', '자기자본', '매출채권']]"
   ]
  },
  {
   "cell_type": "markdown",
   "id": "7f8c1e59",
   "metadata": {},
   "source": [
    "# 재무정보와 기업정보 병합"
   ]
  },
  {
   "cell_type": "code",
   "execution_count": 362,
   "id": "bb63f797",
   "metadata": {},
   "outputs": [
    {
     "data": {
      "text/html": [
       "<div>\n",
       "<style scoped>\n",
       "    .dataframe tbody tr th:only-of-type {\n",
       "        vertical-align: middle;\n",
       "    }\n",
       "\n",
       "    .dataframe tbody tr th {\n",
       "        vertical-align: top;\n",
       "    }\n",
       "\n",
       "    .dataframe thead th {\n",
       "        text-align: right;\n",
       "    }\n",
       "</style>\n",
       "<table border=\"1\" class=\"dataframe\">\n",
       "  <thead>\n",
       "    <tr style=\"text-align: right;\">\n",
       "      <th></th>\n",
       "      <th>Unnamed: 0</th>\n",
       "      <th>BusinessNum</th>\n",
       "      <th>종업원수</th>\n",
       "      <th>주소1</th>\n",
       "      <th>주소2</th>\n",
       "      <th>인건비</th>\n",
       "      <th>연차</th>\n",
       "      <th>평균인건비</th>\n",
       "      <th>평균종업원수</th>\n",
       "    </tr>\n",
       "  </thead>\n",
       "  <tbody>\n",
       "    <tr>\n",
       "      <th>0</th>\n",
       "      <td>0</td>\n",
       "      <td>1050508965</td>\n",
       "      <td>NaN</td>\n",
       "      <td>서울</td>\n",
       "      <td>마포구</td>\n",
       "      <td>NaN</td>\n",
       "      <td>NaN</td>\n",
       "      <td>NaN</td>\n",
       "      <td>NaN</td>\n",
       "    </tr>\n",
       "    <tr>\n",
       "      <th>1</th>\n",
       "      <td>1</td>\n",
       "      <td>1010204456</td>\n",
       "      <td>5.0</td>\n",
       "      <td>서울</td>\n",
       "      <td>마포구</td>\n",
       "      <td>163362.0</td>\n",
       "      <td>24.0</td>\n",
       "      <td>572901.0</td>\n",
       "      <td>20.0</td>\n",
       "    </tr>\n",
       "    <tr>\n",
       "      <th>2</th>\n",
       "      <td>2</td>\n",
       "      <td>1048107174</td>\n",
       "      <td>12.0</td>\n",
       "      <td>서울</td>\n",
       "      <td>마포구</td>\n",
       "      <td>605783.0</td>\n",
       "      <td>23.0</td>\n",
       "      <td>353671.0</td>\n",
       "      <td>14.0</td>\n",
       "    </tr>\n",
       "    <tr>\n",
       "      <th>3</th>\n",
       "      <td>3</td>\n",
       "      <td>1018102731</td>\n",
       "      <td>18.0</td>\n",
       "      <td>서울</td>\n",
       "      <td>마포구</td>\n",
       "      <td>460156.0</td>\n",
       "      <td>21.0</td>\n",
       "      <td>460156.0</td>\n",
       "      <td>16.0</td>\n",
       "    </tr>\n",
       "    <tr>\n",
       "      <th>4</th>\n",
       "      <td>4</td>\n",
       "      <td>1018606595</td>\n",
       "      <td>3.0</td>\n",
       "      <td>서울</td>\n",
       "      <td>마포구</td>\n",
       "      <td>129405.0</td>\n",
       "      <td>15.0</td>\n",
       "      <td>329271.0</td>\n",
       "      <td>12.0</td>\n",
       "    </tr>\n",
       "    <tr>\n",
       "      <th>...</th>\n",
       "      <td>...</td>\n",
       "      <td>...</td>\n",
       "      <td>...</td>\n",
       "      <td>...</td>\n",
       "      <td>...</td>\n",
       "      <td>...</td>\n",
       "      <td>...</td>\n",
       "      <td>...</td>\n",
       "      <td>...</td>\n",
       "    </tr>\n",
       "    <tr>\n",
       "      <th>9876</th>\n",
       "      <td>9876</td>\n",
       "      <td>2148708573</td>\n",
       "      <td>150.0</td>\n",
       "      <td>서울</td>\n",
       "      <td>중구</td>\n",
       "      <td>4485000.0</td>\n",
       "      <td>22.0</td>\n",
       "      <td>390711.0</td>\n",
       "      <td>13.0</td>\n",
       "    </tr>\n",
       "    <tr>\n",
       "      <th>9877</th>\n",
       "      <td>9877</td>\n",
       "      <td>4208704866</td>\n",
       "      <td>7.0</td>\n",
       "      <td>서울</td>\n",
       "      <td>노원구</td>\n",
       "      <td>69223.0</td>\n",
       "      <td>7.0</td>\n",
       "      <td>63486.0</td>\n",
       "      <td>7.0</td>\n",
       "    </tr>\n",
       "    <tr>\n",
       "      <th>9878</th>\n",
       "      <td>9878</td>\n",
       "      <td>4618107952</td>\n",
       "      <td>3.0</td>\n",
       "      <td>서울</td>\n",
       "      <td>금천구</td>\n",
       "      <td>625041.0</td>\n",
       "      <td>9.0</td>\n",
       "      <td>172410.0</td>\n",
       "      <td>8.0</td>\n",
       "    </tr>\n",
       "    <tr>\n",
       "      <th>9879</th>\n",
       "      <td>9879</td>\n",
       "      <td>2208107776</td>\n",
       "      <td>21.0</td>\n",
       "      <td>서울</td>\n",
       "      <td>강남구</td>\n",
       "      <td>794622.0</td>\n",
       "      <td>24.0</td>\n",
       "      <td>572901.0</td>\n",
       "      <td>20.0</td>\n",
       "    </tr>\n",
       "    <tr>\n",
       "      <th>9880</th>\n",
       "      <td>9880</td>\n",
       "      <td>4638108687</td>\n",
       "      <td>5.0</td>\n",
       "      <td>경기</td>\n",
       "      <td>용인시</td>\n",
       "      <td>87797.0</td>\n",
       "      <td>7.0</td>\n",
       "      <td>63486.0</td>\n",
       "      <td>7.0</td>\n",
       "    </tr>\n",
       "  </tbody>\n",
       "</table>\n",
       "<p>9881 rows × 9 columns</p>\n",
       "</div>"
      ],
      "text/plain": [
       "      Unnamed: 0  BusinessNum   종업원수 주소1  주소2        인건비    연차     평균인건비  \\\n",
       "0              0   1050508965    NaN  서울  마포구        NaN   NaN       NaN   \n",
       "1              1   1010204456    5.0  서울  마포구   163362.0  24.0  572901.0   \n",
       "2              2   1048107174   12.0  서울  마포구   605783.0  23.0  353671.0   \n",
       "3              3   1018102731   18.0  서울  마포구   460156.0  21.0  460156.0   \n",
       "4              4   1018606595    3.0  서울  마포구   129405.0  15.0  329271.0   \n",
       "...          ...          ...    ...  ..  ...        ...   ...       ...   \n",
       "9876        9876   2148708573  150.0  서울   중구  4485000.0  22.0  390711.0   \n",
       "9877        9877   4208704866    7.0  서울  노원구    69223.0   7.0   63486.0   \n",
       "9878        9878   4618107952    3.0  서울  금천구   625041.0   9.0  172410.0   \n",
       "9879        9879   2208107776   21.0  서울  강남구   794622.0  24.0  572901.0   \n",
       "9880        9880   4638108687    5.0  경기  용인시    87797.0   7.0   63486.0   \n",
       "\n",
       "      평균종업원수  \n",
       "0        NaN  \n",
       "1       20.0  \n",
       "2       14.0  \n",
       "3       16.0  \n",
       "4       12.0  \n",
       "...      ...  \n",
       "9876    13.0  \n",
       "9877     7.0  \n",
       "9878     8.0  \n",
       "9879    20.0  \n",
       "9880     7.0  \n",
       "\n",
       "[9881 rows x 9 columns]"
      ]
     },
     "execution_count": 362,
     "metadata": {},
     "output_type": "execute_result"
    }
   ],
   "source": [
    "comp_intro_m = pd.read_csv(path+'주소_설립연차_전처리.csv')\n",
    "comp_intro_m"
   ]
  },
  {
   "cell_type": "code",
   "execution_count": 363,
   "id": "2b6faca8",
   "metadata": {},
   "outputs": [],
   "source": [
    "comp_intro_m2 = pd.merge(comp_intro_m1,comp_intro_m,on='BusinessNum',how='left')"
   ]
  },
  {
   "cell_type": "code",
   "execution_count": 364,
   "id": "49a24c50",
   "metadata": {},
   "outputs": [
    {
     "data": {
      "text/plain": [
       "(9755, 27)"
      ]
     },
     "execution_count": 364,
     "metadata": {},
     "output_type": "execute_result"
    }
   ],
   "source": [
    "comp_intro_m2.shape"
   ]
  },
  {
   "cell_type": "code",
   "execution_count": 365,
   "id": "3c0895eb",
   "metadata": {},
   "outputs": [
    {
     "name": "stdout",
     "output_type": "stream",
     "text": [
      "<class 'pandas.core.frame.DataFrame'>\n",
      "Int64Index: 9755 entries, 0 to 9754\n",
      "Data columns (total 27 columns):\n",
      " #   Column        Non-Null Count  Dtype  \n",
      "---  ------        --------------  -----  \n",
      " 0   Unnamed: 0_x  9755 non-null   int64  \n",
      " 1   BusinessNum   9755 non-null   int64  \n",
      " 2   cmpNm         9755 non-null   object \n",
      " 3   기업명           7804 non-null   object \n",
      " 4   ceoNm         9755 non-null   object \n",
      " 5   telNo         9240 non-null   object \n",
      " 6   faxTelNo      7014 non-null   object \n",
      " 7   zip           7894 non-null   float64\n",
      " 8   adr           9657 non-null   object \n",
      " 9   dtlAdr        8028 non-null   object \n",
      " 10  cmpTypNm      9755 non-null   object \n",
      " 11  cmpSclNm      9755 non-null   object \n",
      " 12  pbcoGbNm      8134 non-null   object \n",
      " 13  indCd1        9736 non-null   float64\n",
      " 14  indNm         9733 non-null   object \n",
      " 15  indCd1_str    9736 non-null   object \n",
      " 16  중분류코드_str     9736 non-null   object \n",
      " 17  대분류코드         9736 non-null   object \n",
      " 18  항목명           9736 non-null   object \n",
      " 19  Unnamed: 0_y  9636 non-null   float64\n",
      " 20  종업원수          9381 non-null   float64\n",
      " 21  주소1           9631 non-null   object \n",
      " 22  주소2           9629 non-null   object \n",
      " 23  인건비           9373 non-null   float64\n",
      " 24  연차            9288 non-null   object \n",
      " 25  평균인건비         9287 non-null   float64\n",
      " 26  평균종업원수        9287 non-null   float64\n",
      "dtypes: float64(7), int64(2), object(18)\n",
      "memory usage: 2.1+ MB\n"
     ]
    }
   ],
   "source": [
    "comp_intro_m2.info()"
   ]
  },
  {
   "cell_type": "code",
   "execution_count": 418,
   "id": "a76a7c01",
   "metadata": {},
   "outputs": [],
   "source": [
    "c1 = comp_intro_m2[['BusinessNum','주소1','연차','종업원수','대분류코드']]"
   ]
  },
  {
   "cell_type": "code",
   "execution_count": 419,
   "id": "02d14b3b",
   "metadata": {},
   "outputs": [
    {
     "name": "stdout",
     "output_type": "stream",
     "text": [
      "<class 'pandas.core.frame.DataFrame'>\n",
      "Int64Index: 9755 entries, 0 to 9754\n",
      "Data columns (total 5 columns):\n",
      " #   Column       Non-Null Count  Dtype  \n",
      "---  ------       --------------  -----  \n",
      " 0   BusinessNum  9755 non-null   int64  \n",
      " 1   주소1          9631 non-null   object \n",
      " 2   연차           9288 non-null   object \n",
      " 3   종업원수         9381 non-null   float64\n",
      " 4   대분류코드        9736 non-null   object \n",
      "dtypes: float64(1), int64(1), object(3)\n",
      "memory usage: 457.3+ KB\n"
     ]
    }
   ],
   "source": [
    "c1.info()"
   ]
  },
  {
   "cell_type": "code",
   "execution_count": 368,
   "id": "4e168301",
   "metadata": {},
   "outputs": [],
   "source": [
    "df_all = pd.merge(c1,comp_finance_final,on='BusinessNum', how='inner')"
   ]
  },
  {
   "cell_type": "code",
   "execution_count": 369,
   "id": "979fec5f",
   "metadata": {},
   "outputs": [
    {
     "name": "stdout",
     "output_type": "stream",
     "text": [
      "<class 'pandas.core.frame.DataFrame'>\n",
      "Int64Index: 38898 entries, 0 to 38897\n",
      "Data columns (total 26 columns):\n",
      " #   Column       Non-Null Count  Dtype  \n",
      "---  ------       --------------  -----  \n",
      " 0   BusinessNum  38898 non-null  int64  \n",
      " 1   주소1          38825 non-null  object \n",
      " 2   연차           38554 non-null  object \n",
      " 3   종업원수         38708 non-null  float64\n",
      " 4   대분류코드        38892 non-null  object \n",
      " 5   stYear       38898 non-null  float64\n",
      " 6   매출액          38460 non-null  float64\n",
      " 7   영업이익         38842 non-null  float64\n",
      " 8   당기순이익(손실)    38844 non-null  float64\n",
      " 9   당좌자산         38683 non-null  float64\n",
      " 10  매출원가         32756 non-null  float64\n",
      " 11  매출채권         33768 non-null  float64\n",
      " 12  매출총이익        38465 non-null  float64\n",
      " 13  부채총계         38812 non-null  float64\n",
      " 14  영업외비용        37304 non-null  float64\n",
      " 15  유동부채         38801 non-null  float64\n",
      " 16  유동자산         38851 non-null  float64\n",
      " 17  이익잉여금        38183 non-null  float64\n",
      " 18  이자비용         30942 non-null  float64\n",
      " 19  인건비          38194 non-null  float64\n",
      " 20  자기자본         38894 non-null  float64\n",
      " 21  자본총계         38848 non-null  float64\n",
      " 22  자산총계         38851 non-null  float64\n",
      " 23  총자산          38894 non-null  float64\n",
      " 24  투자자산         27867 non-null  float64\n",
      " 25  판매비와관리비      38672 non-null  float64\n",
      "dtypes: float64(22), int64(1), object(3)\n",
      "memory usage: 8.0+ MB\n"
     ]
    }
   ],
   "source": [
    "df_all.info()"
   ]
  },
  {
   "cell_type": "code",
   "execution_count": 370,
   "id": "3bf786ec",
   "metadata": {},
   "outputs": [],
   "source": [
    "def convert_years(row):\n",
    "    if pd.isnull(row) :\n",
    "        return np.nan\n",
    "    elif row == '30년이상':\n",
    "        return 30.0\n",
    "    else:\n",
    "        return float(row)\n",
    "\n",
    "def convert_years_2(row):\n",
    "    if pd.isnull(row) :\n",
    "        return np.nan\n",
    "    elif row <= 5 :\n",
    "        return '5년이하'\n",
    "    elif row <= 10 :\n",
    "        return '10년이하'\n",
    "    elif row <= 25 :\n",
    "        return '25년이하'\n",
    "    elif row > 25 :\n",
    "        return '25년초과'\n",
    "    else :\n",
    "        return row"
   ]
  },
  {
   "cell_type": "code",
   "execution_count": 371,
   "id": "776b6f1c",
   "metadata": {},
   "outputs": [],
   "source": [
    "df_all['성장단계'] = df_all['연차'].apply(convert_years).apply(convert_years_2)"
   ]
  },
  {
   "cell_type": "code",
   "execution_count": 372,
   "id": "bec1d351",
   "metadata": {},
   "outputs": [],
   "source": [
    "def convert_add(row):\n",
    "    if pd.isnull(row) :\n",
    "        return np.nan\n",
    "    elif row in ['서울','인천','경기'] :\n",
    "        return '수도권'\n",
    "    else :\n",
    "        return '비수도권'"
   ]
  },
  {
   "cell_type": "code",
   "execution_count": 373,
   "id": "826b72b6",
   "metadata": {},
   "outputs": [],
   "source": [
    "df_all['주소'] = df_all['주소1'].apply(convert_add)"
   ]
  },
  {
   "cell_type": "code",
   "execution_count": 374,
   "id": "5cf6bf17",
   "metadata": {},
   "outputs": [],
   "source": [
    "df_final = df_all.drop(columns=['주소1'])"
   ]
  },
  {
   "cell_type": "code",
   "execution_count": 375,
   "id": "ba197062",
   "metadata": {},
   "outputs": [],
   "source": [
    "#df_final.to_csv(path + '이상치처리전_원변수.csv')\n",
    "#df_final.to_csv(path + '이상치처리전_논문변수.csv')\n",
    "df_final.to_csv(path + '이상치처리전_상관관계변수.csv')"
   ]
  },
  {
   "cell_type": "markdown",
   "id": "44783e7a",
   "metadata": {},
   "source": [
    "# 2022예측데이터 만들기"
   ]
  },
  {
   "cell_type": "code",
   "execution_count": 422,
   "id": "b6119f4e",
   "metadata": {},
   "outputs": [
    {
     "name": "stdout",
     "output_type": "stream",
     "text": [
      "<class 'pandas.core.frame.DataFrame'>\n",
      "Int64Index: 38898 entries, 0 to 38897\n",
      "Data columns (total 28 columns):\n",
      " #   Column       Non-Null Count  Dtype  \n",
      "---  ------       --------------  -----  \n",
      " 0   BusinessNum  38898 non-null  int64  \n",
      " 1   연차           38554 non-null  object \n",
      " 2   종업원수         38708 non-null  float64\n",
      " 3   대분류코드        38892 non-null  object \n",
      " 4   stYear       38898 non-null  float64\n",
      " 5   매출액          38460 non-null  float64\n",
      " 6   영업이익         38842 non-null  float64\n",
      " 7   당기순이익(손실)    38844 non-null  float64\n",
      " 8   당좌자산         38683 non-null  float64\n",
      " 9   매출원가         32756 non-null  float64\n",
      " 10  매출채권         33768 non-null  float64\n",
      " 11  매출총이익        38465 non-null  float64\n",
      " 12  부채총계         38812 non-null  float64\n",
      " 13  영업외비용        37304 non-null  float64\n",
      " 14  유동부채         38801 non-null  float64\n",
      " 15  유동자산         38851 non-null  float64\n",
      " 16  이익잉여금        38183 non-null  float64\n",
      " 17  이자비용         30942 non-null  float64\n",
      " 18  인건비          38194 non-null  float64\n",
      " 19  자기자본         38894 non-null  float64\n",
      " 20  자본총계         38848 non-null  float64\n",
      " 21  자산총계         38851 non-null  float64\n",
      " 22  총자산          38894 non-null  float64\n",
      " 23  차입금          38395 non-null  float64\n",
      " 24  투자자산         27867 non-null  float64\n",
      " 25  판매비와관리비      38672 non-null  float64\n",
      " 26  성장단계         38554 non-null  object \n",
      " 27  주소           38825 non-null  object \n",
      "dtypes: float64(23), int64(1), object(4)\n",
      "memory usage: 8.6+ MB\n"
     ]
    }
   ],
   "source": [
    "df_pre = pd.read_csv(path + '이상치처리전_원변수.csv', index_col=0)\n",
    "df_pre.info()"
   ]
  },
  {
   "cell_type": "code",
   "execution_count": 423,
   "id": "9f15f692",
   "metadata": {},
   "outputs": [],
   "source": [
    "# 각 BusinessNum 별로 가장 큰 stYear 행만 선택\n",
    "df_latest_year = df_pre.loc[df_pre.groupby('BusinessNum')['stYear'].idxmax()]"
   ]
  },
  {
   "cell_type": "code",
   "execution_count": 427,
   "id": "45afd21d",
   "metadata": {},
   "outputs": [],
   "source": [
    "df_blank = pd.read_csv(path + '2022_predict.csv', encoding = 'cp949').rename(columns={'사업자등록번호_마스킹' :'BusinessNum' })['BusinessNum']\n",
    "df_pre_final = pd.merge(df_blank,df_latest_year, on='BusinessNum', how='left')"
   ]
  },
  {
   "cell_type": "code",
   "execution_count": 428,
   "id": "65f4ef3c",
   "metadata": {},
   "outputs": [],
   "source": [
    "df_pre_final.to_csv(path+'2022_예측데이터.csv')"
   ]
  },
  {
   "cell_type": "code",
   "execution_count": 417,
   "id": "4f2ef86b",
   "metadata": {},
   "outputs": [
    {
     "name": "stdout",
     "output_type": "stream",
     "text": [
      "<class 'pandas.core.frame.DataFrame'>\n",
      "Int64Index: 38898 entries, 0 to 38897\n",
      "Data columns (total 27 columns):\n",
      " #   Column       Non-Null Count  Dtype  \n",
      "---  ------       --------------  -----  \n",
      " 0   BusinessNum  38898 non-null  int64  \n",
      " 1   연차           38554 non-null  object \n",
      " 2   종업원수         38708 non-null  float64\n",
      " 3   대분류코드        38892 non-null  object \n",
      " 4   stYear       38898 non-null  float64\n",
      " 5   매출액          38460 non-null  float64\n",
      " 6   영업이익         38842 non-null  float64\n",
      " 7   당기순이익(손실)    38844 non-null  float64\n",
      " 8   당좌자산         38683 non-null  float64\n",
      " 9   매출원가         32756 non-null  float64\n",
      " 10  매출채권         33768 non-null  float64\n",
      " 11  매출총이익        38465 non-null  float64\n",
      " 12  부채총계         38812 non-null  float64\n",
      " 13  영업외비용        37304 non-null  float64\n",
      " 14  유동부채         38801 non-null  float64\n",
      " 15  유동자산         38851 non-null  float64\n",
      " 16  이익잉여금        38183 non-null  float64\n",
      " 17  이자비용         30942 non-null  float64\n",
      " 18  인건비          38194 non-null  float64\n",
      " 19  자기자본         38894 non-null  float64\n",
      " 20  자본총계         38848 non-null  float64\n",
      " 21  자산총계         38851 non-null  float64\n",
      " 22  총자산          38894 non-null  float64\n",
      " 23  투자자산         27867 non-null  float64\n",
      " 24  판매비와관리비      38672 non-null  float64\n",
      " 25  성장단계         38554 non-null  object \n",
      " 26  주소           38825 non-null  object \n",
      "dtypes: float64(22), int64(1), object(4)\n",
      "memory usage: 8.3+ MB\n"
     ]
    }
   ],
   "source": [
    "df_final.info()"
   ]
  },
  {
   "cell_type": "code",
   "execution_count": null,
   "id": "1517b13d",
   "metadata": {},
   "outputs": [],
   "source": []
  }
 ],
 "metadata": {
  "kernelspec": {
   "display_name": "Python 3 (ipykernel)",
   "language": "python",
   "name": "python3"
  },
  "language_info": {
   "codemirror_mode": {
    "name": "ipython",
    "version": 3
   },
   "file_extension": ".py",
   "mimetype": "text/x-python",
   "name": "python",
   "nbconvert_exporter": "python",
   "pygments_lexer": "ipython3",
   "version": "3.9.13"
  }
 },
 "nbformat": 4,
 "nbformat_minor": 5
}
