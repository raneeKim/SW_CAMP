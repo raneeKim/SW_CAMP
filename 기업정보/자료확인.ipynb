{
 "cells": [
  {
   "cell_type": "code",
   "execution_count": 20,
   "id": "0480d9f8-eca2-45d8-8528-e2524c166bc9",
   "metadata": {},
   "outputs": [],
   "source": [
    "import pandas as pd\n",
    "import numpy as np\n",
    "import matplotlib.pyplot as plt\n",
    "import seaborn as sns\n",
    "import plotly.express as px\n",
    "import scipy.stats as stats"
   ]
  },
  {
   "cell_type": "code",
   "execution_count": 6,
   "id": "f1f57165",
   "metadata": {},
   "outputs": [],
   "source": [
    "# 데이터 불러오기"
   ]
  },
  {
   "cell_type": "code",
   "execution_count": 7,
   "id": "0f9d425d-19a5-4140-88b8-486186dccca2",
   "metadata": {},
   "outputs": [],
   "source": [
    "#path = 'C:/Users/UserK/Desktop/Ranee/data/신용예측프로젝트/프로젝트 데이터/'"
   ]
  },
  {
   "cell_type": "code",
   "execution_count": 21,
   "id": "02303706",
   "metadata": {},
   "outputs": [],
   "source": [
    "path = 'C:/Users/MSI/Desktop/study/Data/기업정보/'"
   ]
  },
  {
   "cell_type": "markdown",
   "id": "0c788177-41fb-4e4a-a27f-5b5039d93df2",
   "metadata": {},
   "source": [
    "- 기업정보요약 : comp_intro\n",
    "- 재무제표정보 : comp_finance\n",
    "- 경영진정보 : comp_manager\n",
    "- 국가R&D과제 : ntis_assign (진행중인것 / 완료 --> 성과데이터로있음)\n",
    "- 국가R&D성과 : ntis_accomp \n",
    "- 국가R&D연구보고서 : ntis_article\n",
    "- 디자인권정보 : kisti_design\n",
    "- 상표권정보 : kisti_mark\n",
    "- 신용등급정보: cri\n",
    "- 실용신안정보 : kisti_utility\n",
    "- 온라인뉴스: naver_news\n",
    "- 취업포탈리뷰 : jobplanet_review\n",
    "- 특허정보상세 : patent_detail\n",
    "- 패밀리특허정보 : family_patent"
   ]
  },
  {
   "cell_type": "code",
   "execution_count": 22,
   "id": "6a8247f2-e784-49bf-9276-e38b17dda86e",
   "metadata": {},
   "outputs": [
    {
     "name": "stderr",
     "output_type": "stream",
     "text": [
      "C:\\Users\\MSI\\AppData\\Local\\Temp\\ipykernel_17656\\1054590792.py:2: DtypeWarning: Columns (42,44,46,48,51,56) have mixed types. Specify dtype option on import or set low_memory=False.\n",
      "  ntis_assign = pd.read_csv(path +'국가R&D과제_train.csv')\n"
     ]
    }
   ],
   "source": [
    "comp_manager = pd.read_csv(path +'경영진정보_train.csv')\n",
    "ntis_assign = pd.read_csv(path +'국가R&D과제_train.csv')\n",
    "ntis_accomp = pd.read_csv(path +'국가R&D성과_train.csv')\n",
    "ntis_article = pd.read_csv(path +'국가R&D연구보고서_train.csv')\n",
    "comp_intro = pd.read_csv(path +'기업정보요약_train.csv')\n",
    "comp_spe_intro = pd.read_csv(path +'기업정보상세.csv')\n",
    "kisti_design = pd.read_csv(path +'디자인권정보_train.csv')\n",
    "kisti_mark = pd.read_csv(path +'상표권정보_train.csv')\n",
    "cri = pd.read_csv(path +'신용등급정보_train.csv')\n",
    "kisti_utility = pd.read_csv(path +'실용신안정보_train.csv')\n",
    "naver_news = pd.read_csv(path +'온라인뉴스_train.csv')\n",
    "comp_finance = pd.read_csv(path +'재무제표정보_train.csv')\n",
    "jobplanet_review = pd.read_csv(path +'취업포탈리뷰_train.csv')\n",
    "patent_detail = pd.read_csv(path +'특허정보상세_train.csv')\n",
    "family_patent = pd.read_csv(path +'패밀리특허정보_train.csv')\n",
    "pre_df = pd.read_csv(path +'주소_설립연차_전처리.csv', index_col=0)"
   ]
  },
  {
   "cell_type": "code",
   "execution_count": 161,
   "id": "4f847e19",
   "metadata": {},
   "outputs": [],
   "source": [
    "comp_finance_train = pd.read_csv(path +'재무제표정보_train.csv')\n",
    "comp_finance_test = pd.read_csv(path +'재무제표정보_test.csv')\n",
    "comp_finance = pd.concat([comp_finance_train,comp_finance_test])"
   ]
  },
  {
   "cell_type": "code",
   "execution_count": 162,
   "id": "aba1b168",
   "metadata": {},
   "outputs": [],
   "source": [
    "comp_intro_train = pd.read_csv(path +'기업정보요약_train.csv')\n",
    "comp_intro_test = pd.read_csv(path +'기업정보요약_test.csv')\n",
    "comp_intro = pd.concat([comp_intro_train,comp_intro_test])"
   ]
  },
  {
   "cell_type": "code",
   "execution_count": 163,
   "id": "c677c857",
   "metadata": {},
   "outputs": [],
   "source": [
    "def dot_split(row):\n",
    "    if pd.isnull(row) :\n",
    "        return np.nan\n",
    "    else : \n",
    "        row = str(row)\n",
    "        return row.split('.')[0]"
   ]
  },
  {
   "cell_type": "markdown",
   "id": "136f3ab7-eb30-487d-bf9a-e98d9c4e5abd",
   "metadata": {},
   "source": [
    "# 산업분류코드 전처리"
   ]
  },
  {
   "cell_type": "code",
   "execution_count": 139,
   "id": "a8a8e04e-8ea9-47e4-86ca-c395100d1b5d",
   "metadata": {},
   "outputs": [],
   "source": [
    "df_industry = pd.read_excel(path+'한국표준산업분류표.xlsx',index_col=1).reset_index().fillna(method= 'ffill')"
   ]
  },
  {
   "cell_type": "code",
   "execution_count": 140,
   "id": "b7b2b5fe-a200-4ffb-878f-bf69624363fb",
   "metadata": {},
   "outputs": [
    {
     "name": "stdout",
     "output_type": "stream",
     "text": [
      "<class 'pandas.core.frame.DataFrame'>\n",
      "RangeIndex: 1197 entries, 0 to 1196\n",
      "Data columns (total 10 columns):\n",
      " #   Column  Non-Null Count  Dtype  \n",
      "---  ------  --------------  -----  \n",
      " 0   항목명     1197 non-null   object \n",
      " 1   대분류코드   1197 non-null   object \n",
      " 2   중분류코드   1197 non-null   float64\n",
      " 3   항목명.1   1197 non-null   object \n",
      " 4   소분류코드   1197 non-null   float64\n",
      " 5   항목명.2   1197 non-null   object \n",
      " 6   세분류코드   1197 non-null   float64\n",
      " 7   항목명.3   1197 non-null   object \n",
      " 8   세세분류코드  1197 non-null   float64\n",
      " 9   항목명.4   1197 non-null   object \n",
      "dtypes: float64(4), object(6)\n",
      "memory usage: 93.6+ KB\n"
     ]
    }
   ],
   "source": [
    "df_industry.info()"
   ]
  },
  {
   "cell_type": "code",
   "execution_count": 180,
   "id": "8b75d289-fa07-4c30-b751-87d5ba7f67ef",
   "metadata": {},
   "outputs": [],
   "source": [
    "def namee(row) :\n",
    "    return row.split('(')[0]\n",
    "\n",
    "df_industry['항목명'] = df_industry['항목명'].apply(namee)"
   ]
  },
  {
   "cell_type": "code",
   "execution_count": 143,
   "id": "99ce613b",
   "metadata": {},
   "outputs": [
    {
     "data": {
      "text/plain": [
       "array([ 1.,  2.,  3.,  5.,  6.,  7.,  8., 10., 11., 12., 13., 14., 15.,\n",
       "       16., 17., 18., 19., 20., 21., 22., 23., 24., 25., 26., 27., 28.,\n",
       "       29., 30., 31., 32., 33., 34., 35., 36., 37., 38., 39., 41., 42.,\n",
       "       45., 46., 47., 49., 50., 51., 52., 55., 56., 58., 59., 60., 61.,\n",
       "       62., 63., 64., 65., 66., 68., 70., 71., 72., 73., 74., 75., 76.,\n",
       "       84., 85., 86., 87., 90., 91., 94., 95., 96., 97., 98., 99.])"
      ]
     },
     "execution_count": 143,
     "metadata": {},
     "output_type": "execute_result"
    }
   ],
   "source": [
    "df_industry['중분류코드'].unique()"
   ]
  },
  {
   "cell_type": "code",
   "execution_count": 152,
   "id": "5a3b8c53",
   "metadata": {},
   "outputs": [],
   "source": [
    "def spe_industry(row) :\n",
    "    if pd.isnull(row) :\n",
    "        return np.nan\n",
    "    elif len(str(row)) == 1 :\n",
    "        return '0'+str(row)\n",
    "    else : \n",
    "        return str(row)\n",
    "    \n",
    "df_industry['중분류코드_str'] = df_industry['중분류코드'].apply(dot_split).apply(spe_industry)"
   ]
  },
  {
   "cell_type": "code",
   "execution_count": 153,
   "id": "846d6f03",
   "metadata": {},
   "outputs": [
    {
     "data": {
      "text/plain": [
       "array(['01', '02', '03', '05', '06', '07', '08', '10', '11', '12', '13',\n",
       "       '14', '15', '16', '17', '18', '19', '20', '21', '22', '23', '24',\n",
       "       '25', '26', '27', '28', '29', '30', '31', '32', '33', '34', '35',\n",
       "       '36', '37', '38', '39', '41', '42', '45', '46', '47', '49', '50',\n",
       "       '51', '52', '55', '56', '58', '59', '60', '61', '62', '63', '64',\n",
       "       '65', '66', '68', '70', '71', '72', '73', '74', '75', '76', '84',\n",
       "       '85', '86', '87', '90', '91', '94', '95', '96', '97', '98', '99'],\n",
       "      dtype=object)"
      ]
     },
     "execution_count": 153,
     "metadata": {},
     "output_type": "execute_result"
    }
   ],
   "source": [
    "df_industry['중분류코드_str'].unique()"
   ]
  },
  {
   "cell_type": "code",
   "execution_count": 168,
   "id": "c3321a9b",
   "metadata": {},
   "outputs": [],
   "source": [
    "def spe_industry2(row) :\n",
    "    if pd.isnull(row) :\n",
    "        return np.nan\n",
    "    elif len(str(row)) == 4 :\n",
    "        return '0'+str(row)\n",
    "    else : \n",
    "        return str(row)\n",
    "    \n",
    "df_industry['indCd1_str'] = df_industry['세세분류코드'].apply(dot_split).apply(spe_industry2)"
   ]
  },
  {
   "cell_type": "code",
   "execution_count": 229,
   "id": "31c302e6",
   "metadata": {},
   "outputs": [],
   "source": [
    "df_industry_unique = df_industry[['대분류코드','항목명','중분류코드_str']].drop_duplicates()"
   ]
  },
  {
   "cell_type": "code",
   "execution_count": 230,
   "id": "0d8ad9d1",
   "metadata": {},
   "outputs": [
    {
     "data": {
      "text/html": [
       "<div>\n",
       "<style scoped>\n",
       "    .dataframe tbody tr th:only-of-type {\n",
       "        vertical-align: middle;\n",
       "    }\n",
       "\n",
       "    .dataframe tbody tr th {\n",
       "        vertical-align: top;\n",
       "    }\n",
       "\n",
       "    .dataframe thead th {\n",
       "        text-align: right;\n",
       "    }\n",
       "</style>\n",
       "<table border=\"1\" class=\"dataframe\">\n",
       "  <thead>\n",
       "    <tr style=\"text-align: right;\">\n",
       "      <th></th>\n",
       "      <th>대분류코드</th>\n",
       "      <th>항목명</th>\n",
       "      <th>중분류코드_str</th>\n",
       "    </tr>\n",
       "  </thead>\n",
       "  <tbody>\n",
       "    <tr>\n",
       "      <th>0</th>\n",
       "      <td>A</td>\n",
       "      <td>농업, 임업 및 어업</td>\n",
       "      <td>01</td>\n",
       "    </tr>\n",
       "    <tr>\n",
       "      <th>22</th>\n",
       "      <td>A</td>\n",
       "      <td>농업, 임업 및 어업</td>\n",
       "      <td>02</td>\n",
       "    </tr>\n",
       "    <tr>\n",
       "      <th>27</th>\n",
       "      <td>A</td>\n",
       "      <td>농업, 임업 및 어업</td>\n",
       "      <td>03</td>\n",
       "    </tr>\n",
       "    <tr>\n",
       "      <th>34</th>\n",
       "      <td>B</td>\n",
       "      <td>광업</td>\n",
       "      <td>05</td>\n",
       "    </tr>\n",
       "    <tr>\n",
       "      <th>36</th>\n",
       "      <td>B</td>\n",
       "      <td>광업</td>\n",
       "      <td>06</td>\n",
       "    </tr>\n",
       "    <tr>\n",
       "      <th>...</th>\n",
       "      <td>...</td>\n",
       "      <td>...</td>\n",
       "      <td>...</td>\n",
       "    </tr>\n",
       "    <tr>\n",
       "      <th>1163</th>\n",
       "      <td>S</td>\n",
       "      <td>협회 및 단체, 수리 및 기타 개인 서비스업</td>\n",
       "      <td>95</td>\n",
       "    </tr>\n",
       "    <tr>\n",
       "      <th>1174</th>\n",
       "      <td>S</td>\n",
       "      <td>협회 및 단체, 수리 및 기타 개인 서비스업</td>\n",
       "      <td>96</td>\n",
       "    </tr>\n",
       "    <tr>\n",
       "      <th>1192</th>\n",
       "      <td>T</td>\n",
       "      <td>가구 내 고용활동 및 달리 분류되지 않은 자가 소비 생산활동</td>\n",
       "      <td>97</td>\n",
       "    </tr>\n",
       "    <tr>\n",
       "      <th>1193</th>\n",
       "      <td>T</td>\n",
       "      <td>가구 내 고용활동 및 달리 분류되지 않은 자가 소비 생산활동</td>\n",
       "      <td>98</td>\n",
       "    </tr>\n",
       "    <tr>\n",
       "      <th>1195</th>\n",
       "      <td>U</td>\n",
       "      <td>국제 및 외국기관</td>\n",
       "      <td>99</td>\n",
       "    </tr>\n",
       "  </tbody>\n",
       "</table>\n",
       "<p>77 rows × 3 columns</p>\n",
       "</div>"
      ],
      "text/plain": [
       "     대분류코드                                항목명 중분류코드_str\n",
       "0        A                        농업, 임업 및 어업        01\n",
       "22       A                        농업, 임업 및 어업        02\n",
       "27       A                        농업, 임업 및 어업        03\n",
       "34       B                                 광업        05\n",
       "36       B                                 광업        06\n",
       "...    ...                                ...       ...\n",
       "1163     S           협회 및 단체, 수리 및 기타 개인 서비스업        95\n",
       "1174     S           협회 및 단체, 수리 및 기타 개인 서비스업        96\n",
       "1192     T  가구 내 고용활동 및 달리 분류되지 않은 자가 소비 생산활동        97\n",
       "1193     T  가구 내 고용활동 및 달리 분류되지 않은 자가 소비 생산활동        98\n",
       "1195     U                          국제 및 외국기관        99\n",
       "\n",
       "[77 rows x 3 columns]"
      ]
     },
     "execution_count": 230,
     "metadata": {},
     "output_type": "execute_result"
    }
   ],
   "source": [
    "df_industry_unique"
   ]
  },
  {
   "cell_type": "markdown",
   "id": "fac549ba",
   "metadata": {},
   "source": [
    "# 산업분류별 분류"
   ]
  },
  {
   "cell_type": "code",
   "execution_count": 231,
   "id": "e9932d10",
   "metadata": {},
   "outputs": [
    {
     "name": "stdout",
     "output_type": "stream",
     "text": [
      "<class 'pandas.core.frame.DataFrame'>\n",
      "Int64Index: 9755 entries, 0 to 1950\n",
      "Data columns (total 17 columns):\n",
      " #   Column       Non-Null Count  Dtype  \n",
      "---  ------       --------------  -----  \n",
      " 0   Unnamed: 0   9755 non-null   int64  \n",
      " 1   BusinessNum  9755 non-null   int64  \n",
      " 2   cmpNm        9755 non-null   object \n",
      " 3   기업명          7804 non-null   object \n",
      " 4   ceoNm        9755 non-null   object \n",
      " 5   telNo        9240 non-null   object \n",
      " 6   faxTelNo     7014 non-null   object \n",
      " 7   zip          7894 non-null   float64\n",
      " 8   adr          9657 non-null   object \n",
      " 9   dtlAdr       8028 non-null   object \n",
      " 10  cmpTypNm     9755 non-null   object \n",
      " 11  cmpSclNm     9755 non-null   object \n",
      " 12  pbcoGbNm     8134 non-null   object \n",
      " 13  indCd1       9736 non-null   float64\n",
      " 14  indNm        9733 non-null   object \n",
      " 15  indCd1_str   9736 non-null   object \n",
      " 16  중분류코드_str    9736 non-null   object \n",
      "dtypes: float64(2), int64(2), object(13)\n",
      "memory usage: 1.3+ MB\n"
     ]
    }
   ],
   "source": [
    "comp_intro.info()"
   ]
  },
  {
   "cell_type": "code",
   "execution_count": 232,
   "id": "534ea2b2",
   "metadata": {},
   "outputs": [
    {
     "data": {
      "text/plain": [
       "(9755, 17)"
      ]
     },
     "execution_count": 232,
     "metadata": {},
     "output_type": "execute_result"
    }
   ],
   "source": [
    "comp_intro.shape"
   ]
  },
  {
   "cell_type": "code",
   "execution_count": 233,
   "id": "2dbd9d67",
   "metadata": {},
   "outputs": [],
   "source": [
    "comp_intro['indCd1_str'] = comp_intro['indCd1'].apply(dot_split).apply(spe_industry2)"
   ]
  },
  {
   "cell_type": "code",
   "execution_count": 223,
   "id": "c863e399",
   "metadata": {},
   "outputs": [
    {
     "data": {
      "text/plain": [
       "Unnamed: 0        0\n",
       "BusinessNum       0\n",
       "cmpNm             0\n",
       "기업명            1951\n",
       "ceoNm             0\n",
       "telNo           515\n",
       "faxTelNo       2741\n",
       "zip            1861\n",
       "adr              98\n",
       "dtlAdr         1727\n",
       "cmpTypNm          0\n",
       "cmpSclNm          0\n",
       "pbcoGbNm       1621\n",
       "indCd1           19\n",
       "indNm            22\n",
       "indCd1_str       19\n",
       "중분류코드_str        19\n",
       "dtype: int64"
      ]
     },
     "execution_count": 223,
     "metadata": {},
     "output_type": "execute_result"
    }
   ],
   "source": [
    "comp_intro.isnull().sum()"
   ]
  },
  {
   "cell_type": "code",
   "execution_count": 234,
   "id": "4d82d4be",
   "metadata": {},
   "outputs": [],
   "source": [
    "def indCd1(row) :\n",
    "    if pd.isnull(row) :\n",
    "        return np.nan\n",
    "    else : \n",
    "        return row[0:2]"
   ]
  },
  {
   "cell_type": "code",
   "execution_count": 235,
   "id": "b3395c77",
   "metadata": {},
   "outputs": [],
   "source": [
    "comp_intro['중분류코드_str'] = comp_intro['indCd1_str'].apply(indCd1)"
   ]
  },
  {
   "cell_type": "code",
   "execution_count": 236,
   "id": "c9f15242",
   "metadata": {},
   "outputs": [
    {
     "name": "stdout",
     "output_type": "stream",
     "text": [
      "(9755, 17)\n"
     ]
    },
    {
     "data": {
      "text/plain": [
       "Unnamed: 0        0\n",
       "BusinessNum       0\n",
       "cmpNm             0\n",
       "기업명            1951\n",
       "ceoNm             0\n",
       "telNo           515\n",
       "faxTelNo       2741\n",
       "zip            1861\n",
       "adr              98\n",
       "dtlAdr         1727\n",
       "cmpTypNm          0\n",
       "cmpSclNm          0\n",
       "pbcoGbNm       1621\n",
       "indCd1           19\n",
       "indNm            22\n",
       "indCd1_str       19\n",
       "중분류코드_str        19\n",
       "dtype: int64"
      ]
     },
     "execution_count": 236,
     "metadata": {},
     "output_type": "execute_result"
    }
   ],
   "source": [
    "print(comp_intro.shape)\n",
    "comp_intro.isnull().sum()"
   ]
  },
  {
   "cell_type": "code",
   "execution_count": 226,
   "id": "386076c3",
   "metadata": {},
   "outputs": [
    {
     "data": {
      "text/plain": [
       "array(['42', '41', '62', '71', '73', '59', '58', '63', '46', '85', '47',\n",
       "       '26', '61', '52', '16', '28', '90', '94', '72', '74', '17', '75',\n",
       "       '60', '45', '20', '68', '70', '29', '55', '30', '66', '56', '96',\n",
       "       '14', '91', '95', '86', '27', '76', '10', '25', nan, '65', '13',\n",
       "       '64', '32', '15', '22', '23', '33', '49', '24', '18', '87', '35',\n",
       "       '21', '31', '50', '38', '84', '01', '34', '51', '07', '39'],\n",
       "      dtype=object)"
      ]
     },
     "execution_count": 226,
     "metadata": {},
     "output_type": "execute_result"
    }
   ],
   "source": [
    "comp_intro['중분류코드_str'].unique()"
   ]
  },
  {
   "cell_type": "code",
   "execution_count": 237,
   "id": "0aaf381f-348a-4477-bcff-9d94b8418b53",
   "metadata": {},
   "outputs": [
    {
     "data": {
      "text/plain": [
       "(9755, 19)"
      ]
     },
     "execution_count": 237,
     "metadata": {},
     "output_type": "execute_result"
    }
   ],
   "source": [
    "comp_intro_m1 = pd.merge(comp_intro,df_industry_unique,on='중분류코드_str',how='left')\n",
    "comp_intro_m1.shape"
   ]
  },
  {
   "cell_type": "code",
   "execution_count": 238,
   "id": "308b3b01",
   "metadata": {},
   "outputs": [
    {
     "data": {
      "text/plain": [
       "Unnamed: 0        0\n",
       "BusinessNum       0\n",
       "cmpNm             0\n",
       "기업명            1951\n",
       "ceoNm             0\n",
       "telNo           515\n",
       "faxTelNo       2741\n",
       "zip            1861\n",
       "adr              98\n",
       "dtlAdr         1727\n",
       "cmpTypNm          0\n",
       "cmpSclNm          0\n",
       "pbcoGbNm       1621\n",
       "indCd1           19\n",
       "indNm            22\n",
       "indCd1_str       19\n",
       "중분류코드_str        19\n",
       "대분류코드            19\n",
       "항목명              19\n",
       "dtype: int64"
      ]
     },
     "execution_count": 238,
     "metadata": {},
     "output_type": "execute_result"
    }
   ],
   "source": [
    "comp_intro_m1.isnull().sum()"
   ]
  },
  {
   "cell_type": "code",
   "execution_count": 239,
   "id": "a41e9d42",
   "metadata": {},
   "outputs": [
    {
     "data": {
      "text/html": [
       "<div>\n",
       "<style scoped>\n",
       "    .dataframe tbody tr th:only-of-type {\n",
       "        vertical-align: middle;\n",
       "    }\n",
       "\n",
       "    .dataframe tbody tr th {\n",
       "        vertical-align: top;\n",
       "    }\n",
       "\n",
       "    .dataframe thead th {\n",
       "        text-align: right;\n",
       "    }\n",
       "</style>\n",
       "<table border=\"1\" class=\"dataframe\">\n",
       "  <thead>\n",
       "    <tr style=\"text-align: right;\">\n",
       "      <th></th>\n",
       "      <th>Unnamed: 0</th>\n",
       "      <th>BusinessNum</th>\n",
       "      <th>cmpNm</th>\n",
       "      <th>기업명</th>\n",
       "      <th>ceoNm</th>\n",
       "      <th>telNo</th>\n",
       "      <th>faxTelNo</th>\n",
       "      <th>zip</th>\n",
       "      <th>adr</th>\n",
       "      <th>dtlAdr</th>\n",
       "      <th>cmpTypNm</th>\n",
       "      <th>cmpSclNm</th>\n",
       "      <th>pbcoGbNm</th>\n",
       "      <th>indCd1</th>\n",
       "      <th>indNm</th>\n",
       "      <th>indCd1_str</th>\n",
       "      <th>중분류코드_str</th>\n",
       "      <th>대분류코드</th>\n",
       "      <th>항목명</th>\n",
       "    </tr>\n",
       "  </thead>\n",
       "  <tbody>\n",
       "    <tr>\n",
       "      <th>0</th>\n",
       "      <td>0</td>\n",
       "      <td>1131201292</td>\n",
       "      <td>20210903</td>\n",
       "      <td>에**</td>\n",
       "      <td>김**</td>\n",
       "      <td>02  26333232</td>\n",
       "      <td>NaN</td>\n",
       "      <td>7295.0</td>\n",
       "      <td>서울특별시 영등포구 문래로20길</td>\n",
       "      <td>60, 5층 505호 (문래동3가,메가벤처타워)</td>\n",
       "      <td>일반</td>\n",
       "      <td>중소기업</td>\n",
       "      <td>일반기업</td>\n",
       "      <td>42321.0</td>\n",
       "      <td>일반 통신 공사업</td>\n",
       "      <td>42321</td>\n",
       "      <td>42</td>\n",
       "      <td>F</td>\n",
       "      <td>건설업</td>\n",
       "    </tr>\n",
       "    <tr>\n",
       "      <th>1</th>\n",
       "      <td>1</td>\n",
       "      <td>6058609398</td>\n",
       "      <td>20220308</td>\n",
       "      <td>두원건설***</td>\n",
       "      <td>이**</td>\n",
       "      <td>043 283 4567</td>\n",
       "      <td>043 292 2002</td>\n",
       "      <td>28536.0</td>\n",
       "      <td>충청북도 청주시 청원구 중앙로 140</td>\n",
       "      <td>4층 (우암동)</td>\n",
       "      <td>일반</td>\n",
       "      <td>중소기업</td>\n",
       "      <td>일반기업</td>\n",
       "      <td>41100.0</td>\n",
       "      <td>건물 건설업</td>\n",
       "      <td>41100</td>\n",
       "      <td>41</td>\n",
       "      <td>F</td>\n",
       "      <td>건설업</td>\n",
       "    </tr>\n",
       "    <tr>\n",
       "      <th>2</th>\n",
       "      <td>2</td>\n",
       "      <td>1138601802</td>\n",
       "      <td>20210903</td>\n",
       "      <td>(주)드림아이***</td>\n",
       "      <td>유**</td>\n",
       "      <td>070 77666664</td>\n",
       "      <td>02  62806509</td>\n",
       "      <td>8510.0</td>\n",
       "      <td>서울 금천구 벚꽃로 298</td>\n",
       "      <td>903호,1312호 (가산동,대륭포스트타워6차)</td>\n",
       "      <td>외감</td>\n",
       "      <td>중소기업</td>\n",
       "      <td>일반기업</td>\n",
       "      <td>62010.0</td>\n",
       "      <td>컴퓨터 프로그래밍 서비스업</td>\n",
       "      <td>62010</td>\n",
       "      <td>62</td>\n",
       "      <td>J</td>\n",
       "      <td>정보통신업</td>\n",
       "    </tr>\n",
       "    <tr>\n",
       "      <th>3</th>\n",
       "      <td>3</td>\n",
       "      <td>7048608706</td>\n",
       "      <td>20211201</td>\n",
       "      <td>(주)드림오브***</td>\n",
       "      <td>신**</td>\n",
       "      <td>02-854-8000</td>\n",
       "      <td>050-4199-5335</td>\n",
       "      <td>3900.0</td>\n",
       "      <td>서울 마포구 마포나루길 332</td>\n",
       "      <td>선착장 (상암동,상암나루)</td>\n",
       "      <td>일반</td>\n",
       "      <td>중소기업</td>\n",
       "      <td>일반기업</td>\n",
       "      <td>71531.0</td>\n",
       "      <td>경영컨설팅업</td>\n",
       "      <td>71531</td>\n",
       "      <td>71</td>\n",
       "      <td>M</td>\n",
       "      <td>전문, 과학 및 기술 서비스업</td>\n",
       "    </tr>\n",
       "    <tr>\n",
       "      <th>4</th>\n",
       "      <td>4</td>\n",
       "      <td>5088103009</td>\n",
       "      <td>20211130</td>\n",
       "      <td>(주)세***</td>\n",
       "      <td>권**</td>\n",
       "      <td>054 853 0006</td>\n",
       "      <td>054 8539929</td>\n",
       "      <td>36660.0</td>\n",
       "      <td>경북 안동시 경북대로</td>\n",
       "      <td>389, 101호 지하</td>\n",
       "      <td>일반</td>\n",
       "      <td>중소기업</td>\n",
       "      <td>일반기업</td>\n",
       "      <td>41220.0</td>\n",
       "      <td>토목시설물 건설업</td>\n",
       "      <td>41220</td>\n",
       "      <td>41</td>\n",
       "      <td>F</td>\n",
       "      <td>건설업</td>\n",
       "    </tr>\n",
       "    <tr>\n",
       "      <th>5</th>\n",
       "      <td>5</td>\n",
       "      <td>1148600766</td>\n",
       "      <td>20210818</td>\n",
       "      <td>(주)***</td>\n",
       "      <td>김**</td>\n",
       "      <td>02 394 1416</td>\n",
       "      <td>02 394 1417</td>\n",
       "      <td>4165.0</td>\n",
       "      <td>서울특별시 마포구 마포대로 19</td>\n",
       "      <td>503호, 504호, 505호 (마포동,신화빌딩)</td>\n",
       "      <td>일반</td>\n",
       "      <td>중소기업</td>\n",
       "      <td>일반기업</td>\n",
       "      <td>62021.0</td>\n",
       "      <td>컴퓨터시스템 통합 자문 및 구축 서비스업</td>\n",
       "      <td>62021</td>\n",
       "      <td>62</td>\n",
       "      <td>J</td>\n",
       "      <td>정보통신업</td>\n",
       "    </tr>\n",
       "    <tr>\n",
       "      <th>6</th>\n",
       "      <td>6</td>\n",
       "      <td>1058101501</td>\n",
       "      <td>20211228</td>\n",
       "      <td>(주)지***</td>\n",
       "      <td>김**</td>\n",
       "      <td>02  31413100</td>\n",
       "      <td>231419600</td>\n",
       "      <td>4047.0</td>\n",
       "      <td>서울특별시 마포구 독막로3길 26</td>\n",
       "      <td>4층 (서교동)</td>\n",
       "      <td>일반</td>\n",
       "      <td>중소기업</td>\n",
       "      <td>일반기업</td>\n",
       "      <td>42320.0</td>\n",
       "      <td>통신 공사업</td>\n",
       "      <td>42320</td>\n",
       "      <td>42</td>\n",
       "      <td>F</td>\n",
       "      <td>건설업</td>\n",
       "    </tr>\n",
       "    <tr>\n",
       "      <th>7</th>\n",
       "      <td>7</td>\n",
       "      <td>2118707644</td>\n",
       "      <td>20210818</td>\n",
       "      <td>(주)***</td>\n",
       "      <td>조**</td>\n",
       "      <td>02-3449-0300</td>\n",
       "      <td>02-3447-7786</td>\n",
       "      <td>6047.0</td>\n",
       "      <td>서울특별시 강남구 도산대로 222</td>\n",
       "      <td>5층, 6층, 7층, 8층 (논현동,호산빌딩)</td>\n",
       "      <td>일반</td>\n",
       "      <td>중소기업</td>\n",
       "      <td>일반기업</td>\n",
       "      <td>73209.0</td>\n",
       "      <td>패션, 섬유류 및 기타 전문 디자인업</td>\n",
       "      <td>73209</td>\n",
       "      <td>73</td>\n",
       "      <td>M</td>\n",
       "      <td>전문, 과학 및 기술 서비스업</td>\n",
       "    </tr>\n",
       "    <tr>\n",
       "      <th>8</th>\n",
       "      <td>8</td>\n",
       "      <td>2018601556</td>\n",
       "      <td>20210820</td>\n",
       "      <td>(주)퍼니***</td>\n",
       "      <td>정**</td>\n",
       "      <td>02  376 0791</td>\n",
       "      <td>02  777 9391</td>\n",
       "      <td>3926.0</td>\n",
       "      <td>서울 마포구 매봉산로 75</td>\n",
       "      <td>13층 (상암동,디디엠씨빌딩)</td>\n",
       "      <td>외감</td>\n",
       "      <td>중소기업</td>\n",
       "      <td>일반기업</td>\n",
       "      <td>59110.0</td>\n",
       "      <td>영화, 비디오물 및 방송프로그램 제작업</td>\n",
       "      <td>59110</td>\n",
       "      <td>59</td>\n",
       "      <td>J</td>\n",
       "      <td>정보통신업</td>\n",
       "    </tr>\n",
       "    <tr>\n",
       "      <th>9</th>\n",
       "      <td>9</td>\n",
       "      <td>1358606865</td>\n",
       "      <td>20211229</td>\n",
       "      <td>에스지건설***</td>\n",
       "      <td>오**</td>\n",
       "      <td>031 377 7401</td>\n",
       "      <td>031 377 5999</td>\n",
       "      <td>18126.0</td>\n",
       "      <td>경기도 오산시 황새로</td>\n",
       "      <td>117 (누읍동)</td>\n",
       "      <td>외감</td>\n",
       "      <td>중소기업</td>\n",
       "      <td>일반기업</td>\n",
       "      <td>41111.0</td>\n",
       "      <td>단독 주택 건설업</td>\n",
       "      <td>41111</td>\n",
       "      <td>41</td>\n",
       "      <td>F</td>\n",
       "      <td>건설업</td>\n",
       "    </tr>\n",
       "  </tbody>\n",
       "</table>\n",
       "</div>"
      ],
      "text/plain": [
       "   Unnamed: 0  BusinessNum     cmpNm         기업명 ceoNm         telNo  \\\n",
       "0           0   1131201292  20210903         에**   김**  02  26333232   \n",
       "1           1   6058609398  20220308     두원건설***   이**  043 283 4567   \n",
       "2           2   1138601802  20210903  (주)드림아이***   유**  070 77666664   \n",
       "3           3   7048608706  20211201  (주)드림오브***   신**   02-854-8000   \n",
       "4           4   5088103009  20211130     (주)세***   권**  054 853 0006   \n",
       "5           5   1148600766  20210818      (주)***   김**   02 394 1416   \n",
       "6           6   1058101501  20211228     (주)지***   김**  02  31413100   \n",
       "7           7   2118707644  20210818      (주)***   조**  02-3449-0300   \n",
       "8           8   2018601556  20210820    (주)퍼니***   정**  02  376 0791   \n",
       "9           9   1358606865  20211229    에스지건설***   오**  031 377 7401   \n",
       "\n",
       "        faxTelNo      zip                   adr                       dtlAdr  \\\n",
       "0            NaN   7295.0     서울특별시 영등포구 문래로20길   60, 5층 505호 (문래동3가,메가벤처타워)   \n",
       "1   043 292 2002  28536.0  충청북도 청주시 청원구 중앙로 140                     4층 (우암동)   \n",
       "2   02  62806509   8510.0        서울 금천구 벚꽃로 298   903호,1312호 (가산동,대륭포스트타워6차)   \n",
       "3  050-4199-5335   3900.0      서울 마포구 마포나루길 332               선착장 (상암동,상암나루)   \n",
       "4    054 8539929  36660.0           경북 안동시 경북대로                 389, 101호 지하   \n",
       "5    02 394 1417   4165.0     서울특별시 마포구 마포대로 19  503호, 504호, 505호 (마포동,신화빌딩)   \n",
       "6      231419600   4047.0    서울특별시 마포구 독막로3길 26                     4층 (서교동)   \n",
       "7   02-3447-7786   6047.0    서울특별시 강남구 도산대로 222    5층, 6층, 7층, 8층 (논현동,호산빌딩)   \n",
       "8   02  777 9391   3926.0        서울 마포구 매봉산로 75             13층 (상암동,디디엠씨빌딩)   \n",
       "9   031 377 5999  18126.0           경기도 오산시 황새로                    117 (누읍동)   \n",
       "\n",
       "  cmpTypNm cmpSclNm pbcoGbNm   indCd1                   indNm indCd1_str  \\\n",
       "0       일반     중소기업     일반기업  42321.0               일반 통신 공사업      42321   \n",
       "1       일반     중소기업     일반기업  41100.0                  건물 건설업      41100   \n",
       "2       외감     중소기업     일반기업  62010.0          컴퓨터 프로그래밍 서비스업      62010   \n",
       "3       일반     중소기업     일반기업  71531.0                  경영컨설팅업      71531   \n",
       "4       일반     중소기업     일반기업  41220.0               토목시설물 건설업      41220   \n",
       "5       일반     중소기업     일반기업  62021.0  컴퓨터시스템 통합 자문 및 구축 서비스업      62021   \n",
       "6       일반     중소기업     일반기업  42320.0                  통신 공사업      42320   \n",
       "7       일반     중소기업     일반기업  73209.0    패션, 섬유류 및 기타 전문 디자인업      73209   \n",
       "8       외감     중소기업     일반기업  59110.0   영화, 비디오물 및 방송프로그램 제작업      59110   \n",
       "9       외감     중소기업     일반기업  41111.0               단독 주택 건설업      41111   \n",
       "\n",
       "  중분류코드_str 대분류코드               항목명  \n",
       "0        42     F               건설업  \n",
       "1        41     F               건설업  \n",
       "2        62     J             정보통신업  \n",
       "3        71     M  전문, 과학 및 기술 서비스업  \n",
       "4        41     F               건설업  \n",
       "5        62     J             정보통신업  \n",
       "6        42     F               건설업  \n",
       "7        73     M  전문, 과학 및 기술 서비스업  \n",
       "8        59     J             정보통신업  \n",
       "9        41     F               건설업  "
      ]
     },
     "execution_count": 239,
     "metadata": {},
     "output_type": "execute_result"
    }
   ],
   "source": [
    "comp_intro_m1.head(10)"
   ]
  },
  {
   "cell_type": "markdown",
   "id": "5a8fe78d-1a13-42cb-92c2-481e2dc5ecfd",
   "metadata": {
    "jp-MarkdownHeadingCollapsed": true
   },
   "source": [
    "# 산업분야별 매출액 대표값 차이 유무"
   ]
  },
  {
   "cell_type": "code",
   "execution_count": null,
   "id": "372abc99-27f7-4801-8ba2-cd9d1498c052",
   "metadata": {},
   "outputs": [],
   "source": [
    "comp_finance"
   ]
  },
  {
   "cell_type": "code",
   "execution_count": null,
   "id": "9a4d79be-7c66-480a-9de9-c97295f8386d",
   "metadata": {},
   "outputs": [],
   "source": [
    "pv1 = comp_finance.pivot_table(index=['BusinessNum','accNm'] , values='acctAmt', aggfunc='mean').reset_index()\n",
    "df_sales = pv1.loc[pv1['accNm'] == '매출액']"
   ]
  },
  {
   "cell_type": "code",
   "execution_count": null,
   "id": "78506662",
   "metadata": {},
   "outputs": [],
   "source": [
    "pv1 = comp_finance.pivot_table(index=['BusinessNum','accNm'] , values='acctAmt', aggfunc='median').reset_index()\n",
    "df_sales = pv1.loc[pv1['accNm'] == '매출액']"
   ]
  },
  {
   "cell_type": "code",
   "execution_count": null,
   "id": "011bbe2f-64fb-43cd-a877-794312398aa9",
   "metadata": {},
   "outputs": [],
   "source": [
    "comp_intro_m2 = pd.merge(comp_intro_m1, df_sales, on='BusinessNum')"
   ]
  },
  {
   "cell_type": "code",
   "execution_count": null,
   "id": "df10d735-c27e-43f3-8bce-06480a834a32",
   "metadata": {},
   "outputs": [],
   "source": [
    "# 귀무가설 : 정규성을 따른다 \n",
    "# 대립가설 : 정규성을 따르지 않는다.\n",
    "stats.normaltest(comp_intro_m2['acctAmt']) # < 0.05 -> 귀무가설 기각"
   ]
  },
  {
   "cell_type": "code",
   "execution_count": null,
   "id": "8a73d28a-d10f-42fd-ae17-0e10c68c4477",
   "metadata": {},
   "outputs": [],
   "source": [
    "# 귀무가설 : 대분류별 중앙값 차이없다\n",
    "# 대립가설 : 대분류별 중앙값 차이있다\n",
    "grouped_data = [comp_intro_m2[comp_intro_m2['대분류'] == group]['acctAmt'] for group in comp_intro_m2['대분류'].unique()]\n",
    "stats.kruskal(*grouped_data)"
   ]
  },
  {
   "cell_type": "code",
   "execution_count": null,
   "id": "9bd1015b-39ef-47e7-a8e4-887bd8a97026",
   "metadata": {},
   "outputs": [],
   "source": [
    "comp_finance"
   ]
  },
  {
   "cell_type": "markdown",
   "id": "4c7f3e90-e04d-4dd9-896c-7f643a7a2278",
   "metadata": {},
   "source": [
    "# 설립연도일 포함된 회사정보"
   ]
  },
  {
   "cell_type": "code",
   "execution_count": null,
   "id": "acb88f1a-9468-424e-a75b-9366f012d8a8",
   "metadata": {},
   "outputs": [],
   "source": [
    "comp_spe_intro.info()"
   ]
  },
  {
   "cell_type": "code",
   "execution_count": null,
   "id": "130aab39-c47b-44a8-bc31-314e1963841f",
   "metadata": {},
   "outputs": [],
   "source": [
    "comp_spe_intro.head(10)"
   ]
  },
  {
   "cell_type": "code",
   "execution_count": null,
   "id": "ad3fa1d9-5a90-4531-bd54-939cafaf9e1a",
   "metadata": {},
   "outputs": [],
   "source": [
    "comp_spe_intro['설립일_dt'] = pd.to_datetime(comp_spe_intro['설립일'].apply(dot_split))\n",
    "comp_spe_intro['설립일_year'] = comp_spe_intro['설립일_dt'].dt.year"
   ]
  },
  {
   "cell_type": "code",
   "execution_count": null,
   "id": "4d251c54-d600-4fd6-b758-f6982787a7d7",
   "metadata": {},
   "outputs": [],
   "source": [
    "comp_spe_intro['산업분류코드'] = comp_spe_intro['산업분류코드'].apply(dot_split)"
   ]
  },
  {
   "cell_type": "code",
   "execution_count": null,
   "id": "43ea13ae-8b34-4c48-b628-c08302467afd",
   "metadata": {},
   "outputs": [],
   "source": [
    "comp_spe_intro = pd.merge(comp_spe_intro,df_industry_small,left_on='산업분류코드', right_on='indCd1_str')\n",
    "comp_spe_intro.info()"
   ]
  },
  {
   "cell_type": "code",
   "execution_count": null,
   "id": "16e187ae-108c-4f7b-8af3-1a9da8bf517d",
   "metadata": {},
   "outputs": [],
   "source": [
    "comp_spe_intro['대분류'].value_counts()"
   ]
  },
  {
   "cell_type": "code",
   "execution_count": null,
   "id": "4faad7e2-b708-4ca7-8b2b-c88be4191668",
   "metadata": {},
   "outputs": [],
   "source": [
    "df1 = comp_spe_intro.loc[comp_spe_intro['대분류'] == '정보통신업']\n",
    "df2 = comp_spe_intro.loc[comp_spe_intro['대분류'] == '건설업']\n",
    "df3 = comp_spe_intro.loc[comp_spe_intro['대분류'] == '도매 및 소매업']\n",
    "df4 = comp_spe_intro.loc[comp_spe_intro['대분류'] == '제조업']\n",
    "df5 = comp_spe_intro.loc[comp_spe_intro['대분류'] == '전문, 과학 및 기술 서비스업']"
   ]
  },
  {
   "cell_type": "code",
   "execution_count": null,
   "id": "e586153b-1d33-4c18-aed5-29f90cccdc02",
   "metadata": {},
   "outputs": [],
   "source": [
    "print(df1.shape)\n",
    "print(df2.shape)\n",
    "print(df3.shape)\n",
    "print(df4.shape)\n",
    "print(df5.shape)"
   ]
  },
  {
   "cell_type": "code",
   "execution_count": null,
   "id": "15dcfa28-dd68-47ed-8d77-52ff0c8dcd01",
   "metadata": {},
   "outputs": [],
   "source": [
    "df1.to_csv('정보통신업.csv')\n",
    "df2.to_csv('건설업.csv')\n",
    "df3.to_csv('도매 및 소매업.csv')\n",
    "df4.to_csv('제조업.csv')\n",
    "df5.to_csv('전문, 과학 및 기술 서비스업.csv')"
   ]
  },
  {
   "cell_type": "code",
   "execution_count": null,
   "id": "a10aae5f-e296-47bf-a063-149011a413ee",
   "metadata": {},
   "outputs": [],
   "source": [
    "df6 = comp_spe_intro.loc[comp_spe_intro['대분류'].isin(['정보통신업','건설업','도매 및 소매업','제조업','전문, 과학 및 기술 서비스업'])]\n",
    "df6.to_csv('top5.csv')"
   ]
  },
  {
   "cell_type": "code",
   "execution_count": null,
   "id": "2c8d5506-2931-46d7-a2b5-2cb79a67c378",
   "metadata": {},
   "outputs": [],
   "source": [
    "m1.head(10)"
   ]
  },
  {
   "cell_type": "code",
   "execution_count": null,
   "id": "e351febc-60db-47f0-a6c0-6759828e1498",
   "metadata": {},
   "outputs": [],
   "source": [
    "p1 = m1.pivot_table(index=['대분류','설립일_year'], values='count', aggfunc='sum').reset_index()\n",
    "p1"
   ]
  },
  {
   "cell_type": "code",
   "execution_count": null,
   "id": "e578f6f1-6ce0-4a0b-9294-9ea68d977952",
   "metadata": {},
   "outputs": [],
   "source": [
    "df1 = p1.loc[p1['대분류'] == '정보통신업']\n",
    "px.histogram(df1,x='설립일_year' , y='count')"
   ]
  },
  {
   "cell_type": "code",
   "execution_count": null,
   "id": "a257d918-5f57-4617-8435-fb06e0db2afd",
   "metadata": {},
   "outputs": [],
   "source": [
    "df2 = p1.loc[p1['대분류'] == '도매 및 소매업']\n",
    "df2\n",
    "px.histogram(df2,x='설립일_year' , y='count')"
   ]
  },
  {
   "cell_type": "code",
   "execution_count": null,
   "id": "b3303767-67ff-4f17-801d-bd622cd68031",
   "metadata": {},
   "outputs": [],
   "source": [
    "df3 = p1.loc[p1['대분류'] == '제조업']\n",
    "df3\n",
    "px.histogram(df3,x='설립일_year' , y='count')"
   ]
  },
  {
   "cell_type": "code",
   "execution_count": null,
   "id": "dc77fd84-def9-4cb5-bfad-2ff75ceac31c",
   "metadata": {},
   "outputs": [],
   "source": [
    "comp_finance.info()"
   ]
  },
  {
   "cell_type": "code",
   "execution_count": null,
   "id": "930161dc-1521-4394-a6ea-a020342d58f5",
   "metadata": {},
   "outputs": [],
   "source": [
    "m1"
   ]
  },
  {
   "cell_type": "markdown",
   "id": "598e96c4-a8ab-4080-bb24-b4f7cf36245e",
   "metadata": {},
   "source": [
    "# 국가 과제 없는 회사 제외"
   ]
  },
  {
   "cell_type": "code",
   "execution_count": null,
   "id": "5cd526c8-cddb-4376-9d42-6555856953dc",
   "metadata": {},
   "outputs": [],
   "source": [
    "rnd_list = ntis_assign['BusinessNum'].unique().tolist()"
   ]
  },
  {
   "cell_type": "code",
   "execution_count": null,
   "id": "f0b9b04d-f151-4569-9825-fba6ac973f45",
   "metadata": {},
   "outputs": [],
   "source": [
    "df_rnd = comp_spe_intro.loc[comp_spe_intro['사업자등록번호'].isin(not_rnd_list)]"
   ]
  },
  {
   "cell_type": "code",
   "execution_count": null,
   "id": "aee8c211-f604-4dcb-957f-bd170a2fee00",
   "metadata": {},
   "outputs": [],
   "source": [
    "comp_finance_list = comp_finance['BusinessNum'].unique().tolist()\n",
    "df_finace = df_rnd.loc[comp_spe_intro['사업자등록번호'].isin(comp_finance_list)]"
   ]
  },
  {
   "cell_type": "code",
   "execution_count": null,
   "id": "5a8e6bab-9b39-4d75-a65d-d0803474669a",
   "metadata": {},
   "outputs": [],
   "source": [
    "df_finace.info()"
   ]
  },
  {
   "cell_type": "code",
   "execution_count": null,
   "id": "53daa78f-af5b-4b60-b49b-5c4fa18a20ab",
   "metadata": {},
   "outputs": [],
   "source": [
    "df_finace['대분류'].value_counts()"
   ]
  },
  {
   "cell_type": "markdown",
   "id": "c5dbbd73-c103-4347-963a-5fde4714193e",
   "metadata": {},
   "source": [
    "# 재무정보확인"
   ]
  },
  {
   "cell_type": "code",
   "execution_count": null,
   "id": "084ea4d1-6fdf-4de3-bf59-dacc072cff59",
   "metadata": {},
   "outputs": [],
   "source": [
    "comp_finance.info()"
   ]
  },
  {
   "cell_type": "code",
   "execution_count": null,
   "id": "4dd6b83a-0c7d-4a76-b61f-825d1eb7e5c6",
   "metadata": {},
   "outputs": [],
   "source": [
    "comp_finance['accNm'].unique()"
   ]
  },
  {
   "cell_type": "code",
   "execution_count": null,
   "id": "068e7457-cd01-431f-b15d-5efb33b96b16",
   "metadata": {},
   "outputs": [],
   "source": [
    "len(comp_finance.loc[comp_finance['accNm']=='인건비']['BusinessNum'].unique())"
   ]
  },
  {
   "cell_type": "code",
   "execution_count": null,
   "id": "aef85f7c-6fca-43ff-b91a-88ad56bf044e",
   "metadata": {},
   "outputs": [],
   "source": [
    "len(comp_finance['BusinessNum'].unique())"
   ]
  },
  {
   "cell_type": "code",
   "execution_count": null,
   "id": "62f16d7e-18a0-4f69-8f2f-db662bdab04a",
   "metadata": {},
   "outputs": [],
   "source": [
    "len(comp_finance.loc[comp_finance['accNm']=='매출총이익']['BusinessNum'].unique())"
   ]
  },
  {
   "cell_type": "code",
   "execution_count": null,
   "id": "034504a0-88bc-4875-ad78-09a4170c5d0a",
   "metadata": {},
   "outputs": [],
   "source": [
    "pv1 = comp_finance.pivot_table(index=['BusinessNum','stYear'], values='acctAmt',  aggfunc='mean').reset_index()\n",
    "pv1 "
   ]
  },
  {
   "cell_type": "code",
   "execution_count": null,
   "id": "231dca9c-002d-470d-ac73-069ef6c815b7",
   "metadata": {},
   "outputs": [],
   "source": [
    "pv1.shape"
   ]
  },
  {
   "cell_type": "code",
   "execution_count": null,
   "id": "0a7fe7a3-a0b0-40a7-a90d-6f6fed1f3fbc",
   "metadata": {},
   "outputs": [],
   "source": [
    "year_counts = pv1.groupby('BusinessNum')['stYear'].nunique()\n",
    "filtered_business_nums = year_counts[year_counts <= 4]"
   ]
  },
  {
   "cell_type": "code",
   "execution_count": null,
   "id": "9557fafc-9cdb-4979-847d-66fc4b818abc",
   "metadata": {},
   "outputs": [],
   "source": [
    "filtered_business_nums.index"
   ]
  },
  {
   "cell_type": "code",
   "execution_count": null,
   "id": "6b08e2be-7476-4a86-978d-a60db57f7444",
   "metadata": {},
   "outputs": [],
   "source": [
    "shutdown_list = []\n",
    "for i in filtered_business_nums.index :\n",
    "    if pv1.loc[pv1['BusinessNum'] == i].iloc[0]['stYear'] == 2017.0 :\n",
    "        shutdown_list.append(pv1.loc[pv1['BusinessNum'] == i].iloc[0]['BusinessNum'])"
   ]
  },
  {
   "cell_type": "code",
   "execution_count": null,
   "id": "beef397e-2ee6-49d5-a220-f15863668e9d",
   "metadata": {},
   "outputs": [],
   "source": [
    "len(shutdown_list)"
   ]
  },
  {
   "cell_type": "code",
   "execution_count": null,
   "id": "f3065ff5",
   "metadata": {},
   "outputs": [],
   "source": [
    "ntis_assign.info()"
   ]
  },
  {
   "cell_type": "markdown",
   "id": "f8b4f402",
   "metadata": {},
   "source": [
    "# R&D 확인"
   ]
  },
  {
   "cell_type": "code",
   "execution_count": null,
   "id": "d70243c7",
   "metadata": {},
   "outputs": [],
   "source": [
    "ntis_assign.loc[ntis_assign['ProjectNo_str'] == '1415140263.0']['ResearchersName']"
   ]
  },
  {
   "cell_type": "code",
   "execution_count": null,
   "id": "94550fe0",
   "metadata": {},
   "outputs": [],
   "source": [
    "ntis_assign['ProjectNo_str'].value_counts()"
   ]
  },
  {
   "cell_type": "code",
   "execution_count": null,
   "id": "2cc97bd7",
   "metadata": {},
   "outputs": [],
   "source": [
    "ntis_assign['ProjectNo_str'] = ntis_assign['ProjectNo'].astype('str')"
   ]
  },
  {
   "cell_type": "code",
   "execution_count": null,
   "id": "a8260fdb",
   "metadata": {},
   "outputs": [],
   "source": [
    "ntis_assign.loc[8736]['ResearchersName']"
   ]
  },
  {
   "cell_type": "code",
   "execution_count": null,
   "id": "d5d84129",
   "metadata": {},
   "outputs": [],
   "source": [
    "len(ntis_assign['ProjectNo_str'].unique())"
   ]
  },
  {
   "cell_type": "code",
   "execution_count": null,
   "id": "f25ec234",
   "metadata": {},
   "outputs": [],
   "source": [
    "len(ntis_assign['ProjectNo_str'].unique())"
   ]
  },
  {
   "cell_type": "code",
   "execution_count": null,
   "id": "aa42062f",
   "metadata": {
    "scrolled": false
   },
   "outputs": [],
   "source": [
    "ntis_assign.loc[0]"
   ]
  },
  {
   "cell_type": "code",
   "execution_count": null,
   "id": "a32d8e20",
   "metadata": {},
   "outputs": [],
   "source": [
    "len(ntis_assign['ProjectNameKR'].unique())"
   ]
  },
  {
   "cell_type": "markdown",
   "id": "813993ef",
   "metadata": {},
   "source": [
    "# 재무제표 전처리"
   ]
  },
  {
   "cell_type": "code",
   "execution_count": 240,
   "id": "970716c5",
   "metadata": {},
   "outputs": [
    {
     "name": "stdout",
     "output_type": "stream",
     "text": [
      "(1115871, 7)\n",
      "<class 'pandas.core.frame.DataFrame'>\n",
      "Int64Index: 1115871 entries, 0 to 227236\n",
      "Data columns (total 7 columns):\n",
      " #   Column       Non-Null Count    Dtype  \n",
      "---  ------       --------------    -----  \n",
      " 0   Unnamed: 0   1115871 non-null  int64  \n",
      " 1   BusinessNum  1115871 non-null  int64  \n",
      " 2   stYear       1115044 non-null  float64\n",
      " 3   stNm         1115044 non-null  object \n",
      " 4   acctCd       1115044 non-null  object \n",
      " 5   accNm        1115044 non-null  object \n",
      " 6   acctAmt      1115038 non-null  float64\n",
      "dtypes: float64(2), int64(2), object(3)\n",
      "memory usage: 68.1+ MB\n"
     ]
    }
   ],
   "source": [
    "print(comp_finance.shape)\n",
    "comp_finance.info()"
   ]
  },
  {
   "cell_type": "code",
   "execution_count": null,
   "id": "78f0aa10",
   "metadata": {},
   "outputs": [],
   "source": [
    "comp_finance.head(20)"
   ]
  },
  {
   "cell_type": "code",
   "execution_count": 241,
   "id": "de7eeb91",
   "metadata": {},
   "outputs": [],
   "source": [
    "comp_finance_final = comp_finance.pivot_table(index=['BusinessNum','stYear'], columns='accNm', values='acctAmt').reset_index()"
   ]
  },
  {
   "cell_type": "code",
   "execution_count": null,
   "id": "e61475c4",
   "metadata": {},
   "outputs": [],
   "source": [
    "len(comp_finance_final['BusinessNum'].unique())"
   ]
  },
  {
   "cell_type": "code",
   "execution_count": null,
   "id": "d8647e2f",
   "metadata": {},
   "outputs": [],
   "source": [
    "comp_finance_final.isnull().sum()"
   ]
  },
  {
   "cell_type": "code",
   "execution_count": 242,
   "id": "2c272dee",
   "metadata": {},
   "outputs": [],
   "source": [
    "comp_finance_final['유동자산비율'] = comp_finance_final['유동부채']/comp_finance_final['유동자산']"
   ]
  },
  {
   "cell_type": "code",
   "execution_count": 243,
   "id": "1d4ac61c",
   "metadata": {},
   "outputs": [],
   "source": [
    "comp_finance_final['순운전자본비율'] = (comp_finance_final['유동자산']-comp_finance_final['유동부채'])/comp_finance_final['총자산']"
   ]
  },
  {
   "cell_type": "code",
   "execution_count": 244,
   "id": "3e521492",
   "metadata": {},
   "outputs": [],
   "source": [
    "comp_finance_final['매출액순이익률'] = (comp_finance_final['당기순이익(손실)']/comp_finance_final['매출액']) * 100"
   ]
  },
  {
   "cell_type": "code",
   "execution_count": 245,
   "id": "980d9d94",
   "metadata": {},
   "outputs": [],
   "source": [
    "comp_finance_final['ROA'] = (comp_finance_final['당기순이익(손실)']/comp_finance_final['총자산'])*100"
   ]
  },
  {
   "cell_type": "code",
   "execution_count": 246,
   "id": "941f8889",
   "metadata": {},
   "outputs": [],
   "source": [
    "comp_finance_final['ROE'] = (comp_finance_final['당기순이익(손실)']/comp_finance_final['자기자본'])*100"
   ]
  },
  {
   "cell_type": "code",
   "execution_count": 247,
   "id": "16434fb9",
   "metadata": {},
   "outputs": [],
   "source": [
    "comp_finance_final['매출총이익률'] = (comp_finance_final['매출총이익']/comp_finance_final['매출액']) * 100"
   ]
  },
  {
   "cell_type": "code",
   "execution_count": 248,
   "id": "d7c714f6",
   "metadata": {},
   "outputs": [],
   "source": [
    "comp_finance_final['총자산증가율'] = comp_finance_final['총자산 증가율']"
   ]
  },
  {
   "cell_type": "code",
   "execution_count": 249,
   "id": "602bac3d",
   "metadata": {},
   "outputs": [],
   "source": [
    "comp_finance_final['매출액증가율'] = comp_finance_final['매출 증가율']"
   ]
  },
  {
   "cell_type": "code",
   "execution_count": 250,
   "id": "bbaf451b",
   "metadata": {},
   "outputs": [],
   "source": [
    "comp_finance_final['유형자산증가율'] = comp_finance_final['유형자산 증가율']"
   ]
  },
  {
   "cell_type": "code",
   "execution_count": 251,
   "id": "83b23315",
   "metadata": {},
   "outputs": [],
   "source": [
    "comp_finance_final['자본생산성비율'] = comp_finance_final['매출액']/(comp_finance_final['총자산']-comp_finance_final['부채총계'])"
   ]
  },
  {
   "cell_type": "code",
   "execution_count": 252,
   "id": "1a4d2368",
   "metadata": {},
   "outputs": [],
   "source": [
    "comp_finance_final['매출채권회전율'] = comp_finance_final['매출액']/comp_finance_final['매출채권']"
   ]
  },
  {
   "cell_type": "code",
   "execution_count": 253,
   "id": "5d2f2ccb",
   "metadata": {},
   "outputs": [],
   "source": [
    "comp_finance_final['재고자산회전율'] = comp_finance_final['매출원가']/comp_finance_final['재고자산']"
   ]
  },
  {
   "cell_type": "code",
   "execution_count": 255,
   "id": "900841de",
   "metadata": {},
   "outputs": [],
   "source": [
    "comp_finance_final['총자본회전율'] = comp_finance_final['매출액']/comp_finance_final['총자산']"
   ]
  },
  {
   "cell_type": "code",
   "execution_count": null,
   "id": "7b4546c4",
   "metadata": {},
   "outputs": [],
   "source": [
    "comp_finance_final.isnull().sum()"
   ]
  },
  {
   "cell_type": "code",
   "execution_count": null,
   "id": "79600e74",
   "metadata": {},
   "outputs": [],
   "source": [
    "comp_finance_final.corr()[['매출액','매출총이익','당기순이익(손실)']]"
   ]
  },
  {
   "cell_type": "code",
   "execution_count": null,
   "id": "7cc360f4",
   "metadata": {},
   "outputs": [],
   "source": [
    "comp_finance_final.columns"
   ]
  },
  {
   "cell_type": "code",
   "execution_count": null,
   "id": "8864144e",
   "metadata": {},
   "outputs": [],
   "source": [
    "comp_finance_final.describe()"
   ]
  },
  {
   "cell_type": "code",
   "execution_count": 256,
   "id": "31bb3086",
   "metadata": {},
   "outputs": [],
   "source": [
    "comp_finance_final_2 = comp_finance_final[['BusinessNum','stYear','당기순이익(손실)','매출액','영업이익','유동자산비율', '순운전자본비율', '매출액순이익률',\n",
    "       'ROA', 'ROE', '매출총이익률', '총자산증가율', '매출액증가율', '유형자산증가율', '자본생산성비율','매출채권회전율', '총자본회전율']]"
   ]
  },
  {
   "cell_type": "code",
   "execution_count": 257,
   "id": "ec9006bb",
   "metadata": {},
   "outputs": [],
   "source": [
    "def inf_ch(row) :\n",
    "    if row == np.inf or row == -np.inf :\n",
    "        return 0\n",
    "    return row"
   ]
  },
  {
   "cell_type": "code",
   "execution_count": 258,
   "id": "c11906dd",
   "metadata": {},
   "outputs": [
    {
     "name": "stderr",
     "output_type": "stream",
     "text": [
      "C:\\Users\\MSI\\AppData\\Local\\Temp\\ipykernel_17656\\359476504.py:2: SettingWithCopyWarning: \n",
      "A value is trying to be set on a copy of a slice from a DataFrame.\n",
      "Try using .loc[row_indexer,col_indexer] = value instead\n",
      "\n",
      "See the caveats in the documentation: https://pandas.pydata.org/pandas-docs/stable/user_guide/indexing.html#returning-a-view-versus-a-copy\n",
      "  comp_finance_final_2[i] = comp_finance_final_2[i].apply(inf_ch)\n"
     ]
    }
   ],
   "source": [
    "for i in ['당기순이익(손실)','매출액','영업이익','유동자산비율', '순운전자본비율', '매출액순이익률','ROA', 'ROE', '매출총이익률', '총자산증가율', '매출액증가율', '유형자산증가율', '자본생산성비율','매출채권회전율', '총자본회전율'] :\n",
    "    comp_finance_final_2[i] = comp_finance_final_2[i].apply(inf_ch)"
   ]
  },
  {
   "cell_type": "code",
   "execution_count": 259,
   "id": "eda0aa07",
   "metadata": {},
   "outputs": [
    {
     "data": {
      "text/html": [
       "<div>\n",
       "<style scoped>\n",
       "    .dataframe tbody tr th:only-of-type {\n",
       "        vertical-align: middle;\n",
       "    }\n",
       "\n",
       "    .dataframe tbody tr th {\n",
       "        vertical-align: top;\n",
       "    }\n",
       "\n",
       "    .dataframe thead th {\n",
       "        text-align: right;\n",
       "    }\n",
       "</style>\n",
       "<table border=\"1\" class=\"dataframe\">\n",
       "  <thead>\n",
       "    <tr style=\"text-align: right;\">\n",
       "      <th>accNm</th>\n",
       "      <th>BusinessNum</th>\n",
       "      <th>stYear</th>\n",
       "      <th>당기순이익(손실)</th>\n",
       "      <th>매출액</th>\n",
       "      <th>영업이익</th>\n",
       "      <th>유동자산비율</th>\n",
       "      <th>순운전자본비율</th>\n",
       "      <th>매출액순이익률</th>\n",
       "      <th>ROA</th>\n",
       "      <th>ROE</th>\n",
       "      <th>매출총이익률</th>\n",
       "      <th>총자산증가율</th>\n",
       "      <th>매출액증가율</th>\n",
       "      <th>유형자산증가율</th>\n",
       "      <th>자본생산성비율</th>\n",
       "      <th>매출채권회전율</th>\n",
       "      <th>총자본회전율</th>\n",
       "    </tr>\n",
       "  </thead>\n",
       "  <tbody>\n",
       "    <tr>\n",
       "      <th>count</th>\n",
       "      <td>3.935100e+04</td>\n",
       "      <td>39351.000000</td>\n",
       "      <td>3.929500e+04</td>\n",
       "      <td>3.891000e+04</td>\n",
       "      <td>3.929300e+04</td>\n",
       "      <td>39244.000000</td>\n",
       "      <td>39241.000000</td>\n",
       "      <td>3.889500e+04</td>\n",
       "      <td>39292.000000</td>\n",
       "      <td>3.929200e+04</td>\n",
       "      <td>38789.000000</td>\n",
       "      <td>3.934800e+04</td>\n",
       "      <td>3.934800e+04</td>\n",
       "      <td>3.934800e+04</td>\n",
       "      <td>38881.000000</td>\n",
       "      <td>3.400700e+04</td>\n",
       "      <td>38906.000000</td>\n",
       "    </tr>\n",
       "    <tr>\n",
       "      <th>mean</th>\n",
       "      <td>3.301794e+09</td>\n",
       "      <td>2018.957485</td>\n",
       "      <td>1.112027e+06</td>\n",
       "      <td>2.946712e+07</td>\n",
       "      <td>1.767101e+06</td>\n",
       "      <td>2.011399</td>\n",
       "      <td>0.251274</td>\n",
       "      <td>-3.157376e+03</td>\n",
       "      <td>3.631873</td>\n",
       "      <td>-1.910371e+01</td>\n",
       "      <td>42.668695</td>\n",
       "      <td>7.642066e+10</td>\n",
       "      <td>9.187255e+10</td>\n",
       "      <td>1.382684e+11</td>\n",
       "      <td>3.980630</td>\n",
       "      <td>2.528905e+02</td>\n",
       "      <td>2.348787</td>\n",
       "    </tr>\n",
       "    <tr>\n",
       "      <th>std</th>\n",
       "      <td>2.209772e+09</td>\n",
       "      <td>1.361682</td>\n",
       "      <td>2.905693e+07</td>\n",
       "      <td>3.170269e+08</td>\n",
       "      <td>2.981844e+07</td>\n",
       "      <td>82.977461</td>\n",
       "      <td>3.551367</td>\n",
       "      <td>5.630980e+05</td>\n",
       "      <td>598.486065</td>\n",
       "      <td>6.713973e+03</td>\n",
       "      <td>80.972209</td>\n",
       "      <td>2.652625e+11</td>\n",
       "      <td>2.884056e+11</td>\n",
       "      <td>3.448694e+11</td>\n",
       "      <td>271.258447</td>\n",
       "      <td>1.860054e+04</td>\n",
       "      <td>77.884844</td>\n",
       "    </tr>\n",
       "    <tr>\n",
       "      <th>min</th>\n",
       "      <td>1.010109e+09</td>\n",
       "      <td>2017.000000</td>\n",
       "      <td>-7.537013e+08</td>\n",
       "      <td>-6.949763e+06</td>\n",
       "      <td>-1.926095e+08</td>\n",
       "      <td>-2.864341</td>\n",
       "      <td>-387.549153</td>\n",
       "      <td>-1.109482e+08</td>\n",
       "      <td>-16025.000000</td>\n",
       "      <td>-1.320070e+06</td>\n",
       "      <td>-12601.922175</td>\n",
       "      <td>-1.248370e+02</td>\n",
       "      <td>-1.000000e+02</td>\n",
       "      <td>-1.000000e+02</td>\n",
       "      <td>-29355.234946</td>\n",
       "      <td>-1.222720e+04</td>\n",
       "      <td>-5.563636</td>\n",
       "    </tr>\n",
       "    <tr>\n",
       "      <th>25%</th>\n",
       "      <td>1.228601e+09</td>\n",
       "      <td>2018.000000</td>\n",
       "      <td>8.776000e+03</td>\n",
       "      <td>7.245365e+05</td>\n",
       "      <td>2.595000e+03</td>\n",
       "      <td>0.158287</td>\n",
       "      <td>0.152187</td>\n",
       "      <td>7.640819e-01</td>\n",
       "      <td>0.804389</td>\n",
       "      <td>2.343969e+00</td>\n",
       "      <td>16.505391</td>\n",
       "      <td>-7.737500e-01</td>\n",
       "      <td>-1.085175e+01</td>\n",
       "      <td>-1.842425e+01</td>\n",
       "      <td>1.057449</td>\n",
       "      <td>4.084168e+00</td>\n",
       "      <td>0.735580</td>\n",
       "    </tr>\n",
       "    <tr>\n",
       "      <th>50%</th>\n",
       "      <td>2.298103e+09</td>\n",
       "      <td>2019.000000</td>\n",
       "      <td>7.300200e+04</td>\n",
       "      <td>2.044260e+06</td>\n",
       "      <td>7.151900e+04</td>\n",
       "      <td>0.351142</td>\n",
       "      <td>0.421601</td>\n",
       "      <td>3.593387e+00</td>\n",
       "      <td>4.730193</td>\n",
       "      <td>9.892720e+00</td>\n",
       "      <td>30.685331</td>\n",
       "      <td>1.250150e+01</td>\n",
       "      <td>1.430000e+01</td>\n",
       "      <td>5.685000e-01</td>\n",
       "      <td>2.179993</td>\n",
       "      <td>7.654067e+00</td>\n",
       "      <td>1.302704</td>\n",
       "    </tr>\n",
       "    <tr>\n",
       "      <th>75%</th>\n",
       "      <td>5.048101e+09</td>\n",
       "      <td>2020.000000</td>\n",
       "      <td>2.620820e+05</td>\n",
       "      <td>6.663636e+06</td>\n",
       "      <td>2.801320e+05</td>\n",
       "      <td>0.714616</td>\n",
       "      <td>0.636986</td>\n",
       "      <td>8.071672e+00</td>\n",
       "      <td>11.619079</td>\n",
       "      <td>2.415639e+01</td>\n",
       "      <td>74.210420</td>\n",
       "      <td>4.758575e+01</td>\n",
       "      <td>7.195050e+01</td>\n",
       "      <td>1.646390e+02</td>\n",
       "      <td>4.276946</td>\n",
       "      <td>1.659159e+01</td>\n",
       "      <td>2.156640</td>\n",
       "    </tr>\n",
       "    <tr>\n",
       "      <th>max</th>\n",
       "      <td>8.998804e+09</td>\n",
       "      <td>2021.000000</td>\n",
       "      <td>2.152950e+09</td>\n",
       "      <td>1.133206e+10</td>\n",
       "      <td>3.274727e+09</td>\n",
       "      <td>14990.823529</td>\n",
       "      <td>1.927273</td>\n",
       "      <td>4.513661e+04</td>\n",
       "      <td>113006.666667</td>\n",
       "      <td>9.091537e+04</td>\n",
       "      <td>874.075163</td>\n",
       "      <td>1.000000e+12</td>\n",
       "      <td>1.000000e+12</td>\n",
       "      <td>1.000000e+12</td>\n",
       "      <td>38989.000000</td>\n",
       "      <td>3.055403e+06</td>\n",
       "      <td>15008.000000</td>\n",
       "    </tr>\n",
       "  </tbody>\n",
       "</table>\n",
       "</div>"
      ],
      "text/plain": [
       "accNm   BusinessNum        stYear     당기순이익(손실)           매출액          영업이익  \\\n",
       "count  3.935100e+04  39351.000000  3.929500e+04  3.891000e+04  3.929300e+04   \n",
       "mean   3.301794e+09   2018.957485  1.112027e+06  2.946712e+07  1.767101e+06   \n",
       "std    2.209772e+09      1.361682  2.905693e+07  3.170269e+08  2.981844e+07   \n",
       "min    1.010109e+09   2017.000000 -7.537013e+08 -6.949763e+06 -1.926095e+08   \n",
       "25%    1.228601e+09   2018.000000  8.776000e+03  7.245365e+05  2.595000e+03   \n",
       "50%    2.298103e+09   2019.000000  7.300200e+04  2.044260e+06  7.151900e+04   \n",
       "75%    5.048101e+09   2020.000000  2.620820e+05  6.663636e+06  2.801320e+05   \n",
       "max    8.998804e+09   2021.000000  2.152950e+09  1.133206e+10  3.274727e+09   \n",
       "\n",
       "accNm        유동자산비율       순운전자본비율       매출액순이익률            ROA           ROE  \\\n",
       "count  39244.000000  39241.000000  3.889500e+04   39292.000000  3.929200e+04   \n",
       "mean       2.011399      0.251274 -3.157376e+03       3.631873 -1.910371e+01   \n",
       "std       82.977461      3.551367  5.630980e+05     598.486065  6.713973e+03   \n",
       "min       -2.864341   -387.549153 -1.109482e+08  -16025.000000 -1.320070e+06   \n",
       "25%        0.158287      0.152187  7.640819e-01       0.804389  2.343969e+00   \n",
       "50%        0.351142      0.421601  3.593387e+00       4.730193  9.892720e+00   \n",
       "75%        0.714616      0.636986  8.071672e+00      11.619079  2.415639e+01   \n",
       "max    14990.823529      1.927273  4.513661e+04  113006.666667  9.091537e+04   \n",
       "\n",
       "accNm        매출총이익률        총자산증가율        매출액증가율       유형자산증가율       자본생산성비율  \\\n",
       "count  38789.000000  3.934800e+04  3.934800e+04  3.934800e+04  38881.000000   \n",
       "mean      42.668695  7.642066e+10  9.187255e+10  1.382684e+11      3.980630   \n",
       "std       80.972209  2.652625e+11  2.884056e+11  3.448694e+11    271.258447   \n",
       "min   -12601.922175 -1.248370e+02 -1.000000e+02 -1.000000e+02 -29355.234946   \n",
       "25%       16.505391 -7.737500e-01 -1.085175e+01 -1.842425e+01      1.057449   \n",
       "50%       30.685331  1.250150e+01  1.430000e+01  5.685000e-01      2.179993   \n",
       "75%       74.210420  4.758575e+01  7.195050e+01  1.646390e+02      4.276946   \n",
       "max      874.075163  1.000000e+12  1.000000e+12  1.000000e+12  38989.000000   \n",
       "\n",
       "accNm       매출채권회전율        총자본회전율  \n",
       "count  3.400700e+04  38906.000000  \n",
       "mean   2.528905e+02      2.348787  \n",
       "std    1.860054e+04     77.884844  \n",
       "min   -1.222720e+04     -5.563636  \n",
       "25%    4.084168e+00      0.735580  \n",
       "50%    7.654067e+00      1.302704  \n",
       "75%    1.659159e+01      2.156640  \n",
       "max    3.055403e+06  15008.000000  "
      ]
     },
     "execution_count": 259,
     "metadata": {},
     "output_type": "execute_result"
    }
   ],
   "source": [
    "comp_finance_final_2.describe()"
   ]
  },
  {
   "cell_type": "code",
   "execution_count": 260,
   "id": "205b1864",
   "metadata": {},
   "outputs": [
    {
     "data": {
      "text/plain": [
       "accNm\n",
       "BusinessNum     0.000000\n",
       "stYear          0.000000\n",
       "당기순이익(손실)       0.142309\n",
       "매출액             1.120683\n",
       "영업이익            0.147391\n",
       "유동자산비율          0.271912\n",
       "순운전자본비율         0.279535\n",
       "매출액순이익률         1.158802\n",
       "ROA             0.149933\n",
       "ROE             0.149933\n",
       "매출총이익률          1.428172\n",
       "총자산증가율          0.007624\n",
       "매출액증가율          0.007624\n",
       "유형자산증가율         0.007624\n",
       "자본생산성비율         1.194379\n",
       "매출채권회전율        13.580341\n",
       "총자본회전율          1.130848\n",
       "dtype: float64"
      ]
     },
     "execution_count": 260,
     "metadata": {},
     "output_type": "execute_result"
    }
   ],
   "source": [
    "comp_finance_final_2.isnull().sum()/len(comp_finance_final_2)*100"
   ]
  },
  {
   "cell_type": "code",
   "execution_count": 261,
   "id": "6cc4008a",
   "metadata": {},
   "outputs": [],
   "source": [
    "df_2017 = comp_finance_final_2.loc[comp_finance_final_2['stYear'] == 2017.0]\n",
    "df_2018 = comp_finance_final_2.loc[comp_finance_final_2['stYear'] == 2018.0]\n",
    "df_2019 = comp_finance_final_2.loc[comp_finance_final_2['stYear'] == 2019.0]\n",
    "df_2020 = comp_finance_final_2.loc[comp_finance_final_2['stYear'] == 2020.0]\n",
    "df_2021 = comp_finance_final_2.loc[comp_finance_final_2['stYear'] == 2021.0]"
   ]
  },
  {
   "cell_type": "code",
   "execution_count": 262,
   "id": "79dcb5cc",
   "metadata": {},
   "outputs": [
    {
     "name": "stdout",
     "output_type": "stream",
     "text": [
      "<class 'pandas.core.frame.DataFrame'>\n",
      "Int64Index: 7364 entries, 0 to 39346\n",
      "Data columns (total 17 columns):\n",
      " #   Column       Non-Null Count  Dtype  \n",
      "---  ------       --------------  -----  \n",
      " 0   BusinessNum  7364 non-null   int64  \n",
      " 1   stYear       7364 non-null   float64\n",
      " 2   당기순이익(손실)    7350 non-null   float64\n",
      " 3   매출액          7219 non-null   float64\n",
      " 4   영업이익         7352 non-null   float64\n",
      " 5   유동자산비율       7336 non-null   float64\n",
      " 6   순운전자본비율      7336 non-null   float64\n",
      " 7   매출액순이익률      7211 non-null   float64\n",
      " 8   ROA          7350 non-null   float64\n",
      " 9   ROE          7350 non-null   float64\n",
      " 10  매출총이익률       7214 non-null   float64\n",
      " 11  총자산증가율       7364 non-null   float64\n",
      " 12  매출액증가율       7364 non-null   float64\n",
      " 13  유형자산증가율      7364 non-null   float64\n",
      " 14  자본생산성비율      7214 non-null   float64\n",
      " 15  매출채권회전율      6141 non-null   float64\n",
      " 16  총자본회전율       7218 non-null   float64\n",
      "dtypes: float64(16), int64(1)\n",
      "memory usage: 1.0 MB\n"
     ]
    }
   ],
   "source": [
    "df_2017.info()"
   ]
  },
  {
   "cell_type": "code",
   "execution_count": 263,
   "id": "bb63f797",
   "metadata": {},
   "outputs": [
    {
     "data": {
      "text/html": [
       "<div>\n",
       "<style scoped>\n",
       "    .dataframe tbody tr th:only-of-type {\n",
       "        vertical-align: middle;\n",
       "    }\n",
       "\n",
       "    .dataframe tbody tr th {\n",
       "        vertical-align: top;\n",
       "    }\n",
       "\n",
       "    .dataframe thead th {\n",
       "        text-align: right;\n",
       "    }\n",
       "</style>\n",
       "<table border=\"1\" class=\"dataframe\">\n",
       "  <thead>\n",
       "    <tr style=\"text-align: right;\">\n",
       "      <th></th>\n",
       "      <th>Unnamed: 0</th>\n",
       "      <th>BusinessNum</th>\n",
       "      <th>종업원수</th>\n",
       "      <th>주소1</th>\n",
       "      <th>주소2</th>\n",
       "      <th>인건비</th>\n",
       "      <th>연차</th>\n",
       "      <th>평균인건비</th>\n",
       "      <th>평균종업원수</th>\n",
       "    </tr>\n",
       "  </thead>\n",
       "  <tbody>\n",
       "    <tr>\n",
       "      <th>0</th>\n",
       "      <td>0</td>\n",
       "      <td>1050508965</td>\n",
       "      <td>NaN</td>\n",
       "      <td>서울</td>\n",
       "      <td>마포구</td>\n",
       "      <td>NaN</td>\n",
       "      <td>NaN</td>\n",
       "      <td>NaN</td>\n",
       "      <td>NaN</td>\n",
       "    </tr>\n",
       "    <tr>\n",
       "      <th>1</th>\n",
       "      <td>1</td>\n",
       "      <td>1010204456</td>\n",
       "      <td>5.0</td>\n",
       "      <td>서울</td>\n",
       "      <td>마포구</td>\n",
       "      <td>163362.0</td>\n",
       "      <td>24.0</td>\n",
       "      <td>572901.0</td>\n",
       "      <td>20.0</td>\n",
       "    </tr>\n",
       "    <tr>\n",
       "      <th>2</th>\n",
       "      <td>2</td>\n",
       "      <td>1048107174</td>\n",
       "      <td>12.0</td>\n",
       "      <td>서울</td>\n",
       "      <td>마포구</td>\n",
       "      <td>605783.0</td>\n",
       "      <td>23.0</td>\n",
       "      <td>353671.0</td>\n",
       "      <td>14.0</td>\n",
       "    </tr>\n",
       "    <tr>\n",
       "      <th>3</th>\n",
       "      <td>3</td>\n",
       "      <td>1018102731</td>\n",
       "      <td>18.0</td>\n",
       "      <td>서울</td>\n",
       "      <td>마포구</td>\n",
       "      <td>460156.0</td>\n",
       "      <td>21.0</td>\n",
       "      <td>460156.0</td>\n",
       "      <td>16.0</td>\n",
       "    </tr>\n",
       "    <tr>\n",
       "      <th>4</th>\n",
       "      <td>4</td>\n",
       "      <td>1018606595</td>\n",
       "      <td>3.0</td>\n",
       "      <td>서울</td>\n",
       "      <td>마포구</td>\n",
       "      <td>129405.0</td>\n",
       "      <td>15.0</td>\n",
       "      <td>329271.0</td>\n",
       "      <td>12.0</td>\n",
       "    </tr>\n",
       "    <tr>\n",
       "      <th>...</th>\n",
       "      <td>...</td>\n",
       "      <td>...</td>\n",
       "      <td>...</td>\n",
       "      <td>...</td>\n",
       "      <td>...</td>\n",
       "      <td>...</td>\n",
       "      <td>...</td>\n",
       "      <td>...</td>\n",
       "      <td>...</td>\n",
       "    </tr>\n",
       "    <tr>\n",
       "      <th>9876</th>\n",
       "      <td>9876</td>\n",
       "      <td>2148708573</td>\n",
       "      <td>150.0</td>\n",
       "      <td>서울</td>\n",
       "      <td>중구</td>\n",
       "      <td>4485000.0</td>\n",
       "      <td>22.0</td>\n",
       "      <td>390711.0</td>\n",
       "      <td>13.0</td>\n",
       "    </tr>\n",
       "    <tr>\n",
       "      <th>9877</th>\n",
       "      <td>9877</td>\n",
       "      <td>4208704866</td>\n",
       "      <td>7.0</td>\n",
       "      <td>서울</td>\n",
       "      <td>노원구</td>\n",
       "      <td>69223.0</td>\n",
       "      <td>7.0</td>\n",
       "      <td>63486.0</td>\n",
       "      <td>7.0</td>\n",
       "    </tr>\n",
       "    <tr>\n",
       "      <th>9878</th>\n",
       "      <td>9878</td>\n",
       "      <td>4618107952</td>\n",
       "      <td>3.0</td>\n",
       "      <td>서울</td>\n",
       "      <td>금천구</td>\n",
       "      <td>625041.0</td>\n",
       "      <td>9.0</td>\n",
       "      <td>172410.0</td>\n",
       "      <td>8.0</td>\n",
       "    </tr>\n",
       "    <tr>\n",
       "      <th>9879</th>\n",
       "      <td>9879</td>\n",
       "      <td>2208107776</td>\n",
       "      <td>21.0</td>\n",
       "      <td>서울</td>\n",
       "      <td>강남구</td>\n",
       "      <td>794622.0</td>\n",
       "      <td>24.0</td>\n",
       "      <td>572901.0</td>\n",
       "      <td>20.0</td>\n",
       "    </tr>\n",
       "    <tr>\n",
       "      <th>9880</th>\n",
       "      <td>9880</td>\n",
       "      <td>4638108687</td>\n",
       "      <td>5.0</td>\n",
       "      <td>경기</td>\n",
       "      <td>용인시</td>\n",
       "      <td>87797.0</td>\n",
       "      <td>7.0</td>\n",
       "      <td>63486.0</td>\n",
       "      <td>7.0</td>\n",
       "    </tr>\n",
       "  </tbody>\n",
       "</table>\n",
       "<p>9881 rows × 9 columns</p>\n",
       "</div>"
      ],
      "text/plain": [
       "      Unnamed: 0  BusinessNum   종업원수 주소1  주소2        인건비    연차     평균인건비  \\\n",
       "0              0   1050508965    NaN  서울  마포구        NaN   NaN       NaN   \n",
       "1              1   1010204456    5.0  서울  마포구   163362.0  24.0  572901.0   \n",
       "2              2   1048107174   12.0  서울  마포구   605783.0  23.0  353671.0   \n",
       "3              3   1018102731   18.0  서울  마포구   460156.0  21.0  460156.0   \n",
       "4              4   1018606595    3.0  서울  마포구   129405.0  15.0  329271.0   \n",
       "...          ...          ...    ...  ..  ...        ...   ...       ...   \n",
       "9876        9876   2148708573  150.0  서울   중구  4485000.0  22.0  390711.0   \n",
       "9877        9877   4208704866    7.0  서울  노원구    69223.0   7.0   63486.0   \n",
       "9878        9878   4618107952    3.0  서울  금천구   625041.0   9.0  172410.0   \n",
       "9879        9879   2208107776   21.0  서울  강남구   794622.0  24.0  572901.0   \n",
       "9880        9880   4638108687    5.0  경기  용인시    87797.0   7.0   63486.0   \n",
       "\n",
       "      평균종업원수  \n",
       "0        NaN  \n",
       "1       20.0  \n",
       "2       14.0  \n",
       "3       16.0  \n",
       "4       12.0  \n",
       "...      ...  \n",
       "9876    13.0  \n",
       "9877     7.0  \n",
       "9878     8.0  \n",
       "9879    20.0  \n",
       "9880     7.0  \n",
       "\n",
       "[9881 rows x 9 columns]"
      ]
     },
     "execution_count": 263,
     "metadata": {},
     "output_type": "execute_result"
    }
   ],
   "source": [
    "comp_intro_m = pd.read_csv(path+'주소_설립연차_전처리.csv')\n",
    "comp_intro_m"
   ]
  },
  {
   "cell_type": "code",
   "execution_count": 279,
   "id": "2b6faca8",
   "metadata": {},
   "outputs": [],
   "source": [
    "comp_intro_m2 = pd.merge(comp_intro_m1,comp_intro_m,on='BusinessNum',how='inner')"
   ]
  },
  {
   "cell_type": "code",
   "execution_count": 280,
   "id": "49a24c50",
   "metadata": {},
   "outputs": [
    {
     "data": {
      "text/plain": [
       "(9636, 27)"
      ]
     },
     "execution_count": 280,
     "metadata": {},
     "output_type": "execute_result"
    }
   ],
   "source": [
    "comp_intro_m2.shape"
   ]
  },
  {
   "cell_type": "code",
   "execution_count": 281,
   "id": "3c0895eb",
   "metadata": {},
   "outputs": [
    {
     "name": "stdout",
     "output_type": "stream",
     "text": [
      "<class 'pandas.core.frame.DataFrame'>\n",
      "Int64Index: 9636 entries, 0 to 9635\n",
      "Data columns (total 27 columns):\n",
      " #   Column        Non-Null Count  Dtype  \n",
      "---  ------        --------------  -----  \n",
      " 0   Unnamed: 0_x  9636 non-null   int64  \n",
      " 1   BusinessNum   9636 non-null   int64  \n",
      " 2   cmpNm         9636 non-null   object \n",
      " 3   기업명           7711 non-null   object \n",
      " 4   ceoNm         9636 non-null   object \n",
      " 5   telNo         9172 non-null   object \n",
      " 6   faxTelNo      6990 non-null   object \n",
      " 7   zip           7791 non-null   float64\n",
      " 8   adr           9554 non-null   object \n",
      " 9   dtlAdr        7925 non-null   object \n",
      " 10  cmpTypNm      9636 non-null   object \n",
      " 11  cmpSclNm      9636 non-null   object \n",
      " 12  pbcoGbNm      8015 non-null   object \n",
      " 13  indCd1        9617 non-null   float64\n",
      " 14  indNm         9614 non-null   object \n",
      " 15  indCd1_str    9617 non-null   object \n",
      " 16  중분류코드_str     9617 non-null   object \n",
      " 17  대분류코드         9617 non-null   object \n",
      " 18  항목명           9617 non-null   object \n",
      " 19  Unnamed: 0_y  9636 non-null   int64  \n",
      " 20  종업원수          9381 non-null   float64\n",
      " 21  주소1           9631 non-null   object \n",
      " 22  주소2           9629 non-null   object \n",
      " 23  인건비           9373 non-null   float64\n",
      " 24  연차            9288 non-null   object \n",
      " 25  평균인건비         9287 non-null   float64\n",
      " 26  평균종업원수        9287 non-null   float64\n",
      "dtypes: float64(6), int64(3), object(18)\n",
      "memory usage: 2.1+ MB\n"
     ]
    }
   ],
   "source": [
    "comp_intro_m2.info()"
   ]
  },
  {
   "cell_type": "code",
   "execution_count": 282,
   "id": "f149790c",
   "metadata": {},
   "outputs": [
    {
     "data": {
      "text/plain": [
       "Unnamed: 0_x       0\n",
       "BusinessNum        0\n",
       "cmpNm              0\n",
       "기업명             1925\n",
       "ceoNm              0\n",
       "telNo            464\n",
       "faxTelNo        2646\n",
       "zip             1845\n",
       "adr               82\n",
       "dtlAdr          1711\n",
       "cmpTypNm           0\n",
       "cmpSclNm           0\n",
       "pbcoGbNm        1621\n",
       "indCd1            19\n",
       "indNm             22\n",
       "indCd1_str        19\n",
       "중분류코드_str         19\n",
       "대분류코드             19\n",
       "항목명               19\n",
       "Unnamed: 0_y       0\n",
       "종업원수             255\n",
       "주소1                5\n",
       "주소2                7\n",
       "인건비              263\n",
       "연차               348\n",
       "평균인건비            349\n",
       "평균종업원수           349\n",
       "dtype: int64"
      ]
     },
     "execution_count": 282,
     "metadata": {},
     "output_type": "execute_result"
    }
   ],
   "source": [
    "comp_intro_m2.isnull().sum()"
   ]
  },
  {
   "cell_type": "code",
   "execution_count": 283,
   "id": "a76a7c01",
   "metadata": {},
   "outputs": [],
   "source": [
    "c1 = comp_intro_m2[['BusinessNum','주소1','연차','종업원수','대분류코드','항목명']]"
   ]
  },
  {
   "cell_type": "code",
   "execution_count": 288,
   "id": "7aa7f68f",
   "metadata": {},
   "outputs": [],
   "source": [
    "df_17 = pd.merge(df_2017,c1,on='BusinessNum', how='inner')\n",
    "df_18 = pd.merge(df_2018,c1,on='BusinessNum', how='inner')\n",
    "df_19 = pd.merge(df_2019,c1,on='BusinessNum', how='inner')\n",
    "df_20 = pd.merge(df_2020,c1,on='BusinessNum', how='inner')\n",
    "df_21 = pd.merge(df_2021,c1,on='BusinessNum', how='inner')"
   ]
  },
  {
   "cell_type": "code",
   "execution_count": 289,
   "id": "0b1f8386",
   "metadata": {},
   "outputs": [],
   "source": [
    "df_17.to_csv(path + '재무정보_2017.csv')\n",
    "df_18.to_csv(path + '재무정보_2018.csv')\n",
    "df_19.to_csv(path + '재무정보_2019.csv')\n",
    "df_20.to_csv(path + '재무정보_2020.csv')\n",
    "df_21.to_csv(path + '재무정보_2021.csv')"
   ]
  },
  {
   "cell_type": "code",
   "execution_count": 290,
   "id": "4e168301",
   "metadata": {},
   "outputs": [],
   "source": [
    "df_all = pd.merge(comp_finance_final_2,c1,on='BusinessNum', how='inner')\n",
    "df_all.to_csv(path + '재무정보_통합.csv')"
   ]
  },
  {
   "cell_type": "code",
   "execution_count": 291,
   "id": "3bf786ec",
   "metadata": {},
   "outputs": [
    {
     "data": {
      "text/plain": [
       "BusinessNum       0\n",
       "stYear            0\n",
       "당기순이익(손실)        54\n",
       "매출액             438\n",
       "영업이익             56\n",
       "유동자산비율           99\n",
       "순운전자본비율         101\n",
       "매출액순이익률         453\n",
       "ROA              56\n",
       "ROE              56\n",
       "매출총이익률          558\n",
       "총자산증가율            2\n",
       "매출액증가율            2\n",
       "유형자산증가율           2\n",
       "자본생산성비율         462\n",
       "매출채권회전율        5248\n",
       "총자본회전율          441\n",
       "주소1               3\n",
       "연차              274\n",
       "종업원수            120\n",
       "대분류코드             6\n",
       "항목명               6\n",
       "dtype: int64"
      ]
     },
     "execution_count": 291,
     "metadata": {},
     "output_type": "execute_result"
    }
   ],
   "source": [
    "df_all.isnull().sum()"
   ]
  },
  {
   "cell_type": "code",
   "execution_count": null,
   "id": "cb425af4",
   "metadata": {},
   "outputs": [],
   "source": []
  }
 ],
 "metadata": {
  "kernelspec": {
   "display_name": "Python 3 (ipykernel)",
   "language": "python",
   "name": "python3"
  },
  "language_info": {
   "codemirror_mode": {
    "name": "ipython",
    "version": 3
   },
   "file_extension": ".py",
   "mimetype": "text/x-python",
   "name": "python",
   "nbconvert_exporter": "python",
   "pygments_lexer": "ipython3",
   "version": "3.9.13"
  }
 },
 "nbformat": 4,
 "nbformat_minor": 5
}
