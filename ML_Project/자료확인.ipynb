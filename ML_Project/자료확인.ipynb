{
 "cells": [
  {
   "cell_type": "code",
   "execution_count": 1,
   "id": "30b4d911-f9b2-4939-ba35-27ba957d4147",
   "metadata": {},
   "outputs": [],
   "source": [
    "import pandas as pd"
   ]
  },
  {
   "cell_type": "code",
   "execution_count": 4,
   "id": "f181834f-772d-45f0-8b80-17f01326d0b7",
   "metadata": {},
   "outputs": [],
   "source": [
    "member_df = pd.read_csv(r'C:\\Users\\UserK\\Desktop\\Ranee\\SW_CAMP\\One_Market_Data\\member_data.csv')"
   ]
  },
  {
   "cell_type": "code",
   "execution_count": 5,
   "id": "9db9c02c-904a-42e9-bb4d-486260292d4a",
   "metadata": {},
   "outputs": [
    {
     "name": "stdout",
     "output_type": "stream",
     "text": [
      "(11555, 8)\n",
      "<class 'pandas.core.frame.DataFrame'>\n",
      "RangeIndex: 11555 entries, 0 to 11554\n",
      "Data columns (total 8 columns):\n",
      " #   Column       Non-Null Count  Dtype  \n",
      "---  ------       --------------  -----  \n",
      " 0   회원번호         11555 non-null  int64  \n",
      " 1   조합원상태        11555 non-null  object \n",
      " 2   주소           11555 non-null  object \n",
      " 3   성별           11553 non-null  object \n",
      " 4   연령           11553 non-null  float64\n",
      " 5   배송서비스신청여부    11555 non-null  object \n",
      " 6   모바일알람여부      11555 non-null  object \n",
      " 7   Gold_member  11555 non-null  object \n",
      "dtypes: float64(1), int64(1), object(6)\n",
      "memory usage: 722.3+ KB\n"
     ]
    }
   ],
   "source": [
    "print(member_df.shape)\n",
    "member_df.info()"
   ]
  },
  {
   "cell_type": "code",
   "execution_count": 6,
   "id": "6c6d33ea-bfa2-4ab5-8bf4-2f4933ca678a",
   "metadata": {},
   "outputs": [
    {
     "data": {
      "text/plain": [
       "회원번호           0\n",
       "조합원상태          0\n",
       "주소             0\n",
       "성별             2\n",
       "연령             2\n",
       "배송서비스신청여부      0\n",
       "모바일알람여부        0\n",
       "Gold_member    0\n",
       "dtype: int64"
      ]
     },
     "execution_count": 6,
     "metadata": {},
     "output_type": "execute_result"
    }
   ],
   "source": [
    "member_df.isnull().sum()"
   ]
  },
  {
   "cell_type": "code",
   "execution_count": 14,
   "id": "dc2b1edb-9cd7-42b8-8202-2283373ae74f",
   "metadata": {},
   "outputs": [
    {
     "data": {
      "text/plain": [
       "array(['수지구-풍덕천동', '처인구-고림동', '광주-기타', '수지구-동천동', '수지구-신봉동', '기흥구-상하동',\n",
       "       '수지구-상현동', '기타-기타', '수지구-성복동', '분당구-백현동', '분당구-판교동', '수지구-죽전동',\n",
       "       '분당구-구미동', '기흥구-동백동', '수원 영통구-기타', '기흥구-보정동', '기흥구-청덕동',\n",
       "       '서울 강남구-기타', '수원 팔달구-기타', '분당구-수내동', '서울 송파구-기타', '기흥구-기타',\n",
       "       '기흥구-언남동', '분당구-중동', '분당구-삼평동', '기흥구-마북동', '광주-오포읍', '화성-기타',\n",
       "       '분당구-정자동', '기흥구-중동', '분당구-기타', '중원구-금광동', '처인구-역북동', '수지구-기타',\n",
       "       '수원 장안구-기타', '처인구-삼가동', '처인구-기타', '수정구-신흥동', '수원 권선구-기타',\n",
       "       '분당구-서현동', '분당구-야탑동', '기흥구-보라동', '기흥구-구갈동', '처인구-김량장동', '처인구-이동면',\n",
       "       '분당구-분당동', '기흥구-신갈동', '기흥구-영덕동', '수정구-위례(창곡)동', '하남-기타', '기흥구-죽전동',\n",
       "       '처인구-모현면', '기타-금광동', '처인구-원삼면', '분당구-이매동', '분당구-금곡동', '기타-신흥동',\n",
       "       '기흥구-공세동', '기흥구-상갈동', '수정구-복정동', '기흥구-서천동', '광주-산성동', '중원구-도촌동',\n",
       "       '처인구-유방동', '수원 장안구-정자동', '처인구-남사면', '서울 강남구-은행동', '수원 권선구-금곡동',\n",
       "       '분당구-궁내동', '수정구-기타', '중원구-성남동', '중원구-여수동', '기타-금곡동', '기타-동천동',\n",
       "       '기타-비조합원', '수정구-상대원동', '중원구-상대원동', '중원구-은행동', '중원구-하대원동', '기타-중앙동',\n",
       "       '기타-보라동', '기타-동백동', '기타-은행동', '화성-보라동', '중원구-산성동', '수정구-단대동',\n",
       "       '분당구-율동', '기타-궁내동', '기흥구-지곡동', '처인구-마평동', '수정구-태평동', '하남-위례동',\n",
       "       '기타-율동', '기타-태평동', '기타-성남동'], dtype=object)"
      ]
     },
     "execution_count": 14,
     "metadata": {},
     "output_type": "execute_result"
    }
   ],
   "source": [
    "member_df['주소'].unique()"
   ]
  },
  {
   "cell_type": "code",
   "execution_count": 31,
   "id": "af088c73-528b-4f95-8ea9-6e736b3b46c9",
   "metadata": {},
   "outputs": [
    {
     "name": "stdout",
     "output_type": "stream",
     "text": [
      "주소\n",
      "수지구-풍덕천동    3188\n",
      "수지구-상현동     1601\n",
      "수지구-신봉동     1422\n",
      "기타-기타       1126\n",
      "수지구-동천동      924\n",
      "            ... \n",
      "수정구-복정동        1\n",
      "수정구-상대원동       1\n",
      "기타-비조합원        1\n",
      "기타-동천동         1\n",
      "기타-성남동         1\n",
      "Name: count, Length: 95, dtype: int64\n"
     ]
    }
   ],
   "source": [
    "print(member_df['주소'].value_counts())"
   ]
  },
  {
   "cell_type": "code",
   "execution_count": 34,
   "id": "bd530487-9e7b-4ea2-b543-ceb7bdac4500",
   "metadata": {},
   "outputs": [],
   "source": [
    "df1 = pd.read_csv(r'C:\\Users\\UserK\\Desktop\\Ranee\\SW_CAMP\\One_Market_Data\\product_data_001.csv')\n",
    "df2 = pd.read_csv(r'C:\\Users\\UserK\\Desktop\\Ranee\\SW_CAMP\\One_Market_Data\\product_data_002.csv')\n",
    "df3 = pd.read_csv(r'C:\\Users\\UserK\\Desktop\\Ranee\\SW_CAMP\\One_Market_Data\\product_data_003.csv')\n",
    "df4 = pd.read_csv(r'C:\\Users\\UserK\\Desktop\\Ranee\\SW_CAMP\\One_Market_Data\\product_data_004.csv')"
   ]
  },
  {
   "cell_type": "code",
   "execution_count": 38,
   "id": "ebd3d4c6-5c44-4674-b60e-62feaf4a7244",
   "metadata": {},
   "outputs": [],
   "source": [
    "pd_df = pd.concat([df1, df2, df3,df4], ignore_index=True)"
   ]
  },
  {
   "cell_type": "code",
   "execution_count": 39,
   "id": "631794cf-acca-42d3-ace9-f3a33f0488d0",
   "metadata": {},
   "outputs": [
    {
     "data": {
      "text/plain": [
       "(294645, 12)"
      ]
     },
     "execution_count": 39,
     "metadata": {},
     "output_type": "execute_result"
    }
   ],
   "source": [
    "pd_df.shape"
   ]
  },
  {
   "cell_type": "code",
   "execution_count": 40,
   "id": "6be0ac59-0558-4733-a650-bebea08aed3c",
   "metadata": {},
   "outputs": [
    {
     "name": "stdout",
     "output_type": "stream",
     "text": [
      "<class 'pandas.core.frame.DataFrame'>\n",
      "RangeIndex: 294645 entries, 0 to 294644\n",
      "Data columns (total 12 columns):\n",
      " #   Column    Non-Null Count   Dtype  \n",
      "---  ------    --------------   -----  \n",
      " 0   공급일자      294645 non-null  object \n",
      " 1   회원번호      294645 non-null  int64  \n",
      " 2   조합원상태     294645 non-null  object \n",
      " 3   물품대분류     294645 non-null  object \n",
      " 4   물품중분류     294645 non-null  object \n",
      " 5   물품소분류     294645 non-null  object \n",
      " 6   물품명       294645 non-null  object \n",
      " 7   구매수량      294645 non-null  float64\n",
      " 8   구매금액      294645 non-null  int64  \n",
      " 9   구매매장      294645 non-null  object \n",
      " 10  반품_원거래일자  4960 non-null    object \n",
      " 11  구매시각      294645 non-null  object \n",
      "dtypes: float64(1), int64(2), object(9)\n",
      "memory usage: 27.0+ MB\n"
     ]
    }
   ],
   "source": [
    "pd_df.info()"
   ]
  },
  {
   "cell_type": "code",
   "execution_count": 43,
   "id": "15e81c4c-a8b3-4a93-8cde-f932675b50be",
   "metadata": {},
   "outputs": [],
   "source": [
    "df5 = pd_df[['공급일자','회원번호','물품명']]"
   ]
  },
  {
   "cell_type": "code",
   "execution_count": 44,
   "id": "b7dd09c6-d105-43d3-a390-5a5b9a8eaf09",
   "metadata": {},
   "outputs": [
    {
     "name": "stderr",
     "output_type": "stream",
     "text": [
      "C:\\Users\\UserK\\AppData\\Local\\Temp\\ipykernel_16156\\3546060319.py:1: SettingWithCopyWarning: \n",
      "A value is trying to be set on a copy of a slice from a DataFrame.\n",
      "Try using .loc[row_indexer,col_indexer] = value instead\n",
      "\n",
      "See the caveats in the documentation: https://pandas.pydata.org/pandas-docs/stable/user_guide/indexing.html#returning-a-view-versus-a-copy\n",
      "  df5['count'] = 1\n"
     ]
    }
   ],
   "source": [
    "df5['count'] = 1"
   ]
  },
  {
   "cell_type": "code",
   "execution_count": 45,
   "id": "f6eac9df-0d38-454d-9d28-766cc6bf1108",
   "metadata": {},
   "outputs": [
    {
     "name": "stdout",
     "output_type": "stream",
     "text": [
      "<class 'pandas.core.frame.DataFrame'>\n",
      "RangeIndex: 294645 entries, 0 to 294644\n",
      "Data columns (total 4 columns):\n",
      " #   Column  Non-Null Count   Dtype \n",
      "---  ------  --------------   ----- \n",
      " 0   공급일자    294645 non-null  object\n",
      " 1   회원번호    294645 non-null  int64 \n",
      " 2   물품명     294645 non-null  object\n",
      " 3   count   294645 non-null  int64 \n",
      "dtypes: int64(2), object(2)\n",
      "memory usage: 9.0+ MB\n"
     ]
    }
   ],
   "source": []
  },
  {
   "cell_type": "code",
   "execution_count": null,
   "id": "82955138-e49e-4b76-a0d8-7bd7d2be7383",
   "metadata": {},
   "outputs": [],
   "source": []
  }
 ],
 "metadata": {
  "kernelspec": {
   "display_name": "Python 3 (ipykernel)",
   "language": "python",
   "name": "python3"
  },
  "language_info": {
   "codemirror_mode": {
    "name": "ipython",
    "version": 3
   },
   "file_extension": ".py",
   "mimetype": "text/x-python",
   "name": "python",
   "nbconvert_exporter": "python",
   "pygments_lexer": "ipython3",
   "version": "3.11.7"
  }
 },
 "nbformat": 4,
 "nbformat_minor": 5
}
