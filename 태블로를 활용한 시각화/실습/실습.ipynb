{
 "cells": [
  {
   "cell_type": "code",
   "execution_count": 4,
   "metadata": {},
   "outputs": [],
   "source": [
    "import pandas as pd\n",
    "import os\n",
    "import numpy as np\n",
    "os.getcwd()\n",
    "\n",
    "os.chdir(r\"C:\\Users\\UserK\\Desktop\\Ranee\\SW_CAMP\\태블로를 활용한 시각화\\실습\")\n",
    "\n",
    "mainn = pd.read_csv(\"서울시 상권분석서비스(추정매출-상권).csv\", encoding='cp949')\n",
    "namee = pd.read_csv(\"서울시 상권분석서비스(영역-상권).csv\", encoding='cp949')"
   ]
  },
  {
   "cell_type": "code",
   "execution_count": 2,
   "metadata": {},
   "outputs": [
    {
     "name": "stdout",
     "output_type": "stream",
     "text": [
      "<class 'pandas.core.frame.DataFrame'>\n",
      "RangeIndex: 62856 entries, 0 to 62855\n",
      "Data columns (total 55 columns):\n",
      " #   Column           Non-Null Count  Dtype \n",
      "---  ------           --------------  ----- \n",
      " 0   기준_년분기_코드        62856 non-null  int64 \n",
      " 1   상권_구분_코드         62856 non-null  object\n",
      " 2   상권_구분_코드_명       62856 non-null  object\n",
      " 3   상권_코드            62856 non-null  int64 \n",
      " 4   상권_코드_명          62856 non-null  object\n",
      " 5   서비스_업종_코드        62856 non-null  object\n",
      " 6   서비스_업종_코드_명      62856 non-null  object\n",
      " 7   당월_매출_금액         62856 non-null  int64 \n",
      " 8   당월_매출_건수         62856 non-null  int64 \n",
      " 9   주중_매출_금액         62856 non-null  int64 \n",
      " 10  주말_매출_금액         62856 non-null  int64 \n",
      " 11  월요일_매출_금액        62856 non-null  int64 \n",
      " 12  화요일_매출_금액        62856 non-null  int64 \n",
      " 13  수요일_매출_금액        62856 non-null  int64 \n",
      " 14  목요일_매출_금액        62856 non-null  int64 \n",
      " 15  금요일_매출_금액        62856 non-null  int64 \n",
      " 16  토요일_매출_금액        62856 non-null  int64 \n",
      " 17  일요일_매출_금액        62856 non-null  int64 \n",
      " 18  시간대_00~06_매출_금액  62856 non-null  int64 \n",
      " 19  시간대_06~11_매출_금액  62856 non-null  int64 \n",
      " 20  시간대_11~14_매출_금액  62856 non-null  int64 \n",
      " 21  시간대_14~17_매출_금액  62856 non-null  int64 \n",
      " 22  시간대_17~21_매출_금액  62856 non-null  int64 \n",
      " 23  시간대_21~24_매출_금액  62856 non-null  int64 \n",
      " 24  남성_매출_금액         62856 non-null  int64 \n",
      " 25  여성_매출_금액         62856 non-null  int64 \n",
      " 26  연령대_10_매출_금액     62856 non-null  int64 \n",
      " 27  연령대_20_매출_금액     62856 non-null  int64 \n",
      " 28  연령대_30_매출_금액     62856 non-null  int64 \n",
      " 29  연령대_40_매출_금액     62856 non-null  int64 \n",
      " 30  연령대_50_매출_금액     62856 non-null  int64 \n",
      " 31  연령대_60_이상_매출_금액  62856 non-null  int64 \n",
      " 32  주중_매출_건수         62856 non-null  int64 \n",
      " 33  주말_매출_건수         62856 non-null  int64 \n",
      " 34  월요일_매출_건수        62856 non-null  int64 \n",
      " 35  화요일_매출_건수        62856 non-null  int64 \n",
      " 36  수요일_매출_건수        62856 non-null  int64 \n",
      " 37  목요일_매출_건수        62856 non-null  int64 \n",
      " 38  금요일_매출_건수        62856 non-null  int64 \n",
      " 39  토요일_매출_건수        62856 non-null  int64 \n",
      " 40  일요일_매출_건수        62856 non-null  int64 \n",
      " 41  시간대_건수~06_매출_건수  62856 non-null  int64 \n",
      " 42  시간대_건수~11_매출_건수  62856 non-null  int64 \n",
      " 43  시간대_건수~14_매출_건수  62856 non-null  int64 \n",
      " 44  시간대_건수~17_매출_건수  62856 non-null  int64 \n",
      " 45  시간대_건수~21_매출_건수  62856 non-null  int64 \n",
      " 46  시간대_건수~24_매출_건수  62856 non-null  int64 \n",
      " 47  남성_매출_건수         62856 non-null  int64 \n",
      " 48  여성_매출_건수         62856 non-null  int64 \n",
      " 49  연령대_10_매출_건수     62856 non-null  int64 \n",
      " 50  연령대_20_매출_건수     62856 non-null  int64 \n",
      " 51  연령대_30_매출_건수     62856 non-null  int64 \n",
      " 52  연령대_40_매출_건수     62856 non-null  int64 \n",
      " 53  연령대_50_매출_건수     62856 non-null  int64 \n",
      " 54  연령대_60_이상_매출_건수  62856 non-null  int64 \n",
      "dtypes: int64(50), object(5)\n",
      "memory usage: 26.4+ MB\n"
     ]
    }
   ],
   "source": [
    "mainn.info()"
   ]
  },
  {
   "cell_type": "code",
   "execution_count": 3,
   "metadata": {},
   "outputs": [
    {
     "name": "stdout",
     "output_type": "stream",
     "text": [
      "<class 'pandas.core.frame.DataFrame'>\n",
      "RangeIndex: 1650 entries, 0 to 1649\n",
      "Data columns (total 11 columns):\n",
      " #   Column      Non-Null Count  Dtype \n",
      "---  ------      --------------  ----- \n",
      " 0   상권_구분_코드    1650 non-null   object\n",
      " 1   상권_구분_코드_명  1650 non-null   object\n",
      " 2   상권_코드       1650 non-null   int64 \n",
      " 3   상권_코드_명     1650 non-null   object\n",
      " 4   엑스좌표_값      1650 non-null   int64 \n",
      " 5   와이좌표_값      1650 non-null   int64 \n",
      " 6   자치구_코드      1650 non-null   int64 \n",
      " 7   자치구_코드_명    1650 non-null   object\n",
      " 8   행정동_코드      1650 non-null   int64 \n",
      " 9   행정동_코드_명    1650 non-null   object\n",
      " 10  영역_면적       1650 non-null   int64 \n",
      "dtypes: int64(6), object(5)\n",
      "memory usage: 141.9+ KB\n"
     ]
    }
   ],
   "source": [
    "namee.info()"
   ]
  },
  {
   "cell_type": "code",
   "execution_count": 5,
   "metadata": {},
   "outputs": [],
   "source": [
    "b = pd.read_csv(\"최종파일2.csv\", encoding='cp949')"
   ]
  },
  {
   "cell_type": "code",
   "execution_count": 6,
   "metadata": {},
   "outputs": [
    {
     "name": "stdout",
     "output_type": "stream",
     "text": [
      "<class 'pandas.core.frame.DataFrame'>\n",
      "RangeIndex: 1230768 entries, 0 to 1230767\n",
      "Data columns (total 14 columns):\n",
      " #   Column       Non-Null Count    Dtype  \n",
      "---  ------       --------------    -----  \n",
      " 0   Unnamed: 0   1230768 non-null  int64  \n",
      " 1   기준_년분기_코드    1230768 non-null  object \n",
      " 2   자치구_코드_명     1230768 non-null  object \n",
      " 3   서비스_업종_코드_명  1230768 non-null  object \n",
      " 4   당월_매출_금액     1230768 non-null  float64\n",
      " 5   당월_매출_건수     1230768 non-null  int64  \n",
      " 6   주중_매출_금액     1230768 non-null  float64\n",
      " 7   주말_매출_금액     1230768 non-null  float64\n",
      " 8   남성_매출_금액     1230768 non-null  float64\n",
      " 9   여성_매출_금액     1230768 non-null  float64\n",
      " 10  요일           1230768 non-null  object \n",
      " 11  요일별_매출_금액    1230768 non-null  float64\n",
      " 12  나이           1230768 non-null  object \n",
      " 13  나이별_매출_금액    1230768 non-null  float64\n",
      "dtypes: float64(7), int64(2), object(5)\n",
      "memory usage: 131.5+ MB\n"
     ]
    }
   ],
   "source": [
    "b.info()"
   ]
  },
  {
   "cell_type": "code",
   "execution_count": null,
   "metadata": {},
   "outputs": [],
   "source": []
  }
 ],
 "metadata": {
  "kernelspec": {
   "display_name": "Python 3",
   "language": "python",
   "name": "python3"
  },
  "language_info": {
   "codemirror_mode": {
    "name": "ipython",
    "version": 3
   },
   "file_extension": ".py",
   "mimetype": "text/x-python",
   "name": "python",
   "nbconvert_exporter": "python",
   "pygments_lexer": "ipython3",
   "version": "3.12.2"
  }
 },
 "nbformat": 4,
 "nbformat_minor": 2
}
