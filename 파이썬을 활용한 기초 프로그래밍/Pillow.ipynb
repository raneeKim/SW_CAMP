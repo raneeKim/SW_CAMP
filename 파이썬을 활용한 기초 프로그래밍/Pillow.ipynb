{
 "cells": [
  {
   "cell_type": "code",
   "execution_count": 2,
   "metadata": {},
   "outputs": [],
   "source": [
    "from PIL import Image,ImageTk,ImageFilter\n",
    "import tkinter as tk"
   ]
  },
  {
   "cell_type": "code",
   "execution_count": 3,
   "metadata": {},
   "outputs": [],
   "source": [
    "# 윈도우를 생성하고 윈도우 안에 캔버스를 생성\n",
    "window = tk.Tk()\n",
    "canvas = tk.Canvas(window, width=1200,height=900)\n",
    "canvas.pack()\n",
    "\n",
    "# 파일 불러오기\n",
    "img = Image.open('image1.jpg')\n",
    "\n",
    "# tk 형식으로 이미지 변환\n",
    "tk_image = ImageTk.PhotoImage(img)\n",
    "\n",
    "# tkinter의 캔버스에 이미지 표시\n",
    "canvas.create_image(500,500, image=tk_image)\n",
    "\n",
    "window.mainloop()"
   ]
  },
  {
   "cell_type": "code",
   "execution_count": 4,
   "metadata": {},
   "outputs": [],
   "source": [
    "# 윈도우를 생성하고 윈도우 안에 캔버스를 생성\n",
    "window = tk.Tk()\n",
    "canvas = tk.Canvas(window, width=1200,height=900)\n",
    "canvas.pack()\n",
    "\n",
    "# 파일 불러오기\n",
    "im = Image.open('image1.jpg')\n",
    "\n",
    "# 45도 회전\n",
    "out = im.rotate(45)\n",
    "\n",
    "# tk 형식으로 이미지 변환\n",
    "tk_image = ImageTk.PhotoImage(out)\n",
    "# tkinter의 캔버스에 이미지 표시\n",
    "canvas.create_image(500,500, image=tk_image)\n",
    "\n",
    "window.mainloop()"
   ]
  },
  {
   "cell_type": "code",
   "execution_count": 5,
   "metadata": {},
   "outputs": [],
   "source": [
    "# 윈도우를 생성하고 윈도우 안에 캔버스를 생성\n",
    "window = tk.Tk()\n",
    "canvas = tk.Canvas(window, width=1200,height=900)\n",
    "canvas.pack()\n",
    "\n",
    "# 파일 불러오기\n",
    "im = Image.open('image1.jpg')\n",
    "\n",
    "# 블러처리\n",
    "out = im.filter(ImageFilter.BLUR)\n",
    "\n",
    "# tk 형식으로 이미지 변환\n",
    "tk_image = ImageTk.PhotoImage(out)\n",
    "# tkinter의 캔버스에 이미지 표시\n",
    "canvas.create_image(500,500, image=tk_image)\n",
    "\n",
    "window.mainloop()"
   ]
  },
  {
   "cell_type": "code",
   "execution_count": 6,
   "metadata": {},
   "outputs": [],
   "source": [
    "import tkinter as tk\n",
    "\n",
    "def open():\n",
    "    pass\n",
    "\n",
    "def quit():\n",
    "    window.quit()\n",
    "\n",
    "window = tk.Tk()\n",
    "menubar = tk.Menu(window)\n",
    "filemenu = tk.Menu(menubar)\n",
    "\n",
    "filemenu.add_command(label='열기',command=open)\n",
    "filemenu.add_command(label='종료',command=quit)\n",
    "\n",
    "menubar.add_cascade(label='파일', menu=filemenu)\n",
    "\n",
    "window.config(menu=menubar)\n",
    "window.mainloop()"
   ]
  },
  {
   "cell_type": "code",
   "execution_count": 17,
   "metadata": {},
   "outputs": [],
   "source": [
    "from PIL import Image,ImageTk,ImageFilter\n",
    "import tkinter as tk\n",
    "from tkinter import filedialog as fd\n",
    "\n",
    "im = None\n",
    "tk_img = None\n",
    "\n",
    "def open() :\n",
    "    global im, tk_img\n",
    "    fname = fd.askopenfilename()\n",
    "    im = Image.open(fname)\n",
    "    tk_img = ImageTk.PhotoImage(im)\n",
    "    canvas.create_image(500,500,image=tk_img)\n",
    "    window.update()\n",
    "\n",
    "def quit():\n",
    "    window.destroy()\n",
    "    window.quit()\n",
    "\n",
    "def image_rotate() :\n",
    "    global im, tk_img\n",
    "    out= im.rotate(45)\n",
    "    tk_img = ImageTk.PhotoImage(out)\n",
    "    canvas.create_image(500,500,image=tk_img)\n",
    "    window.update()\n",
    "\n",
    "def image_blur() :\n",
    "    global im, tk_img\n",
    "    out = im.filter(ImageFilter.BLUR)\n",
    "    tk_img = ImageTk.PhotoImage(out)\n",
    "    canvas.create_image(500,500, image=tk_img)\n",
    "\n",
    "window = tk.Tk()\n",
    "canvas = tk.Canvas(window, width=1200, height=1000)"
   ]
  },
  {
   "cell_type": "code",
   "execution_count": 18,
   "metadata": {},
   "outputs": [],
   "source": [
    "menubar = tk.Menu(window)\n",
    "filemenu = tk.Menu(menubar)\n",
    "ipmenu = tk.Menu(menubar)\n",
    "filemenu.add_command(label='열기',command=open)\n",
    "filemenu.add_command(label='종료',command=quit)\n",
    "ipmenu.add_command(label='영상회전',command=image_rotate)\n",
    "ipmenu.add_command(label='영상흐리게',command=image_blur)\n",
    "menubar.add_cascade(label='파일',menu=filemenu)\n",
    "menubar.add_cascade(label='영상처리',menu=ipmenu)\n",
    "\n",
    "window.config(menu=menubar)\n",
    "window.mainloop()"
   ]
  },
  {
   "cell_type": "code",
   "execution_count": null,
   "metadata": {},
   "outputs": [],
   "source": []
  }
 ],
 "metadata": {
  "kernelspec": {
   "display_name": "Python 3",
   "language": "python",
   "name": "python3"
  },
  "language_info": {
   "codemirror_mode": {
    "name": "ipython",
    "version": 3
   },
   "file_extension": ".py",
   "mimetype": "text/x-python",
   "name": "python",
   "nbconvert_exporter": "python",
   "pygments_lexer": "ipython3",
   "version": "3.12.2"
  }
 },
 "nbformat": 4,
 "nbformat_minor": 2
}
