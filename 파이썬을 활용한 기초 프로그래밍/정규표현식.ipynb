{
 "cells": [
  {
   "cell_type": "markdown",
   "metadata": {},
   "source": []
  },
  {
   "cell_type": "code",
   "execution_count": 1,
   "metadata": {},
   "outputs": [],
   "source": [
    "import re"
   ]
  },
  {
   "cell_type": "code",
   "execution_count": 4,
   "metadata": {},
   "outputs": [],
   "source": [
    "p = re.compile('[a-z]+')"
   ]
  },
  {
   "cell_type": "markdown",
   "metadata": {},
   "source": [
    "Match : 문자열의 처음 시작을 기준으로 찾기"
   ]
  },
  {
   "cell_type": "code",
   "execution_count": 11,
   "metadata": {},
   "outputs": [
    {
     "name": "stdout",
     "output_type": "stream",
     "text": [
      "<re.Match object; span=(0, 6), match='python'>\n"
     ]
    }
   ],
   "source": [
    "m = p.match('python')\n",
    "print(m)"
   ]
  },
  {
   "cell_type": "code",
   "execution_count": 12,
   "metadata": {},
   "outputs": [
    {
     "name": "stdout",
     "output_type": "stream",
     "text": [
      "python\n",
      "0\n",
      "6\n",
      "(0, 6)\n"
     ]
    }
   ],
   "source": [
    "print(m.group())\n",
    "print(m.start())\n",
    "print(m.end()) \n",
    "print(m.span())"
   ]
  },
  {
   "cell_type": "code",
   "execution_count": 8,
   "metadata": {},
   "outputs": [
    {
     "name": "stdout",
     "output_type": "stream",
     "text": [
      "None\n"
     ]
    }
   ],
   "source": [
    "m = p.match('3python')\n",
    "print(m)"
   ]
  },
  {
   "cell_type": "code",
   "execution_count": 20,
   "metadata": {},
   "outputs": [
    {
     "name": "stdout",
     "output_type": "stream",
     "text": [
      "Match found:  life\n"
     ]
    }
   ],
   "source": [
    "m = p.match('life Is too short')\n",
    "if m :\n",
    "    print('Match found: ', m.group())\n",
    "else :\n",
    "    print('No match')"
   ]
  },
  {
   "cell_type": "markdown",
   "metadata": {},
   "source": [
    "Search 함수 : 문자열 전체를 기준으로 찾는다"
   ]
  },
  {
   "cell_type": "code",
   "execution_count": 16,
   "metadata": {},
   "outputs": [
    {
     "data": {
      "text/plain": [
       "<re.Match object; span=(1, 7), match='python'>"
      ]
     },
     "execution_count": 16,
     "metadata": {},
     "output_type": "execute_result"
    }
   ],
   "source": [
    "m = p.search('3python')\n",
    "m"
   ]
  },
  {
   "cell_type": "markdown",
   "metadata": {},
   "source": [
    "Findall : match 된 모든 단어를 찾기"
   ]
  },
  {
   "cell_type": "code",
   "execution_count": 21,
   "metadata": {},
   "outputs": [
    {
     "data": {
      "text/plain": [
       "['ife', 'is', 'too', 'short']"
      ]
     },
     "execution_count": 21,
     "metadata": {},
     "output_type": "execute_result"
    }
   ],
   "source": [
    "m = p.findall('Life is too short')\n",
    "m"
   ]
  },
  {
   "cell_type": "markdown",
   "metadata": {},
   "source": [
    "Finditer :"
   ]
  },
  {
   "cell_type": "code",
   "execution_count": 22,
   "metadata": {},
   "outputs": [
    {
     "name": "stdout",
     "output_type": "stream",
     "text": [
      "<callable_iterator object at 0x000001904D3386D0>\n",
      "<re.Match object; span=(1, 4), match='ife'>\n",
      "<re.Match object; span=(5, 7), match='is'>\n",
      "<re.Match object; span=(8, 11), match='too'>\n",
      "<re.Match object; span=(12, 17), match='short'>\n"
     ]
    }
   ],
   "source": [
    "result = p.finditer(\"Life is too short\")\n",
    "print(result)\n",
    "\n",
    "for r in result : print(r) "
   ]
  },
  {
   "cell_type": "code",
   "execution_count": 24,
   "metadata": {},
   "outputs": [
    {
     "data": {
      "text/plain": [
       "<re.Match object; span=(0, 6), match='python'>"
      ]
     },
     "execution_count": 24,
     "metadata": {},
     "output_type": "execute_result"
    }
   ],
   "source": [
    "m = re.match('[a-z]+','python is good')\n",
    "m"
   ]
  },
  {
   "cell_type": "code",
   "execution_count": 28,
   "metadata": {},
   "outputs": [],
   "source": [
    "import re\n",
    "p = re.compile(r'^python\\s\\w+')"
   ]
  },
  {
   "cell_type": "code",
   "execution_count": 29,
   "metadata": {},
   "outputs": [
    {
     "name": "stdout",
     "output_type": "stream",
     "text": [
      "python one\n",
      "python two\n",
      "you need python\n",
      "python three\n",
      "\n"
     ]
    }
   ],
   "source": [
    "data = \"\"\"python one\n",
    "python two\n",
    "you need python\n",
    "python three\n",
    "\"\"\"\n",
    "print(data)"
   ]
  },
  {
   "cell_type": "code",
   "execution_count": 30,
   "metadata": {},
   "outputs": [
    {
     "name": "stdout",
     "output_type": "stream",
     "text": [
      "['python one']\n"
     ]
    }
   ],
   "source": [
    "print(p.findall(data))"
   ]
  },
  {
   "cell_type": "code",
   "execution_count": 31,
   "metadata": {},
   "outputs": [
    {
     "name": "stdout",
     "output_type": "stream",
     "text": [
      "[]\n"
     ]
    }
   ],
   "source": [
    "p = re.compile(r'^python\\s\\'w+', re.MULTILINE)\n",
    "print(p.findall(data))"
   ]
  },
  {
   "cell_type": "code",
   "execution_count": 1,
   "metadata": {},
   "outputs": [
    {
     "name": "stdout",
     "output_type": "stream",
     "text": [
      "<re.Match object; span=(0, 3), match='abc'>\n",
      "abc\n"
     ]
    }
   ],
   "source": [
    "r=re.compile(\"a.c\") # a와 c 사이에는 어떤 1개의 문자라도 올 수 있습니다. \n",
    "                    # 즉, akc, azc, avc, a5c, a!c와 같은 형태는 모두 a.c의 정규 표현식과 매치\n",
    "r.search(\"kkk\") # 아무런 결과도 출력되지 않는다.\n",
    "\n",
    "\n",
    "\n",
    "out = r.search('abc')\n",
    "print(out)\n",
    "print(out.string)"
   ]
  },
  {
   "cell_type": "code",
   "execution_count": 20,
   "metadata": {},
   "outputs": [
    {
     "name": "stdout",
     "output_type": "stream",
     "text": [
      "국내 증권업계에서 베트남은 매력적이긴 하나 수익을 내기 어려운 국가라는 인식이 강했다.\n",
      "10년 전 전세계를 강타한 글로벌 금융위기로 베트남 증시가 휘청이면서 당시 국내에 설정된 베트남 펀드 수익률이 크게 꺾인 아픔도 있다.\n",
      "하지만 최근 들어 한국 금융투자업계가 베트남 시장의 문을 다시 두드리기 시작했다.\n",
      "베트남 정부의 적극적인 외국인 투자 유치 정책이 효과를 발휘하면서 베트남 증시는 2017년 한 해 동안 40% 이상 상승했다.\n",
      "베트남 펀드 수익률도 다시 고공비행 중이다.\n",
      "인구 1억명의 베트남은 전체 인구의 70%가 생산가능인구(15~64세)인 젊은 국가다.\n",
      "30세 미만 인구 비중은 주요 신흥국 가운데 인도와 인도네시아 다음으로 높다.\n",
      "전문가들은 “베트남의 무서운 경제 성장세가 2018년에도 지속될 것”이라고 내다봤다.\n",
      "KB증권은 지난달 29일(현지시간) 베트남 하노이에서 자회사 ‘KBSV(KB Securities Vietnam)’의 공식 출범 행사를 개최했다.\n",
      "KBSV의 전신(前身)은 베트남 증권사인 매리타임증권이다. KB증권은 2017년 10월 매리타임증권을 인수한 뒤 약 3달간 재출범 준비를 해왔다.\n",
      "매리타임증권은 베트남에서 자산 기준 27위, 자기자본 기준 24위의 중소형 증권사였다.\n",
      "KB증권은 KBSV를 베트남 선두권 증권사로 육성한다는 계획이다.\n",
      "베트남에 진출했거나 진출 예정인 한국 기업을 위한 인수합병(M&A) 자문, 자금조달 주선, 신사업 추진 컨설팅 등도 지원할 예정이다.\n",
      "\n"
     ]
    }
   ],
   "source": [
    "fi = open('./news.txt', encoding = \"UTF8\")\n",
    "txt = fi.read()\n",
    "fi.close()\n",
    "print(txt)"
   ]
  },
  {
   "cell_type": "code",
   "execution_count": 21,
   "metadata": {},
   "outputs": [],
   "source": [
    "pattern = r'\\d+%' #숫자로 시작되면서 %로 시작하는것\n",
    "regexp = re.compile(pattern)"
   ]
  },
  {
   "cell_type": "code",
   "execution_count": 24,
   "metadata": {},
   "outputs": [
    {
     "name": "stdout",
     "output_type": "stream",
     "text": [
      "None\n"
     ]
    }
   ],
   "source": [
    "match1 = regexp.match(txt)\n",
    "print(match1)  # 문자열 처음부터 숫자%로 시작안하기 때문에 당연히 결과가 없다."
   ]
  },
  {
   "cell_type": "code",
   "execution_count": 36,
   "metadata": {},
   "outputs": [
    {
     "name": "stdout",
     "output_type": "stream",
     "text": [
      "<re.Match object; span=(229, 232), match='40%'>\n",
      "40%\n",
      "40%\n"
     ]
    },
    {
     "ename": "IndexError",
     "evalue": "no such group",
     "output_type": "error",
     "traceback": [
      "\u001b[1;31m---------------------------------------------------------------------------\u001b[0m",
      "\u001b[1;31mIndexError\u001b[0m                                Traceback (most recent call last)",
      "Cell \u001b[1;32mIn[36], line 5\u001b[0m\n\u001b[0;32m      3\u001b[0m \u001b[38;5;28mprint\u001b[39m(match2\u001b[38;5;241m.\u001b[39mgroup())  \u001b[38;5;66;03m# 찾은것을 표현할때 사용하는 함수\u001b[39;00m\n\u001b[0;32m      4\u001b[0m \u001b[38;5;28mprint\u001b[39m(match2\u001b[38;5;241m.\u001b[39mgroup(\u001b[38;5;241m0\u001b[39m))\n\u001b[1;32m----> 5\u001b[0m \u001b[38;5;28mprint\u001b[39m(\u001b[43mmatch2\u001b[49m\u001b[38;5;241;43m.\u001b[39;49m\u001b[43mgroup\u001b[49m\u001b[43m(\u001b[49m\u001b[38;5;241;43m1\u001b[39;49m\u001b[43m)\u001b[49m) \u001b[38;5;66;03m# group(1)으로 지칭될 만한 것을 정규표현식에서 ()로 따로 표현하지 않았기 때문에, 에러\u001b[39;00m\n",
      "\u001b[1;31mIndexError\u001b[0m: no such group"
     ]
    }
   ],
   "source": [
    "match2 = regexp.search(txt)\n",
    "print(match2)\n",
    "print(match2.group())  # 찾은것을 표현할때 사용하는 함수\n",
    "print(match2.group(0))\n",
    "print(match2.group(1)) # group(1)으로 지칭될 만한 것을 정규표현식에서 ()로 따로 표현하지 않았기 때문에, 에러"
   ]
  },
  {
   "cell_type": "code",
   "execution_count": 31,
   "metadata": {},
   "outputs": [
    {
     "name": "stdout",
     "output_type": "stream",
     "text": [
      "['40%', '70%']\n",
      "40%\n",
      "70%\n"
     ]
    },
    {
     "ename": "IndexError",
     "evalue": "list index out of range",
     "output_type": "error",
     "traceback": [
      "\u001b[1;31m---------------------------------------------------------------------------\u001b[0m",
      "\u001b[1;31mIndexError\u001b[0m                                Traceback (most recent call last)",
      "Cell \u001b[1;32mIn[31], line 5\u001b[0m\n\u001b[0;32m      3\u001b[0m \u001b[38;5;28mprint\u001b[39m(match3[\u001b[38;5;241m0\u001b[39m])\n\u001b[0;32m      4\u001b[0m \u001b[38;5;28mprint\u001b[39m(match3[\u001b[38;5;241m1\u001b[39m])\n\u001b[1;32m----> 5\u001b[0m \u001b[38;5;28mprint\u001b[39m(\u001b[43mmatch3\u001b[49m\u001b[43m[\u001b[49m\u001b[38;5;241;43m2\u001b[39;49m\u001b[43m]\u001b[49m)\n",
      "\u001b[1;31mIndexError\u001b[0m: list index out of range"
     ]
    }
   ],
   "source": [
    "match3 = regexp.findall(txt)\n",
    "print(match3)\n",
    "print(match3[0])\n",
    "print(match3[1])"
   ]
  },
  {
   "cell_type": "code",
   "execution_count": 45,
   "metadata": {},
   "outputs": [
    {
     "name": "stdout",
     "output_type": "stream",
     "text": [
      "2021-01-06\n"
     ]
    },
    {
     "ename": "IndexError",
     "evalue": "no such group",
     "output_type": "error",
     "traceback": [
      "\u001b[1;31m---------------------------------------------------------------------------\u001b[0m",
      "\u001b[1;31mIndexError\u001b[0m                                Traceback (most recent call last)",
      "Cell \u001b[1;32mIn[45], line 4\u001b[0m\n\u001b[0;32m      2\u001b[0m m \u001b[38;5;241m=\u001b[39m re\u001b[38;5;241m.\u001b[39msearch(\u001b[38;5;124m'\u001b[39m\u001b[38;5;124m[0-9]\u001b[39m\u001b[38;5;132;01m{4}\u001b[39;00m\u001b[38;5;124m-[0-9]\u001b[39m\u001b[38;5;132;01m{2}\u001b[39;00m\u001b[38;5;124m-[0-9]\u001b[39m\u001b[38;5;132;01m{2}\u001b[39;00m\u001b[38;5;124m'\u001b[39m, s) \n\u001b[0;32m      3\u001b[0m \u001b[38;5;28mprint\u001b[39m(m\u001b[38;5;241m.\u001b[39mgroup()) \n\u001b[1;32m----> 4\u001b[0m \u001b[38;5;28mprint\u001b[39m(\u001b[43mm\u001b[49m\u001b[38;5;241;43m.\u001b[39;49m\u001b[43mgroup\u001b[49m\u001b[43m(\u001b[49m\u001b[38;5;241;43m1\u001b[39;49m\u001b[43m)\u001b[49m) \u001b[38;5;66;03m# 에러 group()할게 없음\u001b[39;00m\n",
      "\u001b[1;31mIndexError\u001b[0m: no such group"
     ]
    }
   ],
   "source": [
    "s = '안녕하세요. 새해 복 많이 받으세요. 글은 2021-01-06에 썼어요'\n",
    "m = re.search('[0-9]{4}-[0-9]{2}-[0-9]{2}', s) \n",
    "print(m.group()) \n",
    "print(m.group(1)) # 에러 group()할게 없음"
   ]
  },
  {
   "cell_type": "code",
   "execution_count": 44,
   "metadata": {},
   "outputs": [
    {
     "name": "stdout",
     "output_type": "stream",
     "text": [
      "2021-01-06\n",
      "2021-01-06\n",
      "2021\n",
      "01\n"
     ]
    }
   ],
   "source": [
    "s = '안녕하세요. 새해 복 많이 받으세요. 글은 2021-01-06에 썼어요'\n",
    "m = re.search('([0-9]{4})-([0-9]{2})-([0-9]{2})', s)  # search로 나온 결과를 소괄호에 넣었음\n",
    "print(m.group())\n",
    "print(m.group(0)) \n",
    "print(m.group(1)) \n",
    "print(m.group(2))"
   ]
  },
  {
   "cell_type": "markdown",
   "metadata": {},
   "source": [
    "다음은 % 기호가 붙은 부분에서 % 기호를 제외한 나머지 부분을 추출하는 예이다."
   ]
  },
  {
   "cell_type": "code",
   "execution_count": 52,
   "metadata": {},
   "outputs": [
    {
     "name": "stdout",
     "output_type": "stream",
     "text": [
      "<re.Match object; span=(229, 232), match='40%'>\n",
      "40%\n",
      "40\n"
     ]
    }
   ],
   "source": [
    "pattern = r'(\\d+)%'  # 여기서는 정규식에 () 기호가 쓰여서, -> group으로 인지...group(1)\n",
    "regexp = re.compile(pattern)\n",
    "match = regexp.search(txt)\n",
    "print(match)\n",
    "print(match.group()) # group()은 매치되는 문자열 모두를 반환\n",
    "print(match.group(1)) # ()안의 내용 매치"
   ]
  },
  {
   "cell_type": "code",
   "execution_count": 53,
   "metadata": {},
   "outputs": [
    {
     "name": "stdout",
     "output_type": "stream",
     "text": [
      "['40', '70']\n"
     ]
    }
   ],
   "source": [
    "matches = regexp.findall(txt)\n",
    "print(matches)"
   ]
  },
  {
   "cell_type": "markdown",
   "metadata": {},
   "source": [
    "다음은 괄호로 감싼 부분만 찾아서 괄호 속만 추출하는 예이다."
   ]
  },
  {
   "cell_type": "code",
   "execution_count": 60,
   "metadata": {},
   "outputs": [
    {
     "name": "stdout",
     "output_type": "stream",
     "text": [
      "re.compile('\\\\((.+?)\\\\)')\n",
      "re.compile('\\\\((.+)\\\\)')\n"
     ]
    }
   ],
   "source": [
    "pattern = r'\\((.+?)\\)'\n",
    "pattern1 =r'\\((.+)\\)'\n",
    "regexp = re.compile(pattern)\n",
    "print(regexp)\n",
    "regexp1 = re.compile(pattern1)\n",
    "print(regexp1)\n"
   ]
  },
  {
   "cell_type": "code",
   "execution_count": 61,
   "metadata": {},
   "outputs": [
    {
     "name": "stdout",
     "output_type": "stream",
     "text": [
      "['15~64세', '현지시간', 'KB Securities Vietnam', '前身', 'M&A']\n",
      "['15~64세', '현지시간) 베트남 하노이에서 자회사 ‘KBSV(KB Securities Vietnam', '前身', 'M&A']\n"
     ]
    }
   ],
   "source": [
    "matches = regexp.findall(txt)\n",
    "print(matches)\n",
    "matches1 = regexp1.findall(txt)\n",
    "print(matches1)"
   ]
  },
  {
   "cell_type": "markdown",
   "metadata": {},
   "source": [
    "메타문자 ( . ? $ )들을 원래 문자로 사용하기"
   ]
  },
  {
   "cell_type": "code",
   "execution_count": 65,
   "metadata": {},
   "outputs": [
    {
     "name": "stdout",
     "output_type": "stream",
     "text": [
      "(10, 16)\n",
      "안녕하세요?\n",
      "(4, 9)\n",
      "안녕하세요\n"
     ]
    },
    {
     "name": "stderr",
     "output_type": "stream",
     "text": [
      "<>:2: SyntaxWarning: invalid escape sequence '\\?'\n",
      "<>:2: SyntaxWarning: invalid escape sequence '\\?'\n",
      "C:\\Users\\UserK\\AppData\\Local\\Temp\\ipykernel_9896\\3094382133.py:2: SyntaxWarning: invalid escape sequence '\\?'\n",
      "  m1 = re.search('안녕하세요\\?', s)\n"
     ]
    }
   ],
   "source": [
    "s = '오늘은 안녕하세요.안녕하세요?'\n",
    "m1 = re.search('안녕하세요\\?', s)\n",
    "print(m1.span()) \n",
    "print(m1.group())\n",
    "\n",
    "m2 = re.search('안녕하세요?', s)\n",
    "print(m2.span())\n",
    "print(m2.group())\n"
   ]
  },
  {
   "cell_type": "code",
   "execution_count": null,
   "metadata": {},
   "outputs": [],
   "source": []
  }
 ],
 "metadata": {
  "kernelspec": {
   "display_name": "Python 3",
   "language": "python",
   "name": "python3"
  },
  "language_info": {
   "codemirror_mode": {
    "name": "ipython",
    "version": 3
   },
   "file_extension": ".py",
   "mimetype": "text/x-python",
   "name": "python",
   "nbconvert_exporter": "python",
   "pygments_lexer": "ipython3",
   "version": "3.12.2"
  }
 },
 "nbformat": 4,
 "nbformat_minor": 2
}
