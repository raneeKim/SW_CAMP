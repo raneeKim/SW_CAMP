{
 "cells": [
  {
   "cell_type": "code",
   "execution_count": 1,
   "metadata": {},
   "outputs": [],
   "source": [
    "class BankAccount :\n",
    "\n",
    "    def __init__(self,name,account_num) :\n",
    "        self.name = name\n",
    "        self.account_num = account_num\n",
    "        self.balance = 0\n",
    "\n",
    "    def deposit(self,money) :\n",
    "        self.balance += money\n",
    "    \n",
    "    def withraw(self,money) :\n",
    "        if self.balance < money :\n",
    "            print('계좌 잔고는 {}원으로 인출 요구 금액 {}원보다 작습니다.'.format(self.balance,money))\n",
    "        else :\n",
    "            self.balance -= money\n",
    "\n",
    "    def __str__(self) :\n",
    "        return '{}의 계좌 {}의 잔고는 {}원 입니다.'.format(self.name,self.account_num,self.balance)"
   ]
  },
  {
   "cell_type": "code",
   "execution_count": 2,
   "metadata": {},
   "outputs": [
    {
     "name": "stdout",
     "output_type": "stream",
     "text": [
      "홍길동의 계좌 1234-0001의 잔고는 0원 입니다.\n"
     ]
    }
   ],
   "source": [
    "account1 = BankAccount('홍길동','1234-0001')\n",
    "print(account1)"
   ]
  },
  {
   "cell_type": "code",
   "execution_count": 3,
   "metadata": {},
   "outputs": [
    {
     "name": "stdout",
     "output_type": "stream",
     "text": [
      "홍길동의 계좌 1234-0001의 잔고는 2000원 입니다.\n"
     ]
    }
   ],
   "source": [
    "account1.deposit(2000)\n",
    "print(account1)"
   ]
  },
  {
   "cell_type": "code",
   "execution_count": 4,
   "metadata": {},
   "outputs": [
    {
     "name": "stdout",
     "output_type": "stream",
     "text": [
      "홍길동의 계좌 1234-0001의 잔고는 1500원 입니다.\n"
     ]
    }
   ],
   "source": [
    "account1.withraw(500)\n",
    "print(account1)"
   ]
  },
  {
   "cell_type": "code",
   "execution_count": 5,
   "metadata": {},
   "outputs": [
    {
     "name": "stdout",
     "output_type": "stream",
     "text": [
      "계좌 잔고는 1500원으로 인출 요구 금액 5000원보다 작습니다.\n"
     ]
    }
   ],
   "source": [
    "account1.withraw(5000)"
   ]
  }
 ],
 "metadata": {
  "kernelspec": {
   "display_name": "Python 3",
   "language": "python",
   "name": "python3"
  },
  "language_info": {
   "codemirror_mode": {
    "name": "ipython",
    "version": 3
   },
   "file_extension": ".py",
   "mimetype": "text/x-python",
   "name": "python",
   "nbconvert_exporter": "python",
   "pygments_lexer": "ipython3",
   "version": "3.12.2"
  }
 },
 "nbformat": 4,
 "nbformat_minor": 2
}
