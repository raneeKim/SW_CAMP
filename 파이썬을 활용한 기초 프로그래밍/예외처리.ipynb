{
 "cells": [
  {
   "cell_type": "code",
   "execution_count": 5,
   "metadata": {},
   "outputs": [
    {
     "name": "stdout",
     "output_type": "stream",
     "text": [
      "파일존재X\n"
     ]
    }
   ],
   "source": [
    "fname = input()\n",
    "\n",
    "while fname :\n",
    "    try :\n",
    "        myfile = open(fname,'r')\n",
    "        print(myfile)\n",
    "        fname = input()\n",
    "    except :\n",
    "        print('파일존재X')\n",
    "        fname = '' # 무한루프 방지를 위해"
   ]
  },
  {
   "cell_type": "code",
   "execution_count": 6,
   "metadata": {},
   "outputs": [
    {
     "name": "stdout",
     "output_type": "stream",
     "text": [
      "파일존재X\n"
     ]
    }
   ],
   "source": [
    "fname =  input()\n",
    "\n",
    "try :\n",
    "    myfile = open(fname,'r')\n",
    "    print(myfile)+\n",
    "    fname = input()\n",
    "except :\n",
    "    print('파일존재X')\n"
   ]
  },
  {
   "cell_type": "code",
   "execution_count": null,
   "metadata": {},
   "outputs": [],
   "source": [
    "fname = input()\n",
    "\n",
    "while fname :\n",
    "    try :\n",
    "        myfile = open(fname,'r')\n",
    "        print(myfile)\n",
    "        fname = input()\n",
    "    except :\n",
    "        print('파일존재X')\n",
    "        fname = input()"
   ]
  },
  {
   "cell_type": "code",
   "execution_count": 3,
   "metadata": {},
   "outputs": [
    {
     "name": "stdout",
     "output_type": "stream",
     "text": [
      "입력오류\n",
      "입력오류\n",
      "1월 2일\n"
     ]
    }
   ],
   "source": [
    "days = (31,29,31,30,31,30,31,31,30,31,30,31)\n",
    "date = True\n",
    "\n",
    "while date :\n",
    "    try : \n",
    "        date =  input('날짜 <월 일>을 입력하세요 : ')\n",
    "        mm,dd = date.split()\n",
    "        mm,dd = int(mm), int(dd)\n",
    "        while mm<1 or mm>12 or dd<1 or dd>days[mm-1] : # 범위확인\n",
    "            date = input('월/일 오류 다시 입력하세요 : ') # 범위가 틀렸을 때 출력되는 문장 및 입력 하는 과정 반복\n",
    "            mm,dd = date.split()\n",
    "            mm,dd = int(mm), int(dd)\n",
    "    except :\n",
    "        print('입력오류') # 입력된 데이터가 오류일경우, 문장 출력 후 아직 date는 True이므로 다시 while문 다시 반복\n",
    "    else :\n",
    "        print('%d월 %d일' %(mm,dd))\n",
    "        date = False"
   ]
  },
  {
   "cell_type": "code",
   "execution_count": 8,
   "metadata": {},
   "outputs": [
    {
     "name": "stdout",
     "output_type": "stream",
     "text": [
      "예외가 발생 했습니다. 3의배수가 아닙니다.\n"
     ]
    }
   ],
   "source": [
    "try :\n",
    "    x = int(input('3의 배수를 입력하세요 : '))\n",
    "    if x % 3 != 0 :\n",
    "        raise Exception('3의배수가 아닙니다.')\n",
    "    print(x)\n",
    "except Exception as e :\n",
    "    print('예외가 발생 했습니다.' , e)"
   ]
  },
  {
   "cell_type": "code",
   "execution_count": 9,
   "metadata": {},
   "outputs": [
    {
     "name": "stdout",
     "output_type": "stream",
     "text": [
      "입력오류 월은 1에서 12까지\n",
      "입력오류 not enough values to unpack (expected 2, got 1)\n",
      "입력오류 일은 1에서 31까지\n",
      "12월 31일\n"
     ]
    }
   ],
   "source": [
    "days = (31,29,31,30,31,30,31,31,30,31,30,31)\n",
    "date = True\n",
    "\n",
    "while date :\n",
    "    try : \n",
    "        date =  input('날짜 <월 일>을 입력하세요 : ')\n",
    "        mm,dd = date.split()\n",
    "        mm,dd = int(mm), int(dd)\n",
    "        if mm<1 or mm>12  : # 범위확인\n",
    "            raise ValueError('월은 1에서 12까지')\n",
    "        if  dd<1 or dd>days[mm-1] :\n",
    "            raise ValueError('일은 1에서 %d까지' %days[mm-1])\n",
    "    except ValueError as e :\n",
    "        print('입력오류 : ' , e)\n",
    "    else :\n",
    "        print('%d월 %d일' %(mm,dd))\n",
    "        date = False"
   ]
  },
  {
   "cell_type": "code",
   "execution_count": null,
   "metadata": {},
   "outputs": [],
   "source": []
  }
 ],
 "metadata": {
  "kernelspec": {
   "display_name": "Python 3",
   "language": "python",
   "name": "python3"
  },
  "language_info": {
   "codemirror_mode": {
    "name": "ipython",
    "version": 3
   },
   "file_extension": ".py",
   "mimetype": "text/x-python",
   "name": "python",
   "nbconvert_exporter": "python",
   "pygments_lexer": "ipython3",
   "version": "3.12.2"
  }
 },
 "nbformat": 4,
 "nbformat_minor": 2
}
