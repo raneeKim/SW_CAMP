{
 "cells": [
  {
   "cell_type": "code",
   "execution_count": 1,
   "metadata": {},
   "outputs": [],
   "source": [
    "class BankAccount :\n",
    "\n",
    "    def __init__(self,name,account_num) :\n",
    "        self.name = name\n",
    "        self.account_num = account_num\n",
    "        self.balance = 0\n",
    "\n",
    "    def deposit(self,money) :\n",
    "        self.balance += money\n",
    "    \n",
    "    def withraw(self,money) :\n",
    "        if self.balance < money :\n",
    "            print('계좌 잔고는 {}원으로 인출 요구 금액 {}원보다 작습니다.'.format(self.balance,money))\n",
    "        else :\n",
    "            self.balance -= money\n",
    "\n",
    "    def __str__(self) :\n",
    "        return '{}의 계좌 {}의 잔고는 {}원 입니다.'.format(self.name,self.account_num,self.balance)"
   ]
  },
  {
   "cell_type": "code",
   "execution_count": 2,
   "metadata": {},
   "outputs": [
    {
     "name": "stdout",
     "output_type": "stream",
     "text": [
      "홍길동의 계좌 1234-0001의 잔고는 0원 입니다.\n"
     ]
    }
   ],
   "source": [
    "account1 = BankAccount('홍길동','1234-0001')\n",
    "print(account1)"
   ]
  },
  {
   "cell_type": "code",
   "execution_count": 3,
   "metadata": {},
   "outputs": [
    {
     "name": "stdout",
     "output_type": "stream",
     "text": [
      "홍길동의 계좌 1234-0001의 잔고는 2000원 입니다.\n"
     ]
    }
   ],
   "source": [
    "account1.deposit(2000)\n",
    "print(account1)"
   ]
  },
  {
   "cell_type": "code",
   "execution_count": 4,
   "metadata": {},
   "outputs": [
    {
     "name": "stdout",
     "output_type": "stream",
     "text": [
      "홍길동의 계좌 1234-0001의 잔고는 1500원 입니다.\n"
     ]
    }
   ],
   "source": [
    "account1.withraw(500)\n",
    "print(account1)"
   ]
  },
  {
   "cell_type": "code",
   "execution_count": 5,
   "metadata": {},
   "outputs": [
    {
     "name": "stdout",
     "output_type": "stream",
     "text": [
      "계좌 잔고는 1500원으로 인출 요구 금액 5000원보다 작습니다.\n"
     ]
    }
   ],
   "source": [
    "account1.withraw(5000)"
   ]
  },
  {
   "cell_type": "code",
   "execution_count": 1,
   "metadata": {},
   "outputs": [],
   "source": [
    "class Data :\n",
    "    def __init__(self,data) :\n",
    "        tmp = data.split(\"|\")\n",
    "        self.name = tmp[0]\n",
    "        self.age = tmp[1]\n",
    "        self.grade = tmp[2]\n",
    "    def print_age(self) :\n",
    "        print(self.age)\n",
    "    def print_grade(self) :\n",
    "        print('%s님 당신의 점수는 %s입니다.' %(self.name,self.grade))"
   ]
  },
  {
   "cell_type": "code",
   "execution_count": 3,
   "metadata": {},
   "outputs": [
    {
     "name": "stdout",
     "output_type": "stream",
     "text": [
      "42\n",
      "홍길동님 당신의 점수는 A입니다.\n"
     ]
    }
   ],
   "source": [
    "data = Data(\"홍길동|42|A\")\n",
    "data.print_age()\n",
    "data.print_grade()"
   ]
  },
  {
   "cell_type": "code",
   "execution_count": 6,
   "metadata": {},
   "outputs": [],
   "source": [
    "class Dog :\n",
    "    def __init__(self,name) :\n",
    "        self.name = name\n",
    "    def bark(self) :\n",
    "        print(self.name , ': 멍멍~~')"
   ]
  },
  {
   "cell_type": "code",
   "execution_count": 9,
   "metadata": {},
   "outputs": [
    {
     "name": "stdout",
     "output_type": "stream",
     "text": [
      "Jindo : 멍멍~~\n"
     ]
    }
   ],
   "source": [
    "my_dog = Dog('Jindo')\n",
    "my_dog.bark()"
   ]
  },
  {
   "cell_type": "code",
   "execution_count": 10,
   "metadata": {},
   "outputs": [],
   "source": [
    "class Calculator :\n",
    "    def __init__(slef) :\n",
    "        slef.value = 0\n",
    "    def add(self,val) :\n",
    "        self.value += val\n",
    "\n",
    "class UpgradeCalculator(Calculator) :\n",
    "    def minus(self,val) :\n",
    "        self.value -= val"
   ]
  },
  {
   "cell_type": "code",
   "execution_count": 11,
   "metadata": {},
   "outputs": [
    {
     "name": "stdout",
     "output_type": "stream",
     "text": [
      "3\n"
     ]
    }
   ],
   "source": [
    "cal = UpgradeCalculator()\n",
    "cal.add(10)\n",
    "cal.minus(7)\n",
    "\n",
    "print(cal.value)"
   ]
  },
  {
   "cell_type": "code",
   "execution_count": 12,
   "metadata": {},
   "outputs": [],
   "source": [
    "class Calculator :\n",
    "    def __init__(self) :\n",
    "        self.value = 0\n",
    "    def add(self,val) :\n",
    "        self.value += val\n",
    "\n",
    "class MaxLimitCalculator(Calculator) :\n",
    "    def add(self,val) :\n",
    "        # self.value += val -> 재정의 할 필요없이 부모클래스에서 함수를 가져옴\n",
    "        super().add(val)\n",
    "        if self.value >= 100 :\n",
    "            self.value = 100\n"
   ]
  },
  {
   "cell_type": "code",
   "execution_count": 15,
   "metadata": {},
   "outputs": [
    {
     "name": "stdout",
     "output_type": "stream",
     "text": [
      "50\n",
      "100\n"
     ]
    }
   ],
   "source": [
    "cal = MaxLimitCalculator()\n",
    "\n",
    "cal.add(50)\n",
    "print(cal.value)\n",
    "cal.add(60)\n",
    "print(cal.value)"
   ]
  },
  {
   "cell_type": "code",
   "execution_count": 21,
   "metadata": {},
   "outputs": [],
   "source": [
    "class Calculator :\n",
    "    def __init__(self,data) :\n",
    "        self.data = data\n",
    "    def sum(self) :\n",
    "        self.summ = 0\n",
    "        for i in self.data :\n",
    "            self.summ += i\n",
    "        return self.summ\n",
    "    def avg(self) :\n",
    "        self.summ = 0\n",
    "        for i in self.data :\n",
    "            self.summ += i\n",
    "        self.avgg = self.summ / len(self.data)\n",
    "        return self.avgg\n"
   ]
  },
  {
   "cell_type": "code",
   "execution_count": 29,
   "metadata": {},
   "outputs": [],
   "source": [
    "class Calculator :\n",
    "    def __init__(self,data) :\n",
    "        self.data = data\n",
    "    def sum(self) :\n",
    "        summ = 0\n",
    "        for i in self.data :\n",
    "            summ += i\n",
    "        return summ\n",
    "    def avg(self) :\n",
    "        summ = 0\n",
    "        for i in self.data :\n",
    "            summ += i\n",
    "        avgg = summ / len(self.data)\n",
    "        return avgg"
   ]
  },
  {
   "cell_type": "code",
   "execution_count": 30,
   "metadata": {},
   "outputs": [
    {
     "name": "stdout",
     "output_type": "stream",
     "text": [
      "15\n",
      "3.0\n"
     ]
    }
   ],
   "source": [
    "cal1 = Calculator([1,2,3,4,5])\n",
    "print(cal1.sum())\n",
    "print(cal1.avg())"
   ]
  },
  {
   "cell_type": "code",
   "execution_count": 23,
   "metadata": {},
   "outputs": [
    {
     "name": "stdout",
     "output_type": "stream",
     "text": [
      "40\n",
      "8.0\n"
     ]
    }
   ],
   "source": [
    "cal2 = Calculator([6,7,8,9,10])\n",
    "print(cal2.sum())\n",
    "print(cal2.avg())"
   ]
  }
 ],
 "metadata": {
  "kernelspec": {
   "display_name": "Python 3",
   "language": "python",
   "name": "python3"
  },
  "language_info": {
   "codemirror_mode": {
    "name": "ipython",
    "version": 3
   },
   "file_extension": ".py",
   "mimetype": "text/x-python",
   "name": "python",
   "nbconvert_exporter": "python",
   "pygments_lexer": "ipython3",
   "version": "3.12.2"
  }
 },
 "nbformat": 4,
 "nbformat_minor": 2
}
