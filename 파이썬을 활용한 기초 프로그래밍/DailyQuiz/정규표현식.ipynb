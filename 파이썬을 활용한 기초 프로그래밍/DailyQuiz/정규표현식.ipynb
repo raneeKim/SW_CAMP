{
 "cells": [
  {
   "cell_type": "code",
   "execution_count": 1,
   "metadata": {},
   "outputs": [],
   "source": [
    "import re"
   ]
  },
  {
   "cell_type": "markdown",
   "metadata": {},
   "source": [
    "1. “abcdefg” 라는 문자열에서 ‘cde’라는 문자열을 뽑아내고 싶다. 정규표현식으로 코드를 구현해 보라. 이때 ‘.’를 활용해 구현해보라\n"
   ]
  },
  {
   "cell_type": "code",
   "execution_count": 5,
   "metadata": {},
   "outputs": [
    {
     "data": {
      "text/plain": [
       "['cde']"
      ]
     },
     "execution_count": 5,
     "metadata": {},
     "output_type": "execute_result"
    }
   ],
   "source": [
    "m = re.findall('c.e','abcdefg')\n",
    "m"
   ]
  },
  {
   "cell_type": "markdown",
   "metadata": {},
   "source": [
    "2.random.random() 함수를 사용하여 20개의 난수값을 생성하여 다음과 같이 출력하시오. 그리고 이 수들 중에서 최댓값, 최솟값, 평균값을 각각 출력하시오."
   ]
  },
  {
   "cell_type": "code",
   "execution_count": 9,
   "metadata": {},
   "outputs": [
    {
     "name": "stdout",
     "output_type": "stream",
     "text": [
      "[0.3302002  0.62767281 0.97896882 0.41088767 0.79290553 0.77784486\n",
      " 0.34213502 0.14714295 0.4228869  0.00225672 0.66150961 0.04179759\n",
      " 0.23554913 0.94499319 0.04965833 0.24101455 0.15874905 0.45048853\n",
      " 0.27240986 0.31862981]\n",
      "0.9789688223812826\n",
      "0.00225671715071718\n",
      "0.41038505623076293\n"
     ]
    }
   ],
   "source": [
    "import numpy as np\n",
    "\n",
    "a = np.random.random(20)\n",
    "print(a)\n",
    "print(max(a))\n",
    "print(min(a))\n",
    "print(a.mean())"
   ]
  },
  {
   "cell_type": "markdown",
   "metadata": {},
   "source": [
    "3. 1에서 10까지의 정수 값을 가지는 크기가 10인 1차원 배열 a를 arange() 함수를 사용하여 생성한 후, 다음과 같은 배열로 만들어보라.\n",
    "\n",
    "[[10 9 8 7 6]\n",
    "[ 5 4 3 2 1]]"
   ]
  },
  {
   "cell_type": "code",
   "execution_count": 12,
   "metadata": {},
   "outputs": [
    {
     "name": "stdout",
     "output_type": "stream",
     "text": [
      "[[10  9  8  7  6]\n",
      " [ 5  4  3  2  1]]\n"
     ]
    }
   ],
   "source": [
    "a = np.arange(10,0,-1).reshape(2,5)\n",
    "print(a)"
   ]
  },
  {
   "cell_type": "markdown",
   "metadata": {},
   "source": [
    "4. 다음과 같은 문자열이 있다.\n",
    "\n",
    "lyrics = 'Half of my heart is in Havana’\n",
    "\n",
    "lyrics라는 문자열을 split() 메소드로 구분하여 각 단어를 추출한 후 for문 안에서 각 단어에 대한 upper() 메소드를 적용하여 다음과 같은 결과가 나오도록 출력해보라.\n",
    "\n",
    "결과:\n",
    "[('Half', 'HALF'), ('of', 'OF'), ('my', 'MY'), ('heart', 'HEART'), ('is', 'IS'), ('in', 'IN'),\n",
    "('Havana', 'HAVANA')]"
   ]
  },
  {
   "cell_type": "code",
   "execution_count": 18,
   "metadata": {},
   "outputs": [
    {
     "name": "stdout",
     "output_type": "stream",
     "text": [
      "[('Half', 'HALF'), ('of', 'OF'), ('my', 'MY'), ('heart', 'HEART'), ('is', 'IS'), ('in', 'IN'), ('Havana', 'HAVANA')]\n"
     ]
    }
   ],
   "source": [
    "lyrics = 'Half of my heart is in Havana'\n",
    "lyric = re.split(' ', lyrics)\n",
    "result = []\n",
    "for i in lyric :\n",
    "    result.append((i,i.upper()))\n",
    "\n",
    "print(result)"
   ]
  },
  {
   "cell_type": "markdown",
   "metadata": {},
   "source": [
    "5. 다음과 같은 문자열이 있다.\n",
    "\n",
    " “abbcdeeee”\n",
    "\n",
    "여기서 “abbc”가 뽑히도록 정규표현식을 이용해 코딩해 보라. 정규표현식에는 {} 들어가도록 해보아라."
   ]
  },
  {
   "cell_type": "code",
   "execution_count": 19,
   "metadata": {},
   "outputs": [
    {
     "data": {
      "text/plain": [
       "['abbc']"
      ]
     },
     "execution_count": 19,
     "metadata": {},
     "output_type": "execute_result"
    }
   ],
   "source": [
    "text = 'abbcdeeee'\n",
    "re.findall('ab{2}c',text)"
   ]
  },
  {
   "cell_type": "markdown",
   "metadata": {},
   "source": [
    "\n",
    "6. 1에서 6까지의 수열 리스트를 생성하고, 이를 numpy 배열로 만들어라. 이때 만들어진 배열은 2차원 배열이 되도록 해보아라. "
   ]
  },
  {
   "cell_type": "code",
   "execution_count": 20,
   "metadata": {},
   "outputs": [
    {
     "name": "stdout",
     "output_type": "stream",
     "text": [
      "[[1 2]\n",
      " [3 4]\n",
      " [5 6]]\n"
     ]
    }
   ],
   "source": [
    "print(np.arange(1,7).reshape(3,2))"
   ]
  },
  {
   "cell_type": "markdown",
   "metadata": {},
   "source": [
    "7. 정규표현식에서 ?, *, + 의 의미는 무엇인가?"
   ]
  },
  {
   "cell_type": "markdown",
   "metadata": {},
   "source": [
    "? : 하나 (or 1)\n",
    "* : 0개 이상\n",
    "+ : 1개 이상"
   ]
  },
  {
   "cell_type": "markdown",
   "metadata": {},
   "source": [
    "8. 1에서 100사이의 정수 값들 중에서 6의 배수를 new_list에 담아서 다음과 같이 출력하여라. \n",
    "\n",
    "실행 결과 \n",
    "new_list = [6, 12, 18, 24, 30, 36, 42, 48, 54, 60, 66, 72, 78, 84, 90, 96]\n",
    "\n",
    "이때, filter() 함수와 람다 표현식을 사용하여 문제를 해결하여라.\n"
   ]
  },
  {
   "cell_type": "code",
   "execution_count": 23,
   "metadata": {},
   "outputs": [
    {
     "name": "stdout",
     "output_type": "stream",
     "text": [
      "[6, 12, 18, 24, 30, 36, 42, 48, 54, 60, 66, 72, 78, 84, 90, 96]\n"
     ]
    }
   ],
   "source": [
    "new_list = list(filter(lambda x : x%6 == 0 , np.arange(1,101)))\n",
    "print(new_list)"
   ]
  },
  {
   "cell_type": "markdown",
   "metadata": {},
   "source": [
    "9. 다음의 결과를 예상해 보시오.\n",
    "\n",
    "import re\n",
    "\n",
    "r=re.compile(\"[abc][y]\")\n",
    "\n",
    "r.findall(\"Today is Monday\")"
   ]
  },
  {
   "cell_type": "markdown",
   "metadata": {},
   "source": [
    "['ay','ay']"
   ]
  },
  {
   "cell_type": "markdown",
   "metadata": {},
   "source": [
    "10. 다음의 결과는?\n",
    "\n",
    "import re\n",
    "\n",
    "r=re.compile(\"[^abc]\")\n",
    "\n",
    "r.search(\"desk\")\n",
    "\n",
    "1) None 2) ‘desk’ 3) ‘d’ 4) ‘c’"
   ]
  },
  {
   "cell_type": "markdown",
   "metadata": {},
   "source": [
    "1.None"
   ]
  },
  {
   "cell_type": "code",
   "execution_count": 28,
   "metadata": {},
   "outputs": [
    {
     "data": {
      "text/plain": [
       "<re.Match object; span=(0, 1), match='d'>"
      ]
     },
     "execution_count": 28,
     "metadata": {},
     "output_type": "execute_result"
    }
   ],
   "source": [
    "import re\n",
    "\n",
    "r=re.compile(\"[^abc]\")\n",
    "\n",
    "r.search(\"desk\")"
   ]
  },
  {
   "cell_type": "code",
   "execution_count": null,
   "metadata": {},
   "outputs": [],
   "source": []
  }
 ],
 "metadata": {
  "kernelspec": {
   "display_name": "Python 3",
   "language": "python",
   "name": "python3"
  },
  "language_info": {
   "codemirror_mode": {
    "name": "ipython",
    "version": 3
   },
   "file_extension": ".py",
   "mimetype": "text/x-python",
   "name": "python",
   "nbconvert_exporter": "python",
   "pygments_lexer": "ipython3",
   "version": "3.12.2"
  }
 },
 "nbformat": 4,
 "nbformat_minor": 2
}
