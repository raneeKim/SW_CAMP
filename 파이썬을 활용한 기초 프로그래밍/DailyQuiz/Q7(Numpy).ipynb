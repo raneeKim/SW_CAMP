{
 "cells": [
  {
   "cell_type": "code",
   "execution_count": 1,
   "metadata": {},
   "outputs": [],
   "source": [
    "import numpy as np"
   ]
  },
  {
   "cell_type": "markdown",
   "metadata": {},
   "source": [
    "1. 두 배열 a, b가 다음과 같은 원소를 가질때 , 두 배열을 이용하여 출력 결과를 도출해 보\n",
    "세요.(Hint, numpy.append(x, y) 사용: x배열에 y를 더함).\n",
    "\n",
    "실행 결과\n",
    "a 배열 : [ 0 10 20 40 60 80]\n",
    "b 배열 : [ 0 20]\n",
    "\n",
    "출력결과 : [ 10 40 60 80]"
   ]
  },
  {
   "cell_type": "code",
   "execution_count": 3,
   "metadata": {},
   "outputs": [
    {
     "name": "stdout",
     "output_type": "stream",
     "text": [
      "[]\n"
     ]
    }
   ],
   "source": [
    "a = np.array([0,10,20,40,60,80])\n",
    "b = np.array([0,20])\n",
    "c = np.array([])\n",
    "\n",
    "for i in a :\n",
    "    if i not in b :\n",
    "        np.append(c,i)\n",
    "\n",
    "print(c)"
   ]
  },
  {
   "cell_type": "markdown",
   "metadata": {},
   "source": [
    "2. 1에서 10까지의 정수 값을 가지는 크기가 10인 1차원 배열 a를 arange() 함수를 사용하여\n",
    "생성하고, 이를 2차원 배열 (10,1)로 만들어보라."
   ]
  },
  {
   "cell_type": "code",
   "execution_count": 9,
   "metadata": {},
   "outputs": [
    {
     "name": "stdout",
     "output_type": "stream",
     "text": [
      "[[ 1]\n",
      " [ 2]\n",
      " [ 3]\n",
      " [ 4]\n",
      " [ 5]\n",
      " [ 6]\n",
      " [ 7]\n",
      " [ 8]\n",
      " [ 9]\n",
      " [10]]\n"
     ]
    }
   ],
   "source": [
    "a = np.arange(1,11).reshape(10,1)\n",
    "print(a)\n"
   ]
  },
  {
   "cell_type": "markdown",
   "metadata": {},
   "source": [
    "3. 2번에서 만든 배열 (10,1)을 역순으로 sorting해 보라."
   ]
  },
  {
   "cell_type": "code",
   "execution_count": 10,
   "metadata": {},
   "outputs": [
    {
     "name": "stdout",
     "output_type": "stream",
     "text": [
      "[[10]\n",
      " [ 9]\n",
      " [ 8]\n",
      " [ 7]\n",
      " [ 6]\n",
      " [ 5]\n",
      " [ 4]\n",
      " [ 3]\n",
      " [ 2]\n",
      " [ 1]]\n"
     ]
    }
   ],
   "source": [
    "b = np.sort(a)[::-1]\n",
    "print(b)"
   ]
  },
  {
   "cell_type": "markdown",
   "metadata": {},
   "source": [
    "4. 10부터 25까지의 수 배열을 생성하고 이를 4행 4열짜리 배열로 만든 후, 각 행과 열의 합\n",
    "을 출력해 보라."
   ]
  },
  {
   "cell_type": "code",
   "execution_count": 20,
   "metadata": {},
   "outputs": [
    {
     "name": "stdout",
     "output_type": "stream",
     "text": [
      "각 행의 합 :  [46 62 78 94]\n",
      "각 열의 합 :  [64 68 72 76]\n"
     ]
    }
   ],
   "source": [
    "a = np.arange(10,26).reshape(4,4)\n",
    "print('각 행의 합 : ', a.sum(axis=1))\n",
    "print('각 열의 합 : ', a.sum(axis=0))"
   ]
  },
  {
   "cell_type": "markdown",
   "metadata": {},
   "source": [
    "5. 주어진 배열 x에 대해 아래와 같은 결과가 나오도록 코드를 작성하시오. \n",
    "\n",
    "x : [10 20 40 60 10 20 40 40 40]\n",
    "\n",
    "출력결과:\n",
    "\n",
    "10 : 2번\n",
    "20 : 2번\n",
    "40 : 4번"
   ]
  },
  {
   "cell_type": "code",
   "execution_count": 24,
   "metadata": {},
   "outputs": [
    {
     "name": "stdout",
     "output_type": "stream",
     "text": [
      "10:2번\n",
      "20:2번\n",
      "40:4번\n",
      "60:1번\n"
     ]
    }
   ],
   "source": [
    "x = np.array([10,20,40,60,10,20,40,40,40])\n",
    "un = np.unique(x)\n",
    "for i in un :\n",
    "    count = 0\n",
    "    for j in x :\n",
    "        if i == j :\n",
    "            count += 1\n",
    "    print('{}:{}번'.format(i,count) )"
   ]
  },
  {
   "cell_type": "markdown",
   "metadata": {},
   "source": [
    "\n",
    "6. 다음과 같은 코드가 있다\n",
    "array1 = np.arange(5)\n",
    "상기 array1의 차원을 2차원으로 바꾸기 위해서는 어떻게 하면 되는가?"
   ]
  },
  {
   "cell_type": "code",
   "execution_count": 29,
   "metadata": {},
   "outputs": [
    {
     "data": {
      "text/plain": [
       "array([[0, 1, 2, 3, 4]])"
      ]
     },
     "execution_count": 29,
     "metadata": {},
     "output_type": "execute_result"
    }
   ],
   "source": [
    "array1 = np.arange(5).reshape(1,5)\n",
    "array1"
   ]
  },
  {
   "cell_type": "markdown",
   "metadata": {},
   "source": [
    "\n",
    "7. 다음과 같은 3차원 배열(array3d)을 2차원으로 바꾸기 위해서는 어떻게 해야 하는가?\n",
    "array1 = np.arange(8)\n",
    "array3d = array1.reshape((2, 2, 2))"
   ]
  },
  {
   "cell_type": "code",
   "execution_count": 12,
   "metadata": {},
   "outputs": [
    {
     "name": "stdout",
     "output_type": "stream",
     "text": [
      "[[0 1 2 3 4 5 6 7]]\n"
     ]
    }
   ],
   "source": [
    "array1 = np.arange(8)\n",
    "array3d = array1.reshape((2, 2, 2))\n",
    "array2 = array3d.reshape((1,-1))\n",
    "print(array2)"
   ]
  },
  {
   "cell_type": "markdown",
   "metadata": {},
   "source": [
    "8. 다음과 같이 사용자로부터 정수 n을 입력으로 받아서 (n, n) shape의 정방행렬을 만드시\n",
    "오. 이 행렬의 대각선 성분과 그 아래 값들이 다음과 같이 모두 1이 되도록 만드시오. \n",
    "\n",
    "실행 결과\n",
    "\n",
    "n을 입력하시오 : 5\n",
    "\n",
    "[[1 0 0 0 0]\n",
    "[1 1 0 0 0]\n",
    "[1 1 1 0 0]\n",
    "[1 1 1 1 0]\n",
    "[1 1 1 1 1]]"
   ]
  },
  {
   "cell_type": "code",
   "execution_count": 38,
   "metadata": {},
   "outputs": [
    {
     "name": "stdout",
     "output_type": "stream",
     "text": [
      "[[1 0 0 0 0]\n",
      " [1 1 0 0 0]\n",
      " [1 1 1 0 0]\n",
      " [1 1 1 1 0]\n",
      " [1 1 1 1 1]]\n"
     ]
    }
   ],
   "source": [
    "n = int(input('n을 입력하시오 : '))\n",
    "a = np.full([n,n],1)\n",
    "for i in range(n) :\n",
    "    for j in range(n) :\n",
    "        if i < j :\n",
    "            a[i][j] = 0\n",
    "print(a)"
   ]
  },
  {
   "cell_type": "markdown",
   "metadata": {},
   "source": [
    "9. 다음과 같은 array가 있다고 하자. \n",
    "\n",
    "array2d:\n",
    "[[1 2 3]\n",
    "[4 5 6]\n",
    "[7 8 9]]\n",
    "\n",
    "\n",
    "이 array2에서 [8 9]를 뽑는 코드를 작성해 보세요."
   ]
  },
  {
   "cell_type": "code",
   "execution_count": 41,
   "metadata": {},
   "outputs": [
    {
     "data": {
      "text/plain": [
       "array([8, 9])"
      ]
     },
     "execution_count": 41,
     "metadata": {},
     "output_type": "execute_result"
    }
   ],
   "source": [
    "array2d = np.array([[1,2,3],[4,5,6],[7,8,9]])\n",
    "array2 = array2d[-1,1:3]\n",
    "array2"
   ]
  },
  {
   "cell_type": "markdown",
   "metadata": {},
   "source": [
    "10. 다음과 같은 name, score 두 배열이 있다고 하자. \n",
    "\n",
    "name = np.array(['John', 'Mike', 'Sarah', 'Kate', 'Samuel'])\n",
    "\n",
    "score = np.array([22, 44, 84, 10, 88])\n",
    "\n",
    "상기 배열에서 score 배열을 내림차순으로 정렬하고, 이에 따라 name 배열도 순서를 같이\n",
    "정렬해 보라. "
   ]
  },
  {
   "cell_type": "code",
   "execution_count": 21,
   "metadata": {},
   "outputs": [
    {
     "name": "stdout",
     "output_type": "stream",
     "text": [
      "[('John', 22), ('Kate', 10), ('Mike', 44), ('Samuel', 88), ('Sarah', 84)]\n"
     ]
    }
   ],
   "source": [
    "name = np.array(['John', 'Mike', 'Sarah', 'Kate', 'Samuel'])\n",
    "score = np.array([22, 44, 84, 10, 88])\n",
    "c = []\n",
    "for i in range(len(name)) :\n",
    "    c.append((name[i],score[i]))\n",
    "    \n",
    "print(sorted(c))\n",
    "\n",
    "\n",
    "    \n"
   ]
  },
  {
   "cell_type": "code",
   "execution_count": null,
   "metadata": {},
   "outputs": [],
   "source": []
  }
 ],
 "metadata": {
  "kernelspec": {
   "display_name": "Python 3",
   "language": "python",
   "name": "python3"
  },
  "language_info": {
   "codemirror_mode": {
    "name": "ipython",
    "version": 3
   },
   "file_extension": ".py",
   "mimetype": "text/x-python",
   "name": "python",
   "nbconvert_exporter": "python",
   "pygments_lexer": "ipython3",
   "version": "3.12.2"
  }
 },
 "nbformat": 4,
 "nbformat_minor": 2
}
