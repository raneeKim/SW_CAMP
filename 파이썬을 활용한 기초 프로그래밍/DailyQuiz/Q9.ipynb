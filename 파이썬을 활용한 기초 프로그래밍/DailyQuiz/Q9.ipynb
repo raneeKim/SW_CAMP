{
 "cells": [
  {
   "cell_type": "markdown",
   "metadata": {},
   "source": [
    "1. 다음 코드의 실행 결과를 예상해 보라. 왜 그런 결과가 나오는가?\n",
    "\n",
    "import numpy as np\n",
    "\n",
    "a=np.array([1,2,3,4,5])\n",
    "\n",
    "b=a[1:3]\n",
    "\n",
    "b[0]=4\n",
    "\n",
    "a"
   ]
  },
  {
   "cell_type": "markdown",
   "metadata": {},
   "source": [
    "[1 2 3 4 5] XXX\n",
    "[1 4 3 4 5] --> 배열의 Slice는 원본과 동기화됨으로\n",
    "\n",
    "원치 않으면 .copy()를 사용하면된다."
   ]
  },
  {
   "cell_type": "code",
   "execution_count": 1,
   "metadata": {},
   "outputs": [
    {
     "data": {
      "text/plain": [
       "array([1, 4, 3, 4, 5])"
      ]
     },
     "execution_count": 1,
     "metadata": {},
     "output_type": "execute_result"
    }
   ],
   "source": [
    "import numpy as np\n",
    "\n",
    "a=np.array([1,2,3,4,5])\n",
    "\n",
    "b=a[1:3]\n",
    "\n",
    "b[0]=4\n",
    "\n",
    "a"
   ]
  },
  {
   "cell_type": "markdown",
   "metadata": {},
   "source": [
    "2. 다음 출력결과가 나오도록 ones_like라는 method를 써서, 코드를 작성하려고 한다. 밑줄에 알맞은 코드를 작성하라.\n",
    "\n",
    "import numpy as np\n",
    "\n",
    "a = np.array([1, 4, 3, 7, 9, 10]).reshape(2,3)\n",
    "\n",
    "결과\n",
    "array([[1, 1, 1],[1, 1, 1]])"
   ]
  },
  {
   "cell_type": "code",
   "execution_count": 2,
   "metadata": {},
   "outputs": [
    {
     "data": {
      "text/plain": [
       "array([[1, 1, 1],\n",
       "       [1, 1, 1]])"
      ]
     },
     "execution_count": 2,
     "metadata": {},
     "output_type": "execute_result"
    }
   ],
   "source": [
    "import numpy as np\n",
    "\n",
    "a = np.array([1, 4, 3, 7, 9, 10]).reshape(2,3)\n",
    "a = np.ones_like(a)\n",
    "a"
   ]
  },
  {
   "cell_type": "markdown",
   "metadata": {},
   "source": [
    "3.\n",
    "import numpy as np\n",
    "\n",
    "a=np.array([[1, 2, 3],[4, 5, 6],[7, 8, 9]])\n",
    "\n",
    "위와 같은 코드를 실행한 후에, 각각 a[1, :] 과 a[1:2, :]를 실행하였다. a[1, :] 과 a[1:2, :] 의 결과를 적어보고, 이 둘의 차이에 대해 논하라."
   ]
  },
  {
   "cell_type": "markdown",
   "metadata": {},
   "source": [
    "[[1, 2, 3],\n",
    " [4, 5, 6], \n",
    " [7, 8, 9]]\n",
    "\n",
    "a[1, :] = [4 5 6] -> 1행, 모든열 -> 1차원\n",
    "\n",
    "a[1:2 , :] =[[4 5 6]] -> 1~1행, 모든열 -> 2차원"
   ]
  },
  {
   "cell_type": "code",
   "execution_count": 3,
   "metadata": {},
   "outputs": [
    {
     "name": "stdout",
     "output_type": "stream",
     "text": [
      "[4 5 6]\n",
      "[[4 5 6]]\n"
     ]
    }
   ],
   "source": [
    "a=np.array([[1, 2, 3],[4, 5, 6],[7, 8, 9]])\n",
    "print(a[1, :])\n",
    "print(a[1:2, :])"
   ]
  },
  {
   "cell_type": "markdown",
   "metadata": {},
   "source": [
    "4. 아래와 같이 a 배열이 주어져 있을 때, 출력결과와 같이 나오도록 코드를 작성해 보라. a=np.array([2,4,6,8,10]) \n",
    "\n",
    "출력결과 : \n",
    "array([2, 2, 2, 2, 4, 4, 6, 6])"
   ]
  },
  {
   "cell_type": "code",
   "execution_count": 49,
   "metadata": {},
   "outputs": [
    {
     "data": {
      "text/plain": [
       "array([2, 2, 2, 2, 4, 4, 6, 6])"
      ]
     },
     "execution_count": 49,
     "metadata": {},
     "output_type": "execute_result"
    }
   ],
   "source": [
    "'''\n",
    "a = np.array([2,4,6,8,10]) \n",
    "a[:] = [2,2,2,2,4]\n",
    "a\n",
    "'''\n",
    "\n",
    "a = np.array([2,4,6,8,10])\n",
    "idx = np.array([0,0,0,0,1,1,2,2]) # a의 index값을 사용하여 해당 숫자를 가진 index값의 배열을 만든다\n",
    "c = a[idx] # a에서 index값으로 값을 빼내어 c라는 새로운 배열 생성\n",
    "c"
   ]
  },
  {
   "cell_type": "markdown",
   "metadata": {},
   "source": [
    "5. (4,4) 배열의 표준 정규분포를 따르는 난수를 원소값으로 갖는 배열을 생성하여라. 그 다음, 배열의 원소가 양수이면 1, 음수이면 –1의 값을 갖도록 배열을 만들어 보라"
   ]
  },
  {
   "cell_type": "code",
   "execution_count": 11,
   "metadata": {},
   "outputs": [
    {
     "name": "stdout",
     "output_type": "stream",
     "text": [
      "[[ 1.83996838  0.12591167  1.83949844 -0.55596533]\n",
      " [-0.68007986  0.750705   -0.26188261  1.47876302]\n",
      " [ 0.10018081 -0.71302562 -0.5002132   0.81828365]\n",
      " [-0.73618252 -0.08008592  0.37341873  1.0296312 ]]\n",
      "[[1. 1. 1. 0.]\n",
      " [0. 1. 0. 1.]\n",
      " [1. 0. 0. 1.]\n",
      " [0. 0. 1. 1.]]\n"
     ]
    }
   ],
   "source": [
    "a = np.random.randn(16).reshape(4,4)\n",
    "'''\n",
    "print(a)\n",
    "for i in range(4) :\n",
    "    for j in range(4) :\n",
    "        if a[i,j] >= 0 :\n",
    "            a[i,j] = 1\n",
    "        else :\n",
    "            a[i,j] = 0\n",
    "print(a)\n",
    "'''\n",
    "\n",
    "# where 함수 : where(조건,참일때 값,거짓일때 값)\n",
    "arr = np.where(a>=0,1,-1) \n"
   ]
  },
  {
   "cell_type": "markdown",
   "metadata": {},
   "source": [
    "6. 아래 코드에서 만들어진 배열 arr의 원소중 양의 값을 갖는 원소의 개수를 count하는 코드를 간단히 작성해 보라.\n",
    "\n",
    "from numpy import * \n",
    "\n",
    "arr = random.randn(100)"
   ]
  },
  {
   "cell_type": "code",
   "execution_count": 52,
   "metadata": {},
   "outputs": [
    {
     "name": "stdout",
     "output_type": "stream",
     "text": [
      "55\n",
      "55\n"
     ]
    }
   ],
   "source": [
    "from numpy import * \n",
    "\n",
    "arr = random.randn(100)\n",
    "'''\n",
    "count = 0\n",
    "for i in arr :\n",
    "    if i>=0 :\n",
    "        count +=1\n",
    "print(count)\n",
    "'''\n",
    "\n",
    "a = np.where(arr>=0,1,0).sum()\n",
    "print(a)\n",
    "print((arr>0).sum()) # True는 1, False는 0 이라는 프로그램 언어 기본 약속~"
   ]
  },
  {
   "cell_type": "markdown",
   "metadata": {},
   "source": [
    "7. 다음과 같은 사전 데이터가 있다. \n",
    "\n",
    "sdata = {'Ohio': 35000,\n",
    "        'Texas': 71000,\n",
    "        'Oregon': 16000,\n",
    "        'Utah': 5000}\n",
    "\n",
    "위의 사전데이터를 이용해 pandas의 series data로 만들어 보고, Texas의 값을 출력해 보라."
   ]
  },
  {
   "cell_type": "code",
   "execution_count": 47,
   "metadata": {},
   "outputs": [
    {
     "name": "stdout",
     "output_type": "stream",
     "text": [
      "Ohio      35000\n",
      "Texas     71000\n",
      "Oregon    16000\n",
      "Utah       5000\n",
      "dtype: int64\n",
      "71000\n",
      "Index(['Ohio', 'Texas', 'Oregon', 'Utah'], dtype='object')\n",
      "[35000 71000 16000  5000]\n",
      "71000\n"
     ]
    }
   ],
   "source": [
    "import pandas as pd\n",
    "\n",
    "sdata = {'Ohio': 35000,\n",
    "        'Texas': 71000,\n",
    "        'Oregon': 16000,\n",
    "        'Utah': 5000}\n",
    "\n",
    "myseires = pd.Series(sdata)\n",
    "print(myseires)\n",
    "print(myseires['Texas'])\n",
    "print(myseires.index)\n",
    "print(myseires.values)\n",
    "print(myseires.values[1])\n",
    "# print(myseires.values('Texas'))  .key"
   ]
  },
  {
   "cell_type": "markdown",
   "metadata": {},
   "source": [
    "8. 다음과 같은 두 배열이 있다. 출력결과대로 배열이 만들어지도록 코드를 짜보라. (힌트, concatenate, vstack 매소드 이용)\n",
    "\n",
    "array([[1, 2, 3],\n",
    "      [4, 5, 6]])\n",
    "array([[ 7, 8, 9],\n",
    "    [10, 11, 12]])\n",
    "\n",
    "출력결과:\n",
    "array([[ 1, 2, 3],\n",
    "      [ 4, 5, 6],\n",
    "      [ 7, 8, 9],\n",
    "      [10, 11, 12]])"
   ]
  },
  {
   "cell_type": "code",
   "execution_count": 53,
   "metadata": {},
   "outputs": [
    {
     "name": "stdout",
     "output_type": "stream",
     "text": [
      "[[ 1  2  3]\n",
      " [ 4  5  6]\n",
      " [ 7  8  9]\n",
      " [10 11 12]]\n",
      "[[ 1  2  3]\n",
      " [ 4  5  6]\n",
      " [ 7  8  9]\n",
      " [10 11 12]]\n"
     ]
    }
   ],
   "source": [
    "a = np.array([[1, 2, 3],[4, 5, 6]])\n",
    "b = np.array([[ 7, 8, 9],[10, 11, 12]])\n",
    "\n",
    "print(np.concatenate((a,b), axis=0))\n",
    "print(np.vstack((a,b)))"
   ]
  },
  {
   "cell_type": "markdown",
   "metadata": {},
   "source": [
    "\n",
    "9. (5,5) 사이즈의 배열을 표준정규분포를 따르는 난수를 발생시켜 만들어보고, 만들어진 배열과 배열의 전치행렬을 이용하여 두배열의 곱(내적)을 계산하라."
   ]
  },
  {
   "cell_type": "code",
   "execution_count": 31,
   "metadata": {},
   "outputs": [
    {
     "data": {
      "text/plain": [
       "array([[15.3191812 , -0.25695301, -4.22767161,  4.99086531,  5.55323388],\n",
       "       [-0.25695301,  0.97379562, -0.32843854,  0.13168837,  0.047419  ],\n",
       "       [-4.22767161, -0.32843854,  2.55260646, -1.50427547, -1.72697352],\n",
       "       [ 4.99086531,  0.13168837, -1.50427547,  2.4351964 ,  1.00493346],\n",
       "       [ 5.55323388,  0.047419  , -1.72697352,  1.00493346,  3.11061895]])"
      ]
     },
     "execution_count": 31,
     "metadata": {},
     "output_type": "execute_result"
    }
   ],
   "source": [
    "a = np.random.randn(25).reshape(5,5)\n",
    "b = a @ a.T\n",
    "b"
   ]
  },
  {
   "cell_type": "markdown",
   "metadata": {},
   "source": [
    "10. (4,4) 사이즈의 배열을 표준정규분포를 따르는 난수를 발생시켜 만들어보고, 이를 dataframe으로 변환하라. 그리고 dataframe의 index 1과 2의 값을 같이 출력해보라."
   ]
  },
  {
   "cell_type": "code",
   "execution_count": 54,
   "metadata": {},
   "outputs": [
    {
     "name": "stdout",
     "output_type": "stream",
     "text": [
      "          0         1         2         3\n",
      "1  1.755657  0.133335  0.721286 -1.230199\n",
      "2 -0.636414  0.065331  1.316702  0.462782\n",
      "          0         1         2         3\n",
      "1  1.755657  0.133335  0.721286 -1.230199\n",
      "2 -0.636414  0.065331  1.316702  0.462782\n"
     ]
    }
   ],
   "source": [
    "a = np.random.randn(16).reshape(4,4)\n",
    "b = pd.DataFrame(a)\n",
    "print(b.loc[1:2])\n",
    "print(b.iloc[1:3])"
   ]
  },
  {
   "cell_type": "code",
   "execution_count": null,
   "metadata": {},
   "outputs": [],
   "source": []
  }
 ],
 "metadata": {
  "kernelspec": {
   "display_name": "Python 3",
   "language": "python",
   "name": "python3"
  },
  "language_info": {
   "codemirror_mode": {
    "name": "ipython",
    "version": 3
   },
   "file_extension": ".py",
   "mimetype": "text/x-python",
   "name": "python",
   "nbconvert_exporter": "python",
   "pygments_lexer": "ipython3",
   "version": "3.12.2"
  }
 },
 "nbformat": 4,
 "nbformat_minor": 2
}
